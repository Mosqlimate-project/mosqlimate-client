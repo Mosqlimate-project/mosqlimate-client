{
 "cells": [
  {
   "cell_type": "markdown",
   "metadata": {},
   "source": [
    "# Interacting with the Mosqlimate datastore\n",
    "Fetching data from the Mosqlimate API. Below, you can find example code to pull data from both the `Infodengue` and `Climate` datasets."
   ]
  },
  {
   "cell_type": "code",
   "metadata": {
    "ExecuteTime": {
     "end_time": "2024-08-08T11:54:58.576228Z",
     "start_time": "2024-08-08T11:54:58.209675Z"
    }
   },
   "source": [
    "import pandas as pd\n",
    "from mosqlient.datastore import Infodengue, Climate\n",
    "import mosqlient as mosq"
   ],
   "outputs": [],
   "execution_count": 1
  },
  {
   "cell_type": "code",
   "metadata": {
    "execution": {
     "iopub.execute_input": "2024-06-17T19:19:04.660520Z",
     "iopub.status.busy": "2024-06-17T19:19:04.660393Z",
     "iopub.status.idle": "2024-06-17T19:19:04.663739Z",
     "shell.execute_reply": "2024-06-17T19:19:04.663500Z",
     "shell.execute_reply.started": "2024-06-17T19:19:04.660511Z"
    },
    "ExecuteTime": {
     "end_time": "2024-08-08T11:54:59.632861Z",
     "start_time": "2024-08-08T11:54:59.614582Z"
    }
   },
   "source": [
    "mosq.get_infodengue?\n"
   ],
   "outputs": [],
   "execution_count": 2
  },
  {
   "cell_type": "code",
   "metadata": {
    "execution": {
     "iopub.execute_input": "2024-06-17T19:14:36.420828Z",
     "iopub.status.busy": "2024-06-17T19:14:36.420657Z",
     "iopub.status.idle": "2024-06-17T19:14:38.246945Z",
     "shell.execute_reply": "2024-06-17T19:14:38.246713Z",
     "shell.execute_reply.started": "2024-06-17T19:14:36.420815Z"
    },
    "ExecuteTime": {
     "end_time": "2024-08-08T11:55:16.394492Z",
     "start_time": "2024-08-08T11:55:16.300758Z"
    }
   },
   "source": [
    "\n",
    "data = mosq.get_infodengue(\n",
    "    disease =  \"dengue\",\n",
    "    start_date = \"2022-01-01\",\n",
    "    end_date = \"2023-01-01\", \n",
    "    uf = 'PR', \n",
    "    geocode = 4108304)\n",
    "\n",
    "data"
   ],
   "outputs": [
    {
     "ename": "ClientConnectorError",
     "evalue": "Cannot connect to host 0.0.0.0:8042 ssl:default [Connect call failed ('0.0.0.0', 8042)]",
     "output_type": "error",
     "traceback": [
      "\u001B[0;31m---------------------------------------------------------------------------\u001B[0m",
      "\u001B[0;31mConnectionRefusedError\u001B[0m                    Traceback (most recent call last)",
      "File \u001B[0;32m~/Documentos/Projects_Software/mosqlimate-client/.venv/lib/python3.12/site-packages/aiohttp/connector.py:1036\u001B[0m, in \u001B[0;36mTCPConnector._wrap_create_connection\u001B[0;34m(self, addr_infos, req, timeout, client_error, *args, **kwargs)\u001B[0m\n\u001B[1;32m   1033\u001B[0m \u001B[38;5;28;01masync\u001B[39;00m \u001B[38;5;28;01mwith\u001B[39;00m ceil_timeout(\n\u001B[1;32m   1034\u001B[0m     timeout\u001B[38;5;241m.\u001B[39msock_connect, ceil_threshold\u001B[38;5;241m=\u001B[39mtimeout\u001B[38;5;241m.\u001B[39mceil_threshold\n\u001B[1;32m   1035\u001B[0m ):\n\u001B[0;32m-> 1036\u001B[0m     sock \u001B[38;5;241m=\u001B[39m \u001B[38;5;28;01mawait\u001B[39;00m aiohappyeyeballs\u001B[38;5;241m.\u001B[39mstart_connection(\n\u001B[1;32m   1037\u001B[0m         addr_infos\u001B[38;5;241m=\u001B[39maddr_infos,\n\u001B[1;32m   1038\u001B[0m         local_addr_infos\u001B[38;5;241m=\u001B[39m\u001B[38;5;28mself\u001B[39m\u001B[38;5;241m.\u001B[39m_local_addr_infos,\n\u001B[1;32m   1039\u001B[0m         happy_eyeballs_delay\u001B[38;5;241m=\u001B[39m\u001B[38;5;28mself\u001B[39m\u001B[38;5;241m.\u001B[39m_happy_eyeballs_delay,\n\u001B[1;32m   1040\u001B[0m         interleave\u001B[38;5;241m=\u001B[39m\u001B[38;5;28mself\u001B[39m\u001B[38;5;241m.\u001B[39m_interleave,\n\u001B[1;32m   1041\u001B[0m         loop\u001B[38;5;241m=\u001B[39m\u001B[38;5;28mself\u001B[39m\u001B[38;5;241m.\u001B[39m_loop,\n\u001B[1;32m   1042\u001B[0m     )\n\u001B[1;32m   1043\u001B[0m     \u001B[38;5;28;01mreturn\u001B[39;00m \u001B[38;5;28;01mawait\u001B[39;00m \u001B[38;5;28mself\u001B[39m\u001B[38;5;241m.\u001B[39m_loop\u001B[38;5;241m.\u001B[39mcreate_connection(\u001B[38;5;241m*\u001B[39margs, \u001B[38;5;241m*\u001B[39m\u001B[38;5;241m*\u001B[39mkwargs, sock\u001B[38;5;241m=\u001B[39msock)\n",
      "File \u001B[0;32m~/Documentos/Projects_Software/mosqlimate-client/.venv/lib/python3.12/site-packages/aiohappyeyeballs/impl.py:104\u001B[0m, in \u001B[0;36mstart_connection\u001B[0;34m(addr_infos, local_addr_infos, happy_eyeballs_delay, interleave, loop)\u001B[0m\n\u001B[1;32m    103\u001B[0m \u001B[38;5;28;01mif\u001B[39;00m \u001B[38;5;28mlen\u001B[39m(all_exceptions) \u001B[38;5;241m==\u001B[39m \u001B[38;5;241m1\u001B[39m:\n\u001B[0;32m--> 104\u001B[0m     \u001B[38;5;28;01mraise\u001B[39;00m first_exception\n\u001B[1;32m    105\u001B[0m \u001B[38;5;28;01melse\u001B[39;00m:\n\u001B[1;32m    106\u001B[0m     \u001B[38;5;66;03m# If they all have the same str(), raise one.\u001B[39;00m\n",
      "File \u001B[0;32m~/Documentos/Projects_Software/mosqlimate-client/.venv/lib/python3.12/site-packages/aiohappyeyeballs/impl.py:81\u001B[0m, in \u001B[0;36mstart_connection\u001B[0;34m(addr_infos, local_addr_infos, happy_eyeballs_delay, interleave, loop)\u001B[0m\n\u001B[1;32m     80\u001B[0m \u001B[38;5;28;01mtry\u001B[39;00m:\n\u001B[0;32m---> 81\u001B[0m     sock \u001B[38;5;241m=\u001B[39m \u001B[38;5;28;01mawait\u001B[39;00m _connect_sock(\n\u001B[1;32m     82\u001B[0m         current_loop, exceptions, addrinfo, local_addr_infos\n\u001B[1;32m     83\u001B[0m     )\n\u001B[1;32m     84\u001B[0m     \u001B[38;5;28;01mbreak\u001B[39;00m\n",
      "File \u001B[0;32m~/Documentos/Projects_Software/mosqlimate-client/.venv/lib/python3.12/site-packages/aiohappyeyeballs/impl.py:166\u001B[0m, in \u001B[0;36m_connect_sock\u001B[0;34m(loop, exceptions, addr_info, local_addr_infos)\u001B[0m\n\u001B[1;32m    165\u001B[0m             \u001B[38;5;28;01mraise\u001B[39;00m \u001B[38;5;167;01mOSError\u001B[39;00m(\u001B[38;5;124mf\u001B[39m\u001B[38;5;124m\"\u001B[39m\u001B[38;5;124mno matching local address with \u001B[39m\u001B[38;5;132;01m{\u001B[39;00mfamily\u001B[38;5;132;01m=}\u001B[39;00m\u001B[38;5;124m found\u001B[39m\u001B[38;5;124m\"\u001B[39m)\n\u001B[0;32m--> 166\u001B[0m \u001B[38;5;28;01mawait\u001B[39;00m loop\u001B[38;5;241m.\u001B[39msock_connect(sock, address)\n\u001B[1;32m    167\u001B[0m \u001B[38;5;28;01mreturn\u001B[39;00m sock\n",
      "File \u001B[0;32m/usr/lib/python3.12/asyncio/selector_events.py:651\u001B[0m, in \u001B[0;36mBaseSelectorEventLoop.sock_connect\u001B[0;34m(self, sock, address)\u001B[0m\n\u001B[1;32m    650\u001B[0m \u001B[38;5;28;01mtry\u001B[39;00m:\n\u001B[0;32m--> 651\u001B[0m     \u001B[38;5;28;01mreturn\u001B[39;00m \u001B[38;5;28;01mawait\u001B[39;00m fut\n\u001B[1;32m    652\u001B[0m \u001B[38;5;28;01mfinally\u001B[39;00m:\n\u001B[1;32m    653\u001B[0m     \u001B[38;5;66;03m# Needed to break cycles when an exception occurs.\u001B[39;00m\n",
      "File \u001B[0;32m/usr/lib/python3.12/asyncio/futures.py:287\u001B[0m, in \u001B[0;36mFuture.__await__\u001B[0;34m(self)\u001B[0m\n\u001B[1;32m    286\u001B[0m     \u001B[38;5;28mself\u001B[39m\u001B[38;5;241m.\u001B[39m_asyncio_future_blocking \u001B[38;5;241m=\u001B[39m \u001B[38;5;28;01mTrue\u001B[39;00m\n\u001B[0;32m--> 287\u001B[0m     \u001B[38;5;28;01myield\u001B[39;00m \u001B[38;5;28mself\u001B[39m  \u001B[38;5;66;03m# This tells Task to wait for completion.\u001B[39;00m\n\u001B[1;32m    288\u001B[0m \u001B[38;5;28;01mif\u001B[39;00m \u001B[38;5;129;01mnot\u001B[39;00m \u001B[38;5;28mself\u001B[39m\u001B[38;5;241m.\u001B[39mdone():\n",
      "File \u001B[0;32m/usr/lib/python3.12/asyncio/tasks.py:385\u001B[0m, in \u001B[0;36mTask.__wakeup\u001B[0;34m(self, future)\u001B[0m\n\u001B[1;32m    384\u001B[0m \u001B[38;5;28;01mtry\u001B[39;00m:\n\u001B[0;32m--> 385\u001B[0m     \u001B[43mfuture\u001B[49m\u001B[38;5;241;43m.\u001B[39;49m\u001B[43mresult\u001B[49m\u001B[43m(\u001B[49m\u001B[43m)\u001B[49m\n\u001B[1;32m    386\u001B[0m \u001B[38;5;28;01mexcept\u001B[39;00m \u001B[38;5;167;01mBaseException\u001B[39;00m \u001B[38;5;28;01mas\u001B[39;00m exc:\n\u001B[1;32m    387\u001B[0m     \u001B[38;5;66;03m# This may also be a cancellation.\u001B[39;00m\n",
      "File \u001B[0;32m/usr/lib/python3.12/asyncio/futures.py:203\u001B[0m, in \u001B[0;36mFuture.result\u001B[0;34m(self)\u001B[0m\n\u001B[1;32m    202\u001B[0m \u001B[38;5;28;01mif\u001B[39;00m \u001B[38;5;28mself\u001B[39m\u001B[38;5;241m.\u001B[39m_exception \u001B[38;5;129;01mis\u001B[39;00m \u001B[38;5;129;01mnot\u001B[39;00m \u001B[38;5;28;01mNone\u001B[39;00m:\n\u001B[0;32m--> 203\u001B[0m     \u001B[38;5;28;01mraise\u001B[39;00m \u001B[38;5;28mself\u001B[39m\u001B[38;5;241m.\u001B[39m_exception\u001B[38;5;241m.\u001B[39mwith_traceback(\u001B[38;5;28mself\u001B[39m\u001B[38;5;241m.\u001B[39m_exception_tb)\n\u001B[1;32m    204\u001B[0m \u001B[38;5;28;01mreturn\u001B[39;00m \u001B[38;5;28mself\u001B[39m\u001B[38;5;241m.\u001B[39m_result\n",
      "File \u001B[0;32m/usr/lib/python3.12/asyncio/selector_events.py:691\u001B[0m, in \u001B[0;36mBaseSelectorEventLoop._sock_connect_cb\u001B[0;34m(self, fut, sock, address)\u001B[0m\n\u001B[1;32m    689\u001B[0m     \u001B[38;5;28;01mif\u001B[39;00m err \u001B[38;5;241m!=\u001B[39m \u001B[38;5;241m0\u001B[39m:\n\u001B[1;32m    690\u001B[0m         \u001B[38;5;66;03m# Jump to any except clause below.\u001B[39;00m\n\u001B[0;32m--> 691\u001B[0m         \u001B[38;5;28;01mraise\u001B[39;00m \u001B[38;5;167;01mOSError\u001B[39;00m(err, \u001B[38;5;124mf\u001B[39m\u001B[38;5;124m'\u001B[39m\u001B[38;5;124mConnect call failed \u001B[39m\u001B[38;5;132;01m{\u001B[39;00maddress\u001B[38;5;132;01m}\u001B[39;00m\u001B[38;5;124m'\u001B[39m)\n\u001B[1;32m    692\u001B[0m \u001B[38;5;28;01mexcept\u001B[39;00m (\u001B[38;5;167;01mBlockingIOError\u001B[39;00m, \u001B[38;5;167;01mInterruptedError\u001B[39;00m):\n\u001B[1;32m    693\u001B[0m     \u001B[38;5;66;03m# socket is still registered, the callback will be retried later\u001B[39;00m\n",
      "\u001B[0;31mConnectionRefusedError\u001B[0m: [Errno 111] Connect call failed ('0.0.0.0', 8042)",
      "\nThe above exception was the direct cause of the following exception:\n",
      "\u001B[0;31mClientConnectorError\u001B[0m                      Traceback (most recent call last)",
      "Cell \u001B[0;32mIn[4], line 1\u001B[0m\n\u001B[0;32m----> 1\u001B[0m data \u001B[38;5;241m=\u001B[39m \u001B[43mmosq\u001B[49m\u001B[38;5;241;43m.\u001B[39;49m\u001B[43mget_infodengue\u001B[49m\u001B[43m(\u001B[49m\n\u001B[1;32m      2\u001B[0m \u001B[43m    \u001B[49m\u001B[43mdisease\u001B[49m\u001B[43m \u001B[49m\u001B[38;5;241;43m=\u001B[39;49m\u001B[43m  \u001B[49m\u001B[38;5;124;43m\"\u001B[39;49m\u001B[38;5;124;43mdengue\u001B[39;49m\u001B[38;5;124;43m\"\u001B[39;49m\u001B[43m,\u001B[49m\n\u001B[1;32m      3\u001B[0m \u001B[43m    \u001B[49m\u001B[43mstart_date\u001B[49m\u001B[43m \u001B[49m\u001B[38;5;241;43m=\u001B[39;49m\u001B[43m \u001B[49m\u001B[38;5;124;43m\"\u001B[39;49m\u001B[38;5;124;43m2022-01-01\u001B[39;49m\u001B[38;5;124;43m\"\u001B[39;49m\u001B[43m,\u001B[49m\n\u001B[1;32m      4\u001B[0m \u001B[43m    \u001B[49m\u001B[43mend_date\u001B[49m\u001B[43m \u001B[49m\u001B[38;5;241;43m=\u001B[39;49m\u001B[43m \u001B[49m\u001B[38;5;124;43m\"\u001B[39;49m\u001B[38;5;124;43m2023-01-01\u001B[39;49m\u001B[38;5;124;43m\"\u001B[39;49m\u001B[43m,\u001B[49m\u001B[43m \u001B[49m\n\u001B[1;32m      5\u001B[0m \u001B[43m    \u001B[49m\u001B[43muf\u001B[49m\u001B[43m \u001B[49m\u001B[38;5;241;43m=\u001B[39;49m\u001B[43m \u001B[49m\u001B[38;5;124;43m'\u001B[39;49m\u001B[38;5;124;43mPR\u001B[39;49m\u001B[38;5;124;43m'\u001B[39;49m\u001B[43m,\u001B[49m\u001B[43m \u001B[49m\n\u001B[1;32m      6\u001B[0m \u001B[43m    \u001B[49m\u001B[43mgeocode\u001B[49m\u001B[43m \u001B[49m\u001B[38;5;241;43m=\u001B[39;49m\u001B[43m \u001B[49m\u001B[38;5;241;43m4108304\u001B[39;49m\u001B[43m)\u001B[49m\n\u001B[1;32m      8\u001B[0m data\n",
      "File \u001B[0;32m~/Documentos/Projects_Software/mosqlimate-client/mosqlient/datastore/_infodengue_get_impl.py:27\u001B[0m, in \u001B[0;36mget_infodengue\u001B[0;34m(disease, start_date, end_date, uf, geocode)\u001B[0m\n\u001B[1;32m     11\u001B[0m \u001B[38;5;28;01mdef\u001B[39;00m \u001B[38;5;21mget_infodengue\u001B[39m(\n\u001B[1;32m     12\u001B[0m     disease: Literal[\u001B[38;5;124m\"\u001B[39m\u001B[38;5;124mdengue\u001B[39m\u001B[38;5;124m\"\u001B[39m, \u001B[38;5;124m\"\u001B[39m\u001B[38;5;124mzika\u001B[39m\u001B[38;5;124m\"\u001B[39m, \u001B[38;5;124m\"\u001B[39m\u001B[38;5;124mchikungunya\u001B[39m\u001B[38;5;124m\"\u001B[39m],\n\u001B[1;32m     13\u001B[0m     start_date: date \u001B[38;5;241m|\u001B[39m \u001B[38;5;28mstr\u001B[39m,\n\u001B[0;32m   (...)\u001B[0m\n\u001B[1;32m     20\u001B[0m     geocode: Optional[\u001B[38;5;28mint\u001B[39m] \u001B[38;5;241m=\u001B[39m \u001B[38;5;28;01mNone\u001B[39;00m\n\u001B[1;32m     21\u001B[0m ) \u001B[38;5;241m-\u001B[39m\u001B[38;5;241m>\u001B[39m pd\u001B[38;5;241m.\u001B[39mDataFrame:\n\u001B[1;32m     22\u001B[0m     params \u001B[38;5;241m=\u001B[39m {\n\u001B[1;32m     23\u001B[0m         \u001B[38;5;124m\"\u001B[39m\u001B[38;5;124muf\u001B[39m\u001B[38;5;124m\"\u001B[39m: uf,\n\u001B[1;32m     24\u001B[0m         \u001B[38;5;124m\"\u001B[39m\u001B[38;5;124mgeocode\u001B[39m\u001B[38;5;124m\"\u001B[39m: geocode\n\u001B[1;32m     25\u001B[0m     }\n\u001B[0;32m---> 27\u001B[0m     \u001B[38;5;28;01mreturn\u001B[39;00m pd\u001B[38;5;241m.\u001B[39mDataFrame(\u001B[43mInfodengue\u001B[49m\u001B[38;5;241;43m.\u001B[39;49m\u001B[43mget\u001B[49m\u001B[43m(\u001B[49m\n\u001B[1;32m     28\u001B[0m \u001B[43m        \u001B[49m\u001B[43mdisease\u001B[49m\u001B[38;5;241;43m=\u001B[39;49m\u001B[43mdisease\u001B[49m\u001B[43m,\u001B[49m\n\u001B[1;32m     29\u001B[0m \u001B[43m        \u001B[49m\u001B[43mstart\u001B[49m\u001B[38;5;241;43m=\u001B[39;49m\u001B[43mstart_date\u001B[49m\u001B[43m,\u001B[49m\n\u001B[1;32m     30\u001B[0m \u001B[43m        \u001B[49m\u001B[43mend\u001B[49m\u001B[38;5;241;43m=\u001B[39;49m\u001B[43mend_date\u001B[49m\u001B[43m,\u001B[49m\n\u001B[1;32m     31\u001B[0m \u001B[43m        \u001B[49m\u001B[38;5;241;43m*\u001B[39;49m\u001B[38;5;241;43m*\u001B[39;49m\u001B[43mparams\u001B[49m\n\u001B[1;32m     32\u001B[0m \u001B[43m    \u001B[49m\u001B[43m)\u001B[49m)\n",
      "File \u001B[0;32m~/Documentos/Projects_Software/mosqlimate-client/mosqlient/datastore/infodengue.py:28\u001B[0m, in \u001B[0;36mInfodengue.get\u001B[0;34m(cls, disease, start, end, **kwargs)\u001B[0m\n\u001B[1;32m     25\u001B[0m params \u001B[38;5;241m=\u001B[39m parse_params(\u001B[38;5;241m*\u001B[39m\u001B[38;5;241m*\u001B[39mkwargs)\n\u001B[1;32m     26\u001B[0m InfodengueGETParams(\u001B[38;5;241m*\u001B[39m\u001B[38;5;241m*\u001B[39mparams)\n\u001B[0;32m---> 28\u001B[0m \u001B[38;5;28;01mreturn\u001B[39;00m \u001B[43mget_all_sync\u001B[49m\u001B[43m(\u001B[49m\n\u001B[1;32m     29\u001B[0m \u001B[43m    \u001B[49m\u001B[43mapp\u001B[49m\u001B[38;5;241;43m=\u001B[39;49m\u001B[38;5;124;43m\"\u001B[39;49m\u001B[38;5;124;43mdatastore\u001B[39;49m\u001B[38;5;124;43m\"\u001B[39;49m\u001B[43m,\u001B[49m\n\u001B[1;32m     30\u001B[0m \u001B[43m    \u001B[49m\u001B[43mendpoint\u001B[49m\u001B[38;5;241;43m=\u001B[39;49m\u001B[38;5;124;43m\"\u001B[39;49m\u001B[38;5;124;43minfodengue\u001B[39;49m\u001B[38;5;124;43m\"\u001B[39;49m\u001B[43m,\u001B[49m\n\u001B[1;32m     31\u001B[0m \u001B[43m    \u001B[49m\u001B[43mparams\u001B[49m\u001B[38;5;241;43m=\u001B[39;49m\u001B[43mparams\u001B[49m\u001B[43m,\u001B[49m\n\u001B[1;32m     32\u001B[0m \u001B[43m    \u001B[49m\u001B[43mpagination\u001B[49m\u001B[38;5;241;43m=\u001B[39;49m\u001B[38;5;28;43;01mTrue\u001B[39;49;00m\u001B[43m,\u001B[49m\n\u001B[1;32m     33\u001B[0m \u001B[43m    \u001B[49m\u001B[43mtimeout\u001B[49m\u001B[38;5;241;43m=\u001B[39;49m\u001B[43mtimeout\u001B[49m\u001B[43m,\u001B[49m\n\u001B[1;32m     34\u001B[0m \u001B[43m\u001B[49m\u001B[43m)\u001B[49m\n",
      "File \u001B[0;32m~/Documentos/Projects_Software/mosqlimate-client/mosqlient/requests.py:132\u001B[0m, in \u001B[0;36mget_all_sync\u001B[0;34m(app, endpoint, params, timeout, pagination, _max_per_page)\u001B[0m\n\u001B[1;32m    130\u001B[0m     loop \u001B[38;5;241m=\u001B[39m asyncio\u001B[38;5;241m.\u001B[39mget_event_loop()\n\u001B[1;32m    131\u001B[0m     future \u001B[38;5;241m=\u001B[39m asyncio\u001B[38;5;241m.\u001B[39mensure_future(fetch_all())\n\u001B[0;32m--> 132\u001B[0m     \u001B[38;5;28;01mreturn\u001B[39;00m \u001B[43mloop\u001B[49m\u001B[38;5;241;43m.\u001B[39;49m\u001B[43mrun_until_complete\u001B[49m\u001B[43m(\u001B[49m\u001B[43mfuture\u001B[49m\u001B[43m)\u001B[49m\n\u001B[1;32m    133\u001B[0m \u001B[38;5;28;01mreturn\u001B[39;00m asyncio\u001B[38;5;241m.\u001B[39mrun(fetch_all())\n",
      "File \u001B[0;32m~/Documentos/Projects_Software/mosqlimate-client/.venv/lib/python3.12/site-packages/nest_asyncio.py:98\u001B[0m, in \u001B[0;36m_patch_loop.<locals>.run_until_complete\u001B[0;34m(self, future)\u001B[0m\n\u001B[1;32m     95\u001B[0m \u001B[38;5;28;01mif\u001B[39;00m \u001B[38;5;129;01mnot\u001B[39;00m f\u001B[38;5;241m.\u001B[39mdone():\n\u001B[1;32m     96\u001B[0m     \u001B[38;5;28;01mraise\u001B[39;00m \u001B[38;5;167;01mRuntimeError\u001B[39;00m(\n\u001B[1;32m     97\u001B[0m         \u001B[38;5;124m'\u001B[39m\u001B[38;5;124mEvent loop stopped before Future completed.\u001B[39m\u001B[38;5;124m'\u001B[39m)\n\u001B[0;32m---> 98\u001B[0m \u001B[38;5;28;01mreturn\u001B[39;00m \u001B[43mf\u001B[49m\u001B[38;5;241;43m.\u001B[39;49m\u001B[43mresult\u001B[49m\u001B[43m(\u001B[49m\u001B[43m)\u001B[49m\n",
      "File \u001B[0;32m/usr/lib/python3.12/asyncio/futures.py:203\u001B[0m, in \u001B[0;36mFuture.result\u001B[0;34m(self)\u001B[0m\n\u001B[1;32m    201\u001B[0m \u001B[38;5;28mself\u001B[39m\u001B[38;5;241m.\u001B[39m__log_traceback \u001B[38;5;241m=\u001B[39m \u001B[38;5;28;01mFalse\u001B[39;00m\n\u001B[1;32m    202\u001B[0m \u001B[38;5;28;01mif\u001B[39;00m \u001B[38;5;28mself\u001B[39m\u001B[38;5;241m.\u001B[39m_exception \u001B[38;5;129;01mis\u001B[39;00m \u001B[38;5;129;01mnot\u001B[39;00m \u001B[38;5;28;01mNone\u001B[39;00m:\n\u001B[0;32m--> 203\u001B[0m     \u001B[38;5;28;01mraise\u001B[39;00m \u001B[38;5;28mself\u001B[39m\u001B[38;5;241m.\u001B[39m_exception\u001B[38;5;241m.\u001B[39mwith_traceback(\u001B[38;5;28mself\u001B[39m\u001B[38;5;241m.\u001B[39m_exception_tb)\n\u001B[1;32m    204\u001B[0m \u001B[38;5;28;01mreturn\u001B[39;00m \u001B[38;5;28mself\u001B[39m\u001B[38;5;241m.\u001B[39m_result\n",
      "File \u001B[0;32m/usr/lib/python3.12/asyncio/tasks.py:314\u001B[0m, in \u001B[0;36mTask.__step_run_and_handle_result\u001B[0;34m(***failed resolving arguments***)\u001B[0m\n\u001B[1;32m    310\u001B[0m \u001B[38;5;28;01mtry\u001B[39;00m:\n\u001B[1;32m    311\u001B[0m     \u001B[38;5;28;01mif\u001B[39;00m exc \u001B[38;5;129;01mis\u001B[39;00m \u001B[38;5;28;01mNone\u001B[39;00m:\n\u001B[1;32m    312\u001B[0m         \u001B[38;5;66;03m# We use the `send` method directly, because coroutines\u001B[39;00m\n\u001B[1;32m    313\u001B[0m         \u001B[38;5;66;03m# don't have `__iter__` and `__next__` methods.\u001B[39;00m\n\u001B[0;32m--> 314\u001B[0m         result \u001B[38;5;241m=\u001B[39m \u001B[43mcoro\u001B[49m\u001B[38;5;241;43m.\u001B[39;49m\u001B[43msend\u001B[49m\u001B[43m(\u001B[49m\u001B[38;5;28;43;01mNone\u001B[39;49;00m\u001B[43m)\u001B[49m\n\u001B[1;32m    315\u001B[0m     \u001B[38;5;28;01melse\u001B[39;00m:\n\u001B[1;32m    316\u001B[0m         result \u001B[38;5;241m=\u001B[39m coro\u001B[38;5;241m.\u001B[39mthrow(exc)\n",
      "File \u001B[0;32m~/Documentos/Projects_Software/mosqlimate-client/mosqlient/requests.py:121\u001B[0m, in \u001B[0;36mget_all_sync.<locals>.fetch_all\u001B[0;34m()\u001B[0m\n\u001B[1;32m    120\u001B[0m \u001B[38;5;28;01masync\u001B[39;00m \u001B[38;5;28;01mdef\u001B[39;00m \u001B[38;5;21mfetch_all\u001B[39m():\n\u001B[0;32m--> 121\u001B[0m     \u001B[38;5;28;01mreturn\u001B[39;00m \u001B[38;5;28;01mawait\u001B[39;00m get_all(\n\u001B[1;32m    122\u001B[0m         app\u001B[38;5;241m=\u001B[39mapp,\n\u001B[1;32m    123\u001B[0m         endpoint\u001B[38;5;241m=\u001B[39mendpoint,\n\u001B[1;32m    124\u001B[0m         params\u001B[38;5;241m=\u001B[39mparams,\n\u001B[1;32m    125\u001B[0m         timeout\u001B[38;5;241m=\u001B[39mtimeout,\n\u001B[1;32m    126\u001B[0m         pagination\u001B[38;5;241m=\u001B[39mpagination\n\u001B[1;32m    127\u001B[0m     )\n",
      "File \u001B[0;32m~/Documentos/Projects_Software/mosqlimate-client/mosqlient/requests.py:78\u001B[0m, in \u001B[0;36mget_all\u001B[0;34m(app, endpoint, params, timeout, pagination, _max_per_page)\u001B[0m\n\u001B[1;32m     75\u001B[0m url \u001B[38;5;241m=\u001B[39m urljoin(get_api_url(), \u001B[38;5;124m\"\u001B[39m\u001B[38;5;124m/\u001B[39m\u001B[38;5;124m\"\u001B[39m\u001B[38;5;241m.\u001B[39mjoin((\u001B[38;5;28mstr\u001B[39m(app), \u001B[38;5;28mstr\u001B[39m(endpoint)))) \u001B[38;5;241m+\u001B[39m \u001B[38;5;124m\"\u001B[39m\u001B[38;5;124m/?\u001B[39m\u001B[38;5;124m\"\u001B[39m\n\u001B[1;32m     77\u001B[0m \u001B[38;5;28;01masync\u001B[39;00m \u001B[38;5;28;01mwith\u001B[39;00m aiohttp\u001B[38;5;241m.\u001B[39mClientSession() \u001B[38;5;28;01mas\u001B[39;00m session:\n\u001B[0;32m---> 78\u001B[0m     first_page \u001B[38;5;241m=\u001B[39m \u001B[38;5;28;01mawait\u001B[39;00m aget(session, url, params)\n\u001B[1;32m     80\u001B[0m \u001B[38;5;28;01mif\u001B[39;00m \u001B[38;5;129;01mnot\u001B[39;00m pagination:\n\u001B[1;32m     81\u001B[0m     \u001B[38;5;28;01mreturn\u001B[39;00m first_page\n",
      "File \u001B[0;32m~/Documentos/Projects_Software/mosqlimate-client/mosqlient/requests.py:44\u001B[0m, in \u001B[0;36maget\u001B[0;34m(session, url, params, timeout, retries)\u001B[0m\n\u001B[1;32m     42\u001B[0m \u001B[38;5;28;01mif\u001B[39;00m retries \u001B[38;5;241m<\u001B[39m \u001B[38;5;241m0\u001B[39m:\n\u001B[1;32m     43\u001B[0m     \u001B[38;5;28;01mraise\u001B[39;00m aiohttp\u001B[38;5;241m.\u001B[39mClientConnectionError(\u001B[38;5;124m\"\u001B[39m\u001B[38;5;124mToo many attempts\u001B[39m\u001B[38;5;124m\"\u001B[39m)\n\u001B[0;32m---> 44\u001B[0m \u001B[38;5;28;01masync\u001B[39;00m \u001B[38;5;28;01mwith\u001B[39;00m session\u001B[38;5;241m.\u001B[39mget(url, params\u001B[38;5;241m=\u001B[39mparams, timeout\u001B[38;5;241m=\u001B[39mtimeout) \u001B[38;5;28;01mas\u001B[39;00m res:\n\u001B[1;32m     45\u001B[0m     \u001B[38;5;28;01mif\u001B[39;00m res\u001B[38;5;241m.\u001B[39mstatus \u001B[38;5;241m==\u001B[39m \u001B[38;5;241m200\u001B[39m:\n\u001B[1;32m     46\u001B[0m         \u001B[38;5;28;01mreturn\u001B[39;00m \u001B[38;5;28;01mawait\u001B[39;00m res\u001B[38;5;241m.\u001B[39mjson()\n",
      "File \u001B[0;32m~/Documentos/Projects_Software/mosqlimate-client/.venv/lib/python3.12/site-packages/aiohttp/client.py:1344\u001B[0m, in \u001B[0;36m_BaseRequestContextManager.__aenter__\u001B[0;34m(self)\u001B[0m\n\u001B[1;32m   1343\u001B[0m \u001B[38;5;28;01masync\u001B[39;00m \u001B[38;5;28;01mdef\u001B[39;00m \u001B[38;5;21m__aenter__\u001B[39m(\u001B[38;5;28mself\u001B[39m) \u001B[38;5;241m-\u001B[39m\u001B[38;5;241m>\u001B[39m _RetType:\n\u001B[0;32m-> 1344\u001B[0m     \u001B[38;5;28mself\u001B[39m\u001B[38;5;241m.\u001B[39m_resp \u001B[38;5;241m=\u001B[39m \u001B[38;5;28;01mawait\u001B[39;00m \u001B[38;5;28mself\u001B[39m\u001B[38;5;241m.\u001B[39m_coro\n\u001B[1;32m   1345\u001B[0m     \u001B[38;5;28;01mreturn\u001B[39;00m \u001B[38;5;28mself\u001B[39m\u001B[38;5;241m.\u001B[39m_resp\n",
      "File \u001B[0;32m~/Documentos/Projects_Software/mosqlimate-client/.venv/lib/python3.12/site-packages/aiohttp/client.py:648\u001B[0m, in \u001B[0;36mClientSession._request\u001B[0;34m(self, method, str_or_url, params, data, json, cookies, headers, skip_auto_headers, auth, allow_redirects, max_redirects, compress, chunked, expect100, raise_for_status, read_until_eof, proxy, proxy_auth, timeout, verify_ssl, fingerprint, ssl_context, ssl, server_hostname, proxy_headers, trace_request_ctx, read_bufsize, auto_decompress, max_line_size, max_field_size)\u001B[0m\n\u001B[1;32m    643\u001B[0m     \u001B[38;5;28;01masync\u001B[39;00m \u001B[38;5;28;01mwith\u001B[39;00m ceil_timeout(\n\u001B[1;32m    644\u001B[0m         real_timeout\u001B[38;5;241m.\u001B[39mconnect,\n\u001B[1;32m    645\u001B[0m         ceil_threshold\u001B[38;5;241m=\u001B[39mreal_timeout\u001B[38;5;241m.\u001B[39mceil_threshold,\n\u001B[1;32m    646\u001B[0m     ):\n\u001B[1;32m    647\u001B[0m         \u001B[38;5;28;01massert\u001B[39;00m \u001B[38;5;28mself\u001B[39m\u001B[38;5;241m.\u001B[39m_connector \u001B[38;5;129;01mis\u001B[39;00m \u001B[38;5;129;01mnot\u001B[39;00m \u001B[38;5;28;01mNone\u001B[39;00m\n\u001B[0;32m--> 648\u001B[0m         conn \u001B[38;5;241m=\u001B[39m \u001B[38;5;28;01mawait\u001B[39;00m \u001B[38;5;28mself\u001B[39m\u001B[38;5;241m.\u001B[39m_connector\u001B[38;5;241m.\u001B[39mconnect(\n\u001B[1;32m    649\u001B[0m             req, traces\u001B[38;5;241m=\u001B[39mtraces, timeout\u001B[38;5;241m=\u001B[39mreal_timeout\n\u001B[1;32m    650\u001B[0m         )\n\u001B[1;32m    651\u001B[0m \u001B[38;5;28;01mexcept\u001B[39;00m asyncio\u001B[38;5;241m.\u001B[39mTimeoutError \u001B[38;5;28;01mas\u001B[39;00m exc:\n\u001B[1;32m    652\u001B[0m     \u001B[38;5;28;01mraise\u001B[39;00m ConnectionTimeoutError(\n\u001B[1;32m    653\u001B[0m         \u001B[38;5;124mf\u001B[39m\u001B[38;5;124m\"\u001B[39m\u001B[38;5;124mConnection timeout to host \u001B[39m\u001B[38;5;132;01m{\u001B[39;00murl\u001B[38;5;132;01m}\u001B[39;00m\u001B[38;5;124m\"\u001B[39m\n\u001B[1;32m    654\u001B[0m     ) \u001B[38;5;28;01mfrom\u001B[39;00m \u001B[38;5;21;01mexc\u001B[39;00m\n",
      "File \u001B[0;32m~/Documentos/Projects_Software/mosqlimate-client/.venv/lib/python3.12/site-packages/aiohttp/connector.py:546\u001B[0m, in \u001B[0;36mBaseConnector.connect\u001B[0;34m(self, req, traces, timeout)\u001B[0m\n\u001B[1;32m    543\u001B[0m         \u001B[38;5;28;01mawait\u001B[39;00m trace\u001B[38;5;241m.\u001B[39msend_connection_create_start()\n\u001B[1;32m    545\u001B[0m \u001B[38;5;28;01mtry\u001B[39;00m:\n\u001B[0;32m--> 546\u001B[0m     proto \u001B[38;5;241m=\u001B[39m \u001B[38;5;28;01mawait\u001B[39;00m \u001B[38;5;28mself\u001B[39m\u001B[38;5;241m.\u001B[39m_create_connection(req, traces, timeout)\n\u001B[1;32m    547\u001B[0m     \u001B[38;5;28;01mif\u001B[39;00m \u001B[38;5;28mself\u001B[39m\u001B[38;5;241m.\u001B[39m_closed:\n\u001B[1;32m    548\u001B[0m         proto\u001B[38;5;241m.\u001B[39mclose()\n",
      "File \u001B[0;32m~/Documentos/Projects_Software/mosqlimate-client/.venv/lib/python3.12/site-packages/aiohttp/connector.py:954\u001B[0m, in \u001B[0;36mTCPConnector._create_connection\u001B[0;34m(self, req, traces, timeout)\u001B[0m\n\u001B[1;32m    952\u001B[0m     _, proto \u001B[38;5;241m=\u001B[39m \u001B[38;5;28;01mawait\u001B[39;00m \u001B[38;5;28mself\u001B[39m\u001B[38;5;241m.\u001B[39m_create_proxy_connection(req, traces, timeout)\n\u001B[1;32m    953\u001B[0m \u001B[38;5;28;01melse\u001B[39;00m:\n\u001B[0;32m--> 954\u001B[0m     _, proto \u001B[38;5;241m=\u001B[39m \u001B[38;5;28;01mawait\u001B[39;00m \u001B[38;5;28mself\u001B[39m\u001B[38;5;241m.\u001B[39m_create_direct_connection(req, traces, timeout)\n\u001B[1;32m    956\u001B[0m \u001B[38;5;28;01mreturn\u001B[39;00m proto\n",
      "File \u001B[0;32m~/Documentos/Projects_Software/mosqlimate-client/.venv/lib/python3.12/site-packages/aiohttp/connector.py:1313\u001B[0m, in \u001B[0;36mTCPConnector._create_direct_connection\u001B[0;34m(self, req, traces, timeout, client_error)\u001B[0m\n\u001B[1;32m   1311\u001B[0m \u001B[38;5;28;01melse\u001B[39;00m:\n\u001B[1;32m   1312\u001B[0m     \u001B[38;5;28;01massert\u001B[39;00m last_exc \u001B[38;5;129;01mis\u001B[39;00m \u001B[38;5;129;01mnot\u001B[39;00m \u001B[38;5;28;01mNone\u001B[39;00m\n\u001B[0;32m-> 1313\u001B[0m     \u001B[38;5;28;01mraise\u001B[39;00m last_exc\n",
      "File \u001B[0;32m~/Documentos/Projects_Software/mosqlimate-client/.venv/lib/python3.12/site-packages/aiohttp/connector.py:1282\u001B[0m, in \u001B[0;36mTCPConnector._create_direct_connection\u001B[0;34m(self, req, traces, timeout, client_error)\u001B[0m\n\u001B[1;32m   1277\u001B[0m server_hostname \u001B[38;5;241m=\u001B[39m (\n\u001B[1;32m   1278\u001B[0m     (req\u001B[38;5;241m.\u001B[39mserver_hostname \u001B[38;5;129;01mor\u001B[39;00m host)\u001B[38;5;241m.\u001B[39mrstrip(\u001B[38;5;124m\"\u001B[39m\u001B[38;5;124m.\u001B[39m\u001B[38;5;124m\"\u001B[39m) \u001B[38;5;28;01mif\u001B[39;00m sslcontext \u001B[38;5;28;01melse\u001B[39;00m \u001B[38;5;28;01mNone\u001B[39;00m\n\u001B[1;32m   1279\u001B[0m )\n\u001B[1;32m   1281\u001B[0m \u001B[38;5;28;01mtry\u001B[39;00m:\n\u001B[0;32m-> 1282\u001B[0m     transp, proto \u001B[38;5;241m=\u001B[39m \u001B[38;5;28;01mawait\u001B[39;00m \u001B[38;5;28mself\u001B[39m\u001B[38;5;241m.\u001B[39m_wrap_create_connection(\n\u001B[1;32m   1283\u001B[0m         \u001B[38;5;28mself\u001B[39m\u001B[38;5;241m.\u001B[39m_factory,\n\u001B[1;32m   1284\u001B[0m         timeout\u001B[38;5;241m=\u001B[39mtimeout,\n\u001B[1;32m   1285\u001B[0m         ssl\u001B[38;5;241m=\u001B[39msslcontext,\n\u001B[1;32m   1286\u001B[0m         addr_infos\u001B[38;5;241m=\u001B[39maddr_infos,\n\u001B[1;32m   1287\u001B[0m         server_hostname\u001B[38;5;241m=\u001B[39mserver_hostname,\n\u001B[1;32m   1288\u001B[0m         req\u001B[38;5;241m=\u001B[39mreq,\n\u001B[1;32m   1289\u001B[0m         client_error\u001B[38;5;241m=\u001B[39mclient_error,\n\u001B[1;32m   1290\u001B[0m     )\n\u001B[1;32m   1291\u001B[0m \u001B[38;5;28;01mexcept\u001B[39;00m ClientConnectorError \u001B[38;5;28;01mas\u001B[39;00m exc:\n\u001B[1;32m   1292\u001B[0m     last_exc \u001B[38;5;241m=\u001B[39m exc\n",
      "File \u001B[0;32m~/Documentos/Projects_Software/mosqlimate-client/.venv/lib/python3.12/site-packages/aiohttp/connector.py:1051\u001B[0m, in \u001B[0;36mTCPConnector._wrap_create_connection\u001B[0;34m(self, addr_infos, req, timeout, client_error, *args, **kwargs)\u001B[0m\n\u001B[1;32m   1049\u001B[0m \u001B[38;5;28;01mif\u001B[39;00m exc\u001B[38;5;241m.\u001B[39merrno \u001B[38;5;129;01mis\u001B[39;00m \u001B[38;5;28;01mNone\u001B[39;00m \u001B[38;5;129;01mand\u001B[39;00m \u001B[38;5;28misinstance\u001B[39m(exc, asyncio\u001B[38;5;241m.\u001B[39mTimeoutError):\n\u001B[1;32m   1050\u001B[0m     \u001B[38;5;28;01mraise\u001B[39;00m\n\u001B[0;32m-> 1051\u001B[0m \u001B[38;5;28;01mraise\u001B[39;00m client_error(req\u001B[38;5;241m.\u001B[39mconnection_key, exc) \u001B[38;5;28;01mfrom\u001B[39;00m \u001B[38;5;21;01mexc\u001B[39;00m\n",
      "\u001B[0;31mClientConnectorError\u001B[0m: Cannot connect to host 0.0.0.0:8042 ssl:default [Connect call failed ('0.0.0.0', 8042)]"
     ]
    }
   ],
   "execution_count": 4
  },
  {
   "cell_type": "markdown",
   "metadata": {},
   "source": [
    "To get the data for all the cities in a state, don't fill the `geocode` field, as in the example below:"
   ]
  },
  {
   "cell_type": "code",
   "metadata": {
    "execution": {
     "iopub.execute_input": "2024-06-17T19:42:41.233778Z",
     "iopub.status.busy": "2024-06-17T19:42:41.233657Z",
     "iopub.status.idle": "2024-06-17T19:42:46.767068Z",
     "shell.execute_reply": "2024-06-17T19:42:46.766860Z",
     "shell.execute_reply.started": "2024-06-17T19:42:41.233769Z"
    },
    "ExecuteTime": {
     "end_time": "2024-08-08T11:55:41.453100Z",
     "start_time": "2024-08-08T11:55:41.354369Z"
    }
   },
   "source": [
    "data = mosq.get_infodengue(\n",
    "    disease =  \"dengue\",\n",
    "    start_date = \"2022-01-01\",\n",
    "    end_date = \"2023-01-01\", \n",
    "    uf = 'AL')\n",
    "\n",
    "data.head()"
   ],
   "outputs": [
    {
     "ename": "ClientConnectorError",
     "evalue": "Cannot connect to host 0.0.0.0:8042 ssl:default [Connect call failed ('0.0.0.0', 8042)]",
     "output_type": "error",
     "traceback": [
      "\u001B[0;31m---------------------------------------------------------------------------\u001B[0m",
      "\u001B[0;31mConnectionRefusedError\u001B[0m                    Traceback (most recent call last)",
      "File \u001B[0;32m~/Documentos/Projects_Software/mosqlimate-client/.venv/lib/python3.12/site-packages/aiohttp/connector.py:1036\u001B[0m, in \u001B[0;36mTCPConnector._wrap_create_connection\u001B[0;34m(self, addr_infos, req, timeout, client_error, *args, **kwargs)\u001B[0m\n\u001B[1;32m   1033\u001B[0m \u001B[38;5;28;01masync\u001B[39;00m \u001B[38;5;28;01mwith\u001B[39;00m ceil_timeout(\n\u001B[1;32m   1034\u001B[0m     timeout\u001B[38;5;241m.\u001B[39msock_connect, ceil_threshold\u001B[38;5;241m=\u001B[39mtimeout\u001B[38;5;241m.\u001B[39mceil_threshold\n\u001B[1;32m   1035\u001B[0m ):\n\u001B[0;32m-> 1036\u001B[0m     sock \u001B[38;5;241m=\u001B[39m \u001B[38;5;28;01mawait\u001B[39;00m aiohappyeyeballs\u001B[38;5;241m.\u001B[39mstart_connection(\n\u001B[1;32m   1037\u001B[0m         addr_infos\u001B[38;5;241m=\u001B[39maddr_infos,\n\u001B[1;32m   1038\u001B[0m         local_addr_infos\u001B[38;5;241m=\u001B[39m\u001B[38;5;28mself\u001B[39m\u001B[38;5;241m.\u001B[39m_local_addr_infos,\n\u001B[1;32m   1039\u001B[0m         happy_eyeballs_delay\u001B[38;5;241m=\u001B[39m\u001B[38;5;28mself\u001B[39m\u001B[38;5;241m.\u001B[39m_happy_eyeballs_delay,\n\u001B[1;32m   1040\u001B[0m         interleave\u001B[38;5;241m=\u001B[39m\u001B[38;5;28mself\u001B[39m\u001B[38;5;241m.\u001B[39m_interleave,\n\u001B[1;32m   1041\u001B[0m         loop\u001B[38;5;241m=\u001B[39m\u001B[38;5;28mself\u001B[39m\u001B[38;5;241m.\u001B[39m_loop,\n\u001B[1;32m   1042\u001B[0m     )\n\u001B[1;32m   1043\u001B[0m     \u001B[38;5;28;01mreturn\u001B[39;00m \u001B[38;5;28;01mawait\u001B[39;00m \u001B[38;5;28mself\u001B[39m\u001B[38;5;241m.\u001B[39m_loop\u001B[38;5;241m.\u001B[39mcreate_connection(\u001B[38;5;241m*\u001B[39margs, \u001B[38;5;241m*\u001B[39m\u001B[38;5;241m*\u001B[39mkwargs, sock\u001B[38;5;241m=\u001B[39msock)\n",
      "File \u001B[0;32m~/Documentos/Projects_Software/mosqlimate-client/.venv/lib/python3.12/site-packages/aiohappyeyeballs/impl.py:104\u001B[0m, in \u001B[0;36mstart_connection\u001B[0;34m(addr_infos, local_addr_infos, happy_eyeballs_delay, interleave, loop)\u001B[0m\n\u001B[1;32m    103\u001B[0m \u001B[38;5;28;01mif\u001B[39;00m \u001B[38;5;28mlen\u001B[39m(all_exceptions) \u001B[38;5;241m==\u001B[39m \u001B[38;5;241m1\u001B[39m:\n\u001B[0;32m--> 104\u001B[0m     \u001B[38;5;28;01mraise\u001B[39;00m first_exception\n\u001B[1;32m    105\u001B[0m \u001B[38;5;28;01melse\u001B[39;00m:\n\u001B[1;32m    106\u001B[0m     \u001B[38;5;66;03m# If they all have the same str(), raise one.\u001B[39;00m\n",
      "File \u001B[0;32m~/Documentos/Projects_Software/mosqlimate-client/.venv/lib/python3.12/site-packages/aiohappyeyeballs/impl.py:81\u001B[0m, in \u001B[0;36mstart_connection\u001B[0;34m(addr_infos, local_addr_infos, happy_eyeballs_delay, interleave, loop)\u001B[0m\n\u001B[1;32m     80\u001B[0m \u001B[38;5;28;01mtry\u001B[39;00m:\n\u001B[0;32m---> 81\u001B[0m     sock \u001B[38;5;241m=\u001B[39m \u001B[38;5;28;01mawait\u001B[39;00m _connect_sock(\n\u001B[1;32m     82\u001B[0m         current_loop, exceptions, addrinfo, local_addr_infos\n\u001B[1;32m     83\u001B[0m     )\n\u001B[1;32m     84\u001B[0m     \u001B[38;5;28;01mbreak\u001B[39;00m\n",
      "File \u001B[0;32m~/Documentos/Projects_Software/mosqlimate-client/.venv/lib/python3.12/site-packages/aiohappyeyeballs/impl.py:166\u001B[0m, in \u001B[0;36m_connect_sock\u001B[0;34m(loop, exceptions, addr_info, local_addr_infos)\u001B[0m\n\u001B[1;32m    165\u001B[0m             \u001B[38;5;28;01mraise\u001B[39;00m \u001B[38;5;167;01mOSError\u001B[39;00m(\u001B[38;5;124mf\u001B[39m\u001B[38;5;124m\"\u001B[39m\u001B[38;5;124mno matching local address with \u001B[39m\u001B[38;5;132;01m{\u001B[39;00mfamily\u001B[38;5;132;01m=}\u001B[39;00m\u001B[38;5;124m found\u001B[39m\u001B[38;5;124m\"\u001B[39m)\n\u001B[0;32m--> 166\u001B[0m \u001B[38;5;28;01mawait\u001B[39;00m loop\u001B[38;5;241m.\u001B[39msock_connect(sock, address)\n\u001B[1;32m    167\u001B[0m \u001B[38;5;28;01mreturn\u001B[39;00m sock\n",
      "File \u001B[0;32m/usr/lib/python3.12/asyncio/selector_events.py:651\u001B[0m, in \u001B[0;36mBaseSelectorEventLoop.sock_connect\u001B[0;34m(self, sock, address)\u001B[0m\n\u001B[1;32m    650\u001B[0m \u001B[38;5;28;01mtry\u001B[39;00m:\n\u001B[0;32m--> 651\u001B[0m     \u001B[38;5;28;01mreturn\u001B[39;00m \u001B[38;5;28;01mawait\u001B[39;00m fut\n\u001B[1;32m    652\u001B[0m \u001B[38;5;28;01mfinally\u001B[39;00m:\n\u001B[1;32m    653\u001B[0m     \u001B[38;5;66;03m# Needed to break cycles when an exception occurs.\u001B[39;00m\n",
      "File \u001B[0;32m/usr/lib/python3.12/asyncio/futures.py:287\u001B[0m, in \u001B[0;36mFuture.__await__\u001B[0;34m(self)\u001B[0m\n\u001B[1;32m    286\u001B[0m     \u001B[38;5;28mself\u001B[39m\u001B[38;5;241m.\u001B[39m_asyncio_future_blocking \u001B[38;5;241m=\u001B[39m \u001B[38;5;28;01mTrue\u001B[39;00m\n\u001B[0;32m--> 287\u001B[0m     \u001B[38;5;28;01myield\u001B[39;00m \u001B[38;5;28mself\u001B[39m  \u001B[38;5;66;03m# This tells Task to wait for completion.\u001B[39;00m\n\u001B[1;32m    288\u001B[0m \u001B[38;5;28;01mif\u001B[39;00m \u001B[38;5;129;01mnot\u001B[39;00m \u001B[38;5;28mself\u001B[39m\u001B[38;5;241m.\u001B[39mdone():\n",
      "File \u001B[0;32m/usr/lib/python3.12/asyncio/tasks.py:385\u001B[0m, in \u001B[0;36mTask.__wakeup\u001B[0;34m(self, future)\u001B[0m\n\u001B[1;32m    384\u001B[0m \u001B[38;5;28;01mtry\u001B[39;00m:\n\u001B[0;32m--> 385\u001B[0m     \u001B[43mfuture\u001B[49m\u001B[38;5;241;43m.\u001B[39;49m\u001B[43mresult\u001B[49m\u001B[43m(\u001B[49m\u001B[43m)\u001B[49m\n\u001B[1;32m    386\u001B[0m \u001B[38;5;28;01mexcept\u001B[39;00m \u001B[38;5;167;01mBaseException\u001B[39;00m \u001B[38;5;28;01mas\u001B[39;00m exc:\n\u001B[1;32m    387\u001B[0m     \u001B[38;5;66;03m# This may also be a cancellation.\u001B[39;00m\n",
      "File \u001B[0;32m/usr/lib/python3.12/asyncio/futures.py:203\u001B[0m, in \u001B[0;36mFuture.result\u001B[0;34m(self)\u001B[0m\n\u001B[1;32m    202\u001B[0m \u001B[38;5;28;01mif\u001B[39;00m \u001B[38;5;28mself\u001B[39m\u001B[38;5;241m.\u001B[39m_exception \u001B[38;5;129;01mis\u001B[39;00m \u001B[38;5;129;01mnot\u001B[39;00m \u001B[38;5;28;01mNone\u001B[39;00m:\n\u001B[0;32m--> 203\u001B[0m     \u001B[38;5;28;01mraise\u001B[39;00m \u001B[38;5;28mself\u001B[39m\u001B[38;5;241m.\u001B[39m_exception\u001B[38;5;241m.\u001B[39mwith_traceback(\u001B[38;5;28mself\u001B[39m\u001B[38;5;241m.\u001B[39m_exception_tb)\n\u001B[1;32m    204\u001B[0m \u001B[38;5;28;01mreturn\u001B[39;00m \u001B[38;5;28mself\u001B[39m\u001B[38;5;241m.\u001B[39m_result\n",
      "File \u001B[0;32m/usr/lib/python3.12/asyncio/selector_events.py:691\u001B[0m, in \u001B[0;36mBaseSelectorEventLoop._sock_connect_cb\u001B[0;34m(self, fut, sock, address)\u001B[0m\n\u001B[1;32m    689\u001B[0m     \u001B[38;5;28;01mif\u001B[39;00m err \u001B[38;5;241m!=\u001B[39m \u001B[38;5;241m0\u001B[39m:\n\u001B[1;32m    690\u001B[0m         \u001B[38;5;66;03m# Jump to any except clause below.\u001B[39;00m\n\u001B[0;32m--> 691\u001B[0m         \u001B[38;5;28;01mraise\u001B[39;00m \u001B[38;5;167;01mOSError\u001B[39;00m(err, \u001B[38;5;124mf\u001B[39m\u001B[38;5;124m'\u001B[39m\u001B[38;5;124mConnect call failed \u001B[39m\u001B[38;5;132;01m{\u001B[39;00maddress\u001B[38;5;132;01m}\u001B[39;00m\u001B[38;5;124m'\u001B[39m)\n\u001B[1;32m    692\u001B[0m \u001B[38;5;28;01mexcept\u001B[39;00m (\u001B[38;5;167;01mBlockingIOError\u001B[39;00m, \u001B[38;5;167;01mInterruptedError\u001B[39;00m):\n\u001B[1;32m    693\u001B[0m     \u001B[38;5;66;03m# socket is still registered, the callback will be retried later\u001B[39;00m\n",
      "\u001B[0;31mConnectionRefusedError\u001B[0m: [Errno 111] Connect call failed ('0.0.0.0', 8042)",
      "\nThe above exception was the direct cause of the following exception:\n",
      "\u001B[0;31mClientConnectorError\u001B[0m                      Traceback (most recent call last)",
      "Cell \u001B[0;32mIn[5], line 1\u001B[0m\n\u001B[0;32m----> 1\u001B[0m data \u001B[38;5;241m=\u001B[39m \u001B[43mmosq\u001B[49m\u001B[38;5;241;43m.\u001B[39;49m\u001B[43mget_infodengue\u001B[49m\u001B[43m(\u001B[49m\n\u001B[1;32m      2\u001B[0m \u001B[43m    \u001B[49m\u001B[43mdisease\u001B[49m\u001B[43m \u001B[49m\u001B[38;5;241;43m=\u001B[39;49m\u001B[43m  \u001B[49m\u001B[38;5;124;43m\"\u001B[39;49m\u001B[38;5;124;43mdengue\u001B[39;49m\u001B[38;5;124;43m\"\u001B[39;49m\u001B[43m,\u001B[49m\n\u001B[1;32m      3\u001B[0m \u001B[43m    \u001B[49m\u001B[43mstart_date\u001B[49m\u001B[43m \u001B[49m\u001B[38;5;241;43m=\u001B[39;49m\u001B[43m \u001B[49m\u001B[38;5;124;43m\"\u001B[39;49m\u001B[38;5;124;43m2022-01-01\u001B[39;49m\u001B[38;5;124;43m\"\u001B[39;49m\u001B[43m,\u001B[49m\n\u001B[1;32m      4\u001B[0m \u001B[43m    \u001B[49m\u001B[43mend_date\u001B[49m\u001B[43m \u001B[49m\u001B[38;5;241;43m=\u001B[39;49m\u001B[43m \u001B[49m\u001B[38;5;124;43m\"\u001B[39;49m\u001B[38;5;124;43m2023-01-01\u001B[39;49m\u001B[38;5;124;43m\"\u001B[39;49m\u001B[43m,\u001B[49m\u001B[43m \u001B[49m\n\u001B[1;32m      5\u001B[0m \u001B[43m    \u001B[49m\u001B[43muf\u001B[49m\u001B[43m \u001B[49m\u001B[38;5;241;43m=\u001B[39;49m\u001B[43m \u001B[49m\u001B[38;5;124;43m'\u001B[39;49m\u001B[38;5;124;43mAL\u001B[39;49m\u001B[38;5;124;43m'\u001B[39;49m\u001B[43m)\u001B[49m\n\u001B[1;32m      7\u001B[0m data\u001B[38;5;241m.\u001B[39mhead()\n",
      "File \u001B[0;32m~/Documentos/Projects_Software/mosqlimate-client/mosqlient/datastore/_infodengue_get_impl.py:27\u001B[0m, in \u001B[0;36mget_infodengue\u001B[0;34m(disease, start_date, end_date, uf, geocode)\u001B[0m\n\u001B[1;32m     11\u001B[0m \u001B[38;5;28;01mdef\u001B[39;00m \u001B[38;5;21mget_infodengue\u001B[39m(\n\u001B[1;32m     12\u001B[0m     disease: Literal[\u001B[38;5;124m\"\u001B[39m\u001B[38;5;124mdengue\u001B[39m\u001B[38;5;124m\"\u001B[39m, \u001B[38;5;124m\"\u001B[39m\u001B[38;5;124mzika\u001B[39m\u001B[38;5;124m\"\u001B[39m, \u001B[38;5;124m\"\u001B[39m\u001B[38;5;124mchikungunya\u001B[39m\u001B[38;5;124m\"\u001B[39m],\n\u001B[1;32m     13\u001B[0m     start_date: date \u001B[38;5;241m|\u001B[39m \u001B[38;5;28mstr\u001B[39m,\n\u001B[0;32m   (...)\u001B[0m\n\u001B[1;32m     20\u001B[0m     geocode: Optional[\u001B[38;5;28mint\u001B[39m] \u001B[38;5;241m=\u001B[39m \u001B[38;5;28;01mNone\u001B[39;00m\n\u001B[1;32m     21\u001B[0m ) \u001B[38;5;241m-\u001B[39m\u001B[38;5;241m>\u001B[39m pd\u001B[38;5;241m.\u001B[39mDataFrame:\n\u001B[1;32m     22\u001B[0m     params \u001B[38;5;241m=\u001B[39m {\n\u001B[1;32m     23\u001B[0m         \u001B[38;5;124m\"\u001B[39m\u001B[38;5;124muf\u001B[39m\u001B[38;5;124m\"\u001B[39m: uf,\n\u001B[1;32m     24\u001B[0m         \u001B[38;5;124m\"\u001B[39m\u001B[38;5;124mgeocode\u001B[39m\u001B[38;5;124m\"\u001B[39m: geocode\n\u001B[1;32m     25\u001B[0m     }\n\u001B[0;32m---> 27\u001B[0m     \u001B[38;5;28;01mreturn\u001B[39;00m pd\u001B[38;5;241m.\u001B[39mDataFrame(\u001B[43mInfodengue\u001B[49m\u001B[38;5;241;43m.\u001B[39;49m\u001B[43mget\u001B[49m\u001B[43m(\u001B[49m\n\u001B[1;32m     28\u001B[0m \u001B[43m        \u001B[49m\u001B[43mdisease\u001B[49m\u001B[38;5;241;43m=\u001B[39;49m\u001B[43mdisease\u001B[49m\u001B[43m,\u001B[49m\n\u001B[1;32m     29\u001B[0m \u001B[43m        \u001B[49m\u001B[43mstart\u001B[49m\u001B[38;5;241;43m=\u001B[39;49m\u001B[43mstart_date\u001B[49m\u001B[43m,\u001B[49m\n\u001B[1;32m     30\u001B[0m \u001B[43m        \u001B[49m\u001B[43mend\u001B[49m\u001B[38;5;241;43m=\u001B[39;49m\u001B[43mend_date\u001B[49m\u001B[43m,\u001B[49m\n\u001B[1;32m     31\u001B[0m \u001B[43m        \u001B[49m\u001B[38;5;241;43m*\u001B[39;49m\u001B[38;5;241;43m*\u001B[39;49m\u001B[43mparams\u001B[49m\n\u001B[1;32m     32\u001B[0m \u001B[43m    \u001B[49m\u001B[43m)\u001B[49m)\n",
      "File \u001B[0;32m~/Documentos/Projects_Software/mosqlimate-client/mosqlient/datastore/infodengue.py:28\u001B[0m, in \u001B[0;36mInfodengue.get\u001B[0;34m(cls, disease, start, end, **kwargs)\u001B[0m\n\u001B[1;32m     25\u001B[0m params \u001B[38;5;241m=\u001B[39m parse_params(\u001B[38;5;241m*\u001B[39m\u001B[38;5;241m*\u001B[39mkwargs)\n\u001B[1;32m     26\u001B[0m InfodengueGETParams(\u001B[38;5;241m*\u001B[39m\u001B[38;5;241m*\u001B[39mparams)\n\u001B[0;32m---> 28\u001B[0m \u001B[38;5;28;01mreturn\u001B[39;00m \u001B[43mget_all_sync\u001B[49m\u001B[43m(\u001B[49m\n\u001B[1;32m     29\u001B[0m \u001B[43m    \u001B[49m\u001B[43mapp\u001B[49m\u001B[38;5;241;43m=\u001B[39;49m\u001B[38;5;124;43m\"\u001B[39;49m\u001B[38;5;124;43mdatastore\u001B[39;49m\u001B[38;5;124;43m\"\u001B[39;49m\u001B[43m,\u001B[49m\n\u001B[1;32m     30\u001B[0m \u001B[43m    \u001B[49m\u001B[43mendpoint\u001B[49m\u001B[38;5;241;43m=\u001B[39;49m\u001B[38;5;124;43m\"\u001B[39;49m\u001B[38;5;124;43minfodengue\u001B[39;49m\u001B[38;5;124;43m\"\u001B[39;49m\u001B[43m,\u001B[49m\n\u001B[1;32m     31\u001B[0m \u001B[43m    \u001B[49m\u001B[43mparams\u001B[49m\u001B[38;5;241;43m=\u001B[39;49m\u001B[43mparams\u001B[49m\u001B[43m,\u001B[49m\n\u001B[1;32m     32\u001B[0m \u001B[43m    \u001B[49m\u001B[43mpagination\u001B[49m\u001B[38;5;241;43m=\u001B[39;49m\u001B[38;5;28;43;01mTrue\u001B[39;49;00m\u001B[43m,\u001B[49m\n\u001B[1;32m     33\u001B[0m \u001B[43m    \u001B[49m\u001B[43mtimeout\u001B[49m\u001B[38;5;241;43m=\u001B[39;49m\u001B[43mtimeout\u001B[49m\u001B[43m,\u001B[49m\n\u001B[1;32m     34\u001B[0m \u001B[43m\u001B[49m\u001B[43m)\u001B[49m\n",
      "File \u001B[0;32m~/Documentos/Projects_Software/mosqlimate-client/mosqlient/requests.py:132\u001B[0m, in \u001B[0;36mget_all_sync\u001B[0;34m(app, endpoint, params, timeout, pagination, _max_per_page)\u001B[0m\n\u001B[1;32m    130\u001B[0m     loop \u001B[38;5;241m=\u001B[39m asyncio\u001B[38;5;241m.\u001B[39mget_event_loop()\n\u001B[1;32m    131\u001B[0m     future \u001B[38;5;241m=\u001B[39m asyncio\u001B[38;5;241m.\u001B[39mensure_future(fetch_all())\n\u001B[0;32m--> 132\u001B[0m     \u001B[38;5;28;01mreturn\u001B[39;00m \u001B[43mloop\u001B[49m\u001B[38;5;241;43m.\u001B[39;49m\u001B[43mrun_until_complete\u001B[49m\u001B[43m(\u001B[49m\u001B[43mfuture\u001B[49m\u001B[43m)\u001B[49m\n\u001B[1;32m    133\u001B[0m \u001B[38;5;28;01mreturn\u001B[39;00m asyncio\u001B[38;5;241m.\u001B[39mrun(fetch_all())\n",
      "File \u001B[0;32m~/Documentos/Projects_Software/mosqlimate-client/.venv/lib/python3.12/site-packages/nest_asyncio.py:98\u001B[0m, in \u001B[0;36m_patch_loop.<locals>.run_until_complete\u001B[0;34m(self, future)\u001B[0m\n\u001B[1;32m     95\u001B[0m \u001B[38;5;28;01mif\u001B[39;00m \u001B[38;5;129;01mnot\u001B[39;00m f\u001B[38;5;241m.\u001B[39mdone():\n\u001B[1;32m     96\u001B[0m     \u001B[38;5;28;01mraise\u001B[39;00m \u001B[38;5;167;01mRuntimeError\u001B[39;00m(\n\u001B[1;32m     97\u001B[0m         \u001B[38;5;124m'\u001B[39m\u001B[38;5;124mEvent loop stopped before Future completed.\u001B[39m\u001B[38;5;124m'\u001B[39m)\n\u001B[0;32m---> 98\u001B[0m \u001B[38;5;28;01mreturn\u001B[39;00m \u001B[43mf\u001B[49m\u001B[38;5;241;43m.\u001B[39;49m\u001B[43mresult\u001B[49m\u001B[43m(\u001B[49m\u001B[43m)\u001B[49m\n",
      "File \u001B[0;32m/usr/lib/python3.12/asyncio/futures.py:203\u001B[0m, in \u001B[0;36mFuture.result\u001B[0;34m(self)\u001B[0m\n\u001B[1;32m    201\u001B[0m \u001B[38;5;28mself\u001B[39m\u001B[38;5;241m.\u001B[39m__log_traceback \u001B[38;5;241m=\u001B[39m \u001B[38;5;28;01mFalse\u001B[39;00m\n\u001B[1;32m    202\u001B[0m \u001B[38;5;28;01mif\u001B[39;00m \u001B[38;5;28mself\u001B[39m\u001B[38;5;241m.\u001B[39m_exception \u001B[38;5;129;01mis\u001B[39;00m \u001B[38;5;129;01mnot\u001B[39;00m \u001B[38;5;28;01mNone\u001B[39;00m:\n\u001B[0;32m--> 203\u001B[0m     \u001B[38;5;28;01mraise\u001B[39;00m \u001B[38;5;28mself\u001B[39m\u001B[38;5;241m.\u001B[39m_exception\u001B[38;5;241m.\u001B[39mwith_traceback(\u001B[38;5;28mself\u001B[39m\u001B[38;5;241m.\u001B[39m_exception_tb)\n\u001B[1;32m    204\u001B[0m \u001B[38;5;28;01mreturn\u001B[39;00m \u001B[38;5;28mself\u001B[39m\u001B[38;5;241m.\u001B[39m_result\n",
      "File \u001B[0;32m/usr/lib/python3.12/asyncio/tasks.py:314\u001B[0m, in \u001B[0;36mTask.__step_run_and_handle_result\u001B[0;34m(***failed resolving arguments***)\u001B[0m\n\u001B[1;32m    310\u001B[0m \u001B[38;5;28;01mtry\u001B[39;00m:\n\u001B[1;32m    311\u001B[0m     \u001B[38;5;28;01mif\u001B[39;00m exc \u001B[38;5;129;01mis\u001B[39;00m \u001B[38;5;28;01mNone\u001B[39;00m:\n\u001B[1;32m    312\u001B[0m         \u001B[38;5;66;03m# We use the `send` method directly, because coroutines\u001B[39;00m\n\u001B[1;32m    313\u001B[0m         \u001B[38;5;66;03m# don't have `__iter__` and `__next__` methods.\u001B[39;00m\n\u001B[0;32m--> 314\u001B[0m         result \u001B[38;5;241m=\u001B[39m \u001B[43mcoro\u001B[49m\u001B[38;5;241;43m.\u001B[39;49m\u001B[43msend\u001B[49m\u001B[43m(\u001B[49m\u001B[38;5;28;43;01mNone\u001B[39;49;00m\u001B[43m)\u001B[49m\n\u001B[1;32m    315\u001B[0m     \u001B[38;5;28;01melse\u001B[39;00m:\n\u001B[1;32m    316\u001B[0m         result \u001B[38;5;241m=\u001B[39m coro\u001B[38;5;241m.\u001B[39mthrow(exc)\n",
      "File \u001B[0;32m~/Documentos/Projects_Software/mosqlimate-client/mosqlient/requests.py:121\u001B[0m, in \u001B[0;36mget_all_sync.<locals>.fetch_all\u001B[0;34m()\u001B[0m\n\u001B[1;32m    120\u001B[0m \u001B[38;5;28;01masync\u001B[39;00m \u001B[38;5;28;01mdef\u001B[39;00m \u001B[38;5;21mfetch_all\u001B[39m():\n\u001B[0;32m--> 121\u001B[0m     \u001B[38;5;28;01mreturn\u001B[39;00m \u001B[38;5;28;01mawait\u001B[39;00m get_all(\n\u001B[1;32m    122\u001B[0m         app\u001B[38;5;241m=\u001B[39mapp,\n\u001B[1;32m    123\u001B[0m         endpoint\u001B[38;5;241m=\u001B[39mendpoint,\n\u001B[1;32m    124\u001B[0m         params\u001B[38;5;241m=\u001B[39mparams,\n\u001B[1;32m    125\u001B[0m         timeout\u001B[38;5;241m=\u001B[39mtimeout,\n\u001B[1;32m    126\u001B[0m         pagination\u001B[38;5;241m=\u001B[39mpagination\n\u001B[1;32m    127\u001B[0m     )\n",
      "File \u001B[0;32m~/Documentos/Projects_Software/mosqlimate-client/mosqlient/requests.py:78\u001B[0m, in \u001B[0;36mget_all\u001B[0;34m(app, endpoint, params, timeout, pagination, _max_per_page)\u001B[0m\n\u001B[1;32m     75\u001B[0m url \u001B[38;5;241m=\u001B[39m urljoin(get_api_url(), \u001B[38;5;124m\"\u001B[39m\u001B[38;5;124m/\u001B[39m\u001B[38;5;124m\"\u001B[39m\u001B[38;5;241m.\u001B[39mjoin((\u001B[38;5;28mstr\u001B[39m(app), \u001B[38;5;28mstr\u001B[39m(endpoint)))) \u001B[38;5;241m+\u001B[39m \u001B[38;5;124m\"\u001B[39m\u001B[38;5;124m/?\u001B[39m\u001B[38;5;124m\"\u001B[39m\n\u001B[1;32m     77\u001B[0m \u001B[38;5;28;01masync\u001B[39;00m \u001B[38;5;28;01mwith\u001B[39;00m aiohttp\u001B[38;5;241m.\u001B[39mClientSession() \u001B[38;5;28;01mas\u001B[39;00m session:\n\u001B[0;32m---> 78\u001B[0m     first_page \u001B[38;5;241m=\u001B[39m \u001B[38;5;28;01mawait\u001B[39;00m aget(session, url, params)\n\u001B[1;32m     80\u001B[0m \u001B[38;5;28;01mif\u001B[39;00m \u001B[38;5;129;01mnot\u001B[39;00m pagination:\n\u001B[1;32m     81\u001B[0m     \u001B[38;5;28;01mreturn\u001B[39;00m first_page\n",
      "File \u001B[0;32m~/Documentos/Projects_Software/mosqlimate-client/mosqlient/requests.py:44\u001B[0m, in \u001B[0;36maget\u001B[0;34m(session, url, params, timeout, retries)\u001B[0m\n\u001B[1;32m     42\u001B[0m \u001B[38;5;28;01mif\u001B[39;00m retries \u001B[38;5;241m<\u001B[39m \u001B[38;5;241m0\u001B[39m:\n\u001B[1;32m     43\u001B[0m     \u001B[38;5;28;01mraise\u001B[39;00m aiohttp\u001B[38;5;241m.\u001B[39mClientConnectionError(\u001B[38;5;124m\"\u001B[39m\u001B[38;5;124mToo many attempts\u001B[39m\u001B[38;5;124m\"\u001B[39m)\n\u001B[0;32m---> 44\u001B[0m \u001B[38;5;28;01masync\u001B[39;00m \u001B[38;5;28;01mwith\u001B[39;00m session\u001B[38;5;241m.\u001B[39mget(url, params\u001B[38;5;241m=\u001B[39mparams, timeout\u001B[38;5;241m=\u001B[39mtimeout) \u001B[38;5;28;01mas\u001B[39;00m res:\n\u001B[1;32m     45\u001B[0m     \u001B[38;5;28;01mif\u001B[39;00m res\u001B[38;5;241m.\u001B[39mstatus \u001B[38;5;241m==\u001B[39m \u001B[38;5;241m200\u001B[39m:\n\u001B[1;32m     46\u001B[0m         \u001B[38;5;28;01mreturn\u001B[39;00m \u001B[38;5;28;01mawait\u001B[39;00m res\u001B[38;5;241m.\u001B[39mjson()\n",
      "File \u001B[0;32m~/Documentos/Projects_Software/mosqlimate-client/.venv/lib/python3.12/site-packages/aiohttp/client.py:1344\u001B[0m, in \u001B[0;36m_BaseRequestContextManager.__aenter__\u001B[0;34m(self)\u001B[0m\n\u001B[1;32m   1343\u001B[0m \u001B[38;5;28;01masync\u001B[39;00m \u001B[38;5;28;01mdef\u001B[39;00m \u001B[38;5;21m__aenter__\u001B[39m(\u001B[38;5;28mself\u001B[39m) \u001B[38;5;241m-\u001B[39m\u001B[38;5;241m>\u001B[39m _RetType:\n\u001B[0;32m-> 1344\u001B[0m     \u001B[38;5;28mself\u001B[39m\u001B[38;5;241m.\u001B[39m_resp \u001B[38;5;241m=\u001B[39m \u001B[38;5;28;01mawait\u001B[39;00m \u001B[38;5;28mself\u001B[39m\u001B[38;5;241m.\u001B[39m_coro\n\u001B[1;32m   1345\u001B[0m     \u001B[38;5;28;01mreturn\u001B[39;00m \u001B[38;5;28mself\u001B[39m\u001B[38;5;241m.\u001B[39m_resp\n",
      "File \u001B[0;32m~/Documentos/Projects_Software/mosqlimate-client/.venv/lib/python3.12/site-packages/aiohttp/client.py:648\u001B[0m, in \u001B[0;36mClientSession._request\u001B[0;34m(self, method, str_or_url, params, data, json, cookies, headers, skip_auto_headers, auth, allow_redirects, max_redirects, compress, chunked, expect100, raise_for_status, read_until_eof, proxy, proxy_auth, timeout, verify_ssl, fingerprint, ssl_context, ssl, server_hostname, proxy_headers, trace_request_ctx, read_bufsize, auto_decompress, max_line_size, max_field_size)\u001B[0m\n\u001B[1;32m    643\u001B[0m     \u001B[38;5;28;01masync\u001B[39;00m \u001B[38;5;28;01mwith\u001B[39;00m ceil_timeout(\n\u001B[1;32m    644\u001B[0m         real_timeout\u001B[38;5;241m.\u001B[39mconnect,\n\u001B[1;32m    645\u001B[0m         ceil_threshold\u001B[38;5;241m=\u001B[39mreal_timeout\u001B[38;5;241m.\u001B[39mceil_threshold,\n\u001B[1;32m    646\u001B[0m     ):\n\u001B[1;32m    647\u001B[0m         \u001B[38;5;28;01massert\u001B[39;00m \u001B[38;5;28mself\u001B[39m\u001B[38;5;241m.\u001B[39m_connector \u001B[38;5;129;01mis\u001B[39;00m \u001B[38;5;129;01mnot\u001B[39;00m \u001B[38;5;28;01mNone\u001B[39;00m\n\u001B[0;32m--> 648\u001B[0m         conn \u001B[38;5;241m=\u001B[39m \u001B[38;5;28;01mawait\u001B[39;00m \u001B[38;5;28mself\u001B[39m\u001B[38;5;241m.\u001B[39m_connector\u001B[38;5;241m.\u001B[39mconnect(\n\u001B[1;32m    649\u001B[0m             req, traces\u001B[38;5;241m=\u001B[39mtraces, timeout\u001B[38;5;241m=\u001B[39mreal_timeout\n\u001B[1;32m    650\u001B[0m         )\n\u001B[1;32m    651\u001B[0m \u001B[38;5;28;01mexcept\u001B[39;00m asyncio\u001B[38;5;241m.\u001B[39mTimeoutError \u001B[38;5;28;01mas\u001B[39;00m exc:\n\u001B[1;32m    652\u001B[0m     \u001B[38;5;28;01mraise\u001B[39;00m ConnectionTimeoutError(\n\u001B[1;32m    653\u001B[0m         \u001B[38;5;124mf\u001B[39m\u001B[38;5;124m\"\u001B[39m\u001B[38;5;124mConnection timeout to host \u001B[39m\u001B[38;5;132;01m{\u001B[39;00murl\u001B[38;5;132;01m}\u001B[39;00m\u001B[38;5;124m\"\u001B[39m\n\u001B[1;32m    654\u001B[0m     ) \u001B[38;5;28;01mfrom\u001B[39;00m \u001B[38;5;21;01mexc\u001B[39;00m\n",
      "File \u001B[0;32m~/Documentos/Projects_Software/mosqlimate-client/.venv/lib/python3.12/site-packages/aiohttp/connector.py:546\u001B[0m, in \u001B[0;36mBaseConnector.connect\u001B[0;34m(self, req, traces, timeout)\u001B[0m\n\u001B[1;32m    543\u001B[0m         \u001B[38;5;28;01mawait\u001B[39;00m trace\u001B[38;5;241m.\u001B[39msend_connection_create_start()\n\u001B[1;32m    545\u001B[0m \u001B[38;5;28;01mtry\u001B[39;00m:\n\u001B[0;32m--> 546\u001B[0m     proto \u001B[38;5;241m=\u001B[39m \u001B[38;5;28;01mawait\u001B[39;00m \u001B[38;5;28mself\u001B[39m\u001B[38;5;241m.\u001B[39m_create_connection(req, traces, timeout)\n\u001B[1;32m    547\u001B[0m     \u001B[38;5;28;01mif\u001B[39;00m \u001B[38;5;28mself\u001B[39m\u001B[38;5;241m.\u001B[39m_closed:\n\u001B[1;32m    548\u001B[0m         proto\u001B[38;5;241m.\u001B[39mclose()\n",
      "File \u001B[0;32m~/Documentos/Projects_Software/mosqlimate-client/.venv/lib/python3.12/site-packages/aiohttp/connector.py:954\u001B[0m, in \u001B[0;36mTCPConnector._create_connection\u001B[0;34m(self, req, traces, timeout)\u001B[0m\n\u001B[1;32m    952\u001B[0m     _, proto \u001B[38;5;241m=\u001B[39m \u001B[38;5;28;01mawait\u001B[39;00m \u001B[38;5;28mself\u001B[39m\u001B[38;5;241m.\u001B[39m_create_proxy_connection(req, traces, timeout)\n\u001B[1;32m    953\u001B[0m \u001B[38;5;28;01melse\u001B[39;00m:\n\u001B[0;32m--> 954\u001B[0m     _, proto \u001B[38;5;241m=\u001B[39m \u001B[38;5;28;01mawait\u001B[39;00m \u001B[38;5;28mself\u001B[39m\u001B[38;5;241m.\u001B[39m_create_direct_connection(req, traces, timeout)\n\u001B[1;32m    956\u001B[0m \u001B[38;5;28;01mreturn\u001B[39;00m proto\n",
      "File \u001B[0;32m~/Documentos/Projects_Software/mosqlimate-client/.venv/lib/python3.12/site-packages/aiohttp/connector.py:1313\u001B[0m, in \u001B[0;36mTCPConnector._create_direct_connection\u001B[0;34m(self, req, traces, timeout, client_error)\u001B[0m\n\u001B[1;32m   1311\u001B[0m \u001B[38;5;28;01melse\u001B[39;00m:\n\u001B[1;32m   1312\u001B[0m     \u001B[38;5;28;01massert\u001B[39;00m last_exc \u001B[38;5;129;01mis\u001B[39;00m \u001B[38;5;129;01mnot\u001B[39;00m \u001B[38;5;28;01mNone\u001B[39;00m\n\u001B[0;32m-> 1313\u001B[0m     \u001B[38;5;28;01mraise\u001B[39;00m last_exc\n",
      "File \u001B[0;32m~/Documentos/Projects_Software/mosqlimate-client/.venv/lib/python3.12/site-packages/aiohttp/connector.py:1282\u001B[0m, in \u001B[0;36mTCPConnector._create_direct_connection\u001B[0;34m(self, req, traces, timeout, client_error)\u001B[0m\n\u001B[1;32m   1277\u001B[0m server_hostname \u001B[38;5;241m=\u001B[39m (\n\u001B[1;32m   1278\u001B[0m     (req\u001B[38;5;241m.\u001B[39mserver_hostname \u001B[38;5;129;01mor\u001B[39;00m host)\u001B[38;5;241m.\u001B[39mrstrip(\u001B[38;5;124m\"\u001B[39m\u001B[38;5;124m.\u001B[39m\u001B[38;5;124m\"\u001B[39m) \u001B[38;5;28;01mif\u001B[39;00m sslcontext \u001B[38;5;28;01melse\u001B[39;00m \u001B[38;5;28;01mNone\u001B[39;00m\n\u001B[1;32m   1279\u001B[0m )\n\u001B[1;32m   1281\u001B[0m \u001B[38;5;28;01mtry\u001B[39;00m:\n\u001B[0;32m-> 1282\u001B[0m     transp, proto \u001B[38;5;241m=\u001B[39m \u001B[38;5;28;01mawait\u001B[39;00m \u001B[38;5;28mself\u001B[39m\u001B[38;5;241m.\u001B[39m_wrap_create_connection(\n\u001B[1;32m   1283\u001B[0m         \u001B[38;5;28mself\u001B[39m\u001B[38;5;241m.\u001B[39m_factory,\n\u001B[1;32m   1284\u001B[0m         timeout\u001B[38;5;241m=\u001B[39mtimeout,\n\u001B[1;32m   1285\u001B[0m         ssl\u001B[38;5;241m=\u001B[39msslcontext,\n\u001B[1;32m   1286\u001B[0m         addr_infos\u001B[38;5;241m=\u001B[39maddr_infos,\n\u001B[1;32m   1287\u001B[0m         server_hostname\u001B[38;5;241m=\u001B[39mserver_hostname,\n\u001B[1;32m   1288\u001B[0m         req\u001B[38;5;241m=\u001B[39mreq,\n\u001B[1;32m   1289\u001B[0m         client_error\u001B[38;5;241m=\u001B[39mclient_error,\n\u001B[1;32m   1290\u001B[0m     )\n\u001B[1;32m   1291\u001B[0m \u001B[38;5;28;01mexcept\u001B[39;00m ClientConnectorError \u001B[38;5;28;01mas\u001B[39;00m exc:\n\u001B[1;32m   1292\u001B[0m     last_exc \u001B[38;5;241m=\u001B[39m exc\n",
      "File \u001B[0;32m~/Documentos/Projects_Software/mosqlimate-client/.venv/lib/python3.12/site-packages/aiohttp/connector.py:1051\u001B[0m, in \u001B[0;36mTCPConnector._wrap_create_connection\u001B[0;34m(self, addr_infos, req, timeout, client_error, *args, **kwargs)\u001B[0m\n\u001B[1;32m   1049\u001B[0m \u001B[38;5;28;01mif\u001B[39;00m exc\u001B[38;5;241m.\u001B[39merrno \u001B[38;5;129;01mis\u001B[39;00m \u001B[38;5;28;01mNone\u001B[39;00m \u001B[38;5;129;01mand\u001B[39;00m \u001B[38;5;28misinstance\u001B[39m(exc, asyncio\u001B[38;5;241m.\u001B[39mTimeoutError):\n\u001B[1;32m   1050\u001B[0m     \u001B[38;5;28;01mraise\u001B[39;00m\n\u001B[0;32m-> 1051\u001B[0m \u001B[38;5;28;01mraise\u001B[39;00m client_error(req\u001B[38;5;241m.\u001B[39mconnection_key, exc) \u001B[38;5;28;01mfrom\u001B[39;00m \u001B[38;5;21;01mexc\u001B[39;00m\n",
      "\u001B[0;31mClientConnectorError\u001B[0m: Cannot connect to host 0.0.0.0:8042 ssl:default [Connect call failed ('0.0.0.0', 8042)]"
     ]
    }
   ],
   "execution_count": 5
  },
  {
   "metadata": {},
   "cell_type": "markdown",
   "source": ""
  },
  {
   "cell_type": "code",
   "metadata": {
    "execution": {
     "iopub.execute_input": "2024-06-17T19:19:48.226112Z",
     "iopub.status.busy": "2024-06-17T19:19:48.225883Z",
     "iopub.status.idle": "2024-06-17T19:19:48.229063Z",
     "shell.execute_reply": "2024-06-17T19:19:48.228790Z",
     "shell.execute_reply.started": "2024-06-17T19:19:48.226102Z"
    },
    "ExecuteTime": {
     "end_time": "2024-08-08T11:55:44.184123Z",
     "start_time": "2024-08-08T11:55:44.181234Z"
    }
   },
   "source": [
    "mosq.get_climate?"
   ],
   "outputs": [],
   "execution_count": 6
  },
  {
   "cell_type": "code",
   "execution_count": 13,
   "metadata": {
    "execution": {
     "iopub.execute_input": "2024-06-17T19:42:58.053050Z",
     "iopub.status.busy": "2024-06-17T19:42:58.052800Z",
     "iopub.status.idle": "2024-06-17T19:43:00.369322Z",
     "shell.execute_reply": "2024-06-17T19:43:00.369132Z",
     "shell.execute_reply.started": "2024-06-17T19:42:58.053040Z"
    }
   },
   "outputs": [
    {
     "data": {
      "text/html": [
       "<div>\n",
       "<style scoped>\n",
       "    .dataframe tbody tr th:only-of-type {\n",
       "        vertical-align: middle;\n",
       "    }\n",
       "\n",
       "    .dataframe tbody tr th {\n",
       "        vertical-align: top;\n",
       "    }\n",
       "\n",
       "    .dataframe thead th {\n",
       "        text-align: right;\n",
       "    }\n",
       "</style>\n",
       "<table border=\"1\" class=\"dataframe\">\n",
       "  <thead>\n",
       "    <tr style=\"text-align: right;\">\n",
       "      <th></th>\n",
       "      <th>date</th>\n",
       "      <th>geocodigo</th>\n",
       "      <th>temp_min</th>\n",
       "      <th>temp_med</th>\n",
       "      <th>temp_max</th>\n",
       "      <th>precip_min</th>\n",
       "      <th>precip_med</th>\n",
       "      <th>precip_max</th>\n",
       "      <th>precip_tot</th>\n",
       "      <th>pressao_min</th>\n",
       "      <th>pressao_med</th>\n",
       "      <th>pressao_max</th>\n",
       "      <th>umid_min</th>\n",
       "      <th>umid_med</th>\n",
       "      <th>umid_max</th>\n",
       "    </tr>\n",
       "  </thead>\n",
       "  <tbody>\n",
       "    <tr>\n",
       "      <th>0</th>\n",
       "      <td>2022-01-01</td>\n",
       "      <td>4108304</td>\n",
       "      <td>22.8711</td>\n",
       "      <td>29.5362</td>\n",
       "      <td>36.7682</td>\n",
       "      <td>0.0</td>\n",
       "      <td>0.0000</td>\n",
       "      <td>0.0000</td>\n",
       "      <td>0.0000</td>\n",
       "      <td>0.9889</td>\n",
       "      <td>0.9917</td>\n",
       "      <td>0.9947</td>\n",
       "      <td>27.0830</td>\n",
       "      <td>55.2855</td>\n",
       "      <td>83.6471</td>\n",
       "    </tr>\n",
       "    <tr>\n",
       "      <th>1</th>\n",
       "      <td>2022-01-02</td>\n",
       "      <td>4108304</td>\n",
       "      <td>24.7786</td>\n",
       "      <td>30.7573</td>\n",
       "      <td>36.9403</td>\n",
       "      <td>0.0</td>\n",
       "      <td>0.0014</td>\n",
       "      <td>0.0111</td>\n",
       "      <td>0.0111</td>\n",
       "      <td>0.9902</td>\n",
       "      <td>0.9924</td>\n",
       "      <td>0.9950</td>\n",
       "      <td>33.5205</td>\n",
       "      <td>50.8008</td>\n",
       "      <td>71.5885</td>\n",
       "    </tr>\n",
       "    <tr>\n",
       "      <th>2</th>\n",
       "      <td>2022-01-03</td>\n",
       "      <td>4108304</td>\n",
       "      <td>24.2343</td>\n",
       "      <td>26.4788</td>\n",
       "      <td>29.7686</td>\n",
       "      <td>0.0</td>\n",
       "      <td>0.0251</td>\n",
       "      <td>0.0608</td>\n",
       "      <td>0.2007</td>\n",
       "      <td>0.9928</td>\n",
       "      <td>0.9947</td>\n",
       "      <td>0.9971</td>\n",
       "      <td>58.1589</td>\n",
       "      <td>68.9117</td>\n",
       "      <td>81.3941</td>\n",
       "    </tr>\n",
       "    <tr>\n",
       "      <th>3</th>\n",
       "      <td>2022-01-04</td>\n",
       "      <td>4108304</td>\n",
       "      <td>22.8258</td>\n",
       "      <td>26.2923</td>\n",
       "      <td>31.2061</td>\n",
       "      <td>0.0</td>\n",
       "      <td>0.4058</td>\n",
       "      <td>1.6451</td>\n",
       "      <td>3.2462</td>\n",
       "      <td>0.9887</td>\n",
       "      <td>0.9915</td>\n",
       "      <td>0.9932</td>\n",
       "      <td>60.9590</td>\n",
       "      <td>77.1783</td>\n",
       "      <td>90.6154</td>\n",
       "    </tr>\n",
       "    <tr>\n",
       "      <th>4</th>\n",
       "      <td>2022-01-05</td>\n",
       "      <td>4108304</td>\n",
       "      <td>22.5479</td>\n",
       "      <td>27.7520</td>\n",
       "      <td>34.1018</td>\n",
       "      <td>0.0</td>\n",
       "      <td>0.0541</td>\n",
       "      <td>0.2687</td>\n",
       "      <td>0.4329</td>\n",
       "      <td>0.9898</td>\n",
       "      <td>0.9914</td>\n",
       "      <td>0.9935</td>\n",
       "      <td>39.6912</td>\n",
       "      <td>71.6645</td>\n",
       "      <td>95.2108</td>\n",
       "    </tr>\n",
       "  </tbody>\n",
       "</table>\n",
       "</div>"
      ],
      "text/plain": [
       "         date  geocodigo  temp_min  temp_med  temp_max  precip_min  \\\n",
       "0  2022-01-01    4108304   22.8711   29.5362   36.7682         0.0   \n",
       "1  2022-01-02    4108304   24.7786   30.7573   36.9403         0.0   \n",
       "2  2022-01-03    4108304   24.2343   26.4788   29.7686         0.0   \n",
       "3  2022-01-04    4108304   22.8258   26.2923   31.2061         0.0   \n",
       "4  2022-01-05    4108304   22.5479   27.7520   34.1018         0.0   \n",
       "\n",
       "   precip_med  precip_max  precip_tot  pressao_min  pressao_med  pressao_max  \\\n",
       "0      0.0000      0.0000      0.0000       0.9889       0.9917       0.9947   \n",
       "1      0.0014      0.0111      0.0111       0.9902       0.9924       0.9950   \n",
       "2      0.0251      0.0608      0.2007       0.9928       0.9947       0.9971   \n",
       "3      0.4058      1.6451      3.2462       0.9887       0.9915       0.9932   \n",
       "4      0.0541      0.2687      0.4329       0.9898       0.9914       0.9935   \n",
       "\n",
       "   umid_min  umid_med  umid_max  \n",
       "0   27.0830   55.2855   83.6471  \n",
       "1   33.5205   50.8008   71.5885  \n",
       "2   58.1589   68.9117   81.3941  \n",
       "3   60.9590   77.1783   90.6154  \n",
       "4   39.6912   71.6645   95.2108  "
      ]
     },
     "execution_count": 13,
     "metadata": {},
     "output_type": "execute_result"
    }
   ],
   "source": [
    "data = mosq.get_climate(\n",
    "    start_date = \"2022-01-01\",\n",
    "    end_date = \"2023-01-01\", \n",
    "    uf = 'PR', \n",
    "    geocode = 4108304)\n",
    "\n",
    "data.head()"
   ]
  },
  {
   "cell_type": "code",
   "execution_count": null,
   "metadata": {},
   "outputs": [],
   "source": []
  }
 ],
 "metadata": {
  "kernelspec": {
   "display_name": "Python 3 (ipykernel)",
   "language": "python",
   "name": "python3"
  },
  "language_info": {
   "codemirror_mode": {
    "name": "ipython",
    "version": 3
   },
   "file_extension": ".py",
   "mimetype": "text/x-python",
   "name": "python",
   "nbconvert_exporter": "python",
   "pygments_lexer": "ipython3",
   "version": "3.12.3"
  }
 },
 "nbformat": 4,
 "nbformat_minor": 4
}
