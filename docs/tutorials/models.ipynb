{
 "cells": [
  {
   "cell_type": "markdown",
   "metadata": {},
   "source": [
    "In this notebook it will be provide examples about how the `mosqlient` package can be used to get and post models on the platform. This is done using the class `Model` imported in the cell below. "
   ]
  },
  {
   "cell_type": "code",
   "execution_count": 1,
   "metadata": {},
   "source": [
    "from mosqlient.registry import Model"
   ],
   "outputs": []
  },
  {
   "cell_type": "markdown",
   "metadata": {},
   "source": [
    "### Get models\n",
    "\n",
    "To obtain a list of the models saved on the platform it can be used the  class method `get()`. To use this method is not necessary to provide your API key. This method accept any of the parameters below: \n",
    "\n",
    " - `id`: (int, str),\n",
    " - `name`: str,\n",
    " - `description`: str,\n",
    " - `author_name`: str,\n",
    " - `author_username`: str,\n",
    " - `author_institution`: str,\n",
    " - `repository`: str,\n",
    " - `implementation_language`: str,\n",
    " - `disease`: str,\n",
    " - `ADM_level`: (str, int),\n",
    " - `temporal`: bool,\n",
    " - `spatial`: bool,\n",
    " - `categorical`: bool,\n",
    " - `time_resolution`: str\n",
    "\n",
    " If any parameter is provided the method will return all the models registered on the platform. \n"
   ]
  },
  {
   "cell_type": "code",
   "execution_count": 6,
   "metadata": {},
   "source": [
    "list_of_models = Model.get()\n",
    "\n",
    "print('Number of models returned:', len(list_of_models))"
   ],
   "outputs": []
  },
  {
   "cell_type": "code",
   "execution_count": 7,
   "metadata": {},
   "source": [
    "list_of_models[0]"
   ],
   "outputs": []
  },
  {
   "cell_type": "markdown",
   "metadata": {},
   "source": [
    "Otherwise, if you provide values as parameters in the method it will return just the models that match the value of the parameters, for example, searching by a specific `id` returns: "
   ]
  },
  {
   "cell_type": "code",
   "execution_count": 8,
   "metadata": {},
   "source": [
    "list_of_models = Model.get(id =10)\n",
    "\n",
    "print('Number of models returned:', len(list_of_models))"
   ],
   "outputs": []
  },
  {
   "cell_type": "code",
   "execution_count": 9,
   "metadata": {},
   "source": [
    "list_of_models[0]"
   ],
   "outputs": []
  },
  {
   "cell_type": "markdown",
   "metadata": {},
   "source": [
    "### Post models\n",
    "\n",
    "To use the post method to upload a model on the platform is necessary to provide your API-KEY, and fill the following information about your models:\n",
    "\n",
    "- `name`: str,\n",
    "- `description`: str,\n",
    "- `repository`: str,\n",
    "- `implementation_language`: str,\n",
    "- `disease`: Literal[\"dengue\", \"chikungunya\", \"zika\"],\n",
    "- `temporal`: bool,\n",
    "- `spatial`: bool,\n",
    "- `categorical`: bool,\n",
    "- `adm_level`: Literal[0, 1, 2, 3],\n",
    "- `time_resolution`: Literal[\"day\", \"week\", \"month\", \"year\"]\n",
    "        \n",
    "Look at the example in the cell below: "
   ]
  },
  {
   "cell_type": "code",
   "execution_count": 2,
   "metadata": {},
   "source": [
    "import os\n",
    "from mosqlient import Client \n",
    "\n",
    "# https://api.mosqlimate.org/docs/registry/POST/uid-key/\n",
    "client = Client(\"<USER>:<API-KEY>\", \"dev\")\n",
    "\n",
    "name = 'test model'\n",
    "description = 'This example model is based on the X methodoly, uses as input the Y variables to predict Z.'\n",
    "repository =  'https://github.com/eduardocorrearaujo/teste_repo.git'\n",
    "implementation_language = 'Python'\n",
    "disease= \"dengue\"\n",
    "temporal= True\n",
    "spatial= False\n",
    "categorical= False\n",
    "adm_level = 1\n",
    "time_resolution =  \"month\"\n",
    "\n",
    "Model(client=client).post(\n",
    "        name = name,\n",
    "        description = description,\n",
    "        repository = repository,\n",
    "        implementation_language = implementation_language,\n",
    "        disease = disease,\n",
    "        temporal = temporal,\n",
    "        spatial= spatial,\n",
    "        categorical = categorical,\n",
    "        adm_level = adm_level,\n",
    "        time_resolution = time_resolution)"
   ],
   "outputs": []
  },
  {
   "cell_type": "code",
   "execution_count": null,
   "metadata": {},
   "source": [
    "import os\n",
    "from dotenv import load_dotenv\n",
    "\n",
    "# Load environment variables from .env file\n",
    "load_dotenv()"
   ],
   "outputs": []
  }
 ],
 "metadata": {
  "kernelspec": {
   "display_name": "Python 3 (ipykernel)",
   "language": "python",
   "name": "python3"
  },
  "language_info": {
   "codemirror_mode": {
    "name": "ipython",
    "version": 3
   },
   "file_extension": ".py",
   "mimetype": "text/x-python",
   "name": "python",
   "nbconvert_exporter": "python",
   "pygments_lexer": "ipython3",
   "version": "3.12.3"
  }
 },
 "nbformat": 4,
 "nbformat_minor": 4
}
