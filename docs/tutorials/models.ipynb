{
 "cells": [
  {
   "cell_type": "markdown",
   "metadata": {},
   "source": [
    "# Getting and posting models\n",
    "In this notebook it will be provide examples about how the `mosqlient` package can be used to get and post models on the platform. This is done using the class `Model` imported in the cell below. "
   ]
  },
  {
   "cell_type": "code",
   "metadata": {
    "ExecuteTime": {
     "end_time": "2024-08-09T14:08:32.518040Z",
     "start_time": "2024-08-09T14:08:32.516540Z"
    }
   },
   "source": [
    "from mosqlient.registry import Model\n",
    "import mosqlient as mosq"
   ],
   "outputs": [],
   "execution_count": 4
  },
  {
   "cell_type": "markdown",
   "metadata": {},
   "source": [
    "### Get models\n",
    "\n",
    "To obtain a list of the models saved on the platform it can be used the  class method `get()`. To use this method is not necessary to provide your API key. This method accept any of the parameters below: \n",
    "\n",
    " - `id`: (int, str),\n",
    " - `name`: str,\n",
    " - `description`: str,\n",
    " - `author_name`: str,\n",
    " - `author_username`: str,\n",
    " - `author_institution`: str,\n",
    " - `repository`: str,\n",
    " - `implementation_language`: str,\n",
    " - `disease`: str,\n",
    " - `ADM_level`: (str, int),\n",
    " - `temporal`: bool,\n",
    " - `spatial`: bool,\n",
    " - `categorical`: bool,\n",
    " - `time_resolution`: str\n",
    "\n",
    " If any parameter is provided the method will return all the models registered on the platform. \n"
   ]
  },
  {
   "metadata": {
    "ExecuteTime": {
     "end_time": "2024-08-09T14:08:45.940488Z",
     "start_time": "2024-08-09T14:08:45.937404Z"
    }
   },
   "cell_type": "code",
   "source": "mosq.__version__",
   "outputs": [
    {
     "data": {
      "text/plain": [
       "'0.1.0'"
      ]
     },
     "execution_count": 6,
     "metadata": {},
     "output_type": "execute_result"
    }
   ],
   "execution_count": 6
  },
  {
   "cell_type": "code",
   "metadata": {
    "ExecuteTime": {
     "end_time": "2024-08-09T14:04:44.837274Z",
     "start_time": "2024-08-09T14:04:44.503018Z"
    }
   },
   "source": [
    "list_of_models = Model.get()\n",
    "\n",
    "print('Number of models returned:', len(list_of_models))"
   ],
   "outputs": [
    {
     "ename": "ClientConnectorError",
     "evalue": "Cannot connect to host 0.0.0.0:8042 ssl:default [Connect call failed ('0.0.0.0', 8042)]",
     "output_type": "error",
     "traceback": [
      "\u001B[0;31m---------------------------------------------------------------------------\u001B[0m",
      "\u001B[0;31mConnectionRefusedError\u001B[0m                    Traceback (most recent call last)",
      "File \u001B[0;32m~/Documentos/Projects_Software/mosqlimate-client/.venv/lib/python3.12/site-packages/aiohttp/connector.py:1049\u001B[0m, in \u001B[0;36mTCPConnector._wrap_create_connection\u001B[0;34m(self, addr_infos, req, timeout, client_error, *args, **kwargs)\u001B[0m\n\u001B[1;32m   1046\u001B[0m \u001B[38;5;28;01masync\u001B[39;00m \u001B[38;5;28;01mwith\u001B[39;00m ceil_timeout(\n\u001B[1;32m   1047\u001B[0m     timeout\u001B[38;5;241m.\u001B[39msock_connect, ceil_threshold\u001B[38;5;241m=\u001B[39mtimeout\u001B[38;5;241m.\u001B[39mceil_threshold\n\u001B[1;32m   1048\u001B[0m ):\n\u001B[0;32m-> 1049\u001B[0m     sock \u001B[38;5;241m=\u001B[39m \u001B[38;5;28;01mawait\u001B[39;00m aiohappyeyeballs\u001B[38;5;241m.\u001B[39mstart_connection(\n\u001B[1;32m   1050\u001B[0m         addr_infos\u001B[38;5;241m=\u001B[39maddr_infos,\n\u001B[1;32m   1051\u001B[0m         local_addr_infos\u001B[38;5;241m=\u001B[39m\u001B[38;5;28mself\u001B[39m\u001B[38;5;241m.\u001B[39m_local_addr_infos,\n\u001B[1;32m   1052\u001B[0m         happy_eyeballs_delay\u001B[38;5;241m=\u001B[39m\u001B[38;5;28mself\u001B[39m\u001B[38;5;241m.\u001B[39m_happy_eyeballs_delay,\n\u001B[1;32m   1053\u001B[0m         interleave\u001B[38;5;241m=\u001B[39m\u001B[38;5;28mself\u001B[39m\u001B[38;5;241m.\u001B[39m_interleave,\n\u001B[1;32m   1054\u001B[0m         loop\u001B[38;5;241m=\u001B[39m\u001B[38;5;28mself\u001B[39m\u001B[38;5;241m.\u001B[39m_loop,\n\u001B[1;32m   1055\u001B[0m     )\n\u001B[1;32m   1056\u001B[0m     \u001B[38;5;28;01mreturn\u001B[39;00m \u001B[38;5;28;01mawait\u001B[39;00m \u001B[38;5;28mself\u001B[39m\u001B[38;5;241m.\u001B[39m_loop\u001B[38;5;241m.\u001B[39mcreate_connection(\u001B[38;5;241m*\u001B[39margs, \u001B[38;5;241m*\u001B[39m\u001B[38;5;241m*\u001B[39mkwargs, sock\u001B[38;5;241m=\u001B[39msock)\n",
      "File \u001B[0;32m~/Documentos/Projects_Software/mosqlimate-client/.venv/lib/python3.12/site-packages/aiohappyeyeballs/impl.py:104\u001B[0m, in \u001B[0;36mstart_connection\u001B[0;34m(addr_infos, local_addr_infos, happy_eyeballs_delay, interleave, loop)\u001B[0m\n\u001B[1;32m    103\u001B[0m \u001B[38;5;28;01mif\u001B[39;00m \u001B[38;5;28mlen\u001B[39m(all_exceptions) \u001B[38;5;241m==\u001B[39m \u001B[38;5;241m1\u001B[39m:\n\u001B[0;32m--> 104\u001B[0m     \u001B[38;5;28;01mraise\u001B[39;00m first_exception\n\u001B[1;32m    105\u001B[0m \u001B[38;5;28;01melse\u001B[39;00m:\n\u001B[1;32m    106\u001B[0m     \u001B[38;5;66;03m# If they all have the same str(), raise one.\u001B[39;00m\n",
      "File \u001B[0;32m~/Documentos/Projects_Software/mosqlimate-client/.venv/lib/python3.12/site-packages/aiohappyeyeballs/impl.py:81\u001B[0m, in \u001B[0;36mstart_connection\u001B[0;34m(addr_infos, local_addr_infos, happy_eyeballs_delay, interleave, loop)\u001B[0m\n\u001B[1;32m     80\u001B[0m \u001B[38;5;28;01mtry\u001B[39;00m:\n\u001B[0;32m---> 81\u001B[0m     sock \u001B[38;5;241m=\u001B[39m \u001B[38;5;28;01mawait\u001B[39;00m _connect_sock(\n\u001B[1;32m     82\u001B[0m         current_loop, exceptions, addrinfo, local_addr_infos\n\u001B[1;32m     83\u001B[0m     )\n\u001B[1;32m     84\u001B[0m     \u001B[38;5;28;01mbreak\u001B[39;00m\n",
      "File \u001B[0;32m~/Documentos/Projects_Software/mosqlimate-client/.venv/lib/python3.12/site-packages/aiohappyeyeballs/impl.py:166\u001B[0m, in \u001B[0;36m_connect_sock\u001B[0;34m(loop, exceptions, addr_info, local_addr_infos)\u001B[0m\n\u001B[1;32m    165\u001B[0m             \u001B[38;5;28;01mraise\u001B[39;00m \u001B[38;5;167;01mOSError\u001B[39;00m(\u001B[38;5;124mf\u001B[39m\u001B[38;5;124m\"\u001B[39m\u001B[38;5;124mno matching local address with \u001B[39m\u001B[38;5;132;01m{\u001B[39;00mfamily\u001B[38;5;132;01m=}\u001B[39;00m\u001B[38;5;124m found\u001B[39m\u001B[38;5;124m\"\u001B[39m)\n\u001B[0;32m--> 166\u001B[0m \u001B[38;5;28;01mawait\u001B[39;00m loop\u001B[38;5;241m.\u001B[39msock_connect(sock, address)\n\u001B[1;32m    167\u001B[0m \u001B[38;5;28;01mreturn\u001B[39;00m sock\n",
      "File \u001B[0;32m/usr/lib/python3.12/asyncio/selector_events.py:651\u001B[0m, in \u001B[0;36mBaseSelectorEventLoop.sock_connect\u001B[0;34m(self, sock, address)\u001B[0m\n\u001B[1;32m    650\u001B[0m \u001B[38;5;28;01mtry\u001B[39;00m:\n\u001B[0;32m--> 651\u001B[0m     \u001B[38;5;28;01mreturn\u001B[39;00m \u001B[38;5;28;01mawait\u001B[39;00m fut\n\u001B[1;32m    652\u001B[0m \u001B[38;5;28;01mfinally\u001B[39;00m:\n\u001B[1;32m    653\u001B[0m     \u001B[38;5;66;03m# Needed to break cycles when an exception occurs.\u001B[39;00m\n",
      "File \u001B[0;32m/usr/lib/python3.12/asyncio/futures.py:287\u001B[0m, in \u001B[0;36mFuture.__await__\u001B[0;34m(self)\u001B[0m\n\u001B[1;32m    286\u001B[0m     \u001B[38;5;28mself\u001B[39m\u001B[38;5;241m.\u001B[39m_asyncio_future_blocking \u001B[38;5;241m=\u001B[39m \u001B[38;5;28;01mTrue\u001B[39;00m\n\u001B[0;32m--> 287\u001B[0m     \u001B[38;5;28;01myield\u001B[39;00m \u001B[38;5;28mself\u001B[39m  \u001B[38;5;66;03m# This tells Task to wait for completion.\u001B[39;00m\n\u001B[1;32m    288\u001B[0m \u001B[38;5;28;01mif\u001B[39;00m \u001B[38;5;129;01mnot\u001B[39;00m \u001B[38;5;28mself\u001B[39m\u001B[38;5;241m.\u001B[39mdone():\n",
      "File \u001B[0;32m/usr/lib/python3.12/asyncio/tasks.py:385\u001B[0m, in \u001B[0;36mTask.__wakeup\u001B[0;34m(self, future)\u001B[0m\n\u001B[1;32m    384\u001B[0m \u001B[38;5;28;01mtry\u001B[39;00m:\n\u001B[0;32m--> 385\u001B[0m     \u001B[43mfuture\u001B[49m\u001B[38;5;241;43m.\u001B[39;49m\u001B[43mresult\u001B[49m\u001B[43m(\u001B[49m\u001B[43m)\u001B[49m\n\u001B[1;32m    386\u001B[0m \u001B[38;5;28;01mexcept\u001B[39;00m \u001B[38;5;167;01mBaseException\u001B[39;00m \u001B[38;5;28;01mas\u001B[39;00m exc:\n\u001B[1;32m    387\u001B[0m     \u001B[38;5;66;03m# This may also be a cancellation.\u001B[39;00m\n",
      "File \u001B[0;32m/usr/lib/python3.12/asyncio/futures.py:203\u001B[0m, in \u001B[0;36mFuture.result\u001B[0;34m(self)\u001B[0m\n\u001B[1;32m    202\u001B[0m \u001B[38;5;28;01mif\u001B[39;00m \u001B[38;5;28mself\u001B[39m\u001B[38;5;241m.\u001B[39m_exception \u001B[38;5;129;01mis\u001B[39;00m \u001B[38;5;129;01mnot\u001B[39;00m \u001B[38;5;28;01mNone\u001B[39;00m:\n\u001B[0;32m--> 203\u001B[0m     \u001B[38;5;28;01mraise\u001B[39;00m \u001B[38;5;28mself\u001B[39m\u001B[38;5;241m.\u001B[39m_exception\u001B[38;5;241m.\u001B[39mwith_traceback(\u001B[38;5;28mself\u001B[39m\u001B[38;5;241m.\u001B[39m_exception_tb)\n\u001B[1;32m    204\u001B[0m \u001B[38;5;28;01mreturn\u001B[39;00m \u001B[38;5;28mself\u001B[39m\u001B[38;5;241m.\u001B[39m_result\n",
      "File \u001B[0;32m/usr/lib/python3.12/asyncio/selector_events.py:691\u001B[0m, in \u001B[0;36mBaseSelectorEventLoop._sock_connect_cb\u001B[0;34m(self, fut, sock, address)\u001B[0m\n\u001B[1;32m    689\u001B[0m     \u001B[38;5;28;01mif\u001B[39;00m err \u001B[38;5;241m!=\u001B[39m \u001B[38;5;241m0\u001B[39m:\n\u001B[1;32m    690\u001B[0m         \u001B[38;5;66;03m# Jump to any except clause below.\u001B[39;00m\n\u001B[0;32m--> 691\u001B[0m         \u001B[38;5;28;01mraise\u001B[39;00m \u001B[38;5;167;01mOSError\u001B[39;00m(err, \u001B[38;5;124mf\u001B[39m\u001B[38;5;124m'\u001B[39m\u001B[38;5;124mConnect call failed \u001B[39m\u001B[38;5;132;01m{\u001B[39;00maddress\u001B[38;5;132;01m}\u001B[39;00m\u001B[38;5;124m'\u001B[39m)\n\u001B[1;32m    692\u001B[0m \u001B[38;5;28;01mexcept\u001B[39;00m (\u001B[38;5;167;01mBlockingIOError\u001B[39;00m, \u001B[38;5;167;01mInterruptedError\u001B[39;00m):\n\u001B[1;32m    693\u001B[0m     \u001B[38;5;66;03m# socket is still registered, the callback will be retried later\u001B[39;00m\n",
      "\u001B[0;31mConnectionRefusedError\u001B[0m: [Errno 111] Connect call failed ('0.0.0.0', 8042)",
      "\nThe above exception was the direct cause of the following exception:\n",
      "\u001B[0;31mClientConnectorError\u001B[0m                      Traceback (most recent call last)",
      "Cell \u001B[0;32mIn[2], line 1\u001B[0m\n\u001B[0;32m----> 1\u001B[0m list_of_models \u001B[38;5;241m=\u001B[39m \u001B[43mModel\u001B[49m\u001B[38;5;241;43m.\u001B[39;49m\u001B[43mget\u001B[49m\u001B[43m(\u001B[49m\u001B[43m)\u001B[49m\n\u001B[1;32m      3\u001B[0m \u001B[38;5;28mprint\u001B[39m(\u001B[38;5;124m'\u001B[39m\u001B[38;5;124mNumber of models returned:\u001B[39m\u001B[38;5;124m'\u001B[39m, \u001B[38;5;28mlen\u001B[39m(list_of_models))\n",
      "File \u001B[0;32m~/Documentos/Projects_Software/mosqlimate-client/mosqlient/registry/models.py:256\u001B[0m, in \u001B[0;36mModel.get\u001B[0;34m(cls, **kwargs)\u001B[0m\n\u001B[1;32m    252\u001B[0m ModelGETParams(\u001B[38;5;241m*\u001B[39m\u001B[38;5;241m*\u001B[39mkwargs)\n\u001B[1;32m    253\u001B[0m params \u001B[38;5;241m=\u001B[39m parse_params(\u001B[38;5;241m*\u001B[39m\u001B[38;5;241m*\u001B[39mkwargs)\n\u001B[1;32m    255\u001B[0m \u001B[38;5;28;01mreturn\u001B[39;00m [\n\u001B[0;32m--> 256\u001B[0m     Model(\u001B[38;5;241m*\u001B[39m\u001B[38;5;241m*\u001B[39mm) \u001B[38;5;28;01mfor\u001B[39;00m m \u001B[38;5;129;01min\u001B[39;00m \u001B[43mget_all_sync\u001B[49m\u001B[43m(\u001B[49m\n\u001B[1;32m    257\u001B[0m \u001B[43m        \u001B[49m\u001B[43mapp\u001B[49m\u001B[38;5;241;43m=\u001B[39;49m\u001B[38;5;124;43m\"\u001B[39;49m\u001B[38;5;124;43mregistry\u001B[39;49m\u001B[38;5;124;43m\"\u001B[39;49m\u001B[43m,\u001B[49m\n\u001B[1;32m    258\u001B[0m \u001B[43m        \u001B[49m\u001B[43mendpoint\u001B[49m\u001B[38;5;241;43m=\u001B[39;49m\u001B[38;5;124;43m\"\u001B[39;49m\u001B[38;5;124;43mmodels\u001B[39;49m\u001B[38;5;124;43m\"\u001B[39;49m\u001B[43m,\u001B[49m\n\u001B[1;32m    259\u001B[0m \u001B[43m        \u001B[49m\u001B[43mparams\u001B[49m\u001B[38;5;241;43m=\u001B[39;49m\u001B[43mparams\u001B[49m\u001B[43m,\u001B[49m\n\u001B[1;32m    260\u001B[0m \u001B[43m        \u001B[49m\u001B[43mpagination\u001B[49m\u001B[38;5;241;43m=\u001B[39;49m\u001B[38;5;28;43;01mTrue\u001B[39;49;00m\u001B[43m,\u001B[49m\n\u001B[1;32m    261\u001B[0m \u001B[43m        \u001B[49m\u001B[43mtimeout\u001B[49m\u001B[38;5;241;43m=\u001B[39;49m\u001B[43mtimeout\u001B[49m\n\u001B[1;32m    262\u001B[0m \u001B[43m    \u001B[49m\u001B[43m)\u001B[49m\n\u001B[1;32m    263\u001B[0m ]\n",
      "File \u001B[0;32m~/Documentos/Projects_Software/mosqlimate-client/mosqlient/requests.py:132\u001B[0m, in \u001B[0;36mget_all_sync\u001B[0;34m(app, endpoint, params, timeout, pagination, _max_per_page)\u001B[0m\n\u001B[1;32m    130\u001B[0m     loop \u001B[38;5;241m=\u001B[39m asyncio\u001B[38;5;241m.\u001B[39mget_event_loop()\n\u001B[1;32m    131\u001B[0m     future \u001B[38;5;241m=\u001B[39m asyncio\u001B[38;5;241m.\u001B[39mensure_future(fetch_all())\n\u001B[0;32m--> 132\u001B[0m     \u001B[38;5;28;01mreturn\u001B[39;00m \u001B[43mloop\u001B[49m\u001B[38;5;241;43m.\u001B[39;49m\u001B[43mrun_until_complete\u001B[49m\u001B[43m(\u001B[49m\u001B[43mfuture\u001B[49m\u001B[43m)\u001B[49m\n\u001B[1;32m    133\u001B[0m \u001B[38;5;28;01mreturn\u001B[39;00m asyncio\u001B[38;5;241m.\u001B[39mrun(fetch_all())\n",
      "File \u001B[0;32m~/Documentos/Projects_Software/mosqlimate-client/.venv/lib/python3.12/site-packages/nest_asyncio.py:98\u001B[0m, in \u001B[0;36m_patch_loop.<locals>.run_until_complete\u001B[0;34m(self, future)\u001B[0m\n\u001B[1;32m     95\u001B[0m \u001B[38;5;28;01mif\u001B[39;00m \u001B[38;5;129;01mnot\u001B[39;00m f\u001B[38;5;241m.\u001B[39mdone():\n\u001B[1;32m     96\u001B[0m     \u001B[38;5;28;01mraise\u001B[39;00m \u001B[38;5;167;01mRuntimeError\u001B[39;00m(\n\u001B[1;32m     97\u001B[0m         \u001B[38;5;124m'\u001B[39m\u001B[38;5;124mEvent loop stopped before Future completed.\u001B[39m\u001B[38;5;124m'\u001B[39m)\n\u001B[0;32m---> 98\u001B[0m \u001B[38;5;28;01mreturn\u001B[39;00m \u001B[43mf\u001B[49m\u001B[38;5;241;43m.\u001B[39;49m\u001B[43mresult\u001B[49m\u001B[43m(\u001B[49m\u001B[43m)\u001B[49m\n",
      "File \u001B[0;32m/usr/lib/python3.12/asyncio/futures.py:203\u001B[0m, in \u001B[0;36mFuture.result\u001B[0;34m(self)\u001B[0m\n\u001B[1;32m    201\u001B[0m \u001B[38;5;28mself\u001B[39m\u001B[38;5;241m.\u001B[39m__log_traceback \u001B[38;5;241m=\u001B[39m \u001B[38;5;28;01mFalse\u001B[39;00m\n\u001B[1;32m    202\u001B[0m \u001B[38;5;28;01mif\u001B[39;00m \u001B[38;5;28mself\u001B[39m\u001B[38;5;241m.\u001B[39m_exception \u001B[38;5;129;01mis\u001B[39;00m \u001B[38;5;129;01mnot\u001B[39;00m \u001B[38;5;28;01mNone\u001B[39;00m:\n\u001B[0;32m--> 203\u001B[0m     \u001B[38;5;28;01mraise\u001B[39;00m \u001B[38;5;28mself\u001B[39m\u001B[38;5;241m.\u001B[39m_exception\u001B[38;5;241m.\u001B[39mwith_traceback(\u001B[38;5;28mself\u001B[39m\u001B[38;5;241m.\u001B[39m_exception_tb)\n\u001B[1;32m    204\u001B[0m \u001B[38;5;28;01mreturn\u001B[39;00m \u001B[38;5;28mself\u001B[39m\u001B[38;5;241m.\u001B[39m_result\n",
      "File \u001B[0;32m/usr/lib/python3.12/asyncio/tasks.py:314\u001B[0m, in \u001B[0;36mTask.__step_run_and_handle_result\u001B[0;34m(***failed resolving arguments***)\u001B[0m\n\u001B[1;32m    310\u001B[0m \u001B[38;5;28;01mtry\u001B[39;00m:\n\u001B[1;32m    311\u001B[0m     \u001B[38;5;28;01mif\u001B[39;00m exc \u001B[38;5;129;01mis\u001B[39;00m \u001B[38;5;28;01mNone\u001B[39;00m:\n\u001B[1;32m    312\u001B[0m         \u001B[38;5;66;03m# We use the `send` method directly, because coroutines\u001B[39;00m\n\u001B[1;32m    313\u001B[0m         \u001B[38;5;66;03m# don't have `__iter__` and `__next__` methods.\u001B[39;00m\n\u001B[0;32m--> 314\u001B[0m         result \u001B[38;5;241m=\u001B[39m \u001B[43mcoro\u001B[49m\u001B[38;5;241;43m.\u001B[39;49m\u001B[43msend\u001B[49m\u001B[43m(\u001B[49m\u001B[38;5;28;43;01mNone\u001B[39;49;00m\u001B[43m)\u001B[49m\n\u001B[1;32m    315\u001B[0m     \u001B[38;5;28;01melse\u001B[39;00m:\n\u001B[1;32m    316\u001B[0m         result \u001B[38;5;241m=\u001B[39m coro\u001B[38;5;241m.\u001B[39mthrow(exc)\n",
      "File \u001B[0;32m~/Documentos/Projects_Software/mosqlimate-client/mosqlient/requests.py:121\u001B[0m, in \u001B[0;36mget_all_sync.<locals>.fetch_all\u001B[0;34m()\u001B[0m\n\u001B[1;32m    120\u001B[0m \u001B[38;5;28;01masync\u001B[39;00m \u001B[38;5;28;01mdef\u001B[39;00m \u001B[38;5;21mfetch_all\u001B[39m():\n\u001B[0;32m--> 121\u001B[0m     \u001B[38;5;28;01mreturn\u001B[39;00m \u001B[38;5;28;01mawait\u001B[39;00m get_all(\n\u001B[1;32m    122\u001B[0m         app\u001B[38;5;241m=\u001B[39mapp,\n\u001B[1;32m    123\u001B[0m         endpoint\u001B[38;5;241m=\u001B[39mendpoint,\n\u001B[1;32m    124\u001B[0m         params\u001B[38;5;241m=\u001B[39mparams,\n\u001B[1;32m    125\u001B[0m         timeout\u001B[38;5;241m=\u001B[39mtimeout,\n\u001B[1;32m    126\u001B[0m         pagination\u001B[38;5;241m=\u001B[39mpagination\n\u001B[1;32m    127\u001B[0m     )\n",
      "File \u001B[0;32m~/Documentos/Projects_Software/mosqlimate-client/mosqlient/requests.py:78\u001B[0m, in \u001B[0;36mget_all\u001B[0;34m(app, endpoint, params, timeout, pagination, _max_per_page)\u001B[0m\n\u001B[1;32m     75\u001B[0m url \u001B[38;5;241m=\u001B[39m urljoin(get_api_url(), \u001B[38;5;124m\"\u001B[39m\u001B[38;5;124m/\u001B[39m\u001B[38;5;124m\"\u001B[39m\u001B[38;5;241m.\u001B[39mjoin((\u001B[38;5;28mstr\u001B[39m(app), \u001B[38;5;28mstr\u001B[39m(endpoint)))) \u001B[38;5;241m+\u001B[39m \u001B[38;5;124m\"\u001B[39m\u001B[38;5;124m/?\u001B[39m\u001B[38;5;124m\"\u001B[39m\n\u001B[1;32m     77\u001B[0m \u001B[38;5;28;01masync\u001B[39;00m \u001B[38;5;28;01mwith\u001B[39;00m aiohttp\u001B[38;5;241m.\u001B[39mClientSession() \u001B[38;5;28;01mas\u001B[39;00m session:\n\u001B[0;32m---> 78\u001B[0m     first_page \u001B[38;5;241m=\u001B[39m \u001B[38;5;28;01mawait\u001B[39;00m aget(session, url, params)\n\u001B[1;32m     80\u001B[0m \u001B[38;5;28;01mif\u001B[39;00m \u001B[38;5;129;01mnot\u001B[39;00m pagination:\n\u001B[1;32m     81\u001B[0m     \u001B[38;5;28;01mreturn\u001B[39;00m first_page\n",
      "File \u001B[0;32m~/Documentos/Projects_Software/mosqlimate-client/mosqlient/requests.py:44\u001B[0m, in \u001B[0;36maget\u001B[0;34m(session, url, params, timeout, retries)\u001B[0m\n\u001B[1;32m     42\u001B[0m \u001B[38;5;28;01mif\u001B[39;00m retries \u001B[38;5;241m<\u001B[39m \u001B[38;5;241m0\u001B[39m:\n\u001B[1;32m     43\u001B[0m     \u001B[38;5;28;01mraise\u001B[39;00m aiohttp\u001B[38;5;241m.\u001B[39mClientConnectionError(\u001B[38;5;124m\"\u001B[39m\u001B[38;5;124mToo many attempts\u001B[39m\u001B[38;5;124m\"\u001B[39m)\n\u001B[0;32m---> 44\u001B[0m \u001B[38;5;28;01masync\u001B[39;00m \u001B[38;5;28;01mwith\u001B[39;00m session\u001B[38;5;241m.\u001B[39mget(url, params\u001B[38;5;241m=\u001B[39mparams, timeout\u001B[38;5;241m=\u001B[39mtimeout) \u001B[38;5;28;01mas\u001B[39;00m res:\n\u001B[1;32m     45\u001B[0m     \u001B[38;5;28;01mif\u001B[39;00m res\u001B[38;5;241m.\u001B[39mstatus \u001B[38;5;241m==\u001B[39m \u001B[38;5;241m200\u001B[39m:\n\u001B[1;32m     46\u001B[0m         \u001B[38;5;28;01mreturn\u001B[39;00m \u001B[38;5;28;01mawait\u001B[39;00m res\u001B[38;5;241m.\u001B[39mjson()\n",
      "File \u001B[0;32m~/Documentos/Projects_Software/mosqlimate-client/.venv/lib/python3.12/site-packages/aiohttp/client.py:1353\u001B[0m, in \u001B[0;36m_BaseRequestContextManager.__aenter__\u001B[0;34m(self)\u001B[0m\n\u001B[1;32m   1352\u001B[0m \u001B[38;5;28;01masync\u001B[39;00m \u001B[38;5;28;01mdef\u001B[39;00m \u001B[38;5;21m__aenter__\u001B[39m(\u001B[38;5;28mself\u001B[39m) \u001B[38;5;241m-\u001B[39m\u001B[38;5;241m>\u001B[39m _RetType:\n\u001B[0;32m-> 1353\u001B[0m     \u001B[38;5;28mself\u001B[39m\u001B[38;5;241m.\u001B[39m_resp \u001B[38;5;241m=\u001B[39m \u001B[38;5;28;01mawait\u001B[39;00m \u001B[38;5;28mself\u001B[39m\u001B[38;5;241m.\u001B[39m_coro\n\u001B[1;32m   1354\u001B[0m     \u001B[38;5;28;01mreturn\u001B[39;00m \u001B[38;5;28mself\u001B[39m\u001B[38;5;241m.\u001B[39m_resp\n",
      "File \u001B[0;32m~/Documentos/Projects_Software/mosqlimate-client/.venv/lib/python3.12/site-packages/aiohttp/client.py:657\u001B[0m, in \u001B[0;36mClientSession._request\u001B[0;34m(self, method, str_or_url, params, data, json, cookies, headers, skip_auto_headers, auth, allow_redirects, max_redirects, compress, chunked, expect100, raise_for_status, read_until_eof, proxy, proxy_auth, timeout, verify_ssl, fingerprint, ssl_context, ssl, server_hostname, proxy_headers, trace_request_ctx, read_bufsize, auto_decompress, max_line_size, max_field_size)\u001B[0m\n\u001B[1;32m    652\u001B[0m \u001B[38;5;28;01mtry\u001B[39;00m:\n\u001B[1;32m    653\u001B[0m     \u001B[38;5;28;01masync\u001B[39;00m \u001B[38;5;28;01mwith\u001B[39;00m ceil_timeout(\n\u001B[1;32m    654\u001B[0m         real_timeout\u001B[38;5;241m.\u001B[39mconnect,\n\u001B[1;32m    655\u001B[0m         ceil_threshold\u001B[38;5;241m=\u001B[39mreal_timeout\u001B[38;5;241m.\u001B[39mceil_threshold,\n\u001B[1;32m    656\u001B[0m     ):\n\u001B[0;32m--> 657\u001B[0m         conn \u001B[38;5;241m=\u001B[39m \u001B[38;5;28;01mawait\u001B[39;00m \u001B[38;5;28mself\u001B[39m\u001B[38;5;241m.\u001B[39m_connector\u001B[38;5;241m.\u001B[39mconnect(\n\u001B[1;32m    658\u001B[0m             req, traces\u001B[38;5;241m=\u001B[39mtraces, timeout\u001B[38;5;241m=\u001B[39mreal_timeout\n\u001B[1;32m    659\u001B[0m         )\n\u001B[1;32m    660\u001B[0m \u001B[38;5;28;01mexcept\u001B[39;00m asyncio\u001B[38;5;241m.\u001B[39mTimeoutError \u001B[38;5;28;01mas\u001B[39;00m exc:\n\u001B[1;32m    661\u001B[0m     \u001B[38;5;28;01mraise\u001B[39;00m ConnectionTimeoutError(\n\u001B[1;32m    662\u001B[0m         \u001B[38;5;124mf\u001B[39m\u001B[38;5;124m\"\u001B[39m\u001B[38;5;124mConnection timeout to host \u001B[39m\u001B[38;5;132;01m{\u001B[39;00murl\u001B[38;5;132;01m}\u001B[39;00m\u001B[38;5;124m\"\u001B[39m\n\u001B[1;32m    663\u001B[0m     ) \u001B[38;5;28;01mfrom\u001B[39;00m \u001B[38;5;21;01mexc\u001B[39;00m\n",
      "File \u001B[0;32m~/Documentos/Projects_Software/mosqlimate-client/.venv/lib/python3.12/site-packages/aiohttp/connector.py:557\u001B[0m, in \u001B[0;36mBaseConnector.connect\u001B[0;34m(self, req, traces, timeout)\u001B[0m\n\u001B[1;32m    554\u001B[0m         \u001B[38;5;28;01mawait\u001B[39;00m trace\u001B[38;5;241m.\u001B[39msend_connection_create_start()\n\u001B[1;32m    556\u001B[0m \u001B[38;5;28;01mtry\u001B[39;00m:\n\u001B[0;32m--> 557\u001B[0m     proto \u001B[38;5;241m=\u001B[39m \u001B[38;5;28;01mawait\u001B[39;00m \u001B[38;5;28mself\u001B[39m\u001B[38;5;241m.\u001B[39m_create_connection(req, traces, timeout)\n\u001B[1;32m    558\u001B[0m     \u001B[38;5;28;01mif\u001B[39;00m \u001B[38;5;28mself\u001B[39m\u001B[38;5;241m.\u001B[39m_closed:\n\u001B[1;32m    559\u001B[0m         proto\u001B[38;5;241m.\u001B[39mclose()\n",
      "File \u001B[0;32m~/Documentos/Projects_Software/mosqlimate-client/.venv/lib/python3.12/site-packages/aiohttp/connector.py:967\u001B[0m, in \u001B[0;36mTCPConnector._create_connection\u001B[0;34m(self, req, traces, timeout)\u001B[0m\n\u001B[1;32m    965\u001B[0m     _, proto \u001B[38;5;241m=\u001B[39m \u001B[38;5;28;01mawait\u001B[39;00m \u001B[38;5;28mself\u001B[39m\u001B[38;5;241m.\u001B[39m_create_proxy_connection(req, traces, timeout)\n\u001B[1;32m    966\u001B[0m \u001B[38;5;28;01melse\u001B[39;00m:\n\u001B[0;32m--> 967\u001B[0m     _, proto \u001B[38;5;241m=\u001B[39m \u001B[38;5;28;01mawait\u001B[39;00m \u001B[38;5;28mself\u001B[39m\u001B[38;5;241m.\u001B[39m_create_direct_connection(req, traces, timeout)\n\u001B[1;32m    969\u001B[0m \u001B[38;5;28;01mreturn\u001B[39;00m proto\n",
      "File \u001B[0;32m~/Documentos/Projects_Software/mosqlimate-client/.venv/lib/python3.12/site-packages/aiohttp/connector.py:1326\u001B[0m, in \u001B[0;36mTCPConnector._create_direct_connection\u001B[0;34m(self, req, traces, timeout, client_error)\u001B[0m\n\u001B[1;32m   1324\u001B[0m \u001B[38;5;28;01melse\u001B[39;00m:\n\u001B[1;32m   1325\u001B[0m     \u001B[38;5;28;01massert\u001B[39;00m last_exc \u001B[38;5;129;01mis\u001B[39;00m \u001B[38;5;129;01mnot\u001B[39;00m \u001B[38;5;28;01mNone\u001B[39;00m\n\u001B[0;32m-> 1326\u001B[0m     \u001B[38;5;28;01mraise\u001B[39;00m last_exc\n",
      "File \u001B[0;32m~/Documentos/Projects_Software/mosqlimate-client/.venv/lib/python3.12/site-packages/aiohttp/connector.py:1295\u001B[0m, in \u001B[0;36mTCPConnector._create_direct_connection\u001B[0;34m(self, req, traces, timeout, client_error)\u001B[0m\n\u001B[1;32m   1290\u001B[0m server_hostname \u001B[38;5;241m=\u001B[39m (\n\u001B[1;32m   1291\u001B[0m     (req\u001B[38;5;241m.\u001B[39mserver_hostname \u001B[38;5;129;01mor\u001B[39;00m host)\u001B[38;5;241m.\u001B[39mrstrip(\u001B[38;5;124m\"\u001B[39m\u001B[38;5;124m.\u001B[39m\u001B[38;5;124m\"\u001B[39m) \u001B[38;5;28;01mif\u001B[39;00m sslcontext \u001B[38;5;28;01melse\u001B[39;00m \u001B[38;5;28;01mNone\u001B[39;00m\n\u001B[1;32m   1292\u001B[0m )\n\u001B[1;32m   1294\u001B[0m \u001B[38;5;28;01mtry\u001B[39;00m:\n\u001B[0;32m-> 1295\u001B[0m     transp, proto \u001B[38;5;241m=\u001B[39m \u001B[38;5;28;01mawait\u001B[39;00m \u001B[38;5;28mself\u001B[39m\u001B[38;5;241m.\u001B[39m_wrap_create_connection(\n\u001B[1;32m   1296\u001B[0m         \u001B[38;5;28mself\u001B[39m\u001B[38;5;241m.\u001B[39m_factory,\n\u001B[1;32m   1297\u001B[0m         timeout\u001B[38;5;241m=\u001B[39mtimeout,\n\u001B[1;32m   1298\u001B[0m         ssl\u001B[38;5;241m=\u001B[39msslcontext,\n\u001B[1;32m   1299\u001B[0m         addr_infos\u001B[38;5;241m=\u001B[39maddr_infos,\n\u001B[1;32m   1300\u001B[0m         server_hostname\u001B[38;5;241m=\u001B[39mserver_hostname,\n\u001B[1;32m   1301\u001B[0m         req\u001B[38;5;241m=\u001B[39mreq,\n\u001B[1;32m   1302\u001B[0m         client_error\u001B[38;5;241m=\u001B[39mclient_error,\n\u001B[1;32m   1303\u001B[0m     )\n\u001B[1;32m   1304\u001B[0m \u001B[38;5;28;01mexcept\u001B[39;00m ClientConnectorError \u001B[38;5;28;01mas\u001B[39;00m exc:\n\u001B[1;32m   1305\u001B[0m     last_exc \u001B[38;5;241m=\u001B[39m exc\n",
      "File \u001B[0;32m~/Documentos/Projects_Software/mosqlimate-client/.venv/lib/python3.12/site-packages/aiohttp/connector.py:1064\u001B[0m, in \u001B[0;36mTCPConnector._wrap_create_connection\u001B[0;34m(self, addr_infos, req, timeout, client_error, *args, **kwargs)\u001B[0m\n\u001B[1;32m   1062\u001B[0m \u001B[38;5;28;01mif\u001B[39;00m exc\u001B[38;5;241m.\u001B[39merrno \u001B[38;5;129;01mis\u001B[39;00m \u001B[38;5;28;01mNone\u001B[39;00m \u001B[38;5;129;01mand\u001B[39;00m \u001B[38;5;28misinstance\u001B[39m(exc, asyncio\u001B[38;5;241m.\u001B[39mTimeoutError):\n\u001B[1;32m   1063\u001B[0m     \u001B[38;5;28;01mraise\u001B[39;00m\n\u001B[0;32m-> 1064\u001B[0m \u001B[38;5;28;01mraise\u001B[39;00m client_error(req\u001B[38;5;241m.\u001B[39mconnection_key, exc) \u001B[38;5;28;01mfrom\u001B[39;00m \u001B[38;5;21;01mexc\u001B[39;00m\n",
      "\u001B[0;31mClientConnectorError\u001B[0m: Cannot connect to host 0.0.0.0:8042 ssl:default [Connect call failed ('0.0.0.0', 8042)]"
     ]
    }
   ],
   "execution_count": 2
  },
  {
   "cell_type": "code",
   "metadata": {
    "ExecuteTime": {
     "end_time": "2024-08-09T13:52:36.019380Z",
     "start_time": "2024-08-09T13:52:36.010004Z"
    }
   },
   "source": [
    "list_of_models[0]"
   ],
   "outputs": [
    {
     "ename": "NameError",
     "evalue": "name 'list_of_models' is not defined",
     "output_type": "error",
     "traceback": [
      "\u001B[0;31m---------------------------------------------------------------------------\u001B[0m",
      "\u001B[0;31mNameError\u001B[0m                                 Traceback (most recent call last)",
      "Cell \u001B[0;32mIn[6], line 1\u001B[0m\n\u001B[0;32m----> 1\u001B[0m \u001B[43mlist_of_models\u001B[49m[\u001B[38;5;241m0\u001B[39m]\n",
      "\u001B[0;31mNameError\u001B[0m: name 'list_of_models' is not defined"
     ]
    }
   ],
   "execution_count": 6
  },
  {
   "cell_type": "markdown",
   "metadata": {},
   "source": [
    "Otherwise, if you provide values as parameters in the method it will return just the models that match the value of the parameters, for example, searching by a specific `id` returns: "
   ]
  },
  {
   "cell_type": "code",
   "execution_count": 8,
   "metadata": {},
   "source": [
    "list_of_models = Model.get(id =10)\n",
    "\n",
    "print('Number of models returned:', len(list_of_models))"
   ],
   "outputs": []
  },
  {
   "cell_type": "code",
   "execution_count": 9,
   "metadata": {},
   "source": [
    "list_of_models[0]"
   ],
   "outputs": []
  },
  {
   "cell_type": "markdown",
   "metadata": {},
   "source": [
    "### Post models\n",
    "\n",
    "To use the post method to upload a model on the platform is necessary to provide your API-KEY, and fill the following information about your models:\n",
    "\n",
    "- `name`: str,\n",
    "- `description`: str,\n",
    "- `repository`: str,\n",
    "- `implementation_language`: str,\n",
    "- `disease`: Literal[\"dengue\", \"chikungunya\", \"zika\"],\n",
    "- `temporal`: bool,\n",
    "- `spatial`: bool,\n",
    "- `categorical`: bool,\n",
    "- `adm_level`: Literal[0, 1, 2, 3],\n",
    "- `time_resolution`: Literal[\"day\", \"week\", \"month\", \"year\"]\n",
    "        \n",
    "Look at the example in the cell below. This example will fail unless you provide a valid API-KEY."
   ]
  },
  {
   "cell_type": "code",
   "metadata": {
    "ExecuteTime": {
     "end_time": "2024-08-09T13:56:40.629485Z",
     "start_time": "2024-08-09T13:56:40.575595Z"
    }
   },
   "source": [
    "import os\n",
    "from mosqlient import Client \n",
    "\n",
    "# https://api.mosqlimate.org/docs/registry/POST/uid-key/\n",
    "client = Client(\"<USER>:<API-KEY>\", \"dev\")\n",
    "\n",
    "name = 'test model'\n",
    "description = 'This example model is based on the X methodoly, uses as input the Y variables to predict Z.'\n",
    "repository =  'https://github.com/eduardocorrearaujo/teste_repo.git'\n",
    "implementation_language = 'Python'\n",
    "disease= \"dengue\"\n",
    "temporal= True\n",
    "spatial= False\n",
    "categorical= False\n",
    "adm_level = 1\n",
    "time_resolution =  \"month\"\n",
    "\n",
    "Model(client=client).post(\n",
    "        name = name,\n",
    "        description = description,\n",
    "        repository = repository,\n",
    "        implementation_language = implementation_language,\n",
    "        disease = disease,\n",
    "        temporal = temporal,\n",
    "        spatial= spatial,\n",
    "        categorical = categorical,\n",
    "        adm_level = adm_level,\n",
    "        time_resolution = time_resolution)"
   ],
   "outputs": [
    {
     "ename": "TypeError",
     "evalue": "PlatformClient.__init__() takes 2 positional arguments but 3 were given",
     "output_type": "error",
     "traceback": [
      "\u001B[0;31m---------------------------------------------------------------------------\u001B[0m",
      "\u001B[0;31mTypeError\u001B[0m                                 Traceback (most recent call last)",
      "Cell \u001B[0;32mIn[8], line 5\u001B[0m\n\u001B[1;32m      2\u001B[0m \u001B[38;5;28;01mfrom\u001B[39;00m \u001B[38;5;21;01mmosqlient\u001B[39;00m \u001B[38;5;28;01mimport\u001B[39;00m Client \n\u001B[1;32m      4\u001B[0m \u001B[38;5;66;03m# https://api.mosqlimate.org/docs/registry/POST/uid-key/\u001B[39;00m\n\u001B[0;32m----> 5\u001B[0m client \u001B[38;5;241m=\u001B[39m \u001B[43mClient\u001B[49m\u001B[43m(\u001B[49m\u001B[38;5;124;43m\"\u001B[39;49m\u001B[38;5;124;43m<USER>:<API-KEY>\u001B[39;49m\u001B[38;5;124;43m\"\u001B[39;49m\u001B[43m,\u001B[49m\u001B[43m \u001B[49m\u001B[38;5;124;43m\"\u001B[39;49m\u001B[38;5;124;43mdev\u001B[39;49m\u001B[38;5;124;43m\"\u001B[39;49m\u001B[43m)\u001B[49m\n\u001B[1;32m      7\u001B[0m name \u001B[38;5;241m=\u001B[39m \u001B[38;5;124m'\u001B[39m\u001B[38;5;124mtest model\u001B[39m\u001B[38;5;124m'\u001B[39m\n\u001B[1;32m      8\u001B[0m description \u001B[38;5;241m=\u001B[39m \u001B[38;5;124m'\u001B[39m\u001B[38;5;124mThis example model is based on the X methodoly, uses as input the Y variables to predict Z.\u001B[39m\u001B[38;5;124m'\u001B[39m\n",
      "File \u001B[0;32m/usr/lib/python3.12/typing.py:1157\u001B[0m, in \u001B[0;36m_BaseGenericAlias.__call__\u001B[0;34m(self, *args, **kwargs)\u001B[0m\n\u001B[1;32m   1154\u001B[0m \u001B[38;5;28;01mif\u001B[39;00m \u001B[38;5;129;01mnot\u001B[39;00m \u001B[38;5;28mself\u001B[39m\u001B[38;5;241m.\u001B[39m_inst:\n\u001B[1;32m   1155\u001B[0m     \u001B[38;5;28;01mraise\u001B[39;00m \u001B[38;5;167;01mTypeError\u001B[39;00m(\u001B[38;5;124mf\u001B[39m\u001B[38;5;124m\"\u001B[39m\u001B[38;5;124mType \u001B[39m\u001B[38;5;132;01m{\u001B[39;00m\u001B[38;5;28mself\u001B[39m\u001B[38;5;241m.\u001B[39m_name\u001B[38;5;132;01m}\u001B[39;00m\u001B[38;5;124m cannot be instantiated; \u001B[39m\u001B[38;5;124m\"\u001B[39m\n\u001B[1;32m   1156\u001B[0m                     \u001B[38;5;124mf\u001B[39m\u001B[38;5;124m\"\u001B[39m\u001B[38;5;124muse \u001B[39m\u001B[38;5;132;01m{\u001B[39;00m\u001B[38;5;28mself\u001B[39m\u001B[38;5;241m.\u001B[39m__origin__\u001B[38;5;241m.\u001B[39m\u001B[38;5;18m__name__\u001B[39m\u001B[38;5;132;01m}\u001B[39;00m\u001B[38;5;124m() instead\u001B[39m\u001B[38;5;124m\"\u001B[39m)\n\u001B[0;32m-> 1157\u001B[0m result \u001B[38;5;241m=\u001B[39m \u001B[38;5;28;43mself\u001B[39;49m\u001B[38;5;241;43m.\u001B[39;49m\u001B[43m__origin__\u001B[49m\u001B[43m(\u001B[49m\u001B[38;5;241;43m*\u001B[39;49m\u001B[43margs\u001B[49m\u001B[43m,\u001B[49m\u001B[43m \u001B[49m\u001B[38;5;241;43m*\u001B[39;49m\u001B[38;5;241;43m*\u001B[39;49m\u001B[43mkwargs\u001B[49m\u001B[43m)\u001B[49m\n\u001B[1;32m   1158\u001B[0m \u001B[38;5;28;01mtry\u001B[39;00m:\n\u001B[1;32m   1159\u001B[0m     result\u001B[38;5;241m.\u001B[39m__orig_class__ \u001B[38;5;241m=\u001B[39m \u001B[38;5;28mself\u001B[39m\n",
      "\u001B[0;31mTypeError\u001B[0m: PlatformClient.__init__() takes 2 positional arguments but 3 were given"
     ]
    }
   ],
   "execution_count": 8
  },
  {
   "cell_type": "code",
   "execution_count": null,
   "metadata": {},
   "source": "",
   "outputs": []
  }
 ],
 "metadata": {
  "kernelspec": {
   "display_name": "Python 3 (ipykernel)",
   "language": "python",
   "name": "python3"
  },
  "language_info": {
   "codemirror_mode": {
    "name": "ipython",
    "version": 3
   },
   "file_extension": ".py",
   "mimetype": "text/x-python",
   "name": "python",
   "nbconvert_exporter": "python",
   "pygments_lexer": "ipython3",
   "version": "3.12.3"
  }
 },
 "nbformat": 4,
 "nbformat_minor": 4
}
