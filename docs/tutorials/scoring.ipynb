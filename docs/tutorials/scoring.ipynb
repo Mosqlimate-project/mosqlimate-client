{
 "cells": [
  {
   "cell_type": "markdown",
   "id": "cfdd3892-ae77-4c79-93ca-754e259ed5c7",
   "metadata": {},
   "source": [
    "This notebook explains how the `Scorer` class can be used to compute the following metrics: \n",
    "* MAE (mean absolute error); \n",
    "* MSE (mean squared error); \n",
    "* CRPS (Continuous Ranked Probability Score);\n",
    "* Log Score.\n",
    "\n",
    "The CRPS and Log score assume a normal distribution since the lower and upper 95% CI intervals are used to compute the score. "
   ]
  },
  {
   "cell_type": "code",
   "execution_count": 1,
   "id": "6ae9fd3d-f244-431e-a88d-edca9cad1061",
   "metadata": {},
   "outputs": [],
   "source": [
    "import numpy as np\n",
    "import pandas as pd\n",
    "from mosqlient import get_infodengue\n",
    "from mosqlient.models.score import Scorer"
   ]
  },
  {
   "cell_type": "markdown",
   "id": "47bb9ee1-6d7c-40ee-80d6-e58d50589c87",
   "metadata": {},
   "source": [
    "To show the use of the class to compare the score of new predictions with the predictions registered on the platform it will be used the baseline model."
   ]
  },
  {
   "cell_type": "code",
   "execution_count": 2,
   "id": "be9f0a95-f2b5-4b40-a857-c13de4cb10ca",
   "metadata": {},
   "outputs": [],
   "source": [
    "from datetime import date\n",
    "from mosqlient.datastore import Infodengue\n",
    "from mosqlient.models.baseline import Arima"
   ]
  },
  {
   "cell_type": "markdown",
   "id": "b4639f80",
   "metadata": {},
   "source": [
    "It will compare the predictions of id 77 and 78, which refer to the geocode 3304557, between `2022-01-02` and `2023-06-25`. \n",
    "\n",
    "So initially, we will get the data that will be used to train the model and generate the new predictions:"
   ]
  },
  {
   "cell_type": "code",
   "execution_count": 3,
   "id": "a5694e39-5ae1-4301-a6d2-b3f658629ce6",
   "metadata": {},
   "outputs": [
    {
     "data": {
      "text/html": [
       "<div>\n",
       "<style scoped>\n",
       "    .dataframe tbody tr th:only-of-type {\n",
       "        vertical-align: middle;\n",
       "    }\n",
       "\n",
       "    .dataframe tbody tr th {\n",
       "        vertical-align: top;\n",
       "    }\n",
       "\n",
       "    .dataframe thead th {\n",
       "        text-align: right;\n",
       "    }\n",
       "</style>\n",
       "<table border=\"1\" class=\"dataframe\">\n",
       "  <thead>\n",
       "    <tr style=\"text-align: right;\">\n",
       "      <th></th>\n",
       "      <th>y</th>\n",
       "    </tr>\n",
       "    <tr>\n",
       "      <th>data_iniSE</th>\n",
       "      <th></th>\n",
       "    </tr>\n",
       "  </thead>\n",
       "  <tbody>\n",
       "    <tr>\n",
       "      <th>2010-01-03</th>\n",
       "      <td>30</td>\n",
       "    </tr>\n",
       "    <tr>\n",
       "      <th>2010-01-10</th>\n",
       "      <td>44</td>\n",
       "    </tr>\n",
       "    <tr>\n",
       "      <th>2010-01-17</th>\n",
       "      <td>46</td>\n",
       "    </tr>\n",
       "    <tr>\n",
       "      <th>2010-01-24</th>\n",
       "      <td>47</td>\n",
       "    </tr>\n",
       "    <tr>\n",
       "      <th>2010-01-31</th>\n",
       "      <td>68</td>\n",
       "    </tr>\n",
       "  </tbody>\n",
       "</table>\n",
       "</div>"
      ],
      "text/plain": [
       "             y\n",
       "data_iniSE    \n",
       "2010-01-03  30\n",
       "2010-01-10  44\n",
       "2010-01-17  46\n",
       "2010-01-24  47\n",
       "2010-01-31  68"
      ]
     },
     "execution_count": 3,
     "metadata": {},
     "output_type": "execute_result"
    }
   ],
   "source": [
    "disease = 'dengue'\n",
    "geocode = 3304557 \n",
    "end_date = date.today().strftime('%Y-%m-%d')\n",
    "\n",
    "df = get_infodengue(disease = 'dengue',\n",
    "                start_date = '2010-01-01', \n",
    "              end_date = '2023-12-31', \n",
    "              geocode = 3304557)\n",
    "\n",
    "df['data_iniSE'] = pd.to_datetime(df['data_iniSE'])\n",
    "\n",
    "df.set_index('data_iniSE', inplace = True )\n",
    "    \n",
    "df = df[['casos']].rename(columns = {'casos':'y'})\n",
    "\n",
    "df = df.resample('W-SUN').sum()\n",
    "\n",
    "df.head()"
   ]
  },
  {
   "cell_type": "markdown",
   "id": "3f847a93",
   "metadata": {},
   "source": [
    "Create the model:"
   ]
  },
  {
   "cell_type": "code",
   "execution_count": 4,
   "id": "7f5447da-5b14-45de-8de7-5d0db003efa8",
   "metadata": {},
   "outputs": [
    {
     "data": {
      "text/plain": [
       "<mosqlient.models.baseline.Arima at 0x178805de0>"
      ]
     },
     "execution_count": 4,
     "metadata": {},
     "output_type": "execute_result"
    }
   ],
   "source": [
    "m_arima = Arima(df = df)\n",
    "\n",
    "m_arima"
   ]
  },
  {
   "cell_type": "markdown",
   "id": "b1d65a8b",
   "metadata": {},
   "source": [
    "Train the model: "
   ]
  },
  {
   "cell_type": "code",
   "execution_count": 5,
   "id": "3999037f-3ebb-4da5-a43d-4dbd0f924c51",
   "metadata": {},
   "outputs": [
    {
     "name": "stdout",
     "output_type": "stream",
     "text": [
      "Performing stepwise search to minimize aic\n",
      " ARIMA(2,1,2)(0,0,0)[0] intercept   : AIC=-292.056, Time=0.12 sec\n",
      " ARIMA(0,1,0)(0,0,0)[0] intercept   : AIC=-263.166, Time=0.03 sec\n",
      " ARIMA(1,1,0)(0,0,0)[0] intercept   : AIC=-297.770, Time=0.02 sec\n",
      " ARIMA(0,1,1)(0,0,0)[0] intercept   : AIC=-289.846, Time=0.04 sec\n",
      " ARIMA(0,1,0)(0,0,0)[0]             : AIC=-265.069, Time=0.02 sec\n",
      " ARIMA(2,1,0)(0,0,0)[0] intercept   : AIC=-302.929, Time=0.04 sec\n",
      " ARIMA(3,1,0)(0,0,0)[0] intercept   : AIC=-302.144, Time=0.05 sec\n",
      " ARIMA(2,1,1)(0,0,0)[0] intercept   : AIC=-309.026, Time=0.16 sec\n",
      " ARIMA(1,1,1)(0,0,0)[0] intercept   : AIC=-301.338, Time=0.06 sec\n",
      " ARIMA(3,1,1)(0,0,0)[0] intercept   : AIC=-307.027, Time=0.14 sec\n",
      " ARIMA(1,1,2)(0,0,0)[0] intercept   : AIC=-305.684, Time=0.15 sec\n",
      " ARIMA(3,1,2)(0,0,0)[0] intercept   : AIC=-306.429, Time=0.25 sec\n",
      " ARIMA(2,1,1)(0,0,0)[0]             : AIC=-310.932, Time=0.05 sec\n",
      " ARIMA(1,1,1)(0,0,0)[0]             : AIC=-303.191, Time=0.04 sec\n",
      " ARIMA(2,1,0)(0,0,0)[0]             : AIC=-304.794, Time=0.02 sec\n",
      " ARIMA(3,1,1)(0,0,0)[0]             : AIC=-308.934, Time=0.07 sec\n",
      " ARIMA(2,1,2)(0,0,0)[0]             : AIC=inf, Time=0.16 sec\n",
      " ARIMA(1,1,0)(0,0,0)[0]             : AIC=-299.603, Time=0.02 sec\n",
      " ARIMA(1,1,2)(0,0,0)[0]             : AIC=-307.585, Time=0.07 sec\n",
      " ARIMA(3,1,0)(0,0,0)[0]             : AIC=-304.014, Time=0.03 sec\n",
      " ARIMA(3,1,2)(0,0,0)[0]             : AIC=-308.337, Time=0.09 sec\n",
      "\n",
      "Best model:  ARIMA(2,1,1)(0,0,0)[0]          \n",
      "Total fit time: 1.651 seconds\n"
     ]
    }
   ],
   "source": [
    "model = m_arima.train(train_ini_date='2010-01-01', train_end_date = '2021-12-31')\n"
   ]
  },
  {
   "cell_type": "markdown",
   "id": "4582c684",
   "metadata": {},
   "source": [
    "Generate the out-of-sample predictions:"
   ]
  },
  {
   "cell_type": "code",
   "execution_count": 6,
   "id": "51c1ca96-8a52-4702-b0c8-037fda568b43",
   "metadata": {},
   "outputs": [
    {
     "data": {
      "text/html": [
       "<div>\n",
       "<style scoped>\n",
       "    .dataframe tbody tr th:only-of-type {\n",
       "        vertical-align: middle;\n",
       "    }\n",
       "\n",
       "    .dataframe tbody tr th {\n",
       "        vertical-align: top;\n",
       "    }\n",
       "\n",
       "    .dataframe thead th {\n",
       "        text-align: right;\n",
       "    }\n",
       "</style>\n",
       "<table border=\"1\" class=\"dataframe\">\n",
       "  <thead>\n",
       "    <tr style=\"text-align: right;\">\n",
       "      <th></th>\n",
       "      <th>dates</th>\n",
       "      <th>preds</th>\n",
       "      <th>lower</th>\n",
       "      <th>upper</th>\n",
       "      <th>data</th>\n",
       "    </tr>\n",
       "  </thead>\n",
       "  <tbody>\n",
       "    <tr>\n",
       "      <th>0</th>\n",
       "      <td>2022-01-02</td>\n",
       "      <td>3.614659</td>\n",
       "      <td>2.380141</td>\n",
       "      <td>5.611550</td>\n",
       "      <td>21.0</td>\n",
       "    </tr>\n",
       "    <tr>\n",
       "      <th>1</th>\n",
       "      <td>2022-01-09</td>\n",
       "      <td>3.433225</td>\n",
       "      <td>2.039727</td>\n",
       "      <td>5.982192</td>\n",
       "      <td>14.0</td>\n",
       "    </tr>\n",
       "    <tr>\n",
       "      <th>2</th>\n",
       "      <td>2022-01-16</td>\n",
       "      <td>3.252120</td>\n",
       "      <td>1.717641</td>\n",
       "      <td>6.491387</td>\n",
       "      <td>22.0</td>\n",
       "    </tr>\n",
       "    <tr>\n",
       "      <th>3</th>\n",
       "      <td>2022-01-23</td>\n",
       "      <td>3.118684</td>\n",
       "      <td>1.490893</td>\n",
       "      <td>7.007502</td>\n",
       "      <td>19.0</td>\n",
       "    </tr>\n",
       "    <tr>\n",
       "      <th>0</th>\n",
       "      <td>2022-01-30</td>\n",
       "      <td>21.331335</td>\n",
       "      <td>12.570924</td>\n",
       "      <td>37.513239</td>\n",
       "      <td>31.0</td>\n",
       "    </tr>\n",
       "  </tbody>\n",
       "</table>\n",
       "</div>"
      ],
      "text/plain": [
       "       dates      preds      lower      upper  data\n",
       "0 2022-01-02   3.614659   2.380141   5.611550  21.0\n",
       "1 2022-01-09   3.433225   2.039727   5.982192  14.0\n",
       "2 2022-01-16   3.252120   1.717641   6.491387  22.0\n",
       "3 2022-01-23   3.118684   1.490893   7.007502  19.0\n",
       "0 2022-01-30  21.331335  12.570924  37.513239  31.0"
      ]
     },
     "execution_count": 6,
     "metadata": {},
     "output_type": "execute_result"
    }
   ],
   "source": [
    "df_out = m_arima.predict_out_of_sample(horizon = 4, end_date = '2023-06-25', plot = False)\n",
    "\n",
    "df_out.head()"
   ]
  },
  {
   "cell_type": "markdown",
   "id": "74461903",
   "metadata": {},
   "source": [
    "To compare the model with other predictions in the platform, it is necessary to provide the ids of the predictions, the dataframe of the new prediction with the columns `dates`, `preds`, `lower` and `upper`, and the dataframe with the `true` values to be compared (df_true). This dataframe must contain the columns `dates` and `casos`.\n",
    "\n",
    "Redefine the data to compare the predictions:"
   ]
  },
  {
   "cell_type": "code",
   "execution_count": 7,
   "id": "20ad6b87",
   "metadata": {},
   "outputs": [
    {
     "data": {
      "text/html": [
       "<div>\n",
       "<style scoped>\n",
       "    .dataframe tbody tr th:only-of-type {\n",
       "        vertical-align: middle;\n",
       "    }\n",
       "\n",
       "    .dataframe tbody tr th {\n",
       "        vertical-align: top;\n",
       "    }\n",
       "\n",
       "    .dataframe thead th {\n",
       "        text-align: right;\n",
       "    }\n",
       "</style>\n",
       "<table border=\"1\" class=\"dataframe\">\n",
       "  <thead>\n",
       "    <tr style=\"text-align: right;\">\n",
       "      <th></th>\n",
       "      <th>dates</th>\n",
       "      <th>casos</th>\n",
       "    </tr>\n",
       "  </thead>\n",
       "  <tbody>\n",
       "    <tr>\n",
       "      <th>0</th>\n",
       "      <td>2010-01-03</td>\n",
       "      <td>30.0</td>\n",
       "    </tr>\n",
       "    <tr>\n",
       "      <th>1</th>\n",
       "      <td>2010-01-10</td>\n",
       "      <td>44.0</td>\n",
       "    </tr>\n",
       "    <tr>\n",
       "      <th>2</th>\n",
       "      <td>2010-01-17</td>\n",
       "      <td>46.0</td>\n",
       "    </tr>\n",
       "    <tr>\n",
       "      <th>3</th>\n",
       "      <td>2010-01-24</td>\n",
       "      <td>47.0</td>\n",
       "    </tr>\n",
       "    <tr>\n",
       "      <th>4</th>\n",
       "      <td>2010-01-31</td>\n",
       "      <td>68.0</td>\n",
       "    </tr>\n",
       "  </tbody>\n",
       "</table>\n",
       "</div>"
      ],
      "text/plain": [
       "       dates  casos\n",
       "0 2010-01-03   30.0\n",
       "1 2010-01-10   44.0\n",
       "2 2010-01-17   46.0\n",
       "3 2010-01-24   47.0\n",
       "4 2010-01-31   68.0"
      ]
     },
     "execution_count": 7,
     "metadata": {},
     "output_type": "execute_result"
    }
   ],
   "source": [
    "data = df.reset_index()\n",
    "\n",
    "data = data.rename(columns = {'data_iniSE': 'dates', 'y':'casos'})\n",
    "\n",
    "data.head()"
   ]
  },
  {
   "cell_type": "code",
   "execution_count": 8,
   "id": "de2a5e3f-562d-4751-9a30-2112d4bdc904",
   "metadata": {},
   "outputs": [
    {
     "name": "stdout",
     "output_type": "stream",
     "text": [
      "CPU times: user 40.7 ms, sys: 6.05 ms, total: 46.8 ms\n",
      "Wall time: 2.16 s\n"
     ]
    }
   ],
   "source": [
    "%%time\n",
    "score = Scorer(df_true = data, ids = [77,78], preds = df_out)"
   ]
  },
  {
   "cell_type": "markdown",
   "id": "8ff30c71",
   "metadata": {},
   "source": [
    "**The class above can be initialized with just the `ids` or `preds` parameter filled.** \n",
    "\n",
    "To see the MAE error for your model (key = `preds`) and the other use: "
   ]
  },
  {
   "cell_type": "code",
   "execution_count": 9,
   "id": "a4c7935d-21e2-4681-bee5-19a776c4de4b",
   "metadata": {},
   "outputs": [
    {
     "data": {
      "text/plain": [
       "{'preds': 115.52500842999136,\n",
       " '77': 150.21846153846153,\n",
       " '78': 260.9831835557859}"
      ]
     },
     "execution_count": 9,
     "metadata": {},
     "output_type": "execute_result"
    }
   ],
   "source": [
    "score.mae"
   ]
  },
  {
   "cell_type": "markdown",
   "id": "bd3166c0",
   "metadata": {},
   "source": [
    "To plot a bar chart: "
   ]
  },
  {
   "cell_type": "code",
   "execution_count": 10,
   "id": "2819d0da",
   "metadata": {},
   "outputs": [
    {
     "data": {
      "text/html": [
       "\n",
       "<style>\n",
       "  #altair-viz-8a9e87f34cd545778efdbd6f1fd990b0.vega-embed {\n",
       "    width: 100%;\n",
       "    display: flex;\n",
       "  }\n",
       "\n",
       "  #altair-viz-8a9e87f34cd545778efdbd6f1fd990b0.vega-embed details,\n",
       "  #altair-viz-8a9e87f34cd545778efdbd6f1fd990b0.vega-embed details summary {\n",
       "    position: relative;\n",
       "  }\n",
       "</style>\n",
       "<div id=\"altair-viz-8a9e87f34cd545778efdbd6f1fd990b0\"></div>\n",
       "<script type=\"text/javascript\">\n",
       "  var VEGA_DEBUG = (typeof VEGA_DEBUG == \"undefined\") ? {} : VEGA_DEBUG;\n",
       "  (function(spec, embedOpt){\n",
       "    let outputDiv = document.currentScript.previousElementSibling;\n",
       "    if (outputDiv.id !== \"altair-viz-8a9e87f34cd545778efdbd6f1fd990b0\") {\n",
       "      outputDiv = document.getElementById(\"altair-viz-8a9e87f34cd545778efdbd6f1fd990b0\");\n",
       "    }\n",
       "    const paths = {\n",
       "      \"vega\": \"https://cdn.jsdelivr.net/npm/vega@5?noext\",\n",
       "      \"vega-lib\": \"https://cdn.jsdelivr.net/npm/vega-lib?noext\",\n",
       "      \"vega-lite\": \"https://cdn.jsdelivr.net/npm/vega-lite@5.17.0?noext\",\n",
       "      \"vega-embed\": \"https://cdn.jsdelivr.net/npm/vega-embed@6?noext\",\n",
       "    };\n",
       "\n",
       "    function maybeLoadScript(lib, version) {\n",
       "      var key = `${lib.replace(\"-\", \"\")}_version`;\n",
       "      return (VEGA_DEBUG[key] == version) ?\n",
       "        Promise.resolve(paths[lib]) :\n",
       "        new Promise(function(resolve, reject) {\n",
       "          var s = document.createElement('script');\n",
       "          document.getElementsByTagName(\"head\")[0].appendChild(s);\n",
       "          s.async = true;\n",
       "          s.onload = () => {\n",
       "            VEGA_DEBUG[key] = version;\n",
       "            return resolve(paths[lib]);\n",
       "          };\n",
       "          s.onerror = () => reject(`Error loading script: ${paths[lib]}`);\n",
       "          s.src = paths[lib];\n",
       "        });\n",
       "    }\n",
       "\n",
       "    function showError(err) {\n",
       "      outputDiv.innerHTML = `<div class=\"error\" style=\"color:red;\">${err}</div>`;\n",
       "      throw err;\n",
       "    }\n",
       "\n",
       "    function displayChart(vegaEmbed) {\n",
       "      vegaEmbed(outputDiv, spec, embedOpt)\n",
       "        .catch(err => showError(`Javascript Error: ${err.message}<br>This usually means there's a typo in your chart specification. See the javascript console for the full traceback.`));\n",
       "    }\n",
       "\n",
       "    if(typeof define === \"function\" && define.amd) {\n",
       "      requirejs.config({paths});\n",
       "      require([\"vega-embed\"], displayChart, err => showError(`Error loading script: ${err.message}`));\n",
       "    } else {\n",
       "      maybeLoadScript(\"vega\", \"5\")\n",
       "        .then(() => maybeLoadScript(\"vega-lite\", \"5.17.0\"))\n",
       "        .then(() => maybeLoadScript(\"vega-embed\", \"6\"))\n",
       "        .catch(showError)\n",
       "        .then(() => displayChart(vegaEmbed));\n",
       "    }\n",
       "  })({\"config\": {\"view\": {\"continuousWidth\": 300, \"continuousHeight\": 300}}, \"data\": {\"name\": \"data-8a2d30bb6a988d9958b1f1cf280ea0a3\"}, \"mark\": {\"type\": \"bar\"}, \"encoding\": {\"color\": {\"field\": \"id\", \"legend\": {\"title\": \"Model\"}, \"type\": \"nominal\"}, \"x\": {\"axis\": {\"labelAngle\": 360}, \"field\": \"id\", \"title\": \"Model\", \"type\": \"nominal\"}, \"y\": {\"field\": \"mae\", \"title\": \"mae\", \"type\": \"quantitative\"}}, \"height\": 300, \"title\": \"mae score\", \"width\": 400, \"$schema\": \"https://vega.github.io/schema/vega-lite/v5.17.0.json\", \"datasets\": {\"data-8a2d30bb6a988d9958b1f1cf280ea0a3\": [{\"id\": \"preds\", \"mae\": 115.52500842999136, \"mse\": 39545.323650490725, \"crps\": 121.89220895370163, \"log_score\": -12.11780574106819}, {\"id\": \"77\", \"mae\": 150.21846153846153, \"mse\": 69988.36318717948, \"crps\": 156.06964740718584, \"log_score\": -7.13834876171043}, {\"id\": \"78\", \"mae\": 260.9831835557859, \"mse\": 166280.6349972801, \"crps\": 194.82619915500484, \"log_score\": -7.2065948303292044}]}}, {\"mode\": \"vega-lite\"});\n",
       "</script>"
      ],
      "text/plain": [
       "alt.Chart(...)"
      ]
     },
     "execution_count": 10,
     "metadata": {},
     "output_type": "execute_result"
    }
   ],
   "source": [
    "score.plot_mae()"
   ]
  },
  {
   "cell_type": "markdown",
   "id": "582e338a",
   "metadata": {},
   "source": [
    "To see the MSE error for your model (key = `preds`) and the other use: "
   ]
  },
  {
   "cell_type": "code",
   "execution_count": 11,
   "id": "683c8cca",
   "metadata": {},
   "outputs": [
    {
     "data": {
      "text/plain": [
       "{'preds': 39545.323650490725, '77': 69988.36318717948, '78': 166280.6349972801}"
      ]
     },
     "execution_count": 11,
     "metadata": {},
     "output_type": "execute_result"
    }
   ],
   "source": [
    "score.mse"
   ]
  },
  {
   "cell_type": "markdown",
   "id": "58843665",
   "metadata": {},
   "source": [
    "To plot a bar chart: "
   ]
  },
  {
   "cell_type": "code",
   "execution_count": 12,
   "id": "1e40e73d",
   "metadata": {},
   "outputs": [
    {
     "data": {
      "text/html": [
       "\n",
       "<style>\n",
       "  #altair-viz-4f0b43b75b9848309d373446aa135e22.vega-embed {\n",
       "    width: 100%;\n",
       "    display: flex;\n",
       "  }\n",
       "\n",
       "  #altair-viz-4f0b43b75b9848309d373446aa135e22.vega-embed details,\n",
       "  #altair-viz-4f0b43b75b9848309d373446aa135e22.vega-embed details summary {\n",
       "    position: relative;\n",
       "  }\n",
       "</style>\n",
       "<div id=\"altair-viz-4f0b43b75b9848309d373446aa135e22\"></div>\n",
       "<script type=\"text/javascript\">\n",
       "  var VEGA_DEBUG = (typeof VEGA_DEBUG == \"undefined\") ? {} : VEGA_DEBUG;\n",
       "  (function(spec, embedOpt){\n",
       "    let outputDiv = document.currentScript.previousElementSibling;\n",
       "    if (outputDiv.id !== \"altair-viz-4f0b43b75b9848309d373446aa135e22\") {\n",
       "      outputDiv = document.getElementById(\"altair-viz-4f0b43b75b9848309d373446aa135e22\");\n",
       "    }\n",
       "    const paths = {\n",
       "      \"vega\": \"https://cdn.jsdelivr.net/npm/vega@5?noext\",\n",
       "      \"vega-lib\": \"https://cdn.jsdelivr.net/npm/vega-lib?noext\",\n",
       "      \"vega-lite\": \"https://cdn.jsdelivr.net/npm/vega-lite@5.17.0?noext\",\n",
       "      \"vega-embed\": \"https://cdn.jsdelivr.net/npm/vega-embed@6?noext\",\n",
       "    };\n",
       "\n",
       "    function maybeLoadScript(lib, version) {\n",
       "      var key = `${lib.replace(\"-\", \"\")}_version`;\n",
       "      return (VEGA_DEBUG[key] == version) ?\n",
       "        Promise.resolve(paths[lib]) :\n",
       "        new Promise(function(resolve, reject) {\n",
       "          var s = document.createElement('script');\n",
       "          document.getElementsByTagName(\"head\")[0].appendChild(s);\n",
       "          s.async = true;\n",
       "          s.onload = () => {\n",
       "            VEGA_DEBUG[key] = version;\n",
       "            return resolve(paths[lib]);\n",
       "          };\n",
       "          s.onerror = () => reject(`Error loading script: ${paths[lib]}`);\n",
       "          s.src = paths[lib];\n",
       "        });\n",
       "    }\n",
       "\n",
       "    function showError(err) {\n",
       "      outputDiv.innerHTML = `<div class=\"error\" style=\"color:red;\">${err}</div>`;\n",
       "      throw err;\n",
       "    }\n",
       "\n",
       "    function displayChart(vegaEmbed) {\n",
       "      vegaEmbed(outputDiv, spec, embedOpt)\n",
       "        .catch(err => showError(`Javascript Error: ${err.message}<br>This usually means there's a typo in your chart specification. See the javascript console for the full traceback.`));\n",
       "    }\n",
       "\n",
       "    if(typeof define === \"function\" && define.amd) {\n",
       "      requirejs.config({paths});\n",
       "      require([\"vega-embed\"], displayChart, err => showError(`Error loading script: ${err.message}`));\n",
       "    } else {\n",
       "      maybeLoadScript(\"vega\", \"5\")\n",
       "        .then(() => maybeLoadScript(\"vega-lite\", \"5.17.0\"))\n",
       "        .then(() => maybeLoadScript(\"vega-embed\", \"6\"))\n",
       "        .catch(showError)\n",
       "        .then(() => displayChart(vegaEmbed));\n",
       "    }\n",
       "  })({\"config\": {\"view\": {\"continuousWidth\": 300, \"continuousHeight\": 300}}, \"data\": {\"name\": \"data-8a2d30bb6a988d9958b1f1cf280ea0a3\"}, \"mark\": {\"type\": \"bar\"}, \"encoding\": {\"color\": {\"field\": \"id\", \"legend\": {\"title\": \"Model\"}, \"type\": \"nominal\"}, \"x\": {\"axis\": {\"labelAngle\": 360}, \"field\": \"id\", \"title\": \"Model\", \"type\": \"nominal\"}, \"y\": {\"field\": \"mse\", \"title\": \"mse\", \"type\": \"quantitative\"}}, \"height\": 300, \"title\": \"mse score\", \"width\": 400, \"$schema\": \"https://vega.github.io/schema/vega-lite/v5.17.0.json\", \"datasets\": {\"data-8a2d30bb6a988d9958b1f1cf280ea0a3\": [{\"id\": \"preds\", \"mae\": 115.52500842999136, \"mse\": 39545.323650490725, \"crps\": 121.89220895370163, \"log_score\": -12.11780574106819}, {\"id\": \"77\", \"mae\": 150.21846153846153, \"mse\": 69988.36318717948, \"crps\": 156.06964740718584, \"log_score\": -7.13834876171043}, {\"id\": \"78\", \"mae\": 260.9831835557859, \"mse\": 166280.6349972801, \"crps\": 194.82619915500484, \"log_score\": -7.2065948303292044}]}}, {\"mode\": \"vega-lite\"});\n",
       "</script>"
      ],
      "text/plain": [
       "alt.Chart(...)"
      ]
     },
     "execution_count": 12,
     "metadata": {},
     "output_type": "execute_result"
    }
   ],
   "source": [
    "score.plot_mse()"
   ]
  },
  {
   "cell_type": "markdown",
   "id": "1dff03ff",
   "metadata": {},
   "source": [
    "To see the CRPS score for your model (key = `preds`) and the other, use the code below. The first dict contains the score by each point, and the second one shows the mean of the score.  "
   ]
  },
  {
   "cell_type": "code",
   "execution_count": 13,
   "id": "af24c195",
   "metadata": {},
   "outputs": [
    {
     "data": {
      "text/plain": [
       "({'preds': dates\n",
       "  2022-01-02     16.929559\n",
       "  2022-01-09     10.010700\n",
       "  2022-01-16     18.074555\n",
       "  2022-01-23     15.103212\n",
       "  2022-01-30      6.475991\n",
       "                   ...    \n",
       "  2023-05-28    392.053336\n",
       "  2023-06-04    549.736236\n",
       "  2023-06-11    704.717576\n",
       "  2023-06-18    159.772491\n",
       "  2023-06-25    261.630103\n",
       "  Length: 78, dtype: float64,\n",
       "  '77': dates\n",
       "  2022-01-02    102.524694\n",
       "  2022-01-09     89.908531\n",
       "  2022-01-16     39.430201\n",
       "  2022-01-23     67.323246\n",
       "  2022-01-30     61.630854\n",
       "                   ...    \n",
       "  2023-05-28    129.618554\n",
       "  2023-06-04    749.611256\n",
       "  2023-06-11    601.061591\n",
       "  2023-06-18    149.510736\n",
       "  2023-06-25    222.354416\n",
       "  Length: 78, dtype: float64,\n",
       "  '78': dates\n",
       "  2022-01-02     59.172107\n",
       "  2022-01-09     31.326248\n",
       "  2022-01-16     25.620518\n",
       "  2022-01-23     27.721827\n",
       "  2022-01-30     38.027232\n",
       "                   ...    \n",
       "  2023-05-28    365.740799\n",
       "  2023-06-04    187.866280\n",
       "  2023-06-11    469.313500\n",
       "  2023-06-18    312.681174\n",
       "  2023-06-25    422.268150\n",
       "  Length: 78, dtype: float64},\n",
       " {'preds': 121.89220895370163,\n",
       "  '77': 156.06964740718584,\n",
       "  '78': 194.82619915500484})"
      ]
     },
     "execution_count": 13,
     "metadata": {},
     "output_type": "execute_result"
    }
   ],
   "source": [
    "score.crps"
   ]
  },
  {
   "cell_type": "markdown",
   "id": "c8381bda",
   "metadata": {},
   "source": [
    "To plot the score you can use: "
   ]
  },
  {
   "cell_type": "code",
   "execution_count": 14,
   "id": "df1843ae",
   "metadata": {},
   "outputs": [
    {
     "data": {
      "text/html": [
       "\n",
       "<style>\n",
       "  #altair-viz-f64f846a734b40e48eaca492c741cf02.vega-embed {\n",
       "    width: 100%;\n",
       "    display: flex;\n",
       "  }\n",
       "\n",
       "  #altair-viz-f64f846a734b40e48eaca492c741cf02.vega-embed details,\n",
       "  #altair-viz-f64f846a734b40e48eaca492c741cf02.vega-embed details summary {\n",
       "    position: relative;\n",
       "  }\n",
       "</style>\n",
       "<div id=\"altair-viz-f64f846a734b40e48eaca492c741cf02\"></div>\n",
       "<script type=\"text/javascript\">\n",
       "  var VEGA_DEBUG = (typeof VEGA_DEBUG == \"undefined\") ? {} : VEGA_DEBUG;\n",
       "  (function(spec, embedOpt){\n",
       "    let outputDiv = document.currentScript.previousElementSibling;\n",
       "    if (outputDiv.id !== \"altair-viz-f64f846a734b40e48eaca492c741cf02\") {\n",
       "      outputDiv = document.getElementById(\"altair-viz-f64f846a734b40e48eaca492c741cf02\");\n",
       "    }\n",
       "    const paths = {\n",
       "      \"vega\": \"https://cdn.jsdelivr.net/npm/vega@5?noext\",\n",
       "      \"vega-lib\": \"https://cdn.jsdelivr.net/npm/vega-lib?noext\",\n",
       "      \"vega-lite\": \"https://cdn.jsdelivr.net/npm/vega-lite@5.17.0?noext\",\n",
       "      \"vega-embed\": \"https://cdn.jsdelivr.net/npm/vega-embed@6?noext\",\n",
       "    };\n",
       "\n",
       "    function maybeLoadScript(lib, version) {\n",
       "      var key = `${lib.replace(\"-\", \"\")}_version`;\n",
       "      return (VEGA_DEBUG[key] == version) ?\n",
       "        Promise.resolve(paths[lib]) :\n",
       "        new Promise(function(resolve, reject) {\n",
       "          var s = document.createElement('script');\n",
       "          document.getElementsByTagName(\"head\")[0].appendChild(s);\n",
       "          s.async = true;\n",
       "          s.onload = () => {\n",
       "            VEGA_DEBUG[key] = version;\n",
       "            return resolve(paths[lib]);\n",
       "          };\n",
       "          s.onerror = () => reject(`Error loading script: ${paths[lib]}`);\n",
       "          s.src = paths[lib];\n",
       "        });\n",
       "    }\n",
       "\n",
       "    function showError(err) {\n",
       "      outputDiv.innerHTML = `<div class=\"error\" style=\"color:red;\">${err}</div>`;\n",
       "      throw err;\n",
       "    }\n",
       "\n",
       "    function displayChart(vegaEmbed) {\n",
       "      vegaEmbed(outputDiv, spec, embedOpt)\n",
       "        .catch(err => showError(`Javascript Error: ${err.message}<br>This usually means there's a typo in your chart specification. See the javascript console for the full traceback.`));\n",
       "    }\n",
       "\n",
       "    if(typeof define === \"function\" && define.amd) {\n",
       "      requirejs.config({paths});\n",
       "      require([\"vega-embed\"], displayChart, err => showError(`Error loading script: ${err.message}`));\n",
       "    } else {\n",
       "      maybeLoadScript(\"vega\", \"5\")\n",
       "        .then(() => maybeLoadScript(\"vega-lite\", \"5.17.0\"))\n",
       "        .then(() => maybeLoadScript(\"vega-embed\", \"6\"))\n",
       "        .catch(showError)\n",
       "        .then(() => displayChart(vegaEmbed));\n",
       "    }\n",
       "  })({\"config\": {\"view\": {\"continuousWidth\": 300, \"continuousHeight\": 300}}, \"vconcat\": [{\"data\": {\"name\": \"data-d4775c7e2b59a23393eb246775bc1f3d\"}, \"mark\": {\"type\": \"line\"}, \"encoding\": {\"color\": {\"value\": \"black\"}, \"x\": {\"field\": \"dates\", \"type\": \"temporal\"}, \"y\": {\"field\": \"casos\", \"type\": \"quantitative\"}}, \"height\": 150, \"title\": \"New cases\", \"width\": 400}, {\"layer\": [{\"mark\": {\"type\": \"point\", \"filled\": false}, \"encoding\": {\"color\": {\"field\": \"variable\", \"legend\": {\"legendX\": 100}, \"type\": \"nominal\"}, \"x\": {\"field\": \"dates\", \"type\": \"temporal\"}, \"y\": {\"field\": \"CRPS_score\", \"type\": \"quantitative\"}}}, {\"mark\": {\"type\": \"point\"}, \"encoding\": {\"color\": {\"field\": \"variable\", \"legend\": {\"legendX\": 100}, \"type\": \"nominal\"}, \"opacity\": {\"condition\": {\"param\": \"param_1\", \"value\": 1, \"empty\": false}, \"value\": 0}, \"x\": {\"field\": \"dates\", \"type\": \"temporal\"}, \"y\": {\"field\": \"CRPS_score\", \"type\": \"quantitative\"}}}, {\"mark\": {\"type\": \"rule\", \"color\": \"gray\"}, \"encoding\": {\"opacity\": {\"condition\": {\"param\": \"param_1\", \"value\": 0.3, \"empty\": false}, \"value\": 0}, \"tooltip\": [{\"field\": \"dates\", \"title\": \"Date\", \"type\": \"temporal\"}, {\"field\": \"preds\", \"format\": \".2f\", \"type\": \"quantitative\"}, {\"field\": \"77\", \"format\": \".2f\", \"type\": \"quantitative\"}, {\"field\": \"78\", \"format\": \".2f\", \"type\": \"quantitative\"}], \"x\": {\"field\": \"dates\", \"type\": \"temporal\"}}, \"name\": \"view_1\", \"transform\": [{\"pivot\": \"variable\", \"value\": \"CRPS_score\", \"groupby\": [\"dates\"]}]}], \"data\": {\"name\": \"data-a33219c567c3d047d54cdae9fac47da3\"}, \"height\": 250, \"title\": {\"text\": \"CRPS score\", \"subtitle\": \"Lower is better\"}, \"width\": 400}], \"params\": [{\"name\": \"param_1\", \"select\": {\"type\": \"point\", \"fields\": [\"dates\"], \"nearest\": true, \"on\": \"pointerover\"}, \"views\": [\"view_1\"]}], \"$schema\": \"https://vega.github.io/schema/vega-lite/v5.17.0.json\", \"datasets\": {\"data-d4775c7e2b59a23393eb246775bc1f3d\": [{\"dates\": \"2022-01-02T00:00:00\", \"casos\": 21.0}, {\"dates\": \"2022-01-09T00:00:00\", \"casos\": 14.0}, {\"dates\": \"2022-01-16T00:00:00\", \"casos\": 22.0}, {\"dates\": \"2022-01-23T00:00:00\", \"casos\": 19.0}, {\"dates\": \"2022-01-30T00:00:00\", \"casos\": 31.0}, {\"dates\": \"2022-02-06T00:00:00\", \"casos\": 35.0}, {\"dates\": \"2022-02-13T00:00:00\", \"casos\": 47.0}, {\"dates\": \"2022-02-20T00:00:00\", \"casos\": 62.0}, {\"dates\": \"2022-02-27T00:00:00\", \"casos\": 66.0}, {\"dates\": \"2022-03-06T00:00:00\", \"casos\": 116.0}, {\"dates\": \"2022-03-13T00:00:00\", \"casos\": 126.0}, {\"dates\": \"2022-03-20T00:00:00\", \"casos\": 177.0}, {\"dates\": \"2022-03-27T00:00:00\", \"casos\": 153.0}, {\"dates\": \"2022-04-03T00:00:00\", \"casos\": 222.0}, {\"dates\": \"2022-04-10T00:00:00\", \"casos\": 201.0}, {\"dates\": \"2022-04-17T00:00:00\", \"casos\": 234.0}, {\"dates\": \"2022-04-24T00:00:00\", \"casos\": 342.0}, {\"dates\": \"2022-05-01T00:00:00\", \"casos\": 461.0}, {\"dates\": \"2022-05-08T00:00:00\", \"casos\": 505.0}, {\"dates\": \"2022-05-15T00:00:00\", \"casos\": 406.0}, {\"dates\": \"2022-05-22T00:00:00\", \"casos\": 400.0}, {\"dates\": \"2022-05-29T00:00:00\", \"casos\": 338.0}, {\"dates\": \"2022-06-05T00:00:00\", \"casos\": 255.0}, {\"dates\": \"2022-06-12T00:00:00\", \"casos\": 153.0}, {\"dates\": \"2022-06-19T00:00:00\", \"casos\": 209.0}, {\"dates\": \"2022-06-26T00:00:00\", \"casos\": 189.0}, {\"dates\": \"2022-07-03T00:00:00\", \"casos\": 155.0}, {\"dates\": \"2022-07-10T00:00:00\", \"casos\": 144.0}, {\"dates\": \"2022-07-17T00:00:00\", \"casos\": 194.0}, {\"dates\": \"2022-07-24T00:00:00\", \"casos\": 148.0}, {\"dates\": \"2022-07-31T00:00:00\", \"casos\": 145.0}, {\"dates\": \"2022-08-07T00:00:00\", \"casos\": 106.0}, {\"dates\": \"2022-08-14T00:00:00\", \"casos\": 110.0}, {\"dates\": \"2022-08-21T00:00:00\", \"casos\": 99.0}, {\"dates\": \"2022-08-28T00:00:00\", \"casos\": 94.0}, {\"dates\": \"2022-09-04T00:00:00\", \"casos\": 101.0}, {\"dates\": \"2022-09-11T00:00:00\", \"casos\": 120.0}, {\"dates\": \"2022-09-18T00:00:00\", \"casos\": 102.0}, {\"dates\": \"2022-09-25T00:00:00\", \"casos\": 95.0}, {\"dates\": \"2022-10-02T00:00:00\", \"casos\": 102.0}, {\"dates\": \"2022-10-09T00:00:00\", \"casos\": 123.0}, {\"dates\": \"2022-10-16T00:00:00\", \"casos\": 160.0}, {\"dates\": \"2022-10-23T00:00:00\", \"casos\": 139.0}, {\"dates\": \"2022-10-30T00:00:00\", \"casos\": 131.0}, {\"dates\": \"2022-11-06T00:00:00\", \"casos\": 171.0}, {\"dates\": \"2022-11-13T00:00:00\", \"casos\": 129.0}, {\"dates\": \"2022-11-20T00:00:00\", \"casos\": 94.0}, {\"dates\": \"2022-11-27T00:00:00\", \"casos\": 86.0}, {\"dates\": \"2022-12-04T00:00:00\", \"casos\": 98.0}, {\"dates\": \"2022-12-11T00:00:00\", \"casos\": 123.0}, {\"dates\": \"2022-12-18T00:00:00\", \"casos\": 117.0}, {\"dates\": \"2022-12-25T00:00:00\", \"casos\": 163.0}, {\"dates\": \"2023-01-01T00:00:00\", \"casos\": 230.0}, {\"dates\": \"2023-01-08T00:00:00\", \"casos\": 218.0}, {\"dates\": \"2023-01-15T00:00:00\", \"casos\": 246.0}, {\"dates\": \"2023-01-22T00:00:00\", \"casos\": 312.0}, {\"dates\": \"2023-01-29T00:00:00\", \"casos\": 383.0}, {\"dates\": \"2023-02-05T00:00:00\", \"casos\": 525.0}, {\"dates\": \"2023-02-12T00:00:00\", \"casos\": 372.0}, {\"dates\": \"2023-02-19T00:00:00\", \"casos\": 507.0}, {\"dates\": \"2023-02-26T00:00:00\", \"casos\": 870.0}, {\"dates\": \"2023-03-05T00:00:00\", \"casos\": 945.0}, {\"dates\": \"2023-03-12T00:00:00\", \"casos\": 1125.0}, {\"dates\": \"2023-03-19T00:00:00\", \"casos\": 1382.0}, {\"dates\": \"2023-03-26T00:00:00\", \"casos\": 1580.0}, {\"dates\": \"2023-04-02T00:00:00\", \"casos\": 1420.0}, {\"dates\": \"2023-04-09T00:00:00\", \"casos\": 1783.0}, {\"dates\": \"2023-04-16T00:00:00\", \"casos\": 1502.0}, {\"dates\": \"2023-04-23T00:00:00\", \"casos\": 1572.0}, {\"dates\": \"2023-04-30T00:00:00\", \"casos\": 1919.0}, {\"dates\": \"2023-05-07T00:00:00\", \"casos\": 1807.0}, {\"dates\": \"2023-05-14T00:00:00\", \"casos\": 1731.0}, {\"dates\": \"2023-05-21T00:00:00\", \"casos\": 1479.0}, {\"dates\": \"2023-05-28T00:00:00\", \"casos\": 1328.0}, {\"dates\": \"2023-06-04T00:00:00\", \"casos\": 1238.0}, {\"dates\": \"2023-06-11T00:00:00\", \"casos\": 1348.0}, {\"dates\": \"2023-06-18T00:00:00\", \"casos\": 1236.0}, {\"dates\": \"2023-06-25T00:00:00\", \"casos\": 996.0}], \"data-a33219c567c3d047d54cdae9fac47da3\": [{\"dates\": \"2022-01-02T00:00:00\", \"variable\": \"preds\", \"CRPS_score\": 16.929559288734463}, {\"dates\": \"2022-01-09T00:00:00\", \"variable\": \"preds\", \"CRPS_score\": 10.010700404337625}, {\"dates\": \"2022-01-16T00:00:00\", \"variable\": \"preds\", \"CRPS_score\": 18.074555214814144}, {\"dates\": \"2022-01-23T00:00:00\", \"variable\": \"preds\", \"CRPS_score\": 15.103212220837955}, {\"dates\": \"2022-01-30T00:00:00\", \"variable\": \"preds\", \"CRPS_score\": 6.475990823307429}, {\"dates\": \"2022-02-06T00:00:00\", \"variable\": \"preds\", \"CRPS_score\": 8.90110528648983}, {\"dates\": \"2022-02-13T00:00:00\", \"variable\": \"preds\", \"CRPS_score\": 17.892948361499993}, {\"dates\": \"2022-02-20T00:00:00\", \"variable\": \"preds\", \"CRPS_score\": 30.304809526245016}, {\"dates\": \"2022-02-27T00:00:00\", \"variable\": \"preds\", \"CRPS_score\": 5.203137976748121}, {\"dates\": \"2022-03-06T00:00:00\", \"variable\": \"preds\", \"CRPS_score\": 30.82596817727234}, {\"dates\": \"2022-03-13T00:00:00\", \"variable\": \"preds\", \"CRPS_score\": 32.97429457962562}, {\"dates\": \"2022-03-20T00:00:00\", \"variable\": \"preds\", \"CRPS_score\": 68.67714513834056}, {\"dates\": \"2022-03-27T00:00:00\", \"variable\": \"preds\", \"CRPS_score\": 21.397439369459406}, {\"dates\": \"2022-04-03T00:00:00\", \"variable\": \"preds\", \"CRPS_score\": 27.32239323408865}, {\"dates\": \"2022-04-10T00:00:00\", \"variable\": \"preds\", \"CRPS_score\": 38.880063340471004}, {\"dates\": \"2022-04-17T00:00:00\", \"variable\": \"preds\", \"CRPS_score\": 53.611198709730346}, {\"dates\": \"2022-04-24T00:00:00\", \"variable\": \"preds\", \"CRPS_score\": 61.851500365401385}, {\"dates\": \"2022-05-01T00:00:00\", \"variable\": \"preds\", \"CRPS_score\": 136.3008302519552}, {\"dates\": \"2022-05-08T00:00:00\", \"variable\": \"preds\", \"CRPS_score\": 150.7005982988902}, {\"dates\": \"2022-05-15T00:00:00\", \"variable\": \"preds\", \"CRPS_score\": 90.40354878074294}, {\"dates\": \"2022-05-22T00:00:00\", \"variable\": \"preds\", \"CRPS_score\": 57.45172446084432}, {\"dates\": \"2022-05-29T00:00:00\", \"variable\": \"preds\", \"CRPS_score\": 93.09331753357247}, {\"dates\": \"2022-06-05T00:00:00\", \"variable\": \"preds\", \"CRPS_score\": 153.05443083351255}, {\"dates\": \"2022-06-12T00:00:00\", \"variable\": \"preds\", \"CRPS_score\": 221.7667046791289}, {\"dates\": \"2022-06-19T00:00:00\", \"variable\": \"preds\", \"CRPS_score\": 25.355683804940643}, {\"dates\": \"2022-06-26T00:00:00\", \"variable\": \"preds\", \"CRPS_score\": 24.745897099513243}, {\"dates\": \"2022-07-03T00:00:00\", \"variable\": \"preds\", \"CRPS_score\": 24.985610729841074}, {\"dates\": \"2022-07-10T00:00:00\", \"variable\": \"preds\", \"CRPS_score\": 30.70786578002446}, {\"dates\": \"2022-07-17T00:00:00\", \"variable\": \"preds\", \"CRPS_score\": 31.81355058457586}, {\"dates\": \"2022-07-24T00:00:00\", \"variable\": \"preds\", \"CRPS_score\": 17.03991901888515}, {\"dates\": \"2022-07-31T00:00:00\", \"variable\": \"preds\", \"CRPS_score\": 22.062863167820293}, {\"dates\": \"2022-08-07T00:00:00\", \"variable\": \"preds\", \"CRPS_score\": 29.061914511627652}, {\"dates\": \"2022-08-14T00:00:00\", \"variable\": \"preds\", \"CRPS_score\": 9.576374297692874}, {\"dates\": \"2022-08-21T00:00:00\", \"variable\": \"preds\", \"CRPS_score\": 12.318178080498338}, {\"dates\": \"2022-08-28T00:00:00\", \"variable\": \"preds\", \"CRPS_score\": 16.370155195885886}, {\"dates\": \"2022-09-04T00:00:00\", \"variable\": \"preds\", \"CRPS_score\": 19.559539373106006}, {\"dates\": \"2022-09-11T00:00:00\", \"variable\": \"preds\", \"CRPS_score\": 14.292192121550741}, {\"dates\": \"2022-09-18T00:00:00\", \"variable\": \"preds\", \"CRPS_score\": 11.070927746132195}, {\"dates\": \"2022-09-25T00:00:00\", \"variable\": \"preds\", \"CRPS_score\": 14.146267168557612}, {\"dates\": \"2022-10-02T00:00:00\", \"variable\": \"preds\", \"CRPS_score\": 18.116794354496818}, {\"dates\": \"2022-10-09T00:00:00\", \"variable\": \"preds\", \"CRPS_score\": 14.669353502681101}, {\"dates\": \"2022-10-16T00:00:00\", \"variable\": \"preds\", \"CRPS_score\": 38.77579960618816}, {\"dates\": \"2022-10-23T00:00:00\", \"variable\": \"preds\", \"CRPS_score\": 24.975634393434298}, {\"dates\": \"2022-10-30T00:00:00\", \"variable\": \"preds\", \"CRPS_score\": 24.099879453897163}, {\"dates\": \"2022-11-06T00:00:00\", \"variable\": \"preds\", \"CRPS_score\": 21.817292125764016}, {\"dates\": \"2022-11-13T00:00:00\", \"variable\": \"preds\", \"CRPS_score\": 15.993318046749057}, {\"dates\": \"2022-11-20T00:00:00\", \"variable\": \"preds\", \"CRPS_score\": 28.812154253861735}, {\"dates\": \"2022-11-27T00:00:00\", \"variable\": \"preds\", \"CRPS_score\": 35.84129820991174}, {\"dates\": \"2022-12-04T00:00:00\", \"variable\": \"preds\", \"CRPS_score\": 9.203724805988102}, {\"dates\": \"2022-12-11T00:00:00\", \"variable\": \"preds\", \"CRPS_score\": 24.68807162367627}, {\"dates\": \"2022-12-18T00:00:00\", \"variable\": \"preds\", \"CRPS_score\": 21.73191039531095}, {\"dates\": \"2022-12-25T00:00:00\", \"variable\": \"preds\", \"CRPS_score\": 53.855131018442925}, {\"dates\": \"2023-01-01T00:00:00\", \"variable\": \"preds\", \"CRPS_score\": 50.380598785661626}, {\"dates\": \"2023-01-08T00:00:00\", \"variable\": \"preds\", \"CRPS_score\": 35.05095907650873}, {\"dates\": \"2023-01-15T00:00:00\", \"variable\": \"preds\", \"CRPS_score\": 50.70825479374761}, {\"dates\": \"2023-01-22T00:00:00\", \"variable\": \"preds\", \"CRPS_score\": 89.15550445325087}, {\"dates\": \"2023-01-29T00:00:00\", \"variable\": \"preds\", \"CRPS_score\": 46.59187172357971}, {\"dates\": \"2023-02-05T00:00:00\", \"variable\": \"preds\", \"CRPS_score\": 119.01489707745527}, {\"dates\": \"2023-02-12T00:00:00\", \"variable\": \"preds\", \"CRPS_score\": 65.08853077554916}, {\"dates\": \"2023-02-19T00:00:00\", \"variable\": \"preds\", \"CRPS_score\": 112.42975175641034}, {\"dates\": \"2023-02-26T00:00:00\", \"variable\": \"preds\", \"CRPS_score\": 266.9452719365653}, {\"dates\": \"2023-03-05T00:00:00\", \"variable\": \"preds\", \"CRPS_score\": 272.8218438715294}, {\"dates\": \"2023-03-12T00:00:00\", \"variable\": \"preds\", \"CRPS_score\": 377.4839205000169}, {\"dates\": \"2023-03-19T00:00:00\", \"variable\": \"preds\", \"CRPS_score\": 534.6037933237095}, {\"dates\": \"2023-03-26T00:00:00\", \"variable\": \"preds\", \"CRPS_score\": 189.26988925506635}, {\"dates\": \"2023-04-02T00:00:00\", \"variable\": \"preds\", \"CRPS_score\": 282.46756350684416}, {\"dates\": \"2023-04-09T00:00:00\", \"variable\": \"preds\", \"CRPS_score\": 430.367863374219}, {\"dates\": \"2023-04-16T00:00:00\", \"variable\": \"preds\", \"CRPS_score\": 628.0627465687448}, {\"dates\": \"2023-04-23T00:00:00\", \"variable\": \"preds\", \"CRPS_score\": 213.25802459635662}, {\"dates\": \"2023-04-30T00:00:00\", \"variable\": \"preds\", \"CRPS_score\": 319.41351292358627}, {\"dates\": \"2023-05-07T00:00:00\", \"variable\": \"preds\", \"CRPS_score\": 452.1371319455275}, {\"dates\": \"2023-05-14T00:00:00\", \"variable\": \"preds\", \"CRPS_score\": 632.8181798546726}, {\"dates\": \"2023-05-21T00:00:00\", \"variable\": \"preds\", \"CRPS_score\": 268.7179681678902}, {\"dates\": \"2023-05-28T00:00:00\", \"variable\": \"preds\", \"CRPS_score\": 392.0533361949257}, {\"dates\": \"2023-06-04T00:00:00\", \"variable\": \"preds\", \"CRPS_score\": 549.7362363074004}, {\"dates\": \"2023-06-11T00:00:00\", \"variable\": \"preds\", \"CRPS_score\": 704.7175759778671}, {\"dates\": \"2023-06-18T00:00:00\", \"variable\": \"preds\", \"CRPS_score\": 159.77249144772765}, {\"dates\": \"2023-06-25T00:00:00\", \"variable\": \"preds\", \"CRPS_score\": 261.63010286680975}, {\"dates\": \"2022-01-02T00:00:00\", \"variable\": \"77\", \"CRPS_score\": 102.52469442554364}, {\"dates\": \"2022-01-09T00:00:00\", \"variable\": \"77\", \"CRPS_score\": 89.90853127726993}, {\"dates\": \"2022-01-16T00:00:00\", \"variable\": \"77\", \"CRPS_score\": 39.430201196488845}, {\"dates\": \"2022-01-23T00:00:00\", \"variable\": \"77\", \"CRPS_score\": 67.32324629885368}, {\"dates\": \"2022-01-30T00:00:00\", \"variable\": \"77\", \"CRPS_score\": 61.630854452424465}, {\"dates\": \"2022-02-06T00:00:00\", \"variable\": \"77\", \"CRPS_score\": 61.586917140254386}, {\"dates\": \"2022-02-13T00:00:00\", \"variable\": \"77\", \"CRPS_score\": 59.42206879945482}, {\"dates\": \"2022-02-20T00:00:00\", \"variable\": \"77\", \"CRPS_score\": 72.8625763405248}, {\"dates\": \"2022-02-27T00:00:00\", \"variable\": \"77\", \"CRPS_score\": 86.94322444462678}, {\"dates\": \"2022-03-06T00:00:00\", \"variable\": \"77\", \"CRPS_score\": 118.72044491202804}, {\"dates\": \"2022-03-13T00:00:00\", \"variable\": \"77\", \"CRPS_score\": 105.49661862819886}, {\"dates\": \"2022-03-20T00:00:00\", \"variable\": \"77\", \"CRPS_score\": 103.10475639310833}, {\"dates\": \"2022-03-27T00:00:00\", \"variable\": \"77\", \"CRPS_score\": 84.82786453095937}, {\"dates\": \"2022-04-03T00:00:00\", \"variable\": \"77\", \"CRPS_score\": 74.51666874489628}, {\"dates\": \"2022-04-10T00:00:00\", \"variable\": \"77\", \"CRPS_score\": 92.19304220168593}, {\"dates\": \"2022-04-17T00:00:00\", \"variable\": \"77\", \"CRPS_score\": 136.68706087299213}, {\"dates\": \"2022-04-24T00:00:00\", \"variable\": \"77\", \"CRPS_score\": 176.56148927898502}, {\"dates\": \"2022-05-01T00:00:00\", \"variable\": \"77\", \"CRPS_score\": 200.45045234927102}, {\"dates\": \"2022-05-08T00:00:00\", \"variable\": \"77\", \"CRPS_score\": 219.8518512641308}, {\"dates\": \"2022-05-15T00:00:00\", \"variable\": \"77\", \"CRPS_score\": 157.53004997191516}, {\"dates\": \"2022-05-22T00:00:00\", \"variable\": \"77\", \"CRPS_score\": 116.02631770531441}, {\"dates\": \"2022-05-29T00:00:00\", \"variable\": \"77\", \"CRPS_score\": 207.5487133611881}, {\"dates\": \"2022-06-05T00:00:00\", \"variable\": \"77\", \"CRPS_score\": 547.8075506559996}, {\"dates\": \"2022-06-12T00:00:00\", \"variable\": \"77\", \"CRPS_score\": 495.56160915535537}, {\"dates\": \"2022-06-19T00:00:00\", \"variable\": \"77\", \"CRPS_score\": 336.1387318439209}, {\"dates\": \"2022-06-26T00:00:00\", \"variable\": \"77\", \"CRPS_score\": 158.69152132855248}, {\"dates\": \"2022-07-03T00:00:00\", \"variable\": \"77\", \"CRPS_score\": 159.54886688783722}, {\"dates\": \"2022-07-10T00:00:00\", \"variable\": \"77\", \"CRPS_score\": 97.78435884986857}, {\"dates\": \"2022-07-17T00:00:00\", \"variable\": \"77\", \"CRPS_score\": 95.19393707179252}, {\"dates\": \"2022-07-24T00:00:00\", \"variable\": \"77\", \"CRPS_score\": 116.48677151417036}, {\"dates\": \"2022-07-31T00:00:00\", \"variable\": \"77\", \"CRPS_score\": 81.71538477883723}, {\"dates\": \"2022-08-07T00:00:00\", \"variable\": \"77\", \"CRPS_score\": 77.95210828621303}, {\"dates\": \"2022-08-14T00:00:00\", \"variable\": \"77\", \"CRPS_score\": 74.75213382737732}, {\"dates\": \"2022-08-21T00:00:00\", \"variable\": \"77\", \"CRPS_score\": 83.18259087429622}, {\"dates\": \"2022-08-28T00:00:00\", \"variable\": \"77\", \"CRPS_score\": 94.17317800171773}, {\"dates\": \"2022-09-04T00:00:00\", \"variable\": \"77\", \"CRPS_score\": 93.61186680793905}, {\"dates\": \"2022-09-11T00:00:00\", \"variable\": \"77\", \"CRPS_score\": 62.20740148765412}, {\"dates\": \"2022-09-18T00:00:00\", \"variable\": \"77\", \"CRPS_score\": 31.084811040021968}, {\"dates\": \"2022-09-25T00:00:00\", \"variable\": \"77\", \"CRPS_score\": 65.32217483918588}, {\"dates\": \"2022-10-02T00:00:00\", \"variable\": \"77\", \"CRPS_score\": 56.636610655380196}, {\"dates\": \"2022-10-09T00:00:00\", \"variable\": \"77\", \"CRPS_score\": 97.70704960969715}, {\"dates\": \"2022-10-16T00:00:00\", \"variable\": \"77\", \"CRPS_score\": 105.18190642102203}, {\"dates\": \"2022-10-23T00:00:00\", \"variable\": \"77\", \"CRPS_score\": 145.13595664541643}, {\"dates\": \"2022-10-30T00:00:00\", \"variable\": \"77\", \"CRPS_score\": 146.0908928834841}, {\"dates\": \"2022-11-06T00:00:00\", \"variable\": \"77\", \"CRPS_score\": 161.47945383859135}, {\"dates\": \"2022-11-13T00:00:00\", \"variable\": \"77\", \"CRPS_score\": 123.8034448514961}, {\"dates\": \"2022-11-20T00:00:00\", \"variable\": \"77\", \"CRPS_score\": 119.72996850927149}, {\"dates\": \"2022-11-27T00:00:00\", \"variable\": \"77\", \"CRPS_score\": 77.01207225520324}, {\"dates\": \"2022-12-04T00:00:00\", \"variable\": \"77\", \"CRPS_score\": 59.362512408423996}, {\"dates\": \"2022-12-11T00:00:00\", \"variable\": \"77\", \"CRPS_score\": 104.81722184513299}, {\"dates\": \"2022-12-18T00:00:00\", \"variable\": \"77\", \"CRPS_score\": 92.83349470621395}, {\"dates\": \"2022-12-25T00:00:00\", \"variable\": \"77\", \"CRPS_score\": 110.3611327617595}, {\"dates\": \"2023-01-01T00:00:00\", \"variable\": \"77\", \"CRPS_score\": 115.45558332059191}, {\"dates\": \"2023-01-08T00:00:00\", \"variable\": \"77\", \"CRPS_score\": 112.1055480774792}, {\"dates\": \"2023-01-15T00:00:00\", \"variable\": \"77\", \"CRPS_score\": 84.42918463550451}, {\"dates\": \"2023-01-22T00:00:00\", \"variable\": \"77\", \"CRPS_score\": 86.72966076029336}, {\"dates\": \"2023-01-29T00:00:00\", \"variable\": \"77\", \"CRPS_score\": 90.18935759540058}, {\"dates\": \"2023-02-05T00:00:00\", \"variable\": \"77\", \"CRPS_score\": 88.77099633612153}, {\"dates\": \"2023-02-12T00:00:00\", \"variable\": \"77\", \"CRPS_score\": 120.729043869223}, {\"dates\": \"2023-02-19T00:00:00\", \"variable\": \"77\", \"CRPS_score\": 115.37918636019451}, {\"dates\": \"2023-02-26T00:00:00\", \"variable\": \"77\", \"CRPS_score\": 185.17823256174472}, {\"dates\": \"2023-03-05T00:00:00\", \"variable\": \"77\", \"CRPS_score\": 163.9895873702931}, {\"dates\": \"2023-03-12T00:00:00\", \"variable\": \"77\", \"CRPS_score\": 208.6152395492569}, {\"dates\": \"2023-03-19T00:00:00\", \"variable\": \"77\", \"CRPS_score\": 251.63915512037437}, {\"dates\": \"2023-03-26T00:00:00\", \"variable\": \"77\", \"CRPS_score\": 406.0422852475863}, {\"dates\": \"2023-04-02T00:00:00\", \"variable\": \"77\", \"CRPS_score\": 415.566968376911}, {\"dates\": \"2023-04-09T00:00:00\", \"variable\": \"77\", \"CRPS_score\": 230.40947443361793}, {\"dates\": \"2023-04-16T00:00:00\", \"variable\": \"77\", \"CRPS_score\": 150.22575295143938}, {\"dates\": \"2023-04-23T00:00:00\", \"variable\": \"77\", \"CRPS_score\": 234.45710257360926}, {\"dates\": \"2023-04-30T00:00:00\", \"variable\": \"77\", \"CRPS_score\": 225.92977724373176}, {\"dates\": \"2023-05-07T00:00:00\", \"variable\": \"77\", \"CRPS_score\": 234.38315988418924}, {\"dates\": \"2023-05-14T00:00:00\", \"variable\": \"77\", \"CRPS_score\": 166.2035470100269}, {\"dates\": \"2023-05-21T00:00:00\", \"variable\": \"77\", \"CRPS_score\": 128.33274162855645}, {\"dates\": \"2023-05-28T00:00:00\", \"variable\": \"77\", \"CRPS_score\": 129.61855443842663}, {\"dates\": \"2023-06-04T00:00:00\", \"variable\": \"77\", \"CRPS_score\": 749.611256076035}, {\"dates\": \"2023-06-11T00:00:00\", \"variable\": \"77\", \"CRPS_score\": 601.0615909491265}, {\"dates\": \"2023-06-18T00:00:00\", \"variable\": \"77\", \"CRPS_score\": 149.51073569076084}, {\"dates\": \"2023-06-25T00:00:00\", \"variable\": \"77\", \"CRPS_score\": 222.35441646805356}, {\"dates\": \"2022-01-02T00:00:00\", \"variable\": \"78\", \"CRPS_score\": 59.17210701529874}, {\"dates\": \"2022-01-09T00:00:00\", \"variable\": \"78\", \"CRPS_score\": 31.326248376637565}, {\"dates\": \"2022-01-16T00:00:00\", \"variable\": \"78\", \"CRPS_score\": 25.620518492340594}, {\"dates\": \"2022-01-23T00:00:00\", \"variable\": \"78\", \"CRPS_score\": 27.721827182289545}, {\"dates\": \"2022-01-30T00:00:00\", \"variable\": \"78\", \"CRPS_score\": 38.02723198989535}, {\"dates\": \"2022-02-06T00:00:00\", \"variable\": \"78\", \"CRPS_score\": 36.79378887105787}, {\"dates\": \"2022-02-13T00:00:00\", \"variable\": \"78\", \"CRPS_score\": 39.49623516592102}, {\"dates\": \"2022-02-20T00:00:00\", \"variable\": \"78\", \"CRPS_score\": 102.55033964987848}, {\"dates\": \"2022-02-27T00:00:00\", \"variable\": \"78\", \"CRPS_score\": 109.3872099179393}, {\"dates\": \"2022-03-06T00:00:00\", \"variable\": \"78\", \"CRPS_score\": 78.14419569084528}, {\"dates\": \"2022-03-13T00:00:00\", \"variable\": \"78\", \"CRPS_score\": 154.8198966942406}, {\"dates\": \"2022-03-20T00:00:00\", \"variable\": \"78\", \"CRPS_score\": 99.7484277588636}, {\"dates\": \"2022-03-27T00:00:00\", \"variable\": \"78\", \"CRPS_score\": 40.865107191946755}, {\"dates\": \"2022-04-03T00:00:00\", \"variable\": \"78\", \"CRPS_score\": 58.421817333941796}, {\"dates\": \"2022-04-10T00:00:00\", \"variable\": \"78\", \"CRPS_score\": 37.640396921007444}, {\"dates\": \"2022-04-17T00:00:00\", \"variable\": \"78\", \"CRPS_score\": 55.273889310543844}, {\"dates\": \"2022-04-24T00:00:00\", \"variable\": \"78\", \"CRPS_score\": 71.74325387803124}, {\"dates\": \"2022-05-01T00:00:00\", \"variable\": \"78\", \"CRPS_score\": 100.68909923549418}, {\"dates\": \"2022-05-08T00:00:00\", \"variable\": \"78\", \"CRPS_score\": 88.21350720869994}, {\"dates\": \"2022-05-15T00:00:00\", \"variable\": \"78\", \"CRPS_score\": 100.84683470302984}, {\"dates\": \"2022-05-22T00:00:00\", \"variable\": \"78\", \"CRPS_score\": 75.32568112559287}, {\"dates\": \"2022-05-29T00:00:00\", \"variable\": \"78\", \"CRPS_score\": 84.18628768207496}, {\"dates\": \"2022-06-05T00:00:00\", \"variable\": \"78\", \"CRPS_score\": 155.6452493811217}, {\"dates\": \"2022-06-12T00:00:00\", \"variable\": \"78\", \"CRPS_score\": 67.35687595154249}, {\"dates\": \"2022-06-19T00:00:00\", \"variable\": \"78\", \"CRPS_score\": 47.00397815047071}, {\"dates\": \"2022-06-26T00:00:00\", \"variable\": \"78\", \"CRPS_score\": 42.57878320117107}, {\"dates\": \"2022-07-03T00:00:00\", \"variable\": \"78\", \"CRPS_score\": 95.54291182773471}, {\"dates\": \"2022-07-10T00:00:00\", \"variable\": \"78\", \"CRPS_score\": 88.08683266859582}, {\"dates\": \"2022-07-17T00:00:00\", \"variable\": \"78\", \"CRPS_score\": 124.45432512068838}, {\"dates\": \"2022-07-24T00:00:00\", \"variable\": \"78\", \"CRPS_score\": 92.15949786549135}, {\"dates\": \"2022-07-31T00:00:00\", \"variable\": \"78\", \"CRPS_score\": 67.31492605873034}, {\"dates\": \"2022-08-07T00:00:00\", \"variable\": \"78\", \"CRPS_score\": 63.88916486149863}, {\"dates\": \"2022-08-14T00:00:00\", \"variable\": \"78\", \"CRPS_score\": 65.96655535671513}, {\"dates\": \"2022-08-21T00:00:00\", \"variable\": \"78\", \"CRPS_score\": 58.89596408961026}, {\"dates\": \"2022-08-28T00:00:00\", \"variable\": \"78\", \"CRPS_score\": 56.043613887012654}, {\"dates\": \"2022-09-04T00:00:00\", \"variable\": \"78\", \"CRPS_score\": 60.32009221380388}, {\"dates\": \"2022-09-11T00:00:00\", \"variable\": \"78\", \"CRPS_score\": 72.49969988348779}, {\"dates\": \"2022-09-18T00:00:00\", \"variable\": \"78\", \"CRPS_score\": 60.75336064712131}, {\"dates\": \"2022-09-25T00:00:00\", \"variable\": \"78\", \"CRPS_score\": 58.876527408418305}, {\"dates\": \"2022-10-02T00:00:00\", \"variable\": \"78\", \"CRPS_score\": 60.680677740663825}, {\"dates\": \"2022-10-09T00:00:00\", \"variable\": \"78\", \"CRPS_score\": 73.26342151711943}, {\"dates\": \"2022-10-16T00:00:00\", \"variable\": \"78\", \"CRPS_score\": 99.88701729455387}, {\"dates\": \"2022-10-23T00:00:00\", \"variable\": \"78\", \"CRPS_score\": 89.22985872158579}, {\"dates\": \"2022-10-30T00:00:00\", \"variable\": \"78\", \"CRPS_score\": 79.31257286787398}, {\"dates\": \"2022-11-06T00:00:00\", \"variable\": \"78\", \"CRPS_score\": 106.5011492552757}, {\"dates\": \"2022-11-13T00:00:00\", \"variable\": \"78\", \"CRPS_score\": 81.70174562213849}, {\"dates\": \"2022-11-20T00:00:00\", \"variable\": \"78\", \"CRPS_score\": 56.716686343216324}, {\"dates\": \"2022-11-27T00:00:00\", \"variable\": \"78\", \"CRPS_score\": 52.3623055695376}, {\"dates\": \"2022-12-04T00:00:00\", \"variable\": \"78\", \"CRPS_score\": 58.60689776215247}, {\"dates\": \"2022-12-11T00:00:00\", \"variable\": \"78\", \"CRPS_score\": 73.96927018034276}, {\"dates\": \"2022-12-18T00:00:00\", \"variable\": \"78\", \"CRPS_score\": 65.72062486161964}, {\"dates\": \"2022-12-25T00:00:00\", \"variable\": \"78\", \"CRPS_score\": 55.64540067986688}, {\"dates\": \"2023-01-01T00:00:00\", \"variable\": \"78\", \"CRPS_score\": 128.80760405855702}, {\"dates\": \"2023-01-08T00:00:00\", \"variable\": \"78\", \"CRPS_score\": 65.80558919581127}, {\"dates\": \"2023-01-15T00:00:00\", \"variable\": \"78\", \"CRPS_score\": 66.65761594239373}, {\"dates\": \"2023-01-22T00:00:00\", \"variable\": \"78\", \"CRPS_score\": 91.93513812831965}, {\"dates\": \"2023-01-29T00:00:00\", \"variable\": \"78\", \"CRPS_score\": 51.653366062806796}, {\"dates\": \"2023-02-05T00:00:00\", \"variable\": \"78\", \"CRPS_score\": 227.85349054023058}, {\"dates\": \"2023-02-12T00:00:00\", \"variable\": \"78\", \"CRPS_score\": 65.71018850234223}, {\"dates\": \"2023-02-19T00:00:00\", \"variable\": \"78\", \"CRPS_score\": 88.89014417679806}, {\"dates\": \"2023-02-26T00:00:00\", \"variable\": \"78\", \"CRPS_score\": 299.53508200199315}, {\"dates\": \"2023-03-05T00:00:00\", \"variable\": \"78\", \"CRPS_score\": 213.5330455427944}, {\"dates\": \"2023-03-12T00:00:00\", \"variable\": \"78\", \"CRPS_score\": 467.2498744313151}, {\"dates\": \"2023-03-19T00:00:00\", \"variable\": \"78\", \"CRPS_score\": 684.0754634041364}, {\"dates\": \"2023-03-26T00:00:00\", \"variable\": \"78\", \"CRPS_score\": 864.3383199156941}, {\"dates\": \"2023-04-02T00:00:00\", \"variable\": \"78\", \"CRPS_score\": 697.9584996523649}, {\"dates\": \"2023-04-09T00:00:00\", \"variable\": \"78\", \"CRPS_score\": 895.6010738025082}, {\"dates\": \"2023-04-16T00:00:00\", \"variable\": \"78\", \"CRPS_score\": 466.55569156180445}, {\"dates\": \"2023-04-23T00:00:00\", \"variable\": \"78\", \"CRPS_score\": 528.3984853674209}, {\"dates\": \"2023-04-30T00:00:00\", \"variable\": \"78\", \"CRPS_score\": 994.4511814647211}, {\"dates\": \"2023-05-07T00:00:00\", \"variable\": \"78\", \"CRPS_score\": 826.1211159796421}, {\"dates\": \"2023-05-14T00:00:00\", \"variable\": \"78\", \"CRPS_score\": 954.6113903872757}, {\"dates\": \"2023-05-21T00:00:00\", \"variable\": \"78\", \"CRPS_score\": 1011.8313816619253}, {\"dates\": \"2023-05-28T00:00:00\", \"variable\": \"78\", \"CRPS_score\": 365.74079925442453}, {\"dates\": \"2023-06-04T00:00:00\", \"variable\": \"78\", \"CRPS_score\": 187.86628010128283}, {\"dates\": \"2023-06-11T00:00:00\", \"variable\": \"78\", \"CRPS_score\": 469.3135000368865}, {\"dates\": \"2023-06-18T00:00:00\", \"variable\": \"78\", \"CRPS_score\": 312.68117421676124}, {\"dates\": \"2023-06-25T00:00:00\", \"variable\": \"78\", \"CRPS_score\": 422.2681503154363}]}}, {\"mode\": \"vega-lite\"});\n",
       "</script>"
      ],
      "text/plain": [
       "alt.VConcatChart(...)"
      ]
     },
     "execution_count": 14,
     "metadata": {},
     "output_type": "execute_result"
    }
   ],
   "source": [
    "score.plot_crps()"
   ]
  },
  {
   "cell_type": "markdown",
   "id": "0bfc7d67",
   "metadata": {},
   "source": [
    "To see the Log score for your model (key = `preds`) and the other, use the code below. The first dict contains the score by each point, and the second one shows the mean of the score.  "
   ]
  },
  {
   "cell_type": "code",
   "execution_count": 15,
   "id": "c8e3cf5c",
   "metadata": {},
   "outputs": [
    {
     "data": {
      "text/plain": [
       "({'preds': dates\n",
       "  2022-01-02   -232.270353\n",
       "  2022-01-09    -58.374197\n",
       "  2022-01-16   -124.484547\n",
       "  2022-01-23    -67.541155\n",
       "  2022-01-30     -3.951334\n",
       "                   ...    \n",
       "  2023-05-28     -8.223276\n",
       "  2023-06-04     -8.592945\n",
       "  2023-06-11     -8.895450\n",
       "  2023-06-18     -7.435560\n",
       "  2023-06-25     -7.828248\n",
       "  Length: 78, dtype: float64,\n",
       "  '77': dates\n",
       "  2022-01-02   -6.992415\n",
       "  2022-01-09   -6.870076\n",
       "  2022-01-16   -6.046198\n",
       "  2022-01-23   -6.580273\n",
       "  2022-01-30   -6.493813\n",
       "                  ...   \n",
       "  2023-05-28   -7.019283\n",
       "  2023-06-04   -9.422886\n",
       "  2023-06-11   -8.505237\n",
       "  2023-06-18   -7.281535\n",
       "  2023-06-25   -7.342796\n",
       "  Length: 78, dtype: float64,\n",
       "  '78': dates\n",
       "  2022-01-02   -6.236466\n",
       "  2022-01-09   -5.808406\n",
       "  2022-01-16   -5.562729\n",
       "  2022-01-23   -5.662115\n",
       "  2022-01-30   -5.963385\n",
       "                  ...   \n",
       "  2023-05-28   -7.901946\n",
       "  2023-06-04   -7.206261\n",
       "  2023-06-11   -8.591845\n",
       "  2023-06-18   -7.677499\n",
       "  2023-06-25   -8.896633\n",
       "  Length: 78, dtype: float64},\n",
       " {'preds': -12.11780574106819,\n",
       "  '77': -7.13834876171043,\n",
       "  '78': -7.2065948303292044})"
      ]
     },
     "execution_count": 15,
     "metadata": {},
     "output_type": "execute_result"
    }
   ],
   "source": [
    "score.log_score"
   ]
  },
  {
   "cell_type": "markdown",
   "id": "8a24035f",
   "metadata": {},
   "source": [
    "To plot this score: "
   ]
  },
  {
   "cell_type": "code",
   "execution_count": 16,
   "id": "820b93f4",
   "metadata": {},
   "outputs": [
    {
     "data": {
      "text/html": [
       "\n",
       "<style>\n",
       "  #altair-viz-2d6f6f6b694d4105abc8e26144a4f35a.vega-embed {\n",
       "    width: 100%;\n",
       "    display: flex;\n",
       "  }\n",
       "\n",
       "  #altair-viz-2d6f6f6b694d4105abc8e26144a4f35a.vega-embed details,\n",
       "  #altair-viz-2d6f6f6b694d4105abc8e26144a4f35a.vega-embed details summary {\n",
       "    position: relative;\n",
       "  }\n",
       "</style>\n",
       "<div id=\"altair-viz-2d6f6f6b694d4105abc8e26144a4f35a\"></div>\n",
       "<script type=\"text/javascript\">\n",
       "  var VEGA_DEBUG = (typeof VEGA_DEBUG == \"undefined\") ? {} : VEGA_DEBUG;\n",
       "  (function(spec, embedOpt){\n",
       "    let outputDiv = document.currentScript.previousElementSibling;\n",
       "    if (outputDiv.id !== \"altair-viz-2d6f6f6b694d4105abc8e26144a4f35a\") {\n",
       "      outputDiv = document.getElementById(\"altair-viz-2d6f6f6b694d4105abc8e26144a4f35a\");\n",
       "    }\n",
       "    const paths = {\n",
       "      \"vega\": \"https://cdn.jsdelivr.net/npm/vega@5?noext\",\n",
       "      \"vega-lib\": \"https://cdn.jsdelivr.net/npm/vega-lib?noext\",\n",
       "      \"vega-lite\": \"https://cdn.jsdelivr.net/npm/vega-lite@5.17.0?noext\",\n",
       "      \"vega-embed\": \"https://cdn.jsdelivr.net/npm/vega-embed@6?noext\",\n",
       "    };\n",
       "\n",
       "    function maybeLoadScript(lib, version) {\n",
       "      var key = `${lib.replace(\"-\", \"\")}_version`;\n",
       "      return (VEGA_DEBUG[key] == version) ?\n",
       "        Promise.resolve(paths[lib]) :\n",
       "        new Promise(function(resolve, reject) {\n",
       "          var s = document.createElement('script');\n",
       "          document.getElementsByTagName(\"head\")[0].appendChild(s);\n",
       "          s.async = true;\n",
       "          s.onload = () => {\n",
       "            VEGA_DEBUG[key] = version;\n",
       "            return resolve(paths[lib]);\n",
       "          };\n",
       "          s.onerror = () => reject(`Error loading script: ${paths[lib]}`);\n",
       "          s.src = paths[lib];\n",
       "        });\n",
       "    }\n",
       "\n",
       "    function showError(err) {\n",
       "      outputDiv.innerHTML = `<div class=\"error\" style=\"color:red;\">${err}</div>`;\n",
       "      throw err;\n",
       "    }\n",
       "\n",
       "    function displayChart(vegaEmbed) {\n",
       "      vegaEmbed(outputDiv, spec, embedOpt)\n",
       "        .catch(err => showError(`Javascript Error: ${err.message}<br>This usually means there's a typo in your chart specification. See the javascript console for the full traceback.`));\n",
       "    }\n",
       "\n",
       "    if(typeof define === \"function\" && define.amd) {\n",
       "      requirejs.config({paths});\n",
       "      require([\"vega-embed\"], displayChart, err => showError(`Error loading script: ${err.message}`));\n",
       "    } else {\n",
       "      maybeLoadScript(\"vega\", \"5\")\n",
       "        .then(() => maybeLoadScript(\"vega-lite\", \"5.17.0\"))\n",
       "        .then(() => maybeLoadScript(\"vega-embed\", \"6\"))\n",
       "        .catch(showError)\n",
       "        .then(() => displayChart(vegaEmbed));\n",
       "    }\n",
       "  })({\"config\": {\"view\": {\"continuousWidth\": 300, \"continuousHeight\": 300}}, \"vconcat\": [{\"data\": {\"name\": \"data-d4775c7e2b59a23393eb246775bc1f3d\"}, \"mark\": {\"type\": \"line\"}, \"encoding\": {\"color\": {\"value\": \"black\"}, \"x\": {\"field\": \"dates\", \"type\": \"temporal\"}, \"y\": {\"field\": \"casos\", \"type\": \"quantitative\"}}, \"height\": 150, \"title\": \"New cases\", \"width\": 400}, {\"layer\": [{\"mark\": {\"type\": \"point\", \"filled\": false}, \"encoding\": {\"color\": {\"field\": \"variable\", \"legend\": {\"legendX\": 100}, \"type\": \"nominal\"}, \"x\": {\"field\": \"dates\", \"type\": \"temporal\"}, \"y\": {\"field\": \"log_score\", \"type\": \"quantitative\"}}}, {\"mark\": {\"type\": \"point\"}, \"encoding\": {\"color\": {\"field\": \"variable\", \"legend\": {\"legendX\": 100}, \"type\": \"nominal\"}, \"opacity\": {\"condition\": {\"param\": \"param_2\", \"value\": 1, \"empty\": false}, \"value\": 0}, \"x\": {\"field\": \"dates\", \"type\": \"temporal\"}, \"y\": {\"field\": \"log_score\", \"type\": \"quantitative\"}}}, {\"mark\": {\"type\": \"rule\", \"color\": \"gray\"}, \"encoding\": {\"opacity\": {\"condition\": {\"param\": \"param_2\", \"value\": 0.3, \"empty\": false}, \"value\": 0}, \"tooltip\": [{\"field\": \"dates\", \"title\": \"Date\", \"type\": \"temporal\"}, {\"field\": \"preds\", \"format\": \".2f\", \"type\": \"quantitative\"}, {\"field\": \"77\", \"format\": \".2f\", \"type\": \"quantitative\"}, {\"field\": \"78\", \"format\": \".2f\", \"type\": \"quantitative\"}], \"x\": {\"field\": \"dates\", \"type\": \"temporal\"}}, \"name\": \"view_2\", \"transform\": [{\"pivot\": \"variable\", \"value\": \"log_score\", \"groupby\": [\"dates\"]}]}], \"data\": {\"name\": \"data-a7b84a0c2a435dc066c19531b3eeb7b8\"}, \"height\": 250, \"title\": {\"text\": \"Log score\", \"subtitle\": \"Bigger is better\"}, \"width\": 400}], \"params\": [{\"name\": \"param_2\", \"select\": {\"type\": \"point\", \"fields\": [\"dates\"], \"nearest\": true, \"on\": \"pointerover\"}, \"views\": [\"view_2\"]}], \"$schema\": \"https://vega.github.io/schema/vega-lite/v5.17.0.json\", \"datasets\": {\"data-d4775c7e2b59a23393eb246775bc1f3d\": [{\"dates\": \"2022-01-02T00:00:00\", \"casos\": 21.0}, {\"dates\": \"2022-01-09T00:00:00\", \"casos\": 14.0}, {\"dates\": \"2022-01-16T00:00:00\", \"casos\": 22.0}, {\"dates\": \"2022-01-23T00:00:00\", \"casos\": 19.0}, {\"dates\": \"2022-01-30T00:00:00\", \"casos\": 31.0}, {\"dates\": \"2022-02-06T00:00:00\", \"casos\": 35.0}, {\"dates\": \"2022-02-13T00:00:00\", \"casos\": 47.0}, {\"dates\": \"2022-02-20T00:00:00\", \"casos\": 62.0}, {\"dates\": \"2022-02-27T00:00:00\", \"casos\": 66.0}, {\"dates\": \"2022-03-06T00:00:00\", \"casos\": 116.0}, {\"dates\": \"2022-03-13T00:00:00\", \"casos\": 126.0}, {\"dates\": \"2022-03-20T00:00:00\", \"casos\": 177.0}, {\"dates\": \"2022-03-27T00:00:00\", \"casos\": 153.0}, {\"dates\": \"2022-04-03T00:00:00\", \"casos\": 222.0}, {\"dates\": \"2022-04-10T00:00:00\", \"casos\": 201.0}, {\"dates\": \"2022-04-17T00:00:00\", \"casos\": 234.0}, {\"dates\": \"2022-04-24T00:00:00\", \"casos\": 342.0}, {\"dates\": \"2022-05-01T00:00:00\", \"casos\": 461.0}, {\"dates\": \"2022-05-08T00:00:00\", \"casos\": 505.0}, {\"dates\": \"2022-05-15T00:00:00\", \"casos\": 406.0}, {\"dates\": \"2022-05-22T00:00:00\", \"casos\": 400.0}, {\"dates\": \"2022-05-29T00:00:00\", \"casos\": 338.0}, {\"dates\": \"2022-06-05T00:00:00\", \"casos\": 255.0}, {\"dates\": \"2022-06-12T00:00:00\", \"casos\": 153.0}, {\"dates\": \"2022-06-19T00:00:00\", \"casos\": 209.0}, {\"dates\": \"2022-06-26T00:00:00\", \"casos\": 189.0}, {\"dates\": \"2022-07-03T00:00:00\", \"casos\": 155.0}, {\"dates\": \"2022-07-10T00:00:00\", \"casos\": 144.0}, {\"dates\": \"2022-07-17T00:00:00\", \"casos\": 194.0}, {\"dates\": \"2022-07-24T00:00:00\", \"casos\": 148.0}, {\"dates\": \"2022-07-31T00:00:00\", \"casos\": 145.0}, {\"dates\": \"2022-08-07T00:00:00\", \"casos\": 106.0}, {\"dates\": \"2022-08-14T00:00:00\", \"casos\": 110.0}, {\"dates\": \"2022-08-21T00:00:00\", \"casos\": 99.0}, {\"dates\": \"2022-08-28T00:00:00\", \"casos\": 94.0}, {\"dates\": \"2022-09-04T00:00:00\", \"casos\": 101.0}, {\"dates\": \"2022-09-11T00:00:00\", \"casos\": 120.0}, {\"dates\": \"2022-09-18T00:00:00\", \"casos\": 102.0}, {\"dates\": \"2022-09-25T00:00:00\", \"casos\": 95.0}, {\"dates\": \"2022-10-02T00:00:00\", \"casos\": 102.0}, {\"dates\": \"2022-10-09T00:00:00\", \"casos\": 123.0}, {\"dates\": \"2022-10-16T00:00:00\", \"casos\": 160.0}, {\"dates\": \"2022-10-23T00:00:00\", \"casos\": 139.0}, {\"dates\": \"2022-10-30T00:00:00\", \"casos\": 131.0}, {\"dates\": \"2022-11-06T00:00:00\", \"casos\": 171.0}, {\"dates\": \"2022-11-13T00:00:00\", \"casos\": 129.0}, {\"dates\": \"2022-11-20T00:00:00\", \"casos\": 94.0}, {\"dates\": \"2022-11-27T00:00:00\", \"casos\": 86.0}, {\"dates\": \"2022-12-04T00:00:00\", \"casos\": 98.0}, {\"dates\": \"2022-12-11T00:00:00\", \"casos\": 123.0}, {\"dates\": \"2022-12-18T00:00:00\", \"casos\": 117.0}, {\"dates\": \"2022-12-25T00:00:00\", \"casos\": 163.0}, {\"dates\": \"2023-01-01T00:00:00\", \"casos\": 230.0}, {\"dates\": \"2023-01-08T00:00:00\", \"casos\": 218.0}, {\"dates\": \"2023-01-15T00:00:00\", \"casos\": 246.0}, {\"dates\": \"2023-01-22T00:00:00\", \"casos\": 312.0}, {\"dates\": \"2023-01-29T00:00:00\", \"casos\": 383.0}, {\"dates\": \"2023-02-05T00:00:00\", \"casos\": 525.0}, {\"dates\": \"2023-02-12T00:00:00\", \"casos\": 372.0}, {\"dates\": \"2023-02-19T00:00:00\", \"casos\": 507.0}, {\"dates\": \"2023-02-26T00:00:00\", \"casos\": 870.0}, {\"dates\": \"2023-03-05T00:00:00\", \"casos\": 945.0}, {\"dates\": \"2023-03-12T00:00:00\", \"casos\": 1125.0}, {\"dates\": \"2023-03-19T00:00:00\", \"casos\": 1382.0}, {\"dates\": \"2023-03-26T00:00:00\", \"casos\": 1580.0}, {\"dates\": \"2023-04-02T00:00:00\", \"casos\": 1420.0}, {\"dates\": \"2023-04-09T00:00:00\", \"casos\": 1783.0}, {\"dates\": \"2023-04-16T00:00:00\", \"casos\": 1502.0}, {\"dates\": \"2023-04-23T00:00:00\", \"casos\": 1572.0}, {\"dates\": \"2023-04-30T00:00:00\", \"casos\": 1919.0}, {\"dates\": \"2023-05-07T00:00:00\", \"casos\": 1807.0}, {\"dates\": \"2023-05-14T00:00:00\", \"casos\": 1731.0}, {\"dates\": \"2023-05-21T00:00:00\", \"casos\": 1479.0}, {\"dates\": \"2023-05-28T00:00:00\", \"casos\": 1328.0}, {\"dates\": \"2023-06-04T00:00:00\", \"casos\": 1238.0}, {\"dates\": \"2023-06-11T00:00:00\", \"casos\": 1348.0}, {\"dates\": \"2023-06-18T00:00:00\", \"casos\": 1236.0}, {\"dates\": \"2023-06-25T00:00:00\", \"casos\": 996.0}], \"data-a7b84a0c2a435dc066c19531b3eeb7b8\": [{\"dates\": \"2022-01-02T00:00:00\", \"variable\": \"preds\", \"log_score\": -232.27035346373356}, {\"dates\": \"2022-01-09T00:00:00\", \"variable\": \"preds\", \"log_score\": -58.37419710773515}, {\"dates\": \"2022-01-16T00:00:00\", \"variable\": \"preds\", \"log_score\": -124.48454709025962}, {\"dates\": \"2022-01-23T00:00:00\", \"variable\": \"preds\", \"log_score\": -67.54115526412811}, {\"dates\": \"2022-01-30T00:00:00\", \"variable\": \"preds\", \"log_score\": -3.951334468739589}, {\"dates\": \"2022-02-06T00:00:00\", \"variable\": \"preds\", \"log_score\": -4.286487199660676}, {\"dates\": \"2022-02-13T00:00:00\", \"variable\": \"preds\", \"log_score\": -5.562058598001041}, {\"dates\": \"2022-02-20T00:00:00\", \"variable\": \"preds\", \"log_score\": -6.9992028762823475}, {\"dates\": \"2022-02-27T00:00:00\", \"variable\": \"preds\", \"log_score\": -4.004891559710325}, {\"dates\": \"2022-03-06T00:00:00\", \"variable\": \"preds\", \"log_score\": -5.4570549497558885}, {\"dates\": \"2022-03-13T00:00:00\", \"variable\": \"preds\", \"log_score\": -5.421192429944875}, {\"dates\": \"2022-03-20T00:00:00\", \"variable\": \"preds\", \"log_score\": -6.397295812522659}, {\"dates\": \"2022-03-27T00:00:00\", \"variable\": \"preds\", \"log_score\": -5.279721727042008}, {\"dates\": \"2022-04-03T00:00:00\", \"variable\": \"preds\", \"log_score\": -5.644711960586294}, {\"dates\": \"2022-04-10T00:00:00\", \"variable\": \"preds\", \"log_score\": -6.023211790761224}, {\"dates\": \"2022-04-17T00:00:00\", \"variable\": \"preds\", \"log_score\": -6.354099075153687}, {\"dates\": \"2022-04-24T00:00:00\", \"variable\": \"preds\", \"log_score\": -6.046968296275876}, {\"dates\": \"2022-05-01T00:00:00\", \"variable\": \"preds\", \"log_score\": -6.935040787805798}, {\"dates\": \"2022-05-08T00:00:00\", \"variable\": \"preds\", \"log_score\": -6.941796390048693}, {\"dates\": \"2022-05-15T00:00:00\", \"variable\": \"preds\", \"log_score\": -6.6622767222572}, {\"dates\": \"2022-05-22T00:00:00\", \"variable\": \"preds\", \"log_score\": -6.3228441324829765}, {\"dates\": \"2022-05-29T00:00:00\", \"variable\": \"preds\", \"log_score\": -6.71499838139107}, {\"dates\": \"2022-06-05T00:00:00\", \"variable\": \"preds\", \"log_score\": -7.151047153710327}, {\"dates\": \"2022-06-12T00:00:00\", \"variable\": \"preds\", \"log_score\": -7.493176710271507}, {\"dates\": \"2022-06-19T00:00:00\", \"variable\": \"preds\", \"log_score\": -5.301168177270788}, {\"dates\": \"2022-06-26T00:00:00\", \"variable\": \"preds\", \"log_score\": -5.401372034051216}, {\"dates\": \"2022-07-03T00:00:00\", \"variable\": \"preds\", \"log_score\": -5.589280983496495}, {\"dates\": \"2022-07-10T00:00:00\", \"variable\": \"preds\", \"log_score\": -5.796917404709002}, {\"dates\": \"2022-07-17T00:00:00\", \"variable\": \"preds\", \"log_score\": -5.387750889923618}, {\"dates\": \"2022-07-24T00:00:00\", \"variable\": \"preds\", \"log_score\": -5.178406147001528}, {\"dates\": \"2022-07-31T00:00:00\", \"variable\": \"preds\", \"log_score\": -5.449254421556976}, {\"dates\": \"2022-08-07T00:00:00\", \"variable\": \"preds\", \"log_score\": -5.687570670963762}, {\"dates\": \"2022-08-14T00:00:00\", \"variable\": \"preds\", \"log_score\": -4.630584523678709}, {\"dates\": \"2022-08-21T00:00:00\", \"variable\": \"preds\", \"log_score\": -4.866244127961839}, {\"dates\": \"2022-08-28T00:00:00\", \"variable\": \"preds\", \"log_score\": -5.145157801451757}, {\"dates\": \"2022-09-04T00:00:00\", \"variable\": \"preds\", \"log_score\": -5.346140123001717}, {\"dates\": \"2022-09-11T00:00:00\", \"variable\": \"preds\", \"log_score\": -4.695466075413975}, {\"dates\": \"2022-09-18T00:00:00\", \"variable\": \"preds\", \"log_score\": -4.755377520344719}, {\"dates\": \"2022-09-25T00:00:00\", \"variable\": \"preds\", \"log_score\": -5.021951199387443}, {\"dates\": \"2022-10-02T00:00:00\", \"variable\": \"preds\", \"log_score\": -5.253957085258468}, {\"dates\": \"2022-10-09T00:00:00\", \"variable\": \"preds\", \"log_score\": -4.720812642933439}, {\"dates\": \"2022-10-16T00:00:00\", \"variable\": \"preds\", \"log_score\": -5.607786605103129}, {\"dates\": \"2022-10-23T00:00:00\", \"variable\": \"preds\", \"log_score\": -5.274313113234675}, {\"dates\": \"2022-10-30T00:00:00\", \"variable\": \"preds\", \"log_score\": -5.38490594282027}, {\"dates\": \"2022-11-06T00:00:00\", \"variable\": \"preds\", \"log_score\": -5.099008002864029}, {\"dates\": \"2022-11-13T00:00:00\", \"variable\": \"preds\", \"log_score\": -5.1370303270744655}, {\"dates\": \"2022-11-20T00:00:00\", \"variable\": \"preds\", \"log_score\": -5.542453433390209}, {\"dates\": \"2022-11-27T00:00:00\", \"variable\": \"preds\", \"log_score\": -5.778513542536262}, {\"dates\": \"2022-12-04T00:00:00\", \"variable\": \"preds\", \"log_score\": -4.4071774941583435}, {\"dates\": \"2022-12-11T00:00:00\", \"variable\": \"preds\", \"log_score\": -5.126762688463764}, {\"dates\": \"2022-12-18T00:00:00\", \"variable\": \"preds\", \"log_score\": -5.094510856431143}, {\"dates\": \"2022-12-25T00:00:00\", \"variable\": \"preds\", \"log_score\": -5.959888306110595}, {\"dates\": \"2023-01-01T00:00:00\", \"variable\": \"preds\", \"log_score\": -5.8956185737285685}, {\"dates\": \"2023-01-08T00:00:00\", \"variable\": \"preds\", \"log_score\": -5.580523377411269}, {\"dates\": \"2023-01-15T00:00:00\", \"variable\": \"preds\", \"log_score\": -5.9270254699601965}, {\"dates\": \"2023-01-22T00:00:00\", \"variable\": \"preds\", \"log_score\": -6.415577457812207}, {\"dates\": \"2023-01-29T00:00:00\", \"variable\": \"preds\", \"log_score\": -5.947110706362945}, {\"dates\": \"2023-02-05T00:00:00\", \"variable\": \"preds\", \"log_score\": -6.7013683754407785}, {\"dates\": \"2023-02-12T00:00:00\", \"variable\": \"preds\", \"log_score\": -6.53034509529909}, {\"dates\": \"2023-02-19T00:00:00\", \"variable\": \"preds\", \"log_score\": -6.918146379380907}, {\"dates\": \"2023-02-26T00:00:00\", \"variable\": \"preds\", \"log_score\": -7.84258083154196}, {\"dates\": \"2023-03-05T00:00:00\", \"variable\": \"preds\", \"log_score\": -7.5696877174975405}, {\"dates\": \"2023-03-12T00:00:00\", \"variable\": \"preds\", \"log_score\": -7.883083025749188}, {\"dates\": \"2023-03-19T00:00:00\", \"variable\": \"preds\", \"log_score\": -8.243288581170255}, {\"dates\": \"2023-03-26T00:00:00\", \"variable\": \"preds\", \"log_score\": -7.575480931813537}, {\"dates\": \"2023-04-02T00:00:00\", \"variable\": \"preds\", \"log_score\": -8.00134039282842}, {\"dates\": \"2023-04-09T00:00:00\", \"variable\": \"preds\", \"log_score\": -8.429622177183658}, {\"dates\": \"2023-04-16T00:00:00\", \"variable\": \"preds\", \"log_score\": -8.807220082954052}, {\"dates\": \"2023-04-23T00:00:00\", \"variable\": \"preds\", \"log_score\": -7.724465204155005}, {\"dates\": \"2023-04-30T00:00:00\", \"variable\": \"preds\", \"log_score\": -8.096115877298583}, {\"dates\": \"2023-05-07T00:00:00\", \"variable\": \"preds\", \"log_score\": -8.484354246936894}, {\"dates\": \"2023-05-14T00:00:00\", \"variable\": \"preds\", \"log_score\": -8.822762088435523}, {\"dates\": \"2023-05-21T00:00:00\", \"variable\": \"preds\", \"log_score\": -7.85822664010006}, {\"dates\": \"2023-05-28T00:00:00\", \"variable\": \"preds\", \"log_score\": -8.223275895443233}, {\"dates\": \"2023-06-04T00:00:00\", \"variable\": \"preds\", \"log_score\": -8.592944627050493}, {\"dates\": \"2023-06-11T00:00:00\", \"variable\": \"preds\", \"log_score\": -8.895450308587868}, {\"dates\": \"2023-06-18T00:00:00\", \"variable\": \"preds\", \"log_score\": -7.435560145288514}, {\"dates\": \"2023-06-25T00:00:00\", \"variable\": \"preds\", \"log_score\": -7.828247505035145}, {\"dates\": \"2022-01-02T00:00:00\", \"variable\": \"77\", \"log_score\": -6.992415441357596}, {\"dates\": \"2022-01-09T00:00:00\", \"variable\": \"77\", \"log_score\": -6.870075529986306}, {\"dates\": \"2022-01-16T00:00:00\", \"variable\": \"77\", \"log_score\": -6.046197565535977}, {\"dates\": \"2022-01-23T00:00:00\", \"variable\": \"77\", \"log_score\": -6.580272789857316}, {\"dates\": \"2022-01-30T00:00:00\", \"variable\": \"77\", \"log_score\": -6.493813004534157}, {\"dates\": \"2022-02-06T00:00:00\", \"variable\": \"77\", \"log_score\": -6.492569188163004}, {\"dates\": \"2022-02-13T00:00:00\", \"variable\": \"77\", \"log_score\": -6.454462318882965}, {\"dates\": \"2022-02-20T00:00:00\", \"variable\": \"77\", \"log_score\": -6.6546131410210565}, {\"dates\": \"2022-02-27T00:00:00\", \"variable\": \"77\", \"log_score\": -6.833395029696827}, {\"dates\": \"2022-03-06T00:00:00\", \"variable\": \"77\", \"log_score\": -7.114655311756652}, {\"dates\": \"2022-03-13T00:00:00\", \"variable\": \"77\", \"log_score\": -6.988530774345875}, {\"dates\": \"2022-03-20T00:00:00\", \"variable\": \"77\", \"log_score\": -6.933775539423366}, {\"dates\": \"2022-03-27T00:00:00\", \"variable\": \"77\", \"log_score\": -6.775964883071362}, {\"dates\": \"2022-04-03T00:00:00\", \"variable\": \"77\", \"log_score\": -6.348806023288524}, {\"dates\": \"2022-04-10T00:00:00\", \"variable\": \"77\", \"log_score\": -6.8920516285865006}, {\"dates\": \"2022-04-17T00:00:00\", \"variable\": \"77\", \"log_score\": -7.289278580299452}, {\"dates\": \"2022-04-24T00:00:00\", \"variable\": \"77\", \"log_score\": -7.546326457982746}, {\"dates\": \"2022-05-01T00:00:00\", \"variable\": \"77\", \"log_score\": -7.635283944759791}, {\"dates\": \"2022-05-08T00:00:00\", \"variable\": \"77\", \"log_score\": -7.765563757702976}, {\"dates\": \"2022-05-15T00:00:00\", \"variable\": \"77\", \"log_score\": -7.43078331520807}, {\"dates\": \"2022-05-22T00:00:00\", \"variable\": \"77\", \"log_score\": -7.0916564638190565}, {\"dates\": \"2022-05-29T00:00:00\", \"variable\": \"77\", \"log_score\": -7.44968045392909}, {\"dates\": \"2022-06-05T00:00:00\", \"variable\": \"77\", \"log_score\": -8.813543849512584}, {\"dates\": \"2022-06-12T00:00:00\", \"variable\": \"77\", \"log_score\": -8.245535675840081}, {\"dates\": \"2022-06-19T00:00:00\", \"variable\": \"77\", \"log_score\": -7.743083598730219}, {\"dates\": \"2022-06-26T00:00:00\", \"variable\": \"77\", \"log_score\": -7.293915236000341}, {\"dates\": \"2022-07-03T00:00:00\", \"variable\": \"77\", \"log_score\": -7.347614756188939}, {\"dates\": \"2022-07-10T00:00:00\", \"variable\": \"77\", \"log_score\": -6.930178580248587}, {\"dates\": \"2022-07-17T00:00:00\", \"variable\": \"77\", \"log_score\": -6.92650306714976}, {\"dates\": \"2022-07-24T00:00:00\", \"variable\": \"77\", \"log_score\": -7.114013349052896}, {\"dates\": \"2022-07-31T00:00:00\", \"variable\": \"77\", \"log_score\": -6.774767639202765}, {\"dates\": \"2022-08-07T00:00:00\", \"variable\": \"77\", \"log_score\": -6.692895889518652}, {\"dates\": \"2022-08-14T00:00:00\", \"variable\": \"77\", \"log_score\": -6.663600624644081}, {\"dates\": \"2022-08-21T00:00:00\", \"variable\": \"77\", \"log_score\": -6.7294739372717975}, {\"dates\": \"2022-08-28T00:00:00\", \"variable\": \"77\", \"log_score\": -6.858023742204471}, {\"dates\": \"2022-09-04T00:00:00\", \"variable\": \"77\", \"log_score\": -6.895872196369931}, {\"dates\": \"2022-09-11T00:00:00\", \"variable\": \"77\", \"log_score\": -6.503135997644514}, {\"dates\": \"2022-09-18T00:00:00\", \"variable\": \"77\", \"log_score\": -5.798815012473156}, {\"dates\": \"2022-09-25T00:00:00\", \"variable\": \"77\", \"log_score\": -6.551265695442198}, {\"dates\": \"2022-10-02T00:00:00\", \"variable\": \"77\", \"log_score\": -6.407603088387828}, {\"dates\": \"2022-10-09T00:00:00\", \"variable\": \"77\", \"log_score\": -6.954241060064169}, {\"dates\": \"2022-10-16T00:00:00\", \"variable\": \"77\", \"log_score\": -7.021548959518747}, {\"dates\": \"2022-10-23T00:00:00\", \"variable\": \"77\", \"log_score\": -7.342266931166756}, {\"dates\": \"2022-10-30T00:00:00\", \"variable\": \"77\", \"log_score\": -7.351712664570618}, {\"dates\": \"2022-11-06T00:00:00\", \"variable\": \"77\", \"log_score\": -7.454378773209983}, {\"dates\": \"2022-11-13T00:00:00\", \"variable\": \"77\", \"log_score\": -7.189998560799574}, {\"dates\": \"2022-11-20T00:00:00\", \"variable\": \"77\", \"log_score\": -6.9785347429784315}, {\"dates\": \"2022-11-27T00:00:00\", \"variable\": \"77\", \"log_score\": -6.693778293537582}, {\"dates\": \"2022-12-04T00:00:00\", \"variable\": \"77\", \"log_score\": -6.423104184339056}, {\"dates\": \"2022-12-11T00:00:00\", \"variable\": \"77\", \"log_score\": -6.798555742276464}, {\"dates\": \"2022-12-18T00:00:00\", \"variable\": \"77\", \"log_score\": -6.903345718082295}, {\"dates\": \"2022-12-25T00:00:00\", \"variable\": \"77\", \"log_score\": -7.070191581515197}, {\"dates\": \"2023-01-01T00:00:00\", \"variable\": \"77\", \"log_score\": -7.060574003584756}, {\"dates\": \"2023-01-08T00:00:00\", \"variable\": \"77\", \"log_score\": -7.045223726011194}, {\"dates\": \"2023-01-15T00:00:00\", \"variable\": \"77\", \"log_score\": -6.7194951926085675}, {\"dates\": \"2023-01-22T00:00:00\", \"variable\": \"77\", \"log_score\": -6.690525516728642}, {\"dates\": \"2023-01-29T00:00:00\", \"variable\": \"77\", \"log_score\": -6.862813241341016}, {\"dates\": \"2023-02-05T00:00:00\", \"variable\": \"77\", \"log_score\": -6.823837291109028}, {\"dates\": \"2023-02-12T00:00:00\", \"variable\": \"77\", \"log_score\": -7.105866922163416}, {\"dates\": \"2023-02-19T00:00:00\", \"variable\": \"77\", \"log_score\": -7.117678137697696}, {\"dates\": \"2023-02-26T00:00:00\", \"variable\": \"77\", \"log_score\": -7.31486976019457}, {\"dates\": \"2023-03-05T00:00:00\", \"variable\": \"77\", \"log_score\": -7.4692117810610235}, {\"dates\": \"2023-03-12T00:00:00\", \"variable\": \"77\", \"log_score\": -7.712089190999138}, {\"dates\": \"2023-03-19T00:00:00\", \"variable\": \"77\", \"log_score\": -7.883375583994265}, {\"dates\": \"2023-03-26T00:00:00\", \"variable\": \"77\", \"log_score\": -8.024042251575539}, {\"dates\": \"2023-04-02T00:00:00\", \"variable\": \"77\", \"log_score\": -8.120878682407712}, {\"dates\": \"2023-04-09T00:00:00\", \"variable\": \"77\", \"log_score\": -7.619891709493978}, {\"dates\": \"2023-04-16T00:00:00\", \"variable\": \"77\", \"log_score\": -7.2717711113209}, {\"dates\": \"2023-04-23T00:00:00\", \"variable\": \"77\", \"log_score\": -7.557110758776275}, {\"dates\": \"2023-04-30T00:00:00\", \"variable\": \"77\", \"log_score\": -7.562009280459046}, {\"dates\": \"2023-05-07T00:00:00\", \"variable\": \"77\", \"log_score\": -7.52694401172079}, {\"dates\": \"2023-05-14T00:00:00\", \"variable\": \"77\", \"log_score\": -7.354749338837952}, {\"dates\": \"2023-05-21T00:00:00\", \"variable\": \"77\", \"log_score\": -7.22483902674364}, {\"dates\": \"2023-05-28T00:00:00\", \"variable\": \"77\", \"log_score\": -7.019282786700017}, {\"dates\": \"2023-06-04T00:00:00\", \"variable\": \"77\", \"log_score\": -9.422886161368568}, {\"dates\": \"2023-06-11T00:00:00\", \"variable\": \"77\", \"log_score\": -8.505236512499405}, {\"dates\": \"2023-06-18T00:00:00\", \"variable\": \"77\", \"log_score\": -7.281534953192731}, {\"dates\": \"2023-06-25T00:00:00\", \"variable\": \"77\", \"log_score\": -7.342796189673276}, {\"dates\": \"2022-01-02T00:00:00\", \"variable\": \"78\", \"log_score\": -6.236466467854566}, {\"dates\": \"2022-01-09T00:00:00\", \"variable\": \"78\", \"log_score\": -5.808406418586055}, {\"dates\": \"2022-01-16T00:00:00\", \"variable\": \"78\", \"log_score\": -5.562729308778151}, {\"dates\": \"2022-01-23T00:00:00\", \"variable\": \"78\", \"log_score\": -5.662114576590213}, {\"dates\": \"2022-01-30T00:00:00\", \"variable\": \"78\", \"log_score\": -5.9633853409706}, {\"dates\": \"2022-02-06T00:00:00\", \"variable\": \"78\", \"log_score\": -5.910948715696623}, {\"dates\": \"2022-02-13T00:00:00\", \"variable\": \"78\", \"log_score\": -5.973787535233068}, {\"dates\": \"2022-02-20T00:00:00\", \"variable\": \"78\", \"log_score\": -6.560617030946524}, {\"dates\": \"2022-02-27T00:00:00\", \"variable\": \"78\", \"log_score\": -6.656417785493274}, {\"dates\": \"2022-03-06T00:00:00\", \"variable\": \"78\", \"log_score\": -6.488643431077494}, {\"dates\": \"2022-03-13T00:00:00\", \"variable\": \"78\", \"log_score\": -6.969533367630016}, {\"dates\": \"2022-03-20T00:00:00\", \"variable\": \"78\", \"log_score\": -6.634103421223949}, {\"dates\": \"2022-03-27T00:00:00\", \"variable\": \"78\", \"log_score\": -6.021708283447859}, {\"dates\": \"2022-04-03T00:00:00\", \"variable\": \"78\", \"log_score\": -6.209213364325598}, {\"dates\": \"2022-04-10T00:00:00\", \"variable\": \"78\", \"log_score\": -6.000566694310453}, {\"dates\": \"2022-04-17T00:00:00\", \"variable\": \"78\", \"log_score\": -6.2798928840536}, {\"dates\": \"2022-04-24T00:00:00\", \"variable\": \"78\", \"log_score\": -6.638012758633393}, {\"dates\": \"2022-05-01T00:00:00\", \"variable\": \"78\", \"log_score\": -6.859075897327462}, {\"dates\": \"2022-05-08T00:00:00\", \"variable\": \"78\", \"log_score\": -6.807519734612539}, {\"dates\": \"2022-05-15T00:00:00\", \"variable\": \"78\", \"log_score\": -6.783554797363064}, {\"dates\": \"2022-05-22T00:00:00\", \"variable\": \"78\", \"log_score\": -6.666318156648064}, {\"dates\": \"2022-05-29T00:00:00\", \"variable\": \"78\", \"log_score\": -6.564597935694607}, {\"dates\": \"2022-06-05T00:00:00\", \"variable\": \"78\", \"log_score\": -7.020211838834128}, {\"dates\": \"2022-06-12T00:00:00\", \"variable\": \"78\", \"log_score\": -6.471776505189649}, {\"dates\": \"2022-06-19T00:00:00\", \"variable\": \"78\", \"log_score\": -6.1996834010460615}, {\"dates\": \"2022-06-26T00:00:00\", \"variable\": \"78\", \"log_score\": -6.123168321918948}, {\"dates\": \"2022-07-03T00:00:00\", \"variable\": \"78\", \"log_score\": -6.481467591241835}, {\"dates\": \"2022-07-10T00:00:00\", \"variable\": \"78\", \"log_score\": -6.398175197820311}, {\"dates\": \"2022-07-17T00:00:00\", \"variable\": \"78\", \"log_score\": -6.817999345553271}, {\"dates\": \"2022-07-24T00:00:00\", \"variable\": \"78\", \"log_score\": -6.451905659326475}, {\"dates\": \"2022-07-31T00:00:00\", \"variable\": \"78\", \"log_score\": -6.179400895396535}, {\"dates\": \"2022-08-07T00:00:00\", \"variable\": \"78\", \"log_score\": -6.082390189230521}, {\"dates\": \"2022-08-14T00:00:00\", \"variable\": \"78\", \"log_score\": -6.204910856063947}, {\"dates\": \"2022-08-21T00:00:00\", \"variable\": \"78\", \"log_score\": -6.042529723597497}, {\"dates\": \"2022-08-28T00:00:00\", \"variable\": \"78\", \"log_score\": -5.973112110456799}, {\"dates\": \"2022-09-04T00:00:00\", \"variable\": \"78\", \"log_score\": -6.100373961863847}, {\"dates\": \"2022-09-11T00:00:00\", \"variable\": \"78\", \"log_score\": -6.2068532479900345}, {\"dates\": \"2022-09-18T00:00:00\", \"variable\": \"78\", \"log_score\": -6.0926081537190555}, {\"dates\": \"2022-09-25T00:00:00\", \"variable\": \"78\", \"log_score\": -6.000294860536008}, {\"dates\": \"2022-10-02T00:00:00\", \"variable\": \"78\", \"log_score\": -6.072400413851108}, {\"dates\": \"2022-10-09T00:00:00\", \"variable\": \"78\", \"log_score\": -6.28005494286848}, {\"dates\": \"2022-10-16T00:00:00\", \"variable\": \"78\", \"log_score\": -6.534676971909581}, {\"dates\": \"2022-10-23T00:00:00\", \"variable\": \"78\", \"log_score\": -6.461251527241779}, {\"dates\": \"2022-10-30T00:00:00\", \"variable\": \"78\", \"log_score\": -6.2953479731005855}, {\"dates\": \"2022-11-06T00:00:00\", \"variable\": \"78\", \"log_score\": -6.59669451448484}, {\"dates\": \"2022-11-13T00:00:00\", \"variable\": \"78\", \"log_score\": -6.350720149791762}, {\"dates\": \"2022-11-20T00:00:00\", \"variable\": \"78\", \"log_score\": -6.0704111851619285}, {\"dates\": \"2022-11-27T00:00:00\", \"variable\": \"78\", \"log_score\": -6.009631888527043}, {\"dates\": \"2022-12-04T00:00:00\", \"variable\": \"78\", \"log_score\": -6.00810840640235}, {\"dates\": \"2022-12-11T00:00:00\", \"variable\": \"78\", \"log_score\": -6.231310266608032}, {\"dates\": \"2022-12-18T00:00:00\", \"variable\": \"78\", \"log_score\": -6.210044661250155}, {\"dates\": \"2022-12-25T00:00:00\", \"variable\": \"78\", \"log_score\": -6.030344919933579}, {\"dates\": \"2023-01-01T00:00:00\", \"variable\": \"78\", \"log_score\": -6.824407014356001}, {\"dates\": \"2023-01-08T00:00:00\", \"variable\": \"78\", \"log_score\": -6.176103462439369}, {\"dates\": \"2023-01-15T00:00:00\", \"variable\": \"78\", \"log_score\": -6.242466140077378}, {\"dates\": \"2023-01-22T00:00:00\", \"variable\": \"78\", \"log_score\": -6.474002715169926}, {\"dates\": \"2023-01-29T00:00:00\", \"variable\": \"78\", \"log_score\": -6.313518220469092}, {\"dates\": \"2023-02-05T00:00:00\", \"variable\": \"78\", \"log_score\": -7.734218401869841}, {\"dates\": \"2023-02-12T00:00:00\", \"variable\": \"78\", \"log_score\": -6.314232126852336}, {\"dates\": \"2023-02-19T00:00:00\", \"variable\": \"78\", \"log_score\": -6.588685622264594}, {\"dates\": \"2023-02-26T00:00:00\", \"variable\": \"78\", \"log_score\": -7.8914644213151055}, {\"dates\": \"2023-03-05T00:00:00\", \"variable\": \"78\", \"log_score\": -7.284694494043149}, {\"dates\": \"2023-03-12T00:00:00\", \"variable\": \"78\", \"log_score\": -8.762054522017808}, {\"dates\": \"2023-03-19T00:00:00\", \"variable\": \"78\", \"log_score\": -10.851034900383274}, {\"dates\": \"2023-03-26T00:00:00\", \"variable\": \"78\", \"log_score\": -13.04891262220417}, {\"dates\": \"2023-04-02T00:00:00\", \"variable\": \"78\", \"log_score\": -10.408619669904532}, {\"dates\": \"2023-04-09T00:00:00\", \"variable\": \"78\", \"log_score\": -11.044975503594394}, {\"dates\": \"2023-04-16T00:00:00\", \"variable\": \"78\", \"log_score\": -8.334340078623551}, {\"dates\": \"2023-04-23T00:00:00\", \"variable\": \"78\", \"log_score\": -8.586949717872042}, {\"dates\": \"2023-04-30T00:00:00\", \"variable\": \"78\", \"log_score\": -12.995579802530315}, {\"dates\": \"2023-05-07T00:00:00\", \"variable\": \"78\", \"log_score\": -10.447125927771921}, {\"dates\": \"2023-05-14T00:00:00\", \"variable\": \"78\", \"log_score\": -12.877706107621634}, {\"dates\": \"2023-05-21T00:00:00\", \"variable\": \"78\", \"log_score\": -19.383648009448944}, {\"dates\": \"2023-05-28T00:00:00\", \"variable\": \"78\", \"log_score\": -7.901945773029901}, {\"dates\": \"2023-06-04T00:00:00\", \"variable\": \"78\", \"log_score\": -7.206261287198437}, {\"dates\": \"2023-06-11T00:00:00\", \"variable\": \"78\", \"log_score\": -8.591845061625422}, {\"dates\": \"2023-06-18T00:00:00\", \"variable\": \"78\", \"log_score\": -7.677499005839976}, {\"dates\": \"2023-06-25T00:00:00\", \"variable\": \"78\", \"log_score\": -8.896632569741554}]}}, {\"mode\": \"vega-lite\"});\n",
       "</script>"
      ],
      "text/plain": [
       "alt.VConcatChart(...)"
      ]
     },
     "execution_count": 16,
     "metadata": {},
     "output_type": "execute_result"
    }
   ],
   "source": [
    "score.plot_log_score()"
   ]
  },
  {
   "cell_type": "markdown",
   "id": "6a4b531c",
   "metadata": {},
   "source": [
    "To generate a table with a summary of the scores, you can use the following: "
   ]
  },
  {
   "cell_type": "code",
   "execution_count": 17,
   "id": "5ea7f468",
   "metadata": {},
   "outputs": [
    {
     "data": {
      "text/html": [
       "<div>\n",
       "<style scoped>\n",
       "    .dataframe tbody tr th:only-of-type {\n",
       "        vertical-align: middle;\n",
       "    }\n",
       "\n",
       "    .dataframe tbody tr th {\n",
       "        vertical-align: top;\n",
       "    }\n",
       "\n",
       "    .dataframe thead th {\n",
       "        text-align: right;\n",
       "    }\n",
       "</style>\n",
       "<table border=\"1\" class=\"dataframe\">\n",
       "  <thead>\n",
       "    <tr style=\"text-align: right;\">\n",
       "      <th></th>\n",
       "      <th>mae</th>\n",
       "      <th>mse</th>\n",
       "      <th>crps</th>\n",
       "      <th>log_score</th>\n",
       "    </tr>\n",
       "    <tr>\n",
       "      <th>id</th>\n",
       "      <th></th>\n",
       "      <th></th>\n",
       "      <th></th>\n",
       "      <th></th>\n",
       "    </tr>\n",
       "  </thead>\n",
       "  <tbody>\n",
       "    <tr>\n",
       "      <th>preds</th>\n",
       "      <td>115.525008</td>\n",
       "      <td>39545.323650</td>\n",
       "      <td>121.892209</td>\n",
       "      <td>-12.117806</td>\n",
       "    </tr>\n",
       "    <tr>\n",
       "      <th>77</th>\n",
       "      <td>150.218462</td>\n",
       "      <td>69988.363187</td>\n",
       "      <td>156.069647</td>\n",
       "      <td>-7.138349</td>\n",
       "    </tr>\n",
       "    <tr>\n",
       "      <th>78</th>\n",
       "      <td>260.983184</td>\n",
       "      <td>166280.634997</td>\n",
       "      <td>194.826199</td>\n",
       "      <td>-7.206595</td>\n",
       "    </tr>\n",
       "  </tbody>\n",
       "</table>\n",
       "</div>"
      ],
      "text/plain": [
       "              mae            mse        crps  log_score\n",
       "id                                                     \n",
       "preds  115.525008   39545.323650  121.892209 -12.117806\n",
       "77     150.218462   69988.363187  156.069647  -7.138349\n",
       "78     260.983184  166280.634997  194.826199  -7.206595"
      ]
     },
     "execution_count": 17,
     "metadata": {},
     "output_type": "execute_result"
    }
   ],
   "source": [
    "score.summary"
   ]
  },
  {
   "cell_type": "markdown",
   "id": "9f5d7109",
   "metadata": {},
   "source": [
    "To generate a plot of the predictions, you can use the following: "
   ]
  },
  {
   "cell_type": "code",
   "execution_count": 18,
   "id": "082a547f",
   "metadata": {},
   "outputs": [
    {
     "data": {
      "text/html": [
       "\n",
       "<style>\n",
       "  #altair-viz-9ef17df78bfe445883639f09e0aa78da.vega-embed {\n",
       "    width: 100%;\n",
       "    display: flex;\n",
       "  }\n",
       "\n",
       "  #altair-viz-9ef17df78bfe445883639f09e0aa78da.vega-embed details,\n",
       "  #altair-viz-9ef17df78bfe445883639f09e0aa78da.vega-embed details summary {\n",
       "    position: relative;\n",
       "  }\n",
       "</style>\n",
       "<div id=\"altair-viz-9ef17df78bfe445883639f09e0aa78da\"></div>\n",
       "<script type=\"text/javascript\">\n",
       "  var VEGA_DEBUG = (typeof VEGA_DEBUG == \"undefined\") ? {} : VEGA_DEBUG;\n",
       "  (function(spec, embedOpt){\n",
       "    let outputDiv = document.currentScript.previousElementSibling;\n",
       "    if (outputDiv.id !== \"altair-viz-9ef17df78bfe445883639f09e0aa78da\") {\n",
       "      outputDiv = document.getElementById(\"altair-viz-9ef17df78bfe445883639f09e0aa78da\");\n",
       "    }\n",
       "    const paths = {\n",
       "      \"vega\": \"https://cdn.jsdelivr.net/npm/vega@5?noext\",\n",
       "      \"vega-lib\": \"https://cdn.jsdelivr.net/npm/vega-lib?noext\",\n",
       "      \"vega-lite\": \"https://cdn.jsdelivr.net/npm/vega-lite@5.17.0?noext\",\n",
       "      \"vega-embed\": \"https://cdn.jsdelivr.net/npm/vega-embed@6?noext\",\n",
       "    };\n",
       "\n",
       "    function maybeLoadScript(lib, version) {\n",
       "      var key = `${lib.replace(\"-\", \"\")}_version`;\n",
       "      return (VEGA_DEBUG[key] == version) ?\n",
       "        Promise.resolve(paths[lib]) :\n",
       "        new Promise(function(resolve, reject) {\n",
       "          var s = document.createElement('script');\n",
       "          document.getElementsByTagName(\"head\")[0].appendChild(s);\n",
       "          s.async = true;\n",
       "          s.onload = () => {\n",
       "            VEGA_DEBUG[key] = version;\n",
       "            return resolve(paths[lib]);\n",
       "          };\n",
       "          s.onerror = () => reject(`Error loading script: ${paths[lib]}`);\n",
       "          s.src = paths[lib];\n",
       "        });\n",
       "    }\n",
       "\n",
       "    function showError(err) {\n",
       "      outputDiv.innerHTML = `<div class=\"error\" style=\"color:red;\">${err}</div>`;\n",
       "      throw err;\n",
       "    }\n",
       "\n",
       "    function displayChart(vegaEmbed) {\n",
       "      vegaEmbed(outputDiv, spec, embedOpt)\n",
       "        .catch(err => showError(`Javascript Error: ${err.message}<br>This usually means there's a typo in your chart specification. See the javascript console for the full traceback.`));\n",
       "    }\n",
       "\n",
       "    if(typeof define === \"function\" && define.amd) {\n",
       "      requirejs.config({paths});\n",
       "      require([\"vega-embed\"], displayChart, err => showError(`Error loading script: ${err.message}`));\n",
       "    } else {\n",
       "      maybeLoadScript(\"vega\", \"5\")\n",
       "        .then(() => maybeLoadScript(\"vega-lite\", \"5.17.0\"))\n",
       "        .then(() => maybeLoadScript(\"vega-embed\", \"6\"))\n",
       "        .catch(showError)\n",
       "        .then(() => displayChart(vegaEmbed));\n",
       "    }\n",
       "  })({\"config\": {\"view\": {\"continuousWidth\": 300, \"continuousHeight\": 300}}, \"layer\": [{\"data\": {\"name\": \"data-1fff263b8dfc65f577a4f4b19354459e\"}, \"mark\": {\"type\": \"circle\", \"size\": 60}, \"encoding\": {\"color\": {\"field\": \"legend\", \"legend\": {\"title\": null}, \"scale\": {\"range\": [\"black\"]}, \"type\": \"nominal\"}, \"x\": {\"field\": \"dates\", \"type\": \"temporal\"}, \"y\": {\"field\": \"casos\", \"type\": \"quantitative\"}}}, {\"data\": {\"name\": \"data-e09fbd1b744f31e59afa907d5e49ade6\"}, \"mark\": {\"type\": \"line\"}, \"encoding\": {\"color\": {\"field\": \"model\", \"legend\": {\"title\": \"Model\"}, \"type\": \"nominal\"}, \"x\": {\"field\": \"dates\", \"title\": \"Dates\", \"type\": \"temporal\"}, \"y\": {\"field\": \"preds\", \"title\": \"New cases\", \"type\": \"quantitative\"}}, \"title\": \"Median and 95% confidence interval\"}, {\"data\": {\"name\": \"data-e09fbd1b744f31e59afa907d5e49ade6\"}, \"mark\": {\"type\": \"area\", \"opacity\": 0.25}, \"encoding\": {\"color\": {\"field\": \"model\", \"legend\": null, \"type\": \"nominal\"}, \"x\": {\"field\": \"dates\", \"type\": \"temporal\"}, \"y\": {\"field\": \"lower\", \"type\": \"quantitative\"}, \"y2\": {\"field\": \"upper\"}}, \"title\": \"Median and 95% confidence interval\"}, {\"data\": {\"name\": \"data-e09fbd1b744f31e59afa907d5e49ade6\"}, \"mark\": {\"type\": \"point\"}, \"encoding\": {\"color\": {\"field\": \"model\", \"legend\": null, \"type\": \"nominal\"}, \"opacity\": {\"condition\": {\"param\": \"param_3\", \"value\": 1, \"empty\": false}, \"value\": 0}, \"x\": {\"field\": \"dates\", \"title\": \"Dates\", \"type\": \"temporal\"}, \"y\": {\"field\": \"preds\", \"title\": \"New cases\", \"type\": \"quantitative\"}}, \"title\": \"Median and 95% confidence interval\"}, {\"data\": {\"name\": \"data-c75b1ef138c49eb943858afac9015224\"}, \"mark\": {\"type\": \"rule\", \"color\": \"gray\"}, \"encoding\": {\"opacity\": {\"condition\": {\"param\": \"param_3\", \"value\": 0.3, \"empty\": false}, \"value\": 0}, \"tooltip\": [{\"field\": \"dates\", \"title\": \"Date\", \"type\": \"temporal\"}, {\"field\": \"preds\", \"format\": \".0f\", \"type\": \"quantitative\"}, {\"field\": \"77\", \"format\": \".0f\", \"type\": \"quantitative\"}, {\"field\": \"78\", \"format\": \".0f\", \"type\": \"quantitative\"}, {\"field\": \"cases\", \"format\": \".0f\", \"type\": \"quantitative\"}], \"x\": {\"field\": \"dates\", \"type\": \"temporal\"}}, \"name\": \"view_3\", \"transform\": [{\"pivot\": \"model\", \"value\": \"preds\", \"groupby\": [\"dates\"]}]}], \"height\": 300, \"params\": [{\"name\": \"param_3\", \"select\": {\"type\": \"point\", \"fields\": [\"dates\"], \"nearest\": true, \"on\": \"pointerover\"}, \"views\": [\"view_3\"]}], \"resolve\": {\"scale\": {\"color\": \"independent\"}}, \"width\": 400, \"$schema\": \"https://vega.github.io/schema/vega-lite/v5.17.0.json\", \"datasets\": {\"data-1fff263b8dfc65f577a4f4b19354459e\": [{\"dates\": \"2022-01-02T00:00:00\", \"casos\": 21.0, \"legend\": \"Data\"}, {\"dates\": \"2022-01-09T00:00:00\", \"casos\": 14.0, \"legend\": \"Data\"}, {\"dates\": \"2022-01-16T00:00:00\", \"casos\": 22.0, \"legend\": \"Data\"}, {\"dates\": \"2022-01-23T00:00:00\", \"casos\": 19.0, \"legend\": \"Data\"}, {\"dates\": \"2022-01-30T00:00:00\", \"casos\": 31.0, \"legend\": \"Data\"}, {\"dates\": \"2022-02-06T00:00:00\", \"casos\": 35.0, \"legend\": \"Data\"}, {\"dates\": \"2022-02-13T00:00:00\", \"casos\": 47.0, \"legend\": \"Data\"}, {\"dates\": \"2022-02-20T00:00:00\", \"casos\": 62.0, \"legend\": \"Data\"}, {\"dates\": \"2022-02-27T00:00:00\", \"casos\": 66.0, \"legend\": \"Data\"}, {\"dates\": \"2022-03-06T00:00:00\", \"casos\": 116.0, \"legend\": \"Data\"}, {\"dates\": \"2022-03-13T00:00:00\", \"casos\": 126.0, \"legend\": \"Data\"}, {\"dates\": \"2022-03-20T00:00:00\", \"casos\": 177.0, \"legend\": \"Data\"}, {\"dates\": \"2022-03-27T00:00:00\", \"casos\": 153.0, \"legend\": \"Data\"}, {\"dates\": \"2022-04-03T00:00:00\", \"casos\": 222.0, \"legend\": \"Data\"}, {\"dates\": \"2022-04-10T00:00:00\", \"casos\": 201.0, \"legend\": \"Data\"}, {\"dates\": \"2022-04-17T00:00:00\", \"casos\": 234.0, \"legend\": \"Data\"}, {\"dates\": \"2022-04-24T00:00:00\", \"casos\": 342.0, \"legend\": \"Data\"}, {\"dates\": \"2022-05-01T00:00:00\", \"casos\": 461.0, \"legend\": \"Data\"}, {\"dates\": \"2022-05-08T00:00:00\", \"casos\": 505.0, \"legend\": \"Data\"}, {\"dates\": \"2022-05-15T00:00:00\", \"casos\": 406.0, \"legend\": \"Data\"}, {\"dates\": \"2022-05-22T00:00:00\", \"casos\": 400.0, \"legend\": \"Data\"}, {\"dates\": \"2022-05-29T00:00:00\", \"casos\": 338.0, \"legend\": \"Data\"}, {\"dates\": \"2022-06-05T00:00:00\", \"casos\": 255.0, \"legend\": \"Data\"}, {\"dates\": \"2022-06-12T00:00:00\", \"casos\": 153.0, \"legend\": \"Data\"}, {\"dates\": \"2022-06-19T00:00:00\", \"casos\": 209.0, \"legend\": \"Data\"}, {\"dates\": \"2022-06-26T00:00:00\", \"casos\": 189.0, \"legend\": \"Data\"}, {\"dates\": \"2022-07-03T00:00:00\", \"casos\": 155.0, \"legend\": \"Data\"}, {\"dates\": \"2022-07-10T00:00:00\", \"casos\": 144.0, \"legend\": \"Data\"}, {\"dates\": \"2022-07-17T00:00:00\", \"casos\": 194.0, \"legend\": \"Data\"}, {\"dates\": \"2022-07-24T00:00:00\", \"casos\": 148.0, \"legend\": \"Data\"}, {\"dates\": \"2022-07-31T00:00:00\", \"casos\": 145.0, \"legend\": \"Data\"}, {\"dates\": \"2022-08-07T00:00:00\", \"casos\": 106.0, \"legend\": \"Data\"}, {\"dates\": \"2022-08-14T00:00:00\", \"casos\": 110.0, \"legend\": \"Data\"}, {\"dates\": \"2022-08-21T00:00:00\", \"casos\": 99.0, \"legend\": \"Data\"}, {\"dates\": \"2022-08-28T00:00:00\", \"casos\": 94.0, \"legend\": \"Data\"}, {\"dates\": \"2022-09-04T00:00:00\", \"casos\": 101.0, \"legend\": \"Data\"}, {\"dates\": \"2022-09-11T00:00:00\", \"casos\": 120.0, \"legend\": \"Data\"}, {\"dates\": \"2022-09-18T00:00:00\", \"casos\": 102.0, \"legend\": \"Data\"}, {\"dates\": \"2022-09-25T00:00:00\", \"casos\": 95.0, \"legend\": \"Data\"}, {\"dates\": \"2022-10-02T00:00:00\", \"casos\": 102.0, \"legend\": \"Data\"}, {\"dates\": \"2022-10-09T00:00:00\", \"casos\": 123.0, \"legend\": \"Data\"}, {\"dates\": \"2022-10-16T00:00:00\", \"casos\": 160.0, \"legend\": \"Data\"}, {\"dates\": \"2022-10-23T00:00:00\", \"casos\": 139.0, \"legend\": \"Data\"}, {\"dates\": \"2022-10-30T00:00:00\", \"casos\": 131.0, \"legend\": \"Data\"}, {\"dates\": \"2022-11-06T00:00:00\", \"casos\": 171.0, \"legend\": \"Data\"}, {\"dates\": \"2022-11-13T00:00:00\", \"casos\": 129.0, \"legend\": \"Data\"}, {\"dates\": \"2022-11-20T00:00:00\", \"casos\": 94.0, \"legend\": \"Data\"}, {\"dates\": \"2022-11-27T00:00:00\", \"casos\": 86.0, \"legend\": \"Data\"}, {\"dates\": \"2022-12-04T00:00:00\", \"casos\": 98.0, \"legend\": \"Data\"}, {\"dates\": \"2022-12-11T00:00:00\", \"casos\": 123.0, \"legend\": \"Data\"}, {\"dates\": \"2022-12-18T00:00:00\", \"casos\": 117.0, \"legend\": \"Data\"}, {\"dates\": \"2022-12-25T00:00:00\", \"casos\": 163.0, \"legend\": \"Data\"}, {\"dates\": \"2023-01-01T00:00:00\", \"casos\": 230.0, \"legend\": \"Data\"}, {\"dates\": \"2023-01-08T00:00:00\", \"casos\": 218.0, \"legend\": \"Data\"}, {\"dates\": \"2023-01-15T00:00:00\", \"casos\": 246.0, \"legend\": \"Data\"}, {\"dates\": \"2023-01-22T00:00:00\", \"casos\": 312.0, \"legend\": \"Data\"}, {\"dates\": \"2023-01-29T00:00:00\", \"casos\": 383.0, \"legend\": \"Data\"}, {\"dates\": \"2023-02-05T00:00:00\", \"casos\": 525.0, \"legend\": \"Data\"}, {\"dates\": \"2023-02-12T00:00:00\", \"casos\": 372.0, \"legend\": \"Data\"}, {\"dates\": \"2023-02-19T00:00:00\", \"casos\": 507.0, \"legend\": \"Data\"}, {\"dates\": \"2023-02-26T00:00:00\", \"casos\": 870.0, \"legend\": \"Data\"}, {\"dates\": \"2023-03-05T00:00:00\", \"casos\": 945.0, \"legend\": \"Data\"}, {\"dates\": \"2023-03-12T00:00:00\", \"casos\": 1125.0, \"legend\": \"Data\"}, {\"dates\": \"2023-03-19T00:00:00\", \"casos\": 1382.0, \"legend\": \"Data\"}, {\"dates\": \"2023-03-26T00:00:00\", \"casos\": 1580.0, \"legend\": \"Data\"}, {\"dates\": \"2023-04-02T00:00:00\", \"casos\": 1420.0, \"legend\": \"Data\"}, {\"dates\": \"2023-04-09T00:00:00\", \"casos\": 1783.0, \"legend\": \"Data\"}, {\"dates\": \"2023-04-16T00:00:00\", \"casos\": 1502.0, \"legend\": \"Data\"}, {\"dates\": \"2023-04-23T00:00:00\", \"casos\": 1572.0, \"legend\": \"Data\"}, {\"dates\": \"2023-04-30T00:00:00\", \"casos\": 1919.0, \"legend\": \"Data\"}, {\"dates\": \"2023-05-07T00:00:00\", \"casos\": 1807.0, \"legend\": \"Data\"}, {\"dates\": \"2023-05-14T00:00:00\", \"casos\": 1731.0, \"legend\": \"Data\"}, {\"dates\": \"2023-05-21T00:00:00\", \"casos\": 1479.0, \"legend\": \"Data\"}, {\"dates\": \"2023-05-28T00:00:00\", \"casos\": 1328.0, \"legend\": \"Data\"}, {\"dates\": \"2023-06-04T00:00:00\", \"casos\": 1238.0, \"legend\": \"Data\"}, {\"dates\": \"2023-06-11T00:00:00\", \"casos\": 1348.0, \"legend\": \"Data\"}, {\"dates\": \"2023-06-18T00:00:00\", \"casos\": 1236.0, \"legend\": \"Data\"}, {\"dates\": \"2023-06-25T00:00:00\", \"casos\": 996.0, \"legend\": \"Data\"}], \"data-e09fbd1b744f31e59afa907d5e49ade6\": [{\"dates\": \"2022-01-02T00:00:00\", \"preds\": 3.614658869133639, \"lower\": 2.380140875732704, \"upper\": 5.611550000770686, \"data\": 21.000000000000007, \"model\": \"preds\", \"adm_2\": null, \"adm_1\": null, \"adm_0\": null}, {\"dates\": \"2022-01-09T00:00:00\", \"preds\": 3.433225231166734, \"lower\": 2.039727277525486, \"upper\": 5.982191872486029, \"data\": 14.000000000000007, \"model\": \"preds\", \"adm_2\": null, \"adm_1\": null, \"adm_0\": null}, {\"dates\": \"2022-01-16T00:00:00\", \"preds\": 3.252120306408938, \"lower\": 1.7176409439078015, \"upper\": 6.491387205176214, \"data\": 21.999999999999996, \"model\": \"preds\", \"adm_2\": null, \"adm_1\": null, \"adm_0\": null}, {\"dates\": \"2022-01-23T00:00:00\", \"preds\": 3.1186843472719943, \"lower\": 1.4908927923045512, \"upper\": 7.007502489329827, \"data\": 19.000000000000014, \"model\": \"preds\", \"adm_2\": null, \"adm_1\": null, \"adm_0\": null}, {\"dates\": \"2022-01-30T00:00:00\", \"preds\": 21.331335238034686, \"lower\": 12.57092370608387, \"upper\": 37.51323920806751, \"data\": 31.000000000000004, \"model\": \"preds\", \"adm_2\": null, \"adm_1\": null, \"adm_0\": null}, {\"dates\": \"2022-02-06T00:00:00\", \"preds\": 21.773564850772544, \"lower\": 11.20455938921437, \"upper\": 44.8119953193996, \"data\": 34.99999999999999, \"model\": \"preds\", \"adm_2\": null, \"adm_1\": null, \"adm_0\": null}, {\"dates\": \"2022-02-13T00:00:00\", \"preds\": 22.71695896499695, \"lower\": 10.005849139455384, \"upper\": 56.39179230622142, \"data\": 47.000000000000014, \"model\": \"preds\", \"adm_2\": null, \"adm_1\": null, \"adm_0\": null}, {\"dates\": \"2022-02-20T00:00:00\", \"preds\": 23.35470428379721, \"lower\": 9.008811845762041, \"upper\": 68.44917622378219, \"data\": 62.00000000000003, \"model\": \"preds\", \"adm_2\": null, \"adm_1\": null, \"adm_0\": null}, {\"dates\": \"2022-02-27T00:00:00\", \"preds\": 63.39292903508878, \"lower\": 34.64880038154375, \"upper\": 121.57428182482055, \"data\": 66.00000000000003, \"model\": \"preds\", \"adm_2\": null, \"adm_1\": null, \"adm_0\": null}, {\"dates\": \"2022-03-06T00:00:00\", \"preds\": 69.1704675786341, \"lower\": 32.26639825973191, \"upper\": 160.09013186513351, \"data\": 116.0000000000001, \"model\": \"preds\", \"adm_2\": null, \"adm_1\": null, \"adm_0\": null}, {\"dates\": \"2022-03-13T00:00:00\", \"preds\": 72.84286656709835, \"lower\": 28.518421118802383, \"upper\": 209.49921639094885, \"data\": 126.0000000000001, \"model\": \"preds\", \"adm_2\": null, \"adm_1\": null, \"adm_0\": null}, {\"dates\": \"2022-03-20T00:00:00\", \"preds\": 76.62557143570297, \"lower\": 25.804641192047978, \"upper\": 267.88225991787436, \"data\": 176.9999999999999, \"model\": \"preds\", \"adm_2\": null, \"adm_1\": null, \"adm_0\": null}, {\"dates\": \"2022-03-27T00:00:00\", \"preds\": 181.68938156034605, \"lower\": 91.91818590653864, \"upper\": 381.54053000215157, \"data\": 153.00000000000014, \"model\": \"preds\", \"adm_2\": null, \"adm_1\": null, \"adm_0\": null}, {\"dates\": \"2022-04-03T00:00:00\", \"preds\": 202.51517959581122, \"lower\": 85.48523361192152, \"upper\": 529.8684971239157, \"data\": 222.00000000000014, \"model\": \"preds\", \"adm_2\": null, \"adm_1\": null, \"adm_0\": null}, {\"dates\": \"2022-04-10T00:00:00\", \"preds\": 215.97288991940644, \"lower\": 74.56030411037372, \"upper\": 730.7185287938674, \"data\": 201.00000000000014, \"model\": \"preds\", \"adm_2\": null, \"adm_1\": null, \"adm_0\": null}, {\"dates\": \"2022-04-17T00:00:00\", \"preds\": 230.17391777968305, \"lower\": 66.79112306320033, \"upper\": 983.9820788929912, \"data\": 233.99999999999986, \"model\": \"preds\", \"adm_2\": null, \"adm_1\": null, \"adm_0\": null}, {\"dates\": \"2022-04-24T00:00:00\", \"preds\": 239.78912835549175, \"lower\": 118.98304418907516, \"upper\": 515.2816715296342, \"data\": 342.0000000000005, \"model\": \"preds\", \"adm_2\": null, \"adm_1\": null, \"adm_0\": null}, {\"dates\": \"2022-05-01T00:00:00\", \"preds\": 253.29199042458148, \"lower\": 105.0021025811397, \"upper\": 677.8429765356312, \"data\": 461.0000000000005, \"model\": \"preds\", \"adm_2\": null, \"adm_1\": null, \"adm_0\": null}, {\"dates\": \"2022-05-08T00:00:00\", \"preds\": 262.4099950485661, \"lower\": 88.94005569000325, \"upper\": 909.6172112211701, \"data\": 505.0000000000002, \"model\": \"preds\", \"adm_2\": null, \"adm_1\": null, \"adm_0\": null}, {\"dates\": \"2022-05-15T00:00:00\", \"preds\": 271.35553088812753, \"lower\": 77.43611889541121, \"upper\": 1187.1532772621517, \"data\": 406.0000000000006, \"model\": \"preds\", \"adm_2\": null, \"adm_1\": null, \"adm_0\": null}, {\"dates\": \"2022-05-22T00:00:00\", \"preds\": 465.0280326992463, \"lower\": 218.51933686015363, \"upper\": 1066.777571118954, \"data\": 400.0, \"model\": \"preds\", \"adm_2\": null, \"adm_1\": null, \"adm_0\": null}, {\"dates\": \"2022-05-29T00:00:00\", \"preds\": 471.75188008957286, \"lower\": 183.0363317285188, \"upper\": 1372.4126352536605, \"data\": 338.0000000000002, \"model\": \"preds\", \"adm_2\": null, \"adm_1\": null, \"adm_0\": null}, {\"dates\": \"2022-06-05T00:00:00\", \"preds\": 493.50882529303385, \"lower\": 154.01976777135448, \"upper\": 1910.0736004905152, \"data\": 254.99999999999991, \"model\": \"preds\", \"adm_2\": null, \"adm_1\": null, \"adm_0\": null}, {\"dates\": \"2022-06-12T00:00:00\", \"preds\": 507.69633871338453, \"lower\": 131.64876229875833, \"upper\": 2541.1404533105997, \"data\": 153.00000000000014, \"model\": \"preds\", \"adm_2\": null, \"adm_1\": null, \"adm_0\": null}, {\"dates\": \"2022-06-19T00:00:00\", \"preds\": 167.76087009218995, \"lower\": 85.64910383284582, \"upper\": 348.5073575663706, \"data\": 209.00000000000009, \"model\": \"preds\", \"adm_2\": null, \"adm_1\": null, \"adm_0\": null}, {\"dates\": \"2022-06-26T00:00:00\", \"preds\": 154.15290588604157, \"lower\": 66.975465373166, \"upper\": 389.16664948619086, \"data\": 188.9999999999999, \"model\": \"preds\", \"adm_2\": null, \"adm_1\": null, \"adm_0\": null}, {\"dates\": \"2022-07-03T00:00:00\", \"preds\": 150.99811525234864, \"lower\": 54.57364061353801, \"upper\": 481.2103805066478, \"data\": 154.99999999999991, \"model\": \"preds\", \"adm_2\": null, \"adm_1\": null, \"adm_0\": null}, {\"dates\": \"2022-07-10T00:00:00\", \"preds\": 145.99540514656573, \"lower\": 45.234503498814185, \"upper\": 570.6334337220401, \"data\": 144.0, \"model\": \"preds\", \"adm_2\": null, \"adm_1\": null, \"adm_0\": null}, {\"dates\": \"2022-07-17T00:00:00\", \"preds\": 141.09022998887374, \"lower\": 73.11890822917931, \"upper\": 287.9679677155035, \"data\": 193.99999999999991, \"model\": \"preds\", \"adm_2\": null, \"adm_1\": null, \"adm_0\": null}, {\"dates\": \"2022-07-24T00:00:00\", \"preds\": 136.83085137731135, \"lower\": 60.255593111277825, \"upper\": 339.7511524022664, \"data\": 148.00000000000003, \"model\": \"preds\", \"adm_2\": null, \"adm_1\": null, \"adm_0\": null}, {\"dates\": \"2022-07-31T00:00:00\", \"preds\": 133.8603297159285, \"lower\": 49.180202134802514, \"upper\": 417.6274111930265, \"data\": 145.00000000000003, \"model\": \"preds\", \"adm_2\": null, \"adm_1\": null, \"adm_0\": null}, {\"dates\": \"2022-08-07T00:00:00\", \"preds\": 131.20635331032815, \"lower\": 41.34880780866706, \"upper\": 501.19363629921145, \"data\": 106.00000000000007, \"model\": \"preds\", \"adm_2\": null, \"adm_1\": null, \"adm_0\": null}, {\"dates\": \"2022-08-14T00:00:00\", \"preds\": 111.38967124972875, \"lower\": 58.816424134349504, \"upper\": 222.4063840451618, \"data\": 109.99999999999996, \"model\": \"preds\", \"adm_2\": null, \"adm_1\": null, \"adm_0\": null}, {\"dates\": \"2022-08-21T00:00:00\", \"preds\": 105.25261017221358, \"lower\": 47.559711093645525, \"upper\": 253.21575835312325, \"data\": 99.00000000000009, \"model\": \"preds\", \"adm_2\": null, \"adm_1\": null, \"adm_0\": null}, {\"dates\": \"2022-08-28T00:00:00\", \"preds\": 103.47410891075722, \"lower\": 39.197471252596046, \"upper\": 310.36814802124167, \"data\": 93.99999999999994, \"model\": \"preds\", \"adm_2\": null, \"adm_1\": null, \"adm_0\": null}, {\"dates\": \"2022-09-04T00:00:00\", \"preds\": 100.98212719049425, \"lower\": 32.97666320764725, \"upper\": 367.764138407027, \"data\": 101.00000000000001, \"model\": \"preds\", \"adm_2\": null, \"adm_1\": null, \"adm_0\": null}, {\"dates\": \"2022-09-11T00:00:00\", \"preds\": 96.34719336863107, \"lower\": 51.49848081146708, \"upper\": 189.64225246372425, \"data\": 120.0000000000001, \"model\": \"preds\", \"adm_2\": null, \"adm_1\": null, \"adm_0\": null}, {\"dates\": \"2022-09-18T00:00:00\", \"preds\": 95.77750880225683, \"lower\": 43.735953963125525, \"upper\": 227.482790878451, \"data\": 102.00000000000003, \"model\": \"preds\", \"adm_2\": null, \"adm_1\": null, \"adm_0\": null}, {\"dates\": \"2022-09-25T00:00:00\", \"preds\": 94.2678358323544, \"lower\": 36.16285250506332, \"upper\": 278.23452334912656, \"data\": 94.99999999999997, \"model\": \"preds\", \"adm_2\": null, \"adm_1\": null, \"adm_0\": null}, {\"dates\": \"2022-10-02T00:00:00\", \"preds\": 93.31645975722742, \"lower\": 30.86107569314268, \"upper\": 334.1712149366602, \"data\": 102.00000000000003, \"model\": \"preds\", \"adm_2\": null, \"adm_1\": null, \"adm_0\": null}, {\"dates\": \"2022-10-09T00:00:00\", \"preds\": 98.71560180351594, \"lower\": 52.75987727082379, \"upper\": 194.323584459493, \"data\": 123.00000000000006, \"model\": \"preds\", \"adm_2\": null, \"adm_1\": null, \"adm_0\": null}, {\"dates\": \"2022-10-16T00:00:00\", \"preds\": 98.87475800002565, \"lower\": 45.11304943885604, \"upper\": 235.07527270024372, \"data\": 160.0000000000001, \"model\": \"preds\", \"adm_2\": null, \"adm_1\": null, \"adm_0\": null}, {\"dates\": \"2022-10-23T00:00:00\", \"preds\": 98.09141346352483, \"lower\": 37.56262519359326, \"upper\": 290.17966135697196, \"data\": 139.00000000000003, \"model\": \"preds\", \"adm_2\": null, \"adm_1\": null, \"adm_0\": null}, {\"dates\": \"2022-10-30T00:00:00\", \"preds\": 97.71465709535342, \"lower\": 32.226103318495426, \"upper\": 351.2150410226741, \"data\": 131.0, \"model\": \"preds\", \"adm_2\": null, \"adm_1\": null, \"adm_0\": null}, {\"dates\": \"2022-11-06T00:00:00\", \"preds\": 134.62573664704607, \"lower\": 70.40473557585469, \"upper\": 271.8550882824698, \"data\": 171.0, \"model\": \"preds\", \"adm_2\": null, \"adm_1\": null, \"adm_0\": null}, {\"dates\": \"2022-11-13T00:00:00\", \"preds\": 134.47036677331133, \"lower\": 59.71782686117104, \"upper\": 330.447250649565, \"data\": 129.00000000000003, \"model\": \"preds\", \"adm_2\": null, \"adm_1\": null, \"adm_0\": null}, {\"dates\": \"2022-11-20T00:00:00\", \"preds\": 135.3776571678296, \"lower\": 50.10456453134116, \"upper\": 418.3747502700327, \"data\": 93.99999999999994, \"model\": \"preds\", \"adm_2\": null, \"adm_1\": null, \"adm_0\": null}, {\"dates\": \"2022-11-27T00:00:00\", \"preds\": 135.82818722986102, \"lower\": 43.049101727643105, \"upper\": 514.8958796614942, \"data\": 86.00000000000003, \"model\": \"preds\", \"adm_2\": null, \"adm_1\": null, \"adm_0\": null}, {\"dates\": \"2022-12-04T00:00:00\", \"preds\": 84.91744320648253, \"lower\": 45.95105937217203, \"upper\": 164.7622825346184, \"data\": 98.0, \"model\": \"preds\", \"adm_2\": null, \"adm_1\": null, \"adm_0\": null}, {\"dates\": \"2022-12-11T00:00:00\", \"preds\": 82.37384167696814, \"lower\": 38.250490680040315, \"upper\": 191.70584865719232, \"data\": 123.00000000000006, \"model\": \"preds\", \"adm_2\": null, \"adm_1\": null, \"adm_0\": null}, {\"dates\": \"2022-12-18T00:00:00\", \"preds\": 80.7613950099572, \"lower\": 31.64523878384306, \"upper\": 232.0248371971098, \"data\": 117.0000000000001, \"model\": \"preds\", \"adm_2\": null, \"adm_1\": null, \"adm_0\": null}, {\"dates\": \"2022-12-25T00:00:00\", \"preds\": 79.26069183082991, \"lower\": 26.89160433614791, \"upper\": 274.38016287466684, \"data\": 163.00000000000006, \"model\": \"preds\", \"adm_2\": null, \"adm_1\": null, \"adm_0\": null}, {\"dates\": \"2023-01-01T00:00:00\", \"preds\": 151.75912131500172, \"lower\": 78.8006137547906, \"upper\": 309.0367972424309, \"data\": 230.00000000000014, \"model\": \"preds\", \"adm_2\": null, \"adm_1\": null, \"adm_0\": null}, {\"dates\": \"2023-01-08T00:00:00\", \"preds\": 159.7113114447144, \"lower\": 69.925995297073, \"upper\": 399.39483298826224, \"data\": 218.00000000000017, \"model\": \"preds\", \"adm_2\": null, \"adm_1\": null, \"adm_0\": null}, {\"dates\": \"2023-01-15T00:00:00\", \"preds\": 161.09849482557027, \"lower\": 58.61265263614962, \"upper\": 508.99158690412145, \"data\": 246.00000000000068, \"model\": \"preds\", \"adm_2\": null, \"adm_1\": null, \"adm_0\": null}, {\"dates\": \"2023-01-22T00:00:00\", \"preds\": 164.0870771311059, \"lower\": 50.903757847976614, \"upper\": 640.2575220702569, \"data\": 311.9999999999994, \"model\": \"preds\", \"adm_2\": null, \"adm_1\": null, \"adm_0\": null}, {\"dates\": \"2023-01-29T00:00:00\", \"preds\": 309.36997031375967, \"lower\": 152.07971768934192, \"upper\": 672.2648617059136, \"data\": 383.00000000000006, \"model\": \"preds\", \"adm_2\": null, \"adm_1\": null, \"adm_0\": null}, {\"dates\": \"2023-02-05T00:00:00\", \"preds\": 328.36402569417095, \"lower\": 134.0836603638846, \"upper\": 895.5194220504013, \"data\": 524.9999999999994, \"model\": \"preds\", \"adm_2\": null, \"adm_1\": null, \"adm_0\": null}, {\"dates\": \"2023-02-12T00:00:00\", \"preds\": 338.44353738083413, \"lower\": 112.86419585872474, \"upper\": 1198.6506712953878, \"data\": 371.99999999999994, \"model\": \"preds\", \"adm_2\": null, \"adm_1\": null, \"adm_0\": null}, {\"dates\": \"2023-02-19T00:00:00\", \"preds\": 349.60097780996006, \"lower\": 97.93584193927443, \"upper\": 1569.3142988104, \"data\": 507.0000000000001, \"model\": \"preds\", \"adm_2\": null, \"adm_1\": null, \"adm_0\": null}, {\"dates\": \"2023-02-26T00:00:00\", \"preds\": 486.69752571203514, \"lower\": 230.60416972704553, \"upper\": 1105.375866271899, \"data\": 870.0, \"model\": \"preds\", \"adm_2\": null, \"adm_1\": null, \"adm_0\": null}, {\"dates\": \"2023-03-05T00:00:00\", \"preds\": 517.8411243043572, \"lower\": 201.98745181276163, \"upper\": 1496.3648720959604, \"data\": 945.0000000000003, \"model\": \"preds\", \"adm_2\": null, \"adm_1\": null, \"adm_0\": null}, {\"dates\": \"2023-03-12T00:00:00\", \"preds\": 529.7684567054695, \"lower\": 167.23095654785914, \"upper\": 2019.1252957105041, \"data\": 1125.000000000002, \"model\": \"preds\", \"adm_2\": null, \"adm_1\": null, \"adm_0\": null}, {\"dates\": \"2023-03-19T00:00:00\", \"preds\": 545.4007213622474, \"lower\": 143.50548199946917, \"upper\": 2673.7759556682413, \"data\": 1382.0000000000002, \"model\": \"preds\", \"adm_2\": null, \"adm_1\": null, \"adm_0\": null}, {\"dates\": \"2023-03-26T00:00:00\", \"preds\": 1436.9969791954877, \"lower\": 617.80444857739, \"upper\": 3675.252209023487, \"data\": 1579.9999999999984, \"model\": \"preds\", \"adm_2\": null, \"adm_1\": null, \"adm_0\": null}, {\"dates\": \"2023-04-02T00:00:00\", \"preds\": 1552.567089578109, \"lower\": 534.8015631291074, \"upper\": 5268.307803049241, \"data\": 1419.9999999999982, \"model\": \"preds\", \"adm_2\": null, \"adm_1\": null, \"adm_0\": null}, {\"dates\": \"2023-04-09T00:00:00\", \"preds\": 1636.9392121750382, \"lower\": 442.3248136706556, \"upper\": 7728.713793949735, \"data\": 1783.0000000000034, \"model\": \"preds\", \"adm_2\": null, \"adm_1\": null, \"adm_0\": null}, {\"dates\": \"2023-04-16T00:00:00\", \"preds\": 1720.5739847712427, \"lower\": 377.21274317344836, \"upper\": 11004.623877515718, \"data\": 1502.0000000000002, \"model\": \"preds\", \"adm_2\": null, \"adm_1\": null, \"adm_0\": null}, {\"dates\": \"2023-04-23T00:00:00\", \"preds\": 1657.1806290305906, \"lower\": 704.2999114889643, \"upper\": 4299.410348138865, \"data\": 1571.9999999999993, \"model\": \"preds\", \"adm_2\": null, \"adm_1\": null, \"adm_0\": null}, {\"dates\": \"2023-04-30T00:00:00\", \"preds\": 1670.3745106937647, \"lower\": 572.0346821463518, \"upper\": 5711.7438576471895, \"data\": 1918.9999999999986, \"model\": \"preds\", \"adm_2\": null, \"adm_1\": null, \"adm_0\": null}, {\"dates\": \"2023-05-07T00:00:00\", \"preds\": 1722.5635450059838, \"lower\": 463.66773266459626, \"upper\": 8177.35425212233, \"data\": 1807.000000000001, \"model\": \"preds\", \"adm_2\": null, \"adm_1\": null, \"adm_0\": null}, {\"dates\": \"2023-05-14T00:00:00\", \"preds\": 1755.4117309045916, \"lower\": 385.13211283295925, \"upper\": 11215.15300772631, \"data\": 1730.9999999999984, \"model\": \"preds\", \"adm_2\": null, \"adm_1\": null, \"adm_0\": null}, {\"dates\": \"2023-05-21T00:00:00\", \"preds\": 1791.9777613998463, \"lower\": 757.4544557427392, \"upper\": 4680.679260236886, \"data\": 1478.9999999999989, \"model\": \"preds\", \"adm_2\": null, \"adm_1\": null, \"adm_0\": null}, {\"dates\": \"2023-05-28T00:00:00\", \"preds\": 1805.2347171459583, \"lower\": 614.147112710866, \"upper\": 6226.891165129948, \"data\": 1328.0000000000018, \"model\": \"preds\", \"adm_2\": null, \"adm_1\": null, \"adm_0\": null}, {\"dates\": \"2023-06-04T00:00:00\", \"preds\": 1829.3651793516538, \"lower\": 489.7629993558478, \"upper\": 8750.799223426155, \"data\": 1238.0000000000007, \"model\": \"preds\", \"adm_2\": null, \"adm_1\": null, \"adm_0\": null}, {\"dates\": \"2023-06-11T00:00:00\", \"preds\": 1846.2626111340383, \"lower\": 403.2353031857193, \"upper\": 11875.82932528966, \"data\": 1347.9999999999984, \"model\": \"preds\", \"adm_2\": null, \"adm_1\": null, \"adm_0\": null}, {\"dates\": \"2023-06-18T00:00:00\", \"preds\": 1300.2629947196654, \"lower\": 567.9816228693035, \"upper\": 3260.8439645005164, \"data\": 1235.999999999999, \"model\": \"preds\", \"adm_2\": null, \"adm_1\": null, \"adm_0\": null}, {\"dates\": \"2023-06-25T00:00:00\", \"preds\": 1304.3716371352732, \"lower\": 462.37057439565336, \"upper\": 4263.066574789821, \"data\": 996.0000000000018, \"model\": \"preds\", \"adm_2\": null, \"adm_1\": null, \"adm_0\": null}, {\"dates\": \"2022-01-02T00:00:00\", \"preds\": 61.29, \"lower\": 0.0, \"upper\": 1729.2245503355, \"data\": null, \"model\": \"77\", \"adm_2\": 3304557.0, \"adm_1\": \"RJ\", \"adm_0\": \"BR\"}, {\"dates\": \"2022-01-09T00:00:00\", \"preds\": 27.06, \"lower\": 0.0, \"upper\": 1535.8709703498, \"data\": null, \"model\": \"77\", \"adm_2\": 3304557.0, \"adm_1\": \"RJ\", \"adm_0\": \"BR\"}, {\"dates\": \"2022-01-16T00:00:00\", \"preds\": 26.88, \"lower\": 0.0, \"upper\": 673.9351776686, \"data\": null, \"model\": \"77\", \"adm_2\": 3304557.0, \"adm_1\": \"RJ\", \"adm_0\": \"BR\"}, {\"dates\": \"2022-01-23T00:00:00\", \"preds\": 30.44, \"lower\": 0.0, \"upper\": 1149.2167062209, \"data\": null, \"model\": \"77\", \"adm_2\": 3304557.0, \"adm_1\": \"RJ\", \"adm_0\": \"BR\"}, {\"dates\": \"2022-01-30T00:00:00\", \"preds\": 29.76, \"lower\": 0.0, \"upper\": 1054.8541371324, \"data\": null, \"model\": \"77\", \"adm_2\": 3304557.0, \"adm_1\": \"RJ\", \"adm_0\": \"BR\"}, {\"dates\": \"2022-02-06T00:00:00\", \"preds\": 29.34, \"lower\": 0.0, \"upper\": 1053.3112130593, \"data\": null, \"model\": \"77\", \"adm_2\": 3304557.0, \"adm_1\": \"RJ\", \"adm_0\": \"BR\"}, {\"dates\": \"2022-02-13T00:00:00\", \"preds\": 34.61, \"lower\": 0.0, \"upper\": 1012.9490918948, \"data\": null, \"model\": \"77\", \"adm_2\": 3304557.0, \"adm_1\": \"RJ\", \"adm_0\": \"BR\"}, {\"dates\": \"2022-02-20T00:00:00\", \"preds\": 39.01, \"lower\": 0.0, \"upper\": 1235.4601531132, \"data\": null, \"model\": \"77\", \"adm_2\": 3304557.0, \"adm_1\": \"RJ\", \"adm_0\": \"BR\"}, {\"dates\": \"2022-02-27T00:00:00\", \"preds\": 43.28, \"lower\": 0.0, \"upper\": 1478.6163274184, \"data\": null, \"model\": \"77\", \"adm_2\": 3304557.0, \"adm_1\": \"RJ\", \"adm_0\": \"BR\"}, {\"dates\": \"2022-03-06T00:00:00\", \"preds\": 32.32, \"lower\": 0.0, \"upper\": 1933.3792826922, \"data\": null, \"model\": \"77\", \"adm_2\": 3304557.0, \"adm_1\": \"RJ\", \"adm_0\": \"BR\"}, {\"dates\": \"2022-03-13T00:00:00\", \"preds\": 44.08, \"lower\": 0.0, \"upper\": 1698.1051179684, \"data\": null, \"model\": \"77\", \"adm_2\": 3304557.0, \"adm_1\": \"RJ\", \"adm_0\": \"BR\"}, {\"dates\": \"2022-03-20T00:00:00\", \"preds\": 74.21, \"lower\": 0.0, \"upper\": 1583.5488129311, \"data\": null, \"model\": \"77\", \"adm_2\": 3304557.0, \"adm_1\": \"RJ\", \"adm_0\": \"BR\"}, {\"dates\": \"2022-03-27T00:00:00\", \"preds\": 91.2, \"lower\": 0.0, \"upper\": 1376.3518495555, \"data\": null, \"model\": \"77\", \"adm_2\": 3304557.0, \"adm_1\": \"RJ\", \"adm_0\": \"BR\"}, {\"dates\": \"2022-04-03T00:00:00\", \"preds\": 98.79, \"lower\": 0.0, \"upper\": 723.5706027188, \"data\": null, \"model\": \"77\", \"adm_2\": 3304557.0, \"adm_1\": \"RJ\", \"adm_0\": \"BR\"}, {\"dates\": \"2022-04-10T00:00:00\", \"preds\": 176.98, \"lower\": 0.0, \"upper\": 1567.9589396197, \"data\": null, \"model\": \"77\", \"adm_2\": 3304557.0, \"adm_1\": \"RJ\", \"adm_0\": \"BR\"}, {\"dates\": \"2022-04-17T00:00:00\", \"preds\": 216.42, \"lower\": 0.0, \"upper\": 2335.967212316, \"data\": null, \"model\": \"77\", \"adm_2\": 3304557.0, \"adm_1\": \"RJ\", \"adm_0\": \"BR\"}, {\"dates\": \"2022-04-24T00:00:00\", \"preds\": 345.06, \"lower\": 0.0, \"upper\": 3021.9998205177, \"data\": null, \"model\": \"77\", \"adm_2\": 3304557.0, \"adm_1\": \"RJ\", \"adm_0\": \"BR\"}, {\"dates\": \"2022-05-01T00:00:00\", \"preds\": 313.83, \"lower\": 0.0, \"upper\": 3249.4121439655, \"data\": null, \"model\": \"77\", \"adm_2\": 3304557.0, \"adm_1\": \"RJ\", \"adm_0\": \"BR\"}, {\"dates\": \"2022-05-08T00:00:00\", \"preds\": 512.02, \"lower\": 0.0, \"upper\": 3762.6987796367, \"data\": null, \"model\": \"77\", \"adm_2\": 3304557.0, \"adm_1\": \"RJ\", \"adm_0\": \"BR\"}, {\"dates\": \"2022-05-15T00:00:00\", \"preds\": 382.19, \"lower\": 0.0, \"upper\": 2690.5815795323, \"data\": null, \"model\": \"77\", \"adm_2\": 3304557.0, \"adm_1\": \"RJ\", \"adm_0\": \"BR\"}, {\"dates\": \"2022-05-22T00:00:00\", \"preds\": 318.17, \"lower\": 0.0, \"upper\": 1889.3836654291, \"data\": null, \"model\": \"77\", \"adm_2\": 3304557.0, \"adm_1\": \"RJ\", \"adm_0\": \"BR\"}, {\"dates\": \"2022-05-29T00:00:00\", \"preds\": 663.35, \"lower\": 0.0, \"upper\": 2355.171415628, \"data\": null, \"model\": \"77\", \"adm_2\": 3304557.0, \"adm_1\": \"RJ\", \"adm_0\": \"BR\"}, {\"dates\": \"2022-06-05T00:00:00\", \"preds\": 1012.57, \"lower\": 244.0160680593, \"upper\": 1781.1239319407, \"data\": null, \"model\": \"77\", \"adm_2\": 3304557.0, \"adm_1\": \"RJ\", \"adm_0\": \"BR\"}, {\"dates\": \"2022-06-12T00:00:00\", \"preds\": 902.92, \"lower\": 0.0, \"upper\": 2020.9380813249, \"data\": null, \"model\": \"77\", \"adm_2\": 3304557.0, \"adm_1\": \"RJ\", \"adm_0\": \"BR\"}, {\"dates\": \"2022-06-19T00:00:00\", \"preds\": 766.88, \"lower\": 0.0, \"upper\": 2229.098105451, \"data\": null, \"model\": \"77\", \"adm_2\": 3304557.0, \"adm_1\": \"RJ\", \"adm_0\": \"BR\"}, {\"dates\": \"2022-06-26T00:00:00\", \"preds\": 396.46, \"lower\": 0.0, \"upper\": 2184.4381570024, \"data\": null, \"model\": \"77\", \"adm_2\": 3304557.0, \"adm_1\": \"RJ\", \"adm_0\": \"BR\"}, {\"dates\": \"2022-07-03T00:00:00\", \"preds\": 333.08, \"lower\": 0.0, \"upper\": 2367.8073825474, \"data\": null, \"model\": \"77\", \"adm_2\": 3304557.0, \"adm_1\": \"RJ\", \"adm_0\": \"BR\"}, {\"dates\": \"2022-07-10T00:00:00\", \"preds\": 203.22, \"lower\": 0.0, \"upper\": 1614.4841398778, \"data\": null, \"model\": \"77\", \"adm_2\": 3304557.0, \"adm_1\": \"RJ\", \"adm_0\": \"BR\"}, {\"dates\": \"2022-07-17T00:00:00\", \"preds\": 210.92, \"lower\": 0.0, \"upper\": 1624.558058697, \"data\": null, \"model\": \"77\", \"adm_2\": 3304557.0, \"adm_1\": \"RJ\", \"adm_0\": \"BR\"}, {\"dates\": \"2022-07-24T00:00:00\", \"preds\": 205.35, \"lower\": 0.0, \"upper\": 1947.7565892405, \"data\": null, \"model\": \"77\", \"adm_2\": 3304557.0, \"adm_1\": \"RJ\", \"adm_0\": \"BR\"}, {\"dates\": \"2022-07-31T00:00:00\", \"preds\": 155.79, \"lower\": 0.0, \"upper\": 1396.3902691858, \"data\": null, \"model\": \"77\", \"adm_2\": 3304557.0, \"adm_1\": \"RJ\", \"adm_0\": \"BR\"}, {\"dates\": \"2022-08-07T00:00:00\", \"preds\": 161.74, \"lower\": 0.0, \"upper\": 1267.4720622758, \"data\": null, \"model\": \"77\", \"adm_2\": 3304557.0, \"adm_1\": \"RJ\", \"adm_0\": \"BR\"}, {\"dates\": \"2022-08-14T00:00:00\", \"preds\": 153.51, \"lower\": 0.0, \"upper\": 1237.7757285767, \"data\": null, \"model\": \"77\", \"adm_2\": 3304557.0, \"adm_1\": \"RJ\", \"adm_0\": \"BR\"}, {\"dates\": \"2022-08-21T00:00:00\", \"preds\": 176.64, \"lower\": 0.0, \"upper\": 1297.4866719026, \"data\": null, \"model\": \"77\", \"adm_2\": 3304557.0, \"adm_1\": \"RJ\", \"adm_0\": \"BR\"}, {\"dates\": \"2022-08-28T00:00:00\", \"preds\": 179.13, \"lower\": 0.0, \"upper\": 1478.6152989411, \"data\": null, \"model\": \"77\", \"adm_2\": 3304557.0, \"adm_1\": \"RJ\", \"adm_0\": \"BR\"}, {\"dates\": \"2022-09-04T00:00:00\", \"preds\": 146.43, \"lower\": 0.0, \"upper\": 1566.3419666142, \"data\": null, \"model\": \"77\", \"adm_2\": 3304557.0, \"adm_1\": \"RJ\", \"adm_0\": \"BR\"}, {\"dates\": \"2022-09-11T00:00:00\", \"preds\": 119.06, \"lower\": 0.0, \"upper\": 1064.7396522083, \"data\": null, \"model\": \"77\", \"adm_2\": 3304557.0, \"adm_1\": \"RJ\", \"adm_0\": \"BR\"}, {\"dates\": \"2022-09-18T00:00:00\", \"preds\": 89.66, \"lower\": 0.0, \"upper\": 524.128212398, \"data\": null, \"model\": \"77\", \"adm_2\": 3304557.0, \"adm_1\": \"RJ\", \"adm_0\": \"BR\"}, {\"dates\": \"2022-09-25T00:00:00\", \"preds\": 88.07, \"lower\": 0.0, \"upper\": 1116.9014193491, \"data\": null, \"model\": \"77\", \"adm_2\": 3304557.0, \"adm_1\": \"RJ\", \"adm_0\": \"BR\"}, {\"dates\": \"2022-10-02T00:00:00\", \"preds\": 92.84, \"lower\": 0.0, \"upper\": 967.041235228, \"data\": null, \"model\": \"77\", \"adm_2\": 3304557.0, \"adm_1\": \"RJ\", \"adm_0\": \"BR\"}, {\"dates\": \"2022-10-09T00:00:00\", \"preds\": 130.7, \"lower\": 0.0, \"upper\": 1671.4170892455, \"data\": null, \"model\": \"77\", \"adm_2\": 3304557.0, \"adm_1\": \"RJ\", \"adm_0\": \"BR\"}, {\"dates\": \"2022-10-16T00:00:00\", \"preds\": 126.37, \"lower\": 0.0, \"upper\": 1783.0109912045, \"data\": null, \"model\": \"77\", \"adm_2\": 3304557.0, \"adm_1\": \"RJ\", \"adm_0\": \"BR\"}, {\"dates\": \"2022-10-23T00:00:00\", \"preds\": 88.54, \"lower\": 0.0, \"upper\": 2455.8924287832, \"data\": null, \"model\": \"77\", \"adm_2\": 3304557.0, \"adm_1\": \"RJ\", \"adm_0\": \"BR\"}, {\"dates\": \"2022-10-30T00:00:00\", \"preds\": 90.18, \"lower\": 0.0, \"upper\": 2482.2110244223, \"data\": null, \"model\": \"77\", \"adm_2\": 3304557.0, \"adm_1\": \"RJ\", \"adm_0\": \"BR\"}, {\"dates\": \"2022-11-06T00:00:00\", \"preds\": 138.54, \"lower\": 0.0, \"upper\": 2753.4854223837, \"data\": null, \"model\": \"77\", \"adm_2\": 3304557.0, \"adm_1\": \"RJ\", \"adm_0\": \"BR\"}, {\"dates\": \"2022-11-13T00:00:00\", \"preds\": 111.15, \"lower\": 0.0, \"upper\": 2114.9459362357, \"data\": null, \"model\": \"77\", \"adm_2\": 3304557.0, \"adm_1\": \"RJ\", \"adm_0\": \"BR\"}, {\"dates\": \"2022-11-20T00:00:00\", \"preds\": 262.42, \"lower\": 0.0, \"upper\": 1560.3910680599, \"data\": null, \"model\": \"77\", \"adm_2\": 3304557.0, \"adm_1\": \"RJ\", \"adm_0\": \"BR\"}, {\"dates\": \"2022-11-27T00:00:00\", \"preds\": 130.46, \"lower\": 0.0, \"upper\": 1275.9170270516, \"data\": null, \"model\": \"77\", \"adm_2\": 3304557.0, \"adm_1\": \"RJ\", \"adm_0\": \"BR\"}, {\"dates\": \"2022-12-04T00:00:00\", \"preds\": 138.95, \"lower\": 0.0, \"upper\": 968.9083312331, \"data\": null, \"model\": \"77\", \"adm_2\": 3304557.0, \"adm_1\": \"RJ\", \"adm_0\": \"BR\"}, {\"dates\": \"2022-12-11T00:00:00\", \"preds\": 281.55, \"lower\": 0.0, \"upper\": 1260.6283970385, \"data\": null, \"model\": \"77\", \"adm_2\": 3304557.0, \"adm_1\": \"RJ\", \"adm_0\": \"BR\"}, {\"dates\": \"2022-12-18T00:00:00\", \"preds\": 121.26, \"lower\": 0.0, \"upper\": 1588.656583431, \"data\": null, \"model\": \"77\", \"adm_2\": 3304557.0, \"adm_1\": \"RJ\", \"adm_0\": \"BR\"}, {\"dates\": \"2022-12-25T00:00:00\", \"preds\": 129.22, \"lower\": 0.0, \"upper\": 1872.3384034717, \"data\": null, \"model\": \"77\", \"adm_2\": 3304557.0, \"adm_1\": \"RJ\", \"adm_0\": \"BR\"}, {\"dates\": \"2023-01-01T00:00:00\", \"preds\": 124.7, \"lower\": 0.0, \"upper\": 1809.5625740147, \"data\": null, \"model\": \"77\", \"adm_2\": 3304557.0, \"adm_1\": \"RJ\", \"adm_0\": \"BR\"}, {\"dates\": \"2023-01-08T00:00:00\", \"preds\": 127.23, \"lower\": 0.0, \"upper\": 1793.8064366305, \"data\": null, \"model\": \"77\", \"adm_2\": 3304557.0, \"adm_1\": \"RJ\", \"adm_0\": \"BR\"}, {\"dates\": \"2023-01-15T00:00:00\", \"preds\": 155.21, \"lower\": 0.0, \"upper\": 1268.8861142409, \"data\": null, \"model\": \"77\", \"adm_2\": 3304557.0, \"adm_1\": \"RJ\", \"adm_0\": \"BR\"}, {\"dates\": \"2023-01-22T00:00:00\", \"preds\": 198.84, \"lower\": 0.0, \"upper\": 1195.3396186246, \"data\": null, \"model\": \"77\", \"adm_2\": 3304557.0, \"adm_1\": \"RJ\", \"adm_0\": \"BR\"}, {\"dates\": \"2023-01-29T00:00:00\", \"preds\": 345.27, \"lower\": 0.0, \"upper\": 1518.1194592248, \"data\": null, \"model\": \"77\", \"adm_2\": 3304557.0, \"adm_1\": \"RJ\", \"adm_0\": \"BR\"}, {\"dates\": \"2023-02-05T00:00:00\", \"preds\": 462.34, \"lower\": 0.0, \"upper\": 1445.4253987699, \"data\": null, \"model\": \"77\", \"adm_2\": 3304557.0, \"adm_1\": \"RJ\", \"adm_0\": \"BR\"}, {\"dates\": \"2023-02-12T00:00:00\", \"preds\": 481.6, \"lower\": 0.0, \"upper\": 1893.9755987178, \"data\": null, \"model\": \"77\", \"adm_2\": 3304557.0, \"adm_1\": \"RJ\", \"adm_0\": \"BR\"}, {\"dates\": \"2023-02-19T00:00:00\", \"preds\": 481.56, \"lower\": 0.0, \"upper\": 1965.8780215081, \"data\": null, \"model\": \"77\", \"adm_2\": 3304557.0, \"adm_1\": \"RJ\", \"adm_0\": \"BR\"}, {\"dates\": \"2023-02-26T00:00:00\", \"preds\": 574.3, \"lower\": 0.0, \"upper\": 2019.8204358497, \"data\": null, \"model\": \"77\", \"adm_2\": 3304557.0, \"adm_1\": \"RJ\", \"adm_0\": \"BR\"}, {\"dates\": \"2023-03-05T00:00:00\", \"preds\": 908.59, \"lower\": 0.0, \"upper\": 2793.9425956685, \"data\": null, \"model\": \"77\", \"adm_2\": 3304557.0, \"adm_1\": \"RJ\", \"adm_0\": \"BR\"}, {\"dates\": \"2023-03-12T00:00:00\", \"preds\": 1098.33, \"lower\": 0.0, \"upper\": 3565.2781705146, \"data\": null, \"model\": \"77\", \"adm_2\": 3304557.0, \"adm_1\": \"RJ\", \"adm_0\": \"BR\"}, {\"dates\": \"2023-03-19T00:00:00\", \"preds\": 1255.02, \"lower\": 0.0, \"upper\": 4202.4693301775, \"data\": null, \"model\": \"77\", \"adm_2\": 3304557.0, \"adm_1\": \"RJ\", \"adm_0\": \"BR\"}, {\"dates\": \"2023-03-26T00:00:00\", \"preds\": 903.32, \"lower\": 0.0, \"upper\": 3760.903225256, \"data\": null, \"model\": \"77\", \"adm_2\": 3304557.0, \"adm_1\": \"RJ\", \"adm_0\": \"BR\"}, {\"dates\": \"2023-04-02T00:00:00\", \"preds\": 2084.83, \"lower\": 0.0, \"upper\": 4512.3417709763, \"data\": null, \"model\": \"77\", \"adm_2\": 3304557.0, \"adm_1\": \"RJ\", \"adm_0\": \"BR\"}, {\"dates\": \"2023-04-09T00:00:00\", \"preds\": 1451.2, \"lower\": 0.0, \"upper\": 2937.0054003446, \"data\": null, \"model\": \"77\", \"adm_2\": 3304557.0, \"adm_1\": \"RJ\", \"adm_0\": \"BR\"}, {\"dates\": \"2023-04-16T00:00:00\", \"preds\": 1680.13, \"lower\": 591.7969421614, \"upper\": 2768.4630578386, \"data\": null, \"model\": \"77\", \"adm_2\": 3304557.0, \"adm_1\": \"RJ\", \"adm_0\": \"BR\"}, {\"dates\": \"2023-04-23T00:00:00\", \"preds\": 1944.43, \"lower\": 650.1333199898, \"upper\": 3238.7266800102, \"data\": null, \"model\": \"77\", \"adm_2\": 3304557.0, \"adm_1\": \"RJ\", \"adm_0\": \"BR\"}, {\"dates\": \"2023-04-30T00:00:00\", \"preds\": 1575.31, \"lower\": 227.6224669775, \"upper\": 2922.9975330225, \"data\": null, \"model\": \"77\", \"adm_2\": 3304557.0, \"adm_1\": \"RJ\", \"adm_0\": \"BR\"}, {\"dates\": \"2023-05-07T00:00:00\", \"preds\": 1426.24, \"lower\": 206.7682082167, \"upper\": 2645.7117917833, \"data\": null, \"model\": \"77\", \"adm_2\": 3304557.0, \"adm_1\": \"RJ\", \"adm_0\": \"BR\"}, {\"dates\": \"2023-05-14T00:00:00\", \"preds\": 1939.85, \"lower\": 769.2177668869, \"upper\": 3110.4822331131, \"data\": null, \"model\": \"77\", \"adm_2\": 3304557.0, \"adm_1\": \"RJ\", \"adm_0\": \"BR\"}, {\"dates\": \"2023-05-21T00:00:00\", \"preds\": 1454.24, \"lower\": 359.7715538942, \"upper\": 2548.7084461058, \"data\": null, \"model\": \"77\", \"adm_2\": 3304557.0, \"adm_1\": \"RJ\", \"adm_0\": \"BR\"}, {\"dates\": \"2023-05-28T00:00:00\", \"preds\": 1134.07, \"lower\": 343.0948354381, \"upper\": 1925.0451645619, \"data\": null, \"model\": \"77\", \"adm_2\": 3304557.0, \"adm_1\": \"RJ\", \"adm_0\": \"BR\"}, {\"dates\": \"2023-06-04T00:00:00\", \"preds\": 2243.41, \"lower\": 1319.5171062823, \"upper\": 3167.3028937177, \"data\": null, \"model\": \"77\", \"adm_2\": 3304557.0, \"adm_1\": \"RJ\", \"adm_0\": \"BR\"}, {\"dates\": \"2023-06-11T00:00:00\", \"preds\": 2239.65, \"lower\": 1112.8198769929, \"upper\": 3366.4801230071, \"data\": null, \"model\": \"77\", \"adm_2\": 3304557.0, \"adm_1\": \"RJ\", \"adm_0\": \"BR\"}, {\"dates\": \"2023-06-18T00:00:00\", \"preds\": 1068.35, \"lower\": 0.0, \"upper\": 2215.1295403202, \"data\": null, \"model\": \"77\", \"adm_2\": 3304557.0, \"adm_1\": \"RJ\", \"adm_0\": \"BR\"}, {\"dates\": \"2023-06-25T00:00:00\", \"preds\": 624.0, \"lower\": 0.0, \"upper\": 1599.3245555278, \"data\": null, \"model\": \"77\", \"adm_2\": 3304557.0, \"adm_1\": \"RJ\", \"adm_0\": \"BR\"}, {\"dates\": \"2022-01-02T00:00:00\", \"preds\": 109.3704933375, \"lower\": 0.0, \"upper\": 723.8520054869, \"data\": null, \"model\": \"78\", \"adm_2\": 3304557.0, \"adm_1\": \"RJ\", \"adm_0\": \"BR\"}, {\"dates\": \"2022-01-09T00:00:00\", \"preds\": 25.3118970841, \"lower\": 0.0, \"upper\": 529.5949193925, \"data\": null, \"model\": \"78\", \"adm_2\": 3304557.0, \"adm_1\": \"RJ\", \"adm_0\": \"BR\"}, {\"dates\": \"2022-01-16T00:00:00\", \"preds\": 0.0, \"lower\": 0.0, \"upper\": 406.1030913638, \"data\": null, \"model\": \"78\", \"adm_2\": 3304557.0, \"adm_1\": \"RJ\", \"adm_0\": \"BR\"}, {\"dates\": \"2022-01-23T00:00:00\", \"preds\": 0.0, \"lower\": 0.0, \"upper\": 452.7692431942, \"data\": null, \"model\": \"78\", \"adm_2\": 3304557.0, \"adm_1\": \"RJ\", \"adm_0\": \"BR\"}, {\"dates\": \"2022-01-30T00:00:00\", \"preds\": 0.0, \"lower\": 0.0, \"upper\": 607.8534869146, \"data\": null, \"model\": \"78\", \"adm_2\": 3304557.0, \"adm_1\": \"RJ\", \"adm_0\": \"BR\"}, {\"dates\": \"2022-02-06T00:00:00\", \"preds\": 0.0, \"lower\": 0.0, \"upper\": 571.5213175815, \"data\": null, \"model\": \"78\", \"adm_2\": 3304557.0, \"adm_1\": \"RJ\", \"adm_0\": \"BR\"}, {\"dates\": \"2022-02-13T00:00:00\", \"preds\": 86.4780002013, \"lower\": 0.0, \"upper\": 606.202994981, \"data\": null, \"model\": \"78\", \"adm_2\": 3304557.0, \"adm_1\": \"RJ\", \"adm_0\": \"BR\"}, {\"dates\": \"2022-02-20T00:00:00\", \"preds\": 232.8529663906, \"lower\": 0.0, \"upper\": 704.1387109958, \"data\": null, \"model\": \"78\", \"adm_2\": 3304557.0, \"adm_1\": \"RJ\", \"adm_0\": \"BR\"}, {\"dates\": \"2022-02-27T00:00:00\", \"preds\": 249.8387639374, \"lower\": 0.0, \"upper\": 864.0333929069, \"data\": null, \"model\": \"78\", \"adm_2\": 3304557.0, \"adm_1\": \"RJ\", \"adm_0\": \"BR\"}, {\"dates\": \"2022-03-06T00:00:00\", \"preds\": 236.5050984696, \"lower\": 0.0, \"upper\": 912.8691094007, \"data\": null, \"model\": \"78\", \"adm_2\": 3304557.0, \"adm_1\": \"RJ\", \"adm_0\": \"BR\"}, {\"dates\": \"2022-03-13T00:00:00\", \"preds\": 374.9699975103, \"lower\": 0.0, \"upper\": 838.5651220527, \"data\": null, \"model\": \"78\", \"adm_2\": 3304557.0, \"adm_1\": \"RJ\", \"adm_0\": \"BR\"}, {\"dates\": \"2022-03-20T00:00:00\", \"preds\": 342.3801910132, \"lower\": 0.0, \"upper\": 954.7004770912, \"data\": null, \"model\": \"78\", \"adm_2\": 3304557.0, \"adm_1\": \"RJ\", \"adm_0\": \"BR\"}, {\"dates\": \"2022-03-27T00:00:00\", \"preds\": 115.6595792919, \"lower\": 0.0, \"upper\": 640.2459985577, \"data\": null, \"model\": \"78\", \"adm_2\": 3304557.0, \"adm_1\": \"RJ\", \"adm_0\": \"BR\"}, {\"dates\": \"2022-04-03T00:00:00\", \"preds\": 133.0989688486, \"lower\": 0.0, \"upper\": 696.6566838086, \"data\": null, \"model\": \"78\", \"adm_2\": 3304557.0, \"adm_1\": \"RJ\", \"adm_0\": \"BR\"}, {\"dates\": \"2022-04-10T00:00:00\", \"preds\": 198.9890367314, \"lower\": 0.0, \"upper\": 644.0939105038, \"data\": null, \"model\": \"78\", \"adm_2\": 3304557.0, \"adm_1\": \"RJ\", \"adm_0\": \"BR\"}, {\"dates\": \"2022-04-17T00:00:00\", \"preds\": 170.3585512489, \"lower\": 0.0, \"upper\": 810.7452559274, \"data\": null, \"model\": \"78\", \"adm_2\": 3304557.0, \"adm_1\": \"RJ\", \"adm_0\": \"BR\"}, {\"dates\": \"2022-04-24T00:00:00\", \"preds\": 317.5533636957, \"lower\": 0.0, \"upper\": 1214.5482060984, \"data\": null, \"model\": \"78\", \"adm_2\": 3304557.0, \"adm_1\": \"RJ\", \"adm_0\": \"BR\"}, {\"dates\": \"2022-05-01T00:00:00\", \"preds\": 585.4558397308, \"lower\": 0.0, \"upper\": 1430.6597343847, \"data\": null, \"model\": \"78\", \"adm_2\": 3304557.0, \"adm_1\": \"RJ\", \"adm_0\": \"BR\"}, {\"dates\": \"2022-05-08T00:00:00\", \"preds\": 575.024428919, \"lower\": 8.4296638228, \"upper\": 1424.0171880141, \"data\": null, \"model\": \"78\", \"adm_2\": 3304557.0, \"adm_1\": \"RJ\", \"adm_0\": \"BR\"}, {\"dates\": \"2022-05-15T00:00:00\", \"preds\": 553.5908161178, \"lower\": 0.0, \"upper\": 1263.6794998243, \"data\": null, \"model\": \"78\", \"adm_2\": 3304557.0, \"adm_1\": \"RJ\", \"adm_0\": \"BR\"}, {\"dates\": \"2022-05-22T00:00:00\", \"preds\": 448.0580613017, \"lower\": 0.0, \"upper\": 1238.4645673811, \"data\": null, \"model\": \"78\", \"adm_2\": 3304557.0, \"adm_1\": \"RJ\", \"adm_0\": \"BR\"}, {\"dates\": \"2022-05-29T00:00:00\", \"preds\": 467.6085152477, \"lower\": 0.0, \"upper\": 986.0914632201, \"data\": null, \"model\": \"78\", \"adm_2\": 3304557.0, \"adm_1\": \"RJ\", \"adm_0\": \"BR\"}, {\"dates\": \"2022-06-05T00:00:00\", \"preds\": 516.6090817675, \"lower\": 0.0, \"upper\": 1275.2489616744, \"data\": null, \"model\": \"78\", \"adm_2\": 3304557.0, \"adm_1\": \"RJ\", \"adm_0\": \"BR\"}, {\"dates\": \"2022-06-12T00:00:00\", \"preds\": 232.2601490021, \"lower\": 0.0, \"upper\": 979.1794984825, \"data\": null, \"model\": \"78\", \"adm_2\": 3304557.0, \"adm_1\": \"RJ\", \"adm_0\": \"BR\"}, {\"dates\": \"2022-06-19T00:00:00\", \"preds\": 181.6569838598, \"lower\": 0.0, \"upper\": 778.3422996413, \"data\": null, \"model\": \"78\", \"adm_2\": 3304557.0, \"adm_1\": \"RJ\", \"adm_0\": \"BR\"}, {\"dates\": \"2022-06-26T00:00:00\", \"preds\": 184.1268508434, \"lower\": 0.0, \"upper\": 727.901391514, \"data\": null, \"model\": \"78\", \"adm_2\": 3304557.0, \"adm_1\": \"RJ\", \"adm_0\": \"BR\"}, {\"dates\": \"2022-07-03T00:00:00\", \"preds\": 0.0, \"lower\": 0.0, \"upper\": 543.2598108575, \"data\": null, \"model\": \"78\", \"adm_2\": 3304557.0, \"adm_1\": \"RJ\", \"adm_0\": \"BR\"}, {\"dates\": \"2022-07-10T00:00:00\", \"preds\": 0.0, \"lower\": 0.0, \"upper\": 524.3061247721, \"data\": null, \"model\": \"78\", \"adm_2\": 3304557.0, \"adm_1\": \"RJ\", \"adm_0\": \"BR\"}, {\"dates\": \"2022-07-17T00:00:00\", \"preds\": 2.3415177315, \"lower\": 0.0, \"upper\": 547.6995292876, \"data\": null, \"model\": \"78\", \"adm_2\": 3304557.0, \"adm_1\": \"RJ\", \"adm_0\": \"BR\"}, {\"dates\": \"2022-07-24T00:00:00\", \"preds\": 0.0, \"lower\": 0.0, \"upper\": 495.5266253971, \"data\": null, \"model\": \"78\", \"adm_2\": 3304557.0, \"adm_1\": \"RJ\", \"adm_0\": \"BR\"}, {\"dates\": \"2022-07-31T00:00:00\", \"preds\": 31.849106662, \"lower\": 0.0, \"upper\": 546.9803666487, \"data\": null, \"model\": \"78\", \"adm_2\": 3304557.0, \"adm_1\": \"RJ\", \"adm_0\": \"BR\"}, {\"dates\": \"2022-08-07T00:00:00\", \"preds\": 0.0, \"lower\": 0.0, \"upper\": 422.5016527284, \"data\": null, \"model\": \"78\", \"adm_2\": 3304557.0, \"adm_1\": \"RJ\", \"adm_0\": \"BR\"}, {\"dates\": \"2022-08-14T00:00:00\", \"preds\": 0.0, \"lower\": 0.0, \"upper\": 608.2965644222, \"data\": null, \"model\": \"78\", \"adm_2\": 3304557.0, \"adm_1\": \"RJ\", \"adm_0\": \"BR\"}, {\"dates\": \"2022-08-21T00:00:00\", \"preds\": 0.0, \"lower\": 0.0, \"upper\": 473.5215611801, \"data\": null, \"model\": \"78\", \"adm_2\": 3304557.0, \"adm_1\": \"RJ\", \"adm_0\": \"BR\"}, {\"dates\": \"2022-08-28T00:00:00\", \"preds\": 0.0, \"lower\": 0.0, \"upper\": 418.905976513, \"data\": null, \"model\": \"78\", \"adm_2\": 3304557.0, \"adm_1\": \"RJ\", \"adm_0\": \"BR\"}, {\"dates\": \"2022-09-04T00:00:00\", \"preds\": 0.0, \"lower\": 0.0, \"upper\": 535.4288134232, \"data\": null, \"model\": \"78\", \"adm_2\": 3304557.0, \"adm_1\": \"RJ\", \"adm_0\": \"BR\"}, {\"dates\": \"2022-09-11T00:00:00\", \"preds\": 0.0, \"lower\": 0.0, \"upper\": 470.2948555045, \"data\": null, \"model\": \"78\", \"adm_2\": 3304557.0, \"adm_1\": \"RJ\", \"adm_0\": \"BR\"}, {\"dates\": \"2022-09-18T00:00:00\", \"preds\": 0.0, \"lower\": 0.0, \"upper\": 517.7222615425, \"data\": null, \"model\": \"78\", \"adm_2\": 3304557.0, \"adm_1\": \"RJ\", \"adm_0\": \"BR\"}, {\"dates\": \"2022-09-25T00:00:00\", \"preds\": 0.0, \"lower\": 0.0, \"upper\": 324.7571195681, \"data\": null, \"model\": \"78\", \"adm_2\": 3304557.0, \"adm_1\": \"RJ\", \"adm_0\": \"BR\"}, {\"dates\": \"2022-10-02T00:00:00\", \"preds\": 0.0, \"lower\": 0.0, \"upper\": 487.8994649302, \"data\": null, \"model\": \"78\", \"adm_2\": 3304557.0, \"adm_1\": \"RJ\", \"adm_0\": \"BR\"}, {\"dates\": \"2022-10-09T00:00:00\", \"preds\": 0.0, \"lower\": 0.0, \"upper\": 624.6994303495, \"data\": null, \"model\": \"78\", \"adm_2\": 3304557.0, \"adm_1\": \"RJ\", \"adm_0\": \"BR\"}, {\"dates\": \"2022-10-16T00:00:00\", \"preds\": 0.0, \"lower\": 0.0, \"upper\": 529.9182512943, \"data\": null, \"model\": \"78\", \"adm_2\": 3304557.0, \"adm_1\": \"RJ\", \"adm_0\": \"BR\"}, {\"dates\": \"2022-10-23T00:00:00\", \"preds\": 0.0, \"lower\": 0.0, \"upper\": 413.525811471, \"data\": null, \"model\": \"78\", \"adm_2\": 3304557.0, \"adm_1\": \"RJ\", \"adm_0\": \"BR\"}, {\"dates\": \"2022-10-30T00:00:00\", \"preds\": 0.0, \"lower\": 0.0, \"upper\": 506.2727781624, \"data\": null, \"model\": \"78\", \"adm_2\": 3304557.0, \"adm_1\": \"RJ\", \"adm_0\": \"BR\"}, {\"dates\": \"2022-11-06T00:00:00\", \"preds\": 0.0, \"lower\": 0.0, \"upper\": 572.083177733, \"data\": null, \"model\": \"78\", \"adm_2\": 3304557.0, \"adm_1\": \"RJ\", \"adm_0\": \"BR\"}, {\"dates\": \"2022-11-13T00:00:00\", \"preds\": 0.0, \"lower\": 0.0, \"upper\": 403.3595069297, \"data\": null, \"model\": \"78\", \"adm_2\": 3304557.0, \"adm_1\": \"RJ\", \"adm_0\": \"BR\"}, {\"dates\": \"2022-11-20T00:00:00\", \"preds\": 0.0, \"lower\": 0.0, \"upper\": 543.9534488436, \"data\": null, \"model\": \"78\", \"adm_2\": 3304557.0, \"adm_1\": \"RJ\", \"adm_0\": \"BR\"}, {\"dates\": \"2022-11-27T00:00:00\", \"preds\": 0.0, \"lower\": 0.0, \"upper\": 524.0068367809, \"data\": null, \"model\": \"78\", \"adm_2\": 3304557.0, \"adm_1\": \"RJ\", \"adm_0\": \"BR\"}, {\"dates\": \"2022-12-04T00:00:00\", \"preds\": 0.0, \"lower\": 0.0, \"upper\": 418.8527026698, \"data\": null, \"model\": \"78\", \"adm_2\": 3304557.0, \"adm_1\": \"RJ\", \"adm_0\": \"BR\"}, {\"dates\": \"2022-12-11T00:00:00\", \"preds\": 0.0, \"lower\": 0.0, \"upper\": 498.8123991244, \"data\": null, \"model\": \"78\", \"adm_2\": 3304557.0, \"adm_1\": \"RJ\", \"adm_0\": \"BR\"}, {\"dates\": \"2022-12-18T00:00:00\", \"preds\": 7.7453362942, \"lower\": 0.0, \"upper\": 619.0887393665, \"data\": null, \"model\": \"78\", \"adm_2\": 3304557.0, \"adm_1\": \"RJ\", \"adm_0\": \"BR\"}, {\"dates\": \"2022-12-25T00:00:00\", \"preds\": 70.0851570219, \"lower\": 0.0, \"upper\": 507.5521873411, \"data\": null, \"model\": \"78\", \"adm_2\": 3304557.0, \"adm_1\": \"RJ\", \"adm_0\": \"BR\"}, {\"dates\": \"2023-01-01T00:00:00\", \"preds\": 28.9193740338, \"lower\": 0.0, \"upper\": 602.8117241956, \"data\": null, \"model\": \"78\", \"adm_2\": 3304557.0, \"adm_1\": \"RJ\", \"adm_0\": \"BR\"}, {\"dates\": \"2023-01-08T00:00:00\", \"preds\": 107.5751379728, \"lower\": 0.0, \"upper\": 566.5245524392, \"data\": null, \"model\": \"78\", \"adm_2\": 3304557.0, \"adm_1\": \"RJ\", \"adm_0\": \"BR\"}, {\"dates\": \"2023-01-15T00:00:00\", \"preds\": 136.0464265496, \"lower\": 0.0, \"upper\": 654.7008858331, \"data\": null, \"model\": \"78\", \"adm_2\": 3304557.0, \"adm_1\": \"RJ\", \"adm_0\": \"BR\"}, {\"dates\": \"2023-01-22T00:00:00\", \"preds\": 157.6281409636, \"lower\": 0.0, \"upper\": 703.7455855925, \"data\": null, \"model\": \"78\", \"adm_2\": 3304557.0, \"adm_1\": \"RJ\", \"adm_0\": \"BR\"}, {\"dates\": \"2023-01-29T00:00:00\", \"preds\": 370.7788259685, \"lower\": 0.0, \"upper\": 879.478636435, \"data\": null, \"model\": \"78\", \"adm_2\": 3304557.0, \"adm_1\": \"RJ\", \"adm_0\": \"BR\"}, {\"dates\": \"2023-02-05T00:00:00\", \"preds\": 200.67998676, \"lower\": 0.0, \"upper\": 720.2818470754, \"data\": null, \"model\": \"78\", \"adm_2\": 3304557.0, \"adm_1\": \"RJ\", \"adm_0\": \"BR\"}, {\"dates\": \"2023-02-12T00:00:00\", \"preds\": 270.5449912548, \"lower\": 0.0, \"upper\": 766.0707564242, \"data\": null, \"model\": \"78\", \"adm_2\": 3304557.0, \"adm_1\": \"RJ\", \"adm_0\": \"BR\"}, {\"dates\": \"2023-02-19T00:00:00\", \"preds\": 365.9762626961, \"lower\": 0.0, \"upper\": 984.143485938, \"data\": null, \"model\": \"78\", \"adm_2\": 3304557.0, \"adm_1\": \"RJ\", \"adm_0\": \"BR\"}, {\"dates\": \"2023-02-26T00:00:00\", \"preds\": 434.2454627231, \"lower\": 0.0, \"upper\": 1035.7856581375, \"data\": null, \"model\": \"78\", \"adm_2\": 3304557.0, \"adm_1\": \"RJ\", \"adm_0\": \"BR\"}, {\"dates\": \"2023-03-05T00:00:00\", \"preds\": 593.1198927313, \"lower\": 0.0, \"upper\": 1340.4223010339, \"data\": null, \"model\": \"78\", \"adm_2\": 3304557.0, \"adm_1\": \"RJ\", \"adm_0\": \"BR\"}, {\"dates\": \"2023-03-12T00:00:00\", \"preds\": 486.762278229, \"lower\": 13.1828434534, \"upper\": 1258.1380503178, \"data\": null, \"model\": \"78\", \"adm_2\": 3304557.0, \"adm_1\": \"RJ\", \"adm_0\": \"BR\"}, {\"dates\": \"2023-03-19T00:00:00\", \"preds\": 534.409355998, \"lower\": 0.0, \"upper\": 1161.3790531218, \"data\": null, \"model\": \"78\", \"adm_2\": 3304557.0, \"adm_1\": \"RJ\", \"adm_0\": \"BR\"}, {\"dates\": \"2023-03-26T00:00:00\", \"preds\": 555.0313138813, \"lower\": 0.0, \"upper\": 1138.9978529975, \"data\": null, \"model\": \"78\", \"adm_2\": 3304557.0, \"adm_1\": \"RJ\", \"adm_0\": \"BR\"}, {\"dates\": \"2023-04-02T00:00:00\", \"preds\": 540.6022553518, \"lower\": 0.0, \"upper\": 1290.8390316494, \"data\": null, \"model\": \"78\", \"adm_2\": 3304557.0, \"adm_1\": \"RJ\", \"adm_0\": \"BR\"}, {\"dates\": \"2023-04-09T00:00:00\", \"preds\": 670.57262557, \"lower\": 63.0884215072, \"upper\": 1603.4207726844, \"data\": null, \"model\": \"78\", \"adm_2\": 3304557.0, \"adm_1\": \"RJ\", \"adm_0\": \"BR\"}, {\"dates\": \"2023-04-16T00:00:00\", \"preds\": 823.2300753295, \"lower\": 5.3920096096, \"upper\": 1619.1121769279, \"data\": null, \"model\": \"78\", \"adm_2\": 3304557.0, \"adm_1\": \"RJ\", \"adm_0\": \"BR\"}, {\"dates\": \"2023-04-23T00:00:00\", \"preds\": 821.3328076452, \"lower\": 0.0, \"upper\": 1657.2413398936, \"data\": null, \"model\": \"78\", \"adm_2\": 3304557.0, \"adm_1\": \"RJ\", \"adm_0\": \"BR\"}, {\"dates\": \"2023-04-30T00:00:00\", \"preds\": 736.0327714011, \"lower\": 186.1478255641, \"upper\": 1522.9282282144, \"data\": null, \"model\": \"78\", \"adm_2\": 3304557.0, \"adm_1\": \"RJ\", \"adm_0\": \"BR\"}, {\"dates\": \"2023-05-07T00:00:00\", \"preds\": 760.3757069707, \"lower\": 31.6744434658, \"upper\": 1601.576000803, \"data\": null, \"model\": \"78\", \"adm_2\": 3304557.0, \"adm_1\": \"RJ\", \"adm_0\": \"BR\"}, {\"dates\": \"2023-05-14T00:00:00\", \"preds\": 593.9493001178, \"lower\": 0.0, \"upper\": 1293.7130412512, \"data\": null, \"model\": \"78\", \"adm_2\": 3304557.0, \"adm_1\": \"RJ\", \"adm_0\": \"BR\"}, {\"dates\": \"2023-05-21T00:00:00\", \"preds\": 341.6071367562, \"lower\": 0.0, \"upper\": 890.2078188814, \"data\": null, \"model\": \"78\", \"adm_2\": 3304557.0, \"adm_1\": \"RJ\", \"adm_0\": \"BR\"}, {\"dates\": \"2023-05-28T00:00:00\", \"preds\": 766.1951469854, \"lower\": 41.8829060107, \"upper\": 1633.4175681449, \"data\": null, \"model\": \"78\", \"adm_2\": 3304557.0, \"adm_1\": \"RJ\", \"adm_0\": \"BR\"}, {\"dates\": \"2023-06-04T00:00:00\", \"preds\": 922.2149910033, \"lower\": 172.700637443, \"upper\": 1701.7459047131, \"data\": null, \"model\": \"78\", \"adm_2\": 3304557.0, \"adm_1\": \"RJ\", \"adm_0\": \"BR\"}, {\"dates\": \"2023-06-11T00:00:00\", \"preds\": 693.3638638854, \"lower\": 56.4668219537, \"upper\": 1421.3332394093, \"data\": null, \"model\": \"78\", \"adm_2\": 3304557.0, \"adm_1\": \"RJ\", \"adm_0\": \"BR\"}, {\"dates\": \"2023-06-18T00:00:00\", \"preds\": 736.0198131949, \"lower\": 81.1291923746, \"upper\": 1725.0092463702, \"data\": null, \"model\": \"78\", \"adm_2\": 3304557.0, \"adm_1\": \"RJ\", \"adm_0\": \"BR\"}, {\"dates\": \"2023-06-25T00:00:00\", \"preds\": 431.9475864768, \"lower\": 0.0, \"upper\": 1022.6256792061, \"data\": null, \"model\": \"78\", \"adm_2\": 3304557.0, \"adm_1\": \"RJ\", \"adm_0\": \"BR\"}], \"data-c75b1ef138c49eb943858afac9015224\": [{\"dates\": \"2022-01-02T00:00:00\", \"preds\": 3.614658869133639, \"lower\": 2.380140875732704, \"upper\": 5.611550000770686, \"data\": 21.000000000000007, \"model\": \"preds\", \"adm_2\": null, \"adm_1\": null, \"adm_0\": null, \"legend\": null}, {\"dates\": \"2022-01-09T00:00:00\", \"preds\": 3.433225231166734, \"lower\": 2.039727277525486, \"upper\": 5.982191872486029, \"data\": 14.000000000000007, \"model\": \"preds\", \"adm_2\": null, \"adm_1\": null, \"adm_0\": null, \"legend\": null}, {\"dates\": \"2022-01-16T00:00:00\", \"preds\": 3.252120306408938, \"lower\": 1.7176409439078015, \"upper\": 6.491387205176214, \"data\": 21.999999999999996, \"model\": \"preds\", \"adm_2\": null, \"adm_1\": null, \"adm_0\": null, \"legend\": null}, {\"dates\": \"2022-01-23T00:00:00\", \"preds\": 3.1186843472719943, \"lower\": 1.4908927923045512, \"upper\": 7.007502489329827, \"data\": 19.000000000000014, \"model\": \"preds\", \"adm_2\": null, \"adm_1\": null, \"adm_0\": null, \"legend\": null}, {\"dates\": \"2022-01-30T00:00:00\", \"preds\": 21.331335238034686, \"lower\": 12.57092370608387, \"upper\": 37.51323920806751, \"data\": 31.000000000000004, \"model\": \"preds\", \"adm_2\": null, \"adm_1\": null, \"adm_0\": null, \"legend\": null}, {\"dates\": \"2022-02-06T00:00:00\", \"preds\": 21.773564850772544, \"lower\": 11.20455938921437, \"upper\": 44.8119953193996, \"data\": 34.99999999999999, \"model\": \"preds\", \"adm_2\": null, \"adm_1\": null, \"adm_0\": null, \"legend\": null}, {\"dates\": \"2022-02-13T00:00:00\", \"preds\": 22.71695896499695, \"lower\": 10.005849139455384, \"upper\": 56.39179230622142, \"data\": 47.000000000000014, \"model\": \"preds\", \"adm_2\": null, \"adm_1\": null, \"adm_0\": null, \"legend\": null}, {\"dates\": \"2022-02-20T00:00:00\", \"preds\": 23.35470428379721, \"lower\": 9.008811845762041, \"upper\": 68.44917622378219, \"data\": 62.00000000000003, \"model\": \"preds\", \"adm_2\": null, \"adm_1\": null, \"adm_0\": null, \"legend\": null}, {\"dates\": \"2022-02-27T00:00:00\", \"preds\": 63.39292903508878, \"lower\": 34.64880038154375, \"upper\": 121.57428182482055, \"data\": 66.00000000000003, \"model\": \"preds\", \"adm_2\": null, \"adm_1\": null, \"adm_0\": null, \"legend\": null}, {\"dates\": \"2022-03-06T00:00:00\", \"preds\": 69.1704675786341, \"lower\": 32.26639825973191, \"upper\": 160.09013186513351, \"data\": 116.0000000000001, \"model\": \"preds\", \"adm_2\": null, \"adm_1\": null, \"adm_0\": null, \"legend\": null}, {\"dates\": \"2022-03-13T00:00:00\", \"preds\": 72.84286656709835, \"lower\": 28.518421118802383, \"upper\": 209.49921639094885, \"data\": 126.0000000000001, \"model\": \"preds\", \"adm_2\": null, \"adm_1\": null, \"adm_0\": null, \"legend\": null}, {\"dates\": \"2022-03-20T00:00:00\", \"preds\": 76.62557143570297, \"lower\": 25.804641192047978, \"upper\": 267.88225991787436, \"data\": 176.9999999999999, \"model\": \"preds\", \"adm_2\": null, \"adm_1\": null, \"adm_0\": null, \"legend\": null}, {\"dates\": \"2022-03-27T00:00:00\", \"preds\": 181.68938156034605, \"lower\": 91.91818590653864, \"upper\": 381.54053000215157, \"data\": 153.00000000000014, \"model\": \"preds\", \"adm_2\": null, \"adm_1\": null, \"adm_0\": null, \"legend\": null}, {\"dates\": \"2022-04-03T00:00:00\", \"preds\": 202.51517959581122, \"lower\": 85.48523361192152, \"upper\": 529.8684971239157, \"data\": 222.00000000000014, \"model\": \"preds\", \"adm_2\": null, \"adm_1\": null, \"adm_0\": null, \"legend\": null}, {\"dates\": \"2022-04-10T00:00:00\", \"preds\": 215.97288991940644, \"lower\": 74.56030411037372, \"upper\": 730.7185287938674, \"data\": 201.00000000000014, \"model\": \"preds\", \"adm_2\": null, \"adm_1\": null, \"adm_0\": null, \"legend\": null}, {\"dates\": \"2022-04-17T00:00:00\", \"preds\": 230.17391777968305, \"lower\": 66.79112306320033, \"upper\": 983.9820788929912, \"data\": 233.99999999999986, \"model\": \"preds\", \"adm_2\": null, \"adm_1\": null, \"adm_0\": null, \"legend\": null}, {\"dates\": \"2022-04-24T00:00:00\", \"preds\": 239.78912835549175, \"lower\": 118.98304418907516, \"upper\": 515.2816715296342, \"data\": 342.0000000000005, \"model\": \"preds\", \"adm_2\": null, \"adm_1\": null, \"adm_0\": null, \"legend\": null}, {\"dates\": \"2022-05-01T00:00:00\", \"preds\": 253.29199042458148, \"lower\": 105.0021025811397, \"upper\": 677.8429765356312, \"data\": 461.0000000000005, \"model\": \"preds\", \"adm_2\": null, \"adm_1\": null, \"adm_0\": null, \"legend\": null}, {\"dates\": \"2022-05-08T00:00:00\", \"preds\": 262.4099950485661, \"lower\": 88.94005569000325, \"upper\": 909.6172112211701, \"data\": 505.0000000000002, \"model\": \"preds\", \"adm_2\": null, \"adm_1\": null, \"adm_0\": null, \"legend\": null}, {\"dates\": \"2022-05-15T00:00:00\", \"preds\": 271.35553088812753, \"lower\": 77.43611889541121, \"upper\": 1187.1532772621517, \"data\": 406.0000000000006, \"model\": \"preds\", \"adm_2\": null, \"adm_1\": null, \"adm_0\": null, \"legend\": null}, {\"dates\": \"2022-05-22T00:00:00\", \"preds\": 465.0280326992463, \"lower\": 218.51933686015363, \"upper\": 1066.777571118954, \"data\": 400.0, \"model\": \"preds\", \"adm_2\": null, \"adm_1\": null, \"adm_0\": null, \"legend\": null}, {\"dates\": \"2022-05-29T00:00:00\", \"preds\": 471.75188008957286, \"lower\": 183.0363317285188, \"upper\": 1372.4126352536605, \"data\": 338.0000000000002, \"model\": \"preds\", \"adm_2\": null, \"adm_1\": null, \"adm_0\": null, \"legend\": null}, {\"dates\": \"2022-06-05T00:00:00\", \"preds\": 493.50882529303385, \"lower\": 154.01976777135448, \"upper\": 1910.0736004905152, \"data\": 254.99999999999991, \"model\": \"preds\", \"adm_2\": null, \"adm_1\": null, \"adm_0\": null, \"legend\": null}, {\"dates\": \"2022-06-12T00:00:00\", \"preds\": 507.69633871338453, \"lower\": 131.64876229875833, \"upper\": 2541.1404533105997, \"data\": 153.00000000000014, \"model\": \"preds\", \"adm_2\": null, \"adm_1\": null, \"adm_0\": null, \"legend\": null}, {\"dates\": \"2022-06-19T00:00:00\", \"preds\": 167.76087009218995, \"lower\": 85.64910383284582, \"upper\": 348.5073575663706, \"data\": 209.00000000000009, \"model\": \"preds\", \"adm_2\": null, \"adm_1\": null, \"adm_0\": null, \"legend\": null}, {\"dates\": \"2022-06-26T00:00:00\", \"preds\": 154.15290588604157, \"lower\": 66.975465373166, \"upper\": 389.16664948619086, \"data\": 188.9999999999999, \"model\": \"preds\", \"adm_2\": null, \"adm_1\": null, \"adm_0\": null, \"legend\": null}, {\"dates\": \"2022-07-03T00:00:00\", \"preds\": 150.99811525234864, \"lower\": 54.57364061353801, \"upper\": 481.2103805066478, \"data\": 154.99999999999991, \"model\": \"preds\", \"adm_2\": null, \"adm_1\": null, \"adm_0\": null, \"legend\": null}, {\"dates\": \"2022-07-10T00:00:00\", \"preds\": 145.99540514656573, \"lower\": 45.234503498814185, \"upper\": 570.6334337220401, \"data\": 144.0, \"model\": \"preds\", \"adm_2\": null, \"adm_1\": null, \"adm_0\": null, \"legend\": null}, {\"dates\": \"2022-07-17T00:00:00\", \"preds\": 141.09022998887374, \"lower\": 73.11890822917931, \"upper\": 287.9679677155035, \"data\": 193.99999999999991, \"model\": \"preds\", \"adm_2\": null, \"adm_1\": null, \"adm_0\": null, \"legend\": null}, {\"dates\": \"2022-07-24T00:00:00\", \"preds\": 136.83085137731135, \"lower\": 60.255593111277825, \"upper\": 339.7511524022664, \"data\": 148.00000000000003, \"model\": \"preds\", \"adm_2\": null, \"adm_1\": null, \"adm_0\": null, \"legend\": null}, {\"dates\": \"2022-07-31T00:00:00\", \"preds\": 133.8603297159285, \"lower\": 49.180202134802514, \"upper\": 417.6274111930265, \"data\": 145.00000000000003, \"model\": \"preds\", \"adm_2\": null, \"adm_1\": null, \"adm_0\": null, \"legend\": null}, {\"dates\": \"2022-08-07T00:00:00\", \"preds\": 131.20635331032815, \"lower\": 41.34880780866706, \"upper\": 501.19363629921145, \"data\": 106.00000000000007, \"model\": \"preds\", \"adm_2\": null, \"adm_1\": null, \"adm_0\": null, \"legend\": null}, {\"dates\": \"2022-08-14T00:00:00\", \"preds\": 111.38967124972875, \"lower\": 58.816424134349504, \"upper\": 222.4063840451618, \"data\": 109.99999999999996, \"model\": \"preds\", \"adm_2\": null, \"adm_1\": null, \"adm_0\": null, \"legend\": null}, {\"dates\": \"2022-08-21T00:00:00\", \"preds\": 105.25261017221358, \"lower\": 47.559711093645525, \"upper\": 253.21575835312325, \"data\": 99.00000000000009, \"model\": \"preds\", \"adm_2\": null, \"adm_1\": null, \"adm_0\": null, \"legend\": null}, {\"dates\": \"2022-08-28T00:00:00\", \"preds\": 103.47410891075722, \"lower\": 39.197471252596046, \"upper\": 310.36814802124167, \"data\": 93.99999999999994, \"model\": \"preds\", \"adm_2\": null, \"adm_1\": null, \"adm_0\": null, \"legend\": null}, {\"dates\": \"2022-09-04T00:00:00\", \"preds\": 100.98212719049425, \"lower\": 32.97666320764725, \"upper\": 367.764138407027, \"data\": 101.00000000000001, \"model\": \"preds\", \"adm_2\": null, \"adm_1\": null, \"adm_0\": null, \"legend\": null}, {\"dates\": \"2022-09-11T00:00:00\", \"preds\": 96.34719336863107, \"lower\": 51.49848081146708, \"upper\": 189.64225246372425, \"data\": 120.0000000000001, \"model\": \"preds\", \"adm_2\": null, \"adm_1\": null, \"adm_0\": null, \"legend\": null}, {\"dates\": \"2022-09-18T00:00:00\", \"preds\": 95.77750880225683, \"lower\": 43.735953963125525, \"upper\": 227.482790878451, \"data\": 102.00000000000003, \"model\": \"preds\", \"adm_2\": null, \"adm_1\": null, \"adm_0\": null, \"legend\": null}, {\"dates\": \"2022-09-25T00:00:00\", \"preds\": 94.2678358323544, \"lower\": 36.16285250506332, \"upper\": 278.23452334912656, \"data\": 94.99999999999997, \"model\": \"preds\", \"adm_2\": null, \"adm_1\": null, \"adm_0\": null, \"legend\": null}, {\"dates\": \"2022-10-02T00:00:00\", \"preds\": 93.31645975722742, \"lower\": 30.86107569314268, \"upper\": 334.1712149366602, \"data\": 102.00000000000003, \"model\": \"preds\", \"adm_2\": null, \"adm_1\": null, \"adm_0\": null, \"legend\": null}, {\"dates\": \"2022-10-09T00:00:00\", \"preds\": 98.71560180351594, \"lower\": 52.75987727082379, \"upper\": 194.323584459493, \"data\": 123.00000000000006, \"model\": \"preds\", \"adm_2\": null, \"adm_1\": null, \"adm_0\": null, \"legend\": null}, {\"dates\": \"2022-10-16T00:00:00\", \"preds\": 98.87475800002565, \"lower\": 45.11304943885604, \"upper\": 235.07527270024372, \"data\": 160.0000000000001, \"model\": \"preds\", \"adm_2\": null, \"adm_1\": null, \"adm_0\": null, \"legend\": null}, {\"dates\": \"2022-10-23T00:00:00\", \"preds\": 98.09141346352483, \"lower\": 37.56262519359326, \"upper\": 290.17966135697196, \"data\": 139.00000000000003, \"model\": \"preds\", \"adm_2\": null, \"adm_1\": null, \"adm_0\": null, \"legend\": null}, {\"dates\": \"2022-10-30T00:00:00\", \"preds\": 97.71465709535342, \"lower\": 32.226103318495426, \"upper\": 351.2150410226741, \"data\": 131.0, \"model\": \"preds\", \"adm_2\": null, \"adm_1\": null, \"adm_0\": null, \"legend\": null}, {\"dates\": \"2022-11-06T00:00:00\", \"preds\": 134.62573664704607, \"lower\": 70.40473557585469, \"upper\": 271.8550882824698, \"data\": 171.0, \"model\": \"preds\", \"adm_2\": null, \"adm_1\": null, \"adm_0\": null, \"legend\": null}, {\"dates\": \"2022-11-13T00:00:00\", \"preds\": 134.47036677331133, \"lower\": 59.71782686117104, \"upper\": 330.447250649565, \"data\": 129.00000000000003, \"model\": \"preds\", \"adm_2\": null, \"adm_1\": null, \"adm_0\": null, \"legend\": null}, {\"dates\": \"2022-11-20T00:00:00\", \"preds\": 135.3776571678296, \"lower\": 50.10456453134116, \"upper\": 418.3747502700327, \"data\": 93.99999999999994, \"model\": \"preds\", \"adm_2\": null, \"adm_1\": null, \"adm_0\": null, \"legend\": null}, {\"dates\": \"2022-11-27T00:00:00\", \"preds\": 135.82818722986102, \"lower\": 43.049101727643105, \"upper\": 514.8958796614942, \"data\": 86.00000000000003, \"model\": \"preds\", \"adm_2\": null, \"adm_1\": null, \"adm_0\": null, \"legend\": null}, {\"dates\": \"2022-12-04T00:00:00\", \"preds\": 84.91744320648253, \"lower\": 45.95105937217203, \"upper\": 164.7622825346184, \"data\": 98.0, \"model\": \"preds\", \"adm_2\": null, \"adm_1\": null, \"adm_0\": null, \"legend\": null}, {\"dates\": \"2022-12-11T00:00:00\", \"preds\": 82.37384167696814, \"lower\": 38.250490680040315, \"upper\": 191.70584865719232, \"data\": 123.00000000000006, \"model\": \"preds\", \"adm_2\": null, \"adm_1\": null, \"adm_0\": null, \"legend\": null}, {\"dates\": \"2022-12-18T00:00:00\", \"preds\": 80.7613950099572, \"lower\": 31.64523878384306, \"upper\": 232.0248371971098, \"data\": 117.0000000000001, \"model\": \"preds\", \"adm_2\": null, \"adm_1\": null, \"adm_0\": null, \"legend\": null}, {\"dates\": \"2022-12-25T00:00:00\", \"preds\": 79.26069183082991, \"lower\": 26.89160433614791, \"upper\": 274.38016287466684, \"data\": 163.00000000000006, \"model\": \"preds\", \"adm_2\": null, \"adm_1\": null, \"adm_0\": null, \"legend\": null}, {\"dates\": \"2023-01-01T00:00:00\", \"preds\": 151.75912131500172, \"lower\": 78.8006137547906, \"upper\": 309.0367972424309, \"data\": 230.00000000000014, \"model\": \"preds\", \"adm_2\": null, \"adm_1\": null, \"adm_0\": null, \"legend\": null}, {\"dates\": \"2023-01-08T00:00:00\", \"preds\": 159.7113114447144, \"lower\": 69.925995297073, \"upper\": 399.39483298826224, \"data\": 218.00000000000017, \"model\": \"preds\", \"adm_2\": null, \"adm_1\": null, \"adm_0\": null, \"legend\": null}, {\"dates\": \"2023-01-15T00:00:00\", \"preds\": 161.09849482557027, \"lower\": 58.61265263614962, \"upper\": 508.99158690412145, \"data\": 246.00000000000068, \"model\": \"preds\", \"adm_2\": null, \"adm_1\": null, \"adm_0\": null, \"legend\": null}, {\"dates\": \"2023-01-22T00:00:00\", \"preds\": 164.0870771311059, \"lower\": 50.903757847976614, \"upper\": 640.2575220702569, \"data\": 311.9999999999994, \"model\": \"preds\", \"adm_2\": null, \"adm_1\": null, \"adm_0\": null, \"legend\": null}, {\"dates\": \"2023-01-29T00:00:00\", \"preds\": 309.36997031375967, \"lower\": 152.07971768934192, \"upper\": 672.2648617059136, \"data\": 383.00000000000006, \"model\": \"preds\", \"adm_2\": null, \"adm_1\": null, \"adm_0\": null, \"legend\": null}, {\"dates\": \"2023-02-05T00:00:00\", \"preds\": 328.36402569417095, \"lower\": 134.0836603638846, \"upper\": 895.5194220504013, \"data\": 524.9999999999994, \"model\": \"preds\", \"adm_2\": null, \"adm_1\": null, \"adm_0\": null, \"legend\": null}, {\"dates\": \"2023-02-12T00:00:00\", \"preds\": 338.44353738083413, \"lower\": 112.86419585872474, \"upper\": 1198.6506712953878, \"data\": 371.99999999999994, \"model\": \"preds\", \"adm_2\": null, \"adm_1\": null, \"adm_0\": null, \"legend\": null}, {\"dates\": \"2023-02-19T00:00:00\", \"preds\": 349.60097780996006, \"lower\": 97.93584193927443, \"upper\": 1569.3142988104, \"data\": 507.0000000000001, \"model\": \"preds\", \"adm_2\": null, \"adm_1\": null, \"adm_0\": null, \"legend\": null}, {\"dates\": \"2023-02-26T00:00:00\", \"preds\": 486.69752571203514, \"lower\": 230.60416972704553, \"upper\": 1105.375866271899, \"data\": 870.0, \"model\": \"preds\", \"adm_2\": null, \"adm_1\": null, \"adm_0\": null, \"legend\": null}, {\"dates\": \"2023-03-05T00:00:00\", \"preds\": 517.8411243043572, \"lower\": 201.98745181276163, \"upper\": 1496.3648720959604, \"data\": 945.0000000000003, \"model\": \"preds\", \"adm_2\": null, \"adm_1\": null, \"adm_0\": null, \"legend\": null}, {\"dates\": \"2023-03-12T00:00:00\", \"preds\": 529.7684567054695, \"lower\": 167.23095654785914, \"upper\": 2019.1252957105041, \"data\": 1125.000000000002, \"model\": \"preds\", \"adm_2\": null, \"adm_1\": null, \"adm_0\": null, \"legend\": null}, {\"dates\": \"2023-03-19T00:00:00\", \"preds\": 545.4007213622474, \"lower\": 143.50548199946917, \"upper\": 2673.7759556682413, \"data\": 1382.0000000000002, \"model\": \"preds\", \"adm_2\": null, \"adm_1\": null, \"adm_0\": null, \"legend\": null}, {\"dates\": \"2023-03-26T00:00:00\", \"preds\": 1436.9969791954877, \"lower\": 617.80444857739, \"upper\": 3675.252209023487, \"data\": 1579.9999999999984, \"model\": \"preds\", \"adm_2\": null, \"adm_1\": null, \"adm_0\": null, \"legend\": null}, {\"dates\": \"2023-04-02T00:00:00\", \"preds\": 1552.567089578109, \"lower\": 534.8015631291074, \"upper\": 5268.307803049241, \"data\": 1419.9999999999982, \"model\": \"preds\", \"adm_2\": null, \"adm_1\": null, \"adm_0\": null, \"legend\": null}, {\"dates\": \"2023-04-09T00:00:00\", \"preds\": 1636.9392121750382, \"lower\": 442.3248136706556, \"upper\": 7728.713793949735, \"data\": 1783.0000000000034, \"model\": \"preds\", \"adm_2\": null, \"adm_1\": null, \"adm_0\": null, \"legend\": null}, {\"dates\": \"2023-04-16T00:00:00\", \"preds\": 1720.5739847712427, \"lower\": 377.21274317344836, \"upper\": 11004.623877515718, \"data\": 1502.0000000000002, \"model\": \"preds\", \"adm_2\": null, \"adm_1\": null, \"adm_0\": null, \"legend\": null}, {\"dates\": \"2023-04-23T00:00:00\", \"preds\": 1657.1806290305906, \"lower\": 704.2999114889643, \"upper\": 4299.410348138865, \"data\": 1571.9999999999993, \"model\": \"preds\", \"adm_2\": null, \"adm_1\": null, \"adm_0\": null, \"legend\": null}, {\"dates\": \"2023-04-30T00:00:00\", \"preds\": 1670.3745106937647, \"lower\": 572.0346821463518, \"upper\": 5711.7438576471895, \"data\": 1918.9999999999986, \"model\": \"preds\", \"adm_2\": null, \"adm_1\": null, \"adm_0\": null, \"legend\": null}, {\"dates\": \"2023-05-07T00:00:00\", \"preds\": 1722.5635450059838, \"lower\": 463.66773266459626, \"upper\": 8177.35425212233, \"data\": 1807.000000000001, \"model\": \"preds\", \"adm_2\": null, \"adm_1\": null, \"adm_0\": null, \"legend\": null}, {\"dates\": \"2023-05-14T00:00:00\", \"preds\": 1755.4117309045916, \"lower\": 385.13211283295925, \"upper\": 11215.15300772631, \"data\": 1730.9999999999984, \"model\": \"preds\", \"adm_2\": null, \"adm_1\": null, \"adm_0\": null, \"legend\": null}, {\"dates\": \"2023-05-21T00:00:00\", \"preds\": 1791.9777613998463, \"lower\": 757.4544557427392, \"upper\": 4680.679260236886, \"data\": 1478.9999999999989, \"model\": \"preds\", \"adm_2\": null, \"adm_1\": null, \"adm_0\": null, \"legend\": null}, {\"dates\": \"2023-05-28T00:00:00\", \"preds\": 1805.2347171459583, \"lower\": 614.147112710866, \"upper\": 6226.891165129948, \"data\": 1328.0000000000018, \"model\": \"preds\", \"adm_2\": null, \"adm_1\": null, \"adm_0\": null, \"legend\": null}, {\"dates\": \"2023-06-04T00:00:00\", \"preds\": 1829.3651793516538, \"lower\": 489.7629993558478, \"upper\": 8750.799223426155, \"data\": 1238.0000000000007, \"model\": \"preds\", \"adm_2\": null, \"adm_1\": null, \"adm_0\": null, \"legend\": null}, {\"dates\": \"2023-06-11T00:00:00\", \"preds\": 1846.2626111340383, \"lower\": 403.2353031857193, \"upper\": 11875.82932528966, \"data\": 1347.9999999999984, \"model\": \"preds\", \"adm_2\": null, \"adm_1\": null, \"adm_0\": null, \"legend\": null}, {\"dates\": \"2023-06-18T00:00:00\", \"preds\": 1300.2629947196654, \"lower\": 567.9816228693035, \"upper\": 3260.8439645005164, \"data\": 1235.999999999999, \"model\": \"preds\", \"adm_2\": null, \"adm_1\": null, \"adm_0\": null, \"legend\": null}, {\"dates\": \"2023-06-25T00:00:00\", \"preds\": 1304.3716371352732, \"lower\": 462.37057439565336, \"upper\": 4263.066574789821, \"data\": 996.0000000000018, \"model\": \"preds\", \"adm_2\": null, \"adm_1\": null, \"adm_0\": null, \"legend\": null}, {\"dates\": \"2022-01-02T00:00:00\", \"preds\": 61.29, \"lower\": 0.0, \"upper\": 1729.2245503355, \"data\": null, \"model\": \"77\", \"adm_2\": 3304557.0, \"adm_1\": \"RJ\", \"adm_0\": \"BR\", \"legend\": null}, {\"dates\": \"2022-01-09T00:00:00\", \"preds\": 27.06, \"lower\": 0.0, \"upper\": 1535.8709703498, \"data\": null, \"model\": \"77\", \"adm_2\": 3304557.0, \"adm_1\": \"RJ\", \"adm_0\": \"BR\", \"legend\": null}, {\"dates\": \"2022-01-16T00:00:00\", \"preds\": 26.88, \"lower\": 0.0, \"upper\": 673.9351776686, \"data\": null, \"model\": \"77\", \"adm_2\": 3304557.0, \"adm_1\": \"RJ\", \"adm_0\": \"BR\", \"legend\": null}, {\"dates\": \"2022-01-23T00:00:00\", \"preds\": 30.44, \"lower\": 0.0, \"upper\": 1149.2167062209, \"data\": null, \"model\": \"77\", \"adm_2\": 3304557.0, \"adm_1\": \"RJ\", \"adm_0\": \"BR\", \"legend\": null}, {\"dates\": \"2022-01-30T00:00:00\", \"preds\": 29.76, \"lower\": 0.0, \"upper\": 1054.8541371324, \"data\": null, \"model\": \"77\", \"adm_2\": 3304557.0, \"adm_1\": \"RJ\", \"adm_0\": \"BR\", \"legend\": null}, {\"dates\": \"2022-02-06T00:00:00\", \"preds\": 29.34, \"lower\": 0.0, \"upper\": 1053.3112130593, \"data\": null, \"model\": \"77\", \"adm_2\": 3304557.0, \"adm_1\": \"RJ\", \"adm_0\": \"BR\", \"legend\": null}, {\"dates\": \"2022-02-13T00:00:00\", \"preds\": 34.61, \"lower\": 0.0, \"upper\": 1012.9490918948, \"data\": null, \"model\": \"77\", \"adm_2\": 3304557.0, \"adm_1\": \"RJ\", \"adm_0\": \"BR\", \"legend\": null}, {\"dates\": \"2022-02-20T00:00:00\", \"preds\": 39.01, \"lower\": 0.0, \"upper\": 1235.4601531132, \"data\": null, \"model\": \"77\", \"adm_2\": 3304557.0, \"adm_1\": \"RJ\", \"adm_0\": \"BR\", \"legend\": null}, {\"dates\": \"2022-02-27T00:00:00\", \"preds\": 43.28, \"lower\": 0.0, \"upper\": 1478.6163274184, \"data\": null, \"model\": \"77\", \"adm_2\": 3304557.0, \"adm_1\": \"RJ\", \"adm_0\": \"BR\", \"legend\": null}, {\"dates\": \"2022-03-06T00:00:00\", \"preds\": 32.32, \"lower\": 0.0, \"upper\": 1933.3792826922, \"data\": null, \"model\": \"77\", \"adm_2\": 3304557.0, \"adm_1\": \"RJ\", \"adm_0\": \"BR\", \"legend\": null}, {\"dates\": \"2022-03-13T00:00:00\", \"preds\": 44.08, \"lower\": 0.0, \"upper\": 1698.1051179684, \"data\": null, \"model\": \"77\", \"adm_2\": 3304557.0, \"adm_1\": \"RJ\", \"adm_0\": \"BR\", \"legend\": null}, {\"dates\": \"2022-03-20T00:00:00\", \"preds\": 74.21, \"lower\": 0.0, \"upper\": 1583.5488129311, \"data\": null, \"model\": \"77\", \"adm_2\": 3304557.0, \"adm_1\": \"RJ\", \"adm_0\": \"BR\", \"legend\": null}, {\"dates\": \"2022-03-27T00:00:00\", \"preds\": 91.2, \"lower\": 0.0, \"upper\": 1376.3518495555, \"data\": null, \"model\": \"77\", \"adm_2\": 3304557.0, \"adm_1\": \"RJ\", \"adm_0\": \"BR\", \"legend\": null}, {\"dates\": \"2022-04-03T00:00:00\", \"preds\": 98.79, \"lower\": 0.0, \"upper\": 723.5706027188, \"data\": null, \"model\": \"77\", \"adm_2\": 3304557.0, \"adm_1\": \"RJ\", \"adm_0\": \"BR\", \"legend\": null}, {\"dates\": \"2022-04-10T00:00:00\", \"preds\": 176.98, \"lower\": 0.0, \"upper\": 1567.9589396197, \"data\": null, \"model\": \"77\", \"adm_2\": 3304557.0, \"adm_1\": \"RJ\", \"adm_0\": \"BR\", \"legend\": null}, {\"dates\": \"2022-04-17T00:00:00\", \"preds\": 216.42, \"lower\": 0.0, \"upper\": 2335.967212316, \"data\": null, \"model\": \"77\", \"adm_2\": 3304557.0, \"adm_1\": \"RJ\", \"adm_0\": \"BR\", \"legend\": null}, {\"dates\": \"2022-04-24T00:00:00\", \"preds\": 345.06, \"lower\": 0.0, \"upper\": 3021.9998205177, \"data\": null, \"model\": \"77\", \"adm_2\": 3304557.0, \"adm_1\": \"RJ\", \"adm_0\": \"BR\", \"legend\": null}, {\"dates\": \"2022-05-01T00:00:00\", \"preds\": 313.83, \"lower\": 0.0, \"upper\": 3249.4121439655, \"data\": null, \"model\": \"77\", \"adm_2\": 3304557.0, \"adm_1\": \"RJ\", \"adm_0\": \"BR\", \"legend\": null}, {\"dates\": \"2022-05-08T00:00:00\", \"preds\": 512.02, \"lower\": 0.0, \"upper\": 3762.6987796367, \"data\": null, \"model\": \"77\", \"adm_2\": 3304557.0, \"adm_1\": \"RJ\", \"adm_0\": \"BR\", \"legend\": null}, {\"dates\": \"2022-05-15T00:00:00\", \"preds\": 382.19, \"lower\": 0.0, \"upper\": 2690.5815795323, \"data\": null, \"model\": \"77\", \"adm_2\": 3304557.0, \"adm_1\": \"RJ\", \"adm_0\": \"BR\", \"legend\": null}, {\"dates\": \"2022-05-22T00:00:00\", \"preds\": 318.17, \"lower\": 0.0, \"upper\": 1889.3836654291, \"data\": null, \"model\": \"77\", \"adm_2\": 3304557.0, \"adm_1\": \"RJ\", \"adm_0\": \"BR\", \"legend\": null}, {\"dates\": \"2022-05-29T00:00:00\", \"preds\": 663.35, \"lower\": 0.0, \"upper\": 2355.171415628, \"data\": null, \"model\": \"77\", \"adm_2\": 3304557.0, \"adm_1\": \"RJ\", \"adm_0\": \"BR\", \"legend\": null}, {\"dates\": \"2022-06-05T00:00:00\", \"preds\": 1012.57, \"lower\": 244.0160680593, \"upper\": 1781.1239319407, \"data\": null, \"model\": \"77\", \"adm_2\": 3304557.0, \"adm_1\": \"RJ\", \"adm_0\": \"BR\", \"legend\": null}, {\"dates\": \"2022-06-12T00:00:00\", \"preds\": 902.92, \"lower\": 0.0, \"upper\": 2020.9380813249, \"data\": null, \"model\": \"77\", \"adm_2\": 3304557.0, \"adm_1\": \"RJ\", \"adm_0\": \"BR\", \"legend\": null}, {\"dates\": \"2022-06-19T00:00:00\", \"preds\": 766.88, \"lower\": 0.0, \"upper\": 2229.098105451, \"data\": null, \"model\": \"77\", \"adm_2\": 3304557.0, \"adm_1\": \"RJ\", \"adm_0\": \"BR\", \"legend\": null}, {\"dates\": \"2022-06-26T00:00:00\", \"preds\": 396.46, \"lower\": 0.0, \"upper\": 2184.4381570024, \"data\": null, \"model\": \"77\", \"adm_2\": 3304557.0, \"adm_1\": \"RJ\", \"adm_0\": \"BR\", \"legend\": null}, {\"dates\": \"2022-07-03T00:00:00\", \"preds\": 333.08, \"lower\": 0.0, \"upper\": 2367.8073825474, \"data\": null, \"model\": \"77\", \"adm_2\": 3304557.0, \"adm_1\": \"RJ\", \"adm_0\": \"BR\", \"legend\": null}, {\"dates\": \"2022-07-10T00:00:00\", \"preds\": 203.22, \"lower\": 0.0, \"upper\": 1614.4841398778, \"data\": null, \"model\": \"77\", \"adm_2\": 3304557.0, \"adm_1\": \"RJ\", \"adm_0\": \"BR\", \"legend\": null}, {\"dates\": \"2022-07-17T00:00:00\", \"preds\": 210.92, \"lower\": 0.0, \"upper\": 1624.558058697, \"data\": null, \"model\": \"77\", \"adm_2\": 3304557.0, \"adm_1\": \"RJ\", \"adm_0\": \"BR\", \"legend\": null}, {\"dates\": \"2022-07-24T00:00:00\", \"preds\": 205.35, \"lower\": 0.0, \"upper\": 1947.7565892405, \"data\": null, \"model\": \"77\", \"adm_2\": 3304557.0, \"adm_1\": \"RJ\", \"adm_0\": \"BR\", \"legend\": null}, {\"dates\": \"2022-07-31T00:00:00\", \"preds\": 155.79, \"lower\": 0.0, \"upper\": 1396.3902691858, \"data\": null, \"model\": \"77\", \"adm_2\": 3304557.0, \"adm_1\": \"RJ\", \"adm_0\": \"BR\", \"legend\": null}, {\"dates\": \"2022-08-07T00:00:00\", \"preds\": 161.74, \"lower\": 0.0, \"upper\": 1267.4720622758, \"data\": null, \"model\": \"77\", \"adm_2\": 3304557.0, \"adm_1\": \"RJ\", \"adm_0\": \"BR\", \"legend\": null}, {\"dates\": \"2022-08-14T00:00:00\", \"preds\": 153.51, \"lower\": 0.0, \"upper\": 1237.7757285767, \"data\": null, \"model\": \"77\", \"adm_2\": 3304557.0, \"adm_1\": \"RJ\", \"adm_0\": \"BR\", \"legend\": null}, {\"dates\": \"2022-08-21T00:00:00\", \"preds\": 176.64, \"lower\": 0.0, \"upper\": 1297.4866719026, \"data\": null, \"model\": \"77\", \"adm_2\": 3304557.0, \"adm_1\": \"RJ\", \"adm_0\": \"BR\", \"legend\": null}, {\"dates\": \"2022-08-28T00:00:00\", \"preds\": 179.13, \"lower\": 0.0, \"upper\": 1478.6152989411, \"data\": null, \"model\": \"77\", \"adm_2\": 3304557.0, \"adm_1\": \"RJ\", \"adm_0\": \"BR\", \"legend\": null}, {\"dates\": \"2022-09-04T00:00:00\", \"preds\": 146.43, \"lower\": 0.0, \"upper\": 1566.3419666142, \"data\": null, \"model\": \"77\", \"adm_2\": 3304557.0, \"adm_1\": \"RJ\", \"adm_0\": \"BR\", \"legend\": null}, {\"dates\": \"2022-09-11T00:00:00\", \"preds\": 119.06, \"lower\": 0.0, \"upper\": 1064.7396522083, \"data\": null, \"model\": \"77\", \"adm_2\": 3304557.0, \"adm_1\": \"RJ\", \"adm_0\": \"BR\", \"legend\": null}, {\"dates\": \"2022-09-18T00:00:00\", \"preds\": 89.66, \"lower\": 0.0, \"upper\": 524.128212398, \"data\": null, \"model\": \"77\", \"adm_2\": 3304557.0, \"adm_1\": \"RJ\", \"adm_0\": \"BR\", \"legend\": null}, {\"dates\": \"2022-09-25T00:00:00\", \"preds\": 88.07, \"lower\": 0.0, \"upper\": 1116.9014193491, \"data\": null, \"model\": \"77\", \"adm_2\": 3304557.0, \"adm_1\": \"RJ\", \"adm_0\": \"BR\", \"legend\": null}, {\"dates\": \"2022-10-02T00:00:00\", \"preds\": 92.84, \"lower\": 0.0, \"upper\": 967.041235228, \"data\": null, \"model\": \"77\", \"adm_2\": 3304557.0, \"adm_1\": \"RJ\", \"adm_0\": \"BR\", \"legend\": null}, {\"dates\": \"2022-10-09T00:00:00\", \"preds\": 130.7, \"lower\": 0.0, \"upper\": 1671.4170892455, \"data\": null, \"model\": \"77\", \"adm_2\": 3304557.0, \"adm_1\": \"RJ\", \"adm_0\": \"BR\", \"legend\": null}, {\"dates\": \"2022-10-16T00:00:00\", \"preds\": 126.37, \"lower\": 0.0, \"upper\": 1783.0109912045, \"data\": null, \"model\": \"77\", \"adm_2\": 3304557.0, \"adm_1\": \"RJ\", \"adm_0\": \"BR\", \"legend\": null}, {\"dates\": \"2022-10-23T00:00:00\", \"preds\": 88.54, \"lower\": 0.0, \"upper\": 2455.8924287832, \"data\": null, \"model\": \"77\", \"adm_2\": 3304557.0, \"adm_1\": \"RJ\", \"adm_0\": \"BR\", \"legend\": null}, {\"dates\": \"2022-10-30T00:00:00\", \"preds\": 90.18, \"lower\": 0.0, \"upper\": 2482.2110244223, \"data\": null, \"model\": \"77\", \"adm_2\": 3304557.0, \"adm_1\": \"RJ\", \"adm_0\": \"BR\", \"legend\": null}, {\"dates\": \"2022-11-06T00:00:00\", \"preds\": 138.54, \"lower\": 0.0, \"upper\": 2753.4854223837, \"data\": null, \"model\": \"77\", \"adm_2\": 3304557.0, \"adm_1\": \"RJ\", \"adm_0\": \"BR\", \"legend\": null}, {\"dates\": \"2022-11-13T00:00:00\", \"preds\": 111.15, \"lower\": 0.0, \"upper\": 2114.9459362357, \"data\": null, \"model\": \"77\", \"adm_2\": 3304557.0, \"adm_1\": \"RJ\", \"adm_0\": \"BR\", \"legend\": null}, {\"dates\": \"2022-11-20T00:00:00\", \"preds\": 262.42, \"lower\": 0.0, \"upper\": 1560.3910680599, \"data\": null, \"model\": \"77\", \"adm_2\": 3304557.0, \"adm_1\": \"RJ\", \"adm_0\": \"BR\", \"legend\": null}, {\"dates\": \"2022-11-27T00:00:00\", \"preds\": 130.46, \"lower\": 0.0, \"upper\": 1275.9170270516, \"data\": null, \"model\": \"77\", \"adm_2\": 3304557.0, \"adm_1\": \"RJ\", \"adm_0\": \"BR\", \"legend\": null}, {\"dates\": \"2022-12-04T00:00:00\", \"preds\": 138.95, \"lower\": 0.0, \"upper\": 968.9083312331, \"data\": null, \"model\": \"77\", \"adm_2\": 3304557.0, \"adm_1\": \"RJ\", \"adm_0\": \"BR\", \"legend\": null}, {\"dates\": \"2022-12-11T00:00:00\", \"preds\": 281.55, \"lower\": 0.0, \"upper\": 1260.6283970385, \"data\": null, \"model\": \"77\", \"adm_2\": 3304557.0, \"adm_1\": \"RJ\", \"adm_0\": \"BR\", \"legend\": null}, {\"dates\": \"2022-12-18T00:00:00\", \"preds\": 121.26, \"lower\": 0.0, \"upper\": 1588.656583431, \"data\": null, \"model\": \"77\", \"adm_2\": 3304557.0, \"adm_1\": \"RJ\", \"adm_0\": \"BR\", \"legend\": null}, {\"dates\": \"2022-12-25T00:00:00\", \"preds\": 129.22, \"lower\": 0.0, \"upper\": 1872.3384034717, \"data\": null, \"model\": \"77\", \"adm_2\": 3304557.0, \"adm_1\": \"RJ\", \"adm_0\": \"BR\", \"legend\": null}, {\"dates\": \"2023-01-01T00:00:00\", \"preds\": 124.7, \"lower\": 0.0, \"upper\": 1809.5625740147, \"data\": null, \"model\": \"77\", \"adm_2\": 3304557.0, \"adm_1\": \"RJ\", \"adm_0\": \"BR\", \"legend\": null}, {\"dates\": \"2023-01-08T00:00:00\", \"preds\": 127.23, \"lower\": 0.0, \"upper\": 1793.8064366305, \"data\": null, \"model\": \"77\", \"adm_2\": 3304557.0, \"adm_1\": \"RJ\", \"adm_0\": \"BR\", \"legend\": null}, {\"dates\": \"2023-01-15T00:00:00\", \"preds\": 155.21, \"lower\": 0.0, \"upper\": 1268.8861142409, \"data\": null, \"model\": \"77\", \"adm_2\": 3304557.0, \"adm_1\": \"RJ\", \"adm_0\": \"BR\", \"legend\": null}, {\"dates\": \"2023-01-22T00:00:00\", \"preds\": 198.84, \"lower\": 0.0, \"upper\": 1195.3396186246, \"data\": null, \"model\": \"77\", \"adm_2\": 3304557.0, \"adm_1\": \"RJ\", \"adm_0\": \"BR\", \"legend\": null}, {\"dates\": \"2023-01-29T00:00:00\", \"preds\": 345.27, \"lower\": 0.0, \"upper\": 1518.1194592248, \"data\": null, \"model\": \"77\", \"adm_2\": 3304557.0, \"adm_1\": \"RJ\", \"adm_0\": \"BR\", \"legend\": null}, {\"dates\": \"2023-02-05T00:00:00\", \"preds\": 462.34, \"lower\": 0.0, \"upper\": 1445.4253987699, \"data\": null, \"model\": \"77\", \"adm_2\": 3304557.0, \"adm_1\": \"RJ\", \"adm_0\": \"BR\", \"legend\": null}, {\"dates\": \"2023-02-12T00:00:00\", \"preds\": 481.6, \"lower\": 0.0, \"upper\": 1893.9755987178, \"data\": null, \"model\": \"77\", \"adm_2\": 3304557.0, \"adm_1\": \"RJ\", \"adm_0\": \"BR\", \"legend\": null}, {\"dates\": \"2023-02-19T00:00:00\", \"preds\": 481.56, \"lower\": 0.0, \"upper\": 1965.8780215081, \"data\": null, \"model\": \"77\", \"adm_2\": 3304557.0, \"adm_1\": \"RJ\", \"adm_0\": \"BR\", \"legend\": null}, {\"dates\": \"2023-02-26T00:00:00\", \"preds\": 574.3, \"lower\": 0.0, \"upper\": 2019.8204358497, \"data\": null, \"model\": \"77\", \"adm_2\": 3304557.0, \"adm_1\": \"RJ\", \"adm_0\": \"BR\", \"legend\": null}, {\"dates\": \"2023-03-05T00:00:00\", \"preds\": 908.59, \"lower\": 0.0, \"upper\": 2793.9425956685, \"data\": null, \"model\": \"77\", \"adm_2\": 3304557.0, \"adm_1\": \"RJ\", \"adm_0\": \"BR\", \"legend\": null}, {\"dates\": \"2023-03-12T00:00:00\", \"preds\": 1098.33, \"lower\": 0.0, \"upper\": 3565.2781705146, \"data\": null, \"model\": \"77\", \"adm_2\": 3304557.0, \"adm_1\": \"RJ\", \"adm_0\": \"BR\", \"legend\": null}, {\"dates\": \"2023-03-19T00:00:00\", \"preds\": 1255.02, \"lower\": 0.0, \"upper\": 4202.4693301775, \"data\": null, \"model\": \"77\", \"adm_2\": 3304557.0, \"adm_1\": \"RJ\", \"adm_0\": \"BR\", \"legend\": null}, {\"dates\": \"2023-03-26T00:00:00\", \"preds\": 903.32, \"lower\": 0.0, \"upper\": 3760.903225256, \"data\": null, \"model\": \"77\", \"adm_2\": 3304557.0, \"adm_1\": \"RJ\", \"adm_0\": \"BR\", \"legend\": null}, {\"dates\": \"2023-04-02T00:00:00\", \"preds\": 2084.83, \"lower\": 0.0, \"upper\": 4512.3417709763, \"data\": null, \"model\": \"77\", \"adm_2\": 3304557.0, \"adm_1\": \"RJ\", \"adm_0\": \"BR\", \"legend\": null}, {\"dates\": \"2023-04-09T00:00:00\", \"preds\": 1451.2, \"lower\": 0.0, \"upper\": 2937.0054003446, \"data\": null, \"model\": \"77\", \"adm_2\": 3304557.0, \"adm_1\": \"RJ\", \"adm_0\": \"BR\", \"legend\": null}, {\"dates\": \"2023-04-16T00:00:00\", \"preds\": 1680.13, \"lower\": 591.7969421614, \"upper\": 2768.4630578386, \"data\": null, \"model\": \"77\", \"adm_2\": 3304557.0, \"adm_1\": \"RJ\", \"adm_0\": \"BR\", \"legend\": null}, {\"dates\": \"2023-04-23T00:00:00\", \"preds\": 1944.43, \"lower\": 650.1333199898, \"upper\": 3238.7266800102, \"data\": null, \"model\": \"77\", \"adm_2\": 3304557.0, \"adm_1\": \"RJ\", \"adm_0\": \"BR\", \"legend\": null}, {\"dates\": \"2023-04-30T00:00:00\", \"preds\": 1575.31, \"lower\": 227.6224669775, \"upper\": 2922.9975330225, \"data\": null, \"model\": \"77\", \"adm_2\": 3304557.0, \"adm_1\": \"RJ\", \"adm_0\": \"BR\", \"legend\": null}, {\"dates\": \"2023-05-07T00:00:00\", \"preds\": 1426.24, \"lower\": 206.7682082167, \"upper\": 2645.7117917833, \"data\": null, \"model\": \"77\", \"adm_2\": 3304557.0, \"adm_1\": \"RJ\", \"adm_0\": \"BR\", \"legend\": null}, {\"dates\": \"2023-05-14T00:00:00\", \"preds\": 1939.85, \"lower\": 769.2177668869, \"upper\": 3110.4822331131, \"data\": null, \"model\": \"77\", \"adm_2\": 3304557.0, \"adm_1\": \"RJ\", \"adm_0\": \"BR\", \"legend\": null}, {\"dates\": \"2023-05-21T00:00:00\", \"preds\": 1454.24, \"lower\": 359.7715538942, \"upper\": 2548.7084461058, \"data\": null, \"model\": \"77\", \"adm_2\": 3304557.0, \"adm_1\": \"RJ\", \"adm_0\": \"BR\", \"legend\": null}, {\"dates\": \"2023-05-28T00:00:00\", \"preds\": 1134.07, \"lower\": 343.0948354381, \"upper\": 1925.0451645619, \"data\": null, \"model\": \"77\", \"adm_2\": 3304557.0, \"adm_1\": \"RJ\", \"adm_0\": \"BR\", \"legend\": null}, {\"dates\": \"2023-06-04T00:00:00\", \"preds\": 2243.41, \"lower\": 1319.5171062823, \"upper\": 3167.3028937177, \"data\": null, \"model\": \"77\", \"adm_2\": 3304557.0, \"adm_1\": \"RJ\", \"adm_0\": \"BR\", \"legend\": null}, {\"dates\": \"2023-06-11T00:00:00\", \"preds\": 2239.65, \"lower\": 1112.8198769929, \"upper\": 3366.4801230071, \"data\": null, \"model\": \"77\", \"adm_2\": 3304557.0, \"adm_1\": \"RJ\", \"adm_0\": \"BR\", \"legend\": null}, {\"dates\": \"2023-06-18T00:00:00\", \"preds\": 1068.35, \"lower\": 0.0, \"upper\": 2215.1295403202, \"data\": null, \"model\": \"77\", \"adm_2\": 3304557.0, \"adm_1\": \"RJ\", \"adm_0\": \"BR\", \"legend\": null}, {\"dates\": \"2023-06-25T00:00:00\", \"preds\": 624.0, \"lower\": 0.0, \"upper\": 1599.3245555278, \"data\": null, \"model\": \"77\", \"adm_2\": 3304557.0, \"adm_1\": \"RJ\", \"adm_0\": \"BR\", \"legend\": null}, {\"dates\": \"2022-01-02T00:00:00\", \"preds\": 109.3704933375, \"lower\": 0.0, \"upper\": 723.8520054869, \"data\": null, \"model\": \"78\", \"adm_2\": 3304557.0, \"adm_1\": \"RJ\", \"adm_0\": \"BR\", \"legend\": null}, {\"dates\": \"2022-01-09T00:00:00\", \"preds\": 25.3118970841, \"lower\": 0.0, \"upper\": 529.5949193925, \"data\": null, \"model\": \"78\", \"adm_2\": 3304557.0, \"adm_1\": \"RJ\", \"adm_0\": \"BR\", \"legend\": null}, {\"dates\": \"2022-01-16T00:00:00\", \"preds\": 0.0, \"lower\": 0.0, \"upper\": 406.1030913638, \"data\": null, \"model\": \"78\", \"adm_2\": 3304557.0, \"adm_1\": \"RJ\", \"adm_0\": \"BR\", \"legend\": null}, {\"dates\": \"2022-01-23T00:00:00\", \"preds\": 0.0, \"lower\": 0.0, \"upper\": 452.7692431942, \"data\": null, \"model\": \"78\", \"adm_2\": 3304557.0, \"adm_1\": \"RJ\", \"adm_0\": \"BR\", \"legend\": null}, {\"dates\": \"2022-01-30T00:00:00\", \"preds\": 0.0, \"lower\": 0.0, \"upper\": 607.8534869146, \"data\": null, \"model\": \"78\", \"adm_2\": 3304557.0, \"adm_1\": \"RJ\", \"adm_0\": \"BR\", \"legend\": null}, {\"dates\": \"2022-02-06T00:00:00\", \"preds\": 0.0, \"lower\": 0.0, \"upper\": 571.5213175815, \"data\": null, \"model\": \"78\", \"adm_2\": 3304557.0, \"adm_1\": \"RJ\", \"adm_0\": \"BR\", \"legend\": null}, {\"dates\": \"2022-02-13T00:00:00\", \"preds\": 86.4780002013, \"lower\": 0.0, \"upper\": 606.202994981, \"data\": null, \"model\": \"78\", \"adm_2\": 3304557.0, \"adm_1\": \"RJ\", \"adm_0\": \"BR\", \"legend\": null}, {\"dates\": \"2022-02-20T00:00:00\", \"preds\": 232.8529663906, \"lower\": 0.0, \"upper\": 704.1387109958, \"data\": null, \"model\": \"78\", \"adm_2\": 3304557.0, \"adm_1\": \"RJ\", \"adm_0\": \"BR\", \"legend\": null}, {\"dates\": \"2022-02-27T00:00:00\", \"preds\": 249.8387639374, \"lower\": 0.0, \"upper\": 864.0333929069, \"data\": null, \"model\": \"78\", \"adm_2\": 3304557.0, \"adm_1\": \"RJ\", \"adm_0\": \"BR\", \"legend\": null}, {\"dates\": \"2022-03-06T00:00:00\", \"preds\": 236.5050984696, \"lower\": 0.0, \"upper\": 912.8691094007, \"data\": null, \"model\": \"78\", \"adm_2\": 3304557.0, \"adm_1\": \"RJ\", \"adm_0\": \"BR\", \"legend\": null}, {\"dates\": \"2022-03-13T00:00:00\", \"preds\": 374.9699975103, \"lower\": 0.0, \"upper\": 838.5651220527, \"data\": null, \"model\": \"78\", \"adm_2\": 3304557.0, \"adm_1\": \"RJ\", \"adm_0\": \"BR\", \"legend\": null}, {\"dates\": \"2022-03-20T00:00:00\", \"preds\": 342.3801910132, \"lower\": 0.0, \"upper\": 954.7004770912, \"data\": null, \"model\": \"78\", \"adm_2\": 3304557.0, \"adm_1\": \"RJ\", \"adm_0\": \"BR\", \"legend\": null}, {\"dates\": \"2022-03-27T00:00:00\", \"preds\": 115.6595792919, \"lower\": 0.0, \"upper\": 640.2459985577, \"data\": null, \"model\": \"78\", \"adm_2\": 3304557.0, \"adm_1\": \"RJ\", \"adm_0\": \"BR\", \"legend\": null}, {\"dates\": \"2022-04-03T00:00:00\", \"preds\": 133.0989688486, \"lower\": 0.0, \"upper\": 696.6566838086, \"data\": null, \"model\": \"78\", \"adm_2\": 3304557.0, \"adm_1\": \"RJ\", \"adm_0\": \"BR\", \"legend\": null}, {\"dates\": \"2022-04-10T00:00:00\", \"preds\": 198.9890367314, \"lower\": 0.0, \"upper\": 644.0939105038, \"data\": null, \"model\": \"78\", \"adm_2\": 3304557.0, \"adm_1\": \"RJ\", \"adm_0\": \"BR\", \"legend\": null}, {\"dates\": \"2022-04-17T00:00:00\", \"preds\": 170.3585512489, \"lower\": 0.0, \"upper\": 810.7452559274, \"data\": null, \"model\": \"78\", \"adm_2\": 3304557.0, \"adm_1\": \"RJ\", \"adm_0\": \"BR\", \"legend\": null}, {\"dates\": \"2022-04-24T00:00:00\", \"preds\": 317.5533636957, \"lower\": 0.0, \"upper\": 1214.5482060984, \"data\": null, \"model\": \"78\", \"adm_2\": 3304557.0, \"adm_1\": \"RJ\", \"adm_0\": \"BR\", \"legend\": null}, {\"dates\": \"2022-05-01T00:00:00\", \"preds\": 585.4558397308, \"lower\": 0.0, \"upper\": 1430.6597343847, \"data\": null, \"model\": \"78\", \"adm_2\": 3304557.0, \"adm_1\": \"RJ\", \"adm_0\": \"BR\", \"legend\": null}, {\"dates\": \"2022-05-08T00:00:00\", \"preds\": 575.024428919, \"lower\": 8.4296638228, \"upper\": 1424.0171880141, \"data\": null, \"model\": \"78\", \"adm_2\": 3304557.0, \"adm_1\": \"RJ\", \"adm_0\": \"BR\", \"legend\": null}, {\"dates\": \"2022-05-15T00:00:00\", \"preds\": 553.5908161178, \"lower\": 0.0, \"upper\": 1263.6794998243, \"data\": null, \"model\": \"78\", \"adm_2\": 3304557.0, \"adm_1\": \"RJ\", \"adm_0\": \"BR\", \"legend\": null}, {\"dates\": \"2022-05-22T00:00:00\", \"preds\": 448.0580613017, \"lower\": 0.0, \"upper\": 1238.4645673811, \"data\": null, \"model\": \"78\", \"adm_2\": 3304557.0, \"adm_1\": \"RJ\", \"adm_0\": \"BR\", \"legend\": null}, {\"dates\": \"2022-05-29T00:00:00\", \"preds\": 467.6085152477, \"lower\": 0.0, \"upper\": 986.0914632201, \"data\": null, \"model\": \"78\", \"adm_2\": 3304557.0, \"adm_1\": \"RJ\", \"adm_0\": \"BR\", \"legend\": null}, {\"dates\": \"2022-06-05T00:00:00\", \"preds\": 516.6090817675, \"lower\": 0.0, \"upper\": 1275.2489616744, \"data\": null, \"model\": \"78\", \"adm_2\": 3304557.0, \"adm_1\": \"RJ\", \"adm_0\": \"BR\", \"legend\": null}, {\"dates\": \"2022-06-12T00:00:00\", \"preds\": 232.2601490021, \"lower\": 0.0, \"upper\": 979.1794984825, \"data\": null, \"model\": \"78\", \"adm_2\": 3304557.0, \"adm_1\": \"RJ\", \"adm_0\": \"BR\", \"legend\": null}, {\"dates\": \"2022-06-19T00:00:00\", \"preds\": 181.6569838598, \"lower\": 0.0, \"upper\": 778.3422996413, \"data\": null, \"model\": \"78\", \"adm_2\": 3304557.0, \"adm_1\": \"RJ\", \"adm_0\": \"BR\", \"legend\": null}, {\"dates\": \"2022-06-26T00:00:00\", \"preds\": 184.1268508434, \"lower\": 0.0, \"upper\": 727.901391514, \"data\": null, \"model\": \"78\", \"adm_2\": 3304557.0, \"adm_1\": \"RJ\", \"adm_0\": \"BR\", \"legend\": null}, {\"dates\": \"2022-07-03T00:00:00\", \"preds\": 0.0, \"lower\": 0.0, \"upper\": 543.2598108575, \"data\": null, \"model\": \"78\", \"adm_2\": 3304557.0, \"adm_1\": \"RJ\", \"adm_0\": \"BR\", \"legend\": null}, {\"dates\": \"2022-07-10T00:00:00\", \"preds\": 0.0, \"lower\": 0.0, \"upper\": 524.3061247721, \"data\": null, \"model\": \"78\", \"adm_2\": 3304557.0, \"adm_1\": \"RJ\", \"adm_0\": \"BR\", \"legend\": null}, {\"dates\": \"2022-07-17T00:00:00\", \"preds\": 2.3415177315, \"lower\": 0.0, \"upper\": 547.6995292876, \"data\": null, \"model\": \"78\", \"adm_2\": 3304557.0, \"adm_1\": \"RJ\", \"adm_0\": \"BR\", \"legend\": null}, {\"dates\": \"2022-07-24T00:00:00\", \"preds\": 0.0, \"lower\": 0.0, \"upper\": 495.5266253971, \"data\": null, \"model\": \"78\", \"adm_2\": 3304557.0, \"adm_1\": \"RJ\", \"adm_0\": \"BR\", \"legend\": null}, {\"dates\": \"2022-07-31T00:00:00\", \"preds\": 31.849106662, \"lower\": 0.0, \"upper\": 546.9803666487, \"data\": null, \"model\": \"78\", \"adm_2\": 3304557.0, \"adm_1\": \"RJ\", \"adm_0\": \"BR\", \"legend\": null}, {\"dates\": \"2022-08-07T00:00:00\", \"preds\": 0.0, \"lower\": 0.0, \"upper\": 422.5016527284, \"data\": null, \"model\": \"78\", \"adm_2\": 3304557.0, \"adm_1\": \"RJ\", \"adm_0\": \"BR\", \"legend\": null}, {\"dates\": \"2022-08-14T00:00:00\", \"preds\": 0.0, \"lower\": 0.0, \"upper\": 608.2965644222, \"data\": null, \"model\": \"78\", \"adm_2\": 3304557.0, \"adm_1\": \"RJ\", \"adm_0\": \"BR\", \"legend\": null}, {\"dates\": \"2022-08-21T00:00:00\", \"preds\": 0.0, \"lower\": 0.0, \"upper\": 473.5215611801, \"data\": null, \"model\": \"78\", \"adm_2\": 3304557.0, \"adm_1\": \"RJ\", \"adm_0\": \"BR\", \"legend\": null}, {\"dates\": \"2022-08-28T00:00:00\", \"preds\": 0.0, \"lower\": 0.0, \"upper\": 418.905976513, \"data\": null, \"model\": \"78\", \"adm_2\": 3304557.0, \"adm_1\": \"RJ\", \"adm_0\": \"BR\", \"legend\": null}, {\"dates\": \"2022-09-04T00:00:00\", \"preds\": 0.0, \"lower\": 0.0, \"upper\": 535.4288134232, \"data\": null, \"model\": \"78\", \"adm_2\": 3304557.0, \"adm_1\": \"RJ\", \"adm_0\": \"BR\", \"legend\": null}, {\"dates\": \"2022-09-11T00:00:00\", \"preds\": 0.0, \"lower\": 0.0, \"upper\": 470.2948555045, \"data\": null, \"model\": \"78\", \"adm_2\": 3304557.0, \"adm_1\": \"RJ\", \"adm_0\": \"BR\", \"legend\": null}, {\"dates\": \"2022-09-18T00:00:00\", \"preds\": 0.0, \"lower\": 0.0, \"upper\": 517.7222615425, \"data\": null, \"model\": \"78\", \"adm_2\": 3304557.0, \"adm_1\": \"RJ\", \"adm_0\": \"BR\", \"legend\": null}, {\"dates\": \"2022-09-25T00:00:00\", \"preds\": 0.0, \"lower\": 0.0, \"upper\": 324.7571195681, \"data\": null, \"model\": \"78\", \"adm_2\": 3304557.0, \"adm_1\": \"RJ\", \"adm_0\": \"BR\", \"legend\": null}, {\"dates\": \"2022-10-02T00:00:00\", \"preds\": 0.0, \"lower\": 0.0, \"upper\": 487.8994649302, \"data\": null, \"model\": \"78\", \"adm_2\": 3304557.0, \"adm_1\": \"RJ\", \"adm_0\": \"BR\", \"legend\": null}, {\"dates\": \"2022-10-09T00:00:00\", \"preds\": 0.0, \"lower\": 0.0, \"upper\": 624.6994303495, \"data\": null, \"model\": \"78\", \"adm_2\": 3304557.0, \"adm_1\": \"RJ\", \"adm_0\": \"BR\", \"legend\": null}, {\"dates\": \"2022-10-16T00:00:00\", \"preds\": 0.0, \"lower\": 0.0, \"upper\": 529.9182512943, \"data\": null, \"model\": \"78\", \"adm_2\": 3304557.0, \"adm_1\": \"RJ\", \"adm_0\": \"BR\", \"legend\": null}, {\"dates\": \"2022-10-23T00:00:00\", \"preds\": 0.0, \"lower\": 0.0, \"upper\": 413.525811471, \"data\": null, \"model\": \"78\", \"adm_2\": 3304557.0, \"adm_1\": \"RJ\", \"adm_0\": \"BR\", \"legend\": null}, {\"dates\": \"2022-10-30T00:00:00\", \"preds\": 0.0, \"lower\": 0.0, \"upper\": 506.2727781624, \"data\": null, \"model\": \"78\", \"adm_2\": 3304557.0, \"adm_1\": \"RJ\", \"adm_0\": \"BR\", \"legend\": null}, {\"dates\": \"2022-11-06T00:00:00\", \"preds\": 0.0, \"lower\": 0.0, \"upper\": 572.083177733, \"data\": null, \"model\": \"78\", \"adm_2\": 3304557.0, \"adm_1\": \"RJ\", \"adm_0\": \"BR\", \"legend\": null}, {\"dates\": \"2022-11-13T00:00:00\", \"preds\": 0.0, \"lower\": 0.0, \"upper\": 403.3595069297, \"data\": null, \"model\": \"78\", \"adm_2\": 3304557.0, \"adm_1\": \"RJ\", \"adm_0\": \"BR\", \"legend\": null}, {\"dates\": \"2022-11-20T00:00:00\", \"preds\": 0.0, \"lower\": 0.0, \"upper\": 543.9534488436, \"data\": null, \"model\": \"78\", \"adm_2\": 3304557.0, \"adm_1\": \"RJ\", \"adm_0\": \"BR\", \"legend\": null}, {\"dates\": \"2022-11-27T00:00:00\", \"preds\": 0.0, \"lower\": 0.0, \"upper\": 524.0068367809, \"data\": null, \"model\": \"78\", \"adm_2\": 3304557.0, \"adm_1\": \"RJ\", \"adm_0\": \"BR\", \"legend\": null}, {\"dates\": \"2022-12-04T00:00:00\", \"preds\": 0.0, \"lower\": 0.0, \"upper\": 418.8527026698, \"data\": null, \"model\": \"78\", \"adm_2\": 3304557.0, \"adm_1\": \"RJ\", \"adm_0\": \"BR\", \"legend\": null}, {\"dates\": \"2022-12-11T00:00:00\", \"preds\": 0.0, \"lower\": 0.0, \"upper\": 498.8123991244, \"data\": null, \"model\": \"78\", \"adm_2\": 3304557.0, \"adm_1\": \"RJ\", \"adm_0\": \"BR\", \"legend\": null}, {\"dates\": \"2022-12-18T00:00:00\", \"preds\": 7.7453362942, \"lower\": 0.0, \"upper\": 619.0887393665, \"data\": null, \"model\": \"78\", \"adm_2\": 3304557.0, \"adm_1\": \"RJ\", \"adm_0\": \"BR\", \"legend\": null}, {\"dates\": \"2022-12-25T00:00:00\", \"preds\": 70.0851570219, \"lower\": 0.0, \"upper\": 507.5521873411, \"data\": null, \"model\": \"78\", \"adm_2\": 3304557.0, \"adm_1\": \"RJ\", \"adm_0\": \"BR\", \"legend\": null}, {\"dates\": \"2023-01-01T00:00:00\", \"preds\": 28.9193740338, \"lower\": 0.0, \"upper\": 602.8117241956, \"data\": null, \"model\": \"78\", \"adm_2\": 3304557.0, \"adm_1\": \"RJ\", \"adm_0\": \"BR\", \"legend\": null}, {\"dates\": \"2023-01-08T00:00:00\", \"preds\": 107.5751379728, \"lower\": 0.0, \"upper\": 566.5245524392, \"data\": null, \"model\": \"78\", \"adm_2\": 3304557.0, \"adm_1\": \"RJ\", \"adm_0\": \"BR\", \"legend\": null}, {\"dates\": \"2023-01-15T00:00:00\", \"preds\": 136.0464265496, \"lower\": 0.0, \"upper\": 654.7008858331, \"data\": null, \"model\": \"78\", \"adm_2\": 3304557.0, \"adm_1\": \"RJ\", \"adm_0\": \"BR\", \"legend\": null}, {\"dates\": \"2023-01-22T00:00:00\", \"preds\": 157.6281409636, \"lower\": 0.0, \"upper\": 703.7455855925, \"data\": null, \"model\": \"78\", \"adm_2\": 3304557.0, \"adm_1\": \"RJ\", \"adm_0\": \"BR\", \"legend\": null}, {\"dates\": \"2023-01-29T00:00:00\", \"preds\": 370.7788259685, \"lower\": 0.0, \"upper\": 879.478636435, \"data\": null, \"model\": \"78\", \"adm_2\": 3304557.0, \"adm_1\": \"RJ\", \"adm_0\": \"BR\", \"legend\": null}, {\"dates\": \"2023-02-05T00:00:00\", \"preds\": 200.67998676, \"lower\": 0.0, \"upper\": 720.2818470754, \"data\": null, \"model\": \"78\", \"adm_2\": 3304557.0, \"adm_1\": \"RJ\", \"adm_0\": \"BR\", \"legend\": null}, {\"dates\": \"2023-02-12T00:00:00\", \"preds\": 270.5449912548, \"lower\": 0.0, \"upper\": 766.0707564242, \"data\": null, \"model\": \"78\", \"adm_2\": 3304557.0, \"adm_1\": \"RJ\", \"adm_0\": \"BR\", \"legend\": null}, {\"dates\": \"2023-02-19T00:00:00\", \"preds\": 365.9762626961, \"lower\": 0.0, \"upper\": 984.143485938, \"data\": null, \"model\": \"78\", \"adm_2\": 3304557.0, \"adm_1\": \"RJ\", \"adm_0\": \"BR\", \"legend\": null}, {\"dates\": \"2023-02-26T00:00:00\", \"preds\": 434.2454627231, \"lower\": 0.0, \"upper\": 1035.7856581375, \"data\": null, \"model\": \"78\", \"adm_2\": 3304557.0, \"adm_1\": \"RJ\", \"adm_0\": \"BR\", \"legend\": null}, {\"dates\": \"2023-03-05T00:00:00\", \"preds\": 593.1198927313, \"lower\": 0.0, \"upper\": 1340.4223010339, \"data\": null, \"model\": \"78\", \"adm_2\": 3304557.0, \"adm_1\": \"RJ\", \"adm_0\": \"BR\", \"legend\": null}, {\"dates\": \"2023-03-12T00:00:00\", \"preds\": 486.762278229, \"lower\": 13.1828434534, \"upper\": 1258.1380503178, \"data\": null, \"model\": \"78\", \"adm_2\": 3304557.0, \"adm_1\": \"RJ\", \"adm_0\": \"BR\", \"legend\": null}, {\"dates\": \"2023-03-19T00:00:00\", \"preds\": 534.409355998, \"lower\": 0.0, \"upper\": 1161.3790531218, \"data\": null, \"model\": \"78\", \"adm_2\": 3304557.0, \"adm_1\": \"RJ\", \"adm_0\": \"BR\", \"legend\": null}, {\"dates\": \"2023-03-26T00:00:00\", \"preds\": 555.0313138813, \"lower\": 0.0, \"upper\": 1138.9978529975, \"data\": null, \"model\": \"78\", \"adm_2\": 3304557.0, \"adm_1\": \"RJ\", \"adm_0\": \"BR\", \"legend\": null}, {\"dates\": \"2023-04-02T00:00:00\", \"preds\": 540.6022553518, \"lower\": 0.0, \"upper\": 1290.8390316494, \"data\": null, \"model\": \"78\", \"adm_2\": 3304557.0, \"adm_1\": \"RJ\", \"adm_0\": \"BR\", \"legend\": null}, {\"dates\": \"2023-04-09T00:00:00\", \"preds\": 670.57262557, \"lower\": 63.0884215072, \"upper\": 1603.4207726844, \"data\": null, \"model\": \"78\", \"adm_2\": 3304557.0, \"adm_1\": \"RJ\", \"adm_0\": \"BR\", \"legend\": null}, {\"dates\": \"2023-04-16T00:00:00\", \"preds\": 823.2300753295, \"lower\": 5.3920096096, \"upper\": 1619.1121769279, \"data\": null, \"model\": \"78\", \"adm_2\": 3304557.0, \"adm_1\": \"RJ\", \"adm_0\": \"BR\", \"legend\": null}, {\"dates\": \"2023-04-23T00:00:00\", \"preds\": 821.3328076452, \"lower\": 0.0, \"upper\": 1657.2413398936, \"data\": null, \"model\": \"78\", \"adm_2\": 3304557.0, \"adm_1\": \"RJ\", \"adm_0\": \"BR\", \"legend\": null}, {\"dates\": \"2023-04-30T00:00:00\", \"preds\": 736.0327714011, \"lower\": 186.1478255641, \"upper\": 1522.9282282144, \"data\": null, \"model\": \"78\", \"adm_2\": 3304557.0, \"adm_1\": \"RJ\", \"adm_0\": \"BR\", \"legend\": null}, {\"dates\": \"2023-05-07T00:00:00\", \"preds\": 760.3757069707, \"lower\": 31.6744434658, \"upper\": 1601.576000803, \"data\": null, \"model\": \"78\", \"adm_2\": 3304557.0, \"adm_1\": \"RJ\", \"adm_0\": \"BR\", \"legend\": null}, {\"dates\": \"2023-05-14T00:00:00\", \"preds\": 593.9493001178, \"lower\": 0.0, \"upper\": 1293.7130412512, \"data\": null, \"model\": \"78\", \"adm_2\": 3304557.0, \"adm_1\": \"RJ\", \"adm_0\": \"BR\", \"legend\": null}, {\"dates\": \"2023-05-21T00:00:00\", \"preds\": 341.6071367562, \"lower\": 0.0, \"upper\": 890.2078188814, \"data\": null, \"model\": \"78\", \"adm_2\": 3304557.0, \"adm_1\": \"RJ\", \"adm_0\": \"BR\", \"legend\": null}, {\"dates\": \"2023-05-28T00:00:00\", \"preds\": 766.1951469854, \"lower\": 41.8829060107, \"upper\": 1633.4175681449, \"data\": null, \"model\": \"78\", \"adm_2\": 3304557.0, \"adm_1\": \"RJ\", \"adm_0\": \"BR\", \"legend\": null}, {\"dates\": \"2023-06-04T00:00:00\", \"preds\": 922.2149910033, \"lower\": 172.700637443, \"upper\": 1701.7459047131, \"data\": null, \"model\": \"78\", \"adm_2\": 3304557.0, \"adm_1\": \"RJ\", \"adm_0\": \"BR\", \"legend\": null}, {\"dates\": \"2023-06-11T00:00:00\", \"preds\": 693.3638638854, \"lower\": 56.4668219537, \"upper\": 1421.3332394093, \"data\": null, \"model\": \"78\", \"adm_2\": 3304557.0, \"adm_1\": \"RJ\", \"adm_0\": \"BR\", \"legend\": null}, {\"dates\": \"2023-06-18T00:00:00\", \"preds\": 736.0198131949, \"lower\": 81.1291923746, \"upper\": 1725.0092463702, \"data\": null, \"model\": \"78\", \"adm_2\": 3304557.0, \"adm_1\": \"RJ\", \"adm_0\": \"BR\", \"legend\": null}, {\"dates\": \"2023-06-25T00:00:00\", \"preds\": 431.9475864768, \"lower\": 0.0, \"upper\": 1022.6256792061, \"data\": null, \"model\": \"78\", \"adm_2\": 3304557.0, \"adm_1\": \"RJ\", \"adm_0\": \"BR\", \"legend\": null}, {\"dates\": \"2022-01-02T00:00:00\", \"preds\": 21.0, \"lower\": null, \"upper\": null, \"data\": null, \"model\": \"cases\", \"adm_2\": null, \"adm_1\": null, \"adm_0\": null, \"legend\": \"Data\"}, {\"dates\": \"2022-01-09T00:00:00\", \"preds\": 14.0, \"lower\": null, \"upper\": null, \"data\": null, \"model\": \"cases\", \"adm_2\": null, \"adm_1\": null, \"adm_0\": null, \"legend\": \"Data\"}, {\"dates\": \"2022-01-16T00:00:00\", \"preds\": 22.0, \"lower\": null, \"upper\": null, \"data\": null, \"model\": \"cases\", \"adm_2\": null, \"adm_1\": null, \"adm_0\": null, \"legend\": \"Data\"}, {\"dates\": \"2022-01-23T00:00:00\", \"preds\": 19.0, \"lower\": null, \"upper\": null, \"data\": null, \"model\": \"cases\", \"adm_2\": null, \"adm_1\": null, \"adm_0\": null, \"legend\": \"Data\"}, {\"dates\": \"2022-01-30T00:00:00\", \"preds\": 31.0, \"lower\": null, \"upper\": null, \"data\": null, \"model\": \"cases\", \"adm_2\": null, \"adm_1\": null, \"adm_0\": null, \"legend\": \"Data\"}, {\"dates\": \"2022-02-06T00:00:00\", \"preds\": 35.0, \"lower\": null, \"upper\": null, \"data\": null, \"model\": \"cases\", \"adm_2\": null, \"adm_1\": null, \"adm_0\": null, \"legend\": \"Data\"}, {\"dates\": \"2022-02-13T00:00:00\", \"preds\": 47.0, \"lower\": null, \"upper\": null, \"data\": null, \"model\": \"cases\", \"adm_2\": null, \"adm_1\": null, \"adm_0\": null, \"legend\": \"Data\"}, {\"dates\": \"2022-02-20T00:00:00\", \"preds\": 62.0, \"lower\": null, \"upper\": null, \"data\": null, \"model\": \"cases\", \"adm_2\": null, \"adm_1\": null, \"adm_0\": null, \"legend\": \"Data\"}, {\"dates\": \"2022-02-27T00:00:00\", \"preds\": 66.0, \"lower\": null, \"upper\": null, \"data\": null, \"model\": \"cases\", \"adm_2\": null, \"adm_1\": null, \"adm_0\": null, \"legend\": \"Data\"}, {\"dates\": \"2022-03-06T00:00:00\", \"preds\": 116.0, \"lower\": null, \"upper\": null, \"data\": null, \"model\": \"cases\", \"adm_2\": null, \"adm_1\": null, \"adm_0\": null, \"legend\": \"Data\"}, {\"dates\": \"2022-03-13T00:00:00\", \"preds\": 126.0, \"lower\": null, \"upper\": null, \"data\": null, \"model\": \"cases\", \"adm_2\": null, \"adm_1\": null, \"adm_0\": null, \"legend\": \"Data\"}, {\"dates\": \"2022-03-20T00:00:00\", \"preds\": 177.0, \"lower\": null, \"upper\": null, \"data\": null, \"model\": \"cases\", \"adm_2\": null, \"adm_1\": null, \"adm_0\": null, \"legend\": \"Data\"}, {\"dates\": \"2022-03-27T00:00:00\", \"preds\": 153.0, \"lower\": null, \"upper\": null, \"data\": null, \"model\": \"cases\", \"adm_2\": null, \"adm_1\": null, \"adm_0\": null, \"legend\": \"Data\"}, {\"dates\": \"2022-04-03T00:00:00\", \"preds\": 222.0, \"lower\": null, \"upper\": null, \"data\": null, \"model\": \"cases\", \"adm_2\": null, \"adm_1\": null, \"adm_0\": null, \"legend\": \"Data\"}, {\"dates\": \"2022-04-10T00:00:00\", \"preds\": 201.0, \"lower\": null, \"upper\": null, \"data\": null, \"model\": \"cases\", \"adm_2\": null, \"adm_1\": null, \"adm_0\": null, \"legend\": \"Data\"}, {\"dates\": \"2022-04-17T00:00:00\", \"preds\": 234.0, \"lower\": null, \"upper\": null, \"data\": null, \"model\": \"cases\", \"adm_2\": null, \"adm_1\": null, \"adm_0\": null, \"legend\": \"Data\"}, {\"dates\": \"2022-04-24T00:00:00\", \"preds\": 342.0, \"lower\": null, \"upper\": null, \"data\": null, \"model\": \"cases\", \"adm_2\": null, \"adm_1\": null, \"adm_0\": null, \"legend\": \"Data\"}, {\"dates\": \"2022-05-01T00:00:00\", \"preds\": 461.0, \"lower\": null, \"upper\": null, \"data\": null, \"model\": \"cases\", \"adm_2\": null, \"adm_1\": null, \"adm_0\": null, \"legend\": \"Data\"}, {\"dates\": \"2022-05-08T00:00:00\", \"preds\": 505.0, \"lower\": null, \"upper\": null, \"data\": null, \"model\": \"cases\", \"adm_2\": null, \"adm_1\": null, \"adm_0\": null, \"legend\": \"Data\"}, {\"dates\": \"2022-05-15T00:00:00\", \"preds\": 406.0, \"lower\": null, \"upper\": null, \"data\": null, \"model\": \"cases\", \"adm_2\": null, \"adm_1\": null, \"adm_0\": null, \"legend\": \"Data\"}, {\"dates\": \"2022-05-22T00:00:00\", \"preds\": 400.0, \"lower\": null, \"upper\": null, \"data\": null, \"model\": \"cases\", \"adm_2\": null, \"adm_1\": null, \"adm_0\": null, \"legend\": \"Data\"}, {\"dates\": \"2022-05-29T00:00:00\", \"preds\": 338.0, \"lower\": null, \"upper\": null, \"data\": null, \"model\": \"cases\", \"adm_2\": null, \"adm_1\": null, \"adm_0\": null, \"legend\": \"Data\"}, {\"dates\": \"2022-06-05T00:00:00\", \"preds\": 255.0, \"lower\": null, \"upper\": null, \"data\": null, \"model\": \"cases\", \"adm_2\": null, \"adm_1\": null, \"adm_0\": null, \"legend\": \"Data\"}, {\"dates\": \"2022-06-12T00:00:00\", \"preds\": 153.0, \"lower\": null, \"upper\": null, \"data\": null, \"model\": \"cases\", \"adm_2\": null, \"adm_1\": null, \"adm_0\": null, \"legend\": \"Data\"}, {\"dates\": \"2022-06-19T00:00:00\", \"preds\": 209.0, \"lower\": null, \"upper\": null, \"data\": null, \"model\": \"cases\", \"adm_2\": null, \"adm_1\": null, \"adm_0\": null, \"legend\": \"Data\"}, {\"dates\": \"2022-06-26T00:00:00\", \"preds\": 189.0, \"lower\": null, \"upper\": null, \"data\": null, \"model\": \"cases\", \"adm_2\": null, \"adm_1\": null, \"adm_0\": null, \"legend\": \"Data\"}, {\"dates\": \"2022-07-03T00:00:00\", \"preds\": 155.0, \"lower\": null, \"upper\": null, \"data\": null, \"model\": \"cases\", \"adm_2\": null, \"adm_1\": null, \"adm_0\": null, \"legend\": \"Data\"}, {\"dates\": \"2022-07-10T00:00:00\", \"preds\": 144.0, \"lower\": null, \"upper\": null, \"data\": null, \"model\": \"cases\", \"adm_2\": null, \"adm_1\": null, \"adm_0\": null, \"legend\": \"Data\"}, {\"dates\": \"2022-07-17T00:00:00\", \"preds\": 194.0, \"lower\": null, \"upper\": null, \"data\": null, \"model\": \"cases\", \"adm_2\": null, \"adm_1\": null, \"adm_0\": null, \"legend\": \"Data\"}, {\"dates\": \"2022-07-24T00:00:00\", \"preds\": 148.0, \"lower\": null, \"upper\": null, \"data\": null, \"model\": \"cases\", \"adm_2\": null, \"adm_1\": null, \"adm_0\": null, \"legend\": \"Data\"}, {\"dates\": \"2022-07-31T00:00:00\", \"preds\": 145.0, \"lower\": null, \"upper\": null, \"data\": null, \"model\": \"cases\", \"adm_2\": null, \"adm_1\": null, \"adm_0\": null, \"legend\": \"Data\"}, {\"dates\": \"2022-08-07T00:00:00\", \"preds\": 106.0, \"lower\": null, \"upper\": null, \"data\": null, \"model\": \"cases\", \"adm_2\": null, \"adm_1\": null, \"adm_0\": null, \"legend\": \"Data\"}, {\"dates\": \"2022-08-14T00:00:00\", \"preds\": 110.0, \"lower\": null, \"upper\": null, \"data\": null, \"model\": \"cases\", \"adm_2\": null, \"adm_1\": null, \"adm_0\": null, \"legend\": \"Data\"}, {\"dates\": \"2022-08-21T00:00:00\", \"preds\": 99.0, \"lower\": null, \"upper\": null, \"data\": null, \"model\": \"cases\", \"adm_2\": null, \"adm_1\": null, \"adm_0\": null, \"legend\": \"Data\"}, {\"dates\": \"2022-08-28T00:00:00\", \"preds\": 94.0, \"lower\": null, \"upper\": null, \"data\": null, \"model\": \"cases\", \"adm_2\": null, \"adm_1\": null, \"adm_0\": null, \"legend\": \"Data\"}, {\"dates\": \"2022-09-04T00:00:00\", \"preds\": 101.0, \"lower\": null, \"upper\": null, \"data\": null, \"model\": \"cases\", \"adm_2\": null, \"adm_1\": null, \"adm_0\": null, \"legend\": \"Data\"}, {\"dates\": \"2022-09-11T00:00:00\", \"preds\": 120.0, \"lower\": null, \"upper\": null, \"data\": null, \"model\": \"cases\", \"adm_2\": null, \"adm_1\": null, \"adm_0\": null, \"legend\": \"Data\"}, {\"dates\": \"2022-09-18T00:00:00\", \"preds\": 102.0, \"lower\": null, \"upper\": null, \"data\": null, \"model\": \"cases\", \"adm_2\": null, \"adm_1\": null, \"adm_0\": null, \"legend\": \"Data\"}, {\"dates\": \"2022-09-25T00:00:00\", \"preds\": 95.0, \"lower\": null, \"upper\": null, \"data\": null, \"model\": \"cases\", \"adm_2\": null, \"adm_1\": null, \"adm_0\": null, \"legend\": \"Data\"}, {\"dates\": \"2022-10-02T00:00:00\", \"preds\": 102.0, \"lower\": null, \"upper\": null, \"data\": null, \"model\": \"cases\", \"adm_2\": null, \"adm_1\": null, \"adm_0\": null, \"legend\": \"Data\"}, {\"dates\": \"2022-10-09T00:00:00\", \"preds\": 123.0, \"lower\": null, \"upper\": null, \"data\": null, \"model\": \"cases\", \"adm_2\": null, \"adm_1\": null, \"adm_0\": null, \"legend\": \"Data\"}, {\"dates\": \"2022-10-16T00:00:00\", \"preds\": 160.0, \"lower\": null, \"upper\": null, \"data\": null, \"model\": \"cases\", \"adm_2\": null, \"adm_1\": null, \"adm_0\": null, \"legend\": \"Data\"}, {\"dates\": \"2022-10-23T00:00:00\", \"preds\": 139.0, \"lower\": null, \"upper\": null, \"data\": null, \"model\": \"cases\", \"adm_2\": null, \"adm_1\": null, \"adm_0\": null, \"legend\": \"Data\"}, {\"dates\": \"2022-10-30T00:00:00\", \"preds\": 131.0, \"lower\": null, \"upper\": null, \"data\": null, \"model\": \"cases\", \"adm_2\": null, \"adm_1\": null, \"adm_0\": null, \"legend\": \"Data\"}, {\"dates\": \"2022-11-06T00:00:00\", \"preds\": 171.0, \"lower\": null, \"upper\": null, \"data\": null, \"model\": \"cases\", \"adm_2\": null, \"adm_1\": null, \"adm_0\": null, \"legend\": \"Data\"}, {\"dates\": \"2022-11-13T00:00:00\", \"preds\": 129.0, \"lower\": null, \"upper\": null, \"data\": null, \"model\": \"cases\", \"adm_2\": null, \"adm_1\": null, \"adm_0\": null, \"legend\": \"Data\"}, {\"dates\": \"2022-11-20T00:00:00\", \"preds\": 94.0, \"lower\": null, \"upper\": null, \"data\": null, \"model\": \"cases\", \"adm_2\": null, \"adm_1\": null, \"adm_0\": null, \"legend\": \"Data\"}, {\"dates\": \"2022-11-27T00:00:00\", \"preds\": 86.0, \"lower\": null, \"upper\": null, \"data\": null, \"model\": \"cases\", \"adm_2\": null, \"adm_1\": null, \"adm_0\": null, \"legend\": \"Data\"}, {\"dates\": \"2022-12-04T00:00:00\", \"preds\": 98.0, \"lower\": null, \"upper\": null, \"data\": null, \"model\": \"cases\", \"adm_2\": null, \"adm_1\": null, \"adm_0\": null, \"legend\": \"Data\"}, {\"dates\": \"2022-12-11T00:00:00\", \"preds\": 123.0, \"lower\": null, \"upper\": null, \"data\": null, \"model\": \"cases\", \"adm_2\": null, \"adm_1\": null, \"adm_0\": null, \"legend\": \"Data\"}, {\"dates\": \"2022-12-18T00:00:00\", \"preds\": 117.0, \"lower\": null, \"upper\": null, \"data\": null, \"model\": \"cases\", \"adm_2\": null, \"adm_1\": null, \"adm_0\": null, \"legend\": \"Data\"}, {\"dates\": \"2022-12-25T00:00:00\", \"preds\": 163.0, \"lower\": null, \"upper\": null, \"data\": null, \"model\": \"cases\", \"adm_2\": null, \"adm_1\": null, \"adm_0\": null, \"legend\": \"Data\"}, {\"dates\": \"2023-01-01T00:00:00\", \"preds\": 230.0, \"lower\": null, \"upper\": null, \"data\": null, \"model\": \"cases\", \"adm_2\": null, \"adm_1\": null, \"adm_0\": null, \"legend\": \"Data\"}, {\"dates\": \"2023-01-08T00:00:00\", \"preds\": 218.0, \"lower\": null, \"upper\": null, \"data\": null, \"model\": \"cases\", \"adm_2\": null, \"adm_1\": null, \"adm_0\": null, \"legend\": \"Data\"}, {\"dates\": \"2023-01-15T00:00:00\", \"preds\": 246.0, \"lower\": null, \"upper\": null, \"data\": null, \"model\": \"cases\", \"adm_2\": null, \"adm_1\": null, \"adm_0\": null, \"legend\": \"Data\"}, {\"dates\": \"2023-01-22T00:00:00\", \"preds\": 312.0, \"lower\": null, \"upper\": null, \"data\": null, \"model\": \"cases\", \"adm_2\": null, \"adm_1\": null, \"adm_0\": null, \"legend\": \"Data\"}, {\"dates\": \"2023-01-29T00:00:00\", \"preds\": 383.0, \"lower\": null, \"upper\": null, \"data\": null, \"model\": \"cases\", \"adm_2\": null, \"adm_1\": null, \"adm_0\": null, \"legend\": \"Data\"}, {\"dates\": \"2023-02-05T00:00:00\", \"preds\": 525.0, \"lower\": null, \"upper\": null, \"data\": null, \"model\": \"cases\", \"adm_2\": null, \"adm_1\": null, \"adm_0\": null, \"legend\": \"Data\"}, {\"dates\": \"2023-02-12T00:00:00\", \"preds\": 372.0, \"lower\": null, \"upper\": null, \"data\": null, \"model\": \"cases\", \"adm_2\": null, \"adm_1\": null, \"adm_0\": null, \"legend\": \"Data\"}, {\"dates\": \"2023-02-19T00:00:00\", \"preds\": 507.0, \"lower\": null, \"upper\": null, \"data\": null, \"model\": \"cases\", \"adm_2\": null, \"adm_1\": null, \"adm_0\": null, \"legend\": \"Data\"}, {\"dates\": \"2023-02-26T00:00:00\", \"preds\": 870.0, \"lower\": null, \"upper\": null, \"data\": null, \"model\": \"cases\", \"adm_2\": null, \"adm_1\": null, \"adm_0\": null, \"legend\": \"Data\"}, {\"dates\": \"2023-03-05T00:00:00\", \"preds\": 945.0, \"lower\": null, \"upper\": null, \"data\": null, \"model\": \"cases\", \"adm_2\": null, \"adm_1\": null, \"adm_0\": null, \"legend\": \"Data\"}, {\"dates\": \"2023-03-12T00:00:00\", \"preds\": 1125.0, \"lower\": null, \"upper\": null, \"data\": null, \"model\": \"cases\", \"adm_2\": null, \"adm_1\": null, \"adm_0\": null, \"legend\": \"Data\"}, {\"dates\": \"2023-03-19T00:00:00\", \"preds\": 1382.0, \"lower\": null, \"upper\": null, \"data\": null, \"model\": \"cases\", \"adm_2\": null, \"adm_1\": null, \"adm_0\": null, \"legend\": \"Data\"}, {\"dates\": \"2023-03-26T00:00:00\", \"preds\": 1580.0, \"lower\": null, \"upper\": null, \"data\": null, \"model\": \"cases\", \"adm_2\": null, \"adm_1\": null, \"adm_0\": null, \"legend\": \"Data\"}, {\"dates\": \"2023-04-02T00:00:00\", \"preds\": 1420.0, \"lower\": null, \"upper\": null, \"data\": null, \"model\": \"cases\", \"adm_2\": null, \"adm_1\": null, \"adm_0\": null, \"legend\": \"Data\"}, {\"dates\": \"2023-04-09T00:00:00\", \"preds\": 1783.0, \"lower\": null, \"upper\": null, \"data\": null, \"model\": \"cases\", \"adm_2\": null, \"adm_1\": null, \"adm_0\": null, \"legend\": \"Data\"}, {\"dates\": \"2023-04-16T00:00:00\", \"preds\": 1502.0, \"lower\": null, \"upper\": null, \"data\": null, \"model\": \"cases\", \"adm_2\": null, \"adm_1\": null, \"adm_0\": null, \"legend\": \"Data\"}, {\"dates\": \"2023-04-23T00:00:00\", \"preds\": 1572.0, \"lower\": null, \"upper\": null, \"data\": null, \"model\": \"cases\", \"adm_2\": null, \"adm_1\": null, \"adm_0\": null, \"legend\": \"Data\"}, {\"dates\": \"2023-04-30T00:00:00\", \"preds\": 1919.0, \"lower\": null, \"upper\": null, \"data\": null, \"model\": \"cases\", \"adm_2\": null, \"adm_1\": null, \"adm_0\": null, \"legend\": \"Data\"}, {\"dates\": \"2023-05-07T00:00:00\", \"preds\": 1807.0, \"lower\": null, \"upper\": null, \"data\": null, \"model\": \"cases\", \"adm_2\": null, \"adm_1\": null, \"adm_0\": null, \"legend\": \"Data\"}, {\"dates\": \"2023-05-14T00:00:00\", \"preds\": 1731.0, \"lower\": null, \"upper\": null, \"data\": null, \"model\": \"cases\", \"adm_2\": null, \"adm_1\": null, \"adm_0\": null, \"legend\": \"Data\"}, {\"dates\": \"2023-05-21T00:00:00\", \"preds\": 1479.0, \"lower\": null, \"upper\": null, \"data\": null, \"model\": \"cases\", \"adm_2\": null, \"adm_1\": null, \"adm_0\": null, \"legend\": \"Data\"}, {\"dates\": \"2023-05-28T00:00:00\", \"preds\": 1328.0, \"lower\": null, \"upper\": null, \"data\": null, \"model\": \"cases\", \"adm_2\": null, \"adm_1\": null, \"adm_0\": null, \"legend\": \"Data\"}, {\"dates\": \"2023-06-04T00:00:00\", \"preds\": 1238.0, \"lower\": null, \"upper\": null, \"data\": null, \"model\": \"cases\", \"adm_2\": null, \"adm_1\": null, \"adm_0\": null, \"legend\": \"Data\"}, {\"dates\": \"2023-06-11T00:00:00\", \"preds\": 1348.0, \"lower\": null, \"upper\": null, \"data\": null, \"model\": \"cases\", \"adm_2\": null, \"adm_1\": null, \"adm_0\": null, \"legend\": \"Data\"}, {\"dates\": \"2023-06-18T00:00:00\", \"preds\": 1236.0, \"lower\": null, \"upper\": null, \"data\": null, \"model\": \"cases\", \"adm_2\": null, \"adm_1\": null, \"adm_0\": null, \"legend\": \"Data\"}, {\"dates\": \"2023-06-25T00:00:00\", \"preds\": 996.0, \"lower\": null, \"upper\": null, \"data\": null, \"model\": \"cases\", \"adm_2\": null, \"adm_1\": null, \"adm_0\": null, \"legend\": \"Data\"}]}}, {\"mode\": \"vega-lite\"});\n",
       "</script>"
      ],
      "text/plain": [
       "alt.LayerChart(...)"
      ]
     },
     "execution_count": 18,
     "metadata": {},
     "output_type": "execute_result"
    }
   ],
   "source": [
    "score.plot_predictions()"
   ]
  },
  {
   "cell_type": "markdown",
   "id": "8224670a",
   "metadata": {},
   "source": []
  },
  {
   "cell_type": "markdown",
   "id": "80130240",
   "metadata": {},
   "source": [
    "The class will select the bigger range of dates that contains information about each prediction dataframe. If you want to see the model's performance in a lower range, use the method below. The new range of dates provided must be between `score.min_date` and `score.max_date`. Otherwise, it will return an error."
   ]
  },
  {
   "cell_type": "code",
   "execution_count": 19,
   "id": "3360e7a4",
   "metadata": {},
   "outputs": [],
   "source": [
    "score.set_date_range(start_date = '2023-01-01', end_date='2023-06-01' )"
   ]
  },
  {
   "cell_type": "markdown",
   "id": "007d8cae",
   "metadata": {},
   "source": [
    "In this case:"
   ]
  },
  {
   "cell_type": "code",
   "execution_count": 20,
   "id": "1f5cb4ef",
   "metadata": {},
   "outputs": [
    {
     "data": {
      "text/html": [
       "<div>\n",
       "<style scoped>\n",
       "    .dataframe tbody tr th:only-of-type {\n",
       "        vertical-align: middle;\n",
       "    }\n",
       "\n",
       "    .dataframe tbody tr th {\n",
       "        vertical-align: top;\n",
       "    }\n",
       "\n",
       "    .dataframe thead th {\n",
       "        text-align: right;\n",
       "    }\n",
       "</style>\n",
       "<table border=\"1\" class=\"dataframe\">\n",
       "  <thead>\n",
       "    <tr style=\"text-align: right;\">\n",
       "      <th></th>\n",
       "      <th>mae</th>\n",
       "      <th>mse</th>\n",
       "      <th>crps</th>\n",
       "      <th>log_score</th>\n",
       "    </tr>\n",
       "    <tr>\n",
       "      <th>id</th>\n",
       "      <th></th>\n",
       "      <th></th>\n",
       "      <th></th>\n",
       "      <th></th>\n",
       "    </tr>\n",
       "  </thead>\n",
       "  <tbody>\n",
       "    <tr>\n",
       "      <th>preds</th>\n",
       "      <td>224.814969</td>\n",
       "      <td>90991.537676</td>\n",
       "      <td>264.947337</td>\n",
       "      <td>-7.430783</td>\n",
       "    </tr>\n",
       "    <tr>\n",
       "      <th>77</th>\n",
       "      <td>204.412273</td>\n",
       "      <td>76788.430632</td>\n",
       "      <td>179.290006</td>\n",
       "      <td>-7.322140</td>\n",
       "    </tr>\n",
       "    <tr>\n",
       "      <th>78</th>\n",
       "      <td>588.199306</td>\n",
       "      <td>506643.235469</td>\n",
       "      <td>457.150661</td>\n",
       "      <td>-9.203940</td>\n",
       "    </tr>\n",
       "  </tbody>\n",
       "</table>\n",
       "</div>"
      ],
      "text/plain": [
       "              mae            mse        crps  log_score\n",
       "id                                                     \n",
       "preds  224.814969   90991.537676  264.947337  -7.430783\n",
       "77     204.412273   76788.430632  179.290006  -7.322140\n",
       "78     588.199306  506643.235469  457.150661  -9.203940"
      ]
     },
     "execution_count": 20,
     "metadata": {},
     "output_type": "execute_result"
    }
   ],
   "source": [
    "score.summary"
   ]
  },
  {
   "cell_type": "code",
   "execution_count": 21,
   "id": "33838076",
   "metadata": {},
   "outputs": [
    {
     "data": {
      "text/html": [
       "\n",
       "<style>\n",
       "  #altair-viz-28f118f829e84e7b864b6318360cc530.vega-embed {\n",
       "    width: 100%;\n",
       "    display: flex;\n",
       "  }\n",
       "\n",
       "  #altair-viz-28f118f829e84e7b864b6318360cc530.vega-embed details,\n",
       "  #altair-viz-28f118f829e84e7b864b6318360cc530.vega-embed details summary {\n",
       "    position: relative;\n",
       "  }\n",
       "</style>\n",
       "<div id=\"altair-viz-28f118f829e84e7b864b6318360cc530\"></div>\n",
       "<script type=\"text/javascript\">\n",
       "  var VEGA_DEBUG = (typeof VEGA_DEBUG == \"undefined\") ? {} : VEGA_DEBUG;\n",
       "  (function(spec, embedOpt){\n",
       "    let outputDiv = document.currentScript.previousElementSibling;\n",
       "    if (outputDiv.id !== \"altair-viz-28f118f829e84e7b864b6318360cc530\") {\n",
       "      outputDiv = document.getElementById(\"altair-viz-28f118f829e84e7b864b6318360cc530\");\n",
       "    }\n",
       "    const paths = {\n",
       "      \"vega\": \"https://cdn.jsdelivr.net/npm/vega@5?noext\",\n",
       "      \"vega-lib\": \"https://cdn.jsdelivr.net/npm/vega-lib?noext\",\n",
       "      \"vega-lite\": \"https://cdn.jsdelivr.net/npm/vega-lite@5.17.0?noext\",\n",
       "      \"vega-embed\": \"https://cdn.jsdelivr.net/npm/vega-embed@6?noext\",\n",
       "    };\n",
       "\n",
       "    function maybeLoadScript(lib, version) {\n",
       "      var key = `${lib.replace(\"-\", \"\")}_version`;\n",
       "      return (VEGA_DEBUG[key] == version) ?\n",
       "        Promise.resolve(paths[lib]) :\n",
       "        new Promise(function(resolve, reject) {\n",
       "          var s = document.createElement('script');\n",
       "          document.getElementsByTagName(\"head\")[0].appendChild(s);\n",
       "          s.async = true;\n",
       "          s.onload = () => {\n",
       "            VEGA_DEBUG[key] = version;\n",
       "            return resolve(paths[lib]);\n",
       "          };\n",
       "          s.onerror = () => reject(`Error loading script: ${paths[lib]}`);\n",
       "          s.src = paths[lib];\n",
       "        });\n",
       "    }\n",
       "\n",
       "    function showError(err) {\n",
       "      outputDiv.innerHTML = `<div class=\"error\" style=\"color:red;\">${err}</div>`;\n",
       "      throw err;\n",
       "    }\n",
       "\n",
       "    function displayChart(vegaEmbed) {\n",
       "      vegaEmbed(outputDiv, spec, embedOpt)\n",
       "        .catch(err => showError(`Javascript Error: ${err.message}<br>This usually means there's a typo in your chart specification. See the javascript console for the full traceback.`));\n",
       "    }\n",
       "\n",
       "    if(typeof define === \"function\" && define.amd) {\n",
       "      requirejs.config({paths});\n",
       "      require([\"vega-embed\"], displayChart, err => showError(`Error loading script: ${err.message}`));\n",
       "    } else {\n",
       "      maybeLoadScript(\"vega\", \"5\")\n",
       "        .then(() => maybeLoadScript(\"vega-lite\", \"5.17.0\"))\n",
       "        .then(() => maybeLoadScript(\"vega-embed\", \"6\"))\n",
       "        .catch(showError)\n",
       "        .then(() => displayChart(vegaEmbed));\n",
       "    }\n",
       "  })({\"config\": {\"view\": {\"continuousWidth\": 300, \"continuousHeight\": 300}}, \"vconcat\": [{\"data\": {\"name\": \"data-1fff263b8dfc65f577a4f4b19354459e\"}, \"mark\": {\"type\": \"line\"}, \"encoding\": {\"color\": {\"value\": \"black\"}, \"x\": {\"field\": \"dates\", \"type\": \"temporal\"}, \"y\": {\"field\": \"casos\", \"type\": \"quantitative\"}}, \"height\": 150, \"title\": \"New cases\", \"width\": 400}, {\"layer\": [{\"mark\": {\"type\": \"point\", \"filled\": false}, \"encoding\": {\"color\": {\"field\": \"variable\", \"legend\": {\"legendX\": 100}, \"type\": \"nominal\"}, \"x\": {\"field\": \"dates\", \"type\": \"temporal\"}, \"y\": {\"field\": \"log_score\", \"type\": \"quantitative\"}}}, {\"mark\": {\"type\": \"point\"}, \"encoding\": {\"color\": {\"field\": \"variable\", \"legend\": {\"legendX\": 100}, \"type\": \"nominal\"}, \"opacity\": {\"condition\": {\"param\": \"param_4\", \"value\": 1, \"empty\": false}, \"value\": 0}, \"x\": {\"field\": \"dates\", \"type\": \"temporal\"}, \"y\": {\"field\": \"log_score\", \"type\": \"quantitative\"}}}, {\"mark\": {\"type\": \"rule\", \"color\": \"gray\"}, \"encoding\": {\"opacity\": {\"condition\": {\"param\": \"param_4\", \"value\": 0.3, \"empty\": false}, \"value\": 0}, \"tooltip\": [{\"field\": \"dates\", \"title\": \"Date\", \"type\": \"temporal\"}, {\"field\": \"preds\", \"format\": \".2f\", \"type\": \"quantitative\"}, {\"field\": \"77\", \"format\": \".2f\", \"type\": \"quantitative\"}, {\"field\": \"78\", \"format\": \".2f\", \"type\": \"quantitative\"}], \"x\": {\"field\": \"dates\", \"type\": \"temporal\"}}, \"name\": \"view_4\", \"transform\": [{\"pivot\": \"variable\", \"value\": \"log_score\", \"groupby\": [\"dates\"]}]}], \"data\": {\"name\": \"data-490f1ba58bb2a9304ba780b044c2e98a\"}, \"height\": 250, \"title\": {\"text\": \"Log score\", \"subtitle\": \"Bigger is better\"}, \"width\": 400}], \"params\": [{\"name\": \"param_4\", \"select\": {\"type\": \"point\", \"fields\": [\"dates\"], \"nearest\": true, \"on\": \"pointerover\"}, \"views\": [\"view_4\"]}], \"$schema\": \"https://vega.github.io/schema/vega-lite/v5.17.0.json\", \"datasets\": {\"data-1fff263b8dfc65f577a4f4b19354459e\": [{\"dates\": \"2022-01-02T00:00:00\", \"casos\": 21.0, \"legend\": \"Data\"}, {\"dates\": \"2022-01-09T00:00:00\", \"casos\": 14.0, \"legend\": \"Data\"}, {\"dates\": \"2022-01-16T00:00:00\", \"casos\": 22.0, \"legend\": \"Data\"}, {\"dates\": \"2022-01-23T00:00:00\", \"casos\": 19.0, \"legend\": \"Data\"}, {\"dates\": \"2022-01-30T00:00:00\", \"casos\": 31.0, \"legend\": \"Data\"}, {\"dates\": \"2022-02-06T00:00:00\", \"casos\": 35.0, \"legend\": \"Data\"}, {\"dates\": \"2022-02-13T00:00:00\", \"casos\": 47.0, \"legend\": \"Data\"}, {\"dates\": \"2022-02-20T00:00:00\", \"casos\": 62.0, \"legend\": \"Data\"}, {\"dates\": \"2022-02-27T00:00:00\", \"casos\": 66.0, \"legend\": \"Data\"}, {\"dates\": \"2022-03-06T00:00:00\", \"casos\": 116.0, \"legend\": \"Data\"}, {\"dates\": \"2022-03-13T00:00:00\", \"casos\": 126.0, \"legend\": \"Data\"}, {\"dates\": \"2022-03-20T00:00:00\", \"casos\": 177.0, \"legend\": \"Data\"}, {\"dates\": \"2022-03-27T00:00:00\", \"casos\": 153.0, \"legend\": \"Data\"}, {\"dates\": \"2022-04-03T00:00:00\", \"casos\": 222.0, \"legend\": \"Data\"}, {\"dates\": \"2022-04-10T00:00:00\", \"casos\": 201.0, \"legend\": \"Data\"}, {\"dates\": \"2022-04-17T00:00:00\", \"casos\": 234.0, \"legend\": \"Data\"}, {\"dates\": \"2022-04-24T00:00:00\", \"casos\": 342.0, \"legend\": \"Data\"}, {\"dates\": \"2022-05-01T00:00:00\", \"casos\": 461.0, \"legend\": \"Data\"}, {\"dates\": \"2022-05-08T00:00:00\", \"casos\": 505.0, \"legend\": \"Data\"}, {\"dates\": \"2022-05-15T00:00:00\", \"casos\": 406.0, \"legend\": \"Data\"}, {\"dates\": \"2022-05-22T00:00:00\", \"casos\": 400.0, \"legend\": \"Data\"}, {\"dates\": \"2022-05-29T00:00:00\", \"casos\": 338.0, \"legend\": \"Data\"}, {\"dates\": \"2022-06-05T00:00:00\", \"casos\": 255.0, \"legend\": \"Data\"}, {\"dates\": \"2022-06-12T00:00:00\", \"casos\": 153.0, \"legend\": \"Data\"}, {\"dates\": \"2022-06-19T00:00:00\", \"casos\": 209.0, \"legend\": \"Data\"}, {\"dates\": \"2022-06-26T00:00:00\", \"casos\": 189.0, \"legend\": \"Data\"}, {\"dates\": \"2022-07-03T00:00:00\", \"casos\": 155.0, \"legend\": \"Data\"}, {\"dates\": \"2022-07-10T00:00:00\", \"casos\": 144.0, \"legend\": \"Data\"}, {\"dates\": \"2022-07-17T00:00:00\", \"casos\": 194.0, \"legend\": \"Data\"}, {\"dates\": \"2022-07-24T00:00:00\", \"casos\": 148.0, \"legend\": \"Data\"}, {\"dates\": \"2022-07-31T00:00:00\", \"casos\": 145.0, \"legend\": \"Data\"}, {\"dates\": \"2022-08-07T00:00:00\", \"casos\": 106.0, \"legend\": \"Data\"}, {\"dates\": \"2022-08-14T00:00:00\", \"casos\": 110.0, \"legend\": \"Data\"}, {\"dates\": \"2022-08-21T00:00:00\", \"casos\": 99.0, \"legend\": \"Data\"}, {\"dates\": \"2022-08-28T00:00:00\", \"casos\": 94.0, \"legend\": \"Data\"}, {\"dates\": \"2022-09-04T00:00:00\", \"casos\": 101.0, \"legend\": \"Data\"}, {\"dates\": \"2022-09-11T00:00:00\", \"casos\": 120.0, \"legend\": \"Data\"}, {\"dates\": \"2022-09-18T00:00:00\", \"casos\": 102.0, \"legend\": \"Data\"}, {\"dates\": \"2022-09-25T00:00:00\", \"casos\": 95.0, \"legend\": \"Data\"}, {\"dates\": \"2022-10-02T00:00:00\", \"casos\": 102.0, \"legend\": \"Data\"}, {\"dates\": \"2022-10-09T00:00:00\", \"casos\": 123.0, \"legend\": \"Data\"}, {\"dates\": \"2022-10-16T00:00:00\", \"casos\": 160.0, \"legend\": \"Data\"}, {\"dates\": \"2022-10-23T00:00:00\", \"casos\": 139.0, \"legend\": \"Data\"}, {\"dates\": \"2022-10-30T00:00:00\", \"casos\": 131.0, \"legend\": \"Data\"}, {\"dates\": \"2022-11-06T00:00:00\", \"casos\": 171.0, \"legend\": \"Data\"}, {\"dates\": \"2022-11-13T00:00:00\", \"casos\": 129.0, \"legend\": \"Data\"}, {\"dates\": \"2022-11-20T00:00:00\", \"casos\": 94.0, \"legend\": \"Data\"}, {\"dates\": \"2022-11-27T00:00:00\", \"casos\": 86.0, \"legend\": \"Data\"}, {\"dates\": \"2022-12-04T00:00:00\", \"casos\": 98.0, \"legend\": \"Data\"}, {\"dates\": \"2022-12-11T00:00:00\", \"casos\": 123.0, \"legend\": \"Data\"}, {\"dates\": \"2022-12-18T00:00:00\", \"casos\": 117.0, \"legend\": \"Data\"}, {\"dates\": \"2022-12-25T00:00:00\", \"casos\": 163.0, \"legend\": \"Data\"}, {\"dates\": \"2023-01-01T00:00:00\", \"casos\": 230.0, \"legend\": \"Data\"}, {\"dates\": \"2023-01-08T00:00:00\", \"casos\": 218.0, \"legend\": \"Data\"}, {\"dates\": \"2023-01-15T00:00:00\", \"casos\": 246.0, \"legend\": \"Data\"}, {\"dates\": \"2023-01-22T00:00:00\", \"casos\": 312.0, \"legend\": \"Data\"}, {\"dates\": \"2023-01-29T00:00:00\", \"casos\": 383.0, \"legend\": \"Data\"}, {\"dates\": \"2023-02-05T00:00:00\", \"casos\": 525.0, \"legend\": \"Data\"}, {\"dates\": \"2023-02-12T00:00:00\", \"casos\": 372.0, \"legend\": \"Data\"}, {\"dates\": \"2023-02-19T00:00:00\", \"casos\": 507.0, \"legend\": \"Data\"}, {\"dates\": \"2023-02-26T00:00:00\", \"casos\": 870.0, \"legend\": \"Data\"}, {\"dates\": \"2023-03-05T00:00:00\", \"casos\": 945.0, \"legend\": \"Data\"}, {\"dates\": \"2023-03-12T00:00:00\", \"casos\": 1125.0, \"legend\": \"Data\"}, {\"dates\": \"2023-03-19T00:00:00\", \"casos\": 1382.0, \"legend\": \"Data\"}, {\"dates\": \"2023-03-26T00:00:00\", \"casos\": 1580.0, \"legend\": \"Data\"}, {\"dates\": \"2023-04-02T00:00:00\", \"casos\": 1420.0, \"legend\": \"Data\"}, {\"dates\": \"2023-04-09T00:00:00\", \"casos\": 1783.0, \"legend\": \"Data\"}, {\"dates\": \"2023-04-16T00:00:00\", \"casos\": 1502.0, \"legend\": \"Data\"}, {\"dates\": \"2023-04-23T00:00:00\", \"casos\": 1572.0, \"legend\": \"Data\"}, {\"dates\": \"2023-04-30T00:00:00\", \"casos\": 1919.0, \"legend\": \"Data\"}, {\"dates\": \"2023-05-07T00:00:00\", \"casos\": 1807.0, \"legend\": \"Data\"}, {\"dates\": \"2023-05-14T00:00:00\", \"casos\": 1731.0, \"legend\": \"Data\"}, {\"dates\": \"2023-05-21T00:00:00\", \"casos\": 1479.0, \"legend\": \"Data\"}, {\"dates\": \"2023-05-28T00:00:00\", \"casos\": 1328.0, \"legend\": \"Data\"}, {\"dates\": \"2023-06-04T00:00:00\", \"casos\": 1238.0, \"legend\": \"Data\"}, {\"dates\": \"2023-06-11T00:00:00\", \"casos\": 1348.0, \"legend\": \"Data\"}, {\"dates\": \"2023-06-18T00:00:00\", \"casos\": 1236.0, \"legend\": \"Data\"}, {\"dates\": \"2023-06-25T00:00:00\", \"casos\": 996.0, \"legend\": \"Data\"}], \"data-490f1ba58bb2a9304ba780b044c2e98a\": [{\"dates\": \"2023-01-01T00:00:00\", \"variable\": \"preds\", \"log_score\": -5.8956185737285685}, {\"dates\": \"2023-01-08T00:00:00\", \"variable\": \"preds\", \"log_score\": -5.580523377411269}, {\"dates\": \"2023-01-15T00:00:00\", \"variable\": \"preds\", \"log_score\": -5.9270254699601965}, {\"dates\": \"2023-01-22T00:00:00\", \"variable\": \"preds\", \"log_score\": -6.415577457812207}, {\"dates\": \"2023-01-29T00:00:00\", \"variable\": \"preds\", \"log_score\": -5.947110706362945}, {\"dates\": \"2023-02-05T00:00:00\", \"variable\": \"preds\", \"log_score\": -6.7013683754407785}, {\"dates\": \"2023-02-12T00:00:00\", \"variable\": \"preds\", \"log_score\": -6.53034509529909}, {\"dates\": \"2023-02-19T00:00:00\", \"variable\": \"preds\", \"log_score\": -6.918146379380907}, {\"dates\": \"2023-02-26T00:00:00\", \"variable\": \"preds\", \"log_score\": -7.84258083154196}, {\"dates\": \"2023-03-05T00:00:00\", \"variable\": \"preds\", \"log_score\": -7.5696877174975405}, {\"dates\": \"2023-03-12T00:00:00\", \"variable\": \"preds\", \"log_score\": -7.883083025749188}, {\"dates\": \"2023-03-19T00:00:00\", \"variable\": \"preds\", \"log_score\": -8.243288581170255}, {\"dates\": \"2023-03-26T00:00:00\", \"variable\": \"preds\", \"log_score\": -7.575480931813537}, {\"dates\": \"2023-04-02T00:00:00\", \"variable\": \"preds\", \"log_score\": -8.00134039282842}, {\"dates\": \"2023-04-09T00:00:00\", \"variable\": \"preds\", \"log_score\": -8.429622177183658}, {\"dates\": \"2023-04-16T00:00:00\", \"variable\": \"preds\", \"log_score\": -8.807220082954052}, {\"dates\": \"2023-04-23T00:00:00\", \"variable\": \"preds\", \"log_score\": -7.724465204155005}, {\"dates\": \"2023-04-30T00:00:00\", \"variable\": \"preds\", \"log_score\": -8.096115877298583}, {\"dates\": \"2023-05-07T00:00:00\", \"variable\": \"preds\", \"log_score\": -8.484354246936894}, {\"dates\": \"2023-05-14T00:00:00\", \"variable\": \"preds\", \"log_score\": -8.822762088435523}, {\"dates\": \"2023-05-21T00:00:00\", \"variable\": \"preds\", \"log_score\": -7.85822664010006}, {\"dates\": \"2023-05-28T00:00:00\", \"variable\": \"preds\", \"log_score\": -8.223275895443233}, {\"dates\": \"2023-01-01T00:00:00\", \"variable\": \"77\", \"log_score\": -7.060574003584756}, {\"dates\": \"2023-01-08T00:00:00\", \"variable\": \"77\", \"log_score\": -7.045223726011194}, {\"dates\": \"2023-01-15T00:00:00\", \"variable\": \"77\", \"log_score\": -6.7194951926085675}, {\"dates\": \"2023-01-22T00:00:00\", \"variable\": \"77\", \"log_score\": -6.690525516728642}, {\"dates\": \"2023-01-29T00:00:00\", \"variable\": \"77\", \"log_score\": -6.862813241341016}, {\"dates\": \"2023-02-05T00:00:00\", \"variable\": \"77\", \"log_score\": -6.823837291109028}, {\"dates\": \"2023-02-12T00:00:00\", \"variable\": \"77\", \"log_score\": -7.105866922163416}, {\"dates\": \"2023-02-19T00:00:00\", \"variable\": \"77\", \"log_score\": -7.117678137697696}, {\"dates\": \"2023-02-26T00:00:00\", \"variable\": \"77\", \"log_score\": -7.31486976019457}, {\"dates\": \"2023-03-05T00:00:00\", \"variable\": \"77\", \"log_score\": -7.4692117810610235}, {\"dates\": \"2023-03-12T00:00:00\", \"variable\": \"77\", \"log_score\": -7.712089190999138}, {\"dates\": \"2023-03-19T00:00:00\", \"variable\": \"77\", \"log_score\": -7.883375583994265}, {\"dates\": \"2023-03-26T00:00:00\", \"variable\": \"77\", \"log_score\": -8.024042251575539}, {\"dates\": \"2023-04-02T00:00:00\", \"variable\": \"77\", \"log_score\": -8.120878682407712}, {\"dates\": \"2023-04-09T00:00:00\", \"variable\": \"77\", \"log_score\": -7.619891709493978}, {\"dates\": \"2023-04-16T00:00:00\", \"variable\": \"77\", \"log_score\": -7.2717711113209}, {\"dates\": \"2023-04-23T00:00:00\", \"variable\": \"77\", \"log_score\": -7.557110758776275}, {\"dates\": \"2023-04-30T00:00:00\", \"variable\": \"77\", \"log_score\": -7.562009280459046}, {\"dates\": \"2023-05-07T00:00:00\", \"variable\": \"77\", \"log_score\": -7.52694401172079}, {\"dates\": \"2023-05-14T00:00:00\", \"variable\": \"77\", \"log_score\": -7.354749338837952}, {\"dates\": \"2023-05-21T00:00:00\", \"variable\": \"77\", \"log_score\": -7.22483902674364}, {\"dates\": \"2023-05-28T00:00:00\", \"variable\": \"77\", \"log_score\": -7.019282786700017}, {\"dates\": \"2023-01-01T00:00:00\", \"variable\": \"78\", \"log_score\": -6.824407014356001}, {\"dates\": \"2023-01-08T00:00:00\", \"variable\": \"78\", \"log_score\": -6.176103462439369}, {\"dates\": \"2023-01-15T00:00:00\", \"variable\": \"78\", \"log_score\": -6.242466140077378}, {\"dates\": \"2023-01-22T00:00:00\", \"variable\": \"78\", \"log_score\": -6.474002715169926}, {\"dates\": \"2023-01-29T00:00:00\", \"variable\": \"78\", \"log_score\": -6.313518220469092}, {\"dates\": \"2023-02-05T00:00:00\", \"variable\": \"78\", \"log_score\": -7.734218401869841}, {\"dates\": \"2023-02-12T00:00:00\", \"variable\": \"78\", \"log_score\": -6.314232126852336}, {\"dates\": \"2023-02-19T00:00:00\", \"variable\": \"78\", \"log_score\": -6.588685622264594}, {\"dates\": \"2023-02-26T00:00:00\", \"variable\": \"78\", \"log_score\": -7.8914644213151055}, {\"dates\": \"2023-03-05T00:00:00\", \"variable\": \"78\", \"log_score\": -7.284694494043149}, {\"dates\": \"2023-03-12T00:00:00\", \"variable\": \"78\", \"log_score\": -8.762054522017808}, {\"dates\": \"2023-03-19T00:00:00\", \"variable\": \"78\", \"log_score\": -10.851034900383274}, {\"dates\": \"2023-03-26T00:00:00\", \"variable\": \"78\", \"log_score\": -13.04891262220417}, {\"dates\": \"2023-04-02T00:00:00\", \"variable\": \"78\", \"log_score\": -10.408619669904532}, {\"dates\": \"2023-04-09T00:00:00\", \"variable\": \"78\", \"log_score\": -11.044975503594394}, {\"dates\": \"2023-04-16T00:00:00\", \"variable\": \"78\", \"log_score\": -8.334340078623551}, {\"dates\": \"2023-04-23T00:00:00\", \"variable\": \"78\", \"log_score\": -8.586949717872042}, {\"dates\": \"2023-04-30T00:00:00\", \"variable\": \"78\", \"log_score\": -12.995579802530315}, {\"dates\": \"2023-05-07T00:00:00\", \"variable\": \"78\", \"log_score\": -10.447125927771921}, {\"dates\": \"2023-05-14T00:00:00\", \"variable\": \"78\", \"log_score\": -12.877706107621634}, {\"dates\": \"2023-05-21T00:00:00\", \"variable\": \"78\", \"log_score\": -19.383648009448944}, {\"dates\": \"2023-05-28T00:00:00\", \"variable\": \"78\", \"log_score\": -7.901945773029901}]}}, {\"mode\": \"vega-lite\"});\n",
       "</script>"
      ],
      "text/plain": [
       "alt.VConcatChart(...)"
      ]
     },
     "execution_count": 21,
     "metadata": {},
     "output_type": "execute_result"
    }
   ],
   "source": [
    "score.plot_log_score()"
   ]
  },
  {
   "cell_type": "code",
   "execution_count": 22,
   "id": "b3bb6b82",
   "metadata": {},
   "outputs": [
    {
     "data": {
      "text/html": [
       "\n",
       "<style>\n",
       "  #altair-viz-b3f2884325ba49cc91240c78a9c8ee15.vega-embed {\n",
       "    width: 100%;\n",
       "    display: flex;\n",
       "  }\n",
       "\n",
       "  #altair-viz-b3f2884325ba49cc91240c78a9c8ee15.vega-embed details,\n",
       "  #altair-viz-b3f2884325ba49cc91240c78a9c8ee15.vega-embed details summary {\n",
       "    position: relative;\n",
       "  }\n",
       "</style>\n",
       "<div id=\"altair-viz-b3f2884325ba49cc91240c78a9c8ee15\"></div>\n",
       "<script type=\"text/javascript\">\n",
       "  var VEGA_DEBUG = (typeof VEGA_DEBUG == \"undefined\") ? {} : VEGA_DEBUG;\n",
       "  (function(spec, embedOpt){\n",
       "    let outputDiv = document.currentScript.previousElementSibling;\n",
       "    if (outputDiv.id !== \"altair-viz-b3f2884325ba49cc91240c78a9c8ee15\") {\n",
       "      outputDiv = document.getElementById(\"altair-viz-b3f2884325ba49cc91240c78a9c8ee15\");\n",
       "    }\n",
       "    const paths = {\n",
       "      \"vega\": \"https://cdn.jsdelivr.net/npm/vega@5?noext\",\n",
       "      \"vega-lib\": \"https://cdn.jsdelivr.net/npm/vega-lib?noext\",\n",
       "      \"vega-lite\": \"https://cdn.jsdelivr.net/npm/vega-lite@5.17.0?noext\",\n",
       "      \"vega-embed\": \"https://cdn.jsdelivr.net/npm/vega-embed@6?noext\",\n",
       "    };\n",
       "\n",
       "    function maybeLoadScript(lib, version) {\n",
       "      var key = `${lib.replace(\"-\", \"\")}_version`;\n",
       "      return (VEGA_DEBUG[key] == version) ?\n",
       "        Promise.resolve(paths[lib]) :\n",
       "        new Promise(function(resolve, reject) {\n",
       "          var s = document.createElement('script');\n",
       "          document.getElementsByTagName(\"head\")[0].appendChild(s);\n",
       "          s.async = true;\n",
       "          s.onload = () => {\n",
       "            VEGA_DEBUG[key] = version;\n",
       "            return resolve(paths[lib]);\n",
       "          };\n",
       "          s.onerror = () => reject(`Error loading script: ${paths[lib]}`);\n",
       "          s.src = paths[lib];\n",
       "        });\n",
       "    }\n",
       "\n",
       "    function showError(err) {\n",
       "      outputDiv.innerHTML = `<div class=\"error\" style=\"color:red;\">${err}</div>`;\n",
       "      throw err;\n",
       "    }\n",
       "\n",
       "    function displayChart(vegaEmbed) {\n",
       "      vegaEmbed(outputDiv, spec, embedOpt)\n",
       "        .catch(err => showError(`Javascript Error: ${err.message}<br>This usually means there's a typo in your chart specification. See the javascript console for the full traceback.`));\n",
       "    }\n",
       "\n",
       "    if(typeof define === \"function\" && define.amd) {\n",
       "      requirejs.config({paths});\n",
       "      require([\"vega-embed\"], displayChart, err => showError(`Error loading script: ${err.message}`));\n",
       "    } else {\n",
       "      maybeLoadScript(\"vega\", \"5\")\n",
       "        .then(() => maybeLoadScript(\"vega-lite\", \"5.17.0\"))\n",
       "        .then(() => maybeLoadScript(\"vega-embed\", \"6\"))\n",
       "        .catch(showError)\n",
       "        .then(() => displayChart(vegaEmbed));\n",
       "    }\n",
       "  })({\"config\": {\"view\": {\"continuousWidth\": 300, \"continuousHeight\": 300}}, \"layer\": [{\"data\": {\"name\": \"data-31ab3405ccd4240dcb0f02c0c71558b5\"}, \"mark\": {\"type\": \"circle\", \"size\": 60}, \"encoding\": {\"color\": {\"field\": \"legend\", \"legend\": {\"title\": null}, \"scale\": {\"range\": [\"black\"]}, \"type\": \"nominal\"}, \"x\": {\"field\": \"dates\", \"type\": \"temporal\"}, \"y\": {\"field\": \"casos\", \"type\": \"quantitative\"}}}, {\"data\": {\"name\": \"data-cb85f0933e1235205f09a98c6a2bc007\"}, \"mark\": {\"type\": \"line\"}, \"encoding\": {\"color\": {\"field\": \"model\", \"legend\": {\"title\": \"Model\"}, \"type\": \"nominal\"}, \"x\": {\"field\": \"dates\", \"title\": \"Dates\", \"type\": \"temporal\"}, \"y\": {\"field\": \"preds\", \"title\": \"New cases\", \"type\": \"quantitative\"}}, \"title\": \"Median and 95% confidence interval\"}, {\"data\": {\"name\": \"data-cb85f0933e1235205f09a98c6a2bc007\"}, \"mark\": {\"type\": \"area\", \"opacity\": 0.25}, \"encoding\": {\"color\": {\"field\": \"model\", \"legend\": null, \"type\": \"nominal\"}, \"x\": {\"field\": \"dates\", \"type\": \"temporal\"}, \"y\": {\"field\": \"lower\", \"type\": \"quantitative\"}, \"y2\": {\"field\": \"upper\"}}, \"title\": \"Median and 95% confidence interval\"}, {\"data\": {\"name\": \"data-cb85f0933e1235205f09a98c6a2bc007\"}, \"mark\": {\"type\": \"point\"}, \"encoding\": {\"color\": {\"field\": \"model\", \"legend\": null, \"type\": \"nominal\"}, \"opacity\": {\"condition\": {\"param\": \"param_5\", \"value\": 1, \"empty\": false}, \"value\": 0}, \"x\": {\"field\": \"dates\", \"title\": \"Dates\", \"type\": \"temporal\"}, \"y\": {\"field\": \"preds\", \"title\": \"New cases\", \"type\": \"quantitative\"}}, \"title\": \"Median and 95% confidence interval\"}, {\"data\": {\"name\": \"data-77cc50d4a7fba1b42e2243e54cbc2147\"}, \"mark\": {\"type\": \"rule\", \"color\": \"gray\"}, \"encoding\": {\"opacity\": {\"condition\": {\"param\": \"param_5\", \"value\": 0.3, \"empty\": false}, \"value\": 0}, \"tooltip\": [{\"field\": \"dates\", \"title\": \"Date\", \"type\": \"temporal\"}, {\"field\": \"preds\", \"format\": \".0f\", \"type\": \"quantitative\"}, {\"field\": \"77\", \"format\": \".0f\", \"type\": \"quantitative\"}, {\"field\": \"78\", \"format\": \".0f\", \"type\": \"quantitative\"}, {\"field\": \"cases\", \"format\": \".0f\", \"type\": \"quantitative\"}], \"x\": {\"field\": \"dates\", \"type\": \"temporal\"}}, \"name\": \"view_5\", \"transform\": [{\"pivot\": \"model\", \"value\": \"preds\", \"groupby\": [\"dates\"]}]}], \"height\": 300, \"params\": [{\"name\": \"param_5\", \"select\": {\"type\": \"point\", \"fields\": [\"dates\"], \"nearest\": true, \"on\": \"pointerover\"}, \"views\": [\"view_5\"]}], \"resolve\": {\"scale\": {\"color\": \"independent\"}}, \"width\": 400, \"$schema\": \"https://vega.github.io/schema/vega-lite/v5.17.0.json\", \"datasets\": {\"data-31ab3405ccd4240dcb0f02c0c71558b5\": [{\"dates\": \"2023-01-01T00:00:00\", \"casos\": 230.0, \"legend\": \"Data\"}, {\"dates\": \"2023-01-08T00:00:00\", \"casos\": 218.0, \"legend\": \"Data\"}, {\"dates\": \"2023-01-15T00:00:00\", \"casos\": 246.0, \"legend\": \"Data\"}, {\"dates\": \"2023-01-22T00:00:00\", \"casos\": 312.0, \"legend\": \"Data\"}, {\"dates\": \"2023-01-29T00:00:00\", \"casos\": 383.0, \"legend\": \"Data\"}, {\"dates\": \"2023-02-05T00:00:00\", \"casos\": 525.0, \"legend\": \"Data\"}, {\"dates\": \"2023-02-12T00:00:00\", \"casos\": 372.0, \"legend\": \"Data\"}, {\"dates\": \"2023-02-19T00:00:00\", \"casos\": 507.0, \"legend\": \"Data\"}, {\"dates\": \"2023-02-26T00:00:00\", \"casos\": 870.0, \"legend\": \"Data\"}, {\"dates\": \"2023-03-05T00:00:00\", \"casos\": 945.0, \"legend\": \"Data\"}, {\"dates\": \"2023-03-12T00:00:00\", \"casos\": 1125.0, \"legend\": \"Data\"}, {\"dates\": \"2023-03-19T00:00:00\", \"casos\": 1382.0, \"legend\": \"Data\"}, {\"dates\": \"2023-03-26T00:00:00\", \"casos\": 1580.0, \"legend\": \"Data\"}, {\"dates\": \"2023-04-02T00:00:00\", \"casos\": 1420.0, \"legend\": \"Data\"}, {\"dates\": \"2023-04-09T00:00:00\", \"casos\": 1783.0, \"legend\": \"Data\"}, {\"dates\": \"2023-04-16T00:00:00\", \"casos\": 1502.0, \"legend\": \"Data\"}, {\"dates\": \"2023-04-23T00:00:00\", \"casos\": 1572.0, \"legend\": \"Data\"}, {\"dates\": \"2023-04-30T00:00:00\", \"casos\": 1919.0, \"legend\": \"Data\"}, {\"dates\": \"2023-05-07T00:00:00\", \"casos\": 1807.0, \"legend\": \"Data\"}, {\"dates\": \"2023-05-14T00:00:00\", \"casos\": 1731.0, \"legend\": \"Data\"}, {\"dates\": \"2023-05-21T00:00:00\", \"casos\": 1479.0, \"legend\": \"Data\"}, {\"dates\": \"2023-05-28T00:00:00\", \"casos\": 1328.0, \"legend\": \"Data\"}], \"data-cb85f0933e1235205f09a98c6a2bc007\": [{\"dates\": \"2023-01-01T00:00:00\", \"preds\": 151.75912131500172, \"lower\": 78.8006137547906, \"upper\": 309.0367972424309, \"data\": 230.00000000000014, \"model\": \"preds\", \"adm_2\": null, \"adm_1\": null, \"adm_0\": null}, {\"dates\": \"2023-01-08T00:00:00\", \"preds\": 159.7113114447144, \"lower\": 69.925995297073, \"upper\": 399.39483298826224, \"data\": 218.00000000000017, \"model\": \"preds\", \"adm_2\": null, \"adm_1\": null, \"adm_0\": null}, {\"dates\": \"2023-01-15T00:00:00\", \"preds\": 161.09849482557027, \"lower\": 58.61265263614962, \"upper\": 508.99158690412145, \"data\": 246.00000000000068, \"model\": \"preds\", \"adm_2\": null, \"adm_1\": null, \"adm_0\": null}, {\"dates\": \"2023-01-22T00:00:00\", \"preds\": 164.0870771311059, \"lower\": 50.903757847976614, \"upper\": 640.2575220702569, \"data\": 311.9999999999994, \"model\": \"preds\", \"adm_2\": null, \"adm_1\": null, \"adm_0\": null}, {\"dates\": \"2023-01-29T00:00:00\", \"preds\": 309.36997031375967, \"lower\": 152.07971768934192, \"upper\": 672.2648617059136, \"data\": 383.00000000000006, \"model\": \"preds\", \"adm_2\": null, \"adm_1\": null, \"adm_0\": null}, {\"dates\": \"2023-02-05T00:00:00\", \"preds\": 328.36402569417095, \"lower\": 134.0836603638846, \"upper\": 895.5194220504013, \"data\": 524.9999999999994, \"model\": \"preds\", \"adm_2\": null, \"adm_1\": null, \"adm_0\": null}, {\"dates\": \"2023-02-12T00:00:00\", \"preds\": 338.44353738083413, \"lower\": 112.86419585872474, \"upper\": 1198.6506712953878, \"data\": 371.99999999999994, \"model\": \"preds\", \"adm_2\": null, \"adm_1\": null, \"adm_0\": null}, {\"dates\": \"2023-02-19T00:00:00\", \"preds\": 349.60097780996006, \"lower\": 97.93584193927443, \"upper\": 1569.3142988104, \"data\": 507.0000000000001, \"model\": \"preds\", \"adm_2\": null, \"adm_1\": null, \"adm_0\": null}, {\"dates\": \"2023-02-26T00:00:00\", \"preds\": 486.69752571203514, \"lower\": 230.60416972704553, \"upper\": 1105.375866271899, \"data\": 870.0, \"model\": \"preds\", \"adm_2\": null, \"adm_1\": null, \"adm_0\": null}, {\"dates\": \"2023-03-05T00:00:00\", \"preds\": 517.8411243043572, \"lower\": 201.98745181276163, \"upper\": 1496.3648720959604, \"data\": 945.0000000000003, \"model\": \"preds\", \"adm_2\": null, \"adm_1\": null, \"adm_0\": null}, {\"dates\": \"2023-03-12T00:00:00\", \"preds\": 529.7684567054695, \"lower\": 167.23095654785914, \"upper\": 2019.1252957105041, \"data\": 1125.000000000002, \"model\": \"preds\", \"adm_2\": null, \"adm_1\": null, \"adm_0\": null}, {\"dates\": \"2023-03-19T00:00:00\", \"preds\": 545.4007213622474, \"lower\": 143.50548199946917, \"upper\": 2673.7759556682413, \"data\": 1382.0000000000002, \"model\": \"preds\", \"adm_2\": null, \"adm_1\": null, \"adm_0\": null}, {\"dates\": \"2023-03-26T00:00:00\", \"preds\": 1436.9969791954877, \"lower\": 617.80444857739, \"upper\": 3675.252209023487, \"data\": 1579.9999999999984, \"model\": \"preds\", \"adm_2\": null, \"adm_1\": null, \"adm_0\": null}, {\"dates\": \"2023-04-02T00:00:00\", \"preds\": 1552.567089578109, \"lower\": 534.8015631291074, \"upper\": 5268.307803049241, \"data\": 1419.9999999999982, \"model\": \"preds\", \"adm_2\": null, \"adm_1\": null, \"adm_0\": null}, {\"dates\": \"2023-04-09T00:00:00\", \"preds\": 1636.9392121750382, \"lower\": 442.3248136706556, \"upper\": 7728.713793949735, \"data\": 1783.0000000000034, \"model\": \"preds\", \"adm_2\": null, \"adm_1\": null, \"adm_0\": null}, {\"dates\": \"2023-04-16T00:00:00\", \"preds\": 1720.5739847712427, \"lower\": 377.21274317344836, \"upper\": 11004.623877515718, \"data\": 1502.0000000000002, \"model\": \"preds\", \"adm_2\": null, \"adm_1\": null, \"adm_0\": null}, {\"dates\": \"2023-04-23T00:00:00\", \"preds\": 1657.1806290305906, \"lower\": 704.2999114889643, \"upper\": 4299.410348138865, \"data\": 1571.9999999999993, \"model\": \"preds\", \"adm_2\": null, \"adm_1\": null, \"adm_0\": null}, {\"dates\": \"2023-04-30T00:00:00\", \"preds\": 1670.3745106937647, \"lower\": 572.0346821463518, \"upper\": 5711.7438576471895, \"data\": 1918.9999999999986, \"model\": \"preds\", \"adm_2\": null, \"adm_1\": null, \"adm_0\": null}, {\"dates\": \"2023-05-07T00:00:00\", \"preds\": 1722.5635450059838, \"lower\": 463.66773266459626, \"upper\": 8177.35425212233, \"data\": 1807.000000000001, \"model\": \"preds\", \"adm_2\": null, \"adm_1\": null, \"adm_0\": null}, {\"dates\": \"2023-05-14T00:00:00\", \"preds\": 1755.4117309045916, \"lower\": 385.13211283295925, \"upper\": 11215.15300772631, \"data\": 1730.9999999999984, \"model\": \"preds\", \"adm_2\": null, \"adm_1\": null, \"adm_0\": null}, {\"dates\": \"2023-05-21T00:00:00\", \"preds\": 1791.9777613998463, \"lower\": 757.4544557427392, \"upper\": 4680.679260236886, \"data\": 1478.9999999999989, \"model\": \"preds\", \"adm_2\": null, \"adm_1\": null, \"adm_0\": null}, {\"dates\": \"2023-05-28T00:00:00\", \"preds\": 1805.2347171459583, \"lower\": 614.147112710866, \"upper\": 6226.891165129948, \"data\": 1328.0000000000018, \"model\": \"preds\", \"adm_2\": null, \"adm_1\": null, \"adm_0\": null}, {\"dates\": \"2023-01-01T00:00:00\", \"preds\": 124.7, \"lower\": 0.0, \"upper\": 1809.5625740147, \"data\": null, \"model\": \"77\", \"adm_2\": 3304557.0, \"adm_1\": \"RJ\", \"adm_0\": \"BR\"}, {\"dates\": \"2023-01-08T00:00:00\", \"preds\": 127.23, \"lower\": 0.0, \"upper\": 1793.8064366305, \"data\": null, \"model\": \"77\", \"adm_2\": 3304557.0, \"adm_1\": \"RJ\", \"adm_0\": \"BR\"}, {\"dates\": \"2023-01-15T00:00:00\", \"preds\": 155.21, \"lower\": 0.0, \"upper\": 1268.8861142409, \"data\": null, \"model\": \"77\", \"adm_2\": 3304557.0, \"adm_1\": \"RJ\", \"adm_0\": \"BR\"}, {\"dates\": \"2023-01-22T00:00:00\", \"preds\": 198.84, \"lower\": 0.0, \"upper\": 1195.3396186246, \"data\": null, \"model\": \"77\", \"adm_2\": 3304557.0, \"adm_1\": \"RJ\", \"adm_0\": \"BR\"}, {\"dates\": \"2023-01-29T00:00:00\", \"preds\": 345.27, \"lower\": 0.0, \"upper\": 1518.1194592248, \"data\": null, \"model\": \"77\", \"adm_2\": 3304557.0, \"adm_1\": \"RJ\", \"adm_0\": \"BR\"}, {\"dates\": \"2023-02-05T00:00:00\", \"preds\": 462.34, \"lower\": 0.0, \"upper\": 1445.4253987699, \"data\": null, \"model\": \"77\", \"adm_2\": 3304557.0, \"adm_1\": \"RJ\", \"adm_0\": \"BR\"}, {\"dates\": \"2023-02-12T00:00:00\", \"preds\": 481.6, \"lower\": 0.0, \"upper\": 1893.9755987178, \"data\": null, \"model\": \"77\", \"adm_2\": 3304557.0, \"adm_1\": \"RJ\", \"adm_0\": \"BR\"}, {\"dates\": \"2023-02-19T00:00:00\", \"preds\": 481.56, \"lower\": 0.0, \"upper\": 1965.8780215081, \"data\": null, \"model\": \"77\", \"adm_2\": 3304557.0, \"adm_1\": \"RJ\", \"adm_0\": \"BR\"}, {\"dates\": \"2023-02-26T00:00:00\", \"preds\": 574.3, \"lower\": 0.0, \"upper\": 2019.8204358497, \"data\": null, \"model\": \"77\", \"adm_2\": 3304557.0, \"adm_1\": \"RJ\", \"adm_0\": \"BR\"}, {\"dates\": \"2023-03-05T00:00:00\", \"preds\": 908.59, \"lower\": 0.0, \"upper\": 2793.9425956685, \"data\": null, \"model\": \"77\", \"adm_2\": 3304557.0, \"adm_1\": \"RJ\", \"adm_0\": \"BR\"}, {\"dates\": \"2023-03-12T00:00:00\", \"preds\": 1098.33, \"lower\": 0.0, \"upper\": 3565.2781705146, \"data\": null, \"model\": \"77\", \"adm_2\": 3304557.0, \"adm_1\": \"RJ\", \"adm_0\": \"BR\"}, {\"dates\": \"2023-03-19T00:00:00\", \"preds\": 1255.02, \"lower\": 0.0, \"upper\": 4202.4693301775, \"data\": null, \"model\": \"77\", \"adm_2\": 3304557.0, \"adm_1\": \"RJ\", \"adm_0\": \"BR\"}, {\"dates\": \"2023-03-26T00:00:00\", \"preds\": 903.32, \"lower\": 0.0, \"upper\": 3760.903225256, \"data\": null, \"model\": \"77\", \"adm_2\": 3304557.0, \"adm_1\": \"RJ\", \"adm_0\": \"BR\"}, {\"dates\": \"2023-04-02T00:00:00\", \"preds\": 2084.83, \"lower\": 0.0, \"upper\": 4512.3417709763, \"data\": null, \"model\": \"77\", \"adm_2\": 3304557.0, \"adm_1\": \"RJ\", \"adm_0\": \"BR\"}, {\"dates\": \"2023-04-09T00:00:00\", \"preds\": 1451.2, \"lower\": 0.0, \"upper\": 2937.0054003446, \"data\": null, \"model\": \"77\", \"adm_2\": 3304557.0, \"adm_1\": \"RJ\", \"adm_0\": \"BR\"}, {\"dates\": \"2023-04-16T00:00:00\", \"preds\": 1680.13, \"lower\": 591.7969421614, \"upper\": 2768.4630578386, \"data\": null, \"model\": \"77\", \"adm_2\": 3304557.0, \"adm_1\": \"RJ\", \"adm_0\": \"BR\"}, {\"dates\": \"2023-04-23T00:00:00\", \"preds\": 1944.43, \"lower\": 650.1333199898, \"upper\": 3238.7266800102, \"data\": null, \"model\": \"77\", \"adm_2\": 3304557.0, \"adm_1\": \"RJ\", \"adm_0\": \"BR\"}, {\"dates\": \"2023-04-30T00:00:00\", \"preds\": 1575.31, \"lower\": 227.6224669775, \"upper\": 2922.9975330225, \"data\": null, \"model\": \"77\", \"adm_2\": 3304557.0, \"adm_1\": \"RJ\", \"adm_0\": \"BR\"}, {\"dates\": \"2023-05-07T00:00:00\", \"preds\": 1426.24, \"lower\": 206.7682082167, \"upper\": 2645.7117917833, \"data\": null, \"model\": \"77\", \"adm_2\": 3304557.0, \"adm_1\": \"RJ\", \"adm_0\": \"BR\"}, {\"dates\": \"2023-05-14T00:00:00\", \"preds\": 1939.85, \"lower\": 769.2177668869, \"upper\": 3110.4822331131, \"data\": null, \"model\": \"77\", \"adm_2\": 3304557.0, \"adm_1\": \"RJ\", \"adm_0\": \"BR\"}, {\"dates\": \"2023-05-21T00:00:00\", \"preds\": 1454.24, \"lower\": 359.7715538942, \"upper\": 2548.7084461058, \"data\": null, \"model\": \"77\", \"adm_2\": 3304557.0, \"adm_1\": \"RJ\", \"adm_0\": \"BR\"}, {\"dates\": \"2023-05-28T00:00:00\", \"preds\": 1134.07, \"lower\": 343.0948354381, \"upper\": 1925.0451645619, \"data\": null, \"model\": \"77\", \"adm_2\": 3304557.0, \"adm_1\": \"RJ\", \"adm_0\": \"BR\"}, {\"dates\": \"2023-01-01T00:00:00\", \"preds\": 28.9193740338, \"lower\": 0.0, \"upper\": 602.8117241956, \"data\": null, \"model\": \"78\", \"adm_2\": 3304557.0, \"adm_1\": \"RJ\", \"adm_0\": \"BR\"}, {\"dates\": \"2023-01-08T00:00:00\", \"preds\": 107.5751379728, \"lower\": 0.0, \"upper\": 566.5245524392, \"data\": null, \"model\": \"78\", \"adm_2\": 3304557.0, \"adm_1\": \"RJ\", \"adm_0\": \"BR\"}, {\"dates\": \"2023-01-15T00:00:00\", \"preds\": 136.0464265496, \"lower\": 0.0, \"upper\": 654.7008858331, \"data\": null, \"model\": \"78\", \"adm_2\": 3304557.0, \"adm_1\": \"RJ\", \"adm_0\": \"BR\"}, {\"dates\": \"2023-01-22T00:00:00\", \"preds\": 157.6281409636, \"lower\": 0.0, \"upper\": 703.7455855925, \"data\": null, \"model\": \"78\", \"adm_2\": 3304557.0, \"adm_1\": \"RJ\", \"adm_0\": \"BR\"}, {\"dates\": \"2023-01-29T00:00:00\", \"preds\": 370.7788259685, \"lower\": 0.0, \"upper\": 879.478636435, \"data\": null, \"model\": \"78\", \"adm_2\": 3304557.0, \"adm_1\": \"RJ\", \"adm_0\": \"BR\"}, {\"dates\": \"2023-02-05T00:00:00\", \"preds\": 200.67998676, \"lower\": 0.0, \"upper\": 720.2818470754, \"data\": null, \"model\": \"78\", \"adm_2\": 3304557.0, \"adm_1\": \"RJ\", \"adm_0\": \"BR\"}, {\"dates\": \"2023-02-12T00:00:00\", \"preds\": 270.5449912548, \"lower\": 0.0, \"upper\": 766.0707564242, \"data\": null, \"model\": \"78\", \"adm_2\": 3304557.0, \"adm_1\": \"RJ\", \"adm_0\": \"BR\"}, {\"dates\": \"2023-02-19T00:00:00\", \"preds\": 365.9762626961, \"lower\": 0.0, \"upper\": 984.143485938, \"data\": null, \"model\": \"78\", \"adm_2\": 3304557.0, \"adm_1\": \"RJ\", \"adm_0\": \"BR\"}, {\"dates\": \"2023-02-26T00:00:00\", \"preds\": 434.2454627231, \"lower\": 0.0, \"upper\": 1035.7856581375, \"data\": null, \"model\": \"78\", \"adm_2\": 3304557.0, \"adm_1\": \"RJ\", \"adm_0\": \"BR\"}, {\"dates\": \"2023-03-05T00:00:00\", \"preds\": 593.1198927313, \"lower\": 0.0, \"upper\": 1340.4223010339, \"data\": null, \"model\": \"78\", \"adm_2\": 3304557.0, \"adm_1\": \"RJ\", \"adm_0\": \"BR\"}, {\"dates\": \"2023-03-12T00:00:00\", \"preds\": 486.762278229, \"lower\": 13.1828434534, \"upper\": 1258.1380503178, \"data\": null, \"model\": \"78\", \"adm_2\": 3304557.0, \"adm_1\": \"RJ\", \"adm_0\": \"BR\"}, {\"dates\": \"2023-03-19T00:00:00\", \"preds\": 534.409355998, \"lower\": 0.0, \"upper\": 1161.3790531218, \"data\": null, \"model\": \"78\", \"adm_2\": 3304557.0, \"adm_1\": \"RJ\", \"adm_0\": \"BR\"}, {\"dates\": \"2023-03-26T00:00:00\", \"preds\": 555.0313138813, \"lower\": 0.0, \"upper\": 1138.9978529975, \"data\": null, \"model\": \"78\", \"adm_2\": 3304557.0, \"adm_1\": \"RJ\", \"adm_0\": \"BR\"}, {\"dates\": \"2023-04-02T00:00:00\", \"preds\": 540.6022553518, \"lower\": 0.0, \"upper\": 1290.8390316494, \"data\": null, \"model\": \"78\", \"adm_2\": 3304557.0, \"adm_1\": \"RJ\", \"adm_0\": \"BR\"}, {\"dates\": \"2023-04-09T00:00:00\", \"preds\": 670.57262557, \"lower\": 63.0884215072, \"upper\": 1603.4207726844, \"data\": null, \"model\": \"78\", \"adm_2\": 3304557.0, \"adm_1\": \"RJ\", \"adm_0\": \"BR\"}, {\"dates\": \"2023-04-16T00:00:00\", \"preds\": 823.2300753295, \"lower\": 5.3920096096, \"upper\": 1619.1121769279, \"data\": null, \"model\": \"78\", \"adm_2\": 3304557.0, \"adm_1\": \"RJ\", \"adm_0\": \"BR\"}, {\"dates\": \"2023-04-23T00:00:00\", \"preds\": 821.3328076452, \"lower\": 0.0, \"upper\": 1657.2413398936, \"data\": null, \"model\": \"78\", \"adm_2\": 3304557.0, \"adm_1\": \"RJ\", \"adm_0\": \"BR\"}, {\"dates\": \"2023-04-30T00:00:00\", \"preds\": 736.0327714011, \"lower\": 186.1478255641, \"upper\": 1522.9282282144, \"data\": null, \"model\": \"78\", \"adm_2\": 3304557.0, \"adm_1\": \"RJ\", \"adm_0\": \"BR\"}, {\"dates\": \"2023-05-07T00:00:00\", \"preds\": 760.3757069707, \"lower\": 31.6744434658, \"upper\": 1601.576000803, \"data\": null, \"model\": \"78\", \"adm_2\": 3304557.0, \"adm_1\": \"RJ\", \"adm_0\": \"BR\"}, {\"dates\": \"2023-05-14T00:00:00\", \"preds\": 593.9493001178, \"lower\": 0.0, \"upper\": 1293.7130412512, \"data\": null, \"model\": \"78\", \"adm_2\": 3304557.0, \"adm_1\": \"RJ\", \"adm_0\": \"BR\"}, {\"dates\": \"2023-05-21T00:00:00\", \"preds\": 341.6071367562, \"lower\": 0.0, \"upper\": 890.2078188814, \"data\": null, \"model\": \"78\", \"adm_2\": 3304557.0, \"adm_1\": \"RJ\", \"adm_0\": \"BR\"}, {\"dates\": \"2023-05-28T00:00:00\", \"preds\": 766.1951469854, \"lower\": 41.8829060107, \"upper\": 1633.4175681449, \"data\": null, \"model\": \"78\", \"adm_2\": 3304557.0, \"adm_1\": \"RJ\", \"adm_0\": \"BR\"}], \"data-77cc50d4a7fba1b42e2243e54cbc2147\": [{\"dates\": \"2023-01-01T00:00:00\", \"preds\": 151.75912131500172, \"lower\": 78.8006137547906, \"upper\": 309.0367972424309, \"data\": 230.00000000000014, \"model\": \"preds\", \"adm_2\": null, \"adm_1\": null, \"adm_0\": null, \"legend\": null}, {\"dates\": \"2023-01-08T00:00:00\", \"preds\": 159.7113114447144, \"lower\": 69.925995297073, \"upper\": 399.39483298826224, \"data\": 218.00000000000017, \"model\": \"preds\", \"adm_2\": null, \"adm_1\": null, \"adm_0\": null, \"legend\": null}, {\"dates\": \"2023-01-15T00:00:00\", \"preds\": 161.09849482557027, \"lower\": 58.61265263614962, \"upper\": 508.99158690412145, \"data\": 246.00000000000068, \"model\": \"preds\", \"adm_2\": null, \"adm_1\": null, \"adm_0\": null, \"legend\": null}, {\"dates\": \"2023-01-22T00:00:00\", \"preds\": 164.0870771311059, \"lower\": 50.903757847976614, \"upper\": 640.2575220702569, \"data\": 311.9999999999994, \"model\": \"preds\", \"adm_2\": null, \"adm_1\": null, \"adm_0\": null, \"legend\": null}, {\"dates\": \"2023-01-29T00:00:00\", \"preds\": 309.36997031375967, \"lower\": 152.07971768934192, \"upper\": 672.2648617059136, \"data\": 383.00000000000006, \"model\": \"preds\", \"adm_2\": null, \"adm_1\": null, \"adm_0\": null, \"legend\": null}, {\"dates\": \"2023-02-05T00:00:00\", \"preds\": 328.36402569417095, \"lower\": 134.0836603638846, \"upper\": 895.5194220504013, \"data\": 524.9999999999994, \"model\": \"preds\", \"adm_2\": null, \"adm_1\": null, \"adm_0\": null, \"legend\": null}, {\"dates\": \"2023-02-12T00:00:00\", \"preds\": 338.44353738083413, \"lower\": 112.86419585872474, \"upper\": 1198.6506712953878, \"data\": 371.99999999999994, \"model\": \"preds\", \"adm_2\": null, \"adm_1\": null, \"adm_0\": null, \"legend\": null}, {\"dates\": \"2023-02-19T00:00:00\", \"preds\": 349.60097780996006, \"lower\": 97.93584193927443, \"upper\": 1569.3142988104, \"data\": 507.0000000000001, \"model\": \"preds\", \"adm_2\": null, \"adm_1\": null, \"adm_0\": null, \"legend\": null}, {\"dates\": \"2023-02-26T00:00:00\", \"preds\": 486.69752571203514, \"lower\": 230.60416972704553, \"upper\": 1105.375866271899, \"data\": 870.0, \"model\": \"preds\", \"adm_2\": null, \"adm_1\": null, \"adm_0\": null, \"legend\": null}, {\"dates\": \"2023-03-05T00:00:00\", \"preds\": 517.8411243043572, \"lower\": 201.98745181276163, \"upper\": 1496.3648720959604, \"data\": 945.0000000000003, \"model\": \"preds\", \"adm_2\": null, \"adm_1\": null, \"adm_0\": null, \"legend\": null}, {\"dates\": \"2023-03-12T00:00:00\", \"preds\": 529.7684567054695, \"lower\": 167.23095654785914, \"upper\": 2019.1252957105041, \"data\": 1125.000000000002, \"model\": \"preds\", \"adm_2\": null, \"adm_1\": null, \"adm_0\": null, \"legend\": null}, {\"dates\": \"2023-03-19T00:00:00\", \"preds\": 545.4007213622474, \"lower\": 143.50548199946917, \"upper\": 2673.7759556682413, \"data\": 1382.0000000000002, \"model\": \"preds\", \"adm_2\": null, \"adm_1\": null, \"adm_0\": null, \"legend\": null}, {\"dates\": \"2023-03-26T00:00:00\", \"preds\": 1436.9969791954877, \"lower\": 617.80444857739, \"upper\": 3675.252209023487, \"data\": 1579.9999999999984, \"model\": \"preds\", \"adm_2\": null, \"adm_1\": null, \"adm_0\": null, \"legend\": null}, {\"dates\": \"2023-04-02T00:00:00\", \"preds\": 1552.567089578109, \"lower\": 534.8015631291074, \"upper\": 5268.307803049241, \"data\": 1419.9999999999982, \"model\": \"preds\", \"adm_2\": null, \"adm_1\": null, \"adm_0\": null, \"legend\": null}, {\"dates\": \"2023-04-09T00:00:00\", \"preds\": 1636.9392121750382, \"lower\": 442.3248136706556, \"upper\": 7728.713793949735, \"data\": 1783.0000000000034, \"model\": \"preds\", \"adm_2\": null, \"adm_1\": null, \"adm_0\": null, \"legend\": null}, {\"dates\": \"2023-04-16T00:00:00\", \"preds\": 1720.5739847712427, \"lower\": 377.21274317344836, \"upper\": 11004.623877515718, \"data\": 1502.0000000000002, \"model\": \"preds\", \"adm_2\": null, \"adm_1\": null, \"adm_0\": null, \"legend\": null}, {\"dates\": \"2023-04-23T00:00:00\", \"preds\": 1657.1806290305906, \"lower\": 704.2999114889643, \"upper\": 4299.410348138865, \"data\": 1571.9999999999993, \"model\": \"preds\", \"adm_2\": null, \"adm_1\": null, \"adm_0\": null, \"legend\": null}, {\"dates\": \"2023-04-30T00:00:00\", \"preds\": 1670.3745106937647, \"lower\": 572.0346821463518, \"upper\": 5711.7438576471895, \"data\": 1918.9999999999986, \"model\": \"preds\", \"adm_2\": null, \"adm_1\": null, \"adm_0\": null, \"legend\": null}, {\"dates\": \"2023-05-07T00:00:00\", \"preds\": 1722.5635450059838, \"lower\": 463.66773266459626, \"upper\": 8177.35425212233, \"data\": 1807.000000000001, \"model\": \"preds\", \"adm_2\": null, \"adm_1\": null, \"adm_0\": null, \"legend\": null}, {\"dates\": \"2023-05-14T00:00:00\", \"preds\": 1755.4117309045916, \"lower\": 385.13211283295925, \"upper\": 11215.15300772631, \"data\": 1730.9999999999984, \"model\": \"preds\", \"adm_2\": null, \"adm_1\": null, \"adm_0\": null, \"legend\": null}, {\"dates\": \"2023-05-21T00:00:00\", \"preds\": 1791.9777613998463, \"lower\": 757.4544557427392, \"upper\": 4680.679260236886, \"data\": 1478.9999999999989, \"model\": \"preds\", \"adm_2\": null, \"adm_1\": null, \"adm_0\": null, \"legend\": null}, {\"dates\": \"2023-05-28T00:00:00\", \"preds\": 1805.2347171459583, \"lower\": 614.147112710866, \"upper\": 6226.891165129948, \"data\": 1328.0000000000018, \"model\": \"preds\", \"adm_2\": null, \"adm_1\": null, \"adm_0\": null, \"legend\": null}, {\"dates\": \"2023-01-01T00:00:00\", \"preds\": 124.7, \"lower\": 0.0, \"upper\": 1809.5625740147, \"data\": null, \"model\": \"77\", \"adm_2\": 3304557.0, \"adm_1\": \"RJ\", \"adm_0\": \"BR\", \"legend\": null}, {\"dates\": \"2023-01-08T00:00:00\", \"preds\": 127.23, \"lower\": 0.0, \"upper\": 1793.8064366305, \"data\": null, \"model\": \"77\", \"adm_2\": 3304557.0, \"adm_1\": \"RJ\", \"adm_0\": \"BR\", \"legend\": null}, {\"dates\": \"2023-01-15T00:00:00\", \"preds\": 155.21, \"lower\": 0.0, \"upper\": 1268.8861142409, \"data\": null, \"model\": \"77\", \"adm_2\": 3304557.0, \"adm_1\": \"RJ\", \"adm_0\": \"BR\", \"legend\": null}, {\"dates\": \"2023-01-22T00:00:00\", \"preds\": 198.84, \"lower\": 0.0, \"upper\": 1195.3396186246, \"data\": null, \"model\": \"77\", \"adm_2\": 3304557.0, \"adm_1\": \"RJ\", \"adm_0\": \"BR\", \"legend\": null}, {\"dates\": \"2023-01-29T00:00:00\", \"preds\": 345.27, \"lower\": 0.0, \"upper\": 1518.1194592248, \"data\": null, \"model\": \"77\", \"adm_2\": 3304557.0, \"adm_1\": \"RJ\", \"adm_0\": \"BR\", \"legend\": null}, {\"dates\": \"2023-02-05T00:00:00\", \"preds\": 462.34, \"lower\": 0.0, \"upper\": 1445.4253987699, \"data\": null, \"model\": \"77\", \"adm_2\": 3304557.0, \"adm_1\": \"RJ\", \"adm_0\": \"BR\", \"legend\": null}, {\"dates\": \"2023-02-12T00:00:00\", \"preds\": 481.6, \"lower\": 0.0, \"upper\": 1893.9755987178, \"data\": null, \"model\": \"77\", \"adm_2\": 3304557.0, \"adm_1\": \"RJ\", \"adm_0\": \"BR\", \"legend\": null}, {\"dates\": \"2023-02-19T00:00:00\", \"preds\": 481.56, \"lower\": 0.0, \"upper\": 1965.8780215081, \"data\": null, \"model\": \"77\", \"adm_2\": 3304557.0, \"adm_1\": \"RJ\", \"adm_0\": \"BR\", \"legend\": null}, {\"dates\": \"2023-02-26T00:00:00\", \"preds\": 574.3, \"lower\": 0.0, \"upper\": 2019.8204358497, \"data\": null, \"model\": \"77\", \"adm_2\": 3304557.0, \"adm_1\": \"RJ\", \"adm_0\": \"BR\", \"legend\": null}, {\"dates\": \"2023-03-05T00:00:00\", \"preds\": 908.59, \"lower\": 0.0, \"upper\": 2793.9425956685, \"data\": null, \"model\": \"77\", \"adm_2\": 3304557.0, \"adm_1\": \"RJ\", \"adm_0\": \"BR\", \"legend\": null}, {\"dates\": \"2023-03-12T00:00:00\", \"preds\": 1098.33, \"lower\": 0.0, \"upper\": 3565.2781705146, \"data\": null, \"model\": \"77\", \"adm_2\": 3304557.0, \"adm_1\": \"RJ\", \"adm_0\": \"BR\", \"legend\": null}, {\"dates\": \"2023-03-19T00:00:00\", \"preds\": 1255.02, \"lower\": 0.0, \"upper\": 4202.4693301775, \"data\": null, \"model\": \"77\", \"adm_2\": 3304557.0, \"adm_1\": \"RJ\", \"adm_0\": \"BR\", \"legend\": null}, {\"dates\": \"2023-03-26T00:00:00\", \"preds\": 903.32, \"lower\": 0.0, \"upper\": 3760.903225256, \"data\": null, \"model\": \"77\", \"adm_2\": 3304557.0, \"adm_1\": \"RJ\", \"adm_0\": \"BR\", \"legend\": null}, {\"dates\": \"2023-04-02T00:00:00\", \"preds\": 2084.83, \"lower\": 0.0, \"upper\": 4512.3417709763, \"data\": null, \"model\": \"77\", \"adm_2\": 3304557.0, \"adm_1\": \"RJ\", \"adm_0\": \"BR\", \"legend\": null}, {\"dates\": \"2023-04-09T00:00:00\", \"preds\": 1451.2, \"lower\": 0.0, \"upper\": 2937.0054003446, \"data\": null, \"model\": \"77\", \"adm_2\": 3304557.0, \"adm_1\": \"RJ\", \"adm_0\": \"BR\", \"legend\": null}, {\"dates\": \"2023-04-16T00:00:00\", \"preds\": 1680.13, \"lower\": 591.7969421614, \"upper\": 2768.4630578386, \"data\": null, \"model\": \"77\", \"adm_2\": 3304557.0, \"adm_1\": \"RJ\", \"adm_0\": \"BR\", \"legend\": null}, {\"dates\": \"2023-04-23T00:00:00\", \"preds\": 1944.43, \"lower\": 650.1333199898, \"upper\": 3238.7266800102, \"data\": null, \"model\": \"77\", \"adm_2\": 3304557.0, \"adm_1\": \"RJ\", \"adm_0\": \"BR\", \"legend\": null}, {\"dates\": \"2023-04-30T00:00:00\", \"preds\": 1575.31, \"lower\": 227.6224669775, \"upper\": 2922.9975330225, \"data\": null, \"model\": \"77\", \"adm_2\": 3304557.0, \"adm_1\": \"RJ\", \"adm_0\": \"BR\", \"legend\": null}, {\"dates\": \"2023-05-07T00:00:00\", \"preds\": 1426.24, \"lower\": 206.7682082167, \"upper\": 2645.7117917833, \"data\": null, \"model\": \"77\", \"adm_2\": 3304557.0, \"adm_1\": \"RJ\", \"adm_0\": \"BR\", \"legend\": null}, {\"dates\": \"2023-05-14T00:00:00\", \"preds\": 1939.85, \"lower\": 769.2177668869, \"upper\": 3110.4822331131, \"data\": null, \"model\": \"77\", \"adm_2\": 3304557.0, \"adm_1\": \"RJ\", \"adm_0\": \"BR\", \"legend\": null}, {\"dates\": \"2023-05-21T00:00:00\", \"preds\": 1454.24, \"lower\": 359.7715538942, \"upper\": 2548.7084461058, \"data\": null, \"model\": \"77\", \"adm_2\": 3304557.0, \"adm_1\": \"RJ\", \"adm_0\": \"BR\", \"legend\": null}, {\"dates\": \"2023-05-28T00:00:00\", \"preds\": 1134.07, \"lower\": 343.0948354381, \"upper\": 1925.0451645619, \"data\": null, \"model\": \"77\", \"adm_2\": 3304557.0, \"adm_1\": \"RJ\", \"adm_0\": \"BR\", \"legend\": null}, {\"dates\": \"2023-01-01T00:00:00\", \"preds\": 28.9193740338, \"lower\": 0.0, \"upper\": 602.8117241956, \"data\": null, \"model\": \"78\", \"adm_2\": 3304557.0, \"adm_1\": \"RJ\", \"adm_0\": \"BR\", \"legend\": null}, {\"dates\": \"2023-01-08T00:00:00\", \"preds\": 107.5751379728, \"lower\": 0.0, \"upper\": 566.5245524392, \"data\": null, \"model\": \"78\", \"adm_2\": 3304557.0, \"adm_1\": \"RJ\", \"adm_0\": \"BR\", \"legend\": null}, {\"dates\": \"2023-01-15T00:00:00\", \"preds\": 136.0464265496, \"lower\": 0.0, \"upper\": 654.7008858331, \"data\": null, \"model\": \"78\", \"adm_2\": 3304557.0, \"adm_1\": \"RJ\", \"adm_0\": \"BR\", \"legend\": null}, {\"dates\": \"2023-01-22T00:00:00\", \"preds\": 157.6281409636, \"lower\": 0.0, \"upper\": 703.7455855925, \"data\": null, \"model\": \"78\", \"adm_2\": 3304557.0, \"adm_1\": \"RJ\", \"adm_0\": \"BR\", \"legend\": null}, {\"dates\": \"2023-01-29T00:00:00\", \"preds\": 370.7788259685, \"lower\": 0.0, \"upper\": 879.478636435, \"data\": null, \"model\": \"78\", \"adm_2\": 3304557.0, \"adm_1\": \"RJ\", \"adm_0\": \"BR\", \"legend\": null}, {\"dates\": \"2023-02-05T00:00:00\", \"preds\": 200.67998676, \"lower\": 0.0, \"upper\": 720.2818470754, \"data\": null, \"model\": \"78\", \"adm_2\": 3304557.0, \"adm_1\": \"RJ\", \"adm_0\": \"BR\", \"legend\": null}, {\"dates\": \"2023-02-12T00:00:00\", \"preds\": 270.5449912548, \"lower\": 0.0, \"upper\": 766.0707564242, \"data\": null, \"model\": \"78\", \"adm_2\": 3304557.0, \"adm_1\": \"RJ\", \"adm_0\": \"BR\", \"legend\": null}, {\"dates\": \"2023-02-19T00:00:00\", \"preds\": 365.9762626961, \"lower\": 0.0, \"upper\": 984.143485938, \"data\": null, \"model\": \"78\", \"adm_2\": 3304557.0, \"adm_1\": \"RJ\", \"adm_0\": \"BR\", \"legend\": null}, {\"dates\": \"2023-02-26T00:00:00\", \"preds\": 434.2454627231, \"lower\": 0.0, \"upper\": 1035.7856581375, \"data\": null, \"model\": \"78\", \"adm_2\": 3304557.0, \"adm_1\": \"RJ\", \"adm_0\": \"BR\", \"legend\": null}, {\"dates\": \"2023-03-05T00:00:00\", \"preds\": 593.1198927313, \"lower\": 0.0, \"upper\": 1340.4223010339, \"data\": null, \"model\": \"78\", \"adm_2\": 3304557.0, \"adm_1\": \"RJ\", \"adm_0\": \"BR\", \"legend\": null}, {\"dates\": \"2023-03-12T00:00:00\", \"preds\": 486.762278229, \"lower\": 13.1828434534, \"upper\": 1258.1380503178, \"data\": null, \"model\": \"78\", \"adm_2\": 3304557.0, \"adm_1\": \"RJ\", \"adm_0\": \"BR\", \"legend\": null}, {\"dates\": \"2023-03-19T00:00:00\", \"preds\": 534.409355998, \"lower\": 0.0, \"upper\": 1161.3790531218, \"data\": null, \"model\": \"78\", \"adm_2\": 3304557.0, \"adm_1\": \"RJ\", \"adm_0\": \"BR\", \"legend\": null}, {\"dates\": \"2023-03-26T00:00:00\", \"preds\": 555.0313138813, \"lower\": 0.0, \"upper\": 1138.9978529975, \"data\": null, \"model\": \"78\", \"adm_2\": 3304557.0, \"adm_1\": \"RJ\", \"adm_0\": \"BR\", \"legend\": null}, {\"dates\": \"2023-04-02T00:00:00\", \"preds\": 540.6022553518, \"lower\": 0.0, \"upper\": 1290.8390316494, \"data\": null, \"model\": \"78\", \"adm_2\": 3304557.0, \"adm_1\": \"RJ\", \"adm_0\": \"BR\", \"legend\": null}, {\"dates\": \"2023-04-09T00:00:00\", \"preds\": 670.57262557, \"lower\": 63.0884215072, \"upper\": 1603.4207726844, \"data\": null, \"model\": \"78\", \"adm_2\": 3304557.0, \"adm_1\": \"RJ\", \"adm_0\": \"BR\", \"legend\": null}, {\"dates\": \"2023-04-16T00:00:00\", \"preds\": 823.2300753295, \"lower\": 5.3920096096, \"upper\": 1619.1121769279, \"data\": null, \"model\": \"78\", \"adm_2\": 3304557.0, \"adm_1\": \"RJ\", \"adm_0\": \"BR\", \"legend\": null}, {\"dates\": \"2023-04-23T00:00:00\", \"preds\": 821.3328076452, \"lower\": 0.0, \"upper\": 1657.2413398936, \"data\": null, \"model\": \"78\", \"adm_2\": 3304557.0, \"adm_1\": \"RJ\", \"adm_0\": \"BR\", \"legend\": null}, {\"dates\": \"2023-04-30T00:00:00\", \"preds\": 736.0327714011, \"lower\": 186.1478255641, \"upper\": 1522.9282282144, \"data\": null, \"model\": \"78\", \"adm_2\": 3304557.0, \"adm_1\": \"RJ\", \"adm_0\": \"BR\", \"legend\": null}, {\"dates\": \"2023-05-07T00:00:00\", \"preds\": 760.3757069707, \"lower\": 31.6744434658, \"upper\": 1601.576000803, \"data\": null, \"model\": \"78\", \"adm_2\": 3304557.0, \"adm_1\": \"RJ\", \"adm_0\": \"BR\", \"legend\": null}, {\"dates\": \"2023-05-14T00:00:00\", \"preds\": 593.9493001178, \"lower\": 0.0, \"upper\": 1293.7130412512, \"data\": null, \"model\": \"78\", \"adm_2\": 3304557.0, \"adm_1\": \"RJ\", \"adm_0\": \"BR\", \"legend\": null}, {\"dates\": \"2023-05-21T00:00:00\", \"preds\": 341.6071367562, \"lower\": 0.0, \"upper\": 890.2078188814, \"data\": null, \"model\": \"78\", \"adm_2\": 3304557.0, \"adm_1\": \"RJ\", \"adm_0\": \"BR\", \"legend\": null}, {\"dates\": \"2023-05-28T00:00:00\", \"preds\": 766.1951469854, \"lower\": 41.8829060107, \"upper\": 1633.4175681449, \"data\": null, \"model\": \"78\", \"adm_2\": 3304557.0, \"adm_1\": \"RJ\", \"adm_0\": \"BR\", \"legend\": null}, {\"dates\": \"2023-01-01T00:00:00\", \"preds\": 230.0, \"lower\": null, \"upper\": null, \"data\": null, \"model\": \"cases\", \"adm_2\": null, \"adm_1\": null, \"adm_0\": null, \"legend\": \"Data\"}, {\"dates\": \"2023-01-08T00:00:00\", \"preds\": 218.0, \"lower\": null, \"upper\": null, \"data\": null, \"model\": \"cases\", \"adm_2\": null, \"adm_1\": null, \"adm_0\": null, \"legend\": \"Data\"}, {\"dates\": \"2023-01-15T00:00:00\", \"preds\": 246.0, \"lower\": null, \"upper\": null, \"data\": null, \"model\": \"cases\", \"adm_2\": null, \"adm_1\": null, \"adm_0\": null, \"legend\": \"Data\"}, {\"dates\": \"2023-01-22T00:00:00\", \"preds\": 312.0, \"lower\": null, \"upper\": null, \"data\": null, \"model\": \"cases\", \"adm_2\": null, \"adm_1\": null, \"adm_0\": null, \"legend\": \"Data\"}, {\"dates\": \"2023-01-29T00:00:00\", \"preds\": 383.0, \"lower\": null, \"upper\": null, \"data\": null, \"model\": \"cases\", \"adm_2\": null, \"adm_1\": null, \"adm_0\": null, \"legend\": \"Data\"}, {\"dates\": \"2023-02-05T00:00:00\", \"preds\": 525.0, \"lower\": null, \"upper\": null, \"data\": null, \"model\": \"cases\", \"adm_2\": null, \"adm_1\": null, \"adm_0\": null, \"legend\": \"Data\"}, {\"dates\": \"2023-02-12T00:00:00\", \"preds\": 372.0, \"lower\": null, \"upper\": null, \"data\": null, \"model\": \"cases\", \"adm_2\": null, \"adm_1\": null, \"adm_0\": null, \"legend\": \"Data\"}, {\"dates\": \"2023-02-19T00:00:00\", \"preds\": 507.0, \"lower\": null, \"upper\": null, \"data\": null, \"model\": \"cases\", \"adm_2\": null, \"adm_1\": null, \"adm_0\": null, \"legend\": \"Data\"}, {\"dates\": \"2023-02-26T00:00:00\", \"preds\": 870.0, \"lower\": null, \"upper\": null, \"data\": null, \"model\": \"cases\", \"adm_2\": null, \"adm_1\": null, \"adm_0\": null, \"legend\": \"Data\"}, {\"dates\": \"2023-03-05T00:00:00\", \"preds\": 945.0, \"lower\": null, \"upper\": null, \"data\": null, \"model\": \"cases\", \"adm_2\": null, \"adm_1\": null, \"adm_0\": null, \"legend\": \"Data\"}, {\"dates\": \"2023-03-12T00:00:00\", \"preds\": 1125.0, \"lower\": null, \"upper\": null, \"data\": null, \"model\": \"cases\", \"adm_2\": null, \"adm_1\": null, \"adm_0\": null, \"legend\": \"Data\"}, {\"dates\": \"2023-03-19T00:00:00\", \"preds\": 1382.0, \"lower\": null, \"upper\": null, \"data\": null, \"model\": \"cases\", \"adm_2\": null, \"adm_1\": null, \"adm_0\": null, \"legend\": \"Data\"}, {\"dates\": \"2023-03-26T00:00:00\", \"preds\": 1580.0, \"lower\": null, \"upper\": null, \"data\": null, \"model\": \"cases\", \"adm_2\": null, \"adm_1\": null, \"adm_0\": null, \"legend\": \"Data\"}, {\"dates\": \"2023-04-02T00:00:00\", \"preds\": 1420.0, \"lower\": null, \"upper\": null, \"data\": null, \"model\": \"cases\", \"adm_2\": null, \"adm_1\": null, \"adm_0\": null, \"legend\": \"Data\"}, {\"dates\": \"2023-04-09T00:00:00\", \"preds\": 1783.0, \"lower\": null, \"upper\": null, \"data\": null, \"model\": \"cases\", \"adm_2\": null, \"adm_1\": null, \"adm_0\": null, \"legend\": \"Data\"}, {\"dates\": \"2023-04-16T00:00:00\", \"preds\": 1502.0, \"lower\": null, \"upper\": null, \"data\": null, \"model\": \"cases\", \"adm_2\": null, \"adm_1\": null, \"adm_0\": null, \"legend\": \"Data\"}, {\"dates\": \"2023-04-23T00:00:00\", \"preds\": 1572.0, \"lower\": null, \"upper\": null, \"data\": null, \"model\": \"cases\", \"adm_2\": null, \"adm_1\": null, \"adm_0\": null, \"legend\": \"Data\"}, {\"dates\": \"2023-04-30T00:00:00\", \"preds\": 1919.0, \"lower\": null, \"upper\": null, \"data\": null, \"model\": \"cases\", \"adm_2\": null, \"adm_1\": null, \"adm_0\": null, \"legend\": \"Data\"}, {\"dates\": \"2023-05-07T00:00:00\", \"preds\": 1807.0, \"lower\": null, \"upper\": null, \"data\": null, \"model\": \"cases\", \"adm_2\": null, \"adm_1\": null, \"adm_0\": null, \"legend\": \"Data\"}, {\"dates\": \"2023-05-14T00:00:00\", \"preds\": 1731.0, \"lower\": null, \"upper\": null, \"data\": null, \"model\": \"cases\", \"adm_2\": null, \"adm_1\": null, \"adm_0\": null, \"legend\": \"Data\"}, {\"dates\": \"2023-05-21T00:00:00\", \"preds\": 1479.0, \"lower\": null, \"upper\": null, \"data\": null, \"model\": \"cases\", \"adm_2\": null, \"adm_1\": null, \"adm_0\": null, \"legend\": \"Data\"}, {\"dates\": \"2023-05-28T00:00:00\", \"preds\": 1328.0, \"lower\": null, \"upper\": null, \"data\": null, \"model\": \"cases\", \"adm_2\": null, \"adm_1\": null, \"adm_0\": null, \"legend\": \"Data\"}]}}, {\"mode\": \"vega-lite\"});\n",
       "</script>"
      ],
      "text/plain": [
       "alt.LayerChart(...)"
      ]
     },
     "execution_count": 22,
     "metadata": {},
     "output_type": "execute_result"
    }
   ],
   "source": [
    "score.plot_predictions()"
   ]
  }
 ],
 "metadata": {
  "kernelspec": {
   "display_name": "Python 3 (ipykernel)",
   "language": "python",
   "name": "python3"
  },
  "language_info": {
   "codemirror_mode": {
    "name": "ipython",
    "version": 3
   },
   "file_extension": ".py",
   "mimetype": "text/x-python",
   "name": "python",
   "nbconvert_exporter": "python",
   "pygments_lexer": "ipython3",
   "version": "3.10.14"
  }
 },
 "nbformat": 4,
 "nbformat_minor": 5
}
