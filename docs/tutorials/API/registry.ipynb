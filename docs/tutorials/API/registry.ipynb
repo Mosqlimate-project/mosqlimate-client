{
 "cells": [
  {
   "cell_type": "markdown",
   "id": "356a8b5f",
   "metadata": {},
   "source": [
    "[📥 Download Notebook](https://github.com/Mosqlimate-project/mosqlimate-client/blob/main/docs/tutorials/API/registry.ipynb)\n",
    "\n",
    "This notebook provides examples of how to register and retrieve models on the platform using the package. For more details, refer to the [API documentation](https://api.mosqlimate.org/docs/overview/). \n",
    "\n",
    "To run these examples, you need to create an account on the platform to generate your API key."
   ]
  },
  {
   "cell_type": "markdown",
   "id": "3f2ec8cb",
   "metadata": {},
   "source": [
    "Load the API key saved in a `.env` file"
   ]
  },
  {
   "cell_type": "code",
   "execution_count": 1,
   "id": "6a745b87-970d-422f-87b6-ea07bbf44441",
   "metadata": {},
   "outputs": [],
   "source": [
    "import os\n",
    "from dotenv import load_dotenv\n",
    "load_dotenv()\n",
    "\n",
    "api_key = os.getenv(\"API_KEY\")"
   ]
  },
  {
   "cell_type": "markdown",
   "id": "776716d4-389e-4ae3-858b-8fb41607187c",
   "metadata": {},
   "source": [
    "## [/api/registry/authors/](https://api.mosqlimate.org/docs/overview/#get_apiregistryauthors)"
   ]
  },
  {
   "cell_type": "markdown",
   "id": "b932f876-b804-4bbe-b697-2e11a8388a75",
   "metadata": {},
   "source": [
    "### [GET](https://api.mosqlimate.org/docs/overview/#get_apiregistryauthors)"
   ]
  },
  {
   "cell_type": "markdown",
   "id": "0d89671a",
   "metadata": {},
   "source": [
    "The cell below contains the code to search for authors registered on the platform:"
   ]
  },
  {
   "cell_type": "code",
   "execution_count": 2,
   "id": "33bdb80d-ab01-4712-98d6-86413d577581",
   "metadata": {},
   "outputs": [
    {
     "data": {
      "text/plain": [
       "[haridas-das,\n",
       " marciomacielbastos,\n",
       " ChenXiang1998,\n",
       " giovemoiran,\n",
       " RCapellan,\n",
       " ZuilhoSe,\n",
       " lsbastos,\n",
       " eduardocorrearaujo,\n",
       " fccoelho]"
      ]
     },
     "execution_count": 2,
     "metadata": {},
     "output_type": "execute_result"
    }
   ],
   "source": [
    "from mosqlient import get_all_authors\n",
    "\n",
    "get_all_authors(api_key)"
   ]
  },
  {
   "cell_type": "markdown",
   "id": "2b8f5b08",
   "metadata": {},
   "source": [
    "The cell below contains the code to search for authors registered on the platform based on the username and name:"
   ]
  },
  {
   "cell_type": "code",
   "execution_count": 3,
   "id": "09188776-d80c-474e-8e16-3661d344078a",
   "metadata": {},
   "outputs": [
    {
     "data": {
      "text/plain": [
       "fccoelho"
      ]
     },
     "execution_count": 3,
     "metadata": {},
     "output_type": "execute_result"
    }
   ],
   "source": [
    "from mosqlient import get_author_by_username\n",
    "\n",
    "get_author_by_username(api_key, \"fccoelho\")"
   ]
  },
  {
   "cell_type": "code",
   "execution_count": 4,
   "id": "d498fdf7-be81-40d9-a55b-c954cef13c62",
   "metadata": {},
   "outputs": [
    {
     "data": {
      "text/plain": [
       "[eduardocorrearaujo]"
      ]
     },
     "execution_count": 4,
     "metadata": {},
     "output_type": "execute_result"
    }
   ],
   "source": [
    "from mosqlient import get_authors_by_name\n",
    "\n",
    "get_authors_by_name(api_key, \"Edu\")"
   ]
  },
  {
   "cell_type": "markdown",
   "id": "c3c814aa-ed7c-4689-9516-923c30fb3cf0",
   "metadata": {},
   "source": [
    "## [/api/registry/models/](https://api.mosqlimate.org/docs/overview/#get_apiregistrymodels)"
   ]
  },
  {
   "cell_type": "markdown",
   "id": "c98e7f04-f9d7-4324-b51a-b8e8e57adb7c",
   "metadata": {},
   "source": [
    "### [GET](https://api.mosqlimate.org/docs/overview/#get_apiregistrymodels)"
   ]
  },
  {
   "cell_type": "markdown",
   "id": "2384c9da",
   "metadata": {},
   "source": [
    "The cell below contains the code to get all the models registered on the platform:"
   ]
  },
  {
   "cell_type": "code",
   "execution_count": 5,
   "id": "6cff6abd-90f3-4afc-8110-313cd8cac1e0",
   "metadata": {},
   "outputs": [
    {
     "data": {
      "text/plain": [
       "[2025 sprint test ,\n",
       " Example of Univariate neural prophet model,\n",
       " My Nowcasting Model,\n",
       " infodengue_sprint_24_25_hybrid_CNN_LSTM_ensemble_model,\n",
       " Model 2 - Weekly and yearly (rw1) components,\n",
       " Model 1 - Weekly and yearly (iid) components,\n",
       " BB-M,\n",
       " Temp-SPI Interaction Model,\n",
       " LSTM model with PCA and vaiance threshold,\n",
       " Prophet model with PCA and vaiance threshold,\n",
       " LSTM model for Infodengue Sprint,\n",
       " Univariate neural prophet model,\n",
       " Deep learning model using BI-LSTM Layers,\n",
       " Random Forest model with uncertainty computed with conformal prediction,\n",
       " Baseline weekly model,\n",
       " autoarima,\n",
       " autoarima,\n",
       " test model,\n",
       " LSTM model]"
      ]
     },
     "execution_count": 5,
     "metadata": {},
     "output_type": "execute_result"
    }
   ],
   "source": [
    "from mosqlient import get_all_models\n",
    "\n",
    "get_all_models(api_key)"
   ]
  },
  {
   "cell_type": "markdown",
   "id": "8f50e547",
   "metadata": {},
   "source": [
    "The cell below contains the code to retrieve all models related to the sprint registered on the platform. Check the documentation for additional filters that can be applied:"
   ]
  },
  {
   "cell_type": "code",
   "execution_count": 6,
   "id": "c029794f-c5b8-472e-80de-b9e1ba87a461",
   "metadata": {},
   "outputs": [
    {
     "data": {
      "text/plain": [
       "[infodengue_sprint_24_25_hybrid_CNN_LSTM_ensemble_model,\n",
       " Model 2 - Weekly and yearly (rw1) components,\n",
       " Model 1 - Weekly and yearly (iid) components,\n",
       " BB-M,\n",
       " Temp-SPI Interaction Model,\n",
       " LSTM model with PCA and vaiance threshold,\n",
       " Prophet model with PCA and vaiance threshold,\n",
       " LSTM model for Infodengue Sprint,\n",
       " Baseline weekly model]"
      ]
     },
     "execution_count": 6,
     "metadata": {},
     "output_type": "execute_result"
    }
   ],
   "source": [
    "from mosqlient import get_models\n",
    "\n",
    "get_models(api_key, sprint=True)"
   ]
  },
  {
   "cell_type": "markdown",
   "id": "fab9dc35",
   "metadata": {},
   "source": [
    "The cell below shows how to filter a model using its id:"
   ]
  },
  {
   "cell_type": "code",
   "execution_count": 7,
   "id": "ec358055-72d3-415d-88fc-86fe1b5f00f3",
   "metadata": {},
   "outputs": [
    {
     "data": {
      "text/plain": [
       "Random Forest model with uncertainty computed with conformal prediction"
      ]
     },
     "execution_count": 7,
     "metadata": {},
     "output_type": "execute_result"
    }
   ],
   "source": [
    "from mosqlient import get_model_by_id\n",
    "\n",
    "get_model_by_id(api_key, 5)"
   ]
  },
  {
   "cell_type": "markdown",
   "id": "7cd2c8b1-ae6e-410a-8c83-7c18a4a2e532",
   "metadata": {},
   "source": [
    "---"
   ]
  },
  {
   "cell_type": "markdown",
   "id": "b2f43992",
   "metadata": {},
   "source": [
    "After fetching a model, you can access any of its properties:\n",
    "\n",
    "* `id`;\n",
    "* `name`;\n",
    "* `description`; \n",
    "* `repository`;\n",
    "* `disease`;\n",
    "* `categorical`;\n",
    "* `spatial`; \n",
    "* `temporal`;\n",
    "* `ADM_level`;\n",
    "* `time_resolution`."
   ]
  },
  {
   "cell_type": "code",
   "execution_count": 8,
   "id": "2b4a1ec0",
   "metadata": {},
   "outputs": [
    {
     "data": {
      "text/plain": [
       "'https://github.com/lsbastos/bb-m'"
      ]
     },
     "execution_count": 8,
     "metadata": {},
     "output_type": "execute_result"
    }
   ],
   "source": [
    "model = get_model_by_id(api_key, 30)\n",
    "\n",
    "model.repository"
   ]
  },
  {
   "cell_type": "markdown",
   "id": "15aa5e92-81fa-43b3-85ab-598e022ef2fb",
   "metadata": {},
   "source": [
    "### [POST](https://api.mosqlimate.org/docs/overview/#post_apiregistrymodels)"
   ]
  },
  {
   "cell_type": "markdown",
   "id": "e7100098",
   "metadata": {},
   "source": [
    "The cell below contains the code to register a model in the platform:"
   ]
  },
  {
   "cell_type": "code",
   "execution_count": 9,
   "id": "6f0646ac-949d-49be-9727-26cf8c8dc38b",
   "metadata": {},
   "outputs": [
    {
     "data": {
      "text/plain": [
       "{'id': 62,\n",
       " 'name': 'client test',\n",
       " 'description': 'test model test model test model test model test model test model',\n",
       " 'author': {'user': {'name': 'Eduardo Correa Araujo',\n",
       "   'username': 'eduardocorrearaujo'},\n",
       "  'institution': None},\n",
       " 'repository': 'https://github.com/Mosqlimate-project/Data-platform/',\n",
       " 'implementation_language': {'language': 'Python'},\n",
       " 'disease': 'dengue',\n",
       " 'categorical': False,\n",
       " 'spatial': True,\n",
       " 'temporal': True,\n",
       " 'ADM_level': 1,\n",
       " 'time_resolution': 'day',\n",
       " 'sprint': False}"
      ]
     },
     "execution_count": 9,
     "metadata": {},
     "output_type": "execute_result"
    }
   ],
   "source": [
    "from mosqlient import upload_model\n",
    "\n",
    "name = \"client test\"\n",
    "description = \"test model test model test model test model test model test model\"\n",
    "repository = \"https://github.com/Mosqlimate-project/Data-platform/\"\n",
    "implementation_language = \"Python\"\n",
    "disease = \"dengue\"\n",
    "temporal = True\n",
    "spatial = True\n",
    "categorical = False\n",
    "adm_level = 1\n",
    "time_resolution = \"day\"\n",
    "sprint = False\n",
    "\n",
    "\n",
    "model = upload_model(\n",
    "    api_key=api_key,\n",
    "    name=name,\n",
    "    description=description,\n",
    "    repository=repository,\n",
    "    implementation_language=implementation_language,\n",
    "    disease=disease,\n",
    "    temporal=temporal,\n",
    "    spatial=spatial,\n",
    "    categorical=categorical,\n",
    "    adm_level=adm_level,\n",
    "    time_resolution=time_resolution,\n",
    "    sprint=sprint\n",
    ")\n",
    "model.dict()"
   ]
  },
  {
   "cell_type": "markdown",
   "id": "f14b3dbe-d6b8-48fe-8018-25662f6f5261",
   "metadata": {},
   "source": [
    "---"
   ]
  },
  {
   "cell_type": "markdown",
   "id": "76f63819-3aa3-4c7e-acc4-b3dfcd355091",
   "metadata": {},
   "source": [
    "### [DELETE](https://api.mosqlimate.org/docs/overview/#delete_apiregistrymodelsmodel_id)\n",
    "\n",
    "The cell below contains the code to delete a model you registered on the platform:"
   ]
  },
  {
   "cell_type": "code",
   "execution_count": 10,
   "id": "c16e31de-6401-4120-927c-56a78168eb8c",
   "metadata": {},
   "outputs": [],
   "source": [
    "from mosqlient import delete_model\n",
    "\n",
    "# moved to final\n",
    "# delete_model(api_key=api_key, model_id=model.id)"
   ]
  },
  {
   "cell_type": "markdown",
   "id": "d9bd2d31-d655-4984-8869-5db7f6d00915",
   "metadata": {},
   "source": [
    "## [/api/registry/predictions/](https://api.mosqlimate.org/docs/overview/#get_apiregistrypredictions)"
   ]
  },
  {
   "cell_type": "markdown",
   "id": "c63ed31f-8a86-4792-86f5-decebebca956",
   "metadata": {},
   "source": [
    "### [GET](https://api.mosqlimate.org/docs/overview/#get_apiregistrypredictions)\n",
    "\n",
    "The cell below contains the code to get the predictions registered on the platform:"
   ]
  },
  {
   "cell_type": "code",
   "execution_count": 11,
   "id": "b5053236-5b02-43da-a23c-40309a9ec26b",
   "metadata": {},
   "outputs": [
    {
     "data": {
      "text/plain": [
       "[Prediction <14>,\n",
       " Prediction <77>,\n",
       " Prediction <12>,\n",
       " Prediction <25>,\n",
       " Prediction <27>,\n",
       " Prediction <20>,\n",
       " Prediction <15>,\n",
       " Prediction <11>,\n",
       " Prediction <19>,\n",
       " Prediction <26>,\n",
       " Prediction <17>,\n",
       " Prediction <18>,\n",
       " Prediction <74>,\n",
       " Prediction <22>,\n",
       " Prediction <23>,\n",
       " Prediction <24>,\n",
       " Prediction <21>,\n",
       " Prediction <16>,\n",
       " Prediction <13>,\n",
       " Prediction <10>]"
      ]
     },
     "execution_count": 11,
     "metadata": {},
     "output_type": "execute_result"
    }
   ],
   "source": [
    "from mosqlient import get_predictions\n",
    "\n",
    "get_predictions(api_key=api_key, model_id=5)"
   ]
  },
  {
   "cell_type": "markdown",
   "id": "6e4ad7c8",
   "metadata": {},
   "source": [
    "The cells below contains the code to search for predictions registered on the platform based on the username and disease:"
   ]
  },
  {
   "cell_type": "code",
   "execution_count": 12,
   "id": "71fab356-5700-4b6a-a44b-156f115ea89e",
   "metadata": {},
   "outputs": [
    {
     "name": "stderr",
     "output_type": "stream",
     "text": [
      "100%|██████████| 6/6 [00:02<00:00,  2.33requests/s]\n"
     ]
    },
    {
     "data": {
      "text/plain": [
       "[Prediction <852>,\n",
       " Prediction <14>,\n",
       " Prediction <77>,\n",
       " Prediction <827>,\n",
       " Prediction <826>,\n",
       " Prediction <825>,\n",
       " Prediction <811>,\n",
       " Prediction <808>,\n",
       " Prediction <809>,\n",
       " Prediction <807>,\n",
       " Prediction <828>,\n",
       " Prediction <805>,\n",
       " Prediction <803>,\n",
       " Prediction <802>,\n",
       " Prediction <804>,\n",
       " Prediction <801>,\n",
       " Prediction <800>,\n",
       " Prediction <799>,\n",
       " Prediction <798>,\n",
       " Prediction <797>,\n",
       " Prediction <796>,\n",
       " Prediction <795>,\n",
       " Prediction <794>,\n",
       " Prediction <820>,\n",
       " Prediction <793>,\n",
       " Prediction <824>,\n",
       " Prediction <823>,\n",
       " Prediction <822>,\n",
       " Prediction <821>,\n",
       " Prediction <819>,\n",
       " Prediction <818>,\n",
       " Prediction <816>,\n",
       " Prediction <815>,\n",
       " Prediction <814>,\n",
       " Prediction <813>,\n",
       " Prediction <812>,\n",
       " Prediction <776>,\n",
       " Prediction <774>,\n",
       " Prediction <773>,\n",
       " Prediction <772>,\n",
       " Prediction <771>,\n",
       " Prediction <770>,\n",
       " Prediction <769>,\n",
       " Prediction <768>,\n",
       " Prediction <784>,\n",
       " Prediction <790>,\n",
       " Prediction <789>,\n",
       " Prediction <787>,\n",
       " Prediction <786>,\n",
       " Prediction <785>,\n",
       " Prediction <783>,\n",
       " Prediction <781>,\n",
       " Prediction <780>,\n",
       " Prediction <779>,\n",
       " Prediction <778>,\n",
       " Prediction <777>,\n",
       " Prediction <791>,\n",
       " Prediction <499>,\n",
       " Prediction <352>,\n",
       " Prediction <495>,\n",
       " Prediction <490>,\n",
       " Prediction <485>,\n",
       " Prediction <480>,\n",
       " Prediction <473>,\n",
       " Prediction <466>,\n",
       " Prediction <458>,\n",
       " Prediction <351>,\n",
       " Prediction <766>,\n",
       " Prediction <764>,\n",
       " Prediction <464>,\n",
       " Prediction <350>,\n",
       " Prediction <349>,\n",
       " Prediction <465>,\n",
       " Prediction <457>,\n",
       " Prediction <345>,\n",
       " Prediction <489>,\n",
       " Prediction <95>,\n",
       " Prediction <94>,\n",
       " Prediction <229>,\n",
       " Prediction <348>,\n",
       " Prediction <346>,\n",
       " Prediction <765>,\n",
       " Prediction <763>,\n",
       " Prediction <226>,\n",
       " Prediction <228>,\n",
       " Prediction <344>,\n",
       " Prediction <339>,\n",
       " Prediction <478>,\n",
       " Prediction <342>,\n",
       " Prediction <341>,\n",
       " Prediction <471>,\n",
       " Prediction <463>,\n",
       " Prediction <338>,\n",
       " Prediction <340>,\n",
       " Prediction <484>,\n",
       " Prediction <477>,\n",
       " Prediction <337>,\n",
       " Prediction <12>,\n",
       " Prediction <336>,\n",
       " Prediction <470>,\n",
       " Prediction <462>,\n",
       " Prediction <334>,\n",
       " Prediction <25>,\n",
       " Prediction <31>,\n",
       " Prediction <29>,\n",
       " Prediction <469>,\n",
       " Prediction <27>,\n",
       " Prediction <37>,\n",
       " Prediction <461>,\n",
       " Prediction <39>,\n",
       " Prediction <500>,\n",
       " Prediction <498>,\n",
       " Prediction <496>,\n",
       " Prediction <493>,\n",
       " Prediction <483>,\n",
       " Prediction <476>,\n",
       " Prediction <20>,\n",
       " Prediction <479>,\n",
       " Prediction <15>,\n",
       " Prediction <11>,\n",
       " Prediction <19>,\n",
       " Prediction <33>,\n",
       " Prediction <40>,\n",
       " Prediction <76>,\n",
       " Prediction <26>,\n",
       " Prediction <70>,\n",
       " Prediction <472>,\n",
       " Prediction <17>,\n",
       " Prediction <18>,\n",
       " Prediction <73>,\n",
       " Prediction <72>,\n",
       " Prediction <78>,\n",
       " Prediction <71>,\n",
       " Prediction <74>,\n",
       " Prediction <43>,\n",
       " Prediction <75>,\n",
       " Prediction <45>,\n",
       " Prediction <332>,\n",
       " Prediction <331>,\n",
       " Prediction <38>,\n",
       " Prediction <355>,\n",
       " Prediction <330>,\n",
       " Prediction <22>,\n",
       " Prediction <44>,\n",
       " Prediction <34>,\n",
       " Prediction <32>,\n",
       " Prediction <36>,\n",
       " Prediction <482>,\n",
       " Prediction <475>,\n",
       " Prediction <468>,\n",
       " Prediction <354>,\n",
       " Prediction <329>,\n",
       " Prediction <491>,\n",
       " Prediction <486>,\n",
       " Prediction <481>,\n",
       " Prediction <474>,\n",
       " Prediction <467>,\n",
       " Prediction <460>,\n",
       " Prediction <28>,\n",
       " Prediction <487>,\n",
       " Prediction <767>,\n",
       " Prediction <347>,\n",
       " Prediction <227>,\n",
       " Prediction <343>,\n",
       " Prediction <225>,\n",
       " Prediction <224>,\n",
       " Prediction <223>,\n",
       " Prediction <222>,\n",
       " Prediction <221>,\n",
       " Prediction <220>,\n",
       " Prediction <335>,\n",
       " Prediction <23>,\n",
       " Prediction <24>,\n",
       " Prediction <21>,\n",
       " Prediction <775>,\n",
       " Prediction <792>,\n",
       " Prediction <788>,\n",
       " Prediction <333>,\n",
       " Prediction <817>,\n",
       " Prediction <810>,\n",
       " Prediction <782>,\n",
       " Prediction <69>,\n",
       " Prediction <41>,\n",
       " Prediction <762>,\n",
       " Prediction <35>,\n",
       " Prediction <353>,\n",
       " Prediction <497>,\n",
       " Prediction <494>,\n",
       " Prediction <492>,\n",
       " Prediction <16>,\n",
       " Prediction <488>,\n",
       " Prediction <13>,\n",
       " Prediction <459>,\n",
       " Prediction <10>,\n",
       " Prediction <30>,\n",
       " Prediction <42>]"
      ]
     },
     "execution_count": 12,
     "metadata": {},
     "output_type": "execute_result"
    }
   ],
   "source": [
    "from mosqlient import get_predictions_by_author_username\n",
    "\n",
    "get_predictions_by_author_username(api_key, \"eduardocorrearaujo\")"
   ]
  },
  {
   "cell_type": "code",
   "execution_count": 13,
   "id": "8a0c40c9",
   "metadata": {},
   "outputs": [
    {
     "data": {
      "text/plain": [
       "[]"
      ]
     },
     "execution_count": 13,
     "metadata": {},
     "output_type": "execute_result"
    }
   ],
   "source": [
    "from mosqlient import get_predictions_by_disease\n",
    "\n",
    "get_predictions_by_disease(api_key=api_key, disease=\"chikungunya\")"
   ]
  },
  {
   "cell_type": "markdown",
   "id": "fb109a54",
   "metadata": {},
   "source": [
    "The cell below contains the code to search for predictions registered on the platform within a specified date range:"
   ]
  },
  {
   "cell_type": "code",
   "execution_count": 14,
   "id": "43a62be3-bce5-40d1-8b3b-b507d4b7bd77",
   "metadata": {},
   "outputs": [
    {
     "data": {
      "text/plain": [
       "[Prediction <96>]"
      ]
     },
     "execution_count": 14,
     "metadata": {},
     "output_type": "execute_result"
    }
   ],
   "source": [
    "from mosqlient import get_predictions_between\n",
    "\n",
    "get_predictions_between(api_key=api_key, start=\"2024-01-01\", end=\"2024-02-01\")"
   ]
  },
  {
   "cell_type": "markdown",
   "id": "ce12a3d8-8e61-4abf-a445-bedd5a57e496",
   "metadata": {},
   "source": [
    "---"
   ]
  },
  {
   "cell_type": "markdown",
   "id": "06ca0c5d",
   "metadata": {},
   "source": [
    "After fetching a prediction, you can access any of its properties:\n",
    "\n",
    "* `id`;\n",
    "* `description`; \n",
    "* `commit`;\n",
    "* `disease`;\n",
    "* `predict_date`;\n",
    "* `data`."
   ]
  },
  {
   "cell_type": "markdown",
   "id": "425b2a8e-7c80-4fb4-a412-e16699480a2a",
   "metadata": {},
   "source": [
    "### [POST](https://api.mosqlimate.org/docs/overview/#post_apiregistrypredictions)\n",
    "\n",
    "The cell below contains the code used to register a prediction on the platform. The prediction input can be either a list of dictionaries or a Pandas DataFrame. "
   ]
  },
  {
   "cell_type": "code",
   "execution_count": 15,
   "id": "f9534a95-5565-4163-96f1-e169bc7a9e5b",
   "metadata": {},
   "outputs": [
    {
     "data": {
      "text/plain": [
       "{'id': 855,\n",
       " 'model': {'id': 62,\n",
       "  'name': 'client test',\n",
       "  'description': 'test model test model test model test model test model test model',\n",
       "  'author': {'user': {'name': 'Eduardo Correa Araujo',\n",
       "    'username': 'eduardocorrearaujo'},\n",
       "   'institution': None},\n",
       "  'repository': 'https://github.com/Mosqlimate-project/Data-platform/',\n",
       "  'implementation_language': {'language': 'Python'},\n",
       "  'disease': 'dengue',\n",
       "  'categorical': False,\n",
       "  'spatial': True,\n",
       "  'temporal': True,\n",
       "  'ADM_level': 1,\n",
       "  'time_resolution': 'day',\n",
       "  'sprint': False},\n",
       " 'description': 'test client prediction test client prediction test client prediction',\n",
       " 'commit': '553f9072811f486631ef2ef1b8cce9b0b93fdd0d',\n",
       " 'predict_date': '2024-01-01',\n",
       " 'adm_0': 'BRA',\n",
       " 'adm_1': None,\n",
       " 'adm_2': None,\n",
       " 'adm_3': None,\n",
       " 'data': [{'date': datetime.date(2024, 1, 1),\n",
       "   'lower_95': 0.1,\n",
       "   'lower_90': 0.2,\n",
       "   'lower_80': 0.3,\n",
       "   'lower_50': 0.4,\n",
       "   'pred': 1.0,\n",
       "   'upper_50': 1.1,\n",
       "   'upper_80': 1.2,\n",
       "   'upper_90': 1.3,\n",
       "   'upper_95': 1.4}]}"
      ]
     },
     "execution_count": 15,
     "metadata": {},
     "output_type": "execute_result"
    }
   ],
   "source": [
    "from mosqlient import upload_prediction\n",
    "\n",
    "model_id = model.id\n",
    "description = \"test client prediction test client prediction test client prediction\"\n",
    "commit = \"553f9072811f486631ef2ef1b8cce9b0b93fdd0d\"\n",
    "predict_date = \"2024-01-01\"\n",
    "adm_1 = \"RJ\"\n",
    "prediction = [\n",
    "    {\n",
    "        \"date\": \"2024-01-01\",\n",
    "        \"lower_95\": 0.1,\n",
    "        \"lower_90\": 0.2,\n",
    "        \"lower_80\": 0.3,\n",
    "        \"lower_50\": 0.4,\n",
    "        \"pred\": 1,\n",
    "        \"upper_50\": 1.1,\n",
    "        \"upper_80\": 1.2,\n",
    "        \"upper_90\": 1.3,\n",
    "        \"upper_95\": 1.4,\n",
    "    }\n",
    "]\n",
    "\n",
    "predict_json = upload_prediction(\n",
    "    api_key=api_key,\n",
    "    model_id=model_id,\n",
    "    description=description,\n",
    "    commit=commit,\n",
    "    predict_date=predict_date,\n",
    "    adm_1=adm_1,\n",
    "    prediction=prediction\n",
    ")\n",
    "predict_json.dict()"
   ]
  },
  {
   "cell_type": "markdown",
   "id": "2d9ce405-a823-4dcc-97d2-ccc35123dc6f",
   "metadata": {},
   "source": [
    "---"
   ]
  },
  {
   "cell_type": "code",
   "execution_count": 16,
   "id": "c7dcaf4d",
   "metadata": {},
   "outputs": [
    {
     "data": {
      "text/plain": [
       "{'id': 856,\n",
       " 'model': {'id': 62,\n",
       "  'name': 'client test',\n",
       "  'description': 'test model test model test model test model test model test model',\n",
       "  'author': {'user': {'name': 'Eduardo Correa Araujo',\n",
       "    'username': 'eduardocorrearaujo'},\n",
       "   'institution': None},\n",
       "  'repository': 'https://github.com/Mosqlimate-project/Data-platform/',\n",
       "  'implementation_language': {'language': 'Python'},\n",
       "  'disease': 'dengue',\n",
       "  'categorical': False,\n",
       "  'spatial': True,\n",
       "  'temporal': True,\n",
       "  'ADM_level': 1,\n",
       "  'time_resolution': 'day',\n",
       "  'sprint': False},\n",
       " 'description': 'test client prediction test client prediction test client prediction',\n",
       " 'commit': '553f9072811f486631ef2ef1b8cce9b0b93fdd0d',\n",
       " 'predict_date': '2024-01-01',\n",
       " 'adm_0': 'BRA',\n",
       " 'adm_1': None,\n",
       " 'adm_2': None,\n",
       " 'adm_3': None,\n",
       " 'data': [{'date': datetime.date(2024, 10, 6),\n",
       "   'lower_95': 71.0,\n",
       "   'lower_90': 86.0,\n",
       "   'lower_80': 106.0,\n",
       "   'lower_50': 145.0,\n",
       "   'pred': 212.5,\n",
       "   'upper_50': 329.0,\n",
       "   'upper_80': 511.0,\n",
       "   'upper_90': 657.0,\n",
       "   'upper_95': 849.0},\n",
       "  {'date': datetime.date(2024, 10, 13),\n",
       "   'lower_95': 65.0,\n",
       "   'lower_90': 77.0,\n",
       "   'lower_80': 96.0,\n",
       "   'lower_50': 138.0,\n",
       "   'pred': 203.0,\n",
       "   'upper_50': 314.0,\n",
       "   'upper_80': 468.0,\n",
       "   'upper_90': 602.0,\n",
       "   'upper_95': 761.0}]}"
      ]
     },
     "execution_count": 16,
     "metadata": {},
     "output_type": "execute_result"
    }
   ],
   "source": [
    "import pandas as pd\n",
    "df_pred  = pd.DataFrame()\n",
    "df_pred['date'] = ['2024-10-06','2024-10-13']\n",
    "df_pred['lower_95'] = [71,65]\n",
    "df_pred['lower_90'] = [86,77]\n",
    "df_pred['lower_80'] = [106,96]\n",
    "df_pred['lower_50'] = [145,138]\n",
    "df_pred['pred'] = [212.5, 203]\n",
    "df_pred['upper_50'] = [329,314]\n",
    "df_pred['upper_80'] = [511,468]\n",
    "df_pred['upper_90'] = [657,602]\n",
    "df_pred['upper_95'] = [849,761]\n",
    "\n",
    "predict_df = upload_prediction(\n",
    "    api_key=api_key,\n",
    "    model_id=model_id,\n",
    "    description=description,\n",
    "    commit=commit,\n",
    "    predict_date=predict_date,\n",
    "    adm_1=adm_1,\n",
    "    prediction=df_pred\n",
    ")\n",
    "predict_df.dict()"
   ]
  },
  {
   "cell_type": "markdown",
   "id": "426b1680-fc69-4156-977e-e15f7b0c3a77",
   "metadata": {},
   "source": [
    "### [DELETE](https://api.mosqlimate.org/docs/overview/#delete_apiregistrypredictionspredict_id)\n",
    "\n",
    "The cell below contains the code to delete a model you registered on the platform:"
   ]
  },
  {
   "cell_type": "code",
   "execution_count": 17,
   "id": "ef129762-032e-4ba6-8f3f-d7a99723129e",
   "metadata": {},
   "outputs": [
    {
     "data": {
      "text/plain": [
       "<Response [200]>"
      ]
     },
     "execution_count": 17,
     "metadata": {},
     "output_type": "execute_result"
    }
   ],
   "source": [
    "from mosqlient import delete_prediction\n",
    "\n",
    "delete_prediction(api_key=api_key, prediction_id=predict_json.id)\n",
    "delete_prediction(api_key=api_key, prediction_id=predict_df.id)"
   ]
  },
  {
   "cell_type": "code",
   "execution_count": 18,
   "id": "9d197328",
   "metadata": {},
   "outputs": [
    {
     "data": {
      "text/plain": [
       "<Response [200]>"
      ]
     },
     "execution_count": 18,
     "metadata": {},
     "output_type": "execute_result"
    }
   ],
   "source": [
    "delete_model(api_key=api_key, model_id=model.id)"
   ]
  }
 ],
 "metadata": {
  "kernelspec": {
   "display_name": "mosqlient",
   "language": "python",
   "name": "python3"
  },
  "language_info": {
   "codemirror_mode": {
    "name": "ipython",
    "version": 3
   },
   "file_extension": ".py",
   "mimetype": "text/x-python",
   "name": "python",
   "nbconvert_exporter": "python",
   "pygments_lexer": "ipython3",
   "version": "3.12.0"
  }
 },
 "nbformat": 4,
 "nbformat_minor": 5
}
