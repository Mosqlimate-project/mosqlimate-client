{
 "cells": [
  {
   "cell_type": "code",
   "execution_count": 1,
   "id": "6a745b87-970d-422f-87b6-ea07bbf44441",
   "metadata": {},
   "outputs": [
    {
     "data": {
      "text/plain": [
       "True"
      ]
     },
     "execution_count": 1,
     "metadata": {},
     "output_type": "execute_result"
    }
   ],
   "source": [
    "import os\n",
    "from dotenv import load_dotenv\n",
    "load_dotenv()"
   ]
  },
  {
   "cell_type": "markdown",
   "id": "776716d4-389e-4ae3-858b-8fb41607187c",
   "metadata": {},
   "source": [
    "## [/api/registry/authors/](https://api.mosqlimate.org/docs/overview/#get_apiregistryauthors)"
   ]
  },
  {
   "cell_type": "markdown",
   "id": "b932f876-b804-4bbe-b697-2e11a8388a75",
   "metadata": {},
   "source": [
    "### GET"
   ]
  },
  {
   "cell_type": "code",
   "execution_count": null,
   "id": "33bdb80d-ab01-4712-98d6-86413d577581",
   "metadata": {},
   "outputs": [],
   "source": [
    "from mosqlient import "
   ]
  },
  {
   "cell_type": "markdown",
   "id": "c3c814aa-ed7c-4689-9516-923c30fb3cf0",
   "metadata": {},
   "source": [
    "## [/api/registry/models/](https://api.mosqlimate.org/docs/overview/#get_apiregistrymodels)"
   ]
  },
  {
   "cell_type": "markdown",
   "id": "c98e7f04-f9d7-4324-b51a-b8e8e57adb7c",
   "metadata": {},
   "source": [
    "### GET"
   ]
  },
  {
   "cell_type": "markdown",
   "id": "15aa5e92-81fa-43b3-85ab-598e022ef2fb",
   "metadata": {},
   "source": [
    "### POST"
   ]
  },
  {
   "cell_type": "markdown",
   "id": "4cd3e404-5877-46d0-bd25-0a3e229ee6ec",
   "metadata": {},
   "source": [
    "### PUT"
   ]
  },
  {
   "cell_type": "markdown",
   "id": "76f63819-3aa3-4c7e-acc4-b3dfcd355091",
   "metadata": {},
   "source": [
    "### DELETE"
   ]
  },
  {
   "cell_type": "markdown",
   "id": "d9bd2d31-d655-4984-8869-5db7f6d00915",
   "metadata": {},
   "source": [
    "## [/api/registry/predictions/](https://api.mosqlimate.org/docs/overview/#get_apiregistrypredictions)"
   ]
  },
  {
   "cell_type": "markdown",
   "id": "c63ed31f-8a86-4792-86f5-decebebca956",
   "metadata": {},
   "source": [
    "### GET"
   ]
  },
  {
   "cell_type": "markdown",
   "id": "425b2a8e-7c80-4fb4-a412-e16699480a2a",
   "metadata": {},
   "source": [
    "### POST"
   ]
  },
  {
   "cell_type": "markdown",
   "id": "426b1680-fc69-4156-977e-e15f7b0c3a77",
   "metadata": {},
   "source": [
    "### DELETE"
   ]
  },
  {
   "cell_type": "code",
   "execution_count": null,
   "id": "05fc5d93-8e21-4d13-8dea-2f6ae047b250",
   "metadata": {},
   "outputs": [],
   "source": []
  }
 ],
 "metadata": {
  "kernelspec": {
   "display_name": "Python 3 (ipykernel)",
   "language": "python",
   "name": "python3"
  },
  "language_info": {
   "codemirror_mode": {
    "name": "ipython",
    "version": 3
   },
   "file_extension": ".py",
   "mimetype": "text/x-python",
   "name": "python",
   "nbconvert_exporter": "python",
   "pygments_lexer": "ipython3",
   "version": "3.12.3"
  }
 },
 "nbformat": 4,
 "nbformat_minor": 5
}
