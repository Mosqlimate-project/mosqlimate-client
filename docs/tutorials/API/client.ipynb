{
 "cells": [
  {
   "cell_type": "code",
   "execution_count": 1,
   "id": "8aa5e674-ea51-4eba-bb9d-6340c7edcd81",
   "metadata": {},
   "outputs": [
    {
     "data": {
      "text/plain": [
       "True"
      ]
     },
     "execution_count": 1,
     "metadata": {},
     "output_type": "execute_result"
    }
   ],
   "source": [
    "import os\n",
    "from dotenv import load_dotenv\n",
    "load_dotenv()"
   ]
  },
  {
   "cell_type": "code",
   "execution_count": 2,
   "id": "48812910-6753-41f8-bfe3-2929c20b413e",
   "metadata": {},
   "outputs": [],
   "source": [
    "from mosqlient import Mosqlient\n",
    "from mosqlient.registry.models import Author"
   ]
  },
  {
   "cell_type": "code",
   "execution_count": 3,
   "id": "249418d1-0c38-4143-a51b-8378e714bcac",
   "metadata": {},
   "outputs": [],
   "source": [
    "client = Mosqlient(os.getenv(\"API_KEY\"))"
   ]
  },
  {
   "cell_type": "code",
   "execution_count": 4,
   "id": "7fc05272-1772-4d0c-a500-dadc8215bb67",
   "metadata": {},
   "outputs": [],
   "source": [
    "authors = Author.params(\"get\")"
   ]
  },
  {
   "cell_type": "code",
   "execution_count": 5,
   "id": "77618a71-e77f-4cc6-8725-f37297ab720e",
   "metadata": {},
   "outputs": [
    {
     "name": "stderr",
     "output_type": "stream",
     "text": [
      "100%|██████████████████████████████████████████████████████████████████████████████████████████████████████████████████████████████████████████████████████████████████████████████████| 1/1 [00:00<00:00,  2.16it/s]\n"
     ]
    },
    {
     "data": {
      "text/plain": [
       "[{'user': {'name': 'Haridas Kumar Das', 'username': 'haridas-das'},\n",
       "  'institution': 'Oklahoma State University'},\n",
       " {'user': {'name': 'Marcio Maciel Bastos', 'username': 'marciomacielbastos'},\n",
       "  'institution': None},\n",
       " {'user': {'name': 'ChenXiang', 'username': 'ChenXiang1998'},\n",
       "  'institution': None},\n",
       " {'user': {'name': '', 'username': 'giovemoiran'}, 'institution': None},\n",
       " {'user': {'name': 'Raúl Capellán', 'username': 'RCapellan'},\n",
       "  'institution': None},\n",
       " {'user': {'name': 'Leo Bastos', 'username': 'lsbastos'}, 'institution': None},\n",
       " {'user': {'name': 'Eduardo Correa Araujo', 'username': 'eduardocorrearaujo'},\n",
       "  'institution': None},\n",
       " {'user': {'name': 'Flávio Codeço Coelho', 'username': 'fccoelho'},\n",
       "  'institution': None}]"
      ]
     },
     "execution_count": 5,
     "metadata": {},
     "output_type": "execute_result"
    }
   ],
   "source": [
    "client.get(authors())"
   ]
  },
  {
   "cell_type": "code",
   "execution_count": 6,
   "id": "f0589c98-1a7d-46ac-94cf-b7535188f206",
   "metadata": {},
   "outputs": [
    {
     "name": "stderr",
     "output_type": "stream",
     "text": [
      "100%|██████████████████████████████████████████████████████████████████████████████████████████████████████████████████████████████████████████████████████████████████████████████████| 1/1 [00:00<00:00,  2.15it/s]\n"
     ]
    },
    {
     "data": {
      "text/plain": [
       "[{'user': {'name': 'Flávio Codeço Coelho', 'username': 'fccoelho'},\n",
       "  'institution': None}]"
      ]
     },
     "execution_count": 6,
     "metadata": {},
     "output_type": "execute_result"
    }
   ],
   "source": [
    "client.get(authors(username=\"fccoelho\"))"
   ]
  },
  {
   "cell_type": "code",
   "execution_count": null,
   "id": "d2115c80-8db6-41c2-95b9-fa567f21bf89",
   "metadata": {},
   "outputs": [],
   "source": []
  }
 ],
 "metadata": {
  "kernelspec": {
   "display_name": "Python 3 (ipykernel)",
   "language": "python",
   "name": "python3"
  },
  "language_info": {
   "codemirror_mode": {
    "name": "ipython",
    "version": 3
   },
   "file_extension": ".py",
   "mimetype": "text/x-python",
   "name": "python",
   "nbconvert_exporter": "python",
   "pygments_lexer": "ipython3",
   "version": "3.12.3"
  }
 },
 "nbformat": 4,
 "nbformat_minor": 5
}
