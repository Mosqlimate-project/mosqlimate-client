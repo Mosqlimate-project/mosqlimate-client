{
 "cells": [
  {
   "cell_type": "code",
   "execution_count": 9,
   "id": "8aa5e674-ea51-4eba-bb9d-6340c7edcd81",
   "metadata": {},
   "outputs": [
    {
     "data": {
      "text/plain": [
       "True"
      ]
     },
     "execution_count": 9,
     "metadata": {},
     "output_type": "execute_result"
    }
   ],
   "source": [
    "import os\n",
    "from dotenv import load_dotenv\n",
    "load_dotenv()"
   ]
  },
  {
   "cell_type": "code",
   "execution_count": 10,
   "id": "48812910-6753-41f8-bfe3-2929c20b413e",
   "metadata": {},
   "outputs": [],
   "source": [
    "from mosqlient import Mosqlient\n",
    "from mosqlient.registry.models import Author, Model"
   ]
  },
  {
   "cell_type": "code",
   "execution_count": 14,
   "id": "249418d1-0c38-4143-a51b-8378e714bcac",
   "metadata": {},
   "outputs": [
    {
     "data": {
      "text/plain": [
       "defaultdict(dict,\n",
       "            {'registry': {'authors': ['get'],\n",
       "              'authors/{username}': ['get'],\n",
       "              'models': ['get', 'post'],\n",
       "              'models/{model_id}': ['get', 'delete'],\n",
       "              'predictions': ['get', 'post'],\n",
       "              'predictions/{predict_id}': ['get', 'delete']},\n",
       "             'datastore': {'infodengue': ['get'],\n",
       "              'climate': ['get'],\n",
       "              'climate/weekly': ['get'],\n",
       "              'mosquito': ['get'],\n",
       "              'episcanner': ['get']},\n",
       "             'vis': {'results-prob-forecast': ['post']}})"
      ]
     },
     "execution_count": 14,
     "metadata": {},
     "output_type": "execute_result"
    }
   ],
   "source": [
    "client = Mosqlient(os.getenv(\"API_KEY\"))\n",
    "client.endpoints"
   ]
  },
  {
   "cell_type": "code",
   "execution_count": 5,
   "id": "7fc05272-1772-4d0c-a500-dadc8215bb67",
   "metadata": {},
   "outputs": [],
   "source": [
    "authors = Author.params(\"get\")\n",
    "models = Model.params(\"get\")"
   ]
  },
  {
   "cell_type": "code",
   "execution_count": 5,
   "id": "77618a71-e77f-4cc6-8725-f37297ab720e",
   "metadata": {},
   "outputs": [
    {
     "name": "stderr",
     "output_type": "stream",
     "text": [
      "100%|████████████████████████████████████████████████████████████████████████████████████████████████████████████████████████████████████████████████████████████████████████████| 1/1 [00:00<00:00,  2.17requests/s]\n"
     ]
    },
    {
     "data": {
      "text/plain": [
       "[{'user': {'name': 'Haridas Kumar Das', 'username': 'haridas-das'},\n",
       "  'institution': 'Oklahoma State University'},\n",
       " {'user': {'name': 'Marcio Maciel Bastos', 'username': 'marciomacielbastos'},\n",
       "  'institution': None},\n",
       " {'user': {'name': 'ChenXiang', 'username': 'ChenXiang1998'},\n",
       "  'institution': None},\n",
       " {'user': {'name': '', 'username': 'giovemoiran'}, 'institution': None},\n",
       " {'user': {'name': 'Raúl Capellán', 'username': 'RCapellan'},\n",
       "  'institution': None},\n",
       " {'user': {'name': 'Leo Bastos', 'username': 'lsbastos'}, 'institution': None},\n",
       " {'user': {'name': 'Eduardo Correa Araujo', 'username': 'eduardocorrearaujo'},\n",
       "  'institution': None},\n",
       " {'user': {'name': 'Flávio Codeço Coelho', 'username': 'fccoelho'},\n",
       "  'institution': None}]"
      ]
     },
     "execution_count": 5,
     "metadata": {},
     "output_type": "execute_result"
    }
   ],
   "source": [
    "client.get(authors())"
   ]
  },
  {
   "cell_type": "code",
   "execution_count": 6,
   "id": "f0589c98-1a7d-46ac-94cf-b7535188f206",
   "metadata": {},
   "outputs": [
    {
     "name": "stderr",
     "output_type": "stream",
     "text": [
      "100%|████████████████████████████████████████████████████████████████████████████████████████████████████████████████████████████████████████████████████████████████████████████| 1/1 [00:00<00:00,  2.16requests/s]\n"
     ]
    },
    {
     "data": {
      "text/plain": [
       "[{'user': {'name': 'Flávio Codeço Coelho', 'username': 'fccoelho'},\n",
       "  'institution': None}]"
      ]
     },
     "execution_count": 6,
     "metadata": {},
     "output_type": "execute_result"
    }
   ],
   "source": [
    "client.get(authors(username=\"fccoelho\"))"
   ]
  },
  {
   "cell_type": "code",
   "execution_count": 8,
   "id": "153f0df3-d804-4166-95c7-057fb9b5feda",
   "metadata": {},
   "outputs": [
    {
     "name": "stderr",
     "output_type": "stream",
     "text": [
      "\u001b[32m2025-04-01 10:45:30.051\u001b[0m | \u001b[33m\u001b[1mWARNING \u001b[0m | \u001b[36mmosqlient.client\u001b[0m:\u001b[36mget\u001b[0m:\u001b[36m77\u001b[0m - \u001b[33m\u001b[1mIncorrect page, displaying page 9\u001b[0m\n"
     ]
    },
    {
     "data": {
      "text/plain": [
       "[{'id': 10,\n",
       "  'name': 'LSTM model',\n",
       "  'description': \"In this repo, it's implemented a LSTM model that \\nforecast the cases in the next four weeks and it used to gen probabilist forecasts according to a MEM baseline.\\n\",\n",
       "  'author': {'user': {'name': 'Eduardo Correa Araujo',\n",
       "    'username': 'eduardocorrearaujo'},\n",
       "   'institution': None},\n",
       "  'repository': 'https://github.com/Mosqlimate-project/probabilistic_forecast',\n",
       "  'implementation_language': {'language': 'Python'},\n",
       "  'disease': 'dengue',\n",
       "  'categorical': False,\n",
       "  'spatial': False,\n",
       "  'temporal': True,\n",
       "  'ADM_level': 2,\n",
       "  'time_resolution': 'week',\n",
       "  'sprint': False}]"
      ]
     },
     "execution_count": 8,
     "metadata": {},
     "output_type": "execute_result"
    }
   ],
   "source": [
    "client.get(models(page=11231, per_page=1))"
   ]
  },
  {
   "cell_type": "code",
   "execution_count": null,
   "id": "f10ae7df-a572-4664-9acd-58277e967e33",
   "metadata": {},
   "outputs": [],
   "source": []
  }
 ],
 "metadata": {
  "kernelspec": {
   "display_name": "Python 3 (ipykernel)",
   "language": "python",
   "name": "python3"
  },
  "language_info": {
   "codemirror_mode": {
    "name": "ipython",
    "version": 3
   },
   "file_extension": ".py",
   "mimetype": "text/x-python",
   "name": "python",
   "nbconvert_exporter": "python",
   "pygments_lexer": "ipython3",
   "version": "3.12.3"
  }
 },
 "nbformat": 4,
 "nbformat_minor": 5
}
