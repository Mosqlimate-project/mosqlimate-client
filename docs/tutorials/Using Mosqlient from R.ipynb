{
 "cells": [
  {
   "cell_type": "markdown",
   "id": "d73a3f46-3cb3-4e59-9a2d-c04272a50965",
   "metadata": {},
   "source": [
    " # Using Mosqlient from R\n",
    "[📥 Download Notebook](https://github.com/Mosqlimate-project/mosqlimate-client/blob/main/docs/tutorials/Using%20Mosqlient%20from%20R.ipynb)\n",
    "\n",
    "This is an R notebook that demonstrates how to use the Mosqlient package to interact with the Mosqlimate platform and API.\n",
    "\n",
    "## Installation\n",
    "Make sure you have the R kernel installed in your Jupyter notebook. If not, you can install it by running the following command in your R terminal:\n",
    "    \n",
    "```R\n",
    "> install.packages(\"IRkernel\")\n",
    "> IRkernel::installspec()\n",
    "```\n",
    "In you local computer make sure you have Python installed.\n",
    "\n",
    "Install the reticulate package in R:\n",
    "```R\n",
    "install.packages('pak')\n",
    "library(pak)\n",
    "pak::pak(\"rstudio/reticulate\")\n",
    "\n",
    "```\n",
    "Now you are ready to install the mosqlient package within R. \n",
    "   \n",
    "To get started, you will need to use the package reticulate to load the mosqlient python package:"
   ]
  },
  {
   "cell_type": "code",
   "execution_count": 1,
   "id": "83b604a3-805b-46db-9fe7-cf0c979f4617",
   "metadata": {
    "jupyter": {
     "is_executing": true
    },
    "vscode": {
     "languageId": "r"
    }
   },
   "outputs": [],
   "source": [
    "library(reticulate)"
   ]
  },
  {
   "cell_type": "markdown",
   "id": "7f470501-5a35-423d-8f4f-299aba04f9f9",
   "metadata": {},
   "source": [
    "Then, you can install `mosqlient` from within R like this:"
   ]
  },
  {
   "cell_type": "code",
   "execution_count": null,
   "id": "5e1d3428-43cf-4d55-8104-88f2d288290e",
   "metadata": {
    "vscode": {
     "languageId": "r"
    }
   },
   "outputs": [
    {
     "name": "stdout",
     "output_type": "stream",
     "text": [
      "Using virtual environment 'r_mosq' ...\n"
     ]
    },
    {
     "name": "stderr",
     "output_type": "stream",
     "text": [
      "+ /Users/eduardoaraujo/.virtualenvs/r_mosq/bin/python -m pip install --upgrade --no-user 'mosqlient==1.9.2'\n",
      "\n"
     ]
    }
   ],
   "source": [
    "py_install(\"mosqlient\")"
   ]
  },
  {
   "cell_type": "markdown",
   "id": "e6dea22c-0bfa-491f-9aaf-cbfcf65f7586",
   "metadata": {},
   "source": [
    "Once you are sure to have `mosqlient` installed and the virtualenv installed, using one of the options above, you ca go ahead and \"import\" the `mosqlient` package. "
   ]
  },
  {
   "cell_type": "code",
   "execution_count": 4,
   "id": "ebc65ddd-27a8-43b0-9a5d-8a20ea74a79a",
   "metadata": {
    "vscode": {
     "languageId": "r"
    }
   },
   "outputs": [],
   "source": [
    "mosq <- import(\"mosqlient\")"
   ]
  },
  {
   "cell_type": "code",
   "execution_count": 5,
   "id": "d52c4988-49cb-4524-a879-448334151d95",
   "metadata": {
    "vscode": {
     "languageId": "r"
    }
   },
   "outputs": [
    {
     "data": {
      "text/html": [
       "'1.9.2'"
      ],
      "text/latex": [
       "'1.9.2'"
      ],
      "text/markdown": [
       "'1.9.2'"
      ],
      "text/plain": [
       "[1] \"1.9.2\""
      ]
     },
     "metadata": {},
     "output_type": "display_data"
    }
   ],
   "source": [
    "# checking it works. Showing the current version\n",
    "mosq$version"
   ]
  },
  {
   "cell_type": "markdown",
   "id": "f65315ea",
   "metadata": {
    "vscode": {
     "languageId": "r"
    }
   },
   "source": [
    "If your version is below 1.9.2, start by creating a virtual environment and verifying the Python version in use. Make sure it falls between versions 3.10 and 3.12. If necessary, you can specify the path to your Python installation using the `python` parameter:\n",
    "```\n",
    "virtualenv_create(\"r_mosq\", python = \"/opt/homebrew/opt/python@3.12\")`\n",
    "\n",
    "use_virtualenv(\"r_mosq\", required = TRUE)\n",
    "\n",
    "py_config()\n",
    "``` "
   ]
  },
  {
   "cell_type": "markdown",
   "id": "7ef90da2-6fe1-4870-bc5f-2c6c9b7ceefb",
   "metadata": {},
   "source": [
    "Load your `API_KEY`. If it's stored in a `.env` file, you can use the `dotenv` package to load it. Be sure to specify the path to the `.env` file using the `file` parameter."
   ]
  },
  {
   "cell_type": "code",
   "execution_count": 6,
   "id": "94b86681-f483-4b46-a516-5ed8df0480d4",
   "metadata": {
    "vscode": {
     "languageId": "plaintext"
    }
   },
   "outputs": [
    {
     "name": "stdout",
     "output_type": "stream",
     "text": [
      "\n",
      "The downloaded binary packages are in\n",
      "\t/var/folders/ch/kxpr39wx44v97968yr_4hmch0000gn/T//RtmpVC7wWR/downloaded_packages\n"
     ]
    }
   ],
   "source": [
    "install.packages('dotenv')"
   ]
  },
  {
   "cell_type": "code",
   "execution_count": null,
   "id": "84198f16-2df4-4e4e-aeab-4d41cd48cdfb",
   "metadata": {
    "vscode": {
     "languageId": "r"
    }
   },
   "outputs": [
    {
     "name": "stderr",
     "output_type": "stream",
     "text": [
      "Warning message:\n",
      "“package ‘dotenv’ was built under R version 4.3.3”\n"
     ]
    }
   ],
   "source": [
    "library(dotenv)\n",
    "\n",
    "# Load .env file (must be in working directory or specify the path)\n",
    "load_dot_env(file = file.path(Sys.getenv(\"GITHUB_WORKSPACE\"), \".env\"))\n",
    "\n",
    "# Get the API key\n",
    "api_key <- Sys.getenv(\"API_KEY\")"
   ]
  },
  {
   "cell_type": "markdown",
   "id": "5cfcd5fa-d3e7-42ea-81ef-3ca9224ee62e",
   "metadata": {},
   "source": [
    "\n",
    "\n",
    "## Using Mosqlient\n",
    "let's start by checking a list of the models registered in the platform"
   ]
  },
  {
   "cell_type": "code",
   "execution_count": 8,
   "id": "a89ac5a1-4c0e-4d72-81f6-00b28829579e",
   "metadata": {
    "vscode": {
     "languageId": "r"
    }
   },
   "outputs": [
    {
     "data": {
      "text/plain": [
       "[[1]]\n",
       "2025 sprint test - Prophet DF\n",
       "\n",
       "[[2]]\n",
       "2025 sprint test - Prophet \n",
       "\n",
       "[[3]]\n",
       "2025 sprint test \n",
       "\n",
       "[[4]]\n",
       "Example of Univariate neural prophet model\n",
       "\n",
       "[[5]]\n",
       "My Nowcasting Model\n",
       "\n",
       "[[6]]\n",
       "infodengue_sprint_24_25_hybrid_CNN_LSTM_ensemble_model\n",
       "\n",
       "[[7]]\n",
       "Model 2 - Weekly and yearly (rw1) components\n",
       "\n",
       "[[8]]\n",
       "Model 1 - Weekly and yearly (iid) components\n",
       "\n",
       "[[9]]\n",
       "BB-M\n",
       "\n",
       "[[10]]\n",
       "Temp-SPI Interaction Model\n",
       "\n",
       "[[11]]\n",
       "LSTM model with PCA and vaiance threshold\n",
       "\n",
       "[[12]]\n",
       "Prophet model with PCA and vaiance threshold\n",
       "\n",
       "[[13]]\n",
       "LSTM model for Infodengue Sprint\n",
       "\n",
       "[[14]]\n",
       "Univariate neural prophet model\n",
       "\n",
       "[[15]]\n",
       "Deep learning model using BI-LSTM Layers\n",
       "\n",
       "[[16]]\n",
       "Random Forest model with uncertainty computed with conformal prediction\n",
       "\n",
       "[[17]]\n",
       "Baseline weekly model\n",
       "\n",
       "[[18]]\n",
       "autoarima\n",
       "\n",
       "[[19]]\n",
       "autoarima\n",
       "\n",
       "[[20]]\n",
       "test model\n",
       "\n",
       "[[21]]\n",
       "LSTM model\n"
      ]
     },
     "metadata": {},
     "output_type": "display_data"
    }
   ],
   "source": [
    "model_list <- mosq$get_all_models(api_key=api_key)\n",
    "model_list"
   ]
  },
  {
   "cell_type": "markdown",
   "id": "b545b5ac-61a2-4811-9d15-f1a51674c669",
   "metadata": {},
   "source": [
    "## Fetching data from the Mosqlimate datastore\n",
    "We can use the Mosqlient library to fetch data from Mosqlimate. Let's start fetching some data from the infodengue project."
   ]
  },
  {
   "cell_type": "code",
   "execution_count": 9,
   "id": "d6d58fe7-b66b-45ea-942c-585f047ea778",
   "metadata": {
    "vscode": {
     "languageId": "r"
    }
   },
   "outputs": [
    {
     "data": {
      "text/html": [
       "<table class=\"dataframe\">\n",
       "<caption>A data.frame: 460 × 30</caption>\n",
       "<thead>\n",
       "\t<tr><th scope=col>data_iniSE</th><th scope=col>SE</th><th scope=col>casos_est</th><th scope=col>casos_est_min</th><th scope=col>casos_est_max</th><th scope=col>casos</th><th scope=col>municipio_geocodigo</th><th scope=col>p_rt1</th><th scope=col>p_inc100k</th><th scope=col>Localidade_id</th><th scope=col>⋯</th><th scope=col>nivel_inc</th><th scope=col>umidmed</th><th scope=col>umidmin</th><th scope=col>tempmed</th><th scope=col>tempmax</th><th scope=col>casprov</th><th scope=col>casprov_est</th><th scope=col>casprov_est_min</th><th scope=col>casprov_est_max</th><th scope=col>casconf</th></tr>\n",
       "\t<tr><th scope=col>&lt;chr&gt;</th><th scope=col>&lt;dbl&gt;</th><th scope=col>&lt;dbl&gt;</th><th scope=col>&lt;dbl&gt;</th><th scope=col>&lt;dbl&gt;</th><th scope=col>&lt;dbl&gt;</th><th scope=col>&lt;dbl&gt;</th><th scope=col>&lt;dbl&gt;</th><th scope=col>&lt;dbl&gt;</th><th scope=col>&lt;dbl&gt;</th><th scope=col>⋯</th><th scope=col>&lt;dbl&gt;</th><th scope=col>&lt;dbl&gt;</th><th scope=col>&lt;dbl&gt;</th><th scope=col>&lt;dbl&gt;</th><th scope=col>&lt;dbl&gt;</th><th scope=col>&lt;dbl&gt;</th><th scope=col>&lt;chr&gt;</th><th scope=col>&lt;chr&gt;</th><th scope=col>&lt;chr&gt;</th><th scope=col>&lt;chr&gt;</th></tr>\n",
       "</thead>\n",
       "<tbody>\n",
       "\t<tr><td>2023-12-31</td><td>202401</td><td> 11</td><td> 11</td><td> 11</td><td> 11</td><td>3301207</td><td>0.9261000</td><td> 64.143684</td><td>0</td><td>⋯</td><td>1</td><td>86.31443</td><td>74.81649</td><td>22.08231</td><td>24.50814</td><td>  5</td><td>NA</td><td>NA</td><td>NA</td><td>NA</td></tr>\n",
       "\t<tr><td>2023-12-31</td><td>202401</td><td>  5</td><td>  5</td><td>  5</td><td>  5</td><td>3305752</td><td>0.9957709</td><td> 16.041580</td><td>0</td><td>⋯</td><td>1</td><td>83.27701</td><td>73.67101</td><td>23.64674</td><td>25.60710</td><td>  1</td><td>NA</td><td>NA</td><td>NA</td><td>NA</td></tr>\n",
       "\t<tr><td>2023-12-31</td><td>202401</td><td> 12</td><td> 12</td><td> 12</td><td> 12</td><td>3301801</td><td>0.9804760</td><td>101.505670</td><td>0</td><td>⋯</td><td>2</td><td>84.59954</td><td>72.56147</td><td>22.40403</td><td>24.94773</td><td>  3</td><td>NA</td><td>NA</td><td>NA</td><td>NA</td></tr>\n",
       "\t<tr><td>2023-12-31</td><td>202401</td><td> 19</td><td> 19</td><td> 19</td><td> 19</td><td>3301850</td><td>0.9841978</td><td> 37.691680</td><td>0</td><td>⋯</td><td>2</td><td>86.38757</td><td>75.17570</td><td>23.18124</td><td>25.59660</td><td> 10</td><td>NA</td><td>NA</td><td>NA</td><td>NA</td></tr>\n",
       "\t<tr><td>2023-12-31</td><td>202401</td><td> 13</td><td> 13</td><td> 13</td><td> 13</td><td>3303005</td><td>0.9517184</td><td> 48.791473</td><td>0</td><td>⋯</td><td>1</td><td>85.84879</td><td>74.12201</td><td>23.23376</td><td>25.43500</td><td>  5</td><td>NA</td><td>NA</td><td>NA</td><td>NA</td></tr>\n",
       "\t<tr><td>2023-12-31</td><td>202401</td><td>  9</td><td>  9</td><td>  9</td><td>  9</td><td>3303955</td><td>0.6903663</td><td> 36.655400</td><td>0</td><td>⋯</td><td>1</td><td>84.15786</td><td>72.26394</td><td>22.64483</td><td>25.40886</td><td>  4</td><td>NA</td><td>NA</td><td>NA</td><td>NA</td></tr>\n",
       "\t<tr><td>2023-12-31</td><td>202401</td><td> 28</td><td> 28</td><td> 28</td><td> 28</td><td>3304110</td><td>0.9985263</td><td>137.423310</td><td>0</td><td>⋯</td><td>2</td><td>85.58869</td><td>73.05383</td><td>21.88330</td><td>24.87064</td><td>  8</td><td>NA</td><td>NA</td><td>NA</td><td>NA</td></tr>\n",
       "\t<tr><td>2023-12-31</td><td>202401</td><td> 30</td><td> 30</td><td> 30</td><td> 30</td><td>3305505</td><td>0.9995135</td><td> 33.800910</td><td>0</td><td>⋯</td><td>1</td><td>82.67047</td><td>75.28619</td><td>24.29591</td><td>25.77090</td><td>  9</td><td>NA</td><td>NA</td><td>NA</td><td>NA</td></tr>\n",
       "\t<tr><td>2023-12-31</td><td>202401</td><td>  3</td><td>  3</td><td>  3</td><td>  3</td><td>3300225</td><td>0.9421743</td><td> 25.499363</td><td>0</td><td>⋯</td><td>0</td><td>88.34176</td><td>77.60486</td><td>21.04411</td><td>23.62354</td><td>  3</td><td>NA</td><td>NA</td><td>NA</td><td>NA</td></tr>\n",
       "\t<tr><td>2023-12-31</td><td>202401</td><td>  5</td><td>  5</td><td>  5</td><td>  5</td><td>3304409</td><td>0.9895125</td><td> 26.962898</td><td>0</td><td>⋯</td><td>0</td><td>83.70591</td><td>73.09774</td><td>22.03871</td><td>24.56499</td><td>  2</td><td>NA</td><td>NA</td><td>NA</td><td>NA</td></tr>\n",
       "\t<tr><td>2023-12-31</td><td>202401</td><td>243</td><td>243</td><td>243</td><td>243</td><td>3304524</td><td>1.0000000</td><td>162.474430</td><td>0</td><td>⋯</td><td>2</td><td>85.32911</td><td>76.09460</td><td>23.98634</td><td>25.63654</td><td>132</td><td>NA</td><td>NA</td><td>NA</td><td>NA</td></tr>\n",
       "\t<tr><td>2023-12-31</td><td>202401</td><td> 32</td><td> 32</td><td> 32</td><td> 32</td><td>3304706</td><td>0.9999996</td><td> 78.297040</td><td>0</td><td>⋯</td><td>2</td><td>85.59579</td><td>73.79844</td><td>23.45407</td><td>25.70076</td><td> 19</td><td>NA</td><td>NA</td><td>NA</td><td>NA</td></tr>\n",
       "\t<tr><td>2023-12-31</td><td>202401</td><td> 26</td><td> 26</td><td> 26</td><td> 26</td><td>3305307</td><td>0.9999860</td><td>337.355650</td><td>0</td><td>⋯</td><td>2</td><td>86.75343</td><td>74.30880</td><td>22.68927</td><td>24.97696</td><td> 26</td><td>NA</td><td>NA</td><td>NA</td><td>NA</td></tr>\n",
       "\t<tr><td>2023-12-31</td><td>202401</td><td>  3</td><td>  3</td><td>  3</td><td>  3</td><td>3303203</td><td>0.9864174</td><td>  1.996260</td><td>0</td><td>⋯</td><td>0</td><td>79.55936</td><td>64.87224</td><td>24.47613</td><td>27.28331</td><td>  3</td><td>NA</td><td>NA</td><td>NA</td><td>NA</td></tr>\n",
       "\t<tr><td>2023-12-31</td><td>202401</td><td> 19</td><td> 19</td><td> 19</td><td> 19</td><td>3306107</td><td>0.9997008</td><td> 26.292482</td><td>0</td><td>⋯</td><td>2</td><td>86.07799</td><td>73.71303</td><td>21.39617</td><td>24.11010</td><td>  5</td><td>NA</td><td>NA</td><td>NA</td><td>NA</td></tr>\n",
       "\t<tr><td>2023-12-31</td><td>202401</td><td> 22</td><td> 22</td><td> 22</td><td> 22</td><td>3300456</td><td>0.9319806</td><td>  4.924664</td><td>0</td><td>⋯</td><td>2</td><td>82.61673</td><td>68.62017</td><td>24.47834</td><td>27.22931</td><td>  5</td><td>NA</td><td>NA</td><td>NA</td><td>NA</td></tr>\n",
       "\t<tr><td>2023-12-31</td><td>202401</td><td>203</td><td>203</td><td>203</td><td>203</td><td>3300100</td><td>1.0000000</td><td>112.013596</td><td>0</td><td>⋯</td><td>2</td><td>85.79797</td><td>76.52670</td><td>21.45544</td><td>23.74159</td><td>153</td><td>NA</td><td>NA</td><td>NA</td><td>NA</td></tr>\n",
       "\t<tr><td>2023-12-31</td><td>202401</td><td>  5</td><td>  5</td><td>  5</td><td>  5</td><td>3302809</td><td>0.9596037</td><td> 28.635244</td><td>0</td><td>⋯</td><td>1</td><td>84.93214</td><td>73.34896</td><td>22.50846</td><td>25.06700</td><td>  1</td><td>NA</td><td>NA</td><td>NA</td><td>NA</td></tr>\n",
       "\t<tr><td>2023-12-31</td><td>202401</td><td>  7</td><td>  7</td><td>  7</td><td>  7</td><td>3300258</td><td>0.9974380</td><td> 22.558815</td><td>0</td><td>⋯</td><td>1</td><td>81.65181</td><td>75.50570</td><td>24.24280</td><td>25.36699</td><td>  3</td><td>NA</td><td>NA</td><td>NA</td><td>NA</td></tr>\n",
       "\t<tr><td>2023-12-31</td><td>202401</td><td> 45</td><td> 45</td><td> 45</td><td> 45</td><td>3301306</td><td>0.9999582</td><td> 98.749176</td><td>0</td><td>⋯</td><td>2</td><td>86.45163</td><td>76.59390</td><td>23.09910</td><td>24.94353</td><td>  6</td><td>NA</td><td>NA</td><td>NA</td><td>NA</td></tr>\n",
       "\t<tr><td>2023-12-31</td><td>202401</td><td> 26</td><td> 26</td><td> 26</td><td> 26</td><td>3300233</td><td>0.9999997</td><td> 66.610306</td><td>0</td><td>⋯</td><td>2</td><td>81.84831</td><td>75.64057</td><td>24.49191</td><td>25.55229</td><td> 24</td><td>NA</td><td>NA</td><td>NA</td><td>NA</td></tr>\n",
       "\t<tr><td>2023-12-31</td><td>202401</td><td> 11</td><td> 11</td><td> 11</td><td> 11</td><td>3303856</td><td>0.9979631</td><td> 37.427696</td><td>0</td><td>⋯</td><td>2</td><td>86.53097</td><td>75.49444</td><td>21.22587</td><td>23.63109</td><td>  9</td><td>NA</td><td>NA</td><td>NA</td><td>NA</td></tr>\n",
       "\t<tr><td>2023-12-31</td><td>202401</td><td> 18</td><td> 18</td><td> 18</td><td> 18</td><td>3300308</td><td>0.9963596</td><td> 19.774788</td><td>0</td><td>⋯</td><td>2</td><td>84.83489</td><td>73.25777</td><td>22.02057</td><td>24.66976</td><td> 10</td><td>NA</td><td>NA</td><td>NA</td><td>NA</td></tr>\n",
       "\t<tr><td>2023-12-31</td><td>202401</td><td> 38</td><td> 38</td><td> 38</td><td> 38</td><td>3302601</td><td>0.9996798</td><td> 97.553460</td><td>0</td><td>⋯</td><td>2</td><td>83.80877</td><td>74.03489</td><td>22.49611</td><td>24.82051</td><td> 14</td><td>NA</td><td>NA</td><td>NA</td><td>NA</td></tr>\n",
       "\t<tr><td>2023-12-31</td><td>202401</td><td> 32</td><td> 32</td><td> 32</td><td> 32</td><td>3300803</td><td>0.9991648</td><td> 59.383526</td><td>0</td><td>⋯</td><td>2</td><td>87.86720</td><td>77.60239</td><td>22.52993</td><td>24.84526</td><td> 26</td><td>NA</td><td>NA</td><td>NA</td><td>NA</td></tr>\n",
       "\t<tr><td>2023-12-31</td><td>202401</td><td>  3</td><td>  3</td><td>  3</td><td>  3</td><td>3302304</td><td>0.9872154</td><td> 44.332790</td><td>0</td><td>⋯</td><td>0</td><td>85.97001</td><td>74.97896</td><td>23.07184</td><td>25.33293</td><td>  3</td><td>NA</td><td>NA</td><td>NA</td><td>NA</td></tr>\n",
       "\t<tr><td>2023-12-31</td><td>202401</td><td> 12</td><td> 12</td><td> 12</td><td> 12</td><td>3301108</td><td>0.9436649</td><td> 61.718872</td><td>0</td><td>⋯</td><td>1</td><td>86.02594</td><td>74.06677</td><td>22.33466</td><td>24.73559</td><td> 12</td><td>NA</td><td>NA</td><td>NA</td><td>NA</td></tr>\n",
       "\t<tr><td>2023-12-31</td><td>202401</td><td>156</td><td>156</td><td>156</td><td>156</td><td>3303500</td><td>1.0000000</td><td> 19.044502</td><td>0</td><td>⋯</td><td>2</td><td>82.55169</td><td>68.76487</td><td>23.80997</td><td>26.53031</td><td> 58</td><td>NA</td><td>NA</td><td>NA</td><td>NA</td></tr>\n",
       "\t<tr><td>2023-12-31</td><td>202401</td><td>  6</td><td>  6</td><td>  6</td><td>  6</td><td>3305554</td><td>0.9828328</td><td>  7.029136</td><td>0</td><td>⋯</td><td>1</td><td>83.18103</td><td>70.21560</td><td>24.25607</td><td>26.86407</td><td>  4</td><td>NA</td><td>NA</td><td>NA</td><td>NA</td></tr>\n",
       "\t<tr><td>2023-12-31</td><td>202401</td><td>101</td><td>101</td><td>101</td><td>101</td><td>3303906</td><td>1.0000000</td><td> 33.141050</td><td>0</td><td>⋯</td><td>2</td><td>87.72831</td><td>77.22151</td><td>20.25073</td><td>22.68356</td><td> 57</td><td>NA</td><td>NA</td><td>NA</td><td>NA</td></tr>\n",
       "\t<tr><td>⋮</td><td>⋮</td><td>⋮</td><td>⋮</td><td>⋮</td><td>⋮</td><td>⋮</td><td>⋮</td><td>⋮</td><td>⋮</td><td>⋱</td><td>⋮</td><td>⋮</td><td>⋮</td><td>⋮</td><td>⋮</td><td>⋮</td><td>⋮</td><td>⋮</td><td>⋮</td><td>⋮</td></tr>\n",
       "\t<tr><td>2023-12-03</td><td>202349</td><td>  1</td><td>  1</td><td>  1</td><td>  1</td><td>3303302</td><td>0.006431249</td><td> 0.1909621</td><td>0</td><td>⋯</td><td>0</td><td>77.48269</td><td>59.89254</td><td>27.45761</td><td>31.36540</td><td>  0</td><td>NA</td><td>NA</td><td>NA</td><td>NA</td></tr>\n",
       "\t<tr><td>2023-12-03</td><td>202349</td><td>  0</td><td>  0</td><td>  0</td><td>  0</td><td>3304409</td><td>0.000000000</td><td> 0.0000000</td><td>0</td><td>⋯</td><td>0</td><td>83.62517</td><td>66.92873</td><td>24.46984</td><td>28.29846</td><td>  0</td><td>NA</td><td>NA</td><td>NA</td><td>NA</td></tr>\n",
       "\t<tr><td>2023-12-03</td><td>202349</td><td>  0</td><td>  0</td><td>  0</td><td>  0</td><td>3305158</td><td>0.500000000</td><td> 0.0000000</td><td>0</td><td>⋯</td><td>0</td><td>81.01003</td><td>61.66251</td><td>23.96716</td><td>28.10726</td><td>  0</td><td>NA</td><td>NA</td><td>NA</td><td>NA</td></tr>\n",
       "\t<tr><td>2023-12-03</td><td>202349</td><td>  0</td><td>  0</td><td>  0</td><td>  0</td><td>3300233</td><td>0.000000000</td><td> 0.0000000</td><td>0</td><td>⋯</td><td>0</td><td>82.42064</td><td>70.56477</td><td>26.04523</td><td>28.60591</td><td>  0</td><td>NA</td><td>NA</td><td>NA</td><td>NA</td></tr>\n",
       "\t<tr><td>2023-12-03</td><td>202349</td><td>  0</td><td>  0</td><td>  0</td><td>  0</td><td>3303856</td><td>0.000000000</td><td> 0.0000000</td><td>0</td><td>⋯</td><td>0</td><td>81.25953</td><td>61.53396</td><td>24.37324</td><td>28.78689</td><td>  0</td><td>NA</td><td>NA</td><td>NA</td><td>NA</td></tr>\n",
       "\t<tr><td>2023-12-03</td><td>202349</td><td>101</td><td>101</td><td>101</td><td>101</td><td>3304524</td><td>0.972614100</td><td>67.5305250</td><td>0</td><td>⋯</td><td>2</td><td>80.38717</td><td>63.49903</td><td>26.88744</td><td>30.82504</td><td>101</td><td>NA</td><td>NA</td><td>NA</td><td>NA</td></tr>\n",
       "\t<tr><td>2023-12-03</td><td>202349</td><td>  0</td><td>  0</td><td>  0</td><td>  0</td><td>3305901</td><td>0.000000000</td><td> 0.0000000</td><td>0</td><td>⋯</td><td>0</td><td>79.36511</td><td>59.78857</td><td>24.47831</td><td>28.80120</td><td>  0</td><td>NA</td><td>NA</td><td>NA</td><td>NA</td></tr>\n",
       "\t<tr><td>2023-12-03</td><td>202349</td><td>  0</td><td>  0</td><td>  0</td><td>  0</td><td>3306156</td><td>0.000000000</td><td> 0.0000000</td><td>0</td><td>⋯</td><td>0</td><td>73.50676</td><td>52.37489</td><td>25.45713</td><td>30.16730</td><td>  0</td><td>NA</td><td>NA</td><td>NA</td><td>NA</td></tr>\n",
       "\t<tr><td>2023-12-03</td><td>202349</td><td>  6</td><td>  6</td><td>  6</td><td>  6</td><td>3304003</td><td>0.510871350</td><td>21.4316330</td><td>0</td><td>⋯</td><td>1</td><td>83.23574</td><td>64.93241</td><td>25.29660</td><td>29.64949</td><td>  2</td><td>NA</td><td>NA</td><td>NA</td><td>NA</td></tr>\n",
       "\t<tr><td>2023-12-03</td><td>202349</td><td>  0</td><td>  0</td><td>  0</td><td>  0</td><td>3302452</td><td>0.000000000</td><td> 0.0000000</td><td>0</td><td>⋯</td><td>0</td><td>78.33643</td><td>60.33009</td><td>25.53619</td><td>29.68893</td><td>  0</td><td>NA</td><td>NA</td><td>NA</td><td>NA</td></tr>\n",
       "\t<tr><td>2023-12-03</td><td>202349</td><td>  7</td><td>  7</td><td>  7</td><td>  7</td><td>3304706</td><td>0.348500880</td><td>17.1274780</td><td>0</td><td>⋯</td><td>1</td><td>73.61337</td><td>52.42067</td><td>27.54944</td><td>32.46999</td><td>  1</td><td>NA</td><td>NA</td><td>NA</td><td>NA</td></tr>\n",
       "\t<tr><td>2023-12-03</td><td>202349</td><td> 15</td><td> 15</td><td> 15</td><td> 15</td><td>3304904</td><td>0.545851230</td><td> 1.6138647</td><td>0</td><td>⋯</td><td>0</td><td>79.05109</td><td>61.79447</td><td>27.26167</td><td>31.13134</td><td>  9</td><td>NA</td><td>NA</td><td>NA</td><td>NA</td></tr>\n",
       "\t<tr><td>2023-12-03</td><td>202349</td><td>  0</td><td>  0</td><td>  0</td><td>  0</td><td>3305554</td><td>0.000000000</td><td> 0.0000000</td><td>0</td><td>⋯</td><td>0</td><td>82.18256</td><td>65.54550</td><td>26.83577</td><td>30.80979</td><td>  0</td><td>NA</td><td>NA</td><td>NA</td><td>NA</td></tr>\n",
       "\t<tr><td>2023-12-03</td><td>202349</td><td> 47</td><td> 47</td><td> 47</td><td> 47</td><td>3306305</td><td>0.999907700</td><td>17.3724690</td><td>0</td><td>⋯</td><td>1</td><td>82.60871</td><td>63.06744</td><td>24.87374</td><td>29.35997</td><td> 41</td><td>NA</td><td>NA</td><td>NA</td><td>NA</td></tr>\n",
       "\t<tr><td>2023-12-03</td><td>202349</td><td>  2</td><td>  2</td><td>  2</td><td>  2</td><td>3305307</td><td>0.687753800</td><td>25.9504340</td><td>0</td><td>⋯</td><td>0</td><td>75.63594</td><td>55.21280</td><td>26.70411</td><td>31.37603</td><td>  2</td><td>NA</td><td>NA</td><td>NA</td><td>NA</td></tr>\n",
       "\t<tr><td>2023-12-03</td><td>202349</td><td> 26</td><td> 26</td><td> 26</td><td> 26</td><td>3303401</td><td>0.826959700</td><td>12.7061700</td><td>0</td><td>⋯</td><td>1</td><td>81.83781</td><td>63.63916</td><td>23.10783</td><td>27.24156</td><td>  8</td><td>NA</td><td>NA</td><td>NA</td><td>NA</td></tr>\n",
       "\t<tr><td>2023-12-03</td><td>202349</td><td> 16</td><td> 16</td><td> 16</td><td> 16</td><td>3303906</td><td>0.625782850</td><td> 5.2500670</td><td>0</td><td>⋯</td><td>2</td><td>81.73606</td><td>63.17373</td><td>23.26517</td><td>27.53083</td><td>  5</td><td>NA</td><td>NA</td><td>NA</td><td>NA</td></tr>\n",
       "\t<tr><td>2023-12-03</td><td>202349</td><td>  2</td><td>  2</td><td>  2</td><td>  2</td><td>3301504</td><td>0.816611400</td><td> 9.5955480</td><td>0</td><td>⋯</td><td>0</td><td>79.46833</td><td>62.00381</td><td>25.00786</td><td>29.00450</td><td>  2</td><td>NA</td><td>NA</td><td>NA</td><td>NA</td></tr>\n",
       "\t<tr><td>2023-12-03</td><td>202349</td><td>  4</td><td>  4</td><td>  4</td><td>  4</td><td>3302858</td><td>0.611740500</td><td> 2.3689806</td><td>0</td><td>⋯</td><td>0</td><td>79.18611</td><td>61.53004</td><td>27.12009</td><td>31.13714</td><td>  3</td><td>NA</td><td>NA</td><td>NA</td><td>NA</td></tr>\n",
       "\t<tr><td>2023-12-03</td><td>202349</td><td> 39</td><td> 39</td><td> 39</td><td> 39</td><td>3300100</td><td>0.065632865</td><td>21.5198540</td><td>0</td><td>⋯</td><td>1</td><td>86.25177</td><td>71.49449</td><td>23.72850</td><td>26.88484</td><td> 27</td><td>NA</td><td>NA</td><td>NA</td><td>NA</td></tr>\n",
       "\t<tr><td>2023-12-03</td><td>202349</td><td>  0</td><td>  0</td><td>  0</td><td>  0</td><td>3305802</td><td>0.000000000</td><td> 0.0000000</td><td>0</td><td>⋯</td><td>0</td><td>82.03913</td><td>63.90536</td><td>23.01339</td><td>27.12274</td><td>  0</td><td>NA</td><td>NA</td><td>NA</td><td>NA</td></tr>\n",
       "\t<tr><td>2023-12-03</td><td>202349</td><td>  0</td><td>  0</td><td>  0</td><td>  0</td><td>3305752</td><td>0.000000000</td><td> 0.0000000</td><td>0</td><td>⋯</td><td>0</td><td>81.93850</td><td>67.09837</td><td>26.35436</td><td>29.93817</td><td>  0</td><td>NA</td><td>NA</td><td>NA</td><td>NA</td></tr>\n",
       "\t<tr><td>2023-12-03</td><td>202349</td><td>  8</td><td>  8</td><td>  8</td><td>  8</td><td>3300951</td><td>0.920166100</td><td>91.2304700</td><td>0</td><td>⋯</td><td>1</td><td>79.45310</td><td>57.48151</td><td>25.65169</td><td>30.35103</td><td>  8</td><td>NA</td><td>NA</td><td>NA</td><td>NA</td></tr>\n",
       "\t<tr><td>2023-12-03</td><td>202349</td><td>  9</td><td>  9</td><td>  9</td><td>  9</td><td>3302056</td><td>0.127595770</td><td>65.5546650</td><td>0</td><td>⋯</td><td>1</td><td>70.68673</td><td>47.04804</td><td>27.96651</td><td>33.35920</td><td>  6</td><td>NA</td><td>NA</td><td>NA</td><td>NA</td></tr>\n",
       "\t<tr><td>2023-12-03</td><td>202349</td><td> 18</td><td> 18</td><td> 18</td><td> 18</td><td>3300803</td><td>0.916297800</td><td>33.4032330</td><td>0</td><td>⋯</td><td>1</td><td>83.50706</td><td>66.66836</td><td>25.70174</td><td>29.89114</td><td> 18</td><td>NA</td><td>NA</td><td>NA</td><td>NA</td></tr>\n",
       "\t<tr><td>2023-12-03</td><td>202349</td><td>  0</td><td>  0</td><td>  0</td><td>  0</td><td>3302809</td><td>0.000000000</td><td> 0.0000000</td><td>0</td><td>⋯</td><td>0</td><td>82.31677</td><td>63.13503</td><td>25.32590</td><td>29.84663</td><td>  0</td><td>NA</td><td>NA</td><td>NA</td><td>NA</td></tr>\n",
       "\t<tr><td>2023-12-03</td><td>202349</td><td>  3</td><td>  3</td><td>  3</td><td>  3</td><td>3302270</td><td>0.637974300</td><td> 3.1057508</td><td>0</td><td>⋯</td><td>0</td><td>80.96867</td><td>62.61081</td><td>26.61476</td><td>30.96807</td><td>  3</td><td>NA</td><td>NA</td><td>NA</td><td>NA</td></tr>\n",
       "\t<tr><td>2023-12-03</td><td>202349</td><td>  1</td><td>  1</td><td>  1</td><td>  1</td><td>3302106</td><td>0.963267900</td><td> 4.3499064</td><td>0</td><td>⋯</td><td>0</td><td>74.15506</td><td>52.79231</td><td>27.75876</td><td>32.64360</td><td>  1</td><td>NA</td><td>NA</td><td>NA</td><td>NA</td></tr>\n",
       "\t<tr><td>2023-12-03</td><td>202349</td><td> 17</td><td> 17</td><td> 17</td><td> 17</td><td>3302007</td><td>0.425479170</td><td>12.7947490</td><td>0</td><td>⋯</td><td>2</td><td>83.49459</td><td>68.10229</td><td>26.29010</td><td>29.97330</td><td> 15</td><td>NA</td><td>NA</td><td>NA</td><td>NA</td></tr>\n",
       "\t<tr><td>2023-12-03</td><td>202349</td><td>  2</td><td>  2</td><td>  2</td><td>  2</td><td>3302403</td><td>0.012022004</td><td> 0.7613479</td><td>0</td><td>⋯</td><td>0</td><td>80.02879</td><td>61.95936</td><td>26.00251</td><td>30.20889</td><td>  2</td><td>NA</td><td>NA</td><td>NA</td><td>NA</td></tr>\n",
       "</tbody>\n",
       "</table>\n"
      ],
      "text/latex": [
       "A data.frame: 460 × 30\n",
       "\\begin{tabular}{lllllllllllllllllllll}\n",
       " data\\_iniSE & SE & casos\\_est & casos\\_est\\_min & casos\\_est\\_max & casos & municipio\\_geocodigo & p\\_rt1 & p\\_inc100k & Localidade\\_id & ⋯ & nivel\\_inc & umidmed & umidmin & tempmed & tempmax & casprov & casprov\\_est & casprov\\_est\\_min & casprov\\_est\\_max & casconf\\\\\n",
       " <chr> & <dbl> & <dbl> & <dbl> & <dbl> & <dbl> & <dbl> & <dbl> & <dbl> & <dbl> & ⋯ & <dbl> & <dbl> & <dbl> & <dbl> & <dbl> & <dbl> & <chr> & <chr> & <chr> & <chr>\\\\\n",
       "\\hline\n",
       "\t 2023-12-31 & 202401 &  11 &  11 &  11 &  11 & 3301207 & 0.9261000 &  64.143684 & 0 & ⋯ & 1 & 86.31443 & 74.81649 & 22.08231 & 24.50814 &   5 & NA & NA & NA & NA\\\\\n",
       "\t 2023-12-31 & 202401 &   5 &   5 &   5 &   5 & 3305752 & 0.9957709 &  16.041580 & 0 & ⋯ & 1 & 83.27701 & 73.67101 & 23.64674 & 25.60710 &   1 & NA & NA & NA & NA\\\\\n",
       "\t 2023-12-31 & 202401 &  12 &  12 &  12 &  12 & 3301801 & 0.9804760 & 101.505670 & 0 & ⋯ & 2 & 84.59954 & 72.56147 & 22.40403 & 24.94773 &   3 & NA & NA & NA & NA\\\\\n",
       "\t 2023-12-31 & 202401 &  19 &  19 &  19 &  19 & 3301850 & 0.9841978 &  37.691680 & 0 & ⋯ & 2 & 86.38757 & 75.17570 & 23.18124 & 25.59660 &  10 & NA & NA & NA & NA\\\\\n",
       "\t 2023-12-31 & 202401 &  13 &  13 &  13 &  13 & 3303005 & 0.9517184 &  48.791473 & 0 & ⋯ & 1 & 85.84879 & 74.12201 & 23.23376 & 25.43500 &   5 & NA & NA & NA & NA\\\\\n",
       "\t 2023-12-31 & 202401 &   9 &   9 &   9 &   9 & 3303955 & 0.6903663 &  36.655400 & 0 & ⋯ & 1 & 84.15786 & 72.26394 & 22.64483 & 25.40886 &   4 & NA & NA & NA & NA\\\\\n",
       "\t 2023-12-31 & 202401 &  28 &  28 &  28 &  28 & 3304110 & 0.9985263 & 137.423310 & 0 & ⋯ & 2 & 85.58869 & 73.05383 & 21.88330 & 24.87064 &   8 & NA & NA & NA & NA\\\\\n",
       "\t 2023-12-31 & 202401 &  30 &  30 &  30 &  30 & 3305505 & 0.9995135 &  33.800910 & 0 & ⋯ & 1 & 82.67047 & 75.28619 & 24.29591 & 25.77090 &   9 & NA & NA & NA & NA\\\\\n",
       "\t 2023-12-31 & 202401 &   3 &   3 &   3 &   3 & 3300225 & 0.9421743 &  25.499363 & 0 & ⋯ & 0 & 88.34176 & 77.60486 & 21.04411 & 23.62354 &   3 & NA & NA & NA & NA\\\\\n",
       "\t 2023-12-31 & 202401 &   5 &   5 &   5 &   5 & 3304409 & 0.9895125 &  26.962898 & 0 & ⋯ & 0 & 83.70591 & 73.09774 & 22.03871 & 24.56499 &   2 & NA & NA & NA & NA\\\\\n",
       "\t 2023-12-31 & 202401 & 243 & 243 & 243 & 243 & 3304524 & 1.0000000 & 162.474430 & 0 & ⋯ & 2 & 85.32911 & 76.09460 & 23.98634 & 25.63654 & 132 & NA & NA & NA & NA\\\\\n",
       "\t 2023-12-31 & 202401 &  32 &  32 &  32 &  32 & 3304706 & 0.9999996 &  78.297040 & 0 & ⋯ & 2 & 85.59579 & 73.79844 & 23.45407 & 25.70076 &  19 & NA & NA & NA & NA\\\\\n",
       "\t 2023-12-31 & 202401 &  26 &  26 &  26 &  26 & 3305307 & 0.9999860 & 337.355650 & 0 & ⋯ & 2 & 86.75343 & 74.30880 & 22.68927 & 24.97696 &  26 & NA & NA & NA & NA\\\\\n",
       "\t 2023-12-31 & 202401 &   3 &   3 &   3 &   3 & 3303203 & 0.9864174 &   1.996260 & 0 & ⋯ & 0 & 79.55936 & 64.87224 & 24.47613 & 27.28331 &   3 & NA & NA & NA & NA\\\\\n",
       "\t 2023-12-31 & 202401 &  19 &  19 &  19 &  19 & 3306107 & 0.9997008 &  26.292482 & 0 & ⋯ & 2 & 86.07799 & 73.71303 & 21.39617 & 24.11010 &   5 & NA & NA & NA & NA\\\\\n",
       "\t 2023-12-31 & 202401 &  22 &  22 &  22 &  22 & 3300456 & 0.9319806 &   4.924664 & 0 & ⋯ & 2 & 82.61673 & 68.62017 & 24.47834 & 27.22931 &   5 & NA & NA & NA & NA\\\\\n",
       "\t 2023-12-31 & 202401 & 203 & 203 & 203 & 203 & 3300100 & 1.0000000 & 112.013596 & 0 & ⋯ & 2 & 85.79797 & 76.52670 & 21.45544 & 23.74159 & 153 & NA & NA & NA & NA\\\\\n",
       "\t 2023-12-31 & 202401 &   5 &   5 &   5 &   5 & 3302809 & 0.9596037 &  28.635244 & 0 & ⋯ & 1 & 84.93214 & 73.34896 & 22.50846 & 25.06700 &   1 & NA & NA & NA & NA\\\\\n",
       "\t 2023-12-31 & 202401 &   7 &   7 &   7 &   7 & 3300258 & 0.9974380 &  22.558815 & 0 & ⋯ & 1 & 81.65181 & 75.50570 & 24.24280 & 25.36699 &   3 & NA & NA & NA & NA\\\\\n",
       "\t 2023-12-31 & 202401 &  45 &  45 &  45 &  45 & 3301306 & 0.9999582 &  98.749176 & 0 & ⋯ & 2 & 86.45163 & 76.59390 & 23.09910 & 24.94353 &   6 & NA & NA & NA & NA\\\\\n",
       "\t 2023-12-31 & 202401 &  26 &  26 &  26 &  26 & 3300233 & 0.9999997 &  66.610306 & 0 & ⋯ & 2 & 81.84831 & 75.64057 & 24.49191 & 25.55229 &  24 & NA & NA & NA & NA\\\\\n",
       "\t 2023-12-31 & 202401 &  11 &  11 &  11 &  11 & 3303856 & 0.9979631 &  37.427696 & 0 & ⋯ & 2 & 86.53097 & 75.49444 & 21.22587 & 23.63109 &   9 & NA & NA & NA & NA\\\\\n",
       "\t 2023-12-31 & 202401 &  18 &  18 &  18 &  18 & 3300308 & 0.9963596 &  19.774788 & 0 & ⋯ & 2 & 84.83489 & 73.25777 & 22.02057 & 24.66976 &  10 & NA & NA & NA & NA\\\\\n",
       "\t 2023-12-31 & 202401 &  38 &  38 &  38 &  38 & 3302601 & 0.9996798 &  97.553460 & 0 & ⋯ & 2 & 83.80877 & 74.03489 & 22.49611 & 24.82051 &  14 & NA & NA & NA & NA\\\\\n",
       "\t 2023-12-31 & 202401 &  32 &  32 &  32 &  32 & 3300803 & 0.9991648 &  59.383526 & 0 & ⋯ & 2 & 87.86720 & 77.60239 & 22.52993 & 24.84526 &  26 & NA & NA & NA & NA\\\\\n",
       "\t 2023-12-31 & 202401 &   3 &   3 &   3 &   3 & 3302304 & 0.9872154 &  44.332790 & 0 & ⋯ & 0 & 85.97001 & 74.97896 & 23.07184 & 25.33293 &   3 & NA & NA & NA & NA\\\\\n",
       "\t 2023-12-31 & 202401 &  12 &  12 &  12 &  12 & 3301108 & 0.9436649 &  61.718872 & 0 & ⋯ & 1 & 86.02594 & 74.06677 & 22.33466 & 24.73559 &  12 & NA & NA & NA & NA\\\\\n",
       "\t 2023-12-31 & 202401 & 156 & 156 & 156 & 156 & 3303500 & 1.0000000 &  19.044502 & 0 & ⋯ & 2 & 82.55169 & 68.76487 & 23.80997 & 26.53031 &  58 & NA & NA & NA & NA\\\\\n",
       "\t 2023-12-31 & 202401 &   6 &   6 &   6 &   6 & 3305554 & 0.9828328 &   7.029136 & 0 & ⋯ & 1 & 83.18103 & 70.21560 & 24.25607 & 26.86407 &   4 & NA & NA & NA & NA\\\\\n",
       "\t 2023-12-31 & 202401 & 101 & 101 & 101 & 101 & 3303906 & 1.0000000 &  33.141050 & 0 & ⋯ & 2 & 87.72831 & 77.22151 & 20.25073 & 22.68356 &  57 & NA & NA & NA & NA\\\\\n",
       "\t ⋮ & ⋮ & ⋮ & ⋮ & ⋮ & ⋮ & ⋮ & ⋮ & ⋮ & ⋮ & ⋱ & ⋮ & ⋮ & ⋮ & ⋮ & ⋮ & ⋮ & ⋮ & ⋮ & ⋮ & ⋮\\\\\n",
       "\t 2023-12-03 & 202349 &   1 &   1 &   1 &   1 & 3303302 & 0.006431249 &  0.1909621 & 0 & ⋯ & 0 & 77.48269 & 59.89254 & 27.45761 & 31.36540 &   0 & NA & NA & NA & NA\\\\\n",
       "\t 2023-12-03 & 202349 &   0 &   0 &   0 &   0 & 3304409 & 0.000000000 &  0.0000000 & 0 & ⋯ & 0 & 83.62517 & 66.92873 & 24.46984 & 28.29846 &   0 & NA & NA & NA & NA\\\\\n",
       "\t 2023-12-03 & 202349 &   0 &   0 &   0 &   0 & 3305158 & 0.500000000 &  0.0000000 & 0 & ⋯ & 0 & 81.01003 & 61.66251 & 23.96716 & 28.10726 &   0 & NA & NA & NA & NA\\\\\n",
       "\t 2023-12-03 & 202349 &   0 &   0 &   0 &   0 & 3300233 & 0.000000000 &  0.0000000 & 0 & ⋯ & 0 & 82.42064 & 70.56477 & 26.04523 & 28.60591 &   0 & NA & NA & NA & NA\\\\\n",
       "\t 2023-12-03 & 202349 &   0 &   0 &   0 &   0 & 3303856 & 0.000000000 &  0.0000000 & 0 & ⋯ & 0 & 81.25953 & 61.53396 & 24.37324 & 28.78689 &   0 & NA & NA & NA & NA\\\\\n",
       "\t 2023-12-03 & 202349 & 101 & 101 & 101 & 101 & 3304524 & 0.972614100 & 67.5305250 & 0 & ⋯ & 2 & 80.38717 & 63.49903 & 26.88744 & 30.82504 & 101 & NA & NA & NA & NA\\\\\n",
       "\t 2023-12-03 & 202349 &   0 &   0 &   0 &   0 & 3305901 & 0.000000000 &  0.0000000 & 0 & ⋯ & 0 & 79.36511 & 59.78857 & 24.47831 & 28.80120 &   0 & NA & NA & NA & NA\\\\\n",
       "\t 2023-12-03 & 202349 &   0 &   0 &   0 &   0 & 3306156 & 0.000000000 &  0.0000000 & 0 & ⋯ & 0 & 73.50676 & 52.37489 & 25.45713 & 30.16730 &   0 & NA & NA & NA & NA\\\\\n",
       "\t 2023-12-03 & 202349 &   6 &   6 &   6 &   6 & 3304003 & 0.510871350 & 21.4316330 & 0 & ⋯ & 1 & 83.23574 & 64.93241 & 25.29660 & 29.64949 &   2 & NA & NA & NA & NA\\\\\n",
       "\t 2023-12-03 & 202349 &   0 &   0 &   0 &   0 & 3302452 & 0.000000000 &  0.0000000 & 0 & ⋯ & 0 & 78.33643 & 60.33009 & 25.53619 & 29.68893 &   0 & NA & NA & NA & NA\\\\\n",
       "\t 2023-12-03 & 202349 &   7 &   7 &   7 &   7 & 3304706 & 0.348500880 & 17.1274780 & 0 & ⋯ & 1 & 73.61337 & 52.42067 & 27.54944 & 32.46999 &   1 & NA & NA & NA & NA\\\\\n",
       "\t 2023-12-03 & 202349 &  15 &  15 &  15 &  15 & 3304904 & 0.545851230 &  1.6138647 & 0 & ⋯ & 0 & 79.05109 & 61.79447 & 27.26167 & 31.13134 &   9 & NA & NA & NA & NA\\\\\n",
       "\t 2023-12-03 & 202349 &   0 &   0 &   0 &   0 & 3305554 & 0.000000000 &  0.0000000 & 0 & ⋯ & 0 & 82.18256 & 65.54550 & 26.83577 & 30.80979 &   0 & NA & NA & NA & NA\\\\\n",
       "\t 2023-12-03 & 202349 &  47 &  47 &  47 &  47 & 3306305 & 0.999907700 & 17.3724690 & 0 & ⋯ & 1 & 82.60871 & 63.06744 & 24.87374 & 29.35997 &  41 & NA & NA & NA & NA\\\\\n",
       "\t 2023-12-03 & 202349 &   2 &   2 &   2 &   2 & 3305307 & 0.687753800 & 25.9504340 & 0 & ⋯ & 0 & 75.63594 & 55.21280 & 26.70411 & 31.37603 &   2 & NA & NA & NA & NA\\\\\n",
       "\t 2023-12-03 & 202349 &  26 &  26 &  26 &  26 & 3303401 & 0.826959700 & 12.7061700 & 0 & ⋯ & 1 & 81.83781 & 63.63916 & 23.10783 & 27.24156 &   8 & NA & NA & NA & NA\\\\\n",
       "\t 2023-12-03 & 202349 &  16 &  16 &  16 &  16 & 3303906 & 0.625782850 &  5.2500670 & 0 & ⋯ & 2 & 81.73606 & 63.17373 & 23.26517 & 27.53083 &   5 & NA & NA & NA & NA\\\\\n",
       "\t 2023-12-03 & 202349 &   2 &   2 &   2 &   2 & 3301504 & 0.816611400 &  9.5955480 & 0 & ⋯ & 0 & 79.46833 & 62.00381 & 25.00786 & 29.00450 &   2 & NA & NA & NA & NA\\\\\n",
       "\t 2023-12-03 & 202349 &   4 &   4 &   4 &   4 & 3302858 & 0.611740500 &  2.3689806 & 0 & ⋯ & 0 & 79.18611 & 61.53004 & 27.12009 & 31.13714 &   3 & NA & NA & NA & NA\\\\\n",
       "\t 2023-12-03 & 202349 &  39 &  39 &  39 &  39 & 3300100 & 0.065632865 & 21.5198540 & 0 & ⋯ & 1 & 86.25177 & 71.49449 & 23.72850 & 26.88484 &  27 & NA & NA & NA & NA\\\\\n",
       "\t 2023-12-03 & 202349 &   0 &   0 &   0 &   0 & 3305802 & 0.000000000 &  0.0000000 & 0 & ⋯ & 0 & 82.03913 & 63.90536 & 23.01339 & 27.12274 &   0 & NA & NA & NA & NA\\\\\n",
       "\t 2023-12-03 & 202349 &   0 &   0 &   0 &   0 & 3305752 & 0.000000000 &  0.0000000 & 0 & ⋯ & 0 & 81.93850 & 67.09837 & 26.35436 & 29.93817 &   0 & NA & NA & NA & NA\\\\\n",
       "\t 2023-12-03 & 202349 &   8 &   8 &   8 &   8 & 3300951 & 0.920166100 & 91.2304700 & 0 & ⋯ & 1 & 79.45310 & 57.48151 & 25.65169 & 30.35103 &   8 & NA & NA & NA & NA\\\\\n",
       "\t 2023-12-03 & 202349 &   9 &   9 &   9 &   9 & 3302056 & 0.127595770 & 65.5546650 & 0 & ⋯ & 1 & 70.68673 & 47.04804 & 27.96651 & 33.35920 &   6 & NA & NA & NA & NA\\\\\n",
       "\t 2023-12-03 & 202349 &  18 &  18 &  18 &  18 & 3300803 & 0.916297800 & 33.4032330 & 0 & ⋯ & 1 & 83.50706 & 66.66836 & 25.70174 & 29.89114 &  18 & NA & NA & NA & NA\\\\\n",
       "\t 2023-12-03 & 202349 &   0 &   0 &   0 &   0 & 3302809 & 0.000000000 &  0.0000000 & 0 & ⋯ & 0 & 82.31677 & 63.13503 & 25.32590 & 29.84663 &   0 & NA & NA & NA & NA\\\\\n",
       "\t 2023-12-03 & 202349 &   3 &   3 &   3 &   3 & 3302270 & 0.637974300 &  3.1057508 & 0 & ⋯ & 0 & 80.96867 & 62.61081 & 26.61476 & 30.96807 &   3 & NA & NA & NA & NA\\\\\n",
       "\t 2023-12-03 & 202349 &   1 &   1 &   1 &   1 & 3302106 & 0.963267900 &  4.3499064 & 0 & ⋯ & 0 & 74.15506 & 52.79231 & 27.75876 & 32.64360 &   1 & NA & NA & NA & NA\\\\\n",
       "\t 2023-12-03 & 202349 &  17 &  17 &  17 &  17 & 3302007 & 0.425479170 & 12.7947490 & 0 & ⋯ & 2 & 83.49459 & 68.10229 & 26.29010 & 29.97330 &  15 & NA & NA & NA & NA\\\\\n",
       "\t 2023-12-03 & 202349 &   2 &   2 &   2 &   2 & 3302403 & 0.012022004 &  0.7613479 & 0 & ⋯ & 0 & 80.02879 & 61.95936 & 26.00251 & 30.20889 &   2 & NA & NA & NA & NA\\\\\n",
       "\\end{tabular}\n"
      ],
      "text/markdown": [
       "\n",
       "A data.frame: 460 × 30\n",
       "\n",
       "| data_iniSE &lt;chr&gt; | SE &lt;dbl&gt; | casos_est &lt;dbl&gt; | casos_est_min &lt;dbl&gt; | casos_est_max &lt;dbl&gt; | casos &lt;dbl&gt; | municipio_geocodigo &lt;dbl&gt; | p_rt1 &lt;dbl&gt; | p_inc100k &lt;dbl&gt; | Localidade_id &lt;dbl&gt; | ⋯ ⋯ | nivel_inc &lt;dbl&gt; | umidmed &lt;dbl&gt; | umidmin &lt;dbl&gt; | tempmed &lt;dbl&gt; | tempmax &lt;dbl&gt; | casprov &lt;dbl&gt; | casprov_est &lt;chr&gt; | casprov_est_min &lt;chr&gt; | casprov_est_max &lt;chr&gt; | casconf &lt;chr&gt; |\n",
       "|---|---|---|---|---|---|---|---|---|---|---|---|---|---|---|---|---|---|---|---|---|\n",
       "| 2023-12-31 | 202401 |  11 |  11 |  11 |  11 | 3301207 | 0.9261000 |  64.143684 | 0 | ⋯ | 1 | 86.31443 | 74.81649 | 22.08231 | 24.50814 |   5 | NA | NA | NA | NA |\n",
       "| 2023-12-31 | 202401 |   5 |   5 |   5 |   5 | 3305752 | 0.9957709 |  16.041580 | 0 | ⋯ | 1 | 83.27701 | 73.67101 | 23.64674 | 25.60710 |   1 | NA | NA | NA | NA |\n",
       "| 2023-12-31 | 202401 |  12 |  12 |  12 |  12 | 3301801 | 0.9804760 | 101.505670 | 0 | ⋯ | 2 | 84.59954 | 72.56147 | 22.40403 | 24.94773 |   3 | NA | NA | NA | NA |\n",
       "| 2023-12-31 | 202401 |  19 |  19 |  19 |  19 | 3301850 | 0.9841978 |  37.691680 | 0 | ⋯ | 2 | 86.38757 | 75.17570 | 23.18124 | 25.59660 |  10 | NA | NA | NA | NA |\n",
       "| 2023-12-31 | 202401 |  13 |  13 |  13 |  13 | 3303005 | 0.9517184 |  48.791473 | 0 | ⋯ | 1 | 85.84879 | 74.12201 | 23.23376 | 25.43500 |   5 | NA | NA | NA | NA |\n",
       "| 2023-12-31 | 202401 |   9 |   9 |   9 |   9 | 3303955 | 0.6903663 |  36.655400 | 0 | ⋯ | 1 | 84.15786 | 72.26394 | 22.64483 | 25.40886 |   4 | NA | NA | NA | NA |\n",
       "| 2023-12-31 | 202401 |  28 |  28 |  28 |  28 | 3304110 | 0.9985263 | 137.423310 | 0 | ⋯ | 2 | 85.58869 | 73.05383 | 21.88330 | 24.87064 |   8 | NA | NA | NA | NA |\n",
       "| 2023-12-31 | 202401 |  30 |  30 |  30 |  30 | 3305505 | 0.9995135 |  33.800910 | 0 | ⋯ | 1 | 82.67047 | 75.28619 | 24.29591 | 25.77090 |   9 | NA | NA | NA | NA |\n",
       "| 2023-12-31 | 202401 |   3 |   3 |   3 |   3 | 3300225 | 0.9421743 |  25.499363 | 0 | ⋯ | 0 | 88.34176 | 77.60486 | 21.04411 | 23.62354 |   3 | NA | NA | NA | NA |\n",
       "| 2023-12-31 | 202401 |   5 |   5 |   5 |   5 | 3304409 | 0.9895125 |  26.962898 | 0 | ⋯ | 0 | 83.70591 | 73.09774 | 22.03871 | 24.56499 |   2 | NA | NA | NA | NA |\n",
       "| 2023-12-31 | 202401 | 243 | 243 | 243 | 243 | 3304524 | 1.0000000 | 162.474430 | 0 | ⋯ | 2 | 85.32911 | 76.09460 | 23.98634 | 25.63654 | 132 | NA | NA | NA | NA |\n",
       "| 2023-12-31 | 202401 |  32 |  32 |  32 |  32 | 3304706 | 0.9999996 |  78.297040 | 0 | ⋯ | 2 | 85.59579 | 73.79844 | 23.45407 | 25.70076 |  19 | NA | NA | NA | NA |\n",
       "| 2023-12-31 | 202401 |  26 |  26 |  26 |  26 | 3305307 | 0.9999860 | 337.355650 | 0 | ⋯ | 2 | 86.75343 | 74.30880 | 22.68927 | 24.97696 |  26 | NA | NA | NA | NA |\n",
       "| 2023-12-31 | 202401 |   3 |   3 |   3 |   3 | 3303203 | 0.9864174 |   1.996260 | 0 | ⋯ | 0 | 79.55936 | 64.87224 | 24.47613 | 27.28331 |   3 | NA | NA | NA | NA |\n",
       "| 2023-12-31 | 202401 |  19 |  19 |  19 |  19 | 3306107 | 0.9997008 |  26.292482 | 0 | ⋯ | 2 | 86.07799 | 73.71303 | 21.39617 | 24.11010 |   5 | NA | NA | NA | NA |\n",
       "| 2023-12-31 | 202401 |  22 |  22 |  22 |  22 | 3300456 | 0.9319806 |   4.924664 | 0 | ⋯ | 2 | 82.61673 | 68.62017 | 24.47834 | 27.22931 |   5 | NA | NA | NA | NA |\n",
       "| 2023-12-31 | 202401 | 203 | 203 | 203 | 203 | 3300100 | 1.0000000 | 112.013596 | 0 | ⋯ | 2 | 85.79797 | 76.52670 | 21.45544 | 23.74159 | 153 | NA | NA | NA | NA |\n",
       "| 2023-12-31 | 202401 |   5 |   5 |   5 |   5 | 3302809 | 0.9596037 |  28.635244 | 0 | ⋯ | 1 | 84.93214 | 73.34896 | 22.50846 | 25.06700 |   1 | NA | NA | NA | NA |\n",
       "| 2023-12-31 | 202401 |   7 |   7 |   7 |   7 | 3300258 | 0.9974380 |  22.558815 | 0 | ⋯ | 1 | 81.65181 | 75.50570 | 24.24280 | 25.36699 |   3 | NA | NA | NA | NA |\n",
       "| 2023-12-31 | 202401 |  45 |  45 |  45 |  45 | 3301306 | 0.9999582 |  98.749176 | 0 | ⋯ | 2 | 86.45163 | 76.59390 | 23.09910 | 24.94353 |   6 | NA | NA | NA | NA |\n",
       "| 2023-12-31 | 202401 |  26 |  26 |  26 |  26 | 3300233 | 0.9999997 |  66.610306 | 0 | ⋯ | 2 | 81.84831 | 75.64057 | 24.49191 | 25.55229 |  24 | NA | NA | NA | NA |\n",
       "| 2023-12-31 | 202401 |  11 |  11 |  11 |  11 | 3303856 | 0.9979631 |  37.427696 | 0 | ⋯ | 2 | 86.53097 | 75.49444 | 21.22587 | 23.63109 |   9 | NA | NA | NA | NA |\n",
       "| 2023-12-31 | 202401 |  18 |  18 |  18 |  18 | 3300308 | 0.9963596 |  19.774788 | 0 | ⋯ | 2 | 84.83489 | 73.25777 | 22.02057 | 24.66976 |  10 | NA | NA | NA | NA |\n",
       "| 2023-12-31 | 202401 |  38 |  38 |  38 |  38 | 3302601 | 0.9996798 |  97.553460 | 0 | ⋯ | 2 | 83.80877 | 74.03489 | 22.49611 | 24.82051 |  14 | NA | NA | NA | NA |\n",
       "| 2023-12-31 | 202401 |  32 |  32 |  32 |  32 | 3300803 | 0.9991648 |  59.383526 | 0 | ⋯ | 2 | 87.86720 | 77.60239 | 22.52993 | 24.84526 |  26 | NA | NA | NA | NA |\n",
       "| 2023-12-31 | 202401 |   3 |   3 |   3 |   3 | 3302304 | 0.9872154 |  44.332790 | 0 | ⋯ | 0 | 85.97001 | 74.97896 | 23.07184 | 25.33293 |   3 | NA | NA | NA | NA |\n",
       "| 2023-12-31 | 202401 |  12 |  12 |  12 |  12 | 3301108 | 0.9436649 |  61.718872 | 0 | ⋯ | 1 | 86.02594 | 74.06677 | 22.33466 | 24.73559 |  12 | NA | NA | NA | NA |\n",
       "| 2023-12-31 | 202401 | 156 | 156 | 156 | 156 | 3303500 | 1.0000000 |  19.044502 | 0 | ⋯ | 2 | 82.55169 | 68.76487 | 23.80997 | 26.53031 |  58 | NA | NA | NA | NA |\n",
       "| 2023-12-31 | 202401 |   6 |   6 |   6 |   6 | 3305554 | 0.9828328 |   7.029136 | 0 | ⋯ | 1 | 83.18103 | 70.21560 | 24.25607 | 26.86407 |   4 | NA | NA | NA | NA |\n",
       "| 2023-12-31 | 202401 | 101 | 101 | 101 | 101 | 3303906 | 1.0000000 |  33.141050 | 0 | ⋯ | 2 | 87.72831 | 77.22151 | 20.25073 | 22.68356 |  57 | NA | NA | NA | NA |\n",
       "| ⋮ | ⋮ | ⋮ | ⋮ | ⋮ | ⋮ | ⋮ | ⋮ | ⋮ | ⋮ | ⋱ | ⋮ | ⋮ | ⋮ | ⋮ | ⋮ | ⋮ | ⋮ | ⋮ | ⋮ | ⋮ |\n",
       "| 2023-12-03 | 202349 |   1 |   1 |   1 |   1 | 3303302 | 0.006431249 |  0.1909621 | 0 | ⋯ | 0 | 77.48269 | 59.89254 | 27.45761 | 31.36540 |   0 | NA | NA | NA | NA |\n",
       "| 2023-12-03 | 202349 |   0 |   0 |   0 |   0 | 3304409 | 0.000000000 |  0.0000000 | 0 | ⋯ | 0 | 83.62517 | 66.92873 | 24.46984 | 28.29846 |   0 | NA | NA | NA | NA |\n",
       "| 2023-12-03 | 202349 |   0 |   0 |   0 |   0 | 3305158 | 0.500000000 |  0.0000000 | 0 | ⋯ | 0 | 81.01003 | 61.66251 | 23.96716 | 28.10726 |   0 | NA | NA | NA | NA |\n",
       "| 2023-12-03 | 202349 |   0 |   0 |   0 |   0 | 3300233 | 0.000000000 |  0.0000000 | 0 | ⋯ | 0 | 82.42064 | 70.56477 | 26.04523 | 28.60591 |   0 | NA | NA | NA | NA |\n",
       "| 2023-12-03 | 202349 |   0 |   0 |   0 |   0 | 3303856 | 0.000000000 |  0.0000000 | 0 | ⋯ | 0 | 81.25953 | 61.53396 | 24.37324 | 28.78689 |   0 | NA | NA | NA | NA |\n",
       "| 2023-12-03 | 202349 | 101 | 101 | 101 | 101 | 3304524 | 0.972614100 | 67.5305250 | 0 | ⋯ | 2 | 80.38717 | 63.49903 | 26.88744 | 30.82504 | 101 | NA | NA | NA | NA |\n",
       "| 2023-12-03 | 202349 |   0 |   0 |   0 |   0 | 3305901 | 0.000000000 |  0.0000000 | 0 | ⋯ | 0 | 79.36511 | 59.78857 | 24.47831 | 28.80120 |   0 | NA | NA | NA | NA |\n",
       "| 2023-12-03 | 202349 |   0 |   0 |   0 |   0 | 3306156 | 0.000000000 |  0.0000000 | 0 | ⋯ | 0 | 73.50676 | 52.37489 | 25.45713 | 30.16730 |   0 | NA | NA | NA | NA |\n",
       "| 2023-12-03 | 202349 |   6 |   6 |   6 |   6 | 3304003 | 0.510871350 | 21.4316330 | 0 | ⋯ | 1 | 83.23574 | 64.93241 | 25.29660 | 29.64949 |   2 | NA | NA | NA | NA |\n",
       "| 2023-12-03 | 202349 |   0 |   0 |   0 |   0 | 3302452 | 0.000000000 |  0.0000000 | 0 | ⋯ | 0 | 78.33643 | 60.33009 | 25.53619 | 29.68893 |   0 | NA | NA | NA | NA |\n",
       "| 2023-12-03 | 202349 |   7 |   7 |   7 |   7 | 3304706 | 0.348500880 | 17.1274780 | 0 | ⋯ | 1 | 73.61337 | 52.42067 | 27.54944 | 32.46999 |   1 | NA | NA | NA | NA |\n",
       "| 2023-12-03 | 202349 |  15 |  15 |  15 |  15 | 3304904 | 0.545851230 |  1.6138647 | 0 | ⋯ | 0 | 79.05109 | 61.79447 | 27.26167 | 31.13134 |   9 | NA | NA | NA | NA |\n",
       "| 2023-12-03 | 202349 |   0 |   0 |   0 |   0 | 3305554 | 0.000000000 |  0.0000000 | 0 | ⋯ | 0 | 82.18256 | 65.54550 | 26.83577 | 30.80979 |   0 | NA | NA | NA | NA |\n",
       "| 2023-12-03 | 202349 |  47 |  47 |  47 |  47 | 3306305 | 0.999907700 | 17.3724690 | 0 | ⋯ | 1 | 82.60871 | 63.06744 | 24.87374 | 29.35997 |  41 | NA | NA | NA | NA |\n",
       "| 2023-12-03 | 202349 |   2 |   2 |   2 |   2 | 3305307 | 0.687753800 | 25.9504340 | 0 | ⋯ | 0 | 75.63594 | 55.21280 | 26.70411 | 31.37603 |   2 | NA | NA | NA | NA |\n",
       "| 2023-12-03 | 202349 |  26 |  26 |  26 |  26 | 3303401 | 0.826959700 | 12.7061700 | 0 | ⋯ | 1 | 81.83781 | 63.63916 | 23.10783 | 27.24156 |   8 | NA | NA | NA | NA |\n",
       "| 2023-12-03 | 202349 |  16 |  16 |  16 |  16 | 3303906 | 0.625782850 |  5.2500670 | 0 | ⋯ | 2 | 81.73606 | 63.17373 | 23.26517 | 27.53083 |   5 | NA | NA | NA | NA |\n",
       "| 2023-12-03 | 202349 |   2 |   2 |   2 |   2 | 3301504 | 0.816611400 |  9.5955480 | 0 | ⋯ | 0 | 79.46833 | 62.00381 | 25.00786 | 29.00450 |   2 | NA | NA | NA | NA |\n",
       "| 2023-12-03 | 202349 |   4 |   4 |   4 |   4 | 3302858 | 0.611740500 |  2.3689806 | 0 | ⋯ | 0 | 79.18611 | 61.53004 | 27.12009 | 31.13714 |   3 | NA | NA | NA | NA |\n",
       "| 2023-12-03 | 202349 |  39 |  39 |  39 |  39 | 3300100 | 0.065632865 | 21.5198540 | 0 | ⋯ | 1 | 86.25177 | 71.49449 | 23.72850 | 26.88484 |  27 | NA | NA | NA | NA |\n",
       "| 2023-12-03 | 202349 |   0 |   0 |   0 |   0 | 3305802 | 0.000000000 |  0.0000000 | 0 | ⋯ | 0 | 82.03913 | 63.90536 | 23.01339 | 27.12274 |   0 | NA | NA | NA | NA |\n",
       "| 2023-12-03 | 202349 |   0 |   0 |   0 |   0 | 3305752 | 0.000000000 |  0.0000000 | 0 | ⋯ | 0 | 81.93850 | 67.09837 | 26.35436 | 29.93817 |   0 | NA | NA | NA | NA |\n",
       "| 2023-12-03 | 202349 |   8 |   8 |   8 |   8 | 3300951 | 0.920166100 | 91.2304700 | 0 | ⋯ | 1 | 79.45310 | 57.48151 | 25.65169 | 30.35103 |   8 | NA | NA | NA | NA |\n",
       "| 2023-12-03 | 202349 |   9 |   9 |   9 |   9 | 3302056 | 0.127595770 | 65.5546650 | 0 | ⋯ | 1 | 70.68673 | 47.04804 | 27.96651 | 33.35920 |   6 | NA | NA | NA | NA |\n",
       "| 2023-12-03 | 202349 |  18 |  18 |  18 |  18 | 3300803 | 0.916297800 | 33.4032330 | 0 | ⋯ | 1 | 83.50706 | 66.66836 | 25.70174 | 29.89114 |  18 | NA | NA | NA | NA |\n",
       "| 2023-12-03 | 202349 |   0 |   0 |   0 |   0 | 3302809 | 0.000000000 |  0.0000000 | 0 | ⋯ | 0 | 82.31677 | 63.13503 | 25.32590 | 29.84663 |   0 | NA | NA | NA | NA |\n",
       "| 2023-12-03 | 202349 |   3 |   3 |   3 |   3 | 3302270 | 0.637974300 |  3.1057508 | 0 | ⋯ | 0 | 80.96867 | 62.61081 | 26.61476 | 30.96807 |   3 | NA | NA | NA | NA |\n",
       "| 2023-12-03 | 202349 |   1 |   1 |   1 |   1 | 3302106 | 0.963267900 |  4.3499064 | 0 | ⋯ | 0 | 74.15506 | 52.79231 | 27.75876 | 32.64360 |   1 | NA | NA | NA | NA |\n",
       "| 2023-12-03 | 202349 |  17 |  17 |  17 |  17 | 3302007 | 0.425479170 | 12.7947490 | 0 | ⋯ | 2 | 83.49459 | 68.10229 | 26.29010 | 29.97330 |  15 | NA | NA | NA | NA |\n",
       "| 2023-12-03 | 202349 |   2 |   2 |   2 |   2 | 3302403 | 0.012022004 |  0.7613479 | 0 | ⋯ | 0 | 80.02879 | 61.95936 | 26.00251 | 30.20889 |   2 | NA | NA | NA | NA |\n",
       "\n"
      ],
      "text/plain": [
       "    data_iniSE SE     casos_est casos_est_min casos_est_max casos\n",
       "1   2023-12-31 202401  11        11            11            11  \n",
       "2   2023-12-31 202401   5         5             5             5  \n",
       "3   2023-12-31 202401  12        12            12            12  \n",
       "4   2023-12-31 202401  19        19            19            19  \n",
       "5   2023-12-31 202401  13        13            13            13  \n",
       "6   2023-12-31 202401   9         9             9             9  \n",
       "7   2023-12-31 202401  28        28            28            28  \n",
       "8   2023-12-31 202401  30        30            30            30  \n",
       "9   2023-12-31 202401   3         3             3             3  \n",
       "10  2023-12-31 202401   5         5             5             5  \n",
       "11  2023-12-31 202401 243       243           243           243  \n",
       "12  2023-12-31 202401  32        32            32            32  \n",
       "13  2023-12-31 202401  26        26            26            26  \n",
       "14  2023-12-31 202401   3         3             3             3  \n",
       "15  2023-12-31 202401  19        19            19            19  \n",
       "16  2023-12-31 202401  22        22            22            22  \n",
       "17  2023-12-31 202401 203       203           203           203  \n",
       "18  2023-12-31 202401   5         5             5             5  \n",
       "19  2023-12-31 202401   7         7             7             7  \n",
       "20  2023-12-31 202401  45        45            45            45  \n",
       "21  2023-12-31 202401  26        26            26            26  \n",
       "22  2023-12-31 202401  11        11            11            11  \n",
       "23  2023-12-31 202401  18        18            18            18  \n",
       "24  2023-12-31 202401  38        38            38            38  \n",
       "25  2023-12-31 202401  32        32            32            32  \n",
       "26  2023-12-31 202401   3         3             3             3  \n",
       "27  2023-12-31 202401  12        12            12            12  \n",
       "28  2023-12-31 202401 156       156           156           156  \n",
       "29  2023-12-31 202401   6         6             6             6  \n",
       "30  2023-12-31 202401 101       101           101           101  \n",
       "⋮   ⋮          ⋮      ⋮         ⋮             ⋮             ⋮    \n",
       "431 2023-12-03 202349   1         1             1             1  \n",
       "432 2023-12-03 202349   0         0             0             0  \n",
       "433 2023-12-03 202349   0         0             0             0  \n",
       "434 2023-12-03 202349   0         0             0             0  \n",
       "435 2023-12-03 202349   0         0             0             0  \n",
       "436 2023-12-03 202349 101       101           101           101  \n",
       "437 2023-12-03 202349   0         0             0             0  \n",
       "438 2023-12-03 202349   0         0             0             0  \n",
       "439 2023-12-03 202349   6         6             6             6  \n",
       "440 2023-12-03 202349   0         0             0             0  \n",
       "441 2023-12-03 202349   7         7             7             7  \n",
       "442 2023-12-03 202349  15        15            15            15  \n",
       "443 2023-12-03 202349   0         0             0             0  \n",
       "444 2023-12-03 202349  47        47            47            47  \n",
       "445 2023-12-03 202349   2         2             2             2  \n",
       "446 2023-12-03 202349  26        26            26            26  \n",
       "447 2023-12-03 202349  16        16            16            16  \n",
       "448 2023-12-03 202349   2         2             2             2  \n",
       "449 2023-12-03 202349   4         4             4             4  \n",
       "450 2023-12-03 202349  39        39            39            39  \n",
       "451 2023-12-03 202349   0         0             0             0  \n",
       "452 2023-12-03 202349   0         0             0             0  \n",
       "453 2023-12-03 202349   8         8             8             8  \n",
       "454 2023-12-03 202349   9         9             9             9  \n",
       "455 2023-12-03 202349  18        18            18            18  \n",
       "456 2023-12-03 202349   0         0             0             0  \n",
       "457 2023-12-03 202349   3         3             3             3  \n",
       "458 2023-12-03 202349   1         1             1             1  \n",
       "459 2023-12-03 202349  17        17            17            17  \n",
       "460 2023-12-03 202349   2         2             2             2  \n",
       "    municipio_geocodigo p_rt1       p_inc100k  Localidade_id ⋯ nivel_inc\n",
       "1   3301207             0.9261000    64.143684 0             ⋯ 1        \n",
       "2   3305752             0.9957709    16.041580 0             ⋯ 1        \n",
       "3   3301801             0.9804760   101.505670 0             ⋯ 2        \n",
       "4   3301850             0.9841978    37.691680 0             ⋯ 2        \n",
       "5   3303005             0.9517184    48.791473 0             ⋯ 1        \n",
       "6   3303955             0.6903663    36.655400 0             ⋯ 1        \n",
       "7   3304110             0.9985263   137.423310 0             ⋯ 2        \n",
       "8   3305505             0.9995135    33.800910 0             ⋯ 1        \n",
       "9   3300225             0.9421743    25.499363 0             ⋯ 0        \n",
       "10  3304409             0.9895125    26.962898 0             ⋯ 0        \n",
       "11  3304524             1.0000000   162.474430 0             ⋯ 2        \n",
       "12  3304706             0.9999996    78.297040 0             ⋯ 2        \n",
       "13  3305307             0.9999860   337.355650 0             ⋯ 2        \n",
       "14  3303203             0.9864174     1.996260 0             ⋯ 0        \n",
       "15  3306107             0.9997008    26.292482 0             ⋯ 2        \n",
       "16  3300456             0.9319806     4.924664 0             ⋯ 2        \n",
       "17  3300100             1.0000000   112.013596 0             ⋯ 2        \n",
       "18  3302809             0.9596037    28.635244 0             ⋯ 1        \n",
       "19  3300258             0.9974380    22.558815 0             ⋯ 1        \n",
       "20  3301306             0.9999582    98.749176 0             ⋯ 2        \n",
       "21  3300233             0.9999997    66.610306 0             ⋯ 2        \n",
       "22  3303856             0.9979631    37.427696 0             ⋯ 2        \n",
       "23  3300308             0.9963596    19.774788 0             ⋯ 2        \n",
       "24  3302601             0.9996798    97.553460 0             ⋯ 2        \n",
       "25  3300803             0.9991648    59.383526 0             ⋯ 2        \n",
       "26  3302304             0.9872154    44.332790 0             ⋯ 0        \n",
       "27  3301108             0.9436649    61.718872 0             ⋯ 1        \n",
       "28  3303500             1.0000000    19.044502 0             ⋯ 2        \n",
       "29  3305554             0.9828328     7.029136 0             ⋯ 1        \n",
       "30  3303906             1.0000000    33.141050 0             ⋯ 2        \n",
       "⋮   ⋮                   ⋮           ⋮          ⋮             ⋱ ⋮        \n",
       "431 3303302             0.006431249  0.1909621 0             ⋯ 0        \n",
       "432 3304409             0.000000000  0.0000000 0             ⋯ 0        \n",
       "433 3305158             0.500000000  0.0000000 0             ⋯ 0        \n",
       "434 3300233             0.000000000  0.0000000 0             ⋯ 0        \n",
       "435 3303856             0.000000000  0.0000000 0             ⋯ 0        \n",
       "436 3304524             0.972614100 67.5305250 0             ⋯ 2        \n",
       "437 3305901             0.000000000  0.0000000 0             ⋯ 0        \n",
       "438 3306156             0.000000000  0.0000000 0             ⋯ 0        \n",
       "439 3304003             0.510871350 21.4316330 0             ⋯ 1        \n",
       "440 3302452             0.000000000  0.0000000 0             ⋯ 0        \n",
       "441 3304706             0.348500880 17.1274780 0             ⋯ 1        \n",
       "442 3304904             0.545851230  1.6138647 0             ⋯ 0        \n",
       "443 3305554             0.000000000  0.0000000 0             ⋯ 0        \n",
       "444 3306305             0.999907700 17.3724690 0             ⋯ 1        \n",
       "445 3305307             0.687753800 25.9504340 0             ⋯ 0        \n",
       "446 3303401             0.826959700 12.7061700 0             ⋯ 1        \n",
       "447 3303906             0.625782850  5.2500670 0             ⋯ 2        \n",
       "448 3301504             0.816611400  9.5955480 0             ⋯ 0        \n",
       "449 3302858             0.611740500  2.3689806 0             ⋯ 0        \n",
       "450 3300100             0.065632865 21.5198540 0             ⋯ 1        \n",
       "451 3305802             0.000000000  0.0000000 0             ⋯ 0        \n",
       "452 3305752             0.000000000  0.0000000 0             ⋯ 0        \n",
       "453 3300951             0.920166100 91.2304700 0             ⋯ 1        \n",
       "454 3302056             0.127595770 65.5546650 0             ⋯ 1        \n",
       "455 3300803             0.916297800 33.4032330 0             ⋯ 1        \n",
       "456 3302809             0.000000000  0.0000000 0             ⋯ 0        \n",
       "457 3302270             0.637974300  3.1057508 0             ⋯ 0        \n",
       "458 3302106             0.963267900  4.3499064 0             ⋯ 0        \n",
       "459 3302007             0.425479170 12.7947490 0             ⋯ 2        \n",
       "460 3302403             0.012022004  0.7613479 0             ⋯ 0        \n",
       "    umidmed  umidmin  tempmed  tempmax  casprov casprov_est casprov_est_min\n",
       "1   86.31443 74.81649 22.08231 24.50814   5     NA          NA             \n",
       "2   83.27701 73.67101 23.64674 25.60710   1     NA          NA             \n",
       "3   84.59954 72.56147 22.40403 24.94773   3     NA          NA             \n",
       "4   86.38757 75.17570 23.18124 25.59660  10     NA          NA             \n",
       "5   85.84879 74.12201 23.23376 25.43500   5     NA          NA             \n",
       "6   84.15786 72.26394 22.64483 25.40886   4     NA          NA             \n",
       "7   85.58869 73.05383 21.88330 24.87064   8     NA          NA             \n",
       "8   82.67047 75.28619 24.29591 25.77090   9     NA          NA             \n",
       "9   88.34176 77.60486 21.04411 23.62354   3     NA          NA             \n",
       "10  83.70591 73.09774 22.03871 24.56499   2     NA          NA             \n",
       "11  85.32911 76.09460 23.98634 25.63654 132     NA          NA             \n",
       "12  85.59579 73.79844 23.45407 25.70076  19     NA          NA             \n",
       "13  86.75343 74.30880 22.68927 24.97696  26     NA          NA             \n",
       "14  79.55936 64.87224 24.47613 27.28331   3     NA          NA             \n",
       "15  86.07799 73.71303 21.39617 24.11010   5     NA          NA             \n",
       "16  82.61673 68.62017 24.47834 27.22931   5     NA          NA             \n",
       "17  85.79797 76.52670 21.45544 23.74159 153     NA          NA             \n",
       "18  84.93214 73.34896 22.50846 25.06700   1     NA          NA             \n",
       "19  81.65181 75.50570 24.24280 25.36699   3     NA          NA             \n",
       "20  86.45163 76.59390 23.09910 24.94353   6     NA          NA             \n",
       "21  81.84831 75.64057 24.49191 25.55229  24     NA          NA             \n",
       "22  86.53097 75.49444 21.22587 23.63109   9     NA          NA             \n",
       "23  84.83489 73.25777 22.02057 24.66976  10     NA          NA             \n",
       "24  83.80877 74.03489 22.49611 24.82051  14     NA          NA             \n",
       "25  87.86720 77.60239 22.52993 24.84526  26     NA          NA             \n",
       "26  85.97001 74.97896 23.07184 25.33293   3     NA          NA             \n",
       "27  86.02594 74.06677 22.33466 24.73559  12     NA          NA             \n",
       "28  82.55169 68.76487 23.80997 26.53031  58     NA          NA             \n",
       "29  83.18103 70.21560 24.25607 26.86407   4     NA          NA             \n",
       "30  87.72831 77.22151 20.25073 22.68356  57     NA          NA             \n",
       "⋮   ⋮        ⋮        ⋮        ⋮        ⋮       ⋮           ⋮              \n",
       "431 77.48269 59.89254 27.45761 31.36540   0     NA          NA             \n",
       "432 83.62517 66.92873 24.46984 28.29846   0     NA          NA             \n",
       "433 81.01003 61.66251 23.96716 28.10726   0     NA          NA             \n",
       "434 82.42064 70.56477 26.04523 28.60591   0     NA          NA             \n",
       "435 81.25953 61.53396 24.37324 28.78689   0     NA          NA             \n",
       "436 80.38717 63.49903 26.88744 30.82504 101     NA          NA             \n",
       "437 79.36511 59.78857 24.47831 28.80120   0     NA          NA             \n",
       "438 73.50676 52.37489 25.45713 30.16730   0     NA          NA             \n",
       "439 83.23574 64.93241 25.29660 29.64949   2     NA          NA             \n",
       "440 78.33643 60.33009 25.53619 29.68893   0     NA          NA             \n",
       "441 73.61337 52.42067 27.54944 32.46999   1     NA          NA             \n",
       "442 79.05109 61.79447 27.26167 31.13134   9     NA          NA             \n",
       "443 82.18256 65.54550 26.83577 30.80979   0     NA          NA             \n",
       "444 82.60871 63.06744 24.87374 29.35997  41     NA          NA             \n",
       "445 75.63594 55.21280 26.70411 31.37603   2     NA          NA             \n",
       "446 81.83781 63.63916 23.10783 27.24156   8     NA          NA             \n",
       "447 81.73606 63.17373 23.26517 27.53083   5     NA          NA             \n",
       "448 79.46833 62.00381 25.00786 29.00450   2     NA          NA             \n",
       "449 79.18611 61.53004 27.12009 31.13714   3     NA          NA             \n",
       "450 86.25177 71.49449 23.72850 26.88484  27     NA          NA             \n",
       "451 82.03913 63.90536 23.01339 27.12274   0     NA          NA             \n",
       "452 81.93850 67.09837 26.35436 29.93817   0     NA          NA             \n",
       "453 79.45310 57.48151 25.65169 30.35103   8     NA          NA             \n",
       "454 70.68673 47.04804 27.96651 33.35920   6     NA          NA             \n",
       "455 83.50706 66.66836 25.70174 29.89114  18     NA          NA             \n",
       "456 82.31677 63.13503 25.32590 29.84663   0     NA          NA             \n",
       "457 80.96867 62.61081 26.61476 30.96807   3     NA          NA             \n",
       "458 74.15506 52.79231 27.75876 32.64360   1     NA          NA             \n",
       "459 83.49459 68.10229 26.29010 29.97330  15     NA          NA             \n",
       "460 80.02879 61.95936 26.00251 30.20889   2     NA          NA             \n",
       "    casprov_est_max casconf\n",
       "1   NA              NA     \n",
       "2   NA              NA     \n",
       "3   NA              NA     \n",
       "4   NA              NA     \n",
       "5   NA              NA     \n",
       "6   NA              NA     \n",
       "7   NA              NA     \n",
       "8   NA              NA     \n",
       "9   NA              NA     \n",
       "10  NA              NA     \n",
       "11  NA              NA     \n",
       "12  NA              NA     \n",
       "13  NA              NA     \n",
       "14  NA              NA     \n",
       "15  NA              NA     \n",
       "16  NA              NA     \n",
       "17  NA              NA     \n",
       "18  NA              NA     \n",
       "19  NA              NA     \n",
       "20  NA              NA     \n",
       "21  NA              NA     \n",
       "22  NA              NA     \n",
       "23  NA              NA     \n",
       "24  NA              NA     \n",
       "25  NA              NA     \n",
       "26  NA              NA     \n",
       "27  NA              NA     \n",
       "28  NA              NA     \n",
       "29  NA              NA     \n",
       "30  NA              NA     \n",
       "⋮   ⋮               ⋮      \n",
       "431 NA              NA     \n",
       "432 NA              NA     \n",
       "433 NA              NA     \n",
       "434 NA              NA     \n",
       "435 NA              NA     \n",
       "436 NA              NA     \n",
       "437 NA              NA     \n",
       "438 NA              NA     \n",
       "439 NA              NA     \n",
       "440 NA              NA     \n",
       "441 NA              NA     \n",
       "442 NA              NA     \n",
       "443 NA              NA     \n",
       "444 NA              NA     \n",
       "445 NA              NA     \n",
       "446 NA              NA     \n",
       "447 NA              NA     \n",
       "448 NA              NA     \n",
       "449 NA              NA     \n",
       "450 NA              NA     \n",
       "451 NA              NA     \n",
       "452 NA              NA     \n",
       "453 NA              NA     \n",
       "454 NA              NA     \n",
       "455 NA              NA     \n",
       "456 NA              NA     \n",
       "457 NA              NA     \n",
       "458 NA              NA     \n",
       "459 NA              NA     \n",
       "460 NA              NA     "
      ]
     },
     "metadata": {},
     "output_type": "display_data"
    }
   ],
   "source": [
    "data <- mosq$get_infodengue(api_key = api_key, disease='dengue', start_date='2023-12-01',end_date='2023-12-31', uf='RJ')\n",
    "data"
   ]
  },
  {
   "cell_type": "code",
   "execution_count": null,
   "id": "1c83acec-84f2-4d6c-8fd6-6d2e06d31b6c",
   "metadata": {
    "vscode": {
     "languageId": "r"
    }
   },
   "outputs": [],
   "source": []
  }
 ],
 "metadata": {
  "kernelspec": {
   "display_name": "R",
   "language": "R",
   "name": "ir"
  },
  "language_info": {
   "codemirror_mode": "r",
   "file_extension": ".r",
   "mimetype": "text/x-r-source",
   "name": "R",
   "pygments_lexer": "r",
   "version": "4.3.2"
  }
 },
 "nbformat": 4,
 "nbformat_minor": 5
}
