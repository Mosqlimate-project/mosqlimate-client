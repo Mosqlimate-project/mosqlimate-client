{
 "cells": [
  {
   "cell_type": "markdown",
   "metadata": {},
   "source": [
    "In this notebook it will be provide examples about how the `mosqlient` package can be used to get and post models on the platform. This is done using the class `Model` imported in the cell below. "
   ]
  },
  {
   "cell_type": "code",
   "execution_count": 1,
   "metadata": {},
   "outputs": [],
   "source": [
    "from mosqlient.registry import Model"
   ]
  },
  {
   "cell_type": "markdown",
   "metadata": {},
   "source": [
    "### Get models\n",
    "\n",
    "To obtain a list of the models saved on the platform it can be used the  class method `get()`. To use this method is not necessary to provide your API key. This method accept any of the parameters below: \n",
    "\n",
    " - `id`: (int, str),\n",
    " - `name`: str,\n",
    " - `description`: str,\n",
    " - `author_name`: str,\n",
    " - `author_username`: str,\n",
    " - `author_institution`: str,\n",
    " - `repository`: str,\n",
    " - `implementation_language`: str,\n",
    " - `disease`: str,\n",
    " - `ADM_level`: (str, int),\n",
    " - `temporal`: bool,\n",
    " - `spatial`: bool,\n",
    " - `categorical`: bool,\n",
    " - `time_resolution`: str\n",
    "\n",
    " If any parameter is provided the method will return all the models registered on the platform. \n"
   ]
  },
  {
   "cell_type": "code",
   "execution_count": 3,
   "metadata": {},
   "outputs": [
    {
     "name": "stdout",
     "output_type": "stream",
     "text": [
      "Number of models returned: 5\n"
     ]
    }
   ],
   "source": [
    "list_of_models = Model.get()\n",
    "\n",
    "print('Number of models returned:', len(list_of_models))"
   ]
  },
  {
   "cell_type": "code",
   "execution_count": 4,
   "metadata": {},
   "outputs": [
    {
     "data": {
      "text/plain": [
       "{'id': 10,\n",
       " 'name': 'LSTM model',\n",
       " 'description': \"In this repo, it's implemented a LSTM model that \\nforecast the cases in the next four weeks and it used to gen probabilist forecasts according to a MEM baseline.\\n\",\n",
       " 'author': {'user': {'name': 'Eduardo Correa Araujo',\n",
       "   'username': 'eduardocorrearaujo'},\n",
       "  'institution': None},\n",
       " 'repository': 'https://github.com/Mosqlimate-project/probabilistic_forecast',\n",
       " 'implementation_language': {'language': 'Python'},\n",
       " 'disease': 'dengue',\n",
       " 'categorical': False,\n",
       " 'spatial': False,\n",
       " 'temporal': True,\n",
       " 'ADM_level': 2,\n",
       " 'time_resolution': 'week'}"
      ]
     },
     "execution_count": 4,
     "metadata": {},
     "output_type": "execute_result"
    }
   ],
   "source": [
    "list_of_models[0]"
   ]
  },
  {
   "cell_type": "markdown",
   "metadata": {},
   "source": [
    "Otherwise, if you provide values as parameters in the method it will return just the models that match the value of the parameters, for example, searching by a specific `id` returns: "
   ]
  },
  {
   "cell_type": "code",
   "execution_count": 10,
   "metadata": {},
   "outputs": [
    {
     "name": "stdout",
     "output_type": "stream",
     "text": [
      "Number of models returned: 1\n"
     ]
    }
   ],
   "source": [
    "list_of_models = Model.get(id =10)\n",
    "\n",
    "print('Number of models returned:', len(list_of_models))"
   ]
  },
  {
   "cell_type": "code",
   "execution_count": 11,
   "metadata": {},
   "outputs": [
    {
     "data": {
      "text/plain": [
       "{'id': 10,\n",
       " 'name': 'LSTM model',\n",
       " 'description': \"In this repo, it's implemented a LSTM model that \\nforecast the cases in the next four weeks and it used to gen probabilist forecasts according to a MEM baseline.\\n\",\n",
       " 'author': {'user': {'name': 'Eduardo Correa Araujo',\n",
       "   'username': 'eduardocorrearaujo'},\n",
       "  'institution': None},\n",
       " 'repository': 'https://github.com/Mosqlimate-project/probabilistic_forecast',\n",
       " 'implementation_language': {'language': 'Python'},\n",
       " 'disease': 'dengue',\n",
       " 'categorical': False,\n",
       " 'spatial': False,\n",
       " 'temporal': True,\n",
       " 'ADM_level': 2,\n",
       " 'time_resolution': 'week'}"
      ]
     },
     "execution_count": 11,
     "metadata": {},
     "output_type": "execute_result"
    }
   ],
   "source": [
    "list_of_models[0]"
   ]
  },
  {
   "cell_type": "markdown",
   "metadata": {},
   "source": [
    "### Post models\n",
    "\n",
    "To use the post method to upload a model on the platform is necessary to provide your API-KEY, and fill the following information about your models:\n",
    "\n",
    "- `name`: str,\n",
    "- `description`: str,\n",
    "- `repository`: str,\n",
    "- `implementation_language`: str,\n",
    "- `disease`: Literal[\"dengue\", \"chikungunya\", \"zika\"],\n",
    "- `temporal`: bool,\n",
    "- `spatial`: bool,\n",
    "- `categorical`: bool,\n",
    "- `adm_level`: Literal[0, 1, 2, 3],\n",
    "- `time_resolution`: Literal[\"day\", \"week\", \"month\", \"year\"]\n",
    "        \n",
    "Look at the example in the cell below: "
   ]
  },
  {
   "cell_type": "code",
   "execution_count": 4,
   "metadata": {},
   "outputs": [
    {
     "ename": "ModelPostError",
     "evalue": "POST request returned status code 422",
     "output_type": "error",
     "traceback": [
      "\u001b[0;31m---------------------------------------------------------------------------\u001b[0m",
      "\u001b[0;31mModelPostError\u001b[0m                            Traceback (most recent call last)",
      "Cell \u001b[0;32mIn[4], line 20\u001b[0m\n\u001b[1;32m     17\u001b[0m adm_level \u001b[38;5;241m=\u001b[39m \u001b[38;5;241m1\u001b[39m\n\u001b[1;32m     18\u001b[0m time_resolution \u001b[38;5;241m=\u001b[39m  \u001b[38;5;124m\"\u001b[39m\u001b[38;5;124mmonth\u001b[39m\u001b[38;5;124m\"\u001b[39m\n\u001b[0;32m---> 20\u001b[0m \u001b[43mModel\u001b[49m\u001b[43m(\u001b[49m\u001b[43mClient\u001b[49m\u001b[43m(\u001b[49m\u001b[43mapi_key\u001b[49m\u001b[43m)\u001b[49m\u001b[43m)\u001b[49m\u001b[38;5;241;43m.\u001b[39;49m\u001b[43mpost\u001b[49m\u001b[43m(\u001b[49m\n\u001b[1;32m     21\u001b[0m \u001b[43m        \u001b[49m\u001b[43mname\u001b[49m\u001b[43m \u001b[49m\u001b[38;5;241;43m=\u001b[39;49m\u001b[43m \u001b[49m\u001b[43mname\u001b[49m\u001b[43m,\u001b[49m\n\u001b[1;32m     22\u001b[0m \u001b[43m        \u001b[49m\u001b[43mdescription\u001b[49m\u001b[43m \u001b[49m\u001b[38;5;241;43m=\u001b[39;49m\u001b[43m \u001b[49m\u001b[43mdescription\u001b[49m\u001b[43m,\u001b[49m\n\u001b[1;32m     23\u001b[0m \u001b[43m        \u001b[49m\u001b[43mrepository\u001b[49m\u001b[43m \u001b[49m\u001b[38;5;241;43m=\u001b[39;49m\u001b[43m \u001b[49m\u001b[43mrepository\u001b[49m\u001b[43m,\u001b[49m\n\u001b[1;32m     24\u001b[0m \u001b[43m        \u001b[49m\u001b[43mimplementation_language\u001b[49m\u001b[43m \u001b[49m\u001b[38;5;241;43m=\u001b[39;49m\u001b[43m \u001b[49m\u001b[43mimplementation_language\u001b[49m\u001b[43m,\u001b[49m\n\u001b[1;32m     25\u001b[0m \u001b[43m        \u001b[49m\u001b[43mdisease\u001b[49m\u001b[43m \u001b[49m\u001b[38;5;241;43m=\u001b[39;49m\u001b[43m \u001b[49m\u001b[43mdisease\u001b[49m\u001b[43m,\u001b[49m\n\u001b[1;32m     26\u001b[0m \u001b[43m        \u001b[49m\u001b[43mtemporal\u001b[49m\u001b[43m \u001b[49m\u001b[38;5;241;43m=\u001b[39;49m\u001b[43m \u001b[49m\u001b[43mtemporal\u001b[49m\u001b[43m,\u001b[49m\n\u001b[1;32m     27\u001b[0m \u001b[43m        \u001b[49m\u001b[43mspatial\u001b[49m\u001b[38;5;241;43m=\u001b[39;49m\u001b[43m \u001b[49m\u001b[43mspatial\u001b[49m\u001b[43m,\u001b[49m\n\u001b[1;32m     28\u001b[0m \u001b[43m        \u001b[49m\u001b[43mcategorical\u001b[49m\u001b[43m \u001b[49m\u001b[38;5;241;43m=\u001b[39;49m\u001b[43m \u001b[49m\u001b[43mcategorical\u001b[49m\u001b[43m,\u001b[49m\n\u001b[1;32m     29\u001b[0m \u001b[43m        \u001b[49m\u001b[43madm_level\u001b[49m\u001b[43m \u001b[49m\u001b[38;5;241;43m=\u001b[39;49m\u001b[43m \u001b[49m\u001b[43madm_level\u001b[49m\u001b[43m,\u001b[49m\n\u001b[1;32m     30\u001b[0m \u001b[43m        \u001b[49m\u001b[43mtime_resolution\u001b[49m\u001b[43m \u001b[49m\u001b[38;5;241;43m=\u001b[39;49m\u001b[43m \u001b[49m\u001b[43mtime_resolution\u001b[49m\u001b[43m)\u001b[49m\n",
      "File \u001b[0;32m/opt/homebrew/Caskroom/miniforge/base/envs/test_mosq/lib/python3.12/site-packages/mosqlient/registry/models.py:91\u001b[0m, in \u001b[0;36mModel.post\u001b[0;34m(self, name, description, repository, implementation_language, disease, temporal, spatial, categorical, adm_level, time_resolution, _env)\u001b[0m\n\u001b[1;32m     88\u001b[0m resp \u001b[38;5;241m=\u001b[39m requests\u001b[38;5;241m.\u001b[39mpost(url, json\u001b[38;5;241m=\u001b[39mparams, headers\u001b[38;5;241m=\u001b[39mheaders, timeout\u001b[38;5;241m=\u001b[39m\u001b[38;5;241m60\u001b[39m)\n\u001b[1;32m     90\u001b[0m \u001b[38;5;28;01mif\u001b[39;00m resp\u001b[38;5;241m.\u001b[39mstatus_code \u001b[38;5;241m!=\u001b[39m \u001b[38;5;241m201\u001b[39m:\n\u001b[0;32m---> 91\u001b[0m     \u001b[38;5;28;01mraise\u001b[39;00m ModelPostError(\n\u001b[1;32m     92\u001b[0m         \u001b[38;5;124mf\u001b[39m\u001b[38;5;124m\"\u001b[39m\u001b[38;5;124mPOST request returned status code \u001b[39m\u001b[38;5;132;01m{\u001b[39;00mresp\u001b[38;5;241m.\u001b[39mstatus_code\u001b[38;5;132;01m}\u001b[39;00m\u001b[38;5;124m\"\u001b[39m\n\u001b[1;32m     93\u001b[0m     )\n\u001b[1;32m     95\u001b[0m \u001b[38;5;28;01mreturn\u001b[39;00m resp\n",
      "\u001b[0;31mModelPostError\u001b[0m: POST request returned status code 422"
     ]
    }
   ],
   "source": [
    "import os\n",
    "from dotenv import load_dotenv\n",
    "from mosqlient import Client \n",
    "# Load environment variables from .env file\n",
    "load_dotenv()\n",
    "\n",
    "api_key = os.getenv('API_KEY')\n",
    "\n",
    "name = 'test model'\n",
    "description = 'This example model is based on the X methodoly, uses as input the Y variables to predict Z.'\n",
    "repository =  'https://github.com/eduardocorrearaujo/teste_repo.git'\n",
    "implementation_language = 'Python'\n",
    "disease= \"dengue\"\n",
    "temporal= True\n",
    "spatial= False\n",
    "categorical= False\n",
    "adm_level = 1\n",
    "time_resolution =  \"month\"\n",
    "\n",
    "Model(Client(api_key)).post(\n",
    "        name = name,\n",
    "        description = description,\n",
    "        repository = repository,\n",
    "        implementation_language = implementation_language,\n",
    "        disease = disease,\n",
    "        temporal = temporal,\n",
    "        spatial= spatial,\n",
    "        categorical = categorical,\n",
    "        adm_level = adm_level,\n",
    "        time_resolution = time_resolution)"
   ]
  },
  {
   "cell_type": "code",
   "execution_count": null,
   "metadata": {},
   "outputs": [],
   "source": [
    "import os\n",
    "from dotenv import load_dotenv\n",
    "\n",
    "# Load environment variables from .env file\n",
    "load_dotenv()"
   ]
  }
 ],
 "metadata": {
  "kernelspec": {
   "display_name": "mosqlient",
   "language": "python",
   "name": "python3"
  },
  "language_info": {
   "codemirror_mode": {
    "name": "ipython",
    "version": 3
   },
   "file_extension": ".py",
   "mimetype": "text/x-python",
   "name": "python",
   "nbconvert_exporter": "python",
   "pygments_lexer": "ipython3",
   "version": "3.10.14"
  }
 },
 "nbformat": 4,
 "nbformat_minor": 2
}
