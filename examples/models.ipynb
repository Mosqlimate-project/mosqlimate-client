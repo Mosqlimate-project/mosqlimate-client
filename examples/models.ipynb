{
 "cells": [
  {
   "cell_type": "markdown",
   "metadata": {},
   "source": [
    "# Getting and posting models on the platform\n",
    "In this notebook it will be provide examples about how the `mosqlient` package can be used to get and post models on the platform. This is done using the class `Model` imported in the cell below. "
   ]
  },
  {
   "cell_type": "code",
   "metadata": {
    "ExecuteTime": {
     "end_time": "2024-08-08T11:59:48.264561Z",
     "start_time": "2024-08-08T11:59:48.217944Z"
    }
   },
   "source": [
    "from mosqlient.registry import Model"
   ],
   "outputs": [],
   "execution_count": 8
  },
  {
   "cell_type": "markdown",
   "metadata": {},
   "source": [
    "### Get models\n",
    "\n",
    "To obtain a list of the models saved on the platform it can be used the  class method `get()`. To use this method is not necessary to provide your API key. This method accept any of the parameters below: \n",
    "\n",
    " - `id`: (int, str),\n",
    " - `name`: str,\n",
    " - `description`: str,\n",
    " - `author_name`: str,\n",
    " - `author_username`: str,\n",
    " - `author_institution`: str,\n",
    " - `repository`: str,\n",
    " - `implementation_language`: str,\n",
    " - `disease`: str,\n",
    " - `ADM_level`: (str, int),\n",
    " - `temporal`: bool,\n",
    " - `spatial`: bool,\n",
    " - `categorical`: bool,\n",
    " - `time_resolution`: str\n",
    "\n",
    " If any parameter is provided the method will return all the models registered on the platform. \n"
   ]
  },
  {
   "cell_type": "code",
   "metadata": {
    "ExecuteTime": {
     "end_time": "2024-08-08T11:59:50.916021Z",
     "start_time": "2024-08-08T11:59:50.025610Z"
    }
   },
   "source": [
    "list_of_models = Model.get()\n",
    "\n",
    "print('Number of models returned:', len(list_of_models))"
   ],
   "outputs": [
    {
     "name": "stdout",
     "output_type": "stream",
     "text": [
      "Number of models returned: 10\n"
     ]
    }
   ],
   "execution_count": 9
  },
  {
   "cell_type": "code",
   "metadata": {
    "ExecuteTime": {
     "end_time": "2024-08-08T11:59:51.081348Z",
     "start_time": "2024-08-08T11:59:51.072068Z"
    }
   },
   "source": [
    "list_of_models[0]"
   ],
   "outputs": [
    {
     "data": {
      "text/plain": [
       "{'id': 5,\n",
       " 'name': 'Random Forest model with uncertainty computed with conformal prediction',\n",
       " 'description': \"In this repo, in the path /models/gbt it's implemented a random forest regressor model that \\r\\nbased on the last four weeks of data (cases and climate variables), compute the cases in the fourth week ahead.\\r\\n\\r\\nThe predictions for multiple times are obtained in a rolling window fashion, i.e., \\r\\nthe historical data window is moved forward one week at a time, predicting the next fourth week at each step.\\r\\n\\r\\nThe confidence interval of the predictions are computed using the conformal prediction.\",\n",
       " 'author': {'user': {'name': 'Eduardo Correa Araujo',\n",
       "   'username': 'eduardocorrearaujo'},\n",
       "  'institution': None},\n",
       " 'repository': 'https://github.com/eduardocorrearaujo/forecast_models_dengue.git',\n",
       " 'implementation_language': {'language': 'Python'},\n",
       " 'disease': 'dengue',\n",
       " 'categorical': False,\n",
       " 'spatial': False,\n",
       " 'temporal': False,\n",
       " 'ADM_level': 2,\n",
       " 'time_resolution': 'week'}"
      ]
     },
     "execution_count": 10,
     "metadata": {},
     "output_type": "execute_result"
    }
   ],
   "execution_count": 10
  },
  {
   "cell_type": "markdown",
   "metadata": {},
   "source": [
    "Otherwise, if you provide values as parameters in the method it will return just the models that match the value of the parameters, for example, searching by a specific `id` returns: "
   ]
  },
  {
   "cell_type": "code",
   "metadata": {
    "ExecuteTime": {
     "end_time": "2024-08-08T11:59:55.334564Z",
     "start_time": "2024-08-08T11:59:54.427178Z"
    }
   },
   "source": [
    "list_of_models = Model.get(id =10)\n",
    "\n",
    "print('Number of models returned:', len(list_of_models))"
   ],
   "outputs": [
    {
     "name": "stdout",
     "output_type": "stream",
     "text": [
      "Number of models returned: 1\n"
     ]
    }
   ],
   "execution_count": 11
  },
  {
   "cell_type": "code",
   "metadata": {
    "ExecuteTime": {
     "end_time": "2024-08-08T11:59:56.347146Z",
     "start_time": "2024-08-08T11:59:56.344742Z"
    }
   },
   "source": [
    "list_of_models[0]"
   ],
   "outputs": [
    {
     "data": {
      "text/plain": [
       "{'id': 10,\n",
       " 'name': 'LSTM model',\n",
       " 'description': \"In this repo, it's implemented a LSTM model that \\nforecast the cases in the next four weeks and it used to gen probabilist forecasts according to a MEM baseline.\\n\",\n",
       " 'author': {'user': {'name': 'Eduardo Correa Araujo',\n",
       "   'username': 'eduardocorrearaujo'},\n",
       "  'institution': None},\n",
       " 'repository': 'https://github.com/Mosqlimate-project/probabilistic_forecast',\n",
       " 'implementation_language': {'language': 'Python'},\n",
       " 'disease': 'dengue',\n",
       " 'categorical': False,\n",
       " 'spatial': False,\n",
       " 'temporal': True,\n",
       " 'ADM_level': 2,\n",
       " 'time_resolution': 'week'}"
      ]
     },
     "execution_count": 12,
     "metadata": {},
     "output_type": "execute_result"
    }
   ],
   "execution_count": 12
  },
  {
   "cell_type": "markdown",
   "metadata": {},
   "source": [
    "### Post models\n",
    "\n",
    "To use the post method to upload a model on the platform is necessary to provide your API-KEY, and fill the following information about your models:\n",
    "\n",
    "- `name`: str,\n",
    "- `description`: str,\n",
    "- `repository`: str,\n",
    "- `implementation_language`: str,\n",
    "- `disease`: Literal[\"dengue\", \"chikungunya\", \"zika\"],\n",
    "- `temporal`: bool,\n",
    "- `spatial`: bool,\n",
    "- `categorical`: bool,\n",
    "- `adm_level`: Literal[0, 1, 2, 3],\n",
    "- `time_resolution`: Literal[\"day\", \"week\", \"month\", \"year\"]\n",
    "        \n",
    "Look at the example in the cell below: "
   ]
  },
  {
   "cell_type": "code",
   "metadata": {
    "ExecuteTime": {
     "end_time": "2024-08-08T11:59:58.428857Z",
     "start_time": "2024-08-08T11:59:58.274222Z"
    }
   },
   "source": [
    "import os\n",
    "from mosqlient import Client \n",
    "\n",
    "# https://api.mosqlimate.org/docs/registry/POST/uid-key/\n",
    "client = Client(\"<USER>:<API-KEY>\", \"dev\")\n",
    "\n",
    "name = 'test model'\n",
    "description = 'This example model is based on the X methodoly, uses as input the Y variables to predict Z.'\n",
    "repository =  'https://github.com/eduardocorrearaujo/teste_repo.git'\n",
    "implementation_language = 'Python'\n",
    "disease= \"dengue\"\n",
    "temporal= True\n",
    "spatial= False\n",
    "categorical= False\n",
    "adm_level = 1\n",
    "time_resolution =  \"month\"\n",
    "\n",
    "Model(client=client).post(\n",
    "        name = name,\n",
    "        description = description,\n",
    "        repository = repository,\n",
    "        implementation_language = implementation_language,\n",
    "        disease = disease,\n",
    "        temporal = temporal,\n",
    "        spatial= spatial,\n",
    "        categorical = categorical,\n",
    "        adm_level = adm_level,\n",
    "        time_resolution = time_resolution)"
   ],
   "outputs": [
    {
     "ename": "TypeError",
     "evalue": "PlatformClient.__init__() takes 2 positional arguments but 3 were given",
     "output_type": "error",
     "traceback": [
      "\u001B[0;31m---------------------------------------------------------------------------\u001B[0m",
      "\u001B[0;31mTypeError\u001B[0m                                 Traceback (most recent call last)",
      "Cell \u001B[0;32mIn[13], line 5\u001B[0m\n\u001B[1;32m      2\u001B[0m \u001B[38;5;28;01mfrom\u001B[39;00m \u001B[38;5;21;01mmosqlient\u001B[39;00m \u001B[38;5;28;01mimport\u001B[39;00m Client \n\u001B[1;32m      4\u001B[0m \u001B[38;5;66;03m# https://api.mosqlimate.org/docs/registry/POST/uid-key/\u001B[39;00m\n\u001B[0;32m----> 5\u001B[0m client \u001B[38;5;241m=\u001B[39m \u001B[43mClient\u001B[49m\u001B[43m(\u001B[49m\u001B[38;5;124;43m\"\u001B[39;49m\u001B[38;5;124;43m<USER>:<API-KEY>\u001B[39;49m\u001B[38;5;124;43m\"\u001B[39;49m\u001B[43m,\u001B[49m\u001B[43m \u001B[49m\u001B[38;5;124;43m\"\u001B[39;49m\u001B[38;5;124;43mdev\u001B[39;49m\u001B[38;5;124;43m\"\u001B[39;49m\u001B[43m)\u001B[49m\n\u001B[1;32m      7\u001B[0m name \u001B[38;5;241m=\u001B[39m \u001B[38;5;124m'\u001B[39m\u001B[38;5;124mtest model\u001B[39m\u001B[38;5;124m'\u001B[39m\n\u001B[1;32m      8\u001B[0m description \u001B[38;5;241m=\u001B[39m \u001B[38;5;124m'\u001B[39m\u001B[38;5;124mThis example model is based on the X methodoly, uses as input the Y variables to predict Z.\u001B[39m\u001B[38;5;124m'\u001B[39m\n",
      "File \u001B[0;32m/usr/lib/python3.12/typing.py:1157\u001B[0m, in \u001B[0;36m_BaseGenericAlias.__call__\u001B[0;34m(self, *args, **kwargs)\u001B[0m\n\u001B[1;32m   1154\u001B[0m \u001B[38;5;28;01mif\u001B[39;00m \u001B[38;5;129;01mnot\u001B[39;00m \u001B[38;5;28mself\u001B[39m\u001B[38;5;241m.\u001B[39m_inst:\n\u001B[1;32m   1155\u001B[0m     \u001B[38;5;28;01mraise\u001B[39;00m \u001B[38;5;167;01mTypeError\u001B[39;00m(\u001B[38;5;124mf\u001B[39m\u001B[38;5;124m\"\u001B[39m\u001B[38;5;124mType \u001B[39m\u001B[38;5;132;01m{\u001B[39;00m\u001B[38;5;28mself\u001B[39m\u001B[38;5;241m.\u001B[39m_name\u001B[38;5;132;01m}\u001B[39;00m\u001B[38;5;124m cannot be instantiated; \u001B[39m\u001B[38;5;124m\"\u001B[39m\n\u001B[1;32m   1156\u001B[0m                     \u001B[38;5;124mf\u001B[39m\u001B[38;5;124m\"\u001B[39m\u001B[38;5;124muse \u001B[39m\u001B[38;5;132;01m{\u001B[39;00m\u001B[38;5;28mself\u001B[39m\u001B[38;5;241m.\u001B[39m__origin__\u001B[38;5;241m.\u001B[39m\u001B[38;5;18m__name__\u001B[39m\u001B[38;5;132;01m}\u001B[39;00m\u001B[38;5;124m() instead\u001B[39m\u001B[38;5;124m\"\u001B[39m)\n\u001B[0;32m-> 1157\u001B[0m result \u001B[38;5;241m=\u001B[39m \u001B[38;5;28;43mself\u001B[39;49m\u001B[38;5;241;43m.\u001B[39;49m\u001B[43m__origin__\u001B[49m\u001B[43m(\u001B[49m\u001B[38;5;241;43m*\u001B[39;49m\u001B[43margs\u001B[49m\u001B[43m,\u001B[49m\u001B[43m \u001B[49m\u001B[38;5;241;43m*\u001B[39;49m\u001B[38;5;241;43m*\u001B[39;49m\u001B[43mkwargs\u001B[49m\u001B[43m)\u001B[49m\n\u001B[1;32m   1158\u001B[0m \u001B[38;5;28;01mtry\u001B[39;00m:\n\u001B[1;32m   1159\u001B[0m     result\u001B[38;5;241m.\u001B[39m__orig_class__ \u001B[38;5;241m=\u001B[39m \u001B[38;5;28mself\u001B[39m\n",
      "\u001B[0;31mTypeError\u001B[0m: PlatformClient.__init__() takes 2 positional arguments but 3 were given"
     ]
    }
   ],
   "execution_count": 13
  },
  {
   "metadata": {},
   "cell_type": "code",
   "outputs": [],
   "execution_count": null,
   "source": ""
  }
 ],
 "metadata": {
  "kernelspec": {
   "display_name": "Python 3 (ipykernel)",
   "language": "python",
   "name": "python3"
  },
  "language_info": {
   "codemirror_mode": {
    "name": "ipython",
    "version": 3
   },
   "file_extension": ".py",
   "mimetype": "text/x-python",
   "name": "python",
   "nbconvert_exporter": "python",
   "pygments_lexer": "ipython3",
   "version": "3.12.3"
  }
 },
 "nbformat": 4,
 "nbformat_minor": 4
}
