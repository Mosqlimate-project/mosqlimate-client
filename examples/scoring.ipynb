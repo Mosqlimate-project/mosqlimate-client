{
 "cells": [
  {
   "cell_type": "markdown",
   "id": "cfdd3892-ae77-4c79-93ca-754e259ed5c7",
   "metadata": {},
   "source": [
    "# Scoring Forecast models\n",
    "This notebook explains how the `Scorer` class can be used to compute the following metrics: \n",
    "* MAE (mean absolute error); \n",
    "* MSE (mean squared error); \n",
    "* CRPS (Continuous Ranked Probability Score);\n",
    "* Log Score.\n",
    "\n",
    "The CRPS and Log score assume a normal distribution since the lower and upper 95% CI intervals are used to compute the score. "
   ]
  },
  {
   "cell_type": "code",
   "id": "6ae9fd3d-f244-431e-a88d-edca9cad1061",
   "metadata": {
    "ExecuteTime": {
     "end_time": "2024-08-07T20:23:31.991446Z",
     "start_time": "2024-08-07T20:23:21.991717Z"
    }
   },
   "source": [
    "import numpy as np\n",
    "import pandas as pd\n",
    "from mosqlient import get_infodengue\n",
    "from mosqlient.models.score import Scorer"
   ],
   "outputs": [],
   "execution_count": 1
  },
  {
   "cell_type": "markdown",
   "id": "47bb9ee1-6d7c-40ee-80d6-e58d50589c87",
   "metadata": {},
   "source": [
    "To show the use of the class to compare the score of new predictions with the predictions registered on the platform it will be used the baseline model."
   ]
  },
  {
   "cell_type": "code",
   "id": "be9f0a95-f2b5-4b40-a857-c13de4cb10ca",
   "metadata": {
    "ExecuteTime": {
     "end_time": "2024-08-07T20:23:37.121712Z",
     "start_time": "2024-08-07T20:23:35.989711Z"
    }
   },
   "source": [
    "from datetime import date\n",
    "from mosqlient.datastore import Infodengue\n",
    "from mosqlient.models.baseline import Arima"
   ],
   "outputs": [],
   "execution_count": 2
  },
  {
   "cell_type": "markdown",
   "id": "b4639f80",
   "metadata": {},
   "source": [
    "It will compare the predictions of id 77 and 78, which refer to the geocode 3304557, between `2022-01-02` and `2023-06-25`. \n",
    "\n",
    "So initially, we will get the data that will be used to train the model and generate the new predictions:"
   ]
  },
  {
   "cell_type": "code",
   "id": "a5694e39-5ae1-4301-a6d2-b3f658629ce6",
   "metadata": {
    "ExecuteTime": {
     "end_time": "2024-08-07T20:23:43.377657Z",
     "start_time": "2024-08-07T20:23:40.063777Z"
    }
   },
   "source": [
    "disease = 'dengue'\n",
    "geocode = 3304557 \n",
    "end_date = date.today().strftime('%Y-%m-%d')\n",
    "\n",
    "df = get_infodengue(disease = 'dengue',\n",
    "                start_date = '2010-01-01', \n",
    "              end_date = '2023-12-31', \n",
    "              geocode = 3304557)\n",
    "\n",
    "df['data_iniSE'] = pd.to_datetime(df['data_iniSE'])\n",
    "\n",
    "df.set_index('data_iniSE', inplace = True )\n",
    "    \n",
    "df = df[['casos']].rename(columns = {'casos':'y'})\n",
    "\n",
    "df = df.resample('W-SUN').sum()\n",
    "\n",
    "df.head()"
   ],
   "outputs": [
    {
     "data": {
      "text/plain": [
       "             y\n",
       "data_iniSE    \n",
       "2010-01-03  30\n",
       "2010-01-10  44\n",
       "2010-01-17  46\n",
       "2010-01-24  47\n",
       "2010-01-31  68"
      ],
      "text/html": [
       "<div>\n",
       "<style scoped>\n",
       "    .dataframe tbody tr th:only-of-type {\n",
       "        vertical-align: middle;\n",
       "    }\n",
       "\n",
       "    .dataframe tbody tr th {\n",
       "        vertical-align: top;\n",
       "    }\n",
       "\n",
       "    .dataframe thead th {\n",
       "        text-align: right;\n",
       "    }\n",
       "</style>\n",
       "<table border=\"1\" class=\"dataframe\">\n",
       "  <thead>\n",
       "    <tr style=\"text-align: right;\">\n",
       "      <th></th>\n",
       "      <th>y</th>\n",
       "    </tr>\n",
       "    <tr>\n",
       "      <th>data_iniSE</th>\n",
       "      <th></th>\n",
       "    </tr>\n",
       "  </thead>\n",
       "  <tbody>\n",
       "    <tr>\n",
       "      <th>2010-01-03</th>\n",
       "      <td>30</td>\n",
       "    </tr>\n",
       "    <tr>\n",
       "      <th>2010-01-10</th>\n",
       "      <td>44</td>\n",
       "    </tr>\n",
       "    <tr>\n",
       "      <th>2010-01-17</th>\n",
       "      <td>46</td>\n",
       "    </tr>\n",
       "    <tr>\n",
       "      <th>2010-01-24</th>\n",
       "      <td>47</td>\n",
       "    </tr>\n",
       "    <tr>\n",
       "      <th>2010-01-31</th>\n",
       "      <td>68</td>\n",
       "    </tr>\n",
       "  </tbody>\n",
       "</table>\n",
       "</div>"
      ]
     },
     "execution_count": 3,
     "metadata": {},
     "output_type": "execute_result"
    }
   ],
   "execution_count": 3
  },
  {
   "cell_type": "markdown",
   "id": "3f847a93",
   "metadata": {},
   "source": [
    "Create the model:"
   ]
  },
  {
   "cell_type": "code",
   "id": "7f5447da-5b14-45de-8de7-5d0db003efa8",
   "metadata": {
    "ExecuteTime": {
     "end_time": "2024-08-07T20:23:47.993847Z",
     "start_time": "2024-08-07T20:23:47.991431Z"
    }
   },
   "source": [
    "m_arima = Arima(df = df)\n",
    "\n",
    "m_arima"
   ],
   "outputs": [
    {
     "data": {
      "text/plain": [
       "<mosqlient.models.baseline.Arima at 0x7a787b260050>"
      ]
     },
     "execution_count": 4,
     "metadata": {},
     "output_type": "execute_result"
    }
   ],
   "execution_count": 4
  },
  {
   "cell_type": "markdown",
   "id": "b1d65a8b",
   "metadata": {},
   "source": [
    "Train the model: "
   ]
  },
  {
   "cell_type": "code",
   "id": "3999037f-3ebb-4da5-a43d-4dbd0f924c51",
   "metadata": {
    "ExecuteTime": {
     "end_time": "2024-08-07T20:23:52.756800Z",
     "start_time": "2024-08-07T20:23:51.374647Z"
    }
   },
   "source": [
    "model = m_arima.train(train_ini_date='2010-01-01', train_end_date = '2021-12-31')\n"
   ],
   "outputs": [
    {
     "name": "stdout",
     "output_type": "stream",
     "text": [
      "Performing stepwise search to minimize aic\n",
      " ARIMA(2,1,2)(0,0,0)[0] intercept   : AIC=-292.056, Time=0.09 sec\n",
      " ARIMA(0,1,0)(0,0,0)[0] intercept   : AIC=-263.166, Time=0.02 sec\n",
      " ARIMA(1,1,0)(0,0,0)[0] intercept   : AIC=-297.770, Time=0.02 sec\n",
      " ARIMA(0,1,1)(0,0,0)[0] intercept   : AIC=-289.846, Time=0.03 sec\n",
      " ARIMA(0,1,0)(0,0,0)[0]             : AIC=-265.069, Time=0.02 sec\n",
      " ARIMA(2,1,0)(0,0,0)[0] intercept   : AIC=-302.929, Time=0.04 sec\n",
      " ARIMA(3,1,0)(0,0,0)[0] intercept   : AIC=-302.144, Time=0.04 sec\n",
      " ARIMA(2,1,1)(0,0,0)[0] intercept   : AIC=-309.026, Time=0.08 sec\n",
      " ARIMA(1,1,1)(0,0,0)[0] intercept   : AIC=-301.338, Time=0.05 sec\n",
      " ARIMA(3,1,1)(0,0,0)[0] intercept   : AIC=-307.027, Time=0.15 sec\n",
      " ARIMA(1,1,2)(0,0,0)[0] intercept   : AIC=-305.684, Time=0.11 sec\n",
      " ARIMA(3,1,2)(0,0,0)[0] intercept   : AIC=-306.429, Time=0.21 sec\n",
      " ARIMA(2,1,1)(0,0,0)[0]             : AIC=-310.932, Time=0.04 sec\n",
      " ARIMA(1,1,1)(0,0,0)[0]             : AIC=-303.191, Time=0.04 sec\n",
      " ARIMA(2,1,0)(0,0,0)[0]             : AIC=-304.794, Time=0.02 sec\n",
      " ARIMA(3,1,1)(0,0,0)[0]             : AIC=-308.934, Time=0.05 sec\n",
      " ARIMA(2,1,2)(0,0,0)[0]             : AIC=inf, Time=0.11 sec\n",
      " ARIMA(1,1,0)(0,0,0)[0]             : AIC=-299.603, Time=0.02 sec\n",
      " ARIMA(1,1,2)(0,0,0)[0]             : AIC=-307.585, Time=0.08 sec\n",
      " ARIMA(3,1,0)(0,0,0)[0]             : AIC=-304.014, Time=0.03 sec\n",
      " ARIMA(3,1,2)(0,0,0)[0]             : AIC=-308.337, Time=0.07 sec\n",
      "\n",
      "Best model:  ARIMA(2,1,1)(0,0,0)[0]          \n",
      "Total fit time: 1.333 seconds\n"
     ]
    }
   ],
   "execution_count": 5
  },
  {
   "cell_type": "markdown",
   "id": "4582c684",
   "metadata": {},
   "source": [
    "Generate the out-of-sample predictions:"
   ]
  },
  {
   "cell_type": "code",
   "id": "51c1ca96-8a52-4702-b0c8-037fda568b43",
   "metadata": {
    "ExecuteTime": {
     "end_time": "2024-08-07T20:24:00.044873Z",
     "start_time": "2024-08-07T20:23:59.671701Z"
    }
   },
   "source": [
    "df_out = m_arima.predict_out_of_sample(horizon = 4, end_date = '2023-06-25', plot = False)\n",
    "\n",
    "df_out.head()"
   ],
   "outputs": [
    {
     "data": {
      "text/plain": [
       "       dates      preds      lower      upper  data\n",
       "0 2022-01-02   3.614663   2.380143   5.611557  21.0\n",
       "1 2022-01-09   3.433229   2.039729   5.982199  14.0\n",
       "2 2022-01-16   3.252123   1.717643   6.491392  22.0\n",
       "3 2022-01-23   3.118685   1.490894   7.007503  19.0\n",
       "0 2022-01-30  21.331326  12.570920  37.513218  31.0"
      ],
      "text/html": [
       "<div>\n",
       "<style scoped>\n",
       "    .dataframe tbody tr th:only-of-type {\n",
       "        vertical-align: middle;\n",
       "    }\n",
       "\n",
       "    .dataframe tbody tr th {\n",
       "        vertical-align: top;\n",
       "    }\n",
       "\n",
       "    .dataframe thead th {\n",
       "        text-align: right;\n",
       "    }\n",
       "</style>\n",
       "<table border=\"1\" class=\"dataframe\">\n",
       "  <thead>\n",
       "    <tr style=\"text-align: right;\">\n",
       "      <th></th>\n",
       "      <th>dates</th>\n",
       "      <th>preds</th>\n",
       "      <th>lower</th>\n",
       "      <th>upper</th>\n",
       "      <th>data</th>\n",
       "    </tr>\n",
       "  </thead>\n",
       "  <tbody>\n",
       "    <tr>\n",
       "      <th>0</th>\n",
       "      <td>2022-01-02</td>\n",
       "      <td>3.614663</td>\n",
       "      <td>2.380143</td>\n",
       "      <td>5.611557</td>\n",
       "      <td>21.0</td>\n",
       "    </tr>\n",
       "    <tr>\n",
       "      <th>1</th>\n",
       "      <td>2022-01-09</td>\n",
       "      <td>3.433229</td>\n",
       "      <td>2.039729</td>\n",
       "      <td>5.982199</td>\n",
       "      <td>14.0</td>\n",
       "    </tr>\n",
       "    <tr>\n",
       "      <th>2</th>\n",
       "      <td>2022-01-16</td>\n",
       "      <td>3.252123</td>\n",
       "      <td>1.717643</td>\n",
       "      <td>6.491392</td>\n",
       "      <td>22.0</td>\n",
       "    </tr>\n",
       "    <tr>\n",
       "      <th>3</th>\n",
       "      <td>2022-01-23</td>\n",
       "      <td>3.118685</td>\n",
       "      <td>1.490894</td>\n",
       "      <td>7.007503</td>\n",
       "      <td>19.0</td>\n",
       "    </tr>\n",
       "    <tr>\n",
       "      <th>0</th>\n",
       "      <td>2022-01-30</td>\n",
       "      <td>21.331326</td>\n",
       "      <td>12.570920</td>\n",
       "      <td>37.513218</td>\n",
       "      <td>31.0</td>\n",
       "    </tr>\n",
       "  </tbody>\n",
       "</table>\n",
       "</div>"
      ]
     },
     "execution_count": 6,
     "metadata": {},
     "output_type": "execute_result"
    }
   ],
   "execution_count": 6
  },
  {
   "cell_type": "markdown",
   "id": "74461903",
   "metadata": {},
   "source": [
    "To compare the model with other predictions in the platform, it is necessary to provide the ids of the predictions, the dataframe of the new prediction with the columns `dates`, `preds`, `lower` and `upper`, and the dataframe with the `true` values to be compared (df_true). This dataframe must contain the columns `dates` and `casos`.\n",
    "\n",
    "Redefine the data to compare the predictions:"
   ]
  },
  {
   "cell_type": "code",
   "id": "20ad6b87",
   "metadata": {
    "ExecuteTime": {
     "end_time": "2024-08-07T20:24:03.192533Z",
     "start_time": "2024-08-07T20:24:03.188573Z"
    }
   },
   "source": [
    "data = df.reset_index()\n",
    "\n",
    "data = data.rename(columns = {'data_iniSE': 'dates', 'y':'casos'})\n",
    "\n",
    "data.head()"
   ],
   "outputs": [
    {
     "data": {
      "text/plain": [
       "       dates  casos\n",
       "0 2010-01-03   30.0\n",
       "1 2010-01-10   44.0\n",
       "2 2010-01-17   46.0\n",
       "3 2010-01-24   47.0\n",
       "4 2010-01-31   68.0"
      ],
      "text/html": [
       "<div>\n",
       "<style scoped>\n",
       "    .dataframe tbody tr th:only-of-type {\n",
       "        vertical-align: middle;\n",
       "    }\n",
       "\n",
       "    .dataframe tbody tr th {\n",
       "        vertical-align: top;\n",
       "    }\n",
       "\n",
       "    .dataframe thead th {\n",
       "        text-align: right;\n",
       "    }\n",
       "</style>\n",
       "<table border=\"1\" class=\"dataframe\">\n",
       "  <thead>\n",
       "    <tr style=\"text-align: right;\">\n",
       "      <th></th>\n",
       "      <th>dates</th>\n",
       "      <th>casos</th>\n",
       "    </tr>\n",
       "  </thead>\n",
       "  <tbody>\n",
       "    <tr>\n",
       "      <th>0</th>\n",
       "      <td>2010-01-03</td>\n",
       "      <td>30.0</td>\n",
       "    </tr>\n",
       "    <tr>\n",
       "      <th>1</th>\n",
       "      <td>2010-01-10</td>\n",
       "      <td>44.0</td>\n",
       "    </tr>\n",
       "    <tr>\n",
       "      <th>2</th>\n",
       "      <td>2010-01-17</td>\n",
       "      <td>46.0</td>\n",
       "    </tr>\n",
       "    <tr>\n",
       "      <th>3</th>\n",
       "      <td>2010-01-24</td>\n",
       "      <td>47.0</td>\n",
       "    </tr>\n",
       "    <tr>\n",
       "      <th>4</th>\n",
       "      <td>2010-01-31</td>\n",
       "      <td>68.0</td>\n",
       "    </tr>\n",
       "  </tbody>\n",
       "</table>\n",
       "</div>"
      ]
     },
     "execution_count": 7,
     "metadata": {},
     "output_type": "execute_result"
    }
   ],
   "execution_count": 7
  },
  {
   "cell_type": "code",
   "id": "de2a5e3f-562d-4751-9a30-2112d4bdc904",
   "metadata": {
    "ExecuteTime": {
     "end_time": "2024-08-07T20:24:06.159042Z",
     "start_time": "2024-08-07T20:24:04.149107Z"
    }
   },
   "source": [
    "%%time\n",
    "score = Scorer(df_true = data, ids = [77,78], preds = df_out)"
   ],
   "outputs": [
    {
     "name": "stdout",
     "output_type": "stream",
     "text": [
      "CPU times: user 8.18 ms, sys: 3.01 ms, total: 11.2 ms\n",
      "Wall time: 2.01 s\n"
     ]
    }
   ],
   "execution_count": 8
  },
  {
   "cell_type": "markdown",
   "id": "8ff30c71",
   "metadata": {},
   "source": [
    "**The class above can be initialized with just the `ids` or `preds` parameter filled.** \n",
    "\n",
    "To see the MAE error for your model (key = `preds`) and the other use: "
   ]
  },
  {
   "cell_type": "code",
   "id": "a4c7935d-21e2-4681-bee5-19a776c4de4b",
   "metadata": {
    "ExecuteTime": {
     "end_time": "2024-08-07T20:24:08.578951Z",
     "start_time": "2024-08-07T20:24:08.575622Z"
    }
   },
   "source": [
    "score.mae"
   ],
   "outputs": [
    {
     "data": {
      "text/plain": [
       "{'preds': 115.49745506834294,\n",
       " '77': 150.21846153846153,\n",
       " '78': 260.9831835557859}"
      ]
     },
     "execution_count": 9,
     "metadata": {},
     "output_type": "execute_result"
    }
   ],
   "execution_count": 9
  },
  {
   "cell_type": "markdown",
   "id": "bd3166c0",
   "metadata": {},
   "source": [
    "To plot a bar chart: "
   ]
  },
  {
   "cell_type": "code",
   "id": "2819d0da",
   "metadata": {
    "ExecuteTime": {
     "end_time": "2024-08-07T20:24:10.665224Z",
     "start_time": "2024-08-07T20:24:10.653271Z"
    }
   },
   "source": [
    "score.plot_mae()"
   ],
   "outputs": [
    {
     "data": {
      "text/html": [
       "\n",
       "<style>\n",
       "  #altair-viz-2780aba25866426291825e9234b6c4f5.vega-embed {\n",
       "    width: 100%;\n",
       "    display: flex;\n",
       "  }\n",
       "\n",
       "  #altair-viz-2780aba25866426291825e9234b6c4f5.vega-embed details,\n",
       "  #altair-viz-2780aba25866426291825e9234b6c4f5.vega-embed details summary {\n",
       "    position: relative;\n",
       "  }\n",
       "</style>\n",
       "<div id=\"altair-viz-2780aba25866426291825e9234b6c4f5\"></div>\n",
       "<script type=\"text/javascript\">\n",
       "  var VEGA_DEBUG = (typeof VEGA_DEBUG == \"undefined\") ? {} : VEGA_DEBUG;\n",
       "  (function(spec, embedOpt){\n",
       "    let outputDiv = document.currentScript.previousElementSibling;\n",
       "    if (outputDiv.id !== \"altair-viz-2780aba25866426291825e9234b6c4f5\") {\n",
       "      outputDiv = document.getElementById(\"altair-viz-2780aba25866426291825e9234b6c4f5\");\n",
       "    }\n",
       "    const paths = {\n",
       "      \"vega\": \"https://cdn.jsdelivr.net/npm/vega@5?noext\",\n",
       "      \"vega-lib\": \"https://cdn.jsdelivr.net/npm/vega-lib?noext\",\n",
       "      \"vega-lite\": \"https://cdn.jsdelivr.net/npm/vega-lite@5.17.0?noext\",\n",
       "      \"vega-embed\": \"https://cdn.jsdelivr.net/npm/vega-embed@6?noext\",\n",
       "    };\n",
       "\n",
       "    function maybeLoadScript(lib, version) {\n",
       "      var key = `${lib.replace(\"-\", \"\")}_version`;\n",
       "      return (VEGA_DEBUG[key] == version) ?\n",
       "        Promise.resolve(paths[lib]) :\n",
       "        new Promise(function(resolve, reject) {\n",
       "          var s = document.createElement('script');\n",
       "          document.getElementsByTagName(\"head\")[0].appendChild(s);\n",
       "          s.async = true;\n",
       "          s.onload = () => {\n",
       "            VEGA_DEBUG[key] = version;\n",
       "            return resolve(paths[lib]);\n",
       "          };\n",
       "          s.onerror = () => reject(`Error loading script: ${paths[lib]}`);\n",
       "          s.src = paths[lib];\n",
       "        });\n",
       "    }\n",
       "\n",
       "    function showError(err) {\n",
       "      outputDiv.innerHTML = `<div class=\"error\" style=\"color:red;\">${err}</div>`;\n",
       "      throw err;\n",
       "    }\n",
       "\n",
       "    function displayChart(vegaEmbed) {\n",
       "      vegaEmbed(outputDiv, spec, embedOpt)\n",
       "        .catch(err => showError(`Javascript Error: ${err.message}<br>This usually means there's a typo in your chart specification. See the javascript console for the full traceback.`));\n",
       "    }\n",
       "\n",
       "    if(typeof define === \"function\" && define.amd) {\n",
       "      requirejs.config({paths});\n",
       "      require([\"vega-embed\"], displayChart, err => showError(`Error loading script: ${err.message}`));\n",
       "    } else {\n",
       "      maybeLoadScript(\"vega\", \"5\")\n",
       "        .then(() => maybeLoadScript(\"vega-lite\", \"5.17.0\"))\n",
       "        .then(() => maybeLoadScript(\"vega-embed\", \"6\"))\n",
       "        .catch(showError)\n",
       "        .then(() => displayChart(vegaEmbed));\n",
       "    }\n",
       "  })({\"config\": {\"view\": {\"continuousWidth\": 300, \"continuousHeight\": 300}}, \"data\": {\"name\": \"data-9693aae8ff988c1f2f0f5c8d177e8c73\"}, \"mark\": {\"type\": \"bar\"}, \"encoding\": {\"color\": {\"field\": \"id\", \"legend\": {\"title\": \"Model\"}, \"type\": \"nominal\"}, \"x\": {\"axis\": {\"labelAngle\": 360}, \"field\": \"id\", \"title\": \"Model\", \"type\": \"nominal\"}, \"y\": {\"field\": \"mae\", \"title\": \"mae\", \"type\": \"quantitative\"}}, \"height\": 300, \"title\": \"mae score\", \"width\": 400, \"$schema\": \"https://vega.github.io/schema/vega-lite/v5.17.0.json\", \"datasets\": {\"data-9693aae8ff988c1f2f0f5c8d177e8c73\": [{\"id\": \"preds\", \"mae\": 115.49745506834294, \"mse\": 39526.82074841012, \"crps\": 121.86045322663304, \"log_score\": -12.11769090559474}, {\"id\": \"77\", \"mae\": 150.21846153846153, \"mse\": 69988.36318717948, \"crps\": 156.06964740718587, \"log_score\": -7.13834876171043}, {\"id\": \"78\", \"mae\": 260.9831835557859, \"mse\": 166280.6349972801, \"crps\": 194.82619915500484, \"log_score\": -7.2065948303292044}]}}, {\"mode\": \"vega-lite\"});\n",
       "</script>"
      ],
      "text/plain": [
       "alt.Chart(...)"
      ]
     },
     "execution_count": 10,
     "metadata": {},
     "output_type": "execute_result"
    }
   ],
   "execution_count": 10
  },
  {
   "cell_type": "markdown",
   "id": "582e338a",
   "metadata": {},
   "source": [
    "To see the MSE error for your model (key = `preds`) and the other use: "
   ]
  },
  {
   "cell_type": "code",
   "id": "683c8cca",
   "metadata": {
    "ExecuteTime": {
     "end_time": "2024-08-07T20:24:19.938205Z",
     "start_time": "2024-08-07T20:24:19.935390Z"
    }
   },
   "source": [
    "score.mse"
   ],
   "outputs": [
    {
     "data": {
      "text/plain": [
       "{'preds': 39526.82074841012, '77': 69988.36318717948, '78': 166280.6349972801}"
      ]
     },
     "execution_count": 11,
     "metadata": {},
     "output_type": "execute_result"
    }
   ],
   "execution_count": 11
  },
  {
   "cell_type": "markdown",
   "id": "58843665",
   "metadata": {},
   "source": [
    "To plot a bar chart: "
   ]
  },
  {
   "cell_type": "code",
   "id": "1e40e73d",
   "metadata": {
    "ExecuteTime": {
     "end_time": "2024-08-07T20:24:22.640890Z",
     "start_time": "2024-08-07T20:24:22.621049Z"
    }
   },
   "source": [
    "score.plot_mse()"
   ],
   "outputs": [
    {
     "data": {
      "text/html": [
       "\n",
       "<style>\n",
       "  #altair-viz-4e39092152bc4093bd1445236373ba4f.vega-embed {\n",
       "    width: 100%;\n",
       "    display: flex;\n",
       "  }\n",
       "\n",
       "  #altair-viz-4e39092152bc4093bd1445236373ba4f.vega-embed details,\n",
       "  #altair-viz-4e39092152bc4093bd1445236373ba4f.vega-embed details summary {\n",
       "    position: relative;\n",
       "  }\n",
       "</style>\n",
       "<div id=\"altair-viz-4e39092152bc4093bd1445236373ba4f\"></div>\n",
       "<script type=\"text/javascript\">\n",
       "  var VEGA_DEBUG = (typeof VEGA_DEBUG == \"undefined\") ? {} : VEGA_DEBUG;\n",
       "  (function(spec, embedOpt){\n",
       "    let outputDiv = document.currentScript.previousElementSibling;\n",
       "    if (outputDiv.id !== \"altair-viz-4e39092152bc4093bd1445236373ba4f\") {\n",
       "      outputDiv = document.getElementById(\"altair-viz-4e39092152bc4093bd1445236373ba4f\");\n",
       "    }\n",
       "    const paths = {\n",
       "      \"vega\": \"https://cdn.jsdelivr.net/npm/vega@5?noext\",\n",
       "      \"vega-lib\": \"https://cdn.jsdelivr.net/npm/vega-lib?noext\",\n",
       "      \"vega-lite\": \"https://cdn.jsdelivr.net/npm/vega-lite@5.17.0?noext\",\n",
       "      \"vega-embed\": \"https://cdn.jsdelivr.net/npm/vega-embed@6?noext\",\n",
       "    };\n",
       "\n",
       "    function maybeLoadScript(lib, version) {\n",
       "      var key = `${lib.replace(\"-\", \"\")}_version`;\n",
       "      return (VEGA_DEBUG[key] == version) ?\n",
       "        Promise.resolve(paths[lib]) :\n",
       "        new Promise(function(resolve, reject) {\n",
       "          var s = document.createElement('script');\n",
       "          document.getElementsByTagName(\"head\")[0].appendChild(s);\n",
       "          s.async = true;\n",
       "          s.onload = () => {\n",
       "            VEGA_DEBUG[key] = version;\n",
       "            return resolve(paths[lib]);\n",
       "          };\n",
       "          s.onerror = () => reject(`Error loading script: ${paths[lib]}`);\n",
       "          s.src = paths[lib];\n",
       "        });\n",
       "    }\n",
       "\n",
       "    function showError(err) {\n",
       "      outputDiv.innerHTML = `<div class=\"error\" style=\"color:red;\">${err}</div>`;\n",
       "      throw err;\n",
       "    }\n",
       "\n",
       "    function displayChart(vegaEmbed) {\n",
       "      vegaEmbed(outputDiv, spec, embedOpt)\n",
       "        .catch(err => showError(`Javascript Error: ${err.message}<br>This usually means there's a typo in your chart specification. See the javascript console for the full traceback.`));\n",
       "    }\n",
       "\n",
       "    if(typeof define === \"function\" && define.amd) {\n",
       "      requirejs.config({paths});\n",
       "      require([\"vega-embed\"], displayChart, err => showError(`Error loading script: ${err.message}`));\n",
       "    } else {\n",
       "      maybeLoadScript(\"vega\", \"5\")\n",
       "        .then(() => maybeLoadScript(\"vega-lite\", \"5.17.0\"))\n",
       "        .then(() => maybeLoadScript(\"vega-embed\", \"6\"))\n",
       "        .catch(showError)\n",
       "        .then(() => displayChart(vegaEmbed));\n",
       "    }\n",
       "  })({\"config\": {\"view\": {\"continuousWidth\": 300, \"continuousHeight\": 300}}, \"data\": {\"name\": \"data-9693aae8ff988c1f2f0f5c8d177e8c73\"}, \"mark\": {\"type\": \"bar\"}, \"encoding\": {\"color\": {\"field\": \"id\", \"legend\": {\"title\": \"Model\"}, \"type\": \"nominal\"}, \"x\": {\"axis\": {\"labelAngle\": 360}, \"field\": \"id\", \"title\": \"Model\", \"type\": \"nominal\"}, \"y\": {\"field\": \"mse\", \"title\": \"mse\", \"type\": \"quantitative\"}}, \"height\": 300, \"title\": \"mse score\", \"width\": 400, \"$schema\": \"https://vega.github.io/schema/vega-lite/v5.17.0.json\", \"datasets\": {\"data-9693aae8ff988c1f2f0f5c8d177e8c73\": [{\"id\": \"preds\", \"mae\": 115.49745506834294, \"mse\": 39526.82074841012, \"crps\": 121.86045322663304, \"log_score\": -12.11769090559474}, {\"id\": \"77\", \"mae\": 150.21846153846153, \"mse\": 69988.36318717948, \"crps\": 156.06964740718587, \"log_score\": -7.13834876171043}, {\"id\": \"78\", \"mae\": 260.9831835557859, \"mse\": 166280.6349972801, \"crps\": 194.82619915500484, \"log_score\": -7.2065948303292044}]}}, {\"mode\": \"vega-lite\"});\n",
       "</script>"
      ],
      "text/plain": [
       "alt.Chart(...)"
      ]
     },
     "execution_count": 12,
     "metadata": {},
     "output_type": "execute_result"
    }
   ],
   "execution_count": 12
  },
  {
   "cell_type": "markdown",
   "id": "1dff03ff",
   "metadata": {},
   "source": [
    "To see the CRPS score for your model (key = `preds`) and the other, use the code below. The first dict contains the score by each point, and the second one shows the mean of the score.  "
   ]
  },
  {
   "cell_type": "code",
   "id": "af24c195",
   "metadata": {
    "ExecuteTime": {
     "end_time": "2024-08-07T20:24:26.289436Z",
     "start_time": "2024-08-07T20:24:26.285801Z"
    }
   },
   "source": [
    "score.crps"
   ],
   "outputs": [
    {
     "data": {
      "text/plain": [
       "({'preds': dates\n",
       "  2022-01-02     16.929554\n",
       "  2022-01-09     10.010696\n",
       "  2022-01-16     18.074552\n",
       "  2022-01-23     15.103211\n",
       "  2022-01-30      6.476000\n",
       "                   ...    \n",
       "  2023-05-28    391.824154\n",
       "  2023-06-04    549.396658\n",
       "  2023-06-11    704.242308\n",
       "  2023-06-18    159.742524\n",
       "  2023-06-25    261.561530\n",
       "  Length: 78, dtype: float64,\n",
       "  '77': dates\n",
       "  2022-01-02    102.524694\n",
       "  2022-01-09     89.908531\n",
       "  2022-01-16     39.430201\n",
       "  2022-01-23     67.323246\n",
       "  2022-01-30     61.630854\n",
       "                   ...    \n",
       "  2023-05-28    129.618554\n",
       "  2023-06-04    749.611256\n",
       "  2023-06-11    601.061591\n",
       "  2023-06-18    149.510736\n",
       "  2023-06-25    222.354416\n",
       "  Length: 78, dtype: float64,\n",
       "  '78': dates\n",
       "  2022-01-02     59.172107\n",
       "  2022-01-09     31.326248\n",
       "  2022-01-16     25.620518\n",
       "  2022-01-23     27.721827\n",
       "  2022-01-30     38.027232\n",
       "                   ...    \n",
       "  2023-05-28    365.740799\n",
       "  2023-06-04    187.866280\n",
       "  2023-06-11    469.313500\n",
       "  2023-06-18    312.681174\n",
       "  2023-06-25    422.268150\n",
       "  Length: 78, dtype: float64},\n",
       " {'preds': 121.86045322663304,\n",
       "  '77': 156.06964740718587,\n",
       "  '78': 194.82619915500484})"
      ]
     },
     "execution_count": 13,
     "metadata": {},
     "output_type": "execute_result"
    }
   ],
   "execution_count": 13
  },
  {
   "cell_type": "markdown",
   "id": "c8381bda",
   "metadata": {},
   "source": [
    "To plot the score you can use: "
   ]
  },
  {
   "cell_type": "code",
   "id": "df1843ae",
   "metadata": {
    "ExecuteTime": {
     "end_time": "2024-08-07T20:24:29.035665Z",
     "start_time": "2024-08-07T20:24:28.998463Z"
    }
   },
   "source": [
    "score.plot_crps()"
   ],
   "outputs": [
    {
     "data": {
      "text/html": [
       "\n",
       "<style>\n",
       "  #altair-viz-69d716bd239643efb1de6f96f75f5fa4.vega-embed {\n",
       "    width: 100%;\n",
       "    display: flex;\n",
       "  }\n",
       "\n",
       "  #altair-viz-69d716bd239643efb1de6f96f75f5fa4.vega-embed details,\n",
       "  #altair-viz-69d716bd239643efb1de6f96f75f5fa4.vega-embed details summary {\n",
       "    position: relative;\n",
       "  }\n",
       "</style>\n",
       "<div id=\"altair-viz-69d716bd239643efb1de6f96f75f5fa4\"></div>\n",
       "<script type=\"text/javascript\">\n",
       "  var VEGA_DEBUG = (typeof VEGA_DEBUG == \"undefined\") ? {} : VEGA_DEBUG;\n",
       "  (function(spec, embedOpt){\n",
       "    let outputDiv = document.currentScript.previousElementSibling;\n",
       "    if (outputDiv.id !== \"altair-viz-69d716bd239643efb1de6f96f75f5fa4\") {\n",
       "      outputDiv = document.getElementById(\"altair-viz-69d716bd239643efb1de6f96f75f5fa4\");\n",
       "    }\n",
       "    const paths = {\n",
       "      \"vega\": \"https://cdn.jsdelivr.net/npm/vega@5?noext\",\n",
       "      \"vega-lib\": \"https://cdn.jsdelivr.net/npm/vega-lib?noext\",\n",
       "      \"vega-lite\": \"https://cdn.jsdelivr.net/npm/vega-lite@5.17.0?noext\",\n",
       "      \"vega-embed\": \"https://cdn.jsdelivr.net/npm/vega-embed@6?noext\",\n",
       "    };\n",
       "\n",
       "    function maybeLoadScript(lib, version) {\n",
       "      var key = `${lib.replace(\"-\", \"\")}_version`;\n",
       "      return (VEGA_DEBUG[key] == version) ?\n",
       "        Promise.resolve(paths[lib]) :\n",
       "        new Promise(function(resolve, reject) {\n",
       "          var s = document.createElement('script');\n",
       "          document.getElementsByTagName(\"head\")[0].appendChild(s);\n",
       "          s.async = true;\n",
       "          s.onload = () => {\n",
       "            VEGA_DEBUG[key] = version;\n",
       "            return resolve(paths[lib]);\n",
       "          };\n",
       "          s.onerror = () => reject(`Error loading script: ${paths[lib]}`);\n",
       "          s.src = paths[lib];\n",
       "        });\n",
       "    }\n",
       "\n",
       "    function showError(err) {\n",
       "      outputDiv.innerHTML = `<div class=\"error\" style=\"color:red;\">${err}</div>`;\n",
       "      throw err;\n",
       "    }\n",
       "\n",
       "    function displayChart(vegaEmbed) {\n",
       "      vegaEmbed(outputDiv, spec, embedOpt)\n",
       "        .catch(err => showError(`Javascript Error: ${err.message}<br>This usually means there's a typo in your chart specification. See the javascript console for the full traceback.`));\n",
       "    }\n",
       "\n",
       "    if(typeof define === \"function\" && define.amd) {\n",
       "      requirejs.config({paths});\n",
       "      require([\"vega-embed\"], displayChart, err => showError(`Error loading script: ${err.message}`));\n",
       "    } else {\n",
       "      maybeLoadScript(\"vega\", \"5\")\n",
       "        .then(() => maybeLoadScript(\"vega-lite\", \"5.17.0\"))\n",
       "        .then(() => maybeLoadScript(\"vega-embed\", \"6\"))\n",
       "        .catch(showError)\n",
       "        .then(() => displayChart(vegaEmbed));\n",
       "    }\n",
       "  })({\"config\": {\"view\": {\"continuousWidth\": 300, \"continuousHeight\": 300}}, \"vconcat\": [{\"data\": {\"name\": \"data-d4775c7e2b59a23393eb246775bc1f3d\"}, \"mark\": {\"type\": \"line\"}, \"encoding\": {\"color\": {\"value\": \"black\"}, \"x\": {\"field\": \"dates\", \"type\": \"temporal\"}, \"y\": {\"field\": \"casos\", \"type\": \"quantitative\"}}, \"height\": 150, \"title\": \"New cases\", \"width\": 400}, {\"layer\": [{\"mark\": {\"type\": \"point\", \"filled\": false}, \"encoding\": {\"color\": {\"field\": \"variable\", \"legend\": {\"legendX\": 100}, \"type\": \"nominal\"}, \"x\": {\"field\": \"dates\", \"type\": \"temporal\"}, \"y\": {\"field\": \"CRPS_score\", \"type\": \"quantitative\"}}}, {\"mark\": {\"type\": \"point\"}, \"encoding\": {\"color\": {\"field\": \"variable\", \"legend\": {\"legendX\": 100}, \"type\": \"nominal\"}, \"opacity\": {\"condition\": {\"param\": \"param_1\", \"value\": 1, \"empty\": false}, \"value\": 0}, \"x\": {\"field\": \"dates\", \"type\": \"temporal\"}, \"y\": {\"field\": \"CRPS_score\", \"type\": \"quantitative\"}}}, {\"mark\": {\"type\": \"rule\", \"color\": \"gray\"}, \"encoding\": {\"opacity\": {\"condition\": {\"param\": \"param_1\", \"value\": 0.3, \"empty\": false}, \"value\": 0}, \"tooltip\": [{\"field\": \"dates\", \"title\": \"Date\", \"type\": \"temporal\"}, {\"field\": \"preds\", \"format\": \".2f\", \"type\": \"quantitative\"}, {\"field\": \"77\", \"format\": \".2f\", \"type\": \"quantitative\"}, {\"field\": \"78\", \"format\": \".2f\", \"type\": \"quantitative\"}], \"x\": {\"field\": \"dates\", \"type\": \"temporal\"}}, \"name\": \"view_1\", \"transform\": [{\"pivot\": \"variable\", \"value\": \"CRPS_score\", \"groupby\": [\"dates\"]}]}], \"data\": {\"name\": \"data-77cff6b40921f51ad1a28148bf9f406e\"}, \"height\": 250, \"title\": {\"text\": \"CRPS score\", \"subtitle\": \"Lower is better\"}, \"width\": 400}], \"params\": [{\"name\": \"param_1\", \"select\": {\"type\": \"point\", \"fields\": [\"dates\"], \"nearest\": true, \"on\": \"pointerover\"}, \"views\": [\"view_1\"]}], \"$schema\": \"https://vega.github.io/schema/vega-lite/v5.17.0.json\", \"datasets\": {\"data-d4775c7e2b59a23393eb246775bc1f3d\": [{\"dates\": \"2022-01-02T00:00:00\", \"casos\": 21.0}, {\"dates\": \"2022-01-09T00:00:00\", \"casos\": 14.0}, {\"dates\": \"2022-01-16T00:00:00\", \"casos\": 22.0}, {\"dates\": \"2022-01-23T00:00:00\", \"casos\": 19.0}, {\"dates\": \"2022-01-30T00:00:00\", \"casos\": 31.0}, {\"dates\": \"2022-02-06T00:00:00\", \"casos\": 35.0}, {\"dates\": \"2022-02-13T00:00:00\", \"casos\": 47.0}, {\"dates\": \"2022-02-20T00:00:00\", \"casos\": 62.0}, {\"dates\": \"2022-02-27T00:00:00\", \"casos\": 66.0}, {\"dates\": \"2022-03-06T00:00:00\", \"casos\": 116.0}, {\"dates\": \"2022-03-13T00:00:00\", \"casos\": 126.0}, {\"dates\": \"2022-03-20T00:00:00\", \"casos\": 177.0}, {\"dates\": \"2022-03-27T00:00:00\", \"casos\": 153.0}, {\"dates\": \"2022-04-03T00:00:00\", \"casos\": 222.0}, {\"dates\": \"2022-04-10T00:00:00\", \"casos\": 201.0}, {\"dates\": \"2022-04-17T00:00:00\", \"casos\": 234.0}, {\"dates\": \"2022-04-24T00:00:00\", \"casos\": 342.0}, {\"dates\": \"2022-05-01T00:00:00\", \"casos\": 461.0}, {\"dates\": \"2022-05-08T00:00:00\", \"casos\": 505.0}, {\"dates\": \"2022-05-15T00:00:00\", \"casos\": 406.0}, {\"dates\": \"2022-05-22T00:00:00\", \"casos\": 400.0}, {\"dates\": \"2022-05-29T00:00:00\", \"casos\": 338.0}, {\"dates\": \"2022-06-05T00:00:00\", \"casos\": 255.0}, {\"dates\": \"2022-06-12T00:00:00\", \"casos\": 153.0}, {\"dates\": \"2022-06-19T00:00:00\", \"casos\": 209.0}, {\"dates\": \"2022-06-26T00:00:00\", \"casos\": 189.0}, {\"dates\": \"2022-07-03T00:00:00\", \"casos\": 155.0}, {\"dates\": \"2022-07-10T00:00:00\", \"casos\": 144.0}, {\"dates\": \"2022-07-17T00:00:00\", \"casos\": 194.0}, {\"dates\": \"2022-07-24T00:00:00\", \"casos\": 148.0}, {\"dates\": \"2022-07-31T00:00:00\", \"casos\": 145.0}, {\"dates\": \"2022-08-07T00:00:00\", \"casos\": 106.0}, {\"dates\": \"2022-08-14T00:00:00\", \"casos\": 110.0}, {\"dates\": \"2022-08-21T00:00:00\", \"casos\": 99.0}, {\"dates\": \"2022-08-28T00:00:00\", \"casos\": 94.0}, {\"dates\": \"2022-09-04T00:00:00\", \"casos\": 101.0}, {\"dates\": \"2022-09-11T00:00:00\", \"casos\": 120.0}, {\"dates\": \"2022-09-18T00:00:00\", \"casos\": 102.0}, {\"dates\": \"2022-09-25T00:00:00\", \"casos\": 95.0}, {\"dates\": \"2022-10-02T00:00:00\", \"casos\": 102.0}, {\"dates\": \"2022-10-09T00:00:00\", \"casos\": 123.0}, {\"dates\": \"2022-10-16T00:00:00\", \"casos\": 160.0}, {\"dates\": \"2022-10-23T00:00:00\", \"casos\": 139.0}, {\"dates\": \"2022-10-30T00:00:00\", \"casos\": 131.0}, {\"dates\": \"2022-11-06T00:00:00\", \"casos\": 171.0}, {\"dates\": \"2022-11-13T00:00:00\", \"casos\": 129.0}, {\"dates\": \"2022-11-20T00:00:00\", \"casos\": 94.0}, {\"dates\": \"2022-11-27T00:00:00\", \"casos\": 86.0}, {\"dates\": \"2022-12-04T00:00:00\", \"casos\": 98.0}, {\"dates\": \"2022-12-11T00:00:00\", \"casos\": 123.0}, {\"dates\": \"2022-12-18T00:00:00\", \"casos\": 117.0}, {\"dates\": \"2022-12-25T00:00:00\", \"casos\": 163.0}, {\"dates\": \"2023-01-01T00:00:00\", \"casos\": 230.0}, {\"dates\": \"2023-01-08T00:00:00\", \"casos\": 218.0}, {\"dates\": \"2023-01-15T00:00:00\", \"casos\": 246.0}, {\"dates\": \"2023-01-22T00:00:00\", \"casos\": 312.0}, {\"dates\": \"2023-01-29T00:00:00\", \"casos\": 383.0}, {\"dates\": \"2023-02-05T00:00:00\", \"casos\": 525.0}, {\"dates\": \"2023-02-12T00:00:00\", \"casos\": 372.0}, {\"dates\": \"2023-02-19T00:00:00\", \"casos\": 507.0}, {\"dates\": \"2023-02-26T00:00:00\", \"casos\": 870.0}, {\"dates\": \"2023-03-05T00:00:00\", \"casos\": 945.0}, {\"dates\": \"2023-03-12T00:00:00\", \"casos\": 1125.0}, {\"dates\": \"2023-03-19T00:00:00\", \"casos\": 1382.0}, {\"dates\": \"2023-03-26T00:00:00\", \"casos\": 1580.0}, {\"dates\": \"2023-04-02T00:00:00\", \"casos\": 1420.0}, {\"dates\": \"2023-04-09T00:00:00\", \"casos\": 1783.0}, {\"dates\": \"2023-04-16T00:00:00\", \"casos\": 1502.0}, {\"dates\": \"2023-04-23T00:00:00\", \"casos\": 1572.0}, {\"dates\": \"2023-04-30T00:00:00\", \"casos\": 1919.0}, {\"dates\": \"2023-05-07T00:00:00\", \"casos\": 1807.0}, {\"dates\": \"2023-05-14T00:00:00\", \"casos\": 1731.0}, {\"dates\": \"2023-05-21T00:00:00\", \"casos\": 1479.0}, {\"dates\": \"2023-05-28T00:00:00\", \"casos\": 1328.0}, {\"dates\": \"2023-06-04T00:00:00\", \"casos\": 1238.0}, {\"dates\": \"2023-06-11T00:00:00\", \"casos\": 1348.0}, {\"dates\": \"2023-06-18T00:00:00\", \"casos\": 1236.0}, {\"dates\": \"2023-06-25T00:00:00\", \"casos\": 996.0}], \"data-77cff6b40921f51ad1a28148bf9f406e\": [{\"dates\": \"2022-01-02T00:00:00\", \"variable\": \"preds\", \"CRPS_score\": 16.929554406482954}, {\"dates\": \"2022-01-09T00:00:00\", \"variable\": \"preds\", \"CRPS_score\": 10.01069610453038}, {\"dates\": \"2022-01-16T00:00:00\", \"variable\": \"preds\", \"CRPS_score\": 18.074551980296633}, {\"dates\": \"2022-01-23T00:00:00\", \"variable\": \"preds\", \"CRPS_score\": 15.103211284056306}, {\"dates\": \"2022-01-30T00:00:00\", \"variable\": \"preds\", \"CRPS_score\": 6.476000455163718}, {\"dates\": \"2022-02-06T00:00:00\", \"variable\": \"preds\", \"CRPS_score\": 8.901103231290366}, {\"dates\": \"2022-02-13T00:00:00\", \"variable\": \"preds\", \"CRPS_score\": 17.892938058409882}, {\"dates\": \"2022-02-20T00:00:00\", \"variable\": \"preds\", \"CRPS_score\": 30.304777808495757}, {\"dates\": \"2022-02-27T00:00:00\", \"variable\": \"preds\", \"CRPS_score\": 5.20313728409506}, {\"dates\": \"2022-03-06T00:00:00\", \"variable\": \"preds\", \"CRPS_score\": 30.825804250054915}, {\"dates\": \"2022-03-13T00:00:00\", \"variable\": \"preds\", \"CRPS_score\": 32.97404704773709}, {\"dates\": \"2022-03-20T00:00:00\", \"variable\": \"preds\", \"CRPS_score\": 68.6766250507867}, {\"dates\": \"2022-03-27T00:00:00\", \"variable\": \"preds\", \"CRPS_score\": 21.397554803873774}, {\"dates\": \"2022-04-03T00:00:00\", \"variable\": \"preds\", \"CRPS_score\": 27.322385327061166}, {\"dates\": \"2022-04-10T00:00:00\", \"variable\": \"preds\", \"CRPS_score\": 38.880310538778936}, {\"dates\": \"2022-04-17T00:00:00\", \"variable\": \"preds\", \"CRPS_score\": 53.61153552290516}, {\"dates\": \"2022-04-24T00:00:00\", \"variable\": \"preds\", \"CRPS_score\": 61.85107843399085}, {\"dates\": \"2022-05-01T00:00:00\", \"variable\": \"preds\", \"CRPS_score\": 136.29977544353991}, {\"dates\": \"2022-05-08T00:00:00\", \"variable\": \"preds\", \"CRPS_score\": 150.69917550719944}, {\"dates\": \"2022-05-15T00:00:00\", \"variable\": \"preds\", \"CRPS_score\": 90.40302039723582}, {\"dates\": \"2022-05-22T00:00:00\", \"variable\": \"preds\", \"CRPS_score\": 57.475882009746}, {\"dates\": \"2022-05-29T00:00:00\", \"variable\": \"preds\", \"CRPS_score\": 93.01127980091594}, {\"dates\": \"2022-06-05T00:00:00\", \"variable\": \"preds\", \"CRPS_score\": 152.9831246771258}, {\"dates\": \"2022-06-12T00:00:00\", \"variable\": \"preds\", \"CRPS_score\": 221.62334106725166}, {\"dates\": \"2022-06-19T00:00:00\", \"variable\": \"preds\", \"CRPS_score\": 25.37307865001706}, {\"dates\": \"2022-06-26T00:00:00\", \"variable\": \"preds\", \"CRPS_score\": 24.76175435320123}, {\"dates\": \"2022-07-03T00:00:00\", \"variable\": \"preds\", \"CRPS_score\": 24.974481651265542}, {\"dates\": \"2022-07-10T00:00:00\", \"variable\": \"preds\", \"CRPS_score\": 30.68795245705313}, {\"dates\": \"2022-07-17T00:00:00\", \"variable\": \"preds\", \"CRPS_score\": 31.817193181823693}, {\"dates\": \"2022-07-24T00:00:00\", \"variable\": \"preds\", \"CRPS_score\": 17.03905734637238}, {\"dates\": \"2022-07-31T00:00:00\", \"variable\": \"preds\", \"CRPS_score\": 22.06338356569305}, {\"dates\": \"2022-08-07T00:00:00\", \"variable\": \"preds\", \"CRPS_score\": 29.06552315608644}, {\"dates\": \"2022-08-14T00:00:00\", \"variable\": \"preds\", \"CRPS_score\": 9.577125344295354}, {\"dates\": \"2022-08-21T00:00:00\", \"variable\": \"preds\", \"CRPS_score\": 12.318531799039501}, {\"dates\": \"2022-08-28T00:00:00\", \"variable\": \"preds\", \"CRPS_score\": 16.373839553937366}, {\"dates\": \"2022-09-04T00:00:00\", \"variable\": \"preds\", \"CRPS_score\": 19.563802427389604}, {\"dates\": \"2022-09-11T00:00:00\", \"variable\": \"preds\", \"CRPS_score\": 14.287268371816362}, {\"dates\": \"2022-09-18T00:00:00\", \"variable\": \"preds\", \"CRPS_score\": 11.068032529944391}, {\"dates\": \"2022-09-25T00:00:00\", \"variable\": \"preds\", \"CRPS_score\": 14.14596756160641}, {\"dates\": \"2022-10-02T00:00:00\", \"variable\": \"preds\", \"CRPS_score\": 18.11419438056806}, {\"dates\": \"2022-10-09T00:00:00\", \"variable\": \"preds\", \"CRPS_score\": 14.66674520676893}, {\"dates\": \"2022-10-16T00:00:00\", \"variable\": \"preds\", \"CRPS_score\": 38.76578633161941}, {\"dates\": \"2022-10-23T00:00:00\", \"variable\": \"preds\", \"CRPS_score\": 24.968850679917054}, {\"dates\": \"2022-10-30T00:00:00\", \"variable\": \"preds\", \"CRPS_score\": 24.09583537609503}, {\"dates\": \"2022-11-06T00:00:00\", \"variable\": \"preds\", \"CRPS_score\": 21.81670003898235}, {\"dates\": \"2022-11-13T00:00:00\", \"variable\": \"preds\", \"CRPS_score\": 15.99232955711709}, {\"dates\": \"2022-11-20T00:00:00\", \"variable\": \"preds\", \"CRPS_score\": 28.81087278416956}, {\"dates\": \"2022-11-27T00:00:00\", \"variable\": \"preds\", \"CRPS_score\": 35.8385269779413}, {\"dates\": \"2022-12-04T00:00:00\", \"variable\": \"preds\", \"CRPS_score\": 9.205137378927917}, {\"dates\": \"2022-12-11T00:00:00\", \"variable\": \"preds\", \"CRPS_score\": 24.69258870002409}, {\"dates\": \"2022-12-18T00:00:00\", \"variable\": \"preds\", \"CRPS_score\": 21.73435215848671}, {\"dates\": \"2022-12-25T00:00:00\", \"variable\": \"preds\", \"CRPS_score\": 53.85740438903795}, {\"dates\": \"2023-01-01T00:00:00\", \"variable\": \"preds\", \"CRPS_score\": 50.37868957074424}, {\"dates\": \"2023-01-08T00:00:00\", \"variable\": \"preds\", \"CRPS_score\": 35.045219325688805}, {\"dates\": \"2023-01-15T00:00:00\", \"variable\": \"preds\", \"CRPS_score\": 50.703424857715845}, {\"dates\": \"2023-01-22T00:00:00\", \"variable\": \"preds\", \"CRPS_score\": 89.14844709834328}, {\"dates\": \"2023-01-29T00:00:00\", \"variable\": \"preds\", \"CRPS_score\": 46.5958795343547}, {\"dates\": \"2023-02-05T00:00:00\", \"variable\": \"preds\", \"CRPS_score\": 119.0334481053137}, {\"dates\": \"2023-02-12T00:00:00\", \"variable\": \"preds\", \"CRPS_score\": 65.08619067599165}, {\"dates\": \"2023-02-19T00:00:00\", \"variable\": \"preds\", \"CRPS_score\": 112.44632635595306}, {\"dates\": \"2023-02-26T00:00:00\", \"variable\": \"preds\", \"CRPS_score\": 267.04666596343856}, {\"dates\": \"2023-03-05T00:00:00\", \"variable\": \"preds\", \"CRPS_score\": 272.95647085950856}, {\"dates\": \"2023-03-12T00:00:00\", \"variable\": \"preds\", \"CRPS_score\": 377.70207498222766}, {\"dates\": \"2023-03-19T00:00:00\", \"variable\": \"preds\", \"CRPS_score\": 534.9275753390261}, {\"dates\": \"2023-03-26T00:00:00\", \"variable\": \"preds\", \"CRPS_score\": 189.2733283999568}, {\"dates\": \"2023-04-02T00:00:00\", \"variable\": \"preds\", \"CRPS_score\": 282.3310616859057}, {\"dates\": \"2023-04-09T00:00:00\", \"variable\": \"preds\", \"CRPS_score\": 430.2106282090674}, {\"dates\": \"2023-04-16T00:00:00\", \"variable\": \"preds\", \"CRPS_score\": 627.538683998918}, {\"dates\": \"2023-04-23T00:00:00\", \"variable\": \"preds\", \"CRPS_score\": 213.179383012149}, {\"dates\": \"2023-04-30T00:00:00\", \"variable\": \"preds\", \"CRPS_score\": 319.3683255422208}, {\"dates\": \"2023-05-07T00:00:00\", \"variable\": \"preds\", \"CRPS_score\": 451.88455995364086}, {\"dates\": \"2023-05-14T00:00:00\", \"variable\": \"preds\", \"CRPS_score\": 632.2784738343553}, {\"dates\": \"2023-05-21T00:00:00\", \"variable\": \"preds\", \"CRPS_score\": 268.6060939389236}, {\"dates\": \"2023-05-28T00:00:00\", \"variable\": \"preds\", \"CRPS_score\": 391.8241537866767}, {\"dates\": \"2023-06-04T00:00:00\", \"variable\": \"preds\", \"CRPS_score\": 549.3966576622519}, {\"dates\": \"2023-06-11T00:00:00\", \"variable\": \"preds\", \"CRPS_score\": 704.2423082970772}, {\"dates\": \"2023-06-18T00:00:00\", \"variable\": \"preds\", \"CRPS_score\": 159.7425241520052}, {\"dates\": \"2023-06-25T00:00:00\", \"variable\": \"preds\", \"CRPS_score\": 261.5615301357017}, {\"dates\": \"2022-01-02T00:00:00\", \"variable\": \"77\", \"CRPS_score\": 102.52469442554369}, {\"dates\": \"2022-01-09T00:00:00\", \"variable\": \"77\", \"CRPS_score\": 89.90853127726997}, {\"dates\": \"2022-01-16T00:00:00\", \"variable\": \"77\", \"CRPS_score\": 39.430201196488866}, {\"dates\": \"2022-01-23T00:00:00\", \"variable\": \"77\", \"CRPS_score\": 67.32324629885368}, {\"dates\": \"2022-01-30T00:00:00\", \"variable\": \"77\", \"CRPS_score\": 61.630854452424494}, {\"dates\": \"2022-02-06T00:00:00\", \"variable\": \"77\", \"CRPS_score\": 61.586917140254386}, {\"dates\": \"2022-02-13T00:00:00\", \"variable\": \"77\", \"CRPS_score\": 59.42206879945485}, {\"dates\": \"2022-02-20T00:00:00\", \"variable\": \"77\", \"CRPS_score\": 72.86257634052484}, {\"dates\": \"2022-02-27T00:00:00\", \"variable\": \"77\", \"CRPS_score\": 86.94322444462678}, {\"dates\": \"2022-03-06T00:00:00\", \"variable\": \"77\", \"CRPS_score\": 118.72044491202809}, {\"dates\": \"2022-03-13T00:00:00\", \"variable\": \"77\", \"CRPS_score\": 105.4966186281989}, {\"dates\": \"2022-03-20T00:00:00\", \"variable\": \"77\", \"CRPS_score\": 103.10475639310837}, {\"dates\": \"2022-03-27T00:00:00\", \"variable\": \"77\", \"CRPS_score\": 84.8278645309594}, {\"dates\": \"2022-04-03T00:00:00\", \"variable\": \"77\", \"CRPS_score\": 74.51666874489628}, {\"dates\": \"2022-04-10T00:00:00\", \"variable\": \"77\", \"CRPS_score\": 92.19304220168597}, {\"dates\": \"2022-04-17T00:00:00\", \"variable\": \"77\", \"CRPS_score\": 136.68706087299213}, {\"dates\": \"2022-04-24T00:00:00\", \"variable\": \"77\", \"CRPS_score\": 176.5614892789851}, {\"dates\": \"2022-05-01T00:00:00\", \"variable\": \"77\", \"CRPS_score\": 200.45045234927102}, {\"dates\": \"2022-05-08T00:00:00\", \"variable\": \"77\", \"CRPS_score\": 219.85185126413091}, {\"dates\": \"2022-05-15T00:00:00\", \"variable\": \"77\", \"CRPS_score\": 157.53004997191525}, {\"dates\": \"2022-05-22T00:00:00\", \"variable\": \"77\", \"CRPS_score\": 116.02631770531441}, {\"dates\": \"2022-05-29T00:00:00\", \"variable\": \"77\", \"CRPS_score\": 207.5487133611881}, {\"dates\": \"2022-06-05T00:00:00\", \"variable\": \"77\", \"CRPS_score\": 547.8075506559996}, {\"dates\": \"2022-06-12T00:00:00\", \"variable\": \"77\", \"CRPS_score\": 495.56160915535537}, {\"dates\": \"2022-06-19T00:00:00\", \"variable\": \"77\", \"CRPS_score\": 336.1387318439209}, {\"dates\": \"2022-06-26T00:00:00\", \"variable\": \"77\", \"CRPS_score\": 158.69152132855248}, {\"dates\": \"2022-07-03T00:00:00\", \"variable\": \"77\", \"CRPS_score\": 159.54886688783722}, {\"dates\": \"2022-07-10T00:00:00\", \"variable\": \"77\", \"CRPS_score\": 97.78435884986857}, {\"dates\": \"2022-07-17T00:00:00\", \"variable\": \"77\", \"CRPS_score\": 95.19393707179256}, {\"dates\": \"2022-07-24T00:00:00\", \"variable\": \"77\", \"CRPS_score\": 116.48677151417036}, {\"dates\": \"2022-07-31T00:00:00\", \"variable\": \"77\", \"CRPS_score\": 81.71538477883723}, {\"dates\": \"2022-08-07T00:00:00\", \"variable\": \"77\", \"CRPS_score\": 77.95210828621303}, {\"dates\": \"2022-08-14T00:00:00\", \"variable\": \"77\", \"CRPS_score\": 74.75213382737732}, {\"dates\": \"2022-08-21T00:00:00\", \"variable\": \"77\", \"CRPS_score\": 83.1825908742963}, {\"dates\": \"2022-08-28T00:00:00\", \"variable\": \"77\", \"CRPS_score\": 94.17317800171777}, {\"dates\": \"2022-09-04T00:00:00\", \"variable\": \"77\", \"CRPS_score\": 93.6118668079391}, {\"dates\": \"2022-09-11T00:00:00\", \"variable\": \"77\", \"CRPS_score\": 62.207401487654145}, {\"dates\": \"2022-09-18T00:00:00\", \"variable\": \"77\", \"CRPS_score\": 31.084811040021968}, {\"dates\": \"2022-09-25T00:00:00\", \"variable\": \"77\", \"CRPS_score\": 65.32217483918588}, {\"dates\": \"2022-10-02T00:00:00\", \"variable\": \"77\", \"CRPS_score\": 56.636610655380196}, {\"dates\": \"2022-10-09T00:00:00\", \"variable\": \"77\", \"CRPS_score\": 97.70704960969715}, {\"dates\": \"2022-10-16T00:00:00\", \"variable\": \"77\", \"CRPS_score\": 105.18190642102209}, {\"dates\": \"2022-10-23T00:00:00\", \"variable\": \"77\", \"CRPS_score\": 145.1359566454165}, {\"dates\": \"2022-10-30T00:00:00\", \"variable\": \"77\", \"CRPS_score\": 146.0908928834841}, {\"dates\": \"2022-11-06T00:00:00\", \"variable\": \"77\", \"CRPS_score\": 161.47945383859144}, {\"dates\": \"2022-11-13T00:00:00\", \"variable\": \"77\", \"CRPS_score\": 123.8034448514961}, {\"dates\": \"2022-11-20T00:00:00\", \"variable\": \"77\", \"CRPS_score\": 119.72996850927149}, {\"dates\": \"2022-11-27T00:00:00\", \"variable\": \"77\", \"CRPS_score\": 77.01207225520326}, {\"dates\": \"2022-12-04T00:00:00\", \"variable\": \"77\", \"CRPS_score\": 59.362512408424024}, {\"dates\": \"2022-12-11T00:00:00\", \"variable\": \"77\", \"CRPS_score\": 104.81722184513299}, {\"dates\": \"2022-12-18T00:00:00\", \"variable\": \"77\", \"CRPS_score\": 92.833494706214}, {\"dates\": \"2022-12-25T00:00:00\", \"variable\": \"77\", \"CRPS_score\": 110.36113276175955}, {\"dates\": \"2023-01-01T00:00:00\", \"variable\": \"77\", \"CRPS_score\": 115.45558332059201}, {\"dates\": \"2023-01-08T00:00:00\", \"variable\": \"77\", \"CRPS_score\": 112.1055480774792}, {\"dates\": \"2023-01-15T00:00:00\", \"variable\": \"77\", \"CRPS_score\": 84.42918463550451}, {\"dates\": \"2023-01-22T00:00:00\", \"variable\": \"77\", \"CRPS_score\": 86.72966076029336}, {\"dates\": \"2023-01-29T00:00:00\", \"variable\": \"77\", \"CRPS_score\": 90.18935759540062}, {\"dates\": \"2023-02-05T00:00:00\", \"variable\": \"77\", \"CRPS_score\": 88.77099633612157}, {\"dates\": \"2023-02-12T00:00:00\", \"variable\": \"77\", \"CRPS_score\": 120.729043869223}, {\"dates\": \"2023-02-19T00:00:00\", \"variable\": \"77\", \"CRPS_score\": 115.37918636019457}, {\"dates\": \"2023-02-26T00:00:00\", \"variable\": \"77\", \"CRPS_score\": 185.17823256174472}, {\"dates\": \"2023-03-05T00:00:00\", \"variable\": \"77\", \"CRPS_score\": 163.98958737029318}, {\"dates\": \"2023-03-12T00:00:00\", \"variable\": \"77\", \"CRPS_score\": 208.6152395492569}, {\"dates\": \"2023-03-19T00:00:00\", \"variable\": \"77\", \"CRPS_score\": 251.63915512037448}, {\"dates\": \"2023-03-26T00:00:00\", \"variable\": \"77\", \"CRPS_score\": 406.04228524758616}, {\"dates\": \"2023-04-02T00:00:00\", \"variable\": \"77\", \"CRPS_score\": 415.566968376911}, {\"dates\": \"2023-04-09T00:00:00\", \"variable\": \"77\", \"CRPS_score\": 230.40947443361793}, {\"dates\": \"2023-04-16T00:00:00\", \"variable\": \"77\", \"CRPS_score\": 150.22575295143938}, {\"dates\": \"2023-04-23T00:00:00\", \"variable\": \"77\", \"CRPS_score\": 234.45710257360926}, {\"dates\": \"2023-04-30T00:00:00\", \"variable\": \"77\", \"CRPS_score\": 225.92977724373176}, {\"dates\": \"2023-05-07T00:00:00\", \"variable\": \"77\", \"CRPS_score\": 234.38315988418924}, {\"dates\": \"2023-05-14T00:00:00\", \"variable\": \"77\", \"CRPS_score\": 166.203547010027}, {\"dates\": \"2023-05-21T00:00:00\", \"variable\": \"77\", \"CRPS_score\": 128.33274162855653}, {\"dates\": \"2023-05-28T00:00:00\", \"variable\": \"77\", \"CRPS_score\": 129.61855443842663}, {\"dates\": \"2023-06-04T00:00:00\", \"variable\": \"77\", \"CRPS_score\": 749.611256076035}, {\"dates\": \"2023-06-11T00:00:00\", \"variable\": \"77\", \"CRPS_score\": 601.0615909491263}, {\"dates\": \"2023-06-18T00:00:00\", \"variable\": \"77\", \"CRPS_score\": 149.51073569076084}, {\"dates\": \"2023-06-25T00:00:00\", \"variable\": \"77\", \"CRPS_score\": 222.35441646805356}, {\"dates\": \"2022-01-02T00:00:00\", \"variable\": \"78\", \"CRPS_score\": 59.17210701529874}, {\"dates\": \"2022-01-09T00:00:00\", \"variable\": \"78\", \"CRPS_score\": 31.326248376637565}, {\"dates\": \"2022-01-16T00:00:00\", \"variable\": \"78\", \"CRPS_score\": 25.620518492340594}, {\"dates\": \"2022-01-23T00:00:00\", \"variable\": \"78\", \"CRPS_score\": 27.721827182289545}, {\"dates\": \"2022-01-30T00:00:00\", \"variable\": \"78\", \"CRPS_score\": 38.02723198989535}, {\"dates\": \"2022-02-06T00:00:00\", \"variable\": \"78\", \"CRPS_score\": 36.793788871057885}, {\"dates\": \"2022-02-13T00:00:00\", \"variable\": \"78\", \"CRPS_score\": 39.49623516592102}, {\"dates\": \"2022-02-20T00:00:00\", \"variable\": \"78\", \"CRPS_score\": 102.55033964987848}, {\"dates\": \"2022-02-27T00:00:00\", \"variable\": \"78\", \"CRPS_score\": 109.3872099179393}, {\"dates\": \"2022-03-06T00:00:00\", \"variable\": \"78\", \"CRPS_score\": 78.14419569084525}, {\"dates\": \"2022-03-13T00:00:00\", \"variable\": \"78\", \"CRPS_score\": 154.8198966942406}, {\"dates\": \"2022-03-20T00:00:00\", \"variable\": \"78\", \"CRPS_score\": 99.7484277588636}, {\"dates\": \"2022-03-27T00:00:00\", \"variable\": \"78\", \"CRPS_score\": 40.865107191946755}, {\"dates\": \"2022-04-03T00:00:00\", \"variable\": \"78\", \"CRPS_score\": 58.421817333941796}, {\"dates\": \"2022-04-10T00:00:00\", \"variable\": \"78\", \"CRPS_score\": 37.640396921007444}, {\"dates\": \"2022-04-17T00:00:00\", \"variable\": \"78\", \"CRPS_score\": 55.273889310543844}, {\"dates\": \"2022-04-24T00:00:00\", \"variable\": \"78\", \"CRPS_score\": 71.74325387803128}, {\"dates\": \"2022-05-01T00:00:00\", \"variable\": \"78\", \"CRPS_score\": 100.68909923549418}, {\"dates\": \"2022-05-08T00:00:00\", \"variable\": \"78\", \"CRPS_score\": 88.21350720869998}, {\"dates\": \"2022-05-15T00:00:00\", \"variable\": \"78\", \"CRPS_score\": 100.84683470302984}, {\"dates\": \"2022-05-22T00:00:00\", \"variable\": \"78\", \"CRPS_score\": 75.32568112559287}, {\"dates\": \"2022-05-29T00:00:00\", \"variable\": \"78\", \"CRPS_score\": 84.18628768207493}, {\"dates\": \"2022-06-05T00:00:00\", \"variable\": \"78\", \"CRPS_score\": 155.6452493811217}, {\"dates\": \"2022-06-12T00:00:00\", \"variable\": \"78\", \"CRPS_score\": 67.35687595154249}, {\"dates\": \"2022-06-19T00:00:00\", \"variable\": \"78\", \"CRPS_score\": 47.00397815047071}, {\"dates\": \"2022-06-26T00:00:00\", \"variable\": \"78\", \"CRPS_score\": 42.57878320117109}, {\"dates\": \"2022-07-03T00:00:00\", \"variable\": \"78\", \"CRPS_score\": 95.54291182773471}, {\"dates\": \"2022-07-10T00:00:00\", \"variable\": \"78\", \"CRPS_score\": 88.08683266859582}, {\"dates\": \"2022-07-17T00:00:00\", \"variable\": \"78\", \"CRPS_score\": 124.45432512068841}, {\"dates\": \"2022-07-24T00:00:00\", \"variable\": \"78\", \"CRPS_score\": 92.15949786549135}, {\"dates\": \"2022-07-31T00:00:00\", \"variable\": \"78\", \"CRPS_score\": 67.31492605873036}, {\"dates\": \"2022-08-07T00:00:00\", \"variable\": \"78\", \"CRPS_score\": 63.88916486149866}, {\"dates\": \"2022-08-14T00:00:00\", \"variable\": \"78\", \"CRPS_score\": 65.96655535671515}, {\"dates\": \"2022-08-21T00:00:00\", \"variable\": \"78\", \"CRPS_score\": 58.89596408961026}, {\"dates\": \"2022-08-28T00:00:00\", \"variable\": \"78\", \"CRPS_score\": 56.04361388701263}, {\"dates\": \"2022-09-04T00:00:00\", \"variable\": \"78\", \"CRPS_score\": 60.32009221380388}, {\"dates\": \"2022-09-11T00:00:00\", \"variable\": \"78\", \"CRPS_score\": 72.49969988348776}, {\"dates\": \"2022-09-18T00:00:00\", \"variable\": \"78\", \"CRPS_score\": 60.75336064712131}, {\"dates\": \"2022-09-25T00:00:00\", \"variable\": \"78\", \"CRPS_score\": 58.876527408418305}, {\"dates\": \"2022-10-02T00:00:00\", \"variable\": \"78\", \"CRPS_score\": 60.680677740663825}, {\"dates\": \"2022-10-09T00:00:00\", \"variable\": \"78\", \"CRPS_score\": 73.26342151711943}, {\"dates\": \"2022-10-16T00:00:00\", \"variable\": \"78\", \"CRPS_score\": 99.88701729455387}, {\"dates\": \"2022-10-23T00:00:00\", \"variable\": \"78\", \"CRPS_score\": 89.22985872158579}, {\"dates\": \"2022-10-30T00:00:00\", \"variable\": \"78\", \"CRPS_score\": 79.31257286787398}, {\"dates\": \"2022-11-06T00:00:00\", \"variable\": \"78\", \"CRPS_score\": 106.5011492552757}, {\"dates\": \"2022-11-13T00:00:00\", \"variable\": \"78\", \"CRPS_score\": 81.70174562213849}, {\"dates\": \"2022-11-20T00:00:00\", \"variable\": \"78\", \"CRPS_score\": 56.716686343216296}, {\"dates\": \"2022-11-27T00:00:00\", \"variable\": \"78\", \"CRPS_score\": 52.3623055695376}, {\"dates\": \"2022-12-04T00:00:00\", \"variable\": \"78\", \"CRPS_score\": 58.60689776215247}, {\"dates\": \"2022-12-11T00:00:00\", \"variable\": \"78\", \"CRPS_score\": 73.96927018034276}, {\"dates\": \"2022-12-18T00:00:00\", \"variable\": \"78\", \"CRPS_score\": 65.72062486161964}, {\"dates\": \"2022-12-25T00:00:00\", \"variable\": \"78\", \"CRPS_score\": 55.64540067986691}, {\"dates\": \"2023-01-01T00:00:00\", \"variable\": \"78\", \"CRPS_score\": 128.80760405855702}, {\"dates\": \"2023-01-08T00:00:00\", \"variable\": \"78\", \"CRPS_score\": 65.8055891958113}, {\"dates\": \"2023-01-15T00:00:00\", \"variable\": \"78\", \"CRPS_score\": 66.65761594239373}, {\"dates\": \"2023-01-22T00:00:00\", \"variable\": \"78\", \"CRPS_score\": 91.93513812831965}, {\"dates\": \"2023-01-29T00:00:00\", \"variable\": \"78\", \"CRPS_score\": 51.653366062806825}, {\"dates\": \"2023-02-05T00:00:00\", \"variable\": \"78\", \"CRPS_score\": 227.85349054023058}, {\"dates\": \"2023-02-12T00:00:00\", \"variable\": \"78\", \"CRPS_score\": 65.71018850234223}, {\"dates\": \"2023-02-19T00:00:00\", \"variable\": \"78\", \"CRPS_score\": 88.89014417679806}, {\"dates\": \"2023-02-26T00:00:00\", \"variable\": \"78\", \"CRPS_score\": 299.53508200199315}, {\"dates\": \"2023-03-05T00:00:00\", \"variable\": \"78\", \"CRPS_score\": 213.53304554279447}, {\"dates\": \"2023-03-12T00:00:00\", \"variable\": \"78\", \"CRPS_score\": 467.2498744313151}, {\"dates\": \"2023-03-19T00:00:00\", \"variable\": \"78\", \"CRPS_score\": 684.0754634041364}, {\"dates\": \"2023-03-26T00:00:00\", \"variable\": \"78\", \"CRPS_score\": 864.3383199156941}, {\"dates\": \"2023-04-02T00:00:00\", \"variable\": \"78\", \"CRPS_score\": 697.9584996523649}, {\"dates\": \"2023-04-09T00:00:00\", \"variable\": \"78\", \"CRPS_score\": 895.6010738025082}, {\"dates\": \"2023-04-16T00:00:00\", \"variable\": \"78\", \"CRPS_score\": 466.55569156180445}, {\"dates\": \"2023-04-23T00:00:00\", \"variable\": \"78\", \"CRPS_score\": 528.3984853674209}, {\"dates\": \"2023-04-30T00:00:00\", \"variable\": \"78\", \"CRPS_score\": 994.4511814647211}, {\"dates\": \"2023-05-07T00:00:00\", \"variable\": \"78\", \"CRPS_score\": 826.1211159796421}, {\"dates\": \"2023-05-14T00:00:00\", \"variable\": \"78\", \"CRPS_score\": 954.6113903872757}, {\"dates\": \"2023-05-21T00:00:00\", \"variable\": \"78\", \"CRPS_score\": 1011.8313816619253}, {\"dates\": \"2023-05-28T00:00:00\", \"variable\": \"78\", \"CRPS_score\": 365.7407992544243}, {\"dates\": \"2023-06-04T00:00:00\", \"variable\": \"78\", \"CRPS_score\": 187.86628010128283}, {\"dates\": \"2023-06-11T00:00:00\", \"variable\": \"78\", \"CRPS_score\": 469.3135000368865}, {\"dates\": \"2023-06-18T00:00:00\", \"variable\": \"78\", \"CRPS_score\": 312.68117421676124}, {\"dates\": \"2023-06-25T00:00:00\", \"variable\": \"78\", \"CRPS_score\": 422.2681503154363}]}}, {\"mode\": \"vega-lite\"});\n",
       "</script>"
      ],
      "text/plain": [
       "alt.VConcatChart(...)"
      ]
     },
     "execution_count": 14,
     "metadata": {},
     "output_type": "execute_result"
    }
   ],
   "execution_count": 14
  },
  {
   "cell_type": "markdown",
   "id": "0bfc7d67",
   "metadata": {},
   "source": [
    "To see the Log score for your model (key = `preds`) and the other, use the code below. The first dict contains the score by each point, and the second one shows the mean of the score.  "
   ]
  },
  {
   "cell_type": "code",
   "id": "c8e3cf5c",
   "metadata": {
    "ExecuteTime": {
     "end_time": "2024-08-07T20:24:31.106073Z",
     "start_time": "2024-08-07T20:24:31.101893Z"
    }
   },
   "source": [
    "score.log_score"
   ],
   "outputs": [
    {
     "data": {
      "text/plain": [
       "({'preds': dates\n",
       "  2022-01-02   -232.269556\n",
       "  2022-01-09    -58.374016\n",
       "  2022-01-16   -124.484367\n",
       "  2022-01-23    -67.541166\n",
       "  2022-01-30     -3.951338\n",
       "                   ...    \n",
       "  2023-05-28     -8.222828\n",
       "  2023-06-04     -8.592448\n",
       "  2023-06-11     -8.894861\n",
       "  2023-06-18     -7.435408\n",
       "  2023-06-25     -7.828040\n",
       "  Length: 78, dtype: float64,\n",
       "  '77': dates\n",
       "  2022-01-02   -6.992415\n",
       "  2022-01-09   -6.870076\n",
       "  2022-01-16   -6.046198\n",
       "  2022-01-23   -6.580273\n",
       "  2022-01-30   -6.493813\n",
       "                  ...   \n",
       "  2023-05-28   -7.019283\n",
       "  2023-06-04   -9.422886\n",
       "  2023-06-11   -8.505237\n",
       "  2023-06-18   -7.281535\n",
       "  2023-06-25   -7.342796\n",
       "  Length: 78, dtype: float64,\n",
       "  '78': dates\n",
       "  2022-01-02   -6.236466\n",
       "  2022-01-09   -5.808406\n",
       "  2022-01-16   -5.562729\n",
       "  2022-01-23   -5.662115\n",
       "  2022-01-30   -5.963385\n",
       "                  ...   \n",
       "  2023-05-28   -7.901946\n",
       "  2023-06-04   -7.206261\n",
       "  2023-06-11   -8.591845\n",
       "  2023-06-18   -7.677499\n",
       "  2023-06-25   -8.896633\n",
       "  Length: 78, dtype: float64},\n",
       " {'preds': -12.11769090559474,\n",
       "  '77': -7.13834876171043,\n",
       "  '78': -7.2065948303292044})"
      ]
     },
     "execution_count": 15,
     "metadata": {},
     "output_type": "execute_result"
    }
   ],
   "execution_count": 15
  },
  {
   "cell_type": "markdown",
   "id": "8a24035f",
   "metadata": {},
   "source": [
    "To plot this score: "
   ]
  },
  {
   "cell_type": "code",
   "id": "820b93f4",
   "metadata": {
    "ExecuteTime": {
     "end_time": "2024-08-07T20:24:33.020907Z",
     "start_time": "2024-08-07T20:24:32.982955Z"
    }
   },
   "source": [
    "score.plot_log_score()"
   ],
   "outputs": [
    {
     "data": {
      "text/html": [
       "\n",
       "<style>\n",
       "  #altair-viz-4bf9715f58ed4740806f7bb998c97052.vega-embed {\n",
       "    width: 100%;\n",
       "    display: flex;\n",
       "  }\n",
       "\n",
       "  #altair-viz-4bf9715f58ed4740806f7bb998c97052.vega-embed details,\n",
       "  #altair-viz-4bf9715f58ed4740806f7bb998c97052.vega-embed details summary {\n",
       "    position: relative;\n",
       "  }\n",
       "</style>\n",
       "<div id=\"altair-viz-4bf9715f58ed4740806f7bb998c97052\"></div>\n",
       "<script type=\"text/javascript\">\n",
       "  var VEGA_DEBUG = (typeof VEGA_DEBUG == \"undefined\") ? {} : VEGA_DEBUG;\n",
       "  (function(spec, embedOpt){\n",
       "    let outputDiv = document.currentScript.previousElementSibling;\n",
       "    if (outputDiv.id !== \"altair-viz-4bf9715f58ed4740806f7bb998c97052\") {\n",
       "      outputDiv = document.getElementById(\"altair-viz-4bf9715f58ed4740806f7bb998c97052\");\n",
       "    }\n",
       "    const paths = {\n",
       "      \"vega\": \"https://cdn.jsdelivr.net/npm/vega@5?noext\",\n",
       "      \"vega-lib\": \"https://cdn.jsdelivr.net/npm/vega-lib?noext\",\n",
       "      \"vega-lite\": \"https://cdn.jsdelivr.net/npm/vega-lite@5.17.0?noext\",\n",
       "      \"vega-embed\": \"https://cdn.jsdelivr.net/npm/vega-embed@6?noext\",\n",
       "    };\n",
       "\n",
       "    function maybeLoadScript(lib, version) {\n",
       "      var key = `${lib.replace(\"-\", \"\")}_version`;\n",
       "      return (VEGA_DEBUG[key] == version) ?\n",
       "        Promise.resolve(paths[lib]) :\n",
       "        new Promise(function(resolve, reject) {\n",
       "          var s = document.createElement('script');\n",
       "          document.getElementsByTagName(\"head\")[0].appendChild(s);\n",
       "          s.async = true;\n",
       "          s.onload = () => {\n",
       "            VEGA_DEBUG[key] = version;\n",
       "            return resolve(paths[lib]);\n",
       "          };\n",
       "          s.onerror = () => reject(`Error loading script: ${paths[lib]}`);\n",
       "          s.src = paths[lib];\n",
       "        });\n",
       "    }\n",
       "\n",
       "    function showError(err) {\n",
       "      outputDiv.innerHTML = `<div class=\"error\" style=\"color:red;\">${err}</div>`;\n",
       "      throw err;\n",
       "    }\n",
       "\n",
       "    function displayChart(vegaEmbed) {\n",
       "      vegaEmbed(outputDiv, spec, embedOpt)\n",
       "        .catch(err => showError(`Javascript Error: ${err.message}<br>This usually means there's a typo in your chart specification. See the javascript console for the full traceback.`));\n",
       "    }\n",
       "\n",
       "    if(typeof define === \"function\" && define.amd) {\n",
       "      requirejs.config({paths});\n",
       "      require([\"vega-embed\"], displayChart, err => showError(`Error loading script: ${err.message}`));\n",
       "    } else {\n",
       "      maybeLoadScript(\"vega\", \"5\")\n",
       "        .then(() => maybeLoadScript(\"vega-lite\", \"5.17.0\"))\n",
       "        .then(() => maybeLoadScript(\"vega-embed\", \"6\"))\n",
       "        .catch(showError)\n",
       "        .then(() => displayChart(vegaEmbed));\n",
       "    }\n",
       "  })({\"config\": {\"view\": {\"continuousWidth\": 300, \"continuousHeight\": 300}}, \"vconcat\": [{\"data\": {\"name\": \"data-d4775c7e2b59a23393eb246775bc1f3d\"}, \"mark\": {\"type\": \"line\"}, \"encoding\": {\"color\": {\"value\": \"black\"}, \"x\": {\"field\": \"dates\", \"type\": \"temporal\"}, \"y\": {\"field\": \"casos\", \"type\": \"quantitative\"}}, \"height\": 150, \"title\": \"New cases\", \"width\": 400}, {\"layer\": [{\"mark\": {\"type\": \"point\", \"filled\": false}, \"encoding\": {\"color\": {\"field\": \"variable\", \"legend\": {\"legendX\": 100}, \"type\": \"nominal\"}, \"x\": {\"field\": \"dates\", \"type\": \"temporal\"}, \"y\": {\"field\": \"log_score\", \"type\": \"quantitative\"}}}, {\"mark\": {\"type\": \"point\"}, \"encoding\": {\"color\": {\"field\": \"variable\", \"legend\": {\"legendX\": 100}, \"type\": \"nominal\"}, \"opacity\": {\"condition\": {\"param\": \"param_2\", \"value\": 1, \"empty\": false}, \"value\": 0}, \"x\": {\"field\": \"dates\", \"type\": \"temporal\"}, \"y\": {\"field\": \"log_score\", \"type\": \"quantitative\"}}}, {\"mark\": {\"type\": \"rule\", \"color\": \"gray\"}, \"encoding\": {\"opacity\": {\"condition\": {\"param\": \"param_2\", \"value\": 0.3, \"empty\": false}, \"value\": 0}, \"tooltip\": [{\"field\": \"dates\", \"title\": \"Date\", \"type\": \"temporal\"}, {\"field\": \"preds\", \"format\": \".2f\", \"type\": \"quantitative\"}, {\"field\": \"77\", \"format\": \".2f\", \"type\": \"quantitative\"}, {\"field\": \"78\", \"format\": \".2f\", \"type\": \"quantitative\"}], \"x\": {\"field\": \"dates\", \"type\": \"temporal\"}}, \"name\": \"view_2\", \"transform\": [{\"pivot\": \"variable\", \"value\": \"log_score\", \"groupby\": [\"dates\"]}]}], \"data\": {\"name\": \"data-b903c6ac26892c6606b326a6773e2c7b\"}, \"height\": 250, \"title\": {\"text\": \"Log score\", \"subtitle\": \"Bigger is better\"}, \"width\": 400}], \"params\": [{\"name\": \"param_2\", \"select\": {\"type\": \"point\", \"fields\": [\"dates\"], \"nearest\": true, \"on\": \"pointerover\"}, \"views\": [\"view_2\"]}], \"$schema\": \"https://vega.github.io/schema/vega-lite/v5.17.0.json\", \"datasets\": {\"data-d4775c7e2b59a23393eb246775bc1f3d\": [{\"dates\": \"2022-01-02T00:00:00\", \"casos\": 21.0}, {\"dates\": \"2022-01-09T00:00:00\", \"casos\": 14.0}, {\"dates\": \"2022-01-16T00:00:00\", \"casos\": 22.0}, {\"dates\": \"2022-01-23T00:00:00\", \"casos\": 19.0}, {\"dates\": \"2022-01-30T00:00:00\", \"casos\": 31.0}, {\"dates\": \"2022-02-06T00:00:00\", \"casos\": 35.0}, {\"dates\": \"2022-02-13T00:00:00\", \"casos\": 47.0}, {\"dates\": \"2022-02-20T00:00:00\", \"casos\": 62.0}, {\"dates\": \"2022-02-27T00:00:00\", \"casos\": 66.0}, {\"dates\": \"2022-03-06T00:00:00\", \"casos\": 116.0}, {\"dates\": \"2022-03-13T00:00:00\", \"casos\": 126.0}, {\"dates\": \"2022-03-20T00:00:00\", \"casos\": 177.0}, {\"dates\": \"2022-03-27T00:00:00\", \"casos\": 153.0}, {\"dates\": \"2022-04-03T00:00:00\", \"casos\": 222.0}, {\"dates\": \"2022-04-10T00:00:00\", \"casos\": 201.0}, {\"dates\": \"2022-04-17T00:00:00\", \"casos\": 234.0}, {\"dates\": \"2022-04-24T00:00:00\", \"casos\": 342.0}, {\"dates\": \"2022-05-01T00:00:00\", \"casos\": 461.0}, {\"dates\": \"2022-05-08T00:00:00\", \"casos\": 505.0}, {\"dates\": \"2022-05-15T00:00:00\", \"casos\": 406.0}, {\"dates\": \"2022-05-22T00:00:00\", \"casos\": 400.0}, {\"dates\": \"2022-05-29T00:00:00\", \"casos\": 338.0}, {\"dates\": \"2022-06-05T00:00:00\", \"casos\": 255.0}, {\"dates\": \"2022-06-12T00:00:00\", \"casos\": 153.0}, {\"dates\": \"2022-06-19T00:00:00\", \"casos\": 209.0}, {\"dates\": \"2022-06-26T00:00:00\", \"casos\": 189.0}, {\"dates\": \"2022-07-03T00:00:00\", \"casos\": 155.0}, {\"dates\": \"2022-07-10T00:00:00\", \"casos\": 144.0}, {\"dates\": \"2022-07-17T00:00:00\", \"casos\": 194.0}, {\"dates\": \"2022-07-24T00:00:00\", \"casos\": 148.0}, {\"dates\": \"2022-07-31T00:00:00\", \"casos\": 145.0}, {\"dates\": \"2022-08-07T00:00:00\", \"casos\": 106.0}, {\"dates\": \"2022-08-14T00:00:00\", \"casos\": 110.0}, {\"dates\": \"2022-08-21T00:00:00\", \"casos\": 99.0}, {\"dates\": \"2022-08-28T00:00:00\", \"casos\": 94.0}, {\"dates\": \"2022-09-04T00:00:00\", \"casos\": 101.0}, {\"dates\": \"2022-09-11T00:00:00\", \"casos\": 120.0}, {\"dates\": \"2022-09-18T00:00:00\", \"casos\": 102.0}, {\"dates\": \"2022-09-25T00:00:00\", \"casos\": 95.0}, {\"dates\": \"2022-10-02T00:00:00\", \"casos\": 102.0}, {\"dates\": \"2022-10-09T00:00:00\", \"casos\": 123.0}, {\"dates\": \"2022-10-16T00:00:00\", \"casos\": 160.0}, {\"dates\": \"2022-10-23T00:00:00\", \"casos\": 139.0}, {\"dates\": \"2022-10-30T00:00:00\", \"casos\": 131.0}, {\"dates\": \"2022-11-06T00:00:00\", \"casos\": 171.0}, {\"dates\": \"2022-11-13T00:00:00\", \"casos\": 129.0}, {\"dates\": \"2022-11-20T00:00:00\", \"casos\": 94.0}, {\"dates\": \"2022-11-27T00:00:00\", \"casos\": 86.0}, {\"dates\": \"2022-12-04T00:00:00\", \"casos\": 98.0}, {\"dates\": \"2022-12-11T00:00:00\", \"casos\": 123.0}, {\"dates\": \"2022-12-18T00:00:00\", \"casos\": 117.0}, {\"dates\": \"2022-12-25T00:00:00\", \"casos\": 163.0}, {\"dates\": \"2023-01-01T00:00:00\", \"casos\": 230.0}, {\"dates\": \"2023-01-08T00:00:00\", \"casos\": 218.0}, {\"dates\": \"2023-01-15T00:00:00\", \"casos\": 246.0}, {\"dates\": \"2023-01-22T00:00:00\", \"casos\": 312.0}, {\"dates\": \"2023-01-29T00:00:00\", \"casos\": 383.0}, {\"dates\": \"2023-02-05T00:00:00\", \"casos\": 525.0}, {\"dates\": \"2023-02-12T00:00:00\", \"casos\": 372.0}, {\"dates\": \"2023-02-19T00:00:00\", \"casos\": 507.0}, {\"dates\": \"2023-02-26T00:00:00\", \"casos\": 870.0}, {\"dates\": \"2023-03-05T00:00:00\", \"casos\": 945.0}, {\"dates\": \"2023-03-12T00:00:00\", \"casos\": 1125.0}, {\"dates\": \"2023-03-19T00:00:00\", \"casos\": 1382.0}, {\"dates\": \"2023-03-26T00:00:00\", \"casos\": 1580.0}, {\"dates\": \"2023-04-02T00:00:00\", \"casos\": 1420.0}, {\"dates\": \"2023-04-09T00:00:00\", \"casos\": 1783.0}, {\"dates\": \"2023-04-16T00:00:00\", \"casos\": 1502.0}, {\"dates\": \"2023-04-23T00:00:00\", \"casos\": 1572.0}, {\"dates\": \"2023-04-30T00:00:00\", \"casos\": 1919.0}, {\"dates\": \"2023-05-07T00:00:00\", \"casos\": 1807.0}, {\"dates\": \"2023-05-14T00:00:00\", \"casos\": 1731.0}, {\"dates\": \"2023-05-21T00:00:00\", \"casos\": 1479.0}, {\"dates\": \"2023-05-28T00:00:00\", \"casos\": 1328.0}, {\"dates\": \"2023-06-04T00:00:00\", \"casos\": 1238.0}, {\"dates\": \"2023-06-11T00:00:00\", \"casos\": 1348.0}, {\"dates\": \"2023-06-18T00:00:00\", \"casos\": 1236.0}, {\"dates\": \"2023-06-25T00:00:00\", \"casos\": 996.0}], \"data-b903c6ac26892c6606b326a6773e2c7b\": [{\"dates\": \"2022-01-02T00:00:00\", \"variable\": \"preds\", \"log_score\": -232.269555971355}, {\"dates\": \"2022-01-09T00:00:00\", \"variable\": \"preds\", \"log_score\": -58.374016487517}, {\"dates\": \"2022-01-16T00:00:00\", \"variable\": \"preds\", \"log_score\": -124.48436683411143}, {\"dates\": \"2022-01-23T00:00:00\", \"variable\": \"preds\", \"log_score\": -67.54116554071749}, {\"dates\": \"2022-01-30T00:00:00\", \"variable\": \"preds\", \"log_score\": -3.951337766002403}, {\"dates\": \"2022-02-06T00:00:00\", \"variable\": \"preds\", \"log_score\": -4.286486756306728}, {\"dates\": \"2022-02-13T00:00:00\", \"variable\": \"preds\", \"log_score\": -5.5620567842953506}, {\"dates\": \"2022-02-20T00:00:00\", \"variable\": \"preds\", \"log_score\": -6.999194514818663}, {\"dates\": \"2022-02-27T00:00:00\", \"variable\": \"preds\", \"log_score\": -4.004892469638275}, {\"dates\": \"2022-03-06T00:00:00\", \"variable\": \"preds\", \"log_score\": -5.457044379337808}, {\"dates\": \"2022-03-13T00:00:00\", \"variable\": \"preds\", \"log_score\": -5.421183408024923}, {\"dates\": \"2022-03-20T00:00:00\", \"variable\": \"preds\", \"log_score\": -6.397272923443311}, {\"dates\": \"2022-03-27T00:00:00\", \"variable\": \"preds\", \"log_score\": -5.279724463639986}, {\"dates\": \"2022-04-03T00:00:00\", \"variable\": \"preds\", \"log_score\": -5.644713899242943}, {\"dates\": \"2022-04-10T00:00:00\", \"variable\": \"preds\", \"log_score\": -6.023216870239596}, {\"dates\": \"2022-04-17T00:00:00\", \"variable\": \"preds\", \"log_score\": -6.354105630989117}, {\"dates\": \"2022-04-24T00:00:00\", \"variable\": \"preds\", \"log_score\": -6.046962241251529}, {\"dates\": \"2022-05-01T00:00:00\", \"variable\": \"preds\", \"log_score\": -6.93502592958336}, {\"dates\": \"2022-05-08T00:00:00\", \"variable\": \"preds\", \"log_score\": -6.941784889222831}, {\"dates\": \"2022-05-15T00:00:00\", \"variable\": \"preds\", \"log_score\": -6.662278388836775}, {\"dates\": \"2022-05-22T00:00:00\", \"variable\": \"preds\", \"log_score\": -6.322609523052975}, {\"dates\": \"2022-05-29T00:00:00\", \"variable\": \"preds\", \"log_score\": -6.7135007494662}, {\"dates\": \"2022-06-05T00:00:00\", \"variable\": \"preds\", \"log_score\": -7.149906133564661}, {\"dates\": \"2022-06-12T00:00:00\", \"variable\": \"preds\", \"log_score\": -7.491809704094644}, {\"dates\": \"2022-06-19T00:00:00\", \"variable\": \"preds\", \"log_score\": -5.3013971218693365}, {\"dates\": \"2022-06-26T00:00:00\", \"variable\": \"preds\", \"log_score\": -5.4013119818231585}, {\"dates\": \"2022-07-03T00:00:00\", \"variable\": \"preds\", \"log_score\": -5.588766903781756}, {\"dates\": \"2022-07-10T00:00:00\", \"variable\": \"preds\", \"log_score\": -5.796291542074237}, {\"dates\": \"2022-07-17T00:00:00\", \"variable\": \"preds\", \"log_score\": -5.387841719653461}, {\"dates\": \"2022-07-24T00:00:00\", \"variable\": \"preds\", \"log_score\": -5.1783323367426615}, {\"dates\": \"2022-07-31T00:00:00\", \"variable\": \"preds\", \"log_score\": -5.449281872823544}, {\"dates\": \"2022-08-07T00:00:00\", \"variable\": \"preds\", \"log_score\": -5.687675175623011}, {\"dates\": \"2022-08-14T00:00:00\", \"variable\": \"preds\", \"log_score\": -4.630648411272697}, {\"dates\": \"2022-08-21T00:00:00\", \"variable\": \"preds\", \"log_score\": -4.866242509785937}, {\"dates\": \"2022-08-28T00:00:00\", \"variable\": \"preds\", \"log_score\": -5.145327168283763}, {\"dates\": \"2022-09-04T00:00:00\", \"variable\": \"preds\", \"log_score\": -5.346358106867649}, {\"dates\": \"2022-09-11T00:00:00\", \"variable\": \"preds\", \"log_score\": -4.695219460963859}, {\"dates\": \"2022-09-18T00:00:00\", \"variable\": \"preds\", \"log_score\": -4.755234937097069}, {\"dates\": \"2022-09-25T00:00:00\", \"variable\": \"preds\", \"log_score\": -5.021942395956902}, {\"dates\": \"2022-10-02T00:00:00\", \"variable\": \"preds\", \"log_score\": -5.253935084454844}, {\"dates\": \"2022-10-09T00:00:00\", \"variable\": \"preds\", \"log_score\": -4.720747056457813}, {\"dates\": \"2022-10-16T00:00:00\", \"variable\": \"preds\", \"log_score\": -5.607419903824787}, {\"dates\": \"2022-10-23T00:00:00\", \"variable\": \"preds\", \"log_score\": -5.274250673006732}, {\"dates\": \"2022-10-30T00:00:00\", \"variable\": \"preds\", \"log_score\": -5.384963041460885}, {\"dates\": \"2022-11-06T00:00:00\", \"variable\": \"preds\", \"log_score\": -5.098995458246796}, {\"dates\": \"2022-11-13T00:00:00\", \"variable\": \"preds\", \"log_score\": -5.136972010180994}, {\"dates\": \"2022-11-20T00:00:00\", \"variable\": \"preds\", \"log_score\": -5.542422957400844}, {\"dates\": \"2022-11-27T00:00:00\", \"variable\": \"preds\", \"log_score\": -5.778450104653234}, {\"dates\": \"2022-12-04T00:00:00\", \"variable\": \"preds\", \"log_score\": -4.407199318923825}, {\"dates\": \"2022-12-11T00:00:00\", \"variable\": \"preds\", \"log_score\": -5.12693419771723}, {\"dates\": \"2022-12-18T00:00:00\", \"variable\": \"preds\", \"log_score\": -5.094562143401532}, {\"dates\": \"2022-12-25T00:00:00\", \"variable\": \"preds\", \"log_score\": -5.959952327859649}, {\"dates\": \"2023-01-01T00:00:00\", \"variable\": \"preds\", \"log_score\": -5.895561471844576}, {\"dates\": \"2023-01-08T00:00:00\", \"variable\": \"preds\", \"log_score\": -5.580446366198453}, {\"dates\": \"2023-01-15T00:00:00\", \"variable\": \"preds\", \"log_score\": -5.926998907141068}, {\"dates\": \"2023-01-22T00:00:00\", \"variable\": \"preds\", \"log_score\": -6.415516393684595}, {\"dates\": \"2023-01-29T00:00:00\", \"variable\": \"preds\", \"log_score\": -5.947117204177019}, {\"dates\": \"2023-02-05T00:00:00\", \"variable\": \"preds\", \"log_score\": -6.7015050337581865}, {\"dates\": \"2023-02-12T00:00:00\", \"variable\": \"preds\", \"log_score\": -6.530247612542601}, {\"dates\": \"2023-02-19T00:00:00\", \"variable\": \"preds\", \"log_score\": -6.918078021987467}, {\"dates\": \"2023-02-26T00:00:00\", \"variable\": \"preds\", \"log_score\": -7.843736458236036}, {\"dates\": \"2023-03-05T00:00:00\", \"variable\": \"preds\", \"log_score\": -7.570481755927283}, {\"dates\": \"2023-03-12T00:00:00\", \"variable\": \"preds\", \"log_score\": -7.883969679366332}, {\"dates\": \"2023-03-19T00:00:00\", \"variable\": \"preds\", \"log_score\": -8.244331295050534}, {\"dates\": \"2023-03-26T00:00:00\", \"variable\": \"preds\", \"log_score\": -7.575358337448324}, {\"dates\": \"2023-04-02T00:00:00\", \"variable\": \"preds\", \"log_score\": -8.0009518905821}, {\"dates\": \"2023-04-09T00:00:00\", \"variable\": \"preds\", \"log_score\": -8.4291625708811}, {\"dates\": \"2023-04-16T00:00:00\", \"variable\": \"preds\", \"log_score\": -8.806462951062873}, {\"dates\": \"2023-04-23T00:00:00\", \"variable\": \"preds\", \"log_score\": -7.7241696683128405}, {\"dates\": \"2023-04-30T00:00:00\", \"variable\": \"preds\", \"log_score\": -8.095723955293426}, {\"dates\": \"2023-05-07T00:00:00\", \"variable\": \"preds\", \"log_score\": -8.483740955798105}, {\"dates\": \"2023-05-14T00:00:00\", \"variable\": \"preds\", \"log_score\": -8.821918552345872}, {\"dates\": \"2023-05-21T00:00:00\", \"variable\": \"preds\", \"log_score\": -7.857939163157734}, {\"dates\": \"2023-05-28T00:00:00\", \"variable\": \"preds\", \"log_score\": -8.222827512789886}, {\"dates\": \"2023-06-04T00:00:00\", \"variable\": \"preds\", \"log_score\": -8.592447965379082}, {\"dates\": \"2023-06-11T00:00:00\", \"variable\": \"preds\", \"log_score\": -8.894860700937949}, {\"dates\": \"2023-06-18T00:00:00\", \"variable\": \"preds\", \"log_score\": -7.435407939516623}, {\"dates\": \"2023-06-25T00:00:00\", \"variable\": \"preds\", \"log_score\": -7.828040092008514}, {\"dates\": \"2022-01-02T00:00:00\", \"variable\": \"77\", \"log_score\": -6.992415441357596}, {\"dates\": \"2022-01-09T00:00:00\", \"variable\": \"77\", \"log_score\": -6.870075529986306}, {\"dates\": \"2022-01-16T00:00:00\", \"variable\": \"77\", \"log_score\": -6.046197565535977}, {\"dates\": \"2022-01-23T00:00:00\", \"variable\": \"77\", \"log_score\": -6.580272789857316}, {\"dates\": \"2022-01-30T00:00:00\", \"variable\": \"77\", \"log_score\": -6.493813004534157}, {\"dates\": \"2022-02-06T00:00:00\", \"variable\": \"77\", \"log_score\": -6.492569188163004}, {\"dates\": \"2022-02-13T00:00:00\", \"variable\": \"77\", \"log_score\": -6.454462318882965}, {\"dates\": \"2022-02-20T00:00:00\", \"variable\": \"77\", \"log_score\": -6.654613141021056}, {\"dates\": \"2022-02-27T00:00:00\", \"variable\": \"77\", \"log_score\": -6.833395029696827}, {\"dates\": \"2022-03-06T00:00:00\", \"variable\": \"77\", \"log_score\": -7.114655311756652}, {\"dates\": \"2022-03-13T00:00:00\", \"variable\": \"77\", \"log_score\": -6.988530774345875}, {\"dates\": \"2022-03-20T00:00:00\", \"variable\": \"77\", \"log_score\": -6.933775539423365}, {\"dates\": \"2022-03-27T00:00:00\", \"variable\": \"77\", \"log_score\": -6.775964883071361}, {\"dates\": \"2022-04-03T00:00:00\", \"variable\": \"77\", \"log_score\": -6.348806023288524}, {\"dates\": \"2022-04-10T00:00:00\", \"variable\": \"77\", \"log_score\": -6.8920516285865006}, {\"dates\": \"2022-04-17T00:00:00\", \"variable\": \"77\", \"log_score\": -7.289278580299452}, {\"dates\": \"2022-04-24T00:00:00\", \"variable\": \"77\", \"log_score\": -7.546326457982746}, {\"dates\": \"2022-05-01T00:00:00\", \"variable\": \"77\", \"log_score\": -7.63528394475979}, {\"dates\": \"2022-05-08T00:00:00\", \"variable\": \"77\", \"log_score\": -7.765563757702975}, {\"dates\": \"2022-05-15T00:00:00\", \"variable\": \"77\", \"log_score\": -7.430783315208069}, {\"dates\": \"2022-05-22T00:00:00\", \"variable\": \"77\", \"log_score\": -7.0916564638190565}, {\"dates\": \"2022-05-29T00:00:00\", \"variable\": \"77\", \"log_score\": -7.44968045392909}, {\"dates\": \"2022-06-05T00:00:00\", \"variable\": \"77\", \"log_score\": -8.813543849512584}, {\"dates\": \"2022-06-12T00:00:00\", \"variable\": \"77\", \"log_score\": -8.24553567584008}, {\"dates\": \"2022-06-19T00:00:00\", \"variable\": \"77\", \"log_score\": -7.743083598730218}, {\"dates\": \"2022-06-26T00:00:00\", \"variable\": \"77\", \"log_score\": -7.293915236000341}, {\"dates\": \"2022-07-03T00:00:00\", \"variable\": \"77\", \"log_score\": -7.347614756188938}, {\"dates\": \"2022-07-10T00:00:00\", \"variable\": \"77\", \"log_score\": -6.930178580248587}, {\"dates\": \"2022-07-17T00:00:00\", \"variable\": \"77\", \"log_score\": -6.92650306714976}, {\"dates\": \"2022-07-24T00:00:00\", \"variable\": \"77\", \"log_score\": -7.114013349052895}, {\"dates\": \"2022-07-31T00:00:00\", \"variable\": \"77\", \"log_score\": -6.774767639202765}, {\"dates\": \"2022-08-07T00:00:00\", \"variable\": \"77\", \"log_score\": -6.692895889518652}, {\"dates\": \"2022-08-14T00:00:00\", \"variable\": \"77\", \"log_score\": -6.66360062464408}, {\"dates\": \"2022-08-21T00:00:00\", \"variable\": \"77\", \"log_score\": -6.7294739372717975}, {\"dates\": \"2022-08-28T00:00:00\", \"variable\": \"77\", \"log_score\": -6.8580237422044705}, {\"dates\": \"2022-09-04T00:00:00\", \"variable\": \"77\", \"log_score\": -6.895872196369931}, {\"dates\": \"2022-09-11T00:00:00\", \"variable\": \"77\", \"log_score\": -6.503135997644513}, {\"dates\": \"2022-09-18T00:00:00\", \"variable\": \"77\", \"log_score\": -5.798815012473156}, {\"dates\": \"2022-09-25T00:00:00\", \"variable\": \"77\", \"log_score\": -6.551265695442198}, {\"dates\": \"2022-10-02T00:00:00\", \"variable\": \"77\", \"log_score\": -6.407603088387828}, {\"dates\": \"2022-10-09T00:00:00\", \"variable\": \"77\", \"log_score\": -6.954241060064169}, {\"dates\": \"2022-10-16T00:00:00\", \"variable\": \"77\", \"log_score\": -7.021548959518746}, {\"dates\": \"2022-10-23T00:00:00\", \"variable\": \"77\", \"log_score\": -7.342266931166755}, {\"dates\": \"2022-10-30T00:00:00\", \"variable\": \"77\", \"log_score\": -7.351712664570618}, {\"dates\": \"2022-11-06T00:00:00\", \"variable\": \"77\", \"log_score\": -7.454378773209983}, {\"dates\": \"2022-11-13T00:00:00\", \"variable\": \"77\", \"log_score\": -7.189998560799574}, {\"dates\": \"2022-11-20T00:00:00\", \"variable\": \"77\", \"log_score\": -6.978534742978431}, {\"dates\": \"2022-11-27T00:00:00\", \"variable\": \"77\", \"log_score\": -6.693778293537581}, {\"dates\": \"2022-12-04T00:00:00\", \"variable\": \"77\", \"log_score\": -6.423104184339056}, {\"dates\": \"2022-12-11T00:00:00\", \"variable\": \"77\", \"log_score\": -6.798555742276463}, {\"dates\": \"2022-12-18T00:00:00\", \"variable\": \"77\", \"log_score\": -6.903345718082295}, {\"dates\": \"2022-12-25T00:00:00\", \"variable\": \"77\", \"log_score\": -7.070191581515197}, {\"dates\": \"2023-01-01T00:00:00\", \"variable\": \"77\", \"log_score\": -7.0605740035847555}, {\"dates\": \"2023-01-08T00:00:00\", \"variable\": \"77\", \"log_score\": -7.045223726011194}, {\"dates\": \"2023-01-15T00:00:00\", \"variable\": \"77\", \"log_score\": -6.7194951926085675}, {\"dates\": \"2023-01-22T00:00:00\", \"variable\": \"77\", \"log_score\": -6.690525516728641}, {\"dates\": \"2023-01-29T00:00:00\", \"variable\": \"77\", \"log_score\": -6.862813241341015}, {\"dates\": \"2023-02-05T00:00:00\", \"variable\": \"77\", \"log_score\": -6.823837291109027}, {\"dates\": \"2023-02-12T00:00:00\", \"variable\": \"77\", \"log_score\": -7.105866922163416}, {\"dates\": \"2023-02-19T00:00:00\", \"variable\": \"77\", \"log_score\": -7.117678137697696}, {\"dates\": \"2023-02-26T00:00:00\", \"variable\": \"77\", \"log_score\": -7.31486976019457}, {\"dates\": \"2023-03-05T00:00:00\", \"variable\": \"77\", \"log_score\": -7.4692117810610235}, {\"dates\": \"2023-03-12T00:00:00\", \"variable\": \"77\", \"log_score\": -7.712089190999138}, {\"dates\": \"2023-03-19T00:00:00\", \"variable\": \"77\", \"log_score\": -7.883375583994265}, {\"dates\": \"2023-03-26T00:00:00\", \"variable\": \"77\", \"log_score\": -8.024042251575539}, {\"dates\": \"2023-04-02T00:00:00\", \"variable\": \"77\", \"log_score\": -8.120878682407712}, {\"dates\": \"2023-04-09T00:00:00\", \"variable\": \"77\", \"log_score\": -7.619891709493977}, {\"dates\": \"2023-04-16T00:00:00\", \"variable\": \"77\", \"log_score\": -7.2717711113209}, {\"dates\": \"2023-04-23T00:00:00\", \"variable\": \"77\", \"log_score\": -7.557110758776275}, {\"dates\": \"2023-04-30T00:00:00\", \"variable\": \"77\", \"log_score\": -7.562009280459046}, {\"dates\": \"2023-05-07T00:00:00\", \"variable\": \"77\", \"log_score\": -7.52694401172079}, {\"dates\": \"2023-05-14T00:00:00\", \"variable\": \"77\", \"log_score\": -7.3547493388379515}, {\"dates\": \"2023-05-21T00:00:00\", \"variable\": \"77\", \"log_score\": -7.22483902674364}, {\"dates\": \"2023-05-28T00:00:00\", \"variable\": \"77\", \"log_score\": -7.019282786700017}, {\"dates\": \"2023-06-04T00:00:00\", \"variable\": \"77\", \"log_score\": -9.422886161368568}, {\"dates\": \"2023-06-11T00:00:00\", \"variable\": \"77\", \"log_score\": -8.505236512499405}, {\"dates\": \"2023-06-18T00:00:00\", \"variable\": \"77\", \"log_score\": -7.281534953192731}, {\"dates\": \"2023-06-25T00:00:00\", \"variable\": \"77\", \"log_score\": -7.342796189673276}, {\"dates\": \"2022-01-02T00:00:00\", \"variable\": \"78\", \"log_score\": -6.236466467854566}, {\"dates\": \"2022-01-09T00:00:00\", \"variable\": \"78\", \"log_score\": -5.808406418586055}, {\"dates\": \"2022-01-16T00:00:00\", \"variable\": \"78\", \"log_score\": -5.562729308778151}, {\"dates\": \"2022-01-23T00:00:00\", \"variable\": \"78\", \"log_score\": -5.662114576590212}, {\"dates\": \"2022-01-30T00:00:00\", \"variable\": \"78\", \"log_score\": -5.963385340970599}, {\"dates\": \"2022-02-06T00:00:00\", \"variable\": \"78\", \"log_score\": -5.910948715696623}, {\"dates\": \"2022-02-13T00:00:00\", \"variable\": \"78\", \"log_score\": -5.973787535233068}, {\"dates\": \"2022-02-20T00:00:00\", \"variable\": \"78\", \"log_score\": -6.560617030946524}, {\"dates\": \"2022-02-27T00:00:00\", \"variable\": \"78\", \"log_score\": -6.656417785493274}, {\"dates\": \"2022-03-06T00:00:00\", \"variable\": \"78\", \"log_score\": -6.488643431077494}, {\"dates\": \"2022-03-13T00:00:00\", \"variable\": \"78\", \"log_score\": -6.969533367630016}, {\"dates\": \"2022-03-20T00:00:00\", \"variable\": \"78\", \"log_score\": -6.634103421223948}, {\"dates\": \"2022-03-27T00:00:00\", \"variable\": \"78\", \"log_score\": -6.021708283447859}, {\"dates\": \"2022-04-03T00:00:00\", \"variable\": \"78\", \"log_score\": -6.209213364325598}, {\"dates\": \"2022-04-10T00:00:00\", \"variable\": \"78\", \"log_score\": -6.000566694310453}, {\"dates\": \"2022-04-17T00:00:00\", \"variable\": \"78\", \"log_score\": -6.2798928840536}, {\"dates\": \"2022-04-24T00:00:00\", \"variable\": \"78\", \"log_score\": -6.638012758633392}, {\"dates\": \"2022-05-01T00:00:00\", \"variable\": \"78\", \"log_score\": -6.859075897327462}, {\"dates\": \"2022-05-08T00:00:00\", \"variable\": \"78\", \"log_score\": -6.807519734612539}, {\"dates\": \"2022-05-15T00:00:00\", \"variable\": \"78\", \"log_score\": -6.783554797363063}, {\"dates\": \"2022-05-22T00:00:00\", \"variable\": \"78\", \"log_score\": -6.666318156648064}, {\"dates\": \"2022-05-29T00:00:00\", \"variable\": \"78\", \"log_score\": -6.564597935694607}, {\"dates\": \"2022-06-05T00:00:00\", \"variable\": \"78\", \"log_score\": -7.020211838834128}, {\"dates\": \"2022-06-12T00:00:00\", \"variable\": \"78\", \"log_score\": -6.471776505189649}, {\"dates\": \"2022-06-19T00:00:00\", \"variable\": \"78\", \"log_score\": -6.1996834010460615}, {\"dates\": \"2022-06-26T00:00:00\", \"variable\": \"78\", \"log_score\": -6.123168321918948}, {\"dates\": \"2022-07-03T00:00:00\", \"variable\": \"78\", \"log_score\": -6.4814675912418345}, {\"dates\": \"2022-07-10T00:00:00\", \"variable\": \"78\", \"log_score\": -6.3981751978203105}, {\"dates\": \"2022-07-17T00:00:00\", \"variable\": \"78\", \"log_score\": -6.817999345553271}, {\"dates\": \"2022-07-24T00:00:00\", \"variable\": \"78\", \"log_score\": -6.451905659326475}, {\"dates\": \"2022-07-31T00:00:00\", \"variable\": \"78\", \"log_score\": -6.179400895396535}, {\"dates\": \"2022-08-07T00:00:00\", \"variable\": \"78\", \"log_score\": -6.082390189230521}, {\"dates\": \"2022-08-14T00:00:00\", \"variable\": \"78\", \"log_score\": -6.204910856063947}, {\"dates\": \"2022-08-21T00:00:00\", \"variable\": \"78\", \"log_score\": -6.042529723597496}, {\"dates\": \"2022-08-28T00:00:00\", \"variable\": \"78\", \"log_score\": -5.973112110456799}, {\"dates\": \"2022-09-04T00:00:00\", \"variable\": \"78\", \"log_score\": -6.100373961863847}, {\"dates\": \"2022-09-11T00:00:00\", \"variable\": \"78\", \"log_score\": -6.2068532479900345}, {\"dates\": \"2022-09-18T00:00:00\", \"variable\": \"78\", \"log_score\": -6.0926081537190555}, {\"dates\": \"2022-09-25T00:00:00\", \"variable\": \"78\", \"log_score\": -6.000294860536007}, {\"dates\": \"2022-10-02T00:00:00\", \"variable\": \"78\", \"log_score\": -6.072400413851108}, {\"dates\": \"2022-10-09T00:00:00\", \"variable\": \"78\", \"log_score\": -6.280054942868479}, {\"dates\": \"2022-10-16T00:00:00\", \"variable\": \"78\", \"log_score\": -6.534676971909581}, {\"dates\": \"2022-10-23T00:00:00\", \"variable\": \"78\", \"log_score\": -6.461251527241779}, {\"dates\": \"2022-10-30T00:00:00\", \"variable\": \"78\", \"log_score\": -6.2953479731005855}, {\"dates\": \"2022-11-06T00:00:00\", \"variable\": \"78\", \"log_score\": -6.59669451448484}, {\"dates\": \"2022-11-13T00:00:00\", \"variable\": \"78\", \"log_score\": -6.350720149791762}, {\"dates\": \"2022-11-20T00:00:00\", \"variable\": \"78\", \"log_score\": -6.0704111851619285}, {\"dates\": \"2022-11-27T00:00:00\", \"variable\": \"78\", \"log_score\": -6.009631888527042}, {\"dates\": \"2022-12-04T00:00:00\", \"variable\": \"78\", \"log_score\": -6.008108406402349}, {\"dates\": \"2022-12-11T00:00:00\", \"variable\": \"78\", \"log_score\": -6.231310266608032}, {\"dates\": \"2022-12-18T00:00:00\", \"variable\": \"78\", \"log_score\": -6.210044661250155}, {\"dates\": \"2022-12-25T00:00:00\", \"variable\": \"78\", \"log_score\": -6.030344919933579}, {\"dates\": \"2023-01-01T00:00:00\", \"variable\": \"78\", \"log_score\": -6.824407014356001}, {\"dates\": \"2023-01-08T00:00:00\", \"variable\": \"78\", \"log_score\": -6.176103462439369}, {\"dates\": \"2023-01-15T00:00:00\", \"variable\": \"78\", \"log_score\": -6.2424661400773775}, {\"dates\": \"2023-01-22T00:00:00\", \"variable\": \"78\", \"log_score\": -6.474002715169926}, {\"dates\": \"2023-01-29T00:00:00\", \"variable\": \"78\", \"log_score\": -6.313518220469092}, {\"dates\": \"2023-02-05T00:00:00\", \"variable\": \"78\", \"log_score\": -7.734218401869841}, {\"dates\": \"2023-02-12T00:00:00\", \"variable\": \"78\", \"log_score\": -6.314232126852336}, {\"dates\": \"2023-02-19T00:00:00\", \"variable\": \"78\", \"log_score\": -6.588685622264594}, {\"dates\": \"2023-02-26T00:00:00\", \"variable\": \"78\", \"log_score\": -7.8914644213151055}, {\"dates\": \"2023-03-05T00:00:00\", \"variable\": \"78\", \"log_score\": -7.284694494043149}, {\"dates\": \"2023-03-12T00:00:00\", \"variable\": \"78\", \"log_score\": -8.762054522017808}, {\"dates\": \"2023-03-19T00:00:00\", \"variable\": \"78\", \"log_score\": -10.851034900383274}, {\"dates\": \"2023-03-26T00:00:00\", \"variable\": \"78\", \"log_score\": -13.04891262220417}, {\"dates\": \"2023-04-02T00:00:00\", \"variable\": \"78\", \"log_score\": -10.408619669904532}, {\"dates\": \"2023-04-09T00:00:00\", \"variable\": \"78\", \"log_score\": -11.044975503594392}, {\"dates\": \"2023-04-16T00:00:00\", \"variable\": \"78\", \"log_score\": -8.33434007862355}, {\"dates\": \"2023-04-23T00:00:00\", \"variable\": \"78\", \"log_score\": -8.586949717872042}, {\"dates\": \"2023-04-30T00:00:00\", \"variable\": \"78\", \"log_score\": -12.995579802530315}, {\"dates\": \"2023-05-07T00:00:00\", \"variable\": \"78\", \"log_score\": -10.447125927771921}, {\"dates\": \"2023-05-14T00:00:00\", \"variable\": \"78\", \"log_score\": -12.877706107621634}, {\"dates\": \"2023-05-21T00:00:00\", \"variable\": \"78\", \"log_score\": -19.383648009448944}, {\"dates\": \"2023-05-28T00:00:00\", \"variable\": \"78\", \"log_score\": -7.901945773029901}, {\"dates\": \"2023-06-04T00:00:00\", \"variable\": \"78\", \"log_score\": -7.206261287198436}, {\"dates\": \"2023-06-11T00:00:00\", \"variable\": \"78\", \"log_score\": -8.59184506162542}, {\"dates\": \"2023-06-18T00:00:00\", \"variable\": \"78\", \"log_score\": -7.677499005839975}, {\"dates\": \"2023-06-25T00:00:00\", \"variable\": \"78\", \"log_score\": -8.896632569741554}]}}, {\"mode\": \"vega-lite\"});\n",
       "</script>"
      ],
      "text/plain": [
       "alt.VConcatChart(...)"
      ]
     },
     "execution_count": 16,
     "metadata": {},
     "output_type": "execute_result"
    }
   ],
   "execution_count": 16
  },
  {
   "cell_type": "markdown",
   "id": "6a4b531c",
   "metadata": {},
   "source": [
    "To generate a table with a summary of the scores, you can use the following: "
   ]
  },
  {
   "cell_type": "code",
   "id": "5ea7f468",
   "metadata": {
    "ExecuteTime": {
     "end_time": "2024-08-07T20:24:35.454453Z",
     "start_time": "2024-08-07T20:24:35.446761Z"
    }
   },
   "source": [
    "score.summary"
   ],
   "outputs": [
    {
     "data": {
      "text/plain": [
       "              mae            mse        crps  log_score\n",
       "id                                                     \n",
       "preds  115.497455   39526.820748  121.860453 -12.117691\n",
       "77     150.218462   69988.363187  156.069647  -7.138349\n",
       "78     260.983184  166280.634997  194.826199  -7.206595"
      ],
      "text/html": [
       "<div>\n",
       "<style scoped>\n",
       "    .dataframe tbody tr th:only-of-type {\n",
       "        vertical-align: middle;\n",
       "    }\n",
       "\n",
       "    .dataframe tbody tr th {\n",
       "        vertical-align: top;\n",
       "    }\n",
       "\n",
       "    .dataframe thead th {\n",
       "        text-align: right;\n",
       "    }\n",
       "</style>\n",
       "<table border=\"1\" class=\"dataframe\">\n",
       "  <thead>\n",
       "    <tr style=\"text-align: right;\">\n",
       "      <th></th>\n",
       "      <th>mae</th>\n",
       "      <th>mse</th>\n",
       "      <th>crps</th>\n",
       "      <th>log_score</th>\n",
       "    </tr>\n",
       "    <tr>\n",
       "      <th>id</th>\n",
       "      <th></th>\n",
       "      <th></th>\n",
       "      <th></th>\n",
       "      <th></th>\n",
       "    </tr>\n",
       "  </thead>\n",
       "  <tbody>\n",
       "    <tr>\n",
       "      <th>preds</th>\n",
       "      <td>115.497455</td>\n",
       "      <td>39526.820748</td>\n",
       "      <td>121.860453</td>\n",
       "      <td>-12.117691</td>\n",
       "    </tr>\n",
       "    <tr>\n",
       "      <th>77</th>\n",
       "      <td>150.218462</td>\n",
       "      <td>69988.363187</td>\n",
       "      <td>156.069647</td>\n",
       "      <td>-7.138349</td>\n",
       "    </tr>\n",
       "    <tr>\n",
       "      <th>78</th>\n",
       "      <td>260.983184</td>\n",
       "      <td>166280.634997</td>\n",
       "      <td>194.826199</td>\n",
       "      <td>-7.206595</td>\n",
       "    </tr>\n",
       "  </tbody>\n",
       "</table>\n",
       "</div>"
      ]
     },
     "execution_count": 17,
     "metadata": {},
     "output_type": "execute_result"
    }
   ],
   "execution_count": 17
  },
  {
   "cell_type": "markdown",
   "id": "9f5d7109",
   "metadata": {},
   "source": [
    "To generate a plot of the predictions, you can use the following: "
   ]
  },
  {
   "cell_type": "code",
   "id": "082a547f",
   "metadata": {
    "ExecuteTime": {
     "end_time": "2024-08-07T20:24:37.249764Z",
     "start_time": "2024-08-07T20:24:37.187534Z"
    }
   },
   "source": [
    "score.plot_predictions()"
   ],
   "outputs": [
    {
     "data": {
      "text/html": [
       "\n",
       "<style>\n",
       "  #altair-viz-dee3ba4cb8444824a5b3e4cc3b6655fe.vega-embed {\n",
       "    width: 100%;\n",
       "    display: flex;\n",
       "  }\n",
       "\n",
       "  #altair-viz-dee3ba4cb8444824a5b3e4cc3b6655fe.vega-embed details,\n",
       "  #altair-viz-dee3ba4cb8444824a5b3e4cc3b6655fe.vega-embed details summary {\n",
       "    position: relative;\n",
       "  }\n",
       "</style>\n",
       "<div id=\"altair-viz-dee3ba4cb8444824a5b3e4cc3b6655fe\"></div>\n",
       "<script type=\"text/javascript\">\n",
       "  var VEGA_DEBUG = (typeof VEGA_DEBUG == \"undefined\") ? {} : VEGA_DEBUG;\n",
       "  (function(spec, embedOpt){\n",
       "    let outputDiv = document.currentScript.previousElementSibling;\n",
       "    if (outputDiv.id !== \"altair-viz-dee3ba4cb8444824a5b3e4cc3b6655fe\") {\n",
       "      outputDiv = document.getElementById(\"altair-viz-dee3ba4cb8444824a5b3e4cc3b6655fe\");\n",
       "    }\n",
       "    const paths = {\n",
       "      \"vega\": \"https://cdn.jsdelivr.net/npm/vega@5?noext\",\n",
       "      \"vega-lib\": \"https://cdn.jsdelivr.net/npm/vega-lib?noext\",\n",
       "      \"vega-lite\": \"https://cdn.jsdelivr.net/npm/vega-lite@5.17.0?noext\",\n",
       "      \"vega-embed\": \"https://cdn.jsdelivr.net/npm/vega-embed@6?noext\",\n",
       "    };\n",
       "\n",
       "    function maybeLoadScript(lib, version) {\n",
       "      var key = `${lib.replace(\"-\", \"\")}_version`;\n",
       "      return (VEGA_DEBUG[key] == version) ?\n",
       "        Promise.resolve(paths[lib]) :\n",
       "        new Promise(function(resolve, reject) {\n",
       "          var s = document.createElement('script');\n",
       "          document.getElementsByTagName(\"head\")[0].appendChild(s);\n",
       "          s.async = true;\n",
       "          s.onload = () => {\n",
       "            VEGA_DEBUG[key] = version;\n",
       "            return resolve(paths[lib]);\n",
       "          };\n",
       "          s.onerror = () => reject(`Error loading script: ${paths[lib]}`);\n",
       "          s.src = paths[lib];\n",
       "        });\n",
       "    }\n",
       "\n",
       "    function showError(err) {\n",
       "      outputDiv.innerHTML = `<div class=\"error\" style=\"color:red;\">${err}</div>`;\n",
       "      throw err;\n",
       "    }\n",
       "\n",
       "    function displayChart(vegaEmbed) {\n",
       "      vegaEmbed(outputDiv, spec, embedOpt)\n",
       "        .catch(err => showError(`Javascript Error: ${err.message}<br>This usually means there's a typo in your chart specification. See the javascript console for the full traceback.`));\n",
       "    }\n",
       "\n",
       "    if(typeof define === \"function\" && define.amd) {\n",
       "      requirejs.config({paths});\n",
       "      require([\"vega-embed\"], displayChart, err => showError(`Error loading script: ${err.message}`));\n",
       "    } else {\n",
       "      maybeLoadScript(\"vega\", \"5\")\n",
       "        .then(() => maybeLoadScript(\"vega-lite\", \"5.17.0\"))\n",
       "        .then(() => maybeLoadScript(\"vega-embed\", \"6\"))\n",
       "        .catch(showError)\n",
       "        .then(() => displayChart(vegaEmbed));\n",
       "    }\n",
       "  })({\"config\": {\"view\": {\"continuousWidth\": 300, \"continuousHeight\": 300}}, \"layer\": [{\"data\": {\"name\": \"data-1fff263b8dfc65f577a4f4b19354459e\"}, \"mark\": {\"type\": \"circle\", \"size\": 60}, \"encoding\": {\"color\": {\"field\": \"legend\", \"legend\": {\"title\": null}, \"scale\": {\"range\": [\"black\"]}, \"type\": \"nominal\"}, \"x\": {\"field\": \"dates\", \"type\": \"temporal\"}, \"y\": {\"field\": \"casos\", \"type\": \"quantitative\"}}}, {\"data\": {\"name\": \"data-58b0ad17f340792ebdda9b4bab0677ba\"}, \"mark\": {\"type\": \"line\"}, \"encoding\": {\"color\": {\"field\": \"model\", \"legend\": {\"title\": \"Model\"}, \"type\": \"nominal\"}, \"x\": {\"field\": \"dates\", \"title\": \"Dates\", \"type\": \"temporal\"}, \"y\": {\"field\": \"preds\", \"title\": \"New cases\", \"type\": \"quantitative\"}}, \"title\": \"Median and 95% confidence interval\"}, {\"data\": {\"name\": \"data-58b0ad17f340792ebdda9b4bab0677ba\"}, \"mark\": {\"type\": \"area\", \"opacity\": 0.25}, \"encoding\": {\"color\": {\"field\": \"model\", \"legend\": null, \"type\": \"nominal\"}, \"x\": {\"field\": \"dates\", \"type\": \"temporal\"}, \"y\": {\"field\": \"lower\", \"type\": \"quantitative\"}, \"y2\": {\"field\": \"upper\"}}, \"title\": \"Median and 95% confidence interval\"}, {\"data\": {\"name\": \"data-58b0ad17f340792ebdda9b4bab0677ba\"}, \"mark\": {\"type\": \"point\"}, \"encoding\": {\"color\": {\"field\": \"model\", \"legend\": null, \"type\": \"nominal\"}, \"opacity\": {\"condition\": {\"param\": \"param_3\", \"value\": 1, \"empty\": false}, \"value\": 0}, \"x\": {\"field\": \"dates\", \"title\": \"Dates\", \"type\": \"temporal\"}, \"y\": {\"field\": \"preds\", \"title\": \"New cases\", \"type\": \"quantitative\"}}, \"title\": \"Median and 95% confidence interval\"}, {\"data\": {\"name\": \"data-1902ff02dac3fa7746e0e6d52336ef12\"}, \"mark\": {\"type\": \"rule\", \"color\": \"gray\"}, \"encoding\": {\"opacity\": {\"condition\": {\"param\": \"param_3\", \"value\": 0.3, \"empty\": false}, \"value\": 0}, \"tooltip\": [{\"field\": \"dates\", \"title\": \"Date\", \"type\": \"temporal\"}, {\"field\": \"preds\", \"format\": \".0f\", \"type\": \"quantitative\"}, {\"field\": \"77\", \"format\": \".0f\", \"type\": \"quantitative\"}, {\"field\": \"78\", \"format\": \".0f\", \"type\": \"quantitative\"}, {\"field\": \"cases\", \"format\": \".0f\", \"type\": \"quantitative\"}], \"x\": {\"field\": \"dates\", \"type\": \"temporal\"}}, \"name\": \"view_3\", \"transform\": [{\"pivot\": \"model\", \"value\": \"preds\", \"groupby\": [\"dates\"]}]}], \"height\": 300, \"params\": [{\"name\": \"param_3\", \"select\": {\"type\": \"point\", \"fields\": [\"dates\"], \"nearest\": true, \"on\": \"pointerover\"}, \"views\": [\"view_3\"]}], \"resolve\": {\"scale\": {\"color\": \"independent\"}}, \"width\": 400, \"$schema\": \"https://vega.github.io/schema/vega-lite/v5.17.0.json\", \"datasets\": {\"data-1fff263b8dfc65f577a4f4b19354459e\": [{\"dates\": \"2022-01-02T00:00:00\", \"casos\": 21.0, \"legend\": \"Data\"}, {\"dates\": \"2022-01-09T00:00:00\", \"casos\": 14.0, \"legend\": \"Data\"}, {\"dates\": \"2022-01-16T00:00:00\", \"casos\": 22.0, \"legend\": \"Data\"}, {\"dates\": \"2022-01-23T00:00:00\", \"casos\": 19.0, \"legend\": \"Data\"}, {\"dates\": \"2022-01-30T00:00:00\", \"casos\": 31.0, \"legend\": \"Data\"}, {\"dates\": \"2022-02-06T00:00:00\", \"casos\": 35.0, \"legend\": \"Data\"}, {\"dates\": \"2022-02-13T00:00:00\", \"casos\": 47.0, \"legend\": \"Data\"}, {\"dates\": \"2022-02-20T00:00:00\", \"casos\": 62.0, \"legend\": \"Data\"}, {\"dates\": \"2022-02-27T00:00:00\", \"casos\": 66.0, \"legend\": \"Data\"}, {\"dates\": \"2022-03-06T00:00:00\", \"casos\": 116.0, \"legend\": \"Data\"}, {\"dates\": \"2022-03-13T00:00:00\", \"casos\": 126.0, \"legend\": \"Data\"}, {\"dates\": \"2022-03-20T00:00:00\", \"casos\": 177.0, \"legend\": \"Data\"}, {\"dates\": \"2022-03-27T00:00:00\", \"casos\": 153.0, \"legend\": \"Data\"}, {\"dates\": \"2022-04-03T00:00:00\", \"casos\": 222.0, \"legend\": \"Data\"}, {\"dates\": \"2022-04-10T00:00:00\", \"casos\": 201.0, \"legend\": \"Data\"}, {\"dates\": \"2022-04-17T00:00:00\", \"casos\": 234.0, \"legend\": \"Data\"}, {\"dates\": \"2022-04-24T00:00:00\", \"casos\": 342.0, \"legend\": \"Data\"}, {\"dates\": \"2022-05-01T00:00:00\", \"casos\": 461.0, \"legend\": \"Data\"}, {\"dates\": \"2022-05-08T00:00:00\", \"casos\": 505.0, \"legend\": \"Data\"}, {\"dates\": \"2022-05-15T00:00:00\", \"casos\": 406.0, \"legend\": \"Data\"}, {\"dates\": \"2022-05-22T00:00:00\", \"casos\": 400.0, \"legend\": \"Data\"}, {\"dates\": \"2022-05-29T00:00:00\", \"casos\": 338.0, \"legend\": \"Data\"}, {\"dates\": \"2022-06-05T00:00:00\", \"casos\": 255.0, \"legend\": \"Data\"}, {\"dates\": \"2022-06-12T00:00:00\", \"casos\": 153.0, \"legend\": \"Data\"}, {\"dates\": \"2022-06-19T00:00:00\", \"casos\": 209.0, \"legend\": \"Data\"}, {\"dates\": \"2022-06-26T00:00:00\", \"casos\": 189.0, \"legend\": \"Data\"}, {\"dates\": \"2022-07-03T00:00:00\", \"casos\": 155.0, \"legend\": \"Data\"}, {\"dates\": \"2022-07-10T00:00:00\", \"casos\": 144.0, \"legend\": \"Data\"}, {\"dates\": \"2022-07-17T00:00:00\", \"casos\": 194.0, \"legend\": \"Data\"}, {\"dates\": \"2022-07-24T00:00:00\", \"casos\": 148.0, \"legend\": \"Data\"}, {\"dates\": \"2022-07-31T00:00:00\", \"casos\": 145.0, \"legend\": \"Data\"}, {\"dates\": \"2022-08-07T00:00:00\", \"casos\": 106.0, \"legend\": \"Data\"}, {\"dates\": \"2022-08-14T00:00:00\", \"casos\": 110.0, \"legend\": \"Data\"}, {\"dates\": \"2022-08-21T00:00:00\", \"casos\": 99.0, \"legend\": \"Data\"}, {\"dates\": \"2022-08-28T00:00:00\", \"casos\": 94.0, \"legend\": \"Data\"}, {\"dates\": \"2022-09-04T00:00:00\", \"casos\": 101.0, \"legend\": \"Data\"}, {\"dates\": \"2022-09-11T00:00:00\", \"casos\": 120.0, \"legend\": \"Data\"}, {\"dates\": \"2022-09-18T00:00:00\", \"casos\": 102.0, \"legend\": \"Data\"}, {\"dates\": \"2022-09-25T00:00:00\", \"casos\": 95.0, \"legend\": \"Data\"}, {\"dates\": \"2022-10-02T00:00:00\", \"casos\": 102.0, \"legend\": \"Data\"}, {\"dates\": \"2022-10-09T00:00:00\", \"casos\": 123.0, \"legend\": \"Data\"}, {\"dates\": \"2022-10-16T00:00:00\", \"casos\": 160.0, \"legend\": \"Data\"}, {\"dates\": \"2022-10-23T00:00:00\", \"casos\": 139.0, \"legend\": \"Data\"}, {\"dates\": \"2022-10-30T00:00:00\", \"casos\": 131.0, \"legend\": \"Data\"}, {\"dates\": \"2022-11-06T00:00:00\", \"casos\": 171.0, \"legend\": \"Data\"}, {\"dates\": \"2022-11-13T00:00:00\", \"casos\": 129.0, \"legend\": \"Data\"}, {\"dates\": \"2022-11-20T00:00:00\", \"casos\": 94.0, \"legend\": \"Data\"}, {\"dates\": \"2022-11-27T00:00:00\", \"casos\": 86.0, \"legend\": \"Data\"}, {\"dates\": \"2022-12-04T00:00:00\", \"casos\": 98.0, \"legend\": \"Data\"}, {\"dates\": \"2022-12-11T00:00:00\", \"casos\": 123.0, \"legend\": \"Data\"}, {\"dates\": \"2022-12-18T00:00:00\", \"casos\": 117.0, \"legend\": \"Data\"}, {\"dates\": \"2022-12-25T00:00:00\", \"casos\": 163.0, \"legend\": \"Data\"}, {\"dates\": \"2023-01-01T00:00:00\", \"casos\": 230.0, \"legend\": \"Data\"}, {\"dates\": \"2023-01-08T00:00:00\", \"casos\": 218.0, \"legend\": \"Data\"}, {\"dates\": \"2023-01-15T00:00:00\", \"casos\": 246.0, \"legend\": \"Data\"}, {\"dates\": \"2023-01-22T00:00:00\", \"casos\": 312.0, \"legend\": \"Data\"}, {\"dates\": \"2023-01-29T00:00:00\", \"casos\": 383.0, \"legend\": \"Data\"}, {\"dates\": \"2023-02-05T00:00:00\", \"casos\": 525.0, \"legend\": \"Data\"}, {\"dates\": \"2023-02-12T00:00:00\", \"casos\": 372.0, \"legend\": \"Data\"}, {\"dates\": \"2023-02-19T00:00:00\", \"casos\": 507.0, \"legend\": \"Data\"}, {\"dates\": \"2023-02-26T00:00:00\", \"casos\": 870.0, \"legend\": \"Data\"}, {\"dates\": \"2023-03-05T00:00:00\", \"casos\": 945.0, \"legend\": \"Data\"}, {\"dates\": \"2023-03-12T00:00:00\", \"casos\": 1125.0, \"legend\": \"Data\"}, {\"dates\": \"2023-03-19T00:00:00\", \"casos\": 1382.0, \"legend\": \"Data\"}, {\"dates\": \"2023-03-26T00:00:00\", \"casos\": 1580.0, \"legend\": \"Data\"}, {\"dates\": \"2023-04-02T00:00:00\", \"casos\": 1420.0, \"legend\": \"Data\"}, {\"dates\": \"2023-04-09T00:00:00\", \"casos\": 1783.0, \"legend\": \"Data\"}, {\"dates\": \"2023-04-16T00:00:00\", \"casos\": 1502.0, \"legend\": \"Data\"}, {\"dates\": \"2023-04-23T00:00:00\", \"casos\": 1572.0, \"legend\": \"Data\"}, {\"dates\": \"2023-04-30T00:00:00\", \"casos\": 1919.0, \"legend\": \"Data\"}, {\"dates\": \"2023-05-07T00:00:00\", \"casos\": 1807.0, \"legend\": \"Data\"}, {\"dates\": \"2023-05-14T00:00:00\", \"casos\": 1731.0, \"legend\": \"Data\"}, {\"dates\": \"2023-05-21T00:00:00\", \"casos\": 1479.0, \"legend\": \"Data\"}, {\"dates\": \"2023-05-28T00:00:00\", \"casos\": 1328.0, \"legend\": \"Data\"}, {\"dates\": \"2023-06-04T00:00:00\", \"casos\": 1238.0, \"legend\": \"Data\"}, {\"dates\": \"2023-06-11T00:00:00\", \"casos\": 1348.0, \"legend\": \"Data\"}, {\"dates\": \"2023-06-18T00:00:00\", \"casos\": 1236.0, \"legend\": \"Data\"}, {\"dates\": \"2023-06-25T00:00:00\", \"casos\": 996.0, \"legend\": \"Data\"}], \"data-58b0ad17f340792ebdda9b4bab0677ba\": [{\"dates\": \"2022-01-02T00:00:00\", \"preds\": 3.614663075355968, \"lower\": 2.3801433589976413, \"upper\": 5.611557276957721, \"data\": 21.000000000000018, \"model\": \"preds\", \"adm_2\": null, \"adm_1\": null, \"adm_0\": null}, {\"dates\": \"2022-01-09T00:00:00\", \"preds\": 3.4332288411064837, \"lower\": 2.039729249507677, \"upper\": 5.9821987355014175, \"data\": 13.999999999999993, \"model\": \"preds\", \"adm_2\": null, \"adm_1\": null, \"adm_0\": null}, {\"dates\": \"2022-01-16T00:00:00\", \"preds\": 3.2521231496307945, \"lower\": 1.7176427022278957, \"upper\": 6.491391737710232, \"data\": 22.00000000000001, \"model\": \"preds\", \"adm_2\": null, \"adm_1\": null, \"adm_0\": null}, {\"dates\": \"2022-01-23T00:00:00\", \"preds\": 3.1186853966179826, \"lower\": 1.4908936914743907, \"upper\": 7.007502590439271, \"data\": 19.000000000000004, \"model\": \"preds\", \"adm_2\": null, \"adm_1\": null, \"adm_0\": null}, {\"dates\": \"2022-01-30T00:00:00\", \"preds\": 21.33132586342917, \"lower\": 12.570919585099855, \"upper\": 37.513217926653425, \"data\": 31.000000000000004, \"model\": \"preds\", \"adm_2\": null, \"adm_1\": null, \"adm_0\": null}, {\"dates\": \"2022-02-06T00:00:00\", \"preds\": 21.773567145494052, \"lower\": 11.2045611286519, \"upper\": 44.811997363492296, \"data\": 35.00000000000001, \"model\": \"preds\", \"adm_2\": null, \"adm_1\": null, \"adm_0\": null}, {\"dates\": \"2022-02-13T00:00:00\", \"preds\": 22.71696993942627, \"lower\": 10.005857078365455, \"upper\": 56.391797943289404, \"data\": 47.00000000000004, \"model\": \"preds\", \"adm_2\": null, \"adm_1\": null, \"adm_0\": null}, {\"dates\": \"2022-02-20T00:00:00\", \"preds\": 23.35473119485481, \"lower\": 9.00882509842098, \"upper\": 68.44922714121543, \"data\": 62.00000000000004, \"model\": \"preds\", \"adm_2\": null, \"adm_1\": null, \"adm_0\": null}, {\"dates\": \"2022-02-27T00:00:00\", \"preds\": 63.39300677815676, \"lower\": 34.648840590803594, \"upper\": 121.57444013593609, \"data\": 66.00000000000009, \"model\": \"preds\", \"adm_2\": null, \"adm_1\": null, \"adm_0\": null}, {\"dates\": \"2022-03-06T00:00:00\", \"preds\": 69.17062866471355, \"lower\": 32.26646525315723, \"upper\": 160.090553460089, \"data\": 115.99999999999999, \"model\": \"preds\", \"adm_2\": null, \"adm_1\": null, \"adm_0\": null}, {\"dates\": \"2022-03-13T00:00:00\", \"preds\": 72.84314879907228, \"lower\": 28.518521440900702, \"upper\": 209.50012255633766, \"data\": 125.99999999999994, \"model\": \"preds\", \"adm_2\": null, \"adm_1\": null, \"adm_0\": null}, {\"dates\": \"2022-03-20T00:00:00\", \"preds\": 76.62598842543994, \"lower\": 25.80476341908025, \"upper\": 267.88396693037254, \"data\": 177.00000000000006, \"model\": \"preds\", \"adm_2\": null, \"adm_1\": null, \"adm_0\": null}, {\"dates\": \"2022-03-27T00:00:00\", \"preds\": 181.68971114718533, \"lower\": 91.9183871783361, \"upper\": 381.5410518043362, \"data\": 152.99999999999994, \"model\": \"preds\", \"adm_2\": null, \"adm_1\": null, \"adm_0\": null}, {\"dates\": \"2022-04-03T00:00:00\", \"preds\": 202.51575586725158, \"lower\": 85.48547200912289, \"upper\": 529.8700414765788, \"data\": 222.00000000000014, \"model\": \"preds\", \"adm_2\": null, \"adm_1\": null, \"adm_0\": null}, {\"dates\": \"2022-04-10T00:00:00\", \"preds\": 215.97393072017184, \"lower\": 74.5606765710068, \"upper\": 730.7218790004978, \"data\": 201.00000000000009, \"model\": \"preds\", \"adm_2\": null, \"adm_1\": null, \"adm_0\": null}, {\"dates\": \"2022-04-17T00:00:00\", \"preds\": 230.17544960535315, \"lower\": 66.79156678312866, \"upper\": 983.9886395082435, \"data\": 234.0000000000001, \"model\": \"preds\", \"adm_2\": null, \"adm_1\": null, \"adm_0\": null}, {\"dates\": \"2022-04-24T00:00:00\", \"preds\": 239.78969047693698, \"lower\": 118.98327200717907, \"upper\": 515.2831426784273, \"data\": 341.99999999999994, \"model\": \"preds\", \"adm_2\": null, \"adm_1\": null, \"adm_0\": null}, {\"dates\": \"2022-05-01T00:00:00\", \"preds\": 253.29304589753738, \"lower\": 105.00256458801047, \"upper\": 677.8456025679789, \"data\": 461.00000000000034, \"model\": \"preds\", \"adm_2\": null, \"adm_1\": null, \"adm_0\": null}, {\"dates\": \"2022-05-08T00:00:00\", \"preds\": 262.4116143468478, \"lower\": 88.94064518302251, \"upper\": 909.6222726930578, \"data\": 504.99999999999983, \"model\": \"preds\", \"adm_2\": null, \"adm_1\": null, \"adm_0\": null}, {\"dates\": \"2022-05-15T00:00:00\", \"preds\": 271.35772763144564, \"lower\": 77.43678987333105, \"upper\": 1187.1619459775131, \"data\": 405.9999999999996, \"model\": \"preds\", \"adm_2\": null, \"adm_1\": null, \"adm_0\": null}, {\"dates\": \"2022-05-22T00:00:00\", \"preds\": 465.22843318642884, \"lower\": 218.73777800886742, \"upper\": 1066.5044103179207, \"data\": 399.99999999999966, \"model\": \"preds\", \"adm_2\": null, \"adm_1\": null, \"adm_0\": null}, {\"dates\": \"2022-05-29T00:00:00\", \"preds\": 471.772907963437, \"lower\": 183.266077292569, \"upper\": 1370.3627465577226, \"data\": 338.00000000000006, \"model\": \"preds\", \"adm_2\": null, \"adm_1\": null, \"adm_0\": null}, {\"dates\": \"2022-06-05T00:00:00\", \"preds\": 493.56181368727096, \"lower\": 154.21644701788017, \"upper\": 1907.2639936735873, \"data\": 255.0000000000003, \"model\": \"preds\", \"adm_2\": null, \"adm_1\": null, \"adm_0\": null}, {\"dates\": \"2022-06-12T00:00:00\", \"preds\": 507.670040365989, \"lower\": 131.81139686318963, \"upper\": 2536.356017908151, \"data\": 152.99999999999994, \"model\": \"preds\", \"adm_2\": null, \"adm_1\": null, \"adm_0\": null}, {\"dates\": \"2022-06-19T00:00:00\", \"preds\": 167.7205799235239, \"lower\": 85.62932619644201, \"upper\": 348.41984538166486, \"data\": 209.00000000000014, \"model\": \"preds\", \"adm_2\": null, \"adm_1\": null, \"adm_0\": null}, {\"dates\": \"2022-06-26T00:00:00\", \"preds\": 154.08523219458814, \"lower\": 66.94933054747358, \"upper\": 388.97236862616654, \"data\": 189.00000000000034, \"model\": \"preds\", \"adm_2\": null, \"adm_1\": null, \"adm_0\": null}, {\"dates\": \"2022-07-03T00:00:00\", \"preds\": 150.9200965277954, \"lower\": 54.54632622127063, \"upper\": 480.95164143256886, \"data\": 155.0000000000001, \"model\": \"preds\", \"adm_2\": null, \"adm_1\": null, \"adm_0\": null}, {\"dates\": \"2022-07-10T00:00:00\", \"preds\": 145.91068871910844, \"lower\": 45.2092996149081, \"upper\": 570.2844721150697, \"data\": 144.00000000000006, \"model\": \"preds\", \"adm_2\": null, \"adm_1\": null, \"adm_0\": null}, {\"dates\": \"2022-07-17T00:00:00\", \"preds\": 141.08518226128172, \"lower\": 73.11719274380819, \"upper\": 287.95348668665576, \"data\": 194.00000000000034, \"model\": \"preds\", \"adm_2\": null, \"adm_1\": null, \"adm_0\": null}, {\"dates\": \"2022-07-24T00:00:00\", \"preds\": 136.82729244439858, \"lower\": 60.2560720789011, \"upper\": 339.72812576000143, \"data\": 148.0000000000001, \"model\": \"preds\", \"adm_2\": null, \"adm_1\": null, \"adm_0\": null}, {\"dates\": \"2022-07-31T00:00:00\", \"preds\": 133.86127253528645, \"lower\": 49.17986897128339, \"upper\": 417.6378054554449, \"data\": 145.0, \"model\": \"preds\", \"adm_2\": null, \"adm_1\": null, \"adm_0\": null}, {\"dates\": \"2022-08-07T00:00:00\", \"preds\": 131.21359176764673, \"lower\": 41.350024878725726, \"upper\": 501.23866942230876, \"data\": 106.00000000000007, \"model\": \"preds\", \"adm_2\": null, \"adm_1\": null, \"adm_0\": null}, {\"dates\": \"2022-08-14T00:00:00\", \"preds\": 111.39700250814737, \"lower\": 58.820535036323484, \"upper\": 222.41995855631419, \"data\": 110.00000000000003, \"model\": \"preds\", \"adm_2\": null, \"adm_1\": null, \"adm_0\": null}, {\"dates\": \"2022-08-21T00:00:00\", \"preds\": 105.25803866571084, \"lower\": 47.56398006719579, \"upper\": 253.21700798038023, \"data\": 99.00000000000006, \"model\": \"preds\", \"adm_2\": null, \"adm_1\": null, \"adm_0\": null}, {\"dates\": \"2022-08-28T00:00:00\", \"preds\": 103.48725415115572, \"lower\": 39.202011207876595, \"upper\": 310.41203523164813, \"data\": 94.00000000000003, \"model\": \"preds\", \"adm_2\": null, \"adm_1\": null, \"adm_0\": null}, {\"dates\": \"2022-09-04T00:00:00\", \"preds\": 101.00084632934231, \"lower\": 32.98208762291526, \"upper\": 367.8425566627736, \"data\": 101.00000000000011, \"model\": \"preds\", \"adm_2\": null, \"adm_1\": null, \"adm_0\": null}, {\"dates\": \"2022-09-11T00:00:00\", \"preds\": 96.35635627041175, \"lower\": 51.50903968001025, \"upper\": 189.6359252050744, \"data\": 120.00000000000009, \"model\": \"preds\", \"adm_2\": null, \"adm_1\": null, \"adm_0\": null}, {\"dates\": \"2022-09-18T00:00:00\", \"preds\": 95.79563158185579, \"lower\": 43.75124671021875, \"upper\": 227.48138571347437, \"data\": 102.00000000000011, \"model\": \"preds\", \"adm_2\": null, \"adm_1\": null, \"adm_0\": null}, {\"dates\": \"2022-09-25T00:00:00\", \"preds\": 94.29395663388411, \"lower\": 36.17915489397503, \"upper\": 278.2499360784621, \"data\": 95.0000000000001, \"model\": \"preds\", \"adm_2\": null, \"adm_1\": null, \"adm_0\": null}, {\"dates\": \"2022-10-02T00:00:00\", \"preds\": 93.35076478646333, \"lower\": 30.879070658394593, \"upper\": 334.19833873336745, \"data\": 102.00000000000011, \"model\": \"preds\", \"adm_2\": null, \"adm_1\": null, \"adm_0\": null}, {\"dates\": \"2022-10-09T00:00:00\", \"preds\": 98.72110197039618, \"lower\": 52.76223493018071, \"upper\": 194.3369168828641, \"data\": 123.00000000000006, \"model\": \"preds\", \"adm_2\": null, \"adm_1\": null, \"adm_0\": null}, {\"dates\": \"2022-10-16T00:00:00\", \"preds\": 98.88607883052313, \"lower\": 45.11881311653123, \"upper\": 235.09838891759895, \"data\": 160.00000000000023, \"model\": \"preds\", \"adm_2\": null, \"adm_1\": null, \"adm_0\": null}, {\"dates\": \"2022-10-23T00:00:00\", \"preds\": 98.10734867682041, \"lower\": 37.56846207915747, \"upper\": 290.2294183160004, \"data\": 139.00000000000006, \"model\": \"preds\", \"adm_2\": null, \"adm_1\": null, \"adm_0\": null}, {\"dates\": \"2022-10-30T00:00:00\", \"preds\": 97.73543284325353, \"lower\": 32.233199441400274, \"upper\": 351.2861706075002, \"data\": 130.99999999999997, \"model\": \"preds\", \"adm_2\": null, \"adm_1\": null, \"adm_0\": null}, {\"dates\": \"2022-11-06T00:00:00\", \"preds\": 134.62689492500073, \"lower\": 70.40534507597232, \"upper\": 271.8574099355339, \"data\": 171.0000000000002, \"model\": \"preds\", \"adm_2\": null, \"adm_1\": null, \"adm_0\": null}, {\"dates\": \"2022-11-13T00:00:00\", \"preds\": 134.46882362034842, \"lower\": 59.718718173460125, \"upper\": 330.4327526426721, \"data\": 129.00000000000009, \"model\": \"preds\", \"adm_2\": null, \"adm_1\": null, \"adm_0\": null}, {\"dates\": \"2022-11-20T00:00:00\", \"preds\": 135.37483513534323, \"lower\": 50.103522536461334, \"upper\": 418.3660014862356, \"data\": 94.00000000000003, \"model\": \"preds\", \"adm_2\": null, \"adm_1\": null, \"adm_0\": null}, {\"dates\": \"2022-11-27T00:00:00\", \"preds\": 135.82297118569178, \"lower\": 43.0478922133023, \"upper\": 514.8689646020346, \"data\": 86.00000000000001, \"model\": \"preds\", \"adm_2\": null, \"adm_1\": null, \"adm_0\": null}, {\"dates\": \"2022-12-04T00:00:00\", \"preds\": 84.91236927436394, \"lower\": 45.94846397694953, \"upper\": 164.75181001002653, \"data\": 98.00000000000003, \"model\": \"preds\", \"adm_2\": null, \"adm_1\": null, \"adm_0\": null}, {\"dates\": \"2022-12-11T00:00:00\", \"preds\": 82.36806716546103, \"lower\": 38.24844267516736, \"upper\": 191.68855997941282, \"data\": 123.00000000000006, \"model\": \"preds\", \"adm_2\": null, \"adm_1\": null, \"adm_0\": null}, {\"dates\": \"2022-12-18T00:00:00\", \"preds\": 80.75661786853179, \"lower\": 31.642939039600936, \"upper\": 232.015093945173, \"data\": 116.99999999999993, \"model\": \"preds\", \"adm_2\": null, \"adm_1\": null, \"adm_0\": null}, {\"dates\": \"2022-12-25T00:00:00\", \"preds\": 79.2580905343743, \"lower\": 26.89030679719654, \"upper\": 274.37674752417297, \"data\": 163.00000000000026, \"model\": \"preds\", \"adm_2\": null, \"adm_1\": null, \"adm_0\": null}, {\"dates\": \"2023-01-01T00:00:00\", \"preds\": 151.76133446868533, \"lower\": 78.80212665991347, \"upper\": 309.0396239407756, \"data\": 230.00000000000026, \"model\": \"preds\", \"adm_2\": null, \"adm_1\": null, \"adm_0\": null}, {\"dates\": \"2023-01-08T00:00:00\", \"preds\": 159.72270996481006, \"lower\": 69.93219528344056, \"upper\": 399.41482831183293, \"data\": 218.0000000000003, \"model\": \"preds\", \"adm_2\": null, \"adm_1\": null, \"adm_0\": null}, {\"dates\": \"2023-01-15T00:00:00\", \"preds\": 161.10792069530078, \"lower\": 58.61511845590657, \"upper\": 509.0322044244204, \"data\": 246.0000000000002, \"model\": \"preds\", \"adm_2\": null, \"adm_1\": null, \"adm_0\": null}, {\"dates\": \"2023-01-22T00:00:00\", \"preds\": 164.09594864887933, \"lower\": 50.90561687060513, \"upper\": 640.3073445873545, \"data\": 312.00000000000006, \"model\": \"preds\", \"adm_2\": null, \"adm_1\": null, \"adm_0\": null}, {\"dates\": \"2023-01-29T00:00:00\", \"preds\": 309.3583488049301, \"lower\": 152.0762703639351, \"upper\": 672.2276437471522, \"data\": 382.99999999999955, \"model\": \"preds\", \"adm_2\": null, \"adm_1\": null, \"adm_0\": null}, {\"dates\": \"2023-02-05T00:00:00\", \"preds\": 328.34008314262354, \"lower\": 134.0760654750963, \"upper\": 895.4358359473988, \"data\": 525.0000000000005, \"model\": \"preds\", \"adm_2\": null, \"adm_1\": null, \"adm_0\": null}, {\"dates\": \"2023-02-12T00:00:00\", \"preds\": 338.3894931490902, \"lower\": 112.84360597037096, \"upper\": 1198.4954340883526, \"data\": 372.00000000000034, \"model\": \"preds\", \"adm_2\": null, \"adm_1\": null, \"adm_0\": null}, {\"dates\": \"2023-02-19T00:00:00\", \"preds\": 349.5129285891154, \"lower\": 97.90848165219658, \"upper\": 1568.9792239320764, \"data\": 507.00000000000045, \"model\": \"preds\", \"adm_2\": null, \"adm_1\": null, \"adm_0\": null}, {\"dates\": \"2023-02-26T00:00:00\", \"preds\": 486.6065336376336, \"lower\": 230.56344988793234, \"upper\": 1105.1553670421022, \"data\": 870.0, \"model\": \"preds\", \"adm_2\": null, \"adm_1\": null, \"adm_0\": null}, {\"dates\": \"2023-03-05T00:00:00\", \"preds\": 517.705010079599, \"lower\": 201.94154967732175, \"upper\": 1495.9038670792893, \"data\": 945.0000000000008, \"model\": \"preds\", \"adm_2\": null, \"adm_1\": null, \"adm_0\": null}, {\"dates\": \"2023-03-12T00:00:00\", \"preds\": 529.5488197232104, \"lower\": 167.16245125711322, \"upper\": 2018.2747259533005, \"data\": 1125.0000000000005, \"model\": \"preds\", \"adm_2\": null, \"adm_1\": null, \"adm_0\": null}, {\"dates\": \"2023-03-19T00:00:00\", \"preds\": 545.1043830232941, \"lower\": 143.42931027399922, \"upper\": 2672.275568527508, \"data\": 1382.0000000000002, \"model\": \"preds\", \"adm_2\": null, \"adm_1\": null, \"adm_0\": null}, {\"dates\": \"2023-03-26T00:00:00\", \"preds\": 1436.762896936793, \"lower\": 617.7124267342709, \"upper\": 3674.590068842351, \"data\": 1580.0, \"model\": \"preds\", \"adm_2\": null, \"adm_1\": null, \"adm_0\": null}, {\"dates\": \"2023-04-02T00:00:00\", \"preds\": 1552.0914477824952, \"lower\": 534.6517924790239, \"upper\": 5266.511567691413, \"data\": 1419.999999999999, \"model\": \"preds\", \"adm_2\": null, \"adm_1\": null, \"adm_0\": null}, {\"dates\": \"2023-04-09T00:00:00\", \"preds\": 1636.1137278814765, \"lower\": 442.100298358673, \"upper\": 7724.852142685991, \"data\": 1783.0000000000007, \"model\": \"preds\", \"adm_2\": null, \"adm_1\": null, \"adm_0\": null}, {\"dates\": \"2023-04-16T00:00:00\", \"preds\": 1719.3568355183838, \"lower\": 376.94987741986495, \"upper\": 10996.66529986929, \"data\": 1502.0000000000002, \"model\": \"preds\", \"adm_2\": null, \"adm_1\": null, \"adm_0\": null}, {\"dates\": \"2023-04-23T00:00:00\", \"preds\": 1656.8628776720834, \"lower\": 704.1953205547491, \"upper\": 4298.355154161255, \"data\": 1572.000000000001, \"model\": \"preds\", \"adm_2\": null, \"adm_1\": null, \"adm_0\": null}, {\"dates\": \"2023-04-30T00:00:00\", \"preds\": 1669.7422019642547, \"lower\": 571.8645149326301, \"upper\": 5708.971992709428, \"data\": 1918.9999999999986, \"model\": \"preds\", \"adm_2\": null, \"adm_1\": null, \"adm_0\": null}, {\"dates\": \"2023-05-07T00:00:00\", \"preds\": 1721.6240310538367, \"lower\": 463.44179644766484, \"upper\": 8172.224055309728, \"data\": 1806.9999999999995, \"model\": \"preds\", \"adm_2\": null, \"adm_1\": null, \"adm_0\": null}, {\"dates\": \"2023-05-14T00:00:00\", \"preds\": 1754.1555633669448, \"lower\": 384.8865295299729, \"upper\": 11205.81919919862, \"data\": 1731.0000000000036, \"model\": \"preds\", \"adm_2\": null, \"adm_1\": null, \"adm_0\": null}, {\"dates\": \"2023-05-21T00:00:00\", \"preds\": 1791.6967972860418, \"lower\": 757.363473499982, \"upper\": 4679.731928223298, \"data\": 1478.9999999999986, \"model\": \"preds\", \"adm_2\": null, \"adm_1\": null, \"adm_0\": null}, {\"dates\": \"2023-05-28T00:00:00\", \"preds\": 1804.7446851841166, \"lower\": 614.0199080150239, \"upper\": 6224.672433442277, \"data\": 1328.0000000000007, \"model\": \"preds\", \"adm_2\": null, \"adm_1\": null, \"adm_0\": null}, {\"dates\": \"2023-06-04T00:00:00\", \"preds\": 1828.6614207655214, \"lower\": 489.59031191069647, \"upper\": 8747.036078207824, \"data\": 1237.9999999999993, \"model\": \"preds\", \"adm_2\": null, \"adm_1\": null, \"adm_0\": null}, {\"dates\": \"2023-06-11T00:00:00\", \"preds\": 1845.358694836889, \"lower\": 403.0535757676046, \"upper\": 11869.322203335092, \"data\": 1348.0000000000027, \"model\": \"preds\", \"adm_2\": null, \"adm_1\": null, \"adm_0\": null}, {\"dates\": \"2023-06-18T00:00:00\", \"preds\": 1300.1482579148185, \"lower\": 567.9478237444752, \"upper\": 3260.440737133373, \"data\": 1236.0000000000016, \"model\": \"preds\", \"adm_2\": null, \"adm_1\": null, \"adm_0\": null}, {\"dates\": \"2023-06-25T00:00:00\", \"preds\": 1304.2301159608965, \"lower\": 462.3406233513822, \"upper\": 4262.360922509197, \"data\": 996.0000000000019, \"model\": \"preds\", \"adm_2\": null, \"adm_1\": null, \"adm_0\": null}, {\"dates\": \"2022-01-02T00:00:00\", \"preds\": 61.29, \"lower\": 0.0, \"upper\": 1729.2245503355, \"data\": null, \"model\": \"77\", \"adm_2\": 3304557.0, \"adm_1\": \"RJ\", \"adm_0\": \"BR\"}, {\"dates\": \"2022-01-09T00:00:00\", \"preds\": 27.06, \"lower\": 0.0, \"upper\": 1535.8709703498, \"data\": null, \"model\": \"77\", \"adm_2\": 3304557.0, \"adm_1\": \"RJ\", \"adm_0\": \"BR\"}, {\"dates\": \"2022-01-16T00:00:00\", \"preds\": 26.88, \"lower\": 0.0, \"upper\": 673.9351776686, \"data\": null, \"model\": \"77\", \"adm_2\": 3304557.0, \"adm_1\": \"RJ\", \"adm_0\": \"BR\"}, {\"dates\": \"2022-01-23T00:00:00\", \"preds\": 30.44, \"lower\": 0.0, \"upper\": 1149.2167062209, \"data\": null, \"model\": \"77\", \"adm_2\": 3304557.0, \"adm_1\": \"RJ\", \"adm_0\": \"BR\"}, {\"dates\": \"2022-01-30T00:00:00\", \"preds\": 29.76, \"lower\": 0.0, \"upper\": 1054.8541371324, \"data\": null, \"model\": \"77\", \"adm_2\": 3304557.0, \"adm_1\": \"RJ\", \"adm_0\": \"BR\"}, {\"dates\": \"2022-02-06T00:00:00\", \"preds\": 29.34, \"lower\": 0.0, \"upper\": 1053.3112130593, \"data\": null, \"model\": \"77\", \"adm_2\": 3304557.0, \"adm_1\": \"RJ\", \"adm_0\": \"BR\"}, {\"dates\": \"2022-02-13T00:00:00\", \"preds\": 34.61, \"lower\": 0.0, \"upper\": 1012.9490918948, \"data\": null, \"model\": \"77\", \"adm_2\": 3304557.0, \"adm_1\": \"RJ\", \"adm_0\": \"BR\"}, {\"dates\": \"2022-02-20T00:00:00\", \"preds\": 39.01, \"lower\": 0.0, \"upper\": 1235.4601531132, \"data\": null, \"model\": \"77\", \"adm_2\": 3304557.0, \"adm_1\": \"RJ\", \"adm_0\": \"BR\"}, {\"dates\": \"2022-02-27T00:00:00\", \"preds\": 43.28, \"lower\": 0.0, \"upper\": 1478.6163274184, \"data\": null, \"model\": \"77\", \"adm_2\": 3304557.0, \"adm_1\": \"RJ\", \"adm_0\": \"BR\"}, {\"dates\": \"2022-03-06T00:00:00\", \"preds\": 32.32, \"lower\": 0.0, \"upper\": 1933.3792826922, \"data\": null, \"model\": \"77\", \"adm_2\": 3304557.0, \"adm_1\": \"RJ\", \"adm_0\": \"BR\"}, {\"dates\": \"2022-03-13T00:00:00\", \"preds\": 44.08, \"lower\": 0.0, \"upper\": 1698.1051179684, \"data\": null, \"model\": \"77\", \"adm_2\": 3304557.0, \"adm_1\": \"RJ\", \"adm_0\": \"BR\"}, {\"dates\": \"2022-03-20T00:00:00\", \"preds\": 74.21, \"lower\": 0.0, \"upper\": 1583.5488129311, \"data\": null, \"model\": \"77\", \"adm_2\": 3304557.0, \"adm_1\": \"RJ\", \"adm_0\": \"BR\"}, {\"dates\": \"2022-03-27T00:00:00\", \"preds\": 91.2, \"lower\": 0.0, \"upper\": 1376.3518495555, \"data\": null, \"model\": \"77\", \"adm_2\": 3304557.0, \"adm_1\": \"RJ\", \"adm_0\": \"BR\"}, {\"dates\": \"2022-04-03T00:00:00\", \"preds\": 98.79, \"lower\": 0.0, \"upper\": 723.5706027188, \"data\": null, \"model\": \"77\", \"adm_2\": 3304557.0, \"adm_1\": \"RJ\", \"adm_0\": \"BR\"}, {\"dates\": \"2022-04-10T00:00:00\", \"preds\": 176.98, \"lower\": 0.0, \"upper\": 1567.9589396197, \"data\": null, \"model\": \"77\", \"adm_2\": 3304557.0, \"adm_1\": \"RJ\", \"adm_0\": \"BR\"}, {\"dates\": \"2022-04-17T00:00:00\", \"preds\": 216.42, \"lower\": 0.0, \"upper\": 2335.967212316, \"data\": null, \"model\": \"77\", \"adm_2\": 3304557.0, \"adm_1\": \"RJ\", \"adm_0\": \"BR\"}, {\"dates\": \"2022-04-24T00:00:00\", \"preds\": 345.06, \"lower\": 0.0, \"upper\": 3021.9998205177, \"data\": null, \"model\": \"77\", \"adm_2\": 3304557.0, \"adm_1\": \"RJ\", \"adm_0\": \"BR\"}, {\"dates\": \"2022-05-01T00:00:00\", \"preds\": 313.83, \"lower\": 0.0, \"upper\": 3249.4121439655, \"data\": null, \"model\": \"77\", \"adm_2\": 3304557.0, \"adm_1\": \"RJ\", \"adm_0\": \"BR\"}, {\"dates\": \"2022-05-08T00:00:00\", \"preds\": 512.02, \"lower\": 0.0, \"upper\": 3762.6987796367, \"data\": null, \"model\": \"77\", \"adm_2\": 3304557.0, \"adm_1\": \"RJ\", \"adm_0\": \"BR\"}, {\"dates\": \"2022-05-15T00:00:00\", \"preds\": 382.19, \"lower\": 0.0, \"upper\": 2690.5815795323, \"data\": null, \"model\": \"77\", \"adm_2\": 3304557.0, \"adm_1\": \"RJ\", \"adm_0\": \"BR\"}, {\"dates\": \"2022-05-22T00:00:00\", \"preds\": 318.17, \"lower\": 0.0, \"upper\": 1889.3836654291, \"data\": null, \"model\": \"77\", \"adm_2\": 3304557.0, \"adm_1\": \"RJ\", \"adm_0\": \"BR\"}, {\"dates\": \"2022-05-29T00:00:00\", \"preds\": 663.35, \"lower\": 0.0, \"upper\": 2355.171415628, \"data\": null, \"model\": \"77\", \"adm_2\": 3304557.0, \"adm_1\": \"RJ\", \"adm_0\": \"BR\"}, {\"dates\": \"2022-06-05T00:00:00\", \"preds\": 1012.57, \"lower\": 244.0160680593, \"upper\": 1781.1239319407, \"data\": null, \"model\": \"77\", \"adm_2\": 3304557.0, \"adm_1\": \"RJ\", \"adm_0\": \"BR\"}, {\"dates\": \"2022-06-12T00:00:00\", \"preds\": 902.92, \"lower\": 0.0, \"upper\": 2020.9380813249, \"data\": null, \"model\": \"77\", \"adm_2\": 3304557.0, \"adm_1\": \"RJ\", \"adm_0\": \"BR\"}, {\"dates\": \"2022-06-19T00:00:00\", \"preds\": 766.88, \"lower\": 0.0, \"upper\": 2229.098105451, \"data\": null, \"model\": \"77\", \"adm_2\": 3304557.0, \"adm_1\": \"RJ\", \"adm_0\": \"BR\"}, {\"dates\": \"2022-06-26T00:00:00\", \"preds\": 396.46, \"lower\": 0.0, \"upper\": 2184.4381570024, \"data\": null, \"model\": \"77\", \"adm_2\": 3304557.0, \"adm_1\": \"RJ\", \"adm_0\": \"BR\"}, {\"dates\": \"2022-07-03T00:00:00\", \"preds\": 333.08, \"lower\": 0.0, \"upper\": 2367.8073825474, \"data\": null, \"model\": \"77\", \"adm_2\": 3304557.0, \"adm_1\": \"RJ\", \"adm_0\": \"BR\"}, {\"dates\": \"2022-07-10T00:00:00\", \"preds\": 203.22, \"lower\": 0.0, \"upper\": 1614.4841398778, \"data\": null, \"model\": \"77\", \"adm_2\": 3304557.0, \"adm_1\": \"RJ\", \"adm_0\": \"BR\"}, {\"dates\": \"2022-07-17T00:00:00\", \"preds\": 210.92, \"lower\": 0.0, \"upper\": 1624.558058697, \"data\": null, \"model\": \"77\", \"adm_2\": 3304557.0, \"adm_1\": \"RJ\", \"adm_0\": \"BR\"}, {\"dates\": \"2022-07-24T00:00:00\", \"preds\": 205.35, \"lower\": 0.0, \"upper\": 1947.7565892405, \"data\": null, \"model\": \"77\", \"adm_2\": 3304557.0, \"adm_1\": \"RJ\", \"adm_0\": \"BR\"}, {\"dates\": \"2022-07-31T00:00:00\", \"preds\": 155.79, \"lower\": 0.0, \"upper\": 1396.3902691858, \"data\": null, \"model\": \"77\", \"adm_2\": 3304557.0, \"adm_1\": \"RJ\", \"adm_0\": \"BR\"}, {\"dates\": \"2022-08-07T00:00:00\", \"preds\": 161.74, \"lower\": 0.0, \"upper\": 1267.4720622758, \"data\": null, \"model\": \"77\", \"adm_2\": 3304557.0, \"adm_1\": \"RJ\", \"adm_0\": \"BR\"}, {\"dates\": \"2022-08-14T00:00:00\", \"preds\": 153.51, \"lower\": 0.0, \"upper\": 1237.7757285767, \"data\": null, \"model\": \"77\", \"adm_2\": 3304557.0, \"adm_1\": \"RJ\", \"adm_0\": \"BR\"}, {\"dates\": \"2022-08-21T00:00:00\", \"preds\": 176.64, \"lower\": 0.0, \"upper\": 1297.4866719026, \"data\": null, \"model\": \"77\", \"adm_2\": 3304557.0, \"adm_1\": \"RJ\", \"adm_0\": \"BR\"}, {\"dates\": \"2022-08-28T00:00:00\", \"preds\": 179.13, \"lower\": 0.0, \"upper\": 1478.6152989411, \"data\": null, \"model\": \"77\", \"adm_2\": 3304557.0, \"adm_1\": \"RJ\", \"adm_0\": \"BR\"}, {\"dates\": \"2022-09-04T00:00:00\", \"preds\": 146.43, \"lower\": 0.0, \"upper\": 1566.3419666142, \"data\": null, \"model\": \"77\", \"adm_2\": 3304557.0, \"adm_1\": \"RJ\", \"adm_0\": \"BR\"}, {\"dates\": \"2022-09-11T00:00:00\", \"preds\": 119.06, \"lower\": 0.0, \"upper\": 1064.7396522083, \"data\": null, \"model\": \"77\", \"adm_2\": 3304557.0, \"adm_1\": \"RJ\", \"adm_0\": \"BR\"}, {\"dates\": \"2022-09-18T00:00:00\", \"preds\": 89.66, \"lower\": 0.0, \"upper\": 524.128212398, \"data\": null, \"model\": \"77\", \"adm_2\": 3304557.0, \"adm_1\": \"RJ\", \"adm_0\": \"BR\"}, {\"dates\": \"2022-09-25T00:00:00\", \"preds\": 88.07, \"lower\": 0.0, \"upper\": 1116.9014193491, \"data\": null, \"model\": \"77\", \"adm_2\": 3304557.0, \"adm_1\": \"RJ\", \"adm_0\": \"BR\"}, {\"dates\": \"2022-10-02T00:00:00\", \"preds\": 92.84, \"lower\": 0.0, \"upper\": 967.041235228, \"data\": null, \"model\": \"77\", \"adm_2\": 3304557.0, \"adm_1\": \"RJ\", \"adm_0\": \"BR\"}, {\"dates\": \"2022-10-09T00:00:00\", \"preds\": 130.7, \"lower\": 0.0, \"upper\": 1671.4170892455, \"data\": null, \"model\": \"77\", \"adm_2\": 3304557.0, \"adm_1\": \"RJ\", \"adm_0\": \"BR\"}, {\"dates\": \"2022-10-16T00:00:00\", \"preds\": 126.37, \"lower\": 0.0, \"upper\": 1783.0109912045, \"data\": null, \"model\": \"77\", \"adm_2\": 3304557.0, \"adm_1\": \"RJ\", \"adm_0\": \"BR\"}, {\"dates\": \"2022-10-23T00:00:00\", \"preds\": 88.54, \"lower\": 0.0, \"upper\": 2455.8924287832, \"data\": null, \"model\": \"77\", \"adm_2\": 3304557.0, \"adm_1\": \"RJ\", \"adm_0\": \"BR\"}, {\"dates\": \"2022-10-30T00:00:00\", \"preds\": 90.18, \"lower\": 0.0, \"upper\": 2482.2110244223, \"data\": null, \"model\": \"77\", \"adm_2\": 3304557.0, \"adm_1\": \"RJ\", \"adm_0\": \"BR\"}, {\"dates\": \"2022-11-06T00:00:00\", \"preds\": 138.54, \"lower\": 0.0, \"upper\": 2753.4854223837, \"data\": null, \"model\": \"77\", \"adm_2\": 3304557.0, \"adm_1\": \"RJ\", \"adm_0\": \"BR\"}, {\"dates\": \"2022-11-13T00:00:00\", \"preds\": 111.15, \"lower\": 0.0, \"upper\": 2114.9459362357, \"data\": null, \"model\": \"77\", \"adm_2\": 3304557.0, \"adm_1\": \"RJ\", \"adm_0\": \"BR\"}, {\"dates\": \"2022-11-20T00:00:00\", \"preds\": 262.42, \"lower\": 0.0, \"upper\": 1560.3910680599, \"data\": null, \"model\": \"77\", \"adm_2\": 3304557.0, \"adm_1\": \"RJ\", \"adm_0\": \"BR\"}, {\"dates\": \"2022-11-27T00:00:00\", \"preds\": 130.46, \"lower\": 0.0, \"upper\": 1275.9170270516, \"data\": null, \"model\": \"77\", \"adm_2\": 3304557.0, \"adm_1\": \"RJ\", \"adm_0\": \"BR\"}, {\"dates\": \"2022-12-04T00:00:00\", \"preds\": 138.95, \"lower\": 0.0, \"upper\": 968.9083312331, \"data\": null, \"model\": \"77\", \"adm_2\": 3304557.0, \"adm_1\": \"RJ\", \"adm_0\": \"BR\"}, {\"dates\": \"2022-12-11T00:00:00\", \"preds\": 281.55, \"lower\": 0.0, \"upper\": 1260.6283970385, \"data\": null, \"model\": \"77\", \"adm_2\": 3304557.0, \"adm_1\": \"RJ\", \"adm_0\": \"BR\"}, {\"dates\": \"2022-12-18T00:00:00\", \"preds\": 121.26, \"lower\": 0.0, \"upper\": 1588.656583431, \"data\": null, \"model\": \"77\", \"adm_2\": 3304557.0, \"adm_1\": \"RJ\", \"adm_0\": \"BR\"}, {\"dates\": \"2022-12-25T00:00:00\", \"preds\": 129.22, \"lower\": 0.0, \"upper\": 1872.3384034717, \"data\": null, \"model\": \"77\", \"adm_2\": 3304557.0, \"adm_1\": \"RJ\", \"adm_0\": \"BR\"}, {\"dates\": \"2023-01-01T00:00:00\", \"preds\": 124.7, \"lower\": 0.0, \"upper\": 1809.5625740147, \"data\": null, \"model\": \"77\", \"adm_2\": 3304557.0, \"adm_1\": \"RJ\", \"adm_0\": \"BR\"}, {\"dates\": \"2023-01-08T00:00:00\", \"preds\": 127.23, \"lower\": 0.0, \"upper\": 1793.8064366305, \"data\": null, \"model\": \"77\", \"adm_2\": 3304557.0, \"adm_1\": \"RJ\", \"adm_0\": \"BR\"}, {\"dates\": \"2023-01-15T00:00:00\", \"preds\": 155.21, \"lower\": 0.0, \"upper\": 1268.8861142409, \"data\": null, \"model\": \"77\", \"adm_2\": 3304557.0, \"adm_1\": \"RJ\", \"adm_0\": \"BR\"}, {\"dates\": \"2023-01-22T00:00:00\", \"preds\": 198.84, \"lower\": 0.0, \"upper\": 1195.3396186246, \"data\": null, \"model\": \"77\", \"adm_2\": 3304557.0, \"adm_1\": \"RJ\", \"adm_0\": \"BR\"}, {\"dates\": \"2023-01-29T00:00:00\", \"preds\": 345.27, \"lower\": 0.0, \"upper\": 1518.1194592248, \"data\": null, \"model\": \"77\", \"adm_2\": 3304557.0, \"adm_1\": \"RJ\", \"adm_0\": \"BR\"}, {\"dates\": \"2023-02-05T00:00:00\", \"preds\": 462.34, \"lower\": 0.0, \"upper\": 1445.4253987699, \"data\": null, \"model\": \"77\", \"adm_2\": 3304557.0, \"adm_1\": \"RJ\", \"adm_0\": \"BR\"}, {\"dates\": \"2023-02-12T00:00:00\", \"preds\": 481.6, \"lower\": 0.0, \"upper\": 1893.9755987178, \"data\": null, \"model\": \"77\", \"adm_2\": 3304557.0, \"adm_1\": \"RJ\", \"adm_0\": \"BR\"}, {\"dates\": \"2023-02-19T00:00:00\", \"preds\": 481.56, \"lower\": 0.0, \"upper\": 1965.8780215081, \"data\": null, \"model\": \"77\", \"adm_2\": 3304557.0, \"adm_1\": \"RJ\", \"adm_0\": \"BR\"}, {\"dates\": \"2023-02-26T00:00:00\", \"preds\": 574.3, \"lower\": 0.0, \"upper\": 2019.8204358497, \"data\": null, \"model\": \"77\", \"adm_2\": 3304557.0, \"adm_1\": \"RJ\", \"adm_0\": \"BR\"}, {\"dates\": \"2023-03-05T00:00:00\", \"preds\": 908.59, \"lower\": 0.0, \"upper\": 2793.9425956685, \"data\": null, \"model\": \"77\", \"adm_2\": 3304557.0, \"adm_1\": \"RJ\", \"adm_0\": \"BR\"}, {\"dates\": \"2023-03-12T00:00:00\", \"preds\": 1098.33, \"lower\": 0.0, \"upper\": 3565.2781705146, \"data\": null, \"model\": \"77\", \"adm_2\": 3304557.0, \"adm_1\": \"RJ\", \"adm_0\": \"BR\"}, {\"dates\": \"2023-03-19T00:00:00\", \"preds\": 1255.02, \"lower\": 0.0, \"upper\": 4202.4693301775, \"data\": null, \"model\": \"77\", \"adm_2\": 3304557.0, \"adm_1\": \"RJ\", \"adm_0\": \"BR\"}, {\"dates\": \"2023-03-26T00:00:00\", \"preds\": 903.32, \"lower\": 0.0, \"upper\": 3760.903225256, \"data\": null, \"model\": \"77\", \"adm_2\": 3304557.0, \"adm_1\": \"RJ\", \"adm_0\": \"BR\"}, {\"dates\": \"2023-04-02T00:00:00\", \"preds\": 2084.83, \"lower\": 0.0, \"upper\": 4512.3417709763, \"data\": null, \"model\": \"77\", \"adm_2\": 3304557.0, \"adm_1\": \"RJ\", \"adm_0\": \"BR\"}, {\"dates\": \"2023-04-09T00:00:00\", \"preds\": 1451.2, \"lower\": 0.0, \"upper\": 2937.0054003446, \"data\": null, \"model\": \"77\", \"adm_2\": 3304557.0, \"adm_1\": \"RJ\", \"adm_0\": \"BR\"}, {\"dates\": \"2023-04-16T00:00:00\", \"preds\": 1680.13, \"lower\": 591.7969421614, \"upper\": 2768.4630578386, \"data\": null, \"model\": \"77\", \"adm_2\": 3304557.0, \"adm_1\": \"RJ\", \"adm_0\": \"BR\"}, {\"dates\": \"2023-04-23T00:00:00\", \"preds\": 1944.43, \"lower\": 650.1333199898, \"upper\": 3238.7266800102, \"data\": null, \"model\": \"77\", \"adm_2\": 3304557.0, \"adm_1\": \"RJ\", \"adm_0\": \"BR\"}, {\"dates\": \"2023-04-30T00:00:00\", \"preds\": 1575.31, \"lower\": 227.6224669775, \"upper\": 2922.9975330225, \"data\": null, \"model\": \"77\", \"adm_2\": 3304557.0, \"adm_1\": \"RJ\", \"adm_0\": \"BR\"}, {\"dates\": \"2023-05-07T00:00:00\", \"preds\": 1426.24, \"lower\": 206.7682082167, \"upper\": 2645.7117917833, \"data\": null, \"model\": \"77\", \"adm_2\": 3304557.0, \"adm_1\": \"RJ\", \"adm_0\": \"BR\"}, {\"dates\": \"2023-05-14T00:00:00\", \"preds\": 1939.85, \"lower\": 769.2177668869, \"upper\": 3110.4822331131, \"data\": null, \"model\": \"77\", \"adm_2\": 3304557.0, \"adm_1\": \"RJ\", \"adm_0\": \"BR\"}, {\"dates\": \"2023-05-21T00:00:00\", \"preds\": 1454.24, \"lower\": 359.7715538942, \"upper\": 2548.7084461058, \"data\": null, \"model\": \"77\", \"adm_2\": 3304557.0, \"adm_1\": \"RJ\", \"adm_0\": \"BR\"}, {\"dates\": \"2023-05-28T00:00:00\", \"preds\": 1134.07, \"lower\": 343.0948354381, \"upper\": 1925.0451645619, \"data\": null, \"model\": \"77\", \"adm_2\": 3304557.0, \"adm_1\": \"RJ\", \"adm_0\": \"BR\"}, {\"dates\": \"2023-06-04T00:00:00\", \"preds\": 2243.41, \"lower\": 1319.5171062823, \"upper\": 3167.3028937177, \"data\": null, \"model\": \"77\", \"adm_2\": 3304557.0, \"adm_1\": \"RJ\", \"adm_0\": \"BR\"}, {\"dates\": \"2023-06-11T00:00:00\", \"preds\": 2239.65, \"lower\": 1112.8198769929, \"upper\": 3366.4801230071, \"data\": null, \"model\": \"77\", \"adm_2\": 3304557.0, \"adm_1\": \"RJ\", \"adm_0\": \"BR\"}, {\"dates\": \"2023-06-18T00:00:00\", \"preds\": 1068.35, \"lower\": 0.0, \"upper\": 2215.1295403202, \"data\": null, \"model\": \"77\", \"adm_2\": 3304557.0, \"adm_1\": \"RJ\", \"adm_0\": \"BR\"}, {\"dates\": \"2023-06-25T00:00:00\", \"preds\": 624.0, \"lower\": 0.0, \"upper\": 1599.3245555278, \"data\": null, \"model\": \"77\", \"adm_2\": 3304557.0, \"adm_1\": \"RJ\", \"adm_0\": \"BR\"}, {\"dates\": \"2022-01-02T00:00:00\", \"preds\": 109.3704933375, \"lower\": 0.0, \"upper\": 723.8520054869, \"data\": null, \"model\": \"78\", \"adm_2\": 3304557.0, \"adm_1\": \"RJ\", \"adm_0\": \"BR\"}, {\"dates\": \"2022-01-09T00:00:00\", \"preds\": 25.3118970841, \"lower\": 0.0, \"upper\": 529.5949193925, \"data\": null, \"model\": \"78\", \"adm_2\": 3304557.0, \"adm_1\": \"RJ\", \"adm_0\": \"BR\"}, {\"dates\": \"2022-01-16T00:00:00\", \"preds\": 0.0, \"lower\": 0.0, \"upper\": 406.1030913638, \"data\": null, \"model\": \"78\", \"adm_2\": 3304557.0, \"adm_1\": \"RJ\", \"adm_0\": \"BR\"}, {\"dates\": \"2022-01-23T00:00:00\", \"preds\": 0.0, \"lower\": 0.0, \"upper\": 452.7692431942, \"data\": null, \"model\": \"78\", \"adm_2\": 3304557.0, \"adm_1\": \"RJ\", \"adm_0\": \"BR\"}, {\"dates\": \"2022-01-30T00:00:00\", \"preds\": 0.0, \"lower\": 0.0, \"upper\": 607.8534869146, \"data\": null, \"model\": \"78\", \"adm_2\": 3304557.0, \"adm_1\": \"RJ\", \"adm_0\": \"BR\"}, {\"dates\": \"2022-02-06T00:00:00\", \"preds\": 0.0, \"lower\": 0.0, \"upper\": 571.5213175815, \"data\": null, \"model\": \"78\", \"adm_2\": 3304557.0, \"adm_1\": \"RJ\", \"adm_0\": \"BR\"}, {\"dates\": \"2022-02-13T00:00:00\", \"preds\": 86.4780002013, \"lower\": 0.0, \"upper\": 606.202994981, \"data\": null, \"model\": \"78\", \"adm_2\": 3304557.0, \"adm_1\": \"RJ\", \"adm_0\": \"BR\"}, {\"dates\": \"2022-02-20T00:00:00\", \"preds\": 232.8529663906, \"lower\": 0.0, \"upper\": 704.1387109958, \"data\": null, \"model\": \"78\", \"adm_2\": 3304557.0, \"adm_1\": \"RJ\", \"adm_0\": \"BR\"}, {\"dates\": \"2022-02-27T00:00:00\", \"preds\": 249.8387639374, \"lower\": 0.0, \"upper\": 864.0333929069, \"data\": null, \"model\": \"78\", \"adm_2\": 3304557.0, \"adm_1\": \"RJ\", \"adm_0\": \"BR\"}, {\"dates\": \"2022-03-06T00:00:00\", \"preds\": 236.5050984696, \"lower\": 0.0, \"upper\": 912.8691094007, \"data\": null, \"model\": \"78\", \"adm_2\": 3304557.0, \"adm_1\": \"RJ\", \"adm_0\": \"BR\"}, {\"dates\": \"2022-03-13T00:00:00\", \"preds\": 374.9699975103, \"lower\": 0.0, \"upper\": 838.5651220527, \"data\": null, \"model\": \"78\", \"adm_2\": 3304557.0, \"adm_1\": \"RJ\", \"adm_0\": \"BR\"}, {\"dates\": \"2022-03-20T00:00:00\", \"preds\": 342.3801910132, \"lower\": 0.0, \"upper\": 954.7004770912, \"data\": null, \"model\": \"78\", \"adm_2\": 3304557.0, \"adm_1\": \"RJ\", \"adm_0\": \"BR\"}, {\"dates\": \"2022-03-27T00:00:00\", \"preds\": 115.6595792919, \"lower\": 0.0, \"upper\": 640.2459985577, \"data\": null, \"model\": \"78\", \"adm_2\": 3304557.0, \"adm_1\": \"RJ\", \"adm_0\": \"BR\"}, {\"dates\": \"2022-04-03T00:00:00\", \"preds\": 133.0989688486, \"lower\": 0.0, \"upper\": 696.6566838086, \"data\": null, \"model\": \"78\", \"adm_2\": 3304557.0, \"adm_1\": \"RJ\", \"adm_0\": \"BR\"}, {\"dates\": \"2022-04-10T00:00:00\", \"preds\": 198.9890367314, \"lower\": 0.0, \"upper\": 644.0939105038, \"data\": null, \"model\": \"78\", \"adm_2\": 3304557.0, \"adm_1\": \"RJ\", \"adm_0\": \"BR\"}, {\"dates\": \"2022-04-17T00:00:00\", \"preds\": 170.3585512489, \"lower\": 0.0, \"upper\": 810.7452559274, \"data\": null, \"model\": \"78\", \"adm_2\": 3304557.0, \"adm_1\": \"RJ\", \"adm_0\": \"BR\"}, {\"dates\": \"2022-04-24T00:00:00\", \"preds\": 317.5533636957, \"lower\": 0.0, \"upper\": 1214.5482060984, \"data\": null, \"model\": \"78\", \"adm_2\": 3304557.0, \"adm_1\": \"RJ\", \"adm_0\": \"BR\"}, {\"dates\": \"2022-05-01T00:00:00\", \"preds\": 585.4558397308, \"lower\": 0.0, \"upper\": 1430.6597343847, \"data\": null, \"model\": \"78\", \"adm_2\": 3304557.0, \"adm_1\": \"RJ\", \"adm_0\": \"BR\"}, {\"dates\": \"2022-05-08T00:00:00\", \"preds\": 575.024428919, \"lower\": 8.4296638228, \"upper\": 1424.0171880141, \"data\": null, \"model\": \"78\", \"adm_2\": 3304557.0, \"adm_1\": \"RJ\", \"adm_0\": \"BR\"}, {\"dates\": \"2022-05-15T00:00:00\", \"preds\": 553.5908161178, \"lower\": 0.0, \"upper\": 1263.6794998243, \"data\": null, \"model\": \"78\", \"adm_2\": 3304557.0, \"adm_1\": \"RJ\", \"adm_0\": \"BR\"}, {\"dates\": \"2022-05-22T00:00:00\", \"preds\": 448.0580613017, \"lower\": 0.0, \"upper\": 1238.4645673811, \"data\": null, \"model\": \"78\", \"adm_2\": 3304557.0, \"adm_1\": \"RJ\", \"adm_0\": \"BR\"}, {\"dates\": \"2022-05-29T00:00:00\", \"preds\": 467.6085152477, \"lower\": 0.0, \"upper\": 986.0914632201, \"data\": null, \"model\": \"78\", \"adm_2\": 3304557.0, \"adm_1\": \"RJ\", \"adm_0\": \"BR\"}, {\"dates\": \"2022-06-05T00:00:00\", \"preds\": 516.6090817675, \"lower\": 0.0, \"upper\": 1275.2489616744, \"data\": null, \"model\": \"78\", \"adm_2\": 3304557.0, \"adm_1\": \"RJ\", \"adm_0\": \"BR\"}, {\"dates\": \"2022-06-12T00:00:00\", \"preds\": 232.2601490021, \"lower\": 0.0, \"upper\": 979.1794984825, \"data\": null, \"model\": \"78\", \"adm_2\": 3304557.0, \"adm_1\": \"RJ\", \"adm_0\": \"BR\"}, {\"dates\": \"2022-06-19T00:00:00\", \"preds\": 181.6569838598, \"lower\": 0.0, \"upper\": 778.3422996413, \"data\": null, \"model\": \"78\", \"adm_2\": 3304557.0, \"adm_1\": \"RJ\", \"adm_0\": \"BR\"}, {\"dates\": \"2022-06-26T00:00:00\", \"preds\": 184.1268508434, \"lower\": 0.0, \"upper\": 727.901391514, \"data\": null, \"model\": \"78\", \"adm_2\": 3304557.0, \"adm_1\": \"RJ\", \"adm_0\": \"BR\"}, {\"dates\": \"2022-07-03T00:00:00\", \"preds\": 0.0, \"lower\": 0.0, \"upper\": 543.2598108575, \"data\": null, \"model\": \"78\", \"adm_2\": 3304557.0, \"adm_1\": \"RJ\", \"adm_0\": \"BR\"}, {\"dates\": \"2022-07-10T00:00:00\", \"preds\": 0.0, \"lower\": 0.0, \"upper\": 524.3061247721, \"data\": null, \"model\": \"78\", \"adm_2\": 3304557.0, \"adm_1\": \"RJ\", \"adm_0\": \"BR\"}, {\"dates\": \"2022-07-17T00:00:00\", \"preds\": 2.3415177315, \"lower\": 0.0, \"upper\": 547.6995292876, \"data\": null, \"model\": \"78\", \"adm_2\": 3304557.0, \"adm_1\": \"RJ\", \"adm_0\": \"BR\"}, {\"dates\": \"2022-07-24T00:00:00\", \"preds\": 0.0, \"lower\": 0.0, \"upper\": 495.5266253971, \"data\": null, \"model\": \"78\", \"adm_2\": 3304557.0, \"adm_1\": \"RJ\", \"adm_0\": \"BR\"}, {\"dates\": \"2022-07-31T00:00:00\", \"preds\": 31.849106662, \"lower\": 0.0, \"upper\": 546.9803666487, \"data\": null, \"model\": \"78\", \"adm_2\": 3304557.0, \"adm_1\": \"RJ\", \"adm_0\": \"BR\"}, {\"dates\": \"2022-08-07T00:00:00\", \"preds\": 0.0, \"lower\": 0.0, \"upper\": 422.5016527284, \"data\": null, \"model\": \"78\", \"adm_2\": 3304557.0, \"adm_1\": \"RJ\", \"adm_0\": \"BR\"}, {\"dates\": \"2022-08-14T00:00:00\", \"preds\": 0.0, \"lower\": 0.0, \"upper\": 608.2965644222, \"data\": null, \"model\": \"78\", \"adm_2\": 3304557.0, \"adm_1\": \"RJ\", \"adm_0\": \"BR\"}, {\"dates\": \"2022-08-21T00:00:00\", \"preds\": 0.0, \"lower\": 0.0, \"upper\": 473.5215611801, \"data\": null, \"model\": \"78\", \"adm_2\": 3304557.0, \"adm_1\": \"RJ\", \"adm_0\": \"BR\"}, {\"dates\": \"2022-08-28T00:00:00\", \"preds\": 0.0, \"lower\": 0.0, \"upper\": 418.905976513, \"data\": null, \"model\": \"78\", \"adm_2\": 3304557.0, \"adm_1\": \"RJ\", \"adm_0\": \"BR\"}, {\"dates\": \"2022-09-04T00:00:00\", \"preds\": 0.0, \"lower\": 0.0, \"upper\": 535.4288134232, \"data\": null, \"model\": \"78\", \"adm_2\": 3304557.0, \"adm_1\": \"RJ\", \"adm_0\": \"BR\"}, {\"dates\": \"2022-09-11T00:00:00\", \"preds\": 0.0, \"lower\": 0.0, \"upper\": 470.2948555045, \"data\": null, \"model\": \"78\", \"adm_2\": 3304557.0, \"adm_1\": \"RJ\", \"adm_0\": \"BR\"}, {\"dates\": \"2022-09-18T00:00:00\", \"preds\": 0.0, \"lower\": 0.0, \"upper\": 517.7222615425, \"data\": null, \"model\": \"78\", \"adm_2\": 3304557.0, \"adm_1\": \"RJ\", \"adm_0\": \"BR\"}, {\"dates\": \"2022-09-25T00:00:00\", \"preds\": 0.0, \"lower\": 0.0, \"upper\": 324.7571195681, \"data\": null, \"model\": \"78\", \"adm_2\": 3304557.0, \"adm_1\": \"RJ\", \"adm_0\": \"BR\"}, {\"dates\": \"2022-10-02T00:00:00\", \"preds\": 0.0, \"lower\": 0.0, \"upper\": 487.8994649302, \"data\": null, \"model\": \"78\", \"adm_2\": 3304557.0, \"adm_1\": \"RJ\", \"adm_0\": \"BR\"}, {\"dates\": \"2022-10-09T00:00:00\", \"preds\": 0.0, \"lower\": 0.0, \"upper\": 624.6994303495, \"data\": null, \"model\": \"78\", \"adm_2\": 3304557.0, \"adm_1\": \"RJ\", \"adm_0\": \"BR\"}, {\"dates\": \"2022-10-16T00:00:00\", \"preds\": 0.0, \"lower\": 0.0, \"upper\": 529.9182512943, \"data\": null, \"model\": \"78\", \"adm_2\": 3304557.0, \"adm_1\": \"RJ\", \"adm_0\": \"BR\"}, {\"dates\": \"2022-10-23T00:00:00\", \"preds\": 0.0, \"lower\": 0.0, \"upper\": 413.525811471, \"data\": null, \"model\": \"78\", \"adm_2\": 3304557.0, \"adm_1\": \"RJ\", \"adm_0\": \"BR\"}, {\"dates\": \"2022-10-30T00:00:00\", \"preds\": 0.0, \"lower\": 0.0, \"upper\": 506.2727781624, \"data\": null, \"model\": \"78\", \"adm_2\": 3304557.0, \"adm_1\": \"RJ\", \"adm_0\": \"BR\"}, {\"dates\": \"2022-11-06T00:00:00\", \"preds\": 0.0, \"lower\": 0.0, \"upper\": 572.083177733, \"data\": null, \"model\": \"78\", \"adm_2\": 3304557.0, \"adm_1\": \"RJ\", \"adm_0\": \"BR\"}, {\"dates\": \"2022-11-13T00:00:00\", \"preds\": 0.0, \"lower\": 0.0, \"upper\": 403.3595069297, \"data\": null, \"model\": \"78\", \"adm_2\": 3304557.0, \"adm_1\": \"RJ\", \"adm_0\": \"BR\"}, {\"dates\": \"2022-11-20T00:00:00\", \"preds\": 0.0, \"lower\": 0.0, \"upper\": 543.9534488436, \"data\": null, \"model\": \"78\", \"adm_2\": 3304557.0, \"adm_1\": \"RJ\", \"adm_0\": \"BR\"}, {\"dates\": \"2022-11-27T00:00:00\", \"preds\": 0.0, \"lower\": 0.0, \"upper\": 524.0068367809, \"data\": null, \"model\": \"78\", \"adm_2\": 3304557.0, \"adm_1\": \"RJ\", \"adm_0\": \"BR\"}, {\"dates\": \"2022-12-04T00:00:00\", \"preds\": 0.0, \"lower\": 0.0, \"upper\": 418.8527026698, \"data\": null, \"model\": \"78\", \"adm_2\": 3304557.0, \"adm_1\": \"RJ\", \"adm_0\": \"BR\"}, {\"dates\": \"2022-12-11T00:00:00\", \"preds\": 0.0, \"lower\": 0.0, \"upper\": 498.8123991244, \"data\": null, \"model\": \"78\", \"adm_2\": 3304557.0, \"adm_1\": \"RJ\", \"adm_0\": \"BR\"}, {\"dates\": \"2022-12-18T00:00:00\", \"preds\": 7.7453362942, \"lower\": 0.0, \"upper\": 619.0887393665, \"data\": null, \"model\": \"78\", \"adm_2\": 3304557.0, \"adm_1\": \"RJ\", \"adm_0\": \"BR\"}, {\"dates\": \"2022-12-25T00:00:00\", \"preds\": 70.0851570219, \"lower\": 0.0, \"upper\": 507.5521873411, \"data\": null, \"model\": \"78\", \"adm_2\": 3304557.0, \"adm_1\": \"RJ\", \"adm_0\": \"BR\"}, {\"dates\": \"2023-01-01T00:00:00\", \"preds\": 28.9193740338, \"lower\": 0.0, \"upper\": 602.8117241956, \"data\": null, \"model\": \"78\", \"adm_2\": 3304557.0, \"adm_1\": \"RJ\", \"adm_0\": \"BR\"}, {\"dates\": \"2023-01-08T00:00:00\", \"preds\": 107.5751379728, \"lower\": 0.0, \"upper\": 566.5245524392, \"data\": null, \"model\": \"78\", \"adm_2\": 3304557.0, \"adm_1\": \"RJ\", \"adm_0\": \"BR\"}, {\"dates\": \"2023-01-15T00:00:00\", \"preds\": 136.0464265496, \"lower\": 0.0, \"upper\": 654.7008858331, \"data\": null, \"model\": \"78\", \"adm_2\": 3304557.0, \"adm_1\": \"RJ\", \"adm_0\": \"BR\"}, {\"dates\": \"2023-01-22T00:00:00\", \"preds\": 157.6281409636, \"lower\": 0.0, \"upper\": 703.7455855925, \"data\": null, \"model\": \"78\", \"adm_2\": 3304557.0, \"adm_1\": \"RJ\", \"adm_0\": \"BR\"}, {\"dates\": \"2023-01-29T00:00:00\", \"preds\": 370.7788259685, \"lower\": 0.0, \"upper\": 879.478636435, \"data\": null, \"model\": \"78\", \"adm_2\": 3304557.0, \"adm_1\": \"RJ\", \"adm_0\": \"BR\"}, {\"dates\": \"2023-02-05T00:00:00\", \"preds\": 200.67998676, \"lower\": 0.0, \"upper\": 720.2818470754, \"data\": null, \"model\": \"78\", \"adm_2\": 3304557.0, \"adm_1\": \"RJ\", \"adm_0\": \"BR\"}, {\"dates\": \"2023-02-12T00:00:00\", \"preds\": 270.5449912548, \"lower\": 0.0, \"upper\": 766.0707564242, \"data\": null, \"model\": \"78\", \"adm_2\": 3304557.0, \"adm_1\": \"RJ\", \"adm_0\": \"BR\"}, {\"dates\": \"2023-02-19T00:00:00\", \"preds\": 365.9762626961, \"lower\": 0.0, \"upper\": 984.143485938, \"data\": null, \"model\": \"78\", \"adm_2\": 3304557.0, \"adm_1\": \"RJ\", \"adm_0\": \"BR\"}, {\"dates\": \"2023-02-26T00:00:00\", \"preds\": 434.2454627231, \"lower\": 0.0, \"upper\": 1035.7856581375, \"data\": null, \"model\": \"78\", \"adm_2\": 3304557.0, \"adm_1\": \"RJ\", \"adm_0\": \"BR\"}, {\"dates\": \"2023-03-05T00:00:00\", \"preds\": 593.1198927313, \"lower\": 0.0, \"upper\": 1340.4223010339, \"data\": null, \"model\": \"78\", \"adm_2\": 3304557.0, \"adm_1\": \"RJ\", \"adm_0\": \"BR\"}, {\"dates\": \"2023-03-12T00:00:00\", \"preds\": 486.762278229, \"lower\": 13.1828434534, \"upper\": 1258.1380503178, \"data\": null, \"model\": \"78\", \"adm_2\": 3304557.0, \"adm_1\": \"RJ\", \"adm_0\": \"BR\"}, {\"dates\": \"2023-03-19T00:00:00\", \"preds\": 534.409355998, \"lower\": 0.0, \"upper\": 1161.3790531218, \"data\": null, \"model\": \"78\", \"adm_2\": 3304557.0, \"adm_1\": \"RJ\", \"adm_0\": \"BR\"}, {\"dates\": \"2023-03-26T00:00:00\", \"preds\": 555.0313138813, \"lower\": 0.0, \"upper\": 1138.9978529975, \"data\": null, \"model\": \"78\", \"adm_2\": 3304557.0, \"adm_1\": \"RJ\", \"adm_0\": \"BR\"}, {\"dates\": \"2023-04-02T00:00:00\", \"preds\": 540.6022553518, \"lower\": 0.0, \"upper\": 1290.8390316494, \"data\": null, \"model\": \"78\", \"adm_2\": 3304557.0, \"adm_1\": \"RJ\", \"adm_0\": \"BR\"}, {\"dates\": \"2023-04-09T00:00:00\", \"preds\": 670.57262557, \"lower\": 63.0884215072, \"upper\": 1603.4207726844, \"data\": null, \"model\": \"78\", \"adm_2\": 3304557.0, \"adm_1\": \"RJ\", \"adm_0\": \"BR\"}, {\"dates\": \"2023-04-16T00:00:00\", \"preds\": 823.2300753295, \"lower\": 5.3920096096, \"upper\": 1619.1121769279, \"data\": null, \"model\": \"78\", \"adm_2\": 3304557.0, \"adm_1\": \"RJ\", \"adm_0\": \"BR\"}, {\"dates\": \"2023-04-23T00:00:00\", \"preds\": 821.3328076452, \"lower\": 0.0, \"upper\": 1657.2413398936, \"data\": null, \"model\": \"78\", \"adm_2\": 3304557.0, \"adm_1\": \"RJ\", \"adm_0\": \"BR\"}, {\"dates\": \"2023-04-30T00:00:00\", \"preds\": 736.0327714011, \"lower\": 186.1478255641, \"upper\": 1522.9282282144, \"data\": null, \"model\": \"78\", \"adm_2\": 3304557.0, \"adm_1\": \"RJ\", \"adm_0\": \"BR\"}, {\"dates\": \"2023-05-07T00:00:00\", \"preds\": 760.3757069707, \"lower\": 31.6744434658, \"upper\": 1601.576000803, \"data\": null, \"model\": \"78\", \"adm_2\": 3304557.0, \"adm_1\": \"RJ\", \"adm_0\": \"BR\"}, {\"dates\": \"2023-05-14T00:00:00\", \"preds\": 593.9493001178, \"lower\": 0.0, \"upper\": 1293.7130412512, \"data\": null, \"model\": \"78\", \"adm_2\": 3304557.0, \"adm_1\": \"RJ\", \"adm_0\": \"BR\"}, {\"dates\": \"2023-05-21T00:00:00\", \"preds\": 341.6071367562, \"lower\": 0.0, \"upper\": 890.2078188814, \"data\": null, \"model\": \"78\", \"adm_2\": 3304557.0, \"adm_1\": \"RJ\", \"adm_0\": \"BR\"}, {\"dates\": \"2023-05-28T00:00:00\", \"preds\": 766.1951469854, \"lower\": 41.8829060107, \"upper\": 1633.4175681449, \"data\": null, \"model\": \"78\", \"adm_2\": 3304557.0, \"adm_1\": \"RJ\", \"adm_0\": \"BR\"}, {\"dates\": \"2023-06-04T00:00:00\", \"preds\": 922.2149910033, \"lower\": 172.700637443, \"upper\": 1701.7459047131, \"data\": null, \"model\": \"78\", \"adm_2\": 3304557.0, \"adm_1\": \"RJ\", \"adm_0\": \"BR\"}, {\"dates\": \"2023-06-11T00:00:00\", \"preds\": 693.3638638854, \"lower\": 56.4668219537, \"upper\": 1421.3332394093, \"data\": null, \"model\": \"78\", \"adm_2\": 3304557.0, \"adm_1\": \"RJ\", \"adm_0\": \"BR\"}, {\"dates\": \"2023-06-18T00:00:00\", \"preds\": 736.0198131949, \"lower\": 81.1291923746, \"upper\": 1725.0092463702, \"data\": null, \"model\": \"78\", \"adm_2\": 3304557.0, \"adm_1\": \"RJ\", \"adm_0\": \"BR\"}, {\"dates\": \"2023-06-25T00:00:00\", \"preds\": 431.9475864768, \"lower\": 0.0, \"upper\": 1022.6256792061, \"data\": null, \"model\": \"78\", \"adm_2\": 3304557.0, \"adm_1\": \"RJ\", \"adm_0\": \"BR\"}], \"data-1902ff02dac3fa7746e0e6d52336ef12\": [{\"dates\": \"2022-01-02T00:00:00\", \"preds\": 3.614663075355968, \"lower\": 2.3801433589976413, \"upper\": 5.611557276957721, \"data\": 21.000000000000018, \"model\": \"preds\", \"adm_2\": null, \"adm_1\": null, \"adm_0\": null, \"legend\": null}, {\"dates\": \"2022-01-09T00:00:00\", \"preds\": 3.4332288411064837, \"lower\": 2.039729249507677, \"upper\": 5.9821987355014175, \"data\": 13.999999999999993, \"model\": \"preds\", \"adm_2\": null, \"adm_1\": null, \"adm_0\": null, \"legend\": null}, {\"dates\": \"2022-01-16T00:00:00\", \"preds\": 3.2521231496307945, \"lower\": 1.7176427022278957, \"upper\": 6.491391737710232, \"data\": 22.00000000000001, \"model\": \"preds\", \"adm_2\": null, \"adm_1\": null, \"adm_0\": null, \"legend\": null}, {\"dates\": \"2022-01-23T00:00:00\", \"preds\": 3.1186853966179826, \"lower\": 1.4908936914743907, \"upper\": 7.007502590439271, \"data\": 19.000000000000004, \"model\": \"preds\", \"adm_2\": null, \"adm_1\": null, \"adm_0\": null, \"legend\": null}, {\"dates\": \"2022-01-30T00:00:00\", \"preds\": 21.33132586342917, \"lower\": 12.570919585099855, \"upper\": 37.513217926653425, \"data\": 31.000000000000004, \"model\": \"preds\", \"adm_2\": null, \"adm_1\": null, \"adm_0\": null, \"legend\": null}, {\"dates\": \"2022-02-06T00:00:00\", \"preds\": 21.773567145494052, \"lower\": 11.2045611286519, \"upper\": 44.811997363492296, \"data\": 35.00000000000001, \"model\": \"preds\", \"adm_2\": null, \"adm_1\": null, \"adm_0\": null, \"legend\": null}, {\"dates\": \"2022-02-13T00:00:00\", \"preds\": 22.71696993942627, \"lower\": 10.005857078365455, \"upper\": 56.391797943289404, \"data\": 47.00000000000004, \"model\": \"preds\", \"adm_2\": null, \"adm_1\": null, \"adm_0\": null, \"legend\": null}, {\"dates\": \"2022-02-20T00:00:00\", \"preds\": 23.35473119485481, \"lower\": 9.00882509842098, \"upper\": 68.44922714121543, \"data\": 62.00000000000004, \"model\": \"preds\", \"adm_2\": null, \"adm_1\": null, \"adm_0\": null, \"legend\": null}, {\"dates\": \"2022-02-27T00:00:00\", \"preds\": 63.39300677815676, \"lower\": 34.648840590803594, \"upper\": 121.57444013593609, \"data\": 66.00000000000009, \"model\": \"preds\", \"adm_2\": null, \"adm_1\": null, \"adm_0\": null, \"legend\": null}, {\"dates\": \"2022-03-06T00:00:00\", \"preds\": 69.17062866471355, \"lower\": 32.26646525315723, \"upper\": 160.090553460089, \"data\": 115.99999999999999, \"model\": \"preds\", \"adm_2\": null, \"adm_1\": null, \"adm_0\": null, \"legend\": null}, {\"dates\": \"2022-03-13T00:00:00\", \"preds\": 72.84314879907228, \"lower\": 28.518521440900702, \"upper\": 209.50012255633766, \"data\": 125.99999999999994, \"model\": \"preds\", \"adm_2\": null, \"adm_1\": null, \"adm_0\": null, \"legend\": null}, {\"dates\": \"2022-03-20T00:00:00\", \"preds\": 76.62598842543994, \"lower\": 25.80476341908025, \"upper\": 267.88396693037254, \"data\": 177.00000000000006, \"model\": \"preds\", \"adm_2\": null, \"adm_1\": null, \"adm_0\": null, \"legend\": null}, {\"dates\": \"2022-03-27T00:00:00\", \"preds\": 181.68971114718533, \"lower\": 91.9183871783361, \"upper\": 381.5410518043362, \"data\": 152.99999999999994, \"model\": \"preds\", \"adm_2\": null, \"adm_1\": null, \"adm_0\": null, \"legend\": null}, {\"dates\": \"2022-04-03T00:00:00\", \"preds\": 202.51575586725158, \"lower\": 85.48547200912289, \"upper\": 529.8700414765788, \"data\": 222.00000000000014, \"model\": \"preds\", \"adm_2\": null, \"adm_1\": null, \"adm_0\": null, \"legend\": null}, {\"dates\": \"2022-04-10T00:00:00\", \"preds\": 215.97393072017184, \"lower\": 74.5606765710068, \"upper\": 730.7218790004978, \"data\": 201.00000000000009, \"model\": \"preds\", \"adm_2\": null, \"adm_1\": null, \"adm_0\": null, \"legend\": null}, {\"dates\": \"2022-04-17T00:00:00\", \"preds\": 230.17544960535315, \"lower\": 66.79156678312866, \"upper\": 983.9886395082435, \"data\": 234.0000000000001, \"model\": \"preds\", \"adm_2\": null, \"adm_1\": null, \"adm_0\": null, \"legend\": null}, {\"dates\": \"2022-04-24T00:00:00\", \"preds\": 239.78969047693698, \"lower\": 118.98327200717907, \"upper\": 515.2831426784273, \"data\": 341.99999999999994, \"model\": \"preds\", \"adm_2\": null, \"adm_1\": null, \"adm_0\": null, \"legend\": null}, {\"dates\": \"2022-05-01T00:00:00\", \"preds\": 253.29304589753738, \"lower\": 105.00256458801047, \"upper\": 677.8456025679789, \"data\": 461.00000000000034, \"model\": \"preds\", \"adm_2\": null, \"adm_1\": null, \"adm_0\": null, \"legend\": null}, {\"dates\": \"2022-05-08T00:00:00\", \"preds\": 262.4116143468478, \"lower\": 88.94064518302251, \"upper\": 909.6222726930578, \"data\": 504.99999999999983, \"model\": \"preds\", \"adm_2\": null, \"adm_1\": null, \"adm_0\": null, \"legend\": null}, {\"dates\": \"2022-05-15T00:00:00\", \"preds\": 271.35772763144564, \"lower\": 77.43678987333105, \"upper\": 1187.1619459775131, \"data\": 405.9999999999996, \"model\": \"preds\", \"adm_2\": null, \"adm_1\": null, \"adm_0\": null, \"legend\": null}, {\"dates\": \"2022-05-22T00:00:00\", \"preds\": 465.22843318642884, \"lower\": 218.73777800886742, \"upper\": 1066.5044103179207, \"data\": 399.99999999999966, \"model\": \"preds\", \"adm_2\": null, \"adm_1\": null, \"adm_0\": null, \"legend\": null}, {\"dates\": \"2022-05-29T00:00:00\", \"preds\": 471.772907963437, \"lower\": 183.266077292569, \"upper\": 1370.3627465577226, \"data\": 338.00000000000006, \"model\": \"preds\", \"adm_2\": null, \"adm_1\": null, \"adm_0\": null, \"legend\": null}, {\"dates\": \"2022-06-05T00:00:00\", \"preds\": 493.56181368727096, \"lower\": 154.21644701788017, \"upper\": 1907.2639936735873, \"data\": 255.0000000000003, \"model\": \"preds\", \"adm_2\": null, \"adm_1\": null, \"adm_0\": null, \"legend\": null}, {\"dates\": \"2022-06-12T00:00:00\", \"preds\": 507.670040365989, \"lower\": 131.81139686318963, \"upper\": 2536.356017908151, \"data\": 152.99999999999994, \"model\": \"preds\", \"adm_2\": null, \"adm_1\": null, \"adm_0\": null, \"legend\": null}, {\"dates\": \"2022-06-19T00:00:00\", \"preds\": 167.7205799235239, \"lower\": 85.62932619644201, \"upper\": 348.41984538166486, \"data\": 209.00000000000014, \"model\": \"preds\", \"adm_2\": null, \"adm_1\": null, \"adm_0\": null, \"legend\": null}, {\"dates\": \"2022-06-26T00:00:00\", \"preds\": 154.08523219458814, \"lower\": 66.94933054747358, \"upper\": 388.97236862616654, \"data\": 189.00000000000034, \"model\": \"preds\", \"adm_2\": null, \"adm_1\": null, \"adm_0\": null, \"legend\": null}, {\"dates\": \"2022-07-03T00:00:00\", \"preds\": 150.9200965277954, \"lower\": 54.54632622127063, \"upper\": 480.95164143256886, \"data\": 155.0000000000001, \"model\": \"preds\", \"adm_2\": null, \"adm_1\": null, \"adm_0\": null, \"legend\": null}, {\"dates\": \"2022-07-10T00:00:00\", \"preds\": 145.91068871910844, \"lower\": 45.2092996149081, \"upper\": 570.2844721150697, \"data\": 144.00000000000006, \"model\": \"preds\", \"adm_2\": null, \"adm_1\": null, \"adm_0\": null, \"legend\": null}, {\"dates\": \"2022-07-17T00:00:00\", \"preds\": 141.08518226128172, \"lower\": 73.11719274380819, \"upper\": 287.95348668665576, \"data\": 194.00000000000034, \"model\": \"preds\", \"adm_2\": null, \"adm_1\": null, \"adm_0\": null, \"legend\": null}, {\"dates\": \"2022-07-24T00:00:00\", \"preds\": 136.82729244439858, \"lower\": 60.2560720789011, \"upper\": 339.72812576000143, \"data\": 148.0000000000001, \"model\": \"preds\", \"adm_2\": null, \"adm_1\": null, \"adm_0\": null, \"legend\": null}, {\"dates\": \"2022-07-31T00:00:00\", \"preds\": 133.86127253528645, \"lower\": 49.17986897128339, \"upper\": 417.6378054554449, \"data\": 145.0, \"model\": \"preds\", \"adm_2\": null, \"adm_1\": null, \"adm_0\": null, \"legend\": null}, {\"dates\": \"2022-08-07T00:00:00\", \"preds\": 131.21359176764673, \"lower\": 41.350024878725726, \"upper\": 501.23866942230876, \"data\": 106.00000000000007, \"model\": \"preds\", \"adm_2\": null, \"adm_1\": null, \"adm_0\": null, \"legend\": null}, {\"dates\": \"2022-08-14T00:00:00\", \"preds\": 111.39700250814737, \"lower\": 58.820535036323484, \"upper\": 222.41995855631419, \"data\": 110.00000000000003, \"model\": \"preds\", \"adm_2\": null, \"adm_1\": null, \"adm_0\": null, \"legend\": null}, {\"dates\": \"2022-08-21T00:00:00\", \"preds\": 105.25803866571084, \"lower\": 47.56398006719579, \"upper\": 253.21700798038023, \"data\": 99.00000000000006, \"model\": \"preds\", \"adm_2\": null, \"adm_1\": null, \"adm_0\": null, \"legend\": null}, {\"dates\": \"2022-08-28T00:00:00\", \"preds\": 103.48725415115572, \"lower\": 39.202011207876595, \"upper\": 310.41203523164813, \"data\": 94.00000000000003, \"model\": \"preds\", \"adm_2\": null, \"adm_1\": null, \"adm_0\": null, \"legend\": null}, {\"dates\": \"2022-09-04T00:00:00\", \"preds\": 101.00084632934231, \"lower\": 32.98208762291526, \"upper\": 367.8425566627736, \"data\": 101.00000000000011, \"model\": \"preds\", \"adm_2\": null, \"adm_1\": null, \"adm_0\": null, \"legend\": null}, {\"dates\": \"2022-09-11T00:00:00\", \"preds\": 96.35635627041175, \"lower\": 51.50903968001025, \"upper\": 189.6359252050744, \"data\": 120.00000000000009, \"model\": \"preds\", \"adm_2\": null, \"adm_1\": null, \"adm_0\": null, \"legend\": null}, {\"dates\": \"2022-09-18T00:00:00\", \"preds\": 95.79563158185579, \"lower\": 43.75124671021875, \"upper\": 227.48138571347437, \"data\": 102.00000000000011, \"model\": \"preds\", \"adm_2\": null, \"adm_1\": null, \"adm_0\": null, \"legend\": null}, {\"dates\": \"2022-09-25T00:00:00\", \"preds\": 94.29395663388411, \"lower\": 36.17915489397503, \"upper\": 278.2499360784621, \"data\": 95.0000000000001, \"model\": \"preds\", \"adm_2\": null, \"adm_1\": null, \"adm_0\": null, \"legend\": null}, {\"dates\": \"2022-10-02T00:00:00\", \"preds\": 93.35076478646333, \"lower\": 30.879070658394593, \"upper\": 334.19833873336745, \"data\": 102.00000000000011, \"model\": \"preds\", \"adm_2\": null, \"adm_1\": null, \"adm_0\": null, \"legend\": null}, {\"dates\": \"2022-10-09T00:00:00\", \"preds\": 98.72110197039618, \"lower\": 52.76223493018071, \"upper\": 194.3369168828641, \"data\": 123.00000000000006, \"model\": \"preds\", \"adm_2\": null, \"adm_1\": null, \"adm_0\": null, \"legend\": null}, {\"dates\": \"2022-10-16T00:00:00\", \"preds\": 98.88607883052313, \"lower\": 45.11881311653123, \"upper\": 235.09838891759895, \"data\": 160.00000000000023, \"model\": \"preds\", \"adm_2\": null, \"adm_1\": null, \"adm_0\": null, \"legend\": null}, {\"dates\": \"2022-10-23T00:00:00\", \"preds\": 98.10734867682041, \"lower\": 37.56846207915747, \"upper\": 290.2294183160004, \"data\": 139.00000000000006, \"model\": \"preds\", \"adm_2\": null, \"adm_1\": null, \"adm_0\": null, \"legend\": null}, {\"dates\": \"2022-10-30T00:00:00\", \"preds\": 97.73543284325353, \"lower\": 32.233199441400274, \"upper\": 351.2861706075002, \"data\": 130.99999999999997, \"model\": \"preds\", \"adm_2\": null, \"adm_1\": null, \"adm_0\": null, \"legend\": null}, {\"dates\": \"2022-11-06T00:00:00\", \"preds\": 134.62689492500073, \"lower\": 70.40534507597232, \"upper\": 271.8574099355339, \"data\": 171.0000000000002, \"model\": \"preds\", \"adm_2\": null, \"adm_1\": null, \"adm_0\": null, \"legend\": null}, {\"dates\": \"2022-11-13T00:00:00\", \"preds\": 134.46882362034842, \"lower\": 59.718718173460125, \"upper\": 330.4327526426721, \"data\": 129.00000000000009, \"model\": \"preds\", \"adm_2\": null, \"adm_1\": null, \"adm_0\": null, \"legend\": null}, {\"dates\": \"2022-11-20T00:00:00\", \"preds\": 135.37483513534323, \"lower\": 50.103522536461334, \"upper\": 418.3660014862356, \"data\": 94.00000000000003, \"model\": \"preds\", \"adm_2\": null, \"adm_1\": null, \"adm_0\": null, \"legend\": null}, {\"dates\": \"2022-11-27T00:00:00\", \"preds\": 135.82297118569178, \"lower\": 43.0478922133023, \"upper\": 514.8689646020346, \"data\": 86.00000000000001, \"model\": \"preds\", \"adm_2\": null, \"adm_1\": null, \"adm_0\": null, \"legend\": null}, {\"dates\": \"2022-12-04T00:00:00\", \"preds\": 84.91236927436394, \"lower\": 45.94846397694953, \"upper\": 164.75181001002653, \"data\": 98.00000000000003, \"model\": \"preds\", \"adm_2\": null, \"adm_1\": null, \"adm_0\": null, \"legend\": null}, {\"dates\": \"2022-12-11T00:00:00\", \"preds\": 82.36806716546103, \"lower\": 38.24844267516736, \"upper\": 191.68855997941282, \"data\": 123.00000000000006, \"model\": \"preds\", \"adm_2\": null, \"adm_1\": null, \"adm_0\": null, \"legend\": null}, {\"dates\": \"2022-12-18T00:00:00\", \"preds\": 80.75661786853179, \"lower\": 31.642939039600936, \"upper\": 232.015093945173, \"data\": 116.99999999999993, \"model\": \"preds\", \"adm_2\": null, \"adm_1\": null, \"adm_0\": null, \"legend\": null}, {\"dates\": \"2022-12-25T00:00:00\", \"preds\": 79.2580905343743, \"lower\": 26.89030679719654, \"upper\": 274.37674752417297, \"data\": 163.00000000000026, \"model\": \"preds\", \"adm_2\": null, \"adm_1\": null, \"adm_0\": null, \"legend\": null}, {\"dates\": \"2023-01-01T00:00:00\", \"preds\": 151.76133446868533, \"lower\": 78.80212665991347, \"upper\": 309.0396239407756, \"data\": 230.00000000000026, \"model\": \"preds\", \"adm_2\": null, \"adm_1\": null, \"adm_0\": null, \"legend\": null}, {\"dates\": \"2023-01-08T00:00:00\", \"preds\": 159.72270996481006, \"lower\": 69.93219528344056, \"upper\": 399.41482831183293, \"data\": 218.0000000000003, \"model\": \"preds\", \"adm_2\": null, \"adm_1\": null, \"adm_0\": null, \"legend\": null}, {\"dates\": \"2023-01-15T00:00:00\", \"preds\": 161.10792069530078, \"lower\": 58.61511845590657, \"upper\": 509.0322044244204, \"data\": 246.0000000000002, \"model\": \"preds\", \"adm_2\": null, \"adm_1\": null, \"adm_0\": null, \"legend\": null}, {\"dates\": \"2023-01-22T00:00:00\", \"preds\": 164.09594864887933, \"lower\": 50.90561687060513, \"upper\": 640.3073445873545, \"data\": 312.00000000000006, \"model\": \"preds\", \"adm_2\": null, \"adm_1\": null, \"adm_0\": null, \"legend\": null}, {\"dates\": \"2023-01-29T00:00:00\", \"preds\": 309.3583488049301, \"lower\": 152.0762703639351, \"upper\": 672.2276437471522, \"data\": 382.99999999999955, \"model\": \"preds\", \"adm_2\": null, \"adm_1\": null, \"adm_0\": null, \"legend\": null}, {\"dates\": \"2023-02-05T00:00:00\", \"preds\": 328.34008314262354, \"lower\": 134.0760654750963, \"upper\": 895.4358359473988, \"data\": 525.0000000000005, \"model\": \"preds\", \"adm_2\": null, \"adm_1\": null, \"adm_0\": null, \"legend\": null}, {\"dates\": \"2023-02-12T00:00:00\", \"preds\": 338.3894931490902, \"lower\": 112.84360597037096, \"upper\": 1198.4954340883526, \"data\": 372.00000000000034, \"model\": \"preds\", \"adm_2\": null, \"adm_1\": null, \"adm_0\": null, \"legend\": null}, {\"dates\": \"2023-02-19T00:00:00\", \"preds\": 349.5129285891154, \"lower\": 97.90848165219658, \"upper\": 1568.9792239320764, \"data\": 507.00000000000045, \"model\": \"preds\", \"adm_2\": null, \"adm_1\": null, \"adm_0\": null, \"legend\": null}, {\"dates\": \"2023-02-26T00:00:00\", \"preds\": 486.6065336376336, \"lower\": 230.56344988793234, \"upper\": 1105.1553670421022, \"data\": 870.0, \"model\": \"preds\", \"adm_2\": null, \"adm_1\": null, \"adm_0\": null, \"legend\": null}, {\"dates\": \"2023-03-05T00:00:00\", \"preds\": 517.705010079599, \"lower\": 201.94154967732175, \"upper\": 1495.9038670792893, \"data\": 945.0000000000008, \"model\": \"preds\", \"adm_2\": null, \"adm_1\": null, \"adm_0\": null, \"legend\": null}, {\"dates\": \"2023-03-12T00:00:00\", \"preds\": 529.5488197232104, \"lower\": 167.16245125711322, \"upper\": 2018.2747259533005, \"data\": 1125.0000000000005, \"model\": \"preds\", \"adm_2\": null, \"adm_1\": null, \"adm_0\": null, \"legend\": null}, {\"dates\": \"2023-03-19T00:00:00\", \"preds\": 545.1043830232941, \"lower\": 143.42931027399922, \"upper\": 2672.275568527508, \"data\": 1382.0000000000002, \"model\": \"preds\", \"adm_2\": null, \"adm_1\": null, \"adm_0\": null, \"legend\": null}, {\"dates\": \"2023-03-26T00:00:00\", \"preds\": 1436.762896936793, \"lower\": 617.7124267342709, \"upper\": 3674.590068842351, \"data\": 1580.0, \"model\": \"preds\", \"adm_2\": null, \"adm_1\": null, \"adm_0\": null, \"legend\": null}, {\"dates\": \"2023-04-02T00:00:00\", \"preds\": 1552.0914477824952, \"lower\": 534.6517924790239, \"upper\": 5266.511567691413, \"data\": 1419.999999999999, \"model\": \"preds\", \"adm_2\": null, \"adm_1\": null, \"adm_0\": null, \"legend\": null}, {\"dates\": \"2023-04-09T00:00:00\", \"preds\": 1636.1137278814765, \"lower\": 442.100298358673, \"upper\": 7724.852142685991, \"data\": 1783.0000000000007, \"model\": \"preds\", \"adm_2\": null, \"adm_1\": null, \"adm_0\": null, \"legend\": null}, {\"dates\": \"2023-04-16T00:00:00\", \"preds\": 1719.3568355183838, \"lower\": 376.94987741986495, \"upper\": 10996.66529986929, \"data\": 1502.0000000000002, \"model\": \"preds\", \"adm_2\": null, \"adm_1\": null, \"adm_0\": null, \"legend\": null}, {\"dates\": \"2023-04-23T00:00:00\", \"preds\": 1656.8628776720834, \"lower\": 704.1953205547491, \"upper\": 4298.355154161255, \"data\": 1572.000000000001, \"model\": \"preds\", \"adm_2\": null, \"adm_1\": null, \"adm_0\": null, \"legend\": null}, {\"dates\": \"2023-04-30T00:00:00\", \"preds\": 1669.7422019642547, \"lower\": 571.8645149326301, \"upper\": 5708.971992709428, \"data\": 1918.9999999999986, \"model\": \"preds\", \"adm_2\": null, \"adm_1\": null, \"adm_0\": null, \"legend\": null}, {\"dates\": \"2023-05-07T00:00:00\", \"preds\": 1721.6240310538367, \"lower\": 463.44179644766484, \"upper\": 8172.224055309728, \"data\": 1806.9999999999995, \"model\": \"preds\", \"adm_2\": null, \"adm_1\": null, \"adm_0\": null, \"legend\": null}, {\"dates\": \"2023-05-14T00:00:00\", \"preds\": 1754.1555633669448, \"lower\": 384.8865295299729, \"upper\": 11205.81919919862, \"data\": 1731.0000000000036, \"model\": \"preds\", \"adm_2\": null, \"adm_1\": null, \"adm_0\": null, \"legend\": null}, {\"dates\": \"2023-05-21T00:00:00\", \"preds\": 1791.6967972860418, \"lower\": 757.363473499982, \"upper\": 4679.731928223298, \"data\": 1478.9999999999986, \"model\": \"preds\", \"adm_2\": null, \"adm_1\": null, \"adm_0\": null, \"legend\": null}, {\"dates\": \"2023-05-28T00:00:00\", \"preds\": 1804.7446851841166, \"lower\": 614.0199080150239, \"upper\": 6224.672433442277, \"data\": 1328.0000000000007, \"model\": \"preds\", \"adm_2\": null, \"adm_1\": null, \"adm_0\": null, \"legend\": null}, {\"dates\": \"2023-06-04T00:00:00\", \"preds\": 1828.6614207655214, \"lower\": 489.59031191069647, \"upper\": 8747.036078207824, \"data\": 1237.9999999999993, \"model\": \"preds\", \"adm_2\": null, \"adm_1\": null, \"adm_0\": null, \"legend\": null}, {\"dates\": \"2023-06-11T00:00:00\", \"preds\": 1845.358694836889, \"lower\": 403.0535757676046, \"upper\": 11869.322203335092, \"data\": 1348.0000000000027, \"model\": \"preds\", \"adm_2\": null, \"adm_1\": null, \"adm_0\": null, \"legend\": null}, {\"dates\": \"2023-06-18T00:00:00\", \"preds\": 1300.1482579148185, \"lower\": 567.9478237444752, \"upper\": 3260.440737133373, \"data\": 1236.0000000000016, \"model\": \"preds\", \"adm_2\": null, \"adm_1\": null, \"adm_0\": null, \"legend\": null}, {\"dates\": \"2023-06-25T00:00:00\", \"preds\": 1304.2301159608965, \"lower\": 462.3406233513822, \"upper\": 4262.360922509197, \"data\": 996.0000000000019, \"model\": \"preds\", \"adm_2\": null, \"adm_1\": null, \"adm_0\": null, \"legend\": null}, {\"dates\": \"2022-01-02T00:00:00\", \"preds\": 61.29, \"lower\": 0.0, \"upper\": 1729.2245503355, \"data\": null, \"model\": \"77\", \"adm_2\": 3304557.0, \"adm_1\": \"RJ\", \"adm_0\": \"BR\", \"legend\": null}, {\"dates\": \"2022-01-09T00:00:00\", \"preds\": 27.06, \"lower\": 0.0, \"upper\": 1535.8709703498, \"data\": null, \"model\": \"77\", \"adm_2\": 3304557.0, \"adm_1\": \"RJ\", \"adm_0\": \"BR\", \"legend\": null}, {\"dates\": \"2022-01-16T00:00:00\", \"preds\": 26.88, \"lower\": 0.0, \"upper\": 673.9351776686, \"data\": null, \"model\": \"77\", \"adm_2\": 3304557.0, \"adm_1\": \"RJ\", \"adm_0\": \"BR\", \"legend\": null}, {\"dates\": \"2022-01-23T00:00:00\", \"preds\": 30.44, \"lower\": 0.0, \"upper\": 1149.2167062209, \"data\": null, \"model\": \"77\", \"adm_2\": 3304557.0, \"adm_1\": \"RJ\", \"adm_0\": \"BR\", \"legend\": null}, {\"dates\": \"2022-01-30T00:00:00\", \"preds\": 29.76, \"lower\": 0.0, \"upper\": 1054.8541371324, \"data\": null, \"model\": \"77\", \"adm_2\": 3304557.0, \"adm_1\": \"RJ\", \"adm_0\": \"BR\", \"legend\": null}, {\"dates\": \"2022-02-06T00:00:00\", \"preds\": 29.34, \"lower\": 0.0, \"upper\": 1053.3112130593, \"data\": null, \"model\": \"77\", \"adm_2\": 3304557.0, \"adm_1\": \"RJ\", \"adm_0\": \"BR\", \"legend\": null}, {\"dates\": \"2022-02-13T00:00:00\", \"preds\": 34.61, \"lower\": 0.0, \"upper\": 1012.9490918948, \"data\": null, \"model\": \"77\", \"adm_2\": 3304557.0, \"adm_1\": \"RJ\", \"adm_0\": \"BR\", \"legend\": null}, {\"dates\": \"2022-02-20T00:00:00\", \"preds\": 39.01, \"lower\": 0.0, \"upper\": 1235.4601531132, \"data\": null, \"model\": \"77\", \"adm_2\": 3304557.0, \"adm_1\": \"RJ\", \"adm_0\": \"BR\", \"legend\": null}, {\"dates\": \"2022-02-27T00:00:00\", \"preds\": 43.28, \"lower\": 0.0, \"upper\": 1478.6163274184, \"data\": null, \"model\": \"77\", \"adm_2\": 3304557.0, \"adm_1\": \"RJ\", \"adm_0\": \"BR\", \"legend\": null}, {\"dates\": \"2022-03-06T00:00:00\", \"preds\": 32.32, \"lower\": 0.0, \"upper\": 1933.3792826922, \"data\": null, \"model\": \"77\", \"adm_2\": 3304557.0, \"adm_1\": \"RJ\", \"adm_0\": \"BR\", \"legend\": null}, {\"dates\": \"2022-03-13T00:00:00\", \"preds\": 44.08, \"lower\": 0.0, \"upper\": 1698.1051179684, \"data\": null, \"model\": \"77\", \"adm_2\": 3304557.0, \"adm_1\": \"RJ\", \"adm_0\": \"BR\", \"legend\": null}, {\"dates\": \"2022-03-20T00:00:00\", \"preds\": 74.21, \"lower\": 0.0, \"upper\": 1583.5488129311, \"data\": null, \"model\": \"77\", \"adm_2\": 3304557.0, \"adm_1\": \"RJ\", \"adm_0\": \"BR\", \"legend\": null}, {\"dates\": \"2022-03-27T00:00:00\", \"preds\": 91.2, \"lower\": 0.0, \"upper\": 1376.3518495555, \"data\": null, \"model\": \"77\", \"adm_2\": 3304557.0, \"adm_1\": \"RJ\", \"adm_0\": \"BR\", \"legend\": null}, {\"dates\": \"2022-04-03T00:00:00\", \"preds\": 98.79, \"lower\": 0.0, \"upper\": 723.5706027188, \"data\": null, \"model\": \"77\", \"adm_2\": 3304557.0, \"adm_1\": \"RJ\", \"adm_0\": \"BR\", \"legend\": null}, {\"dates\": \"2022-04-10T00:00:00\", \"preds\": 176.98, \"lower\": 0.0, \"upper\": 1567.9589396197, \"data\": null, \"model\": \"77\", \"adm_2\": 3304557.0, \"adm_1\": \"RJ\", \"adm_0\": \"BR\", \"legend\": null}, {\"dates\": \"2022-04-17T00:00:00\", \"preds\": 216.42, \"lower\": 0.0, \"upper\": 2335.967212316, \"data\": null, \"model\": \"77\", \"adm_2\": 3304557.0, \"adm_1\": \"RJ\", \"adm_0\": \"BR\", \"legend\": null}, {\"dates\": \"2022-04-24T00:00:00\", \"preds\": 345.06, \"lower\": 0.0, \"upper\": 3021.9998205177, \"data\": null, \"model\": \"77\", \"adm_2\": 3304557.0, \"adm_1\": \"RJ\", \"adm_0\": \"BR\", \"legend\": null}, {\"dates\": \"2022-05-01T00:00:00\", \"preds\": 313.83, \"lower\": 0.0, \"upper\": 3249.4121439655, \"data\": null, \"model\": \"77\", \"adm_2\": 3304557.0, \"adm_1\": \"RJ\", \"adm_0\": \"BR\", \"legend\": null}, {\"dates\": \"2022-05-08T00:00:00\", \"preds\": 512.02, \"lower\": 0.0, \"upper\": 3762.6987796367, \"data\": null, \"model\": \"77\", \"adm_2\": 3304557.0, \"adm_1\": \"RJ\", \"adm_0\": \"BR\", \"legend\": null}, {\"dates\": \"2022-05-15T00:00:00\", \"preds\": 382.19, \"lower\": 0.0, \"upper\": 2690.5815795323, \"data\": null, \"model\": \"77\", \"adm_2\": 3304557.0, \"adm_1\": \"RJ\", \"adm_0\": \"BR\", \"legend\": null}, {\"dates\": \"2022-05-22T00:00:00\", \"preds\": 318.17, \"lower\": 0.0, \"upper\": 1889.3836654291, \"data\": null, \"model\": \"77\", \"adm_2\": 3304557.0, \"adm_1\": \"RJ\", \"adm_0\": \"BR\", \"legend\": null}, {\"dates\": \"2022-05-29T00:00:00\", \"preds\": 663.35, \"lower\": 0.0, \"upper\": 2355.171415628, \"data\": null, \"model\": \"77\", \"adm_2\": 3304557.0, \"adm_1\": \"RJ\", \"adm_0\": \"BR\", \"legend\": null}, {\"dates\": \"2022-06-05T00:00:00\", \"preds\": 1012.57, \"lower\": 244.0160680593, \"upper\": 1781.1239319407, \"data\": null, \"model\": \"77\", \"adm_2\": 3304557.0, \"adm_1\": \"RJ\", \"adm_0\": \"BR\", \"legend\": null}, {\"dates\": \"2022-06-12T00:00:00\", \"preds\": 902.92, \"lower\": 0.0, \"upper\": 2020.9380813249, \"data\": null, \"model\": \"77\", \"adm_2\": 3304557.0, \"adm_1\": \"RJ\", \"adm_0\": \"BR\", \"legend\": null}, {\"dates\": \"2022-06-19T00:00:00\", \"preds\": 766.88, \"lower\": 0.0, \"upper\": 2229.098105451, \"data\": null, \"model\": \"77\", \"adm_2\": 3304557.0, \"adm_1\": \"RJ\", \"adm_0\": \"BR\", \"legend\": null}, {\"dates\": \"2022-06-26T00:00:00\", \"preds\": 396.46, \"lower\": 0.0, \"upper\": 2184.4381570024, \"data\": null, \"model\": \"77\", \"adm_2\": 3304557.0, \"adm_1\": \"RJ\", \"adm_0\": \"BR\", \"legend\": null}, {\"dates\": \"2022-07-03T00:00:00\", \"preds\": 333.08, \"lower\": 0.0, \"upper\": 2367.8073825474, \"data\": null, \"model\": \"77\", \"adm_2\": 3304557.0, \"adm_1\": \"RJ\", \"adm_0\": \"BR\", \"legend\": null}, {\"dates\": \"2022-07-10T00:00:00\", \"preds\": 203.22, \"lower\": 0.0, \"upper\": 1614.4841398778, \"data\": null, \"model\": \"77\", \"adm_2\": 3304557.0, \"adm_1\": \"RJ\", \"adm_0\": \"BR\", \"legend\": null}, {\"dates\": \"2022-07-17T00:00:00\", \"preds\": 210.92, \"lower\": 0.0, \"upper\": 1624.558058697, \"data\": null, \"model\": \"77\", \"adm_2\": 3304557.0, \"adm_1\": \"RJ\", \"adm_0\": \"BR\", \"legend\": null}, {\"dates\": \"2022-07-24T00:00:00\", \"preds\": 205.35, \"lower\": 0.0, \"upper\": 1947.7565892405, \"data\": null, \"model\": \"77\", \"adm_2\": 3304557.0, \"adm_1\": \"RJ\", \"adm_0\": \"BR\", \"legend\": null}, {\"dates\": \"2022-07-31T00:00:00\", \"preds\": 155.79, \"lower\": 0.0, \"upper\": 1396.3902691858, \"data\": null, \"model\": \"77\", \"adm_2\": 3304557.0, \"adm_1\": \"RJ\", \"adm_0\": \"BR\", \"legend\": null}, {\"dates\": \"2022-08-07T00:00:00\", \"preds\": 161.74, \"lower\": 0.0, \"upper\": 1267.4720622758, \"data\": null, \"model\": \"77\", \"adm_2\": 3304557.0, \"adm_1\": \"RJ\", \"adm_0\": \"BR\", \"legend\": null}, {\"dates\": \"2022-08-14T00:00:00\", \"preds\": 153.51, \"lower\": 0.0, \"upper\": 1237.7757285767, \"data\": null, \"model\": \"77\", \"adm_2\": 3304557.0, \"adm_1\": \"RJ\", \"adm_0\": \"BR\", \"legend\": null}, {\"dates\": \"2022-08-21T00:00:00\", \"preds\": 176.64, \"lower\": 0.0, \"upper\": 1297.4866719026, \"data\": null, \"model\": \"77\", \"adm_2\": 3304557.0, \"adm_1\": \"RJ\", \"adm_0\": \"BR\", \"legend\": null}, {\"dates\": \"2022-08-28T00:00:00\", \"preds\": 179.13, \"lower\": 0.0, \"upper\": 1478.6152989411, \"data\": null, \"model\": \"77\", \"adm_2\": 3304557.0, \"adm_1\": \"RJ\", \"adm_0\": \"BR\", \"legend\": null}, {\"dates\": \"2022-09-04T00:00:00\", \"preds\": 146.43, \"lower\": 0.0, \"upper\": 1566.3419666142, \"data\": null, \"model\": \"77\", \"adm_2\": 3304557.0, \"adm_1\": \"RJ\", \"adm_0\": \"BR\", \"legend\": null}, {\"dates\": \"2022-09-11T00:00:00\", \"preds\": 119.06, \"lower\": 0.0, \"upper\": 1064.7396522083, \"data\": null, \"model\": \"77\", \"adm_2\": 3304557.0, \"adm_1\": \"RJ\", \"adm_0\": \"BR\", \"legend\": null}, {\"dates\": \"2022-09-18T00:00:00\", \"preds\": 89.66, \"lower\": 0.0, \"upper\": 524.128212398, \"data\": null, \"model\": \"77\", \"adm_2\": 3304557.0, \"adm_1\": \"RJ\", \"adm_0\": \"BR\", \"legend\": null}, {\"dates\": \"2022-09-25T00:00:00\", \"preds\": 88.07, \"lower\": 0.0, \"upper\": 1116.9014193491, \"data\": null, \"model\": \"77\", \"adm_2\": 3304557.0, \"adm_1\": \"RJ\", \"adm_0\": \"BR\", \"legend\": null}, {\"dates\": \"2022-10-02T00:00:00\", \"preds\": 92.84, \"lower\": 0.0, \"upper\": 967.041235228, \"data\": null, \"model\": \"77\", \"adm_2\": 3304557.0, \"adm_1\": \"RJ\", \"adm_0\": \"BR\", \"legend\": null}, {\"dates\": \"2022-10-09T00:00:00\", \"preds\": 130.7, \"lower\": 0.0, \"upper\": 1671.4170892455, \"data\": null, \"model\": \"77\", \"adm_2\": 3304557.0, \"adm_1\": \"RJ\", \"adm_0\": \"BR\", \"legend\": null}, {\"dates\": \"2022-10-16T00:00:00\", \"preds\": 126.37, \"lower\": 0.0, \"upper\": 1783.0109912045, \"data\": null, \"model\": \"77\", \"adm_2\": 3304557.0, \"adm_1\": \"RJ\", \"adm_0\": \"BR\", \"legend\": null}, {\"dates\": \"2022-10-23T00:00:00\", \"preds\": 88.54, \"lower\": 0.0, \"upper\": 2455.8924287832, \"data\": null, \"model\": \"77\", \"adm_2\": 3304557.0, \"adm_1\": \"RJ\", \"adm_0\": \"BR\", \"legend\": null}, {\"dates\": \"2022-10-30T00:00:00\", \"preds\": 90.18, \"lower\": 0.0, \"upper\": 2482.2110244223, \"data\": null, \"model\": \"77\", \"adm_2\": 3304557.0, \"adm_1\": \"RJ\", \"adm_0\": \"BR\", \"legend\": null}, {\"dates\": \"2022-11-06T00:00:00\", \"preds\": 138.54, \"lower\": 0.0, \"upper\": 2753.4854223837, \"data\": null, \"model\": \"77\", \"adm_2\": 3304557.0, \"adm_1\": \"RJ\", \"adm_0\": \"BR\", \"legend\": null}, {\"dates\": \"2022-11-13T00:00:00\", \"preds\": 111.15, \"lower\": 0.0, \"upper\": 2114.9459362357, \"data\": null, \"model\": \"77\", \"adm_2\": 3304557.0, \"adm_1\": \"RJ\", \"adm_0\": \"BR\", \"legend\": null}, {\"dates\": \"2022-11-20T00:00:00\", \"preds\": 262.42, \"lower\": 0.0, \"upper\": 1560.3910680599, \"data\": null, \"model\": \"77\", \"adm_2\": 3304557.0, \"adm_1\": \"RJ\", \"adm_0\": \"BR\", \"legend\": null}, {\"dates\": \"2022-11-27T00:00:00\", \"preds\": 130.46, \"lower\": 0.0, \"upper\": 1275.9170270516, \"data\": null, \"model\": \"77\", \"adm_2\": 3304557.0, \"adm_1\": \"RJ\", \"adm_0\": \"BR\", \"legend\": null}, {\"dates\": \"2022-12-04T00:00:00\", \"preds\": 138.95, \"lower\": 0.0, \"upper\": 968.9083312331, \"data\": null, \"model\": \"77\", \"adm_2\": 3304557.0, \"adm_1\": \"RJ\", \"adm_0\": \"BR\", \"legend\": null}, {\"dates\": \"2022-12-11T00:00:00\", \"preds\": 281.55, \"lower\": 0.0, \"upper\": 1260.6283970385, \"data\": null, \"model\": \"77\", \"adm_2\": 3304557.0, \"adm_1\": \"RJ\", \"adm_0\": \"BR\", \"legend\": null}, {\"dates\": \"2022-12-18T00:00:00\", \"preds\": 121.26, \"lower\": 0.0, \"upper\": 1588.656583431, \"data\": null, \"model\": \"77\", \"adm_2\": 3304557.0, \"adm_1\": \"RJ\", \"adm_0\": \"BR\", \"legend\": null}, {\"dates\": \"2022-12-25T00:00:00\", \"preds\": 129.22, \"lower\": 0.0, \"upper\": 1872.3384034717, \"data\": null, \"model\": \"77\", \"adm_2\": 3304557.0, \"adm_1\": \"RJ\", \"adm_0\": \"BR\", \"legend\": null}, {\"dates\": \"2023-01-01T00:00:00\", \"preds\": 124.7, \"lower\": 0.0, \"upper\": 1809.5625740147, \"data\": null, \"model\": \"77\", \"adm_2\": 3304557.0, \"adm_1\": \"RJ\", \"adm_0\": \"BR\", \"legend\": null}, {\"dates\": \"2023-01-08T00:00:00\", \"preds\": 127.23, \"lower\": 0.0, \"upper\": 1793.8064366305, \"data\": null, \"model\": \"77\", \"adm_2\": 3304557.0, \"adm_1\": \"RJ\", \"adm_0\": \"BR\", \"legend\": null}, {\"dates\": \"2023-01-15T00:00:00\", \"preds\": 155.21, \"lower\": 0.0, \"upper\": 1268.8861142409, \"data\": null, \"model\": \"77\", \"adm_2\": 3304557.0, \"adm_1\": \"RJ\", \"adm_0\": \"BR\", \"legend\": null}, {\"dates\": \"2023-01-22T00:00:00\", \"preds\": 198.84, \"lower\": 0.0, \"upper\": 1195.3396186246, \"data\": null, \"model\": \"77\", \"adm_2\": 3304557.0, \"adm_1\": \"RJ\", \"adm_0\": \"BR\", \"legend\": null}, {\"dates\": \"2023-01-29T00:00:00\", \"preds\": 345.27, \"lower\": 0.0, \"upper\": 1518.1194592248, \"data\": null, \"model\": \"77\", \"adm_2\": 3304557.0, \"adm_1\": \"RJ\", \"adm_0\": \"BR\", \"legend\": null}, {\"dates\": \"2023-02-05T00:00:00\", \"preds\": 462.34, \"lower\": 0.0, \"upper\": 1445.4253987699, \"data\": null, \"model\": \"77\", \"adm_2\": 3304557.0, \"adm_1\": \"RJ\", \"adm_0\": \"BR\", \"legend\": null}, {\"dates\": \"2023-02-12T00:00:00\", \"preds\": 481.6, \"lower\": 0.0, \"upper\": 1893.9755987178, \"data\": null, \"model\": \"77\", \"adm_2\": 3304557.0, \"adm_1\": \"RJ\", \"adm_0\": \"BR\", \"legend\": null}, {\"dates\": \"2023-02-19T00:00:00\", \"preds\": 481.56, \"lower\": 0.0, \"upper\": 1965.8780215081, \"data\": null, \"model\": \"77\", \"adm_2\": 3304557.0, \"adm_1\": \"RJ\", \"adm_0\": \"BR\", \"legend\": null}, {\"dates\": \"2023-02-26T00:00:00\", \"preds\": 574.3, \"lower\": 0.0, \"upper\": 2019.8204358497, \"data\": null, \"model\": \"77\", \"adm_2\": 3304557.0, \"adm_1\": \"RJ\", \"adm_0\": \"BR\", \"legend\": null}, {\"dates\": \"2023-03-05T00:00:00\", \"preds\": 908.59, \"lower\": 0.0, \"upper\": 2793.9425956685, \"data\": null, \"model\": \"77\", \"adm_2\": 3304557.0, \"adm_1\": \"RJ\", \"adm_0\": \"BR\", \"legend\": null}, {\"dates\": \"2023-03-12T00:00:00\", \"preds\": 1098.33, \"lower\": 0.0, \"upper\": 3565.2781705146, \"data\": null, \"model\": \"77\", \"adm_2\": 3304557.0, \"adm_1\": \"RJ\", \"adm_0\": \"BR\", \"legend\": null}, {\"dates\": \"2023-03-19T00:00:00\", \"preds\": 1255.02, \"lower\": 0.0, \"upper\": 4202.4693301775, \"data\": null, \"model\": \"77\", \"adm_2\": 3304557.0, \"adm_1\": \"RJ\", \"adm_0\": \"BR\", \"legend\": null}, {\"dates\": \"2023-03-26T00:00:00\", \"preds\": 903.32, \"lower\": 0.0, \"upper\": 3760.903225256, \"data\": null, \"model\": \"77\", \"adm_2\": 3304557.0, \"adm_1\": \"RJ\", \"adm_0\": \"BR\", \"legend\": null}, {\"dates\": \"2023-04-02T00:00:00\", \"preds\": 2084.83, \"lower\": 0.0, \"upper\": 4512.3417709763, \"data\": null, \"model\": \"77\", \"adm_2\": 3304557.0, \"adm_1\": \"RJ\", \"adm_0\": \"BR\", \"legend\": null}, {\"dates\": \"2023-04-09T00:00:00\", \"preds\": 1451.2, \"lower\": 0.0, \"upper\": 2937.0054003446, \"data\": null, \"model\": \"77\", \"adm_2\": 3304557.0, \"adm_1\": \"RJ\", \"adm_0\": \"BR\", \"legend\": null}, {\"dates\": \"2023-04-16T00:00:00\", \"preds\": 1680.13, \"lower\": 591.7969421614, \"upper\": 2768.4630578386, \"data\": null, \"model\": \"77\", \"adm_2\": 3304557.0, \"adm_1\": \"RJ\", \"adm_0\": \"BR\", \"legend\": null}, {\"dates\": \"2023-04-23T00:00:00\", \"preds\": 1944.43, \"lower\": 650.1333199898, \"upper\": 3238.7266800102, \"data\": null, \"model\": \"77\", \"adm_2\": 3304557.0, \"adm_1\": \"RJ\", \"adm_0\": \"BR\", \"legend\": null}, {\"dates\": \"2023-04-30T00:00:00\", \"preds\": 1575.31, \"lower\": 227.6224669775, \"upper\": 2922.9975330225, \"data\": null, \"model\": \"77\", \"adm_2\": 3304557.0, \"adm_1\": \"RJ\", \"adm_0\": \"BR\", \"legend\": null}, {\"dates\": \"2023-05-07T00:00:00\", \"preds\": 1426.24, \"lower\": 206.7682082167, \"upper\": 2645.7117917833, \"data\": null, \"model\": \"77\", \"adm_2\": 3304557.0, \"adm_1\": \"RJ\", \"adm_0\": \"BR\", \"legend\": null}, {\"dates\": \"2023-05-14T00:00:00\", \"preds\": 1939.85, \"lower\": 769.2177668869, \"upper\": 3110.4822331131, \"data\": null, \"model\": \"77\", \"adm_2\": 3304557.0, \"adm_1\": \"RJ\", \"adm_0\": \"BR\", \"legend\": null}, {\"dates\": \"2023-05-21T00:00:00\", \"preds\": 1454.24, \"lower\": 359.7715538942, \"upper\": 2548.7084461058, \"data\": null, \"model\": \"77\", \"adm_2\": 3304557.0, \"adm_1\": \"RJ\", \"adm_0\": \"BR\", \"legend\": null}, {\"dates\": \"2023-05-28T00:00:00\", \"preds\": 1134.07, \"lower\": 343.0948354381, \"upper\": 1925.0451645619, \"data\": null, \"model\": \"77\", \"adm_2\": 3304557.0, \"adm_1\": \"RJ\", \"adm_0\": \"BR\", \"legend\": null}, {\"dates\": \"2023-06-04T00:00:00\", \"preds\": 2243.41, \"lower\": 1319.5171062823, \"upper\": 3167.3028937177, \"data\": null, \"model\": \"77\", \"adm_2\": 3304557.0, \"adm_1\": \"RJ\", \"adm_0\": \"BR\", \"legend\": null}, {\"dates\": \"2023-06-11T00:00:00\", \"preds\": 2239.65, \"lower\": 1112.8198769929, \"upper\": 3366.4801230071, \"data\": null, \"model\": \"77\", \"adm_2\": 3304557.0, \"adm_1\": \"RJ\", \"adm_0\": \"BR\", \"legend\": null}, {\"dates\": \"2023-06-18T00:00:00\", \"preds\": 1068.35, \"lower\": 0.0, \"upper\": 2215.1295403202, \"data\": null, \"model\": \"77\", \"adm_2\": 3304557.0, \"adm_1\": \"RJ\", \"adm_0\": \"BR\", \"legend\": null}, {\"dates\": \"2023-06-25T00:00:00\", \"preds\": 624.0, \"lower\": 0.0, \"upper\": 1599.3245555278, \"data\": null, \"model\": \"77\", \"adm_2\": 3304557.0, \"adm_1\": \"RJ\", \"adm_0\": \"BR\", \"legend\": null}, {\"dates\": \"2022-01-02T00:00:00\", \"preds\": 109.3704933375, \"lower\": 0.0, \"upper\": 723.8520054869, \"data\": null, \"model\": \"78\", \"adm_2\": 3304557.0, \"adm_1\": \"RJ\", \"adm_0\": \"BR\", \"legend\": null}, {\"dates\": \"2022-01-09T00:00:00\", \"preds\": 25.3118970841, \"lower\": 0.0, \"upper\": 529.5949193925, \"data\": null, \"model\": \"78\", \"adm_2\": 3304557.0, \"adm_1\": \"RJ\", \"adm_0\": \"BR\", \"legend\": null}, {\"dates\": \"2022-01-16T00:00:00\", \"preds\": 0.0, \"lower\": 0.0, \"upper\": 406.1030913638, \"data\": null, \"model\": \"78\", \"adm_2\": 3304557.0, \"adm_1\": \"RJ\", \"adm_0\": \"BR\", \"legend\": null}, {\"dates\": \"2022-01-23T00:00:00\", \"preds\": 0.0, \"lower\": 0.0, \"upper\": 452.7692431942, \"data\": null, \"model\": \"78\", \"adm_2\": 3304557.0, \"adm_1\": \"RJ\", \"adm_0\": \"BR\", \"legend\": null}, {\"dates\": \"2022-01-30T00:00:00\", \"preds\": 0.0, \"lower\": 0.0, \"upper\": 607.8534869146, \"data\": null, \"model\": \"78\", \"adm_2\": 3304557.0, \"adm_1\": \"RJ\", \"adm_0\": \"BR\", \"legend\": null}, {\"dates\": \"2022-02-06T00:00:00\", \"preds\": 0.0, \"lower\": 0.0, \"upper\": 571.5213175815, \"data\": null, \"model\": \"78\", \"adm_2\": 3304557.0, \"adm_1\": \"RJ\", \"adm_0\": \"BR\", \"legend\": null}, {\"dates\": \"2022-02-13T00:00:00\", \"preds\": 86.4780002013, \"lower\": 0.0, \"upper\": 606.202994981, \"data\": null, \"model\": \"78\", \"adm_2\": 3304557.0, \"adm_1\": \"RJ\", \"adm_0\": \"BR\", \"legend\": null}, {\"dates\": \"2022-02-20T00:00:00\", \"preds\": 232.8529663906, \"lower\": 0.0, \"upper\": 704.1387109958, \"data\": null, \"model\": \"78\", \"adm_2\": 3304557.0, \"adm_1\": \"RJ\", \"adm_0\": \"BR\", \"legend\": null}, {\"dates\": \"2022-02-27T00:00:00\", \"preds\": 249.8387639374, \"lower\": 0.0, \"upper\": 864.0333929069, \"data\": null, \"model\": \"78\", \"adm_2\": 3304557.0, \"adm_1\": \"RJ\", \"adm_0\": \"BR\", \"legend\": null}, {\"dates\": \"2022-03-06T00:00:00\", \"preds\": 236.5050984696, \"lower\": 0.0, \"upper\": 912.8691094007, \"data\": null, \"model\": \"78\", \"adm_2\": 3304557.0, \"adm_1\": \"RJ\", \"adm_0\": \"BR\", \"legend\": null}, {\"dates\": \"2022-03-13T00:00:00\", \"preds\": 374.9699975103, \"lower\": 0.0, \"upper\": 838.5651220527, \"data\": null, \"model\": \"78\", \"adm_2\": 3304557.0, \"adm_1\": \"RJ\", \"adm_0\": \"BR\", \"legend\": null}, {\"dates\": \"2022-03-20T00:00:00\", \"preds\": 342.3801910132, \"lower\": 0.0, \"upper\": 954.7004770912, \"data\": null, \"model\": \"78\", \"adm_2\": 3304557.0, \"adm_1\": \"RJ\", \"adm_0\": \"BR\", \"legend\": null}, {\"dates\": \"2022-03-27T00:00:00\", \"preds\": 115.6595792919, \"lower\": 0.0, \"upper\": 640.2459985577, \"data\": null, \"model\": \"78\", \"adm_2\": 3304557.0, \"adm_1\": \"RJ\", \"adm_0\": \"BR\", \"legend\": null}, {\"dates\": \"2022-04-03T00:00:00\", \"preds\": 133.0989688486, \"lower\": 0.0, \"upper\": 696.6566838086, \"data\": null, \"model\": \"78\", \"adm_2\": 3304557.0, \"adm_1\": \"RJ\", \"adm_0\": \"BR\", \"legend\": null}, {\"dates\": \"2022-04-10T00:00:00\", \"preds\": 198.9890367314, \"lower\": 0.0, \"upper\": 644.0939105038, \"data\": null, \"model\": \"78\", \"adm_2\": 3304557.0, \"adm_1\": \"RJ\", \"adm_0\": \"BR\", \"legend\": null}, {\"dates\": \"2022-04-17T00:00:00\", \"preds\": 170.3585512489, \"lower\": 0.0, \"upper\": 810.7452559274, \"data\": null, \"model\": \"78\", \"adm_2\": 3304557.0, \"adm_1\": \"RJ\", \"adm_0\": \"BR\", \"legend\": null}, {\"dates\": \"2022-04-24T00:00:00\", \"preds\": 317.5533636957, \"lower\": 0.0, \"upper\": 1214.5482060984, \"data\": null, \"model\": \"78\", \"adm_2\": 3304557.0, \"adm_1\": \"RJ\", \"adm_0\": \"BR\", \"legend\": null}, {\"dates\": \"2022-05-01T00:00:00\", \"preds\": 585.4558397308, \"lower\": 0.0, \"upper\": 1430.6597343847, \"data\": null, \"model\": \"78\", \"adm_2\": 3304557.0, \"adm_1\": \"RJ\", \"adm_0\": \"BR\", \"legend\": null}, {\"dates\": \"2022-05-08T00:00:00\", \"preds\": 575.024428919, \"lower\": 8.4296638228, \"upper\": 1424.0171880141, \"data\": null, \"model\": \"78\", \"adm_2\": 3304557.0, \"adm_1\": \"RJ\", \"adm_0\": \"BR\", \"legend\": null}, {\"dates\": \"2022-05-15T00:00:00\", \"preds\": 553.5908161178, \"lower\": 0.0, \"upper\": 1263.6794998243, \"data\": null, \"model\": \"78\", \"adm_2\": 3304557.0, \"adm_1\": \"RJ\", \"adm_0\": \"BR\", \"legend\": null}, {\"dates\": \"2022-05-22T00:00:00\", \"preds\": 448.0580613017, \"lower\": 0.0, \"upper\": 1238.4645673811, \"data\": null, \"model\": \"78\", \"adm_2\": 3304557.0, \"adm_1\": \"RJ\", \"adm_0\": \"BR\", \"legend\": null}, {\"dates\": \"2022-05-29T00:00:00\", \"preds\": 467.6085152477, \"lower\": 0.0, \"upper\": 986.0914632201, \"data\": null, \"model\": \"78\", \"adm_2\": 3304557.0, \"adm_1\": \"RJ\", \"adm_0\": \"BR\", \"legend\": null}, {\"dates\": \"2022-06-05T00:00:00\", \"preds\": 516.6090817675, \"lower\": 0.0, \"upper\": 1275.2489616744, \"data\": null, \"model\": \"78\", \"adm_2\": 3304557.0, \"adm_1\": \"RJ\", \"adm_0\": \"BR\", \"legend\": null}, {\"dates\": \"2022-06-12T00:00:00\", \"preds\": 232.2601490021, \"lower\": 0.0, \"upper\": 979.1794984825, \"data\": null, \"model\": \"78\", \"adm_2\": 3304557.0, \"adm_1\": \"RJ\", \"adm_0\": \"BR\", \"legend\": null}, {\"dates\": \"2022-06-19T00:00:00\", \"preds\": 181.6569838598, \"lower\": 0.0, \"upper\": 778.3422996413, \"data\": null, \"model\": \"78\", \"adm_2\": 3304557.0, \"adm_1\": \"RJ\", \"adm_0\": \"BR\", \"legend\": null}, {\"dates\": \"2022-06-26T00:00:00\", \"preds\": 184.1268508434, \"lower\": 0.0, \"upper\": 727.901391514, \"data\": null, \"model\": \"78\", \"adm_2\": 3304557.0, \"adm_1\": \"RJ\", \"adm_0\": \"BR\", \"legend\": null}, {\"dates\": \"2022-07-03T00:00:00\", \"preds\": 0.0, \"lower\": 0.0, \"upper\": 543.2598108575, \"data\": null, \"model\": \"78\", \"adm_2\": 3304557.0, \"adm_1\": \"RJ\", \"adm_0\": \"BR\", \"legend\": null}, {\"dates\": \"2022-07-10T00:00:00\", \"preds\": 0.0, \"lower\": 0.0, \"upper\": 524.3061247721, \"data\": null, \"model\": \"78\", \"adm_2\": 3304557.0, \"adm_1\": \"RJ\", \"adm_0\": \"BR\", \"legend\": null}, {\"dates\": \"2022-07-17T00:00:00\", \"preds\": 2.3415177315, \"lower\": 0.0, \"upper\": 547.6995292876, \"data\": null, \"model\": \"78\", \"adm_2\": 3304557.0, \"adm_1\": \"RJ\", \"adm_0\": \"BR\", \"legend\": null}, {\"dates\": \"2022-07-24T00:00:00\", \"preds\": 0.0, \"lower\": 0.0, \"upper\": 495.5266253971, \"data\": null, \"model\": \"78\", \"adm_2\": 3304557.0, \"adm_1\": \"RJ\", \"adm_0\": \"BR\", \"legend\": null}, {\"dates\": \"2022-07-31T00:00:00\", \"preds\": 31.849106662, \"lower\": 0.0, \"upper\": 546.9803666487, \"data\": null, \"model\": \"78\", \"adm_2\": 3304557.0, \"adm_1\": \"RJ\", \"adm_0\": \"BR\", \"legend\": null}, {\"dates\": \"2022-08-07T00:00:00\", \"preds\": 0.0, \"lower\": 0.0, \"upper\": 422.5016527284, \"data\": null, \"model\": \"78\", \"adm_2\": 3304557.0, \"adm_1\": \"RJ\", \"adm_0\": \"BR\", \"legend\": null}, {\"dates\": \"2022-08-14T00:00:00\", \"preds\": 0.0, \"lower\": 0.0, \"upper\": 608.2965644222, \"data\": null, \"model\": \"78\", \"adm_2\": 3304557.0, \"adm_1\": \"RJ\", \"adm_0\": \"BR\", \"legend\": null}, {\"dates\": \"2022-08-21T00:00:00\", \"preds\": 0.0, \"lower\": 0.0, \"upper\": 473.5215611801, \"data\": null, \"model\": \"78\", \"adm_2\": 3304557.0, \"adm_1\": \"RJ\", \"adm_0\": \"BR\", \"legend\": null}, {\"dates\": \"2022-08-28T00:00:00\", \"preds\": 0.0, \"lower\": 0.0, \"upper\": 418.905976513, \"data\": null, \"model\": \"78\", \"adm_2\": 3304557.0, \"adm_1\": \"RJ\", \"adm_0\": \"BR\", \"legend\": null}, {\"dates\": \"2022-09-04T00:00:00\", \"preds\": 0.0, \"lower\": 0.0, \"upper\": 535.4288134232, \"data\": null, \"model\": \"78\", \"adm_2\": 3304557.0, \"adm_1\": \"RJ\", \"adm_0\": \"BR\", \"legend\": null}, {\"dates\": \"2022-09-11T00:00:00\", \"preds\": 0.0, \"lower\": 0.0, \"upper\": 470.2948555045, \"data\": null, \"model\": \"78\", \"adm_2\": 3304557.0, \"adm_1\": \"RJ\", \"adm_0\": \"BR\", \"legend\": null}, {\"dates\": \"2022-09-18T00:00:00\", \"preds\": 0.0, \"lower\": 0.0, \"upper\": 517.7222615425, \"data\": null, \"model\": \"78\", \"adm_2\": 3304557.0, \"adm_1\": \"RJ\", \"adm_0\": \"BR\", \"legend\": null}, {\"dates\": \"2022-09-25T00:00:00\", \"preds\": 0.0, \"lower\": 0.0, \"upper\": 324.7571195681, \"data\": null, \"model\": \"78\", \"adm_2\": 3304557.0, \"adm_1\": \"RJ\", \"adm_0\": \"BR\", \"legend\": null}, {\"dates\": \"2022-10-02T00:00:00\", \"preds\": 0.0, \"lower\": 0.0, \"upper\": 487.8994649302, \"data\": null, \"model\": \"78\", \"adm_2\": 3304557.0, \"adm_1\": \"RJ\", \"adm_0\": \"BR\", \"legend\": null}, {\"dates\": \"2022-10-09T00:00:00\", \"preds\": 0.0, \"lower\": 0.0, \"upper\": 624.6994303495, \"data\": null, \"model\": \"78\", \"adm_2\": 3304557.0, \"adm_1\": \"RJ\", \"adm_0\": \"BR\", \"legend\": null}, {\"dates\": \"2022-10-16T00:00:00\", \"preds\": 0.0, \"lower\": 0.0, \"upper\": 529.9182512943, \"data\": null, \"model\": \"78\", \"adm_2\": 3304557.0, \"adm_1\": \"RJ\", \"adm_0\": \"BR\", \"legend\": null}, {\"dates\": \"2022-10-23T00:00:00\", \"preds\": 0.0, \"lower\": 0.0, \"upper\": 413.525811471, \"data\": null, \"model\": \"78\", \"adm_2\": 3304557.0, \"adm_1\": \"RJ\", \"adm_0\": \"BR\", \"legend\": null}, {\"dates\": \"2022-10-30T00:00:00\", \"preds\": 0.0, \"lower\": 0.0, \"upper\": 506.2727781624, \"data\": null, \"model\": \"78\", \"adm_2\": 3304557.0, \"adm_1\": \"RJ\", \"adm_0\": \"BR\", \"legend\": null}, {\"dates\": \"2022-11-06T00:00:00\", \"preds\": 0.0, \"lower\": 0.0, \"upper\": 572.083177733, \"data\": null, \"model\": \"78\", \"adm_2\": 3304557.0, \"adm_1\": \"RJ\", \"adm_0\": \"BR\", \"legend\": null}, {\"dates\": \"2022-11-13T00:00:00\", \"preds\": 0.0, \"lower\": 0.0, \"upper\": 403.3595069297, \"data\": null, \"model\": \"78\", \"adm_2\": 3304557.0, \"adm_1\": \"RJ\", \"adm_0\": \"BR\", \"legend\": null}, {\"dates\": \"2022-11-20T00:00:00\", \"preds\": 0.0, \"lower\": 0.0, \"upper\": 543.9534488436, \"data\": null, \"model\": \"78\", \"adm_2\": 3304557.0, \"adm_1\": \"RJ\", \"adm_0\": \"BR\", \"legend\": null}, {\"dates\": \"2022-11-27T00:00:00\", \"preds\": 0.0, \"lower\": 0.0, \"upper\": 524.0068367809, \"data\": null, \"model\": \"78\", \"adm_2\": 3304557.0, \"adm_1\": \"RJ\", \"adm_0\": \"BR\", \"legend\": null}, {\"dates\": \"2022-12-04T00:00:00\", \"preds\": 0.0, \"lower\": 0.0, \"upper\": 418.8527026698, \"data\": null, \"model\": \"78\", \"adm_2\": 3304557.0, \"adm_1\": \"RJ\", \"adm_0\": \"BR\", \"legend\": null}, {\"dates\": \"2022-12-11T00:00:00\", \"preds\": 0.0, \"lower\": 0.0, \"upper\": 498.8123991244, \"data\": null, \"model\": \"78\", \"adm_2\": 3304557.0, \"adm_1\": \"RJ\", \"adm_0\": \"BR\", \"legend\": null}, {\"dates\": \"2022-12-18T00:00:00\", \"preds\": 7.7453362942, \"lower\": 0.0, \"upper\": 619.0887393665, \"data\": null, \"model\": \"78\", \"adm_2\": 3304557.0, \"adm_1\": \"RJ\", \"adm_0\": \"BR\", \"legend\": null}, {\"dates\": \"2022-12-25T00:00:00\", \"preds\": 70.0851570219, \"lower\": 0.0, \"upper\": 507.5521873411, \"data\": null, \"model\": \"78\", \"adm_2\": 3304557.0, \"adm_1\": \"RJ\", \"adm_0\": \"BR\", \"legend\": null}, {\"dates\": \"2023-01-01T00:00:00\", \"preds\": 28.9193740338, \"lower\": 0.0, \"upper\": 602.8117241956, \"data\": null, \"model\": \"78\", \"adm_2\": 3304557.0, \"adm_1\": \"RJ\", \"adm_0\": \"BR\", \"legend\": null}, {\"dates\": \"2023-01-08T00:00:00\", \"preds\": 107.5751379728, \"lower\": 0.0, \"upper\": 566.5245524392, \"data\": null, \"model\": \"78\", \"adm_2\": 3304557.0, \"adm_1\": \"RJ\", \"adm_0\": \"BR\", \"legend\": null}, {\"dates\": \"2023-01-15T00:00:00\", \"preds\": 136.0464265496, \"lower\": 0.0, \"upper\": 654.7008858331, \"data\": null, \"model\": \"78\", \"adm_2\": 3304557.0, \"adm_1\": \"RJ\", \"adm_0\": \"BR\", \"legend\": null}, {\"dates\": \"2023-01-22T00:00:00\", \"preds\": 157.6281409636, \"lower\": 0.0, \"upper\": 703.7455855925, \"data\": null, \"model\": \"78\", \"adm_2\": 3304557.0, \"adm_1\": \"RJ\", \"adm_0\": \"BR\", \"legend\": null}, {\"dates\": \"2023-01-29T00:00:00\", \"preds\": 370.7788259685, \"lower\": 0.0, \"upper\": 879.478636435, \"data\": null, \"model\": \"78\", \"adm_2\": 3304557.0, \"adm_1\": \"RJ\", \"adm_0\": \"BR\", \"legend\": null}, {\"dates\": \"2023-02-05T00:00:00\", \"preds\": 200.67998676, \"lower\": 0.0, \"upper\": 720.2818470754, \"data\": null, \"model\": \"78\", \"adm_2\": 3304557.0, \"adm_1\": \"RJ\", \"adm_0\": \"BR\", \"legend\": null}, {\"dates\": \"2023-02-12T00:00:00\", \"preds\": 270.5449912548, \"lower\": 0.0, \"upper\": 766.0707564242, \"data\": null, \"model\": \"78\", \"adm_2\": 3304557.0, \"adm_1\": \"RJ\", \"adm_0\": \"BR\", \"legend\": null}, {\"dates\": \"2023-02-19T00:00:00\", \"preds\": 365.9762626961, \"lower\": 0.0, \"upper\": 984.143485938, \"data\": null, \"model\": \"78\", \"adm_2\": 3304557.0, \"adm_1\": \"RJ\", \"adm_0\": \"BR\", \"legend\": null}, {\"dates\": \"2023-02-26T00:00:00\", \"preds\": 434.2454627231, \"lower\": 0.0, \"upper\": 1035.7856581375, \"data\": null, \"model\": \"78\", \"adm_2\": 3304557.0, \"adm_1\": \"RJ\", \"adm_0\": \"BR\", \"legend\": null}, {\"dates\": \"2023-03-05T00:00:00\", \"preds\": 593.1198927313, \"lower\": 0.0, \"upper\": 1340.4223010339, \"data\": null, \"model\": \"78\", \"adm_2\": 3304557.0, \"adm_1\": \"RJ\", \"adm_0\": \"BR\", \"legend\": null}, {\"dates\": \"2023-03-12T00:00:00\", \"preds\": 486.762278229, \"lower\": 13.1828434534, \"upper\": 1258.1380503178, \"data\": null, \"model\": \"78\", \"adm_2\": 3304557.0, \"adm_1\": \"RJ\", \"adm_0\": \"BR\", \"legend\": null}, {\"dates\": \"2023-03-19T00:00:00\", \"preds\": 534.409355998, \"lower\": 0.0, \"upper\": 1161.3790531218, \"data\": null, \"model\": \"78\", \"adm_2\": 3304557.0, \"adm_1\": \"RJ\", \"adm_0\": \"BR\", \"legend\": null}, {\"dates\": \"2023-03-26T00:00:00\", \"preds\": 555.0313138813, \"lower\": 0.0, \"upper\": 1138.9978529975, \"data\": null, \"model\": \"78\", \"adm_2\": 3304557.0, \"adm_1\": \"RJ\", \"adm_0\": \"BR\", \"legend\": null}, {\"dates\": \"2023-04-02T00:00:00\", \"preds\": 540.6022553518, \"lower\": 0.0, \"upper\": 1290.8390316494, \"data\": null, \"model\": \"78\", \"adm_2\": 3304557.0, \"adm_1\": \"RJ\", \"adm_0\": \"BR\", \"legend\": null}, {\"dates\": \"2023-04-09T00:00:00\", \"preds\": 670.57262557, \"lower\": 63.0884215072, \"upper\": 1603.4207726844, \"data\": null, \"model\": \"78\", \"adm_2\": 3304557.0, \"adm_1\": \"RJ\", \"adm_0\": \"BR\", \"legend\": null}, {\"dates\": \"2023-04-16T00:00:00\", \"preds\": 823.2300753295, \"lower\": 5.3920096096, \"upper\": 1619.1121769279, \"data\": null, \"model\": \"78\", \"adm_2\": 3304557.0, \"adm_1\": \"RJ\", \"adm_0\": \"BR\", \"legend\": null}, {\"dates\": \"2023-04-23T00:00:00\", \"preds\": 821.3328076452, \"lower\": 0.0, \"upper\": 1657.2413398936, \"data\": null, \"model\": \"78\", \"adm_2\": 3304557.0, \"adm_1\": \"RJ\", \"adm_0\": \"BR\", \"legend\": null}, {\"dates\": \"2023-04-30T00:00:00\", \"preds\": 736.0327714011, \"lower\": 186.1478255641, \"upper\": 1522.9282282144, \"data\": null, \"model\": \"78\", \"adm_2\": 3304557.0, \"adm_1\": \"RJ\", \"adm_0\": \"BR\", \"legend\": null}, {\"dates\": \"2023-05-07T00:00:00\", \"preds\": 760.3757069707, \"lower\": 31.6744434658, \"upper\": 1601.576000803, \"data\": null, \"model\": \"78\", \"adm_2\": 3304557.0, \"adm_1\": \"RJ\", \"adm_0\": \"BR\", \"legend\": null}, {\"dates\": \"2023-05-14T00:00:00\", \"preds\": 593.9493001178, \"lower\": 0.0, \"upper\": 1293.7130412512, \"data\": null, \"model\": \"78\", \"adm_2\": 3304557.0, \"adm_1\": \"RJ\", \"adm_0\": \"BR\", \"legend\": null}, {\"dates\": \"2023-05-21T00:00:00\", \"preds\": 341.6071367562, \"lower\": 0.0, \"upper\": 890.2078188814, \"data\": null, \"model\": \"78\", \"adm_2\": 3304557.0, \"adm_1\": \"RJ\", \"adm_0\": \"BR\", \"legend\": null}, {\"dates\": \"2023-05-28T00:00:00\", \"preds\": 766.1951469854, \"lower\": 41.8829060107, \"upper\": 1633.4175681449, \"data\": null, \"model\": \"78\", \"adm_2\": 3304557.0, \"adm_1\": \"RJ\", \"adm_0\": \"BR\", \"legend\": null}, {\"dates\": \"2023-06-04T00:00:00\", \"preds\": 922.2149910033, \"lower\": 172.700637443, \"upper\": 1701.7459047131, \"data\": null, \"model\": \"78\", \"adm_2\": 3304557.0, \"adm_1\": \"RJ\", \"adm_0\": \"BR\", \"legend\": null}, {\"dates\": \"2023-06-11T00:00:00\", \"preds\": 693.3638638854, \"lower\": 56.4668219537, \"upper\": 1421.3332394093, \"data\": null, \"model\": \"78\", \"adm_2\": 3304557.0, \"adm_1\": \"RJ\", \"adm_0\": \"BR\", \"legend\": null}, {\"dates\": \"2023-06-18T00:00:00\", \"preds\": 736.0198131949, \"lower\": 81.1291923746, \"upper\": 1725.0092463702, \"data\": null, \"model\": \"78\", \"adm_2\": 3304557.0, \"adm_1\": \"RJ\", \"adm_0\": \"BR\", \"legend\": null}, {\"dates\": \"2023-06-25T00:00:00\", \"preds\": 431.9475864768, \"lower\": 0.0, \"upper\": 1022.6256792061, \"data\": null, \"model\": \"78\", \"adm_2\": 3304557.0, \"adm_1\": \"RJ\", \"adm_0\": \"BR\", \"legend\": null}, {\"dates\": \"2022-01-02T00:00:00\", \"preds\": 21.0, \"lower\": null, \"upper\": null, \"data\": null, \"model\": \"cases\", \"adm_2\": null, \"adm_1\": null, \"adm_0\": null, \"legend\": \"Data\"}, {\"dates\": \"2022-01-09T00:00:00\", \"preds\": 14.0, \"lower\": null, \"upper\": null, \"data\": null, \"model\": \"cases\", \"adm_2\": null, \"adm_1\": null, \"adm_0\": null, \"legend\": \"Data\"}, {\"dates\": \"2022-01-16T00:00:00\", \"preds\": 22.0, \"lower\": null, \"upper\": null, \"data\": null, \"model\": \"cases\", \"adm_2\": null, \"adm_1\": null, \"adm_0\": null, \"legend\": \"Data\"}, {\"dates\": \"2022-01-23T00:00:00\", \"preds\": 19.0, \"lower\": null, \"upper\": null, \"data\": null, \"model\": \"cases\", \"adm_2\": null, \"adm_1\": null, \"adm_0\": null, \"legend\": \"Data\"}, {\"dates\": \"2022-01-30T00:00:00\", \"preds\": 31.0, \"lower\": null, \"upper\": null, \"data\": null, \"model\": \"cases\", \"adm_2\": null, \"adm_1\": null, \"adm_0\": null, \"legend\": \"Data\"}, {\"dates\": \"2022-02-06T00:00:00\", \"preds\": 35.0, \"lower\": null, \"upper\": null, \"data\": null, \"model\": \"cases\", \"adm_2\": null, \"adm_1\": null, \"adm_0\": null, \"legend\": \"Data\"}, {\"dates\": \"2022-02-13T00:00:00\", \"preds\": 47.0, \"lower\": null, \"upper\": null, \"data\": null, \"model\": \"cases\", \"adm_2\": null, \"adm_1\": null, \"adm_0\": null, \"legend\": \"Data\"}, {\"dates\": \"2022-02-20T00:00:00\", \"preds\": 62.0, \"lower\": null, \"upper\": null, \"data\": null, \"model\": \"cases\", \"adm_2\": null, \"adm_1\": null, \"adm_0\": null, \"legend\": \"Data\"}, {\"dates\": \"2022-02-27T00:00:00\", \"preds\": 66.0, \"lower\": null, \"upper\": null, \"data\": null, \"model\": \"cases\", \"adm_2\": null, \"adm_1\": null, \"adm_0\": null, \"legend\": \"Data\"}, {\"dates\": \"2022-03-06T00:00:00\", \"preds\": 116.0, \"lower\": null, \"upper\": null, \"data\": null, \"model\": \"cases\", \"adm_2\": null, \"adm_1\": null, \"adm_0\": null, \"legend\": \"Data\"}, {\"dates\": \"2022-03-13T00:00:00\", \"preds\": 126.0, \"lower\": null, \"upper\": null, \"data\": null, \"model\": \"cases\", \"adm_2\": null, \"adm_1\": null, \"adm_0\": null, \"legend\": \"Data\"}, {\"dates\": \"2022-03-20T00:00:00\", \"preds\": 177.0, \"lower\": null, \"upper\": null, \"data\": null, \"model\": \"cases\", \"adm_2\": null, \"adm_1\": null, \"adm_0\": null, \"legend\": \"Data\"}, {\"dates\": \"2022-03-27T00:00:00\", \"preds\": 153.0, \"lower\": null, \"upper\": null, \"data\": null, \"model\": \"cases\", \"adm_2\": null, \"adm_1\": null, \"adm_0\": null, \"legend\": \"Data\"}, {\"dates\": \"2022-04-03T00:00:00\", \"preds\": 222.0, \"lower\": null, \"upper\": null, \"data\": null, \"model\": \"cases\", \"adm_2\": null, \"adm_1\": null, \"adm_0\": null, \"legend\": \"Data\"}, {\"dates\": \"2022-04-10T00:00:00\", \"preds\": 201.0, \"lower\": null, \"upper\": null, \"data\": null, \"model\": \"cases\", \"adm_2\": null, \"adm_1\": null, \"adm_0\": null, \"legend\": \"Data\"}, {\"dates\": \"2022-04-17T00:00:00\", \"preds\": 234.0, \"lower\": null, \"upper\": null, \"data\": null, \"model\": \"cases\", \"adm_2\": null, \"adm_1\": null, \"adm_0\": null, \"legend\": \"Data\"}, {\"dates\": \"2022-04-24T00:00:00\", \"preds\": 342.0, \"lower\": null, \"upper\": null, \"data\": null, \"model\": \"cases\", \"adm_2\": null, \"adm_1\": null, \"adm_0\": null, \"legend\": \"Data\"}, {\"dates\": \"2022-05-01T00:00:00\", \"preds\": 461.0, \"lower\": null, \"upper\": null, \"data\": null, \"model\": \"cases\", \"adm_2\": null, \"adm_1\": null, \"adm_0\": null, \"legend\": \"Data\"}, {\"dates\": \"2022-05-08T00:00:00\", \"preds\": 505.0, \"lower\": null, \"upper\": null, \"data\": null, \"model\": \"cases\", \"adm_2\": null, \"adm_1\": null, \"adm_0\": null, \"legend\": \"Data\"}, {\"dates\": \"2022-05-15T00:00:00\", \"preds\": 406.0, \"lower\": null, \"upper\": null, \"data\": null, \"model\": \"cases\", \"adm_2\": null, \"adm_1\": null, \"adm_0\": null, \"legend\": \"Data\"}, {\"dates\": \"2022-05-22T00:00:00\", \"preds\": 400.0, \"lower\": null, \"upper\": null, \"data\": null, \"model\": \"cases\", \"adm_2\": null, \"adm_1\": null, \"adm_0\": null, \"legend\": \"Data\"}, {\"dates\": \"2022-05-29T00:00:00\", \"preds\": 338.0, \"lower\": null, \"upper\": null, \"data\": null, \"model\": \"cases\", \"adm_2\": null, \"adm_1\": null, \"adm_0\": null, \"legend\": \"Data\"}, {\"dates\": \"2022-06-05T00:00:00\", \"preds\": 255.0, \"lower\": null, \"upper\": null, \"data\": null, \"model\": \"cases\", \"adm_2\": null, \"adm_1\": null, \"adm_0\": null, \"legend\": \"Data\"}, {\"dates\": \"2022-06-12T00:00:00\", \"preds\": 153.0, \"lower\": null, \"upper\": null, \"data\": null, \"model\": \"cases\", \"adm_2\": null, \"adm_1\": null, \"adm_0\": null, \"legend\": \"Data\"}, {\"dates\": \"2022-06-19T00:00:00\", \"preds\": 209.0, \"lower\": null, \"upper\": null, \"data\": null, \"model\": \"cases\", \"adm_2\": null, \"adm_1\": null, \"adm_0\": null, \"legend\": \"Data\"}, {\"dates\": \"2022-06-26T00:00:00\", \"preds\": 189.0, \"lower\": null, \"upper\": null, \"data\": null, \"model\": \"cases\", \"adm_2\": null, \"adm_1\": null, \"adm_0\": null, \"legend\": \"Data\"}, {\"dates\": \"2022-07-03T00:00:00\", \"preds\": 155.0, \"lower\": null, \"upper\": null, \"data\": null, \"model\": \"cases\", \"adm_2\": null, \"adm_1\": null, \"adm_0\": null, \"legend\": \"Data\"}, {\"dates\": \"2022-07-10T00:00:00\", \"preds\": 144.0, \"lower\": null, \"upper\": null, \"data\": null, \"model\": \"cases\", \"adm_2\": null, \"adm_1\": null, \"adm_0\": null, \"legend\": \"Data\"}, {\"dates\": \"2022-07-17T00:00:00\", \"preds\": 194.0, \"lower\": null, \"upper\": null, \"data\": null, \"model\": \"cases\", \"adm_2\": null, \"adm_1\": null, \"adm_0\": null, \"legend\": \"Data\"}, {\"dates\": \"2022-07-24T00:00:00\", \"preds\": 148.0, \"lower\": null, \"upper\": null, \"data\": null, \"model\": \"cases\", \"adm_2\": null, \"adm_1\": null, \"adm_0\": null, \"legend\": \"Data\"}, {\"dates\": \"2022-07-31T00:00:00\", \"preds\": 145.0, \"lower\": null, \"upper\": null, \"data\": null, \"model\": \"cases\", \"adm_2\": null, \"adm_1\": null, \"adm_0\": null, \"legend\": \"Data\"}, {\"dates\": \"2022-08-07T00:00:00\", \"preds\": 106.0, \"lower\": null, \"upper\": null, \"data\": null, \"model\": \"cases\", \"adm_2\": null, \"adm_1\": null, \"adm_0\": null, \"legend\": \"Data\"}, {\"dates\": \"2022-08-14T00:00:00\", \"preds\": 110.0, \"lower\": null, \"upper\": null, \"data\": null, \"model\": \"cases\", \"adm_2\": null, \"adm_1\": null, \"adm_0\": null, \"legend\": \"Data\"}, {\"dates\": \"2022-08-21T00:00:00\", \"preds\": 99.0, \"lower\": null, \"upper\": null, \"data\": null, \"model\": \"cases\", \"adm_2\": null, \"adm_1\": null, \"adm_0\": null, \"legend\": \"Data\"}, {\"dates\": \"2022-08-28T00:00:00\", \"preds\": 94.0, \"lower\": null, \"upper\": null, \"data\": null, \"model\": \"cases\", \"adm_2\": null, \"adm_1\": null, \"adm_0\": null, \"legend\": \"Data\"}, {\"dates\": \"2022-09-04T00:00:00\", \"preds\": 101.0, \"lower\": null, \"upper\": null, \"data\": null, \"model\": \"cases\", \"adm_2\": null, \"adm_1\": null, \"adm_0\": null, \"legend\": \"Data\"}, {\"dates\": \"2022-09-11T00:00:00\", \"preds\": 120.0, \"lower\": null, \"upper\": null, \"data\": null, \"model\": \"cases\", \"adm_2\": null, \"adm_1\": null, \"adm_0\": null, \"legend\": \"Data\"}, {\"dates\": \"2022-09-18T00:00:00\", \"preds\": 102.0, \"lower\": null, \"upper\": null, \"data\": null, \"model\": \"cases\", \"adm_2\": null, \"adm_1\": null, \"adm_0\": null, \"legend\": \"Data\"}, {\"dates\": \"2022-09-25T00:00:00\", \"preds\": 95.0, \"lower\": null, \"upper\": null, \"data\": null, \"model\": \"cases\", \"adm_2\": null, \"adm_1\": null, \"adm_0\": null, \"legend\": \"Data\"}, {\"dates\": \"2022-10-02T00:00:00\", \"preds\": 102.0, \"lower\": null, \"upper\": null, \"data\": null, \"model\": \"cases\", \"adm_2\": null, \"adm_1\": null, \"adm_0\": null, \"legend\": \"Data\"}, {\"dates\": \"2022-10-09T00:00:00\", \"preds\": 123.0, \"lower\": null, \"upper\": null, \"data\": null, \"model\": \"cases\", \"adm_2\": null, \"adm_1\": null, \"adm_0\": null, \"legend\": \"Data\"}, {\"dates\": \"2022-10-16T00:00:00\", \"preds\": 160.0, \"lower\": null, \"upper\": null, \"data\": null, \"model\": \"cases\", \"adm_2\": null, \"adm_1\": null, \"adm_0\": null, \"legend\": \"Data\"}, {\"dates\": \"2022-10-23T00:00:00\", \"preds\": 139.0, \"lower\": null, \"upper\": null, \"data\": null, \"model\": \"cases\", \"adm_2\": null, \"adm_1\": null, \"adm_0\": null, \"legend\": \"Data\"}, {\"dates\": \"2022-10-30T00:00:00\", \"preds\": 131.0, \"lower\": null, \"upper\": null, \"data\": null, \"model\": \"cases\", \"adm_2\": null, \"adm_1\": null, \"adm_0\": null, \"legend\": \"Data\"}, {\"dates\": \"2022-11-06T00:00:00\", \"preds\": 171.0, \"lower\": null, \"upper\": null, \"data\": null, \"model\": \"cases\", \"adm_2\": null, \"adm_1\": null, \"adm_0\": null, \"legend\": \"Data\"}, {\"dates\": \"2022-11-13T00:00:00\", \"preds\": 129.0, \"lower\": null, \"upper\": null, \"data\": null, \"model\": \"cases\", \"adm_2\": null, \"adm_1\": null, \"adm_0\": null, \"legend\": \"Data\"}, {\"dates\": \"2022-11-20T00:00:00\", \"preds\": 94.0, \"lower\": null, \"upper\": null, \"data\": null, \"model\": \"cases\", \"adm_2\": null, \"adm_1\": null, \"adm_0\": null, \"legend\": \"Data\"}, {\"dates\": \"2022-11-27T00:00:00\", \"preds\": 86.0, \"lower\": null, \"upper\": null, \"data\": null, \"model\": \"cases\", \"adm_2\": null, \"adm_1\": null, \"adm_0\": null, \"legend\": \"Data\"}, {\"dates\": \"2022-12-04T00:00:00\", \"preds\": 98.0, \"lower\": null, \"upper\": null, \"data\": null, \"model\": \"cases\", \"adm_2\": null, \"adm_1\": null, \"adm_0\": null, \"legend\": \"Data\"}, {\"dates\": \"2022-12-11T00:00:00\", \"preds\": 123.0, \"lower\": null, \"upper\": null, \"data\": null, \"model\": \"cases\", \"adm_2\": null, \"adm_1\": null, \"adm_0\": null, \"legend\": \"Data\"}, {\"dates\": \"2022-12-18T00:00:00\", \"preds\": 117.0, \"lower\": null, \"upper\": null, \"data\": null, \"model\": \"cases\", \"adm_2\": null, \"adm_1\": null, \"adm_0\": null, \"legend\": \"Data\"}, {\"dates\": \"2022-12-25T00:00:00\", \"preds\": 163.0, \"lower\": null, \"upper\": null, \"data\": null, \"model\": \"cases\", \"adm_2\": null, \"adm_1\": null, \"adm_0\": null, \"legend\": \"Data\"}, {\"dates\": \"2023-01-01T00:00:00\", \"preds\": 230.0, \"lower\": null, \"upper\": null, \"data\": null, \"model\": \"cases\", \"adm_2\": null, \"adm_1\": null, \"adm_0\": null, \"legend\": \"Data\"}, {\"dates\": \"2023-01-08T00:00:00\", \"preds\": 218.0, \"lower\": null, \"upper\": null, \"data\": null, \"model\": \"cases\", \"adm_2\": null, \"adm_1\": null, \"adm_0\": null, \"legend\": \"Data\"}, {\"dates\": \"2023-01-15T00:00:00\", \"preds\": 246.0, \"lower\": null, \"upper\": null, \"data\": null, \"model\": \"cases\", \"adm_2\": null, \"adm_1\": null, \"adm_0\": null, \"legend\": \"Data\"}, {\"dates\": \"2023-01-22T00:00:00\", \"preds\": 312.0, \"lower\": null, \"upper\": null, \"data\": null, \"model\": \"cases\", \"adm_2\": null, \"adm_1\": null, \"adm_0\": null, \"legend\": \"Data\"}, {\"dates\": \"2023-01-29T00:00:00\", \"preds\": 383.0, \"lower\": null, \"upper\": null, \"data\": null, \"model\": \"cases\", \"adm_2\": null, \"adm_1\": null, \"adm_0\": null, \"legend\": \"Data\"}, {\"dates\": \"2023-02-05T00:00:00\", \"preds\": 525.0, \"lower\": null, \"upper\": null, \"data\": null, \"model\": \"cases\", \"adm_2\": null, \"adm_1\": null, \"adm_0\": null, \"legend\": \"Data\"}, {\"dates\": \"2023-02-12T00:00:00\", \"preds\": 372.0, \"lower\": null, \"upper\": null, \"data\": null, \"model\": \"cases\", \"adm_2\": null, \"adm_1\": null, \"adm_0\": null, \"legend\": \"Data\"}, {\"dates\": \"2023-02-19T00:00:00\", \"preds\": 507.0, \"lower\": null, \"upper\": null, \"data\": null, \"model\": \"cases\", \"adm_2\": null, \"adm_1\": null, \"adm_0\": null, \"legend\": \"Data\"}, {\"dates\": \"2023-02-26T00:00:00\", \"preds\": 870.0, \"lower\": null, \"upper\": null, \"data\": null, \"model\": \"cases\", \"adm_2\": null, \"adm_1\": null, \"adm_0\": null, \"legend\": \"Data\"}, {\"dates\": \"2023-03-05T00:00:00\", \"preds\": 945.0, \"lower\": null, \"upper\": null, \"data\": null, \"model\": \"cases\", \"adm_2\": null, \"adm_1\": null, \"adm_0\": null, \"legend\": \"Data\"}, {\"dates\": \"2023-03-12T00:00:00\", \"preds\": 1125.0, \"lower\": null, \"upper\": null, \"data\": null, \"model\": \"cases\", \"adm_2\": null, \"adm_1\": null, \"adm_0\": null, \"legend\": \"Data\"}, {\"dates\": \"2023-03-19T00:00:00\", \"preds\": 1382.0, \"lower\": null, \"upper\": null, \"data\": null, \"model\": \"cases\", \"adm_2\": null, \"adm_1\": null, \"adm_0\": null, \"legend\": \"Data\"}, {\"dates\": \"2023-03-26T00:00:00\", \"preds\": 1580.0, \"lower\": null, \"upper\": null, \"data\": null, \"model\": \"cases\", \"adm_2\": null, \"adm_1\": null, \"adm_0\": null, \"legend\": \"Data\"}, {\"dates\": \"2023-04-02T00:00:00\", \"preds\": 1420.0, \"lower\": null, \"upper\": null, \"data\": null, \"model\": \"cases\", \"adm_2\": null, \"adm_1\": null, \"adm_0\": null, \"legend\": \"Data\"}, {\"dates\": \"2023-04-09T00:00:00\", \"preds\": 1783.0, \"lower\": null, \"upper\": null, \"data\": null, \"model\": \"cases\", \"adm_2\": null, \"adm_1\": null, \"adm_0\": null, \"legend\": \"Data\"}, {\"dates\": \"2023-04-16T00:00:00\", \"preds\": 1502.0, \"lower\": null, \"upper\": null, \"data\": null, \"model\": \"cases\", \"adm_2\": null, \"adm_1\": null, \"adm_0\": null, \"legend\": \"Data\"}, {\"dates\": \"2023-04-23T00:00:00\", \"preds\": 1572.0, \"lower\": null, \"upper\": null, \"data\": null, \"model\": \"cases\", \"adm_2\": null, \"adm_1\": null, \"adm_0\": null, \"legend\": \"Data\"}, {\"dates\": \"2023-04-30T00:00:00\", \"preds\": 1919.0, \"lower\": null, \"upper\": null, \"data\": null, \"model\": \"cases\", \"adm_2\": null, \"adm_1\": null, \"adm_0\": null, \"legend\": \"Data\"}, {\"dates\": \"2023-05-07T00:00:00\", \"preds\": 1807.0, \"lower\": null, \"upper\": null, \"data\": null, \"model\": \"cases\", \"adm_2\": null, \"adm_1\": null, \"adm_0\": null, \"legend\": \"Data\"}, {\"dates\": \"2023-05-14T00:00:00\", \"preds\": 1731.0, \"lower\": null, \"upper\": null, \"data\": null, \"model\": \"cases\", \"adm_2\": null, \"adm_1\": null, \"adm_0\": null, \"legend\": \"Data\"}, {\"dates\": \"2023-05-21T00:00:00\", \"preds\": 1479.0, \"lower\": null, \"upper\": null, \"data\": null, \"model\": \"cases\", \"adm_2\": null, \"adm_1\": null, \"adm_0\": null, \"legend\": \"Data\"}, {\"dates\": \"2023-05-28T00:00:00\", \"preds\": 1328.0, \"lower\": null, \"upper\": null, \"data\": null, \"model\": \"cases\", \"adm_2\": null, \"adm_1\": null, \"adm_0\": null, \"legend\": \"Data\"}, {\"dates\": \"2023-06-04T00:00:00\", \"preds\": 1238.0, \"lower\": null, \"upper\": null, \"data\": null, \"model\": \"cases\", \"adm_2\": null, \"adm_1\": null, \"adm_0\": null, \"legend\": \"Data\"}, {\"dates\": \"2023-06-11T00:00:00\", \"preds\": 1348.0, \"lower\": null, \"upper\": null, \"data\": null, \"model\": \"cases\", \"adm_2\": null, \"adm_1\": null, \"adm_0\": null, \"legend\": \"Data\"}, {\"dates\": \"2023-06-18T00:00:00\", \"preds\": 1236.0, \"lower\": null, \"upper\": null, \"data\": null, \"model\": \"cases\", \"adm_2\": null, \"adm_1\": null, \"adm_0\": null, \"legend\": \"Data\"}, {\"dates\": \"2023-06-25T00:00:00\", \"preds\": 996.0, \"lower\": null, \"upper\": null, \"data\": null, \"model\": \"cases\", \"adm_2\": null, \"adm_1\": null, \"adm_0\": null, \"legend\": \"Data\"}]}}, {\"mode\": \"vega-lite\"});\n",
       "</script>"
      ],
      "text/plain": [
       "alt.LayerChart(...)"
      ]
     },
     "execution_count": 18,
     "metadata": {},
     "output_type": "execute_result"
    }
   ],
   "execution_count": 18
  },
  {
   "cell_type": "markdown",
   "id": "8224670a",
   "metadata": {},
   "source": []
  },
  {
   "cell_type": "markdown",
   "id": "80130240",
   "metadata": {},
   "source": [
    "The class will select the bigger range of dates that contains information about each prediction dataframe. If you want to see the model's performance in a lower range, use the method below. The new range of dates provided must be between `score.min_date` and `score.max_date`. Otherwise, it will return an error."
   ]
  },
  {
   "cell_type": "code",
   "id": "3360e7a4",
   "metadata": {
    "ExecuteTime": {
     "end_time": "2024-08-07T20:24:40.947777Z",
     "start_time": "2024-08-07T20:24:40.942996Z"
    }
   },
   "source": [
    "score.set_date_range(start_date = '2023-01-01', end_date='2023-06-01' )"
   ],
   "outputs": [],
   "execution_count": 19
  },
  {
   "cell_type": "markdown",
   "id": "007d8cae",
   "metadata": {},
   "source": [
    "In this case:"
   ]
  },
  {
   "cell_type": "code",
   "id": "1f5cb4ef",
   "metadata": {
    "ExecuteTime": {
     "end_time": "2024-08-07T20:24:42.447006Z",
     "start_time": "2024-08-07T20:24:42.441625Z"
    }
   },
   "source": [
    "score.summary"
   ],
   "outputs": [
    {
     "data": {
      "text/plain": [
       "              mae            mse        crps  log_score\n",
       "id                                                     \n",
       "preds  224.791447   91007.434989  264.889323  -7.430738\n",
       "77     204.412273   76788.430632  179.290006  -7.322140\n",
       "78     588.199306  506643.235469  457.150661  -9.203940"
      ],
      "text/html": [
       "<div>\n",
       "<style scoped>\n",
       "    .dataframe tbody tr th:only-of-type {\n",
       "        vertical-align: middle;\n",
       "    }\n",
       "\n",
       "    .dataframe tbody tr th {\n",
       "        vertical-align: top;\n",
       "    }\n",
       "\n",
       "    .dataframe thead th {\n",
       "        text-align: right;\n",
       "    }\n",
       "</style>\n",
       "<table border=\"1\" class=\"dataframe\">\n",
       "  <thead>\n",
       "    <tr style=\"text-align: right;\">\n",
       "      <th></th>\n",
       "      <th>mae</th>\n",
       "      <th>mse</th>\n",
       "      <th>crps</th>\n",
       "      <th>log_score</th>\n",
       "    </tr>\n",
       "    <tr>\n",
       "      <th>id</th>\n",
       "      <th></th>\n",
       "      <th></th>\n",
       "      <th></th>\n",
       "      <th></th>\n",
       "    </tr>\n",
       "  </thead>\n",
       "  <tbody>\n",
       "    <tr>\n",
       "      <th>preds</th>\n",
       "      <td>224.791447</td>\n",
       "      <td>91007.434989</td>\n",
       "      <td>264.889323</td>\n",
       "      <td>-7.430738</td>\n",
       "    </tr>\n",
       "    <tr>\n",
       "      <th>77</th>\n",
       "      <td>204.412273</td>\n",
       "      <td>76788.430632</td>\n",
       "      <td>179.290006</td>\n",
       "      <td>-7.322140</td>\n",
       "    </tr>\n",
       "    <tr>\n",
       "      <th>78</th>\n",
       "      <td>588.199306</td>\n",
       "      <td>506643.235469</td>\n",
       "      <td>457.150661</td>\n",
       "      <td>-9.203940</td>\n",
       "    </tr>\n",
       "  </tbody>\n",
       "</table>\n",
       "</div>"
      ]
     },
     "execution_count": 20,
     "metadata": {},
     "output_type": "execute_result"
    }
   ],
   "execution_count": 20
  },
  {
   "cell_type": "code",
   "id": "33838076",
   "metadata": {
    "ExecuteTime": {
     "end_time": "2024-08-07T20:24:43.989233Z",
     "start_time": "2024-08-07T20:24:43.948069Z"
    }
   },
   "source": [
    "score.plot_log_score()"
   ],
   "outputs": [
    {
     "data": {
      "text/html": [
       "\n",
       "<style>\n",
       "  #altair-viz-259e53e72d4340829a272d7ccd0f3201.vega-embed {\n",
       "    width: 100%;\n",
       "    display: flex;\n",
       "  }\n",
       "\n",
       "  #altair-viz-259e53e72d4340829a272d7ccd0f3201.vega-embed details,\n",
       "  #altair-viz-259e53e72d4340829a272d7ccd0f3201.vega-embed details summary {\n",
       "    position: relative;\n",
       "  }\n",
       "</style>\n",
       "<div id=\"altair-viz-259e53e72d4340829a272d7ccd0f3201\"></div>\n",
       "<script type=\"text/javascript\">\n",
       "  var VEGA_DEBUG = (typeof VEGA_DEBUG == \"undefined\") ? {} : VEGA_DEBUG;\n",
       "  (function(spec, embedOpt){\n",
       "    let outputDiv = document.currentScript.previousElementSibling;\n",
       "    if (outputDiv.id !== \"altair-viz-259e53e72d4340829a272d7ccd0f3201\") {\n",
       "      outputDiv = document.getElementById(\"altair-viz-259e53e72d4340829a272d7ccd0f3201\");\n",
       "    }\n",
       "    const paths = {\n",
       "      \"vega\": \"https://cdn.jsdelivr.net/npm/vega@5?noext\",\n",
       "      \"vega-lib\": \"https://cdn.jsdelivr.net/npm/vega-lib?noext\",\n",
       "      \"vega-lite\": \"https://cdn.jsdelivr.net/npm/vega-lite@5.17.0?noext\",\n",
       "      \"vega-embed\": \"https://cdn.jsdelivr.net/npm/vega-embed@6?noext\",\n",
       "    };\n",
       "\n",
       "    function maybeLoadScript(lib, version) {\n",
       "      var key = `${lib.replace(\"-\", \"\")}_version`;\n",
       "      return (VEGA_DEBUG[key] == version) ?\n",
       "        Promise.resolve(paths[lib]) :\n",
       "        new Promise(function(resolve, reject) {\n",
       "          var s = document.createElement('script');\n",
       "          document.getElementsByTagName(\"head\")[0].appendChild(s);\n",
       "          s.async = true;\n",
       "          s.onload = () => {\n",
       "            VEGA_DEBUG[key] = version;\n",
       "            return resolve(paths[lib]);\n",
       "          };\n",
       "          s.onerror = () => reject(`Error loading script: ${paths[lib]}`);\n",
       "          s.src = paths[lib];\n",
       "        });\n",
       "    }\n",
       "\n",
       "    function showError(err) {\n",
       "      outputDiv.innerHTML = `<div class=\"error\" style=\"color:red;\">${err}</div>`;\n",
       "      throw err;\n",
       "    }\n",
       "\n",
       "    function displayChart(vegaEmbed) {\n",
       "      vegaEmbed(outputDiv, spec, embedOpt)\n",
       "        .catch(err => showError(`Javascript Error: ${err.message}<br>This usually means there's a typo in your chart specification. See the javascript console for the full traceback.`));\n",
       "    }\n",
       "\n",
       "    if(typeof define === \"function\" && define.amd) {\n",
       "      requirejs.config({paths});\n",
       "      require([\"vega-embed\"], displayChart, err => showError(`Error loading script: ${err.message}`));\n",
       "    } else {\n",
       "      maybeLoadScript(\"vega\", \"5\")\n",
       "        .then(() => maybeLoadScript(\"vega-lite\", \"5.17.0\"))\n",
       "        .then(() => maybeLoadScript(\"vega-embed\", \"6\"))\n",
       "        .catch(showError)\n",
       "        .then(() => displayChart(vegaEmbed));\n",
       "    }\n",
       "  })({\"config\": {\"view\": {\"continuousWidth\": 300, \"continuousHeight\": 300}}, \"vconcat\": [{\"data\": {\"name\": \"data-1fff263b8dfc65f577a4f4b19354459e\"}, \"mark\": {\"type\": \"line\"}, \"encoding\": {\"color\": {\"value\": \"black\"}, \"x\": {\"field\": \"dates\", \"type\": \"temporal\"}, \"y\": {\"field\": \"casos\", \"type\": \"quantitative\"}}, \"height\": 150, \"title\": \"New cases\", \"width\": 400}, {\"layer\": [{\"mark\": {\"type\": \"point\", \"filled\": false}, \"encoding\": {\"color\": {\"field\": \"variable\", \"legend\": {\"legendX\": 100}, \"type\": \"nominal\"}, \"x\": {\"field\": \"dates\", \"type\": \"temporal\"}, \"y\": {\"field\": \"log_score\", \"type\": \"quantitative\"}}}, {\"mark\": {\"type\": \"point\"}, \"encoding\": {\"color\": {\"field\": \"variable\", \"legend\": {\"legendX\": 100}, \"type\": \"nominal\"}, \"opacity\": {\"condition\": {\"param\": \"param_4\", \"value\": 1, \"empty\": false}, \"value\": 0}, \"x\": {\"field\": \"dates\", \"type\": \"temporal\"}, \"y\": {\"field\": \"log_score\", \"type\": \"quantitative\"}}}, {\"mark\": {\"type\": \"rule\", \"color\": \"gray\"}, \"encoding\": {\"opacity\": {\"condition\": {\"param\": \"param_4\", \"value\": 0.3, \"empty\": false}, \"value\": 0}, \"tooltip\": [{\"field\": \"dates\", \"title\": \"Date\", \"type\": \"temporal\"}, {\"field\": \"preds\", \"format\": \".2f\", \"type\": \"quantitative\"}, {\"field\": \"77\", \"format\": \".2f\", \"type\": \"quantitative\"}, {\"field\": \"78\", \"format\": \".2f\", \"type\": \"quantitative\"}], \"x\": {\"field\": \"dates\", \"type\": \"temporal\"}}, \"name\": \"view_4\", \"transform\": [{\"pivot\": \"variable\", \"value\": \"log_score\", \"groupby\": [\"dates\"]}]}], \"data\": {\"name\": \"data-b56fcfcd9cf16c752d69974a694ff48a\"}, \"height\": 250, \"title\": {\"text\": \"Log score\", \"subtitle\": \"Bigger is better\"}, \"width\": 400}], \"params\": [{\"name\": \"param_4\", \"select\": {\"type\": \"point\", \"fields\": [\"dates\"], \"nearest\": true, \"on\": \"pointerover\"}, \"views\": [\"view_4\"]}], \"$schema\": \"https://vega.github.io/schema/vega-lite/v5.17.0.json\", \"datasets\": {\"data-1fff263b8dfc65f577a4f4b19354459e\": [{\"dates\": \"2022-01-02T00:00:00\", \"casos\": 21.0, \"legend\": \"Data\"}, {\"dates\": \"2022-01-09T00:00:00\", \"casos\": 14.0, \"legend\": \"Data\"}, {\"dates\": \"2022-01-16T00:00:00\", \"casos\": 22.0, \"legend\": \"Data\"}, {\"dates\": \"2022-01-23T00:00:00\", \"casos\": 19.0, \"legend\": \"Data\"}, {\"dates\": \"2022-01-30T00:00:00\", \"casos\": 31.0, \"legend\": \"Data\"}, {\"dates\": \"2022-02-06T00:00:00\", \"casos\": 35.0, \"legend\": \"Data\"}, {\"dates\": \"2022-02-13T00:00:00\", \"casos\": 47.0, \"legend\": \"Data\"}, {\"dates\": \"2022-02-20T00:00:00\", \"casos\": 62.0, \"legend\": \"Data\"}, {\"dates\": \"2022-02-27T00:00:00\", \"casos\": 66.0, \"legend\": \"Data\"}, {\"dates\": \"2022-03-06T00:00:00\", \"casos\": 116.0, \"legend\": \"Data\"}, {\"dates\": \"2022-03-13T00:00:00\", \"casos\": 126.0, \"legend\": \"Data\"}, {\"dates\": \"2022-03-20T00:00:00\", \"casos\": 177.0, \"legend\": \"Data\"}, {\"dates\": \"2022-03-27T00:00:00\", \"casos\": 153.0, \"legend\": \"Data\"}, {\"dates\": \"2022-04-03T00:00:00\", \"casos\": 222.0, \"legend\": \"Data\"}, {\"dates\": \"2022-04-10T00:00:00\", \"casos\": 201.0, \"legend\": \"Data\"}, {\"dates\": \"2022-04-17T00:00:00\", \"casos\": 234.0, \"legend\": \"Data\"}, {\"dates\": \"2022-04-24T00:00:00\", \"casos\": 342.0, \"legend\": \"Data\"}, {\"dates\": \"2022-05-01T00:00:00\", \"casos\": 461.0, \"legend\": \"Data\"}, {\"dates\": \"2022-05-08T00:00:00\", \"casos\": 505.0, \"legend\": \"Data\"}, {\"dates\": \"2022-05-15T00:00:00\", \"casos\": 406.0, \"legend\": \"Data\"}, {\"dates\": \"2022-05-22T00:00:00\", \"casos\": 400.0, \"legend\": \"Data\"}, {\"dates\": \"2022-05-29T00:00:00\", \"casos\": 338.0, \"legend\": \"Data\"}, {\"dates\": \"2022-06-05T00:00:00\", \"casos\": 255.0, \"legend\": \"Data\"}, {\"dates\": \"2022-06-12T00:00:00\", \"casos\": 153.0, \"legend\": \"Data\"}, {\"dates\": \"2022-06-19T00:00:00\", \"casos\": 209.0, \"legend\": \"Data\"}, {\"dates\": \"2022-06-26T00:00:00\", \"casos\": 189.0, \"legend\": \"Data\"}, {\"dates\": \"2022-07-03T00:00:00\", \"casos\": 155.0, \"legend\": \"Data\"}, {\"dates\": \"2022-07-10T00:00:00\", \"casos\": 144.0, \"legend\": \"Data\"}, {\"dates\": \"2022-07-17T00:00:00\", \"casos\": 194.0, \"legend\": \"Data\"}, {\"dates\": \"2022-07-24T00:00:00\", \"casos\": 148.0, \"legend\": \"Data\"}, {\"dates\": \"2022-07-31T00:00:00\", \"casos\": 145.0, \"legend\": \"Data\"}, {\"dates\": \"2022-08-07T00:00:00\", \"casos\": 106.0, \"legend\": \"Data\"}, {\"dates\": \"2022-08-14T00:00:00\", \"casos\": 110.0, \"legend\": \"Data\"}, {\"dates\": \"2022-08-21T00:00:00\", \"casos\": 99.0, \"legend\": \"Data\"}, {\"dates\": \"2022-08-28T00:00:00\", \"casos\": 94.0, \"legend\": \"Data\"}, {\"dates\": \"2022-09-04T00:00:00\", \"casos\": 101.0, \"legend\": \"Data\"}, {\"dates\": \"2022-09-11T00:00:00\", \"casos\": 120.0, \"legend\": \"Data\"}, {\"dates\": \"2022-09-18T00:00:00\", \"casos\": 102.0, \"legend\": \"Data\"}, {\"dates\": \"2022-09-25T00:00:00\", \"casos\": 95.0, \"legend\": \"Data\"}, {\"dates\": \"2022-10-02T00:00:00\", \"casos\": 102.0, \"legend\": \"Data\"}, {\"dates\": \"2022-10-09T00:00:00\", \"casos\": 123.0, \"legend\": \"Data\"}, {\"dates\": \"2022-10-16T00:00:00\", \"casos\": 160.0, \"legend\": \"Data\"}, {\"dates\": \"2022-10-23T00:00:00\", \"casos\": 139.0, \"legend\": \"Data\"}, {\"dates\": \"2022-10-30T00:00:00\", \"casos\": 131.0, \"legend\": \"Data\"}, {\"dates\": \"2022-11-06T00:00:00\", \"casos\": 171.0, \"legend\": \"Data\"}, {\"dates\": \"2022-11-13T00:00:00\", \"casos\": 129.0, \"legend\": \"Data\"}, {\"dates\": \"2022-11-20T00:00:00\", \"casos\": 94.0, \"legend\": \"Data\"}, {\"dates\": \"2022-11-27T00:00:00\", \"casos\": 86.0, \"legend\": \"Data\"}, {\"dates\": \"2022-12-04T00:00:00\", \"casos\": 98.0, \"legend\": \"Data\"}, {\"dates\": \"2022-12-11T00:00:00\", \"casos\": 123.0, \"legend\": \"Data\"}, {\"dates\": \"2022-12-18T00:00:00\", \"casos\": 117.0, \"legend\": \"Data\"}, {\"dates\": \"2022-12-25T00:00:00\", \"casos\": 163.0, \"legend\": \"Data\"}, {\"dates\": \"2023-01-01T00:00:00\", \"casos\": 230.0, \"legend\": \"Data\"}, {\"dates\": \"2023-01-08T00:00:00\", \"casos\": 218.0, \"legend\": \"Data\"}, {\"dates\": \"2023-01-15T00:00:00\", \"casos\": 246.0, \"legend\": \"Data\"}, {\"dates\": \"2023-01-22T00:00:00\", \"casos\": 312.0, \"legend\": \"Data\"}, {\"dates\": \"2023-01-29T00:00:00\", \"casos\": 383.0, \"legend\": \"Data\"}, {\"dates\": \"2023-02-05T00:00:00\", \"casos\": 525.0, \"legend\": \"Data\"}, {\"dates\": \"2023-02-12T00:00:00\", \"casos\": 372.0, \"legend\": \"Data\"}, {\"dates\": \"2023-02-19T00:00:00\", \"casos\": 507.0, \"legend\": \"Data\"}, {\"dates\": \"2023-02-26T00:00:00\", \"casos\": 870.0, \"legend\": \"Data\"}, {\"dates\": \"2023-03-05T00:00:00\", \"casos\": 945.0, \"legend\": \"Data\"}, {\"dates\": \"2023-03-12T00:00:00\", \"casos\": 1125.0, \"legend\": \"Data\"}, {\"dates\": \"2023-03-19T00:00:00\", \"casos\": 1382.0, \"legend\": \"Data\"}, {\"dates\": \"2023-03-26T00:00:00\", \"casos\": 1580.0, \"legend\": \"Data\"}, {\"dates\": \"2023-04-02T00:00:00\", \"casos\": 1420.0, \"legend\": \"Data\"}, {\"dates\": \"2023-04-09T00:00:00\", \"casos\": 1783.0, \"legend\": \"Data\"}, {\"dates\": \"2023-04-16T00:00:00\", \"casos\": 1502.0, \"legend\": \"Data\"}, {\"dates\": \"2023-04-23T00:00:00\", \"casos\": 1572.0, \"legend\": \"Data\"}, {\"dates\": \"2023-04-30T00:00:00\", \"casos\": 1919.0, \"legend\": \"Data\"}, {\"dates\": \"2023-05-07T00:00:00\", \"casos\": 1807.0, \"legend\": \"Data\"}, {\"dates\": \"2023-05-14T00:00:00\", \"casos\": 1731.0, \"legend\": \"Data\"}, {\"dates\": \"2023-05-21T00:00:00\", \"casos\": 1479.0, \"legend\": \"Data\"}, {\"dates\": \"2023-05-28T00:00:00\", \"casos\": 1328.0, \"legend\": \"Data\"}, {\"dates\": \"2023-06-04T00:00:00\", \"casos\": 1238.0, \"legend\": \"Data\"}, {\"dates\": \"2023-06-11T00:00:00\", \"casos\": 1348.0, \"legend\": \"Data\"}, {\"dates\": \"2023-06-18T00:00:00\", \"casos\": 1236.0, \"legend\": \"Data\"}, {\"dates\": \"2023-06-25T00:00:00\", \"casos\": 996.0, \"legend\": \"Data\"}], \"data-b56fcfcd9cf16c752d69974a694ff48a\": [{\"dates\": \"2023-01-01T00:00:00\", \"variable\": \"preds\", \"log_score\": -5.895561471844576}, {\"dates\": \"2023-01-08T00:00:00\", \"variable\": \"preds\", \"log_score\": -5.580446366198453}, {\"dates\": \"2023-01-15T00:00:00\", \"variable\": \"preds\", \"log_score\": -5.926998907141068}, {\"dates\": \"2023-01-22T00:00:00\", \"variable\": \"preds\", \"log_score\": -6.415516393684595}, {\"dates\": \"2023-01-29T00:00:00\", \"variable\": \"preds\", \"log_score\": -5.947117204177019}, {\"dates\": \"2023-02-05T00:00:00\", \"variable\": \"preds\", \"log_score\": -6.7015050337581865}, {\"dates\": \"2023-02-12T00:00:00\", \"variable\": \"preds\", \"log_score\": -6.530247612542601}, {\"dates\": \"2023-02-19T00:00:00\", \"variable\": \"preds\", \"log_score\": -6.918078021987467}, {\"dates\": \"2023-02-26T00:00:00\", \"variable\": \"preds\", \"log_score\": -7.843736458236036}, {\"dates\": \"2023-03-05T00:00:00\", \"variable\": \"preds\", \"log_score\": -7.570481755927283}, {\"dates\": \"2023-03-12T00:00:00\", \"variable\": \"preds\", \"log_score\": -7.883969679366332}, {\"dates\": \"2023-03-19T00:00:00\", \"variable\": \"preds\", \"log_score\": -8.244331295050534}, {\"dates\": \"2023-03-26T00:00:00\", \"variable\": \"preds\", \"log_score\": -7.575358337448324}, {\"dates\": \"2023-04-02T00:00:00\", \"variable\": \"preds\", \"log_score\": -8.0009518905821}, {\"dates\": \"2023-04-09T00:00:00\", \"variable\": \"preds\", \"log_score\": -8.4291625708811}, {\"dates\": \"2023-04-16T00:00:00\", \"variable\": \"preds\", \"log_score\": -8.806462951062873}, {\"dates\": \"2023-04-23T00:00:00\", \"variable\": \"preds\", \"log_score\": -7.7241696683128405}, {\"dates\": \"2023-04-30T00:00:00\", \"variable\": \"preds\", \"log_score\": -8.095723955293426}, {\"dates\": \"2023-05-07T00:00:00\", \"variable\": \"preds\", \"log_score\": -8.483740955798105}, {\"dates\": \"2023-05-14T00:00:00\", \"variable\": \"preds\", \"log_score\": -8.821918552345872}, {\"dates\": \"2023-05-21T00:00:00\", \"variable\": \"preds\", \"log_score\": -7.857939163157734}, {\"dates\": \"2023-05-28T00:00:00\", \"variable\": \"preds\", \"log_score\": -8.222827512789886}, {\"dates\": \"2023-01-01T00:00:00\", \"variable\": \"77\", \"log_score\": -7.0605740035847555}, {\"dates\": \"2023-01-08T00:00:00\", \"variable\": \"77\", \"log_score\": -7.045223726011194}, {\"dates\": \"2023-01-15T00:00:00\", \"variable\": \"77\", \"log_score\": -6.7194951926085675}, {\"dates\": \"2023-01-22T00:00:00\", \"variable\": \"77\", \"log_score\": -6.690525516728641}, {\"dates\": \"2023-01-29T00:00:00\", \"variable\": \"77\", \"log_score\": -6.862813241341015}, {\"dates\": \"2023-02-05T00:00:00\", \"variable\": \"77\", \"log_score\": -6.823837291109027}, {\"dates\": \"2023-02-12T00:00:00\", \"variable\": \"77\", \"log_score\": -7.105866922163416}, {\"dates\": \"2023-02-19T00:00:00\", \"variable\": \"77\", \"log_score\": -7.117678137697696}, {\"dates\": \"2023-02-26T00:00:00\", \"variable\": \"77\", \"log_score\": -7.31486976019457}, {\"dates\": \"2023-03-05T00:00:00\", \"variable\": \"77\", \"log_score\": -7.4692117810610235}, {\"dates\": \"2023-03-12T00:00:00\", \"variable\": \"77\", \"log_score\": -7.712089190999138}, {\"dates\": \"2023-03-19T00:00:00\", \"variable\": \"77\", \"log_score\": -7.883375583994265}, {\"dates\": \"2023-03-26T00:00:00\", \"variable\": \"77\", \"log_score\": -8.024042251575539}, {\"dates\": \"2023-04-02T00:00:00\", \"variable\": \"77\", \"log_score\": -8.120878682407712}, {\"dates\": \"2023-04-09T00:00:00\", \"variable\": \"77\", \"log_score\": -7.619891709493977}, {\"dates\": \"2023-04-16T00:00:00\", \"variable\": \"77\", \"log_score\": -7.2717711113209}, {\"dates\": \"2023-04-23T00:00:00\", \"variable\": \"77\", \"log_score\": -7.557110758776275}, {\"dates\": \"2023-04-30T00:00:00\", \"variable\": \"77\", \"log_score\": -7.562009280459046}, {\"dates\": \"2023-05-07T00:00:00\", \"variable\": \"77\", \"log_score\": -7.52694401172079}, {\"dates\": \"2023-05-14T00:00:00\", \"variable\": \"77\", \"log_score\": -7.3547493388379515}, {\"dates\": \"2023-05-21T00:00:00\", \"variable\": \"77\", \"log_score\": -7.22483902674364}, {\"dates\": \"2023-05-28T00:00:00\", \"variable\": \"77\", \"log_score\": -7.019282786700017}, {\"dates\": \"2023-01-01T00:00:00\", \"variable\": \"78\", \"log_score\": -6.824407014356001}, {\"dates\": \"2023-01-08T00:00:00\", \"variable\": \"78\", \"log_score\": -6.176103462439369}, {\"dates\": \"2023-01-15T00:00:00\", \"variable\": \"78\", \"log_score\": -6.2424661400773775}, {\"dates\": \"2023-01-22T00:00:00\", \"variable\": \"78\", \"log_score\": -6.474002715169926}, {\"dates\": \"2023-01-29T00:00:00\", \"variable\": \"78\", \"log_score\": -6.313518220469092}, {\"dates\": \"2023-02-05T00:00:00\", \"variable\": \"78\", \"log_score\": -7.734218401869841}, {\"dates\": \"2023-02-12T00:00:00\", \"variable\": \"78\", \"log_score\": -6.314232126852336}, {\"dates\": \"2023-02-19T00:00:00\", \"variable\": \"78\", \"log_score\": -6.588685622264594}, {\"dates\": \"2023-02-26T00:00:00\", \"variable\": \"78\", \"log_score\": -7.8914644213151055}, {\"dates\": \"2023-03-05T00:00:00\", \"variable\": \"78\", \"log_score\": -7.284694494043149}, {\"dates\": \"2023-03-12T00:00:00\", \"variable\": \"78\", \"log_score\": -8.762054522017808}, {\"dates\": \"2023-03-19T00:00:00\", \"variable\": \"78\", \"log_score\": -10.851034900383274}, {\"dates\": \"2023-03-26T00:00:00\", \"variable\": \"78\", \"log_score\": -13.04891262220417}, {\"dates\": \"2023-04-02T00:00:00\", \"variable\": \"78\", \"log_score\": -10.408619669904532}, {\"dates\": \"2023-04-09T00:00:00\", \"variable\": \"78\", \"log_score\": -11.044975503594392}, {\"dates\": \"2023-04-16T00:00:00\", \"variable\": \"78\", \"log_score\": -8.33434007862355}, {\"dates\": \"2023-04-23T00:00:00\", \"variable\": \"78\", \"log_score\": -8.586949717872042}, {\"dates\": \"2023-04-30T00:00:00\", \"variable\": \"78\", \"log_score\": -12.995579802530315}, {\"dates\": \"2023-05-07T00:00:00\", \"variable\": \"78\", \"log_score\": -10.447125927771921}, {\"dates\": \"2023-05-14T00:00:00\", \"variable\": \"78\", \"log_score\": -12.877706107621634}, {\"dates\": \"2023-05-21T00:00:00\", \"variable\": \"78\", \"log_score\": -19.383648009448944}, {\"dates\": \"2023-05-28T00:00:00\", \"variable\": \"78\", \"log_score\": -7.901945773029901}]}}, {\"mode\": \"vega-lite\"});\n",
       "</script>"
      ],
      "text/plain": [
       "alt.VConcatChart(...)"
      ]
     },
     "execution_count": 21,
     "metadata": {},
     "output_type": "execute_result"
    }
   ],
   "execution_count": 21
  },
  {
   "cell_type": "code",
   "id": "b3bb6b82",
   "metadata": {
    "ExecuteTime": {
     "end_time": "2024-08-07T20:24:44.841572Z",
     "start_time": "2024-08-07T20:24:44.790603Z"
    }
   },
   "source": [
    "score.plot_predictions()"
   ],
   "outputs": [
    {
     "data": {
      "text/html": [
       "\n",
       "<style>\n",
       "  #altair-viz-f33db002007640829e662718c9be60c1.vega-embed {\n",
       "    width: 100%;\n",
       "    display: flex;\n",
       "  }\n",
       "\n",
       "  #altair-viz-f33db002007640829e662718c9be60c1.vega-embed details,\n",
       "  #altair-viz-f33db002007640829e662718c9be60c1.vega-embed details summary {\n",
       "    position: relative;\n",
       "  }\n",
       "</style>\n",
       "<div id=\"altair-viz-f33db002007640829e662718c9be60c1\"></div>\n",
       "<script type=\"text/javascript\">\n",
       "  var VEGA_DEBUG = (typeof VEGA_DEBUG == \"undefined\") ? {} : VEGA_DEBUG;\n",
       "  (function(spec, embedOpt){\n",
       "    let outputDiv = document.currentScript.previousElementSibling;\n",
       "    if (outputDiv.id !== \"altair-viz-f33db002007640829e662718c9be60c1\") {\n",
       "      outputDiv = document.getElementById(\"altair-viz-f33db002007640829e662718c9be60c1\");\n",
       "    }\n",
       "    const paths = {\n",
       "      \"vega\": \"https://cdn.jsdelivr.net/npm/vega@5?noext\",\n",
       "      \"vega-lib\": \"https://cdn.jsdelivr.net/npm/vega-lib?noext\",\n",
       "      \"vega-lite\": \"https://cdn.jsdelivr.net/npm/vega-lite@5.17.0?noext\",\n",
       "      \"vega-embed\": \"https://cdn.jsdelivr.net/npm/vega-embed@6?noext\",\n",
       "    };\n",
       "\n",
       "    function maybeLoadScript(lib, version) {\n",
       "      var key = `${lib.replace(\"-\", \"\")}_version`;\n",
       "      return (VEGA_DEBUG[key] == version) ?\n",
       "        Promise.resolve(paths[lib]) :\n",
       "        new Promise(function(resolve, reject) {\n",
       "          var s = document.createElement('script');\n",
       "          document.getElementsByTagName(\"head\")[0].appendChild(s);\n",
       "          s.async = true;\n",
       "          s.onload = () => {\n",
       "            VEGA_DEBUG[key] = version;\n",
       "            return resolve(paths[lib]);\n",
       "          };\n",
       "          s.onerror = () => reject(`Error loading script: ${paths[lib]}`);\n",
       "          s.src = paths[lib];\n",
       "        });\n",
       "    }\n",
       "\n",
       "    function showError(err) {\n",
       "      outputDiv.innerHTML = `<div class=\"error\" style=\"color:red;\">${err}</div>`;\n",
       "      throw err;\n",
       "    }\n",
       "\n",
       "    function displayChart(vegaEmbed) {\n",
       "      vegaEmbed(outputDiv, spec, embedOpt)\n",
       "        .catch(err => showError(`Javascript Error: ${err.message}<br>This usually means there's a typo in your chart specification. See the javascript console for the full traceback.`));\n",
       "    }\n",
       "\n",
       "    if(typeof define === \"function\" && define.amd) {\n",
       "      requirejs.config({paths});\n",
       "      require([\"vega-embed\"], displayChart, err => showError(`Error loading script: ${err.message}`));\n",
       "    } else {\n",
       "      maybeLoadScript(\"vega\", \"5\")\n",
       "        .then(() => maybeLoadScript(\"vega-lite\", \"5.17.0\"))\n",
       "        .then(() => maybeLoadScript(\"vega-embed\", \"6\"))\n",
       "        .catch(showError)\n",
       "        .then(() => displayChart(vegaEmbed));\n",
       "    }\n",
       "  })({\"config\": {\"view\": {\"continuousWidth\": 300, \"continuousHeight\": 300}}, \"layer\": [{\"data\": {\"name\": \"data-31ab3405ccd4240dcb0f02c0c71558b5\"}, \"mark\": {\"type\": \"circle\", \"size\": 60}, \"encoding\": {\"color\": {\"field\": \"legend\", \"legend\": {\"title\": null}, \"scale\": {\"range\": [\"black\"]}, \"type\": \"nominal\"}, \"x\": {\"field\": \"dates\", \"type\": \"temporal\"}, \"y\": {\"field\": \"casos\", \"type\": \"quantitative\"}}}, {\"data\": {\"name\": \"data-ef64e19ca91c48fb9101085891b3e2f1\"}, \"mark\": {\"type\": \"line\"}, \"encoding\": {\"color\": {\"field\": \"model\", \"legend\": {\"title\": \"Model\"}, \"type\": \"nominal\"}, \"x\": {\"field\": \"dates\", \"title\": \"Dates\", \"type\": \"temporal\"}, \"y\": {\"field\": \"preds\", \"title\": \"New cases\", \"type\": \"quantitative\"}}, \"title\": \"Median and 95% confidence interval\"}, {\"data\": {\"name\": \"data-ef64e19ca91c48fb9101085891b3e2f1\"}, \"mark\": {\"type\": \"area\", \"opacity\": 0.25}, \"encoding\": {\"color\": {\"field\": \"model\", \"legend\": null, \"type\": \"nominal\"}, \"x\": {\"field\": \"dates\", \"type\": \"temporal\"}, \"y\": {\"field\": \"lower\", \"type\": \"quantitative\"}, \"y2\": {\"field\": \"upper\"}}, \"title\": \"Median and 95% confidence interval\"}, {\"data\": {\"name\": \"data-ef64e19ca91c48fb9101085891b3e2f1\"}, \"mark\": {\"type\": \"point\"}, \"encoding\": {\"color\": {\"field\": \"model\", \"legend\": null, \"type\": \"nominal\"}, \"opacity\": {\"condition\": {\"param\": \"param_5\", \"value\": 1, \"empty\": false}, \"value\": 0}, \"x\": {\"field\": \"dates\", \"title\": \"Dates\", \"type\": \"temporal\"}, \"y\": {\"field\": \"preds\", \"title\": \"New cases\", \"type\": \"quantitative\"}}, \"title\": \"Median and 95% confidence interval\"}, {\"data\": {\"name\": \"data-3003528ff63cc0cd8f70d4efa1b6d02d\"}, \"mark\": {\"type\": \"rule\", \"color\": \"gray\"}, \"encoding\": {\"opacity\": {\"condition\": {\"param\": \"param_5\", \"value\": 0.3, \"empty\": false}, \"value\": 0}, \"tooltip\": [{\"field\": \"dates\", \"title\": \"Date\", \"type\": \"temporal\"}, {\"field\": \"preds\", \"format\": \".0f\", \"type\": \"quantitative\"}, {\"field\": \"77\", \"format\": \".0f\", \"type\": \"quantitative\"}, {\"field\": \"78\", \"format\": \".0f\", \"type\": \"quantitative\"}, {\"field\": \"cases\", \"format\": \".0f\", \"type\": \"quantitative\"}], \"x\": {\"field\": \"dates\", \"type\": \"temporal\"}}, \"name\": \"view_5\", \"transform\": [{\"pivot\": \"model\", \"value\": \"preds\", \"groupby\": [\"dates\"]}]}], \"height\": 300, \"params\": [{\"name\": \"param_5\", \"select\": {\"type\": \"point\", \"fields\": [\"dates\"], \"nearest\": true, \"on\": \"pointerover\"}, \"views\": [\"view_5\"]}], \"resolve\": {\"scale\": {\"color\": \"independent\"}}, \"width\": 400, \"$schema\": \"https://vega.github.io/schema/vega-lite/v5.17.0.json\", \"datasets\": {\"data-31ab3405ccd4240dcb0f02c0c71558b5\": [{\"dates\": \"2023-01-01T00:00:00\", \"casos\": 230.0, \"legend\": \"Data\"}, {\"dates\": \"2023-01-08T00:00:00\", \"casos\": 218.0, \"legend\": \"Data\"}, {\"dates\": \"2023-01-15T00:00:00\", \"casos\": 246.0, \"legend\": \"Data\"}, {\"dates\": \"2023-01-22T00:00:00\", \"casos\": 312.0, \"legend\": \"Data\"}, {\"dates\": \"2023-01-29T00:00:00\", \"casos\": 383.0, \"legend\": \"Data\"}, {\"dates\": \"2023-02-05T00:00:00\", \"casos\": 525.0, \"legend\": \"Data\"}, {\"dates\": \"2023-02-12T00:00:00\", \"casos\": 372.0, \"legend\": \"Data\"}, {\"dates\": \"2023-02-19T00:00:00\", \"casos\": 507.0, \"legend\": \"Data\"}, {\"dates\": \"2023-02-26T00:00:00\", \"casos\": 870.0, \"legend\": \"Data\"}, {\"dates\": \"2023-03-05T00:00:00\", \"casos\": 945.0, \"legend\": \"Data\"}, {\"dates\": \"2023-03-12T00:00:00\", \"casos\": 1125.0, \"legend\": \"Data\"}, {\"dates\": \"2023-03-19T00:00:00\", \"casos\": 1382.0, \"legend\": \"Data\"}, {\"dates\": \"2023-03-26T00:00:00\", \"casos\": 1580.0, \"legend\": \"Data\"}, {\"dates\": \"2023-04-02T00:00:00\", \"casos\": 1420.0, \"legend\": \"Data\"}, {\"dates\": \"2023-04-09T00:00:00\", \"casos\": 1783.0, \"legend\": \"Data\"}, {\"dates\": \"2023-04-16T00:00:00\", \"casos\": 1502.0, \"legend\": \"Data\"}, {\"dates\": \"2023-04-23T00:00:00\", \"casos\": 1572.0, \"legend\": \"Data\"}, {\"dates\": \"2023-04-30T00:00:00\", \"casos\": 1919.0, \"legend\": \"Data\"}, {\"dates\": \"2023-05-07T00:00:00\", \"casos\": 1807.0, \"legend\": \"Data\"}, {\"dates\": \"2023-05-14T00:00:00\", \"casos\": 1731.0, \"legend\": \"Data\"}, {\"dates\": \"2023-05-21T00:00:00\", \"casos\": 1479.0, \"legend\": \"Data\"}, {\"dates\": \"2023-05-28T00:00:00\", \"casos\": 1328.0, \"legend\": \"Data\"}], \"data-ef64e19ca91c48fb9101085891b3e2f1\": [{\"dates\": \"2023-01-01T00:00:00\", \"preds\": 151.76133446868533, \"lower\": 78.80212665991347, \"upper\": 309.0396239407756, \"data\": 230.00000000000026, \"model\": \"preds\", \"adm_2\": null, \"adm_1\": null, \"adm_0\": null}, {\"dates\": \"2023-01-08T00:00:00\", \"preds\": 159.72270996481006, \"lower\": 69.93219528344056, \"upper\": 399.41482831183293, \"data\": 218.0000000000003, \"model\": \"preds\", \"adm_2\": null, \"adm_1\": null, \"adm_0\": null}, {\"dates\": \"2023-01-15T00:00:00\", \"preds\": 161.10792069530078, \"lower\": 58.61511845590657, \"upper\": 509.0322044244204, \"data\": 246.0000000000002, \"model\": \"preds\", \"adm_2\": null, \"adm_1\": null, \"adm_0\": null}, {\"dates\": \"2023-01-22T00:00:00\", \"preds\": 164.09594864887933, \"lower\": 50.90561687060513, \"upper\": 640.3073445873545, \"data\": 312.00000000000006, \"model\": \"preds\", \"adm_2\": null, \"adm_1\": null, \"adm_0\": null}, {\"dates\": \"2023-01-29T00:00:00\", \"preds\": 309.3583488049301, \"lower\": 152.0762703639351, \"upper\": 672.2276437471522, \"data\": 382.99999999999955, \"model\": \"preds\", \"adm_2\": null, \"adm_1\": null, \"adm_0\": null}, {\"dates\": \"2023-02-05T00:00:00\", \"preds\": 328.34008314262354, \"lower\": 134.0760654750963, \"upper\": 895.4358359473988, \"data\": 525.0000000000005, \"model\": \"preds\", \"adm_2\": null, \"adm_1\": null, \"adm_0\": null}, {\"dates\": \"2023-02-12T00:00:00\", \"preds\": 338.3894931490902, \"lower\": 112.84360597037096, \"upper\": 1198.4954340883526, \"data\": 372.00000000000034, \"model\": \"preds\", \"adm_2\": null, \"adm_1\": null, \"adm_0\": null}, {\"dates\": \"2023-02-19T00:00:00\", \"preds\": 349.5129285891154, \"lower\": 97.90848165219658, \"upper\": 1568.9792239320764, \"data\": 507.00000000000045, \"model\": \"preds\", \"adm_2\": null, \"adm_1\": null, \"adm_0\": null}, {\"dates\": \"2023-02-26T00:00:00\", \"preds\": 486.6065336376336, \"lower\": 230.56344988793234, \"upper\": 1105.1553670421022, \"data\": 870.0, \"model\": \"preds\", \"adm_2\": null, \"adm_1\": null, \"adm_0\": null}, {\"dates\": \"2023-03-05T00:00:00\", \"preds\": 517.705010079599, \"lower\": 201.94154967732175, \"upper\": 1495.9038670792893, \"data\": 945.0000000000008, \"model\": \"preds\", \"adm_2\": null, \"adm_1\": null, \"adm_0\": null}, {\"dates\": \"2023-03-12T00:00:00\", \"preds\": 529.5488197232104, \"lower\": 167.16245125711322, \"upper\": 2018.2747259533005, \"data\": 1125.0000000000005, \"model\": \"preds\", \"adm_2\": null, \"adm_1\": null, \"adm_0\": null}, {\"dates\": \"2023-03-19T00:00:00\", \"preds\": 545.1043830232941, \"lower\": 143.42931027399922, \"upper\": 2672.275568527508, \"data\": 1382.0000000000002, \"model\": \"preds\", \"adm_2\": null, \"adm_1\": null, \"adm_0\": null}, {\"dates\": \"2023-03-26T00:00:00\", \"preds\": 1436.762896936793, \"lower\": 617.7124267342709, \"upper\": 3674.590068842351, \"data\": 1580.0, \"model\": \"preds\", \"adm_2\": null, \"adm_1\": null, \"adm_0\": null}, {\"dates\": \"2023-04-02T00:00:00\", \"preds\": 1552.0914477824952, \"lower\": 534.6517924790239, \"upper\": 5266.511567691413, \"data\": 1419.999999999999, \"model\": \"preds\", \"adm_2\": null, \"adm_1\": null, \"adm_0\": null}, {\"dates\": \"2023-04-09T00:00:00\", \"preds\": 1636.1137278814765, \"lower\": 442.100298358673, \"upper\": 7724.852142685991, \"data\": 1783.0000000000007, \"model\": \"preds\", \"adm_2\": null, \"adm_1\": null, \"adm_0\": null}, {\"dates\": \"2023-04-16T00:00:00\", \"preds\": 1719.3568355183838, \"lower\": 376.94987741986495, \"upper\": 10996.66529986929, \"data\": 1502.0000000000002, \"model\": \"preds\", \"adm_2\": null, \"adm_1\": null, \"adm_0\": null}, {\"dates\": \"2023-04-23T00:00:00\", \"preds\": 1656.8628776720834, \"lower\": 704.1953205547491, \"upper\": 4298.355154161255, \"data\": 1572.000000000001, \"model\": \"preds\", \"adm_2\": null, \"adm_1\": null, \"adm_0\": null}, {\"dates\": \"2023-04-30T00:00:00\", \"preds\": 1669.7422019642547, \"lower\": 571.8645149326301, \"upper\": 5708.971992709428, \"data\": 1918.9999999999986, \"model\": \"preds\", \"adm_2\": null, \"adm_1\": null, \"adm_0\": null}, {\"dates\": \"2023-05-07T00:00:00\", \"preds\": 1721.6240310538367, \"lower\": 463.44179644766484, \"upper\": 8172.224055309728, \"data\": 1806.9999999999995, \"model\": \"preds\", \"adm_2\": null, \"adm_1\": null, \"adm_0\": null}, {\"dates\": \"2023-05-14T00:00:00\", \"preds\": 1754.1555633669448, \"lower\": 384.8865295299729, \"upper\": 11205.81919919862, \"data\": 1731.0000000000036, \"model\": \"preds\", \"adm_2\": null, \"adm_1\": null, \"adm_0\": null}, {\"dates\": \"2023-05-21T00:00:00\", \"preds\": 1791.6967972860418, \"lower\": 757.363473499982, \"upper\": 4679.731928223298, \"data\": 1478.9999999999986, \"model\": \"preds\", \"adm_2\": null, \"adm_1\": null, \"adm_0\": null}, {\"dates\": \"2023-05-28T00:00:00\", \"preds\": 1804.7446851841166, \"lower\": 614.0199080150239, \"upper\": 6224.672433442277, \"data\": 1328.0000000000007, \"model\": \"preds\", \"adm_2\": null, \"adm_1\": null, \"adm_0\": null}, {\"dates\": \"2023-01-01T00:00:00\", \"preds\": 124.7, \"lower\": 0.0, \"upper\": 1809.5625740147, \"data\": null, \"model\": \"77\", \"adm_2\": 3304557.0, \"adm_1\": \"RJ\", \"adm_0\": \"BR\"}, {\"dates\": \"2023-01-08T00:00:00\", \"preds\": 127.23, \"lower\": 0.0, \"upper\": 1793.8064366305, \"data\": null, \"model\": \"77\", \"adm_2\": 3304557.0, \"adm_1\": \"RJ\", \"adm_0\": \"BR\"}, {\"dates\": \"2023-01-15T00:00:00\", \"preds\": 155.21, \"lower\": 0.0, \"upper\": 1268.8861142409, \"data\": null, \"model\": \"77\", \"adm_2\": 3304557.0, \"adm_1\": \"RJ\", \"adm_0\": \"BR\"}, {\"dates\": \"2023-01-22T00:00:00\", \"preds\": 198.84, \"lower\": 0.0, \"upper\": 1195.3396186246, \"data\": null, \"model\": \"77\", \"adm_2\": 3304557.0, \"adm_1\": \"RJ\", \"adm_0\": \"BR\"}, {\"dates\": \"2023-01-29T00:00:00\", \"preds\": 345.27, \"lower\": 0.0, \"upper\": 1518.1194592248, \"data\": null, \"model\": \"77\", \"adm_2\": 3304557.0, \"adm_1\": \"RJ\", \"adm_0\": \"BR\"}, {\"dates\": \"2023-02-05T00:00:00\", \"preds\": 462.34, \"lower\": 0.0, \"upper\": 1445.4253987699, \"data\": null, \"model\": \"77\", \"adm_2\": 3304557.0, \"adm_1\": \"RJ\", \"adm_0\": \"BR\"}, {\"dates\": \"2023-02-12T00:00:00\", \"preds\": 481.6, \"lower\": 0.0, \"upper\": 1893.9755987178, \"data\": null, \"model\": \"77\", \"adm_2\": 3304557.0, \"adm_1\": \"RJ\", \"adm_0\": \"BR\"}, {\"dates\": \"2023-02-19T00:00:00\", \"preds\": 481.56, \"lower\": 0.0, \"upper\": 1965.8780215081, \"data\": null, \"model\": \"77\", \"adm_2\": 3304557.0, \"adm_1\": \"RJ\", \"adm_0\": \"BR\"}, {\"dates\": \"2023-02-26T00:00:00\", \"preds\": 574.3, \"lower\": 0.0, \"upper\": 2019.8204358497, \"data\": null, \"model\": \"77\", \"adm_2\": 3304557.0, \"adm_1\": \"RJ\", \"adm_0\": \"BR\"}, {\"dates\": \"2023-03-05T00:00:00\", \"preds\": 908.59, \"lower\": 0.0, \"upper\": 2793.9425956685, \"data\": null, \"model\": \"77\", \"adm_2\": 3304557.0, \"adm_1\": \"RJ\", \"adm_0\": \"BR\"}, {\"dates\": \"2023-03-12T00:00:00\", \"preds\": 1098.33, \"lower\": 0.0, \"upper\": 3565.2781705146, \"data\": null, \"model\": \"77\", \"adm_2\": 3304557.0, \"adm_1\": \"RJ\", \"adm_0\": \"BR\"}, {\"dates\": \"2023-03-19T00:00:00\", \"preds\": 1255.02, \"lower\": 0.0, \"upper\": 4202.4693301775, \"data\": null, \"model\": \"77\", \"adm_2\": 3304557.0, \"adm_1\": \"RJ\", \"adm_0\": \"BR\"}, {\"dates\": \"2023-03-26T00:00:00\", \"preds\": 903.32, \"lower\": 0.0, \"upper\": 3760.903225256, \"data\": null, \"model\": \"77\", \"adm_2\": 3304557.0, \"adm_1\": \"RJ\", \"adm_0\": \"BR\"}, {\"dates\": \"2023-04-02T00:00:00\", \"preds\": 2084.83, \"lower\": 0.0, \"upper\": 4512.3417709763, \"data\": null, \"model\": \"77\", \"adm_2\": 3304557.0, \"adm_1\": \"RJ\", \"adm_0\": \"BR\"}, {\"dates\": \"2023-04-09T00:00:00\", \"preds\": 1451.2, \"lower\": 0.0, \"upper\": 2937.0054003446, \"data\": null, \"model\": \"77\", \"adm_2\": 3304557.0, \"adm_1\": \"RJ\", \"adm_0\": \"BR\"}, {\"dates\": \"2023-04-16T00:00:00\", \"preds\": 1680.13, \"lower\": 591.7969421614, \"upper\": 2768.4630578386, \"data\": null, \"model\": \"77\", \"adm_2\": 3304557.0, \"adm_1\": \"RJ\", \"adm_0\": \"BR\"}, {\"dates\": \"2023-04-23T00:00:00\", \"preds\": 1944.43, \"lower\": 650.1333199898, \"upper\": 3238.7266800102, \"data\": null, \"model\": \"77\", \"adm_2\": 3304557.0, \"adm_1\": \"RJ\", \"adm_0\": \"BR\"}, {\"dates\": \"2023-04-30T00:00:00\", \"preds\": 1575.31, \"lower\": 227.6224669775, \"upper\": 2922.9975330225, \"data\": null, \"model\": \"77\", \"adm_2\": 3304557.0, \"adm_1\": \"RJ\", \"adm_0\": \"BR\"}, {\"dates\": \"2023-05-07T00:00:00\", \"preds\": 1426.24, \"lower\": 206.7682082167, \"upper\": 2645.7117917833, \"data\": null, \"model\": \"77\", \"adm_2\": 3304557.0, \"adm_1\": \"RJ\", \"adm_0\": \"BR\"}, {\"dates\": \"2023-05-14T00:00:00\", \"preds\": 1939.85, \"lower\": 769.2177668869, \"upper\": 3110.4822331131, \"data\": null, \"model\": \"77\", \"adm_2\": 3304557.0, \"adm_1\": \"RJ\", \"adm_0\": \"BR\"}, {\"dates\": \"2023-05-21T00:00:00\", \"preds\": 1454.24, \"lower\": 359.7715538942, \"upper\": 2548.7084461058, \"data\": null, \"model\": \"77\", \"adm_2\": 3304557.0, \"adm_1\": \"RJ\", \"adm_0\": \"BR\"}, {\"dates\": \"2023-05-28T00:00:00\", \"preds\": 1134.07, \"lower\": 343.0948354381, \"upper\": 1925.0451645619, \"data\": null, \"model\": \"77\", \"adm_2\": 3304557.0, \"adm_1\": \"RJ\", \"adm_0\": \"BR\"}, {\"dates\": \"2023-01-01T00:00:00\", \"preds\": 28.9193740338, \"lower\": 0.0, \"upper\": 602.8117241956, \"data\": null, \"model\": \"78\", \"adm_2\": 3304557.0, \"adm_1\": \"RJ\", \"adm_0\": \"BR\"}, {\"dates\": \"2023-01-08T00:00:00\", \"preds\": 107.5751379728, \"lower\": 0.0, \"upper\": 566.5245524392, \"data\": null, \"model\": \"78\", \"adm_2\": 3304557.0, \"adm_1\": \"RJ\", \"adm_0\": \"BR\"}, {\"dates\": \"2023-01-15T00:00:00\", \"preds\": 136.0464265496, \"lower\": 0.0, \"upper\": 654.7008858331, \"data\": null, \"model\": \"78\", \"adm_2\": 3304557.0, \"adm_1\": \"RJ\", \"adm_0\": \"BR\"}, {\"dates\": \"2023-01-22T00:00:00\", \"preds\": 157.6281409636, \"lower\": 0.0, \"upper\": 703.7455855925, \"data\": null, \"model\": \"78\", \"adm_2\": 3304557.0, \"adm_1\": \"RJ\", \"adm_0\": \"BR\"}, {\"dates\": \"2023-01-29T00:00:00\", \"preds\": 370.7788259685, \"lower\": 0.0, \"upper\": 879.478636435, \"data\": null, \"model\": \"78\", \"adm_2\": 3304557.0, \"adm_1\": \"RJ\", \"adm_0\": \"BR\"}, {\"dates\": \"2023-02-05T00:00:00\", \"preds\": 200.67998676, \"lower\": 0.0, \"upper\": 720.2818470754, \"data\": null, \"model\": \"78\", \"adm_2\": 3304557.0, \"adm_1\": \"RJ\", \"adm_0\": \"BR\"}, {\"dates\": \"2023-02-12T00:00:00\", \"preds\": 270.5449912548, \"lower\": 0.0, \"upper\": 766.0707564242, \"data\": null, \"model\": \"78\", \"adm_2\": 3304557.0, \"adm_1\": \"RJ\", \"adm_0\": \"BR\"}, {\"dates\": \"2023-02-19T00:00:00\", \"preds\": 365.9762626961, \"lower\": 0.0, \"upper\": 984.143485938, \"data\": null, \"model\": \"78\", \"adm_2\": 3304557.0, \"adm_1\": \"RJ\", \"adm_0\": \"BR\"}, {\"dates\": \"2023-02-26T00:00:00\", \"preds\": 434.2454627231, \"lower\": 0.0, \"upper\": 1035.7856581375, \"data\": null, \"model\": \"78\", \"adm_2\": 3304557.0, \"adm_1\": \"RJ\", \"adm_0\": \"BR\"}, {\"dates\": \"2023-03-05T00:00:00\", \"preds\": 593.1198927313, \"lower\": 0.0, \"upper\": 1340.4223010339, \"data\": null, \"model\": \"78\", \"adm_2\": 3304557.0, \"adm_1\": \"RJ\", \"adm_0\": \"BR\"}, {\"dates\": \"2023-03-12T00:00:00\", \"preds\": 486.762278229, \"lower\": 13.1828434534, \"upper\": 1258.1380503178, \"data\": null, \"model\": \"78\", \"adm_2\": 3304557.0, \"adm_1\": \"RJ\", \"adm_0\": \"BR\"}, {\"dates\": \"2023-03-19T00:00:00\", \"preds\": 534.409355998, \"lower\": 0.0, \"upper\": 1161.3790531218, \"data\": null, \"model\": \"78\", \"adm_2\": 3304557.0, \"adm_1\": \"RJ\", \"adm_0\": \"BR\"}, {\"dates\": \"2023-03-26T00:00:00\", \"preds\": 555.0313138813, \"lower\": 0.0, \"upper\": 1138.9978529975, \"data\": null, \"model\": \"78\", \"adm_2\": 3304557.0, \"adm_1\": \"RJ\", \"adm_0\": \"BR\"}, {\"dates\": \"2023-04-02T00:00:00\", \"preds\": 540.6022553518, \"lower\": 0.0, \"upper\": 1290.8390316494, \"data\": null, \"model\": \"78\", \"adm_2\": 3304557.0, \"adm_1\": \"RJ\", \"adm_0\": \"BR\"}, {\"dates\": \"2023-04-09T00:00:00\", \"preds\": 670.57262557, \"lower\": 63.0884215072, \"upper\": 1603.4207726844, \"data\": null, \"model\": \"78\", \"adm_2\": 3304557.0, \"adm_1\": \"RJ\", \"adm_0\": \"BR\"}, {\"dates\": \"2023-04-16T00:00:00\", \"preds\": 823.2300753295, \"lower\": 5.3920096096, \"upper\": 1619.1121769279, \"data\": null, \"model\": \"78\", \"adm_2\": 3304557.0, \"adm_1\": \"RJ\", \"adm_0\": \"BR\"}, {\"dates\": \"2023-04-23T00:00:00\", \"preds\": 821.3328076452, \"lower\": 0.0, \"upper\": 1657.2413398936, \"data\": null, \"model\": \"78\", \"adm_2\": 3304557.0, \"adm_1\": \"RJ\", \"adm_0\": \"BR\"}, {\"dates\": \"2023-04-30T00:00:00\", \"preds\": 736.0327714011, \"lower\": 186.1478255641, \"upper\": 1522.9282282144, \"data\": null, \"model\": \"78\", \"adm_2\": 3304557.0, \"adm_1\": \"RJ\", \"adm_0\": \"BR\"}, {\"dates\": \"2023-05-07T00:00:00\", \"preds\": 760.3757069707, \"lower\": 31.6744434658, \"upper\": 1601.576000803, \"data\": null, \"model\": \"78\", \"adm_2\": 3304557.0, \"adm_1\": \"RJ\", \"adm_0\": \"BR\"}, {\"dates\": \"2023-05-14T00:00:00\", \"preds\": 593.9493001178, \"lower\": 0.0, \"upper\": 1293.7130412512, \"data\": null, \"model\": \"78\", \"adm_2\": 3304557.0, \"adm_1\": \"RJ\", \"adm_0\": \"BR\"}, {\"dates\": \"2023-05-21T00:00:00\", \"preds\": 341.6071367562, \"lower\": 0.0, \"upper\": 890.2078188814, \"data\": null, \"model\": \"78\", \"adm_2\": 3304557.0, \"adm_1\": \"RJ\", \"adm_0\": \"BR\"}, {\"dates\": \"2023-05-28T00:00:00\", \"preds\": 766.1951469854, \"lower\": 41.8829060107, \"upper\": 1633.4175681449, \"data\": null, \"model\": \"78\", \"adm_2\": 3304557.0, \"adm_1\": \"RJ\", \"adm_0\": \"BR\"}], \"data-3003528ff63cc0cd8f70d4efa1b6d02d\": [{\"dates\": \"2023-01-01T00:00:00\", \"preds\": 151.76133446868533, \"lower\": 78.80212665991347, \"upper\": 309.0396239407756, \"data\": 230.00000000000026, \"model\": \"preds\", \"adm_2\": null, \"adm_1\": null, \"adm_0\": null, \"legend\": null}, {\"dates\": \"2023-01-08T00:00:00\", \"preds\": 159.72270996481006, \"lower\": 69.93219528344056, \"upper\": 399.41482831183293, \"data\": 218.0000000000003, \"model\": \"preds\", \"adm_2\": null, \"adm_1\": null, \"adm_0\": null, \"legend\": null}, {\"dates\": \"2023-01-15T00:00:00\", \"preds\": 161.10792069530078, \"lower\": 58.61511845590657, \"upper\": 509.0322044244204, \"data\": 246.0000000000002, \"model\": \"preds\", \"adm_2\": null, \"adm_1\": null, \"adm_0\": null, \"legend\": null}, {\"dates\": \"2023-01-22T00:00:00\", \"preds\": 164.09594864887933, \"lower\": 50.90561687060513, \"upper\": 640.3073445873545, \"data\": 312.00000000000006, \"model\": \"preds\", \"adm_2\": null, \"adm_1\": null, \"adm_0\": null, \"legend\": null}, {\"dates\": \"2023-01-29T00:00:00\", \"preds\": 309.3583488049301, \"lower\": 152.0762703639351, \"upper\": 672.2276437471522, \"data\": 382.99999999999955, \"model\": \"preds\", \"adm_2\": null, \"adm_1\": null, \"adm_0\": null, \"legend\": null}, {\"dates\": \"2023-02-05T00:00:00\", \"preds\": 328.34008314262354, \"lower\": 134.0760654750963, \"upper\": 895.4358359473988, \"data\": 525.0000000000005, \"model\": \"preds\", \"adm_2\": null, \"adm_1\": null, \"adm_0\": null, \"legend\": null}, {\"dates\": \"2023-02-12T00:00:00\", \"preds\": 338.3894931490902, \"lower\": 112.84360597037096, \"upper\": 1198.4954340883526, \"data\": 372.00000000000034, \"model\": \"preds\", \"adm_2\": null, \"adm_1\": null, \"adm_0\": null, \"legend\": null}, {\"dates\": \"2023-02-19T00:00:00\", \"preds\": 349.5129285891154, \"lower\": 97.90848165219658, \"upper\": 1568.9792239320764, \"data\": 507.00000000000045, \"model\": \"preds\", \"adm_2\": null, \"adm_1\": null, \"adm_0\": null, \"legend\": null}, {\"dates\": \"2023-02-26T00:00:00\", \"preds\": 486.6065336376336, \"lower\": 230.56344988793234, \"upper\": 1105.1553670421022, \"data\": 870.0, \"model\": \"preds\", \"adm_2\": null, \"adm_1\": null, \"adm_0\": null, \"legend\": null}, {\"dates\": \"2023-03-05T00:00:00\", \"preds\": 517.705010079599, \"lower\": 201.94154967732175, \"upper\": 1495.9038670792893, \"data\": 945.0000000000008, \"model\": \"preds\", \"adm_2\": null, \"adm_1\": null, \"adm_0\": null, \"legend\": null}, {\"dates\": \"2023-03-12T00:00:00\", \"preds\": 529.5488197232104, \"lower\": 167.16245125711322, \"upper\": 2018.2747259533005, \"data\": 1125.0000000000005, \"model\": \"preds\", \"adm_2\": null, \"adm_1\": null, \"adm_0\": null, \"legend\": null}, {\"dates\": \"2023-03-19T00:00:00\", \"preds\": 545.1043830232941, \"lower\": 143.42931027399922, \"upper\": 2672.275568527508, \"data\": 1382.0000000000002, \"model\": \"preds\", \"adm_2\": null, \"adm_1\": null, \"adm_0\": null, \"legend\": null}, {\"dates\": \"2023-03-26T00:00:00\", \"preds\": 1436.762896936793, \"lower\": 617.7124267342709, \"upper\": 3674.590068842351, \"data\": 1580.0, \"model\": \"preds\", \"adm_2\": null, \"adm_1\": null, \"adm_0\": null, \"legend\": null}, {\"dates\": \"2023-04-02T00:00:00\", \"preds\": 1552.0914477824952, \"lower\": 534.6517924790239, \"upper\": 5266.511567691413, \"data\": 1419.999999999999, \"model\": \"preds\", \"adm_2\": null, \"adm_1\": null, \"adm_0\": null, \"legend\": null}, {\"dates\": \"2023-04-09T00:00:00\", \"preds\": 1636.1137278814765, \"lower\": 442.100298358673, \"upper\": 7724.852142685991, \"data\": 1783.0000000000007, \"model\": \"preds\", \"adm_2\": null, \"adm_1\": null, \"adm_0\": null, \"legend\": null}, {\"dates\": \"2023-04-16T00:00:00\", \"preds\": 1719.3568355183838, \"lower\": 376.94987741986495, \"upper\": 10996.66529986929, \"data\": 1502.0000000000002, \"model\": \"preds\", \"adm_2\": null, \"adm_1\": null, \"adm_0\": null, \"legend\": null}, {\"dates\": \"2023-04-23T00:00:00\", \"preds\": 1656.8628776720834, \"lower\": 704.1953205547491, \"upper\": 4298.355154161255, \"data\": 1572.000000000001, \"model\": \"preds\", \"adm_2\": null, \"adm_1\": null, \"adm_0\": null, \"legend\": null}, {\"dates\": \"2023-04-30T00:00:00\", \"preds\": 1669.7422019642547, \"lower\": 571.8645149326301, \"upper\": 5708.971992709428, \"data\": 1918.9999999999986, \"model\": \"preds\", \"adm_2\": null, \"adm_1\": null, \"adm_0\": null, \"legend\": null}, {\"dates\": \"2023-05-07T00:00:00\", \"preds\": 1721.6240310538367, \"lower\": 463.44179644766484, \"upper\": 8172.224055309728, \"data\": 1806.9999999999995, \"model\": \"preds\", \"adm_2\": null, \"adm_1\": null, \"adm_0\": null, \"legend\": null}, {\"dates\": \"2023-05-14T00:00:00\", \"preds\": 1754.1555633669448, \"lower\": 384.8865295299729, \"upper\": 11205.81919919862, \"data\": 1731.0000000000036, \"model\": \"preds\", \"adm_2\": null, \"adm_1\": null, \"adm_0\": null, \"legend\": null}, {\"dates\": \"2023-05-21T00:00:00\", \"preds\": 1791.6967972860418, \"lower\": 757.363473499982, \"upper\": 4679.731928223298, \"data\": 1478.9999999999986, \"model\": \"preds\", \"adm_2\": null, \"adm_1\": null, \"adm_0\": null, \"legend\": null}, {\"dates\": \"2023-05-28T00:00:00\", \"preds\": 1804.7446851841166, \"lower\": 614.0199080150239, \"upper\": 6224.672433442277, \"data\": 1328.0000000000007, \"model\": \"preds\", \"adm_2\": null, \"adm_1\": null, \"adm_0\": null, \"legend\": null}, {\"dates\": \"2023-01-01T00:00:00\", \"preds\": 124.7, \"lower\": 0.0, \"upper\": 1809.5625740147, \"data\": null, \"model\": \"77\", \"adm_2\": 3304557.0, \"adm_1\": \"RJ\", \"adm_0\": \"BR\", \"legend\": null}, {\"dates\": \"2023-01-08T00:00:00\", \"preds\": 127.23, \"lower\": 0.0, \"upper\": 1793.8064366305, \"data\": null, \"model\": \"77\", \"adm_2\": 3304557.0, \"adm_1\": \"RJ\", \"adm_0\": \"BR\", \"legend\": null}, {\"dates\": \"2023-01-15T00:00:00\", \"preds\": 155.21, \"lower\": 0.0, \"upper\": 1268.8861142409, \"data\": null, \"model\": \"77\", \"adm_2\": 3304557.0, \"adm_1\": \"RJ\", \"adm_0\": \"BR\", \"legend\": null}, {\"dates\": \"2023-01-22T00:00:00\", \"preds\": 198.84, \"lower\": 0.0, \"upper\": 1195.3396186246, \"data\": null, \"model\": \"77\", \"adm_2\": 3304557.0, \"adm_1\": \"RJ\", \"adm_0\": \"BR\", \"legend\": null}, {\"dates\": \"2023-01-29T00:00:00\", \"preds\": 345.27, \"lower\": 0.0, \"upper\": 1518.1194592248, \"data\": null, \"model\": \"77\", \"adm_2\": 3304557.0, \"adm_1\": \"RJ\", \"adm_0\": \"BR\", \"legend\": null}, {\"dates\": \"2023-02-05T00:00:00\", \"preds\": 462.34, \"lower\": 0.0, \"upper\": 1445.4253987699, \"data\": null, \"model\": \"77\", \"adm_2\": 3304557.0, \"adm_1\": \"RJ\", \"adm_0\": \"BR\", \"legend\": null}, {\"dates\": \"2023-02-12T00:00:00\", \"preds\": 481.6, \"lower\": 0.0, \"upper\": 1893.9755987178, \"data\": null, \"model\": \"77\", \"adm_2\": 3304557.0, \"adm_1\": \"RJ\", \"adm_0\": \"BR\", \"legend\": null}, {\"dates\": \"2023-02-19T00:00:00\", \"preds\": 481.56, \"lower\": 0.0, \"upper\": 1965.8780215081, \"data\": null, \"model\": \"77\", \"adm_2\": 3304557.0, \"adm_1\": \"RJ\", \"adm_0\": \"BR\", \"legend\": null}, {\"dates\": \"2023-02-26T00:00:00\", \"preds\": 574.3, \"lower\": 0.0, \"upper\": 2019.8204358497, \"data\": null, \"model\": \"77\", \"adm_2\": 3304557.0, \"adm_1\": \"RJ\", \"adm_0\": \"BR\", \"legend\": null}, {\"dates\": \"2023-03-05T00:00:00\", \"preds\": 908.59, \"lower\": 0.0, \"upper\": 2793.9425956685, \"data\": null, \"model\": \"77\", \"adm_2\": 3304557.0, \"adm_1\": \"RJ\", \"adm_0\": \"BR\", \"legend\": null}, {\"dates\": \"2023-03-12T00:00:00\", \"preds\": 1098.33, \"lower\": 0.0, \"upper\": 3565.2781705146, \"data\": null, \"model\": \"77\", \"adm_2\": 3304557.0, \"adm_1\": \"RJ\", \"adm_0\": \"BR\", \"legend\": null}, {\"dates\": \"2023-03-19T00:00:00\", \"preds\": 1255.02, \"lower\": 0.0, \"upper\": 4202.4693301775, \"data\": null, \"model\": \"77\", \"adm_2\": 3304557.0, \"adm_1\": \"RJ\", \"adm_0\": \"BR\", \"legend\": null}, {\"dates\": \"2023-03-26T00:00:00\", \"preds\": 903.32, \"lower\": 0.0, \"upper\": 3760.903225256, \"data\": null, \"model\": \"77\", \"adm_2\": 3304557.0, \"adm_1\": \"RJ\", \"adm_0\": \"BR\", \"legend\": null}, {\"dates\": \"2023-04-02T00:00:00\", \"preds\": 2084.83, \"lower\": 0.0, \"upper\": 4512.3417709763, \"data\": null, \"model\": \"77\", \"adm_2\": 3304557.0, \"adm_1\": \"RJ\", \"adm_0\": \"BR\", \"legend\": null}, {\"dates\": \"2023-04-09T00:00:00\", \"preds\": 1451.2, \"lower\": 0.0, \"upper\": 2937.0054003446, \"data\": null, \"model\": \"77\", \"adm_2\": 3304557.0, \"adm_1\": \"RJ\", \"adm_0\": \"BR\", \"legend\": null}, {\"dates\": \"2023-04-16T00:00:00\", \"preds\": 1680.13, \"lower\": 591.7969421614, \"upper\": 2768.4630578386, \"data\": null, \"model\": \"77\", \"adm_2\": 3304557.0, \"adm_1\": \"RJ\", \"adm_0\": \"BR\", \"legend\": null}, {\"dates\": \"2023-04-23T00:00:00\", \"preds\": 1944.43, \"lower\": 650.1333199898, \"upper\": 3238.7266800102, \"data\": null, \"model\": \"77\", \"adm_2\": 3304557.0, \"adm_1\": \"RJ\", \"adm_0\": \"BR\", \"legend\": null}, {\"dates\": \"2023-04-30T00:00:00\", \"preds\": 1575.31, \"lower\": 227.6224669775, \"upper\": 2922.9975330225, \"data\": null, \"model\": \"77\", \"adm_2\": 3304557.0, \"adm_1\": \"RJ\", \"adm_0\": \"BR\", \"legend\": null}, {\"dates\": \"2023-05-07T00:00:00\", \"preds\": 1426.24, \"lower\": 206.7682082167, \"upper\": 2645.7117917833, \"data\": null, \"model\": \"77\", \"adm_2\": 3304557.0, \"adm_1\": \"RJ\", \"adm_0\": \"BR\", \"legend\": null}, {\"dates\": \"2023-05-14T00:00:00\", \"preds\": 1939.85, \"lower\": 769.2177668869, \"upper\": 3110.4822331131, \"data\": null, \"model\": \"77\", \"adm_2\": 3304557.0, \"adm_1\": \"RJ\", \"adm_0\": \"BR\", \"legend\": null}, {\"dates\": \"2023-05-21T00:00:00\", \"preds\": 1454.24, \"lower\": 359.7715538942, \"upper\": 2548.7084461058, \"data\": null, \"model\": \"77\", \"adm_2\": 3304557.0, \"adm_1\": \"RJ\", \"adm_0\": \"BR\", \"legend\": null}, {\"dates\": \"2023-05-28T00:00:00\", \"preds\": 1134.07, \"lower\": 343.0948354381, \"upper\": 1925.0451645619, \"data\": null, \"model\": \"77\", \"adm_2\": 3304557.0, \"adm_1\": \"RJ\", \"adm_0\": \"BR\", \"legend\": null}, {\"dates\": \"2023-01-01T00:00:00\", \"preds\": 28.9193740338, \"lower\": 0.0, \"upper\": 602.8117241956, \"data\": null, \"model\": \"78\", \"adm_2\": 3304557.0, \"adm_1\": \"RJ\", \"adm_0\": \"BR\", \"legend\": null}, {\"dates\": \"2023-01-08T00:00:00\", \"preds\": 107.5751379728, \"lower\": 0.0, \"upper\": 566.5245524392, \"data\": null, \"model\": \"78\", \"adm_2\": 3304557.0, \"adm_1\": \"RJ\", \"adm_0\": \"BR\", \"legend\": null}, {\"dates\": \"2023-01-15T00:00:00\", \"preds\": 136.0464265496, \"lower\": 0.0, \"upper\": 654.7008858331, \"data\": null, \"model\": \"78\", \"adm_2\": 3304557.0, \"adm_1\": \"RJ\", \"adm_0\": \"BR\", \"legend\": null}, {\"dates\": \"2023-01-22T00:00:00\", \"preds\": 157.6281409636, \"lower\": 0.0, \"upper\": 703.7455855925, \"data\": null, \"model\": \"78\", \"adm_2\": 3304557.0, \"adm_1\": \"RJ\", \"adm_0\": \"BR\", \"legend\": null}, {\"dates\": \"2023-01-29T00:00:00\", \"preds\": 370.7788259685, \"lower\": 0.0, \"upper\": 879.478636435, \"data\": null, \"model\": \"78\", \"adm_2\": 3304557.0, \"adm_1\": \"RJ\", \"adm_0\": \"BR\", \"legend\": null}, {\"dates\": \"2023-02-05T00:00:00\", \"preds\": 200.67998676, \"lower\": 0.0, \"upper\": 720.2818470754, \"data\": null, \"model\": \"78\", \"adm_2\": 3304557.0, \"adm_1\": \"RJ\", \"adm_0\": \"BR\", \"legend\": null}, {\"dates\": \"2023-02-12T00:00:00\", \"preds\": 270.5449912548, \"lower\": 0.0, \"upper\": 766.0707564242, \"data\": null, \"model\": \"78\", \"adm_2\": 3304557.0, \"adm_1\": \"RJ\", \"adm_0\": \"BR\", \"legend\": null}, {\"dates\": \"2023-02-19T00:00:00\", \"preds\": 365.9762626961, \"lower\": 0.0, \"upper\": 984.143485938, \"data\": null, \"model\": \"78\", \"adm_2\": 3304557.0, \"adm_1\": \"RJ\", \"adm_0\": \"BR\", \"legend\": null}, {\"dates\": \"2023-02-26T00:00:00\", \"preds\": 434.2454627231, \"lower\": 0.0, \"upper\": 1035.7856581375, \"data\": null, \"model\": \"78\", \"adm_2\": 3304557.0, \"adm_1\": \"RJ\", \"adm_0\": \"BR\", \"legend\": null}, {\"dates\": \"2023-03-05T00:00:00\", \"preds\": 593.1198927313, \"lower\": 0.0, \"upper\": 1340.4223010339, \"data\": null, \"model\": \"78\", \"adm_2\": 3304557.0, \"adm_1\": \"RJ\", \"adm_0\": \"BR\", \"legend\": null}, {\"dates\": \"2023-03-12T00:00:00\", \"preds\": 486.762278229, \"lower\": 13.1828434534, \"upper\": 1258.1380503178, \"data\": null, \"model\": \"78\", \"adm_2\": 3304557.0, \"adm_1\": \"RJ\", \"adm_0\": \"BR\", \"legend\": null}, {\"dates\": \"2023-03-19T00:00:00\", \"preds\": 534.409355998, \"lower\": 0.0, \"upper\": 1161.3790531218, \"data\": null, \"model\": \"78\", \"adm_2\": 3304557.0, \"adm_1\": \"RJ\", \"adm_0\": \"BR\", \"legend\": null}, {\"dates\": \"2023-03-26T00:00:00\", \"preds\": 555.0313138813, \"lower\": 0.0, \"upper\": 1138.9978529975, \"data\": null, \"model\": \"78\", \"adm_2\": 3304557.0, \"adm_1\": \"RJ\", \"adm_0\": \"BR\", \"legend\": null}, {\"dates\": \"2023-04-02T00:00:00\", \"preds\": 540.6022553518, \"lower\": 0.0, \"upper\": 1290.8390316494, \"data\": null, \"model\": \"78\", \"adm_2\": 3304557.0, \"adm_1\": \"RJ\", \"adm_0\": \"BR\", \"legend\": null}, {\"dates\": \"2023-04-09T00:00:00\", \"preds\": 670.57262557, \"lower\": 63.0884215072, \"upper\": 1603.4207726844, \"data\": null, \"model\": \"78\", \"adm_2\": 3304557.0, \"adm_1\": \"RJ\", \"adm_0\": \"BR\", \"legend\": null}, {\"dates\": \"2023-04-16T00:00:00\", \"preds\": 823.2300753295, \"lower\": 5.3920096096, \"upper\": 1619.1121769279, \"data\": null, \"model\": \"78\", \"adm_2\": 3304557.0, \"adm_1\": \"RJ\", \"adm_0\": \"BR\", \"legend\": null}, {\"dates\": \"2023-04-23T00:00:00\", \"preds\": 821.3328076452, \"lower\": 0.0, \"upper\": 1657.2413398936, \"data\": null, \"model\": \"78\", \"adm_2\": 3304557.0, \"adm_1\": \"RJ\", \"adm_0\": \"BR\", \"legend\": null}, {\"dates\": \"2023-04-30T00:00:00\", \"preds\": 736.0327714011, \"lower\": 186.1478255641, \"upper\": 1522.9282282144, \"data\": null, \"model\": \"78\", \"adm_2\": 3304557.0, \"adm_1\": \"RJ\", \"adm_0\": \"BR\", \"legend\": null}, {\"dates\": \"2023-05-07T00:00:00\", \"preds\": 760.3757069707, \"lower\": 31.6744434658, \"upper\": 1601.576000803, \"data\": null, \"model\": \"78\", \"adm_2\": 3304557.0, \"adm_1\": \"RJ\", \"adm_0\": \"BR\", \"legend\": null}, {\"dates\": \"2023-05-14T00:00:00\", \"preds\": 593.9493001178, \"lower\": 0.0, \"upper\": 1293.7130412512, \"data\": null, \"model\": \"78\", \"adm_2\": 3304557.0, \"adm_1\": \"RJ\", \"adm_0\": \"BR\", \"legend\": null}, {\"dates\": \"2023-05-21T00:00:00\", \"preds\": 341.6071367562, \"lower\": 0.0, \"upper\": 890.2078188814, \"data\": null, \"model\": \"78\", \"adm_2\": 3304557.0, \"adm_1\": \"RJ\", \"adm_0\": \"BR\", \"legend\": null}, {\"dates\": \"2023-05-28T00:00:00\", \"preds\": 766.1951469854, \"lower\": 41.8829060107, \"upper\": 1633.4175681449, \"data\": null, \"model\": \"78\", \"adm_2\": 3304557.0, \"adm_1\": \"RJ\", \"adm_0\": \"BR\", \"legend\": null}, {\"dates\": \"2023-01-01T00:00:00\", \"preds\": 230.0, \"lower\": null, \"upper\": null, \"data\": null, \"model\": \"cases\", \"adm_2\": null, \"adm_1\": null, \"adm_0\": null, \"legend\": \"Data\"}, {\"dates\": \"2023-01-08T00:00:00\", \"preds\": 218.0, \"lower\": null, \"upper\": null, \"data\": null, \"model\": \"cases\", \"adm_2\": null, \"adm_1\": null, \"adm_0\": null, \"legend\": \"Data\"}, {\"dates\": \"2023-01-15T00:00:00\", \"preds\": 246.0, \"lower\": null, \"upper\": null, \"data\": null, \"model\": \"cases\", \"adm_2\": null, \"adm_1\": null, \"adm_0\": null, \"legend\": \"Data\"}, {\"dates\": \"2023-01-22T00:00:00\", \"preds\": 312.0, \"lower\": null, \"upper\": null, \"data\": null, \"model\": \"cases\", \"adm_2\": null, \"adm_1\": null, \"adm_0\": null, \"legend\": \"Data\"}, {\"dates\": \"2023-01-29T00:00:00\", \"preds\": 383.0, \"lower\": null, \"upper\": null, \"data\": null, \"model\": \"cases\", \"adm_2\": null, \"adm_1\": null, \"adm_0\": null, \"legend\": \"Data\"}, {\"dates\": \"2023-02-05T00:00:00\", \"preds\": 525.0, \"lower\": null, \"upper\": null, \"data\": null, \"model\": \"cases\", \"adm_2\": null, \"adm_1\": null, \"adm_0\": null, \"legend\": \"Data\"}, {\"dates\": \"2023-02-12T00:00:00\", \"preds\": 372.0, \"lower\": null, \"upper\": null, \"data\": null, \"model\": \"cases\", \"adm_2\": null, \"adm_1\": null, \"adm_0\": null, \"legend\": \"Data\"}, {\"dates\": \"2023-02-19T00:00:00\", \"preds\": 507.0, \"lower\": null, \"upper\": null, \"data\": null, \"model\": \"cases\", \"adm_2\": null, \"adm_1\": null, \"adm_0\": null, \"legend\": \"Data\"}, {\"dates\": \"2023-02-26T00:00:00\", \"preds\": 870.0, \"lower\": null, \"upper\": null, \"data\": null, \"model\": \"cases\", \"adm_2\": null, \"adm_1\": null, \"adm_0\": null, \"legend\": \"Data\"}, {\"dates\": \"2023-03-05T00:00:00\", \"preds\": 945.0, \"lower\": null, \"upper\": null, \"data\": null, \"model\": \"cases\", \"adm_2\": null, \"adm_1\": null, \"adm_0\": null, \"legend\": \"Data\"}, {\"dates\": \"2023-03-12T00:00:00\", \"preds\": 1125.0, \"lower\": null, \"upper\": null, \"data\": null, \"model\": \"cases\", \"adm_2\": null, \"adm_1\": null, \"adm_0\": null, \"legend\": \"Data\"}, {\"dates\": \"2023-03-19T00:00:00\", \"preds\": 1382.0, \"lower\": null, \"upper\": null, \"data\": null, \"model\": \"cases\", \"adm_2\": null, \"adm_1\": null, \"adm_0\": null, \"legend\": \"Data\"}, {\"dates\": \"2023-03-26T00:00:00\", \"preds\": 1580.0, \"lower\": null, \"upper\": null, \"data\": null, \"model\": \"cases\", \"adm_2\": null, \"adm_1\": null, \"adm_0\": null, \"legend\": \"Data\"}, {\"dates\": \"2023-04-02T00:00:00\", \"preds\": 1420.0, \"lower\": null, \"upper\": null, \"data\": null, \"model\": \"cases\", \"adm_2\": null, \"adm_1\": null, \"adm_0\": null, \"legend\": \"Data\"}, {\"dates\": \"2023-04-09T00:00:00\", \"preds\": 1783.0, \"lower\": null, \"upper\": null, \"data\": null, \"model\": \"cases\", \"adm_2\": null, \"adm_1\": null, \"adm_0\": null, \"legend\": \"Data\"}, {\"dates\": \"2023-04-16T00:00:00\", \"preds\": 1502.0, \"lower\": null, \"upper\": null, \"data\": null, \"model\": \"cases\", \"adm_2\": null, \"adm_1\": null, \"adm_0\": null, \"legend\": \"Data\"}, {\"dates\": \"2023-04-23T00:00:00\", \"preds\": 1572.0, \"lower\": null, \"upper\": null, \"data\": null, \"model\": \"cases\", \"adm_2\": null, \"adm_1\": null, \"adm_0\": null, \"legend\": \"Data\"}, {\"dates\": \"2023-04-30T00:00:00\", \"preds\": 1919.0, \"lower\": null, \"upper\": null, \"data\": null, \"model\": \"cases\", \"adm_2\": null, \"adm_1\": null, \"adm_0\": null, \"legend\": \"Data\"}, {\"dates\": \"2023-05-07T00:00:00\", \"preds\": 1807.0, \"lower\": null, \"upper\": null, \"data\": null, \"model\": \"cases\", \"adm_2\": null, \"adm_1\": null, \"adm_0\": null, \"legend\": \"Data\"}, {\"dates\": \"2023-05-14T00:00:00\", \"preds\": 1731.0, \"lower\": null, \"upper\": null, \"data\": null, \"model\": \"cases\", \"adm_2\": null, \"adm_1\": null, \"adm_0\": null, \"legend\": \"Data\"}, {\"dates\": \"2023-05-21T00:00:00\", \"preds\": 1479.0, \"lower\": null, \"upper\": null, \"data\": null, \"model\": \"cases\", \"adm_2\": null, \"adm_1\": null, \"adm_0\": null, \"legend\": \"Data\"}, {\"dates\": \"2023-05-28T00:00:00\", \"preds\": 1328.0, \"lower\": null, \"upper\": null, \"data\": null, \"model\": \"cases\", \"adm_2\": null, \"adm_1\": null, \"adm_0\": null, \"legend\": \"Data\"}]}}, {\"mode\": \"vega-lite\"});\n",
       "</script>"
      ],
      "text/plain": [
       "alt.LayerChart(...)"
      ]
     },
     "execution_count": 22,
     "metadata": {},
     "output_type": "execute_result"
    }
   ],
   "execution_count": 22
  },
  {
   "metadata": {},
   "cell_type": "code",
   "outputs": [],
   "execution_count": null,
   "source": "",
   "id": "1a53657c4d56cdd1"
  }
 ],
 "metadata": {
  "kernelspec": {
   "display_name": "Python 3 (ipykernel)",
   "language": "python",
   "name": "python3"
  },
  "language_info": {
   "codemirror_mode": {
    "name": "ipython",
    "version": 3
   },
   "file_extension": ".py",
   "mimetype": "text/x-python",
   "name": "python",
   "nbconvert_exporter": "python",
   "pygments_lexer": "ipython3",
   "version": "3.10.14"
  }
 },
 "nbformat": 4,
 "nbformat_minor": 5
}
