{
 "cells": [
  {
   "cell_type": "markdown",
   "id": "cfdd3892-ae77-4c79-93ca-754e259ed5c7",
   "metadata": {},
   "source": [
    "This notebook explains how the `Scorer` class can be used to compute the following metrics: \n",
    "* MAE (mean absolute error); \n",
    "* MSE (mean squared error); \n",
    "* CRPS (Continuous Ranked Probability Score);\n",
    "* Log Score.\n",
    "\n",
    "The CRPS and Log score assume a normal distribution since the lower and upper 95% CI intervals are used to compute the score. "
   ]
  },
  {
   "cell_type": "code",
   "execution_count": 1,
   "id": "6ae9fd3d-f244-431e-a88d-edca9cad1061",
   "metadata": {},
   "outputs": [],
   "source": [
    "import numpy as np\n",
    "import pandas as pd\n",
    "from mosqlient import get_infodengue\n",
    "from mosqlient.models.score import Scorer"
   ]
  },
  {
   "cell_type": "markdown",
   "id": "47bb9ee1-6d7c-40ee-80d6-e58d50589c87",
   "metadata": {},
   "source": [
    "To show the use of the class to compare the score of new predictions with the predictions registered on the platform it will be used the baseline model."
   ]
  },
  {
   "cell_type": "code",
   "execution_count": 2,
   "id": "be9f0a95-f2b5-4b40-a857-c13de4cb10ca",
   "metadata": {},
   "outputs": [],
   "source": [
    "from datetime import date\n",
    "from mosqlient.datastore import Infodengue\n",
    "from mosqlient.models.baseline import Arima"
   ]
  },
  {
   "cell_type": "markdown",
   "id": "b4639f80",
   "metadata": {},
   "source": [
    "It will compare the predictions of id 77 and 78, which refer to the geocode 3304557, between `2022-01-02` and `2023-06-25`. \n",
    "\n",
    "So initially, we will get the data that will be used to train the model and generate the new predictions:"
   ]
  },
  {
   "cell_type": "code",
   "execution_count": 3,
   "id": "a5694e39-5ae1-4301-a6d2-b3f658629ce6",
   "metadata": {},
   "outputs": [
    {
     "data": {
      "text/html": [
       "<div>\n",
       "<style scoped>\n",
       "    .dataframe tbody tr th:only-of-type {\n",
       "        vertical-align: middle;\n",
       "    }\n",
       "\n",
       "    .dataframe tbody tr th {\n",
       "        vertical-align: top;\n",
       "    }\n",
       "\n",
       "    .dataframe thead th {\n",
       "        text-align: right;\n",
       "    }\n",
       "</style>\n",
       "<table border=\"1\" class=\"dataframe\">\n",
       "  <thead>\n",
       "    <tr style=\"text-align: right;\">\n",
       "      <th></th>\n",
       "      <th>y</th>\n",
       "    </tr>\n",
       "    <tr>\n",
       "      <th>data_iniSE</th>\n",
       "      <th></th>\n",
       "    </tr>\n",
       "  </thead>\n",
       "  <tbody>\n",
       "    <tr>\n",
       "      <th>2010-01-03</th>\n",
       "      <td>30</td>\n",
       "    </tr>\n",
       "    <tr>\n",
       "      <th>2010-01-10</th>\n",
       "      <td>44</td>\n",
       "    </tr>\n",
       "    <tr>\n",
       "      <th>2010-01-17</th>\n",
       "      <td>46</td>\n",
       "    </tr>\n",
       "    <tr>\n",
       "      <th>2010-01-24</th>\n",
       "      <td>47</td>\n",
       "    </tr>\n",
       "    <tr>\n",
       "      <th>2010-01-31</th>\n",
       "      <td>68</td>\n",
       "    </tr>\n",
       "  </tbody>\n",
       "</table>\n",
       "</div>"
      ],
      "text/plain": [
       "             y\n",
       "data_iniSE    \n",
       "2010-01-03  30\n",
       "2010-01-10  44\n",
       "2010-01-17  46\n",
       "2010-01-24  47\n",
       "2010-01-31  68"
      ]
     },
     "execution_count": 3,
     "metadata": {},
     "output_type": "execute_result"
    }
   ],
   "source": [
    "disease = 'dengue'\n",
    "geocode = 3304557 \n",
    "end_date = date.today().strftime('%Y-%m-%d')\n",
    "\n",
    "df = get_infodengue(disease = 'dengue',\n",
    "                start_date = '2010-01-01', \n",
    "              end_date = '2023-12-31', \n",
    "              geocode = 3304557)\n",
    "\n",
    "df['data_iniSE'] = pd.to_datetime(df['data_iniSE'])\n",
    "\n",
    "df.set_index('data_iniSE', inplace = True )\n",
    "    \n",
    "df = df[['casos']].rename(columns = {'casos':'y'})\n",
    "\n",
    "df = df.resample('W-SUN').sum()\n",
    "\n",
    "df.head()"
   ]
  },
  {
   "cell_type": "markdown",
   "id": "3f847a93",
   "metadata": {},
   "source": [
    "Create the model:"
   ]
  },
  {
   "cell_type": "code",
   "execution_count": 4,
   "id": "7f5447da-5b14-45de-8de7-5d0db003efa8",
   "metadata": {},
   "outputs": [
    {
     "data": {
      "text/plain": [
       "<mosqlient.models.baseline.Arima at 0x17ce42bc0>"
      ]
     },
     "execution_count": 4,
     "metadata": {},
     "output_type": "execute_result"
    }
   ],
   "source": [
    "m_arima = Arima(df = df)\n",
    "\n",
    "m_arima"
   ]
  },
  {
   "cell_type": "markdown",
   "id": "b1d65a8b",
   "metadata": {},
   "source": [
    "Train the model: "
   ]
  },
  {
   "cell_type": "code",
   "execution_count": 5,
   "id": "3999037f-3ebb-4da5-a43d-4dbd0f924c51",
   "metadata": {},
   "outputs": [
    {
     "name": "stdout",
     "output_type": "stream",
     "text": [
      "Performing stepwise search to minimize aic\n",
      " ARIMA(2,1,2)(0,0,0)[0] intercept   : AIC=-292.056, Time=0.14 sec\n",
      " ARIMA(0,1,0)(0,0,0)[0] intercept   : AIC=-263.166, Time=0.03 sec\n",
      " ARIMA(1,1,0)(0,0,0)[0] intercept   : AIC=-297.770, Time=0.03 sec\n",
      " ARIMA(0,1,1)(0,0,0)[0] intercept   : AIC=-289.846, Time=0.04 sec\n",
      " ARIMA(0,1,0)(0,0,0)[0]             : AIC=-265.069, Time=0.02 sec\n",
      " ARIMA(2,1,0)(0,0,0)[0] intercept   : AIC=-302.929, Time=0.05 sec\n",
      " ARIMA(3,1,0)(0,0,0)[0] intercept   : AIC=-302.144, Time=0.05 sec\n",
      " ARIMA(2,1,1)(0,0,0)[0] intercept   : AIC=-309.026, Time=0.21 sec\n",
      " ARIMA(1,1,1)(0,0,0)[0] intercept   : AIC=-301.338, Time=0.07 sec\n",
      " ARIMA(3,1,1)(0,0,0)[0] intercept   : AIC=-307.027, Time=0.17 sec\n",
      " ARIMA(1,1,2)(0,0,0)[0] intercept   : AIC=-305.684, Time=0.17 sec\n",
      " ARIMA(3,1,2)(0,0,0)[0] intercept   : AIC=-306.429, Time=0.31 sec\n",
      " ARIMA(2,1,1)(0,0,0)[0]             : AIC=-310.932, Time=0.05 sec\n",
      " ARIMA(1,1,1)(0,0,0)[0]             : AIC=-303.191, Time=0.05 sec\n",
      " ARIMA(2,1,0)(0,0,0)[0]             : AIC=-304.794, Time=0.02 sec\n",
      " ARIMA(3,1,1)(0,0,0)[0]             : AIC=-308.934, Time=0.06 sec\n",
      " ARIMA(2,1,2)(0,0,0)[0]             : AIC=inf, Time=0.17 sec\n",
      " ARIMA(1,1,0)(0,0,0)[0]             : AIC=-299.603, Time=0.02 sec\n",
      " ARIMA(1,1,2)(0,0,0)[0]             : AIC=-307.585, Time=0.07 sec\n",
      " ARIMA(3,1,0)(0,0,0)[0]             : AIC=-304.014, Time=0.03 sec\n",
      " ARIMA(3,1,2)(0,0,0)[0]             : AIC=-308.337, Time=0.09 sec\n",
      "\n",
      "Best model:  ARIMA(2,1,1)(0,0,0)[0]          \n",
      "Total fit time: 1.860 seconds\n"
     ]
    }
   ],
   "source": [
    "model = m_arima.train(train_ini_date='2010-01-01', train_end_date = '2021-12-31')\n"
   ]
  },
  {
   "cell_type": "markdown",
   "id": "4582c684",
   "metadata": {},
   "source": [
    "Generate the out-of-sample predictions:"
   ]
  },
  {
   "cell_type": "code",
   "execution_count": 6,
   "id": "51c1ca96-8a52-4702-b0c8-037fda568b43",
   "metadata": {},
   "outputs": [
    {
     "data": {
      "text/html": [
       "<div>\n",
       "<style scoped>\n",
       "    .dataframe tbody tr th:only-of-type {\n",
       "        vertical-align: middle;\n",
       "    }\n",
       "\n",
       "    .dataframe tbody tr th {\n",
       "        vertical-align: top;\n",
       "    }\n",
       "\n",
       "    .dataframe thead th {\n",
       "        text-align: right;\n",
       "    }\n",
       "</style>\n",
       "<table border=\"1\" class=\"dataframe\">\n",
       "  <thead>\n",
       "    <tr style=\"text-align: right;\">\n",
       "      <th></th>\n",
       "      <th>dates</th>\n",
       "      <th>preds</th>\n",
       "      <th>lower</th>\n",
       "      <th>upper</th>\n",
       "      <th>data</th>\n",
       "    </tr>\n",
       "  </thead>\n",
       "  <tbody>\n",
       "    <tr>\n",
       "      <th>0</th>\n",
       "      <td>2022-01-02</td>\n",
       "      <td>3.614652</td>\n",
       "      <td>2.380136</td>\n",
       "      <td>5.611539</td>\n",
       "      <td>21.0</td>\n",
       "    </tr>\n",
       "    <tr>\n",
       "      <th>1</th>\n",
       "      <td>2022-01-09</td>\n",
       "      <td>3.433219</td>\n",
       "      <td>2.039724</td>\n",
       "      <td>5.982179</td>\n",
       "      <td>14.0</td>\n",
       "    </tr>\n",
       "    <tr>\n",
       "      <th>2</th>\n",
       "      <td>2022-01-16</td>\n",
       "      <td>3.252114</td>\n",
       "      <td>1.717638</td>\n",
       "      <td>6.491375</td>\n",
       "      <td>22.0</td>\n",
       "    </tr>\n",
       "    <tr>\n",
       "      <th>3</th>\n",
       "      <td>2022-01-23</td>\n",
       "      <td>3.118680</td>\n",
       "      <td>1.490891</td>\n",
       "      <td>7.007494</td>\n",
       "      <td>19.0</td>\n",
       "    </tr>\n",
       "    <tr>\n",
       "      <th>0</th>\n",
       "      <td>2022-01-30</td>\n",
       "      <td>21.331345</td>\n",
       "      <td>12.570933</td>\n",
       "      <td>37.513248</td>\n",
       "      <td>31.0</td>\n",
       "    </tr>\n",
       "  </tbody>\n",
       "</table>\n",
       "</div>"
      ],
      "text/plain": [
       "       dates      preds      lower      upper  data\n",
       "0 2022-01-02   3.614652   2.380136   5.611539  21.0\n",
       "1 2022-01-09   3.433219   2.039724   5.982179  14.0\n",
       "2 2022-01-16   3.252114   1.717638   6.491375  22.0\n",
       "3 2022-01-23   3.118680   1.490891   7.007494  19.0\n",
       "0 2022-01-30  21.331345  12.570933  37.513248  31.0"
      ]
     },
     "execution_count": 6,
     "metadata": {},
     "output_type": "execute_result"
    }
   ],
   "source": [
    "df_out = m_arima.predict_out_of_sample(horizon = 4, end_date = '2023-06-25', plot = False)\n",
    "\n",
    "df_out.head()"
   ]
  },
  {
   "cell_type": "markdown",
   "id": "74461903",
   "metadata": {},
   "source": [
    "To compare the model with other predictions in the platform, it is necessary to provide the ids of the predictions, the dataframe of the new prediction with the columns `dates`, `preds`, `lower` and `upper`, and the dataframe with the `true` values to be compared (df_true). This dataframe must contain the columns `dates` and `casos`.\n",
    "\n",
    "Redefine the data to compare the predictions:"
   ]
  },
  {
   "cell_type": "code",
   "execution_count": 7,
   "id": "20ad6b87",
   "metadata": {},
   "outputs": [
    {
     "data": {
      "text/html": [
       "<div>\n",
       "<style scoped>\n",
       "    .dataframe tbody tr th:only-of-type {\n",
       "        vertical-align: middle;\n",
       "    }\n",
       "\n",
       "    .dataframe tbody tr th {\n",
       "        vertical-align: top;\n",
       "    }\n",
       "\n",
       "    .dataframe thead th {\n",
       "        text-align: right;\n",
       "    }\n",
       "</style>\n",
       "<table border=\"1\" class=\"dataframe\">\n",
       "  <thead>\n",
       "    <tr style=\"text-align: right;\">\n",
       "      <th></th>\n",
       "      <th>dates</th>\n",
       "      <th>casos</th>\n",
       "    </tr>\n",
       "  </thead>\n",
       "  <tbody>\n",
       "    <tr>\n",
       "      <th>0</th>\n",
       "      <td>2010-01-03</td>\n",
       "      <td>30.0</td>\n",
       "    </tr>\n",
       "    <tr>\n",
       "      <th>1</th>\n",
       "      <td>2010-01-10</td>\n",
       "      <td>44.0</td>\n",
       "    </tr>\n",
       "    <tr>\n",
       "      <th>2</th>\n",
       "      <td>2010-01-17</td>\n",
       "      <td>46.0</td>\n",
       "    </tr>\n",
       "    <tr>\n",
       "      <th>3</th>\n",
       "      <td>2010-01-24</td>\n",
       "      <td>47.0</td>\n",
       "    </tr>\n",
       "    <tr>\n",
       "      <th>4</th>\n",
       "      <td>2010-01-31</td>\n",
       "      <td>68.0</td>\n",
       "    </tr>\n",
       "  </tbody>\n",
       "</table>\n",
       "</div>"
      ],
      "text/plain": [
       "       dates  casos\n",
       "0 2010-01-03   30.0\n",
       "1 2010-01-10   44.0\n",
       "2 2010-01-17   46.0\n",
       "3 2010-01-24   47.0\n",
       "4 2010-01-31   68.0"
      ]
     },
     "execution_count": 7,
     "metadata": {},
     "output_type": "execute_result"
    }
   ],
   "source": [
    "data = df.reset_index()\n",
    "\n",
    "data = data.rename(columns = {'data_iniSE': 'dates', 'y':'casos'})\n",
    "\n",
    "data.head()"
   ]
  },
  {
   "cell_type": "code",
   "execution_count": 8,
   "id": "de2a5e3f-562d-4751-9a30-2112d4bdc904",
   "metadata": {},
   "outputs": [
    {
     "name": "stdout",
     "output_type": "stream",
     "text": [
      "CPU times: user 271 ms, sys: 4.55 ms, total: 275 ms\n",
      "Wall time: 2.17 s\n"
     ]
    }
   ],
   "source": [
    "%%time\n",
    "score = Scorer(df_true = data, ids = [77,78], preds = df_out)"
   ]
  },
  {
   "cell_type": "markdown",
   "id": "8ff30c71",
   "metadata": {},
   "source": [
    "**The class above can be initialized with just the `ids` or `preds` parameter filled.** \n",
    "\n",
    "To see the MAE error for your model (key = `preds`) and the other use: "
   ]
  },
  {
   "cell_type": "code",
   "execution_count": 9,
   "id": "a4c7935d-21e2-4681-bee5-19a776c4de4b",
   "metadata": {},
   "outputs": [
    {
     "data": {
      "text/plain": [
       "{'preds': 115.5260621413822, 77: 150.21846153846153, 78: 260.9831835557859}"
      ]
     },
     "execution_count": 9,
     "metadata": {},
     "output_type": "execute_result"
    }
   ],
   "source": [
    "score.mae"
   ]
  },
  {
   "cell_type": "markdown",
   "id": "bd3166c0",
   "metadata": {},
   "source": [
    "To plot a bar chart: "
   ]
  },
  {
   "cell_type": "code",
   "execution_count": 10,
   "id": "2819d0da",
   "metadata": {},
   "outputs": [
    {
     "data": {
      "text/html": [
       "\n",
       "<style>\n",
       "  #altair-viz-790f12e804524c4ca574f150b53f1376.vega-embed {\n",
       "    width: 100%;\n",
       "    display: flex;\n",
       "  }\n",
       "\n",
       "  #altair-viz-790f12e804524c4ca574f150b53f1376.vega-embed details,\n",
       "  #altair-viz-790f12e804524c4ca574f150b53f1376.vega-embed details summary {\n",
       "    position: relative;\n",
       "  }\n",
       "</style>\n",
       "<div id=\"altair-viz-790f12e804524c4ca574f150b53f1376\"></div>\n",
       "<script type=\"text/javascript\">\n",
       "  var VEGA_DEBUG = (typeof VEGA_DEBUG == \"undefined\") ? {} : VEGA_DEBUG;\n",
       "  (function(spec, embedOpt){\n",
       "    let outputDiv = document.currentScript.previousElementSibling;\n",
       "    if (outputDiv.id !== \"altair-viz-790f12e804524c4ca574f150b53f1376\") {\n",
       "      outputDiv = document.getElementById(\"altair-viz-790f12e804524c4ca574f150b53f1376\");\n",
       "    }\n",
       "    const paths = {\n",
       "      \"vega\": \"https://cdn.jsdelivr.net/npm/vega@5?noext\",\n",
       "      \"vega-lib\": \"https://cdn.jsdelivr.net/npm/vega-lib?noext\",\n",
       "      \"vega-lite\": \"https://cdn.jsdelivr.net/npm/vega-lite@5.17.0?noext\",\n",
       "      \"vega-embed\": \"https://cdn.jsdelivr.net/npm/vega-embed@6?noext\",\n",
       "    };\n",
       "\n",
       "    function maybeLoadScript(lib, version) {\n",
       "      var key = `${lib.replace(\"-\", \"\")}_version`;\n",
       "      return (VEGA_DEBUG[key] == version) ?\n",
       "        Promise.resolve(paths[lib]) :\n",
       "        new Promise(function(resolve, reject) {\n",
       "          var s = document.createElement('script');\n",
       "          document.getElementsByTagName(\"head\")[0].appendChild(s);\n",
       "          s.async = true;\n",
       "          s.onload = () => {\n",
       "            VEGA_DEBUG[key] = version;\n",
       "            return resolve(paths[lib]);\n",
       "          };\n",
       "          s.onerror = () => reject(`Error loading script: ${paths[lib]}`);\n",
       "          s.src = paths[lib];\n",
       "        });\n",
       "    }\n",
       "\n",
       "    function showError(err) {\n",
       "      outputDiv.innerHTML = `<div class=\"error\" style=\"color:red;\">${err}</div>`;\n",
       "      throw err;\n",
       "    }\n",
       "\n",
       "    function displayChart(vegaEmbed) {\n",
       "      vegaEmbed(outputDiv, spec, embedOpt)\n",
       "        .catch(err => showError(`Javascript Error: ${err.message}<br>This usually means there's a typo in your chart specification. See the javascript console for the full traceback.`));\n",
       "    }\n",
       "\n",
       "    if(typeof define === \"function\" && define.amd) {\n",
       "      requirejs.config({paths});\n",
       "      require([\"vega-embed\"], displayChart, err => showError(`Error loading script: ${err.message}`));\n",
       "    } else {\n",
       "      maybeLoadScript(\"vega\", \"5\")\n",
       "        .then(() => maybeLoadScript(\"vega-lite\", \"5.17.0\"))\n",
       "        .then(() => maybeLoadScript(\"vega-embed\", \"6\"))\n",
       "        .catch(showError)\n",
       "        .then(() => displayChart(vegaEmbed));\n",
       "    }\n",
       "  })({\"config\": {\"view\": {\"continuousWidth\": 300, \"continuousHeight\": 300}}, \"data\": {\"name\": \"data-88525e9b9effc78f10117c0c102f4a41\"}, \"mark\": {\"type\": \"bar\"}, \"encoding\": {\"color\": {\"field\": \"id\", \"legend\": {\"title\": \"Model\"}, \"type\": \"nominal\"}, \"x\": {\"axis\": {\"labelAngle\": 360}, \"field\": \"id\", \"title\": \"Model\", \"type\": \"nominal\"}, \"y\": {\"field\": \"mae\", \"title\": \"mae\", \"type\": \"quantitative\"}}, \"height\": 300, \"title\": \"mae score\", \"width\": 400, \"$schema\": \"https://vega.github.io/schema/vega-lite/v5.17.0.json\", \"datasets\": {\"data-88525e9b9effc78f10117c0c102f4a41\": [{\"id\": \"preds\", \"mae\": 115.5260621413822, \"mse\": 39545.91919848995, \"crps\": 121.89303184351364, \"log_score\": -12.1178360926209}, {\"id\": \"77\", \"mae\": 150.21846153846153, \"mse\": 69988.36318717948, \"crps\": 156.06964740718584, \"log_score\": -7.13834876171043}, {\"id\": \"78\", \"mae\": 260.9831835557859, \"mse\": 166280.6349972801, \"crps\": 194.82619915500484, \"log_score\": -7.2065948303292044}]}}, {\"mode\": \"vega-lite\"});\n",
       "</script>"
      ],
      "text/plain": [
       "alt.Chart(...)"
      ]
     },
     "execution_count": 10,
     "metadata": {},
     "output_type": "execute_result"
    }
   ],
   "source": [
    "score.plot_mae()"
   ]
  },
  {
   "cell_type": "markdown",
   "id": "582e338a",
   "metadata": {},
   "source": [
    "To see the MSE error for your model (key = `preds`) and the other use: "
   ]
  },
  {
   "cell_type": "code",
   "execution_count": 11,
   "id": "683c8cca",
   "metadata": {},
   "outputs": [
    {
     "data": {
      "text/plain": [
       "{'preds': 39545.91919848995, 77: 69988.36318717948, 78: 166280.6349972801}"
      ]
     },
     "execution_count": 11,
     "metadata": {},
     "output_type": "execute_result"
    }
   ],
   "source": [
    "score.mse"
   ]
  },
  {
   "cell_type": "markdown",
   "id": "58843665",
   "metadata": {},
   "source": [
    "To plot a bar chart: "
   ]
  },
  {
   "cell_type": "code",
   "execution_count": 12,
   "id": "1e40e73d",
   "metadata": {},
   "outputs": [
    {
     "data": {
      "text/html": [
       "\n",
       "<style>\n",
       "  #altair-viz-fd074be1daeb4ba8abffdaec8b10ca70.vega-embed {\n",
       "    width: 100%;\n",
       "    display: flex;\n",
       "  }\n",
       "\n",
       "  #altair-viz-fd074be1daeb4ba8abffdaec8b10ca70.vega-embed details,\n",
       "  #altair-viz-fd074be1daeb4ba8abffdaec8b10ca70.vega-embed details summary {\n",
       "    position: relative;\n",
       "  }\n",
       "</style>\n",
       "<div id=\"altair-viz-fd074be1daeb4ba8abffdaec8b10ca70\"></div>\n",
       "<script type=\"text/javascript\">\n",
       "  var VEGA_DEBUG = (typeof VEGA_DEBUG == \"undefined\") ? {} : VEGA_DEBUG;\n",
       "  (function(spec, embedOpt){\n",
       "    let outputDiv = document.currentScript.previousElementSibling;\n",
       "    if (outputDiv.id !== \"altair-viz-fd074be1daeb4ba8abffdaec8b10ca70\") {\n",
       "      outputDiv = document.getElementById(\"altair-viz-fd074be1daeb4ba8abffdaec8b10ca70\");\n",
       "    }\n",
       "    const paths = {\n",
       "      \"vega\": \"https://cdn.jsdelivr.net/npm/vega@5?noext\",\n",
       "      \"vega-lib\": \"https://cdn.jsdelivr.net/npm/vega-lib?noext\",\n",
       "      \"vega-lite\": \"https://cdn.jsdelivr.net/npm/vega-lite@5.17.0?noext\",\n",
       "      \"vega-embed\": \"https://cdn.jsdelivr.net/npm/vega-embed@6?noext\",\n",
       "    };\n",
       "\n",
       "    function maybeLoadScript(lib, version) {\n",
       "      var key = `${lib.replace(\"-\", \"\")}_version`;\n",
       "      return (VEGA_DEBUG[key] == version) ?\n",
       "        Promise.resolve(paths[lib]) :\n",
       "        new Promise(function(resolve, reject) {\n",
       "          var s = document.createElement('script');\n",
       "          document.getElementsByTagName(\"head\")[0].appendChild(s);\n",
       "          s.async = true;\n",
       "          s.onload = () => {\n",
       "            VEGA_DEBUG[key] = version;\n",
       "            return resolve(paths[lib]);\n",
       "          };\n",
       "          s.onerror = () => reject(`Error loading script: ${paths[lib]}`);\n",
       "          s.src = paths[lib];\n",
       "        });\n",
       "    }\n",
       "\n",
       "    function showError(err) {\n",
       "      outputDiv.innerHTML = `<div class=\"error\" style=\"color:red;\">${err}</div>`;\n",
       "      throw err;\n",
       "    }\n",
       "\n",
       "    function displayChart(vegaEmbed) {\n",
       "      vegaEmbed(outputDiv, spec, embedOpt)\n",
       "        .catch(err => showError(`Javascript Error: ${err.message}<br>This usually means there's a typo in your chart specification. See the javascript console for the full traceback.`));\n",
       "    }\n",
       "\n",
       "    if(typeof define === \"function\" && define.amd) {\n",
       "      requirejs.config({paths});\n",
       "      require([\"vega-embed\"], displayChart, err => showError(`Error loading script: ${err.message}`));\n",
       "    } else {\n",
       "      maybeLoadScript(\"vega\", \"5\")\n",
       "        .then(() => maybeLoadScript(\"vega-lite\", \"5.17.0\"))\n",
       "        .then(() => maybeLoadScript(\"vega-embed\", \"6\"))\n",
       "        .catch(showError)\n",
       "        .then(() => displayChart(vegaEmbed));\n",
       "    }\n",
       "  })({\"config\": {\"view\": {\"continuousWidth\": 300, \"continuousHeight\": 300}}, \"data\": {\"name\": \"data-88525e9b9effc78f10117c0c102f4a41\"}, \"mark\": {\"type\": \"bar\"}, \"encoding\": {\"color\": {\"field\": \"id\", \"legend\": {\"title\": \"Model\"}, \"type\": \"nominal\"}, \"x\": {\"axis\": {\"labelAngle\": 360}, \"field\": \"id\", \"title\": \"Model\", \"type\": \"nominal\"}, \"y\": {\"field\": \"mse\", \"title\": \"mse\", \"type\": \"quantitative\"}}, \"height\": 300, \"title\": \"mse score\", \"width\": 400, \"$schema\": \"https://vega.github.io/schema/vega-lite/v5.17.0.json\", \"datasets\": {\"data-88525e9b9effc78f10117c0c102f4a41\": [{\"id\": \"preds\", \"mae\": 115.5260621413822, \"mse\": 39545.91919848995, \"crps\": 121.89303184351364, \"log_score\": -12.1178360926209}, {\"id\": \"77\", \"mae\": 150.21846153846153, \"mse\": 69988.36318717948, \"crps\": 156.06964740718584, \"log_score\": -7.13834876171043}, {\"id\": \"78\", \"mae\": 260.9831835557859, \"mse\": 166280.6349972801, \"crps\": 194.82619915500484, \"log_score\": -7.2065948303292044}]}}, {\"mode\": \"vega-lite\"});\n",
       "</script>"
      ],
      "text/plain": [
       "alt.Chart(...)"
      ]
     },
     "execution_count": 12,
     "metadata": {},
     "output_type": "execute_result"
    }
   ],
   "source": [
    "score.plot_mse()"
   ]
  },
  {
   "cell_type": "markdown",
   "id": "1dff03ff",
   "metadata": {},
   "source": [
    "To see the CRPS score for your model (key = `preds`) and the other, use the code below. The first dict contains the score by each point, and the second one shows the mean of the score.  "
   ]
  },
  {
   "cell_type": "code",
   "execution_count": 13,
   "id": "af24c195",
   "metadata": {},
   "outputs": [
    {
     "data": {
      "text/plain": [
       "({'preds': dates\n",
       "  2022-01-02     16.929567\n",
       "  2022-01-09     10.010708\n",
       "  2022-01-16     18.074563\n",
       "  2022-01-23     15.103217\n",
       "  2022-01-30      6.475982\n",
       "                   ...    \n",
       "  2023-05-28    392.058850\n",
       "  2023-06-04    549.744630\n",
       "  2023-06-11    704.729761\n",
       "  2023-06-18    159.773136\n",
       "  2023-06-25    261.631596\n",
       "  Length: 78, dtype: float64,\n",
       "  77: dates\n",
       "  2022-01-02    102.524694\n",
       "  2022-01-09     89.908531\n",
       "  2022-01-16     39.430201\n",
       "  2022-01-23     67.323246\n",
       "  2022-01-30     61.630854\n",
       "                   ...    \n",
       "  2023-05-28    129.618554\n",
       "  2023-06-04    749.611256\n",
       "  2023-06-11    601.061591\n",
       "  2023-06-18    149.510736\n",
       "  2023-06-25    222.354416\n",
       "  Length: 78, dtype: float64,\n",
       "  78: dates\n",
       "  2022-01-02     59.172107\n",
       "  2022-01-09     31.326248\n",
       "  2022-01-16     25.620518\n",
       "  2022-01-23     27.721827\n",
       "  2022-01-30     38.027232\n",
       "                   ...    \n",
       "  2023-05-28    365.740799\n",
       "  2023-06-04    187.866280\n",
       "  2023-06-11    469.313500\n",
       "  2023-06-18    312.681174\n",
       "  2023-06-25    422.268150\n",
       "  Length: 78, dtype: float64},\n",
       " {'preds': 121.89303184351364, 77: 156.06964740718584, 78: 194.82619915500484})"
      ]
     },
     "execution_count": 13,
     "metadata": {},
     "output_type": "execute_result"
    }
   ],
   "source": [
    "score.crps"
   ]
  },
  {
   "cell_type": "markdown",
   "id": "c8381bda",
   "metadata": {},
   "source": [
    "To plot the score you can use: "
   ]
  },
  {
   "cell_type": "code",
   "execution_count": 14,
   "id": "df1843ae",
   "metadata": {},
   "outputs": [
    {
     "data": {
      "text/html": [
       "\n",
       "<style>\n",
       "  #altair-viz-0b4edc86ba2f4d478e671fb8fa689c16.vega-embed {\n",
       "    width: 100%;\n",
       "    display: flex;\n",
       "  }\n",
       "\n",
       "  #altair-viz-0b4edc86ba2f4d478e671fb8fa689c16.vega-embed details,\n",
       "  #altair-viz-0b4edc86ba2f4d478e671fb8fa689c16.vega-embed details summary {\n",
       "    position: relative;\n",
       "  }\n",
       "</style>\n",
       "<div id=\"altair-viz-0b4edc86ba2f4d478e671fb8fa689c16\"></div>\n",
       "<script type=\"text/javascript\">\n",
       "  var VEGA_DEBUG = (typeof VEGA_DEBUG == \"undefined\") ? {} : VEGA_DEBUG;\n",
       "  (function(spec, embedOpt){\n",
       "    let outputDiv = document.currentScript.previousElementSibling;\n",
       "    if (outputDiv.id !== \"altair-viz-0b4edc86ba2f4d478e671fb8fa689c16\") {\n",
       "      outputDiv = document.getElementById(\"altair-viz-0b4edc86ba2f4d478e671fb8fa689c16\");\n",
       "    }\n",
       "    const paths = {\n",
       "      \"vega\": \"https://cdn.jsdelivr.net/npm/vega@5?noext\",\n",
       "      \"vega-lib\": \"https://cdn.jsdelivr.net/npm/vega-lib?noext\",\n",
       "      \"vega-lite\": \"https://cdn.jsdelivr.net/npm/vega-lite@5.17.0?noext\",\n",
       "      \"vega-embed\": \"https://cdn.jsdelivr.net/npm/vega-embed@6?noext\",\n",
       "    };\n",
       "\n",
       "    function maybeLoadScript(lib, version) {\n",
       "      var key = `${lib.replace(\"-\", \"\")}_version`;\n",
       "      return (VEGA_DEBUG[key] == version) ?\n",
       "        Promise.resolve(paths[lib]) :\n",
       "        new Promise(function(resolve, reject) {\n",
       "          var s = document.createElement('script');\n",
       "          document.getElementsByTagName(\"head\")[0].appendChild(s);\n",
       "          s.async = true;\n",
       "          s.onload = () => {\n",
       "            VEGA_DEBUG[key] = version;\n",
       "            return resolve(paths[lib]);\n",
       "          };\n",
       "          s.onerror = () => reject(`Error loading script: ${paths[lib]}`);\n",
       "          s.src = paths[lib];\n",
       "        });\n",
       "    }\n",
       "\n",
       "    function showError(err) {\n",
       "      outputDiv.innerHTML = `<div class=\"error\" style=\"color:red;\">${err}</div>`;\n",
       "      throw err;\n",
       "    }\n",
       "\n",
       "    function displayChart(vegaEmbed) {\n",
       "      vegaEmbed(outputDiv, spec, embedOpt)\n",
       "        .catch(err => showError(`Javascript Error: ${err.message}<br>This usually means there's a typo in your chart specification. See the javascript console for the full traceback.`));\n",
       "    }\n",
       "\n",
       "    if(typeof define === \"function\" && define.amd) {\n",
       "      requirejs.config({paths});\n",
       "      require([\"vega-embed\"], displayChart, err => showError(`Error loading script: ${err.message}`));\n",
       "    } else {\n",
       "      maybeLoadScript(\"vega\", \"5\")\n",
       "        .then(() => maybeLoadScript(\"vega-lite\", \"5.17.0\"))\n",
       "        .then(() => maybeLoadScript(\"vega-embed\", \"6\"))\n",
       "        .catch(showError)\n",
       "        .then(() => displayChart(vegaEmbed));\n",
       "    }\n",
       "  })({\"config\": {\"view\": {\"continuousWidth\": 300, \"continuousHeight\": 300}}, \"vconcat\": [{\"data\": {\"name\": \"data-d4775c7e2b59a23393eb246775bc1f3d\"}, \"mark\": {\"type\": \"line\"}, \"encoding\": {\"color\": {\"value\": \"black\"}, \"x\": {\"field\": \"dates\", \"type\": \"temporal\"}, \"y\": {\"field\": \"casos\", \"type\": \"quantitative\"}}, \"height\": 150, \"title\": \"New cases\", \"width\": 400}, {\"layer\": [{\"mark\": {\"type\": \"point\", \"filled\": false}, \"encoding\": {\"color\": {\"field\": \"variable\", \"legend\": {\"legendX\": 100}, \"type\": \"nominal\"}, \"x\": {\"field\": \"dates\", \"type\": \"temporal\"}, \"y\": {\"field\": \"CRPS_score\", \"type\": \"quantitative\"}}}, {\"mark\": {\"type\": \"point\"}, \"encoding\": {\"color\": {\"field\": \"variable\", \"legend\": {\"legendX\": 100}, \"type\": \"nominal\"}, \"opacity\": {\"condition\": {\"param\": \"param_1\", \"value\": 1, \"empty\": false}, \"value\": 0}, \"x\": {\"field\": \"dates\", \"type\": \"temporal\"}, \"y\": {\"field\": \"CRPS_score\", \"type\": \"quantitative\"}}}, {\"mark\": {\"type\": \"rule\", \"color\": \"gray\"}, \"encoding\": {\"opacity\": {\"condition\": {\"param\": \"param_1\", \"value\": 0.3, \"empty\": false}, \"value\": 0}, \"tooltip\": [{\"field\": \"dates\", \"title\": \"Date\", \"type\": \"temporal\"}, {\"field\": \"preds\", \"format\": \".2f\", \"type\": \"quantitative\"}, {\"field\": \"77\", \"format\": \".2f\", \"type\": \"quantitative\"}, {\"field\": \"78\", \"format\": \".2f\", \"type\": \"quantitative\"}], \"x\": {\"field\": \"dates\", \"type\": \"temporal\"}}, \"name\": \"view_1\", \"transform\": [{\"pivot\": \"variable\", \"value\": \"CRPS_score\", \"groupby\": [\"dates\"]}]}], \"data\": {\"name\": \"data-c8e3d4315d772e53c2b61cb980771f61\"}, \"height\": 250, \"title\": {\"text\": \"CRPS score\", \"subtitle\": \"Lower is better\"}, \"width\": 400}], \"params\": [{\"name\": \"param_1\", \"select\": {\"type\": \"point\", \"fields\": [\"dates\"], \"nearest\": true, \"on\": \"pointerover\"}, \"views\": [\"view_1\"]}], \"$schema\": \"https://vega.github.io/schema/vega-lite/v5.17.0.json\", \"datasets\": {\"data-d4775c7e2b59a23393eb246775bc1f3d\": [{\"dates\": \"2022-01-02T00:00:00\", \"casos\": 21.0}, {\"dates\": \"2022-01-09T00:00:00\", \"casos\": 14.0}, {\"dates\": \"2022-01-16T00:00:00\", \"casos\": 22.0}, {\"dates\": \"2022-01-23T00:00:00\", \"casos\": 19.0}, {\"dates\": \"2022-01-30T00:00:00\", \"casos\": 31.0}, {\"dates\": \"2022-02-06T00:00:00\", \"casos\": 35.0}, {\"dates\": \"2022-02-13T00:00:00\", \"casos\": 47.0}, {\"dates\": \"2022-02-20T00:00:00\", \"casos\": 62.0}, {\"dates\": \"2022-02-27T00:00:00\", \"casos\": 66.0}, {\"dates\": \"2022-03-06T00:00:00\", \"casos\": 116.0}, {\"dates\": \"2022-03-13T00:00:00\", \"casos\": 126.0}, {\"dates\": \"2022-03-20T00:00:00\", \"casos\": 177.0}, {\"dates\": \"2022-03-27T00:00:00\", \"casos\": 153.0}, {\"dates\": \"2022-04-03T00:00:00\", \"casos\": 222.0}, {\"dates\": \"2022-04-10T00:00:00\", \"casos\": 201.0}, {\"dates\": \"2022-04-17T00:00:00\", \"casos\": 234.0}, {\"dates\": \"2022-04-24T00:00:00\", \"casos\": 342.0}, {\"dates\": \"2022-05-01T00:00:00\", \"casos\": 461.0}, {\"dates\": \"2022-05-08T00:00:00\", \"casos\": 505.0}, {\"dates\": \"2022-05-15T00:00:00\", \"casos\": 406.0}, {\"dates\": \"2022-05-22T00:00:00\", \"casos\": 400.0}, {\"dates\": \"2022-05-29T00:00:00\", \"casos\": 338.0}, {\"dates\": \"2022-06-05T00:00:00\", \"casos\": 255.0}, {\"dates\": \"2022-06-12T00:00:00\", \"casos\": 153.0}, {\"dates\": \"2022-06-19T00:00:00\", \"casos\": 209.0}, {\"dates\": \"2022-06-26T00:00:00\", \"casos\": 189.0}, {\"dates\": \"2022-07-03T00:00:00\", \"casos\": 155.0}, {\"dates\": \"2022-07-10T00:00:00\", \"casos\": 144.0}, {\"dates\": \"2022-07-17T00:00:00\", \"casos\": 194.0}, {\"dates\": \"2022-07-24T00:00:00\", \"casos\": 148.0}, {\"dates\": \"2022-07-31T00:00:00\", \"casos\": 145.0}, {\"dates\": \"2022-08-07T00:00:00\", \"casos\": 106.0}, {\"dates\": \"2022-08-14T00:00:00\", \"casos\": 110.0}, {\"dates\": \"2022-08-21T00:00:00\", \"casos\": 99.0}, {\"dates\": \"2022-08-28T00:00:00\", \"casos\": 94.0}, {\"dates\": \"2022-09-04T00:00:00\", \"casos\": 101.0}, {\"dates\": \"2022-09-11T00:00:00\", \"casos\": 120.0}, {\"dates\": \"2022-09-18T00:00:00\", \"casos\": 102.0}, {\"dates\": \"2022-09-25T00:00:00\", \"casos\": 95.0}, {\"dates\": \"2022-10-02T00:00:00\", \"casos\": 102.0}, {\"dates\": \"2022-10-09T00:00:00\", \"casos\": 123.0}, {\"dates\": \"2022-10-16T00:00:00\", \"casos\": 160.0}, {\"dates\": \"2022-10-23T00:00:00\", \"casos\": 139.0}, {\"dates\": \"2022-10-30T00:00:00\", \"casos\": 131.0}, {\"dates\": \"2022-11-06T00:00:00\", \"casos\": 171.0}, {\"dates\": \"2022-11-13T00:00:00\", \"casos\": 129.0}, {\"dates\": \"2022-11-20T00:00:00\", \"casos\": 94.0}, {\"dates\": \"2022-11-27T00:00:00\", \"casos\": 86.0}, {\"dates\": \"2022-12-04T00:00:00\", \"casos\": 98.0}, {\"dates\": \"2022-12-11T00:00:00\", \"casos\": 123.0}, {\"dates\": \"2022-12-18T00:00:00\", \"casos\": 117.0}, {\"dates\": \"2022-12-25T00:00:00\", \"casos\": 163.0}, {\"dates\": \"2023-01-01T00:00:00\", \"casos\": 230.0}, {\"dates\": \"2023-01-08T00:00:00\", \"casos\": 218.0}, {\"dates\": \"2023-01-15T00:00:00\", \"casos\": 246.0}, {\"dates\": \"2023-01-22T00:00:00\", \"casos\": 312.0}, {\"dates\": \"2023-01-29T00:00:00\", \"casos\": 383.0}, {\"dates\": \"2023-02-05T00:00:00\", \"casos\": 525.0}, {\"dates\": \"2023-02-12T00:00:00\", \"casos\": 372.0}, {\"dates\": \"2023-02-19T00:00:00\", \"casos\": 507.0}, {\"dates\": \"2023-02-26T00:00:00\", \"casos\": 870.0}, {\"dates\": \"2023-03-05T00:00:00\", \"casos\": 945.0}, {\"dates\": \"2023-03-12T00:00:00\", \"casos\": 1125.0}, {\"dates\": \"2023-03-19T00:00:00\", \"casos\": 1382.0}, {\"dates\": \"2023-03-26T00:00:00\", \"casos\": 1580.0}, {\"dates\": \"2023-04-02T00:00:00\", \"casos\": 1420.0}, {\"dates\": \"2023-04-09T00:00:00\", \"casos\": 1783.0}, {\"dates\": \"2023-04-16T00:00:00\", \"casos\": 1502.0}, {\"dates\": \"2023-04-23T00:00:00\", \"casos\": 1572.0}, {\"dates\": \"2023-04-30T00:00:00\", \"casos\": 1919.0}, {\"dates\": \"2023-05-07T00:00:00\", \"casos\": 1807.0}, {\"dates\": \"2023-05-14T00:00:00\", \"casos\": 1731.0}, {\"dates\": \"2023-05-21T00:00:00\", \"casos\": 1479.0}, {\"dates\": \"2023-05-28T00:00:00\", \"casos\": 1328.0}, {\"dates\": \"2023-06-04T00:00:00\", \"casos\": 1238.0}, {\"dates\": \"2023-06-11T00:00:00\", \"casos\": 1348.0}, {\"dates\": \"2023-06-18T00:00:00\", \"casos\": 1236.0}, {\"dates\": \"2023-06-25T00:00:00\", \"casos\": 996.0}], \"data-c8e3d4315d772e53c2b61cb980771f61\": [{\"dates\": \"2022-01-02T00:00:00\", \"variable\": \"preds\", \"CRPS_score\": 16.929566946380355}, {\"dates\": \"2022-01-09T00:00:00\", \"variable\": \"preds\", \"CRPS_score\": 10.010708071581343}, {\"dates\": \"2022-01-16T00:00:00\", \"variable\": \"preds\", \"CRPS_score\": 18.074562520301154}, {\"dates\": \"2022-01-23T00:00:00\", \"variable\": \"preds\", \"CRPS_score\": 15.103217415478523}, {\"dates\": \"2022-01-30T00:00:00\", \"variable\": \"preds\", \"CRPS_score\": 6.475981874670379}, {\"dates\": \"2022-02-06T00:00:00\", \"variable\": \"preds\", \"CRPS_score\": 8.901115870426064}, {\"dates\": \"2022-02-13T00:00:00\", \"variable\": \"preds\", \"CRPS_score\": 17.89297684017897}, {\"dates\": \"2022-02-20T00:00:00\", \"variable\": \"preds\", \"CRPS_score\": 30.304874575947853}, {\"dates\": \"2022-02-27T00:00:00\", \"variable\": \"preds\", \"CRPS_score\": 5.203138942275616}, {\"dates\": \"2022-03-06T00:00:00\", \"variable\": \"preds\", \"CRPS_score\": 30.826147515735865}, {\"dates\": \"2022-03-13T00:00:00\", \"variable\": \"preds\", \"CRPS_score\": 32.974566979746946}, {\"dates\": \"2022-03-20T00:00:00\", \"variable\": \"preds\", \"CRPS_score\": 68.67772193028983}, {\"dates\": \"2022-03-27T00:00:00\", \"variable\": \"preds\", \"CRPS_score\": 21.397282973129446}, {\"dates\": \"2022-04-03T00:00:00\", \"variable\": \"preds\", \"CRPS_score\": 27.32239061858784}, {\"dates\": \"2022-04-10T00:00:00\", \"variable\": \"preds\", \"CRPS_score\": 38.879689489894076}, {\"dates\": \"2022-04-17T00:00:00\", \"variable\": \"preds\", \"CRPS_score\": 53.61067447812845}, {\"dates\": \"2022-04-24T00:00:00\", \"variable\": \"preds\", \"CRPS_score\": 61.851931829994925}, {\"dates\": \"2022-05-01T00:00:00\", \"variable\": \"preds\", \"CRPS_score\": 136.30189434103343}, {\"dates\": \"2022-05-08T00:00:00\", \"variable\": \"preds\", \"CRPS_score\": 150.70201335808028}, {\"dates\": \"2022-05-15T00:00:00\", \"variable\": \"preds\", \"CRPS_score\": 90.4038901704097}, {\"dates\": \"2022-05-22T00:00:00\", \"variable\": \"preds\", \"CRPS_score\": 57.45264282846472}, {\"dates\": \"2022-05-29T00:00:00\", \"variable\": \"preds\", \"CRPS_score\": 93.0962112742233}, {\"dates\": \"2022-06-05T00:00:00\", \"variable\": \"preds\", \"CRPS_score\": 153.05908856330734}, {\"dates\": \"2022-06-12T00:00:00\", \"variable\": \"preds\", \"CRPS_score\": 221.77376129083035}, {\"dates\": \"2022-06-19T00:00:00\", \"variable\": \"preds\", \"CRPS_score\": 25.355310489349826}, {\"dates\": \"2022-06-26T00:00:00\", \"variable\": \"preds\", \"CRPS_score\": 24.745555290102406}, {\"dates\": \"2022-07-03T00:00:00\", \"variable\": \"preds\", \"CRPS_score\": 24.985863600044745}, {\"dates\": \"2022-07-10T00:00:00\", \"variable\": \"preds\", \"CRPS_score\": 30.708313843586172}, {\"dates\": \"2022-07-17T00:00:00\", \"variable\": \"preds\", \"CRPS_score\": 31.813463383109383}, {\"dates\": \"2022-07-24T00:00:00\", \"variable\": \"preds\", \"CRPS_score\": 17.039928818561947}, {\"dates\": \"2022-07-31T00:00:00\", \"variable\": \"preds\", \"CRPS_score\": 22.062839593720017}, {\"dates\": \"2022-08-07T00:00:00\", \"variable\": \"preds\", \"CRPS_score\": 29.06182853250039}, {\"dates\": \"2022-08-14T00:00:00\", \"variable\": \"preds\", \"CRPS_score\": 9.576350695561942}, {\"dates\": \"2022-08-21T00:00:00\", \"variable\": \"preds\", \"CRPS_score\": 12.318183484475469}, {\"dates\": \"2022-08-28T00:00:00\", \"variable\": \"preds\", \"CRPS_score\": 16.370092344148475}, {\"dates\": \"2022-09-04T00:00:00\", \"variable\": \"preds\", \"CRPS_score\": 19.559479565044942}, {\"dates\": \"2022-09-11T00:00:00\", \"variable\": \"preds\", \"CRPS_score\": 14.292246959432305}, {\"dates\": \"2022-09-18T00:00:00\", \"variable\": \"preds\", \"CRPS_score\": 11.070947857396147}, {\"dates\": \"2022-09-25T00:00:00\", \"variable\": \"preds\", \"CRPS_score\": 14.146208582225515}, {\"dates\": \"2022-10-02T00:00:00\", \"variable\": \"preds\", \"CRPS_score\": 18.11673824141104}, {\"dates\": \"2022-10-09T00:00:00\", \"variable\": \"preds\", \"CRPS_score\": 14.66940039626909}, {\"dates\": \"2022-10-16T00:00:00\", \"variable\": \"preds\", \"CRPS_score\": 38.77598030217631}, {\"dates\": \"2022-10-23T00:00:00\", \"variable\": \"preds\", \"CRPS_score\": 24.975772000096477}, {\"dates\": \"2022-10-30T00:00:00\", \"variable\": \"preds\", \"CRPS_score\": 24.099965846631424}, {\"dates\": \"2022-11-06T00:00:00\", \"variable\": \"preds\", \"CRPS_score\": 21.81731171572194}, {\"dates\": \"2022-11-13T00:00:00\", \"variable\": \"preds\", \"CRPS_score\": 15.993335021722062}, {\"dates\": \"2022-11-20T00:00:00\", \"variable\": \"preds\", \"CRPS_score\": 28.812161911341054}, {\"dates\": \"2022-11-27T00:00:00\", \"variable\": \"preds\", \"CRPS_score\": 35.84131990620721}, {\"dates\": \"2022-12-04T00:00:00\", \"variable\": \"preds\", \"CRPS_score\": 9.203685271878815}, {\"dates\": \"2022-12-11T00:00:00\", \"variable\": \"preds\", \"CRPS_score\": 24.687945380768458}, {\"dates\": \"2022-12-18T00:00:00\", \"variable\": \"preds\", \"CRPS_score\": 21.731828344210854}, {\"dates\": \"2022-12-25T00:00:00\", \"variable\": \"preds\", \"CRPS_score\": 53.855040317956366}, {\"dates\": \"2023-01-01T00:00:00\", \"variable\": \"preds\", \"CRPS_score\": 50.38068991826294}, {\"dates\": \"2023-01-08T00:00:00\", \"variable\": \"preds\", \"CRPS_score\": 35.05108485906242}, {\"dates\": \"2023-01-15T00:00:00\", \"variable\": \"preds\", \"CRPS_score\": 50.70836676379182}, {\"dates\": \"2023-01-22T00:00:00\", \"variable\": \"preds\", \"CRPS_score\": 89.15566842130387}, {\"dates\": \"2023-01-29T00:00:00\", \"variable\": \"preds\", \"CRPS_score\": 46.5917875615299}, {\"dates\": \"2023-02-05T00:00:00\", \"variable\": \"preds\", \"CRPS_score\": 119.0145067993437}, {\"dates\": \"2023-02-12T00:00:00\", \"variable\": \"preds\", \"CRPS_score\": 65.08861340133564}, {\"dates\": \"2023-02-19T00:00:00\", \"variable\": \"preds\", \"CRPS_score\": 112.42943655456646}, {\"dates\": \"2023-02-26T00:00:00\", \"variable\": \"preds\", \"CRPS_score\": 266.94324876321105}, {\"dates\": \"2023-03-05T00:00:00\", \"variable\": \"preds\", \"CRPS_score\": 272.81909659115047}, {\"dates\": \"2023-03-12T00:00:00\", \"variable\": \"preds\", \"CRPS_score\": 377.47948619791117}, {\"dates\": \"2023-03-19T00:00:00\", \"variable\": \"preds\", \"CRPS_score\": 534.5972134787602}, {\"dates\": \"2023-03-26T00:00:00\", \"variable\": \"preds\", \"CRPS_score\": 189.26980622916528}, {\"dates\": \"2023-04-02T00:00:00\", \"variable\": \"preds\", \"CRPS_score\": 282.46999738329595}, {\"dates\": \"2023-04-09T00:00:00\", \"variable\": \"preds\", \"CRPS_score\": 430.37034592323994}, {\"dates\": \"2023-04-16T00:00:00\", \"variable\": \"preds\", \"CRPS_score\": 628.0715484846032}, {\"dates\": \"2023-04-23T00:00:00\", \"variable\": \"preds\", \"CRPS_score\": 213.2596740563285}, {\"dates\": \"2023-04-30T00:00:00\", \"variable\": \"preds\", \"CRPS_score\": 319.4140596335595}, {\"dates\": \"2023-05-07T00:00:00\", \"variable\": \"preds\", \"CRPS_score\": 452.1417634092982}, {\"dates\": \"2023-05-14T00:00:00\", \"variable\": \"preds\", \"CRPS_score\": 632.8282720940151}, {\"dates\": \"2023-05-21T00:00:00\", \"variable\": \"preds\", \"CRPS_score\": 268.72069505187886}, {\"dates\": \"2023-05-28T00:00:00\", \"variable\": \"preds\", \"CRPS_score\": 392.05885001006453}, {\"dates\": \"2023-06-04T00:00:00\", \"variable\": \"preds\", \"CRPS_score\": 549.7446304574297}, {\"dates\": \"2023-06-11T00:00:00\", \"variable\": \"preds\", \"CRPS_score\": 704.7297610026011}, {\"dates\": \"2023-06-18T00:00:00\", \"variable\": \"preds\", \"CRPS_score\": 159.77313590867493}, {\"dates\": \"2023-06-25T00:00:00\", \"variable\": \"preds\", \"CRPS_score\": 261.6315964449309}, {\"dates\": \"2022-01-02T00:00:00\", \"variable\": \"77\", \"CRPS_score\": 102.52469442554364}, {\"dates\": \"2022-01-09T00:00:00\", \"variable\": \"77\", \"CRPS_score\": 89.90853127726993}, {\"dates\": \"2022-01-16T00:00:00\", \"variable\": \"77\", \"CRPS_score\": 39.430201196488845}, {\"dates\": \"2022-01-23T00:00:00\", \"variable\": \"77\", \"CRPS_score\": 67.32324629885368}, {\"dates\": \"2022-01-30T00:00:00\", \"variable\": \"77\", \"CRPS_score\": 61.630854452424465}, {\"dates\": \"2022-02-06T00:00:00\", \"variable\": \"77\", \"CRPS_score\": 61.586917140254386}, {\"dates\": \"2022-02-13T00:00:00\", \"variable\": \"77\", \"CRPS_score\": 59.42206879945482}, {\"dates\": \"2022-02-20T00:00:00\", \"variable\": \"77\", \"CRPS_score\": 72.8625763405248}, {\"dates\": \"2022-02-27T00:00:00\", \"variable\": \"77\", \"CRPS_score\": 86.94322444462678}, {\"dates\": \"2022-03-06T00:00:00\", \"variable\": \"77\", \"CRPS_score\": 118.72044491202804}, {\"dates\": \"2022-03-13T00:00:00\", \"variable\": \"77\", \"CRPS_score\": 105.49661862819886}, {\"dates\": \"2022-03-20T00:00:00\", \"variable\": \"77\", \"CRPS_score\": 103.10475639310833}, {\"dates\": \"2022-03-27T00:00:00\", \"variable\": \"77\", \"CRPS_score\": 84.82786453095937}, {\"dates\": \"2022-04-03T00:00:00\", \"variable\": \"77\", \"CRPS_score\": 74.51666874489628}, {\"dates\": \"2022-04-10T00:00:00\", \"variable\": \"77\", \"CRPS_score\": 92.19304220168593}, {\"dates\": \"2022-04-17T00:00:00\", \"variable\": \"77\", \"CRPS_score\": 136.68706087299213}, {\"dates\": \"2022-04-24T00:00:00\", \"variable\": \"77\", \"CRPS_score\": 176.56148927898502}, {\"dates\": \"2022-05-01T00:00:00\", \"variable\": \"77\", \"CRPS_score\": 200.45045234927102}, {\"dates\": \"2022-05-08T00:00:00\", \"variable\": \"77\", \"CRPS_score\": 219.8518512641308}, {\"dates\": \"2022-05-15T00:00:00\", \"variable\": \"77\", \"CRPS_score\": 157.53004997191516}, {\"dates\": \"2022-05-22T00:00:00\", \"variable\": \"77\", \"CRPS_score\": 116.02631770531441}, {\"dates\": \"2022-05-29T00:00:00\", \"variable\": \"77\", \"CRPS_score\": 207.5487133611881}, {\"dates\": \"2022-06-05T00:00:00\", \"variable\": \"77\", \"CRPS_score\": 547.8075506559996}, {\"dates\": \"2022-06-12T00:00:00\", \"variable\": \"77\", \"CRPS_score\": 495.56160915535537}, {\"dates\": \"2022-06-19T00:00:00\", \"variable\": \"77\", \"CRPS_score\": 336.1387318439209}, {\"dates\": \"2022-06-26T00:00:00\", \"variable\": \"77\", \"CRPS_score\": 158.69152132855248}, {\"dates\": \"2022-07-03T00:00:00\", \"variable\": \"77\", \"CRPS_score\": 159.54886688783722}, {\"dates\": \"2022-07-10T00:00:00\", \"variable\": \"77\", \"CRPS_score\": 97.78435884986857}, {\"dates\": \"2022-07-17T00:00:00\", \"variable\": \"77\", \"CRPS_score\": 95.19393707179252}, {\"dates\": \"2022-07-24T00:00:00\", \"variable\": \"77\", \"CRPS_score\": 116.48677151417036}, {\"dates\": \"2022-07-31T00:00:00\", \"variable\": \"77\", \"CRPS_score\": 81.71538477883723}, {\"dates\": \"2022-08-07T00:00:00\", \"variable\": \"77\", \"CRPS_score\": 77.95210828621303}, {\"dates\": \"2022-08-14T00:00:00\", \"variable\": \"77\", \"CRPS_score\": 74.75213382737732}, {\"dates\": \"2022-08-21T00:00:00\", \"variable\": \"77\", \"CRPS_score\": 83.18259087429622}, {\"dates\": \"2022-08-28T00:00:00\", \"variable\": \"77\", \"CRPS_score\": 94.17317800171773}, {\"dates\": \"2022-09-04T00:00:00\", \"variable\": \"77\", \"CRPS_score\": 93.61186680793905}, {\"dates\": \"2022-09-11T00:00:00\", \"variable\": \"77\", \"CRPS_score\": 62.20740148765412}, {\"dates\": \"2022-09-18T00:00:00\", \"variable\": \"77\", \"CRPS_score\": 31.084811040021968}, {\"dates\": \"2022-09-25T00:00:00\", \"variable\": \"77\", \"CRPS_score\": 65.32217483918588}, {\"dates\": \"2022-10-02T00:00:00\", \"variable\": \"77\", \"CRPS_score\": 56.636610655380196}, {\"dates\": \"2022-10-09T00:00:00\", \"variable\": \"77\", \"CRPS_score\": 97.70704960969715}, {\"dates\": \"2022-10-16T00:00:00\", \"variable\": \"77\", \"CRPS_score\": 105.18190642102203}, {\"dates\": \"2022-10-23T00:00:00\", \"variable\": \"77\", \"CRPS_score\": 145.13595664541643}, {\"dates\": \"2022-10-30T00:00:00\", \"variable\": \"77\", \"CRPS_score\": 146.0908928834841}, {\"dates\": \"2022-11-06T00:00:00\", \"variable\": \"77\", \"CRPS_score\": 161.47945383859135}, {\"dates\": \"2022-11-13T00:00:00\", \"variable\": \"77\", \"CRPS_score\": 123.8034448514961}, {\"dates\": \"2022-11-20T00:00:00\", \"variable\": \"77\", \"CRPS_score\": 119.72996850927149}, {\"dates\": \"2022-11-27T00:00:00\", \"variable\": \"77\", \"CRPS_score\": 77.01207225520324}, {\"dates\": \"2022-12-04T00:00:00\", \"variable\": \"77\", \"CRPS_score\": 59.362512408423996}, {\"dates\": \"2022-12-11T00:00:00\", \"variable\": \"77\", \"CRPS_score\": 104.81722184513299}, {\"dates\": \"2022-12-18T00:00:00\", \"variable\": \"77\", \"CRPS_score\": 92.83349470621395}, {\"dates\": \"2022-12-25T00:00:00\", \"variable\": \"77\", \"CRPS_score\": 110.3611327617595}, {\"dates\": \"2023-01-01T00:00:00\", \"variable\": \"77\", \"CRPS_score\": 115.45558332059191}, {\"dates\": \"2023-01-08T00:00:00\", \"variable\": \"77\", \"CRPS_score\": 112.1055480774792}, {\"dates\": \"2023-01-15T00:00:00\", \"variable\": \"77\", \"CRPS_score\": 84.42918463550451}, {\"dates\": \"2023-01-22T00:00:00\", \"variable\": \"77\", \"CRPS_score\": 86.72966076029336}, {\"dates\": \"2023-01-29T00:00:00\", \"variable\": \"77\", \"CRPS_score\": 90.18935759540058}, {\"dates\": \"2023-02-05T00:00:00\", \"variable\": \"77\", \"CRPS_score\": 88.77099633612153}, {\"dates\": \"2023-02-12T00:00:00\", \"variable\": \"77\", \"CRPS_score\": 120.729043869223}, {\"dates\": \"2023-02-19T00:00:00\", \"variable\": \"77\", \"CRPS_score\": 115.37918636019451}, {\"dates\": \"2023-02-26T00:00:00\", \"variable\": \"77\", \"CRPS_score\": 185.17823256174472}, {\"dates\": \"2023-03-05T00:00:00\", \"variable\": \"77\", \"CRPS_score\": 163.9895873702931}, {\"dates\": \"2023-03-12T00:00:00\", \"variable\": \"77\", \"CRPS_score\": 208.6152395492569}, {\"dates\": \"2023-03-19T00:00:00\", \"variable\": \"77\", \"CRPS_score\": 251.63915512037437}, {\"dates\": \"2023-03-26T00:00:00\", \"variable\": \"77\", \"CRPS_score\": 406.0422852475863}, {\"dates\": \"2023-04-02T00:00:00\", \"variable\": \"77\", \"CRPS_score\": 415.566968376911}, {\"dates\": \"2023-04-09T00:00:00\", \"variable\": \"77\", \"CRPS_score\": 230.40947443361793}, {\"dates\": \"2023-04-16T00:00:00\", \"variable\": \"77\", \"CRPS_score\": 150.22575295143938}, {\"dates\": \"2023-04-23T00:00:00\", \"variable\": \"77\", \"CRPS_score\": 234.45710257360926}, {\"dates\": \"2023-04-30T00:00:00\", \"variable\": \"77\", \"CRPS_score\": 225.92977724373176}, {\"dates\": \"2023-05-07T00:00:00\", \"variable\": \"77\", \"CRPS_score\": 234.38315988418924}, {\"dates\": \"2023-05-14T00:00:00\", \"variable\": \"77\", \"CRPS_score\": 166.2035470100269}, {\"dates\": \"2023-05-21T00:00:00\", \"variable\": \"77\", \"CRPS_score\": 128.33274162855645}, {\"dates\": \"2023-05-28T00:00:00\", \"variable\": \"77\", \"CRPS_score\": 129.61855443842663}, {\"dates\": \"2023-06-04T00:00:00\", \"variable\": \"77\", \"CRPS_score\": 749.611256076035}, {\"dates\": \"2023-06-11T00:00:00\", \"variable\": \"77\", \"CRPS_score\": 601.0615909491265}, {\"dates\": \"2023-06-18T00:00:00\", \"variable\": \"77\", \"CRPS_score\": 149.51073569076084}, {\"dates\": \"2023-06-25T00:00:00\", \"variable\": \"77\", \"CRPS_score\": 222.35441646805356}, {\"dates\": \"2022-01-02T00:00:00\", \"variable\": \"78\", \"CRPS_score\": 59.17210701529874}, {\"dates\": \"2022-01-09T00:00:00\", \"variable\": \"78\", \"CRPS_score\": 31.326248376637565}, {\"dates\": \"2022-01-16T00:00:00\", \"variable\": \"78\", \"CRPS_score\": 25.620518492340594}, {\"dates\": \"2022-01-23T00:00:00\", \"variable\": \"78\", \"CRPS_score\": 27.721827182289545}, {\"dates\": \"2022-01-30T00:00:00\", \"variable\": \"78\", \"CRPS_score\": 38.02723198989535}, {\"dates\": \"2022-02-06T00:00:00\", \"variable\": \"78\", \"CRPS_score\": 36.79378887105787}, {\"dates\": \"2022-02-13T00:00:00\", \"variable\": \"78\", \"CRPS_score\": 39.49623516592102}, {\"dates\": \"2022-02-20T00:00:00\", \"variable\": \"78\", \"CRPS_score\": 102.55033964987848}, {\"dates\": \"2022-02-27T00:00:00\", \"variable\": \"78\", \"CRPS_score\": 109.3872099179393}, {\"dates\": \"2022-03-06T00:00:00\", \"variable\": \"78\", \"CRPS_score\": 78.14419569084528}, {\"dates\": \"2022-03-13T00:00:00\", \"variable\": \"78\", \"CRPS_score\": 154.8198966942406}, {\"dates\": \"2022-03-20T00:00:00\", \"variable\": \"78\", \"CRPS_score\": 99.7484277588636}, {\"dates\": \"2022-03-27T00:00:00\", \"variable\": \"78\", \"CRPS_score\": 40.865107191946755}, {\"dates\": \"2022-04-03T00:00:00\", \"variable\": \"78\", \"CRPS_score\": 58.421817333941796}, {\"dates\": \"2022-04-10T00:00:00\", \"variable\": \"78\", \"CRPS_score\": 37.640396921007444}, {\"dates\": \"2022-04-17T00:00:00\", \"variable\": \"78\", \"CRPS_score\": 55.273889310543844}, {\"dates\": \"2022-04-24T00:00:00\", \"variable\": \"78\", \"CRPS_score\": 71.74325387803124}, {\"dates\": \"2022-05-01T00:00:00\", \"variable\": \"78\", \"CRPS_score\": 100.68909923549418}, {\"dates\": \"2022-05-08T00:00:00\", \"variable\": \"78\", \"CRPS_score\": 88.21350720869994}, {\"dates\": \"2022-05-15T00:00:00\", \"variable\": \"78\", \"CRPS_score\": 100.84683470302984}, {\"dates\": \"2022-05-22T00:00:00\", \"variable\": \"78\", \"CRPS_score\": 75.32568112559287}, {\"dates\": \"2022-05-29T00:00:00\", \"variable\": \"78\", \"CRPS_score\": 84.18628768207496}, {\"dates\": \"2022-06-05T00:00:00\", \"variable\": \"78\", \"CRPS_score\": 155.6452493811217}, {\"dates\": \"2022-06-12T00:00:00\", \"variable\": \"78\", \"CRPS_score\": 67.35687595154249}, {\"dates\": \"2022-06-19T00:00:00\", \"variable\": \"78\", \"CRPS_score\": 47.00397815047071}, {\"dates\": \"2022-06-26T00:00:00\", \"variable\": \"78\", \"CRPS_score\": 42.57878320117107}, {\"dates\": \"2022-07-03T00:00:00\", \"variable\": \"78\", \"CRPS_score\": 95.54291182773471}, {\"dates\": \"2022-07-10T00:00:00\", \"variable\": \"78\", \"CRPS_score\": 88.08683266859582}, {\"dates\": \"2022-07-17T00:00:00\", \"variable\": \"78\", \"CRPS_score\": 124.45432512068838}, {\"dates\": \"2022-07-24T00:00:00\", \"variable\": \"78\", \"CRPS_score\": 92.15949786549135}, {\"dates\": \"2022-07-31T00:00:00\", \"variable\": \"78\", \"CRPS_score\": 67.31492605873034}, {\"dates\": \"2022-08-07T00:00:00\", \"variable\": \"78\", \"CRPS_score\": 63.88916486149863}, {\"dates\": \"2022-08-14T00:00:00\", \"variable\": \"78\", \"CRPS_score\": 65.96655535671513}, {\"dates\": \"2022-08-21T00:00:00\", \"variable\": \"78\", \"CRPS_score\": 58.89596408961026}, {\"dates\": \"2022-08-28T00:00:00\", \"variable\": \"78\", \"CRPS_score\": 56.043613887012654}, {\"dates\": \"2022-09-04T00:00:00\", \"variable\": \"78\", \"CRPS_score\": 60.32009221380388}, {\"dates\": \"2022-09-11T00:00:00\", \"variable\": \"78\", \"CRPS_score\": 72.49969988348779}, {\"dates\": \"2022-09-18T00:00:00\", \"variable\": \"78\", \"CRPS_score\": 60.75336064712131}, {\"dates\": \"2022-09-25T00:00:00\", \"variable\": \"78\", \"CRPS_score\": 58.876527408418305}, {\"dates\": \"2022-10-02T00:00:00\", \"variable\": \"78\", \"CRPS_score\": 60.680677740663825}, {\"dates\": \"2022-10-09T00:00:00\", \"variable\": \"78\", \"CRPS_score\": 73.26342151711943}, {\"dates\": \"2022-10-16T00:00:00\", \"variable\": \"78\", \"CRPS_score\": 99.88701729455387}, {\"dates\": \"2022-10-23T00:00:00\", \"variable\": \"78\", \"CRPS_score\": 89.22985872158579}, {\"dates\": \"2022-10-30T00:00:00\", \"variable\": \"78\", \"CRPS_score\": 79.31257286787398}, {\"dates\": \"2022-11-06T00:00:00\", \"variable\": \"78\", \"CRPS_score\": 106.5011492552757}, {\"dates\": \"2022-11-13T00:00:00\", \"variable\": \"78\", \"CRPS_score\": 81.70174562213849}, {\"dates\": \"2022-11-20T00:00:00\", \"variable\": \"78\", \"CRPS_score\": 56.716686343216324}, {\"dates\": \"2022-11-27T00:00:00\", \"variable\": \"78\", \"CRPS_score\": 52.3623055695376}, {\"dates\": \"2022-12-04T00:00:00\", \"variable\": \"78\", \"CRPS_score\": 58.60689776215247}, {\"dates\": \"2022-12-11T00:00:00\", \"variable\": \"78\", \"CRPS_score\": 73.96927018034276}, {\"dates\": \"2022-12-18T00:00:00\", \"variable\": \"78\", \"CRPS_score\": 65.72062486161964}, {\"dates\": \"2022-12-25T00:00:00\", \"variable\": \"78\", \"CRPS_score\": 55.64540067986688}, {\"dates\": \"2023-01-01T00:00:00\", \"variable\": \"78\", \"CRPS_score\": 128.80760405855702}, {\"dates\": \"2023-01-08T00:00:00\", \"variable\": \"78\", \"CRPS_score\": 65.80558919581127}, {\"dates\": \"2023-01-15T00:00:00\", \"variable\": \"78\", \"CRPS_score\": 66.65761594239373}, {\"dates\": \"2023-01-22T00:00:00\", \"variable\": \"78\", \"CRPS_score\": 91.93513812831965}, {\"dates\": \"2023-01-29T00:00:00\", \"variable\": \"78\", \"CRPS_score\": 51.653366062806796}, {\"dates\": \"2023-02-05T00:00:00\", \"variable\": \"78\", \"CRPS_score\": 227.85349054023058}, {\"dates\": \"2023-02-12T00:00:00\", \"variable\": \"78\", \"CRPS_score\": 65.71018850234223}, {\"dates\": \"2023-02-19T00:00:00\", \"variable\": \"78\", \"CRPS_score\": 88.89014417679806}, {\"dates\": \"2023-02-26T00:00:00\", \"variable\": \"78\", \"CRPS_score\": 299.53508200199315}, {\"dates\": \"2023-03-05T00:00:00\", \"variable\": \"78\", \"CRPS_score\": 213.5330455427944}, {\"dates\": \"2023-03-12T00:00:00\", \"variable\": \"78\", \"CRPS_score\": 467.2498744313151}, {\"dates\": \"2023-03-19T00:00:00\", \"variable\": \"78\", \"CRPS_score\": 684.0754634041364}, {\"dates\": \"2023-03-26T00:00:00\", \"variable\": \"78\", \"CRPS_score\": 864.3383199156941}, {\"dates\": \"2023-04-02T00:00:00\", \"variable\": \"78\", \"CRPS_score\": 697.9584996523649}, {\"dates\": \"2023-04-09T00:00:00\", \"variable\": \"78\", \"CRPS_score\": 895.6010738025082}, {\"dates\": \"2023-04-16T00:00:00\", \"variable\": \"78\", \"CRPS_score\": 466.55569156180445}, {\"dates\": \"2023-04-23T00:00:00\", \"variable\": \"78\", \"CRPS_score\": 528.3984853674209}, {\"dates\": \"2023-04-30T00:00:00\", \"variable\": \"78\", \"CRPS_score\": 994.4511814647211}, {\"dates\": \"2023-05-07T00:00:00\", \"variable\": \"78\", \"CRPS_score\": 826.1211159796421}, {\"dates\": \"2023-05-14T00:00:00\", \"variable\": \"78\", \"CRPS_score\": 954.6113903872757}, {\"dates\": \"2023-05-21T00:00:00\", \"variable\": \"78\", \"CRPS_score\": 1011.8313816619253}, {\"dates\": \"2023-05-28T00:00:00\", \"variable\": \"78\", \"CRPS_score\": 365.74079925442453}, {\"dates\": \"2023-06-04T00:00:00\", \"variable\": \"78\", \"CRPS_score\": 187.86628010128283}, {\"dates\": \"2023-06-11T00:00:00\", \"variable\": \"78\", \"CRPS_score\": 469.3135000368865}, {\"dates\": \"2023-06-18T00:00:00\", \"variable\": \"78\", \"CRPS_score\": 312.68117421676124}, {\"dates\": \"2023-06-25T00:00:00\", \"variable\": \"78\", \"CRPS_score\": 422.2681503154363}]}}, {\"mode\": \"vega-lite\"});\n",
       "</script>"
      ],
      "text/plain": [
       "alt.VConcatChart(...)"
      ]
     },
     "execution_count": 14,
     "metadata": {},
     "output_type": "execute_result"
    }
   ],
   "source": [
    "score.plot_crps()"
   ]
  },
  {
   "cell_type": "markdown",
   "id": "0bfc7d67",
   "metadata": {},
   "source": [
    "To see the Log score for your model (key = `preds`) and the other, use the code below. The first dict contains the score by each point, and the second one shows the mean of the score.  "
   ]
  },
  {
   "cell_type": "code",
   "execution_count": 15,
   "id": "c8e3cf5c",
   "metadata": {},
   "outputs": [
    {
     "data": {
      "text/plain": [
       "({'preds': dates\n",
       "  2022-01-02   -232.271412\n",
       "  2022-01-09    -58.374546\n",
       "  2022-01-16   -124.485070\n",
       "  2022-01-23    -67.541344\n",
       "  2022-01-30     -3.951332\n",
       "                   ...    \n",
       "  2023-05-28     -8.223287\n",
       "  2023-06-04     -8.592958\n",
       "  2023-06-11     -8.895466\n",
       "  2023-06-18     -7.435563\n",
       "  2023-06-25     -7.828252\n",
       "  Length: 78, dtype: float64,\n",
       "  77: dates\n",
       "  2022-01-02   -6.992415\n",
       "  2022-01-09   -6.870076\n",
       "  2022-01-16   -6.046198\n",
       "  2022-01-23   -6.580273\n",
       "  2022-01-30   -6.493813\n",
       "                  ...   \n",
       "  2023-05-28   -7.019283\n",
       "  2023-06-04   -9.422886\n",
       "  2023-06-11   -8.505237\n",
       "  2023-06-18   -7.281535\n",
       "  2023-06-25   -7.342796\n",
       "  Length: 78, dtype: float64,\n",
       "  78: dates\n",
       "  2022-01-02   -6.236466\n",
       "  2022-01-09   -5.808406\n",
       "  2022-01-16   -5.562729\n",
       "  2022-01-23   -5.662115\n",
       "  2022-01-30   -5.963385\n",
       "                  ...   \n",
       "  2023-05-28   -7.901946\n",
       "  2023-06-04   -7.206261\n",
       "  2023-06-11   -8.591845\n",
       "  2023-06-18   -7.677499\n",
       "  2023-06-25   -8.896633\n",
       "  Length: 78, dtype: float64},\n",
       " {'preds': -12.1178360926209, 77: -7.13834876171043, 78: -7.2065948303292044})"
      ]
     },
     "execution_count": 15,
     "metadata": {},
     "output_type": "execute_result"
    }
   ],
   "source": [
    "score.log_score"
   ]
  },
  {
   "cell_type": "markdown",
   "id": "8a24035f",
   "metadata": {},
   "source": [
    "To plot this score: "
   ]
  },
  {
   "cell_type": "code",
   "execution_count": 16,
   "id": "820b93f4",
   "metadata": {},
   "outputs": [
    {
     "data": {
      "text/html": [
       "\n",
       "<style>\n",
       "  #altair-viz-16514af3432f4a2fb5010498bd530f3d.vega-embed {\n",
       "    width: 100%;\n",
       "    display: flex;\n",
       "  }\n",
       "\n",
       "  #altair-viz-16514af3432f4a2fb5010498bd530f3d.vega-embed details,\n",
       "  #altair-viz-16514af3432f4a2fb5010498bd530f3d.vega-embed details summary {\n",
       "    position: relative;\n",
       "  }\n",
       "</style>\n",
       "<div id=\"altair-viz-16514af3432f4a2fb5010498bd530f3d\"></div>\n",
       "<script type=\"text/javascript\">\n",
       "  var VEGA_DEBUG = (typeof VEGA_DEBUG == \"undefined\") ? {} : VEGA_DEBUG;\n",
       "  (function(spec, embedOpt){\n",
       "    let outputDiv = document.currentScript.previousElementSibling;\n",
       "    if (outputDiv.id !== \"altair-viz-16514af3432f4a2fb5010498bd530f3d\") {\n",
       "      outputDiv = document.getElementById(\"altair-viz-16514af3432f4a2fb5010498bd530f3d\");\n",
       "    }\n",
       "    const paths = {\n",
       "      \"vega\": \"https://cdn.jsdelivr.net/npm/vega@5?noext\",\n",
       "      \"vega-lib\": \"https://cdn.jsdelivr.net/npm/vega-lib?noext\",\n",
       "      \"vega-lite\": \"https://cdn.jsdelivr.net/npm/vega-lite@5.17.0?noext\",\n",
       "      \"vega-embed\": \"https://cdn.jsdelivr.net/npm/vega-embed@6?noext\",\n",
       "    };\n",
       "\n",
       "    function maybeLoadScript(lib, version) {\n",
       "      var key = `${lib.replace(\"-\", \"\")}_version`;\n",
       "      return (VEGA_DEBUG[key] == version) ?\n",
       "        Promise.resolve(paths[lib]) :\n",
       "        new Promise(function(resolve, reject) {\n",
       "          var s = document.createElement('script');\n",
       "          document.getElementsByTagName(\"head\")[0].appendChild(s);\n",
       "          s.async = true;\n",
       "          s.onload = () => {\n",
       "            VEGA_DEBUG[key] = version;\n",
       "            return resolve(paths[lib]);\n",
       "          };\n",
       "          s.onerror = () => reject(`Error loading script: ${paths[lib]}`);\n",
       "          s.src = paths[lib];\n",
       "        });\n",
       "    }\n",
       "\n",
       "    function showError(err) {\n",
       "      outputDiv.innerHTML = `<div class=\"error\" style=\"color:red;\">${err}</div>`;\n",
       "      throw err;\n",
       "    }\n",
       "\n",
       "    function displayChart(vegaEmbed) {\n",
       "      vegaEmbed(outputDiv, spec, embedOpt)\n",
       "        .catch(err => showError(`Javascript Error: ${err.message}<br>This usually means there's a typo in your chart specification. See the javascript console for the full traceback.`));\n",
       "    }\n",
       "\n",
       "    if(typeof define === \"function\" && define.amd) {\n",
       "      requirejs.config({paths});\n",
       "      require([\"vega-embed\"], displayChart, err => showError(`Error loading script: ${err.message}`));\n",
       "    } else {\n",
       "      maybeLoadScript(\"vega\", \"5\")\n",
       "        .then(() => maybeLoadScript(\"vega-lite\", \"5.17.0\"))\n",
       "        .then(() => maybeLoadScript(\"vega-embed\", \"6\"))\n",
       "        .catch(showError)\n",
       "        .then(() => displayChart(vegaEmbed));\n",
       "    }\n",
       "  })({\"config\": {\"view\": {\"continuousWidth\": 300, \"continuousHeight\": 300}}, \"vconcat\": [{\"data\": {\"name\": \"data-d4775c7e2b59a23393eb246775bc1f3d\"}, \"mark\": {\"type\": \"line\"}, \"encoding\": {\"color\": {\"value\": \"black\"}, \"x\": {\"field\": \"dates\", \"type\": \"temporal\"}, \"y\": {\"field\": \"casos\", \"type\": \"quantitative\"}}, \"height\": 150, \"title\": \"New cases\", \"width\": 400}, {\"layer\": [{\"mark\": {\"type\": \"point\", \"filled\": false}, \"encoding\": {\"color\": {\"field\": \"variable\", \"legend\": {\"legendX\": 100}, \"type\": \"nominal\"}, \"x\": {\"field\": \"dates\", \"type\": \"temporal\"}, \"y\": {\"field\": \"log_score\", \"type\": \"quantitative\"}}}, {\"mark\": {\"type\": \"point\"}, \"encoding\": {\"color\": {\"field\": \"variable\", \"legend\": {\"legendX\": 100}, \"type\": \"nominal\"}, \"opacity\": {\"condition\": {\"param\": \"param_2\", \"value\": 1, \"empty\": false}, \"value\": 0}, \"x\": {\"field\": \"dates\", \"type\": \"temporal\"}, \"y\": {\"field\": \"log_score\", \"type\": \"quantitative\"}}}, {\"mark\": {\"type\": \"rule\", \"color\": \"gray\"}, \"encoding\": {\"opacity\": {\"condition\": {\"param\": \"param_2\", \"value\": 0.3, \"empty\": false}, \"value\": 0}, \"tooltip\": [{\"field\": \"dates\", \"title\": \"Date\", \"type\": \"temporal\"}, {\"field\": \"preds\", \"format\": \".2f\", \"type\": \"quantitative\"}, {\"field\": \"77\", \"format\": \".2f\", \"type\": \"quantitative\"}, {\"field\": \"78\", \"format\": \".2f\", \"type\": \"quantitative\"}], \"x\": {\"field\": \"dates\", \"type\": \"temporal\"}}, \"name\": \"view_2\", \"transform\": [{\"pivot\": \"variable\", \"value\": \"log_score\", \"groupby\": [\"dates\"]}]}], \"data\": {\"name\": \"data-289ac9d386d1e6332f6b0ef96b4fefed\"}, \"height\": 250, \"title\": {\"text\": \"Log score\", \"subtitle\": \"Bigger is better\"}, \"width\": 400}], \"params\": [{\"name\": \"param_2\", \"select\": {\"type\": \"point\", \"fields\": [\"dates\"], \"nearest\": true, \"on\": \"pointerover\"}, \"views\": [\"view_2\"]}], \"$schema\": \"https://vega.github.io/schema/vega-lite/v5.17.0.json\", \"datasets\": {\"data-d4775c7e2b59a23393eb246775bc1f3d\": [{\"dates\": \"2022-01-02T00:00:00\", \"casos\": 21.0}, {\"dates\": \"2022-01-09T00:00:00\", \"casos\": 14.0}, {\"dates\": \"2022-01-16T00:00:00\", \"casos\": 22.0}, {\"dates\": \"2022-01-23T00:00:00\", \"casos\": 19.0}, {\"dates\": \"2022-01-30T00:00:00\", \"casos\": 31.0}, {\"dates\": \"2022-02-06T00:00:00\", \"casos\": 35.0}, {\"dates\": \"2022-02-13T00:00:00\", \"casos\": 47.0}, {\"dates\": \"2022-02-20T00:00:00\", \"casos\": 62.0}, {\"dates\": \"2022-02-27T00:00:00\", \"casos\": 66.0}, {\"dates\": \"2022-03-06T00:00:00\", \"casos\": 116.0}, {\"dates\": \"2022-03-13T00:00:00\", \"casos\": 126.0}, {\"dates\": \"2022-03-20T00:00:00\", \"casos\": 177.0}, {\"dates\": \"2022-03-27T00:00:00\", \"casos\": 153.0}, {\"dates\": \"2022-04-03T00:00:00\", \"casos\": 222.0}, {\"dates\": \"2022-04-10T00:00:00\", \"casos\": 201.0}, {\"dates\": \"2022-04-17T00:00:00\", \"casos\": 234.0}, {\"dates\": \"2022-04-24T00:00:00\", \"casos\": 342.0}, {\"dates\": \"2022-05-01T00:00:00\", \"casos\": 461.0}, {\"dates\": \"2022-05-08T00:00:00\", \"casos\": 505.0}, {\"dates\": \"2022-05-15T00:00:00\", \"casos\": 406.0}, {\"dates\": \"2022-05-22T00:00:00\", \"casos\": 400.0}, {\"dates\": \"2022-05-29T00:00:00\", \"casos\": 338.0}, {\"dates\": \"2022-06-05T00:00:00\", \"casos\": 255.0}, {\"dates\": \"2022-06-12T00:00:00\", \"casos\": 153.0}, {\"dates\": \"2022-06-19T00:00:00\", \"casos\": 209.0}, {\"dates\": \"2022-06-26T00:00:00\", \"casos\": 189.0}, {\"dates\": \"2022-07-03T00:00:00\", \"casos\": 155.0}, {\"dates\": \"2022-07-10T00:00:00\", \"casos\": 144.0}, {\"dates\": \"2022-07-17T00:00:00\", \"casos\": 194.0}, {\"dates\": \"2022-07-24T00:00:00\", \"casos\": 148.0}, {\"dates\": \"2022-07-31T00:00:00\", \"casos\": 145.0}, {\"dates\": \"2022-08-07T00:00:00\", \"casos\": 106.0}, {\"dates\": \"2022-08-14T00:00:00\", \"casos\": 110.0}, {\"dates\": \"2022-08-21T00:00:00\", \"casos\": 99.0}, {\"dates\": \"2022-08-28T00:00:00\", \"casos\": 94.0}, {\"dates\": \"2022-09-04T00:00:00\", \"casos\": 101.0}, {\"dates\": \"2022-09-11T00:00:00\", \"casos\": 120.0}, {\"dates\": \"2022-09-18T00:00:00\", \"casos\": 102.0}, {\"dates\": \"2022-09-25T00:00:00\", \"casos\": 95.0}, {\"dates\": \"2022-10-02T00:00:00\", \"casos\": 102.0}, {\"dates\": \"2022-10-09T00:00:00\", \"casos\": 123.0}, {\"dates\": \"2022-10-16T00:00:00\", \"casos\": 160.0}, {\"dates\": \"2022-10-23T00:00:00\", \"casos\": 139.0}, {\"dates\": \"2022-10-30T00:00:00\", \"casos\": 131.0}, {\"dates\": \"2022-11-06T00:00:00\", \"casos\": 171.0}, {\"dates\": \"2022-11-13T00:00:00\", \"casos\": 129.0}, {\"dates\": \"2022-11-20T00:00:00\", \"casos\": 94.0}, {\"dates\": \"2022-11-27T00:00:00\", \"casos\": 86.0}, {\"dates\": \"2022-12-04T00:00:00\", \"casos\": 98.0}, {\"dates\": \"2022-12-11T00:00:00\", \"casos\": 123.0}, {\"dates\": \"2022-12-18T00:00:00\", \"casos\": 117.0}, {\"dates\": \"2022-12-25T00:00:00\", \"casos\": 163.0}, {\"dates\": \"2023-01-01T00:00:00\", \"casos\": 230.0}, {\"dates\": \"2023-01-08T00:00:00\", \"casos\": 218.0}, {\"dates\": \"2023-01-15T00:00:00\", \"casos\": 246.0}, {\"dates\": \"2023-01-22T00:00:00\", \"casos\": 312.0}, {\"dates\": \"2023-01-29T00:00:00\", \"casos\": 383.0}, {\"dates\": \"2023-02-05T00:00:00\", \"casos\": 525.0}, {\"dates\": \"2023-02-12T00:00:00\", \"casos\": 372.0}, {\"dates\": \"2023-02-19T00:00:00\", \"casos\": 507.0}, {\"dates\": \"2023-02-26T00:00:00\", \"casos\": 870.0}, {\"dates\": \"2023-03-05T00:00:00\", \"casos\": 945.0}, {\"dates\": \"2023-03-12T00:00:00\", \"casos\": 1125.0}, {\"dates\": \"2023-03-19T00:00:00\", \"casos\": 1382.0}, {\"dates\": \"2023-03-26T00:00:00\", \"casos\": 1580.0}, {\"dates\": \"2023-04-02T00:00:00\", \"casos\": 1420.0}, {\"dates\": \"2023-04-09T00:00:00\", \"casos\": 1783.0}, {\"dates\": \"2023-04-16T00:00:00\", \"casos\": 1502.0}, {\"dates\": \"2023-04-23T00:00:00\", \"casos\": 1572.0}, {\"dates\": \"2023-04-30T00:00:00\", \"casos\": 1919.0}, {\"dates\": \"2023-05-07T00:00:00\", \"casos\": 1807.0}, {\"dates\": \"2023-05-14T00:00:00\", \"casos\": 1731.0}, {\"dates\": \"2023-05-21T00:00:00\", \"casos\": 1479.0}, {\"dates\": \"2023-05-28T00:00:00\", \"casos\": 1328.0}, {\"dates\": \"2023-06-04T00:00:00\", \"casos\": 1238.0}, {\"dates\": \"2023-06-11T00:00:00\", \"casos\": 1348.0}, {\"dates\": \"2023-06-18T00:00:00\", \"casos\": 1236.0}, {\"dates\": \"2023-06-25T00:00:00\", \"casos\": 996.0}], \"data-289ac9d386d1e6332f6b0ef96b4fefed\": [{\"dates\": \"2022-01-02T00:00:00\", \"variable\": \"preds\", \"log_score\": -232.27141247688184}, {\"dates\": \"2022-01-09T00:00:00\", \"variable\": \"preds\", \"log_score\": -58.37454575631581}, {\"dates\": \"2022-01-16T00:00:00\", \"variable\": \"preds\", \"log_score\": -124.4850697606493}, {\"dates\": \"2022-01-23T00:00:00\", \"variable\": \"preds\", \"log_score\": -67.54134401211115}, {\"dates\": \"2022-01-30T00:00:00\", \"variable\": \"preds\", \"log_score\": -3.9513319543584005}, {\"dates\": \"2022-02-06T00:00:00\", \"variable\": \"preds\", \"log_score\": -4.286490770450624}, {\"dates\": \"2022-02-13T00:00:00\", \"variable\": \"preds\", \"log_score\": -5.562068083691495}, {\"dates\": \"2022-02-20T00:00:00\", \"variable\": \"preds\", \"log_score\": -6.9992275811750915}, {\"dates\": \"2022-02-27T00:00:00\", \"variable\": \"preds\", \"log_score\": -4.004890518116284}, {\"dates\": \"2022-03-06T00:00:00\", \"variable\": \"preds\", \"log_score\": -5.457066833457372}, {\"dates\": \"2022-03-13T00:00:00\", \"variable\": \"preds\", \"log_score\": -5.421202417646411}, {\"dates\": \"2022-03-20T00:00:00\", \"variable\": \"preds\", \"log_score\": -6.397321726804009}, {\"dates\": \"2022-03-27T00:00:00\", \"variable\": \"preds\", \"log_score\": -5.279717341514163}, {\"dates\": \"2022-04-03T00:00:00\", \"variable\": \"preds\", \"log_score\": -5.644708705681995}, {\"dates\": \"2022-04-10T00:00:00\", \"variable\": \"preds\", \"log_score\": -6.023203846695805}, {\"dates\": \"2022-04-17T00:00:00\", \"variable\": \"preds\", \"log_score\": -6.35408893534046}, {\"dates\": \"2022-04-24T00:00:00\", \"variable\": \"preds\", \"log_score\": -6.046974506714689}, {\"dates\": \"2022-05-01T00:00:00\", \"variable\": \"preds\", \"log_score\": -6.935056858541592}, {\"dates\": \"2022-05-08T00:00:00\", \"variable\": \"preds\", \"log_score\": -6.941808137689616}, {\"dates\": \"2022-05-15T00:00:00\", \"variable\": \"preds\", \"log_score\": -6.662272464405154}, {\"dates\": \"2022-05-22T00:00:00\", \"variable\": \"preds\", \"log_score\": -6.3228578844379095}, {\"dates\": \"2022-05-29T00:00:00\", \"variable\": \"preds\", \"log_score\": -6.715025785170618}, {\"dates\": \"2022-06-05T00:00:00\", \"variable\": \"preds\", \"log_score\": -7.151076508465705}, {\"dates\": \"2022-06-12T00:00:00\", \"variable\": \"preds\", \"log_score\": -7.493210676932254}, {\"dates\": \"2022-06-19T00:00:00\", \"variable\": \"preds\", \"log_score\": -5.301163459830657}, {\"dates\": \"2022-06-26T00:00:00\", \"variable\": \"preds\", \"log_score\": -5.401373659680193}, {\"dates\": \"2022-07-03T00:00:00\", \"variable\": \"preds\", \"log_score\": -5.589292599978186}, {\"dates\": \"2022-07-10T00:00:00\", \"variable\": \"preds\", \"log_score\": -5.796931478094818}, {\"dates\": \"2022-07-17T00:00:00\", \"variable\": \"preds\", \"log_score\": -5.3877486845919496}, {\"dates\": \"2022-07-24T00:00:00\", \"variable\": \"preds\", \"log_score\": -5.178407304893382}, {\"dates\": \"2022-07-31T00:00:00\", \"variable\": \"preds\", \"log_score\": -5.4492533471118945}, {\"dates\": \"2022-08-07T00:00:00\", \"variable\": \"preds\", \"log_score\": -5.687567916215086}, {\"dates\": \"2022-08-14T00:00:00\", \"variable\": \"preds\", \"log_score\": -4.63058247202458}, {\"dates\": \"2022-08-21T00:00:00\", \"variable\": \"preds\", \"log_score\": -4.866245263996809}, {\"dates\": \"2022-08-28T00:00:00\", \"variable\": \"preds\", \"log_score\": -5.1451552351170005}, {\"dates\": \"2022-09-04T00:00:00\", \"variable\": \"preds\", \"log_score\": -5.346137062836219}, {\"dates\": \"2022-09-11T00:00:00\", \"variable\": \"preds\", \"log_score\": -4.6954676680675735}, {\"dates\": \"2022-09-18T00:00:00\", \"variable\": \"preds\", \"log_score\": -4.75537723991014}, {\"dates\": \"2022-09-25T00:00:00\", \"variable\": \"preds\", \"log_score\": -5.021946846299082}, {\"dates\": \"2022-10-02T00:00:00\", \"variable\": \"preds\", \"log_score\": -5.253951708044223}, {\"dates\": \"2022-10-09T00:00:00\", \"variable\": \"preds\", \"log_score\": -4.720814321018082}, {\"dates\": \"2022-10-16T00:00:00\", \"variable\": \"preds\", \"log_score\": -5.60779276537068}, {\"dates\": \"2022-10-23T00:00:00\", \"variable\": \"preds\", \"log_score\": -5.274314853406532}, {\"dates\": \"2022-10-30T00:00:00\", \"variable\": \"preds\", \"log_score\": -5.3849051678488316}, {\"dates\": \"2022-11-06T00:00:00\", \"variable\": \"preds\", \"log_score\": -5.099008589968477}, {\"dates\": \"2022-11-13T00:00:00\", \"variable\": \"preds\", \"log_score\": -5.137031355310094}, {\"dates\": \"2022-11-20T00:00:00\", \"variable\": \"preds\", \"log_score\": -5.542453301829724}, {\"dates\": \"2022-11-27T00:00:00\", \"variable\": \"preds\", \"log_score\": -5.778513577041061}, {\"dates\": \"2022-12-04T00:00:00\", \"variable\": \"preds\", \"log_score\": -4.407176643557814}, {\"dates\": \"2022-12-11T00:00:00\", \"variable\": \"preds\", \"log_score\": -5.12675786731491}, {\"dates\": \"2022-12-18T00:00:00\", \"variable\": \"preds\", \"log_score\": -5.094508799882884}, {\"dates\": \"2022-12-25T00:00:00\", \"variable\": \"preds\", \"log_score\": -5.959886110879803}, {\"dates\": \"2023-01-01T00:00:00\", \"variable\": \"preds\", \"log_score\": -5.895621437374984}, {\"dates\": \"2023-01-08T00:00:00\", \"variable\": \"preds\", \"log_score\": -5.580524724501446}, {\"dates\": \"2023-01-15T00:00:00\", \"variable\": \"preds\", \"log_score\": -5.927025818498744}, {\"dates\": \"2023-01-22T00:00:00\", \"variable\": \"preds\", \"log_score\": -6.415578802987065}, {\"dates\": \"2023-01-29T00:00:00\", \"variable\": \"preds\", \"log_score\": -5.947110762711469}, {\"dates\": \"2023-02-05T00:00:00\", \"variable\": \"preds\", \"log_score\": -6.701365543298542}, {\"dates\": \"2023-02-12T00:00:00\", \"variable\": \"preds\", \"log_score\": -6.530347679066207}, {\"dates\": \"2023-02-19T00:00:00\", \"variable\": \"preds\", \"log_score\": -6.918148302547534}, {\"dates\": \"2023-02-26T00:00:00\", \"variable\": \"preds\", \"log_score\": -7.842557376512957}, {\"dates\": \"2023-03-05T00:00:00\", \"variable\": \"preds\", \"log_score\": -7.569671682416051}, {\"dates\": \"2023-03-12T00:00:00\", \"variable\": \"preds\", \"log_score\": -7.883065253277547}, {\"dates\": \"2023-03-19T00:00:00\", \"variable\": \"preds\", \"log_score\": -8.243267826774574}, {\"dates\": \"2023-03-26T00:00:00\", \"variable\": \"preds\", \"log_score\": -7.575482991675537}, {\"dates\": \"2023-04-02T00:00:00\", \"variable\": \"preds\", \"log_score\": -8.001347306592269}, {\"dates\": \"2023-04-09T00:00:00\", \"variable\": \"preds\", \"log_score\": -8.429629668230744}, {\"dates\": \"2023-04-16T00:00:00\", \"variable\": \"preds\", \"log_score\": -8.807232604718996}, {\"dates\": \"2023-04-23T00:00:00\", \"variable\": \"preds\", \"log_score\": -7.72447124667914}, {\"dates\": \"2023-04-30T00:00:00\", \"variable\": \"preds\", \"log_score\": -8.096123007147618}, {\"dates\": \"2023-05-07T00:00:00\", \"variable\": \"preds\", \"log_score\": -8.484365685851364}, {\"dates\": \"2023-05-14T00:00:00\", \"variable\": \"preds\", \"log_score\": -8.822777815160972}, {\"dates\": \"2023-05-21T00:00:00\", \"variable\": \"preds\", \"log_score\": -7.858234322986967}, {\"dates\": \"2023-05-28T00:00:00\", \"variable\": \"preds\", \"log_score\": -8.22328744853195}, {\"dates\": \"2023-06-04T00:00:00\", \"variable\": \"preds\", \"log_score\": -8.592957678640781}, {\"dates\": \"2023-06-11T00:00:00\", \"variable\": \"preds\", \"log_score\": -8.895465959794302}, {\"dates\": \"2023-06-18T00:00:00\", \"variable\": \"preds\", \"log_score\": -7.435563408092625}, {\"dates\": \"2023-06-25T00:00:00\", \"variable\": \"preds\", \"log_score\": -7.828252026991327}, {\"dates\": \"2022-01-02T00:00:00\", \"variable\": \"77\", \"log_score\": -6.992415441357596}, {\"dates\": \"2022-01-09T00:00:00\", \"variable\": \"77\", \"log_score\": -6.870075529986306}, {\"dates\": \"2022-01-16T00:00:00\", \"variable\": \"77\", \"log_score\": -6.046197565535977}, {\"dates\": \"2022-01-23T00:00:00\", \"variable\": \"77\", \"log_score\": -6.580272789857316}, {\"dates\": \"2022-01-30T00:00:00\", \"variable\": \"77\", \"log_score\": -6.493813004534157}, {\"dates\": \"2022-02-06T00:00:00\", \"variable\": \"77\", \"log_score\": -6.492569188163004}, {\"dates\": \"2022-02-13T00:00:00\", \"variable\": \"77\", \"log_score\": -6.454462318882965}, {\"dates\": \"2022-02-20T00:00:00\", \"variable\": \"77\", \"log_score\": -6.6546131410210565}, {\"dates\": \"2022-02-27T00:00:00\", \"variable\": \"77\", \"log_score\": -6.833395029696827}, {\"dates\": \"2022-03-06T00:00:00\", \"variable\": \"77\", \"log_score\": -7.114655311756652}, {\"dates\": \"2022-03-13T00:00:00\", \"variable\": \"77\", \"log_score\": -6.988530774345875}, {\"dates\": \"2022-03-20T00:00:00\", \"variable\": \"77\", \"log_score\": -6.933775539423366}, {\"dates\": \"2022-03-27T00:00:00\", \"variable\": \"77\", \"log_score\": -6.775964883071362}, {\"dates\": \"2022-04-03T00:00:00\", \"variable\": \"77\", \"log_score\": -6.348806023288524}, {\"dates\": \"2022-04-10T00:00:00\", \"variable\": \"77\", \"log_score\": -6.8920516285865006}, {\"dates\": \"2022-04-17T00:00:00\", \"variable\": \"77\", \"log_score\": -7.289278580299452}, {\"dates\": \"2022-04-24T00:00:00\", \"variable\": \"77\", \"log_score\": -7.546326457982746}, {\"dates\": \"2022-05-01T00:00:00\", \"variable\": \"77\", \"log_score\": -7.635283944759791}, {\"dates\": \"2022-05-08T00:00:00\", \"variable\": \"77\", \"log_score\": -7.765563757702976}, {\"dates\": \"2022-05-15T00:00:00\", \"variable\": \"77\", \"log_score\": -7.43078331520807}, {\"dates\": \"2022-05-22T00:00:00\", \"variable\": \"77\", \"log_score\": -7.0916564638190565}, {\"dates\": \"2022-05-29T00:00:00\", \"variable\": \"77\", \"log_score\": -7.44968045392909}, {\"dates\": \"2022-06-05T00:00:00\", \"variable\": \"77\", \"log_score\": -8.813543849512584}, {\"dates\": \"2022-06-12T00:00:00\", \"variable\": \"77\", \"log_score\": -8.245535675840081}, {\"dates\": \"2022-06-19T00:00:00\", \"variable\": \"77\", \"log_score\": -7.743083598730219}, {\"dates\": \"2022-06-26T00:00:00\", \"variable\": \"77\", \"log_score\": -7.293915236000341}, {\"dates\": \"2022-07-03T00:00:00\", \"variable\": \"77\", \"log_score\": -7.347614756188939}, {\"dates\": \"2022-07-10T00:00:00\", \"variable\": \"77\", \"log_score\": -6.930178580248587}, {\"dates\": \"2022-07-17T00:00:00\", \"variable\": \"77\", \"log_score\": -6.92650306714976}, {\"dates\": \"2022-07-24T00:00:00\", \"variable\": \"77\", \"log_score\": -7.114013349052896}, {\"dates\": \"2022-07-31T00:00:00\", \"variable\": \"77\", \"log_score\": -6.774767639202765}, {\"dates\": \"2022-08-07T00:00:00\", \"variable\": \"77\", \"log_score\": -6.692895889518652}, {\"dates\": \"2022-08-14T00:00:00\", \"variable\": \"77\", \"log_score\": -6.663600624644081}, {\"dates\": \"2022-08-21T00:00:00\", \"variable\": \"77\", \"log_score\": -6.7294739372717975}, {\"dates\": \"2022-08-28T00:00:00\", \"variable\": \"77\", \"log_score\": -6.858023742204471}, {\"dates\": \"2022-09-04T00:00:00\", \"variable\": \"77\", \"log_score\": -6.895872196369931}, {\"dates\": \"2022-09-11T00:00:00\", \"variable\": \"77\", \"log_score\": -6.503135997644514}, {\"dates\": \"2022-09-18T00:00:00\", \"variable\": \"77\", \"log_score\": -5.798815012473156}, {\"dates\": \"2022-09-25T00:00:00\", \"variable\": \"77\", \"log_score\": -6.551265695442198}, {\"dates\": \"2022-10-02T00:00:00\", \"variable\": \"77\", \"log_score\": -6.407603088387828}, {\"dates\": \"2022-10-09T00:00:00\", \"variable\": \"77\", \"log_score\": -6.954241060064169}, {\"dates\": \"2022-10-16T00:00:00\", \"variable\": \"77\", \"log_score\": -7.021548959518747}, {\"dates\": \"2022-10-23T00:00:00\", \"variable\": \"77\", \"log_score\": -7.342266931166756}, {\"dates\": \"2022-10-30T00:00:00\", \"variable\": \"77\", \"log_score\": -7.351712664570618}, {\"dates\": \"2022-11-06T00:00:00\", \"variable\": \"77\", \"log_score\": -7.454378773209983}, {\"dates\": \"2022-11-13T00:00:00\", \"variable\": \"77\", \"log_score\": -7.189998560799574}, {\"dates\": \"2022-11-20T00:00:00\", \"variable\": \"77\", \"log_score\": -6.9785347429784315}, {\"dates\": \"2022-11-27T00:00:00\", \"variable\": \"77\", \"log_score\": -6.693778293537582}, {\"dates\": \"2022-12-04T00:00:00\", \"variable\": \"77\", \"log_score\": -6.423104184339056}, {\"dates\": \"2022-12-11T00:00:00\", \"variable\": \"77\", \"log_score\": -6.798555742276464}, {\"dates\": \"2022-12-18T00:00:00\", \"variable\": \"77\", \"log_score\": -6.903345718082295}, {\"dates\": \"2022-12-25T00:00:00\", \"variable\": \"77\", \"log_score\": -7.070191581515197}, {\"dates\": \"2023-01-01T00:00:00\", \"variable\": \"77\", \"log_score\": -7.060574003584756}, {\"dates\": \"2023-01-08T00:00:00\", \"variable\": \"77\", \"log_score\": -7.045223726011194}, {\"dates\": \"2023-01-15T00:00:00\", \"variable\": \"77\", \"log_score\": -6.7194951926085675}, {\"dates\": \"2023-01-22T00:00:00\", \"variable\": \"77\", \"log_score\": -6.690525516728642}, {\"dates\": \"2023-01-29T00:00:00\", \"variable\": \"77\", \"log_score\": -6.862813241341016}, {\"dates\": \"2023-02-05T00:00:00\", \"variable\": \"77\", \"log_score\": -6.823837291109028}, {\"dates\": \"2023-02-12T00:00:00\", \"variable\": \"77\", \"log_score\": -7.105866922163416}, {\"dates\": \"2023-02-19T00:00:00\", \"variable\": \"77\", \"log_score\": -7.117678137697696}, {\"dates\": \"2023-02-26T00:00:00\", \"variable\": \"77\", \"log_score\": -7.31486976019457}, {\"dates\": \"2023-03-05T00:00:00\", \"variable\": \"77\", \"log_score\": -7.4692117810610235}, {\"dates\": \"2023-03-12T00:00:00\", \"variable\": \"77\", \"log_score\": -7.712089190999138}, {\"dates\": \"2023-03-19T00:00:00\", \"variable\": \"77\", \"log_score\": -7.883375583994265}, {\"dates\": \"2023-03-26T00:00:00\", \"variable\": \"77\", \"log_score\": -8.024042251575539}, {\"dates\": \"2023-04-02T00:00:00\", \"variable\": \"77\", \"log_score\": -8.120878682407712}, {\"dates\": \"2023-04-09T00:00:00\", \"variable\": \"77\", \"log_score\": -7.619891709493978}, {\"dates\": \"2023-04-16T00:00:00\", \"variable\": \"77\", \"log_score\": -7.2717711113209}, {\"dates\": \"2023-04-23T00:00:00\", \"variable\": \"77\", \"log_score\": -7.557110758776275}, {\"dates\": \"2023-04-30T00:00:00\", \"variable\": \"77\", \"log_score\": -7.562009280459046}, {\"dates\": \"2023-05-07T00:00:00\", \"variable\": \"77\", \"log_score\": -7.52694401172079}, {\"dates\": \"2023-05-14T00:00:00\", \"variable\": \"77\", \"log_score\": -7.354749338837952}, {\"dates\": \"2023-05-21T00:00:00\", \"variable\": \"77\", \"log_score\": -7.22483902674364}, {\"dates\": \"2023-05-28T00:00:00\", \"variable\": \"77\", \"log_score\": -7.019282786700017}, {\"dates\": \"2023-06-04T00:00:00\", \"variable\": \"77\", \"log_score\": -9.422886161368568}, {\"dates\": \"2023-06-11T00:00:00\", \"variable\": \"77\", \"log_score\": -8.505236512499405}, {\"dates\": \"2023-06-18T00:00:00\", \"variable\": \"77\", \"log_score\": -7.281534953192731}, {\"dates\": \"2023-06-25T00:00:00\", \"variable\": \"77\", \"log_score\": -7.342796189673276}, {\"dates\": \"2022-01-02T00:00:00\", \"variable\": \"78\", \"log_score\": -6.236466467854566}, {\"dates\": \"2022-01-09T00:00:00\", \"variable\": \"78\", \"log_score\": -5.808406418586055}, {\"dates\": \"2022-01-16T00:00:00\", \"variable\": \"78\", \"log_score\": -5.562729308778151}, {\"dates\": \"2022-01-23T00:00:00\", \"variable\": \"78\", \"log_score\": -5.662114576590213}, {\"dates\": \"2022-01-30T00:00:00\", \"variable\": \"78\", \"log_score\": -5.9633853409706}, {\"dates\": \"2022-02-06T00:00:00\", \"variable\": \"78\", \"log_score\": -5.910948715696623}, {\"dates\": \"2022-02-13T00:00:00\", \"variable\": \"78\", \"log_score\": -5.973787535233068}, {\"dates\": \"2022-02-20T00:00:00\", \"variable\": \"78\", \"log_score\": -6.560617030946524}, {\"dates\": \"2022-02-27T00:00:00\", \"variable\": \"78\", \"log_score\": -6.656417785493274}, {\"dates\": \"2022-03-06T00:00:00\", \"variable\": \"78\", \"log_score\": -6.488643431077494}, {\"dates\": \"2022-03-13T00:00:00\", \"variable\": \"78\", \"log_score\": -6.969533367630016}, {\"dates\": \"2022-03-20T00:00:00\", \"variable\": \"78\", \"log_score\": -6.634103421223949}, {\"dates\": \"2022-03-27T00:00:00\", \"variable\": \"78\", \"log_score\": -6.021708283447859}, {\"dates\": \"2022-04-03T00:00:00\", \"variable\": \"78\", \"log_score\": -6.209213364325598}, {\"dates\": \"2022-04-10T00:00:00\", \"variable\": \"78\", \"log_score\": -6.000566694310453}, {\"dates\": \"2022-04-17T00:00:00\", \"variable\": \"78\", \"log_score\": -6.2798928840536}, {\"dates\": \"2022-04-24T00:00:00\", \"variable\": \"78\", \"log_score\": -6.638012758633393}, {\"dates\": \"2022-05-01T00:00:00\", \"variable\": \"78\", \"log_score\": -6.859075897327462}, {\"dates\": \"2022-05-08T00:00:00\", \"variable\": \"78\", \"log_score\": -6.807519734612539}, {\"dates\": \"2022-05-15T00:00:00\", \"variable\": \"78\", \"log_score\": -6.783554797363064}, {\"dates\": \"2022-05-22T00:00:00\", \"variable\": \"78\", \"log_score\": -6.666318156648064}, {\"dates\": \"2022-05-29T00:00:00\", \"variable\": \"78\", \"log_score\": -6.564597935694607}, {\"dates\": \"2022-06-05T00:00:00\", \"variable\": \"78\", \"log_score\": -7.020211838834128}, {\"dates\": \"2022-06-12T00:00:00\", \"variable\": \"78\", \"log_score\": -6.471776505189649}, {\"dates\": \"2022-06-19T00:00:00\", \"variable\": \"78\", \"log_score\": -6.1996834010460615}, {\"dates\": \"2022-06-26T00:00:00\", \"variable\": \"78\", \"log_score\": -6.123168321918948}, {\"dates\": \"2022-07-03T00:00:00\", \"variable\": \"78\", \"log_score\": -6.481467591241835}, {\"dates\": \"2022-07-10T00:00:00\", \"variable\": \"78\", \"log_score\": -6.398175197820311}, {\"dates\": \"2022-07-17T00:00:00\", \"variable\": \"78\", \"log_score\": -6.817999345553271}, {\"dates\": \"2022-07-24T00:00:00\", \"variable\": \"78\", \"log_score\": -6.451905659326475}, {\"dates\": \"2022-07-31T00:00:00\", \"variable\": \"78\", \"log_score\": -6.179400895396535}, {\"dates\": \"2022-08-07T00:00:00\", \"variable\": \"78\", \"log_score\": -6.082390189230521}, {\"dates\": \"2022-08-14T00:00:00\", \"variable\": \"78\", \"log_score\": -6.204910856063947}, {\"dates\": \"2022-08-21T00:00:00\", \"variable\": \"78\", \"log_score\": -6.042529723597497}, {\"dates\": \"2022-08-28T00:00:00\", \"variable\": \"78\", \"log_score\": -5.973112110456799}, {\"dates\": \"2022-09-04T00:00:00\", \"variable\": \"78\", \"log_score\": -6.100373961863847}, {\"dates\": \"2022-09-11T00:00:00\", \"variable\": \"78\", \"log_score\": -6.2068532479900345}, {\"dates\": \"2022-09-18T00:00:00\", \"variable\": \"78\", \"log_score\": -6.0926081537190555}, {\"dates\": \"2022-09-25T00:00:00\", \"variable\": \"78\", \"log_score\": -6.000294860536008}, {\"dates\": \"2022-10-02T00:00:00\", \"variable\": \"78\", \"log_score\": -6.072400413851108}, {\"dates\": \"2022-10-09T00:00:00\", \"variable\": \"78\", \"log_score\": -6.28005494286848}, {\"dates\": \"2022-10-16T00:00:00\", \"variable\": \"78\", \"log_score\": -6.534676971909581}, {\"dates\": \"2022-10-23T00:00:00\", \"variable\": \"78\", \"log_score\": -6.461251527241779}, {\"dates\": \"2022-10-30T00:00:00\", \"variable\": \"78\", \"log_score\": -6.2953479731005855}, {\"dates\": \"2022-11-06T00:00:00\", \"variable\": \"78\", \"log_score\": -6.59669451448484}, {\"dates\": \"2022-11-13T00:00:00\", \"variable\": \"78\", \"log_score\": -6.350720149791762}, {\"dates\": \"2022-11-20T00:00:00\", \"variable\": \"78\", \"log_score\": -6.0704111851619285}, {\"dates\": \"2022-11-27T00:00:00\", \"variable\": \"78\", \"log_score\": -6.009631888527043}, {\"dates\": \"2022-12-04T00:00:00\", \"variable\": \"78\", \"log_score\": -6.00810840640235}, {\"dates\": \"2022-12-11T00:00:00\", \"variable\": \"78\", \"log_score\": -6.231310266608032}, {\"dates\": \"2022-12-18T00:00:00\", \"variable\": \"78\", \"log_score\": -6.210044661250155}, {\"dates\": \"2022-12-25T00:00:00\", \"variable\": \"78\", \"log_score\": -6.030344919933579}, {\"dates\": \"2023-01-01T00:00:00\", \"variable\": \"78\", \"log_score\": -6.824407014356001}, {\"dates\": \"2023-01-08T00:00:00\", \"variable\": \"78\", \"log_score\": -6.176103462439369}, {\"dates\": \"2023-01-15T00:00:00\", \"variable\": \"78\", \"log_score\": -6.242466140077378}, {\"dates\": \"2023-01-22T00:00:00\", \"variable\": \"78\", \"log_score\": -6.474002715169926}, {\"dates\": \"2023-01-29T00:00:00\", \"variable\": \"78\", \"log_score\": -6.313518220469092}, {\"dates\": \"2023-02-05T00:00:00\", \"variable\": \"78\", \"log_score\": -7.734218401869841}, {\"dates\": \"2023-02-12T00:00:00\", \"variable\": \"78\", \"log_score\": -6.314232126852336}, {\"dates\": \"2023-02-19T00:00:00\", \"variable\": \"78\", \"log_score\": -6.588685622264594}, {\"dates\": \"2023-02-26T00:00:00\", \"variable\": \"78\", \"log_score\": -7.8914644213151055}, {\"dates\": \"2023-03-05T00:00:00\", \"variable\": \"78\", \"log_score\": -7.284694494043149}, {\"dates\": \"2023-03-12T00:00:00\", \"variable\": \"78\", \"log_score\": -8.762054522017808}, {\"dates\": \"2023-03-19T00:00:00\", \"variable\": \"78\", \"log_score\": -10.851034900383274}, {\"dates\": \"2023-03-26T00:00:00\", \"variable\": \"78\", \"log_score\": -13.04891262220417}, {\"dates\": \"2023-04-02T00:00:00\", \"variable\": \"78\", \"log_score\": -10.408619669904532}, {\"dates\": \"2023-04-09T00:00:00\", \"variable\": \"78\", \"log_score\": -11.044975503594394}, {\"dates\": \"2023-04-16T00:00:00\", \"variable\": \"78\", \"log_score\": -8.334340078623551}, {\"dates\": \"2023-04-23T00:00:00\", \"variable\": \"78\", \"log_score\": -8.586949717872042}, {\"dates\": \"2023-04-30T00:00:00\", \"variable\": \"78\", \"log_score\": -12.995579802530315}, {\"dates\": \"2023-05-07T00:00:00\", \"variable\": \"78\", \"log_score\": -10.447125927771921}, {\"dates\": \"2023-05-14T00:00:00\", \"variable\": \"78\", \"log_score\": -12.877706107621634}, {\"dates\": \"2023-05-21T00:00:00\", \"variable\": \"78\", \"log_score\": -19.383648009448944}, {\"dates\": \"2023-05-28T00:00:00\", \"variable\": \"78\", \"log_score\": -7.901945773029901}, {\"dates\": \"2023-06-04T00:00:00\", \"variable\": \"78\", \"log_score\": -7.206261287198437}, {\"dates\": \"2023-06-11T00:00:00\", \"variable\": \"78\", \"log_score\": -8.591845061625422}, {\"dates\": \"2023-06-18T00:00:00\", \"variable\": \"78\", \"log_score\": -7.677499005839976}, {\"dates\": \"2023-06-25T00:00:00\", \"variable\": \"78\", \"log_score\": -8.896632569741554}]}}, {\"mode\": \"vega-lite\"});\n",
       "</script>"
      ],
      "text/plain": [
       "alt.VConcatChart(...)"
      ]
     },
     "execution_count": 16,
     "metadata": {},
     "output_type": "execute_result"
    }
   ],
   "source": [
    "score.plot_log_score()"
   ]
  },
  {
   "cell_type": "markdown",
   "id": "6a4b531c",
   "metadata": {},
   "source": [
    "To generate a table with a summary of the scores, you can use the following: "
   ]
  },
  {
   "cell_type": "code",
   "execution_count": 17,
   "id": "5ea7f468",
   "metadata": {},
   "outputs": [
    {
     "data": {
      "text/html": [
       "<div>\n",
       "<style scoped>\n",
       "    .dataframe tbody tr th:only-of-type {\n",
       "        vertical-align: middle;\n",
       "    }\n",
       "\n",
       "    .dataframe tbody tr th {\n",
       "        vertical-align: top;\n",
       "    }\n",
       "\n",
       "    .dataframe thead th {\n",
       "        text-align: right;\n",
       "    }\n",
       "</style>\n",
       "<table border=\"1\" class=\"dataframe\">\n",
       "  <thead>\n",
       "    <tr style=\"text-align: right;\">\n",
       "      <th></th>\n",
       "      <th>mae</th>\n",
       "      <th>mse</th>\n",
       "      <th>crps</th>\n",
       "      <th>log_score</th>\n",
       "    </tr>\n",
       "    <tr>\n",
       "      <th>id</th>\n",
       "      <th></th>\n",
       "      <th></th>\n",
       "      <th></th>\n",
       "      <th></th>\n",
       "    </tr>\n",
       "  </thead>\n",
       "  <tbody>\n",
       "    <tr>\n",
       "      <th>preds</th>\n",
       "      <td>115.526062</td>\n",
       "      <td>39545.919198</td>\n",
       "      <td>121.893032</td>\n",
       "      <td>-12.117836</td>\n",
       "    </tr>\n",
       "    <tr>\n",
       "      <th>77</th>\n",
       "      <td>150.218462</td>\n",
       "      <td>69988.363187</td>\n",
       "      <td>156.069647</td>\n",
       "      <td>-7.138349</td>\n",
       "    </tr>\n",
       "    <tr>\n",
       "      <th>78</th>\n",
       "      <td>260.983184</td>\n",
       "      <td>166280.634997</td>\n",
       "      <td>194.826199</td>\n",
       "      <td>-7.206595</td>\n",
       "    </tr>\n",
       "  </tbody>\n",
       "</table>\n",
       "</div>"
      ],
      "text/plain": [
       "              mae            mse        crps  log_score\n",
       "id                                                     \n",
       "preds  115.526062   39545.919198  121.893032 -12.117836\n",
       "77     150.218462   69988.363187  156.069647  -7.138349\n",
       "78     260.983184  166280.634997  194.826199  -7.206595"
      ]
     },
     "execution_count": 17,
     "metadata": {},
     "output_type": "execute_result"
    }
   ],
   "source": [
    "score.summary"
   ]
  },
  {
   "cell_type": "markdown",
   "id": "9f5d7109",
   "metadata": {},
   "source": [
    "To generate a plot of the predictions, you can use the following: "
   ]
  },
  {
   "cell_type": "code",
   "execution_count": 18,
   "id": "082a547f",
   "metadata": {},
   "outputs": [
    {
     "data": {
      "text/html": [
       "\n",
       "<style>\n",
       "  #altair-viz-b4e881d0f4c845eb91d167245cac600a.vega-embed {\n",
       "    width: 100%;\n",
       "    display: flex;\n",
       "  }\n",
       "\n",
       "  #altair-viz-b4e881d0f4c845eb91d167245cac600a.vega-embed details,\n",
       "  #altair-viz-b4e881d0f4c845eb91d167245cac600a.vega-embed details summary {\n",
       "    position: relative;\n",
       "  }\n",
       "</style>\n",
       "<div id=\"altair-viz-b4e881d0f4c845eb91d167245cac600a\"></div>\n",
       "<script type=\"text/javascript\">\n",
       "  var VEGA_DEBUG = (typeof VEGA_DEBUG == \"undefined\") ? {} : VEGA_DEBUG;\n",
       "  (function(spec, embedOpt){\n",
       "    let outputDiv = document.currentScript.previousElementSibling;\n",
       "    if (outputDiv.id !== \"altair-viz-b4e881d0f4c845eb91d167245cac600a\") {\n",
       "      outputDiv = document.getElementById(\"altair-viz-b4e881d0f4c845eb91d167245cac600a\");\n",
       "    }\n",
       "    const paths = {\n",
       "      \"vega\": \"https://cdn.jsdelivr.net/npm/vega@5?noext\",\n",
       "      \"vega-lib\": \"https://cdn.jsdelivr.net/npm/vega-lib?noext\",\n",
       "      \"vega-lite\": \"https://cdn.jsdelivr.net/npm/vega-lite@5.17.0?noext\",\n",
       "      \"vega-embed\": \"https://cdn.jsdelivr.net/npm/vega-embed@6?noext\",\n",
       "    };\n",
       "\n",
       "    function maybeLoadScript(lib, version) {\n",
       "      var key = `${lib.replace(\"-\", \"\")}_version`;\n",
       "      return (VEGA_DEBUG[key] == version) ?\n",
       "        Promise.resolve(paths[lib]) :\n",
       "        new Promise(function(resolve, reject) {\n",
       "          var s = document.createElement('script');\n",
       "          document.getElementsByTagName(\"head\")[0].appendChild(s);\n",
       "          s.async = true;\n",
       "          s.onload = () => {\n",
       "            VEGA_DEBUG[key] = version;\n",
       "            return resolve(paths[lib]);\n",
       "          };\n",
       "          s.onerror = () => reject(`Error loading script: ${paths[lib]}`);\n",
       "          s.src = paths[lib];\n",
       "        });\n",
       "    }\n",
       "\n",
       "    function showError(err) {\n",
       "      outputDiv.innerHTML = `<div class=\"error\" style=\"color:red;\">${err}</div>`;\n",
       "      throw err;\n",
       "    }\n",
       "\n",
       "    function displayChart(vegaEmbed) {\n",
       "      vegaEmbed(outputDiv, spec, embedOpt)\n",
       "        .catch(err => showError(`Javascript Error: ${err.message}<br>This usually means there's a typo in your chart specification. See the javascript console for the full traceback.`));\n",
       "    }\n",
       "\n",
       "    if(typeof define === \"function\" && define.amd) {\n",
       "      requirejs.config({paths});\n",
       "      require([\"vega-embed\"], displayChart, err => showError(`Error loading script: ${err.message}`));\n",
       "    } else {\n",
       "      maybeLoadScript(\"vega\", \"5\")\n",
       "        .then(() => maybeLoadScript(\"vega-lite\", \"5.17.0\"))\n",
       "        .then(() => maybeLoadScript(\"vega-embed\", \"6\"))\n",
       "        .catch(showError)\n",
       "        .then(() => displayChart(vegaEmbed));\n",
       "    }\n",
       "  })({\"config\": {\"view\": {\"continuousWidth\": 300, \"continuousHeight\": 300}}, \"layer\": [{\"data\": {\"name\": \"data-1fff263b8dfc65f577a4f4b19354459e\"}, \"mark\": {\"type\": \"circle\", \"size\": 60}, \"encoding\": {\"color\": {\"field\": \"legend\", \"legend\": {\"title\": null}, \"scale\": {\"range\": [\"black\"]}, \"type\": \"nominal\"}, \"x\": {\"field\": \"dates\", \"type\": \"temporal\"}, \"y\": {\"field\": \"casos\", \"type\": \"quantitative\"}}}, {\"data\": {\"name\": \"data-cafb0834806632e86c62426c17f485b2\"}, \"mark\": {\"type\": \"line\"}, \"encoding\": {\"color\": {\"field\": \"model\", \"legend\": {\"title\": \"Model\"}, \"type\": \"nominal\"}, \"x\": {\"field\": \"dates\", \"title\": \"Dates\", \"type\": \"temporal\"}, \"y\": {\"field\": \"preds\", \"title\": \"New cases\", \"type\": \"quantitative\"}}, \"title\": \"Median and 95% confidence interval\"}, {\"data\": {\"name\": \"data-cafb0834806632e86c62426c17f485b2\"}, \"mark\": {\"type\": \"area\", \"opacity\": 0.25}, \"encoding\": {\"color\": {\"field\": \"model\", \"legend\": null, \"type\": \"nominal\"}, \"x\": {\"field\": \"dates\", \"type\": \"temporal\"}, \"y\": {\"field\": \"lower\", \"type\": \"quantitative\"}, \"y2\": {\"field\": \"upper\"}}, \"title\": \"Median and 95% confidence interval\"}, {\"data\": {\"name\": \"data-cafb0834806632e86c62426c17f485b2\"}, \"mark\": {\"type\": \"point\"}, \"encoding\": {\"color\": {\"field\": \"model\", \"legend\": null, \"type\": \"nominal\"}, \"opacity\": {\"condition\": {\"param\": \"param_3\", \"value\": 1, \"empty\": false}, \"value\": 0}, \"x\": {\"field\": \"dates\", \"title\": \"Dates\", \"type\": \"temporal\"}, \"y\": {\"field\": \"preds\", \"title\": \"New cases\", \"type\": \"quantitative\"}}, \"title\": \"Median and 95% confidence interval\"}, {\"data\": {\"name\": \"data-3e6c12df7cc6890161fd69aa359fe213\"}, \"mark\": {\"type\": \"rule\", \"color\": \"gray\"}, \"encoding\": {\"opacity\": {\"condition\": {\"param\": \"param_3\", \"value\": 0.3, \"empty\": false}, \"value\": 0}, \"tooltip\": [{\"field\": \"dates\", \"title\": \"Date\", \"type\": \"temporal\"}, {\"field\": \"preds\", \"format\": \".0f\", \"type\": \"quantitative\"}, {\"field\": \"77\", \"format\": \".0f\", \"type\": \"quantitative\"}, {\"field\": \"78\", \"format\": \".0f\", \"type\": \"quantitative\"}, {\"field\": \"cases\", \"format\": \".0f\", \"type\": \"quantitative\"}], \"x\": {\"field\": \"dates\", \"type\": \"temporal\"}}, \"name\": \"view_3\", \"transform\": [{\"pivot\": \"model\", \"value\": \"preds\", \"groupby\": [\"dates\"]}]}], \"height\": 300, \"params\": [{\"name\": \"param_3\", \"select\": {\"type\": \"point\", \"fields\": [\"dates\"], \"nearest\": true, \"on\": \"pointerover\"}, \"views\": [\"view_3\"]}], \"resolve\": {\"scale\": {\"color\": \"independent\"}}, \"width\": 400, \"$schema\": \"https://vega.github.io/schema/vega-lite/v5.17.0.json\", \"datasets\": {\"data-1fff263b8dfc65f577a4f4b19354459e\": [{\"dates\": \"2022-01-02T00:00:00\", \"casos\": 21.0, \"legend\": \"Data\"}, {\"dates\": \"2022-01-09T00:00:00\", \"casos\": 14.0, \"legend\": \"Data\"}, {\"dates\": \"2022-01-16T00:00:00\", \"casos\": 22.0, \"legend\": \"Data\"}, {\"dates\": \"2022-01-23T00:00:00\", \"casos\": 19.0, \"legend\": \"Data\"}, {\"dates\": \"2022-01-30T00:00:00\", \"casos\": 31.0, \"legend\": \"Data\"}, {\"dates\": \"2022-02-06T00:00:00\", \"casos\": 35.0, \"legend\": \"Data\"}, {\"dates\": \"2022-02-13T00:00:00\", \"casos\": 47.0, \"legend\": \"Data\"}, {\"dates\": \"2022-02-20T00:00:00\", \"casos\": 62.0, \"legend\": \"Data\"}, {\"dates\": \"2022-02-27T00:00:00\", \"casos\": 66.0, \"legend\": \"Data\"}, {\"dates\": \"2022-03-06T00:00:00\", \"casos\": 116.0, \"legend\": \"Data\"}, {\"dates\": \"2022-03-13T00:00:00\", \"casos\": 126.0, \"legend\": \"Data\"}, {\"dates\": \"2022-03-20T00:00:00\", \"casos\": 177.0, \"legend\": \"Data\"}, {\"dates\": \"2022-03-27T00:00:00\", \"casos\": 153.0, \"legend\": \"Data\"}, {\"dates\": \"2022-04-03T00:00:00\", \"casos\": 222.0, \"legend\": \"Data\"}, {\"dates\": \"2022-04-10T00:00:00\", \"casos\": 201.0, \"legend\": \"Data\"}, {\"dates\": \"2022-04-17T00:00:00\", \"casos\": 234.0, \"legend\": \"Data\"}, {\"dates\": \"2022-04-24T00:00:00\", \"casos\": 342.0, \"legend\": \"Data\"}, {\"dates\": \"2022-05-01T00:00:00\", \"casos\": 461.0, \"legend\": \"Data\"}, {\"dates\": \"2022-05-08T00:00:00\", \"casos\": 505.0, \"legend\": \"Data\"}, {\"dates\": \"2022-05-15T00:00:00\", \"casos\": 406.0, \"legend\": \"Data\"}, {\"dates\": \"2022-05-22T00:00:00\", \"casos\": 400.0, \"legend\": \"Data\"}, {\"dates\": \"2022-05-29T00:00:00\", \"casos\": 338.0, \"legend\": \"Data\"}, {\"dates\": \"2022-06-05T00:00:00\", \"casos\": 255.0, \"legend\": \"Data\"}, {\"dates\": \"2022-06-12T00:00:00\", \"casos\": 153.0, \"legend\": \"Data\"}, {\"dates\": \"2022-06-19T00:00:00\", \"casos\": 209.0, \"legend\": \"Data\"}, {\"dates\": \"2022-06-26T00:00:00\", \"casos\": 189.0, \"legend\": \"Data\"}, {\"dates\": \"2022-07-03T00:00:00\", \"casos\": 155.0, \"legend\": \"Data\"}, {\"dates\": \"2022-07-10T00:00:00\", \"casos\": 144.0, \"legend\": \"Data\"}, {\"dates\": \"2022-07-17T00:00:00\", \"casos\": 194.0, \"legend\": \"Data\"}, {\"dates\": \"2022-07-24T00:00:00\", \"casos\": 148.0, \"legend\": \"Data\"}, {\"dates\": \"2022-07-31T00:00:00\", \"casos\": 145.0, \"legend\": \"Data\"}, {\"dates\": \"2022-08-07T00:00:00\", \"casos\": 106.0, \"legend\": \"Data\"}, {\"dates\": \"2022-08-14T00:00:00\", \"casos\": 110.0, \"legend\": \"Data\"}, {\"dates\": \"2022-08-21T00:00:00\", \"casos\": 99.0, \"legend\": \"Data\"}, {\"dates\": \"2022-08-28T00:00:00\", \"casos\": 94.0, \"legend\": \"Data\"}, {\"dates\": \"2022-09-04T00:00:00\", \"casos\": 101.0, \"legend\": \"Data\"}, {\"dates\": \"2022-09-11T00:00:00\", \"casos\": 120.0, \"legend\": \"Data\"}, {\"dates\": \"2022-09-18T00:00:00\", \"casos\": 102.0, \"legend\": \"Data\"}, {\"dates\": \"2022-09-25T00:00:00\", \"casos\": 95.0, \"legend\": \"Data\"}, {\"dates\": \"2022-10-02T00:00:00\", \"casos\": 102.0, \"legend\": \"Data\"}, {\"dates\": \"2022-10-09T00:00:00\", \"casos\": 123.0, \"legend\": \"Data\"}, {\"dates\": \"2022-10-16T00:00:00\", \"casos\": 160.0, \"legend\": \"Data\"}, {\"dates\": \"2022-10-23T00:00:00\", \"casos\": 139.0, \"legend\": \"Data\"}, {\"dates\": \"2022-10-30T00:00:00\", \"casos\": 131.0, \"legend\": \"Data\"}, {\"dates\": \"2022-11-06T00:00:00\", \"casos\": 171.0, \"legend\": \"Data\"}, {\"dates\": \"2022-11-13T00:00:00\", \"casos\": 129.0, \"legend\": \"Data\"}, {\"dates\": \"2022-11-20T00:00:00\", \"casos\": 94.0, \"legend\": \"Data\"}, {\"dates\": \"2022-11-27T00:00:00\", \"casos\": 86.0, \"legend\": \"Data\"}, {\"dates\": \"2022-12-04T00:00:00\", \"casos\": 98.0, \"legend\": \"Data\"}, {\"dates\": \"2022-12-11T00:00:00\", \"casos\": 123.0, \"legend\": \"Data\"}, {\"dates\": \"2022-12-18T00:00:00\", \"casos\": 117.0, \"legend\": \"Data\"}, {\"dates\": \"2022-12-25T00:00:00\", \"casos\": 163.0, \"legend\": \"Data\"}, {\"dates\": \"2023-01-01T00:00:00\", \"casos\": 230.0, \"legend\": \"Data\"}, {\"dates\": \"2023-01-08T00:00:00\", \"casos\": 218.0, \"legend\": \"Data\"}, {\"dates\": \"2023-01-15T00:00:00\", \"casos\": 246.0, \"legend\": \"Data\"}, {\"dates\": \"2023-01-22T00:00:00\", \"casos\": 312.0, \"legend\": \"Data\"}, {\"dates\": \"2023-01-29T00:00:00\", \"casos\": 383.0, \"legend\": \"Data\"}, {\"dates\": \"2023-02-05T00:00:00\", \"casos\": 525.0, \"legend\": \"Data\"}, {\"dates\": \"2023-02-12T00:00:00\", \"casos\": 372.0, \"legend\": \"Data\"}, {\"dates\": \"2023-02-19T00:00:00\", \"casos\": 507.0, \"legend\": \"Data\"}, {\"dates\": \"2023-02-26T00:00:00\", \"casos\": 870.0, \"legend\": \"Data\"}, {\"dates\": \"2023-03-05T00:00:00\", \"casos\": 945.0, \"legend\": \"Data\"}, {\"dates\": \"2023-03-12T00:00:00\", \"casos\": 1125.0, \"legend\": \"Data\"}, {\"dates\": \"2023-03-19T00:00:00\", \"casos\": 1382.0, \"legend\": \"Data\"}, {\"dates\": \"2023-03-26T00:00:00\", \"casos\": 1580.0, \"legend\": \"Data\"}, {\"dates\": \"2023-04-02T00:00:00\", \"casos\": 1420.0, \"legend\": \"Data\"}, {\"dates\": \"2023-04-09T00:00:00\", \"casos\": 1783.0, \"legend\": \"Data\"}, {\"dates\": \"2023-04-16T00:00:00\", \"casos\": 1502.0, \"legend\": \"Data\"}, {\"dates\": \"2023-04-23T00:00:00\", \"casos\": 1572.0, \"legend\": \"Data\"}, {\"dates\": \"2023-04-30T00:00:00\", \"casos\": 1919.0, \"legend\": \"Data\"}, {\"dates\": \"2023-05-07T00:00:00\", \"casos\": 1807.0, \"legend\": \"Data\"}, {\"dates\": \"2023-05-14T00:00:00\", \"casos\": 1731.0, \"legend\": \"Data\"}, {\"dates\": \"2023-05-21T00:00:00\", \"casos\": 1479.0, \"legend\": \"Data\"}, {\"dates\": \"2023-05-28T00:00:00\", \"casos\": 1328.0, \"legend\": \"Data\"}, {\"dates\": \"2023-06-04T00:00:00\", \"casos\": 1238.0, \"legend\": \"Data\"}, {\"dates\": \"2023-06-11T00:00:00\", \"casos\": 1348.0, \"legend\": \"Data\"}, {\"dates\": \"2023-06-18T00:00:00\", \"casos\": 1236.0, \"legend\": \"Data\"}, {\"dates\": \"2023-06-25T00:00:00\", \"casos\": 996.0, \"legend\": \"Data\"}], \"data-cafb0834806632e86c62426c17f485b2\": [{\"dates\": \"2022-01-02T00:00:00\", \"preds\": 3.614652077513855, \"lower\": 2.3801364226065065, \"upper\": 5.61153940767923, \"data\": 21.000000000000007, \"model\": \"preds\", \"adm_2\": null, \"adm_1\": null, \"adm_0\": null}, {\"dates\": \"2022-01-09T00:00:00\", \"preds\": 3.433218931019361, \"lower\": 2.0397241013952447, \"upper\": 5.982179003895063, \"data\": 14.000000000000007, \"model\": \"preds\", \"adm_2\": null, \"adm_1\": null, \"adm_0\": null}, {\"dates\": \"2022-01-16T00:00:00\", \"preds\": 3.252114213078762, \"lower\": 1.7176376611404343, \"upper\": 6.491375328440638, \"data\": 21.999999999999996, \"model\": \"preds\", \"adm_2\": null, \"adm_1\": null, \"adm_0\": null}, {\"dates\": \"2022-01-23T00:00:00\", \"preds\": 3.11868005680732, \"lower\": 1.4908905641250565, \"upper\": 7.007493850710138, \"data\": 19.000000000000014, \"model\": \"preds\", \"adm_2\": null, \"adm_1\": null, \"adm_0\": null}, {\"dates\": \"2022-01-30T00:00:00\", \"preds\": 21.331345466024793, \"lower\": 12.57093256779655, \"upper\": 37.51324755555707, \"data\": 31.000000000000004, \"model\": \"preds\", \"adm_2\": null, \"adm_1\": null, \"adm_0\": null}, {\"dates\": \"2022-02-06T00:00:00\", \"preds\": 21.773557634120735, \"lower\": 11.204562545602995, \"upper\": 44.81194803434657, \"data\": 34.99999999999999, \"model\": \"preds\", \"adm_2\": null, \"adm_1\": null, \"adm_0\": null}, {\"dates\": \"2022-02-13T00:00:00\", \"preds\": 22.716939499116656, \"lower\": 10.00584587056142, \"upper\": 56.391707215054524, \"data\": 47.000000000000014, \"model\": \"preds\", \"adm_2\": null, \"adm_1\": null, \"adm_0\": null}, {\"dates\": \"2022-02-20T00:00:00\", \"preds\": 23.354663074929316, \"lower\": 9.008803019945855, \"upper\": 68.44898697869331, \"data\": 62.00000000000003, \"model\": \"preds\", \"adm_2\": null, \"adm_1\": null, \"adm_0\": null}, {\"dates\": \"2022-02-27T00:00:00\", \"preds\": 63.392837497293044, \"lower\": 34.64875249904552, \"upper\": 121.57409751042007, \"data\": 66.00000000000003, \"model\": \"preds\", \"adm_2\": null, \"adm_1\": null, \"adm_0\": null}, {\"dates\": \"2022-03-06T00:00:00\", \"preds\": 69.17029669704883, \"lower\": 32.266337814543284, \"upper\": 160.08962058709204, \"data\": 116.0000000000001, \"model\": \"preds\", \"adm_2\": null, \"adm_1\": null, \"adm_0\": null}, {\"dates\": \"2022-03-13T00:00:00\", \"preds\": 72.84256054945564, \"lower\": 28.518321753326727, \"upper\": 209.4981456374048, \"data\": 126.0000000000001, \"model\": \"preds\", \"adm_2\": null, \"adm_1\": null, \"adm_0\": null}, {\"dates\": \"2022-03-20T00:00:00\", \"preds\": 76.62512083829243, \"lower\": 25.804520128351687, \"upper\": 267.880263234604, \"data\": 176.9999999999999, \"model\": \"preds\", \"adm_2\": null, \"adm_1\": null, \"adm_0\": null}, {\"dates\": \"2022-03-27T00:00:00\", \"preds\": 181.68897959392575, \"lower\": 91.91800115957646, \"upper\": 381.53959429443904, \"data\": 153.00000000000014, \"model\": \"preds\", \"adm_2\": null, \"adm_1\": null, \"adm_0\": null}, {\"dates\": \"2022-04-03T00:00:00\", \"preds\": 202.51437239258325, \"lower\": 85.48492793352023, \"upper\": 529.8661148362597, \"data\": 222.00000000000014, \"model\": \"preds\", \"adm_2\": null, \"adm_1\": null, \"adm_0\": null}, {\"dates\": \"2022-04-10T00:00:00\", \"preds\": 215.97150959720142, \"lower\": 74.55986754084864, \"upper\": 730.713344064506, \"data\": 201.00000000000014, \"model\": \"preds\", \"adm_2\": null, \"adm_1\": null, \"adm_0\": null}, {\"dates\": \"2022-04-17T00:00:00\", \"preds\": 230.17189927485725, \"lower\": 66.79060271768712, \"upper\": 983.9721210612619, \"data\": 233.99999999999986, \"model\": \"preds\", \"adm_2\": null, \"adm_1\": null, \"adm_0\": null}, {\"dates\": \"2022-04-24T00:00:00\", \"preds\": 239.78855027169445, \"lower\": 118.9827931527718, \"upper\": 515.2802444899813, \"data\": 342.0000000000005, \"model\": \"preds\", \"adm_2\": null, \"adm_1\": null, \"adm_0\": null}, {\"dates\": \"2022-05-01T00:00:00\", \"preds\": 253.2910095196858, \"lower\": 105.00180255342083, \"upper\": 677.8394912803175, \"data\": 461.0000000000005, \"model\": \"preds\", \"adm_2\": null, \"adm_1\": null, \"adm_0\": null}, {\"dates\": \"2022-05-08T00:00:00\", \"preds\": 262.4084852552556, \"lower\": 88.93965144992336, \"upper\": 909.6105258860968, \"data\": 505.0000000000002, \"model\": \"preds\", \"adm_2\": null, \"adm_1\": null, \"adm_0\": null}, {\"dates\": \"2022-05-15T00:00:00\", \"preds\": 271.35351458725216, \"lower\": 77.43568082661754, \"upper\": 1187.1415378460679, \"data\": 406.0000000000006, \"model\": \"preds\", \"adm_2\": null, \"adm_1\": null, \"adm_0\": null}, {\"dates\": \"2022-05-22T00:00:00\", \"preds\": 465.0296634541046, \"lower\": 218.5189884142778, \"upper\": 1066.7878908446435, \"data\": 400.0, \"model\": \"preds\", \"adm_2\": null, \"adm_1\": null, \"adm_0\": null}, {\"dates\": \"2022-05-29T00:00:00\", \"preds\": 471.7568699011239, \"lower\": 183.03665264523528, \"upper\": 1372.4425624145022, \"data\": 338.0000000000002, \"model\": \"preds\", \"adm_2\": null, \"adm_1\": null, \"adm_0\": null}, {\"dates\": \"2022-06-05T00:00:00\", \"preds\": 493.51634608029866, \"lower\": 154.02080944733393, \"upper\": 1910.1245903206213, \"data\": 254.99999999999991, \"model\": \"preds\", \"adm_2\": null, \"adm_1\": null, \"adm_0\": null}, {\"dates\": \"2022-06-12T00:00:00\", \"preds\": 507.70701782141214, \"lower\": 131.65026515714288, \"upper\": 2541.228735520681, \"data\": 153.00000000000014, \"model\": \"preds\", \"adm_2\": null, \"adm_1\": null, \"adm_0\": null}, {\"dates\": \"2022-06-19T00:00:00\", \"preds\": 167.76174045516643, \"lower\": 85.64951469107073, \"upper\": 348.5093268924474, \"data\": 209.00000000000009, \"model\": \"preds\", \"adm_2\": null, \"adm_1\": null, \"adm_0\": null}, {\"dates\": \"2022-06-26T00:00:00\", \"preds\": 154.15438807956198, \"lower\": 66.97602345958053, \"upper\": 389.17100736414847, \"data\": 188.9999999999999, \"model\": \"preds\", \"adm_2\": null, \"adm_1\": null, \"adm_0\": null}, {\"dates\": \"2022-07-03T00:00:00\", \"preds\": 150.9998346664499, \"lower\": 54.57423284201601, \"upper\": 481.21619412534045, \"data\": 154.99999999999991, \"model\": \"preds\", \"adm_2\": null, \"adm_1\": null, \"adm_0\": null}, {\"dates\": \"2022-07-10T00:00:00\", \"preds\": 145.99728709086034, \"lower\": 45.23505845393497, \"upper\": 570.6412701405626, \"data\": 144.0, \"model\": \"preds\", \"adm_2\": null, \"adm_1\": null, \"adm_0\": null}, {\"dates\": \"2022-07-17T00:00:00\", \"preds\": 141.09035216922885, \"lower\": 73.11895907666904, \"upper\": 287.96827495846225, \"data\": 193.99999999999991, \"model\": \"preds\", \"adm_2\": null, \"adm_1\": null, \"adm_0\": null}, {\"dates\": \"2022-07-24T00:00:00\", \"preds\": 136.83094838939846, \"lower\": 60.25561092826169, \"upper\": 339.7515659854313, \"data\": 148.00000000000003, \"model\": \"preds\", \"adm_2\": null, \"adm_1\": null, \"adm_0\": null}, {\"dates\": \"2022-07-31T00:00:00\", \"preds\": 133.8603397633592, \"lower\": 49.1802412925799, \"upper\": 417.62705353139813, \"data\": 145.00000000000003, \"model\": \"preds\", \"adm_2\": null, \"adm_1\": null, \"adm_0\": null}, {\"dates\": \"2022-08-07T00:00:00\", \"preds\": 131.2062361579026, \"lower\": 41.34881773657406, \"upper\": 501.1924234335349, \"data\": 106.00000000000007, \"model\": \"preds\", \"adm_2\": null, \"adm_1\": null, \"adm_0\": null}, {\"dates\": \"2022-08-14T00:00:00\", \"preds\": 111.38946210711336, \"lower\": 58.81631377712433, \"upper\": 222.40596612721018, \"data\": 109.99999999999996, \"model\": \"preds\", \"adm_2\": null, \"adm_1\": null, \"adm_0\": null}, {\"dates\": \"2022-08-21T00:00:00\", \"preds\": 105.25249219005471, \"lower\": 47.55958769069668, \"upper\": 253.21593034355354, \"data\": 99.00000000000009, \"model\": \"preds\", \"adm_2\": null, \"adm_1\": null, \"adm_0\": null}, {\"dates\": \"2022-08-28T00:00:00\", \"preds\": 103.47382058538332, \"lower\": 39.197343164496246, \"upper\": 310.36747454068785, \"data\": 93.99999999999994, \"model\": \"preds\", \"adm_2\": null, \"adm_1\": null, \"adm_0\": null}, {\"dates\": \"2022-09-04T00:00:00\", \"preds\": 100.98173906687104, \"lower\": 32.97651997127479, \"upper\": 367.7629703319706, \"data\": 101.00000000000001, \"model\": \"preds\", \"adm_2\": null, \"adm_1\": null, \"adm_0\": null}, {\"dates\": \"2022-09-11T00:00:00\", \"preds\": 96.3470793811432, \"lower\": 51.498421829693825, \"upper\": 189.64201972577888, \"data\": 120.0000000000001, \"model\": \"preds\", \"adm_2\": null, \"adm_1\": null, \"adm_0\": null}, {\"dates\": \"2022-09-18T00:00:00\", \"preds\": 95.77720711072456, \"lower\": 43.73576715369153, \"upper\": 227.48238505106093, \"data\": 102.00000000000003, \"model\": \"preds\", \"adm_2\": null, \"adm_1\": null, \"adm_0\": null}, {\"dates\": \"2022-09-25T00:00:00\", \"preds\": 94.26740059601065, \"lower\": 36.16268159768739, \"upper\": 278.23327745848553, \"data\": 94.99999999999997, \"model\": \"preds\", \"adm_2\": null, \"adm_1\": null, \"adm_0\": null}, {\"dates\": \"2022-10-02T00:00:00\", \"preds\": 93.31586767294657, \"lower\": 30.860880076489018, \"upper\": 334.16909185777473, \"data\": 102.00000000000003, \"model\": \"preds\", \"adm_2\": null, \"adm_1\": null, \"adm_0\": null}, {\"dates\": \"2022-10-09T00:00:00\", \"preds\": 98.7155081859102, \"lower\": 52.75980883827618, \"upper\": 194.3234793703649, \"data\": 123.00000000000006, \"model\": \"preds\", \"adm_2\": null, \"adm_1\": null, \"adm_0\": null}, {\"dates\": \"2022-10-16T00:00:00\", \"preds\": 98.87453487771847, \"lower\": 45.112893755487505, \"upper\": 235.07508428944664, \"data\": 160.0000000000001, \"model\": \"preds\", \"adm_2\": null, \"adm_1\": null, \"adm_0\": null}, {\"dates\": \"2022-10-23T00:00:00\", \"preds\": 98.09110123027685, \"lower\": 37.562490201461735, \"upper\": 290.1788898941241, \"data\": 139.00000000000003, \"model\": \"preds\", \"adm_2\": null, \"adm_1\": null, \"adm_0\": null}, {\"dates\": \"2022-10-30T00:00:00\", \"preds\": 97.71424350602396, \"lower\": 32.22595307454517, \"upper\": 351.21375523436626, \"data\": 131.0, \"model\": \"preds\", \"adm_2\": null, \"adm_1\": null, \"adm_0\": null}, {\"dates\": \"2022-11-06T00:00:00\", \"preds\": 134.62570034199098, \"lower\": 70.404701728283, \"upper\": 271.8550824210435, \"data\": 171.0, \"model\": \"preds\", \"adm_2\": null, \"adm_1\": null, \"adm_0\": null}, {\"dates\": \"2022-11-13T00:00:00\", \"preds\": 134.47038401791403, \"lower\": 59.71780372813179, \"upper\": 330.4475021089704, \"data\": 129.00000000000003, \"model\": \"preds\", \"adm_2\": null, \"adm_1\": null, \"adm_0\": null}, {\"dates\": \"2022-11-20T00:00:00\", \"preds\": 135.37769602268088, \"lower\": 50.10460049881281, \"upper\": 418.3746379952361, \"data\": 93.99999999999994, \"model\": \"preds\", \"adm_2\": null, \"adm_1\": null, \"adm_0\": null}, {\"dates\": \"2022-11-27T00:00:00\", \"preds\": 135.82827344618505, \"lower\": 43.04915578543572, \"upper\": 514.8957762235578, \"data\": 86.00000000000003, \"model\": \"preds\", \"adm_2\": null, \"adm_1\": null, \"adm_0\": null}, {\"dates\": \"2022-12-04T00:00:00\", \"preds\": 84.91757965878342, \"lower\": 45.95113669458277, \"upper\": 164.76253273194556, \"data\": 98.0, \"model\": \"preds\", \"adm_2\": null, \"adm_1\": null, \"adm_0\": null}, {\"dates\": \"2022-12-11T00:00:00\", \"preds\": 82.37400723383551, \"lower\": 38.25056626541354, \"upper\": 191.706241800649, \"data\": 123.00000000000006, \"model\": \"preds\", \"adm_2\": null, \"adm_1\": null, \"adm_0\": null}, {\"dates\": \"2022-12-18T00:00:00\", \"preds\": 80.76155170048615, \"lower\": 31.64532949681313, \"upper\": 232.0250145641407, \"data\": 117.0000000000001, \"model\": \"preds\", \"adm_2\": null, \"adm_1\": null, \"adm_0\": null}, {\"dates\": \"2022-12-25T00:00:00\", \"preds\": 79.26081098331882, \"lower\": 26.891678925322203, \"upper\": 274.3801151190784, \"data\": 163.00000000000006, \"model\": \"preds\", \"adm_2\": null, \"adm_1\": null, \"adm_0\": null}, {\"dates\": \"2023-01-01T00:00:00\", \"preds\": 151.75902107613354, \"lower\": 78.80055863432439, \"upper\": 309.03660730541964, \"data\": 230.00000000000014, \"model\": \"preds\", \"adm_2\": null, \"adm_1\": null, \"adm_0\": null}, {\"dates\": \"2023-01-08T00:00:00\", \"preds\": 159.71105441059282, \"lower\": 69.925887512755, \"upper\": 399.394156780221, \"data\": 218.00000000000017, \"model\": \"preds\", \"adm_2\": null, \"adm_1\": null, \"adm_0\": null}, {\"dates\": \"2023-01-15T00:00:00\", \"preds\": 161.09827113321387, \"lower\": 58.61261817635057, \"upper\": 508.9903523783474, \"data\": 246.00000000000068, \"model\": \"preds\", \"adm_2\": null, \"adm_1\": null, \"adm_0\": null}, {\"dates\": \"2023-01-22T00:00:00\", \"preds\": 164.08688262700636, \"lower\": 50.90374200108143, \"upper\": 640.2560055086593, \"data\": 311.9999999999994, \"model\": \"preds\", \"adm_2\": null, \"adm_1\": null, \"adm_0\": null}, {\"dates\": \"2023-01-29T00:00:00\", \"preds\": 309.3702272141146, \"lower\": 152.07976954355183, \"upper\": 672.2658130104293, \"data\": 383.00000000000006, \"model\": \"preds\", \"adm_2\": null, \"adm_1\": null, \"adm_0\": null}, {\"dates\": \"2023-02-05T00:00:00\", \"preds\": 328.3645147288293, \"lower\": 134.08376489660458, \"upper\": 895.5215534079629, \"data\": 524.9999999999994, \"model\": \"preds\", \"adm_2\": null, \"adm_1\": null, \"adm_0\": null}, {\"dates\": \"2023-02-12T00:00:00\", \"preds\": 338.4446761589377, \"lower\": 112.86459103344252, \"upper\": 1198.654487265407, \"data\": 371.99999999999994, \"model\": \"preds\", \"adm_2\": null, \"adm_1\": null, \"adm_0\": null}, {\"dates\": \"2023-02-19T00:00:00\", \"preds\": 349.60284044518244, \"lower\": 97.9363839983552, \"upper\": 1569.3222073464988, \"data\": 507.0000000000001, \"model\": \"preds\", \"adm_2\": null, \"adm_1\": null, \"adm_0\": null}, {\"dates\": \"2023-02-26T00:00:00\", \"preds\": 486.69931302779594, \"lower\": 230.60492182791666, \"upper\": 1105.380473447225, \"data\": 870.0, \"model\": \"preds\", \"adm_2\": null, \"adm_1\": null, \"adm_0\": null}, {\"dates\": \"2023-03-05T00:00:00\", \"preds\": 517.8439424035935, \"lower\": 201.9884675630862, \"upper\": 1496.3738010907498, \"data\": 945.0000000000003, \"model\": \"preds\", \"adm_2\": null, \"adm_1\": null, \"adm_0\": null}, {\"dates\": \"2023-03-12T00:00:00\", \"preds\": 529.7730183832521, \"lower\": 167.23248148541813, \"upper\": 2019.1412998186286, \"data\": 1125.000000000002, \"model\": \"preds\", \"adm_2\": null, \"adm_1\": null, \"adm_0\": null}, {\"dates\": \"2023-03-19T00:00:00\", \"preds\": 545.4069465400194, \"lower\": 143.50721978424977, \"upper\": 2673.803834981445, \"data\": 1382.0000000000002, \"model\": \"preds\", \"adm_2\": null, \"adm_1\": null, \"adm_0\": null}, {\"dates\": \"2023-03-26T00:00:00\", \"preds\": 1437.0011550657287, \"lower\": 617.8061387017084, \"upper\": 3675.263663821789, \"data\": 1579.9999999999984, \"model\": \"preds\", \"adm_2\": null, \"adm_1\": null, \"adm_0\": null}, {\"dates\": \"2023-04-02T00:00:00\", \"preds\": 1552.5756099511464, \"lower\": 534.8042616512885, \"upper\": 5268.339777363313, \"data\": 1419.9999999999982, \"model\": \"preds\", \"adm_2\": null, \"adm_1\": null, \"adm_0\": null}, {\"dates\": \"2023-04-09T00:00:00\", \"preds\": 1636.954500901183, \"lower\": 442.32926449035625, \"upper\": 7728.778115856731, \"data\": 1783.0000000000034, \"model\": \"preds\", \"adm_2\": null, \"adm_1\": null, \"adm_0\": null}, {\"dates\": \"2023-04-16T00:00:00\", \"preds\": 1720.596909260694, \"lower\": 377.21810951968763, \"upper\": 11004.75562990184, \"data\": 1502.0000000000002, \"model\": \"preds\", \"adm_2\": null, \"adm_1\": null, \"adm_0\": null}, {\"dates\": \"2023-04-23T00:00:00\", \"preds\": 1657.1878883108077, \"lower\": 704.3026009556684, \"upper\": 4299.432181097053, \"data\": 1571.9999999999993, \"model\": \"preds\", \"adm_2\": null, \"adm_1\": null, \"adm_0\": null}, {\"dates\": \"2023-04-30T00:00:00\", \"preds\": 1670.388554577693, \"lower\": 572.0390569502166, \"upper\": 5711.797595251391, \"data\": 1918.9999999999986, \"model\": \"preds\", \"adm_2\": null, \"adm_1\": null, \"adm_0\": null}, {\"dates\": \"2023-05-07T00:00:00\", \"preds\": 1722.5844602965567, \"lower\": 463.673423723814, \"upper\": 8177.452019036614, \"data\": 1807.000000000001, \"model\": \"preds\", \"adm_2\": null, \"adm_1\": null, \"adm_0\": null}, {\"dates\": \"2023-05-14T00:00:00\", \"preds\": 1755.4396214505564, \"lower\": 385.1382934188562, \"upper\": 11215.328517742917, \"data\": 1730.9999999999984, \"model\": \"preds\", \"adm_2\": null, \"adm_1\": null, \"adm_0\": null}, {\"dates\": \"2023-05-21T00:00:00\", \"preds\": 1791.9838173515527, \"lower\": 757.4556688816872, \"upper\": 4680.705426117191, \"data\": 1478.9999999999989, \"model\": \"preds\", \"adm_2\": null, \"adm_1\": null, \"adm_0\": null}, {\"dates\": \"2023-05-28T00:00:00\", \"preds\": 1805.2453154273305, \"lower\": 614.1490440057485, \"upper\": 6226.950119038415, \"data\": 1328.0000000000018, \"model\": \"preds\", \"adm_2\": null, \"adm_1\": null, \"adm_0\": null}, {\"dates\": \"2023-06-04T00:00:00\", \"preds\": 1829.3804008668883, \"lower\": 489.7659412386774, \"upper\": 8750.900624193, \"data\": 1238.0000000000007, \"model\": \"preds\", \"adm_2\": null, \"adm_1\": null, \"adm_0\": null}, {\"dates\": \"2023-06-11T00:00:00\", \"preds\": 1846.2821743239049, \"lower\": 403.23847792950664, \"upper\": 11876.003631669199, \"data\": 1347.9999999999984, \"model\": \"preds\", \"adm_2\": null, \"adm_1\": null, \"adm_0\": null}, {\"dates\": \"2023-06-18T00:00:00\", \"preds\": 1300.2654898712583, \"lower\": 567.9823737695191, \"upper\": 3260.8526210006557, \"data\": 1235.999999999999, \"model\": \"preds\", \"adm_2\": null, \"adm_1\": null, \"adm_0\": null}, {\"dates\": \"2023-06-25T00:00:00\", \"preds\": 1304.3747140425774, \"lower\": 462.3712214046279, \"upper\": 4263.0819671588915, \"data\": 996.0000000000018, \"model\": \"preds\", \"adm_2\": null, \"adm_1\": null, \"adm_0\": null}, {\"dates\": \"2022-01-02T00:00:00\", \"preds\": 61.29, \"lower\": 0.0, \"upper\": 1729.2245503355, \"data\": null, \"model\": \"77\", \"adm_2\": 3304557.0, \"adm_1\": \"RJ\", \"adm_0\": \"BR\"}, {\"dates\": \"2022-01-09T00:00:00\", \"preds\": 27.06, \"lower\": 0.0, \"upper\": 1535.8709703498, \"data\": null, \"model\": \"77\", \"adm_2\": 3304557.0, \"adm_1\": \"RJ\", \"adm_0\": \"BR\"}, {\"dates\": \"2022-01-16T00:00:00\", \"preds\": 26.88, \"lower\": 0.0, \"upper\": 673.9351776686, \"data\": null, \"model\": \"77\", \"adm_2\": 3304557.0, \"adm_1\": \"RJ\", \"adm_0\": \"BR\"}, {\"dates\": \"2022-01-23T00:00:00\", \"preds\": 30.44, \"lower\": 0.0, \"upper\": 1149.2167062209, \"data\": null, \"model\": \"77\", \"adm_2\": 3304557.0, \"adm_1\": \"RJ\", \"adm_0\": \"BR\"}, {\"dates\": \"2022-01-30T00:00:00\", \"preds\": 29.76, \"lower\": 0.0, \"upper\": 1054.8541371324, \"data\": null, \"model\": \"77\", \"adm_2\": 3304557.0, \"adm_1\": \"RJ\", \"adm_0\": \"BR\"}, {\"dates\": \"2022-02-06T00:00:00\", \"preds\": 29.34, \"lower\": 0.0, \"upper\": 1053.3112130593, \"data\": null, \"model\": \"77\", \"adm_2\": 3304557.0, \"adm_1\": \"RJ\", \"adm_0\": \"BR\"}, {\"dates\": \"2022-02-13T00:00:00\", \"preds\": 34.61, \"lower\": 0.0, \"upper\": 1012.9490918948, \"data\": null, \"model\": \"77\", \"adm_2\": 3304557.0, \"adm_1\": \"RJ\", \"adm_0\": \"BR\"}, {\"dates\": \"2022-02-20T00:00:00\", \"preds\": 39.01, \"lower\": 0.0, \"upper\": 1235.4601531132, \"data\": null, \"model\": \"77\", \"adm_2\": 3304557.0, \"adm_1\": \"RJ\", \"adm_0\": \"BR\"}, {\"dates\": \"2022-02-27T00:00:00\", \"preds\": 43.28, \"lower\": 0.0, \"upper\": 1478.6163274184, \"data\": null, \"model\": \"77\", \"adm_2\": 3304557.0, \"adm_1\": \"RJ\", \"adm_0\": \"BR\"}, {\"dates\": \"2022-03-06T00:00:00\", \"preds\": 32.32, \"lower\": 0.0, \"upper\": 1933.3792826922, \"data\": null, \"model\": \"77\", \"adm_2\": 3304557.0, \"adm_1\": \"RJ\", \"adm_0\": \"BR\"}, {\"dates\": \"2022-03-13T00:00:00\", \"preds\": 44.08, \"lower\": 0.0, \"upper\": 1698.1051179684, \"data\": null, \"model\": \"77\", \"adm_2\": 3304557.0, \"adm_1\": \"RJ\", \"adm_0\": \"BR\"}, {\"dates\": \"2022-03-20T00:00:00\", \"preds\": 74.21, \"lower\": 0.0, \"upper\": 1583.5488129311, \"data\": null, \"model\": \"77\", \"adm_2\": 3304557.0, \"adm_1\": \"RJ\", \"adm_0\": \"BR\"}, {\"dates\": \"2022-03-27T00:00:00\", \"preds\": 91.2, \"lower\": 0.0, \"upper\": 1376.3518495555, \"data\": null, \"model\": \"77\", \"adm_2\": 3304557.0, \"adm_1\": \"RJ\", \"adm_0\": \"BR\"}, {\"dates\": \"2022-04-03T00:00:00\", \"preds\": 98.79, \"lower\": 0.0, \"upper\": 723.5706027188, \"data\": null, \"model\": \"77\", \"adm_2\": 3304557.0, \"adm_1\": \"RJ\", \"adm_0\": \"BR\"}, {\"dates\": \"2022-04-10T00:00:00\", \"preds\": 176.98, \"lower\": 0.0, \"upper\": 1567.9589396197, \"data\": null, \"model\": \"77\", \"adm_2\": 3304557.0, \"adm_1\": \"RJ\", \"adm_0\": \"BR\"}, {\"dates\": \"2022-04-17T00:00:00\", \"preds\": 216.42, \"lower\": 0.0, \"upper\": 2335.967212316, \"data\": null, \"model\": \"77\", \"adm_2\": 3304557.0, \"adm_1\": \"RJ\", \"adm_0\": \"BR\"}, {\"dates\": \"2022-04-24T00:00:00\", \"preds\": 345.06, \"lower\": 0.0, \"upper\": 3021.9998205177, \"data\": null, \"model\": \"77\", \"adm_2\": 3304557.0, \"adm_1\": \"RJ\", \"adm_0\": \"BR\"}, {\"dates\": \"2022-05-01T00:00:00\", \"preds\": 313.83, \"lower\": 0.0, \"upper\": 3249.4121439655, \"data\": null, \"model\": \"77\", \"adm_2\": 3304557.0, \"adm_1\": \"RJ\", \"adm_0\": \"BR\"}, {\"dates\": \"2022-05-08T00:00:00\", \"preds\": 512.02, \"lower\": 0.0, \"upper\": 3762.6987796367, \"data\": null, \"model\": \"77\", \"adm_2\": 3304557.0, \"adm_1\": \"RJ\", \"adm_0\": \"BR\"}, {\"dates\": \"2022-05-15T00:00:00\", \"preds\": 382.19, \"lower\": 0.0, \"upper\": 2690.5815795323, \"data\": null, \"model\": \"77\", \"adm_2\": 3304557.0, \"adm_1\": \"RJ\", \"adm_0\": \"BR\"}, {\"dates\": \"2022-05-22T00:00:00\", \"preds\": 318.17, \"lower\": 0.0, \"upper\": 1889.3836654291, \"data\": null, \"model\": \"77\", \"adm_2\": 3304557.0, \"adm_1\": \"RJ\", \"adm_0\": \"BR\"}, {\"dates\": \"2022-05-29T00:00:00\", \"preds\": 663.35, \"lower\": 0.0, \"upper\": 2355.171415628, \"data\": null, \"model\": \"77\", \"adm_2\": 3304557.0, \"adm_1\": \"RJ\", \"adm_0\": \"BR\"}, {\"dates\": \"2022-06-05T00:00:00\", \"preds\": 1012.57, \"lower\": 244.0160680593, \"upper\": 1781.1239319407, \"data\": null, \"model\": \"77\", \"adm_2\": 3304557.0, \"adm_1\": \"RJ\", \"adm_0\": \"BR\"}, {\"dates\": \"2022-06-12T00:00:00\", \"preds\": 902.92, \"lower\": 0.0, \"upper\": 2020.9380813249, \"data\": null, \"model\": \"77\", \"adm_2\": 3304557.0, \"adm_1\": \"RJ\", \"adm_0\": \"BR\"}, {\"dates\": \"2022-06-19T00:00:00\", \"preds\": 766.88, \"lower\": 0.0, \"upper\": 2229.098105451, \"data\": null, \"model\": \"77\", \"adm_2\": 3304557.0, \"adm_1\": \"RJ\", \"adm_0\": \"BR\"}, {\"dates\": \"2022-06-26T00:00:00\", \"preds\": 396.46, \"lower\": 0.0, \"upper\": 2184.4381570024, \"data\": null, \"model\": \"77\", \"adm_2\": 3304557.0, \"adm_1\": \"RJ\", \"adm_0\": \"BR\"}, {\"dates\": \"2022-07-03T00:00:00\", \"preds\": 333.08, \"lower\": 0.0, \"upper\": 2367.8073825474, \"data\": null, \"model\": \"77\", \"adm_2\": 3304557.0, \"adm_1\": \"RJ\", \"adm_0\": \"BR\"}, {\"dates\": \"2022-07-10T00:00:00\", \"preds\": 203.22, \"lower\": 0.0, \"upper\": 1614.4841398778, \"data\": null, \"model\": \"77\", \"adm_2\": 3304557.0, \"adm_1\": \"RJ\", \"adm_0\": \"BR\"}, {\"dates\": \"2022-07-17T00:00:00\", \"preds\": 210.92, \"lower\": 0.0, \"upper\": 1624.558058697, \"data\": null, \"model\": \"77\", \"adm_2\": 3304557.0, \"adm_1\": \"RJ\", \"adm_0\": \"BR\"}, {\"dates\": \"2022-07-24T00:00:00\", \"preds\": 205.35, \"lower\": 0.0, \"upper\": 1947.7565892405, \"data\": null, \"model\": \"77\", \"adm_2\": 3304557.0, \"adm_1\": \"RJ\", \"adm_0\": \"BR\"}, {\"dates\": \"2022-07-31T00:00:00\", \"preds\": 155.79, \"lower\": 0.0, \"upper\": 1396.3902691858, \"data\": null, \"model\": \"77\", \"adm_2\": 3304557.0, \"adm_1\": \"RJ\", \"adm_0\": \"BR\"}, {\"dates\": \"2022-08-07T00:00:00\", \"preds\": 161.74, \"lower\": 0.0, \"upper\": 1267.4720622758, \"data\": null, \"model\": \"77\", \"adm_2\": 3304557.0, \"adm_1\": \"RJ\", \"adm_0\": \"BR\"}, {\"dates\": \"2022-08-14T00:00:00\", \"preds\": 153.51, \"lower\": 0.0, \"upper\": 1237.7757285767, \"data\": null, \"model\": \"77\", \"adm_2\": 3304557.0, \"adm_1\": \"RJ\", \"adm_0\": \"BR\"}, {\"dates\": \"2022-08-21T00:00:00\", \"preds\": 176.64, \"lower\": 0.0, \"upper\": 1297.4866719026, \"data\": null, \"model\": \"77\", \"adm_2\": 3304557.0, \"adm_1\": \"RJ\", \"adm_0\": \"BR\"}, {\"dates\": \"2022-08-28T00:00:00\", \"preds\": 179.13, \"lower\": 0.0, \"upper\": 1478.6152989411, \"data\": null, \"model\": \"77\", \"adm_2\": 3304557.0, \"adm_1\": \"RJ\", \"adm_0\": \"BR\"}, {\"dates\": \"2022-09-04T00:00:00\", \"preds\": 146.43, \"lower\": 0.0, \"upper\": 1566.3419666142, \"data\": null, \"model\": \"77\", \"adm_2\": 3304557.0, \"adm_1\": \"RJ\", \"adm_0\": \"BR\"}, {\"dates\": \"2022-09-11T00:00:00\", \"preds\": 119.06, \"lower\": 0.0, \"upper\": 1064.7396522083, \"data\": null, \"model\": \"77\", \"adm_2\": 3304557.0, \"adm_1\": \"RJ\", \"adm_0\": \"BR\"}, {\"dates\": \"2022-09-18T00:00:00\", \"preds\": 89.66, \"lower\": 0.0, \"upper\": 524.128212398, \"data\": null, \"model\": \"77\", \"adm_2\": 3304557.0, \"adm_1\": \"RJ\", \"adm_0\": \"BR\"}, {\"dates\": \"2022-09-25T00:00:00\", \"preds\": 88.07, \"lower\": 0.0, \"upper\": 1116.9014193491, \"data\": null, \"model\": \"77\", \"adm_2\": 3304557.0, \"adm_1\": \"RJ\", \"adm_0\": \"BR\"}, {\"dates\": \"2022-10-02T00:00:00\", \"preds\": 92.84, \"lower\": 0.0, \"upper\": 967.041235228, \"data\": null, \"model\": \"77\", \"adm_2\": 3304557.0, \"adm_1\": \"RJ\", \"adm_0\": \"BR\"}, {\"dates\": \"2022-10-09T00:00:00\", \"preds\": 130.7, \"lower\": 0.0, \"upper\": 1671.4170892455, \"data\": null, \"model\": \"77\", \"adm_2\": 3304557.0, \"adm_1\": \"RJ\", \"adm_0\": \"BR\"}, {\"dates\": \"2022-10-16T00:00:00\", \"preds\": 126.37, \"lower\": 0.0, \"upper\": 1783.0109912045, \"data\": null, \"model\": \"77\", \"adm_2\": 3304557.0, \"adm_1\": \"RJ\", \"adm_0\": \"BR\"}, {\"dates\": \"2022-10-23T00:00:00\", \"preds\": 88.54, \"lower\": 0.0, \"upper\": 2455.8924287832, \"data\": null, \"model\": \"77\", \"adm_2\": 3304557.0, \"adm_1\": \"RJ\", \"adm_0\": \"BR\"}, {\"dates\": \"2022-10-30T00:00:00\", \"preds\": 90.18, \"lower\": 0.0, \"upper\": 2482.2110244223, \"data\": null, \"model\": \"77\", \"adm_2\": 3304557.0, \"adm_1\": \"RJ\", \"adm_0\": \"BR\"}, {\"dates\": \"2022-11-06T00:00:00\", \"preds\": 138.54, \"lower\": 0.0, \"upper\": 2753.4854223837, \"data\": null, \"model\": \"77\", \"adm_2\": 3304557.0, \"adm_1\": \"RJ\", \"adm_0\": \"BR\"}, {\"dates\": \"2022-11-13T00:00:00\", \"preds\": 111.15, \"lower\": 0.0, \"upper\": 2114.9459362357, \"data\": null, \"model\": \"77\", \"adm_2\": 3304557.0, \"adm_1\": \"RJ\", \"adm_0\": \"BR\"}, {\"dates\": \"2022-11-20T00:00:00\", \"preds\": 262.42, \"lower\": 0.0, \"upper\": 1560.3910680599, \"data\": null, \"model\": \"77\", \"adm_2\": 3304557.0, \"adm_1\": \"RJ\", \"adm_0\": \"BR\"}, {\"dates\": \"2022-11-27T00:00:00\", \"preds\": 130.46, \"lower\": 0.0, \"upper\": 1275.9170270516, \"data\": null, \"model\": \"77\", \"adm_2\": 3304557.0, \"adm_1\": \"RJ\", \"adm_0\": \"BR\"}, {\"dates\": \"2022-12-04T00:00:00\", \"preds\": 138.95, \"lower\": 0.0, \"upper\": 968.9083312331, \"data\": null, \"model\": \"77\", \"adm_2\": 3304557.0, \"adm_1\": \"RJ\", \"adm_0\": \"BR\"}, {\"dates\": \"2022-12-11T00:00:00\", \"preds\": 281.55, \"lower\": 0.0, \"upper\": 1260.6283970385, \"data\": null, \"model\": \"77\", \"adm_2\": 3304557.0, \"adm_1\": \"RJ\", \"adm_0\": \"BR\"}, {\"dates\": \"2022-12-18T00:00:00\", \"preds\": 121.26, \"lower\": 0.0, \"upper\": 1588.656583431, \"data\": null, \"model\": \"77\", \"adm_2\": 3304557.0, \"adm_1\": \"RJ\", \"adm_0\": \"BR\"}, {\"dates\": \"2022-12-25T00:00:00\", \"preds\": 129.22, \"lower\": 0.0, \"upper\": 1872.3384034717, \"data\": null, \"model\": \"77\", \"adm_2\": 3304557.0, \"adm_1\": \"RJ\", \"adm_0\": \"BR\"}, {\"dates\": \"2023-01-01T00:00:00\", \"preds\": 124.7, \"lower\": 0.0, \"upper\": 1809.5625740147, \"data\": null, \"model\": \"77\", \"adm_2\": 3304557.0, \"adm_1\": \"RJ\", \"adm_0\": \"BR\"}, {\"dates\": \"2023-01-08T00:00:00\", \"preds\": 127.23, \"lower\": 0.0, \"upper\": 1793.8064366305, \"data\": null, \"model\": \"77\", \"adm_2\": 3304557.0, \"adm_1\": \"RJ\", \"adm_0\": \"BR\"}, {\"dates\": \"2023-01-15T00:00:00\", \"preds\": 155.21, \"lower\": 0.0, \"upper\": 1268.8861142409, \"data\": null, \"model\": \"77\", \"adm_2\": 3304557.0, \"adm_1\": \"RJ\", \"adm_0\": \"BR\"}, {\"dates\": \"2023-01-22T00:00:00\", \"preds\": 198.84, \"lower\": 0.0, \"upper\": 1195.3396186246, \"data\": null, \"model\": \"77\", \"adm_2\": 3304557.0, \"adm_1\": \"RJ\", \"adm_0\": \"BR\"}, {\"dates\": \"2023-01-29T00:00:00\", \"preds\": 345.27, \"lower\": 0.0, \"upper\": 1518.1194592248, \"data\": null, \"model\": \"77\", \"adm_2\": 3304557.0, \"adm_1\": \"RJ\", \"adm_0\": \"BR\"}, {\"dates\": \"2023-02-05T00:00:00\", \"preds\": 462.34, \"lower\": 0.0, \"upper\": 1445.4253987699, \"data\": null, \"model\": \"77\", \"adm_2\": 3304557.0, \"adm_1\": \"RJ\", \"adm_0\": \"BR\"}, {\"dates\": \"2023-02-12T00:00:00\", \"preds\": 481.6, \"lower\": 0.0, \"upper\": 1893.9755987178, \"data\": null, \"model\": \"77\", \"adm_2\": 3304557.0, \"adm_1\": \"RJ\", \"adm_0\": \"BR\"}, {\"dates\": \"2023-02-19T00:00:00\", \"preds\": 481.56, \"lower\": 0.0, \"upper\": 1965.8780215081, \"data\": null, \"model\": \"77\", \"adm_2\": 3304557.0, \"adm_1\": \"RJ\", \"adm_0\": \"BR\"}, {\"dates\": \"2023-02-26T00:00:00\", \"preds\": 574.3, \"lower\": 0.0, \"upper\": 2019.8204358497, \"data\": null, \"model\": \"77\", \"adm_2\": 3304557.0, \"adm_1\": \"RJ\", \"adm_0\": \"BR\"}, {\"dates\": \"2023-03-05T00:00:00\", \"preds\": 908.59, \"lower\": 0.0, \"upper\": 2793.9425956685, \"data\": null, \"model\": \"77\", \"adm_2\": 3304557.0, \"adm_1\": \"RJ\", \"adm_0\": \"BR\"}, {\"dates\": \"2023-03-12T00:00:00\", \"preds\": 1098.33, \"lower\": 0.0, \"upper\": 3565.2781705146, \"data\": null, \"model\": \"77\", \"adm_2\": 3304557.0, \"adm_1\": \"RJ\", \"adm_0\": \"BR\"}, {\"dates\": \"2023-03-19T00:00:00\", \"preds\": 1255.02, \"lower\": 0.0, \"upper\": 4202.4693301775, \"data\": null, \"model\": \"77\", \"adm_2\": 3304557.0, \"adm_1\": \"RJ\", \"adm_0\": \"BR\"}, {\"dates\": \"2023-03-26T00:00:00\", \"preds\": 903.32, \"lower\": 0.0, \"upper\": 3760.903225256, \"data\": null, \"model\": \"77\", \"adm_2\": 3304557.0, \"adm_1\": \"RJ\", \"adm_0\": \"BR\"}, {\"dates\": \"2023-04-02T00:00:00\", \"preds\": 2084.83, \"lower\": 0.0, \"upper\": 4512.3417709763, \"data\": null, \"model\": \"77\", \"adm_2\": 3304557.0, \"adm_1\": \"RJ\", \"adm_0\": \"BR\"}, {\"dates\": \"2023-04-09T00:00:00\", \"preds\": 1451.2, \"lower\": 0.0, \"upper\": 2937.0054003446, \"data\": null, \"model\": \"77\", \"adm_2\": 3304557.0, \"adm_1\": \"RJ\", \"adm_0\": \"BR\"}, {\"dates\": \"2023-04-16T00:00:00\", \"preds\": 1680.13, \"lower\": 591.7969421614, \"upper\": 2768.4630578386, \"data\": null, \"model\": \"77\", \"adm_2\": 3304557.0, \"adm_1\": \"RJ\", \"adm_0\": \"BR\"}, {\"dates\": \"2023-04-23T00:00:00\", \"preds\": 1944.43, \"lower\": 650.1333199898, \"upper\": 3238.7266800102, \"data\": null, \"model\": \"77\", \"adm_2\": 3304557.0, \"adm_1\": \"RJ\", \"adm_0\": \"BR\"}, {\"dates\": \"2023-04-30T00:00:00\", \"preds\": 1575.31, \"lower\": 227.6224669775, \"upper\": 2922.9975330225, \"data\": null, \"model\": \"77\", \"adm_2\": 3304557.0, \"adm_1\": \"RJ\", \"adm_0\": \"BR\"}, {\"dates\": \"2023-05-07T00:00:00\", \"preds\": 1426.24, \"lower\": 206.7682082167, \"upper\": 2645.7117917833, \"data\": null, \"model\": \"77\", \"adm_2\": 3304557.0, \"adm_1\": \"RJ\", \"adm_0\": \"BR\"}, {\"dates\": \"2023-05-14T00:00:00\", \"preds\": 1939.85, \"lower\": 769.2177668869, \"upper\": 3110.4822331131, \"data\": null, \"model\": \"77\", \"adm_2\": 3304557.0, \"adm_1\": \"RJ\", \"adm_0\": \"BR\"}, {\"dates\": \"2023-05-21T00:00:00\", \"preds\": 1454.24, \"lower\": 359.7715538942, \"upper\": 2548.7084461058, \"data\": null, \"model\": \"77\", \"adm_2\": 3304557.0, \"adm_1\": \"RJ\", \"adm_0\": \"BR\"}, {\"dates\": \"2023-05-28T00:00:00\", \"preds\": 1134.07, \"lower\": 343.0948354381, \"upper\": 1925.0451645619, \"data\": null, \"model\": \"77\", \"adm_2\": 3304557.0, \"adm_1\": \"RJ\", \"adm_0\": \"BR\"}, {\"dates\": \"2023-06-04T00:00:00\", \"preds\": 2243.41, \"lower\": 1319.5171062823, \"upper\": 3167.3028937177, \"data\": null, \"model\": \"77\", \"adm_2\": 3304557.0, \"adm_1\": \"RJ\", \"adm_0\": \"BR\"}, {\"dates\": \"2023-06-11T00:00:00\", \"preds\": 2239.65, \"lower\": 1112.8198769929, \"upper\": 3366.4801230071, \"data\": null, \"model\": \"77\", \"adm_2\": 3304557.0, \"adm_1\": \"RJ\", \"adm_0\": \"BR\"}, {\"dates\": \"2023-06-18T00:00:00\", \"preds\": 1068.35, \"lower\": 0.0, \"upper\": 2215.1295403202, \"data\": null, \"model\": \"77\", \"adm_2\": 3304557.0, \"adm_1\": \"RJ\", \"adm_0\": \"BR\"}, {\"dates\": \"2023-06-25T00:00:00\", \"preds\": 624.0, \"lower\": 0.0, \"upper\": 1599.3245555278, \"data\": null, \"model\": \"77\", \"adm_2\": 3304557.0, \"adm_1\": \"RJ\", \"adm_0\": \"BR\"}, {\"dates\": \"2022-01-02T00:00:00\", \"preds\": 109.3704933375, \"lower\": 0.0, \"upper\": 723.8520054869, \"data\": null, \"model\": \"78\", \"adm_2\": 3304557.0, \"adm_1\": \"RJ\", \"adm_0\": \"BR\"}, {\"dates\": \"2022-01-09T00:00:00\", \"preds\": 25.3118970841, \"lower\": 0.0, \"upper\": 529.5949193925, \"data\": null, \"model\": \"78\", \"adm_2\": 3304557.0, \"adm_1\": \"RJ\", \"adm_0\": \"BR\"}, {\"dates\": \"2022-01-16T00:00:00\", \"preds\": 0.0, \"lower\": 0.0, \"upper\": 406.1030913638, \"data\": null, \"model\": \"78\", \"adm_2\": 3304557.0, \"adm_1\": \"RJ\", \"adm_0\": \"BR\"}, {\"dates\": \"2022-01-23T00:00:00\", \"preds\": 0.0, \"lower\": 0.0, \"upper\": 452.7692431942, \"data\": null, \"model\": \"78\", \"adm_2\": 3304557.0, \"adm_1\": \"RJ\", \"adm_0\": \"BR\"}, {\"dates\": \"2022-01-30T00:00:00\", \"preds\": 0.0, \"lower\": 0.0, \"upper\": 607.8534869146, \"data\": null, \"model\": \"78\", \"adm_2\": 3304557.0, \"adm_1\": \"RJ\", \"adm_0\": \"BR\"}, {\"dates\": \"2022-02-06T00:00:00\", \"preds\": 0.0, \"lower\": 0.0, \"upper\": 571.5213175815, \"data\": null, \"model\": \"78\", \"adm_2\": 3304557.0, \"adm_1\": \"RJ\", \"adm_0\": \"BR\"}, {\"dates\": \"2022-02-13T00:00:00\", \"preds\": 86.4780002013, \"lower\": 0.0, \"upper\": 606.202994981, \"data\": null, \"model\": \"78\", \"adm_2\": 3304557.0, \"adm_1\": \"RJ\", \"adm_0\": \"BR\"}, {\"dates\": \"2022-02-20T00:00:00\", \"preds\": 232.8529663906, \"lower\": 0.0, \"upper\": 704.1387109958, \"data\": null, \"model\": \"78\", \"adm_2\": 3304557.0, \"adm_1\": \"RJ\", \"adm_0\": \"BR\"}, {\"dates\": \"2022-02-27T00:00:00\", \"preds\": 249.8387639374, \"lower\": 0.0, \"upper\": 864.0333929069, \"data\": null, \"model\": \"78\", \"adm_2\": 3304557.0, \"adm_1\": \"RJ\", \"adm_0\": \"BR\"}, {\"dates\": \"2022-03-06T00:00:00\", \"preds\": 236.5050984696, \"lower\": 0.0, \"upper\": 912.8691094007, \"data\": null, \"model\": \"78\", \"adm_2\": 3304557.0, \"adm_1\": \"RJ\", \"adm_0\": \"BR\"}, {\"dates\": \"2022-03-13T00:00:00\", \"preds\": 374.9699975103, \"lower\": 0.0, \"upper\": 838.5651220527, \"data\": null, \"model\": \"78\", \"adm_2\": 3304557.0, \"adm_1\": \"RJ\", \"adm_0\": \"BR\"}, {\"dates\": \"2022-03-20T00:00:00\", \"preds\": 342.3801910132, \"lower\": 0.0, \"upper\": 954.7004770912, \"data\": null, \"model\": \"78\", \"adm_2\": 3304557.0, \"adm_1\": \"RJ\", \"adm_0\": \"BR\"}, {\"dates\": \"2022-03-27T00:00:00\", \"preds\": 115.6595792919, \"lower\": 0.0, \"upper\": 640.2459985577, \"data\": null, \"model\": \"78\", \"adm_2\": 3304557.0, \"adm_1\": \"RJ\", \"adm_0\": \"BR\"}, {\"dates\": \"2022-04-03T00:00:00\", \"preds\": 133.0989688486, \"lower\": 0.0, \"upper\": 696.6566838086, \"data\": null, \"model\": \"78\", \"adm_2\": 3304557.0, \"adm_1\": \"RJ\", \"adm_0\": \"BR\"}, {\"dates\": \"2022-04-10T00:00:00\", \"preds\": 198.9890367314, \"lower\": 0.0, \"upper\": 644.0939105038, \"data\": null, \"model\": \"78\", \"adm_2\": 3304557.0, \"adm_1\": \"RJ\", \"adm_0\": \"BR\"}, {\"dates\": \"2022-04-17T00:00:00\", \"preds\": 170.3585512489, \"lower\": 0.0, \"upper\": 810.7452559274, \"data\": null, \"model\": \"78\", \"adm_2\": 3304557.0, \"adm_1\": \"RJ\", \"adm_0\": \"BR\"}, {\"dates\": \"2022-04-24T00:00:00\", \"preds\": 317.5533636957, \"lower\": 0.0, \"upper\": 1214.5482060984, \"data\": null, \"model\": \"78\", \"adm_2\": 3304557.0, \"adm_1\": \"RJ\", \"adm_0\": \"BR\"}, {\"dates\": \"2022-05-01T00:00:00\", \"preds\": 585.4558397308, \"lower\": 0.0, \"upper\": 1430.6597343847, \"data\": null, \"model\": \"78\", \"adm_2\": 3304557.0, \"adm_1\": \"RJ\", \"adm_0\": \"BR\"}, {\"dates\": \"2022-05-08T00:00:00\", \"preds\": 575.024428919, \"lower\": 8.4296638228, \"upper\": 1424.0171880141, \"data\": null, \"model\": \"78\", \"adm_2\": 3304557.0, \"adm_1\": \"RJ\", \"adm_0\": \"BR\"}, {\"dates\": \"2022-05-15T00:00:00\", \"preds\": 553.5908161178, \"lower\": 0.0, \"upper\": 1263.6794998243, \"data\": null, \"model\": \"78\", \"adm_2\": 3304557.0, \"adm_1\": \"RJ\", \"adm_0\": \"BR\"}, {\"dates\": \"2022-05-22T00:00:00\", \"preds\": 448.0580613017, \"lower\": 0.0, \"upper\": 1238.4645673811, \"data\": null, \"model\": \"78\", \"adm_2\": 3304557.0, \"adm_1\": \"RJ\", \"adm_0\": \"BR\"}, {\"dates\": \"2022-05-29T00:00:00\", \"preds\": 467.6085152477, \"lower\": 0.0, \"upper\": 986.0914632201, \"data\": null, \"model\": \"78\", \"adm_2\": 3304557.0, \"adm_1\": \"RJ\", \"adm_0\": \"BR\"}, {\"dates\": \"2022-06-05T00:00:00\", \"preds\": 516.6090817675, \"lower\": 0.0, \"upper\": 1275.2489616744, \"data\": null, \"model\": \"78\", \"adm_2\": 3304557.0, \"adm_1\": \"RJ\", \"adm_0\": \"BR\"}, {\"dates\": \"2022-06-12T00:00:00\", \"preds\": 232.2601490021, \"lower\": 0.0, \"upper\": 979.1794984825, \"data\": null, \"model\": \"78\", \"adm_2\": 3304557.0, \"adm_1\": \"RJ\", \"adm_0\": \"BR\"}, {\"dates\": \"2022-06-19T00:00:00\", \"preds\": 181.6569838598, \"lower\": 0.0, \"upper\": 778.3422996413, \"data\": null, \"model\": \"78\", \"adm_2\": 3304557.0, \"adm_1\": \"RJ\", \"adm_0\": \"BR\"}, {\"dates\": \"2022-06-26T00:00:00\", \"preds\": 184.1268508434, \"lower\": 0.0, \"upper\": 727.901391514, \"data\": null, \"model\": \"78\", \"adm_2\": 3304557.0, \"adm_1\": \"RJ\", \"adm_0\": \"BR\"}, {\"dates\": \"2022-07-03T00:00:00\", \"preds\": 0.0, \"lower\": 0.0, \"upper\": 543.2598108575, \"data\": null, \"model\": \"78\", \"adm_2\": 3304557.0, \"adm_1\": \"RJ\", \"adm_0\": \"BR\"}, {\"dates\": \"2022-07-10T00:00:00\", \"preds\": 0.0, \"lower\": 0.0, \"upper\": 524.3061247721, \"data\": null, \"model\": \"78\", \"adm_2\": 3304557.0, \"adm_1\": \"RJ\", \"adm_0\": \"BR\"}, {\"dates\": \"2022-07-17T00:00:00\", \"preds\": 2.3415177315, \"lower\": 0.0, \"upper\": 547.6995292876, \"data\": null, \"model\": \"78\", \"adm_2\": 3304557.0, \"adm_1\": \"RJ\", \"adm_0\": \"BR\"}, {\"dates\": \"2022-07-24T00:00:00\", \"preds\": 0.0, \"lower\": 0.0, \"upper\": 495.5266253971, \"data\": null, \"model\": \"78\", \"adm_2\": 3304557.0, \"adm_1\": \"RJ\", \"adm_0\": \"BR\"}, {\"dates\": \"2022-07-31T00:00:00\", \"preds\": 31.849106662, \"lower\": 0.0, \"upper\": 546.9803666487, \"data\": null, \"model\": \"78\", \"adm_2\": 3304557.0, \"adm_1\": \"RJ\", \"adm_0\": \"BR\"}, {\"dates\": \"2022-08-07T00:00:00\", \"preds\": 0.0, \"lower\": 0.0, \"upper\": 422.5016527284, \"data\": null, \"model\": \"78\", \"adm_2\": 3304557.0, \"adm_1\": \"RJ\", \"adm_0\": \"BR\"}, {\"dates\": \"2022-08-14T00:00:00\", \"preds\": 0.0, \"lower\": 0.0, \"upper\": 608.2965644222, \"data\": null, \"model\": \"78\", \"adm_2\": 3304557.0, \"adm_1\": \"RJ\", \"adm_0\": \"BR\"}, {\"dates\": \"2022-08-21T00:00:00\", \"preds\": 0.0, \"lower\": 0.0, \"upper\": 473.5215611801, \"data\": null, \"model\": \"78\", \"adm_2\": 3304557.0, \"adm_1\": \"RJ\", \"adm_0\": \"BR\"}, {\"dates\": \"2022-08-28T00:00:00\", \"preds\": 0.0, \"lower\": 0.0, \"upper\": 418.905976513, \"data\": null, \"model\": \"78\", \"adm_2\": 3304557.0, \"adm_1\": \"RJ\", \"adm_0\": \"BR\"}, {\"dates\": \"2022-09-04T00:00:00\", \"preds\": 0.0, \"lower\": 0.0, \"upper\": 535.4288134232, \"data\": null, \"model\": \"78\", \"adm_2\": 3304557.0, \"adm_1\": \"RJ\", \"adm_0\": \"BR\"}, {\"dates\": \"2022-09-11T00:00:00\", \"preds\": 0.0, \"lower\": 0.0, \"upper\": 470.2948555045, \"data\": null, \"model\": \"78\", \"adm_2\": 3304557.0, \"adm_1\": \"RJ\", \"adm_0\": \"BR\"}, {\"dates\": \"2022-09-18T00:00:00\", \"preds\": 0.0, \"lower\": 0.0, \"upper\": 517.7222615425, \"data\": null, \"model\": \"78\", \"adm_2\": 3304557.0, \"adm_1\": \"RJ\", \"adm_0\": \"BR\"}, {\"dates\": \"2022-09-25T00:00:00\", \"preds\": 0.0, \"lower\": 0.0, \"upper\": 324.7571195681, \"data\": null, \"model\": \"78\", \"adm_2\": 3304557.0, \"adm_1\": \"RJ\", \"adm_0\": \"BR\"}, {\"dates\": \"2022-10-02T00:00:00\", \"preds\": 0.0, \"lower\": 0.0, \"upper\": 487.8994649302, \"data\": null, \"model\": \"78\", \"adm_2\": 3304557.0, \"adm_1\": \"RJ\", \"adm_0\": \"BR\"}, {\"dates\": \"2022-10-09T00:00:00\", \"preds\": 0.0, \"lower\": 0.0, \"upper\": 624.6994303495, \"data\": null, \"model\": \"78\", \"adm_2\": 3304557.0, \"adm_1\": \"RJ\", \"adm_0\": \"BR\"}, {\"dates\": \"2022-10-16T00:00:00\", \"preds\": 0.0, \"lower\": 0.0, \"upper\": 529.9182512943, \"data\": null, \"model\": \"78\", \"adm_2\": 3304557.0, \"adm_1\": \"RJ\", \"adm_0\": \"BR\"}, {\"dates\": \"2022-10-23T00:00:00\", \"preds\": 0.0, \"lower\": 0.0, \"upper\": 413.525811471, \"data\": null, \"model\": \"78\", \"adm_2\": 3304557.0, \"adm_1\": \"RJ\", \"adm_0\": \"BR\"}, {\"dates\": \"2022-10-30T00:00:00\", \"preds\": 0.0, \"lower\": 0.0, \"upper\": 506.2727781624, \"data\": null, \"model\": \"78\", \"adm_2\": 3304557.0, \"adm_1\": \"RJ\", \"adm_0\": \"BR\"}, {\"dates\": \"2022-11-06T00:00:00\", \"preds\": 0.0, \"lower\": 0.0, \"upper\": 572.083177733, \"data\": null, \"model\": \"78\", \"adm_2\": 3304557.0, \"adm_1\": \"RJ\", \"adm_0\": \"BR\"}, {\"dates\": \"2022-11-13T00:00:00\", \"preds\": 0.0, \"lower\": 0.0, \"upper\": 403.3595069297, \"data\": null, \"model\": \"78\", \"adm_2\": 3304557.0, \"adm_1\": \"RJ\", \"adm_0\": \"BR\"}, {\"dates\": \"2022-11-20T00:00:00\", \"preds\": 0.0, \"lower\": 0.0, \"upper\": 543.9534488436, \"data\": null, \"model\": \"78\", \"adm_2\": 3304557.0, \"adm_1\": \"RJ\", \"adm_0\": \"BR\"}, {\"dates\": \"2022-11-27T00:00:00\", \"preds\": 0.0, \"lower\": 0.0, \"upper\": 524.0068367809, \"data\": null, \"model\": \"78\", \"adm_2\": 3304557.0, \"adm_1\": \"RJ\", \"adm_0\": \"BR\"}, {\"dates\": \"2022-12-04T00:00:00\", \"preds\": 0.0, \"lower\": 0.0, \"upper\": 418.8527026698, \"data\": null, \"model\": \"78\", \"adm_2\": 3304557.0, \"adm_1\": \"RJ\", \"adm_0\": \"BR\"}, {\"dates\": \"2022-12-11T00:00:00\", \"preds\": 0.0, \"lower\": 0.0, \"upper\": 498.8123991244, \"data\": null, \"model\": \"78\", \"adm_2\": 3304557.0, \"adm_1\": \"RJ\", \"adm_0\": \"BR\"}, {\"dates\": \"2022-12-18T00:00:00\", \"preds\": 7.7453362942, \"lower\": 0.0, \"upper\": 619.0887393665, \"data\": null, \"model\": \"78\", \"adm_2\": 3304557.0, \"adm_1\": \"RJ\", \"adm_0\": \"BR\"}, {\"dates\": \"2022-12-25T00:00:00\", \"preds\": 70.0851570219, \"lower\": 0.0, \"upper\": 507.5521873411, \"data\": null, \"model\": \"78\", \"adm_2\": 3304557.0, \"adm_1\": \"RJ\", \"adm_0\": \"BR\"}, {\"dates\": \"2023-01-01T00:00:00\", \"preds\": 28.9193740338, \"lower\": 0.0, \"upper\": 602.8117241956, \"data\": null, \"model\": \"78\", \"adm_2\": 3304557.0, \"adm_1\": \"RJ\", \"adm_0\": \"BR\"}, {\"dates\": \"2023-01-08T00:00:00\", \"preds\": 107.5751379728, \"lower\": 0.0, \"upper\": 566.5245524392, \"data\": null, \"model\": \"78\", \"adm_2\": 3304557.0, \"adm_1\": \"RJ\", \"adm_0\": \"BR\"}, {\"dates\": \"2023-01-15T00:00:00\", \"preds\": 136.0464265496, \"lower\": 0.0, \"upper\": 654.7008858331, \"data\": null, \"model\": \"78\", \"adm_2\": 3304557.0, \"adm_1\": \"RJ\", \"adm_0\": \"BR\"}, {\"dates\": \"2023-01-22T00:00:00\", \"preds\": 157.6281409636, \"lower\": 0.0, \"upper\": 703.7455855925, \"data\": null, \"model\": \"78\", \"adm_2\": 3304557.0, \"adm_1\": \"RJ\", \"adm_0\": \"BR\"}, {\"dates\": \"2023-01-29T00:00:00\", \"preds\": 370.7788259685, \"lower\": 0.0, \"upper\": 879.478636435, \"data\": null, \"model\": \"78\", \"adm_2\": 3304557.0, \"adm_1\": \"RJ\", \"adm_0\": \"BR\"}, {\"dates\": \"2023-02-05T00:00:00\", \"preds\": 200.67998676, \"lower\": 0.0, \"upper\": 720.2818470754, \"data\": null, \"model\": \"78\", \"adm_2\": 3304557.0, \"adm_1\": \"RJ\", \"adm_0\": \"BR\"}, {\"dates\": \"2023-02-12T00:00:00\", \"preds\": 270.5449912548, \"lower\": 0.0, \"upper\": 766.0707564242, \"data\": null, \"model\": \"78\", \"adm_2\": 3304557.0, \"adm_1\": \"RJ\", \"adm_0\": \"BR\"}, {\"dates\": \"2023-02-19T00:00:00\", \"preds\": 365.9762626961, \"lower\": 0.0, \"upper\": 984.143485938, \"data\": null, \"model\": \"78\", \"adm_2\": 3304557.0, \"adm_1\": \"RJ\", \"adm_0\": \"BR\"}, {\"dates\": \"2023-02-26T00:00:00\", \"preds\": 434.2454627231, \"lower\": 0.0, \"upper\": 1035.7856581375, \"data\": null, \"model\": \"78\", \"adm_2\": 3304557.0, \"adm_1\": \"RJ\", \"adm_0\": \"BR\"}, {\"dates\": \"2023-03-05T00:00:00\", \"preds\": 593.1198927313, \"lower\": 0.0, \"upper\": 1340.4223010339, \"data\": null, \"model\": \"78\", \"adm_2\": 3304557.0, \"adm_1\": \"RJ\", \"adm_0\": \"BR\"}, {\"dates\": \"2023-03-12T00:00:00\", \"preds\": 486.762278229, \"lower\": 13.1828434534, \"upper\": 1258.1380503178, \"data\": null, \"model\": \"78\", \"adm_2\": 3304557.0, \"adm_1\": \"RJ\", \"adm_0\": \"BR\"}, {\"dates\": \"2023-03-19T00:00:00\", \"preds\": 534.409355998, \"lower\": 0.0, \"upper\": 1161.3790531218, \"data\": null, \"model\": \"78\", \"adm_2\": 3304557.0, \"adm_1\": \"RJ\", \"adm_0\": \"BR\"}, {\"dates\": \"2023-03-26T00:00:00\", \"preds\": 555.0313138813, \"lower\": 0.0, \"upper\": 1138.9978529975, \"data\": null, \"model\": \"78\", \"adm_2\": 3304557.0, \"adm_1\": \"RJ\", \"adm_0\": \"BR\"}, {\"dates\": \"2023-04-02T00:00:00\", \"preds\": 540.6022553518, \"lower\": 0.0, \"upper\": 1290.8390316494, \"data\": null, \"model\": \"78\", \"adm_2\": 3304557.0, \"adm_1\": \"RJ\", \"adm_0\": \"BR\"}, {\"dates\": \"2023-04-09T00:00:00\", \"preds\": 670.57262557, \"lower\": 63.0884215072, \"upper\": 1603.4207726844, \"data\": null, \"model\": \"78\", \"adm_2\": 3304557.0, \"adm_1\": \"RJ\", \"adm_0\": \"BR\"}, {\"dates\": \"2023-04-16T00:00:00\", \"preds\": 823.2300753295, \"lower\": 5.3920096096, \"upper\": 1619.1121769279, \"data\": null, \"model\": \"78\", \"adm_2\": 3304557.0, \"adm_1\": \"RJ\", \"adm_0\": \"BR\"}, {\"dates\": \"2023-04-23T00:00:00\", \"preds\": 821.3328076452, \"lower\": 0.0, \"upper\": 1657.2413398936, \"data\": null, \"model\": \"78\", \"adm_2\": 3304557.0, \"adm_1\": \"RJ\", \"adm_0\": \"BR\"}, {\"dates\": \"2023-04-30T00:00:00\", \"preds\": 736.0327714011, \"lower\": 186.1478255641, \"upper\": 1522.9282282144, \"data\": null, \"model\": \"78\", \"adm_2\": 3304557.0, \"adm_1\": \"RJ\", \"adm_0\": \"BR\"}, {\"dates\": \"2023-05-07T00:00:00\", \"preds\": 760.3757069707, \"lower\": 31.6744434658, \"upper\": 1601.576000803, \"data\": null, \"model\": \"78\", \"adm_2\": 3304557.0, \"adm_1\": \"RJ\", \"adm_0\": \"BR\"}, {\"dates\": \"2023-05-14T00:00:00\", \"preds\": 593.9493001178, \"lower\": 0.0, \"upper\": 1293.7130412512, \"data\": null, \"model\": \"78\", \"adm_2\": 3304557.0, \"adm_1\": \"RJ\", \"adm_0\": \"BR\"}, {\"dates\": \"2023-05-21T00:00:00\", \"preds\": 341.6071367562, \"lower\": 0.0, \"upper\": 890.2078188814, \"data\": null, \"model\": \"78\", \"adm_2\": 3304557.0, \"adm_1\": \"RJ\", \"adm_0\": \"BR\"}, {\"dates\": \"2023-05-28T00:00:00\", \"preds\": 766.1951469854, \"lower\": 41.8829060107, \"upper\": 1633.4175681449, \"data\": null, \"model\": \"78\", \"adm_2\": 3304557.0, \"adm_1\": \"RJ\", \"adm_0\": \"BR\"}, {\"dates\": \"2023-06-04T00:00:00\", \"preds\": 922.2149910033, \"lower\": 172.700637443, \"upper\": 1701.7459047131, \"data\": null, \"model\": \"78\", \"adm_2\": 3304557.0, \"adm_1\": \"RJ\", \"adm_0\": \"BR\"}, {\"dates\": \"2023-06-11T00:00:00\", \"preds\": 693.3638638854, \"lower\": 56.4668219537, \"upper\": 1421.3332394093, \"data\": null, \"model\": \"78\", \"adm_2\": 3304557.0, \"adm_1\": \"RJ\", \"adm_0\": \"BR\"}, {\"dates\": \"2023-06-18T00:00:00\", \"preds\": 736.0198131949, \"lower\": 81.1291923746, \"upper\": 1725.0092463702, \"data\": null, \"model\": \"78\", \"adm_2\": 3304557.0, \"adm_1\": \"RJ\", \"adm_0\": \"BR\"}, {\"dates\": \"2023-06-25T00:00:00\", \"preds\": 431.9475864768, \"lower\": 0.0, \"upper\": 1022.6256792061, \"data\": null, \"model\": \"78\", \"adm_2\": 3304557.0, \"adm_1\": \"RJ\", \"adm_0\": \"BR\"}], \"data-3e6c12df7cc6890161fd69aa359fe213\": [{\"dates\": \"2022-01-02T00:00:00\", \"preds\": 3.614652077513855, \"lower\": 2.3801364226065065, \"upper\": 5.61153940767923, \"data\": 21.000000000000007, \"model\": \"preds\", \"adm_2\": null, \"adm_1\": null, \"adm_0\": null, \"legend\": null}, {\"dates\": \"2022-01-09T00:00:00\", \"preds\": 3.433218931019361, \"lower\": 2.0397241013952447, \"upper\": 5.982179003895063, \"data\": 14.000000000000007, \"model\": \"preds\", \"adm_2\": null, \"adm_1\": null, \"adm_0\": null, \"legend\": null}, {\"dates\": \"2022-01-16T00:00:00\", \"preds\": 3.252114213078762, \"lower\": 1.7176376611404343, \"upper\": 6.491375328440638, \"data\": 21.999999999999996, \"model\": \"preds\", \"adm_2\": null, \"adm_1\": null, \"adm_0\": null, \"legend\": null}, {\"dates\": \"2022-01-23T00:00:00\", \"preds\": 3.11868005680732, \"lower\": 1.4908905641250565, \"upper\": 7.007493850710138, \"data\": 19.000000000000014, \"model\": \"preds\", \"adm_2\": null, \"adm_1\": null, \"adm_0\": null, \"legend\": null}, {\"dates\": \"2022-01-30T00:00:00\", \"preds\": 21.331345466024793, \"lower\": 12.57093256779655, \"upper\": 37.51324755555707, \"data\": 31.000000000000004, \"model\": \"preds\", \"adm_2\": null, \"adm_1\": null, \"adm_0\": null, \"legend\": null}, {\"dates\": \"2022-02-06T00:00:00\", \"preds\": 21.773557634120735, \"lower\": 11.204562545602995, \"upper\": 44.81194803434657, \"data\": 34.99999999999999, \"model\": \"preds\", \"adm_2\": null, \"adm_1\": null, \"adm_0\": null, \"legend\": null}, {\"dates\": \"2022-02-13T00:00:00\", \"preds\": 22.716939499116656, \"lower\": 10.00584587056142, \"upper\": 56.391707215054524, \"data\": 47.000000000000014, \"model\": \"preds\", \"adm_2\": null, \"adm_1\": null, \"adm_0\": null, \"legend\": null}, {\"dates\": \"2022-02-20T00:00:00\", \"preds\": 23.354663074929316, \"lower\": 9.008803019945855, \"upper\": 68.44898697869331, \"data\": 62.00000000000003, \"model\": \"preds\", \"adm_2\": null, \"adm_1\": null, \"adm_0\": null, \"legend\": null}, {\"dates\": \"2022-02-27T00:00:00\", \"preds\": 63.392837497293044, \"lower\": 34.64875249904552, \"upper\": 121.57409751042007, \"data\": 66.00000000000003, \"model\": \"preds\", \"adm_2\": null, \"adm_1\": null, \"adm_0\": null, \"legend\": null}, {\"dates\": \"2022-03-06T00:00:00\", \"preds\": 69.17029669704883, \"lower\": 32.266337814543284, \"upper\": 160.08962058709204, \"data\": 116.0000000000001, \"model\": \"preds\", \"adm_2\": null, \"adm_1\": null, \"adm_0\": null, \"legend\": null}, {\"dates\": \"2022-03-13T00:00:00\", \"preds\": 72.84256054945564, \"lower\": 28.518321753326727, \"upper\": 209.4981456374048, \"data\": 126.0000000000001, \"model\": \"preds\", \"adm_2\": null, \"adm_1\": null, \"adm_0\": null, \"legend\": null}, {\"dates\": \"2022-03-20T00:00:00\", \"preds\": 76.62512083829243, \"lower\": 25.804520128351687, \"upper\": 267.880263234604, \"data\": 176.9999999999999, \"model\": \"preds\", \"adm_2\": null, \"adm_1\": null, \"adm_0\": null, \"legend\": null}, {\"dates\": \"2022-03-27T00:00:00\", \"preds\": 181.68897959392575, \"lower\": 91.91800115957646, \"upper\": 381.53959429443904, \"data\": 153.00000000000014, \"model\": \"preds\", \"adm_2\": null, \"adm_1\": null, \"adm_0\": null, \"legend\": null}, {\"dates\": \"2022-04-03T00:00:00\", \"preds\": 202.51437239258325, \"lower\": 85.48492793352023, \"upper\": 529.8661148362597, \"data\": 222.00000000000014, \"model\": \"preds\", \"adm_2\": null, \"adm_1\": null, \"adm_0\": null, \"legend\": null}, {\"dates\": \"2022-04-10T00:00:00\", \"preds\": 215.97150959720142, \"lower\": 74.55986754084864, \"upper\": 730.713344064506, \"data\": 201.00000000000014, \"model\": \"preds\", \"adm_2\": null, \"adm_1\": null, \"adm_0\": null, \"legend\": null}, {\"dates\": \"2022-04-17T00:00:00\", \"preds\": 230.17189927485725, \"lower\": 66.79060271768712, \"upper\": 983.9721210612619, \"data\": 233.99999999999986, \"model\": \"preds\", \"adm_2\": null, \"adm_1\": null, \"adm_0\": null, \"legend\": null}, {\"dates\": \"2022-04-24T00:00:00\", \"preds\": 239.78855027169445, \"lower\": 118.9827931527718, \"upper\": 515.2802444899813, \"data\": 342.0000000000005, \"model\": \"preds\", \"adm_2\": null, \"adm_1\": null, \"adm_0\": null, \"legend\": null}, {\"dates\": \"2022-05-01T00:00:00\", \"preds\": 253.2910095196858, \"lower\": 105.00180255342083, \"upper\": 677.8394912803175, \"data\": 461.0000000000005, \"model\": \"preds\", \"adm_2\": null, \"adm_1\": null, \"adm_0\": null, \"legend\": null}, {\"dates\": \"2022-05-08T00:00:00\", \"preds\": 262.4084852552556, \"lower\": 88.93965144992336, \"upper\": 909.6105258860968, \"data\": 505.0000000000002, \"model\": \"preds\", \"adm_2\": null, \"adm_1\": null, \"adm_0\": null, \"legend\": null}, {\"dates\": \"2022-05-15T00:00:00\", \"preds\": 271.35351458725216, \"lower\": 77.43568082661754, \"upper\": 1187.1415378460679, \"data\": 406.0000000000006, \"model\": \"preds\", \"adm_2\": null, \"adm_1\": null, \"adm_0\": null, \"legend\": null}, {\"dates\": \"2022-05-22T00:00:00\", \"preds\": 465.0296634541046, \"lower\": 218.5189884142778, \"upper\": 1066.7878908446435, \"data\": 400.0, \"model\": \"preds\", \"adm_2\": null, \"adm_1\": null, \"adm_0\": null, \"legend\": null}, {\"dates\": \"2022-05-29T00:00:00\", \"preds\": 471.7568699011239, \"lower\": 183.03665264523528, \"upper\": 1372.4425624145022, \"data\": 338.0000000000002, \"model\": \"preds\", \"adm_2\": null, \"adm_1\": null, \"adm_0\": null, \"legend\": null}, {\"dates\": \"2022-06-05T00:00:00\", \"preds\": 493.51634608029866, \"lower\": 154.02080944733393, \"upper\": 1910.1245903206213, \"data\": 254.99999999999991, \"model\": \"preds\", \"adm_2\": null, \"adm_1\": null, \"adm_0\": null, \"legend\": null}, {\"dates\": \"2022-06-12T00:00:00\", \"preds\": 507.70701782141214, \"lower\": 131.65026515714288, \"upper\": 2541.228735520681, \"data\": 153.00000000000014, \"model\": \"preds\", \"adm_2\": null, \"adm_1\": null, \"adm_0\": null, \"legend\": null}, {\"dates\": \"2022-06-19T00:00:00\", \"preds\": 167.76174045516643, \"lower\": 85.64951469107073, \"upper\": 348.5093268924474, \"data\": 209.00000000000009, \"model\": \"preds\", \"adm_2\": null, \"adm_1\": null, \"adm_0\": null, \"legend\": null}, {\"dates\": \"2022-06-26T00:00:00\", \"preds\": 154.15438807956198, \"lower\": 66.97602345958053, \"upper\": 389.17100736414847, \"data\": 188.9999999999999, \"model\": \"preds\", \"adm_2\": null, \"adm_1\": null, \"adm_0\": null, \"legend\": null}, {\"dates\": \"2022-07-03T00:00:00\", \"preds\": 150.9998346664499, \"lower\": 54.57423284201601, \"upper\": 481.21619412534045, \"data\": 154.99999999999991, \"model\": \"preds\", \"adm_2\": null, \"adm_1\": null, \"adm_0\": null, \"legend\": null}, {\"dates\": \"2022-07-10T00:00:00\", \"preds\": 145.99728709086034, \"lower\": 45.23505845393497, \"upper\": 570.6412701405626, \"data\": 144.0, \"model\": \"preds\", \"adm_2\": null, \"adm_1\": null, \"adm_0\": null, \"legend\": null}, {\"dates\": \"2022-07-17T00:00:00\", \"preds\": 141.09035216922885, \"lower\": 73.11895907666904, \"upper\": 287.96827495846225, \"data\": 193.99999999999991, \"model\": \"preds\", \"adm_2\": null, \"adm_1\": null, \"adm_0\": null, \"legend\": null}, {\"dates\": \"2022-07-24T00:00:00\", \"preds\": 136.83094838939846, \"lower\": 60.25561092826169, \"upper\": 339.7515659854313, \"data\": 148.00000000000003, \"model\": \"preds\", \"adm_2\": null, \"adm_1\": null, \"adm_0\": null, \"legend\": null}, {\"dates\": \"2022-07-31T00:00:00\", \"preds\": 133.8603397633592, \"lower\": 49.1802412925799, \"upper\": 417.62705353139813, \"data\": 145.00000000000003, \"model\": \"preds\", \"adm_2\": null, \"adm_1\": null, \"adm_0\": null, \"legend\": null}, {\"dates\": \"2022-08-07T00:00:00\", \"preds\": 131.2062361579026, \"lower\": 41.34881773657406, \"upper\": 501.1924234335349, \"data\": 106.00000000000007, \"model\": \"preds\", \"adm_2\": null, \"adm_1\": null, \"adm_0\": null, \"legend\": null}, {\"dates\": \"2022-08-14T00:00:00\", \"preds\": 111.38946210711336, \"lower\": 58.81631377712433, \"upper\": 222.40596612721018, \"data\": 109.99999999999996, \"model\": \"preds\", \"adm_2\": null, \"adm_1\": null, \"adm_0\": null, \"legend\": null}, {\"dates\": \"2022-08-21T00:00:00\", \"preds\": 105.25249219005471, \"lower\": 47.55958769069668, \"upper\": 253.21593034355354, \"data\": 99.00000000000009, \"model\": \"preds\", \"adm_2\": null, \"adm_1\": null, \"adm_0\": null, \"legend\": null}, {\"dates\": \"2022-08-28T00:00:00\", \"preds\": 103.47382058538332, \"lower\": 39.197343164496246, \"upper\": 310.36747454068785, \"data\": 93.99999999999994, \"model\": \"preds\", \"adm_2\": null, \"adm_1\": null, \"adm_0\": null, \"legend\": null}, {\"dates\": \"2022-09-04T00:00:00\", \"preds\": 100.98173906687104, \"lower\": 32.97651997127479, \"upper\": 367.7629703319706, \"data\": 101.00000000000001, \"model\": \"preds\", \"adm_2\": null, \"adm_1\": null, \"adm_0\": null, \"legend\": null}, {\"dates\": \"2022-09-11T00:00:00\", \"preds\": 96.3470793811432, \"lower\": 51.498421829693825, \"upper\": 189.64201972577888, \"data\": 120.0000000000001, \"model\": \"preds\", \"adm_2\": null, \"adm_1\": null, \"adm_0\": null, \"legend\": null}, {\"dates\": \"2022-09-18T00:00:00\", \"preds\": 95.77720711072456, \"lower\": 43.73576715369153, \"upper\": 227.48238505106093, \"data\": 102.00000000000003, \"model\": \"preds\", \"adm_2\": null, \"adm_1\": null, \"adm_0\": null, \"legend\": null}, {\"dates\": \"2022-09-25T00:00:00\", \"preds\": 94.26740059601065, \"lower\": 36.16268159768739, \"upper\": 278.23327745848553, \"data\": 94.99999999999997, \"model\": \"preds\", \"adm_2\": null, \"adm_1\": null, \"adm_0\": null, \"legend\": null}, {\"dates\": \"2022-10-02T00:00:00\", \"preds\": 93.31586767294657, \"lower\": 30.860880076489018, \"upper\": 334.16909185777473, \"data\": 102.00000000000003, \"model\": \"preds\", \"adm_2\": null, \"adm_1\": null, \"adm_0\": null, \"legend\": null}, {\"dates\": \"2022-10-09T00:00:00\", \"preds\": 98.7155081859102, \"lower\": 52.75980883827618, \"upper\": 194.3234793703649, \"data\": 123.00000000000006, \"model\": \"preds\", \"adm_2\": null, \"adm_1\": null, \"adm_0\": null, \"legend\": null}, {\"dates\": \"2022-10-16T00:00:00\", \"preds\": 98.87453487771847, \"lower\": 45.112893755487505, \"upper\": 235.07508428944664, \"data\": 160.0000000000001, \"model\": \"preds\", \"adm_2\": null, \"adm_1\": null, \"adm_0\": null, \"legend\": null}, {\"dates\": \"2022-10-23T00:00:00\", \"preds\": 98.09110123027685, \"lower\": 37.562490201461735, \"upper\": 290.1788898941241, \"data\": 139.00000000000003, \"model\": \"preds\", \"adm_2\": null, \"adm_1\": null, \"adm_0\": null, \"legend\": null}, {\"dates\": \"2022-10-30T00:00:00\", \"preds\": 97.71424350602396, \"lower\": 32.22595307454517, \"upper\": 351.21375523436626, \"data\": 131.0, \"model\": \"preds\", \"adm_2\": null, \"adm_1\": null, \"adm_0\": null, \"legend\": null}, {\"dates\": \"2022-11-06T00:00:00\", \"preds\": 134.62570034199098, \"lower\": 70.404701728283, \"upper\": 271.8550824210435, \"data\": 171.0, \"model\": \"preds\", \"adm_2\": null, \"adm_1\": null, \"adm_0\": null, \"legend\": null}, {\"dates\": \"2022-11-13T00:00:00\", \"preds\": 134.47038401791403, \"lower\": 59.71780372813179, \"upper\": 330.4475021089704, \"data\": 129.00000000000003, \"model\": \"preds\", \"adm_2\": null, \"adm_1\": null, \"adm_0\": null, \"legend\": null}, {\"dates\": \"2022-11-20T00:00:00\", \"preds\": 135.37769602268088, \"lower\": 50.10460049881281, \"upper\": 418.3746379952361, \"data\": 93.99999999999994, \"model\": \"preds\", \"adm_2\": null, \"adm_1\": null, \"adm_0\": null, \"legend\": null}, {\"dates\": \"2022-11-27T00:00:00\", \"preds\": 135.82827344618505, \"lower\": 43.04915578543572, \"upper\": 514.8957762235578, \"data\": 86.00000000000003, \"model\": \"preds\", \"adm_2\": null, \"adm_1\": null, \"adm_0\": null, \"legend\": null}, {\"dates\": \"2022-12-04T00:00:00\", \"preds\": 84.91757965878342, \"lower\": 45.95113669458277, \"upper\": 164.76253273194556, \"data\": 98.0, \"model\": \"preds\", \"adm_2\": null, \"adm_1\": null, \"adm_0\": null, \"legend\": null}, {\"dates\": \"2022-12-11T00:00:00\", \"preds\": 82.37400723383551, \"lower\": 38.25056626541354, \"upper\": 191.706241800649, \"data\": 123.00000000000006, \"model\": \"preds\", \"adm_2\": null, \"adm_1\": null, \"adm_0\": null, \"legend\": null}, {\"dates\": \"2022-12-18T00:00:00\", \"preds\": 80.76155170048615, \"lower\": 31.64532949681313, \"upper\": 232.0250145641407, \"data\": 117.0000000000001, \"model\": \"preds\", \"adm_2\": null, \"adm_1\": null, \"adm_0\": null, \"legend\": null}, {\"dates\": \"2022-12-25T00:00:00\", \"preds\": 79.26081098331882, \"lower\": 26.891678925322203, \"upper\": 274.3801151190784, \"data\": 163.00000000000006, \"model\": \"preds\", \"adm_2\": null, \"adm_1\": null, \"adm_0\": null, \"legend\": null}, {\"dates\": \"2023-01-01T00:00:00\", \"preds\": 151.75902107613354, \"lower\": 78.80055863432439, \"upper\": 309.03660730541964, \"data\": 230.00000000000014, \"model\": \"preds\", \"adm_2\": null, \"adm_1\": null, \"adm_0\": null, \"legend\": null}, {\"dates\": \"2023-01-08T00:00:00\", \"preds\": 159.71105441059282, \"lower\": 69.925887512755, \"upper\": 399.394156780221, \"data\": 218.00000000000017, \"model\": \"preds\", \"adm_2\": null, \"adm_1\": null, \"adm_0\": null, \"legend\": null}, {\"dates\": \"2023-01-15T00:00:00\", \"preds\": 161.09827113321387, \"lower\": 58.61261817635057, \"upper\": 508.9903523783474, \"data\": 246.00000000000068, \"model\": \"preds\", \"adm_2\": null, \"adm_1\": null, \"adm_0\": null, \"legend\": null}, {\"dates\": \"2023-01-22T00:00:00\", \"preds\": 164.08688262700636, \"lower\": 50.90374200108143, \"upper\": 640.2560055086593, \"data\": 311.9999999999994, \"model\": \"preds\", \"adm_2\": null, \"adm_1\": null, \"adm_0\": null, \"legend\": null}, {\"dates\": \"2023-01-29T00:00:00\", \"preds\": 309.3702272141146, \"lower\": 152.07976954355183, \"upper\": 672.2658130104293, \"data\": 383.00000000000006, \"model\": \"preds\", \"adm_2\": null, \"adm_1\": null, \"adm_0\": null, \"legend\": null}, {\"dates\": \"2023-02-05T00:00:00\", \"preds\": 328.3645147288293, \"lower\": 134.08376489660458, \"upper\": 895.5215534079629, \"data\": 524.9999999999994, \"model\": \"preds\", \"adm_2\": null, \"adm_1\": null, \"adm_0\": null, \"legend\": null}, {\"dates\": \"2023-02-12T00:00:00\", \"preds\": 338.4446761589377, \"lower\": 112.86459103344252, \"upper\": 1198.654487265407, \"data\": 371.99999999999994, \"model\": \"preds\", \"adm_2\": null, \"adm_1\": null, \"adm_0\": null, \"legend\": null}, {\"dates\": \"2023-02-19T00:00:00\", \"preds\": 349.60284044518244, \"lower\": 97.9363839983552, \"upper\": 1569.3222073464988, \"data\": 507.0000000000001, \"model\": \"preds\", \"adm_2\": null, \"adm_1\": null, \"adm_0\": null, \"legend\": null}, {\"dates\": \"2023-02-26T00:00:00\", \"preds\": 486.69931302779594, \"lower\": 230.60492182791666, \"upper\": 1105.380473447225, \"data\": 870.0, \"model\": \"preds\", \"adm_2\": null, \"adm_1\": null, \"adm_0\": null, \"legend\": null}, {\"dates\": \"2023-03-05T00:00:00\", \"preds\": 517.8439424035935, \"lower\": 201.9884675630862, \"upper\": 1496.3738010907498, \"data\": 945.0000000000003, \"model\": \"preds\", \"adm_2\": null, \"adm_1\": null, \"adm_0\": null, \"legend\": null}, {\"dates\": \"2023-03-12T00:00:00\", \"preds\": 529.7730183832521, \"lower\": 167.23248148541813, \"upper\": 2019.1412998186286, \"data\": 1125.000000000002, \"model\": \"preds\", \"adm_2\": null, \"adm_1\": null, \"adm_0\": null, \"legend\": null}, {\"dates\": \"2023-03-19T00:00:00\", \"preds\": 545.4069465400194, \"lower\": 143.50721978424977, \"upper\": 2673.803834981445, \"data\": 1382.0000000000002, \"model\": \"preds\", \"adm_2\": null, \"adm_1\": null, \"adm_0\": null, \"legend\": null}, {\"dates\": \"2023-03-26T00:00:00\", \"preds\": 1437.0011550657287, \"lower\": 617.8061387017084, \"upper\": 3675.263663821789, \"data\": 1579.9999999999984, \"model\": \"preds\", \"adm_2\": null, \"adm_1\": null, \"adm_0\": null, \"legend\": null}, {\"dates\": \"2023-04-02T00:00:00\", \"preds\": 1552.5756099511464, \"lower\": 534.8042616512885, \"upper\": 5268.339777363313, \"data\": 1419.9999999999982, \"model\": \"preds\", \"adm_2\": null, \"adm_1\": null, \"adm_0\": null, \"legend\": null}, {\"dates\": \"2023-04-09T00:00:00\", \"preds\": 1636.954500901183, \"lower\": 442.32926449035625, \"upper\": 7728.778115856731, \"data\": 1783.0000000000034, \"model\": \"preds\", \"adm_2\": null, \"adm_1\": null, \"adm_0\": null, \"legend\": null}, {\"dates\": \"2023-04-16T00:00:00\", \"preds\": 1720.596909260694, \"lower\": 377.21810951968763, \"upper\": 11004.75562990184, \"data\": 1502.0000000000002, \"model\": \"preds\", \"adm_2\": null, \"adm_1\": null, \"adm_0\": null, \"legend\": null}, {\"dates\": \"2023-04-23T00:00:00\", \"preds\": 1657.1878883108077, \"lower\": 704.3026009556684, \"upper\": 4299.432181097053, \"data\": 1571.9999999999993, \"model\": \"preds\", \"adm_2\": null, \"adm_1\": null, \"adm_0\": null, \"legend\": null}, {\"dates\": \"2023-04-30T00:00:00\", \"preds\": 1670.388554577693, \"lower\": 572.0390569502166, \"upper\": 5711.797595251391, \"data\": 1918.9999999999986, \"model\": \"preds\", \"adm_2\": null, \"adm_1\": null, \"adm_0\": null, \"legend\": null}, {\"dates\": \"2023-05-07T00:00:00\", \"preds\": 1722.5844602965567, \"lower\": 463.673423723814, \"upper\": 8177.452019036614, \"data\": 1807.000000000001, \"model\": \"preds\", \"adm_2\": null, \"adm_1\": null, \"adm_0\": null, \"legend\": null}, {\"dates\": \"2023-05-14T00:00:00\", \"preds\": 1755.4396214505564, \"lower\": 385.1382934188562, \"upper\": 11215.328517742917, \"data\": 1730.9999999999984, \"model\": \"preds\", \"adm_2\": null, \"adm_1\": null, \"adm_0\": null, \"legend\": null}, {\"dates\": \"2023-05-21T00:00:00\", \"preds\": 1791.9838173515527, \"lower\": 757.4556688816872, \"upper\": 4680.705426117191, \"data\": 1478.9999999999989, \"model\": \"preds\", \"adm_2\": null, \"adm_1\": null, \"adm_0\": null, \"legend\": null}, {\"dates\": \"2023-05-28T00:00:00\", \"preds\": 1805.2453154273305, \"lower\": 614.1490440057485, \"upper\": 6226.950119038415, \"data\": 1328.0000000000018, \"model\": \"preds\", \"adm_2\": null, \"adm_1\": null, \"adm_0\": null, \"legend\": null}, {\"dates\": \"2023-06-04T00:00:00\", \"preds\": 1829.3804008668883, \"lower\": 489.7659412386774, \"upper\": 8750.900624193, \"data\": 1238.0000000000007, \"model\": \"preds\", \"adm_2\": null, \"adm_1\": null, \"adm_0\": null, \"legend\": null}, {\"dates\": \"2023-06-11T00:00:00\", \"preds\": 1846.2821743239049, \"lower\": 403.23847792950664, \"upper\": 11876.003631669199, \"data\": 1347.9999999999984, \"model\": \"preds\", \"adm_2\": null, \"adm_1\": null, \"adm_0\": null, \"legend\": null}, {\"dates\": \"2023-06-18T00:00:00\", \"preds\": 1300.2654898712583, \"lower\": 567.9823737695191, \"upper\": 3260.8526210006557, \"data\": 1235.999999999999, \"model\": \"preds\", \"adm_2\": null, \"adm_1\": null, \"adm_0\": null, \"legend\": null}, {\"dates\": \"2023-06-25T00:00:00\", \"preds\": 1304.3747140425774, \"lower\": 462.3712214046279, \"upper\": 4263.0819671588915, \"data\": 996.0000000000018, \"model\": \"preds\", \"adm_2\": null, \"adm_1\": null, \"adm_0\": null, \"legend\": null}, {\"dates\": \"2022-01-02T00:00:00\", \"preds\": 61.29, \"lower\": 0.0, \"upper\": 1729.2245503355, \"data\": null, \"model\": \"77\", \"adm_2\": 3304557.0, \"adm_1\": \"RJ\", \"adm_0\": \"BR\", \"legend\": null}, {\"dates\": \"2022-01-09T00:00:00\", \"preds\": 27.06, \"lower\": 0.0, \"upper\": 1535.8709703498, \"data\": null, \"model\": \"77\", \"adm_2\": 3304557.0, \"adm_1\": \"RJ\", \"adm_0\": \"BR\", \"legend\": null}, {\"dates\": \"2022-01-16T00:00:00\", \"preds\": 26.88, \"lower\": 0.0, \"upper\": 673.9351776686, \"data\": null, \"model\": \"77\", \"adm_2\": 3304557.0, \"adm_1\": \"RJ\", \"adm_0\": \"BR\", \"legend\": null}, {\"dates\": \"2022-01-23T00:00:00\", \"preds\": 30.44, \"lower\": 0.0, \"upper\": 1149.2167062209, \"data\": null, \"model\": \"77\", \"adm_2\": 3304557.0, \"adm_1\": \"RJ\", \"adm_0\": \"BR\", \"legend\": null}, {\"dates\": \"2022-01-30T00:00:00\", \"preds\": 29.76, \"lower\": 0.0, \"upper\": 1054.8541371324, \"data\": null, \"model\": \"77\", \"adm_2\": 3304557.0, \"adm_1\": \"RJ\", \"adm_0\": \"BR\", \"legend\": null}, {\"dates\": \"2022-02-06T00:00:00\", \"preds\": 29.34, \"lower\": 0.0, \"upper\": 1053.3112130593, \"data\": null, \"model\": \"77\", \"adm_2\": 3304557.0, \"adm_1\": \"RJ\", \"adm_0\": \"BR\", \"legend\": null}, {\"dates\": \"2022-02-13T00:00:00\", \"preds\": 34.61, \"lower\": 0.0, \"upper\": 1012.9490918948, \"data\": null, \"model\": \"77\", \"adm_2\": 3304557.0, \"adm_1\": \"RJ\", \"adm_0\": \"BR\", \"legend\": null}, {\"dates\": \"2022-02-20T00:00:00\", \"preds\": 39.01, \"lower\": 0.0, \"upper\": 1235.4601531132, \"data\": null, \"model\": \"77\", \"adm_2\": 3304557.0, \"adm_1\": \"RJ\", \"adm_0\": \"BR\", \"legend\": null}, {\"dates\": \"2022-02-27T00:00:00\", \"preds\": 43.28, \"lower\": 0.0, \"upper\": 1478.6163274184, \"data\": null, \"model\": \"77\", \"adm_2\": 3304557.0, \"adm_1\": \"RJ\", \"adm_0\": \"BR\", \"legend\": null}, {\"dates\": \"2022-03-06T00:00:00\", \"preds\": 32.32, \"lower\": 0.0, \"upper\": 1933.3792826922, \"data\": null, \"model\": \"77\", \"adm_2\": 3304557.0, \"adm_1\": \"RJ\", \"adm_0\": \"BR\", \"legend\": null}, {\"dates\": \"2022-03-13T00:00:00\", \"preds\": 44.08, \"lower\": 0.0, \"upper\": 1698.1051179684, \"data\": null, \"model\": \"77\", \"adm_2\": 3304557.0, \"adm_1\": \"RJ\", \"adm_0\": \"BR\", \"legend\": null}, {\"dates\": \"2022-03-20T00:00:00\", \"preds\": 74.21, \"lower\": 0.0, \"upper\": 1583.5488129311, \"data\": null, \"model\": \"77\", \"adm_2\": 3304557.0, \"adm_1\": \"RJ\", \"adm_0\": \"BR\", \"legend\": null}, {\"dates\": \"2022-03-27T00:00:00\", \"preds\": 91.2, \"lower\": 0.0, \"upper\": 1376.3518495555, \"data\": null, \"model\": \"77\", \"adm_2\": 3304557.0, \"adm_1\": \"RJ\", \"adm_0\": \"BR\", \"legend\": null}, {\"dates\": \"2022-04-03T00:00:00\", \"preds\": 98.79, \"lower\": 0.0, \"upper\": 723.5706027188, \"data\": null, \"model\": \"77\", \"adm_2\": 3304557.0, \"adm_1\": \"RJ\", \"adm_0\": \"BR\", \"legend\": null}, {\"dates\": \"2022-04-10T00:00:00\", \"preds\": 176.98, \"lower\": 0.0, \"upper\": 1567.9589396197, \"data\": null, \"model\": \"77\", \"adm_2\": 3304557.0, \"adm_1\": \"RJ\", \"adm_0\": \"BR\", \"legend\": null}, {\"dates\": \"2022-04-17T00:00:00\", \"preds\": 216.42, \"lower\": 0.0, \"upper\": 2335.967212316, \"data\": null, \"model\": \"77\", \"adm_2\": 3304557.0, \"adm_1\": \"RJ\", \"adm_0\": \"BR\", \"legend\": null}, {\"dates\": \"2022-04-24T00:00:00\", \"preds\": 345.06, \"lower\": 0.0, \"upper\": 3021.9998205177, \"data\": null, \"model\": \"77\", \"adm_2\": 3304557.0, \"adm_1\": \"RJ\", \"adm_0\": \"BR\", \"legend\": null}, {\"dates\": \"2022-05-01T00:00:00\", \"preds\": 313.83, \"lower\": 0.0, \"upper\": 3249.4121439655, \"data\": null, \"model\": \"77\", \"adm_2\": 3304557.0, \"adm_1\": \"RJ\", \"adm_0\": \"BR\", \"legend\": null}, {\"dates\": \"2022-05-08T00:00:00\", \"preds\": 512.02, \"lower\": 0.0, \"upper\": 3762.6987796367, \"data\": null, \"model\": \"77\", \"adm_2\": 3304557.0, \"adm_1\": \"RJ\", \"adm_0\": \"BR\", \"legend\": null}, {\"dates\": \"2022-05-15T00:00:00\", \"preds\": 382.19, \"lower\": 0.0, \"upper\": 2690.5815795323, \"data\": null, \"model\": \"77\", \"adm_2\": 3304557.0, \"adm_1\": \"RJ\", \"adm_0\": \"BR\", \"legend\": null}, {\"dates\": \"2022-05-22T00:00:00\", \"preds\": 318.17, \"lower\": 0.0, \"upper\": 1889.3836654291, \"data\": null, \"model\": \"77\", \"adm_2\": 3304557.0, \"adm_1\": \"RJ\", \"adm_0\": \"BR\", \"legend\": null}, {\"dates\": \"2022-05-29T00:00:00\", \"preds\": 663.35, \"lower\": 0.0, \"upper\": 2355.171415628, \"data\": null, \"model\": \"77\", \"adm_2\": 3304557.0, \"adm_1\": \"RJ\", \"adm_0\": \"BR\", \"legend\": null}, {\"dates\": \"2022-06-05T00:00:00\", \"preds\": 1012.57, \"lower\": 244.0160680593, \"upper\": 1781.1239319407, \"data\": null, \"model\": \"77\", \"adm_2\": 3304557.0, \"adm_1\": \"RJ\", \"adm_0\": \"BR\", \"legend\": null}, {\"dates\": \"2022-06-12T00:00:00\", \"preds\": 902.92, \"lower\": 0.0, \"upper\": 2020.9380813249, \"data\": null, \"model\": \"77\", \"adm_2\": 3304557.0, \"adm_1\": \"RJ\", \"adm_0\": \"BR\", \"legend\": null}, {\"dates\": \"2022-06-19T00:00:00\", \"preds\": 766.88, \"lower\": 0.0, \"upper\": 2229.098105451, \"data\": null, \"model\": \"77\", \"adm_2\": 3304557.0, \"adm_1\": \"RJ\", \"adm_0\": \"BR\", \"legend\": null}, {\"dates\": \"2022-06-26T00:00:00\", \"preds\": 396.46, \"lower\": 0.0, \"upper\": 2184.4381570024, \"data\": null, \"model\": \"77\", \"adm_2\": 3304557.0, \"adm_1\": \"RJ\", \"adm_0\": \"BR\", \"legend\": null}, {\"dates\": \"2022-07-03T00:00:00\", \"preds\": 333.08, \"lower\": 0.0, \"upper\": 2367.8073825474, \"data\": null, \"model\": \"77\", \"adm_2\": 3304557.0, \"adm_1\": \"RJ\", \"adm_0\": \"BR\", \"legend\": null}, {\"dates\": \"2022-07-10T00:00:00\", \"preds\": 203.22, \"lower\": 0.0, \"upper\": 1614.4841398778, \"data\": null, \"model\": \"77\", \"adm_2\": 3304557.0, \"adm_1\": \"RJ\", \"adm_0\": \"BR\", \"legend\": null}, {\"dates\": \"2022-07-17T00:00:00\", \"preds\": 210.92, \"lower\": 0.0, \"upper\": 1624.558058697, \"data\": null, \"model\": \"77\", \"adm_2\": 3304557.0, \"adm_1\": \"RJ\", \"adm_0\": \"BR\", \"legend\": null}, {\"dates\": \"2022-07-24T00:00:00\", \"preds\": 205.35, \"lower\": 0.0, \"upper\": 1947.7565892405, \"data\": null, \"model\": \"77\", \"adm_2\": 3304557.0, \"adm_1\": \"RJ\", \"adm_0\": \"BR\", \"legend\": null}, {\"dates\": \"2022-07-31T00:00:00\", \"preds\": 155.79, \"lower\": 0.0, \"upper\": 1396.3902691858, \"data\": null, \"model\": \"77\", \"adm_2\": 3304557.0, \"adm_1\": \"RJ\", \"adm_0\": \"BR\", \"legend\": null}, {\"dates\": \"2022-08-07T00:00:00\", \"preds\": 161.74, \"lower\": 0.0, \"upper\": 1267.4720622758, \"data\": null, \"model\": \"77\", \"adm_2\": 3304557.0, \"adm_1\": \"RJ\", \"adm_0\": \"BR\", \"legend\": null}, {\"dates\": \"2022-08-14T00:00:00\", \"preds\": 153.51, \"lower\": 0.0, \"upper\": 1237.7757285767, \"data\": null, \"model\": \"77\", \"adm_2\": 3304557.0, \"adm_1\": \"RJ\", \"adm_0\": \"BR\", \"legend\": null}, {\"dates\": \"2022-08-21T00:00:00\", \"preds\": 176.64, \"lower\": 0.0, \"upper\": 1297.4866719026, \"data\": null, \"model\": \"77\", \"adm_2\": 3304557.0, \"adm_1\": \"RJ\", \"adm_0\": \"BR\", \"legend\": null}, {\"dates\": \"2022-08-28T00:00:00\", \"preds\": 179.13, \"lower\": 0.0, \"upper\": 1478.6152989411, \"data\": null, \"model\": \"77\", \"adm_2\": 3304557.0, \"adm_1\": \"RJ\", \"adm_0\": \"BR\", \"legend\": null}, {\"dates\": \"2022-09-04T00:00:00\", \"preds\": 146.43, \"lower\": 0.0, \"upper\": 1566.3419666142, \"data\": null, \"model\": \"77\", \"adm_2\": 3304557.0, \"adm_1\": \"RJ\", \"adm_0\": \"BR\", \"legend\": null}, {\"dates\": \"2022-09-11T00:00:00\", \"preds\": 119.06, \"lower\": 0.0, \"upper\": 1064.7396522083, \"data\": null, \"model\": \"77\", \"adm_2\": 3304557.0, \"adm_1\": \"RJ\", \"adm_0\": \"BR\", \"legend\": null}, {\"dates\": \"2022-09-18T00:00:00\", \"preds\": 89.66, \"lower\": 0.0, \"upper\": 524.128212398, \"data\": null, \"model\": \"77\", \"adm_2\": 3304557.0, \"adm_1\": \"RJ\", \"adm_0\": \"BR\", \"legend\": null}, {\"dates\": \"2022-09-25T00:00:00\", \"preds\": 88.07, \"lower\": 0.0, \"upper\": 1116.9014193491, \"data\": null, \"model\": \"77\", \"adm_2\": 3304557.0, \"adm_1\": \"RJ\", \"adm_0\": \"BR\", \"legend\": null}, {\"dates\": \"2022-10-02T00:00:00\", \"preds\": 92.84, \"lower\": 0.0, \"upper\": 967.041235228, \"data\": null, \"model\": \"77\", \"adm_2\": 3304557.0, \"adm_1\": \"RJ\", \"adm_0\": \"BR\", \"legend\": null}, {\"dates\": \"2022-10-09T00:00:00\", \"preds\": 130.7, \"lower\": 0.0, \"upper\": 1671.4170892455, \"data\": null, \"model\": \"77\", \"adm_2\": 3304557.0, \"adm_1\": \"RJ\", \"adm_0\": \"BR\", \"legend\": null}, {\"dates\": \"2022-10-16T00:00:00\", \"preds\": 126.37, \"lower\": 0.0, \"upper\": 1783.0109912045, \"data\": null, \"model\": \"77\", \"adm_2\": 3304557.0, \"adm_1\": \"RJ\", \"adm_0\": \"BR\", \"legend\": null}, {\"dates\": \"2022-10-23T00:00:00\", \"preds\": 88.54, \"lower\": 0.0, \"upper\": 2455.8924287832, \"data\": null, \"model\": \"77\", \"adm_2\": 3304557.0, \"adm_1\": \"RJ\", \"adm_0\": \"BR\", \"legend\": null}, {\"dates\": \"2022-10-30T00:00:00\", \"preds\": 90.18, \"lower\": 0.0, \"upper\": 2482.2110244223, \"data\": null, \"model\": \"77\", \"adm_2\": 3304557.0, \"adm_1\": \"RJ\", \"adm_0\": \"BR\", \"legend\": null}, {\"dates\": \"2022-11-06T00:00:00\", \"preds\": 138.54, \"lower\": 0.0, \"upper\": 2753.4854223837, \"data\": null, \"model\": \"77\", \"adm_2\": 3304557.0, \"adm_1\": \"RJ\", \"adm_0\": \"BR\", \"legend\": null}, {\"dates\": \"2022-11-13T00:00:00\", \"preds\": 111.15, \"lower\": 0.0, \"upper\": 2114.9459362357, \"data\": null, \"model\": \"77\", \"adm_2\": 3304557.0, \"adm_1\": \"RJ\", \"adm_0\": \"BR\", \"legend\": null}, {\"dates\": \"2022-11-20T00:00:00\", \"preds\": 262.42, \"lower\": 0.0, \"upper\": 1560.3910680599, \"data\": null, \"model\": \"77\", \"adm_2\": 3304557.0, \"adm_1\": \"RJ\", \"adm_0\": \"BR\", \"legend\": null}, {\"dates\": \"2022-11-27T00:00:00\", \"preds\": 130.46, \"lower\": 0.0, \"upper\": 1275.9170270516, \"data\": null, \"model\": \"77\", \"adm_2\": 3304557.0, \"adm_1\": \"RJ\", \"adm_0\": \"BR\", \"legend\": null}, {\"dates\": \"2022-12-04T00:00:00\", \"preds\": 138.95, \"lower\": 0.0, \"upper\": 968.9083312331, \"data\": null, \"model\": \"77\", \"adm_2\": 3304557.0, \"adm_1\": \"RJ\", \"adm_0\": \"BR\", \"legend\": null}, {\"dates\": \"2022-12-11T00:00:00\", \"preds\": 281.55, \"lower\": 0.0, \"upper\": 1260.6283970385, \"data\": null, \"model\": \"77\", \"adm_2\": 3304557.0, \"adm_1\": \"RJ\", \"adm_0\": \"BR\", \"legend\": null}, {\"dates\": \"2022-12-18T00:00:00\", \"preds\": 121.26, \"lower\": 0.0, \"upper\": 1588.656583431, \"data\": null, \"model\": \"77\", \"adm_2\": 3304557.0, \"adm_1\": \"RJ\", \"adm_0\": \"BR\", \"legend\": null}, {\"dates\": \"2022-12-25T00:00:00\", \"preds\": 129.22, \"lower\": 0.0, \"upper\": 1872.3384034717, \"data\": null, \"model\": \"77\", \"adm_2\": 3304557.0, \"adm_1\": \"RJ\", \"adm_0\": \"BR\", \"legend\": null}, {\"dates\": \"2023-01-01T00:00:00\", \"preds\": 124.7, \"lower\": 0.0, \"upper\": 1809.5625740147, \"data\": null, \"model\": \"77\", \"adm_2\": 3304557.0, \"adm_1\": \"RJ\", \"adm_0\": \"BR\", \"legend\": null}, {\"dates\": \"2023-01-08T00:00:00\", \"preds\": 127.23, \"lower\": 0.0, \"upper\": 1793.8064366305, \"data\": null, \"model\": \"77\", \"adm_2\": 3304557.0, \"adm_1\": \"RJ\", \"adm_0\": \"BR\", \"legend\": null}, {\"dates\": \"2023-01-15T00:00:00\", \"preds\": 155.21, \"lower\": 0.0, \"upper\": 1268.8861142409, \"data\": null, \"model\": \"77\", \"adm_2\": 3304557.0, \"adm_1\": \"RJ\", \"adm_0\": \"BR\", \"legend\": null}, {\"dates\": \"2023-01-22T00:00:00\", \"preds\": 198.84, \"lower\": 0.0, \"upper\": 1195.3396186246, \"data\": null, \"model\": \"77\", \"adm_2\": 3304557.0, \"adm_1\": \"RJ\", \"adm_0\": \"BR\", \"legend\": null}, {\"dates\": \"2023-01-29T00:00:00\", \"preds\": 345.27, \"lower\": 0.0, \"upper\": 1518.1194592248, \"data\": null, \"model\": \"77\", \"adm_2\": 3304557.0, \"adm_1\": \"RJ\", \"adm_0\": \"BR\", \"legend\": null}, {\"dates\": \"2023-02-05T00:00:00\", \"preds\": 462.34, \"lower\": 0.0, \"upper\": 1445.4253987699, \"data\": null, \"model\": \"77\", \"adm_2\": 3304557.0, \"adm_1\": \"RJ\", \"adm_0\": \"BR\", \"legend\": null}, {\"dates\": \"2023-02-12T00:00:00\", \"preds\": 481.6, \"lower\": 0.0, \"upper\": 1893.9755987178, \"data\": null, \"model\": \"77\", \"adm_2\": 3304557.0, \"adm_1\": \"RJ\", \"adm_0\": \"BR\", \"legend\": null}, {\"dates\": \"2023-02-19T00:00:00\", \"preds\": 481.56, \"lower\": 0.0, \"upper\": 1965.8780215081, \"data\": null, \"model\": \"77\", \"adm_2\": 3304557.0, \"adm_1\": \"RJ\", \"adm_0\": \"BR\", \"legend\": null}, {\"dates\": \"2023-02-26T00:00:00\", \"preds\": 574.3, \"lower\": 0.0, \"upper\": 2019.8204358497, \"data\": null, \"model\": \"77\", \"adm_2\": 3304557.0, \"adm_1\": \"RJ\", \"adm_0\": \"BR\", \"legend\": null}, {\"dates\": \"2023-03-05T00:00:00\", \"preds\": 908.59, \"lower\": 0.0, \"upper\": 2793.9425956685, \"data\": null, \"model\": \"77\", \"adm_2\": 3304557.0, \"adm_1\": \"RJ\", \"adm_0\": \"BR\", \"legend\": null}, {\"dates\": \"2023-03-12T00:00:00\", \"preds\": 1098.33, \"lower\": 0.0, \"upper\": 3565.2781705146, \"data\": null, \"model\": \"77\", \"adm_2\": 3304557.0, \"adm_1\": \"RJ\", \"adm_0\": \"BR\", \"legend\": null}, {\"dates\": \"2023-03-19T00:00:00\", \"preds\": 1255.02, \"lower\": 0.0, \"upper\": 4202.4693301775, \"data\": null, \"model\": \"77\", \"adm_2\": 3304557.0, \"adm_1\": \"RJ\", \"adm_0\": \"BR\", \"legend\": null}, {\"dates\": \"2023-03-26T00:00:00\", \"preds\": 903.32, \"lower\": 0.0, \"upper\": 3760.903225256, \"data\": null, \"model\": \"77\", \"adm_2\": 3304557.0, \"adm_1\": \"RJ\", \"adm_0\": \"BR\", \"legend\": null}, {\"dates\": \"2023-04-02T00:00:00\", \"preds\": 2084.83, \"lower\": 0.0, \"upper\": 4512.3417709763, \"data\": null, \"model\": \"77\", \"adm_2\": 3304557.0, \"adm_1\": \"RJ\", \"adm_0\": \"BR\", \"legend\": null}, {\"dates\": \"2023-04-09T00:00:00\", \"preds\": 1451.2, \"lower\": 0.0, \"upper\": 2937.0054003446, \"data\": null, \"model\": \"77\", \"adm_2\": 3304557.0, \"adm_1\": \"RJ\", \"adm_0\": \"BR\", \"legend\": null}, {\"dates\": \"2023-04-16T00:00:00\", \"preds\": 1680.13, \"lower\": 591.7969421614, \"upper\": 2768.4630578386, \"data\": null, \"model\": \"77\", \"adm_2\": 3304557.0, \"adm_1\": \"RJ\", \"adm_0\": \"BR\", \"legend\": null}, {\"dates\": \"2023-04-23T00:00:00\", \"preds\": 1944.43, \"lower\": 650.1333199898, \"upper\": 3238.7266800102, \"data\": null, \"model\": \"77\", \"adm_2\": 3304557.0, \"adm_1\": \"RJ\", \"adm_0\": \"BR\", \"legend\": null}, {\"dates\": \"2023-04-30T00:00:00\", \"preds\": 1575.31, \"lower\": 227.6224669775, \"upper\": 2922.9975330225, \"data\": null, \"model\": \"77\", \"adm_2\": 3304557.0, \"adm_1\": \"RJ\", \"adm_0\": \"BR\", \"legend\": null}, {\"dates\": \"2023-05-07T00:00:00\", \"preds\": 1426.24, \"lower\": 206.7682082167, \"upper\": 2645.7117917833, \"data\": null, \"model\": \"77\", \"adm_2\": 3304557.0, \"adm_1\": \"RJ\", \"adm_0\": \"BR\", \"legend\": null}, {\"dates\": \"2023-05-14T00:00:00\", \"preds\": 1939.85, \"lower\": 769.2177668869, \"upper\": 3110.4822331131, \"data\": null, \"model\": \"77\", \"adm_2\": 3304557.0, \"adm_1\": \"RJ\", \"adm_0\": \"BR\", \"legend\": null}, {\"dates\": \"2023-05-21T00:00:00\", \"preds\": 1454.24, \"lower\": 359.7715538942, \"upper\": 2548.7084461058, \"data\": null, \"model\": \"77\", \"adm_2\": 3304557.0, \"adm_1\": \"RJ\", \"adm_0\": \"BR\", \"legend\": null}, {\"dates\": \"2023-05-28T00:00:00\", \"preds\": 1134.07, \"lower\": 343.0948354381, \"upper\": 1925.0451645619, \"data\": null, \"model\": \"77\", \"adm_2\": 3304557.0, \"adm_1\": \"RJ\", \"adm_0\": \"BR\", \"legend\": null}, {\"dates\": \"2023-06-04T00:00:00\", \"preds\": 2243.41, \"lower\": 1319.5171062823, \"upper\": 3167.3028937177, \"data\": null, \"model\": \"77\", \"adm_2\": 3304557.0, \"adm_1\": \"RJ\", \"adm_0\": \"BR\", \"legend\": null}, {\"dates\": \"2023-06-11T00:00:00\", \"preds\": 2239.65, \"lower\": 1112.8198769929, \"upper\": 3366.4801230071, \"data\": null, \"model\": \"77\", \"adm_2\": 3304557.0, \"adm_1\": \"RJ\", \"adm_0\": \"BR\", \"legend\": null}, {\"dates\": \"2023-06-18T00:00:00\", \"preds\": 1068.35, \"lower\": 0.0, \"upper\": 2215.1295403202, \"data\": null, \"model\": \"77\", \"adm_2\": 3304557.0, \"adm_1\": \"RJ\", \"adm_0\": \"BR\", \"legend\": null}, {\"dates\": \"2023-06-25T00:00:00\", \"preds\": 624.0, \"lower\": 0.0, \"upper\": 1599.3245555278, \"data\": null, \"model\": \"77\", \"adm_2\": 3304557.0, \"adm_1\": \"RJ\", \"adm_0\": \"BR\", \"legend\": null}, {\"dates\": \"2022-01-02T00:00:00\", \"preds\": 109.3704933375, \"lower\": 0.0, \"upper\": 723.8520054869, \"data\": null, \"model\": \"78\", \"adm_2\": 3304557.0, \"adm_1\": \"RJ\", \"adm_0\": \"BR\", \"legend\": null}, {\"dates\": \"2022-01-09T00:00:00\", \"preds\": 25.3118970841, \"lower\": 0.0, \"upper\": 529.5949193925, \"data\": null, \"model\": \"78\", \"adm_2\": 3304557.0, \"adm_1\": \"RJ\", \"adm_0\": \"BR\", \"legend\": null}, {\"dates\": \"2022-01-16T00:00:00\", \"preds\": 0.0, \"lower\": 0.0, \"upper\": 406.1030913638, \"data\": null, \"model\": \"78\", \"adm_2\": 3304557.0, \"adm_1\": \"RJ\", \"adm_0\": \"BR\", \"legend\": null}, {\"dates\": \"2022-01-23T00:00:00\", \"preds\": 0.0, \"lower\": 0.0, \"upper\": 452.7692431942, \"data\": null, \"model\": \"78\", \"adm_2\": 3304557.0, \"adm_1\": \"RJ\", \"adm_0\": \"BR\", \"legend\": null}, {\"dates\": \"2022-01-30T00:00:00\", \"preds\": 0.0, \"lower\": 0.0, \"upper\": 607.8534869146, \"data\": null, \"model\": \"78\", \"adm_2\": 3304557.0, \"adm_1\": \"RJ\", \"adm_0\": \"BR\", \"legend\": null}, {\"dates\": \"2022-02-06T00:00:00\", \"preds\": 0.0, \"lower\": 0.0, \"upper\": 571.5213175815, \"data\": null, \"model\": \"78\", \"adm_2\": 3304557.0, \"adm_1\": \"RJ\", \"adm_0\": \"BR\", \"legend\": null}, {\"dates\": \"2022-02-13T00:00:00\", \"preds\": 86.4780002013, \"lower\": 0.0, \"upper\": 606.202994981, \"data\": null, \"model\": \"78\", \"adm_2\": 3304557.0, \"adm_1\": \"RJ\", \"adm_0\": \"BR\", \"legend\": null}, {\"dates\": \"2022-02-20T00:00:00\", \"preds\": 232.8529663906, \"lower\": 0.0, \"upper\": 704.1387109958, \"data\": null, \"model\": \"78\", \"adm_2\": 3304557.0, \"adm_1\": \"RJ\", \"adm_0\": \"BR\", \"legend\": null}, {\"dates\": \"2022-02-27T00:00:00\", \"preds\": 249.8387639374, \"lower\": 0.0, \"upper\": 864.0333929069, \"data\": null, \"model\": \"78\", \"adm_2\": 3304557.0, \"adm_1\": \"RJ\", \"adm_0\": \"BR\", \"legend\": null}, {\"dates\": \"2022-03-06T00:00:00\", \"preds\": 236.5050984696, \"lower\": 0.0, \"upper\": 912.8691094007, \"data\": null, \"model\": \"78\", \"adm_2\": 3304557.0, \"adm_1\": \"RJ\", \"adm_0\": \"BR\", \"legend\": null}, {\"dates\": \"2022-03-13T00:00:00\", \"preds\": 374.9699975103, \"lower\": 0.0, \"upper\": 838.5651220527, \"data\": null, \"model\": \"78\", \"adm_2\": 3304557.0, \"adm_1\": \"RJ\", \"adm_0\": \"BR\", \"legend\": null}, {\"dates\": \"2022-03-20T00:00:00\", \"preds\": 342.3801910132, \"lower\": 0.0, \"upper\": 954.7004770912, \"data\": null, \"model\": \"78\", \"adm_2\": 3304557.0, \"adm_1\": \"RJ\", \"adm_0\": \"BR\", \"legend\": null}, {\"dates\": \"2022-03-27T00:00:00\", \"preds\": 115.6595792919, \"lower\": 0.0, \"upper\": 640.2459985577, \"data\": null, \"model\": \"78\", \"adm_2\": 3304557.0, \"adm_1\": \"RJ\", \"adm_0\": \"BR\", \"legend\": null}, {\"dates\": \"2022-04-03T00:00:00\", \"preds\": 133.0989688486, \"lower\": 0.0, \"upper\": 696.6566838086, \"data\": null, \"model\": \"78\", \"adm_2\": 3304557.0, \"adm_1\": \"RJ\", \"adm_0\": \"BR\", \"legend\": null}, {\"dates\": \"2022-04-10T00:00:00\", \"preds\": 198.9890367314, \"lower\": 0.0, \"upper\": 644.0939105038, \"data\": null, \"model\": \"78\", \"adm_2\": 3304557.0, \"adm_1\": \"RJ\", \"adm_0\": \"BR\", \"legend\": null}, {\"dates\": \"2022-04-17T00:00:00\", \"preds\": 170.3585512489, \"lower\": 0.0, \"upper\": 810.7452559274, \"data\": null, \"model\": \"78\", \"adm_2\": 3304557.0, \"adm_1\": \"RJ\", \"adm_0\": \"BR\", \"legend\": null}, {\"dates\": \"2022-04-24T00:00:00\", \"preds\": 317.5533636957, \"lower\": 0.0, \"upper\": 1214.5482060984, \"data\": null, \"model\": \"78\", \"adm_2\": 3304557.0, \"adm_1\": \"RJ\", \"adm_0\": \"BR\", \"legend\": null}, {\"dates\": \"2022-05-01T00:00:00\", \"preds\": 585.4558397308, \"lower\": 0.0, \"upper\": 1430.6597343847, \"data\": null, \"model\": \"78\", \"adm_2\": 3304557.0, \"adm_1\": \"RJ\", \"adm_0\": \"BR\", \"legend\": null}, {\"dates\": \"2022-05-08T00:00:00\", \"preds\": 575.024428919, \"lower\": 8.4296638228, \"upper\": 1424.0171880141, \"data\": null, \"model\": \"78\", \"adm_2\": 3304557.0, \"adm_1\": \"RJ\", \"adm_0\": \"BR\", \"legend\": null}, {\"dates\": \"2022-05-15T00:00:00\", \"preds\": 553.5908161178, \"lower\": 0.0, \"upper\": 1263.6794998243, \"data\": null, \"model\": \"78\", \"adm_2\": 3304557.0, \"adm_1\": \"RJ\", \"adm_0\": \"BR\", \"legend\": null}, {\"dates\": \"2022-05-22T00:00:00\", \"preds\": 448.0580613017, \"lower\": 0.0, \"upper\": 1238.4645673811, \"data\": null, \"model\": \"78\", \"adm_2\": 3304557.0, \"adm_1\": \"RJ\", \"adm_0\": \"BR\", \"legend\": null}, {\"dates\": \"2022-05-29T00:00:00\", \"preds\": 467.6085152477, \"lower\": 0.0, \"upper\": 986.0914632201, \"data\": null, \"model\": \"78\", \"adm_2\": 3304557.0, \"adm_1\": \"RJ\", \"adm_0\": \"BR\", \"legend\": null}, {\"dates\": \"2022-06-05T00:00:00\", \"preds\": 516.6090817675, \"lower\": 0.0, \"upper\": 1275.2489616744, \"data\": null, \"model\": \"78\", \"adm_2\": 3304557.0, \"adm_1\": \"RJ\", \"adm_0\": \"BR\", \"legend\": null}, {\"dates\": \"2022-06-12T00:00:00\", \"preds\": 232.2601490021, \"lower\": 0.0, \"upper\": 979.1794984825, \"data\": null, \"model\": \"78\", \"adm_2\": 3304557.0, \"adm_1\": \"RJ\", \"adm_0\": \"BR\", \"legend\": null}, {\"dates\": \"2022-06-19T00:00:00\", \"preds\": 181.6569838598, \"lower\": 0.0, \"upper\": 778.3422996413, \"data\": null, \"model\": \"78\", \"adm_2\": 3304557.0, \"adm_1\": \"RJ\", \"adm_0\": \"BR\", \"legend\": null}, {\"dates\": \"2022-06-26T00:00:00\", \"preds\": 184.1268508434, \"lower\": 0.0, \"upper\": 727.901391514, \"data\": null, \"model\": \"78\", \"adm_2\": 3304557.0, \"adm_1\": \"RJ\", \"adm_0\": \"BR\", \"legend\": null}, {\"dates\": \"2022-07-03T00:00:00\", \"preds\": 0.0, \"lower\": 0.0, \"upper\": 543.2598108575, \"data\": null, \"model\": \"78\", \"adm_2\": 3304557.0, \"adm_1\": \"RJ\", \"adm_0\": \"BR\", \"legend\": null}, {\"dates\": \"2022-07-10T00:00:00\", \"preds\": 0.0, \"lower\": 0.0, \"upper\": 524.3061247721, \"data\": null, \"model\": \"78\", \"adm_2\": 3304557.0, \"adm_1\": \"RJ\", \"adm_0\": \"BR\", \"legend\": null}, {\"dates\": \"2022-07-17T00:00:00\", \"preds\": 2.3415177315, \"lower\": 0.0, \"upper\": 547.6995292876, \"data\": null, \"model\": \"78\", \"adm_2\": 3304557.0, \"adm_1\": \"RJ\", \"adm_0\": \"BR\", \"legend\": null}, {\"dates\": \"2022-07-24T00:00:00\", \"preds\": 0.0, \"lower\": 0.0, \"upper\": 495.5266253971, \"data\": null, \"model\": \"78\", \"adm_2\": 3304557.0, \"adm_1\": \"RJ\", \"adm_0\": \"BR\", \"legend\": null}, {\"dates\": \"2022-07-31T00:00:00\", \"preds\": 31.849106662, \"lower\": 0.0, \"upper\": 546.9803666487, \"data\": null, \"model\": \"78\", \"adm_2\": 3304557.0, \"adm_1\": \"RJ\", \"adm_0\": \"BR\", \"legend\": null}, {\"dates\": \"2022-08-07T00:00:00\", \"preds\": 0.0, \"lower\": 0.0, \"upper\": 422.5016527284, \"data\": null, \"model\": \"78\", \"adm_2\": 3304557.0, \"adm_1\": \"RJ\", \"adm_0\": \"BR\", \"legend\": null}, {\"dates\": \"2022-08-14T00:00:00\", \"preds\": 0.0, \"lower\": 0.0, \"upper\": 608.2965644222, \"data\": null, \"model\": \"78\", \"adm_2\": 3304557.0, \"adm_1\": \"RJ\", \"adm_0\": \"BR\", \"legend\": null}, {\"dates\": \"2022-08-21T00:00:00\", \"preds\": 0.0, \"lower\": 0.0, \"upper\": 473.5215611801, \"data\": null, \"model\": \"78\", \"adm_2\": 3304557.0, \"adm_1\": \"RJ\", \"adm_0\": \"BR\", \"legend\": null}, {\"dates\": \"2022-08-28T00:00:00\", \"preds\": 0.0, \"lower\": 0.0, \"upper\": 418.905976513, \"data\": null, \"model\": \"78\", \"adm_2\": 3304557.0, \"adm_1\": \"RJ\", \"adm_0\": \"BR\", \"legend\": null}, {\"dates\": \"2022-09-04T00:00:00\", \"preds\": 0.0, \"lower\": 0.0, \"upper\": 535.4288134232, \"data\": null, \"model\": \"78\", \"adm_2\": 3304557.0, \"adm_1\": \"RJ\", \"adm_0\": \"BR\", \"legend\": null}, {\"dates\": \"2022-09-11T00:00:00\", \"preds\": 0.0, \"lower\": 0.0, \"upper\": 470.2948555045, \"data\": null, \"model\": \"78\", \"adm_2\": 3304557.0, \"adm_1\": \"RJ\", \"adm_0\": \"BR\", \"legend\": null}, {\"dates\": \"2022-09-18T00:00:00\", \"preds\": 0.0, \"lower\": 0.0, \"upper\": 517.7222615425, \"data\": null, \"model\": \"78\", \"adm_2\": 3304557.0, \"adm_1\": \"RJ\", \"adm_0\": \"BR\", \"legend\": null}, {\"dates\": \"2022-09-25T00:00:00\", \"preds\": 0.0, \"lower\": 0.0, \"upper\": 324.7571195681, \"data\": null, \"model\": \"78\", \"adm_2\": 3304557.0, \"adm_1\": \"RJ\", \"adm_0\": \"BR\", \"legend\": null}, {\"dates\": \"2022-10-02T00:00:00\", \"preds\": 0.0, \"lower\": 0.0, \"upper\": 487.8994649302, \"data\": null, \"model\": \"78\", \"adm_2\": 3304557.0, \"adm_1\": \"RJ\", \"adm_0\": \"BR\", \"legend\": null}, {\"dates\": \"2022-10-09T00:00:00\", \"preds\": 0.0, \"lower\": 0.0, \"upper\": 624.6994303495, \"data\": null, \"model\": \"78\", \"adm_2\": 3304557.0, \"adm_1\": \"RJ\", \"adm_0\": \"BR\", \"legend\": null}, {\"dates\": \"2022-10-16T00:00:00\", \"preds\": 0.0, \"lower\": 0.0, \"upper\": 529.9182512943, \"data\": null, \"model\": \"78\", \"adm_2\": 3304557.0, \"adm_1\": \"RJ\", \"adm_0\": \"BR\", \"legend\": null}, {\"dates\": \"2022-10-23T00:00:00\", \"preds\": 0.0, \"lower\": 0.0, \"upper\": 413.525811471, \"data\": null, \"model\": \"78\", \"adm_2\": 3304557.0, \"adm_1\": \"RJ\", \"adm_0\": \"BR\", \"legend\": null}, {\"dates\": \"2022-10-30T00:00:00\", \"preds\": 0.0, \"lower\": 0.0, \"upper\": 506.2727781624, \"data\": null, \"model\": \"78\", \"adm_2\": 3304557.0, \"adm_1\": \"RJ\", \"adm_0\": \"BR\", \"legend\": null}, {\"dates\": \"2022-11-06T00:00:00\", \"preds\": 0.0, \"lower\": 0.0, \"upper\": 572.083177733, \"data\": null, \"model\": \"78\", \"adm_2\": 3304557.0, \"adm_1\": \"RJ\", \"adm_0\": \"BR\", \"legend\": null}, {\"dates\": \"2022-11-13T00:00:00\", \"preds\": 0.0, \"lower\": 0.0, \"upper\": 403.3595069297, \"data\": null, \"model\": \"78\", \"adm_2\": 3304557.0, \"adm_1\": \"RJ\", \"adm_0\": \"BR\", \"legend\": null}, {\"dates\": \"2022-11-20T00:00:00\", \"preds\": 0.0, \"lower\": 0.0, \"upper\": 543.9534488436, \"data\": null, \"model\": \"78\", \"adm_2\": 3304557.0, \"adm_1\": \"RJ\", \"adm_0\": \"BR\", \"legend\": null}, {\"dates\": \"2022-11-27T00:00:00\", \"preds\": 0.0, \"lower\": 0.0, \"upper\": 524.0068367809, \"data\": null, \"model\": \"78\", \"adm_2\": 3304557.0, \"adm_1\": \"RJ\", \"adm_0\": \"BR\", \"legend\": null}, {\"dates\": \"2022-12-04T00:00:00\", \"preds\": 0.0, \"lower\": 0.0, \"upper\": 418.8527026698, \"data\": null, \"model\": \"78\", \"adm_2\": 3304557.0, \"adm_1\": \"RJ\", \"adm_0\": \"BR\", \"legend\": null}, {\"dates\": \"2022-12-11T00:00:00\", \"preds\": 0.0, \"lower\": 0.0, \"upper\": 498.8123991244, \"data\": null, \"model\": \"78\", \"adm_2\": 3304557.0, \"adm_1\": \"RJ\", \"adm_0\": \"BR\", \"legend\": null}, {\"dates\": \"2022-12-18T00:00:00\", \"preds\": 7.7453362942, \"lower\": 0.0, \"upper\": 619.0887393665, \"data\": null, \"model\": \"78\", \"adm_2\": 3304557.0, \"adm_1\": \"RJ\", \"adm_0\": \"BR\", \"legend\": null}, {\"dates\": \"2022-12-25T00:00:00\", \"preds\": 70.0851570219, \"lower\": 0.0, \"upper\": 507.5521873411, \"data\": null, \"model\": \"78\", \"adm_2\": 3304557.0, \"adm_1\": \"RJ\", \"adm_0\": \"BR\", \"legend\": null}, {\"dates\": \"2023-01-01T00:00:00\", \"preds\": 28.9193740338, \"lower\": 0.0, \"upper\": 602.8117241956, \"data\": null, \"model\": \"78\", \"adm_2\": 3304557.0, \"adm_1\": \"RJ\", \"adm_0\": \"BR\", \"legend\": null}, {\"dates\": \"2023-01-08T00:00:00\", \"preds\": 107.5751379728, \"lower\": 0.0, \"upper\": 566.5245524392, \"data\": null, \"model\": \"78\", \"adm_2\": 3304557.0, \"adm_1\": \"RJ\", \"adm_0\": \"BR\", \"legend\": null}, {\"dates\": \"2023-01-15T00:00:00\", \"preds\": 136.0464265496, \"lower\": 0.0, \"upper\": 654.7008858331, \"data\": null, \"model\": \"78\", \"adm_2\": 3304557.0, \"adm_1\": \"RJ\", \"adm_0\": \"BR\", \"legend\": null}, {\"dates\": \"2023-01-22T00:00:00\", \"preds\": 157.6281409636, \"lower\": 0.0, \"upper\": 703.7455855925, \"data\": null, \"model\": \"78\", \"adm_2\": 3304557.0, \"adm_1\": \"RJ\", \"adm_0\": \"BR\", \"legend\": null}, {\"dates\": \"2023-01-29T00:00:00\", \"preds\": 370.7788259685, \"lower\": 0.0, \"upper\": 879.478636435, \"data\": null, \"model\": \"78\", \"adm_2\": 3304557.0, \"adm_1\": \"RJ\", \"adm_0\": \"BR\", \"legend\": null}, {\"dates\": \"2023-02-05T00:00:00\", \"preds\": 200.67998676, \"lower\": 0.0, \"upper\": 720.2818470754, \"data\": null, \"model\": \"78\", \"adm_2\": 3304557.0, \"adm_1\": \"RJ\", \"adm_0\": \"BR\", \"legend\": null}, {\"dates\": \"2023-02-12T00:00:00\", \"preds\": 270.5449912548, \"lower\": 0.0, \"upper\": 766.0707564242, \"data\": null, \"model\": \"78\", \"adm_2\": 3304557.0, \"adm_1\": \"RJ\", \"adm_0\": \"BR\", \"legend\": null}, {\"dates\": \"2023-02-19T00:00:00\", \"preds\": 365.9762626961, \"lower\": 0.0, \"upper\": 984.143485938, \"data\": null, \"model\": \"78\", \"adm_2\": 3304557.0, \"adm_1\": \"RJ\", \"adm_0\": \"BR\", \"legend\": null}, {\"dates\": \"2023-02-26T00:00:00\", \"preds\": 434.2454627231, \"lower\": 0.0, \"upper\": 1035.7856581375, \"data\": null, \"model\": \"78\", \"adm_2\": 3304557.0, \"adm_1\": \"RJ\", \"adm_0\": \"BR\", \"legend\": null}, {\"dates\": \"2023-03-05T00:00:00\", \"preds\": 593.1198927313, \"lower\": 0.0, \"upper\": 1340.4223010339, \"data\": null, \"model\": \"78\", \"adm_2\": 3304557.0, \"adm_1\": \"RJ\", \"adm_0\": \"BR\", \"legend\": null}, {\"dates\": \"2023-03-12T00:00:00\", \"preds\": 486.762278229, \"lower\": 13.1828434534, \"upper\": 1258.1380503178, \"data\": null, \"model\": \"78\", \"adm_2\": 3304557.0, \"adm_1\": \"RJ\", \"adm_0\": \"BR\", \"legend\": null}, {\"dates\": \"2023-03-19T00:00:00\", \"preds\": 534.409355998, \"lower\": 0.0, \"upper\": 1161.3790531218, \"data\": null, \"model\": \"78\", \"adm_2\": 3304557.0, \"adm_1\": \"RJ\", \"adm_0\": \"BR\", \"legend\": null}, {\"dates\": \"2023-03-26T00:00:00\", \"preds\": 555.0313138813, \"lower\": 0.0, \"upper\": 1138.9978529975, \"data\": null, \"model\": \"78\", \"adm_2\": 3304557.0, \"adm_1\": \"RJ\", \"adm_0\": \"BR\", \"legend\": null}, {\"dates\": \"2023-04-02T00:00:00\", \"preds\": 540.6022553518, \"lower\": 0.0, \"upper\": 1290.8390316494, \"data\": null, \"model\": \"78\", \"adm_2\": 3304557.0, \"adm_1\": \"RJ\", \"adm_0\": \"BR\", \"legend\": null}, {\"dates\": \"2023-04-09T00:00:00\", \"preds\": 670.57262557, \"lower\": 63.0884215072, \"upper\": 1603.4207726844, \"data\": null, \"model\": \"78\", \"adm_2\": 3304557.0, \"adm_1\": \"RJ\", \"adm_0\": \"BR\", \"legend\": null}, {\"dates\": \"2023-04-16T00:00:00\", \"preds\": 823.2300753295, \"lower\": 5.3920096096, \"upper\": 1619.1121769279, \"data\": null, \"model\": \"78\", \"adm_2\": 3304557.0, \"adm_1\": \"RJ\", \"adm_0\": \"BR\", \"legend\": null}, {\"dates\": \"2023-04-23T00:00:00\", \"preds\": 821.3328076452, \"lower\": 0.0, \"upper\": 1657.2413398936, \"data\": null, \"model\": \"78\", \"adm_2\": 3304557.0, \"adm_1\": \"RJ\", \"adm_0\": \"BR\", \"legend\": null}, {\"dates\": \"2023-04-30T00:00:00\", \"preds\": 736.0327714011, \"lower\": 186.1478255641, \"upper\": 1522.9282282144, \"data\": null, \"model\": \"78\", \"adm_2\": 3304557.0, \"adm_1\": \"RJ\", \"adm_0\": \"BR\", \"legend\": null}, {\"dates\": \"2023-05-07T00:00:00\", \"preds\": 760.3757069707, \"lower\": 31.6744434658, \"upper\": 1601.576000803, \"data\": null, \"model\": \"78\", \"adm_2\": 3304557.0, \"adm_1\": \"RJ\", \"adm_0\": \"BR\", \"legend\": null}, {\"dates\": \"2023-05-14T00:00:00\", \"preds\": 593.9493001178, \"lower\": 0.0, \"upper\": 1293.7130412512, \"data\": null, \"model\": \"78\", \"adm_2\": 3304557.0, \"adm_1\": \"RJ\", \"adm_0\": \"BR\", \"legend\": null}, {\"dates\": \"2023-05-21T00:00:00\", \"preds\": 341.6071367562, \"lower\": 0.0, \"upper\": 890.2078188814, \"data\": null, \"model\": \"78\", \"adm_2\": 3304557.0, \"adm_1\": \"RJ\", \"adm_0\": \"BR\", \"legend\": null}, {\"dates\": \"2023-05-28T00:00:00\", \"preds\": 766.1951469854, \"lower\": 41.8829060107, \"upper\": 1633.4175681449, \"data\": null, \"model\": \"78\", \"adm_2\": 3304557.0, \"adm_1\": \"RJ\", \"adm_0\": \"BR\", \"legend\": null}, {\"dates\": \"2023-06-04T00:00:00\", \"preds\": 922.2149910033, \"lower\": 172.700637443, \"upper\": 1701.7459047131, \"data\": null, \"model\": \"78\", \"adm_2\": 3304557.0, \"adm_1\": \"RJ\", \"adm_0\": \"BR\", \"legend\": null}, {\"dates\": \"2023-06-11T00:00:00\", \"preds\": 693.3638638854, \"lower\": 56.4668219537, \"upper\": 1421.3332394093, \"data\": null, \"model\": \"78\", \"adm_2\": 3304557.0, \"adm_1\": \"RJ\", \"adm_0\": \"BR\", \"legend\": null}, {\"dates\": \"2023-06-18T00:00:00\", \"preds\": 736.0198131949, \"lower\": 81.1291923746, \"upper\": 1725.0092463702, \"data\": null, \"model\": \"78\", \"adm_2\": 3304557.0, \"adm_1\": \"RJ\", \"adm_0\": \"BR\", \"legend\": null}, {\"dates\": \"2023-06-25T00:00:00\", \"preds\": 431.9475864768, \"lower\": 0.0, \"upper\": 1022.6256792061, \"data\": null, \"model\": \"78\", \"adm_2\": 3304557.0, \"adm_1\": \"RJ\", \"adm_0\": \"BR\", \"legend\": null}, {\"dates\": \"2022-01-02T00:00:00\", \"preds\": 21.0, \"lower\": null, \"upper\": null, \"data\": null, \"model\": \"cases\", \"adm_2\": null, \"adm_1\": null, \"adm_0\": null, \"legend\": \"Data\"}, {\"dates\": \"2022-01-09T00:00:00\", \"preds\": 14.0, \"lower\": null, \"upper\": null, \"data\": null, \"model\": \"cases\", \"adm_2\": null, \"adm_1\": null, \"adm_0\": null, \"legend\": \"Data\"}, {\"dates\": \"2022-01-16T00:00:00\", \"preds\": 22.0, \"lower\": null, \"upper\": null, \"data\": null, \"model\": \"cases\", \"adm_2\": null, \"adm_1\": null, \"adm_0\": null, \"legend\": \"Data\"}, {\"dates\": \"2022-01-23T00:00:00\", \"preds\": 19.0, \"lower\": null, \"upper\": null, \"data\": null, \"model\": \"cases\", \"adm_2\": null, \"adm_1\": null, \"adm_0\": null, \"legend\": \"Data\"}, {\"dates\": \"2022-01-30T00:00:00\", \"preds\": 31.0, \"lower\": null, \"upper\": null, \"data\": null, \"model\": \"cases\", \"adm_2\": null, \"adm_1\": null, \"adm_0\": null, \"legend\": \"Data\"}, {\"dates\": \"2022-02-06T00:00:00\", \"preds\": 35.0, \"lower\": null, \"upper\": null, \"data\": null, \"model\": \"cases\", \"adm_2\": null, \"adm_1\": null, \"adm_0\": null, \"legend\": \"Data\"}, {\"dates\": \"2022-02-13T00:00:00\", \"preds\": 47.0, \"lower\": null, \"upper\": null, \"data\": null, \"model\": \"cases\", \"adm_2\": null, \"adm_1\": null, \"adm_0\": null, \"legend\": \"Data\"}, {\"dates\": \"2022-02-20T00:00:00\", \"preds\": 62.0, \"lower\": null, \"upper\": null, \"data\": null, \"model\": \"cases\", \"adm_2\": null, \"adm_1\": null, \"adm_0\": null, \"legend\": \"Data\"}, {\"dates\": \"2022-02-27T00:00:00\", \"preds\": 66.0, \"lower\": null, \"upper\": null, \"data\": null, \"model\": \"cases\", \"adm_2\": null, \"adm_1\": null, \"adm_0\": null, \"legend\": \"Data\"}, {\"dates\": \"2022-03-06T00:00:00\", \"preds\": 116.0, \"lower\": null, \"upper\": null, \"data\": null, \"model\": \"cases\", \"adm_2\": null, \"adm_1\": null, \"adm_0\": null, \"legend\": \"Data\"}, {\"dates\": \"2022-03-13T00:00:00\", \"preds\": 126.0, \"lower\": null, \"upper\": null, \"data\": null, \"model\": \"cases\", \"adm_2\": null, \"adm_1\": null, \"adm_0\": null, \"legend\": \"Data\"}, {\"dates\": \"2022-03-20T00:00:00\", \"preds\": 177.0, \"lower\": null, \"upper\": null, \"data\": null, \"model\": \"cases\", \"adm_2\": null, \"adm_1\": null, \"adm_0\": null, \"legend\": \"Data\"}, {\"dates\": \"2022-03-27T00:00:00\", \"preds\": 153.0, \"lower\": null, \"upper\": null, \"data\": null, \"model\": \"cases\", \"adm_2\": null, \"adm_1\": null, \"adm_0\": null, \"legend\": \"Data\"}, {\"dates\": \"2022-04-03T00:00:00\", \"preds\": 222.0, \"lower\": null, \"upper\": null, \"data\": null, \"model\": \"cases\", \"adm_2\": null, \"adm_1\": null, \"adm_0\": null, \"legend\": \"Data\"}, {\"dates\": \"2022-04-10T00:00:00\", \"preds\": 201.0, \"lower\": null, \"upper\": null, \"data\": null, \"model\": \"cases\", \"adm_2\": null, \"adm_1\": null, \"adm_0\": null, \"legend\": \"Data\"}, {\"dates\": \"2022-04-17T00:00:00\", \"preds\": 234.0, \"lower\": null, \"upper\": null, \"data\": null, \"model\": \"cases\", \"adm_2\": null, \"adm_1\": null, \"adm_0\": null, \"legend\": \"Data\"}, {\"dates\": \"2022-04-24T00:00:00\", \"preds\": 342.0, \"lower\": null, \"upper\": null, \"data\": null, \"model\": \"cases\", \"adm_2\": null, \"adm_1\": null, \"adm_0\": null, \"legend\": \"Data\"}, {\"dates\": \"2022-05-01T00:00:00\", \"preds\": 461.0, \"lower\": null, \"upper\": null, \"data\": null, \"model\": \"cases\", \"adm_2\": null, \"adm_1\": null, \"adm_0\": null, \"legend\": \"Data\"}, {\"dates\": \"2022-05-08T00:00:00\", \"preds\": 505.0, \"lower\": null, \"upper\": null, \"data\": null, \"model\": \"cases\", \"adm_2\": null, \"adm_1\": null, \"adm_0\": null, \"legend\": \"Data\"}, {\"dates\": \"2022-05-15T00:00:00\", \"preds\": 406.0, \"lower\": null, \"upper\": null, \"data\": null, \"model\": \"cases\", \"adm_2\": null, \"adm_1\": null, \"adm_0\": null, \"legend\": \"Data\"}, {\"dates\": \"2022-05-22T00:00:00\", \"preds\": 400.0, \"lower\": null, \"upper\": null, \"data\": null, \"model\": \"cases\", \"adm_2\": null, \"adm_1\": null, \"adm_0\": null, \"legend\": \"Data\"}, {\"dates\": \"2022-05-29T00:00:00\", \"preds\": 338.0, \"lower\": null, \"upper\": null, \"data\": null, \"model\": \"cases\", \"adm_2\": null, \"adm_1\": null, \"adm_0\": null, \"legend\": \"Data\"}, {\"dates\": \"2022-06-05T00:00:00\", \"preds\": 255.0, \"lower\": null, \"upper\": null, \"data\": null, \"model\": \"cases\", \"adm_2\": null, \"adm_1\": null, \"adm_0\": null, \"legend\": \"Data\"}, {\"dates\": \"2022-06-12T00:00:00\", \"preds\": 153.0, \"lower\": null, \"upper\": null, \"data\": null, \"model\": \"cases\", \"adm_2\": null, \"adm_1\": null, \"adm_0\": null, \"legend\": \"Data\"}, {\"dates\": \"2022-06-19T00:00:00\", \"preds\": 209.0, \"lower\": null, \"upper\": null, \"data\": null, \"model\": \"cases\", \"adm_2\": null, \"adm_1\": null, \"adm_0\": null, \"legend\": \"Data\"}, {\"dates\": \"2022-06-26T00:00:00\", \"preds\": 189.0, \"lower\": null, \"upper\": null, \"data\": null, \"model\": \"cases\", \"adm_2\": null, \"adm_1\": null, \"adm_0\": null, \"legend\": \"Data\"}, {\"dates\": \"2022-07-03T00:00:00\", \"preds\": 155.0, \"lower\": null, \"upper\": null, \"data\": null, \"model\": \"cases\", \"adm_2\": null, \"adm_1\": null, \"adm_0\": null, \"legend\": \"Data\"}, {\"dates\": \"2022-07-10T00:00:00\", \"preds\": 144.0, \"lower\": null, \"upper\": null, \"data\": null, \"model\": \"cases\", \"adm_2\": null, \"adm_1\": null, \"adm_0\": null, \"legend\": \"Data\"}, {\"dates\": \"2022-07-17T00:00:00\", \"preds\": 194.0, \"lower\": null, \"upper\": null, \"data\": null, \"model\": \"cases\", \"adm_2\": null, \"adm_1\": null, \"adm_0\": null, \"legend\": \"Data\"}, {\"dates\": \"2022-07-24T00:00:00\", \"preds\": 148.0, \"lower\": null, \"upper\": null, \"data\": null, \"model\": \"cases\", \"adm_2\": null, \"adm_1\": null, \"adm_0\": null, \"legend\": \"Data\"}, {\"dates\": \"2022-07-31T00:00:00\", \"preds\": 145.0, \"lower\": null, \"upper\": null, \"data\": null, \"model\": \"cases\", \"adm_2\": null, \"adm_1\": null, \"adm_0\": null, \"legend\": \"Data\"}, {\"dates\": \"2022-08-07T00:00:00\", \"preds\": 106.0, \"lower\": null, \"upper\": null, \"data\": null, \"model\": \"cases\", \"adm_2\": null, \"adm_1\": null, \"adm_0\": null, \"legend\": \"Data\"}, {\"dates\": \"2022-08-14T00:00:00\", \"preds\": 110.0, \"lower\": null, \"upper\": null, \"data\": null, \"model\": \"cases\", \"adm_2\": null, \"adm_1\": null, \"adm_0\": null, \"legend\": \"Data\"}, {\"dates\": \"2022-08-21T00:00:00\", \"preds\": 99.0, \"lower\": null, \"upper\": null, \"data\": null, \"model\": \"cases\", \"adm_2\": null, \"adm_1\": null, \"adm_0\": null, \"legend\": \"Data\"}, {\"dates\": \"2022-08-28T00:00:00\", \"preds\": 94.0, \"lower\": null, \"upper\": null, \"data\": null, \"model\": \"cases\", \"adm_2\": null, \"adm_1\": null, \"adm_0\": null, \"legend\": \"Data\"}, {\"dates\": \"2022-09-04T00:00:00\", \"preds\": 101.0, \"lower\": null, \"upper\": null, \"data\": null, \"model\": \"cases\", \"adm_2\": null, \"adm_1\": null, \"adm_0\": null, \"legend\": \"Data\"}, {\"dates\": \"2022-09-11T00:00:00\", \"preds\": 120.0, \"lower\": null, \"upper\": null, \"data\": null, \"model\": \"cases\", \"adm_2\": null, \"adm_1\": null, \"adm_0\": null, \"legend\": \"Data\"}, {\"dates\": \"2022-09-18T00:00:00\", \"preds\": 102.0, \"lower\": null, \"upper\": null, \"data\": null, \"model\": \"cases\", \"adm_2\": null, \"adm_1\": null, \"adm_0\": null, \"legend\": \"Data\"}, {\"dates\": \"2022-09-25T00:00:00\", \"preds\": 95.0, \"lower\": null, \"upper\": null, \"data\": null, \"model\": \"cases\", \"adm_2\": null, \"adm_1\": null, \"adm_0\": null, \"legend\": \"Data\"}, {\"dates\": \"2022-10-02T00:00:00\", \"preds\": 102.0, \"lower\": null, \"upper\": null, \"data\": null, \"model\": \"cases\", \"adm_2\": null, \"adm_1\": null, \"adm_0\": null, \"legend\": \"Data\"}, {\"dates\": \"2022-10-09T00:00:00\", \"preds\": 123.0, \"lower\": null, \"upper\": null, \"data\": null, \"model\": \"cases\", \"adm_2\": null, \"adm_1\": null, \"adm_0\": null, \"legend\": \"Data\"}, {\"dates\": \"2022-10-16T00:00:00\", \"preds\": 160.0, \"lower\": null, \"upper\": null, \"data\": null, \"model\": \"cases\", \"adm_2\": null, \"adm_1\": null, \"adm_0\": null, \"legend\": \"Data\"}, {\"dates\": \"2022-10-23T00:00:00\", \"preds\": 139.0, \"lower\": null, \"upper\": null, \"data\": null, \"model\": \"cases\", \"adm_2\": null, \"adm_1\": null, \"adm_0\": null, \"legend\": \"Data\"}, {\"dates\": \"2022-10-30T00:00:00\", \"preds\": 131.0, \"lower\": null, \"upper\": null, \"data\": null, \"model\": \"cases\", \"adm_2\": null, \"adm_1\": null, \"adm_0\": null, \"legend\": \"Data\"}, {\"dates\": \"2022-11-06T00:00:00\", \"preds\": 171.0, \"lower\": null, \"upper\": null, \"data\": null, \"model\": \"cases\", \"adm_2\": null, \"adm_1\": null, \"adm_0\": null, \"legend\": \"Data\"}, {\"dates\": \"2022-11-13T00:00:00\", \"preds\": 129.0, \"lower\": null, \"upper\": null, \"data\": null, \"model\": \"cases\", \"adm_2\": null, \"adm_1\": null, \"adm_0\": null, \"legend\": \"Data\"}, {\"dates\": \"2022-11-20T00:00:00\", \"preds\": 94.0, \"lower\": null, \"upper\": null, \"data\": null, \"model\": \"cases\", \"adm_2\": null, \"adm_1\": null, \"adm_0\": null, \"legend\": \"Data\"}, {\"dates\": \"2022-11-27T00:00:00\", \"preds\": 86.0, \"lower\": null, \"upper\": null, \"data\": null, \"model\": \"cases\", \"adm_2\": null, \"adm_1\": null, \"adm_0\": null, \"legend\": \"Data\"}, {\"dates\": \"2022-12-04T00:00:00\", \"preds\": 98.0, \"lower\": null, \"upper\": null, \"data\": null, \"model\": \"cases\", \"adm_2\": null, \"adm_1\": null, \"adm_0\": null, \"legend\": \"Data\"}, {\"dates\": \"2022-12-11T00:00:00\", \"preds\": 123.0, \"lower\": null, \"upper\": null, \"data\": null, \"model\": \"cases\", \"adm_2\": null, \"adm_1\": null, \"adm_0\": null, \"legend\": \"Data\"}, {\"dates\": \"2022-12-18T00:00:00\", \"preds\": 117.0, \"lower\": null, \"upper\": null, \"data\": null, \"model\": \"cases\", \"adm_2\": null, \"adm_1\": null, \"adm_0\": null, \"legend\": \"Data\"}, {\"dates\": \"2022-12-25T00:00:00\", \"preds\": 163.0, \"lower\": null, \"upper\": null, \"data\": null, \"model\": \"cases\", \"adm_2\": null, \"adm_1\": null, \"adm_0\": null, \"legend\": \"Data\"}, {\"dates\": \"2023-01-01T00:00:00\", \"preds\": 230.0, \"lower\": null, \"upper\": null, \"data\": null, \"model\": \"cases\", \"adm_2\": null, \"adm_1\": null, \"adm_0\": null, \"legend\": \"Data\"}, {\"dates\": \"2023-01-08T00:00:00\", \"preds\": 218.0, \"lower\": null, \"upper\": null, \"data\": null, \"model\": \"cases\", \"adm_2\": null, \"adm_1\": null, \"adm_0\": null, \"legend\": \"Data\"}, {\"dates\": \"2023-01-15T00:00:00\", \"preds\": 246.0, \"lower\": null, \"upper\": null, \"data\": null, \"model\": \"cases\", \"adm_2\": null, \"adm_1\": null, \"adm_0\": null, \"legend\": \"Data\"}, {\"dates\": \"2023-01-22T00:00:00\", \"preds\": 312.0, \"lower\": null, \"upper\": null, \"data\": null, \"model\": \"cases\", \"adm_2\": null, \"adm_1\": null, \"adm_0\": null, \"legend\": \"Data\"}, {\"dates\": \"2023-01-29T00:00:00\", \"preds\": 383.0, \"lower\": null, \"upper\": null, \"data\": null, \"model\": \"cases\", \"adm_2\": null, \"adm_1\": null, \"adm_0\": null, \"legend\": \"Data\"}, {\"dates\": \"2023-02-05T00:00:00\", \"preds\": 525.0, \"lower\": null, \"upper\": null, \"data\": null, \"model\": \"cases\", \"adm_2\": null, \"adm_1\": null, \"adm_0\": null, \"legend\": \"Data\"}, {\"dates\": \"2023-02-12T00:00:00\", \"preds\": 372.0, \"lower\": null, \"upper\": null, \"data\": null, \"model\": \"cases\", \"adm_2\": null, \"adm_1\": null, \"adm_0\": null, \"legend\": \"Data\"}, {\"dates\": \"2023-02-19T00:00:00\", \"preds\": 507.0, \"lower\": null, \"upper\": null, \"data\": null, \"model\": \"cases\", \"adm_2\": null, \"adm_1\": null, \"adm_0\": null, \"legend\": \"Data\"}, {\"dates\": \"2023-02-26T00:00:00\", \"preds\": 870.0, \"lower\": null, \"upper\": null, \"data\": null, \"model\": \"cases\", \"adm_2\": null, \"adm_1\": null, \"adm_0\": null, \"legend\": \"Data\"}, {\"dates\": \"2023-03-05T00:00:00\", \"preds\": 945.0, \"lower\": null, \"upper\": null, \"data\": null, \"model\": \"cases\", \"adm_2\": null, \"adm_1\": null, \"adm_0\": null, \"legend\": \"Data\"}, {\"dates\": \"2023-03-12T00:00:00\", \"preds\": 1125.0, \"lower\": null, \"upper\": null, \"data\": null, \"model\": \"cases\", \"adm_2\": null, \"adm_1\": null, \"adm_0\": null, \"legend\": \"Data\"}, {\"dates\": \"2023-03-19T00:00:00\", \"preds\": 1382.0, \"lower\": null, \"upper\": null, \"data\": null, \"model\": \"cases\", \"adm_2\": null, \"adm_1\": null, \"adm_0\": null, \"legend\": \"Data\"}, {\"dates\": \"2023-03-26T00:00:00\", \"preds\": 1580.0, \"lower\": null, \"upper\": null, \"data\": null, \"model\": \"cases\", \"adm_2\": null, \"adm_1\": null, \"adm_0\": null, \"legend\": \"Data\"}, {\"dates\": \"2023-04-02T00:00:00\", \"preds\": 1420.0, \"lower\": null, \"upper\": null, \"data\": null, \"model\": \"cases\", \"adm_2\": null, \"adm_1\": null, \"adm_0\": null, \"legend\": \"Data\"}, {\"dates\": \"2023-04-09T00:00:00\", \"preds\": 1783.0, \"lower\": null, \"upper\": null, \"data\": null, \"model\": \"cases\", \"adm_2\": null, \"adm_1\": null, \"adm_0\": null, \"legend\": \"Data\"}, {\"dates\": \"2023-04-16T00:00:00\", \"preds\": 1502.0, \"lower\": null, \"upper\": null, \"data\": null, \"model\": \"cases\", \"adm_2\": null, \"adm_1\": null, \"adm_0\": null, \"legend\": \"Data\"}, {\"dates\": \"2023-04-23T00:00:00\", \"preds\": 1572.0, \"lower\": null, \"upper\": null, \"data\": null, \"model\": \"cases\", \"adm_2\": null, \"adm_1\": null, \"adm_0\": null, \"legend\": \"Data\"}, {\"dates\": \"2023-04-30T00:00:00\", \"preds\": 1919.0, \"lower\": null, \"upper\": null, \"data\": null, \"model\": \"cases\", \"adm_2\": null, \"adm_1\": null, \"adm_0\": null, \"legend\": \"Data\"}, {\"dates\": \"2023-05-07T00:00:00\", \"preds\": 1807.0, \"lower\": null, \"upper\": null, \"data\": null, \"model\": \"cases\", \"adm_2\": null, \"adm_1\": null, \"adm_0\": null, \"legend\": \"Data\"}, {\"dates\": \"2023-05-14T00:00:00\", \"preds\": 1731.0, \"lower\": null, \"upper\": null, \"data\": null, \"model\": \"cases\", \"adm_2\": null, \"adm_1\": null, \"adm_0\": null, \"legend\": \"Data\"}, {\"dates\": \"2023-05-21T00:00:00\", \"preds\": 1479.0, \"lower\": null, \"upper\": null, \"data\": null, \"model\": \"cases\", \"adm_2\": null, \"adm_1\": null, \"adm_0\": null, \"legend\": \"Data\"}, {\"dates\": \"2023-05-28T00:00:00\", \"preds\": 1328.0, \"lower\": null, \"upper\": null, \"data\": null, \"model\": \"cases\", \"adm_2\": null, \"adm_1\": null, \"adm_0\": null, \"legend\": \"Data\"}, {\"dates\": \"2023-06-04T00:00:00\", \"preds\": 1238.0, \"lower\": null, \"upper\": null, \"data\": null, \"model\": \"cases\", \"adm_2\": null, \"adm_1\": null, \"adm_0\": null, \"legend\": \"Data\"}, {\"dates\": \"2023-06-11T00:00:00\", \"preds\": 1348.0, \"lower\": null, \"upper\": null, \"data\": null, \"model\": \"cases\", \"adm_2\": null, \"adm_1\": null, \"adm_0\": null, \"legend\": \"Data\"}, {\"dates\": \"2023-06-18T00:00:00\", \"preds\": 1236.0, \"lower\": null, \"upper\": null, \"data\": null, \"model\": \"cases\", \"adm_2\": null, \"adm_1\": null, \"adm_0\": null, \"legend\": \"Data\"}, {\"dates\": \"2023-06-25T00:00:00\", \"preds\": 996.0, \"lower\": null, \"upper\": null, \"data\": null, \"model\": \"cases\", \"adm_2\": null, \"adm_1\": null, \"adm_0\": null, \"legend\": \"Data\"}]}}, {\"mode\": \"vega-lite\"});\n",
       "</script>"
      ],
      "text/plain": [
       "alt.LayerChart(...)"
      ]
     },
     "execution_count": 18,
     "metadata": {},
     "output_type": "execute_result"
    }
   ],
   "source": [
    "score.plot_predictions()"
   ]
  },
  {
   "cell_type": "markdown",
   "id": "8224670a",
   "metadata": {},
   "source": []
  },
  {
   "cell_type": "markdown",
   "id": "80130240",
   "metadata": {},
   "source": [
    "The class will select the bigger range of dates that contains information about each prediction dataframe. If you want to see the model's performance in a lower range, use the method below. The new range of dates provided must be between `score.min_date` and `score.max_date`. Otherwise, it will return an error."
   ]
  },
  {
   "cell_type": "code",
   "execution_count": 19,
   "id": "3360e7a4",
   "metadata": {},
   "outputs": [],
   "source": [
    "score.set_date_range(start_date = '2023-01-01', end_date='2023-06-01' )"
   ]
  },
  {
   "cell_type": "markdown",
   "id": "007d8cae",
   "metadata": {},
   "source": [
    "In this case:"
   ]
  },
  {
   "cell_type": "code",
   "execution_count": 20,
   "id": "1f5cb4ef",
   "metadata": {},
   "outputs": [
    {
     "data": {
      "text/html": [
       "<div>\n",
       "<style scoped>\n",
       "    .dataframe tbody tr th:only-of-type {\n",
       "        vertical-align: middle;\n",
       "    }\n",
       "\n",
       "    .dataframe tbody tr th {\n",
       "        vertical-align: top;\n",
       "    }\n",
       "\n",
       "    .dataframe thead th {\n",
       "        text-align: right;\n",
       "    }\n",
       "</style>\n",
       "<table border=\"1\" class=\"dataframe\">\n",
       "  <thead>\n",
       "    <tr style=\"text-align: right;\">\n",
       "      <th></th>\n",
       "      <th>mae</th>\n",
       "      <th>mse</th>\n",
       "      <th>crps</th>\n",
       "      <th>log_score</th>\n",
       "    </tr>\n",
       "    <tr>\n",
       "      <th>id</th>\n",
       "      <th></th>\n",
       "      <th></th>\n",
       "      <th></th>\n",
       "      <th></th>\n",
       "    </tr>\n",
       "  </thead>\n",
       "  <tbody>\n",
       "    <tr>\n",
       "      <th>preds</th>\n",
       "      <td>224.815445</td>\n",
       "      <td>90991.184771</td>\n",
       "      <td>264.948373</td>\n",
       "      <td>-7.430784</td>\n",
       "    </tr>\n",
       "    <tr>\n",
       "      <th>77</th>\n",
       "      <td>204.412273</td>\n",
       "      <td>76788.430632</td>\n",
       "      <td>179.290006</td>\n",
       "      <td>-7.322140</td>\n",
       "    </tr>\n",
       "    <tr>\n",
       "      <th>78</th>\n",
       "      <td>588.199306</td>\n",
       "      <td>506643.235469</td>\n",
       "      <td>457.150661</td>\n",
       "      <td>-9.203940</td>\n",
       "    </tr>\n",
       "  </tbody>\n",
       "</table>\n",
       "</div>"
      ],
      "text/plain": [
       "              mae            mse        crps  log_score\n",
       "id                                                     \n",
       "preds  224.815445   90991.184771  264.948373  -7.430784\n",
       "77     204.412273   76788.430632  179.290006  -7.322140\n",
       "78     588.199306  506643.235469  457.150661  -9.203940"
      ]
     },
     "execution_count": 20,
     "metadata": {},
     "output_type": "execute_result"
    }
   ],
   "source": [
    "score.summary"
   ]
  },
  {
   "cell_type": "code",
   "execution_count": 21,
   "id": "33838076",
   "metadata": {},
   "outputs": [
    {
     "data": {
      "text/html": [
       "\n",
       "<style>\n",
       "  #altair-viz-e7b229abe690434d9f9b92395ef0ff06.vega-embed {\n",
       "    width: 100%;\n",
       "    display: flex;\n",
       "  }\n",
       "\n",
       "  #altair-viz-e7b229abe690434d9f9b92395ef0ff06.vega-embed details,\n",
       "  #altair-viz-e7b229abe690434d9f9b92395ef0ff06.vega-embed details summary {\n",
       "    position: relative;\n",
       "  }\n",
       "</style>\n",
       "<div id=\"altair-viz-e7b229abe690434d9f9b92395ef0ff06\"></div>\n",
       "<script type=\"text/javascript\">\n",
       "  var VEGA_DEBUG = (typeof VEGA_DEBUG == \"undefined\") ? {} : VEGA_DEBUG;\n",
       "  (function(spec, embedOpt){\n",
       "    let outputDiv = document.currentScript.previousElementSibling;\n",
       "    if (outputDiv.id !== \"altair-viz-e7b229abe690434d9f9b92395ef0ff06\") {\n",
       "      outputDiv = document.getElementById(\"altair-viz-e7b229abe690434d9f9b92395ef0ff06\");\n",
       "    }\n",
       "    const paths = {\n",
       "      \"vega\": \"https://cdn.jsdelivr.net/npm/vega@5?noext\",\n",
       "      \"vega-lib\": \"https://cdn.jsdelivr.net/npm/vega-lib?noext\",\n",
       "      \"vega-lite\": \"https://cdn.jsdelivr.net/npm/vega-lite@5.17.0?noext\",\n",
       "      \"vega-embed\": \"https://cdn.jsdelivr.net/npm/vega-embed@6?noext\",\n",
       "    };\n",
       "\n",
       "    function maybeLoadScript(lib, version) {\n",
       "      var key = `${lib.replace(\"-\", \"\")}_version`;\n",
       "      return (VEGA_DEBUG[key] == version) ?\n",
       "        Promise.resolve(paths[lib]) :\n",
       "        new Promise(function(resolve, reject) {\n",
       "          var s = document.createElement('script');\n",
       "          document.getElementsByTagName(\"head\")[0].appendChild(s);\n",
       "          s.async = true;\n",
       "          s.onload = () => {\n",
       "            VEGA_DEBUG[key] = version;\n",
       "            return resolve(paths[lib]);\n",
       "          };\n",
       "          s.onerror = () => reject(`Error loading script: ${paths[lib]}`);\n",
       "          s.src = paths[lib];\n",
       "        });\n",
       "    }\n",
       "\n",
       "    function showError(err) {\n",
       "      outputDiv.innerHTML = `<div class=\"error\" style=\"color:red;\">${err}</div>`;\n",
       "      throw err;\n",
       "    }\n",
       "\n",
       "    function displayChart(vegaEmbed) {\n",
       "      vegaEmbed(outputDiv, spec, embedOpt)\n",
       "        .catch(err => showError(`Javascript Error: ${err.message}<br>This usually means there's a typo in your chart specification. See the javascript console for the full traceback.`));\n",
       "    }\n",
       "\n",
       "    if(typeof define === \"function\" && define.amd) {\n",
       "      requirejs.config({paths});\n",
       "      require([\"vega-embed\"], displayChart, err => showError(`Error loading script: ${err.message}`));\n",
       "    } else {\n",
       "      maybeLoadScript(\"vega\", \"5\")\n",
       "        .then(() => maybeLoadScript(\"vega-lite\", \"5.17.0\"))\n",
       "        .then(() => maybeLoadScript(\"vega-embed\", \"6\"))\n",
       "        .catch(showError)\n",
       "        .then(() => displayChart(vegaEmbed));\n",
       "    }\n",
       "  })({\"config\": {\"view\": {\"continuousWidth\": 300, \"continuousHeight\": 300}}, \"vconcat\": [{\"data\": {\"name\": \"data-1fff263b8dfc65f577a4f4b19354459e\"}, \"mark\": {\"type\": \"line\"}, \"encoding\": {\"color\": {\"value\": \"black\"}, \"x\": {\"field\": \"dates\", \"type\": \"temporal\"}, \"y\": {\"field\": \"casos\", \"type\": \"quantitative\"}}, \"height\": 150, \"title\": \"New cases\", \"width\": 400}, {\"layer\": [{\"mark\": {\"type\": \"point\", \"filled\": false}, \"encoding\": {\"color\": {\"field\": \"variable\", \"legend\": {\"legendX\": 100}, \"type\": \"nominal\"}, \"x\": {\"field\": \"dates\", \"type\": \"temporal\"}, \"y\": {\"field\": \"log_score\", \"type\": \"quantitative\"}}}, {\"mark\": {\"type\": \"point\"}, \"encoding\": {\"color\": {\"field\": \"variable\", \"legend\": {\"legendX\": 100}, \"type\": \"nominal\"}, \"opacity\": {\"condition\": {\"param\": \"param_4\", \"value\": 1, \"empty\": false}, \"value\": 0}, \"x\": {\"field\": \"dates\", \"type\": \"temporal\"}, \"y\": {\"field\": \"log_score\", \"type\": \"quantitative\"}}}, {\"mark\": {\"type\": \"rule\", \"color\": \"gray\"}, \"encoding\": {\"opacity\": {\"condition\": {\"param\": \"param_4\", \"value\": 0.3, \"empty\": false}, \"value\": 0}, \"tooltip\": [{\"field\": \"dates\", \"title\": \"Date\", \"type\": \"temporal\"}, {\"field\": \"preds\", \"format\": \".2f\", \"type\": \"quantitative\"}, {\"field\": \"77\", \"format\": \".2f\", \"type\": \"quantitative\"}, {\"field\": \"78\", \"format\": \".2f\", \"type\": \"quantitative\"}], \"x\": {\"field\": \"dates\", \"type\": \"temporal\"}}, \"name\": \"view_4\", \"transform\": [{\"pivot\": \"variable\", \"value\": \"log_score\", \"groupby\": [\"dates\"]}]}], \"data\": {\"name\": \"data-a92cc1db5e759a5a73e643c12a721e7d\"}, \"height\": 250, \"title\": {\"text\": \"Log score\", \"subtitle\": \"Bigger is better\"}, \"width\": 400}], \"params\": [{\"name\": \"param_4\", \"select\": {\"type\": \"point\", \"fields\": [\"dates\"], \"nearest\": true, \"on\": \"pointerover\"}, \"views\": [\"view_4\"]}], \"$schema\": \"https://vega.github.io/schema/vega-lite/v5.17.0.json\", \"datasets\": {\"data-1fff263b8dfc65f577a4f4b19354459e\": [{\"dates\": \"2022-01-02T00:00:00\", \"casos\": 21.0, \"legend\": \"Data\"}, {\"dates\": \"2022-01-09T00:00:00\", \"casos\": 14.0, \"legend\": \"Data\"}, {\"dates\": \"2022-01-16T00:00:00\", \"casos\": 22.0, \"legend\": \"Data\"}, {\"dates\": \"2022-01-23T00:00:00\", \"casos\": 19.0, \"legend\": \"Data\"}, {\"dates\": \"2022-01-30T00:00:00\", \"casos\": 31.0, \"legend\": \"Data\"}, {\"dates\": \"2022-02-06T00:00:00\", \"casos\": 35.0, \"legend\": \"Data\"}, {\"dates\": \"2022-02-13T00:00:00\", \"casos\": 47.0, \"legend\": \"Data\"}, {\"dates\": \"2022-02-20T00:00:00\", \"casos\": 62.0, \"legend\": \"Data\"}, {\"dates\": \"2022-02-27T00:00:00\", \"casos\": 66.0, \"legend\": \"Data\"}, {\"dates\": \"2022-03-06T00:00:00\", \"casos\": 116.0, \"legend\": \"Data\"}, {\"dates\": \"2022-03-13T00:00:00\", \"casos\": 126.0, \"legend\": \"Data\"}, {\"dates\": \"2022-03-20T00:00:00\", \"casos\": 177.0, \"legend\": \"Data\"}, {\"dates\": \"2022-03-27T00:00:00\", \"casos\": 153.0, \"legend\": \"Data\"}, {\"dates\": \"2022-04-03T00:00:00\", \"casos\": 222.0, \"legend\": \"Data\"}, {\"dates\": \"2022-04-10T00:00:00\", \"casos\": 201.0, \"legend\": \"Data\"}, {\"dates\": \"2022-04-17T00:00:00\", \"casos\": 234.0, \"legend\": \"Data\"}, {\"dates\": \"2022-04-24T00:00:00\", \"casos\": 342.0, \"legend\": \"Data\"}, {\"dates\": \"2022-05-01T00:00:00\", \"casos\": 461.0, \"legend\": \"Data\"}, {\"dates\": \"2022-05-08T00:00:00\", \"casos\": 505.0, \"legend\": \"Data\"}, {\"dates\": \"2022-05-15T00:00:00\", \"casos\": 406.0, \"legend\": \"Data\"}, {\"dates\": \"2022-05-22T00:00:00\", \"casos\": 400.0, \"legend\": \"Data\"}, {\"dates\": \"2022-05-29T00:00:00\", \"casos\": 338.0, \"legend\": \"Data\"}, {\"dates\": \"2022-06-05T00:00:00\", \"casos\": 255.0, \"legend\": \"Data\"}, {\"dates\": \"2022-06-12T00:00:00\", \"casos\": 153.0, \"legend\": \"Data\"}, {\"dates\": \"2022-06-19T00:00:00\", \"casos\": 209.0, \"legend\": \"Data\"}, {\"dates\": \"2022-06-26T00:00:00\", \"casos\": 189.0, \"legend\": \"Data\"}, {\"dates\": \"2022-07-03T00:00:00\", \"casos\": 155.0, \"legend\": \"Data\"}, {\"dates\": \"2022-07-10T00:00:00\", \"casos\": 144.0, \"legend\": \"Data\"}, {\"dates\": \"2022-07-17T00:00:00\", \"casos\": 194.0, \"legend\": \"Data\"}, {\"dates\": \"2022-07-24T00:00:00\", \"casos\": 148.0, \"legend\": \"Data\"}, {\"dates\": \"2022-07-31T00:00:00\", \"casos\": 145.0, \"legend\": \"Data\"}, {\"dates\": \"2022-08-07T00:00:00\", \"casos\": 106.0, \"legend\": \"Data\"}, {\"dates\": \"2022-08-14T00:00:00\", \"casos\": 110.0, \"legend\": \"Data\"}, {\"dates\": \"2022-08-21T00:00:00\", \"casos\": 99.0, \"legend\": \"Data\"}, {\"dates\": \"2022-08-28T00:00:00\", \"casos\": 94.0, \"legend\": \"Data\"}, {\"dates\": \"2022-09-04T00:00:00\", \"casos\": 101.0, \"legend\": \"Data\"}, {\"dates\": \"2022-09-11T00:00:00\", \"casos\": 120.0, \"legend\": \"Data\"}, {\"dates\": \"2022-09-18T00:00:00\", \"casos\": 102.0, \"legend\": \"Data\"}, {\"dates\": \"2022-09-25T00:00:00\", \"casos\": 95.0, \"legend\": \"Data\"}, {\"dates\": \"2022-10-02T00:00:00\", \"casos\": 102.0, \"legend\": \"Data\"}, {\"dates\": \"2022-10-09T00:00:00\", \"casos\": 123.0, \"legend\": \"Data\"}, {\"dates\": \"2022-10-16T00:00:00\", \"casos\": 160.0, \"legend\": \"Data\"}, {\"dates\": \"2022-10-23T00:00:00\", \"casos\": 139.0, \"legend\": \"Data\"}, {\"dates\": \"2022-10-30T00:00:00\", \"casos\": 131.0, \"legend\": \"Data\"}, {\"dates\": \"2022-11-06T00:00:00\", \"casos\": 171.0, \"legend\": \"Data\"}, {\"dates\": \"2022-11-13T00:00:00\", \"casos\": 129.0, \"legend\": \"Data\"}, {\"dates\": \"2022-11-20T00:00:00\", \"casos\": 94.0, \"legend\": \"Data\"}, {\"dates\": \"2022-11-27T00:00:00\", \"casos\": 86.0, \"legend\": \"Data\"}, {\"dates\": \"2022-12-04T00:00:00\", \"casos\": 98.0, \"legend\": \"Data\"}, {\"dates\": \"2022-12-11T00:00:00\", \"casos\": 123.0, \"legend\": \"Data\"}, {\"dates\": \"2022-12-18T00:00:00\", \"casos\": 117.0, \"legend\": \"Data\"}, {\"dates\": \"2022-12-25T00:00:00\", \"casos\": 163.0, \"legend\": \"Data\"}, {\"dates\": \"2023-01-01T00:00:00\", \"casos\": 230.0, \"legend\": \"Data\"}, {\"dates\": \"2023-01-08T00:00:00\", \"casos\": 218.0, \"legend\": \"Data\"}, {\"dates\": \"2023-01-15T00:00:00\", \"casos\": 246.0, \"legend\": \"Data\"}, {\"dates\": \"2023-01-22T00:00:00\", \"casos\": 312.0, \"legend\": \"Data\"}, {\"dates\": \"2023-01-29T00:00:00\", \"casos\": 383.0, \"legend\": \"Data\"}, {\"dates\": \"2023-02-05T00:00:00\", \"casos\": 525.0, \"legend\": \"Data\"}, {\"dates\": \"2023-02-12T00:00:00\", \"casos\": 372.0, \"legend\": \"Data\"}, {\"dates\": \"2023-02-19T00:00:00\", \"casos\": 507.0, \"legend\": \"Data\"}, {\"dates\": \"2023-02-26T00:00:00\", \"casos\": 870.0, \"legend\": \"Data\"}, {\"dates\": \"2023-03-05T00:00:00\", \"casos\": 945.0, \"legend\": \"Data\"}, {\"dates\": \"2023-03-12T00:00:00\", \"casos\": 1125.0, \"legend\": \"Data\"}, {\"dates\": \"2023-03-19T00:00:00\", \"casos\": 1382.0, \"legend\": \"Data\"}, {\"dates\": \"2023-03-26T00:00:00\", \"casos\": 1580.0, \"legend\": \"Data\"}, {\"dates\": \"2023-04-02T00:00:00\", \"casos\": 1420.0, \"legend\": \"Data\"}, {\"dates\": \"2023-04-09T00:00:00\", \"casos\": 1783.0, \"legend\": \"Data\"}, {\"dates\": \"2023-04-16T00:00:00\", \"casos\": 1502.0, \"legend\": \"Data\"}, {\"dates\": \"2023-04-23T00:00:00\", \"casos\": 1572.0, \"legend\": \"Data\"}, {\"dates\": \"2023-04-30T00:00:00\", \"casos\": 1919.0, \"legend\": \"Data\"}, {\"dates\": \"2023-05-07T00:00:00\", \"casos\": 1807.0, \"legend\": \"Data\"}, {\"dates\": \"2023-05-14T00:00:00\", \"casos\": 1731.0, \"legend\": \"Data\"}, {\"dates\": \"2023-05-21T00:00:00\", \"casos\": 1479.0, \"legend\": \"Data\"}, {\"dates\": \"2023-05-28T00:00:00\", \"casos\": 1328.0, \"legend\": \"Data\"}, {\"dates\": \"2023-06-04T00:00:00\", \"casos\": 1238.0, \"legend\": \"Data\"}, {\"dates\": \"2023-06-11T00:00:00\", \"casos\": 1348.0, \"legend\": \"Data\"}, {\"dates\": \"2023-06-18T00:00:00\", \"casos\": 1236.0, \"legend\": \"Data\"}, {\"dates\": \"2023-06-25T00:00:00\", \"casos\": 996.0, \"legend\": \"Data\"}], \"data-a92cc1db5e759a5a73e643c12a721e7d\": [{\"dates\": \"2023-01-01T00:00:00\", \"variable\": \"preds\", \"log_score\": -5.895621437374984}, {\"dates\": \"2023-01-08T00:00:00\", \"variable\": \"preds\", \"log_score\": -5.580524724501446}, {\"dates\": \"2023-01-15T00:00:00\", \"variable\": \"preds\", \"log_score\": -5.927025818498744}, {\"dates\": \"2023-01-22T00:00:00\", \"variable\": \"preds\", \"log_score\": -6.415578802987065}, {\"dates\": \"2023-01-29T00:00:00\", \"variable\": \"preds\", \"log_score\": -5.947110762711469}, {\"dates\": \"2023-02-05T00:00:00\", \"variable\": \"preds\", \"log_score\": -6.701365543298542}, {\"dates\": \"2023-02-12T00:00:00\", \"variable\": \"preds\", \"log_score\": -6.530347679066207}, {\"dates\": \"2023-02-19T00:00:00\", \"variable\": \"preds\", \"log_score\": -6.918148302547534}, {\"dates\": \"2023-02-26T00:00:00\", \"variable\": \"preds\", \"log_score\": -7.842557376512957}, {\"dates\": \"2023-03-05T00:00:00\", \"variable\": \"preds\", \"log_score\": -7.569671682416051}, {\"dates\": \"2023-03-12T00:00:00\", \"variable\": \"preds\", \"log_score\": -7.883065253277547}, {\"dates\": \"2023-03-19T00:00:00\", \"variable\": \"preds\", \"log_score\": -8.243267826774574}, {\"dates\": \"2023-03-26T00:00:00\", \"variable\": \"preds\", \"log_score\": -7.575482991675537}, {\"dates\": \"2023-04-02T00:00:00\", \"variable\": \"preds\", \"log_score\": -8.001347306592269}, {\"dates\": \"2023-04-09T00:00:00\", \"variable\": \"preds\", \"log_score\": -8.429629668230744}, {\"dates\": \"2023-04-16T00:00:00\", \"variable\": \"preds\", \"log_score\": -8.807232604718996}, {\"dates\": \"2023-04-23T00:00:00\", \"variable\": \"preds\", \"log_score\": -7.72447124667914}, {\"dates\": \"2023-04-30T00:00:00\", \"variable\": \"preds\", \"log_score\": -8.096123007147618}, {\"dates\": \"2023-05-07T00:00:00\", \"variable\": \"preds\", \"log_score\": -8.484365685851364}, {\"dates\": \"2023-05-14T00:00:00\", \"variable\": \"preds\", \"log_score\": -8.822777815160972}, {\"dates\": \"2023-05-21T00:00:00\", \"variable\": \"preds\", \"log_score\": -7.858234322986967}, {\"dates\": \"2023-05-28T00:00:00\", \"variable\": \"preds\", \"log_score\": -8.22328744853195}, {\"dates\": \"2023-01-01T00:00:00\", \"variable\": \"77\", \"log_score\": -7.060574003584756}, {\"dates\": \"2023-01-08T00:00:00\", \"variable\": \"77\", \"log_score\": -7.045223726011194}, {\"dates\": \"2023-01-15T00:00:00\", \"variable\": \"77\", \"log_score\": -6.7194951926085675}, {\"dates\": \"2023-01-22T00:00:00\", \"variable\": \"77\", \"log_score\": -6.690525516728642}, {\"dates\": \"2023-01-29T00:00:00\", \"variable\": \"77\", \"log_score\": -6.862813241341016}, {\"dates\": \"2023-02-05T00:00:00\", \"variable\": \"77\", \"log_score\": -6.823837291109028}, {\"dates\": \"2023-02-12T00:00:00\", \"variable\": \"77\", \"log_score\": -7.105866922163416}, {\"dates\": \"2023-02-19T00:00:00\", \"variable\": \"77\", \"log_score\": -7.117678137697696}, {\"dates\": \"2023-02-26T00:00:00\", \"variable\": \"77\", \"log_score\": -7.31486976019457}, {\"dates\": \"2023-03-05T00:00:00\", \"variable\": \"77\", \"log_score\": -7.4692117810610235}, {\"dates\": \"2023-03-12T00:00:00\", \"variable\": \"77\", \"log_score\": -7.712089190999138}, {\"dates\": \"2023-03-19T00:00:00\", \"variable\": \"77\", \"log_score\": -7.883375583994265}, {\"dates\": \"2023-03-26T00:00:00\", \"variable\": \"77\", \"log_score\": -8.024042251575539}, {\"dates\": \"2023-04-02T00:00:00\", \"variable\": \"77\", \"log_score\": -8.120878682407712}, {\"dates\": \"2023-04-09T00:00:00\", \"variable\": \"77\", \"log_score\": -7.619891709493978}, {\"dates\": \"2023-04-16T00:00:00\", \"variable\": \"77\", \"log_score\": -7.2717711113209}, {\"dates\": \"2023-04-23T00:00:00\", \"variable\": \"77\", \"log_score\": -7.557110758776275}, {\"dates\": \"2023-04-30T00:00:00\", \"variable\": \"77\", \"log_score\": -7.562009280459046}, {\"dates\": \"2023-05-07T00:00:00\", \"variable\": \"77\", \"log_score\": -7.52694401172079}, {\"dates\": \"2023-05-14T00:00:00\", \"variable\": \"77\", \"log_score\": -7.354749338837952}, {\"dates\": \"2023-05-21T00:00:00\", \"variable\": \"77\", \"log_score\": -7.22483902674364}, {\"dates\": \"2023-05-28T00:00:00\", \"variable\": \"77\", \"log_score\": -7.019282786700017}, {\"dates\": \"2023-01-01T00:00:00\", \"variable\": \"78\", \"log_score\": -6.824407014356001}, {\"dates\": \"2023-01-08T00:00:00\", \"variable\": \"78\", \"log_score\": -6.176103462439369}, {\"dates\": \"2023-01-15T00:00:00\", \"variable\": \"78\", \"log_score\": -6.242466140077378}, {\"dates\": \"2023-01-22T00:00:00\", \"variable\": \"78\", \"log_score\": -6.474002715169926}, {\"dates\": \"2023-01-29T00:00:00\", \"variable\": \"78\", \"log_score\": -6.313518220469092}, {\"dates\": \"2023-02-05T00:00:00\", \"variable\": \"78\", \"log_score\": -7.734218401869841}, {\"dates\": \"2023-02-12T00:00:00\", \"variable\": \"78\", \"log_score\": -6.314232126852336}, {\"dates\": \"2023-02-19T00:00:00\", \"variable\": \"78\", \"log_score\": -6.588685622264594}, {\"dates\": \"2023-02-26T00:00:00\", \"variable\": \"78\", \"log_score\": -7.8914644213151055}, {\"dates\": \"2023-03-05T00:00:00\", \"variable\": \"78\", \"log_score\": -7.284694494043149}, {\"dates\": \"2023-03-12T00:00:00\", \"variable\": \"78\", \"log_score\": -8.762054522017808}, {\"dates\": \"2023-03-19T00:00:00\", \"variable\": \"78\", \"log_score\": -10.851034900383274}, {\"dates\": \"2023-03-26T00:00:00\", \"variable\": \"78\", \"log_score\": -13.04891262220417}, {\"dates\": \"2023-04-02T00:00:00\", \"variable\": \"78\", \"log_score\": -10.408619669904532}, {\"dates\": \"2023-04-09T00:00:00\", \"variable\": \"78\", \"log_score\": -11.044975503594394}, {\"dates\": \"2023-04-16T00:00:00\", \"variable\": \"78\", \"log_score\": -8.334340078623551}, {\"dates\": \"2023-04-23T00:00:00\", \"variable\": \"78\", \"log_score\": -8.586949717872042}, {\"dates\": \"2023-04-30T00:00:00\", \"variable\": \"78\", \"log_score\": -12.995579802530315}, {\"dates\": \"2023-05-07T00:00:00\", \"variable\": \"78\", \"log_score\": -10.447125927771921}, {\"dates\": \"2023-05-14T00:00:00\", \"variable\": \"78\", \"log_score\": -12.877706107621634}, {\"dates\": \"2023-05-21T00:00:00\", \"variable\": \"78\", \"log_score\": -19.383648009448944}, {\"dates\": \"2023-05-28T00:00:00\", \"variable\": \"78\", \"log_score\": -7.901945773029901}]}}, {\"mode\": \"vega-lite\"});\n",
       "</script>"
      ],
      "text/plain": [
       "alt.VConcatChart(...)"
      ]
     },
     "execution_count": 21,
     "metadata": {},
     "output_type": "execute_result"
    }
   ],
   "source": [
    "score.plot_log_score()"
   ]
  },
  {
   "cell_type": "code",
   "execution_count": 22,
   "id": "b3bb6b82",
   "metadata": {},
   "outputs": [
    {
     "data": {
      "text/html": [
       "\n",
       "<style>\n",
       "  #altair-viz-60d52f6659c54ffbbbbfd6c362ed4635.vega-embed {\n",
       "    width: 100%;\n",
       "    display: flex;\n",
       "  }\n",
       "\n",
       "  #altair-viz-60d52f6659c54ffbbbbfd6c362ed4635.vega-embed details,\n",
       "  #altair-viz-60d52f6659c54ffbbbbfd6c362ed4635.vega-embed details summary {\n",
       "    position: relative;\n",
       "  }\n",
       "</style>\n",
       "<div id=\"altair-viz-60d52f6659c54ffbbbbfd6c362ed4635\"></div>\n",
       "<script type=\"text/javascript\">\n",
       "  var VEGA_DEBUG = (typeof VEGA_DEBUG == \"undefined\") ? {} : VEGA_DEBUG;\n",
       "  (function(spec, embedOpt){\n",
       "    let outputDiv = document.currentScript.previousElementSibling;\n",
       "    if (outputDiv.id !== \"altair-viz-60d52f6659c54ffbbbbfd6c362ed4635\") {\n",
       "      outputDiv = document.getElementById(\"altair-viz-60d52f6659c54ffbbbbfd6c362ed4635\");\n",
       "    }\n",
       "    const paths = {\n",
       "      \"vega\": \"https://cdn.jsdelivr.net/npm/vega@5?noext\",\n",
       "      \"vega-lib\": \"https://cdn.jsdelivr.net/npm/vega-lib?noext\",\n",
       "      \"vega-lite\": \"https://cdn.jsdelivr.net/npm/vega-lite@5.17.0?noext\",\n",
       "      \"vega-embed\": \"https://cdn.jsdelivr.net/npm/vega-embed@6?noext\",\n",
       "    };\n",
       "\n",
       "    function maybeLoadScript(lib, version) {\n",
       "      var key = `${lib.replace(\"-\", \"\")}_version`;\n",
       "      return (VEGA_DEBUG[key] == version) ?\n",
       "        Promise.resolve(paths[lib]) :\n",
       "        new Promise(function(resolve, reject) {\n",
       "          var s = document.createElement('script');\n",
       "          document.getElementsByTagName(\"head\")[0].appendChild(s);\n",
       "          s.async = true;\n",
       "          s.onload = () => {\n",
       "            VEGA_DEBUG[key] = version;\n",
       "            return resolve(paths[lib]);\n",
       "          };\n",
       "          s.onerror = () => reject(`Error loading script: ${paths[lib]}`);\n",
       "          s.src = paths[lib];\n",
       "        });\n",
       "    }\n",
       "\n",
       "    function showError(err) {\n",
       "      outputDiv.innerHTML = `<div class=\"error\" style=\"color:red;\">${err}</div>`;\n",
       "      throw err;\n",
       "    }\n",
       "\n",
       "    function displayChart(vegaEmbed) {\n",
       "      vegaEmbed(outputDiv, spec, embedOpt)\n",
       "        .catch(err => showError(`Javascript Error: ${err.message}<br>This usually means there's a typo in your chart specification. See the javascript console for the full traceback.`));\n",
       "    }\n",
       "\n",
       "    if(typeof define === \"function\" && define.amd) {\n",
       "      requirejs.config({paths});\n",
       "      require([\"vega-embed\"], displayChart, err => showError(`Error loading script: ${err.message}`));\n",
       "    } else {\n",
       "      maybeLoadScript(\"vega\", \"5\")\n",
       "        .then(() => maybeLoadScript(\"vega-lite\", \"5.17.0\"))\n",
       "        .then(() => maybeLoadScript(\"vega-embed\", \"6\"))\n",
       "        .catch(showError)\n",
       "        .then(() => displayChart(vegaEmbed));\n",
       "    }\n",
       "  })({\"config\": {\"view\": {\"continuousWidth\": 300, \"continuousHeight\": 300}}, \"layer\": [{\"data\": {\"name\": \"data-31ab3405ccd4240dcb0f02c0c71558b5\"}, \"mark\": {\"type\": \"circle\", \"size\": 60}, \"encoding\": {\"color\": {\"field\": \"legend\", \"legend\": {\"title\": null}, \"scale\": {\"range\": [\"black\"]}, \"type\": \"nominal\"}, \"x\": {\"field\": \"dates\", \"type\": \"temporal\"}, \"y\": {\"field\": \"casos\", \"type\": \"quantitative\"}}}, {\"data\": {\"name\": \"data-e62d00bd8d49960669627fa409de3684\"}, \"mark\": {\"type\": \"line\"}, \"encoding\": {\"color\": {\"field\": \"model\", \"legend\": {\"title\": \"Model\"}, \"type\": \"nominal\"}, \"x\": {\"field\": \"dates\", \"title\": \"Dates\", \"type\": \"temporal\"}, \"y\": {\"field\": \"preds\", \"title\": \"New cases\", \"type\": \"quantitative\"}}, \"title\": \"Median and 95% confidence interval\"}, {\"data\": {\"name\": \"data-e62d00bd8d49960669627fa409de3684\"}, \"mark\": {\"type\": \"area\", \"opacity\": 0.25}, \"encoding\": {\"color\": {\"field\": \"model\", \"legend\": null, \"type\": \"nominal\"}, \"x\": {\"field\": \"dates\", \"type\": \"temporal\"}, \"y\": {\"field\": \"lower\", \"type\": \"quantitative\"}, \"y2\": {\"field\": \"upper\"}}, \"title\": \"Median and 95% confidence interval\"}, {\"data\": {\"name\": \"data-e62d00bd8d49960669627fa409de3684\"}, \"mark\": {\"type\": \"point\"}, \"encoding\": {\"color\": {\"field\": \"model\", \"legend\": null, \"type\": \"nominal\"}, \"opacity\": {\"condition\": {\"param\": \"param_5\", \"value\": 1, \"empty\": false}, \"value\": 0}, \"x\": {\"field\": \"dates\", \"title\": \"Dates\", \"type\": \"temporal\"}, \"y\": {\"field\": \"preds\", \"title\": \"New cases\", \"type\": \"quantitative\"}}, \"title\": \"Median and 95% confidence interval\"}, {\"data\": {\"name\": \"data-b882d8404254e0c3e82484703fb8edba\"}, \"mark\": {\"type\": \"rule\", \"color\": \"gray\"}, \"encoding\": {\"opacity\": {\"condition\": {\"param\": \"param_5\", \"value\": 0.3, \"empty\": false}, \"value\": 0}, \"tooltip\": [{\"field\": \"dates\", \"title\": \"Date\", \"type\": \"temporal\"}, {\"field\": \"preds\", \"format\": \".0f\", \"type\": \"quantitative\"}, {\"field\": \"77\", \"format\": \".0f\", \"type\": \"quantitative\"}, {\"field\": \"78\", \"format\": \".0f\", \"type\": \"quantitative\"}, {\"field\": \"cases\", \"format\": \".0f\", \"type\": \"quantitative\"}], \"x\": {\"field\": \"dates\", \"type\": \"temporal\"}}, \"name\": \"view_5\", \"transform\": [{\"pivot\": \"model\", \"value\": \"preds\", \"groupby\": [\"dates\"]}]}], \"height\": 300, \"params\": [{\"name\": \"param_5\", \"select\": {\"type\": \"point\", \"fields\": [\"dates\"], \"nearest\": true, \"on\": \"pointerover\"}, \"views\": [\"view_5\"]}], \"resolve\": {\"scale\": {\"color\": \"independent\"}}, \"width\": 400, \"$schema\": \"https://vega.github.io/schema/vega-lite/v5.17.0.json\", \"datasets\": {\"data-31ab3405ccd4240dcb0f02c0c71558b5\": [{\"dates\": \"2023-01-01T00:00:00\", \"casos\": 230.0, \"legend\": \"Data\"}, {\"dates\": \"2023-01-08T00:00:00\", \"casos\": 218.0, \"legend\": \"Data\"}, {\"dates\": \"2023-01-15T00:00:00\", \"casos\": 246.0, \"legend\": \"Data\"}, {\"dates\": \"2023-01-22T00:00:00\", \"casos\": 312.0, \"legend\": \"Data\"}, {\"dates\": \"2023-01-29T00:00:00\", \"casos\": 383.0, \"legend\": \"Data\"}, {\"dates\": \"2023-02-05T00:00:00\", \"casos\": 525.0, \"legend\": \"Data\"}, {\"dates\": \"2023-02-12T00:00:00\", \"casos\": 372.0, \"legend\": \"Data\"}, {\"dates\": \"2023-02-19T00:00:00\", \"casos\": 507.0, \"legend\": \"Data\"}, {\"dates\": \"2023-02-26T00:00:00\", \"casos\": 870.0, \"legend\": \"Data\"}, {\"dates\": \"2023-03-05T00:00:00\", \"casos\": 945.0, \"legend\": \"Data\"}, {\"dates\": \"2023-03-12T00:00:00\", \"casos\": 1125.0, \"legend\": \"Data\"}, {\"dates\": \"2023-03-19T00:00:00\", \"casos\": 1382.0, \"legend\": \"Data\"}, {\"dates\": \"2023-03-26T00:00:00\", \"casos\": 1580.0, \"legend\": \"Data\"}, {\"dates\": \"2023-04-02T00:00:00\", \"casos\": 1420.0, \"legend\": \"Data\"}, {\"dates\": \"2023-04-09T00:00:00\", \"casos\": 1783.0, \"legend\": \"Data\"}, {\"dates\": \"2023-04-16T00:00:00\", \"casos\": 1502.0, \"legend\": \"Data\"}, {\"dates\": \"2023-04-23T00:00:00\", \"casos\": 1572.0, \"legend\": \"Data\"}, {\"dates\": \"2023-04-30T00:00:00\", \"casos\": 1919.0, \"legend\": \"Data\"}, {\"dates\": \"2023-05-07T00:00:00\", \"casos\": 1807.0, \"legend\": \"Data\"}, {\"dates\": \"2023-05-14T00:00:00\", \"casos\": 1731.0, \"legend\": \"Data\"}, {\"dates\": \"2023-05-21T00:00:00\", \"casos\": 1479.0, \"legend\": \"Data\"}, {\"dates\": \"2023-05-28T00:00:00\", \"casos\": 1328.0, \"legend\": \"Data\"}], \"data-e62d00bd8d49960669627fa409de3684\": [{\"dates\": \"2023-01-01T00:00:00\", \"preds\": 151.75902107613354, \"lower\": 78.80055863432439, \"upper\": 309.03660730541964, \"data\": 230.00000000000014, \"model\": \"preds\", \"adm_2\": null, \"adm_1\": null, \"adm_0\": null}, {\"dates\": \"2023-01-08T00:00:00\", \"preds\": 159.71105441059282, \"lower\": 69.925887512755, \"upper\": 399.394156780221, \"data\": 218.00000000000017, \"model\": \"preds\", \"adm_2\": null, \"adm_1\": null, \"adm_0\": null}, {\"dates\": \"2023-01-15T00:00:00\", \"preds\": 161.09827113321387, \"lower\": 58.61261817635057, \"upper\": 508.9903523783474, \"data\": 246.00000000000068, \"model\": \"preds\", \"adm_2\": null, \"adm_1\": null, \"adm_0\": null}, {\"dates\": \"2023-01-22T00:00:00\", \"preds\": 164.08688262700636, \"lower\": 50.90374200108143, \"upper\": 640.2560055086593, \"data\": 311.9999999999994, \"model\": \"preds\", \"adm_2\": null, \"adm_1\": null, \"adm_0\": null}, {\"dates\": \"2023-01-29T00:00:00\", \"preds\": 309.3702272141146, \"lower\": 152.07976954355183, \"upper\": 672.2658130104293, \"data\": 383.00000000000006, \"model\": \"preds\", \"adm_2\": null, \"adm_1\": null, \"adm_0\": null}, {\"dates\": \"2023-02-05T00:00:00\", \"preds\": 328.3645147288293, \"lower\": 134.08376489660458, \"upper\": 895.5215534079629, \"data\": 524.9999999999994, \"model\": \"preds\", \"adm_2\": null, \"adm_1\": null, \"adm_0\": null}, {\"dates\": \"2023-02-12T00:00:00\", \"preds\": 338.4446761589377, \"lower\": 112.86459103344252, \"upper\": 1198.654487265407, \"data\": 371.99999999999994, \"model\": \"preds\", \"adm_2\": null, \"adm_1\": null, \"adm_0\": null}, {\"dates\": \"2023-02-19T00:00:00\", \"preds\": 349.60284044518244, \"lower\": 97.9363839983552, \"upper\": 1569.3222073464988, \"data\": 507.0000000000001, \"model\": \"preds\", \"adm_2\": null, \"adm_1\": null, \"adm_0\": null}, {\"dates\": \"2023-02-26T00:00:00\", \"preds\": 486.69931302779594, \"lower\": 230.60492182791666, \"upper\": 1105.380473447225, \"data\": 870.0, \"model\": \"preds\", \"adm_2\": null, \"adm_1\": null, \"adm_0\": null}, {\"dates\": \"2023-03-05T00:00:00\", \"preds\": 517.8439424035935, \"lower\": 201.9884675630862, \"upper\": 1496.3738010907498, \"data\": 945.0000000000003, \"model\": \"preds\", \"adm_2\": null, \"adm_1\": null, \"adm_0\": null}, {\"dates\": \"2023-03-12T00:00:00\", \"preds\": 529.7730183832521, \"lower\": 167.23248148541813, \"upper\": 2019.1412998186286, \"data\": 1125.000000000002, \"model\": \"preds\", \"adm_2\": null, \"adm_1\": null, \"adm_0\": null}, {\"dates\": \"2023-03-19T00:00:00\", \"preds\": 545.4069465400194, \"lower\": 143.50721978424977, \"upper\": 2673.803834981445, \"data\": 1382.0000000000002, \"model\": \"preds\", \"adm_2\": null, \"adm_1\": null, \"adm_0\": null}, {\"dates\": \"2023-03-26T00:00:00\", \"preds\": 1437.0011550657287, \"lower\": 617.8061387017084, \"upper\": 3675.263663821789, \"data\": 1579.9999999999984, \"model\": \"preds\", \"adm_2\": null, \"adm_1\": null, \"adm_0\": null}, {\"dates\": \"2023-04-02T00:00:00\", \"preds\": 1552.5756099511464, \"lower\": 534.8042616512885, \"upper\": 5268.339777363313, \"data\": 1419.9999999999982, \"model\": \"preds\", \"adm_2\": null, \"adm_1\": null, \"adm_0\": null}, {\"dates\": \"2023-04-09T00:00:00\", \"preds\": 1636.954500901183, \"lower\": 442.32926449035625, \"upper\": 7728.778115856731, \"data\": 1783.0000000000034, \"model\": \"preds\", \"adm_2\": null, \"adm_1\": null, \"adm_0\": null}, {\"dates\": \"2023-04-16T00:00:00\", \"preds\": 1720.596909260694, \"lower\": 377.21810951968763, \"upper\": 11004.75562990184, \"data\": 1502.0000000000002, \"model\": \"preds\", \"adm_2\": null, \"adm_1\": null, \"adm_0\": null}, {\"dates\": \"2023-04-23T00:00:00\", \"preds\": 1657.1878883108077, \"lower\": 704.3026009556684, \"upper\": 4299.432181097053, \"data\": 1571.9999999999993, \"model\": \"preds\", \"adm_2\": null, \"adm_1\": null, \"adm_0\": null}, {\"dates\": \"2023-04-30T00:00:00\", \"preds\": 1670.388554577693, \"lower\": 572.0390569502166, \"upper\": 5711.797595251391, \"data\": 1918.9999999999986, \"model\": \"preds\", \"adm_2\": null, \"adm_1\": null, \"adm_0\": null}, {\"dates\": \"2023-05-07T00:00:00\", \"preds\": 1722.5844602965567, \"lower\": 463.673423723814, \"upper\": 8177.452019036614, \"data\": 1807.000000000001, \"model\": \"preds\", \"adm_2\": null, \"adm_1\": null, \"adm_0\": null}, {\"dates\": \"2023-05-14T00:00:00\", \"preds\": 1755.4396214505564, \"lower\": 385.1382934188562, \"upper\": 11215.328517742917, \"data\": 1730.9999999999984, \"model\": \"preds\", \"adm_2\": null, \"adm_1\": null, \"adm_0\": null}, {\"dates\": \"2023-05-21T00:00:00\", \"preds\": 1791.9838173515527, \"lower\": 757.4556688816872, \"upper\": 4680.705426117191, \"data\": 1478.9999999999989, \"model\": \"preds\", \"adm_2\": null, \"adm_1\": null, \"adm_0\": null}, {\"dates\": \"2023-05-28T00:00:00\", \"preds\": 1805.2453154273305, \"lower\": 614.1490440057485, \"upper\": 6226.950119038415, \"data\": 1328.0000000000018, \"model\": \"preds\", \"adm_2\": null, \"adm_1\": null, \"adm_0\": null}, {\"dates\": \"2023-01-01T00:00:00\", \"preds\": 124.7, \"lower\": 0.0, \"upper\": 1809.5625740147, \"data\": null, \"model\": \"77\", \"adm_2\": 3304557.0, \"adm_1\": \"RJ\", \"adm_0\": \"BR\"}, {\"dates\": \"2023-01-08T00:00:00\", \"preds\": 127.23, \"lower\": 0.0, \"upper\": 1793.8064366305, \"data\": null, \"model\": \"77\", \"adm_2\": 3304557.0, \"adm_1\": \"RJ\", \"adm_0\": \"BR\"}, {\"dates\": \"2023-01-15T00:00:00\", \"preds\": 155.21, \"lower\": 0.0, \"upper\": 1268.8861142409, \"data\": null, \"model\": \"77\", \"adm_2\": 3304557.0, \"adm_1\": \"RJ\", \"adm_0\": \"BR\"}, {\"dates\": \"2023-01-22T00:00:00\", \"preds\": 198.84, \"lower\": 0.0, \"upper\": 1195.3396186246, \"data\": null, \"model\": \"77\", \"adm_2\": 3304557.0, \"adm_1\": \"RJ\", \"adm_0\": \"BR\"}, {\"dates\": \"2023-01-29T00:00:00\", \"preds\": 345.27, \"lower\": 0.0, \"upper\": 1518.1194592248, \"data\": null, \"model\": \"77\", \"adm_2\": 3304557.0, \"adm_1\": \"RJ\", \"adm_0\": \"BR\"}, {\"dates\": \"2023-02-05T00:00:00\", \"preds\": 462.34, \"lower\": 0.0, \"upper\": 1445.4253987699, \"data\": null, \"model\": \"77\", \"adm_2\": 3304557.0, \"adm_1\": \"RJ\", \"adm_0\": \"BR\"}, {\"dates\": \"2023-02-12T00:00:00\", \"preds\": 481.6, \"lower\": 0.0, \"upper\": 1893.9755987178, \"data\": null, \"model\": \"77\", \"adm_2\": 3304557.0, \"adm_1\": \"RJ\", \"adm_0\": \"BR\"}, {\"dates\": \"2023-02-19T00:00:00\", \"preds\": 481.56, \"lower\": 0.0, \"upper\": 1965.8780215081, \"data\": null, \"model\": \"77\", \"adm_2\": 3304557.0, \"adm_1\": \"RJ\", \"adm_0\": \"BR\"}, {\"dates\": \"2023-02-26T00:00:00\", \"preds\": 574.3, \"lower\": 0.0, \"upper\": 2019.8204358497, \"data\": null, \"model\": \"77\", \"adm_2\": 3304557.0, \"adm_1\": \"RJ\", \"adm_0\": \"BR\"}, {\"dates\": \"2023-03-05T00:00:00\", \"preds\": 908.59, \"lower\": 0.0, \"upper\": 2793.9425956685, \"data\": null, \"model\": \"77\", \"adm_2\": 3304557.0, \"adm_1\": \"RJ\", \"adm_0\": \"BR\"}, {\"dates\": \"2023-03-12T00:00:00\", \"preds\": 1098.33, \"lower\": 0.0, \"upper\": 3565.2781705146, \"data\": null, \"model\": \"77\", \"adm_2\": 3304557.0, \"adm_1\": \"RJ\", \"adm_0\": \"BR\"}, {\"dates\": \"2023-03-19T00:00:00\", \"preds\": 1255.02, \"lower\": 0.0, \"upper\": 4202.4693301775, \"data\": null, \"model\": \"77\", \"adm_2\": 3304557.0, \"adm_1\": \"RJ\", \"adm_0\": \"BR\"}, {\"dates\": \"2023-03-26T00:00:00\", \"preds\": 903.32, \"lower\": 0.0, \"upper\": 3760.903225256, \"data\": null, \"model\": \"77\", \"adm_2\": 3304557.0, \"adm_1\": \"RJ\", \"adm_0\": \"BR\"}, {\"dates\": \"2023-04-02T00:00:00\", \"preds\": 2084.83, \"lower\": 0.0, \"upper\": 4512.3417709763, \"data\": null, \"model\": \"77\", \"adm_2\": 3304557.0, \"adm_1\": \"RJ\", \"adm_0\": \"BR\"}, {\"dates\": \"2023-04-09T00:00:00\", \"preds\": 1451.2, \"lower\": 0.0, \"upper\": 2937.0054003446, \"data\": null, \"model\": \"77\", \"adm_2\": 3304557.0, \"adm_1\": \"RJ\", \"adm_0\": \"BR\"}, {\"dates\": \"2023-04-16T00:00:00\", \"preds\": 1680.13, \"lower\": 591.7969421614, \"upper\": 2768.4630578386, \"data\": null, \"model\": \"77\", \"adm_2\": 3304557.0, \"adm_1\": \"RJ\", \"adm_0\": \"BR\"}, {\"dates\": \"2023-04-23T00:00:00\", \"preds\": 1944.43, \"lower\": 650.1333199898, \"upper\": 3238.7266800102, \"data\": null, \"model\": \"77\", \"adm_2\": 3304557.0, \"adm_1\": \"RJ\", \"adm_0\": \"BR\"}, {\"dates\": \"2023-04-30T00:00:00\", \"preds\": 1575.31, \"lower\": 227.6224669775, \"upper\": 2922.9975330225, \"data\": null, \"model\": \"77\", \"adm_2\": 3304557.0, \"adm_1\": \"RJ\", \"adm_0\": \"BR\"}, {\"dates\": \"2023-05-07T00:00:00\", \"preds\": 1426.24, \"lower\": 206.7682082167, \"upper\": 2645.7117917833, \"data\": null, \"model\": \"77\", \"adm_2\": 3304557.0, \"adm_1\": \"RJ\", \"adm_0\": \"BR\"}, {\"dates\": \"2023-05-14T00:00:00\", \"preds\": 1939.85, \"lower\": 769.2177668869, \"upper\": 3110.4822331131, \"data\": null, \"model\": \"77\", \"adm_2\": 3304557.0, \"adm_1\": \"RJ\", \"adm_0\": \"BR\"}, {\"dates\": \"2023-05-21T00:00:00\", \"preds\": 1454.24, \"lower\": 359.7715538942, \"upper\": 2548.7084461058, \"data\": null, \"model\": \"77\", \"adm_2\": 3304557.0, \"adm_1\": \"RJ\", \"adm_0\": \"BR\"}, {\"dates\": \"2023-05-28T00:00:00\", \"preds\": 1134.07, \"lower\": 343.0948354381, \"upper\": 1925.0451645619, \"data\": null, \"model\": \"77\", \"adm_2\": 3304557.0, \"adm_1\": \"RJ\", \"adm_0\": \"BR\"}, {\"dates\": \"2023-01-01T00:00:00\", \"preds\": 28.9193740338, \"lower\": 0.0, \"upper\": 602.8117241956, \"data\": null, \"model\": \"78\", \"adm_2\": 3304557.0, \"adm_1\": \"RJ\", \"adm_0\": \"BR\"}, {\"dates\": \"2023-01-08T00:00:00\", \"preds\": 107.5751379728, \"lower\": 0.0, \"upper\": 566.5245524392, \"data\": null, \"model\": \"78\", \"adm_2\": 3304557.0, \"adm_1\": \"RJ\", \"adm_0\": \"BR\"}, {\"dates\": \"2023-01-15T00:00:00\", \"preds\": 136.0464265496, \"lower\": 0.0, \"upper\": 654.7008858331, \"data\": null, \"model\": \"78\", \"adm_2\": 3304557.0, \"adm_1\": \"RJ\", \"adm_0\": \"BR\"}, {\"dates\": \"2023-01-22T00:00:00\", \"preds\": 157.6281409636, \"lower\": 0.0, \"upper\": 703.7455855925, \"data\": null, \"model\": \"78\", \"adm_2\": 3304557.0, \"adm_1\": \"RJ\", \"adm_0\": \"BR\"}, {\"dates\": \"2023-01-29T00:00:00\", \"preds\": 370.7788259685, \"lower\": 0.0, \"upper\": 879.478636435, \"data\": null, \"model\": \"78\", \"adm_2\": 3304557.0, \"adm_1\": \"RJ\", \"adm_0\": \"BR\"}, {\"dates\": \"2023-02-05T00:00:00\", \"preds\": 200.67998676, \"lower\": 0.0, \"upper\": 720.2818470754, \"data\": null, \"model\": \"78\", \"adm_2\": 3304557.0, \"adm_1\": \"RJ\", \"adm_0\": \"BR\"}, {\"dates\": \"2023-02-12T00:00:00\", \"preds\": 270.5449912548, \"lower\": 0.0, \"upper\": 766.0707564242, \"data\": null, \"model\": \"78\", \"adm_2\": 3304557.0, \"adm_1\": \"RJ\", \"adm_0\": \"BR\"}, {\"dates\": \"2023-02-19T00:00:00\", \"preds\": 365.9762626961, \"lower\": 0.0, \"upper\": 984.143485938, \"data\": null, \"model\": \"78\", \"adm_2\": 3304557.0, \"adm_1\": \"RJ\", \"adm_0\": \"BR\"}, {\"dates\": \"2023-02-26T00:00:00\", \"preds\": 434.2454627231, \"lower\": 0.0, \"upper\": 1035.7856581375, \"data\": null, \"model\": \"78\", \"adm_2\": 3304557.0, \"adm_1\": \"RJ\", \"adm_0\": \"BR\"}, {\"dates\": \"2023-03-05T00:00:00\", \"preds\": 593.1198927313, \"lower\": 0.0, \"upper\": 1340.4223010339, \"data\": null, \"model\": \"78\", \"adm_2\": 3304557.0, \"adm_1\": \"RJ\", \"adm_0\": \"BR\"}, {\"dates\": \"2023-03-12T00:00:00\", \"preds\": 486.762278229, \"lower\": 13.1828434534, \"upper\": 1258.1380503178, \"data\": null, \"model\": \"78\", \"adm_2\": 3304557.0, \"adm_1\": \"RJ\", \"adm_0\": \"BR\"}, {\"dates\": \"2023-03-19T00:00:00\", \"preds\": 534.409355998, \"lower\": 0.0, \"upper\": 1161.3790531218, \"data\": null, \"model\": \"78\", \"adm_2\": 3304557.0, \"adm_1\": \"RJ\", \"adm_0\": \"BR\"}, {\"dates\": \"2023-03-26T00:00:00\", \"preds\": 555.0313138813, \"lower\": 0.0, \"upper\": 1138.9978529975, \"data\": null, \"model\": \"78\", \"adm_2\": 3304557.0, \"adm_1\": \"RJ\", \"adm_0\": \"BR\"}, {\"dates\": \"2023-04-02T00:00:00\", \"preds\": 540.6022553518, \"lower\": 0.0, \"upper\": 1290.8390316494, \"data\": null, \"model\": \"78\", \"adm_2\": 3304557.0, \"adm_1\": \"RJ\", \"adm_0\": \"BR\"}, {\"dates\": \"2023-04-09T00:00:00\", \"preds\": 670.57262557, \"lower\": 63.0884215072, \"upper\": 1603.4207726844, \"data\": null, \"model\": \"78\", \"adm_2\": 3304557.0, \"adm_1\": \"RJ\", \"adm_0\": \"BR\"}, {\"dates\": \"2023-04-16T00:00:00\", \"preds\": 823.2300753295, \"lower\": 5.3920096096, \"upper\": 1619.1121769279, \"data\": null, \"model\": \"78\", \"adm_2\": 3304557.0, \"adm_1\": \"RJ\", \"adm_0\": \"BR\"}, {\"dates\": \"2023-04-23T00:00:00\", \"preds\": 821.3328076452, \"lower\": 0.0, \"upper\": 1657.2413398936, \"data\": null, \"model\": \"78\", \"adm_2\": 3304557.0, \"adm_1\": \"RJ\", \"adm_0\": \"BR\"}, {\"dates\": \"2023-04-30T00:00:00\", \"preds\": 736.0327714011, \"lower\": 186.1478255641, \"upper\": 1522.9282282144, \"data\": null, \"model\": \"78\", \"adm_2\": 3304557.0, \"adm_1\": \"RJ\", \"adm_0\": \"BR\"}, {\"dates\": \"2023-05-07T00:00:00\", \"preds\": 760.3757069707, \"lower\": 31.6744434658, \"upper\": 1601.576000803, \"data\": null, \"model\": \"78\", \"adm_2\": 3304557.0, \"adm_1\": \"RJ\", \"adm_0\": \"BR\"}, {\"dates\": \"2023-05-14T00:00:00\", \"preds\": 593.9493001178, \"lower\": 0.0, \"upper\": 1293.7130412512, \"data\": null, \"model\": \"78\", \"adm_2\": 3304557.0, \"adm_1\": \"RJ\", \"adm_0\": \"BR\"}, {\"dates\": \"2023-05-21T00:00:00\", \"preds\": 341.6071367562, \"lower\": 0.0, \"upper\": 890.2078188814, \"data\": null, \"model\": \"78\", \"adm_2\": 3304557.0, \"adm_1\": \"RJ\", \"adm_0\": \"BR\"}, {\"dates\": \"2023-05-28T00:00:00\", \"preds\": 766.1951469854, \"lower\": 41.8829060107, \"upper\": 1633.4175681449, \"data\": null, \"model\": \"78\", \"adm_2\": 3304557.0, \"adm_1\": \"RJ\", \"adm_0\": \"BR\"}], \"data-b882d8404254e0c3e82484703fb8edba\": [{\"dates\": \"2023-01-01T00:00:00\", \"preds\": 151.75902107613354, \"lower\": 78.80055863432439, \"upper\": 309.03660730541964, \"data\": 230.00000000000014, \"model\": \"preds\", \"adm_2\": null, \"adm_1\": null, \"adm_0\": null, \"legend\": null}, {\"dates\": \"2023-01-08T00:00:00\", \"preds\": 159.71105441059282, \"lower\": 69.925887512755, \"upper\": 399.394156780221, \"data\": 218.00000000000017, \"model\": \"preds\", \"adm_2\": null, \"adm_1\": null, \"adm_0\": null, \"legend\": null}, {\"dates\": \"2023-01-15T00:00:00\", \"preds\": 161.09827113321387, \"lower\": 58.61261817635057, \"upper\": 508.9903523783474, \"data\": 246.00000000000068, \"model\": \"preds\", \"adm_2\": null, \"adm_1\": null, \"adm_0\": null, \"legend\": null}, {\"dates\": \"2023-01-22T00:00:00\", \"preds\": 164.08688262700636, \"lower\": 50.90374200108143, \"upper\": 640.2560055086593, \"data\": 311.9999999999994, \"model\": \"preds\", \"adm_2\": null, \"adm_1\": null, \"adm_0\": null, \"legend\": null}, {\"dates\": \"2023-01-29T00:00:00\", \"preds\": 309.3702272141146, \"lower\": 152.07976954355183, \"upper\": 672.2658130104293, \"data\": 383.00000000000006, \"model\": \"preds\", \"adm_2\": null, \"adm_1\": null, \"adm_0\": null, \"legend\": null}, {\"dates\": \"2023-02-05T00:00:00\", \"preds\": 328.3645147288293, \"lower\": 134.08376489660458, \"upper\": 895.5215534079629, \"data\": 524.9999999999994, \"model\": \"preds\", \"adm_2\": null, \"adm_1\": null, \"adm_0\": null, \"legend\": null}, {\"dates\": \"2023-02-12T00:00:00\", \"preds\": 338.4446761589377, \"lower\": 112.86459103344252, \"upper\": 1198.654487265407, \"data\": 371.99999999999994, \"model\": \"preds\", \"adm_2\": null, \"adm_1\": null, \"adm_0\": null, \"legend\": null}, {\"dates\": \"2023-02-19T00:00:00\", \"preds\": 349.60284044518244, \"lower\": 97.9363839983552, \"upper\": 1569.3222073464988, \"data\": 507.0000000000001, \"model\": \"preds\", \"adm_2\": null, \"adm_1\": null, \"adm_0\": null, \"legend\": null}, {\"dates\": \"2023-02-26T00:00:00\", \"preds\": 486.69931302779594, \"lower\": 230.60492182791666, \"upper\": 1105.380473447225, \"data\": 870.0, \"model\": \"preds\", \"adm_2\": null, \"adm_1\": null, \"adm_0\": null, \"legend\": null}, {\"dates\": \"2023-03-05T00:00:00\", \"preds\": 517.8439424035935, \"lower\": 201.9884675630862, \"upper\": 1496.3738010907498, \"data\": 945.0000000000003, \"model\": \"preds\", \"adm_2\": null, \"adm_1\": null, \"adm_0\": null, \"legend\": null}, {\"dates\": \"2023-03-12T00:00:00\", \"preds\": 529.7730183832521, \"lower\": 167.23248148541813, \"upper\": 2019.1412998186286, \"data\": 1125.000000000002, \"model\": \"preds\", \"adm_2\": null, \"adm_1\": null, \"adm_0\": null, \"legend\": null}, {\"dates\": \"2023-03-19T00:00:00\", \"preds\": 545.4069465400194, \"lower\": 143.50721978424977, \"upper\": 2673.803834981445, \"data\": 1382.0000000000002, \"model\": \"preds\", \"adm_2\": null, \"adm_1\": null, \"adm_0\": null, \"legend\": null}, {\"dates\": \"2023-03-26T00:00:00\", \"preds\": 1437.0011550657287, \"lower\": 617.8061387017084, \"upper\": 3675.263663821789, \"data\": 1579.9999999999984, \"model\": \"preds\", \"adm_2\": null, \"adm_1\": null, \"adm_0\": null, \"legend\": null}, {\"dates\": \"2023-04-02T00:00:00\", \"preds\": 1552.5756099511464, \"lower\": 534.8042616512885, \"upper\": 5268.339777363313, \"data\": 1419.9999999999982, \"model\": \"preds\", \"adm_2\": null, \"adm_1\": null, \"adm_0\": null, \"legend\": null}, {\"dates\": \"2023-04-09T00:00:00\", \"preds\": 1636.954500901183, \"lower\": 442.32926449035625, \"upper\": 7728.778115856731, \"data\": 1783.0000000000034, \"model\": \"preds\", \"adm_2\": null, \"adm_1\": null, \"adm_0\": null, \"legend\": null}, {\"dates\": \"2023-04-16T00:00:00\", \"preds\": 1720.596909260694, \"lower\": 377.21810951968763, \"upper\": 11004.75562990184, \"data\": 1502.0000000000002, \"model\": \"preds\", \"adm_2\": null, \"adm_1\": null, \"adm_0\": null, \"legend\": null}, {\"dates\": \"2023-04-23T00:00:00\", \"preds\": 1657.1878883108077, \"lower\": 704.3026009556684, \"upper\": 4299.432181097053, \"data\": 1571.9999999999993, \"model\": \"preds\", \"adm_2\": null, \"adm_1\": null, \"adm_0\": null, \"legend\": null}, {\"dates\": \"2023-04-30T00:00:00\", \"preds\": 1670.388554577693, \"lower\": 572.0390569502166, \"upper\": 5711.797595251391, \"data\": 1918.9999999999986, \"model\": \"preds\", \"adm_2\": null, \"adm_1\": null, \"adm_0\": null, \"legend\": null}, {\"dates\": \"2023-05-07T00:00:00\", \"preds\": 1722.5844602965567, \"lower\": 463.673423723814, \"upper\": 8177.452019036614, \"data\": 1807.000000000001, \"model\": \"preds\", \"adm_2\": null, \"adm_1\": null, \"adm_0\": null, \"legend\": null}, {\"dates\": \"2023-05-14T00:00:00\", \"preds\": 1755.4396214505564, \"lower\": 385.1382934188562, \"upper\": 11215.328517742917, \"data\": 1730.9999999999984, \"model\": \"preds\", \"adm_2\": null, \"adm_1\": null, \"adm_0\": null, \"legend\": null}, {\"dates\": \"2023-05-21T00:00:00\", \"preds\": 1791.9838173515527, \"lower\": 757.4556688816872, \"upper\": 4680.705426117191, \"data\": 1478.9999999999989, \"model\": \"preds\", \"adm_2\": null, \"adm_1\": null, \"adm_0\": null, \"legend\": null}, {\"dates\": \"2023-05-28T00:00:00\", \"preds\": 1805.2453154273305, \"lower\": 614.1490440057485, \"upper\": 6226.950119038415, \"data\": 1328.0000000000018, \"model\": \"preds\", \"adm_2\": null, \"adm_1\": null, \"adm_0\": null, \"legend\": null}, {\"dates\": \"2023-01-01T00:00:00\", \"preds\": 124.7, \"lower\": 0.0, \"upper\": 1809.5625740147, \"data\": null, \"model\": \"77\", \"adm_2\": 3304557.0, \"adm_1\": \"RJ\", \"adm_0\": \"BR\", \"legend\": null}, {\"dates\": \"2023-01-08T00:00:00\", \"preds\": 127.23, \"lower\": 0.0, \"upper\": 1793.8064366305, \"data\": null, \"model\": \"77\", \"adm_2\": 3304557.0, \"adm_1\": \"RJ\", \"adm_0\": \"BR\", \"legend\": null}, {\"dates\": \"2023-01-15T00:00:00\", \"preds\": 155.21, \"lower\": 0.0, \"upper\": 1268.8861142409, \"data\": null, \"model\": \"77\", \"adm_2\": 3304557.0, \"adm_1\": \"RJ\", \"adm_0\": \"BR\", \"legend\": null}, {\"dates\": \"2023-01-22T00:00:00\", \"preds\": 198.84, \"lower\": 0.0, \"upper\": 1195.3396186246, \"data\": null, \"model\": \"77\", \"adm_2\": 3304557.0, \"adm_1\": \"RJ\", \"adm_0\": \"BR\", \"legend\": null}, {\"dates\": \"2023-01-29T00:00:00\", \"preds\": 345.27, \"lower\": 0.0, \"upper\": 1518.1194592248, \"data\": null, \"model\": \"77\", \"adm_2\": 3304557.0, \"adm_1\": \"RJ\", \"adm_0\": \"BR\", \"legend\": null}, {\"dates\": \"2023-02-05T00:00:00\", \"preds\": 462.34, \"lower\": 0.0, \"upper\": 1445.4253987699, \"data\": null, \"model\": \"77\", \"adm_2\": 3304557.0, \"adm_1\": \"RJ\", \"adm_0\": \"BR\", \"legend\": null}, {\"dates\": \"2023-02-12T00:00:00\", \"preds\": 481.6, \"lower\": 0.0, \"upper\": 1893.9755987178, \"data\": null, \"model\": \"77\", \"adm_2\": 3304557.0, \"adm_1\": \"RJ\", \"adm_0\": \"BR\", \"legend\": null}, {\"dates\": \"2023-02-19T00:00:00\", \"preds\": 481.56, \"lower\": 0.0, \"upper\": 1965.8780215081, \"data\": null, \"model\": \"77\", \"adm_2\": 3304557.0, \"adm_1\": \"RJ\", \"adm_0\": \"BR\", \"legend\": null}, {\"dates\": \"2023-02-26T00:00:00\", \"preds\": 574.3, \"lower\": 0.0, \"upper\": 2019.8204358497, \"data\": null, \"model\": \"77\", \"adm_2\": 3304557.0, \"adm_1\": \"RJ\", \"adm_0\": \"BR\", \"legend\": null}, {\"dates\": \"2023-03-05T00:00:00\", \"preds\": 908.59, \"lower\": 0.0, \"upper\": 2793.9425956685, \"data\": null, \"model\": \"77\", \"adm_2\": 3304557.0, \"adm_1\": \"RJ\", \"adm_0\": \"BR\", \"legend\": null}, {\"dates\": \"2023-03-12T00:00:00\", \"preds\": 1098.33, \"lower\": 0.0, \"upper\": 3565.2781705146, \"data\": null, \"model\": \"77\", \"adm_2\": 3304557.0, \"adm_1\": \"RJ\", \"adm_0\": \"BR\", \"legend\": null}, {\"dates\": \"2023-03-19T00:00:00\", \"preds\": 1255.02, \"lower\": 0.0, \"upper\": 4202.4693301775, \"data\": null, \"model\": \"77\", \"adm_2\": 3304557.0, \"adm_1\": \"RJ\", \"adm_0\": \"BR\", \"legend\": null}, {\"dates\": \"2023-03-26T00:00:00\", \"preds\": 903.32, \"lower\": 0.0, \"upper\": 3760.903225256, \"data\": null, \"model\": \"77\", \"adm_2\": 3304557.0, \"adm_1\": \"RJ\", \"adm_0\": \"BR\", \"legend\": null}, {\"dates\": \"2023-04-02T00:00:00\", \"preds\": 2084.83, \"lower\": 0.0, \"upper\": 4512.3417709763, \"data\": null, \"model\": \"77\", \"adm_2\": 3304557.0, \"adm_1\": \"RJ\", \"adm_0\": \"BR\", \"legend\": null}, {\"dates\": \"2023-04-09T00:00:00\", \"preds\": 1451.2, \"lower\": 0.0, \"upper\": 2937.0054003446, \"data\": null, \"model\": \"77\", \"adm_2\": 3304557.0, \"adm_1\": \"RJ\", \"adm_0\": \"BR\", \"legend\": null}, {\"dates\": \"2023-04-16T00:00:00\", \"preds\": 1680.13, \"lower\": 591.7969421614, \"upper\": 2768.4630578386, \"data\": null, \"model\": \"77\", \"adm_2\": 3304557.0, \"adm_1\": \"RJ\", \"adm_0\": \"BR\", \"legend\": null}, {\"dates\": \"2023-04-23T00:00:00\", \"preds\": 1944.43, \"lower\": 650.1333199898, \"upper\": 3238.7266800102, \"data\": null, \"model\": \"77\", \"adm_2\": 3304557.0, \"adm_1\": \"RJ\", \"adm_0\": \"BR\", \"legend\": null}, {\"dates\": \"2023-04-30T00:00:00\", \"preds\": 1575.31, \"lower\": 227.6224669775, \"upper\": 2922.9975330225, \"data\": null, \"model\": \"77\", \"adm_2\": 3304557.0, \"adm_1\": \"RJ\", \"adm_0\": \"BR\", \"legend\": null}, {\"dates\": \"2023-05-07T00:00:00\", \"preds\": 1426.24, \"lower\": 206.7682082167, \"upper\": 2645.7117917833, \"data\": null, \"model\": \"77\", \"adm_2\": 3304557.0, \"adm_1\": \"RJ\", \"adm_0\": \"BR\", \"legend\": null}, {\"dates\": \"2023-05-14T00:00:00\", \"preds\": 1939.85, \"lower\": 769.2177668869, \"upper\": 3110.4822331131, \"data\": null, \"model\": \"77\", \"adm_2\": 3304557.0, \"adm_1\": \"RJ\", \"adm_0\": \"BR\", \"legend\": null}, {\"dates\": \"2023-05-21T00:00:00\", \"preds\": 1454.24, \"lower\": 359.7715538942, \"upper\": 2548.7084461058, \"data\": null, \"model\": \"77\", \"adm_2\": 3304557.0, \"adm_1\": \"RJ\", \"adm_0\": \"BR\", \"legend\": null}, {\"dates\": \"2023-05-28T00:00:00\", \"preds\": 1134.07, \"lower\": 343.0948354381, \"upper\": 1925.0451645619, \"data\": null, \"model\": \"77\", \"adm_2\": 3304557.0, \"adm_1\": \"RJ\", \"adm_0\": \"BR\", \"legend\": null}, {\"dates\": \"2023-01-01T00:00:00\", \"preds\": 28.9193740338, \"lower\": 0.0, \"upper\": 602.8117241956, \"data\": null, \"model\": \"78\", \"adm_2\": 3304557.0, \"adm_1\": \"RJ\", \"adm_0\": \"BR\", \"legend\": null}, {\"dates\": \"2023-01-08T00:00:00\", \"preds\": 107.5751379728, \"lower\": 0.0, \"upper\": 566.5245524392, \"data\": null, \"model\": \"78\", \"adm_2\": 3304557.0, \"adm_1\": \"RJ\", \"adm_0\": \"BR\", \"legend\": null}, {\"dates\": \"2023-01-15T00:00:00\", \"preds\": 136.0464265496, \"lower\": 0.0, \"upper\": 654.7008858331, \"data\": null, \"model\": \"78\", \"adm_2\": 3304557.0, \"adm_1\": \"RJ\", \"adm_0\": \"BR\", \"legend\": null}, {\"dates\": \"2023-01-22T00:00:00\", \"preds\": 157.6281409636, \"lower\": 0.0, \"upper\": 703.7455855925, \"data\": null, \"model\": \"78\", \"adm_2\": 3304557.0, \"adm_1\": \"RJ\", \"adm_0\": \"BR\", \"legend\": null}, {\"dates\": \"2023-01-29T00:00:00\", \"preds\": 370.7788259685, \"lower\": 0.0, \"upper\": 879.478636435, \"data\": null, \"model\": \"78\", \"adm_2\": 3304557.0, \"adm_1\": \"RJ\", \"adm_0\": \"BR\", \"legend\": null}, {\"dates\": \"2023-02-05T00:00:00\", \"preds\": 200.67998676, \"lower\": 0.0, \"upper\": 720.2818470754, \"data\": null, \"model\": \"78\", \"adm_2\": 3304557.0, \"adm_1\": \"RJ\", \"adm_0\": \"BR\", \"legend\": null}, {\"dates\": \"2023-02-12T00:00:00\", \"preds\": 270.5449912548, \"lower\": 0.0, \"upper\": 766.0707564242, \"data\": null, \"model\": \"78\", \"adm_2\": 3304557.0, \"adm_1\": \"RJ\", \"adm_0\": \"BR\", \"legend\": null}, {\"dates\": \"2023-02-19T00:00:00\", \"preds\": 365.9762626961, \"lower\": 0.0, \"upper\": 984.143485938, \"data\": null, \"model\": \"78\", \"adm_2\": 3304557.0, \"adm_1\": \"RJ\", \"adm_0\": \"BR\", \"legend\": null}, {\"dates\": \"2023-02-26T00:00:00\", \"preds\": 434.2454627231, \"lower\": 0.0, \"upper\": 1035.7856581375, \"data\": null, \"model\": \"78\", \"adm_2\": 3304557.0, \"adm_1\": \"RJ\", \"adm_0\": \"BR\", \"legend\": null}, {\"dates\": \"2023-03-05T00:00:00\", \"preds\": 593.1198927313, \"lower\": 0.0, \"upper\": 1340.4223010339, \"data\": null, \"model\": \"78\", \"adm_2\": 3304557.0, \"adm_1\": \"RJ\", \"adm_0\": \"BR\", \"legend\": null}, {\"dates\": \"2023-03-12T00:00:00\", \"preds\": 486.762278229, \"lower\": 13.1828434534, \"upper\": 1258.1380503178, \"data\": null, \"model\": \"78\", \"adm_2\": 3304557.0, \"adm_1\": \"RJ\", \"adm_0\": \"BR\", \"legend\": null}, {\"dates\": \"2023-03-19T00:00:00\", \"preds\": 534.409355998, \"lower\": 0.0, \"upper\": 1161.3790531218, \"data\": null, \"model\": \"78\", \"adm_2\": 3304557.0, \"adm_1\": \"RJ\", \"adm_0\": \"BR\", \"legend\": null}, {\"dates\": \"2023-03-26T00:00:00\", \"preds\": 555.0313138813, \"lower\": 0.0, \"upper\": 1138.9978529975, \"data\": null, \"model\": \"78\", \"adm_2\": 3304557.0, \"adm_1\": \"RJ\", \"adm_0\": \"BR\", \"legend\": null}, {\"dates\": \"2023-04-02T00:00:00\", \"preds\": 540.6022553518, \"lower\": 0.0, \"upper\": 1290.8390316494, \"data\": null, \"model\": \"78\", \"adm_2\": 3304557.0, \"adm_1\": \"RJ\", \"adm_0\": \"BR\", \"legend\": null}, {\"dates\": \"2023-04-09T00:00:00\", \"preds\": 670.57262557, \"lower\": 63.0884215072, \"upper\": 1603.4207726844, \"data\": null, \"model\": \"78\", \"adm_2\": 3304557.0, \"adm_1\": \"RJ\", \"adm_0\": \"BR\", \"legend\": null}, {\"dates\": \"2023-04-16T00:00:00\", \"preds\": 823.2300753295, \"lower\": 5.3920096096, \"upper\": 1619.1121769279, \"data\": null, \"model\": \"78\", \"adm_2\": 3304557.0, \"adm_1\": \"RJ\", \"adm_0\": \"BR\", \"legend\": null}, {\"dates\": \"2023-04-23T00:00:00\", \"preds\": 821.3328076452, \"lower\": 0.0, \"upper\": 1657.2413398936, \"data\": null, \"model\": \"78\", \"adm_2\": 3304557.0, \"adm_1\": \"RJ\", \"adm_0\": \"BR\", \"legend\": null}, {\"dates\": \"2023-04-30T00:00:00\", \"preds\": 736.0327714011, \"lower\": 186.1478255641, \"upper\": 1522.9282282144, \"data\": null, \"model\": \"78\", \"adm_2\": 3304557.0, \"adm_1\": \"RJ\", \"adm_0\": \"BR\", \"legend\": null}, {\"dates\": \"2023-05-07T00:00:00\", \"preds\": 760.3757069707, \"lower\": 31.6744434658, \"upper\": 1601.576000803, \"data\": null, \"model\": \"78\", \"adm_2\": 3304557.0, \"adm_1\": \"RJ\", \"adm_0\": \"BR\", \"legend\": null}, {\"dates\": \"2023-05-14T00:00:00\", \"preds\": 593.9493001178, \"lower\": 0.0, \"upper\": 1293.7130412512, \"data\": null, \"model\": \"78\", \"adm_2\": 3304557.0, \"adm_1\": \"RJ\", \"adm_0\": \"BR\", \"legend\": null}, {\"dates\": \"2023-05-21T00:00:00\", \"preds\": 341.6071367562, \"lower\": 0.0, \"upper\": 890.2078188814, \"data\": null, \"model\": \"78\", \"adm_2\": 3304557.0, \"adm_1\": \"RJ\", \"adm_0\": \"BR\", \"legend\": null}, {\"dates\": \"2023-05-28T00:00:00\", \"preds\": 766.1951469854, \"lower\": 41.8829060107, \"upper\": 1633.4175681449, \"data\": null, \"model\": \"78\", \"adm_2\": 3304557.0, \"adm_1\": \"RJ\", \"adm_0\": \"BR\", \"legend\": null}, {\"dates\": \"2023-01-01T00:00:00\", \"preds\": 230.0, \"lower\": null, \"upper\": null, \"data\": null, \"model\": \"cases\", \"adm_2\": null, \"adm_1\": null, \"adm_0\": null, \"legend\": \"Data\"}, {\"dates\": \"2023-01-08T00:00:00\", \"preds\": 218.0, \"lower\": null, \"upper\": null, \"data\": null, \"model\": \"cases\", \"adm_2\": null, \"adm_1\": null, \"adm_0\": null, \"legend\": \"Data\"}, {\"dates\": \"2023-01-15T00:00:00\", \"preds\": 246.0, \"lower\": null, \"upper\": null, \"data\": null, \"model\": \"cases\", \"adm_2\": null, \"adm_1\": null, \"adm_0\": null, \"legend\": \"Data\"}, {\"dates\": \"2023-01-22T00:00:00\", \"preds\": 312.0, \"lower\": null, \"upper\": null, \"data\": null, \"model\": \"cases\", \"adm_2\": null, \"adm_1\": null, \"adm_0\": null, \"legend\": \"Data\"}, {\"dates\": \"2023-01-29T00:00:00\", \"preds\": 383.0, \"lower\": null, \"upper\": null, \"data\": null, \"model\": \"cases\", \"adm_2\": null, \"adm_1\": null, \"adm_0\": null, \"legend\": \"Data\"}, {\"dates\": \"2023-02-05T00:00:00\", \"preds\": 525.0, \"lower\": null, \"upper\": null, \"data\": null, \"model\": \"cases\", \"adm_2\": null, \"adm_1\": null, \"adm_0\": null, \"legend\": \"Data\"}, {\"dates\": \"2023-02-12T00:00:00\", \"preds\": 372.0, \"lower\": null, \"upper\": null, \"data\": null, \"model\": \"cases\", \"adm_2\": null, \"adm_1\": null, \"adm_0\": null, \"legend\": \"Data\"}, {\"dates\": \"2023-02-19T00:00:00\", \"preds\": 507.0, \"lower\": null, \"upper\": null, \"data\": null, \"model\": \"cases\", \"adm_2\": null, \"adm_1\": null, \"adm_0\": null, \"legend\": \"Data\"}, {\"dates\": \"2023-02-26T00:00:00\", \"preds\": 870.0, \"lower\": null, \"upper\": null, \"data\": null, \"model\": \"cases\", \"adm_2\": null, \"adm_1\": null, \"adm_0\": null, \"legend\": \"Data\"}, {\"dates\": \"2023-03-05T00:00:00\", \"preds\": 945.0, \"lower\": null, \"upper\": null, \"data\": null, \"model\": \"cases\", \"adm_2\": null, \"adm_1\": null, \"adm_0\": null, \"legend\": \"Data\"}, {\"dates\": \"2023-03-12T00:00:00\", \"preds\": 1125.0, \"lower\": null, \"upper\": null, \"data\": null, \"model\": \"cases\", \"adm_2\": null, \"adm_1\": null, \"adm_0\": null, \"legend\": \"Data\"}, {\"dates\": \"2023-03-19T00:00:00\", \"preds\": 1382.0, \"lower\": null, \"upper\": null, \"data\": null, \"model\": \"cases\", \"adm_2\": null, \"adm_1\": null, \"adm_0\": null, \"legend\": \"Data\"}, {\"dates\": \"2023-03-26T00:00:00\", \"preds\": 1580.0, \"lower\": null, \"upper\": null, \"data\": null, \"model\": \"cases\", \"adm_2\": null, \"adm_1\": null, \"adm_0\": null, \"legend\": \"Data\"}, {\"dates\": \"2023-04-02T00:00:00\", \"preds\": 1420.0, \"lower\": null, \"upper\": null, \"data\": null, \"model\": \"cases\", \"adm_2\": null, \"adm_1\": null, \"adm_0\": null, \"legend\": \"Data\"}, {\"dates\": \"2023-04-09T00:00:00\", \"preds\": 1783.0, \"lower\": null, \"upper\": null, \"data\": null, \"model\": \"cases\", \"adm_2\": null, \"adm_1\": null, \"adm_0\": null, \"legend\": \"Data\"}, {\"dates\": \"2023-04-16T00:00:00\", \"preds\": 1502.0, \"lower\": null, \"upper\": null, \"data\": null, \"model\": \"cases\", \"adm_2\": null, \"adm_1\": null, \"adm_0\": null, \"legend\": \"Data\"}, {\"dates\": \"2023-04-23T00:00:00\", \"preds\": 1572.0, \"lower\": null, \"upper\": null, \"data\": null, \"model\": \"cases\", \"adm_2\": null, \"adm_1\": null, \"adm_0\": null, \"legend\": \"Data\"}, {\"dates\": \"2023-04-30T00:00:00\", \"preds\": 1919.0, \"lower\": null, \"upper\": null, \"data\": null, \"model\": \"cases\", \"adm_2\": null, \"adm_1\": null, \"adm_0\": null, \"legend\": \"Data\"}, {\"dates\": \"2023-05-07T00:00:00\", \"preds\": 1807.0, \"lower\": null, \"upper\": null, \"data\": null, \"model\": \"cases\", \"adm_2\": null, \"adm_1\": null, \"adm_0\": null, \"legend\": \"Data\"}, {\"dates\": \"2023-05-14T00:00:00\", \"preds\": 1731.0, \"lower\": null, \"upper\": null, \"data\": null, \"model\": \"cases\", \"adm_2\": null, \"adm_1\": null, \"adm_0\": null, \"legend\": \"Data\"}, {\"dates\": \"2023-05-21T00:00:00\", \"preds\": 1479.0, \"lower\": null, \"upper\": null, \"data\": null, \"model\": \"cases\", \"adm_2\": null, \"adm_1\": null, \"adm_0\": null, \"legend\": \"Data\"}, {\"dates\": \"2023-05-28T00:00:00\", \"preds\": 1328.0, \"lower\": null, \"upper\": null, \"data\": null, \"model\": \"cases\", \"adm_2\": null, \"adm_1\": null, \"adm_0\": null, \"legend\": \"Data\"}]}}, {\"mode\": \"vega-lite\"});\n",
       "</script>"
      ],
      "text/plain": [
       "alt.LayerChart(...)"
      ]
     },
     "execution_count": 22,
     "metadata": {},
     "output_type": "execute_result"
    }
   ],
   "source": [
    "score.plot_predictions()"
   ]
  }
 ],
 "metadata": {
  "kernelspec": {
   "display_name": "Python 3 (ipykernel)",
   "language": "python",
   "name": "python3"
  },
  "language_info": {
   "codemirror_mode": {
    "name": "ipython",
    "version": 3
   },
   "file_extension": ".py",
   "mimetype": "text/x-python",
   "name": "python",
   "nbconvert_exporter": "python",
   "pygments_lexer": "ipython3",
   "version": "3.10.14"
  }
 },
 "nbformat": 4,
 "nbformat_minor": 5
}
