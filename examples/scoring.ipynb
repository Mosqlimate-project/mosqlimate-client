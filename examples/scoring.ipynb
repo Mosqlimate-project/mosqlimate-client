{
 "cells": [
  {
   "cell_type": "markdown",
   "id": "cfdd3892-ae77-4c79-93ca-754e259ed5c7",
   "metadata": {},
   "source": [
    "# Scoring Forecast models\n",
    "This notebook explains how the `Scorer` class can be used to compute the following metrics: \n",
    "* MAE (mean absolute error); \n",
    "* MSE (mean squared error); \n",
    "* CRPS (Continuous Ranked Probability Score);\n",
    "* Log Score.\n",
    "\n",
    "The CRPS and Log score assume a normal distribution since the lower and upper 95% CI intervals are used to compute the score. "
   ]
  },
  {
   "cell_type": "code",
   "execution_count": 1,
   "id": "6ae9fd3d-f244-431e-a88d-edca9cad1061",
   "metadata": {},
   "outputs": [],
   "source": [
    "import numpy as np\n",
    "import pandas as pd\n",
    "from mosqlient import get_infodengue\n",
    "from mosqlient.models.score import Scorer"
   ]
  },
  {
   "cell_type": "markdown",
   "id": "47bb9ee1-6d7c-40ee-80d6-e58d50589c87",
   "metadata": {},
   "source": [
    "To show the use of the class to compare the score of new predictions with the predictions registered on the platform it will be used the baseline model."
   ]
  },
  {
   "cell_type": "code",
   "execution_count": 2,
   "id": "be9f0a95-f2b5-4b40-a857-c13de4cb10ca",
   "metadata": {},
   "outputs": [],
   "source": [
    "from datetime import date\n",
    "from mosqlient.datastore import Infodengue\n",
    "from mosqlient.models.baseline import Arima"
   ]
  },
  {
   "cell_type": "markdown",
   "id": "b4639f80",
   "metadata": {},
   "source": [
    "It will compare the predictions of id 77 and 78, which refer to the geocode 3304557, between `2022-01-02` and `2023-06-25`. \n",
    "\n",
    "So initially, we will get the data that will be used to train the model and generate the new predictions:"
   ]
  },
  {
   "cell_type": "code",
   "execution_count": 3,
   "id": "a5694e39-5ae1-4301-a6d2-b3f658629ce6",
   "metadata": {},
   "outputs": [
    {
     "data": {
      "text/html": [
       "<div>\n",
       "<style scoped>\n",
       "    .dataframe tbody tr th:only-of-type {\n",
       "        vertical-align: middle;\n",
       "    }\n",
       "\n",
       "    .dataframe tbody tr th {\n",
       "        vertical-align: top;\n",
       "    }\n",
       "\n",
       "    .dataframe thead th {\n",
       "        text-align: right;\n",
       "    }\n",
       "</style>\n",
       "<table border=\"1\" class=\"dataframe\">\n",
       "  <thead>\n",
       "    <tr style=\"text-align: right;\">\n",
       "      <th></th>\n",
       "      <th>y</th>\n",
       "    </tr>\n",
       "    <tr>\n",
       "      <th>data_iniSE</th>\n",
       "      <th></th>\n",
       "    </tr>\n",
       "  </thead>\n",
       "  <tbody>\n",
       "    <tr>\n",
       "      <th>2010-01-03</th>\n",
       "      <td>30</td>\n",
       "    </tr>\n",
       "    <tr>\n",
       "      <th>2010-01-10</th>\n",
       "      <td>44</td>\n",
       "    </tr>\n",
       "    <tr>\n",
       "      <th>2010-01-17</th>\n",
       "      <td>46</td>\n",
       "    </tr>\n",
       "    <tr>\n",
       "      <th>2010-01-24</th>\n",
       "      <td>47</td>\n",
       "    </tr>\n",
       "    <tr>\n",
       "      <th>2010-01-31</th>\n",
       "      <td>68</td>\n",
       "    </tr>\n",
       "  </tbody>\n",
       "</table>\n",
       "</div>"
      ],
      "text/plain": [
       "             y\n",
       "data_iniSE    \n",
       "2010-01-03  30\n",
       "2010-01-10  44\n",
       "2010-01-17  46\n",
       "2010-01-24  47\n",
       "2010-01-31  68"
      ]
     },
     "execution_count": 3,
     "metadata": {},
     "output_type": "execute_result"
    }
   ],
   "source": [
    "disease = 'dengue'\n",
    "geocode = 3304557 \n",
    "end_date = date.today().strftime('%Y-%m-%d')\n",
    "\n",
    "df = get_infodengue(disease = 'dengue',\n",
    "                start_date = '2010-01-01', \n",
    "              end_date = '2023-12-31', \n",
    "              geocode = 3304557)\n",
    "\n",
    "df['data_iniSE'] = pd.to_datetime(df['data_iniSE'])\n",
    "\n",
    "df.set_index('data_iniSE', inplace = True )\n",
    "    \n",
    "df = df[['casos']].rename(columns = {'casos':'y'})\n",
    "\n",
    "df = df.resample('W-SUN').sum()\n",
    "\n",
    "df.head()"
   ]
  },
  {
   "cell_type": "markdown",
   "id": "3f847a93",
   "metadata": {},
   "source": [
    "Create the model:"
   ]
  },
  {
   "cell_type": "code",
   "execution_count": 4,
   "id": "7f5447da-5b14-45de-8de7-5d0db003efa8",
   "metadata": {},
   "outputs": [
    {
     "data": {
      "text/plain": [
       "<mosqlient.models.baseline.Arima at 0x134f28f10>"
      ]
     },
     "execution_count": 4,
     "metadata": {},
     "output_type": "execute_result"
    }
   ],
   "source": [
    "m_arima = Arima(df = df)\n",
    "\n",
    "m_arima"
   ]
  },
  {
   "cell_type": "markdown",
   "id": "b1d65a8b",
   "metadata": {},
   "source": [
    "Train the model: "
   ]
  },
  {
   "cell_type": "code",
   "execution_count": 5,
   "id": "3999037f-3ebb-4da5-a43d-4dbd0f924c51",
   "metadata": {},
   "outputs": [
    {
     "name": "stdout",
     "output_type": "stream",
     "text": [
      "Performing stepwise search to minimize aic\n",
      " ARIMA(2,1,2)(0,0,0)[0] intercept   : AIC=-292.056, Time=0.13 sec\n",
      " ARIMA(0,1,0)(0,0,0)[0] intercept   : AIC=-263.166, Time=0.03 sec\n",
      " ARIMA(1,1,0)(0,0,0)[0] intercept   : AIC=-297.770, Time=0.02 sec\n",
      " ARIMA(0,1,1)(0,0,0)[0] intercept   : AIC=-289.846, Time=0.04 sec\n",
      " ARIMA(0,1,0)(0,0,0)[0]             : AIC=-265.069, Time=0.02 sec\n",
      " ARIMA(2,1,0)(0,0,0)[0] intercept   : AIC=-302.929, Time=0.04 sec\n",
      " ARIMA(3,1,0)(0,0,0)[0] intercept   : AIC=-302.144, Time=0.05 sec\n",
      " ARIMA(2,1,1)(0,0,0)[0] intercept   : AIC=-309.026, Time=0.16 sec\n",
      " ARIMA(1,1,1)(0,0,0)[0] intercept   : AIC=-301.338, Time=0.06 sec\n",
      " ARIMA(3,1,1)(0,0,0)[0] intercept   : AIC=-307.027, Time=0.14 sec\n",
      " ARIMA(1,1,2)(0,0,0)[0] intercept   : AIC=-305.684, Time=0.13 sec\n",
      " ARIMA(3,1,2)(0,0,0)[0] intercept   : AIC=-306.429, Time=0.25 sec\n",
      " ARIMA(2,1,1)(0,0,0)[0]             : AIC=-310.932, Time=0.05 sec\n",
      " ARIMA(1,1,1)(0,0,0)[0]             : AIC=-303.191, Time=0.04 sec\n",
      " ARIMA(2,1,0)(0,0,0)[0]             : AIC=-304.794, Time=0.03 sec\n",
      " ARIMA(3,1,1)(0,0,0)[0]             : AIC=-308.934, Time=0.07 sec\n",
      " ARIMA(2,1,2)(0,0,0)[0]             : AIC=inf, Time=0.16 sec\n",
      " ARIMA(1,1,0)(0,0,0)[0]             : AIC=-299.603, Time=0.02 sec\n",
      " ARIMA(1,1,2)(0,0,0)[0]             : AIC=-307.585, Time=0.07 sec\n",
      " ARIMA(3,1,0)(0,0,0)[0]             : AIC=-304.014, Time=0.03 sec\n",
      " ARIMA(3,1,2)(0,0,0)[0]             : AIC=-308.337, Time=0.09 sec\n",
      "\n",
      "Best model:  ARIMA(2,1,1)(0,0,0)[0]          \n",
      "Total fit time: 1.652 seconds\n"
     ]
    }
   ],
   "source": [
    "model = m_arima.train(train_ini_date='2010-01-01', train_end_date = '2021-12-31')\n"
   ]
  },
  {
   "cell_type": "markdown",
   "id": "4582c684",
   "metadata": {},
   "source": [
    "Generate the out-of-sample predictions:"
   ]
  },
  {
   "cell_type": "code",
   "execution_count": 6,
   "id": "51c1ca96-8a52-4702-b0c8-037fda568b43",
   "metadata": {},
   "outputs": [
    {
     "data": {
      "text/html": [
       "<div>\n",
       "<style scoped>\n",
       "    .dataframe tbody tr th:only-of-type {\n",
       "        vertical-align: middle;\n",
       "    }\n",
       "\n",
       "    .dataframe tbody tr th {\n",
       "        vertical-align: top;\n",
       "    }\n",
       "\n",
       "    .dataframe thead th {\n",
       "        text-align: right;\n",
       "    }\n",
       "</style>\n",
       "<table border=\"1\" class=\"dataframe\">\n",
       "  <thead>\n",
       "    <tr style=\"text-align: right;\">\n",
       "      <th></th>\n",
       "      <th>dates</th>\n",
       "      <th>preds</th>\n",
       "      <th>lower</th>\n",
       "      <th>upper</th>\n",
       "      <th>data</th>\n",
       "    </tr>\n",
       "  </thead>\n",
       "  <tbody>\n",
       "    <tr>\n",
       "      <th>0</th>\n",
       "      <td>2022-01-02</td>\n",
       "      <td>3.614659</td>\n",
       "      <td>2.380141</td>\n",
       "      <td>5.611550</td>\n",
       "      <td>21.0</td>\n",
       "    </tr>\n",
       "    <tr>\n",
       "      <th>1</th>\n",
       "      <td>2022-01-09</td>\n",
       "      <td>3.433225</td>\n",
       "      <td>2.039727</td>\n",
       "      <td>5.982192</td>\n",
       "      <td>14.0</td>\n",
       "    </tr>\n",
       "    <tr>\n",
       "      <th>2</th>\n",
       "      <td>2022-01-16</td>\n",
       "      <td>3.252120</td>\n",
       "      <td>1.717641</td>\n",
       "      <td>6.491387</td>\n",
       "      <td>22.0</td>\n",
       "    </tr>\n",
       "    <tr>\n",
       "      <th>3</th>\n",
       "      <td>2022-01-23</td>\n",
       "      <td>3.118684</td>\n",
       "      <td>1.490893</td>\n",
       "      <td>7.007502</td>\n",
       "      <td>19.0</td>\n",
       "    </tr>\n",
       "    <tr>\n",
       "      <th>0</th>\n",
       "      <td>2022-01-30</td>\n",
       "      <td>21.331335</td>\n",
       "      <td>12.570924</td>\n",
       "      <td>37.513239</td>\n",
       "      <td>31.0</td>\n",
       "    </tr>\n",
       "  </tbody>\n",
       "</table>\n",
       "</div>"
      ],
      "text/plain": [
       "       dates      preds      lower      upper  data\n",
       "0 2022-01-02   3.614659   2.380141   5.611550  21.0\n",
       "1 2022-01-09   3.433225   2.039727   5.982192  14.0\n",
       "2 2022-01-16   3.252120   1.717641   6.491387  22.0\n",
       "3 2022-01-23   3.118684   1.490893   7.007502  19.0\n",
       "0 2022-01-30  21.331335  12.570924  37.513239  31.0"
      ]
     },
     "execution_count": 6,
     "metadata": {},
     "output_type": "execute_result"
    }
   ],
   "source": [
    "df_out = m_arima.predict_out_of_sample(horizon = 4, end_date = '2023-06-25', plot = False)\n",
    "\n",
    "df_out.head()"
   ]
  },
  {
   "cell_type": "markdown",
   "id": "74461903",
   "metadata": {},
   "source": [
    "To compare the model with other predictions in the platform, it is necessary to provide the ids of the predictions, the dataframe of the new prediction with the columns `dates`, `preds`, `lower` and `upper`, and the dataframe with the `true` values to be compared (df_true). This dataframe must contain the columns `dates` and `casos`.\n",
    "\n",
    "Redefine the data to compare the predictions:"
   ]
  },
  {
   "cell_type": "code",
   "execution_count": 7,
   "id": "20ad6b87",
   "metadata": {},
   "outputs": [
    {
     "data": {
      "text/html": [
       "<div>\n",
       "<style scoped>\n",
       "    .dataframe tbody tr th:only-of-type {\n",
       "        vertical-align: middle;\n",
       "    }\n",
       "\n",
       "    .dataframe tbody tr th {\n",
       "        vertical-align: top;\n",
       "    }\n",
       "\n",
       "    .dataframe thead th {\n",
       "        text-align: right;\n",
       "    }\n",
       "</style>\n",
       "<table border=\"1\" class=\"dataframe\">\n",
       "  <thead>\n",
       "    <tr style=\"text-align: right;\">\n",
       "      <th></th>\n",
       "      <th>dates</th>\n",
       "      <th>casos</th>\n",
       "    </tr>\n",
       "  </thead>\n",
       "  <tbody>\n",
       "    <tr>\n",
       "      <th>0</th>\n",
       "      <td>2010-01-03</td>\n",
       "      <td>30.0</td>\n",
       "    </tr>\n",
       "    <tr>\n",
       "      <th>1</th>\n",
       "      <td>2010-01-10</td>\n",
       "      <td>44.0</td>\n",
       "    </tr>\n",
       "    <tr>\n",
       "      <th>2</th>\n",
       "      <td>2010-01-17</td>\n",
       "      <td>46.0</td>\n",
       "    </tr>\n",
       "    <tr>\n",
       "      <th>3</th>\n",
       "      <td>2010-01-24</td>\n",
       "      <td>47.0</td>\n",
       "    </tr>\n",
       "    <tr>\n",
       "      <th>4</th>\n",
       "      <td>2010-01-31</td>\n",
       "      <td>68.0</td>\n",
       "    </tr>\n",
       "  </tbody>\n",
       "</table>\n",
       "</div>"
      ],
      "text/plain": [
       "       dates  casos\n",
       "0 2010-01-03   30.0\n",
       "1 2010-01-10   44.0\n",
       "2 2010-01-17   46.0\n",
       "3 2010-01-24   47.0\n",
       "4 2010-01-31   68.0"
      ]
     },
     "execution_count": 7,
     "metadata": {},
     "output_type": "execute_result"
    }
   ],
   "source": [
    "data = df.reset_index()\n",
    "\n",
    "data = data.rename(columns = {'data_iniSE': 'dates', 'y':'casos'})\n",
    "\n",
    "data.head()"
   ]
  },
  {
   "cell_type": "code",
   "execution_count": 8,
   "id": "de2a5e3f-562d-4751-9a30-2112d4bdc904",
   "metadata": {},
   "outputs": [
    {
     "name": "stdout",
     "output_type": "stream",
     "text": [
      "CPU times: user 40.2 ms, sys: 19.7 ms, total: 59.9 ms\n",
      "Wall time: 2.68 s\n"
     ]
    }
   ],
   "source": [
    "%%time\n",
    "score = Scorer(df_true = data, ids = [77,78], preds = df_out, confidence_level=0.95)"
   ]
  },
  {
   "cell_type": "markdown",
   "id": "8ff30c71",
   "metadata": {},
   "source": [
    "**The class above can be initialized with just the `ids` or `preds` parameter filled.** \n",
    "\n",
    "To see the MAE error for your model (key = `preds`) and the other use: "
   ]
  },
  {
   "cell_type": "code",
   "execution_count": 9,
   "id": "a4c7935d-21e2-4681-bee5-19a776c4de4b",
   "metadata": {},
   "outputs": [
    {
     "data": {
      "text/plain": [
       "{'preds': 115.52500842999136,\n",
       " '77': 150.21846153846153,\n",
       " '78': 260.9831835557859}"
      ]
     },
     "execution_count": 9,
     "metadata": {},
     "output_type": "execute_result"
    }
   ],
   "source": [
    "score.mae"
   ]
  },
  {
   "cell_type": "markdown",
   "id": "bd3166c0",
   "metadata": {},
   "source": [
    "To plot a bar chart: "
   ]
  },
  {
   "cell_type": "code",
   "execution_count": 10,
   "id": "2819d0da",
   "metadata": {},
   "outputs": [
    {
     "data": {
      "text/html": [
       "\n",
       "<style>\n",
       "  #altair-viz-f7461be622b54678a39b18e017782257.vega-embed {\n",
       "    width: 100%;\n",
       "    display: flex;\n",
       "  }\n",
       "\n",
       "  #altair-viz-f7461be622b54678a39b18e017782257.vega-embed details,\n",
       "  #altair-viz-f7461be622b54678a39b18e017782257.vega-embed details summary {\n",
       "    position: relative;\n",
       "  }\n",
       "</style>\n",
       "<div id=\"altair-viz-f7461be622b54678a39b18e017782257\"></div>\n",
       "<script type=\"text/javascript\">\n",
       "  var VEGA_DEBUG = (typeof VEGA_DEBUG == \"undefined\") ? {} : VEGA_DEBUG;\n",
       "  (function(spec, embedOpt){\n",
       "    let outputDiv = document.currentScript.previousElementSibling;\n",
       "    if (outputDiv.id !== \"altair-viz-f7461be622b54678a39b18e017782257\") {\n",
       "      outputDiv = document.getElementById(\"altair-viz-f7461be622b54678a39b18e017782257\");\n",
       "    }\n",
       "    const paths = {\n",
       "      \"vega\": \"https://cdn.jsdelivr.net/npm/vega@5?noext\",\n",
       "      \"vega-lib\": \"https://cdn.jsdelivr.net/npm/vega-lib?noext\",\n",
       "      \"vega-lite\": \"https://cdn.jsdelivr.net/npm/vega-lite@5.17.0?noext\",\n",
       "      \"vega-embed\": \"https://cdn.jsdelivr.net/npm/vega-embed@6?noext\",\n",
       "    };\n",
       "\n",
       "    function maybeLoadScript(lib, version) {\n",
       "      var key = `${lib.replace(\"-\", \"\")}_version`;\n",
       "      return (VEGA_DEBUG[key] == version) ?\n",
       "        Promise.resolve(paths[lib]) :\n",
       "        new Promise(function(resolve, reject) {\n",
       "          var s = document.createElement('script');\n",
       "          document.getElementsByTagName(\"head\")[0].appendChild(s);\n",
       "          s.async = true;\n",
       "          s.onload = () => {\n",
       "            VEGA_DEBUG[key] = version;\n",
       "            return resolve(paths[lib]);\n",
       "          };\n",
       "          s.onerror = () => reject(`Error loading script: ${paths[lib]}`);\n",
       "          s.src = paths[lib];\n",
       "        });\n",
       "    }\n",
       "\n",
       "    function showError(err) {\n",
       "      outputDiv.innerHTML = `<div class=\"error\" style=\"color:red;\">${err}</div>`;\n",
       "      throw err;\n",
       "    }\n",
       "\n",
       "    function displayChart(vegaEmbed) {\n",
       "      vegaEmbed(outputDiv, spec, embedOpt)\n",
       "        .catch(err => showError(`Javascript Error: ${err.message}<br>This usually means there's a typo in your chart specification. See the javascript console for the full traceback.`));\n",
       "    }\n",
       "\n",
       "    if(typeof define === \"function\" && define.amd) {\n",
       "      requirejs.config({paths});\n",
       "      require([\"vega-embed\"], displayChart, err => showError(`Error loading script: ${err.message}`));\n",
       "    } else {\n",
       "      maybeLoadScript(\"vega\", \"5\")\n",
       "        .then(() => maybeLoadScript(\"vega-lite\", \"5.17.0\"))\n",
       "        .then(() => maybeLoadScript(\"vega-embed\", \"6\"))\n",
       "        .catch(showError)\n",
       "        .then(() => displayChart(vegaEmbed));\n",
       "    }\n",
       "  })({\"config\": {\"view\": {\"continuousWidth\": 300, \"continuousHeight\": 300}}, \"data\": {\"name\": \"data-ddeeef50e629819b6f6a1172c1810ae6\"}, \"mark\": {\"type\": \"bar\"}, \"encoding\": {\"color\": {\"field\": \"id\", \"legend\": {\"title\": \"Model\"}, \"type\": \"nominal\"}, \"x\": {\"axis\": {\"labelAngle\": 360}, \"field\": \"id\", \"title\": \"Model\", \"type\": \"nominal\"}, \"y\": {\"field\": \"mae\", \"title\": \"mae\", \"type\": \"quantitative\"}}, \"height\": 300, \"title\": \"mae score\", \"width\": 400, \"$schema\": \"https://vega.github.io/schema/vega-lite/v5.17.0.json\", \"datasets\": {\"data-ddeeef50e629819b6f6a1172c1810ae6\": [{\"id\": \"preds\", \"mae\": 115.52500842999136, \"mse\": 39545.323650490725, \"crps\": 123.23627856337386, \"log_score\": -11.881549349931053}, {\"id\": \"77\", \"mae\": 150.21846153846153, \"mse\": 69988.36318717948, \"crps\": 157.67477689954123, \"log_score\": -7.153336644286201}, {\"id\": \"78\", \"mae\": 260.9831835557859, \"mse\": 166280.6349972801, \"crps\": 194.35779878220254, \"log_score\": -7.185719862079375}]}}, {\"mode\": \"vega-lite\"});\n",
       "</script>"
      ],
      "text/plain": [
       "alt.Chart(...)"
      ]
     },
     "execution_count": 10,
     "metadata": {},
     "output_type": "execute_result"
    }
   ],
   "source": [
    "score.plot_mae()"
   ]
  },
  {
   "cell_type": "markdown",
   "id": "582e338a",
   "metadata": {},
   "source": [
    "To see the MSE error for your model (key = `preds`) and the other use: "
   ]
  },
  {
   "cell_type": "code",
   "execution_count": 11,
   "id": "683c8cca",
   "metadata": {},
   "outputs": [
    {
     "data": {
      "text/plain": [
       "{'preds': 39545.323650490725, '77': 69988.36318717948, '78': 166280.6349972801}"
      ]
     },
     "execution_count": 11,
     "metadata": {},
     "output_type": "execute_result"
    }
   ],
   "source": [
    "score.mse"
   ]
  },
  {
   "cell_type": "markdown",
   "id": "58843665",
   "metadata": {},
   "source": [
    "To plot a bar chart: "
   ]
  },
  {
   "cell_type": "code",
   "execution_count": 12,
   "id": "1e40e73d",
   "metadata": {},
   "outputs": [
    {
     "data": {
      "text/html": [
       "\n",
       "<style>\n",
       "  #altair-viz-2119ce8d862943359d4cc99394a04dc0.vega-embed {\n",
       "    width: 100%;\n",
       "    display: flex;\n",
       "  }\n",
       "\n",
       "  #altair-viz-2119ce8d862943359d4cc99394a04dc0.vega-embed details,\n",
       "  #altair-viz-2119ce8d862943359d4cc99394a04dc0.vega-embed details summary {\n",
       "    position: relative;\n",
       "  }\n",
       "</style>\n",
       "<div id=\"altair-viz-2119ce8d862943359d4cc99394a04dc0\"></div>\n",
       "<script type=\"text/javascript\">\n",
       "  var VEGA_DEBUG = (typeof VEGA_DEBUG == \"undefined\") ? {} : VEGA_DEBUG;\n",
       "  (function(spec, embedOpt){\n",
       "    let outputDiv = document.currentScript.previousElementSibling;\n",
       "    if (outputDiv.id !== \"altair-viz-2119ce8d862943359d4cc99394a04dc0\") {\n",
       "      outputDiv = document.getElementById(\"altair-viz-2119ce8d862943359d4cc99394a04dc0\");\n",
       "    }\n",
       "    const paths = {\n",
       "      \"vega\": \"https://cdn.jsdelivr.net/npm/vega@5?noext\",\n",
       "      \"vega-lib\": \"https://cdn.jsdelivr.net/npm/vega-lib?noext\",\n",
       "      \"vega-lite\": \"https://cdn.jsdelivr.net/npm/vega-lite@5.17.0?noext\",\n",
       "      \"vega-embed\": \"https://cdn.jsdelivr.net/npm/vega-embed@6?noext\",\n",
       "    };\n",
       "\n",
       "    function maybeLoadScript(lib, version) {\n",
       "      var key = `${lib.replace(\"-\", \"\")}_version`;\n",
       "      return (VEGA_DEBUG[key] == version) ?\n",
       "        Promise.resolve(paths[lib]) :\n",
       "        new Promise(function(resolve, reject) {\n",
       "          var s = document.createElement('script');\n",
       "          document.getElementsByTagName(\"head\")[0].appendChild(s);\n",
       "          s.async = true;\n",
       "          s.onload = () => {\n",
       "            VEGA_DEBUG[key] = version;\n",
       "            return resolve(paths[lib]);\n",
       "          };\n",
       "          s.onerror = () => reject(`Error loading script: ${paths[lib]}`);\n",
       "          s.src = paths[lib];\n",
       "        });\n",
       "    }\n",
       "\n",
       "    function showError(err) {\n",
       "      outputDiv.innerHTML = `<div class=\"error\" style=\"color:red;\">${err}</div>`;\n",
       "      throw err;\n",
       "    }\n",
       "\n",
       "    function displayChart(vegaEmbed) {\n",
       "      vegaEmbed(outputDiv, spec, embedOpt)\n",
       "        .catch(err => showError(`Javascript Error: ${err.message}<br>This usually means there's a typo in your chart specification. See the javascript console for the full traceback.`));\n",
       "    }\n",
       "\n",
       "    if(typeof define === \"function\" && define.amd) {\n",
       "      requirejs.config({paths});\n",
       "      require([\"vega-embed\"], displayChart, err => showError(`Error loading script: ${err.message}`));\n",
       "    } else {\n",
       "      maybeLoadScript(\"vega\", \"5\")\n",
       "        .then(() => maybeLoadScript(\"vega-lite\", \"5.17.0\"))\n",
       "        .then(() => maybeLoadScript(\"vega-embed\", \"6\"))\n",
       "        .catch(showError)\n",
       "        .then(() => displayChart(vegaEmbed));\n",
       "    }\n",
       "  })({\"config\": {\"view\": {\"continuousWidth\": 300, \"continuousHeight\": 300}}, \"data\": {\"name\": \"data-ddeeef50e629819b6f6a1172c1810ae6\"}, \"mark\": {\"type\": \"bar\"}, \"encoding\": {\"color\": {\"field\": \"id\", \"legend\": {\"title\": \"Model\"}, \"type\": \"nominal\"}, \"x\": {\"axis\": {\"labelAngle\": 360}, \"field\": \"id\", \"title\": \"Model\", \"type\": \"nominal\"}, \"y\": {\"field\": \"mse\", \"title\": \"mse\", \"type\": \"quantitative\"}}, \"height\": 300, \"title\": \"mse score\", \"width\": 400, \"$schema\": \"https://vega.github.io/schema/vega-lite/v5.17.0.json\", \"datasets\": {\"data-ddeeef50e629819b6f6a1172c1810ae6\": [{\"id\": \"preds\", \"mae\": 115.52500842999136, \"mse\": 39545.323650490725, \"crps\": 123.23627856337386, \"log_score\": -11.881549349931053}, {\"id\": \"77\", \"mae\": 150.21846153846153, \"mse\": 69988.36318717948, \"crps\": 157.67477689954123, \"log_score\": -7.153336644286201}, {\"id\": \"78\", \"mae\": 260.9831835557859, \"mse\": 166280.6349972801, \"crps\": 194.35779878220254, \"log_score\": -7.185719862079375}]}}, {\"mode\": \"vega-lite\"});\n",
       "</script>"
      ],
      "text/plain": [
       "alt.Chart(...)"
      ]
     },
     "execution_count": 12,
     "metadata": {},
     "output_type": "execute_result"
    }
   ],
   "source": [
    "score.plot_mse()"
   ]
  },
  {
   "cell_type": "markdown",
   "id": "1dff03ff",
   "metadata": {},
   "source": [
    "To see the CRPS score for your model (key = `preds`) and the other, use the code below. The first dict contains the score by each point, and the second one shows the mean of the score.  "
   ]
  },
  {
   "cell_type": "code",
   "execution_count": 13,
   "id": "af24c195",
   "metadata": {},
   "outputs": [
    {
     "data": {
      "text/plain": [
       "({'preds': dates\n",
       "  2022-01-02     16.920249\n",
       "  2022-01-09      9.999342\n",
       "  2022-01-16     18.060801\n",
       "  2022-01-23     15.087318\n",
       "  2022-01-30      6.435420\n",
       "                   ...    \n",
       "  2023-05-28    397.491511\n",
       "  2023-06-04    558.269619\n",
       "  2023-06-11    717.722982\n",
       "  2023-06-18    162.937319\n",
       "  2023-06-25    265.386955\n",
       "  Length: 78, dtype: float64,\n",
       "  '77': dates\n",
       "  2022-01-02    104.558457\n",
       "  2022-01-09     91.737919\n",
       "  2022-01-16     40.233358\n",
       "  2022-01-23     68.691104\n",
       "  2022-01-30     62.889689\n",
       "                   ...    \n",
       "  2023-05-28    130.790086\n",
       "  2023-06-04    745.026849\n",
       "  2023-06-11    597.260235\n",
       "  2023-06-18    151.757955\n",
       "  2023-06-25    222.010512\n",
       "  Length: 78, dtype: float64,\n",
       "  '78': dates\n",
       "  2022-01-02     59.710708\n",
       "  2022-01-09     31.950571\n",
       "  2022-01-16     26.067532\n",
       "  2022-01-23     28.236875\n",
       "  2022-01-30     38.702663\n",
       "                   ...    \n",
       "  2023-05-28    363.596892\n",
       "  2023-06-04    187.920326\n",
       "  2023-06-11    466.297314\n",
       "  2023-06-18    311.188335\n",
       "  2023-06-25    419.705608\n",
       "  Length: 78, dtype: float64},\n",
       " {'preds': 123.23627856337386,\n",
       "  '77': 157.67477689954123,\n",
       "  '78': 194.35779878220254})"
      ]
     },
     "execution_count": 13,
     "metadata": {},
     "output_type": "execute_result"
    }
   ],
   "source": [
    "score.crps"
   ]
  },
  {
   "cell_type": "markdown",
   "id": "c8381bda",
   "metadata": {},
   "source": [
    "To plot the score you can use: "
   ]
  },
  {
   "cell_type": "code",
   "execution_count": 14,
   "id": "df1843ae",
   "metadata": {},
   "outputs": [
    {
     "data": {
      "text/html": [
       "\n",
       "<style>\n",
       "  #altair-viz-8ae885d5ac43424eb32b2f551a3dc6ab.vega-embed {\n",
       "    width: 100%;\n",
       "    display: flex;\n",
       "  }\n",
       "\n",
       "  #altair-viz-8ae885d5ac43424eb32b2f551a3dc6ab.vega-embed details,\n",
       "  #altair-viz-8ae885d5ac43424eb32b2f551a3dc6ab.vega-embed details summary {\n",
       "    position: relative;\n",
       "  }\n",
       "</style>\n",
       "<div id=\"altair-viz-8ae885d5ac43424eb32b2f551a3dc6ab\"></div>\n",
       "<script type=\"text/javascript\">\n",
       "  var VEGA_DEBUG = (typeof VEGA_DEBUG == \"undefined\") ? {} : VEGA_DEBUG;\n",
       "  (function(spec, embedOpt){\n",
       "    let outputDiv = document.currentScript.previousElementSibling;\n",
       "    if (outputDiv.id !== \"altair-viz-8ae885d5ac43424eb32b2f551a3dc6ab\") {\n",
       "      outputDiv = document.getElementById(\"altair-viz-8ae885d5ac43424eb32b2f551a3dc6ab\");\n",
       "    }\n",
       "    const paths = {\n",
       "      \"vega\": \"https://cdn.jsdelivr.net/npm/vega@5?noext\",\n",
       "      \"vega-lib\": \"https://cdn.jsdelivr.net/npm/vega-lib?noext\",\n",
       "      \"vega-lite\": \"https://cdn.jsdelivr.net/npm/vega-lite@5.17.0?noext\",\n",
       "      \"vega-embed\": \"https://cdn.jsdelivr.net/npm/vega-embed@6?noext\",\n",
       "    };\n",
       "\n",
       "    function maybeLoadScript(lib, version) {\n",
       "      var key = `${lib.replace(\"-\", \"\")}_version`;\n",
       "      return (VEGA_DEBUG[key] == version) ?\n",
       "        Promise.resolve(paths[lib]) :\n",
       "        new Promise(function(resolve, reject) {\n",
       "          var s = document.createElement('script');\n",
       "          document.getElementsByTagName(\"head\")[0].appendChild(s);\n",
       "          s.async = true;\n",
       "          s.onload = () => {\n",
       "            VEGA_DEBUG[key] = version;\n",
       "            return resolve(paths[lib]);\n",
       "          };\n",
       "          s.onerror = () => reject(`Error loading script: ${paths[lib]}`);\n",
       "          s.src = paths[lib];\n",
       "        });\n",
       "    }\n",
       "\n",
       "    function showError(err) {\n",
       "      outputDiv.innerHTML = `<div class=\"error\" style=\"color:red;\">${err}</div>`;\n",
       "      throw err;\n",
       "    }\n",
       "\n",
       "    function displayChart(vegaEmbed) {\n",
       "      vegaEmbed(outputDiv, spec, embedOpt)\n",
       "        .catch(err => showError(`Javascript Error: ${err.message}<br>This usually means there's a typo in your chart specification. See the javascript console for the full traceback.`));\n",
       "    }\n",
       "\n",
       "    if(typeof define === \"function\" && define.amd) {\n",
       "      requirejs.config({paths});\n",
       "      require([\"vega-embed\"], displayChart, err => showError(`Error loading script: ${err.message}`));\n",
       "    } else {\n",
       "      maybeLoadScript(\"vega\", \"5\")\n",
       "        .then(() => maybeLoadScript(\"vega-lite\", \"5.17.0\"))\n",
       "        .then(() => maybeLoadScript(\"vega-embed\", \"6\"))\n",
       "        .catch(showError)\n",
       "        .then(() => displayChart(vegaEmbed));\n",
       "    }\n",
       "  })({\"config\": {\"view\": {\"continuousWidth\": 300, \"continuousHeight\": 300}}, \"vconcat\": [{\"data\": {\"name\": \"data-d4775c7e2b59a23393eb246775bc1f3d\"}, \"mark\": {\"type\": \"line\"}, \"encoding\": {\"color\": {\"value\": \"black\"}, \"x\": {\"field\": \"dates\", \"type\": \"temporal\"}, \"y\": {\"field\": \"casos\", \"type\": \"quantitative\"}}, \"height\": 150, \"title\": \"New cases\", \"width\": 400}, {\"layer\": [{\"mark\": {\"type\": \"point\", \"filled\": false}, \"encoding\": {\"color\": {\"field\": \"variable\", \"legend\": {\"legendX\": 100}, \"type\": \"nominal\"}, \"x\": {\"field\": \"dates\", \"type\": \"temporal\"}, \"y\": {\"field\": \"CRPS_score\", \"type\": \"quantitative\"}}}, {\"mark\": {\"type\": \"point\"}, \"encoding\": {\"color\": {\"field\": \"variable\", \"legend\": {\"legendX\": 100}, \"type\": \"nominal\"}, \"opacity\": {\"condition\": {\"param\": \"param_1\", \"value\": 1, \"empty\": false}, \"value\": 0}, \"x\": {\"field\": \"dates\", \"type\": \"temporal\"}, \"y\": {\"field\": \"CRPS_score\", \"type\": \"quantitative\"}}}, {\"mark\": {\"type\": \"rule\", \"color\": \"gray\"}, \"encoding\": {\"opacity\": {\"condition\": {\"param\": \"param_1\", \"value\": 0.3, \"empty\": false}, \"value\": 0}, \"tooltip\": [{\"field\": \"dates\", \"title\": \"Date\", \"type\": \"temporal\"}, {\"field\": \"preds\", \"format\": \".2f\", \"type\": \"quantitative\"}, {\"field\": \"77\", \"format\": \".2f\", \"type\": \"quantitative\"}, {\"field\": \"78\", \"format\": \".2f\", \"type\": \"quantitative\"}], \"x\": {\"field\": \"dates\", \"type\": \"temporal\"}}, \"name\": \"view_1\", \"transform\": [{\"pivot\": \"variable\", \"value\": \"CRPS_score\", \"groupby\": [\"dates\"]}]}], \"data\": {\"name\": \"data-5f40759a66c681895e3eb39e16c46904\"}, \"height\": 250, \"title\": {\"text\": \"CRPS score\", \"subtitle\": \"Lower is better\"}, \"width\": 400}], \"params\": [{\"name\": \"param_1\", \"select\": {\"type\": \"point\", \"fields\": [\"dates\"], \"nearest\": true, \"on\": \"pointerover\"}, \"views\": [\"view_1\"]}], \"$schema\": \"https://vega.github.io/schema/vega-lite/v5.17.0.json\", \"datasets\": {\"data-d4775c7e2b59a23393eb246775bc1f3d\": [{\"dates\": \"2022-01-02T00:00:00\", \"casos\": 21.0}, {\"dates\": \"2022-01-09T00:00:00\", \"casos\": 14.0}, {\"dates\": \"2022-01-16T00:00:00\", \"casos\": 22.0}, {\"dates\": \"2022-01-23T00:00:00\", \"casos\": 19.0}, {\"dates\": \"2022-01-30T00:00:00\", \"casos\": 31.0}, {\"dates\": \"2022-02-06T00:00:00\", \"casos\": 35.0}, {\"dates\": \"2022-02-13T00:00:00\", \"casos\": 47.0}, {\"dates\": \"2022-02-20T00:00:00\", \"casos\": 62.0}, {\"dates\": \"2022-02-27T00:00:00\", \"casos\": 66.0}, {\"dates\": \"2022-03-06T00:00:00\", \"casos\": 116.0}, {\"dates\": \"2022-03-13T00:00:00\", \"casos\": 126.0}, {\"dates\": \"2022-03-20T00:00:00\", \"casos\": 177.0}, {\"dates\": \"2022-03-27T00:00:00\", \"casos\": 153.0}, {\"dates\": \"2022-04-03T00:00:00\", \"casos\": 222.0}, {\"dates\": \"2022-04-10T00:00:00\", \"casos\": 201.0}, {\"dates\": \"2022-04-17T00:00:00\", \"casos\": 234.0}, {\"dates\": \"2022-04-24T00:00:00\", \"casos\": 342.0}, {\"dates\": \"2022-05-01T00:00:00\", \"casos\": 461.0}, {\"dates\": \"2022-05-08T00:00:00\", \"casos\": 505.0}, {\"dates\": \"2022-05-15T00:00:00\", \"casos\": 406.0}, {\"dates\": \"2022-05-22T00:00:00\", \"casos\": 400.0}, {\"dates\": \"2022-05-29T00:00:00\", \"casos\": 338.0}, {\"dates\": \"2022-06-05T00:00:00\", \"casos\": 255.0}, {\"dates\": \"2022-06-12T00:00:00\", \"casos\": 153.0}, {\"dates\": \"2022-06-19T00:00:00\", \"casos\": 209.0}, {\"dates\": \"2022-06-26T00:00:00\", \"casos\": 189.0}, {\"dates\": \"2022-07-03T00:00:00\", \"casos\": 155.0}, {\"dates\": \"2022-07-10T00:00:00\", \"casos\": 144.0}, {\"dates\": \"2022-07-17T00:00:00\", \"casos\": 194.0}, {\"dates\": \"2022-07-24T00:00:00\", \"casos\": 148.0}, {\"dates\": \"2022-07-31T00:00:00\", \"casos\": 145.0}, {\"dates\": \"2022-08-07T00:00:00\", \"casos\": 106.0}, {\"dates\": \"2022-08-14T00:00:00\", \"casos\": 110.0}, {\"dates\": \"2022-08-21T00:00:00\", \"casos\": 99.0}, {\"dates\": \"2022-08-28T00:00:00\", \"casos\": 94.0}, {\"dates\": \"2022-09-04T00:00:00\", \"casos\": 101.0}, {\"dates\": \"2022-09-11T00:00:00\", \"casos\": 120.0}, {\"dates\": \"2022-09-18T00:00:00\", \"casos\": 102.0}, {\"dates\": \"2022-09-25T00:00:00\", \"casos\": 95.0}, {\"dates\": \"2022-10-02T00:00:00\", \"casos\": 102.0}, {\"dates\": \"2022-10-09T00:00:00\", \"casos\": 123.0}, {\"dates\": \"2022-10-16T00:00:00\", \"casos\": 160.0}, {\"dates\": \"2022-10-23T00:00:00\", \"casos\": 139.0}, {\"dates\": \"2022-10-30T00:00:00\", \"casos\": 131.0}, {\"dates\": \"2022-11-06T00:00:00\", \"casos\": 171.0}, {\"dates\": \"2022-11-13T00:00:00\", \"casos\": 129.0}, {\"dates\": \"2022-11-20T00:00:00\", \"casos\": 94.0}, {\"dates\": \"2022-11-27T00:00:00\", \"casos\": 86.0}, {\"dates\": \"2022-12-04T00:00:00\", \"casos\": 98.0}, {\"dates\": \"2022-12-11T00:00:00\", \"casos\": 123.0}, {\"dates\": \"2022-12-18T00:00:00\", \"casos\": 117.0}, {\"dates\": \"2022-12-25T00:00:00\", \"casos\": 163.0}, {\"dates\": \"2023-01-01T00:00:00\", \"casos\": 230.0}, {\"dates\": \"2023-01-08T00:00:00\", \"casos\": 218.0}, {\"dates\": \"2023-01-15T00:00:00\", \"casos\": 246.0}, {\"dates\": \"2023-01-22T00:00:00\", \"casos\": 312.0}, {\"dates\": \"2023-01-29T00:00:00\", \"casos\": 383.0}, {\"dates\": \"2023-02-05T00:00:00\", \"casos\": 525.0}, {\"dates\": \"2023-02-12T00:00:00\", \"casos\": 372.0}, {\"dates\": \"2023-02-19T00:00:00\", \"casos\": 507.0}, {\"dates\": \"2023-02-26T00:00:00\", \"casos\": 870.0}, {\"dates\": \"2023-03-05T00:00:00\", \"casos\": 945.0}, {\"dates\": \"2023-03-12T00:00:00\", \"casos\": 1125.0}, {\"dates\": \"2023-03-19T00:00:00\", \"casos\": 1382.0}, {\"dates\": \"2023-03-26T00:00:00\", \"casos\": 1580.0}, {\"dates\": \"2023-04-02T00:00:00\", \"casos\": 1420.0}, {\"dates\": \"2023-04-09T00:00:00\", \"casos\": 1783.0}, {\"dates\": \"2023-04-16T00:00:00\", \"casos\": 1502.0}, {\"dates\": \"2023-04-23T00:00:00\", \"casos\": 1572.0}, {\"dates\": \"2023-04-30T00:00:00\", \"casos\": 1919.0}, {\"dates\": \"2023-05-07T00:00:00\", \"casos\": 1807.0}, {\"dates\": \"2023-05-14T00:00:00\", \"casos\": 1731.0}, {\"dates\": \"2023-05-21T00:00:00\", \"casos\": 1479.0}, {\"dates\": \"2023-05-28T00:00:00\", \"casos\": 1328.0}, {\"dates\": \"2023-06-04T00:00:00\", \"casos\": 1238.0}, {\"dates\": \"2023-06-11T00:00:00\", \"casos\": 1348.0}, {\"dates\": \"2023-06-18T00:00:00\", \"casos\": 1236.0}, {\"dates\": \"2023-06-25T00:00:00\", \"casos\": 996.0}], \"data-5f40759a66c681895e3eb39e16c46904\": [{\"dates\": \"2022-01-02T00:00:00\", \"variable\": \"preds\", \"CRPS_score\": 16.920249072311154}, {\"dates\": \"2022-01-09T00:00:00\", \"variable\": \"preds\", \"CRPS_score\": 9.999341521200265}, {\"dates\": \"2022-01-16T00:00:00\", \"variable\": \"preds\", \"CRPS_score\": 18.060801273693535}, {\"dates\": \"2022-01-23T00:00:00\", \"variable\": \"preds\", \"CRPS_score\": 15.087317969068886}, {\"dates\": \"2022-01-30T00:00:00\", \"variable\": \"preds\", \"CRPS_score\": 6.435420106849461}, {\"dates\": \"2022-02-06T00:00:00\", \"variable\": \"preds\", \"CRPS_score\": 8.844940005478477}, {\"dates\": \"2022-02-13T00:00:00\", \"variable\": \"preds\", \"CRPS_score\": 17.78135810004139}, {\"dates\": \"2022-02-20T00:00:00\", \"variable\": \"preds\", \"CRPS_score\": 30.142368398145198}, {\"dates\": \"2022-02-27T00:00:00\", \"variable\": \"preds\", \"CRPS_score\": 5.304387340568602}, {\"dates\": \"2022-03-06T00:00:00\", \"variable\": \"preds\", \"CRPS_score\": 30.639546094372196}, {\"dates\": \"2022-03-13T00:00:00\", \"variable\": \"preds\", \"CRPS_score\": 32.827830133507554}, {\"dates\": \"2022-03-20T00:00:00\", \"variable\": \"preds\", \"CRPS_score\": 68.23596483633254}, {\"dates\": \"2022-03-27T00:00:00\", \"variable\": \"preds\", \"CRPS_score\": 21.655701691767728}, {\"dates\": \"2022-04-03T00:00:00\", \"variable\": \"preds\", \"CRPS_score\": 27.825640942422464}, {\"dates\": \"2022-04-10T00:00:00\", \"variable\": \"preds\", \"CRPS_score\": 39.6522415916973}, {\"dates\": \"2022-04-17T00:00:00\", \"variable\": \"preds\", \"CRPS_score\": 54.705279985680036}, {\"dates\": \"2022-04-24T00:00:00\", \"variable\": \"preds\", \"CRPS_score\": 61.66827730172728}, {\"dates\": \"2022-05-01T00:00:00\", \"variable\": \"preds\", \"CRPS_score\": 135.4831161501187}, {\"dates\": \"2022-05-08T00:00:00\", \"variable\": \"preds\", \"CRPS_score\": 150.02173267257373}, {\"dates\": \"2022-05-15T00:00:00\", \"variable\": \"preds\", \"CRPS_score\": 91.23503488653155}, {\"dates\": \"2022-05-22T00:00:00\", \"variable\": \"preds\", \"CRPS_score\": 58.30841899172583}, {\"dates\": \"2022-05-29T00:00:00\", \"variable\": \"preds\", \"CRPS_score\": 94.05531671227111}, {\"dates\": \"2022-06-05T00:00:00\", \"variable\": \"preds\", \"CRPS_score\": 154.1866794535334}, {\"dates\": \"2022-06-12T00:00:00\", \"variable\": \"preds\", \"CRPS_score\": 223.1083042277269}, {\"dates\": \"2022-06-19T00:00:00\", \"variable\": \"preds\", \"CRPS_score\": 25.48142804423751}, {\"dates\": \"2022-06-26T00:00:00\", \"variable\": \"preds\", \"CRPS_score\": 25.015366351669158}, {\"dates\": \"2022-07-03T00:00:00\", \"variable\": \"preds\", \"CRPS_score\": 25.493567475090064}, {\"dates\": \"2022-07-10T00:00:00\", \"variable\": \"preds\", \"CRPS_score\": 31.334643616680573}, {\"dates\": \"2022-07-17T00:00:00\", \"variable\": \"preds\", \"CRPS_score\": 31.738704462686457}, {\"dates\": \"2022-07-24T00:00:00\", \"variable\": \"preds\", \"CRPS_score\": 17.359304687825137}, {\"dates\": \"2022-07-31T00:00:00\", \"variable\": \"preds\", \"CRPS_score\": 22.4918540052969}, {\"dates\": \"2022-08-07T00:00:00\", \"variable\": \"preds\", \"CRPS_score\": 29.56708023144866}, {\"dates\": \"2022-08-14T00:00:00\", \"variable\": \"preds\", \"CRPS_score\": 9.771228307864813}, {\"dates\": \"2022-08-21T00:00:00\", \"variable\": \"preds\", \"CRPS_score\": 12.557560849547965}, {\"dates\": \"2022-08-28T00:00:00\", \"variable\": \"preds\", \"CRPS_score\": 16.683251624280558}, {\"dates\": \"2022-09-04T00:00:00\", \"variable\": \"preds\", \"CRPS_score\": 19.959080337231047}, {\"dates\": \"2022-09-11T00:00:00\", \"variable\": \"preds\", \"CRPS_score\": 14.341479412389152}, {\"dates\": \"2022-09-18T00:00:00\", \"variable\": \"preds\", \"CRPS_score\": 11.28351316975925}, {\"dates\": \"2022-09-25T00:00:00\", \"variable\": \"preds\", \"CRPS_score\": 14.43508882810243}, {\"dates\": \"2022-10-02T00:00:00\", \"variable\": \"preds\", \"CRPS_score\": 18.470853821594382}, {\"dates\": \"2022-10-09T00:00:00\", \"variable\": \"preds\", \"CRPS_score\": 14.71946060716231}, {\"dates\": \"2022-10-16T00:00:00\", \"variable\": \"preds\", \"CRPS_score\": 38.572233062354464}, {\"dates\": \"2022-10-23T00:00:00\", \"variable\": \"preds\", \"CRPS_score\": 25.085830709989363}, {\"dates\": \"2022-10-30T00:00:00\", \"variable\": \"preds\", \"CRPS_score\": 24.37422178185294}, {\"dates\": \"2022-11-06T00:00:00\", \"variable\": \"preds\", \"CRPS_score\": 21.87257353124624}, {\"dates\": \"2022-11-13T00:00:00\", \"variable\": \"preds\", \"CRPS_score\": 16.31288580915636}, {\"dates\": \"2022-11-20T00:00:00\", \"variable\": \"preds\", \"CRPS_score\": 29.110257345544138}, {\"dates\": \"2022-11-27T00:00:00\", \"variable\": \"preds\", \"CRPS_score\": 36.24345809783928}, {\"dates\": \"2022-12-04T00:00:00\", \"variable\": \"preds\", \"CRPS_score\": 9.30161875337027}, {\"dates\": \"2022-12-11T00:00:00\", \"variable\": \"preds\", \"CRPS_score\": 24.606882305257358}, {\"dates\": \"2022-12-18T00:00:00\", \"variable\": \"preds\", \"CRPS_score\": 21.786382483024642}, {\"dates\": \"2022-12-25T00:00:00\", \"variable\": \"preds\", \"CRPS_score\": 53.5530958542931}, {\"dates\": \"2023-01-01T00:00:00\", \"variable\": \"preds\", \"CRPS_score\": 50.09663691382404}, {\"dates\": \"2023-01-08T00:00:00\", \"variable\": \"preds\", \"CRPS_score\": 35.15204494590976}, {\"dates\": \"2023-01-15T00:00:00\", \"variable\": \"preds\", \"CRPS_score\": 50.79953111227899}, {\"dates\": \"2023-01-22T00:00:00\", \"variable\": \"preds\", \"CRPS_score\": 88.92303829564955}, {\"dates\": \"2023-01-29T00:00:00\", \"variable\": \"preds\", \"CRPS_score\": 46.90457985827837}, {\"dates\": \"2023-02-05T00:00:00\", \"variable\": \"preds\", \"CRPS_score\": 118.66040100019985}, {\"dates\": \"2023-02-12T00:00:00\", \"variable\": \"preds\", \"CRPS_score\": 66.35132205394687}, {\"dates\": \"2023-02-19T00:00:00\", \"variable\": \"preds\", \"CRPS_score\": 113.6712822885595}, {\"dates\": \"2023-02-26T00:00:00\", \"variable\": \"preds\", \"CRPS_score\": 265.21619720322076}, {\"dates\": \"2023-03-05T00:00:00\", \"variable\": \"preds\", \"CRPS_score\": 271.33825907491996}, {\"dates\": \"2023-03-12T00:00:00\", \"variable\": \"preds\", \"CRPS_score\": 375.5054573143337}, {\"dates\": \"2023-03-19T00:00:00\", \"variable\": \"preds\", \"CRPS_score\": 531.6894655359204}, {\"dates\": \"2023-03-26T00:00:00\", \"variable\": \"preds\", \"CRPS_score\": 192.70686122835187}, {\"dates\": \"2023-04-02T00:00:00\", \"variable\": \"preds\", \"CRPS_score\": 287.99837472450685}, {\"dates\": \"2023-04-09T00:00:00\", \"variable\": \"preds\", \"CRPS_score\": 438.97018062043907}, {\"dates\": \"2023-04-16T00:00:00\", \"variable\": \"preds\", \"CRPS_score\": 640.6023133913245}, {\"dates\": \"2023-04-23T00:00:00\", \"variable\": \"preds\", \"CRPS_score\": 217.4841610437813}, {\"dates\": \"2023-04-30T00:00:00\", \"variable\": \"preds\", \"CRPS_score\": 325.16664329482995}, {\"dates\": \"2023-05-07T00:00:00\", \"variable\": \"preds\", \"CRPS_score\": 461.3132638980412}, {\"dates\": \"2023-05-14T00:00:00\", \"variable\": \"preds\", \"CRPS_score\": 645.741150925049}, {\"dates\": \"2023-05-21T00:00:00\", \"variable\": \"preds\", \"CRPS_score\": 272.6220027675728}, {\"dates\": \"2023-05-28T00:00:00\", \"variable\": \"preds\", \"CRPS_score\": 397.491510877537}, {\"dates\": \"2023-06-04T00:00:00\", \"variable\": \"preds\", \"CRPS_score\": 558.2696188306973}, {\"dates\": \"2023-06-11T00:00:00\", \"variable\": \"preds\", \"CRPS_score\": 717.722981956641}, {\"dates\": \"2023-06-18T00:00:00\", \"variable\": \"preds\", \"CRPS_score\": 162.93731878802086}, {\"dates\": \"2023-06-25T00:00:00\", \"variable\": \"preds\", \"CRPS_score\": 265.3869549731871}, {\"dates\": \"2022-01-02T00:00:00\", \"variable\": \"77\", \"CRPS_score\": 104.55845669998128}, {\"dates\": \"2022-01-09T00:00:00\", \"variable\": \"77\", \"CRPS_score\": 91.7379189877961}, {\"dates\": \"2022-01-16T00:00:00\", \"variable\": \"77\", \"CRPS_score\": 40.23335819802682}, {\"dates\": \"2022-01-23T00:00:00\", \"variable\": \"77\", \"CRPS_score\": 68.69110440793621}, {\"dates\": \"2022-01-30T00:00:00\", \"variable\": \"77\", \"CRPS_score\": 62.88968852978633}, {\"dates\": \"2022-02-06T00:00:00\", \"variable\": \"77\", \"CRPS_score\": 62.84298498466955}, {\"dates\": \"2022-02-13T00:00:00\", \"variable\": \"77\", \"CRPS_score\": 60.62610097284442}, {\"dates\": \"2022-02-20T00:00:00\", \"variable\": \"77\", \"CRPS_score\": 74.32334780955982}, {\"dates\": \"2022-02-27T00:00:00\", \"variable\": \"77\", \"CRPS_score\": 88.69668833267804}, {\"dates\": \"2022-03-06T00:00:00\", \"variable\": \"77\", \"CRPS_score\": 120.91292207054344}, {\"dates\": \"2022-03-13T00:00:00\", \"variable\": \"77\", \"CRPS_score\": 107.39806797446198}, {\"dates\": \"2022-03-20T00:00:00\", \"variable\": \"77\", \"CRPS_score\": 104.78493429728458}, {\"dates\": \"2022-03-27T00:00:00\", \"variable\": \"77\", \"CRPS_score\": 86.3824811359674}, {\"dates\": \"2022-04-03T00:00:00\", \"variable\": \"77\", \"CRPS_score\": 74.78071843252806}, {\"dates\": \"2022-04-10T00:00:00\", \"variable\": \"77\", \"CRPS_score\": 94.05252708950808}, {\"dates\": \"2022-04-17T00:00:00\", \"variable\": \"77\", \"CRPS_score\": 139.47061799223806}, {\"dates\": \"2022-04-24T00:00:00\", \"variable\": \"77\", \"CRPS_score\": 180.16789563201186}, {\"dates\": \"2022-05-01T00:00:00\", \"variable\": \"77\", \"CRPS_score\": 204.11713452802599}, {\"dates\": \"2022-05-08T00:00:00\", \"variable\": \"77\", \"CRPS_score\": 224.34190080117992}, {\"dates\": \"2022-05-15T00:00:00\", \"variable\": \"77\", \"CRPS_score\": 160.73430652363388}, {\"dates\": \"2022-05-22T00:00:00\", \"variable\": \"77\", \"CRPS_score\": 118.16875551058955}, {\"dates\": \"2022-05-29T00:00:00\", \"variable\": \"77\", \"CRPS_score\": 209.02594471143578}, {\"dates\": \"2022-06-05T00:00:00\", \"variable\": \"77\", \"CRPS_score\": 544.3118228508745}, {\"dates\": \"2022-06-12T00:00:00\", \"variable\": \"77\", \"CRPS_score\": 492.5369035728196}, {\"dates\": \"2022-06-19T00:00:00\", \"variable\": \"77\", \"CRPS_score\": 335.2748175049744}, {\"dates\": \"2022-06-26T00:00:00\", \"variable\": \"77\", \"CRPS_score\": 160.69081679133478}, {\"dates\": \"2022-07-03T00:00:00\", \"variable\": \"77\", \"CRPS_score\": 161.95616314952892}, {\"dates\": \"2022-07-10T00:00:00\", \"variable\": \"77\", \"CRPS_score\": 99.64208653707993}, {\"dates\": \"2022-07-17T00:00:00\", \"variable\": \"77\", \"CRPS_score\": 97.12708500582232}, {\"dates\": \"2022-07-24T00:00:00\", \"variable\": \"77\", \"CRPS_score\": 118.75749835310884}, {\"dates\": \"2022-07-31T00:00:00\", \"variable\": \"77\", \"CRPS_score\": 83.37919765511103}, {\"dates\": \"2022-08-07T00:00:00\", \"variable\": \"77\", \"CRPS_score\": 79.38701700728656}, {\"dates\": \"2022-08-14T00:00:00\", \"variable\": \"77\", \"CRPS_score\": 76.18069504644563}, {\"dates\": \"2022-08-21T00:00:00\", \"variable\": \"77\", \"CRPS_score\": 84.58468864239649}, {\"dates\": \"2022-08-28T00:00:00\", \"variable\": \"77\", \"CRPS_score\": 95.78323220740126}, {\"dates\": \"2022-09-04T00:00:00\", \"variable\": \"77\", \"CRPS_score\": 95.43921307004594}, {\"dates\": \"2022-09-11T00:00:00\", \"variable\": \"77\", \"CRPS_score\": 63.47805315802982}, {\"dates\": \"2022-09-18T00:00:00\", \"variable\": \"77\", \"CRPS_score\": 31.70105382600577}, {\"dates\": \"2022-09-25T00:00:00\", \"variable\": \"77\", \"CRPS_score\": 66.65373041129372}, {\"dates\": \"2022-10-02T00:00:00\", \"variable\": \"77\", \"CRPS_score\": 57.787923238340696}, {\"dates\": \"2022-10-09T00:00:00\", \"variable\": \"77\", \"CRPS_score\": 99.70061377415897}, {\"dates\": \"2022-10-16T00:00:00\", \"variable\": \"77\", \"CRPS_score\": 107.28954752396555}, {\"dates\": \"2022-10-23T00:00:00\", \"variable\": \"77\", \"CRPS_score\": 148.03379575012036}, {\"dates\": \"2022-10-30T00:00:00\", \"variable\": \"77\", \"CRPS_score\": 149.03178429503797}, {\"dates\": \"2022-11-06T00:00:00\", \"variable\": \"77\", \"CRPS_score\": 164.75329246565505}, {\"dates\": \"2022-11-13T00:00:00\", \"variable\": \"77\", \"CRPS_score\": 126.32264571885571}, {\"dates\": \"2022-11-20T00:00:00\", \"variable\": \"77\", \"CRPS_score\": 121.03720705873265}, {\"dates\": \"2022-11-27T00:00:00\", \"variable\": \"77\", \"CRPS_score\": 78.48551904094197}, {\"dates\": \"2022-12-04T00:00:00\", \"variable\": \"77\", \"CRPS_score\": 60.463923134142235}, {\"dates\": \"2022-12-11T00:00:00\", \"variable\": \"77\", \"CRPS_score\": 105.72260069857212}, {\"dates\": \"2022-12-18T00:00:00\", \"variable\": \"77\", \"CRPS_score\": 94.72905925442818}, {\"dates\": \"2022-12-25T00:00:00\", \"variable\": \"77\", \"CRPS_score\": 112.57616947241625}, {\"dates\": \"2023-01-01T00:00:00\", \"variable\": \"77\", \"CRPS_score\": 117.42198381834773}, {\"dates\": \"2023-01-08T00:00:00\", \"variable\": \"77\", \"CRPS_score\": 114.10104627317202}, {\"dates\": \"2023-01-15T00:00:00\", \"variable\": \"77\", \"CRPS_score\": 85.74009190632859}, {\"dates\": \"2023-01-22T00:00:00\", \"variable\": \"77\", \"CRPS_score\": 87.82574140346425}, {\"dates\": \"2023-01-29T00:00:00\", \"variable\": \"77\", \"CRPS_score\": 91.97122501128014}, {\"dates\": \"2023-02-05T00:00:00\", \"variable\": \"77\", \"CRPS_score\": 90.4098561654683}, {\"dates\": \"2023-02-12T00:00:00\", \"variable\": \"77\", \"CRPS_score\": 122.78938365222291}, {\"dates\": \"2023-02-19T00:00:00\", \"variable\": \"77\", \"CRPS_score\": 117.7147886678361}, {\"dates\": \"2023-02-26T00:00:00\", \"variable\": \"77\", \"CRPS_score\": 186.31580372233137}, {\"dates\": \"2023-03-05T00:00:00\", \"variable\": \"77\", \"CRPS_score\": 167.308778412836}, {\"dates\": \"2023-03-12T00:00:00\", \"variable\": \"77\", \"CRPS_score\": 212.86373078930362}, {\"dates\": \"2023-03-19T00:00:00\", \"variable\": \"77\", \"CRPS_score\": 256.5323279009395}, {\"dates\": \"2023-03-26T00:00:00\", \"variable\": \"77\", \"CRPS_score\": 407.09572690633615}, {\"dates\": \"2023-04-02T00:00:00\", \"variable\": \"77\", \"CRPS_score\": 418.0748469420347}, {\"dates\": \"2023-04-09T00:00:00\", \"variable\": \"77\", \"CRPS_score\": 232.77510991585166}, {\"dates\": \"2023-04-16T00:00:00\", \"variable\": \"77\", \"CRPS_score\": 152.36977344715453}, {\"dates\": \"2023-04-23T00:00:00\", \"variable\": \"77\", \"CRPS_score\": 235.96640139946118}, {\"dates\": \"2023-04-30T00:00:00\", \"variable\": \"77\", \"CRPS_score\": 227.8321166429514}, {\"dates\": \"2023-05-07T00:00:00\", \"variable\": \"77\", \"CRPS_score\": 235.5653917484764}, {\"dates\": \"2023-05-14T00:00:00\", \"variable\": \"77\", \"CRPS_score\": 168.4207103089147}, {\"dates\": \"2023-05-21T00:00:00\", \"variable\": \"77\", \"CRPS_score\": 130.93611353916168}, {\"dates\": \"2023-05-28T00:00:00\", \"variable\": \"77\", \"CRPS_score\": 130.79008636545865}, {\"dates\": \"2023-06-04T00:00:00\", \"variable\": \"77\", \"CRPS_score\": 745.0268492258701}, {\"dates\": \"2023-06-11T00:00:00\", \"variable\": \"77\", \"CRPS_score\": 597.2602354054974}, {\"dates\": \"2023-06-18T00:00:00\", \"variable\": \"77\", \"CRPS_score\": 151.75795507577075}, {\"dates\": \"2023-06-25T00:00:00\", \"variable\": \"77\", \"CRPS_score\": 222.0105116801298}, {\"dates\": \"2022-01-02T00:00:00\", \"variable\": \"78\", \"CRPS_score\": 59.71070753518191}, {\"dates\": \"2022-01-09T00:00:00\", \"variable\": \"78\", \"CRPS_score\": 31.950571400069915}, {\"dates\": \"2022-01-16T00:00:00\", \"variable\": \"78\", \"CRPS_score\": 26.067531936960993}, {\"dates\": \"2022-01-23T00:00:00\", \"variable\": \"78\", \"CRPS_score\": 28.236875085510338}, {\"dates\": \"2022-01-30T00:00:00\", \"variable\": \"78\", \"CRPS_score\": 38.7026632387985}, {\"dates\": \"2022-02-06T00:00:00\", \"variable\": \"78\", \"CRPS_score\": 37.40837982696051}, {\"dates\": \"2022-02-13T00:00:00\", \"variable\": \"78\", \"CRPS_score\": 40.13891203164224}, {\"dates\": \"2022-02-20T00:00:00\", \"variable\": \"78\", \"CRPS_score\": 102.3299844250849}, {\"dates\": \"2022-02-27T00:00:00\", \"variable\": \"78\", \"CRPS_score\": 109.36655853839392}, {\"dates\": \"2022-03-06T00:00:00\", \"variable\": \"78\", \"CRPS_score\": 78.7586643061427}, {\"dates\": \"2022-03-13T00:00:00\", \"variable\": \"78\", \"CRPS_score\": 154.11584454438616}, {\"dates\": \"2022-03-20T00:00:00\", \"variable\": \"78\", \"CRPS_score\": 100.0723275513694}, {\"dates\": \"2022-03-27T00:00:00\", \"variable\": \"78\", \"CRPS_score\": 41.56054014915585}, {\"dates\": \"2022-04-03T00:00:00\", \"variable\": \"78\", \"CRPS_score\": 58.91300355375733}, {\"dates\": \"2022-04-10T00:00:00\", \"variable\": \"78\", \"CRPS_score\": 38.408868854377296}, {\"dates\": \"2022-04-17T00:00:00\", \"variable\": \"78\", \"CRPS_score\": 56.08565706341848}, {\"dates\": \"2022-04-24T00:00:00\", \"variable\": \"78\", \"CRPS_score\": 73.1770224233497}, {\"dates\": \"2022-05-01T00:00:00\", \"variable\": \"78\", \"CRPS_score\": 102.06068548655794}, {\"dates\": \"2022-05-08T00:00:00\", \"variable\": \"78\", \"CRPS_score\": 89.79329737595484}, {\"dates\": \"2022-05-15T00:00:00\", \"variable\": \"78\", \"CRPS_score\": 101.83271023110125}, {\"dates\": \"2022-05-22T00:00:00\", \"variable\": \"78\", \"CRPS_score\": 76.74446415610655}, {\"dates\": \"2022-05-29T00:00:00\", \"variable\": \"78\", \"CRPS_score\": 84.85417477460399}, {\"dates\": \"2022-06-05T00:00:00\", \"variable\": \"78\", \"CRPS_score\": 155.70693516791493}, {\"dates\": \"2022-06-12T00:00:00\", \"variable\": \"78\", \"CRPS_score\": 68.32567524002425}, {\"dates\": \"2022-06-19T00:00:00\", \"variable\": \"78\", \"CRPS_score\": 47.90232881979586}, {\"dates\": \"2022-06-26T00:00:00\", \"variable\": \"78\", \"CRPS_score\": 43.44643095963619}, {\"dates\": \"2022-07-03T00:00:00\", \"variable\": \"78\", \"CRPS_score\": 95.14701888925102}, {\"dates\": \"2022-07-10T00:00:00\", \"variable\": \"78\", \"CRPS_score\": 87.75884628676253}, {\"dates\": \"2022-07-17T00:00:00\", \"variable\": \"78\", \"CRPS_score\": 123.73083283256818}, {\"dates\": \"2022-07-24T00:00:00\", \"variable\": \"78\", \"CRPS_score\": 91.73512239600592}, {\"dates\": \"2022-07-31T00:00:00\", \"variable\": \"78\", \"CRPS_score\": 67.33250127590576}, {\"dates\": \"2022-08-07T00:00:00\", \"variable\": \"78\", \"CRPS_score\": 63.72287679061346}, {\"dates\": \"2022-08-14T00:00:00\", \"variable\": \"78\", \"CRPS_score\": 66.13200946920395}, {\"dates\": \"2022-08-21T00:00:00\", \"variable\": \"78\", \"CRPS_score\": 58.90128638421324}, {\"dates\": \"2022-08-28T00:00:00\", \"variable\": \"78\", \"CRPS_score\": 55.98684971838158}, {\"dates\": \"2022-09-04T00:00:00\", \"variable\": \"78\", \"CRPS_score\": 60.428006887493176}, {\"dates\": \"2022-09-11T00:00:00\", \"variable\": \"78\", \"CRPS_score\": 72.29493968606779}, {\"dates\": \"2022-09-18T00:00:00\", \"variable\": \"78\", \"CRPS_score\": 60.817765395538075}, {\"dates\": \"2022-09-25T00:00:00\", \"variable\": \"78\", \"CRPS_score\": 58.61739934416971}, {\"dates\": \"2022-10-02T00:00:00\", \"variable\": \"78\", \"CRPS_score\": 60.68621866137229}, {\"dates\": \"2022-10-09T00:00:00\", \"variable\": \"78\", \"CRPS_score\": 73.34184257926597}, {\"dates\": \"2022-10-16T00:00:00\", \"variable\": \"78\", \"CRPS_score\": 99.41683958980678}, {\"dates\": \"2022-10-23T00:00:00\", \"variable\": \"78\", \"CRPS_score\": 88.73330933307172}, {\"dates\": \"2022-10-30T00:00:00\", \"variable\": \"78\", \"CRPS_score\": 79.07434541408256}, {\"dates\": \"2022-11-06T00:00:00\", \"variable\": \"78\", \"CRPS_score\": 106.00993293183596}, {\"dates\": \"2022-11-13T00:00:00\", \"variable\": \"78\", \"CRPS_score\": 81.27673656425003}, {\"dates\": \"2022-11-20T00:00:00\", \"variable\": \"78\", \"CRPS_score\": 56.90322204530253}, {\"dates\": \"2022-11-27T00:00:00\", \"variable\": \"78\", \"CRPS_score\": 52.58122359439103}, {\"dates\": \"2022-12-04T00:00:00\", \"variable\": \"78\", \"CRPS_score\": 58.511232138302226}, {\"dates\": \"2022-12-11T00:00:00\", \"variable\": \"78\", \"CRPS_score\": 73.79393569511417}, {\"dates\": \"2022-12-18T00:00:00\", \"variable\": \"78\", \"CRPS_score\": 65.91298083698462}, {\"dates\": \"2022-12-25T00:00:00\", \"variable\": \"78\", \"CRPS_score\": 55.77329577085797}, {\"dates\": \"2023-01-01T00:00:00\", \"variable\": \"78\", \"CRPS_score\": 128.09748530729635}, {\"dates\": \"2023-01-08T00:00:00\", \"variable\": \"78\", \"CRPS_score\": 65.8870900247766}, {\"dates\": \"2023-01-15T00:00:00\", \"variable\": \"78\", \"CRPS_score\": 66.90973670022615}, {\"dates\": \"2023-01-22T00:00:00\", \"variable\": \"78\", \"CRPS_score\": 91.87392966536488}, {\"dates\": \"2023-01-29T00:00:00\", \"variable\": \"78\", \"CRPS_score\": 52.69752984363946}, {\"dates\": \"2023-02-05T00:00:00\", \"variable\": \"78\", \"CRPS_score\": 226.37715545697185}, {\"dates\": \"2023-02-12T00:00:00\", \"variable\": \"78\", \"CRPS_score\": 66.22342634581739}, {\"dates\": \"2023-02-19T00:00:00\", \"variable\": \"78\", \"CRPS_score\": 89.46839258368396}, {\"dates\": \"2023-02-26T00:00:00\", \"variable\": \"78\", \"CRPS_score\": 297.60471502978976}, {\"dates\": \"2023-03-05T00:00:00\", \"variable\": \"78\", \"CRPS_score\": 212.85303255279157}, {\"dates\": \"2023-03-12T00:00:00\", \"variable\": \"78\", \"CRPS_score\": 464.30937278699474}, {\"dates\": \"2023-03-19T00:00:00\", \"variable\": \"78\", \"CRPS_score\": 680.8021317748841}, {\"dates\": \"2023-03-26T00:00:00\", \"variable\": \"78\", \"CRPS_score\": 861.0648209921702}, {\"dates\": \"2023-04-02T00:00:00\", \"variable\": \"78\", \"CRPS_score\": 694.3777773873757}, {\"dates\": \"2023-04-09T00:00:00\", \"variable\": \"78\", \"CRPS_score\": 891.2684036761809}, {\"dates\": \"2023-04-16T00:00:00\", \"variable\": \"78\", \"CRPS_score\": 463.54905768209795}, {\"dates\": \"2023-04-23T00:00:00\", \"variable\": \"78\", \"CRPS_score\": 524.9756690114988}, {\"dates\": \"2023-04-30T00:00:00\", \"variable\": \"78\", \"CRPS_score\": 990.61147268555}, {\"dates\": \"2023-05-07T00:00:00\", \"variable\": \"78\", \"CRPS_score\": 821.7943097306537}, {\"dates\": \"2023-05-14T00:00:00\", \"variable\": \"78\", \"CRPS_score\": 950.8963768273065}, {\"dates\": \"2023-05-21T00:00:00\", \"variable\": \"78\", \"CRPS_score\": 1009.2665579728938}, {\"dates\": \"2023-05-28T00:00:00\", \"variable\": \"78\", \"CRPS_score\": 363.5968922524446}, {\"dates\": \"2023-06-04T00:00:00\", \"variable\": \"78\", \"CRPS_score\": 187.9203261643103}, {\"dates\": \"2023-06-11T00:00:00\", \"variable\": \"78\", \"CRPS_score\": 466.29731416964876}, {\"dates\": \"2023-06-18T00:00:00\", \"variable\": \"78\", \"CRPS_score\": 311.1883350059793}, {\"dates\": \"2023-06-25T00:00:00\", \"variable\": \"78\", \"CRPS_score\": 419.7056081943809}]}}, {\"mode\": \"vega-lite\"});\n",
       "</script>"
      ],
      "text/plain": [
       "alt.VConcatChart(...)"
      ]
     },
     "execution_count": 14,
     "metadata": {},
     "output_type": "execute_result"
    }
   ],
   "source": [
    "score.plot_crps()"
   ]
  },
  {
   "cell_type": "markdown",
   "id": "0bfc7d67",
   "metadata": {},
   "source": [
    "To see the Log score for your model (key = `preds`) and the other, use the code below. The first dict contains the score by each point, and the second one shows the mean of the score.  "
   ]
  },
  {
   "cell_type": "code",
   "execution_count": 15,
   "id": "c8e3cf5c",
   "metadata": {},
   "outputs": [
    {
     "data": {
      "text/plain": [
       "({'preds': dates\n",
       "  2022-01-02   -223.112436\n",
       "  2022-01-09    -56.116588\n",
       "  2022-01-16   -119.614218\n",
       "  2022-01-23    -64.933527\n",
       "  2022-01-30     -3.923909\n",
       "                   ...    \n",
       "  2023-05-28     -8.241205\n",
       "  2023-06-04     -8.611541\n",
       "  2023-06-11     -8.915073\n",
       "  2023-06-18     -7.455601\n",
       "  2023-06-25     -7.846381\n",
       "  Length: 78, dtype: float64,\n",
       "  '77': dates\n",
       "  2022-01-02   -7.012464\n",
       "  2022-01-09   -6.890274\n",
       "  2022-01-16   -6.066402\n",
       "  2022-01-23   -6.600462\n",
       "  2022-01-30   -6.514034\n",
       "                  ...   \n",
       "  2023-05-28   -7.034739\n",
       "  2023-06-04   -9.349231\n",
       "  2023-06-11   -8.475823\n",
       "  2023-06-18   -7.299940\n",
       "  2023-06-25   -7.345863\n",
       "  Length: 78, dtype: float64,\n",
       "  '78': dates\n",
       "  2022-01-02   -6.251962\n",
       "  2022-01-09   -5.828483\n",
       "  2022-01-16   -5.582020\n",
       "  2022-01-23   -5.681777\n",
       "  2022-01-30   -5.982782\n",
       "                  ...   \n",
       "  2023-05-28   -7.882657\n",
       "  2023-06-04   -7.212958\n",
       "  2023-06-11   -8.539122\n",
       "  2023-06-18   -7.668388\n",
       "  2023-06-25   -8.820387\n",
       "  Length: 78, dtype: float64},\n",
       " {'preds': -11.881549349931053,\n",
       "  '77': -7.153336644286201,\n",
       "  '78': -7.185719862079375})"
      ]
     },
     "execution_count": 15,
     "metadata": {},
     "output_type": "execute_result"
    }
   ],
   "source": [
    "score.log_score"
   ]
  },
  {
   "cell_type": "markdown",
   "id": "8a24035f",
   "metadata": {},
   "source": [
    "To plot this score: "
   ]
  },
  {
   "cell_type": "code",
   "execution_count": 16,
   "id": "820b93f4",
   "metadata": {},
   "outputs": [
    {
     "data": {
      "text/html": [
       "\n",
       "<style>\n",
       "  #altair-viz-fce7fba63c94495d90c8d2b3d1cd42b6.vega-embed {\n",
       "    width: 100%;\n",
       "    display: flex;\n",
       "  }\n",
       "\n",
       "  #altair-viz-fce7fba63c94495d90c8d2b3d1cd42b6.vega-embed details,\n",
       "  #altair-viz-fce7fba63c94495d90c8d2b3d1cd42b6.vega-embed details summary {\n",
       "    position: relative;\n",
       "  }\n",
       "</style>\n",
       "<div id=\"altair-viz-fce7fba63c94495d90c8d2b3d1cd42b6\"></div>\n",
       "<script type=\"text/javascript\">\n",
       "  var VEGA_DEBUG = (typeof VEGA_DEBUG == \"undefined\") ? {} : VEGA_DEBUG;\n",
       "  (function(spec, embedOpt){\n",
       "    let outputDiv = document.currentScript.previousElementSibling;\n",
       "    if (outputDiv.id !== \"altair-viz-fce7fba63c94495d90c8d2b3d1cd42b6\") {\n",
       "      outputDiv = document.getElementById(\"altair-viz-fce7fba63c94495d90c8d2b3d1cd42b6\");\n",
       "    }\n",
       "    const paths = {\n",
       "      \"vega\": \"https://cdn.jsdelivr.net/npm/vega@5?noext\",\n",
       "      \"vega-lib\": \"https://cdn.jsdelivr.net/npm/vega-lib?noext\",\n",
       "      \"vega-lite\": \"https://cdn.jsdelivr.net/npm/vega-lite@5.17.0?noext\",\n",
       "      \"vega-embed\": \"https://cdn.jsdelivr.net/npm/vega-embed@6?noext\",\n",
       "    };\n",
       "\n",
       "    function maybeLoadScript(lib, version) {\n",
       "      var key = `${lib.replace(\"-\", \"\")}_version`;\n",
       "      return (VEGA_DEBUG[key] == version) ?\n",
       "        Promise.resolve(paths[lib]) :\n",
       "        new Promise(function(resolve, reject) {\n",
       "          var s = document.createElement('script');\n",
       "          document.getElementsByTagName(\"head\")[0].appendChild(s);\n",
       "          s.async = true;\n",
       "          s.onload = () => {\n",
       "            VEGA_DEBUG[key] = version;\n",
       "            return resolve(paths[lib]);\n",
       "          };\n",
       "          s.onerror = () => reject(`Error loading script: ${paths[lib]}`);\n",
       "          s.src = paths[lib];\n",
       "        });\n",
       "    }\n",
       "\n",
       "    function showError(err) {\n",
       "      outputDiv.innerHTML = `<div class=\"error\" style=\"color:red;\">${err}</div>`;\n",
       "      throw err;\n",
       "    }\n",
       "\n",
       "    function displayChart(vegaEmbed) {\n",
       "      vegaEmbed(outputDiv, spec, embedOpt)\n",
       "        .catch(err => showError(`Javascript Error: ${err.message}<br>This usually means there's a typo in your chart specification. See the javascript console for the full traceback.`));\n",
       "    }\n",
       "\n",
       "    if(typeof define === \"function\" && define.amd) {\n",
       "      requirejs.config({paths});\n",
       "      require([\"vega-embed\"], displayChart, err => showError(`Error loading script: ${err.message}`));\n",
       "    } else {\n",
       "      maybeLoadScript(\"vega\", \"5\")\n",
       "        .then(() => maybeLoadScript(\"vega-lite\", \"5.17.0\"))\n",
       "        .then(() => maybeLoadScript(\"vega-embed\", \"6\"))\n",
       "        .catch(showError)\n",
       "        .then(() => displayChart(vegaEmbed));\n",
       "    }\n",
       "  })({\"config\": {\"view\": {\"continuousWidth\": 300, \"continuousHeight\": 300}}, \"vconcat\": [{\"data\": {\"name\": \"data-d4775c7e2b59a23393eb246775bc1f3d\"}, \"mark\": {\"type\": \"line\"}, \"encoding\": {\"color\": {\"value\": \"black\"}, \"x\": {\"field\": \"dates\", \"type\": \"temporal\"}, \"y\": {\"field\": \"casos\", \"type\": \"quantitative\"}}, \"height\": 150, \"title\": \"New cases\", \"width\": 400}, {\"layer\": [{\"mark\": {\"type\": \"point\", \"filled\": false}, \"encoding\": {\"color\": {\"field\": \"variable\", \"legend\": {\"legendX\": 100}, \"type\": \"nominal\"}, \"x\": {\"field\": \"dates\", \"type\": \"temporal\"}, \"y\": {\"field\": \"log_score\", \"type\": \"quantitative\"}}}, {\"mark\": {\"type\": \"point\"}, \"encoding\": {\"color\": {\"field\": \"variable\", \"legend\": {\"legendX\": 100}, \"type\": \"nominal\"}, \"opacity\": {\"condition\": {\"param\": \"param_2\", \"value\": 1, \"empty\": false}, \"value\": 0}, \"x\": {\"field\": \"dates\", \"type\": \"temporal\"}, \"y\": {\"field\": \"log_score\", \"type\": \"quantitative\"}}}, {\"mark\": {\"type\": \"rule\", \"color\": \"gray\"}, \"encoding\": {\"opacity\": {\"condition\": {\"param\": \"param_2\", \"value\": 0.3, \"empty\": false}, \"value\": 0}, \"tooltip\": [{\"field\": \"dates\", \"title\": \"Date\", \"type\": \"temporal\"}, {\"field\": \"preds\", \"format\": \".2f\", \"type\": \"quantitative\"}, {\"field\": \"77\", \"format\": \".2f\", \"type\": \"quantitative\"}, {\"field\": \"78\", \"format\": \".2f\", \"type\": \"quantitative\"}], \"x\": {\"field\": \"dates\", \"type\": \"temporal\"}}, \"name\": \"view_2\", \"transform\": [{\"pivot\": \"variable\", \"value\": \"log_score\", \"groupby\": [\"dates\"]}]}], \"data\": {\"name\": \"data-fcec467f180ec8e4e059cf3080c1f633\"}, \"height\": 250, \"title\": {\"text\": \"Log score\", \"subtitle\": \"Bigger is better\"}, \"width\": 400}], \"params\": [{\"name\": \"param_2\", \"select\": {\"type\": \"point\", \"fields\": [\"dates\"], \"nearest\": true, \"on\": \"pointerover\"}, \"views\": [\"view_2\"]}], \"$schema\": \"https://vega.github.io/schema/vega-lite/v5.17.0.json\", \"datasets\": {\"data-d4775c7e2b59a23393eb246775bc1f3d\": [{\"dates\": \"2022-01-02T00:00:00\", \"casos\": 21.0}, {\"dates\": \"2022-01-09T00:00:00\", \"casos\": 14.0}, {\"dates\": \"2022-01-16T00:00:00\", \"casos\": 22.0}, {\"dates\": \"2022-01-23T00:00:00\", \"casos\": 19.0}, {\"dates\": \"2022-01-30T00:00:00\", \"casos\": 31.0}, {\"dates\": \"2022-02-06T00:00:00\", \"casos\": 35.0}, {\"dates\": \"2022-02-13T00:00:00\", \"casos\": 47.0}, {\"dates\": \"2022-02-20T00:00:00\", \"casos\": 62.0}, {\"dates\": \"2022-02-27T00:00:00\", \"casos\": 66.0}, {\"dates\": \"2022-03-06T00:00:00\", \"casos\": 116.0}, {\"dates\": \"2022-03-13T00:00:00\", \"casos\": 126.0}, {\"dates\": \"2022-03-20T00:00:00\", \"casos\": 177.0}, {\"dates\": \"2022-03-27T00:00:00\", \"casos\": 153.0}, {\"dates\": \"2022-04-03T00:00:00\", \"casos\": 222.0}, {\"dates\": \"2022-04-10T00:00:00\", \"casos\": 201.0}, {\"dates\": \"2022-04-17T00:00:00\", \"casos\": 234.0}, {\"dates\": \"2022-04-24T00:00:00\", \"casos\": 342.0}, {\"dates\": \"2022-05-01T00:00:00\", \"casos\": 461.0}, {\"dates\": \"2022-05-08T00:00:00\", \"casos\": 505.0}, {\"dates\": \"2022-05-15T00:00:00\", \"casos\": 406.0}, {\"dates\": \"2022-05-22T00:00:00\", \"casos\": 400.0}, {\"dates\": \"2022-05-29T00:00:00\", \"casos\": 338.0}, {\"dates\": \"2022-06-05T00:00:00\", \"casos\": 255.0}, {\"dates\": \"2022-06-12T00:00:00\", \"casos\": 153.0}, {\"dates\": \"2022-06-19T00:00:00\", \"casos\": 209.0}, {\"dates\": \"2022-06-26T00:00:00\", \"casos\": 189.0}, {\"dates\": \"2022-07-03T00:00:00\", \"casos\": 155.0}, {\"dates\": \"2022-07-10T00:00:00\", \"casos\": 144.0}, {\"dates\": \"2022-07-17T00:00:00\", \"casos\": 194.0}, {\"dates\": \"2022-07-24T00:00:00\", \"casos\": 148.0}, {\"dates\": \"2022-07-31T00:00:00\", \"casos\": 145.0}, {\"dates\": \"2022-08-07T00:00:00\", \"casos\": 106.0}, {\"dates\": \"2022-08-14T00:00:00\", \"casos\": 110.0}, {\"dates\": \"2022-08-21T00:00:00\", \"casos\": 99.0}, {\"dates\": \"2022-08-28T00:00:00\", \"casos\": 94.0}, {\"dates\": \"2022-09-04T00:00:00\", \"casos\": 101.0}, {\"dates\": \"2022-09-11T00:00:00\", \"casos\": 120.0}, {\"dates\": \"2022-09-18T00:00:00\", \"casos\": 102.0}, {\"dates\": \"2022-09-25T00:00:00\", \"casos\": 95.0}, {\"dates\": \"2022-10-02T00:00:00\", \"casos\": 102.0}, {\"dates\": \"2022-10-09T00:00:00\", \"casos\": 123.0}, {\"dates\": \"2022-10-16T00:00:00\", \"casos\": 160.0}, {\"dates\": \"2022-10-23T00:00:00\", \"casos\": 139.0}, {\"dates\": \"2022-10-30T00:00:00\", \"casos\": 131.0}, {\"dates\": \"2022-11-06T00:00:00\", \"casos\": 171.0}, {\"dates\": \"2022-11-13T00:00:00\", \"casos\": 129.0}, {\"dates\": \"2022-11-20T00:00:00\", \"casos\": 94.0}, {\"dates\": \"2022-11-27T00:00:00\", \"casos\": 86.0}, {\"dates\": \"2022-12-04T00:00:00\", \"casos\": 98.0}, {\"dates\": \"2022-12-11T00:00:00\", \"casos\": 123.0}, {\"dates\": \"2022-12-18T00:00:00\", \"casos\": 117.0}, {\"dates\": \"2022-12-25T00:00:00\", \"casos\": 163.0}, {\"dates\": \"2023-01-01T00:00:00\", \"casos\": 230.0}, {\"dates\": \"2023-01-08T00:00:00\", \"casos\": 218.0}, {\"dates\": \"2023-01-15T00:00:00\", \"casos\": 246.0}, {\"dates\": \"2023-01-22T00:00:00\", \"casos\": 312.0}, {\"dates\": \"2023-01-29T00:00:00\", \"casos\": 383.0}, {\"dates\": \"2023-02-05T00:00:00\", \"casos\": 525.0}, {\"dates\": \"2023-02-12T00:00:00\", \"casos\": 372.0}, {\"dates\": \"2023-02-19T00:00:00\", \"casos\": 507.0}, {\"dates\": \"2023-02-26T00:00:00\", \"casos\": 870.0}, {\"dates\": \"2023-03-05T00:00:00\", \"casos\": 945.0}, {\"dates\": \"2023-03-12T00:00:00\", \"casos\": 1125.0}, {\"dates\": \"2023-03-19T00:00:00\", \"casos\": 1382.0}, {\"dates\": \"2023-03-26T00:00:00\", \"casos\": 1580.0}, {\"dates\": \"2023-04-02T00:00:00\", \"casos\": 1420.0}, {\"dates\": \"2023-04-09T00:00:00\", \"casos\": 1783.0}, {\"dates\": \"2023-04-16T00:00:00\", \"casos\": 1502.0}, {\"dates\": \"2023-04-23T00:00:00\", \"casos\": 1572.0}, {\"dates\": \"2023-04-30T00:00:00\", \"casos\": 1919.0}, {\"dates\": \"2023-05-07T00:00:00\", \"casos\": 1807.0}, {\"dates\": \"2023-05-14T00:00:00\", \"casos\": 1731.0}, {\"dates\": \"2023-05-21T00:00:00\", \"casos\": 1479.0}, {\"dates\": \"2023-05-28T00:00:00\", \"casos\": 1328.0}, {\"dates\": \"2023-06-04T00:00:00\", \"casos\": 1238.0}, {\"dates\": \"2023-06-11T00:00:00\", \"casos\": 1348.0}, {\"dates\": \"2023-06-18T00:00:00\", \"casos\": 1236.0}, {\"dates\": \"2023-06-25T00:00:00\", \"casos\": 996.0}], \"data-fcec467f180ec8e4e059cf3080c1f633\": [{\"dates\": \"2022-01-02T00:00:00\", \"variable\": \"preds\", \"log_score\": -223.11243578421846}, {\"dates\": \"2022-01-09T00:00:00\", \"variable\": \"preds\", \"log_score\": -56.11658782941594}, {\"dates\": \"2022-01-16T00:00:00\", \"variable\": \"preds\", \"log_score\": -119.61421783464552}, {\"dates\": \"2022-01-23T00:00:00\", \"variable\": \"preds\", \"log_score\": -64.93352666827933}, {\"dates\": \"2022-01-30T00:00:00\", \"variable\": \"preds\", \"log_score\": -3.9239089917790664}, {\"dates\": \"2022-02-06T00:00:00\", \"variable\": \"preds\", \"log_score\": -4.257596359880001}, {\"dates\": \"2022-02-13T00:00:00\", \"variable\": \"preds\", \"log_score\": -5.495382548432203}, {\"dates\": \"2022-02-20T00:00:00\", \"variable\": \"preds\", \"log_score\": -6.885393833665924}, {\"dates\": \"2022-02-27T00:00:00\", \"variable\": \"preds\", \"log_score\": -4.02482742006652}, {\"dates\": \"2022-03-06T00:00:00\", \"variable\": \"preds\", \"log_score\": -5.434717296012744}, {\"dates\": \"2022-03-13T00:00:00\", \"variable\": \"preds\", \"log_score\": -5.414058923189067}, {\"dates\": \"2022-03-20T00:00:00\", \"variable\": \"preds\", \"log_score\": -6.363002779182446}, {\"dates\": \"2022-03-27T00:00:00\", \"variable\": \"preds\", \"log_score\": -5.296831449329367}, {\"dates\": \"2022-04-03T00:00:00\", \"variable\": \"preds\", \"log_score\": -5.6643234369235795}, {\"dates\": \"2022-04-10T00:00:00\", \"variable\": \"preds\", \"log_score\": -6.043267766214893}, {\"dates\": \"2022-04-17T00:00:00\", \"variable\": \"preds\", \"log_score\": -6.374314640135748}, {\"dates\": \"2022-04-24T00:00:00\", \"variable\": \"preds\", \"log_score\": -6.0460972155676584}, {\"dates\": \"2022-05-01T00:00:00\", \"variable\": \"preds\", \"log_score\": -6.913573917508519}, {\"dates\": \"2022-05-08T00:00:00\", \"variable\": \"preds\", \"log_score\": -6.934311513099868}, {\"dates\": \"2022-05-15T00:00:00\", \"variable\": \"preds\", \"log_score\": -6.677829873047869}, {\"dates\": \"2022-05-22T00:00:00\", \"variable\": \"preds\", \"log_score\": -6.341201767785531}, {\"dates\": \"2022-05-29T00:00:00\", \"variable\": \"preds\", \"log_score\": -6.731209566277741}, {\"dates\": \"2022-06-05T00:00:00\", \"variable\": \"preds\", \"log_score\": -7.1654189170343825}, {\"dates\": \"2022-06-12T00:00:00\", \"variable\": \"preds\", \"log_score\": -7.506526560788796}, {\"dates\": \"2022-06-19T00:00:00\", \"variable\": \"preds\", \"log_score\": -5.313584710651592}, {\"dates\": \"2022-06-26T00:00:00\", \"variable\": \"preds\", \"log_score\": -5.417883936761085}, {\"dates\": \"2022-07-03T00:00:00\", \"variable\": \"preds\", \"log_score\": -5.609474167468489}, {\"dates\": \"2022-07-10T00:00:00\", \"variable\": \"preds\", \"log_score\": -5.817133913854146}, {\"dates\": \"2022-07-17T00:00:00\", \"variable\": \"preds\", \"log_score\": -5.388742077606418}, {\"dates\": \"2022-07-24T00:00:00\", \"variable\": \"preds\", \"log_score\": -5.19812086621942}, {\"dates\": \"2022-07-31T00:00:00\", \"variable\": \"preds\", \"log_score\": -5.469185659012329}, {\"dates\": \"2022-08-07T00:00:00\", \"variable\": \"preds\", \"log_score\": -5.7068390244204314}, {\"dates\": \"2022-08-14T00:00:00\", \"variable\": \"preds\", \"log_score\": -4.6507827249817995}, {\"dates\": \"2022-08-21T00:00:00\", \"variable\": \"preds\", \"log_score\": -4.8861721133833695}, {\"dates\": \"2022-08-28T00:00:00\", \"variable\": \"preds\", \"log_score\": -5.1649918374666415}, {\"dates\": \"2022-09-04T00:00:00\", \"variable\": \"preds\", \"log_score\": -5.36636120481904}, {\"dates\": \"2022-09-11T00:00:00\", \"variable\": \"preds\", \"log_score\": -4.70639161384516}, {\"dates\": \"2022-09-18T00:00:00\", \"variable\": \"preds\", \"log_score\": -4.775234972050511}, {\"dates\": \"2022-09-25T00:00:00\", \"variable\": \"preds\", \"log_score\": -5.042169381420007}, {\"dates\": \"2022-10-02T00:00:00\", \"variable\": \"preds\", \"log_score\": -5.273918276605101}, {\"dates\": \"2022-10-09T00:00:00\", \"variable\": \"preds\", \"log_score\": -4.731702838941662}, {\"dates\": \"2022-10-16T00:00:00\", \"variable\": \"preds\", \"log_score\": -5.595177091171688}, {\"dates\": \"2022-10-23T00:00:00\", \"variable\": \"preds\", \"log_score\": -5.286218937408167}, {\"dates\": \"2022-10-30T00:00:00\", \"variable\": \"preds\", \"log_score\": -5.401674579448017}, {\"dates\": \"2022-11-06T00:00:00\", \"variable\": \"preds\", \"log_score\": -5.10889137357292}, {\"dates\": \"2022-11-13T00:00:00\", \"variable\": \"preds\", \"log_score\": -5.157121950257326}, {\"dates\": \"2022-11-20T00:00:00\", \"variable\": \"preds\", \"log_score\": -5.558671652873012}, {\"dates\": \"2022-11-27T00:00:00\", \"variable\": \"preds\", \"log_score\": -5.795198560027873}, {\"dates\": \"2022-12-04T00:00:00\", \"variable\": \"preds\", \"log_score\": -4.423554054408949}, {\"dates\": \"2022-12-11T00:00:00\", \"variable\": \"preds\", \"log_score\": -5.124759911825542}, {\"dates\": \"2022-12-18T00:00:00\", \"variable\": \"preds\", \"log_score\": -5.1043612404146605}, {\"dates\": \"2022-12-25T00:00:00\", \"variable\": \"preds\", \"log_score\": -5.943808223677636}, {\"dates\": \"2023-01-01T00:00:00\", \"variable\": \"preds\", \"log_score\": -5.879221846761768}, {\"dates\": \"2023-01-08T00:00:00\", \"variable\": \"preds\", \"log_score\": -5.590819884154986}, {\"dates\": \"2023-01-15T00:00:00\", \"variable\": \"preds\", \"log_score\": -5.935978555709673}, {\"dates\": \"2023-01-22T00:00:00\", \"variable\": \"preds\", \"log_score\": -6.415826051340522}, {\"dates\": \"2023-01-29T00:00:00\", \"variable\": \"preds\", \"log_score\": -5.960978975068262}, {\"dates\": \"2023-02-05T00:00:00\", \"variable\": \"preds\", \"log_score\": -6.700443299392373}, {\"dates\": \"2023-02-12T00:00:00\", \"variable\": \"preds\", \"log_score\": -6.550263322446494}, {\"dates\": \"2023-02-19T00:00:00\", \"variable\": \"preds\", \"log_score\": -6.934738960208357}, {\"dates\": \"2023-02-26T00:00:00\", \"variable\": \"preds\", \"log_score\": -7.801923142811861}, {\"dates\": \"2023-03-05T00:00:00\", \"variable\": \"preds\", \"log_score\": -7.555376214943643}, {\"dates\": \"2023-03-12T00:00:00\", \"variable\": \"preds\", \"log_score\": -7.870546548298408}, {\"dates\": \"2023-03-19T00:00:00\", \"variable\": \"preds\", \"log_score\": -8.228846104455554}, {\"dates\": \"2023-03-26T00:00:00\", \"variable\": \"preds\", \"log_score\": -7.595008358110898}, {\"dates\": \"2023-04-02T00:00:00\", \"variable\": \"preds\", \"log_score\": -8.021312774501292}, {\"dates\": \"2023-04-09T00:00:00\", \"variable\": \"preds\", \"log_score\": -8.449715846637133}, {\"dates\": \"2023-04-16T00:00:00\", \"variable\": \"preds\", \"log_score\": -8.827307039340726}, {\"dates\": \"2023-04-23T00:00:00\", \"variable\": \"preds\", \"log_score\": -7.744508283067639}, {\"dates\": \"2023-04-30T00:00:00\", \"variable\": \"preds\", \"log_score\": -8.115594990114264}, {\"dates\": \"2023-05-07T00:00:00\", \"variable\": \"preds\", \"log_score\": -8.504537336263832}, {\"dates\": \"2023-05-14T00:00:00\", \"variable\": \"preds\", \"log_score\": -8.842981560100528}, {\"dates\": \"2023-05-21T00:00:00\", \"variable\": \"preds\", \"log_score\": -7.8764297623668185}, {\"dates\": \"2023-05-28T00:00:00\", \"variable\": \"preds\", \"log_score\": -8.24120460317002}, {\"dates\": \"2023-06-04T00:00:00\", \"variable\": \"preds\", \"log_score\": -8.611540855094624}, {\"dates\": \"2023-06-11T00:00:00\", \"variable\": \"preds\", \"log_score\": -8.915073302841733}, {\"dates\": \"2023-06-18T00:00:00\", \"variable\": \"preds\", \"log_score\": -7.455600649653641}, {\"dates\": \"2023-06-25T00:00:00\", \"variable\": \"preds\", \"log_score\": -7.846381240692903}, {\"dates\": \"2022-01-02T00:00:00\", \"variable\": \"77\", \"log_score\": -7.012464391200885}, {\"dates\": \"2022-01-09T00:00:00\", \"variable\": \"77\", \"log_score\": -6.8902736856155}, {\"dates\": \"2022-01-16T00:00:00\", \"variable\": \"77\", \"log_score\": -6.06640202272802}, {\"dates\": \"2022-01-23T00:00:00\", \"variable\": \"77\", \"log_score\": -6.6004624515591725}, {\"dates\": \"2022-01-30T00:00:00\", \"variable\": \"77\", \"log_score\": -6.514033649097287}, {\"dates\": \"2022-02-06T00:00:00\", \"variable\": \"77\", \"log_score\": -6.512781115184576}, {\"dates\": \"2022-02-13T00:00:00\", \"variable\": \"77\", \"log_score\": -6.474635962174883}, {\"dates\": \"2022-02-20T00:00:00\", \"variable\": \"77\", \"log_score\": -6.674724426220515}, {\"dates\": \"2022-02-27T00:00:00\", \"variable\": \"77\", \"log_score\": -6.8535412476057145}, {\"dates\": \"2022-03-06T00:00:00\", \"variable\": \"77\", \"log_score\": -7.134282401511922}, {\"dates\": \"2022-03-13T00:00:00\", \"variable\": \"77\", \"log_score\": -7.00801391405329}, {\"dates\": \"2022-03-20T00:00:00\", \"variable\": \"77\", \"log_score\": -6.952660608473745}, {\"dates\": \"2022-03-27T00:00:00\", \"variable\": \"77\", \"log_score\": -6.795546687307164}, {\"dates\": \"2022-04-03T00:00:00\", \"variable\": \"77\", \"log_score\": -6.3598331553827725}, {\"dates\": \"2022-04-10T00:00:00\", \"variable\": \"77\", \"log_score\": -6.9121982983244195}, {\"dates\": \"2022-04-17T00:00:00\", \"variable\": \"77\", \"log_score\": -7.3094817042609}, {\"dates\": \"2022-04-24T00:00:00\", \"variable\": \"77\", \"log_score\": -7.56654721559695}, {\"dates\": \"2022-05-01T00:00:00\", \"variable\": \"77\", \"log_score\": -7.65485459673618}, {\"dates\": \"2022-05-08T00:00:00\", \"variable\": \"77\", \"log_score\": -7.785783736733247}, {\"dates\": \"2022-05-15T00:00:00\", \"variable\": \"77\", \"log_score\": -7.45097956668141}, {\"dates\": \"2022-05-22T00:00:00\", \"variable\": \"77\", \"log_score\": -7.111282765837383}, {\"dates\": \"2022-05-29T00:00:00\", \"variable\": \"77\", \"log_score\": -7.463850515669957}, {\"dates\": \"2022-06-05T00:00:00\", \"variable\": \"77\", \"log_score\": -8.756743972229843}, {\"dates\": \"2022-06-12T00:00:00\", \"variable\": \"77\", \"log_score\": -8.222095531474192}, {\"dates\": \"2022-06-19T00:00:00\", \"variable\": \"77\", \"log_score\": -7.743443947261448}, {\"dates\": \"2022-06-26T00:00:00\", \"variable\": \"77\", \"log_score\": -7.311276349765075}, {\"dates\": \"2022-07-03T00:00:00\", \"variable\": \"77\", \"log_score\": -7.366042304829877}, {\"dates\": \"2022-07-10T00:00:00\", \"variable\": \"77\", \"log_score\": -6.949973042862797}, {\"dates\": \"2022-07-17T00:00:00\", \"variable\": \"77\", \"log_score\": -6.946689754315597}, {\"dates\": \"2022-07-24T00:00:00\", \"variable\": \"77\", \"log_score\": -7.133959535052613}, {\"dates\": \"2022-07-31T00:00:00\", \"variable\": \"77\", \"log_score\": -6.794969789712523}, {\"dates\": \"2022-08-07T00:00:00\", \"variable\": \"77\", \"log_score\": -6.7125037340144535}, {\"dates\": \"2022-08-14T00:00:00\", \"variable\": \"77\", \"log_score\": -6.683429905659888}, {\"dates\": \"2022-08-21T00:00:00\", \"variable\": \"77\", \"log_score\": -6.7485596502330765}, {\"dates\": \"2022-08-28T00:00:00\", \"variable\": \"77\", \"log_score\": -6.877193766262893}, {\"dates\": \"2022-09-04T00:00:00\", \"variable\": \"77\", \"log_score\": -6.915826541401057}, {\"dates\": \"2022-09-11T00:00:00\", \"variable\": \"77\", \"log_score\": -6.523356833226727}, {\"dates\": \"2022-09-18T00:00:00\", \"variable\": \"77\", \"log_score\": -5.818860332247483}, {\"dates\": \"2022-09-25T00:00:00\", \"variable\": \"77\", \"log_score\": -6.571474571165488}, {\"dates\": \"2022-10-02T00:00:00\", \"variable\": \"77\", \"log_score\": -6.427795721713444}, {\"dates\": \"2022-10-09T00:00:00\", \"variable\": \"77\", \"log_score\": -6.974455413268813}, {\"dates\": \"2022-10-16T00:00:00\", \"variable\": \"77\", \"log_score\": -7.041657239986746}, {\"dates\": \"2022-10-23T00:00:00\", \"variable\": \"77\", \"log_score\": -7.362354154790475}, {\"dates\": \"2022-10-30T00:00:00\", \"variable\": \"77\", \"log_score\": -7.371847995997994}, {\"dates\": \"2022-11-06T00:00:00\", \"variable\": \"77\", \"log_score\": -7.47455578993934}, {\"dates\": \"2022-11-13T00:00:00\", \"variable\": \"77\", \"log_score\": -7.210197056966355}, {\"dates\": \"2022-11-20T00:00:00\", \"variable\": \"77\", \"log_score\": -6.995061863093824}, {\"dates\": \"2022-11-27T00:00:00\", \"variable\": \"77\", \"log_score\": -6.713614371470586}, {\"dates\": \"2022-12-04T00:00:00\", \"variable\": \"77\", \"log_score\": -6.442758878449313}, {\"dates\": \"2022-12-11T00:00:00\", \"variable\": \"77\", \"log_score\": -6.813761138295796}, {\"dates\": \"2022-12-18T00:00:00\", \"variable\": \"77\", \"log_score\": -6.923564520822325}, {\"dates\": \"2022-12-25T00:00:00\", \"variable\": \"77\", \"log_score\": -7.090309454021836}, {\"dates\": \"2023-01-01T00:00:00\", \"variable\": \"77\", \"log_score\": -7.079721389622609}, {\"dates\": \"2023-01-08T00:00:00\", \"variable\": \"77\", \"log_score\": -7.064632903023893}, {\"dates\": \"2023-01-15T00:00:00\", \"variable\": \"77\", \"log_score\": -6.738092960251456}, {\"dates\": \"2023-01-22T00:00:00\", \"variable\": \"77\", \"log_score\": -6.707904918411233}, {\"dates\": \"2023-01-29T00:00:00\", \"variable\": \"77\", \"log_score\": -6.8828384694529765}, {\"dates\": \"2023-02-05T00:00:00\", \"variable\": \"77\", \"log_score\": -6.8434624901413335}, {\"dates\": \"2023-02-12T00:00:00\", \"variable\": \"77\", \"log_score\": -7.125026200707358}, {\"dates\": \"2023-02-19T00:00:00\", \"variable\": \"77\", \"log_score\": -7.137846120585199}, {\"dates\": \"2023-02-26T00:00:00\", \"variable\": \"77\", \"log_score\": -7.3282949080903625}, {\"dates\": \"2023-03-05T00:00:00\", \"variable\": \"77\", \"log_score\": -7.489379014678192}, {\"dates\": \"2023-03-12T00:00:00\", \"variable\": \"77\", \"log_score\": -7.732292530547796}, {\"dates\": \"2023-03-19T00:00:00\", \"variable\": \"77\", \"log_score\": -7.903307176679288}, {\"dates\": \"2023-03-26T00:00:00\", \"variable\": \"77\", \"log_score\": -8.03399844087559}, {\"dates\": \"2023-04-02T00:00:00\", \"variable\": \"77\", \"log_score\": -8.134216581997386}, {\"dates\": \"2023-04-09T00:00:00\", \"variable\": \"77\", \"log_score\": -7.636065958558454}, {\"dates\": \"2023-04-16T00:00:00\", \"variable\": \"77\", \"log_score\": -7.289868643594637}, {\"dates\": \"2023-04-23T00:00:00\", \"variable\": \"77\", \"log_score\": -7.570768368113712}, {\"dates\": \"2023-04-30T00:00:00\", \"variable\": \"77\", \"log_score\": -7.577074902734868}, {\"dates\": \"2023-05-07T00:00:00\", \"variable\": \"77\", \"log_score\": -7.539437021594418}, {\"dates\": \"2023-05-14T00:00:00\", \"variable\": \"77\", \"log_score\": -7.372447288861989}, {\"dates\": \"2023-05-21T00:00:00\", \"variable\": \"77\", \"log_score\": -7.24501953928985}, {\"dates\": \"2023-05-28T00:00:00\", \"variable\": \"77\", \"log_score\": -7.034738721479016}, {\"dates\": \"2023-06-04T00:00:00\", \"variable\": \"77\", \"log_score\": -9.349231101416638}, {\"dates\": \"2023-06-11T00:00:00\", \"variable\": \"77\", \"log_score\": -8.475823053083356}, {\"dates\": \"2023-06-18T00:00:00\", \"variable\": \"77\", \"log_score\": -7.299939763703714}, {\"dates\": \"2023-06-25T00:00:00\", \"variable\": \"77\", \"log_score\": -7.345862508340594}, {\"dates\": \"2022-01-02T00:00:00\", \"variable\": \"78\", \"log_score\": -6.2519616228561}, {\"dates\": \"2022-01-09T00:00:00\", \"variable\": \"78\", \"log_score\": -5.82848283901219}, {\"dates\": \"2022-01-16T00:00:00\", \"variable\": \"78\", \"log_score\": -5.582019830491605}, {\"dates\": \"2022-01-23T00:00:00\", \"variable\": \"78\", \"log_score\": -5.681777284977604}, {\"dates\": \"2022-01-30T00:00:00\", \"variable\": \"78\", \"log_score\": -5.98278172056131}, {\"dates\": \"2022-02-06T00:00:00\", \"variable\": \"78\", \"log_score\": -5.92998063018071}, {\"dates\": \"2022-02-13T00:00:00\", \"variable\": \"78\", \"log_score\": -5.992663853520048}, {\"dates\": \"2022-02-20T00:00:00\", \"variable\": \"78\", \"log_score\": -6.562169989310755}, {\"dates\": \"2022-02-27T00:00:00\", \"variable\": \"78\", \"log_score\": -6.662284462794742}, {\"dates\": \"2022-03-06T00:00:00\", \"variable\": \"78\", \"log_score\": -6.503339086087231}, {\"dates\": \"2022-03-13T00:00:00\", \"variable\": \"78\", \"log_score\": -6.961803761233628}, {\"dates\": \"2022-03-20T00:00:00\", \"variable\": \"78\", \"log_score\": -6.644809591874152}, {\"dates\": \"2022-03-27T00:00:00\", \"variable\": \"78\", \"log_score\": -6.040850824948734}, {\"dates\": \"2022-04-03T00:00:00\", \"variable\": \"78\", \"log_score\": -6.22427090092701}, {\"dates\": \"2022-04-10T00:00:00\", \"variable\": \"78\", \"log_score\": -6.020784686152709}, {\"dates\": \"2022-04-17T00:00:00\", \"variable\": \"78\", \"log_score\": -6.298160152119451}, {\"dates\": \"2022-04-24T00:00:00\", \"variable\": \"78\", \"log_score\": -6.658105377547047}, {\"dates\": \"2022-05-01T00:00:00\", \"variable\": \"78\", \"log_score\": -6.87689742934877}, {\"dates\": \"2022-05-08T00:00:00\", \"variable\": \"78\", \"log_score\": -6.826964931578692}, {\"dates\": \"2022-05-15T00:00:00\", \"variable\": \"78\", \"log_score\": -6.799450573780494}, {\"dates\": \"2022-05-22T00:00:00\", \"variable\": \"78\", \"log_score\": -6.686061778919793}, {\"dates\": \"2022-05-29T00:00:00\", \"variable\": \"78\", \"log_score\": -6.579341236310088}, {\"dates\": \"2022-06-05T00:00:00\", \"variable\": \"78\", \"log_score\": -7.0270888686311475}, {\"dates\": \"2022-06-12T00:00:00\", \"variable\": \"78\", \"log_score\": -6.489920010449587}, {\"dates\": \"2022-06-19T00:00:00\", \"variable\": \"78\", \"log_score\": -6.219513171329978}, {\"dates\": \"2022-06-26T00:00:00\", \"variable\": \"78\", \"log_score\": -6.143375192928233}, {\"dates\": \"2022-07-03T00:00:00\", \"variable\": \"78\", \"log_score\": -6.47587675338181}, {\"dates\": \"2022-07-10T00:00:00\", \"variable\": \"78\", \"log_score\": -6.394478151636161}, {\"dates\": \"2022-07-17T00:00:00\", \"variable\": \"78\", \"log_score\": -6.799392570153869}, {\"dates\": \"2022-07-24T00:00:00\", \"variable\": \"78\", \"log_score\": -6.443841394373137}, {\"dates\": \"2022-07-31T00:00:00\", \"variable\": \"78\", \"log_score\": -6.18605308010515}, {\"dates\": \"2022-08-07T00:00:00\", \"variable\": \"78\", \"log_score\": -6.082652813868343}, {\"dates\": \"2022-08-14T00:00:00\", \"variable\": \"78\", \"log_score\": -6.214763181151942}, {\"dates\": \"2022-08-21T00:00:00\", \"variable\": \"78\", \"log_score\": -6.048890815212498}, {\"dates\": \"2022-08-28T00:00:00\", \"variable\": \"78\", \"log_score\": -5.977367246507751}, {\"dates\": \"2022-09-04T00:00:00\", \"variable\": \"78\", \"log_score\": -6.109312388491422}, {\"dates\": \"2022-09-11T00:00:00\", \"variable\": \"78\", \"log_score\": -6.206430318087634}, {\"dates\": \"2022-09-18T00:00:00\", \"variable\": \"78\", \"log_score\": -6.10052148422331}, {\"dates\": \"2022-09-25T00:00:00\", \"variable\": \"78\", \"log_score\": -5.993382686215329}, {\"dates\": \"2022-10-02T00:00:00\", \"variable\": \"78\", \"log_score\": -6.078763139730135}, {\"dates\": \"2022-10-09T00:00:00\", \"variable\": \"78\", \"log_score\": -6.287983529379523}, {\"dates\": \"2022-10-16T00:00:00\", \"variable\": \"78\", \"log_score\": -6.525991635857565}, {\"dates\": \"2022-10-23T00:00:00\", \"variable\": \"78\", \"log_score\": -6.44564676555324}, {\"dates\": \"2022-10-30T00:00:00\", \"variable\": \"78\", \"log_score\": -6.294339274605225}, {\"dates\": \"2022-11-06T00:00:00\", \"variable\": \"78\", \"log_score\": -6.588585638205216}, {\"dates\": \"2022-11-13T00:00:00\", \"variable\": \"78\", \"log_score\": -6.3385097422285455}, {\"dates\": \"2022-11-20T00:00:00\", \"variable\": \"78\", \"log_score\": -6.081163263493237}, {\"dates\": \"2022-11-27T00:00:00\", \"variable\": \"78\", \"log_score\": -6.02131223961088}, {\"dates\": \"2022-12-04T00:00:00\", \"variable\": \"78\", \"log_score\": -6.010971413056119}, {\"dates\": \"2022-12-11T00:00:00\", \"variable\": \"78\", \"log_score\": -6.2322513141385265}, {\"dates\": \"2022-12-18T00:00:00\", \"variable\": \"78\", \"log_score\": -6.22039053624542}, {\"dates\": \"2022-12-25T00:00:00\", \"variable\": \"78\", \"log_score\": -6.039939732152095}, {\"dates\": \"2023-01-01T00:00:00\", \"variable\": \"78\", \"log_score\": -6.809346425232073}, {\"dates\": \"2023-01-08T00:00:00\", \"variable\": \"78\", \"log_score\": -6.184277838429013}, {\"dates\": \"2023-01-15T00:00:00\", \"variable\": \"78\", \"log_score\": -6.253743776169643}, {\"dates\": \"2023-01-22T00:00:00\", \"variable\": \"78\", \"log_score\": -6.478966522643476}, {\"dates\": \"2023-01-29T00:00:00\", \"variable\": \"78\", \"log_score\": -6.333678075574305}, {\"dates\": \"2023-02-05T00:00:00\", \"variable\": \"78\", \"log_score\": -7.690153745847041}, {\"dates\": \"2023-02-12T00:00:00\", \"variable\": \"78\", \"log_score\": -6.328891845883524}, {\"dates\": \"2023-02-19T00:00:00\", \"variable\": \"78\", \"log_score\": -6.602395825222742}, {\"dates\": \"2023-02-26T00:00:00\", \"variable\": \"78\", \"log_score\": -7.855565702160332}, {\"dates\": \"2023-03-05T00:00:00\", \"variable\": \"78\", \"log_score\": -7.283064229347739}, {\"dates\": \"2023-03-12T00:00:00\", \"variable\": \"78\", \"log_score\": -8.698940196810494}, {\"dates\": \"2023-03-19T00:00:00\", \"variable\": \"78\", \"log_score\": -10.702368909352941}, {\"dates\": \"2023-03-26T00:00:00\", \"variable\": \"78\", \"log_score\": -12.81236182306103}, {\"dates\": \"2023-04-02T00:00:00\", \"variable\": \"78\", \"log_score\": -10.281677764612706}, {\"dates\": \"2023-04-09T00:00:00\", \"variable\": \"78\", \"log_score\": -10.899815233165809}, {\"dates\": \"2023-04-16T00:00:00\", \"variable\": \"78\", \"log_score\": -8.298461426438049}, {\"dates\": \"2023-04-23T00:00:00\", \"variable\": \"78\", \"log_score\": -8.542113590555335}, {\"dates\": \"2023-04-30T00:00:00\", \"variable\": \"78\", \"log_score\": -12.767489080115746}, {\"dates\": \"2023-05-07T00:00:00\", \"variable\": \"78\", \"log_score\": -10.326415255158715}, {\"dates\": \"2023-05-14T00:00:00\", \"variable\": \"78\", \"log_score\": -12.652989381973528}, {\"dates\": \"2023-05-21T00:00:00\", \"variable\": \"78\", \"log_score\": -18.886250021315483}, {\"dates\": \"2023-05-28T00:00:00\", \"variable\": \"78\", \"log_score\": -7.882656508221811}, {\"dates\": \"2023-06-04T00:00:00\", \"variable\": \"78\", \"log_score\": -7.212958081847293}, {\"dates\": \"2023-06-11T00:00:00\", \"variable\": \"78\", \"log_score\": -8.53912178177884}, {\"dates\": \"2023-06-18T00:00:00\", \"variable\": \"78\", \"log_score\": -7.668388376231785}, {\"dates\": \"2023-06-25T00:00:00\", \"variable\": \"78\", \"log_score\": -8.820386909505903}]}}, {\"mode\": \"vega-lite\"});\n",
       "</script>"
      ],
      "text/plain": [
       "alt.VConcatChart(...)"
      ]
     },
     "execution_count": 16,
     "metadata": {},
     "output_type": "execute_result"
    }
   ],
   "source": [
    "score.plot_log_score()"
   ]
  },
  {
   "cell_type": "markdown",
   "id": "6a4b531c",
   "metadata": {},
   "source": [
    "To generate a table with a summary of the scores, you can use the following: "
   ]
  },
  {
   "cell_type": "code",
   "execution_count": 17,
   "id": "5ea7f468",
   "metadata": {},
   "outputs": [
    {
     "data": {
      "text/html": [
       "<div>\n",
       "<style scoped>\n",
       "    .dataframe tbody tr th:only-of-type {\n",
       "        vertical-align: middle;\n",
       "    }\n",
       "\n",
       "    .dataframe tbody tr th {\n",
       "        vertical-align: top;\n",
       "    }\n",
       "\n",
       "    .dataframe thead th {\n",
       "        text-align: right;\n",
       "    }\n",
       "</style>\n",
       "<table border=\"1\" class=\"dataframe\">\n",
       "  <thead>\n",
       "    <tr style=\"text-align: right;\">\n",
       "      <th></th>\n",
       "      <th>mae</th>\n",
       "      <th>mse</th>\n",
       "      <th>crps</th>\n",
       "      <th>log_score</th>\n",
       "    </tr>\n",
       "    <tr>\n",
       "      <th>id</th>\n",
       "      <th></th>\n",
       "      <th></th>\n",
       "      <th></th>\n",
       "      <th></th>\n",
       "    </tr>\n",
       "  </thead>\n",
       "  <tbody>\n",
       "    <tr>\n",
       "      <th>preds</th>\n",
       "      <td>115.525008</td>\n",
       "      <td>39545.323650</td>\n",
       "      <td>123.236279</td>\n",
       "      <td>-11.881549</td>\n",
       "    </tr>\n",
       "    <tr>\n",
       "      <th>77</th>\n",
       "      <td>150.218462</td>\n",
       "      <td>69988.363187</td>\n",
       "      <td>157.674777</td>\n",
       "      <td>-7.153337</td>\n",
       "    </tr>\n",
       "    <tr>\n",
       "      <th>78</th>\n",
       "      <td>260.983184</td>\n",
       "      <td>166280.634997</td>\n",
       "      <td>194.357799</td>\n",
       "      <td>-7.185720</td>\n",
       "    </tr>\n",
       "  </tbody>\n",
       "</table>\n",
       "</div>"
      ],
      "text/plain": [
       "              mae            mse        crps  log_score\n",
       "id                                                     \n",
       "preds  115.525008   39545.323650  123.236279 -11.881549\n",
       "77     150.218462   69988.363187  157.674777  -7.153337\n",
       "78     260.983184  166280.634997  194.357799  -7.185720"
      ]
     },
     "execution_count": 17,
     "metadata": {},
     "output_type": "execute_result"
    }
   ],
   "source": [
    "score.summary"
   ]
  },
  {
   "cell_type": "markdown",
   "id": "9f5d7109",
   "metadata": {},
   "source": [
    "To generate a plot of the predictions, you can use the following: "
   ]
  },
  {
   "cell_type": "code",
   "execution_count": 18,
   "id": "082a547f",
   "metadata": {},
   "outputs": [
    {
     "data": {
      "text/html": [
       "\n",
       "<style>\n",
       "  #altair-viz-94bf2a3ceaab45dbb4bd9bb1f7f5c843.vega-embed {\n",
       "    width: 100%;\n",
       "    display: flex;\n",
       "  }\n",
       "\n",
       "  #altair-viz-94bf2a3ceaab45dbb4bd9bb1f7f5c843.vega-embed details,\n",
       "  #altair-viz-94bf2a3ceaab45dbb4bd9bb1f7f5c843.vega-embed details summary {\n",
       "    position: relative;\n",
       "  }\n",
       "</style>\n",
       "<div id=\"altair-viz-94bf2a3ceaab45dbb4bd9bb1f7f5c843\"></div>\n",
       "<script type=\"text/javascript\">\n",
       "  var VEGA_DEBUG = (typeof VEGA_DEBUG == \"undefined\") ? {} : VEGA_DEBUG;\n",
       "  (function(spec, embedOpt){\n",
       "    let outputDiv = document.currentScript.previousElementSibling;\n",
       "    if (outputDiv.id !== \"altair-viz-94bf2a3ceaab45dbb4bd9bb1f7f5c843\") {\n",
       "      outputDiv = document.getElementById(\"altair-viz-94bf2a3ceaab45dbb4bd9bb1f7f5c843\");\n",
       "    }\n",
       "    const paths = {\n",
       "      \"vega\": \"https://cdn.jsdelivr.net/npm/vega@5?noext\",\n",
       "      \"vega-lib\": \"https://cdn.jsdelivr.net/npm/vega-lib?noext\",\n",
       "      \"vega-lite\": \"https://cdn.jsdelivr.net/npm/vega-lite@5.17.0?noext\",\n",
       "      \"vega-embed\": \"https://cdn.jsdelivr.net/npm/vega-embed@6?noext\",\n",
       "    };\n",
       "\n",
       "    function maybeLoadScript(lib, version) {\n",
       "      var key = `${lib.replace(\"-\", \"\")}_version`;\n",
       "      return (VEGA_DEBUG[key] == version) ?\n",
       "        Promise.resolve(paths[lib]) :\n",
       "        new Promise(function(resolve, reject) {\n",
       "          var s = document.createElement('script');\n",
       "          document.getElementsByTagName(\"head\")[0].appendChild(s);\n",
       "          s.async = true;\n",
       "          s.onload = () => {\n",
       "            VEGA_DEBUG[key] = version;\n",
       "            return resolve(paths[lib]);\n",
       "          };\n",
       "          s.onerror = () => reject(`Error loading script: ${paths[lib]}`);\n",
       "          s.src = paths[lib];\n",
       "        });\n",
       "    }\n",
       "\n",
       "    function showError(err) {\n",
       "      outputDiv.innerHTML = `<div class=\"error\" style=\"color:red;\">${err}</div>`;\n",
       "      throw err;\n",
       "    }\n",
       "\n",
       "    function displayChart(vegaEmbed) {\n",
       "      vegaEmbed(outputDiv, spec, embedOpt)\n",
       "        .catch(err => showError(`Javascript Error: ${err.message}<br>This usually means there's a typo in your chart specification. See the javascript console for the full traceback.`));\n",
       "    }\n",
       "\n",
       "    if(typeof define === \"function\" && define.amd) {\n",
       "      requirejs.config({paths});\n",
       "      require([\"vega-embed\"], displayChart, err => showError(`Error loading script: ${err.message}`));\n",
       "    } else {\n",
       "      maybeLoadScript(\"vega\", \"5\")\n",
       "        .then(() => maybeLoadScript(\"vega-lite\", \"5.17.0\"))\n",
       "        .then(() => maybeLoadScript(\"vega-embed\", \"6\"))\n",
       "        .catch(showError)\n",
       "        .then(() => displayChart(vegaEmbed));\n",
       "    }\n",
       "  })({\"config\": {\"view\": {\"continuousWidth\": 300, \"continuousHeight\": 300}}, \"layer\": [{\"data\": {\"name\": \"data-1fff263b8dfc65f577a4f4b19354459e\"}, \"mark\": {\"type\": \"circle\", \"size\": 60}, \"encoding\": {\"color\": {\"field\": \"legend\", \"legend\": {\"title\": null}, \"scale\": {\"range\": [\"black\"]}, \"type\": \"nominal\"}, \"x\": {\"field\": \"dates\", \"type\": \"temporal\"}, \"y\": {\"field\": \"casos\", \"type\": \"quantitative\"}}}, {\"data\": {\"name\": \"data-8f7f8a61fd0a09f1cbd52367f30752f5\"}, \"mark\": {\"type\": \"line\"}, \"encoding\": {\"color\": {\"field\": \"model\", \"legend\": {\"title\": \"Model\"}, \"type\": \"nominal\"}, \"x\": {\"field\": \"dates\", \"title\": \"Dates\", \"type\": \"temporal\"}, \"y\": {\"field\": \"preds\", \"title\": \"New cases\", \"type\": \"quantitative\"}}, \"title\": \"Median and 95% confidence interval\"}, {\"data\": {\"name\": \"data-8f7f8a61fd0a09f1cbd52367f30752f5\"}, \"mark\": {\"type\": \"area\", \"opacity\": 0.25}, \"encoding\": {\"color\": {\"field\": \"model\", \"legend\": null, \"type\": \"nominal\"}, \"x\": {\"field\": \"dates\", \"type\": \"temporal\"}, \"y\": {\"field\": \"lower\", \"type\": \"quantitative\"}, \"y2\": {\"field\": \"upper\"}}, \"title\": \"Median and 95% confidence interval\"}, {\"data\": {\"name\": \"data-8f7f8a61fd0a09f1cbd52367f30752f5\"}, \"mark\": {\"type\": \"point\"}, \"encoding\": {\"color\": {\"field\": \"model\", \"legend\": null, \"type\": \"nominal\"}, \"opacity\": {\"condition\": {\"param\": \"param_3\", \"value\": 1, \"empty\": false}, \"value\": 0}, \"x\": {\"field\": \"dates\", \"title\": \"Dates\", \"type\": \"temporal\"}, \"y\": {\"field\": \"preds\", \"title\": \"New cases\", \"type\": \"quantitative\"}}, \"title\": \"Median and 95% confidence interval\"}, {\"data\": {\"name\": \"data-08f3ee2c3eb7f6641245464f2e33a4a8\"}, \"mark\": {\"type\": \"rule\", \"color\": \"gray\"}, \"encoding\": {\"opacity\": {\"condition\": {\"param\": \"param_3\", \"value\": 0.3, \"empty\": false}, \"value\": 0}, \"tooltip\": [{\"field\": \"dates\", \"title\": \"Date\", \"type\": \"temporal\"}, {\"field\": \"preds\", \"format\": \".0f\", \"type\": \"quantitative\"}, {\"field\": \"77\", \"format\": \".0f\", \"type\": \"quantitative\"}, {\"field\": \"78\", \"format\": \".0f\", \"type\": \"quantitative\"}, {\"field\": \"cases\", \"format\": \".0f\", \"type\": \"quantitative\"}], \"x\": {\"field\": \"dates\", \"type\": \"temporal\"}}, \"name\": \"view_3\", \"transform\": [{\"pivot\": \"model\", \"value\": \"preds\", \"groupby\": [\"dates\"]}]}], \"height\": 300, \"params\": [{\"name\": \"param_3\", \"select\": {\"type\": \"point\", \"fields\": [\"dates\"], \"nearest\": true, \"on\": \"pointerover\"}, \"views\": [\"view_3\"]}], \"resolve\": {\"scale\": {\"color\": \"independent\"}}, \"width\": 400, \"$schema\": \"https://vega.github.io/schema/vega-lite/v5.17.0.json\", \"datasets\": {\"data-1fff263b8dfc65f577a4f4b19354459e\": [{\"dates\": \"2022-01-02T00:00:00\", \"casos\": 21.0, \"legend\": \"Data\"}, {\"dates\": \"2022-01-09T00:00:00\", \"casos\": 14.0, \"legend\": \"Data\"}, {\"dates\": \"2022-01-16T00:00:00\", \"casos\": 22.0, \"legend\": \"Data\"}, {\"dates\": \"2022-01-23T00:00:00\", \"casos\": 19.0, \"legend\": \"Data\"}, {\"dates\": \"2022-01-30T00:00:00\", \"casos\": 31.0, \"legend\": \"Data\"}, {\"dates\": \"2022-02-06T00:00:00\", \"casos\": 35.0, \"legend\": \"Data\"}, {\"dates\": \"2022-02-13T00:00:00\", \"casos\": 47.0, \"legend\": \"Data\"}, {\"dates\": \"2022-02-20T00:00:00\", \"casos\": 62.0, \"legend\": \"Data\"}, {\"dates\": \"2022-02-27T00:00:00\", \"casos\": 66.0, \"legend\": \"Data\"}, {\"dates\": \"2022-03-06T00:00:00\", \"casos\": 116.0, \"legend\": \"Data\"}, {\"dates\": \"2022-03-13T00:00:00\", \"casos\": 126.0, \"legend\": \"Data\"}, {\"dates\": \"2022-03-20T00:00:00\", \"casos\": 177.0, \"legend\": \"Data\"}, {\"dates\": \"2022-03-27T00:00:00\", \"casos\": 153.0, \"legend\": \"Data\"}, {\"dates\": \"2022-04-03T00:00:00\", \"casos\": 222.0, \"legend\": \"Data\"}, {\"dates\": \"2022-04-10T00:00:00\", \"casos\": 201.0, \"legend\": \"Data\"}, {\"dates\": \"2022-04-17T00:00:00\", \"casos\": 234.0, \"legend\": \"Data\"}, {\"dates\": \"2022-04-24T00:00:00\", \"casos\": 342.0, \"legend\": \"Data\"}, {\"dates\": \"2022-05-01T00:00:00\", \"casos\": 461.0, \"legend\": \"Data\"}, {\"dates\": \"2022-05-08T00:00:00\", \"casos\": 505.0, \"legend\": \"Data\"}, {\"dates\": \"2022-05-15T00:00:00\", \"casos\": 406.0, \"legend\": \"Data\"}, {\"dates\": \"2022-05-22T00:00:00\", \"casos\": 400.0, \"legend\": \"Data\"}, {\"dates\": \"2022-05-29T00:00:00\", \"casos\": 338.0, \"legend\": \"Data\"}, {\"dates\": \"2022-06-05T00:00:00\", \"casos\": 255.0, \"legend\": \"Data\"}, {\"dates\": \"2022-06-12T00:00:00\", \"casos\": 153.0, \"legend\": \"Data\"}, {\"dates\": \"2022-06-19T00:00:00\", \"casos\": 209.0, \"legend\": \"Data\"}, {\"dates\": \"2022-06-26T00:00:00\", \"casos\": 189.0, \"legend\": \"Data\"}, {\"dates\": \"2022-07-03T00:00:00\", \"casos\": 155.0, \"legend\": \"Data\"}, {\"dates\": \"2022-07-10T00:00:00\", \"casos\": 144.0, \"legend\": \"Data\"}, {\"dates\": \"2022-07-17T00:00:00\", \"casos\": 194.0, \"legend\": \"Data\"}, {\"dates\": \"2022-07-24T00:00:00\", \"casos\": 148.0, \"legend\": \"Data\"}, {\"dates\": \"2022-07-31T00:00:00\", \"casos\": 145.0, \"legend\": \"Data\"}, {\"dates\": \"2022-08-07T00:00:00\", \"casos\": 106.0, \"legend\": \"Data\"}, {\"dates\": \"2022-08-14T00:00:00\", \"casos\": 110.0, \"legend\": \"Data\"}, {\"dates\": \"2022-08-21T00:00:00\", \"casos\": 99.0, \"legend\": \"Data\"}, {\"dates\": \"2022-08-28T00:00:00\", \"casos\": 94.0, \"legend\": \"Data\"}, {\"dates\": \"2022-09-04T00:00:00\", \"casos\": 101.0, \"legend\": \"Data\"}, {\"dates\": \"2022-09-11T00:00:00\", \"casos\": 120.0, \"legend\": \"Data\"}, {\"dates\": \"2022-09-18T00:00:00\", \"casos\": 102.0, \"legend\": \"Data\"}, {\"dates\": \"2022-09-25T00:00:00\", \"casos\": 95.0, \"legend\": \"Data\"}, {\"dates\": \"2022-10-02T00:00:00\", \"casos\": 102.0, \"legend\": \"Data\"}, {\"dates\": \"2022-10-09T00:00:00\", \"casos\": 123.0, \"legend\": \"Data\"}, {\"dates\": \"2022-10-16T00:00:00\", \"casos\": 160.0, \"legend\": \"Data\"}, {\"dates\": \"2022-10-23T00:00:00\", \"casos\": 139.0, \"legend\": \"Data\"}, {\"dates\": \"2022-10-30T00:00:00\", \"casos\": 131.0, \"legend\": \"Data\"}, {\"dates\": \"2022-11-06T00:00:00\", \"casos\": 171.0, \"legend\": \"Data\"}, {\"dates\": \"2022-11-13T00:00:00\", \"casos\": 129.0, \"legend\": \"Data\"}, {\"dates\": \"2022-11-20T00:00:00\", \"casos\": 94.0, \"legend\": \"Data\"}, {\"dates\": \"2022-11-27T00:00:00\", \"casos\": 86.0, \"legend\": \"Data\"}, {\"dates\": \"2022-12-04T00:00:00\", \"casos\": 98.0, \"legend\": \"Data\"}, {\"dates\": \"2022-12-11T00:00:00\", \"casos\": 123.0, \"legend\": \"Data\"}, {\"dates\": \"2022-12-18T00:00:00\", \"casos\": 117.0, \"legend\": \"Data\"}, {\"dates\": \"2022-12-25T00:00:00\", \"casos\": 163.0, \"legend\": \"Data\"}, {\"dates\": \"2023-01-01T00:00:00\", \"casos\": 230.0, \"legend\": \"Data\"}, {\"dates\": \"2023-01-08T00:00:00\", \"casos\": 218.0, \"legend\": \"Data\"}, {\"dates\": \"2023-01-15T00:00:00\", \"casos\": 246.0, \"legend\": \"Data\"}, {\"dates\": \"2023-01-22T00:00:00\", \"casos\": 312.0, \"legend\": \"Data\"}, {\"dates\": \"2023-01-29T00:00:00\", \"casos\": 383.0, \"legend\": \"Data\"}, {\"dates\": \"2023-02-05T00:00:00\", \"casos\": 525.0, \"legend\": \"Data\"}, {\"dates\": \"2023-02-12T00:00:00\", \"casos\": 372.0, \"legend\": \"Data\"}, {\"dates\": \"2023-02-19T00:00:00\", \"casos\": 507.0, \"legend\": \"Data\"}, {\"dates\": \"2023-02-26T00:00:00\", \"casos\": 870.0, \"legend\": \"Data\"}, {\"dates\": \"2023-03-05T00:00:00\", \"casos\": 945.0, \"legend\": \"Data\"}, {\"dates\": \"2023-03-12T00:00:00\", \"casos\": 1125.0, \"legend\": \"Data\"}, {\"dates\": \"2023-03-19T00:00:00\", \"casos\": 1382.0, \"legend\": \"Data\"}, {\"dates\": \"2023-03-26T00:00:00\", \"casos\": 1580.0, \"legend\": \"Data\"}, {\"dates\": \"2023-04-02T00:00:00\", \"casos\": 1420.0, \"legend\": \"Data\"}, {\"dates\": \"2023-04-09T00:00:00\", \"casos\": 1783.0, \"legend\": \"Data\"}, {\"dates\": \"2023-04-16T00:00:00\", \"casos\": 1502.0, \"legend\": \"Data\"}, {\"dates\": \"2023-04-23T00:00:00\", \"casos\": 1572.0, \"legend\": \"Data\"}, {\"dates\": \"2023-04-30T00:00:00\", \"casos\": 1919.0, \"legend\": \"Data\"}, {\"dates\": \"2023-05-07T00:00:00\", \"casos\": 1807.0, \"legend\": \"Data\"}, {\"dates\": \"2023-05-14T00:00:00\", \"casos\": 1731.0, \"legend\": \"Data\"}, {\"dates\": \"2023-05-21T00:00:00\", \"casos\": 1479.0, \"legend\": \"Data\"}, {\"dates\": \"2023-05-28T00:00:00\", \"casos\": 1328.0, \"legend\": \"Data\"}, {\"dates\": \"2023-06-04T00:00:00\", \"casos\": 1238.0, \"legend\": \"Data\"}, {\"dates\": \"2023-06-11T00:00:00\", \"casos\": 1348.0, \"legend\": \"Data\"}, {\"dates\": \"2023-06-18T00:00:00\", \"casos\": 1236.0, \"legend\": \"Data\"}, {\"dates\": \"2023-06-25T00:00:00\", \"casos\": 996.0, \"legend\": \"Data\"}], \"data-8f7f8a61fd0a09f1cbd52367f30752f5\": [{\"dates\": \"2022-01-02T00:00:00\", \"preds\": 3.614658869133639, \"lower\": 2.380140875732704, \"upper\": 5.611550000770686, \"data\": 21.000000000000007, \"model\": \"preds\", \"adm_0\": null, \"adm_1\": null, \"adm_2\": null, \"adm_3\": NaN}, {\"dates\": \"2022-01-09T00:00:00\", \"preds\": 3.433225231166734, \"lower\": 2.039727277525486, \"upper\": 5.982191872486029, \"data\": 14.000000000000007, \"model\": \"preds\", \"adm_0\": null, \"adm_1\": null, \"adm_2\": null, \"adm_3\": NaN}, {\"dates\": \"2022-01-16T00:00:00\", \"preds\": 3.252120306408938, \"lower\": 1.7176409439078015, \"upper\": 6.491387205176214, \"data\": 21.999999999999996, \"model\": \"preds\", \"adm_0\": null, \"adm_1\": null, \"adm_2\": null, \"adm_3\": NaN}, {\"dates\": \"2022-01-23T00:00:00\", \"preds\": 3.1186843472719943, \"lower\": 1.4908927923045512, \"upper\": 7.007502489329827, \"data\": 19.000000000000014, \"model\": \"preds\", \"adm_0\": null, \"adm_1\": null, \"adm_2\": null, \"adm_3\": NaN}, {\"dates\": \"2022-01-30T00:00:00\", \"preds\": 21.331335238034686, \"lower\": 12.57092370608387, \"upper\": 37.51323920806751, \"data\": 31.000000000000004, \"model\": \"preds\", \"adm_0\": null, \"adm_1\": null, \"adm_2\": null, \"adm_3\": NaN}, {\"dates\": \"2022-02-06T00:00:00\", \"preds\": 21.773564850772544, \"lower\": 11.20455938921437, \"upper\": 44.8119953193996, \"data\": 34.99999999999999, \"model\": \"preds\", \"adm_0\": null, \"adm_1\": null, \"adm_2\": null, \"adm_3\": NaN}, {\"dates\": \"2022-02-13T00:00:00\", \"preds\": 22.71695896499695, \"lower\": 10.005849139455384, \"upper\": 56.39179230622142, \"data\": 47.000000000000014, \"model\": \"preds\", \"adm_0\": null, \"adm_1\": null, \"adm_2\": null, \"adm_3\": NaN}, {\"dates\": \"2022-02-20T00:00:00\", \"preds\": 23.35470428379721, \"lower\": 9.008811845762041, \"upper\": 68.44917622378219, \"data\": 62.00000000000003, \"model\": \"preds\", \"adm_0\": null, \"adm_1\": null, \"adm_2\": null, \"adm_3\": NaN}, {\"dates\": \"2022-02-27T00:00:00\", \"preds\": 63.39292903508878, \"lower\": 34.64880038154375, \"upper\": 121.57428182482055, \"data\": 66.00000000000003, \"model\": \"preds\", \"adm_0\": null, \"adm_1\": null, \"adm_2\": null, \"adm_3\": NaN}, {\"dates\": \"2022-03-06T00:00:00\", \"preds\": 69.1704675786341, \"lower\": 32.26639825973191, \"upper\": 160.09013186513351, \"data\": 116.0000000000001, \"model\": \"preds\", \"adm_0\": null, \"adm_1\": null, \"adm_2\": null, \"adm_3\": NaN}, {\"dates\": \"2022-03-13T00:00:00\", \"preds\": 72.84286656709835, \"lower\": 28.518421118802383, \"upper\": 209.49921639094885, \"data\": 126.0000000000001, \"model\": \"preds\", \"adm_0\": null, \"adm_1\": null, \"adm_2\": null, \"adm_3\": NaN}, {\"dates\": \"2022-03-20T00:00:00\", \"preds\": 76.62557143570297, \"lower\": 25.804641192047978, \"upper\": 267.88225991787436, \"data\": 176.9999999999999, \"model\": \"preds\", \"adm_0\": null, \"adm_1\": null, \"adm_2\": null, \"adm_3\": NaN}, {\"dates\": \"2022-03-27T00:00:00\", \"preds\": 181.68938156034605, \"lower\": 91.91818590653864, \"upper\": 381.54053000215157, \"data\": 153.00000000000014, \"model\": \"preds\", \"adm_0\": null, \"adm_1\": null, \"adm_2\": null, \"adm_3\": NaN}, {\"dates\": \"2022-04-03T00:00:00\", \"preds\": 202.51517959581122, \"lower\": 85.48523361192152, \"upper\": 529.8684971239157, \"data\": 222.00000000000014, \"model\": \"preds\", \"adm_0\": null, \"adm_1\": null, \"adm_2\": null, \"adm_3\": NaN}, {\"dates\": \"2022-04-10T00:00:00\", \"preds\": 215.97288991940644, \"lower\": 74.56030411037372, \"upper\": 730.7185287938674, \"data\": 201.00000000000014, \"model\": \"preds\", \"adm_0\": null, \"adm_1\": null, \"adm_2\": null, \"adm_3\": NaN}, {\"dates\": \"2022-04-17T00:00:00\", \"preds\": 230.17391777968305, \"lower\": 66.79112306320033, \"upper\": 983.9820788929912, \"data\": 233.99999999999986, \"model\": \"preds\", \"adm_0\": null, \"adm_1\": null, \"adm_2\": null, \"adm_3\": NaN}, {\"dates\": \"2022-04-24T00:00:00\", \"preds\": 239.78912835549175, \"lower\": 118.98304418907516, \"upper\": 515.2816715296342, \"data\": 342.0000000000005, \"model\": \"preds\", \"adm_0\": null, \"adm_1\": null, \"adm_2\": null, \"adm_3\": NaN}, {\"dates\": \"2022-05-01T00:00:00\", \"preds\": 253.29199042458148, \"lower\": 105.0021025811397, \"upper\": 677.8429765356312, \"data\": 461.0000000000005, \"model\": \"preds\", \"adm_0\": null, \"adm_1\": null, \"adm_2\": null, \"adm_3\": NaN}, {\"dates\": \"2022-05-08T00:00:00\", \"preds\": 262.4099950485661, \"lower\": 88.94005569000325, \"upper\": 909.6172112211701, \"data\": 505.0000000000002, \"model\": \"preds\", \"adm_0\": null, \"adm_1\": null, \"adm_2\": null, \"adm_3\": NaN}, {\"dates\": \"2022-05-15T00:00:00\", \"preds\": 271.35553088812753, \"lower\": 77.43611889541121, \"upper\": 1187.1532772621517, \"data\": 406.0000000000006, \"model\": \"preds\", \"adm_0\": null, \"adm_1\": null, \"adm_2\": null, \"adm_3\": NaN}, {\"dates\": \"2022-05-22T00:00:00\", \"preds\": 465.0280326992463, \"lower\": 218.51933686015363, \"upper\": 1066.777571118954, \"data\": 400.0, \"model\": \"preds\", \"adm_0\": null, \"adm_1\": null, \"adm_2\": null, \"adm_3\": NaN}, {\"dates\": \"2022-05-29T00:00:00\", \"preds\": 471.75188008957286, \"lower\": 183.0363317285188, \"upper\": 1372.4126352536605, \"data\": 338.0000000000002, \"model\": \"preds\", \"adm_0\": null, \"adm_1\": null, \"adm_2\": null, \"adm_3\": NaN}, {\"dates\": \"2022-06-05T00:00:00\", \"preds\": 493.50882529303385, \"lower\": 154.01976777135448, \"upper\": 1910.0736004905152, \"data\": 254.99999999999991, \"model\": \"preds\", \"adm_0\": null, \"adm_1\": null, \"adm_2\": null, \"adm_3\": NaN}, {\"dates\": \"2022-06-12T00:00:00\", \"preds\": 507.69633871338453, \"lower\": 131.64876229875833, \"upper\": 2541.1404533105997, \"data\": 153.00000000000014, \"model\": \"preds\", \"adm_0\": null, \"adm_1\": null, \"adm_2\": null, \"adm_3\": NaN}, {\"dates\": \"2022-06-19T00:00:00\", \"preds\": 167.76087009218995, \"lower\": 85.64910383284582, \"upper\": 348.5073575663706, \"data\": 209.00000000000009, \"model\": \"preds\", \"adm_0\": null, \"adm_1\": null, \"adm_2\": null, \"adm_3\": NaN}, {\"dates\": \"2022-06-26T00:00:00\", \"preds\": 154.15290588604157, \"lower\": 66.975465373166, \"upper\": 389.16664948619086, \"data\": 188.9999999999999, \"model\": \"preds\", \"adm_0\": null, \"adm_1\": null, \"adm_2\": null, \"adm_3\": NaN}, {\"dates\": \"2022-07-03T00:00:00\", \"preds\": 150.99811525234864, \"lower\": 54.57364061353801, \"upper\": 481.2103805066478, \"data\": 154.99999999999991, \"model\": \"preds\", \"adm_0\": null, \"adm_1\": null, \"adm_2\": null, \"adm_3\": NaN}, {\"dates\": \"2022-07-10T00:00:00\", \"preds\": 145.99540514656573, \"lower\": 45.234503498814185, \"upper\": 570.6334337220401, \"data\": 144.0, \"model\": \"preds\", \"adm_0\": null, \"adm_1\": null, \"adm_2\": null, \"adm_3\": NaN}, {\"dates\": \"2022-07-17T00:00:00\", \"preds\": 141.09022998887374, \"lower\": 73.11890822917931, \"upper\": 287.9679677155035, \"data\": 193.99999999999991, \"model\": \"preds\", \"adm_0\": null, \"adm_1\": null, \"adm_2\": null, \"adm_3\": NaN}, {\"dates\": \"2022-07-24T00:00:00\", \"preds\": 136.83085137731135, \"lower\": 60.255593111277825, \"upper\": 339.7511524022664, \"data\": 148.00000000000003, \"model\": \"preds\", \"adm_0\": null, \"adm_1\": null, \"adm_2\": null, \"adm_3\": NaN}, {\"dates\": \"2022-07-31T00:00:00\", \"preds\": 133.8603297159285, \"lower\": 49.180202134802514, \"upper\": 417.6274111930265, \"data\": 145.00000000000003, \"model\": \"preds\", \"adm_0\": null, \"adm_1\": null, \"adm_2\": null, \"adm_3\": NaN}, {\"dates\": \"2022-08-07T00:00:00\", \"preds\": 131.20635331032815, \"lower\": 41.34880780866706, \"upper\": 501.19363629921145, \"data\": 106.00000000000007, \"model\": \"preds\", \"adm_0\": null, \"adm_1\": null, \"adm_2\": null, \"adm_3\": NaN}, {\"dates\": \"2022-08-14T00:00:00\", \"preds\": 111.38967124972875, \"lower\": 58.816424134349504, \"upper\": 222.4063840451618, \"data\": 109.99999999999996, \"model\": \"preds\", \"adm_0\": null, \"adm_1\": null, \"adm_2\": null, \"adm_3\": NaN}, {\"dates\": \"2022-08-21T00:00:00\", \"preds\": 105.25261017221358, \"lower\": 47.559711093645525, \"upper\": 253.21575835312325, \"data\": 99.00000000000009, \"model\": \"preds\", \"adm_0\": null, \"adm_1\": null, \"adm_2\": null, \"adm_3\": NaN}, {\"dates\": \"2022-08-28T00:00:00\", \"preds\": 103.47410891075722, \"lower\": 39.197471252596046, \"upper\": 310.36814802124167, \"data\": 93.99999999999994, \"model\": \"preds\", \"adm_0\": null, \"adm_1\": null, \"adm_2\": null, \"adm_3\": NaN}, {\"dates\": \"2022-09-04T00:00:00\", \"preds\": 100.98212719049425, \"lower\": 32.97666320764725, \"upper\": 367.764138407027, \"data\": 101.00000000000001, \"model\": \"preds\", \"adm_0\": null, \"adm_1\": null, \"adm_2\": null, \"adm_3\": NaN}, {\"dates\": \"2022-09-11T00:00:00\", \"preds\": 96.34719336863107, \"lower\": 51.49848081146708, \"upper\": 189.64225246372425, \"data\": 120.0000000000001, \"model\": \"preds\", \"adm_0\": null, \"adm_1\": null, \"adm_2\": null, \"adm_3\": NaN}, {\"dates\": \"2022-09-18T00:00:00\", \"preds\": 95.77750880225683, \"lower\": 43.735953963125525, \"upper\": 227.482790878451, \"data\": 102.00000000000003, \"model\": \"preds\", \"adm_0\": null, \"adm_1\": null, \"adm_2\": null, \"adm_3\": NaN}, {\"dates\": \"2022-09-25T00:00:00\", \"preds\": 94.2678358323544, \"lower\": 36.16285250506332, \"upper\": 278.23452334912656, \"data\": 94.99999999999997, \"model\": \"preds\", \"adm_0\": null, \"adm_1\": null, \"adm_2\": null, \"adm_3\": NaN}, {\"dates\": \"2022-10-02T00:00:00\", \"preds\": 93.31645975722742, \"lower\": 30.86107569314268, \"upper\": 334.1712149366602, \"data\": 102.00000000000003, \"model\": \"preds\", \"adm_0\": null, \"adm_1\": null, \"adm_2\": null, \"adm_3\": NaN}, {\"dates\": \"2022-10-09T00:00:00\", \"preds\": 98.71560180351594, \"lower\": 52.75987727082379, \"upper\": 194.323584459493, \"data\": 123.00000000000006, \"model\": \"preds\", \"adm_0\": null, \"adm_1\": null, \"adm_2\": null, \"adm_3\": NaN}, {\"dates\": \"2022-10-16T00:00:00\", \"preds\": 98.87475800002565, \"lower\": 45.11304943885604, \"upper\": 235.07527270024372, \"data\": 160.0000000000001, \"model\": \"preds\", \"adm_0\": null, \"adm_1\": null, \"adm_2\": null, \"adm_3\": NaN}, {\"dates\": \"2022-10-23T00:00:00\", \"preds\": 98.09141346352483, \"lower\": 37.56262519359326, \"upper\": 290.17966135697196, \"data\": 139.00000000000003, \"model\": \"preds\", \"adm_0\": null, \"adm_1\": null, \"adm_2\": null, \"adm_3\": NaN}, {\"dates\": \"2022-10-30T00:00:00\", \"preds\": 97.71465709535342, \"lower\": 32.226103318495426, \"upper\": 351.2150410226741, \"data\": 131.0, \"model\": \"preds\", \"adm_0\": null, \"adm_1\": null, \"adm_2\": null, \"adm_3\": NaN}, {\"dates\": \"2022-11-06T00:00:00\", \"preds\": 134.62573664704607, \"lower\": 70.40473557585469, \"upper\": 271.8550882824698, \"data\": 171.0, \"model\": \"preds\", \"adm_0\": null, \"adm_1\": null, \"adm_2\": null, \"adm_3\": NaN}, {\"dates\": \"2022-11-13T00:00:00\", \"preds\": 134.47036677331133, \"lower\": 59.71782686117104, \"upper\": 330.447250649565, \"data\": 129.00000000000003, \"model\": \"preds\", \"adm_0\": null, \"adm_1\": null, \"adm_2\": null, \"adm_3\": NaN}, {\"dates\": \"2022-11-20T00:00:00\", \"preds\": 135.3776571678296, \"lower\": 50.10456453134116, \"upper\": 418.3747502700327, \"data\": 93.99999999999994, \"model\": \"preds\", \"adm_0\": null, \"adm_1\": null, \"adm_2\": null, \"adm_3\": NaN}, {\"dates\": \"2022-11-27T00:00:00\", \"preds\": 135.82818722986102, \"lower\": 43.049101727643105, \"upper\": 514.8958796614942, \"data\": 86.00000000000003, \"model\": \"preds\", \"adm_0\": null, \"adm_1\": null, \"adm_2\": null, \"adm_3\": NaN}, {\"dates\": \"2022-12-04T00:00:00\", \"preds\": 84.91744320648253, \"lower\": 45.95105937217203, \"upper\": 164.7622825346184, \"data\": 98.0, \"model\": \"preds\", \"adm_0\": null, \"adm_1\": null, \"adm_2\": null, \"adm_3\": NaN}, {\"dates\": \"2022-12-11T00:00:00\", \"preds\": 82.37384167696814, \"lower\": 38.250490680040315, \"upper\": 191.70584865719232, \"data\": 123.00000000000006, \"model\": \"preds\", \"adm_0\": null, \"adm_1\": null, \"adm_2\": null, \"adm_3\": NaN}, {\"dates\": \"2022-12-18T00:00:00\", \"preds\": 80.7613950099572, \"lower\": 31.64523878384306, \"upper\": 232.0248371971098, \"data\": 117.0000000000001, \"model\": \"preds\", \"adm_0\": null, \"adm_1\": null, \"adm_2\": null, \"adm_3\": NaN}, {\"dates\": \"2022-12-25T00:00:00\", \"preds\": 79.26069183082991, \"lower\": 26.89160433614791, \"upper\": 274.38016287466684, \"data\": 163.00000000000006, \"model\": \"preds\", \"adm_0\": null, \"adm_1\": null, \"adm_2\": null, \"adm_3\": NaN}, {\"dates\": \"2023-01-01T00:00:00\", \"preds\": 151.75912131500172, \"lower\": 78.8006137547906, \"upper\": 309.0367972424309, \"data\": 230.00000000000014, \"model\": \"preds\", \"adm_0\": null, \"adm_1\": null, \"adm_2\": null, \"adm_3\": NaN}, {\"dates\": \"2023-01-08T00:00:00\", \"preds\": 159.7113114447144, \"lower\": 69.925995297073, \"upper\": 399.39483298826224, \"data\": 218.00000000000017, \"model\": \"preds\", \"adm_0\": null, \"adm_1\": null, \"adm_2\": null, \"adm_3\": NaN}, {\"dates\": \"2023-01-15T00:00:00\", \"preds\": 161.09849482557027, \"lower\": 58.61265263614962, \"upper\": 508.99158690412145, \"data\": 246.00000000000068, \"model\": \"preds\", \"adm_0\": null, \"adm_1\": null, \"adm_2\": null, \"adm_3\": NaN}, {\"dates\": \"2023-01-22T00:00:00\", \"preds\": 164.0870771311059, \"lower\": 50.903757847976614, \"upper\": 640.2575220702569, \"data\": 311.9999999999994, \"model\": \"preds\", \"adm_0\": null, \"adm_1\": null, \"adm_2\": null, \"adm_3\": NaN}, {\"dates\": \"2023-01-29T00:00:00\", \"preds\": 309.36997031375967, \"lower\": 152.07971768934192, \"upper\": 672.2648617059136, \"data\": 383.00000000000006, \"model\": \"preds\", \"adm_0\": null, \"adm_1\": null, \"adm_2\": null, \"adm_3\": NaN}, {\"dates\": \"2023-02-05T00:00:00\", \"preds\": 328.36402569417095, \"lower\": 134.0836603638846, \"upper\": 895.5194220504013, \"data\": 524.9999999999994, \"model\": \"preds\", \"adm_0\": null, \"adm_1\": null, \"adm_2\": null, \"adm_3\": NaN}, {\"dates\": \"2023-02-12T00:00:00\", \"preds\": 338.44353738083413, \"lower\": 112.86419585872474, \"upper\": 1198.6506712953878, \"data\": 371.99999999999994, \"model\": \"preds\", \"adm_0\": null, \"adm_1\": null, \"adm_2\": null, \"adm_3\": NaN}, {\"dates\": \"2023-02-19T00:00:00\", \"preds\": 349.60097780996006, \"lower\": 97.93584193927443, \"upper\": 1569.3142988104, \"data\": 507.0000000000001, \"model\": \"preds\", \"adm_0\": null, \"adm_1\": null, \"adm_2\": null, \"adm_3\": NaN}, {\"dates\": \"2023-02-26T00:00:00\", \"preds\": 486.69752571203514, \"lower\": 230.60416972704553, \"upper\": 1105.375866271899, \"data\": 870.0, \"model\": \"preds\", \"adm_0\": null, \"adm_1\": null, \"adm_2\": null, \"adm_3\": NaN}, {\"dates\": \"2023-03-05T00:00:00\", \"preds\": 517.8411243043572, \"lower\": 201.98745181276163, \"upper\": 1496.3648720959604, \"data\": 945.0000000000003, \"model\": \"preds\", \"adm_0\": null, \"adm_1\": null, \"adm_2\": null, \"adm_3\": NaN}, {\"dates\": \"2023-03-12T00:00:00\", \"preds\": 529.7684567054695, \"lower\": 167.23095654785914, \"upper\": 2019.1252957105041, \"data\": 1125.000000000002, \"model\": \"preds\", \"adm_0\": null, \"adm_1\": null, \"adm_2\": null, \"adm_3\": NaN}, {\"dates\": \"2023-03-19T00:00:00\", \"preds\": 545.4007213622474, \"lower\": 143.50548199946917, \"upper\": 2673.7759556682413, \"data\": 1382.0000000000002, \"model\": \"preds\", \"adm_0\": null, \"adm_1\": null, \"adm_2\": null, \"adm_3\": NaN}, {\"dates\": \"2023-03-26T00:00:00\", \"preds\": 1436.9969791954877, \"lower\": 617.80444857739, \"upper\": 3675.252209023487, \"data\": 1579.9999999999984, \"model\": \"preds\", \"adm_0\": null, \"adm_1\": null, \"adm_2\": null, \"adm_3\": NaN}, {\"dates\": \"2023-04-02T00:00:00\", \"preds\": 1552.567089578109, \"lower\": 534.8015631291074, \"upper\": 5268.307803049241, \"data\": 1419.9999999999982, \"model\": \"preds\", \"adm_0\": null, \"adm_1\": null, \"adm_2\": null, \"adm_3\": NaN}, {\"dates\": \"2023-04-09T00:00:00\", \"preds\": 1636.9392121750382, \"lower\": 442.3248136706556, \"upper\": 7728.713793949735, \"data\": 1783.0000000000034, \"model\": \"preds\", \"adm_0\": null, \"adm_1\": null, \"adm_2\": null, \"adm_3\": NaN}, {\"dates\": \"2023-04-16T00:00:00\", \"preds\": 1720.5739847712427, \"lower\": 377.21274317344836, \"upper\": 11004.623877515718, \"data\": 1502.0000000000002, \"model\": \"preds\", \"adm_0\": null, \"adm_1\": null, \"adm_2\": null, \"adm_3\": NaN}, {\"dates\": \"2023-04-23T00:00:00\", \"preds\": 1657.1806290305906, \"lower\": 704.2999114889643, \"upper\": 4299.410348138865, \"data\": 1571.9999999999993, \"model\": \"preds\", \"adm_0\": null, \"adm_1\": null, \"adm_2\": null, \"adm_3\": NaN}, {\"dates\": \"2023-04-30T00:00:00\", \"preds\": 1670.3745106937647, \"lower\": 572.0346821463518, \"upper\": 5711.7438576471895, \"data\": 1918.9999999999986, \"model\": \"preds\", \"adm_0\": null, \"adm_1\": null, \"adm_2\": null, \"adm_3\": NaN}, {\"dates\": \"2023-05-07T00:00:00\", \"preds\": 1722.5635450059838, \"lower\": 463.66773266459626, \"upper\": 8177.35425212233, \"data\": 1807.000000000001, \"model\": \"preds\", \"adm_0\": null, \"adm_1\": null, \"adm_2\": null, \"adm_3\": NaN}, {\"dates\": \"2023-05-14T00:00:00\", \"preds\": 1755.4117309045916, \"lower\": 385.13211283295925, \"upper\": 11215.15300772631, \"data\": 1730.9999999999984, \"model\": \"preds\", \"adm_0\": null, \"adm_1\": null, \"adm_2\": null, \"adm_3\": NaN}, {\"dates\": \"2023-05-21T00:00:00\", \"preds\": 1791.9777613998463, \"lower\": 757.4544557427392, \"upper\": 4680.679260236886, \"data\": 1478.9999999999989, \"model\": \"preds\", \"adm_0\": null, \"adm_1\": null, \"adm_2\": null, \"adm_3\": NaN}, {\"dates\": \"2023-05-28T00:00:00\", \"preds\": 1805.2347171459583, \"lower\": 614.147112710866, \"upper\": 6226.891165129948, \"data\": 1328.0000000000018, \"model\": \"preds\", \"adm_0\": null, \"adm_1\": null, \"adm_2\": null, \"adm_3\": NaN}, {\"dates\": \"2023-06-04T00:00:00\", \"preds\": 1829.3651793516538, \"lower\": 489.7629993558478, \"upper\": 8750.799223426155, \"data\": 1238.0000000000007, \"model\": \"preds\", \"adm_0\": null, \"adm_1\": null, \"adm_2\": null, \"adm_3\": NaN}, {\"dates\": \"2023-06-11T00:00:00\", \"preds\": 1846.2626111340383, \"lower\": 403.2353031857193, \"upper\": 11875.82932528966, \"data\": 1347.9999999999984, \"model\": \"preds\", \"adm_0\": null, \"adm_1\": null, \"adm_2\": null, \"adm_3\": NaN}, {\"dates\": \"2023-06-18T00:00:00\", \"preds\": 1300.2629947196654, \"lower\": 567.9816228693035, \"upper\": 3260.8439645005164, \"data\": 1235.999999999999, \"model\": \"preds\", \"adm_0\": null, \"adm_1\": null, \"adm_2\": null, \"adm_3\": NaN}, {\"dates\": \"2023-06-25T00:00:00\", \"preds\": 1304.3716371352732, \"lower\": 462.37057439565336, \"upper\": 4263.066574789821, \"data\": 996.0000000000018, \"model\": \"preds\", \"adm_0\": null, \"adm_1\": null, \"adm_2\": null, \"adm_3\": NaN}, {\"dates\": \"2022-01-02T00:00:00\", \"preds\": 61.29, \"lower\": 0.0, \"upper\": 1729.2245503355, \"data\": null, \"model\": \"77\", \"adm_0\": \"BRA\", \"adm_1\": \"RJ\", \"adm_2\": 3304557.0, \"adm_3\": NaN}, {\"dates\": \"2022-01-09T00:00:00\", \"preds\": 27.06, \"lower\": 0.0, \"upper\": 1535.8709703498, \"data\": null, \"model\": \"77\", \"adm_0\": \"BRA\", \"adm_1\": \"RJ\", \"adm_2\": 3304557.0, \"adm_3\": NaN}, {\"dates\": \"2022-01-16T00:00:00\", \"preds\": 26.88, \"lower\": 0.0, \"upper\": 673.9351776686, \"data\": null, \"model\": \"77\", \"adm_0\": \"BRA\", \"adm_1\": \"RJ\", \"adm_2\": 3304557.0, \"adm_3\": NaN}, {\"dates\": \"2022-01-23T00:00:00\", \"preds\": 30.44, \"lower\": 0.0, \"upper\": 1149.2167062209, \"data\": null, \"model\": \"77\", \"adm_0\": \"BRA\", \"adm_1\": \"RJ\", \"adm_2\": 3304557.0, \"adm_3\": NaN}, {\"dates\": \"2022-01-30T00:00:00\", \"preds\": 29.76, \"lower\": 0.0, \"upper\": 1054.8541371324, \"data\": null, \"model\": \"77\", \"adm_0\": \"BRA\", \"adm_1\": \"RJ\", \"adm_2\": 3304557.0, \"adm_3\": NaN}, {\"dates\": \"2022-02-06T00:00:00\", \"preds\": 29.34, \"lower\": 0.0, \"upper\": 1053.3112130593, \"data\": null, \"model\": \"77\", \"adm_0\": \"BRA\", \"adm_1\": \"RJ\", \"adm_2\": 3304557.0, \"adm_3\": NaN}, {\"dates\": \"2022-02-13T00:00:00\", \"preds\": 34.61, \"lower\": 0.0, \"upper\": 1012.9490918948, \"data\": null, \"model\": \"77\", \"adm_0\": \"BRA\", \"adm_1\": \"RJ\", \"adm_2\": 3304557.0, \"adm_3\": NaN}, {\"dates\": \"2022-02-20T00:00:00\", \"preds\": 39.01, \"lower\": 0.0, \"upper\": 1235.4601531132, \"data\": null, \"model\": \"77\", \"adm_0\": \"BRA\", \"adm_1\": \"RJ\", \"adm_2\": 3304557.0, \"adm_3\": NaN}, {\"dates\": \"2022-02-27T00:00:00\", \"preds\": 43.28, \"lower\": 0.0, \"upper\": 1478.6163274184, \"data\": null, \"model\": \"77\", \"adm_0\": \"BRA\", \"adm_1\": \"RJ\", \"adm_2\": 3304557.0, \"adm_3\": NaN}, {\"dates\": \"2022-03-06T00:00:00\", \"preds\": 32.32, \"lower\": 0.0, \"upper\": 1933.3792826922, \"data\": null, \"model\": \"77\", \"adm_0\": \"BRA\", \"adm_1\": \"RJ\", \"adm_2\": 3304557.0, \"adm_3\": NaN}, {\"dates\": \"2022-03-13T00:00:00\", \"preds\": 44.08, \"lower\": 0.0, \"upper\": 1698.1051179684, \"data\": null, \"model\": \"77\", \"adm_0\": \"BRA\", \"adm_1\": \"RJ\", \"adm_2\": 3304557.0, \"adm_3\": NaN}, {\"dates\": \"2022-03-20T00:00:00\", \"preds\": 74.21, \"lower\": 0.0, \"upper\": 1583.5488129311, \"data\": null, \"model\": \"77\", \"adm_0\": \"BRA\", \"adm_1\": \"RJ\", \"adm_2\": 3304557.0, \"adm_3\": NaN}, {\"dates\": \"2022-03-27T00:00:00\", \"preds\": 91.2, \"lower\": 0.0, \"upper\": 1376.3518495555, \"data\": null, \"model\": \"77\", \"adm_0\": \"BRA\", \"adm_1\": \"RJ\", \"adm_2\": 3304557.0, \"adm_3\": NaN}, {\"dates\": \"2022-04-03T00:00:00\", \"preds\": 98.79, \"lower\": 0.0, \"upper\": 723.5706027188, \"data\": null, \"model\": \"77\", \"adm_0\": \"BRA\", \"adm_1\": \"RJ\", \"adm_2\": 3304557.0, \"adm_3\": NaN}, {\"dates\": \"2022-04-10T00:00:00\", \"preds\": 176.98, \"lower\": 0.0, \"upper\": 1567.9589396197, \"data\": null, \"model\": \"77\", \"adm_0\": \"BRA\", \"adm_1\": \"RJ\", \"adm_2\": 3304557.0, \"adm_3\": NaN}, {\"dates\": \"2022-04-17T00:00:00\", \"preds\": 216.42, \"lower\": 0.0, \"upper\": 2335.967212316, \"data\": null, \"model\": \"77\", \"adm_0\": \"BRA\", \"adm_1\": \"RJ\", \"adm_2\": 3304557.0, \"adm_3\": NaN}, {\"dates\": \"2022-04-24T00:00:00\", \"preds\": 345.06, \"lower\": 0.0, \"upper\": 3021.9998205177, \"data\": null, \"model\": \"77\", \"adm_0\": \"BRA\", \"adm_1\": \"RJ\", \"adm_2\": 3304557.0, \"adm_3\": NaN}, {\"dates\": \"2022-05-01T00:00:00\", \"preds\": 313.83, \"lower\": 0.0, \"upper\": 3249.4121439655, \"data\": null, \"model\": \"77\", \"adm_0\": \"BRA\", \"adm_1\": \"RJ\", \"adm_2\": 3304557.0, \"adm_3\": NaN}, {\"dates\": \"2022-05-08T00:00:00\", \"preds\": 512.02, \"lower\": 0.0, \"upper\": 3762.6987796367, \"data\": null, \"model\": \"77\", \"adm_0\": \"BRA\", \"adm_1\": \"RJ\", \"adm_2\": 3304557.0, \"adm_3\": NaN}, {\"dates\": \"2022-05-15T00:00:00\", \"preds\": 382.19, \"lower\": 0.0, \"upper\": 2690.5815795323, \"data\": null, \"model\": \"77\", \"adm_0\": \"BRA\", \"adm_1\": \"RJ\", \"adm_2\": 3304557.0, \"adm_3\": NaN}, {\"dates\": \"2022-05-22T00:00:00\", \"preds\": 318.17, \"lower\": 0.0, \"upper\": 1889.3836654291, \"data\": null, \"model\": \"77\", \"adm_0\": \"BRA\", \"adm_1\": \"RJ\", \"adm_2\": 3304557.0, \"adm_3\": NaN}, {\"dates\": \"2022-05-29T00:00:00\", \"preds\": 663.35, \"lower\": 0.0, \"upper\": 2355.171415628, \"data\": null, \"model\": \"77\", \"adm_0\": \"BRA\", \"adm_1\": \"RJ\", \"adm_2\": 3304557.0, \"adm_3\": NaN}, {\"dates\": \"2022-06-05T00:00:00\", \"preds\": 1012.57, \"lower\": 244.0160680593, \"upper\": 1781.1239319407, \"data\": null, \"model\": \"77\", \"adm_0\": \"BRA\", \"adm_1\": \"RJ\", \"adm_2\": 3304557.0, \"adm_3\": NaN}, {\"dates\": \"2022-06-12T00:00:00\", \"preds\": 902.92, \"lower\": 0.0, \"upper\": 2020.9380813249, \"data\": null, \"model\": \"77\", \"adm_0\": \"BRA\", \"adm_1\": \"RJ\", \"adm_2\": 3304557.0, \"adm_3\": NaN}, {\"dates\": \"2022-06-19T00:00:00\", \"preds\": 766.88, \"lower\": 0.0, \"upper\": 2229.098105451, \"data\": null, \"model\": \"77\", \"adm_0\": \"BRA\", \"adm_1\": \"RJ\", \"adm_2\": 3304557.0, \"adm_3\": NaN}, {\"dates\": \"2022-06-26T00:00:00\", \"preds\": 396.46, \"lower\": 0.0, \"upper\": 2184.4381570024, \"data\": null, \"model\": \"77\", \"adm_0\": \"BRA\", \"adm_1\": \"RJ\", \"adm_2\": 3304557.0, \"adm_3\": NaN}, {\"dates\": \"2022-07-03T00:00:00\", \"preds\": 333.08, \"lower\": 0.0, \"upper\": 2367.8073825474, \"data\": null, \"model\": \"77\", \"adm_0\": \"BRA\", \"adm_1\": \"RJ\", \"adm_2\": 3304557.0, \"adm_3\": NaN}, {\"dates\": \"2022-07-10T00:00:00\", \"preds\": 203.22, \"lower\": 0.0, \"upper\": 1614.4841398778, \"data\": null, \"model\": \"77\", \"adm_0\": \"BRA\", \"adm_1\": \"RJ\", \"adm_2\": 3304557.0, \"adm_3\": NaN}, {\"dates\": \"2022-07-17T00:00:00\", \"preds\": 210.92, \"lower\": 0.0, \"upper\": 1624.558058697, \"data\": null, \"model\": \"77\", \"adm_0\": \"BRA\", \"adm_1\": \"RJ\", \"adm_2\": 3304557.0, \"adm_3\": NaN}, {\"dates\": \"2022-07-24T00:00:00\", \"preds\": 205.35, \"lower\": 0.0, \"upper\": 1947.7565892405, \"data\": null, \"model\": \"77\", \"adm_0\": \"BRA\", \"adm_1\": \"RJ\", \"adm_2\": 3304557.0, \"adm_3\": NaN}, {\"dates\": \"2022-07-31T00:00:00\", \"preds\": 155.79, \"lower\": 0.0, \"upper\": 1396.3902691858, \"data\": null, \"model\": \"77\", \"adm_0\": \"BRA\", \"adm_1\": \"RJ\", \"adm_2\": 3304557.0, \"adm_3\": NaN}, {\"dates\": \"2022-08-07T00:00:00\", \"preds\": 161.74, \"lower\": 0.0, \"upper\": 1267.4720622758, \"data\": null, \"model\": \"77\", \"adm_0\": \"BRA\", \"adm_1\": \"RJ\", \"adm_2\": 3304557.0, \"adm_3\": NaN}, {\"dates\": \"2022-08-14T00:00:00\", \"preds\": 153.51, \"lower\": 0.0, \"upper\": 1237.7757285767, \"data\": null, \"model\": \"77\", \"adm_0\": \"BRA\", \"adm_1\": \"RJ\", \"adm_2\": 3304557.0, \"adm_3\": NaN}, {\"dates\": \"2022-08-21T00:00:00\", \"preds\": 176.64, \"lower\": 0.0, \"upper\": 1297.4866719026, \"data\": null, \"model\": \"77\", \"adm_0\": \"BRA\", \"adm_1\": \"RJ\", \"adm_2\": 3304557.0, \"adm_3\": NaN}, {\"dates\": \"2022-08-28T00:00:00\", \"preds\": 179.13, \"lower\": 0.0, \"upper\": 1478.6152989411, \"data\": null, \"model\": \"77\", \"adm_0\": \"BRA\", \"adm_1\": \"RJ\", \"adm_2\": 3304557.0, \"adm_3\": NaN}, {\"dates\": \"2022-09-04T00:00:00\", \"preds\": 146.43, \"lower\": 0.0, \"upper\": 1566.3419666142, \"data\": null, \"model\": \"77\", \"adm_0\": \"BRA\", \"adm_1\": \"RJ\", \"adm_2\": 3304557.0, \"adm_3\": NaN}, {\"dates\": \"2022-09-11T00:00:00\", \"preds\": 119.06, \"lower\": 0.0, \"upper\": 1064.7396522083, \"data\": null, \"model\": \"77\", \"adm_0\": \"BRA\", \"adm_1\": \"RJ\", \"adm_2\": 3304557.0, \"adm_3\": NaN}, {\"dates\": \"2022-09-18T00:00:00\", \"preds\": 89.66, \"lower\": 0.0, \"upper\": 524.128212398, \"data\": null, \"model\": \"77\", \"adm_0\": \"BRA\", \"adm_1\": \"RJ\", \"adm_2\": 3304557.0, \"adm_3\": NaN}, {\"dates\": \"2022-09-25T00:00:00\", \"preds\": 88.07, \"lower\": 0.0, \"upper\": 1116.9014193491, \"data\": null, \"model\": \"77\", \"adm_0\": \"BRA\", \"adm_1\": \"RJ\", \"adm_2\": 3304557.0, \"adm_3\": NaN}, {\"dates\": \"2022-10-02T00:00:00\", \"preds\": 92.84, \"lower\": 0.0, \"upper\": 967.041235228, \"data\": null, \"model\": \"77\", \"adm_0\": \"BRA\", \"adm_1\": \"RJ\", \"adm_2\": 3304557.0, \"adm_3\": NaN}, {\"dates\": \"2022-10-09T00:00:00\", \"preds\": 130.7, \"lower\": 0.0, \"upper\": 1671.4170892455, \"data\": null, \"model\": \"77\", \"adm_0\": \"BRA\", \"adm_1\": \"RJ\", \"adm_2\": 3304557.0, \"adm_3\": NaN}, {\"dates\": \"2022-10-16T00:00:00\", \"preds\": 126.37, \"lower\": 0.0, \"upper\": 1783.0109912045, \"data\": null, \"model\": \"77\", \"adm_0\": \"BRA\", \"adm_1\": \"RJ\", \"adm_2\": 3304557.0, \"adm_3\": NaN}, {\"dates\": \"2022-10-23T00:00:00\", \"preds\": 88.54, \"lower\": 0.0, \"upper\": 2455.8924287832, \"data\": null, \"model\": \"77\", \"adm_0\": \"BRA\", \"adm_1\": \"RJ\", \"adm_2\": 3304557.0, \"adm_3\": NaN}, {\"dates\": \"2022-10-30T00:00:00\", \"preds\": 90.18, \"lower\": 0.0, \"upper\": 2482.2110244223, \"data\": null, \"model\": \"77\", \"adm_0\": \"BRA\", \"adm_1\": \"RJ\", \"adm_2\": 3304557.0, \"adm_3\": NaN}, {\"dates\": \"2022-11-06T00:00:00\", \"preds\": 138.54, \"lower\": 0.0, \"upper\": 2753.4854223837, \"data\": null, \"model\": \"77\", \"adm_0\": \"BRA\", \"adm_1\": \"RJ\", \"adm_2\": 3304557.0, \"adm_3\": NaN}, {\"dates\": \"2022-11-13T00:00:00\", \"preds\": 111.15, \"lower\": 0.0, \"upper\": 2114.9459362357, \"data\": null, \"model\": \"77\", \"adm_0\": \"BRA\", \"adm_1\": \"RJ\", \"adm_2\": 3304557.0, \"adm_3\": NaN}, {\"dates\": \"2022-11-20T00:00:00\", \"preds\": 262.42, \"lower\": 0.0, \"upper\": 1560.3910680599, \"data\": null, \"model\": \"77\", \"adm_0\": \"BRA\", \"adm_1\": \"RJ\", \"adm_2\": 3304557.0, \"adm_3\": NaN}, {\"dates\": \"2022-11-27T00:00:00\", \"preds\": 130.46, \"lower\": 0.0, \"upper\": 1275.9170270516, \"data\": null, \"model\": \"77\", \"adm_0\": \"BRA\", \"adm_1\": \"RJ\", \"adm_2\": 3304557.0, \"adm_3\": NaN}, {\"dates\": \"2022-12-04T00:00:00\", \"preds\": 138.95, \"lower\": 0.0, \"upper\": 968.9083312331, \"data\": null, \"model\": \"77\", \"adm_0\": \"BRA\", \"adm_1\": \"RJ\", \"adm_2\": 3304557.0, \"adm_3\": NaN}, {\"dates\": \"2022-12-11T00:00:00\", \"preds\": 281.55, \"lower\": 0.0, \"upper\": 1260.6283970385, \"data\": null, \"model\": \"77\", \"adm_0\": \"BRA\", \"adm_1\": \"RJ\", \"adm_2\": 3304557.0, \"adm_3\": NaN}, {\"dates\": \"2022-12-18T00:00:00\", \"preds\": 121.26, \"lower\": 0.0, \"upper\": 1588.656583431, \"data\": null, \"model\": \"77\", \"adm_0\": \"BRA\", \"adm_1\": \"RJ\", \"adm_2\": 3304557.0, \"adm_3\": NaN}, {\"dates\": \"2022-12-25T00:00:00\", \"preds\": 129.22, \"lower\": 0.0, \"upper\": 1872.3384034717, \"data\": null, \"model\": \"77\", \"adm_0\": \"BRA\", \"adm_1\": \"RJ\", \"adm_2\": 3304557.0, \"adm_3\": NaN}, {\"dates\": \"2023-01-01T00:00:00\", \"preds\": 124.7, \"lower\": 0.0, \"upper\": 1809.5625740147, \"data\": null, \"model\": \"77\", \"adm_0\": \"BRA\", \"adm_1\": \"RJ\", \"adm_2\": 3304557.0, \"adm_3\": NaN}, {\"dates\": \"2023-01-08T00:00:00\", \"preds\": 127.23, \"lower\": 0.0, \"upper\": 1793.8064366305, \"data\": null, \"model\": \"77\", \"adm_0\": \"BRA\", \"adm_1\": \"RJ\", \"adm_2\": 3304557.0, \"adm_3\": NaN}, {\"dates\": \"2023-01-15T00:00:00\", \"preds\": 155.21, \"lower\": 0.0, \"upper\": 1268.8861142409, \"data\": null, \"model\": \"77\", \"adm_0\": \"BRA\", \"adm_1\": \"RJ\", \"adm_2\": 3304557.0, \"adm_3\": NaN}, {\"dates\": \"2023-01-22T00:00:00\", \"preds\": 198.84, \"lower\": 0.0, \"upper\": 1195.3396186246, \"data\": null, \"model\": \"77\", \"adm_0\": \"BRA\", \"adm_1\": \"RJ\", \"adm_2\": 3304557.0, \"adm_3\": NaN}, {\"dates\": \"2023-01-29T00:00:00\", \"preds\": 345.27, \"lower\": 0.0, \"upper\": 1518.1194592248, \"data\": null, \"model\": \"77\", \"adm_0\": \"BRA\", \"adm_1\": \"RJ\", \"adm_2\": 3304557.0, \"adm_3\": NaN}, {\"dates\": \"2023-02-05T00:00:00\", \"preds\": 462.34, \"lower\": 0.0, \"upper\": 1445.4253987699, \"data\": null, \"model\": \"77\", \"adm_0\": \"BRA\", \"adm_1\": \"RJ\", \"adm_2\": 3304557.0, \"adm_3\": NaN}, {\"dates\": \"2023-02-12T00:00:00\", \"preds\": 481.6, \"lower\": 0.0, \"upper\": 1893.9755987178, \"data\": null, \"model\": \"77\", \"adm_0\": \"BRA\", \"adm_1\": \"RJ\", \"adm_2\": 3304557.0, \"adm_3\": NaN}, {\"dates\": \"2023-02-19T00:00:00\", \"preds\": 481.56, \"lower\": 0.0, \"upper\": 1965.8780215081, \"data\": null, \"model\": \"77\", \"adm_0\": \"BRA\", \"adm_1\": \"RJ\", \"adm_2\": 3304557.0, \"adm_3\": NaN}, {\"dates\": \"2023-02-26T00:00:00\", \"preds\": 574.3, \"lower\": 0.0, \"upper\": 2019.8204358497, \"data\": null, \"model\": \"77\", \"adm_0\": \"BRA\", \"adm_1\": \"RJ\", \"adm_2\": 3304557.0, \"adm_3\": NaN}, {\"dates\": \"2023-03-05T00:00:00\", \"preds\": 908.59, \"lower\": 0.0, \"upper\": 2793.9425956685, \"data\": null, \"model\": \"77\", \"adm_0\": \"BRA\", \"adm_1\": \"RJ\", \"adm_2\": 3304557.0, \"adm_3\": NaN}, {\"dates\": \"2023-03-12T00:00:00\", \"preds\": 1098.33, \"lower\": 0.0, \"upper\": 3565.2781705146, \"data\": null, \"model\": \"77\", \"adm_0\": \"BRA\", \"adm_1\": \"RJ\", \"adm_2\": 3304557.0, \"adm_3\": NaN}, {\"dates\": \"2023-03-19T00:00:00\", \"preds\": 1255.02, \"lower\": 0.0, \"upper\": 4202.4693301775, \"data\": null, \"model\": \"77\", \"adm_0\": \"BRA\", \"adm_1\": \"RJ\", \"adm_2\": 3304557.0, \"adm_3\": NaN}, {\"dates\": \"2023-03-26T00:00:00\", \"preds\": 903.32, \"lower\": 0.0, \"upper\": 3760.903225256, \"data\": null, \"model\": \"77\", \"adm_0\": \"BRA\", \"adm_1\": \"RJ\", \"adm_2\": 3304557.0, \"adm_3\": NaN}, {\"dates\": \"2023-04-02T00:00:00\", \"preds\": 2084.83, \"lower\": 0.0, \"upper\": 4512.3417709763, \"data\": null, \"model\": \"77\", \"adm_0\": \"BRA\", \"adm_1\": \"RJ\", \"adm_2\": 3304557.0, \"adm_3\": NaN}, {\"dates\": \"2023-04-09T00:00:00\", \"preds\": 1451.2, \"lower\": 0.0, \"upper\": 2937.0054003446, \"data\": null, \"model\": \"77\", \"adm_0\": \"BRA\", \"adm_1\": \"RJ\", \"adm_2\": 3304557.0, \"adm_3\": NaN}, {\"dates\": \"2023-04-16T00:00:00\", \"preds\": 1680.13, \"lower\": 591.7969421614, \"upper\": 2768.4630578386, \"data\": null, \"model\": \"77\", \"adm_0\": \"BRA\", \"adm_1\": \"RJ\", \"adm_2\": 3304557.0, \"adm_3\": NaN}, {\"dates\": \"2023-04-23T00:00:00\", \"preds\": 1944.43, \"lower\": 650.1333199898, \"upper\": 3238.7266800102, \"data\": null, \"model\": \"77\", \"adm_0\": \"BRA\", \"adm_1\": \"RJ\", \"adm_2\": 3304557.0, \"adm_3\": NaN}, {\"dates\": \"2023-04-30T00:00:00\", \"preds\": 1575.31, \"lower\": 227.6224669775, \"upper\": 2922.9975330225, \"data\": null, \"model\": \"77\", \"adm_0\": \"BRA\", \"adm_1\": \"RJ\", \"adm_2\": 3304557.0, \"adm_3\": NaN}, {\"dates\": \"2023-05-07T00:00:00\", \"preds\": 1426.24, \"lower\": 206.7682082167, \"upper\": 2645.7117917833, \"data\": null, \"model\": \"77\", \"adm_0\": \"BRA\", \"adm_1\": \"RJ\", \"adm_2\": 3304557.0, \"adm_3\": NaN}, {\"dates\": \"2023-05-14T00:00:00\", \"preds\": 1939.85, \"lower\": 769.2177668869, \"upper\": 3110.4822331131, \"data\": null, \"model\": \"77\", \"adm_0\": \"BRA\", \"adm_1\": \"RJ\", \"adm_2\": 3304557.0, \"adm_3\": NaN}, {\"dates\": \"2023-05-21T00:00:00\", \"preds\": 1454.24, \"lower\": 359.7715538942, \"upper\": 2548.7084461058, \"data\": null, \"model\": \"77\", \"adm_0\": \"BRA\", \"adm_1\": \"RJ\", \"adm_2\": 3304557.0, \"adm_3\": NaN}, {\"dates\": \"2023-05-28T00:00:00\", \"preds\": 1134.07, \"lower\": 343.0948354381, \"upper\": 1925.0451645619, \"data\": null, \"model\": \"77\", \"adm_0\": \"BRA\", \"adm_1\": \"RJ\", \"adm_2\": 3304557.0, \"adm_3\": NaN}, {\"dates\": \"2023-06-04T00:00:00\", \"preds\": 2243.41, \"lower\": 1319.5171062823, \"upper\": 3167.3028937177, \"data\": null, \"model\": \"77\", \"adm_0\": \"BRA\", \"adm_1\": \"RJ\", \"adm_2\": 3304557.0, \"adm_3\": NaN}, {\"dates\": \"2023-06-11T00:00:00\", \"preds\": 2239.65, \"lower\": 1112.8198769929, \"upper\": 3366.4801230071, \"data\": null, \"model\": \"77\", \"adm_0\": \"BRA\", \"adm_1\": \"RJ\", \"adm_2\": 3304557.0, \"adm_3\": NaN}, {\"dates\": \"2023-06-18T00:00:00\", \"preds\": 1068.35, \"lower\": 0.0, \"upper\": 2215.1295403202, \"data\": null, \"model\": \"77\", \"adm_0\": \"BRA\", \"adm_1\": \"RJ\", \"adm_2\": 3304557.0, \"adm_3\": NaN}, {\"dates\": \"2023-06-25T00:00:00\", \"preds\": 624.0, \"lower\": 0.0, \"upper\": 1599.3245555278, \"data\": null, \"model\": \"77\", \"adm_0\": \"BRA\", \"adm_1\": \"RJ\", \"adm_2\": 3304557.0, \"adm_3\": NaN}, {\"dates\": \"2022-01-02T00:00:00\", \"preds\": 109.3704933375, \"lower\": 0.0, \"upper\": 723.8520054869, \"data\": null, \"model\": \"78\", \"adm_0\": \"BRA\", \"adm_1\": \"RJ\", \"adm_2\": 3304557.0, \"adm_3\": NaN}, {\"dates\": \"2022-01-09T00:00:00\", \"preds\": 25.3118970841, \"lower\": 0.0, \"upper\": 529.5949193925, \"data\": null, \"model\": \"78\", \"adm_0\": \"BRA\", \"adm_1\": \"RJ\", \"adm_2\": 3304557.0, \"adm_3\": NaN}, {\"dates\": \"2022-01-16T00:00:00\", \"preds\": 0.0, \"lower\": 0.0, \"upper\": 406.1030913638, \"data\": null, \"model\": \"78\", \"adm_0\": \"BRA\", \"adm_1\": \"RJ\", \"adm_2\": 3304557.0, \"adm_3\": NaN}, {\"dates\": \"2022-01-23T00:00:00\", \"preds\": 0.0, \"lower\": 0.0, \"upper\": 452.7692431942, \"data\": null, \"model\": \"78\", \"adm_0\": \"BRA\", \"adm_1\": \"RJ\", \"adm_2\": 3304557.0, \"adm_3\": NaN}, {\"dates\": \"2022-01-30T00:00:00\", \"preds\": 0.0, \"lower\": 0.0, \"upper\": 607.8534869146, \"data\": null, \"model\": \"78\", \"adm_0\": \"BRA\", \"adm_1\": \"RJ\", \"adm_2\": 3304557.0, \"adm_3\": NaN}, {\"dates\": \"2022-02-06T00:00:00\", \"preds\": 0.0, \"lower\": 0.0, \"upper\": 571.5213175815, \"data\": null, \"model\": \"78\", \"adm_0\": \"BRA\", \"adm_1\": \"RJ\", \"adm_2\": 3304557.0, \"adm_3\": NaN}, {\"dates\": \"2022-02-13T00:00:00\", \"preds\": 86.4780002013, \"lower\": 0.0, \"upper\": 606.202994981, \"data\": null, \"model\": \"78\", \"adm_0\": \"BRA\", \"adm_1\": \"RJ\", \"adm_2\": 3304557.0, \"adm_3\": NaN}, {\"dates\": \"2022-02-20T00:00:00\", \"preds\": 232.8529663906, \"lower\": 0.0, \"upper\": 704.1387109958, \"data\": null, \"model\": \"78\", \"adm_0\": \"BRA\", \"adm_1\": \"RJ\", \"adm_2\": 3304557.0, \"adm_3\": NaN}, {\"dates\": \"2022-02-27T00:00:00\", \"preds\": 249.8387639374, \"lower\": 0.0, \"upper\": 864.0333929069, \"data\": null, \"model\": \"78\", \"adm_0\": \"BRA\", \"adm_1\": \"RJ\", \"adm_2\": 3304557.0, \"adm_3\": NaN}, {\"dates\": \"2022-03-06T00:00:00\", \"preds\": 236.5050984696, \"lower\": 0.0, \"upper\": 912.8691094007, \"data\": null, \"model\": \"78\", \"adm_0\": \"BRA\", \"adm_1\": \"RJ\", \"adm_2\": 3304557.0, \"adm_3\": NaN}, {\"dates\": \"2022-03-13T00:00:00\", \"preds\": 374.9699975103, \"lower\": 0.0, \"upper\": 838.5651220527, \"data\": null, \"model\": \"78\", \"adm_0\": \"BRA\", \"adm_1\": \"RJ\", \"adm_2\": 3304557.0, \"adm_3\": NaN}, {\"dates\": \"2022-03-20T00:00:00\", \"preds\": 342.3801910132, \"lower\": 0.0, \"upper\": 954.7004770912, \"data\": null, \"model\": \"78\", \"adm_0\": \"BRA\", \"adm_1\": \"RJ\", \"adm_2\": 3304557.0, \"adm_3\": NaN}, {\"dates\": \"2022-03-27T00:00:00\", \"preds\": 115.6595792919, \"lower\": 0.0, \"upper\": 640.2459985577, \"data\": null, \"model\": \"78\", \"adm_0\": \"BRA\", \"adm_1\": \"RJ\", \"adm_2\": 3304557.0, \"adm_3\": NaN}, {\"dates\": \"2022-04-03T00:00:00\", \"preds\": 133.0989688486, \"lower\": 0.0, \"upper\": 696.6566838086, \"data\": null, \"model\": \"78\", \"adm_0\": \"BRA\", \"adm_1\": \"RJ\", \"adm_2\": 3304557.0, \"adm_3\": NaN}, {\"dates\": \"2022-04-10T00:00:00\", \"preds\": 198.9890367314, \"lower\": 0.0, \"upper\": 644.0939105038, \"data\": null, \"model\": \"78\", \"adm_0\": \"BRA\", \"adm_1\": \"RJ\", \"adm_2\": 3304557.0, \"adm_3\": NaN}, {\"dates\": \"2022-04-17T00:00:00\", \"preds\": 170.3585512489, \"lower\": 0.0, \"upper\": 810.7452559274, \"data\": null, \"model\": \"78\", \"adm_0\": \"BRA\", \"adm_1\": \"RJ\", \"adm_2\": 3304557.0, \"adm_3\": NaN}, {\"dates\": \"2022-04-24T00:00:00\", \"preds\": 317.5533636957, \"lower\": 0.0, \"upper\": 1214.5482060984, \"data\": null, \"model\": \"78\", \"adm_0\": \"BRA\", \"adm_1\": \"RJ\", \"adm_2\": 3304557.0, \"adm_3\": NaN}, {\"dates\": \"2022-05-01T00:00:00\", \"preds\": 585.4558397308, \"lower\": 0.0, \"upper\": 1430.6597343847, \"data\": null, \"model\": \"78\", \"adm_0\": \"BRA\", \"adm_1\": \"RJ\", \"adm_2\": 3304557.0, \"adm_3\": NaN}, {\"dates\": \"2022-05-08T00:00:00\", \"preds\": 575.024428919, \"lower\": 8.4296638228, \"upper\": 1424.0171880141, \"data\": null, \"model\": \"78\", \"adm_0\": \"BRA\", \"adm_1\": \"RJ\", \"adm_2\": 3304557.0, \"adm_3\": NaN}, {\"dates\": \"2022-05-15T00:00:00\", \"preds\": 553.5908161178, \"lower\": 0.0, \"upper\": 1263.6794998243, \"data\": null, \"model\": \"78\", \"adm_0\": \"BRA\", \"adm_1\": \"RJ\", \"adm_2\": 3304557.0, \"adm_3\": NaN}, {\"dates\": \"2022-05-22T00:00:00\", \"preds\": 448.0580613017, \"lower\": 0.0, \"upper\": 1238.4645673811, \"data\": null, \"model\": \"78\", \"adm_0\": \"BRA\", \"adm_1\": \"RJ\", \"adm_2\": 3304557.0, \"adm_3\": NaN}, {\"dates\": \"2022-05-29T00:00:00\", \"preds\": 467.6085152477, \"lower\": 0.0, \"upper\": 986.0914632201, \"data\": null, \"model\": \"78\", \"adm_0\": \"BRA\", \"adm_1\": \"RJ\", \"adm_2\": 3304557.0, \"adm_3\": NaN}, {\"dates\": \"2022-06-05T00:00:00\", \"preds\": 516.6090817675, \"lower\": 0.0, \"upper\": 1275.2489616744, \"data\": null, \"model\": \"78\", \"adm_0\": \"BRA\", \"adm_1\": \"RJ\", \"adm_2\": 3304557.0, \"adm_3\": NaN}, {\"dates\": \"2022-06-12T00:00:00\", \"preds\": 232.2601490021, \"lower\": 0.0, \"upper\": 979.1794984825, \"data\": null, \"model\": \"78\", \"adm_0\": \"BRA\", \"adm_1\": \"RJ\", \"adm_2\": 3304557.0, \"adm_3\": NaN}, {\"dates\": \"2022-06-19T00:00:00\", \"preds\": 181.6569838598, \"lower\": 0.0, \"upper\": 778.3422996413, \"data\": null, \"model\": \"78\", \"adm_0\": \"BRA\", \"adm_1\": \"RJ\", \"adm_2\": 3304557.0, \"adm_3\": NaN}, {\"dates\": \"2022-06-26T00:00:00\", \"preds\": 184.1268508434, \"lower\": 0.0, \"upper\": 727.901391514, \"data\": null, \"model\": \"78\", \"adm_0\": \"BRA\", \"adm_1\": \"RJ\", \"adm_2\": 3304557.0, \"adm_3\": NaN}, {\"dates\": \"2022-07-03T00:00:00\", \"preds\": 0.0, \"lower\": 0.0, \"upper\": 543.2598108575, \"data\": null, \"model\": \"78\", \"adm_0\": \"BRA\", \"adm_1\": \"RJ\", \"adm_2\": 3304557.0, \"adm_3\": NaN}, {\"dates\": \"2022-07-10T00:00:00\", \"preds\": 0.0, \"lower\": 0.0, \"upper\": 524.3061247721, \"data\": null, \"model\": \"78\", \"adm_0\": \"BRA\", \"adm_1\": \"RJ\", \"adm_2\": 3304557.0, \"adm_3\": NaN}, {\"dates\": \"2022-07-17T00:00:00\", \"preds\": 2.3415177315, \"lower\": 0.0, \"upper\": 547.6995292876, \"data\": null, \"model\": \"78\", \"adm_0\": \"BRA\", \"adm_1\": \"RJ\", \"adm_2\": 3304557.0, \"adm_3\": NaN}, {\"dates\": \"2022-07-24T00:00:00\", \"preds\": 0.0, \"lower\": 0.0, \"upper\": 495.5266253971, \"data\": null, \"model\": \"78\", \"adm_0\": \"BRA\", \"adm_1\": \"RJ\", \"adm_2\": 3304557.0, \"adm_3\": NaN}, {\"dates\": \"2022-07-31T00:00:00\", \"preds\": 31.849106662, \"lower\": 0.0, \"upper\": 546.9803666487, \"data\": null, \"model\": \"78\", \"adm_0\": \"BRA\", \"adm_1\": \"RJ\", \"adm_2\": 3304557.0, \"adm_3\": NaN}, {\"dates\": \"2022-08-07T00:00:00\", \"preds\": 0.0, \"lower\": 0.0, \"upper\": 422.5016527284, \"data\": null, \"model\": \"78\", \"adm_0\": \"BRA\", \"adm_1\": \"RJ\", \"adm_2\": 3304557.0, \"adm_3\": NaN}, {\"dates\": \"2022-08-14T00:00:00\", \"preds\": 0.0, \"lower\": 0.0, \"upper\": 608.2965644222, \"data\": null, \"model\": \"78\", \"adm_0\": \"BRA\", \"adm_1\": \"RJ\", \"adm_2\": 3304557.0, \"adm_3\": NaN}, {\"dates\": \"2022-08-21T00:00:00\", \"preds\": 0.0, \"lower\": 0.0, \"upper\": 473.5215611801, \"data\": null, \"model\": \"78\", \"adm_0\": \"BRA\", \"adm_1\": \"RJ\", \"adm_2\": 3304557.0, \"adm_3\": NaN}, {\"dates\": \"2022-08-28T00:00:00\", \"preds\": 0.0, \"lower\": 0.0, \"upper\": 418.905976513, \"data\": null, \"model\": \"78\", \"adm_0\": \"BRA\", \"adm_1\": \"RJ\", \"adm_2\": 3304557.0, \"adm_3\": NaN}, {\"dates\": \"2022-09-04T00:00:00\", \"preds\": 0.0, \"lower\": 0.0, \"upper\": 535.4288134232, \"data\": null, \"model\": \"78\", \"adm_0\": \"BRA\", \"adm_1\": \"RJ\", \"adm_2\": 3304557.0, \"adm_3\": NaN}, {\"dates\": \"2022-09-11T00:00:00\", \"preds\": 0.0, \"lower\": 0.0, \"upper\": 470.2948555045, \"data\": null, \"model\": \"78\", \"adm_0\": \"BRA\", \"adm_1\": \"RJ\", \"adm_2\": 3304557.0, \"adm_3\": NaN}, {\"dates\": \"2022-09-18T00:00:00\", \"preds\": 0.0, \"lower\": 0.0, \"upper\": 517.7222615425, \"data\": null, \"model\": \"78\", \"adm_0\": \"BRA\", \"adm_1\": \"RJ\", \"adm_2\": 3304557.0, \"adm_3\": NaN}, {\"dates\": \"2022-09-25T00:00:00\", \"preds\": 0.0, \"lower\": 0.0, \"upper\": 324.7571195681, \"data\": null, \"model\": \"78\", \"adm_0\": \"BRA\", \"adm_1\": \"RJ\", \"adm_2\": 3304557.0, \"adm_3\": NaN}, {\"dates\": \"2022-10-02T00:00:00\", \"preds\": 0.0, \"lower\": 0.0, \"upper\": 487.8994649302, \"data\": null, \"model\": \"78\", \"adm_0\": \"BRA\", \"adm_1\": \"RJ\", \"adm_2\": 3304557.0, \"adm_3\": NaN}, {\"dates\": \"2022-10-09T00:00:00\", \"preds\": 0.0, \"lower\": 0.0, \"upper\": 624.6994303495, \"data\": null, \"model\": \"78\", \"adm_0\": \"BRA\", \"adm_1\": \"RJ\", \"adm_2\": 3304557.0, \"adm_3\": NaN}, {\"dates\": \"2022-10-16T00:00:00\", \"preds\": 0.0, \"lower\": 0.0, \"upper\": 529.9182512943, \"data\": null, \"model\": \"78\", \"adm_0\": \"BRA\", \"adm_1\": \"RJ\", \"adm_2\": 3304557.0, \"adm_3\": NaN}, {\"dates\": \"2022-10-23T00:00:00\", \"preds\": 0.0, \"lower\": 0.0, \"upper\": 413.525811471, \"data\": null, \"model\": \"78\", \"adm_0\": \"BRA\", \"adm_1\": \"RJ\", \"adm_2\": 3304557.0, \"adm_3\": NaN}, {\"dates\": \"2022-10-30T00:00:00\", \"preds\": 0.0, \"lower\": 0.0, \"upper\": 506.2727781624, \"data\": null, \"model\": \"78\", \"adm_0\": \"BRA\", \"adm_1\": \"RJ\", \"adm_2\": 3304557.0, \"adm_3\": NaN}, {\"dates\": \"2022-11-06T00:00:00\", \"preds\": 0.0, \"lower\": 0.0, \"upper\": 572.083177733, \"data\": null, \"model\": \"78\", \"adm_0\": \"BRA\", \"adm_1\": \"RJ\", \"adm_2\": 3304557.0, \"adm_3\": NaN}, {\"dates\": \"2022-11-13T00:00:00\", \"preds\": 0.0, \"lower\": 0.0, \"upper\": 403.3595069297, \"data\": null, \"model\": \"78\", \"adm_0\": \"BRA\", \"adm_1\": \"RJ\", \"adm_2\": 3304557.0, \"adm_3\": NaN}, {\"dates\": \"2022-11-20T00:00:00\", \"preds\": 0.0, \"lower\": 0.0, \"upper\": 543.9534488436, \"data\": null, \"model\": \"78\", \"adm_0\": \"BRA\", \"adm_1\": \"RJ\", \"adm_2\": 3304557.0, \"adm_3\": NaN}, {\"dates\": \"2022-11-27T00:00:00\", \"preds\": 0.0, \"lower\": 0.0, \"upper\": 524.0068367809, \"data\": null, \"model\": \"78\", \"adm_0\": \"BRA\", \"adm_1\": \"RJ\", \"adm_2\": 3304557.0, \"adm_3\": NaN}, {\"dates\": \"2022-12-04T00:00:00\", \"preds\": 0.0, \"lower\": 0.0, \"upper\": 418.8527026698, \"data\": null, \"model\": \"78\", \"adm_0\": \"BRA\", \"adm_1\": \"RJ\", \"adm_2\": 3304557.0, \"adm_3\": NaN}, {\"dates\": \"2022-12-11T00:00:00\", \"preds\": 0.0, \"lower\": 0.0, \"upper\": 498.8123991244, \"data\": null, \"model\": \"78\", \"adm_0\": \"BRA\", \"adm_1\": \"RJ\", \"adm_2\": 3304557.0, \"adm_3\": NaN}, {\"dates\": \"2022-12-18T00:00:00\", \"preds\": 7.7453362942, \"lower\": 0.0, \"upper\": 619.0887393665, \"data\": null, \"model\": \"78\", \"adm_0\": \"BRA\", \"adm_1\": \"RJ\", \"adm_2\": 3304557.0, \"adm_3\": NaN}, {\"dates\": \"2022-12-25T00:00:00\", \"preds\": 70.0851570219, \"lower\": 0.0, \"upper\": 507.5521873411, \"data\": null, \"model\": \"78\", \"adm_0\": \"BRA\", \"adm_1\": \"RJ\", \"adm_2\": 3304557.0, \"adm_3\": NaN}, {\"dates\": \"2023-01-01T00:00:00\", \"preds\": 28.9193740338, \"lower\": 0.0, \"upper\": 602.8117241956, \"data\": null, \"model\": \"78\", \"adm_0\": \"BRA\", \"adm_1\": \"RJ\", \"adm_2\": 3304557.0, \"adm_3\": NaN}, {\"dates\": \"2023-01-08T00:00:00\", \"preds\": 107.5751379728, \"lower\": 0.0, \"upper\": 566.5245524392, \"data\": null, \"model\": \"78\", \"adm_0\": \"BRA\", \"adm_1\": \"RJ\", \"adm_2\": 3304557.0, \"adm_3\": NaN}, {\"dates\": \"2023-01-15T00:00:00\", \"preds\": 136.0464265496, \"lower\": 0.0, \"upper\": 654.7008858331, \"data\": null, \"model\": \"78\", \"adm_0\": \"BRA\", \"adm_1\": \"RJ\", \"adm_2\": 3304557.0, \"adm_3\": NaN}, {\"dates\": \"2023-01-22T00:00:00\", \"preds\": 157.6281409636, \"lower\": 0.0, \"upper\": 703.7455855925, \"data\": null, \"model\": \"78\", \"adm_0\": \"BRA\", \"adm_1\": \"RJ\", \"adm_2\": 3304557.0, \"adm_3\": NaN}, {\"dates\": \"2023-01-29T00:00:00\", \"preds\": 370.7788259685, \"lower\": 0.0, \"upper\": 879.478636435, \"data\": null, \"model\": \"78\", \"adm_0\": \"BRA\", \"adm_1\": \"RJ\", \"adm_2\": 3304557.0, \"adm_3\": NaN}, {\"dates\": \"2023-02-05T00:00:00\", \"preds\": 200.67998676, \"lower\": 0.0, \"upper\": 720.2818470754, \"data\": null, \"model\": \"78\", \"adm_0\": \"BRA\", \"adm_1\": \"RJ\", \"adm_2\": 3304557.0, \"adm_3\": NaN}, {\"dates\": \"2023-02-12T00:00:00\", \"preds\": 270.5449912548, \"lower\": 0.0, \"upper\": 766.0707564242, \"data\": null, \"model\": \"78\", \"adm_0\": \"BRA\", \"adm_1\": \"RJ\", \"adm_2\": 3304557.0, \"adm_3\": NaN}, {\"dates\": \"2023-02-19T00:00:00\", \"preds\": 365.9762626961, \"lower\": 0.0, \"upper\": 984.143485938, \"data\": null, \"model\": \"78\", \"adm_0\": \"BRA\", \"adm_1\": \"RJ\", \"adm_2\": 3304557.0, \"adm_3\": NaN}, {\"dates\": \"2023-02-26T00:00:00\", \"preds\": 434.2454627231, \"lower\": 0.0, \"upper\": 1035.7856581375, \"data\": null, \"model\": \"78\", \"adm_0\": \"BRA\", \"adm_1\": \"RJ\", \"adm_2\": 3304557.0, \"adm_3\": NaN}, {\"dates\": \"2023-03-05T00:00:00\", \"preds\": 593.1198927313, \"lower\": 0.0, \"upper\": 1340.4223010339, \"data\": null, \"model\": \"78\", \"adm_0\": \"BRA\", \"adm_1\": \"RJ\", \"adm_2\": 3304557.0, \"adm_3\": NaN}, {\"dates\": \"2023-03-12T00:00:00\", \"preds\": 486.762278229, \"lower\": 13.1828434534, \"upper\": 1258.1380503178, \"data\": null, \"model\": \"78\", \"adm_0\": \"BRA\", \"adm_1\": \"RJ\", \"adm_2\": 3304557.0, \"adm_3\": NaN}, {\"dates\": \"2023-03-19T00:00:00\", \"preds\": 534.409355998, \"lower\": 0.0, \"upper\": 1161.3790531218, \"data\": null, \"model\": \"78\", \"adm_0\": \"BRA\", \"adm_1\": \"RJ\", \"adm_2\": 3304557.0, \"adm_3\": NaN}, {\"dates\": \"2023-03-26T00:00:00\", \"preds\": 555.0313138813, \"lower\": 0.0, \"upper\": 1138.9978529975, \"data\": null, \"model\": \"78\", \"adm_0\": \"BRA\", \"adm_1\": \"RJ\", \"adm_2\": 3304557.0, \"adm_3\": NaN}, {\"dates\": \"2023-04-02T00:00:00\", \"preds\": 540.6022553518, \"lower\": 0.0, \"upper\": 1290.8390316494, \"data\": null, \"model\": \"78\", \"adm_0\": \"BRA\", \"adm_1\": \"RJ\", \"adm_2\": 3304557.0, \"adm_3\": NaN}, {\"dates\": \"2023-04-09T00:00:00\", \"preds\": 670.57262557, \"lower\": 63.0884215072, \"upper\": 1603.4207726844, \"data\": null, \"model\": \"78\", \"adm_0\": \"BRA\", \"adm_1\": \"RJ\", \"adm_2\": 3304557.0, \"adm_3\": NaN}, {\"dates\": \"2023-04-16T00:00:00\", \"preds\": 823.2300753295, \"lower\": 5.3920096096, \"upper\": 1619.1121769279, \"data\": null, \"model\": \"78\", \"adm_0\": \"BRA\", \"adm_1\": \"RJ\", \"adm_2\": 3304557.0, \"adm_3\": NaN}, {\"dates\": \"2023-04-23T00:00:00\", \"preds\": 821.3328076452, \"lower\": 0.0, \"upper\": 1657.2413398936, \"data\": null, \"model\": \"78\", \"adm_0\": \"BRA\", \"adm_1\": \"RJ\", \"adm_2\": 3304557.0, \"adm_3\": NaN}, {\"dates\": \"2023-04-30T00:00:00\", \"preds\": 736.0327714011, \"lower\": 186.1478255641, \"upper\": 1522.9282282144, \"data\": null, \"model\": \"78\", \"adm_0\": \"BRA\", \"adm_1\": \"RJ\", \"adm_2\": 3304557.0, \"adm_3\": NaN}, {\"dates\": \"2023-05-07T00:00:00\", \"preds\": 760.3757069707, \"lower\": 31.6744434658, \"upper\": 1601.576000803, \"data\": null, \"model\": \"78\", \"adm_0\": \"BRA\", \"adm_1\": \"RJ\", \"adm_2\": 3304557.0, \"adm_3\": NaN}, {\"dates\": \"2023-05-14T00:00:00\", \"preds\": 593.9493001178, \"lower\": 0.0, \"upper\": 1293.7130412512, \"data\": null, \"model\": \"78\", \"adm_0\": \"BRA\", \"adm_1\": \"RJ\", \"adm_2\": 3304557.0, \"adm_3\": NaN}, {\"dates\": \"2023-05-21T00:00:00\", \"preds\": 341.6071367562, \"lower\": 0.0, \"upper\": 890.2078188814, \"data\": null, \"model\": \"78\", \"adm_0\": \"BRA\", \"adm_1\": \"RJ\", \"adm_2\": 3304557.0, \"adm_3\": NaN}, {\"dates\": \"2023-05-28T00:00:00\", \"preds\": 766.1951469854, \"lower\": 41.8829060107, \"upper\": 1633.4175681449, \"data\": null, \"model\": \"78\", \"adm_0\": \"BRA\", \"adm_1\": \"RJ\", \"adm_2\": 3304557.0, \"adm_3\": NaN}, {\"dates\": \"2023-06-04T00:00:00\", \"preds\": 922.2149910033, \"lower\": 172.700637443, \"upper\": 1701.7459047131, \"data\": null, \"model\": \"78\", \"adm_0\": \"BRA\", \"adm_1\": \"RJ\", \"adm_2\": 3304557.0, \"adm_3\": NaN}, {\"dates\": \"2023-06-11T00:00:00\", \"preds\": 693.3638638854, \"lower\": 56.4668219537, \"upper\": 1421.3332394093, \"data\": null, \"model\": \"78\", \"adm_0\": \"BRA\", \"adm_1\": \"RJ\", \"adm_2\": 3304557.0, \"adm_3\": NaN}, {\"dates\": \"2023-06-18T00:00:00\", \"preds\": 736.0198131949, \"lower\": 81.1291923746, \"upper\": 1725.0092463702, \"data\": null, \"model\": \"78\", \"adm_0\": \"BRA\", \"adm_1\": \"RJ\", \"adm_2\": 3304557.0, \"adm_3\": NaN}, {\"dates\": \"2023-06-25T00:00:00\", \"preds\": 431.9475864768, \"lower\": 0.0, \"upper\": 1022.6256792061, \"data\": null, \"model\": \"78\", \"adm_0\": \"BRA\", \"adm_1\": \"RJ\", \"adm_2\": 3304557.0, \"adm_3\": NaN}], \"data-08f3ee2c3eb7f6641245464f2e33a4a8\": [{\"dates\": \"2022-01-02T00:00:00\", \"preds\": 3.614658869133639, \"lower\": 2.380140875732704, \"upper\": 5.611550000770686, \"data\": 21.000000000000007, \"model\": \"preds\", \"adm_0\": null, \"adm_1\": null, \"adm_2\": null, \"adm_3\": NaN, \"legend\": null}, {\"dates\": \"2022-01-09T00:00:00\", \"preds\": 3.433225231166734, \"lower\": 2.039727277525486, \"upper\": 5.982191872486029, \"data\": 14.000000000000007, \"model\": \"preds\", \"adm_0\": null, \"adm_1\": null, \"adm_2\": null, \"adm_3\": NaN, \"legend\": null}, {\"dates\": \"2022-01-16T00:00:00\", \"preds\": 3.252120306408938, \"lower\": 1.7176409439078015, \"upper\": 6.491387205176214, \"data\": 21.999999999999996, \"model\": \"preds\", \"adm_0\": null, \"adm_1\": null, \"adm_2\": null, \"adm_3\": NaN, \"legend\": null}, {\"dates\": \"2022-01-23T00:00:00\", \"preds\": 3.1186843472719943, \"lower\": 1.4908927923045512, \"upper\": 7.007502489329827, \"data\": 19.000000000000014, \"model\": \"preds\", \"adm_0\": null, \"adm_1\": null, \"adm_2\": null, \"adm_3\": NaN, \"legend\": null}, {\"dates\": \"2022-01-30T00:00:00\", \"preds\": 21.331335238034686, \"lower\": 12.57092370608387, \"upper\": 37.51323920806751, \"data\": 31.000000000000004, \"model\": \"preds\", \"adm_0\": null, \"adm_1\": null, \"adm_2\": null, \"adm_3\": NaN, \"legend\": null}, {\"dates\": \"2022-02-06T00:00:00\", \"preds\": 21.773564850772544, \"lower\": 11.20455938921437, \"upper\": 44.8119953193996, \"data\": 34.99999999999999, \"model\": \"preds\", \"adm_0\": null, \"adm_1\": null, \"adm_2\": null, \"adm_3\": NaN, \"legend\": null}, {\"dates\": \"2022-02-13T00:00:00\", \"preds\": 22.71695896499695, \"lower\": 10.005849139455384, \"upper\": 56.39179230622142, \"data\": 47.000000000000014, \"model\": \"preds\", \"adm_0\": null, \"adm_1\": null, \"adm_2\": null, \"adm_3\": NaN, \"legend\": null}, {\"dates\": \"2022-02-20T00:00:00\", \"preds\": 23.35470428379721, \"lower\": 9.008811845762041, \"upper\": 68.44917622378219, \"data\": 62.00000000000003, \"model\": \"preds\", \"adm_0\": null, \"adm_1\": null, \"adm_2\": null, \"adm_3\": NaN, \"legend\": null}, {\"dates\": \"2022-02-27T00:00:00\", \"preds\": 63.39292903508878, \"lower\": 34.64880038154375, \"upper\": 121.57428182482055, \"data\": 66.00000000000003, \"model\": \"preds\", \"adm_0\": null, \"adm_1\": null, \"adm_2\": null, \"adm_3\": NaN, \"legend\": null}, {\"dates\": \"2022-03-06T00:00:00\", \"preds\": 69.1704675786341, \"lower\": 32.26639825973191, \"upper\": 160.09013186513351, \"data\": 116.0000000000001, \"model\": \"preds\", \"adm_0\": null, \"adm_1\": null, \"adm_2\": null, \"adm_3\": NaN, \"legend\": null}, {\"dates\": \"2022-03-13T00:00:00\", \"preds\": 72.84286656709835, \"lower\": 28.518421118802383, \"upper\": 209.49921639094885, \"data\": 126.0000000000001, \"model\": \"preds\", \"adm_0\": null, \"adm_1\": null, \"adm_2\": null, \"adm_3\": NaN, \"legend\": null}, {\"dates\": \"2022-03-20T00:00:00\", \"preds\": 76.62557143570297, \"lower\": 25.804641192047978, \"upper\": 267.88225991787436, \"data\": 176.9999999999999, \"model\": \"preds\", \"adm_0\": null, \"adm_1\": null, \"adm_2\": null, \"adm_3\": NaN, \"legend\": null}, {\"dates\": \"2022-03-27T00:00:00\", \"preds\": 181.68938156034605, \"lower\": 91.91818590653864, \"upper\": 381.54053000215157, \"data\": 153.00000000000014, \"model\": \"preds\", \"adm_0\": null, \"adm_1\": null, \"adm_2\": null, \"adm_3\": NaN, \"legend\": null}, {\"dates\": \"2022-04-03T00:00:00\", \"preds\": 202.51517959581122, \"lower\": 85.48523361192152, \"upper\": 529.8684971239157, \"data\": 222.00000000000014, \"model\": \"preds\", \"adm_0\": null, \"adm_1\": null, \"adm_2\": null, \"adm_3\": NaN, \"legend\": null}, {\"dates\": \"2022-04-10T00:00:00\", \"preds\": 215.97288991940644, \"lower\": 74.56030411037372, \"upper\": 730.7185287938674, \"data\": 201.00000000000014, \"model\": \"preds\", \"adm_0\": null, \"adm_1\": null, \"adm_2\": null, \"adm_3\": NaN, \"legend\": null}, {\"dates\": \"2022-04-17T00:00:00\", \"preds\": 230.17391777968305, \"lower\": 66.79112306320033, \"upper\": 983.9820788929912, \"data\": 233.99999999999986, \"model\": \"preds\", \"adm_0\": null, \"adm_1\": null, \"adm_2\": null, \"adm_3\": NaN, \"legend\": null}, {\"dates\": \"2022-04-24T00:00:00\", \"preds\": 239.78912835549175, \"lower\": 118.98304418907516, \"upper\": 515.2816715296342, \"data\": 342.0000000000005, \"model\": \"preds\", \"adm_0\": null, \"adm_1\": null, \"adm_2\": null, \"adm_3\": NaN, \"legend\": null}, {\"dates\": \"2022-05-01T00:00:00\", \"preds\": 253.29199042458148, \"lower\": 105.0021025811397, \"upper\": 677.8429765356312, \"data\": 461.0000000000005, \"model\": \"preds\", \"adm_0\": null, \"adm_1\": null, \"adm_2\": null, \"adm_3\": NaN, \"legend\": null}, {\"dates\": \"2022-05-08T00:00:00\", \"preds\": 262.4099950485661, \"lower\": 88.94005569000325, \"upper\": 909.6172112211701, \"data\": 505.0000000000002, \"model\": \"preds\", \"adm_0\": null, \"adm_1\": null, \"adm_2\": null, \"adm_3\": NaN, \"legend\": null}, {\"dates\": \"2022-05-15T00:00:00\", \"preds\": 271.35553088812753, \"lower\": 77.43611889541121, \"upper\": 1187.1532772621517, \"data\": 406.0000000000006, \"model\": \"preds\", \"adm_0\": null, \"adm_1\": null, \"adm_2\": null, \"adm_3\": NaN, \"legend\": null}, {\"dates\": \"2022-05-22T00:00:00\", \"preds\": 465.0280326992463, \"lower\": 218.51933686015363, \"upper\": 1066.777571118954, \"data\": 400.0, \"model\": \"preds\", \"adm_0\": null, \"adm_1\": null, \"adm_2\": null, \"adm_3\": NaN, \"legend\": null}, {\"dates\": \"2022-05-29T00:00:00\", \"preds\": 471.75188008957286, \"lower\": 183.0363317285188, \"upper\": 1372.4126352536605, \"data\": 338.0000000000002, \"model\": \"preds\", \"adm_0\": null, \"adm_1\": null, \"adm_2\": null, \"adm_3\": NaN, \"legend\": null}, {\"dates\": \"2022-06-05T00:00:00\", \"preds\": 493.50882529303385, \"lower\": 154.01976777135448, \"upper\": 1910.0736004905152, \"data\": 254.99999999999991, \"model\": \"preds\", \"adm_0\": null, \"adm_1\": null, \"adm_2\": null, \"adm_3\": NaN, \"legend\": null}, {\"dates\": \"2022-06-12T00:00:00\", \"preds\": 507.69633871338453, \"lower\": 131.64876229875833, \"upper\": 2541.1404533105997, \"data\": 153.00000000000014, \"model\": \"preds\", \"adm_0\": null, \"adm_1\": null, \"adm_2\": null, \"adm_3\": NaN, \"legend\": null}, {\"dates\": \"2022-06-19T00:00:00\", \"preds\": 167.76087009218995, \"lower\": 85.64910383284582, \"upper\": 348.5073575663706, \"data\": 209.00000000000009, \"model\": \"preds\", \"adm_0\": null, \"adm_1\": null, \"adm_2\": null, \"adm_3\": NaN, \"legend\": null}, {\"dates\": \"2022-06-26T00:00:00\", \"preds\": 154.15290588604157, \"lower\": 66.975465373166, \"upper\": 389.16664948619086, \"data\": 188.9999999999999, \"model\": \"preds\", \"adm_0\": null, \"adm_1\": null, \"adm_2\": null, \"adm_3\": NaN, \"legend\": null}, {\"dates\": \"2022-07-03T00:00:00\", \"preds\": 150.99811525234864, \"lower\": 54.57364061353801, \"upper\": 481.2103805066478, \"data\": 154.99999999999991, \"model\": \"preds\", \"adm_0\": null, \"adm_1\": null, \"adm_2\": null, \"adm_3\": NaN, \"legend\": null}, {\"dates\": \"2022-07-10T00:00:00\", \"preds\": 145.99540514656573, \"lower\": 45.234503498814185, \"upper\": 570.6334337220401, \"data\": 144.0, \"model\": \"preds\", \"adm_0\": null, \"adm_1\": null, \"adm_2\": null, \"adm_3\": NaN, \"legend\": null}, {\"dates\": \"2022-07-17T00:00:00\", \"preds\": 141.09022998887374, \"lower\": 73.11890822917931, \"upper\": 287.9679677155035, \"data\": 193.99999999999991, \"model\": \"preds\", \"adm_0\": null, \"adm_1\": null, \"adm_2\": null, \"adm_3\": NaN, \"legend\": null}, {\"dates\": \"2022-07-24T00:00:00\", \"preds\": 136.83085137731135, \"lower\": 60.255593111277825, \"upper\": 339.7511524022664, \"data\": 148.00000000000003, \"model\": \"preds\", \"adm_0\": null, \"adm_1\": null, \"adm_2\": null, \"adm_3\": NaN, \"legend\": null}, {\"dates\": \"2022-07-31T00:00:00\", \"preds\": 133.8603297159285, \"lower\": 49.180202134802514, \"upper\": 417.6274111930265, \"data\": 145.00000000000003, \"model\": \"preds\", \"adm_0\": null, \"adm_1\": null, \"adm_2\": null, \"adm_3\": NaN, \"legend\": null}, {\"dates\": \"2022-08-07T00:00:00\", \"preds\": 131.20635331032815, \"lower\": 41.34880780866706, \"upper\": 501.19363629921145, \"data\": 106.00000000000007, \"model\": \"preds\", \"adm_0\": null, \"adm_1\": null, \"adm_2\": null, \"adm_3\": NaN, \"legend\": null}, {\"dates\": \"2022-08-14T00:00:00\", \"preds\": 111.38967124972875, \"lower\": 58.816424134349504, \"upper\": 222.4063840451618, \"data\": 109.99999999999996, \"model\": \"preds\", \"adm_0\": null, \"adm_1\": null, \"adm_2\": null, \"adm_3\": NaN, \"legend\": null}, {\"dates\": \"2022-08-21T00:00:00\", \"preds\": 105.25261017221358, \"lower\": 47.559711093645525, \"upper\": 253.21575835312325, \"data\": 99.00000000000009, \"model\": \"preds\", \"adm_0\": null, \"adm_1\": null, \"adm_2\": null, \"adm_3\": NaN, \"legend\": null}, {\"dates\": \"2022-08-28T00:00:00\", \"preds\": 103.47410891075722, \"lower\": 39.197471252596046, \"upper\": 310.36814802124167, \"data\": 93.99999999999994, \"model\": \"preds\", \"adm_0\": null, \"adm_1\": null, \"adm_2\": null, \"adm_3\": NaN, \"legend\": null}, {\"dates\": \"2022-09-04T00:00:00\", \"preds\": 100.98212719049425, \"lower\": 32.97666320764725, \"upper\": 367.764138407027, \"data\": 101.00000000000001, \"model\": \"preds\", \"adm_0\": null, \"adm_1\": null, \"adm_2\": null, \"adm_3\": NaN, \"legend\": null}, {\"dates\": \"2022-09-11T00:00:00\", \"preds\": 96.34719336863107, \"lower\": 51.49848081146708, \"upper\": 189.64225246372425, \"data\": 120.0000000000001, \"model\": \"preds\", \"adm_0\": null, \"adm_1\": null, \"adm_2\": null, \"adm_3\": NaN, \"legend\": null}, {\"dates\": \"2022-09-18T00:00:00\", \"preds\": 95.77750880225683, \"lower\": 43.735953963125525, \"upper\": 227.482790878451, \"data\": 102.00000000000003, \"model\": \"preds\", \"adm_0\": null, \"adm_1\": null, \"adm_2\": null, \"adm_3\": NaN, \"legend\": null}, {\"dates\": \"2022-09-25T00:00:00\", \"preds\": 94.2678358323544, \"lower\": 36.16285250506332, \"upper\": 278.23452334912656, \"data\": 94.99999999999997, \"model\": \"preds\", \"adm_0\": null, \"adm_1\": null, \"adm_2\": null, \"adm_3\": NaN, \"legend\": null}, {\"dates\": \"2022-10-02T00:00:00\", \"preds\": 93.31645975722742, \"lower\": 30.86107569314268, \"upper\": 334.1712149366602, \"data\": 102.00000000000003, \"model\": \"preds\", \"adm_0\": null, \"adm_1\": null, \"adm_2\": null, \"adm_3\": NaN, \"legend\": null}, {\"dates\": \"2022-10-09T00:00:00\", \"preds\": 98.71560180351594, \"lower\": 52.75987727082379, \"upper\": 194.323584459493, \"data\": 123.00000000000006, \"model\": \"preds\", \"adm_0\": null, \"adm_1\": null, \"adm_2\": null, \"adm_3\": NaN, \"legend\": null}, {\"dates\": \"2022-10-16T00:00:00\", \"preds\": 98.87475800002565, \"lower\": 45.11304943885604, \"upper\": 235.07527270024372, \"data\": 160.0000000000001, \"model\": \"preds\", \"adm_0\": null, \"adm_1\": null, \"adm_2\": null, \"adm_3\": NaN, \"legend\": null}, {\"dates\": \"2022-10-23T00:00:00\", \"preds\": 98.09141346352483, \"lower\": 37.56262519359326, \"upper\": 290.17966135697196, \"data\": 139.00000000000003, \"model\": \"preds\", \"adm_0\": null, \"adm_1\": null, \"adm_2\": null, \"adm_3\": NaN, \"legend\": null}, {\"dates\": \"2022-10-30T00:00:00\", \"preds\": 97.71465709535342, \"lower\": 32.226103318495426, \"upper\": 351.2150410226741, \"data\": 131.0, \"model\": \"preds\", \"adm_0\": null, \"adm_1\": null, \"adm_2\": null, \"adm_3\": NaN, \"legend\": null}, {\"dates\": \"2022-11-06T00:00:00\", \"preds\": 134.62573664704607, \"lower\": 70.40473557585469, \"upper\": 271.8550882824698, \"data\": 171.0, \"model\": \"preds\", \"adm_0\": null, \"adm_1\": null, \"adm_2\": null, \"adm_3\": NaN, \"legend\": null}, {\"dates\": \"2022-11-13T00:00:00\", \"preds\": 134.47036677331133, \"lower\": 59.71782686117104, \"upper\": 330.447250649565, \"data\": 129.00000000000003, \"model\": \"preds\", \"adm_0\": null, \"adm_1\": null, \"adm_2\": null, \"adm_3\": NaN, \"legend\": null}, {\"dates\": \"2022-11-20T00:00:00\", \"preds\": 135.3776571678296, \"lower\": 50.10456453134116, \"upper\": 418.3747502700327, \"data\": 93.99999999999994, \"model\": \"preds\", \"adm_0\": null, \"adm_1\": null, \"adm_2\": null, \"adm_3\": NaN, \"legend\": null}, {\"dates\": \"2022-11-27T00:00:00\", \"preds\": 135.82818722986102, \"lower\": 43.049101727643105, \"upper\": 514.8958796614942, \"data\": 86.00000000000003, \"model\": \"preds\", \"adm_0\": null, \"adm_1\": null, \"adm_2\": null, \"adm_3\": NaN, \"legend\": null}, {\"dates\": \"2022-12-04T00:00:00\", \"preds\": 84.91744320648253, \"lower\": 45.95105937217203, \"upper\": 164.7622825346184, \"data\": 98.0, \"model\": \"preds\", \"adm_0\": null, \"adm_1\": null, \"adm_2\": null, \"adm_3\": NaN, \"legend\": null}, {\"dates\": \"2022-12-11T00:00:00\", \"preds\": 82.37384167696814, \"lower\": 38.250490680040315, \"upper\": 191.70584865719232, \"data\": 123.00000000000006, \"model\": \"preds\", \"adm_0\": null, \"adm_1\": null, \"adm_2\": null, \"adm_3\": NaN, \"legend\": null}, {\"dates\": \"2022-12-18T00:00:00\", \"preds\": 80.7613950099572, \"lower\": 31.64523878384306, \"upper\": 232.0248371971098, \"data\": 117.0000000000001, \"model\": \"preds\", \"adm_0\": null, \"adm_1\": null, \"adm_2\": null, \"adm_3\": NaN, \"legend\": null}, {\"dates\": \"2022-12-25T00:00:00\", \"preds\": 79.26069183082991, \"lower\": 26.89160433614791, \"upper\": 274.38016287466684, \"data\": 163.00000000000006, \"model\": \"preds\", \"adm_0\": null, \"adm_1\": null, \"adm_2\": null, \"adm_3\": NaN, \"legend\": null}, {\"dates\": \"2023-01-01T00:00:00\", \"preds\": 151.75912131500172, \"lower\": 78.8006137547906, \"upper\": 309.0367972424309, \"data\": 230.00000000000014, \"model\": \"preds\", \"adm_0\": null, \"adm_1\": null, \"adm_2\": null, \"adm_3\": NaN, \"legend\": null}, {\"dates\": \"2023-01-08T00:00:00\", \"preds\": 159.7113114447144, \"lower\": 69.925995297073, \"upper\": 399.39483298826224, \"data\": 218.00000000000017, \"model\": \"preds\", \"adm_0\": null, \"adm_1\": null, \"adm_2\": null, \"adm_3\": NaN, \"legend\": null}, {\"dates\": \"2023-01-15T00:00:00\", \"preds\": 161.09849482557027, \"lower\": 58.61265263614962, \"upper\": 508.99158690412145, \"data\": 246.00000000000068, \"model\": \"preds\", \"adm_0\": null, \"adm_1\": null, \"adm_2\": null, \"adm_3\": NaN, \"legend\": null}, {\"dates\": \"2023-01-22T00:00:00\", \"preds\": 164.0870771311059, \"lower\": 50.903757847976614, \"upper\": 640.2575220702569, \"data\": 311.9999999999994, \"model\": \"preds\", \"adm_0\": null, \"adm_1\": null, \"adm_2\": null, \"adm_3\": NaN, \"legend\": null}, {\"dates\": \"2023-01-29T00:00:00\", \"preds\": 309.36997031375967, \"lower\": 152.07971768934192, \"upper\": 672.2648617059136, \"data\": 383.00000000000006, \"model\": \"preds\", \"adm_0\": null, \"adm_1\": null, \"adm_2\": null, \"adm_3\": NaN, \"legend\": null}, {\"dates\": \"2023-02-05T00:00:00\", \"preds\": 328.36402569417095, \"lower\": 134.0836603638846, \"upper\": 895.5194220504013, \"data\": 524.9999999999994, \"model\": \"preds\", \"adm_0\": null, \"adm_1\": null, \"adm_2\": null, \"adm_3\": NaN, \"legend\": null}, {\"dates\": \"2023-02-12T00:00:00\", \"preds\": 338.44353738083413, \"lower\": 112.86419585872474, \"upper\": 1198.6506712953878, \"data\": 371.99999999999994, \"model\": \"preds\", \"adm_0\": null, \"adm_1\": null, \"adm_2\": null, \"adm_3\": NaN, \"legend\": null}, {\"dates\": \"2023-02-19T00:00:00\", \"preds\": 349.60097780996006, \"lower\": 97.93584193927443, \"upper\": 1569.3142988104, \"data\": 507.0000000000001, \"model\": \"preds\", \"adm_0\": null, \"adm_1\": null, \"adm_2\": null, \"adm_3\": NaN, \"legend\": null}, {\"dates\": \"2023-02-26T00:00:00\", \"preds\": 486.69752571203514, \"lower\": 230.60416972704553, \"upper\": 1105.375866271899, \"data\": 870.0, \"model\": \"preds\", \"adm_0\": null, \"adm_1\": null, \"adm_2\": null, \"adm_3\": NaN, \"legend\": null}, {\"dates\": \"2023-03-05T00:00:00\", \"preds\": 517.8411243043572, \"lower\": 201.98745181276163, \"upper\": 1496.3648720959604, \"data\": 945.0000000000003, \"model\": \"preds\", \"adm_0\": null, \"adm_1\": null, \"adm_2\": null, \"adm_3\": NaN, \"legend\": null}, {\"dates\": \"2023-03-12T00:00:00\", \"preds\": 529.7684567054695, \"lower\": 167.23095654785914, \"upper\": 2019.1252957105041, \"data\": 1125.000000000002, \"model\": \"preds\", \"adm_0\": null, \"adm_1\": null, \"adm_2\": null, \"adm_3\": NaN, \"legend\": null}, {\"dates\": \"2023-03-19T00:00:00\", \"preds\": 545.4007213622474, \"lower\": 143.50548199946917, \"upper\": 2673.7759556682413, \"data\": 1382.0000000000002, \"model\": \"preds\", \"adm_0\": null, \"adm_1\": null, \"adm_2\": null, \"adm_3\": NaN, \"legend\": null}, {\"dates\": \"2023-03-26T00:00:00\", \"preds\": 1436.9969791954877, \"lower\": 617.80444857739, \"upper\": 3675.252209023487, \"data\": 1579.9999999999984, \"model\": \"preds\", \"adm_0\": null, \"adm_1\": null, \"adm_2\": null, \"adm_3\": NaN, \"legend\": null}, {\"dates\": \"2023-04-02T00:00:00\", \"preds\": 1552.567089578109, \"lower\": 534.8015631291074, \"upper\": 5268.307803049241, \"data\": 1419.9999999999982, \"model\": \"preds\", \"adm_0\": null, \"adm_1\": null, \"adm_2\": null, \"adm_3\": NaN, \"legend\": null}, {\"dates\": \"2023-04-09T00:00:00\", \"preds\": 1636.9392121750382, \"lower\": 442.3248136706556, \"upper\": 7728.713793949735, \"data\": 1783.0000000000034, \"model\": \"preds\", \"adm_0\": null, \"adm_1\": null, \"adm_2\": null, \"adm_3\": NaN, \"legend\": null}, {\"dates\": \"2023-04-16T00:00:00\", \"preds\": 1720.5739847712427, \"lower\": 377.21274317344836, \"upper\": 11004.623877515718, \"data\": 1502.0000000000002, \"model\": \"preds\", \"adm_0\": null, \"adm_1\": null, \"adm_2\": null, \"adm_3\": NaN, \"legend\": null}, {\"dates\": \"2023-04-23T00:00:00\", \"preds\": 1657.1806290305906, \"lower\": 704.2999114889643, \"upper\": 4299.410348138865, \"data\": 1571.9999999999993, \"model\": \"preds\", \"adm_0\": null, \"adm_1\": null, \"adm_2\": null, \"adm_3\": NaN, \"legend\": null}, {\"dates\": \"2023-04-30T00:00:00\", \"preds\": 1670.3745106937647, \"lower\": 572.0346821463518, \"upper\": 5711.7438576471895, \"data\": 1918.9999999999986, \"model\": \"preds\", \"adm_0\": null, \"adm_1\": null, \"adm_2\": null, \"adm_3\": NaN, \"legend\": null}, {\"dates\": \"2023-05-07T00:00:00\", \"preds\": 1722.5635450059838, \"lower\": 463.66773266459626, \"upper\": 8177.35425212233, \"data\": 1807.000000000001, \"model\": \"preds\", \"adm_0\": null, \"adm_1\": null, \"adm_2\": null, \"adm_3\": NaN, \"legend\": null}, {\"dates\": \"2023-05-14T00:00:00\", \"preds\": 1755.4117309045916, \"lower\": 385.13211283295925, \"upper\": 11215.15300772631, \"data\": 1730.9999999999984, \"model\": \"preds\", \"adm_0\": null, \"adm_1\": null, \"adm_2\": null, \"adm_3\": NaN, \"legend\": null}, {\"dates\": \"2023-05-21T00:00:00\", \"preds\": 1791.9777613998463, \"lower\": 757.4544557427392, \"upper\": 4680.679260236886, \"data\": 1478.9999999999989, \"model\": \"preds\", \"adm_0\": null, \"adm_1\": null, \"adm_2\": null, \"adm_3\": NaN, \"legend\": null}, {\"dates\": \"2023-05-28T00:00:00\", \"preds\": 1805.2347171459583, \"lower\": 614.147112710866, \"upper\": 6226.891165129948, \"data\": 1328.0000000000018, \"model\": \"preds\", \"adm_0\": null, \"adm_1\": null, \"adm_2\": null, \"adm_3\": NaN, \"legend\": null}, {\"dates\": \"2023-06-04T00:00:00\", \"preds\": 1829.3651793516538, \"lower\": 489.7629993558478, \"upper\": 8750.799223426155, \"data\": 1238.0000000000007, \"model\": \"preds\", \"adm_0\": null, \"adm_1\": null, \"adm_2\": null, \"adm_3\": NaN, \"legend\": null}, {\"dates\": \"2023-06-11T00:00:00\", \"preds\": 1846.2626111340383, \"lower\": 403.2353031857193, \"upper\": 11875.82932528966, \"data\": 1347.9999999999984, \"model\": \"preds\", \"adm_0\": null, \"adm_1\": null, \"adm_2\": null, \"adm_3\": NaN, \"legend\": null}, {\"dates\": \"2023-06-18T00:00:00\", \"preds\": 1300.2629947196654, \"lower\": 567.9816228693035, \"upper\": 3260.8439645005164, \"data\": 1235.999999999999, \"model\": \"preds\", \"adm_0\": null, \"adm_1\": null, \"adm_2\": null, \"adm_3\": NaN, \"legend\": null}, {\"dates\": \"2023-06-25T00:00:00\", \"preds\": 1304.3716371352732, \"lower\": 462.37057439565336, \"upper\": 4263.066574789821, \"data\": 996.0000000000018, \"model\": \"preds\", \"adm_0\": null, \"adm_1\": null, \"adm_2\": null, \"adm_3\": NaN, \"legend\": null}, {\"dates\": \"2022-01-02T00:00:00\", \"preds\": 61.29, \"lower\": 0.0, \"upper\": 1729.2245503355, \"data\": null, \"model\": \"77\", \"adm_0\": \"BRA\", \"adm_1\": \"RJ\", \"adm_2\": 3304557.0, \"adm_3\": NaN, \"legend\": null}, {\"dates\": \"2022-01-09T00:00:00\", \"preds\": 27.06, \"lower\": 0.0, \"upper\": 1535.8709703498, \"data\": null, \"model\": \"77\", \"adm_0\": \"BRA\", \"adm_1\": \"RJ\", \"adm_2\": 3304557.0, \"adm_3\": NaN, \"legend\": null}, {\"dates\": \"2022-01-16T00:00:00\", \"preds\": 26.88, \"lower\": 0.0, \"upper\": 673.9351776686, \"data\": null, \"model\": \"77\", \"adm_0\": \"BRA\", \"adm_1\": \"RJ\", \"adm_2\": 3304557.0, \"adm_3\": NaN, \"legend\": null}, {\"dates\": \"2022-01-23T00:00:00\", \"preds\": 30.44, \"lower\": 0.0, \"upper\": 1149.2167062209, \"data\": null, \"model\": \"77\", \"adm_0\": \"BRA\", \"adm_1\": \"RJ\", \"adm_2\": 3304557.0, \"adm_3\": NaN, \"legend\": null}, {\"dates\": \"2022-01-30T00:00:00\", \"preds\": 29.76, \"lower\": 0.0, \"upper\": 1054.8541371324, \"data\": null, \"model\": \"77\", \"adm_0\": \"BRA\", \"adm_1\": \"RJ\", \"adm_2\": 3304557.0, \"adm_3\": NaN, \"legend\": null}, {\"dates\": \"2022-02-06T00:00:00\", \"preds\": 29.34, \"lower\": 0.0, \"upper\": 1053.3112130593, \"data\": null, \"model\": \"77\", \"adm_0\": \"BRA\", \"adm_1\": \"RJ\", \"adm_2\": 3304557.0, \"adm_3\": NaN, \"legend\": null}, {\"dates\": \"2022-02-13T00:00:00\", \"preds\": 34.61, \"lower\": 0.0, \"upper\": 1012.9490918948, \"data\": null, \"model\": \"77\", \"adm_0\": \"BRA\", \"adm_1\": \"RJ\", \"adm_2\": 3304557.0, \"adm_3\": NaN, \"legend\": null}, {\"dates\": \"2022-02-20T00:00:00\", \"preds\": 39.01, \"lower\": 0.0, \"upper\": 1235.4601531132, \"data\": null, \"model\": \"77\", \"adm_0\": \"BRA\", \"adm_1\": \"RJ\", \"adm_2\": 3304557.0, \"adm_3\": NaN, \"legend\": null}, {\"dates\": \"2022-02-27T00:00:00\", \"preds\": 43.28, \"lower\": 0.0, \"upper\": 1478.6163274184, \"data\": null, \"model\": \"77\", \"adm_0\": \"BRA\", \"adm_1\": \"RJ\", \"adm_2\": 3304557.0, \"adm_3\": NaN, \"legend\": null}, {\"dates\": \"2022-03-06T00:00:00\", \"preds\": 32.32, \"lower\": 0.0, \"upper\": 1933.3792826922, \"data\": null, \"model\": \"77\", \"adm_0\": \"BRA\", \"adm_1\": \"RJ\", \"adm_2\": 3304557.0, \"adm_3\": NaN, \"legend\": null}, {\"dates\": \"2022-03-13T00:00:00\", \"preds\": 44.08, \"lower\": 0.0, \"upper\": 1698.1051179684, \"data\": null, \"model\": \"77\", \"adm_0\": \"BRA\", \"adm_1\": \"RJ\", \"adm_2\": 3304557.0, \"adm_3\": NaN, \"legend\": null}, {\"dates\": \"2022-03-20T00:00:00\", \"preds\": 74.21, \"lower\": 0.0, \"upper\": 1583.5488129311, \"data\": null, \"model\": \"77\", \"adm_0\": \"BRA\", \"adm_1\": \"RJ\", \"adm_2\": 3304557.0, \"adm_3\": NaN, \"legend\": null}, {\"dates\": \"2022-03-27T00:00:00\", \"preds\": 91.2, \"lower\": 0.0, \"upper\": 1376.3518495555, \"data\": null, \"model\": \"77\", \"adm_0\": \"BRA\", \"adm_1\": \"RJ\", \"adm_2\": 3304557.0, \"adm_3\": NaN, \"legend\": null}, {\"dates\": \"2022-04-03T00:00:00\", \"preds\": 98.79, \"lower\": 0.0, \"upper\": 723.5706027188, \"data\": null, \"model\": \"77\", \"adm_0\": \"BRA\", \"adm_1\": \"RJ\", \"adm_2\": 3304557.0, \"adm_3\": NaN, \"legend\": null}, {\"dates\": \"2022-04-10T00:00:00\", \"preds\": 176.98, \"lower\": 0.0, \"upper\": 1567.9589396197, \"data\": null, \"model\": \"77\", \"adm_0\": \"BRA\", \"adm_1\": \"RJ\", \"adm_2\": 3304557.0, \"adm_3\": NaN, \"legend\": null}, {\"dates\": \"2022-04-17T00:00:00\", \"preds\": 216.42, \"lower\": 0.0, \"upper\": 2335.967212316, \"data\": null, \"model\": \"77\", \"adm_0\": \"BRA\", \"adm_1\": \"RJ\", \"adm_2\": 3304557.0, \"adm_3\": NaN, \"legend\": null}, {\"dates\": \"2022-04-24T00:00:00\", \"preds\": 345.06, \"lower\": 0.0, \"upper\": 3021.9998205177, \"data\": null, \"model\": \"77\", \"adm_0\": \"BRA\", \"adm_1\": \"RJ\", \"adm_2\": 3304557.0, \"adm_3\": NaN, \"legend\": null}, {\"dates\": \"2022-05-01T00:00:00\", \"preds\": 313.83, \"lower\": 0.0, \"upper\": 3249.4121439655, \"data\": null, \"model\": \"77\", \"adm_0\": \"BRA\", \"adm_1\": \"RJ\", \"adm_2\": 3304557.0, \"adm_3\": NaN, \"legend\": null}, {\"dates\": \"2022-05-08T00:00:00\", \"preds\": 512.02, \"lower\": 0.0, \"upper\": 3762.6987796367, \"data\": null, \"model\": \"77\", \"adm_0\": \"BRA\", \"adm_1\": \"RJ\", \"adm_2\": 3304557.0, \"adm_3\": NaN, \"legend\": null}, {\"dates\": \"2022-05-15T00:00:00\", \"preds\": 382.19, \"lower\": 0.0, \"upper\": 2690.5815795323, \"data\": null, \"model\": \"77\", \"adm_0\": \"BRA\", \"adm_1\": \"RJ\", \"adm_2\": 3304557.0, \"adm_3\": NaN, \"legend\": null}, {\"dates\": \"2022-05-22T00:00:00\", \"preds\": 318.17, \"lower\": 0.0, \"upper\": 1889.3836654291, \"data\": null, \"model\": \"77\", \"adm_0\": \"BRA\", \"adm_1\": \"RJ\", \"adm_2\": 3304557.0, \"adm_3\": NaN, \"legend\": null}, {\"dates\": \"2022-05-29T00:00:00\", \"preds\": 663.35, \"lower\": 0.0, \"upper\": 2355.171415628, \"data\": null, \"model\": \"77\", \"adm_0\": \"BRA\", \"adm_1\": \"RJ\", \"adm_2\": 3304557.0, \"adm_3\": NaN, \"legend\": null}, {\"dates\": \"2022-06-05T00:00:00\", \"preds\": 1012.57, \"lower\": 244.0160680593, \"upper\": 1781.1239319407, \"data\": null, \"model\": \"77\", \"adm_0\": \"BRA\", \"adm_1\": \"RJ\", \"adm_2\": 3304557.0, \"adm_3\": NaN, \"legend\": null}, {\"dates\": \"2022-06-12T00:00:00\", \"preds\": 902.92, \"lower\": 0.0, \"upper\": 2020.9380813249, \"data\": null, \"model\": \"77\", \"adm_0\": \"BRA\", \"adm_1\": \"RJ\", \"adm_2\": 3304557.0, \"adm_3\": NaN, \"legend\": null}, {\"dates\": \"2022-06-19T00:00:00\", \"preds\": 766.88, \"lower\": 0.0, \"upper\": 2229.098105451, \"data\": null, \"model\": \"77\", \"adm_0\": \"BRA\", \"adm_1\": \"RJ\", \"adm_2\": 3304557.0, \"adm_3\": NaN, \"legend\": null}, {\"dates\": \"2022-06-26T00:00:00\", \"preds\": 396.46, \"lower\": 0.0, \"upper\": 2184.4381570024, \"data\": null, \"model\": \"77\", \"adm_0\": \"BRA\", \"adm_1\": \"RJ\", \"adm_2\": 3304557.0, \"adm_3\": NaN, \"legend\": null}, {\"dates\": \"2022-07-03T00:00:00\", \"preds\": 333.08, \"lower\": 0.0, \"upper\": 2367.8073825474, \"data\": null, \"model\": \"77\", \"adm_0\": \"BRA\", \"adm_1\": \"RJ\", \"adm_2\": 3304557.0, \"adm_3\": NaN, \"legend\": null}, {\"dates\": \"2022-07-10T00:00:00\", \"preds\": 203.22, \"lower\": 0.0, \"upper\": 1614.4841398778, \"data\": null, \"model\": \"77\", \"adm_0\": \"BRA\", \"adm_1\": \"RJ\", \"adm_2\": 3304557.0, \"adm_3\": NaN, \"legend\": null}, {\"dates\": \"2022-07-17T00:00:00\", \"preds\": 210.92, \"lower\": 0.0, \"upper\": 1624.558058697, \"data\": null, \"model\": \"77\", \"adm_0\": \"BRA\", \"adm_1\": \"RJ\", \"adm_2\": 3304557.0, \"adm_3\": NaN, \"legend\": null}, {\"dates\": \"2022-07-24T00:00:00\", \"preds\": 205.35, \"lower\": 0.0, \"upper\": 1947.7565892405, \"data\": null, \"model\": \"77\", \"adm_0\": \"BRA\", \"adm_1\": \"RJ\", \"adm_2\": 3304557.0, \"adm_3\": NaN, \"legend\": null}, {\"dates\": \"2022-07-31T00:00:00\", \"preds\": 155.79, \"lower\": 0.0, \"upper\": 1396.3902691858, \"data\": null, \"model\": \"77\", \"adm_0\": \"BRA\", \"adm_1\": \"RJ\", \"adm_2\": 3304557.0, \"adm_3\": NaN, \"legend\": null}, {\"dates\": \"2022-08-07T00:00:00\", \"preds\": 161.74, \"lower\": 0.0, \"upper\": 1267.4720622758, \"data\": null, \"model\": \"77\", \"adm_0\": \"BRA\", \"adm_1\": \"RJ\", \"adm_2\": 3304557.0, \"adm_3\": NaN, \"legend\": null}, {\"dates\": \"2022-08-14T00:00:00\", \"preds\": 153.51, \"lower\": 0.0, \"upper\": 1237.7757285767, \"data\": null, \"model\": \"77\", \"adm_0\": \"BRA\", \"adm_1\": \"RJ\", \"adm_2\": 3304557.0, \"adm_3\": NaN, \"legend\": null}, {\"dates\": \"2022-08-21T00:00:00\", \"preds\": 176.64, \"lower\": 0.0, \"upper\": 1297.4866719026, \"data\": null, \"model\": \"77\", \"adm_0\": \"BRA\", \"adm_1\": \"RJ\", \"adm_2\": 3304557.0, \"adm_3\": NaN, \"legend\": null}, {\"dates\": \"2022-08-28T00:00:00\", \"preds\": 179.13, \"lower\": 0.0, \"upper\": 1478.6152989411, \"data\": null, \"model\": \"77\", \"adm_0\": \"BRA\", \"adm_1\": \"RJ\", \"adm_2\": 3304557.0, \"adm_3\": NaN, \"legend\": null}, {\"dates\": \"2022-09-04T00:00:00\", \"preds\": 146.43, \"lower\": 0.0, \"upper\": 1566.3419666142, \"data\": null, \"model\": \"77\", \"adm_0\": \"BRA\", \"adm_1\": \"RJ\", \"adm_2\": 3304557.0, \"adm_3\": NaN, \"legend\": null}, {\"dates\": \"2022-09-11T00:00:00\", \"preds\": 119.06, \"lower\": 0.0, \"upper\": 1064.7396522083, \"data\": null, \"model\": \"77\", \"adm_0\": \"BRA\", \"adm_1\": \"RJ\", \"adm_2\": 3304557.0, \"adm_3\": NaN, \"legend\": null}, {\"dates\": \"2022-09-18T00:00:00\", \"preds\": 89.66, \"lower\": 0.0, \"upper\": 524.128212398, \"data\": null, \"model\": \"77\", \"adm_0\": \"BRA\", \"adm_1\": \"RJ\", \"adm_2\": 3304557.0, \"adm_3\": NaN, \"legend\": null}, {\"dates\": \"2022-09-25T00:00:00\", \"preds\": 88.07, \"lower\": 0.0, \"upper\": 1116.9014193491, \"data\": null, \"model\": \"77\", \"adm_0\": \"BRA\", \"adm_1\": \"RJ\", \"adm_2\": 3304557.0, \"adm_3\": NaN, \"legend\": null}, {\"dates\": \"2022-10-02T00:00:00\", \"preds\": 92.84, \"lower\": 0.0, \"upper\": 967.041235228, \"data\": null, \"model\": \"77\", \"adm_0\": \"BRA\", \"adm_1\": \"RJ\", \"adm_2\": 3304557.0, \"adm_3\": NaN, \"legend\": null}, {\"dates\": \"2022-10-09T00:00:00\", \"preds\": 130.7, \"lower\": 0.0, \"upper\": 1671.4170892455, \"data\": null, \"model\": \"77\", \"adm_0\": \"BRA\", \"adm_1\": \"RJ\", \"adm_2\": 3304557.0, \"adm_3\": NaN, \"legend\": null}, {\"dates\": \"2022-10-16T00:00:00\", \"preds\": 126.37, \"lower\": 0.0, \"upper\": 1783.0109912045, \"data\": null, \"model\": \"77\", \"adm_0\": \"BRA\", \"adm_1\": \"RJ\", \"adm_2\": 3304557.0, \"adm_3\": NaN, \"legend\": null}, {\"dates\": \"2022-10-23T00:00:00\", \"preds\": 88.54, \"lower\": 0.0, \"upper\": 2455.8924287832, \"data\": null, \"model\": \"77\", \"adm_0\": \"BRA\", \"adm_1\": \"RJ\", \"adm_2\": 3304557.0, \"adm_3\": NaN, \"legend\": null}, {\"dates\": \"2022-10-30T00:00:00\", \"preds\": 90.18, \"lower\": 0.0, \"upper\": 2482.2110244223, \"data\": null, \"model\": \"77\", \"adm_0\": \"BRA\", \"adm_1\": \"RJ\", \"adm_2\": 3304557.0, \"adm_3\": NaN, \"legend\": null}, {\"dates\": \"2022-11-06T00:00:00\", \"preds\": 138.54, \"lower\": 0.0, \"upper\": 2753.4854223837, \"data\": null, \"model\": \"77\", \"adm_0\": \"BRA\", \"adm_1\": \"RJ\", \"adm_2\": 3304557.0, \"adm_3\": NaN, \"legend\": null}, {\"dates\": \"2022-11-13T00:00:00\", \"preds\": 111.15, \"lower\": 0.0, \"upper\": 2114.9459362357, \"data\": null, \"model\": \"77\", \"adm_0\": \"BRA\", \"adm_1\": \"RJ\", \"adm_2\": 3304557.0, \"adm_3\": NaN, \"legend\": null}, {\"dates\": \"2022-11-20T00:00:00\", \"preds\": 262.42, \"lower\": 0.0, \"upper\": 1560.3910680599, \"data\": null, \"model\": \"77\", \"adm_0\": \"BRA\", \"adm_1\": \"RJ\", \"adm_2\": 3304557.0, \"adm_3\": NaN, \"legend\": null}, {\"dates\": \"2022-11-27T00:00:00\", \"preds\": 130.46, \"lower\": 0.0, \"upper\": 1275.9170270516, \"data\": null, \"model\": \"77\", \"adm_0\": \"BRA\", \"adm_1\": \"RJ\", \"adm_2\": 3304557.0, \"adm_3\": NaN, \"legend\": null}, {\"dates\": \"2022-12-04T00:00:00\", \"preds\": 138.95, \"lower\": 0.0, \"upper\": 968.9083312331, \"data\": null, \"model\": \"77\", \"adm_0\": \"BRA\", \"adm_1\": \"RJ\", \"adm_2\": 3304557.0, \"adm_3\": NaN, \"legend\": null}, {\"dates\": \"2022-12-11T00:00:00\", \"preds\": 281.55, \"lower\": 0.0, \"upper\": 1260.6283970385, \"data\": null, \"model\": \"77\", \"adm_0\": \"BRA\", \"adm_1\": \"RJ\", \"adm_2\": 3304557.0, \"adm_3\": NaN, \"legend\": null}, {\"dates\": \"2022-12-18T00:00:00\", \"preds\": 121.26, \"lower\": 0.0, \"upper\": 1588.656583431, \"data\": null, \"model\": \"77\", \"adm_0\": \"BRA\", \"adm_1\": \"RJ\", \"adm_2\": 3304557.0, \"adm_3\": NaN, \"legend\": null}, {\"dates\": \"2022-12-25T00:00:00\", \"preds\": 129.22, \"lower\": 0.0, \"upper\": 1872.3384034717, \"data\": null, \"model\": \"77\", \"adm_0\": \"BRA\", \"adm_1\": \"RJ\", \"adm_2\": 3304557.0, \"adm_3\": NaN, \"legend\": null}, {\"dates\": \"2023-01-01T00:00:00\", \"preds\": 124.7, \"lower\": 0.0, \"upper\": 1809.5625740147, \"data\": null, \"model\": \"77\", \"adm_0\": \"BRA\", \"adm_1\": \"RJ\", \"adm_2\": 3304557.0, \"adm_3\": NaN, \"legend\": null}, {\"dates\": \"2023-01-08T00:00:00\", \"preds\": 127.23, \"lower\": 0.0, \"upper\": 1793.8064366305, \"data\": null, \"model\": \"77\", \"adm_0\": \"BRA\", \"adm_1\": \"RJ\", \"adm_2\": 3304557.0, \"adm_3\": NaN, \"legend\": null}, {\"dates\": \"2023-01-15T00:00:00\", \"preds\": 155.21, \"lower\": 0.0, \"upper\": 1268.8861142409, \"data\": null, \"model\": \"77\", \"adm_0\": \"BRA\", \"adm_1\": \"RJ\", \"adm_2\": 3304557.0, \"adm_3\": NaN, \"legend\": null}, {\"dates\": \"2023-01-22T00:00:00\", \"preds\": 198.84, \"lower\": 0.0, \"upper\": 1195.3396186246, \"data\": null, \"model\": \"77\", \"adm_0\": \"BRA\", \"adm_1\": \"RJ\", \"adm_2\": 3304557.0, \"adm_3\": NaN, \"legend\": null}, {\"dates\": \"2023-01-29T00:00:00\", \"preds\": 345.27, \"lower\": 0.0, \"upper\": 1518.1194592248, \"data\": null, \"model\": \"77\", \"adm_0\": \"BRA\", \"adm_1\": \"RJ\", \"adm_2\": 3304557.0, \"adm_3\": NaN, \"legend\": null}, {\"dates\": \"2023-02-05T00:00:00\", \"preds\": 462.34, \"lower\": 0.0, \"upper\": 1445.4253987699, \"data\": null, \"model\": \"77\", \"adm_0\": \"BRA\", \"adm_1\": \"RJ\", \"adm_2\": 3304557.0, \"adm_3\": NaN, \"legend\": null}, {\"dates\": \"2023-02-12T00:00:00\", \"preds\": 481.6, \"lower\": 0.0, \"upper\": 1893.9755987178, \"data\": null, \"model\": \"77\", \"adm_0\": \"BRA\", \"adm_1\": \"RJ\", \"adm_2\": 3304557.0, \"adm_3\": NaN, \"legend\": null}, {\"dates\": \"2023-02-19T00:00:00\", \"preds\": 481.56, \"lower\": 0.0, \"upper\": 1965.8780215081, \"data\": null, \"model\": \"77\", \"adm_0\": \"BRA\", \"adm_1\": \"RJ\", \"adm_2\": 3304557.0, \"adm_3\": NaN, \"legend\": null}, {\"dates\": \"2023-02-26T00:00:00\", \"preds\": 574.3, \"lower\": 0.0, \"upper\": 2019.8204358497, \"data\": null, \"model\": \"77\", \"adm_0\": \"BRA\", \"adm_1\": \"RJ\", \"adm_2\": 3304557.0, \"adm_3\": NaN, \"legend\": null}, {\"dates\": \"2023-03-05T00:00:00\", \"preds\": 908.59, \"lower\": 0.0, \"upper\": 2793.9425956685, \"data\": null, \"model\": \"77\", \"adm_0\": \"BRA\", \"adm_1\": \"RJ\", \"adm_2\": 3304557.0, \"adm_3\": NaN, \"legend\": null}, {\"dates\": \"2023-03-12T00:00:00\", \"preds\": 1098.33, \"lower\": 0.0, \"upper\": 3565.2781705146, \"data\": null, \"model\": \"77\", \"adm_0\": \"BRA\", \"adm_1\": \"RJ\", \"adm_2\": 3304557.0, \"adm_3\": NaN, \"legend\": null}, {\"dates\": \"2023-03-19T00:00:00\", \"preds\": 1255.02, \"lower\": 0.0, \"upper\": 4202.4693301775, \"data\": null, \"model\": \"77\", \"adm_0\": \"BRA\", \"adm_1\": \"RJ\", \"adm_2\": 3304557.0, \"adm_3\": NaN, \"legend\": null}, {\"dates\": \"2023-03-26T00:00:00\", \"preds\": 903.32, \"lower\": 0.0, \"upper\": 3760.903225256, \"data\": null, \"model\": \"77\", \"adm_0\": \"BRA\", \"adm_1\": \"RJ\", \"adm_2\": 3304557.0, \"adm_3\": NaN, \"legend\": null}, {\"dates\": \"2023-04-02T00:00:00\", \"preds\": 2084.83, \"lower\": 0.0, \"upper\": 4512.3417709763, \"data\": null, \"model\": \"77\", \"adm_0\": \"BRA\", \"adm_1\": \"RJ\", \"adm_2\": 3304557.0, \"adm_3\": NaN, \"legend\": null}, {\"dates\": \"2023-04-09T00:00:00\", \"preds\": 1451.2, \"lower\": 0.0, \"upper\": 2937.0054003446, \"data\": null, \"model\": \"77\", \"adm_0\": \"BRA\", \"adm_1\": \"RJ\", \"adm_2\": 3304557.0, \"adm_3\": NaN, \"legend\": null}, {\"dates\": \"2023-04-16T00:00:00\", \"preds\": 1680.13, \"lower\": 591.7969421614, \"upper\": 2768.4630578386, \"data\": null, \"model\": \"77\", \"adm_0\": \"BRA\", \"adm_1\": \"RJ\", \"adm_2\": 3304557.0, \"adm_3\": NaN, \"legend\": null}, {\"dates\": \"2023-04-23T00:00:00\", \"preds\": 1944.43, \"lower\": 650.1333199898, \"upper\": 3238.7266800102, \"data\": null, \"model\": \"77\", \"adm_0\": \"BRA\", \"adm_1\": \"RJ\", \"adm_2\": 3304557.0, \"adm_3\": NaN, \"legend\": null}, {\"dates\": \"2023-04-30T00:00:00\", \"preds\": 1575.31, \"lower\": 227.6224669775, \"upper\": 2922.9975330225, \"data\": null, \"model\": \"77\", \"adm_0\": \"BRA\", \"adm_1\": \"RJ\", \"adm_2\": 3304557.0, \"adm_3\": NaN, \"legend\": null}, {\"dates\": \"2023-05-07T00:00:00\", \"preds\": 1426.24, \"lower\": 206.7682082167, \"upper\": 2645.7117917833, \"data\": null, \"model\": \"77\", \"adm_0\": \"BRA\", \"adm_1\": \"RJ\", \"adm_2\": 3304557.0, \"adm_3\": NaN, \"legend\": null}, {\"dates\": \"2023-05-14T00:00:00\", \"preds\": 1939.85, \"lower\": 769.2177668869, \"upper\": 3110.4822331131, \"data\": null, \"model\": \"77\", \"adm_0\": \"BRA\", \"adm_1\": \"RJ\", \"adm_2\": 3304557.0, \"adm_3\": NaN, \"legend\": null}, {\"dates\": \"2023-05-21T00:00:00\", \"preds\": 1454.24, \"lower\": 359.7715538942, \"upper\": 2548.7084461058, \"data\": null, \"model\": \"77\", \"adm_0\": \"BRA\", \"adm_1\": \"RJ\", \"adm_2\": 3304557.0, \"adm_3\": NaN, \"legend\": null}, {\"dates\": \"2023-05-28T00:00:00\", \"preds\": 1134.07, \"lower\": 343.0948354381, \"upper\": 1925.0451645619, \"data\": null, \"model\": \"77\", \"adm_0\": \"BRA\", \"adm_1\": \"RJ\", \"adm_2\": 3304557.0, \"adm_3\": NaN, \"legend\": null}, {\"dates\": \"2023-06-04T00:00:00\", \"preds\": 2243.41, \"lower\": 1319.5171062823, \"upper\": 3167.3028937177, \"data\": null, \"model\": \"77\", \"adm_0\": \"BRA\", \"adm_1\": \"RJ\", \"adm_2\": 3304557.0, \"adm_3\": NaN, \"legend\": null}, {\"dates\": \"2023-06-11T00:00:00\", \"preds\": 2239.65, \"lower\": 1112.8198769929, \"upper\": 3366.4801230071, \"data\": null, \"model\": \"77\", \"adm_0\": \"BRA\", \"adm_1\": \"RJ\", \"adm_2\": 3304557.0, \"adm_3\": NaN, \"legend\": null}, {\"dates\": \"2023-06-18T00:00:00\", \"preds\": 1068.35, \"lower\": 0.0, \"upper\": 2215.1295403202, \"data\": null, \"model\": \"77\", \"adm_0\": \"BRA\", \"adm_1\": \"RJ\", \"adm_2\": 3304557.0, \"adm_3\": NaN, \"legend\": null}, {\"dates\": \"2023-06-25T00:00:00\", \"preds\": 624.0, \"lower\": 0.0, \"upper\": 1599.3245555278, \"data\": null, \"model\": \"77\", \"adm_0\": \"BRA\", \"adm_1\": \"RJ\", \"adm_2\": 3304557.0, \"adm_3\": NaN, \"legend\": null}, {\"dates\": \"2022-01-02T00:00:00\", \"preds\": 109.3704933375, \"lower\": 0.0, \"upper\": 723.8520054869, \"data\": null, \"model\": \"78\", \"adm_0\": \"BRA\", \"adm_1\": \"RJ\", \"adm_2\": 3304557.0, \"adm_3\": NaN, \"legend\": null}, {\"dates\": \"2022-01-09T00:00:00\", \"preds\": 25.3118970841, \"lower\": 0.0, \"upper\": 529.5949193925, \"data\": null, \"model\": \"78\", \"adm_0\": \"BRA\", \"adm_1\": \"RJ\", \"adm_2\": 3304557.0, \"adm_3\": NaN, \"legend\": null}, {\"dates\": \"2022-01-16T00:00:00\", \"preds\": 0.0, \"lower\": 0.0, \"upper\": 406.1030913638, \"data\": null, \"model\": \"78\", \"adm_0\": \"BRA\", \"adm_1\": \"RJ\", \"adm_2\": 3304557.0, \"adm_3\": NaN, \"legend\": null}, {\"dates\": \"2022-01-23T00:00:00\", \"preds\": 0.0, \"lower\": 0.0, \"upper\": 452.7692431942, \"data\": null, \"model\": \"78\", \"adm_0\": \"BRA\", \"adm_1\": \"RJ\", \"adm_2\": 3304557.0, \"adm_3\": NaN, \"legend\": null}, {\"dates\": \"2022-01-30T00:00:00\", \"preds\": 0.0, \"lower\": 0.0, \"upper\": 607.8534869146, \"data\": null, \"model\": \"78\", \"adm_0\": \"BRA\", \"adm_1\": \"RJ\", \"adm_2\": 3304557.0, \"adm_3\": NaN, \"legend\": null}, {\"dates\": \"2022-02-06T00:00:00\", \"preds\": 0.0, \"lower\": 0.0, \"upper\": 571.5213175815, \"data\": null, \"model\": \"78\", \"adm_0\": \"BRA\", \"adm_1\": \"RJ\", \"adm_2\": 3304557.0, \"adm_3\": NaN, \"legend\": null}, {\"dates\": \"2022-02-13T00:00:00\", \"preds\": 86.4780002013, \"lower\": 0.0, \"upper\": 606.202994981, \"data\": null, \"model\": \"78\", \"adm_0\": \"BRA\", \"adm_1\": \"RJ\", \"adm_2\": 3304557.0, \"adm_3\": NaN, \"legend\": null}, {\"dates\": \"2022-02-20T00:00:00\", \"preds\": 232.8529663906, \"lower\": 0.0, \"upper\": 704.1387109958, \"data\": null, \"model\": \"78\", \"adm_0\": \"BRA\", \"adm_1\": \"RJ\", \"adm_2\": 3304557.0, \"adm_3\": NaN, \"legend\": null}, {\"dates\": \"2022-02-27T00:00:00\", \"preds\": 249.8387639374, \"lower\": 0.0, \"upper\": 864.0333929069, \"data\": null, \"model\": \"78\", \"adm_0\": \"BRA\", \"adm_1\": \"RJ\", \"adm_2\": 3304557.0, \"adm_3\": NaN, \"legend\": null}, {\"dates\": \"2022-03-06T00:00:00\", \"preds\": 236.5050984696, \"lower\": 0.0, \"upper\": 912.8691094007, \"data\": null, \"model\": \"78\", \"adm_0\": \"BRA\", \"adm_1\": \"RJ\", \"adm_2\": 3304557.0, \"adm_3\": NaN, \"legend\": null}, {\"dates\": \"2022-03-13T00:00:00\", \"preds\": 374.9699975103, \"lower\": 0.0, \"upper\": 838.5651220527, \"data\": null, \"model\": \"78\", \"adm_0\": \"BRA\", \"adm_1\": \"RJ\", \"adm_2\": 3304557.0, \"adm_3\": NaN, \"legend\": null}, {\"dates\": \"2022-03-20T00:00:00\", \"preds\": 342.3801910132, \"lower\": 0.0, \"upper\": 954.7004770912, \"data\": null, \"model\": \"78\", \"adm_0\": \"BRA\", \"adm_1\": \"RJ\", \"adm_2\": 3304557.0, \"adm_3\": NaN, \"legend\": null}, {\"dates\": \"2022-03-27T00:00:00\", \"preds\": 115.6595792919, \"lower\": 0.0, \"upper\": 640.2459985577, \"data\": null, \"model\": \"78\", \"adm_0\": \"BRA\", \"adm_1\": \"RJ\", \"adm_2\": 3304557.0, \"adm_3\": NaN, \"legend\": null}, {\"dates\": \"2022-04-03T00:00:00\", \"preds\": 133.0989688486, \"lower\": 0.0, \"upper\": 696.6566838086, \"data\": null, \"model\": \"78\", \"adm_0\": \"BRA\", \"adm_1\": \"RJ\", \"adm_2\": 3304557.0, \"adm_3\": NaN, \"legend\": null}, {\"dates\": \"2022-04-10T00:00:00\", \"preds\": 198.9890367314, \"lower\": 0.0, \"upper\": 644.0939105038, \"data\": null, \"model\": \"78\", \"adm_0\": \"BRA\", \"adm_1\": \"RJ\", \"adm_2\": 3304557.0, \"adm_3\": NaN, \"legend\": null}, {\"dates\": \"2022-04-17T00:00:00\", \"preds\": 170.3585512489, \"lower\": 0.0, \"upper\": 810.7452559274, \"data\": null, \"model\": \"78\", \"adm_0\": \"BRA\", \"adm_1\": \"RJ\", \"adm_2\": 3304557.0, \"adm_3\": NaN, \"legend\": null}, {\"dates\": \"2022-04-24T00:00:00\", \"preds\": 317.5533636957, \"lower\": 0.0, \"upper\": 1214.5482060984, \"data\": null, \"model\": \"78\", \"adm_0\": \"BRA\", \"adm_1\": \"RJ\", \"adm_2\": 3304557.0, \"adm_3\": NaN, \"legend\": null}, {\"dates\": \"2022-05-01T00:00:00\", \"preds\": 585.4558397308, \"lower\": 0.0, \"upper\": 1430.6597343847, \"data\": null, \"model\": \"78\", \"adm_0\": \"BRA\", \"adm_1\": \"RJ\", \"adm_2\": 3304557.0, \"adm_3\": NaN, \"legend\": null}, {\"dates\": \"2022-05-08T00:00:00\", \"preds\": 575.024428919, \"lower\": 8.4296638228, \"upper\": 1424.0171880141, \"data\": null, \"model\": \"78\", \"adm_0\": \"BRA\", \"adm_1\": \"RJ\", \"adm_2\": 3304557.0, \"adm_3\": NaN, \"legend\": null}, {\"dates\": \"2022-05-15T00:00:00\", \"preds\": 553.5908161178, \"lower\": 0.0, \"upper\": 1263.6794998243, \"data\": null, \"model\": \"78\", \"adm_0\": \"BRA\", \"adm_1\": \"RJ\", \"adm_2\": 3304557.0, \"adm_3\": NaN, \"legend\": null}, {\"dates\": \"2022-05-22T00:00:00\", \"preds\": 448.0580613017, \"lower\": 0.0, \"upper\": 1238.4645673811, \"data\": null, \"model\": \"78\", \"adm_0\": \"BRA\", \"adm_1\": \"RJ\", \"adm_2\": 3304557.0, \"adm_3\": NaN, \"legend\": null}, {\"dates\": \"2022-05-29T00:00:00\", \"preds\": 467.6085152477, \"lower\": 0.0, \"upper\": 986.0914632201, \"data\": null, \"model\": \"78\", \"adm_0\": \"BRA\", \"adm_1\": \"RJ\", \"adm_2\": 3304557.0, \"adm_3\": NaN, \"legend\": null}, {\"dates\": \"2022-06-05T00:00:00\", \"preds\": 516.6090817675, \"lower\": 0.0, \"upper\": 1275.2489616744, \"data\": null, \"model\": \"78\", \"adm_0\": \"BRA\", \"adm_1\": \"RJ\", \"adm_2\": 3304557.0, \"adm_3\": NaN, \"legend\": null}, {\"dates\": \"2022-06-12T00:00:00\", \"preds\": 232.2601490021, \"lower\": 0.0, \"upper\": 979.1794984825, \"data\": null, \"model\": \"78\", \"adm_0\": \"BRA\", \"adm_1\": \"RJ\", \"adm_2\": 3304557.0, \"adm_3\": NaN, \"legend\": null}, {\"dates\": \"2022-06-19T00:00:00\", \"preds\": 181.6569838598, \"lower\": 0.0, \"upper\": 778.3422996413, \"data\": null, \"model\": \"78\", \"adm_0\": \"BRA\", \"adm_1\": \"RJ\", \"adm_2\": 3304557.0, \"adm_3\": NaN, \"legend\": null}, {\"dates\": \"2022-06-26T00:00:00\", \"preds\": 184.1268508434, \"lower\": 0.0, \"upper\": 727.901391514, \"data\": null, \"model\": \"78\", \"adm_0\": \"BRA\", \"adm_1\": \"RJ\", \"adm_2\": 3304557.0, \"adm_3\": NaN, \"legend\": null}, {\"dates\": \"2022-07-03T00:00:00\", \"preds\": 0.0, \"lower\": 0.0, \"upper\": 543.2598108575, \"data\": null, \"model\": \"78\", \"adm_0\": \"BRA\", \"adm_1\": \"RJ\", \"adm_2\": 3304557.0, \"adm_3\": NaN, \"legend\": null}, {\"dates\": \"2022-07-10T00:00:00\", \"preds\": 0.0, \"lower\": 0.0, \"upper\": 524.3061247721, \"data\": null, \"model\": \"78\", \"adm_0\": \"BRA\", \"adm_1\": \"RJ\", \"adm_2\": 3304557.0, \"adm_3\": NaN, \"legend\": null}, {\"dates\": \"2022-07-17T00:00:00\", \"preds\": 2.3415177315, \"lower\": 0.0, \"upper\": 547.6995292876, \"data\": null, \"model\": \"78\", \"adm_0\": \"BRA\", \"adm_1\": \"RJ\", \"adm_2\": 3304557.0, \"adm_3\": NaN, \"legend\": null}, {\"dates\": \"2022-07-24T00:00:00\", \"preds\": 0.0, \"lower\": 0.0, \"upper\": 495.5266253971, \"data\": null, \"model\": \"78\", \"adm_0\": \"BRA\", \"adm_1\": \"RJ\", \"adm_2\": 3304557.0, \"adm_3\": NaN, \"legend\": null}, {\"dates\": \"2022-07-31T00:00:00\", \"preds\": 31.849106662, \"lower\": 0.0, \"upper\": 546.9803666487, \"data\": null, \"model\": \"78\", \"adm_0\": \"BRA\", \"adm_1\": \"RJ\", \"adm_2\": 3304557.0, \"adm_3\": NaN, \"legend\": null}, {\"dates\": \"2022-08-07T00:00:00\", \"preds\": 0.0, \"lower\": 0.0, \"upper\": 422.5016527284, \"data\": null, \"model\": \"78\", \"adm_0\": \"BRA\", \"adm_1\": \"RJ\", \"adm_2\": 3304557.0, \"adm_3\": NaN, \"legend\": null}, {\"dates\": \"2022-08-14T00:00:00\", \"preds\": 0.0, \"lower\": 0.0, \"upper\": 608.2965644222, \"data\": null, \"model\": \"78\", \"adm_0\": \"BRA\", \"adm_1\": \"RJ\", \"adm_2\": 3304557.0, \"adm_3\": NaN, \"legend\": null}, {\"dates\": \"2022-08-21T00:00:00\", \"preds\": 0.0, \"lower\": 0.0, \"upper\": 473.5215611801, \"data\": null, \"model\": \"78\", \"adm_0\": \"BRA\", \"adm_1\": \"RJ\", \"adm_2\": 3304557.0, \"adm_3\": NaN, \"legend\": null}, {\"dates\": \"2022-08-28T00:00:00\", \"preds\": 0.0, \"lower\": 0.0, \"upper\": 418.905976513, \"data\": null, \"model\": \"78\", \"adm_0\": \"BRA\", \"adm_1\": \"RJ\", \"adm_2\": 3304557.0, \"adm_3\": NaN, \"legend\": null}, {\"dates\": \"2022-09-04T00:00:00\", \"preds\": 0.0, \"lower\": 0.0, \"upper\": 535.4288134232, \"data\": null, \"model\": \"78\", \"adm_0\": \"BRA\", \"adm_1\": \"RJ\", \"adm_2\": 3304557.0, \"adm_3\": NaN, \"legend\": null}, {\"dates\": \"2022-09-11T00:00:00\", \"preds\": 0.0, \"lower\": 0.0, \"upper\": 470.2948555045, \"data\": null, \"model\": \"78\", \"adm_0\": \"BRA\", \"adm_1\": \"RJ\", \"adm_2\": 3304557.0, \"adm_3\": NaN, \"legend\": null}, {\"dates\": \"2022-09-18T00:00:00\", \"preds\": 0.0, \"lower\": 0.0, \"upper\": 517.7222615425, \"data\": null, \"model\": \"78\", \"adm_0\": \"BRA\", \"adm_1\": \"RJ\", \"adm_2\": 3304557.0, \"adm_3\": NaN, \"legend\": null}, {\"dates\": \"2022-09-25T00:00:00\", \"preds\": 0.0, \"lower\": 0.0, \"upper\": 324.7571195681, \"data\": null, \"model\": \"78\", \"adm_0\": \"BRA\", \"adm_1\": \"RJ\", \"adm_2\": 3304557.0, \"adm_3\": NaN, \"legend\": null}, {\"dates\": \"2022-10-02T00:00:00\", \"preds\": 0.0, \"lower\": 0.0, \"upper\": 487.8994649302, \"data\": null, \"model\": \"78\", \"adm_0\": \"BRA\", \"adm_1\": \"RJ\", \"adm_2\": 3304557.0, \"adm_3\": NaN, \"legend\": null}, {\"dates\": \"2022-10-09T00:00:00\", \"preds\": 0.0, \"lower\": 0.0, \"upper\": 624.6994303495, \"data\": null, \"model\": \"78\", \"adm_0\": \"BRA\", \"adm_1\": \"RJ\", \"adm_2\": 3304557.0, \"adm_3\": NaN, \"legend\": null}, {\"dates\": \"2022-10-16T00:00:00\", \"preds\": 0.0, \"lower\": 0.0, \"upper\": 529.9182512943, \"data\": null, \"model\": \"78\", \"adm_0\": \"BRA\", \"adm_1\": \"RJ\", \"adm_2\": 3304557.0, \"adm_3\": NaN, \"legend\": null}, {\"dates\": \"2022-10-23T00:00:00\", \"preds\": 0.0, \"lower\": 0.0, \"upper\": 413.525811471, \"data\": null, \"model\": \"78\", \"adm_0\": \"BRA\", \"adm_1\": \"RJ\", \"adm_2\": 3304557.0, \"adm_3\": NaN, \"legend\": null}, {\"dates\": \"2022-10-30T00:00:00\", \"preds\": 0.0, \"lower\": 0.0, \"upper\": 506.2727781624, \"data\": null, \"model\": \"78\", \"adm_0\": \"BRA\", \"adm_1\": \"RJ\", \"adm_2\": 3304557.0, \"adm_3\": NaN, \"legend\": null}, {\"dates\": \"2022-11-06T00:00:00\", \"preds\": 0.0, \"lower\": 0.0, \"upper\": 572.083177733, \"data\": null, \"model\": \"78\", \"adm_0\": \"BRA\", \"adm_1\": \"RJ\", \"adm_2\": 3304557.0, \"adm_3\": NaN, \"legend\": null}, {\"dates\": \"2022-11-13T00:00:00\", \"preds\": 0.0, \"lower\": 0.0, \"upper\": 403.3595069297, \"data\": null, \"model\": \"78\", \"adm_0\": \"BRA\", \"adm_1\": \"RJ\", \"adm_2\": 3304557.0, \"adm_3\": NaN, \"legend\": null}, {\"dates\": \"2022-11-20T00:00:00\", \"preds\": 0.0, \"lower\": 0.0, \"upper\": 543.9534488436, \"data\": null, \"model\": \"78\", \"adm_0\": \"BRA\", \"adm_1\": \"RJ\", \"adm_2\": 3304557.0, \"adm_3\": NaN, \"legend\": null}, {\"dates\": \"2022-11-27T00:00:00\", \"preds\": 0.0, \"lower\": 0.0, \"upper\": 524.0068367809, \"data\": null, \"model\": \"78\", \"adm_0\": \"BRA\", \"adm_1\": \"RJ\", \"adm_2\": 3304557.0, \"adm_3\": NaN, \"legend\": null}, {\"dates\": \"2022-12-04T00:00:00\", \"preds\": 0.0, \"lower\": 0.0, \"upper\": 418.8527026698, \"data\": null, \"model\": \"78\", \"adm_0\": \"BRA\", \"adm_1\": \"RJ\", \"adm_2\": 3304557.0, \"adm_3\": NaN, \"legend\": null}, {\"dates\": \"2022-12-11T00:00:00\", \"preds\": 0.0, \"lower\": 0.0, \"upper\": 498.8123991244, \"data\": null, \"model\": \"78\", \"adm_0\": \"BRA\", \"adm_1\": \"RJ\", \"adm_2\": 3304557.0, \"adm_3\": NaN, \"legend\": null}, {\"dates\": \"2022-12-18T00:00:00\", \"preds\": 7.7453362942, \"lower\": 0.0, \"upper\": 619.0887393665, \"data\": null, \"model\": \"78\", \"adm_0\": \"BRA\", \"adm_1\": \"RJ\", \"adm_2\": 3304557.0, \"adm_3\": NaN, \"legend\": null}, {\"dates\": \"2022-12-25T00:00:00\", \"preds\": 70.0851570219, \"lower\": 0.0, \"upper\": 507.5521873411, \"data\": null, \"model\": \"78\", \"adm_0\": \"BRA\", \"adm_1\": \"RJ\", \"adm_2\": 3304557.0, \"adm_3\": NaN, \"legend\": null}, {\"dates\": \"2023-01-01T00:00:00\", \"preds\": 28.9193740338, \"lower\": 0.0, \"upper\": 602.8117241956, \"data\": null, \"model\": \"78\", \"adm_0\": \"BRA\", \"adm_1\": \"RJ\", \"adm_2\": 3304557.0, \"adm_3\": NaN, \"legend\": null}, {\"dates\": \"2023-01-08T00:00:00\", \"preds\": 107.5751379728, \"lower\": 0.0, \"upper\": 566.5245524392, \"data\": null, \"model\": \"78\", \"adm_0\": \"BRA\", \"adm_1\": \"RJ\", \"adm_2\": 3304557.0, \"adm_3\": NaN, \"legend\": null}, {\"dates\": \"2023-01-15T00:00:00\", \"preds\": 136.0464265496, \"lower\": 0.0, \"upper\": 654.7008858331, \"data\": null, \"model\": \"78\", \"adm_0\": \"BRA\", \"adm_1\": \"RJ\", \"adm_2\": 3304557.0, \"adm_3\": NaN, \"legend\": null}, {\"dates\": \"2023-01-22T00:00:00\", \"preds\": 157.6281409636, \"lower\": 0.0, \"upper\": 703.7455855925, \"data\": null, \"model\": \"78\", \"adm_0\": \"BRA\", \"adm_1\": \"RJ\", \"adm_2\": 3304557.0, \"adm_3\": NaN, \"legend\": null}, {\"dates\": \"2023-01-29T00:00:00\", \"preds\": 370.7788259685, \"lower\": 0.0, \"upper\": 879.478636435, \"data\": null, \"model\": \"78\", \"adm_0\": \"BRA\", \"adm_1\": \"RJ\", \"adm_2\": 3304557.0, \"adm_3\": NaN, \"legend\": null}, {\"dates\": \"2023-02-05T00:00:00\", \"preds\": 200.67998676, \"lower\": 0.0, \"upper\": 720.2818470754, \"data\": null, \"model\": \"78\", \"adm_0\": \"BRA\", \"adm_1\": \"RJ\", \"adm_2\": 3304557.0, \"adm_3\": NaN, \"legend\": null}, {\"dates\": \"2023-02-12T00:00:00\", \"preds\": 270.5449912548, \"lower\": 0.0, \"upper\": 766.0707564242, \"data\": null, \"model\": \"78\", \"adm_0\": \"BRA\", \"adm_1\": \"RJ\", \"adm_2\": 3304557.0, \"adm_3\": NaN, \"legend\": null}, {\"dates\": \"2023-02-19T00:00:00\", \"preds\": 365.9762626961, \"lower\": 0.0, \"upper\": 984.143485938, \"data\": null, \"model\": \"78\", \"adm_0\": \"BRA\", \"adm_1\": \"RJ\", \"adm_2\": 3304557.0, \"adm_3\": NaN, \"legend\": null}, {\"dates\": \"2023-02-26T00:00:00\", \"preds\": 434.2454627231, \"lower\": 0.0, \"upper\": 1035.7856581375, \"data\": null, \"model\": \"78\", \"adm_0\": \"BRA\", \"adm_1\": \"RJ\", \"adm_2\": 3304557.0, \"adm_3\": NaN, \"legend\": null}, {\"dates\": \"2023-03-05T00:00:00\", \"preds\": 593.1198927313, \"lower\": 0.0, \"upper\": 1340.4223010339, \"data\": null, \"model\": \"78\", \"adm_0\": \"BRA\", \"adm_1\": \"RJ\", \"adm_2\": 3304557.0, \"adm_3\": NaN, \"legend\": null}, {\"dates\": \"2023-03-12T00:00:00\", \"preds\": 486.762278229, \"lower\": 13.1828434534, \"upper\": 1258.1380503178, \"data\": null, \"model\": \"78\", \"adm_0\": \"BRA\", \"adm_1\": \"RJ\", \"adm_2\": 3304557.0, \"adm_3\": NaN, \"legend\": null}, {\"dates\": \"2023-03-19T00:00:00\", \"preds\": 534.409355998, \"lower\": 0.0, \"upper\": 1161.3790531218, \"data\": null, \"model\": \"78\", \"adm_0\": \"BRA\", \"adm_1\": \"RJ\", \"adm_2\": 3304557.0, \"adm_3\": NaN, \"legend\": null}, {\"dates\": \"2023-03-26T00:00:00\", \"preds\": 555.0313138813, \"lower\": 0.0, \"upper\": 1138.9978529975, \"data\": null, \"model\": \"78\", \"adm_0\": \"BRA\", \"adm_1\": \"RJ\", \"adm_2\": 3304557.0, \"adm_3\": NaN, \"legend\": null}, {\"dates\": \"2023-04-02T00:00:00\", \"preds\": 540.6022553518, \"lower\": 0.0, \"upper\": 1290.8390316494, \"data\": null, \"model\": \"78\", \"adm_0\": \"BRA\", \"adm_1\": \"RJ\", \"adm_2\": 3304557.0, \"adm_3\": NaN, \"legend\": null}, {\"dates\": \"2023-04-09T00:00:00\", \"preds\": 670.57262557, \"lower\": 63.0884215072, \"upper\": 1603.4207726844, \"data\": null, \"model\": \"78\", \"adm_0\": \"BRA\", \"adm_1\": \"RJ\", \"adm_2\": 3304557.0, \"adm_3\": NaN, \"legend\": null}, {\"dates\": \"2023-04-16T00:00:00\", \"preds\": 823.2300753295, \"lower\": 5.3920096096, \"upper\": 1619.1121769279, \"data\": null, \"model\": \"78\", \"adm_0\": \"BRA\", \"adm_1\": \"RJ\", \"adm_2\": 3304557.0, \"adm_3\": NaN, \"legend\": null}, {\"dates\": \"2023-04-23T00:00:00\", \"preds\": 821.3328076452, \"lower\": 0.0, \"upper\": 1657.2413398936, \"data\": null, \"model\": \"78\", \"adm_0\": \"BRA\", \"adm_1\": \"RJ\", \"adm_2\": 3304557.0, \"adm_3\": NaN, \"legend\": null}, {\"dates\": \"2023-04-30T00:00:00\", \"preds\": 736.0327714011, \"lower\": 186.1478255641, \"upper\": 1522.9282282144, \"data\": null, \"model\": \"78\", \"adm_0\": \"BRA\", \"adm_1\": \"RJ\", \"adm_2\": 3304557.0, \"adm_3\": NaN, \"legend\": null}, {\"dates\": \"2023-05-07T00:00:00\", \"preds\": 760.3757069707, \"lower\": 31.6744434658, \"upper\": 1601.576000803, \"data\": null, \"model\": \"78\", \"adm_0\": \"BRA\", \"adm_1\": \"RJ\", \"adm_2\": 3304557.0, \"adm_3\": NaN, \"legend\": null}, {\"dates\": \"2023-05-14T00:00:00\", \"preds\": 593.9493001178, \"lower\": 0.0, \"upper\": 1293.7130412512, \"data\": null, \"model\": \"78\", \"adm_0\": \"BRA\", \"adm_1\": \"RJ\", \"adm_2\": 3304557.0, \"adm_3\": NaN, \"legend\": null}, {\"dates\": \"2023-05-21T00:00:00\", \"preds\": 341.6071367562, \"lower\": 0.0, \"upper\": 890.2078188814, \"data\": null, \"model\": \"78\", \"adm_0\": \"BRA\", \"adm_1\": \"RJ\", \"adm_2\": 3304557.0, \"adm_3\": NaN, \"legend\": null}, {\"dates\": \"2023-05-28T00:00:00\", \"preds\": 766.1951469854, \"lower\": 41.8829060107, \"upper\": 1633.4175681449, \"data\": null, \"model\": \"78\", \"adm_0\": \"BRA\", \"adm_1\": \"RJ\", \"adm_2\": 3304557.0, \"adm_3\": NaN, \"legend\": null}, {\"dates\": \"2023-06-04T00:00:00\", \"preds\": 922.2149910033, \"lower\": 172.700637443, \"upper\": 1701.7459047131, \"data\": null, \"model\": \"78\", \"adm_0\": \"BRA\", \"adm_1\": \"RJ\", \"adm_2\": 3304557.0, \"adm_3\": NaN, \"legend\": null}, {\"dates\": \"2023-06-11T00:00:00\", \"preds\": 693.3638638854, \"lower\": 56.4668219537, \"upper\": 1421.3332394093, \"data\": null, \"model\": \"78\", \"adm_0\": \"BRA\", \"adm_1\": \"RJ\", \"adm_2\": 3304557.0, \"adm_3\": NaN, \"legend\": null}, {\"dates\": \"2023-06-18T00:00:00\", \"preds\": 736.0198131949, \"lower\": 81.1291923746, \"upper\": 1725.0092463702, \"data\": null, \"model\": \"78\", \"adm_0\": \"BRA\", \"adm_1\": \"RJ\", \"adm_2\": 3304557.0, \"adm_3\": NaN, \"legend\": null}, {\"dates\": \"2023-06-25T00:00:00\", \"preds\": 431.9475864768, \"lower\": 0.0, \"upper\": 1022.6256792061, \"data\": null, \"model\": \"78\", \"adm_0\": \"BRA\", \"adm_1\": \"RJ\", \"adm_2\": 3304557.0, \"adm_3\": NaN, \"legend\": null}, {\"dates\": \"2022-01-02T00:00:00\", \"preds\": 21.0, \"lower\": null, \"upper\": null, \"data\": null, \"model\": \"cases\", \"adm_0\": null, \"adm_1\": null, \"adm_2\": null, \"adm_3\": NaN, \"legend\": \"Data\"}, {\"dates\": \"2022-01-09T00:00:00\", \"preds\": 14.0, \"lower\": null, \"upper\": null, \"data\": null, \"model\": \"cases\", \"adm_0\": null, \"adm_1\": null, \"adm_2\": null, \"adm_3\": NaN, \"legend\": \"Data\"}, {\"dates\": \"2022-01-16T00:00:00\", \"preds\": 22.0, \"lower\": null, \"upper\": null, \"data\": null, \"model\": \"cases\", \"adm_0\": null, \"adm_1\": null, \"adm_2\": null, \"adm_3\": NaN, \"legend\": \"Data\"}, {\"dates\": \"2022-01-23T00:00:00\", \"preds\": 19.0, \"lower\": null, \"upper\": null, \"data\": null, \"model\": \"cases\", \"adm_0\": null, \"adm_1\": null, \"adm_2\": null, \"adm_3\": NaN, \"legend\": \"Data\"}, {\"dates\": \"2022-01-30T00:00:00\", \"preds\": 31.0, \"lower\": null, \"upper\": null, \"data\": null, \"model\": \"cases\", \"adm_0\": null, \"adm_1\": null, \"adm_2\": null, \"adm_3\": NaN, \"legend\": \"Data\"}, {\"dates\": \"2022-02-06T00:00:00\", \"preds\": 35.0, \"lower\": null, \"upper\": null, \"data\": null, \"model\": \"cases\", \"adm_0\": null, \"adm_1\": null, \"adm_2\": null, \"adm_3\": NaN, \"legend\": \"Data\"}, {\"dates\": \"2022-02-13T00:00:00\", \"preds\": 47.0, \"lower\": null, \"upper\": null, \"data\": null, \"model\": \"cases\", \"adm_0\": null, \"adm_1\": null, \"adm_2\": null, \"adm_3\": NaN, \"legend\": \"Data\"}, {\"dates\": \"2022-02-20T00:00:00\", \"preds\": 62.0, \"lower\": null, \"upper\": null, \"data\": null, \"model\": \"cases\", \"adm_0\": null, \"adm_1\": null, \"adm_2\": null, \"adm_3\": NaN, \"legend\": \"Data\"}, {\"dates\": \"2022-02-27T00:00:00\", \"preds\": 66.0, \"lower\": null, \"upper\": null, \"data\": null, \"model\": \"cases\", \"adm_0\": null, \"adm_1\": null, \"adm_2\": null, \"adm_3\": NaN, \"legend\": \"Data\"}, {\"dates\": \"2022-03-06T00:00:00\", \"preds\": 116.0, \"lower\": null, \"upper\": null, \"data\": null, \"model\": \"cases\", \"adm_0\": null, \"adm_1\": null, \"adm_2\": null, \"adm_3\": NaN, \"legend\": \"Data\"}, {\"dates\": \"2022-03-13T00:00:00\", \"preds\": 126.0, \"lower\": null, \"upper\": null, \"data\": null, \"model\": \"cases\", \"adm_0\": null, \"adm_1\": null, \"adm_2\": null, \"adm_3\": NaN, \"legend\": \"Data\"}, {\"dates\": \"2022-03-20T00:00:00\", \"preds\": 177.0, \"lower\": null, \"upper\": null, \"data\": null, \"model\": \"cases\", \"adm_0\": null, \"adm_1\": null, \"adm_2\": null, \"adm_3\": NaN, \"legend\": \"Data\"}, {\"dates\": \"2022-03-27T00:00:00\", \"preds\": 153.0, \"lower\": null, \"upper\": null, \"data\": null, \"model\": \"cases\", \"adm_0\": null, \"adm_1\": null, \"adm_2\": null, \"adm_3\": NaN, \"legend\": \"Data\"}, {\"dates\": \"2022-04-03T00:00:00\", \"preds\": 222.0, \"lower\": null, \"upper\": null, \"data\": null, \"model\": \"cases\", \"adm_0\": null, \"adm_1\": null, \"adm_2\": null, \"adm_3\": NaN, \"legend\": \"Data\"}, {\"dates\": \"2022-04-10T00:00:00\", \"preds\": 201.0, \"lower\": null, \"upper\": null, \"data\": null, \"model\": \"cases\", \"adm_0\": null, \"adm_1\": null, \"adm_2\": null, \"adm_3\": NaN, \"legend\": \"Data\"}, {\"dates\": \"2022-04-17T00:00:00\", \"preds\": 234.0, \"lower\": null, \"upper\": null, \"data\": null, \"model\": \"cases\", \"adm_0\": null, \"adm_1\": null, \"adm_2\": null, \"adm_3\": NaN, \"legend\": \"Data\"}, {\"dates\": \"2022-04-24T00:00:00\", \"preds\": 342.0, \"lower\": null, \"upper\": null, \"data\": null, \"model\": \"cases\", \"adm_0\": null, \"adm_1\": null, \"adm_2\": null, \"adm_3\": NaN, \"legend\": \"Data\"}, {\"dates\": \"2022-05-01T00:00:00\", \"preds\": 461.0, \"lower\": null, \"upper\": null, \"data\": null, \"model\": \"cases\", \"adm_0\": null, \"adm_1\": null, \"adm_2\": null, \"adm_3\": NaN, \"legend\": \"Data\"}, {\"dates\": \"2022-05-08T00:00:00\", \"preds\": 505.0, \"lower\": null, \"upper\": null, \"data\": null, \"model\": \"cases\", \"adm_0\": null, \"adm_1\": null, \"adm_2\": null, \"adm_3\": NaN, \"legend\": \"Data\"}, {\"dates\": \"2022-05-15T00:00:00\", \"preds\": 406.0, \"lower\": null, \"upper\": null, \"data\": null, \"model\": \"cases\", \"adm_0\": null, \"adm_1\": null, \"adm_2\": null, \"adm_3\": NaN, \"legend\": \"Data\"}, {\"dates\": \"2022-05-22T00:00:00\", \"preds\": 400.0, \"lower\": null, \"upper\": null, \"data\": null, \"model\": \"cases\", \"adm_0\": null, \"adm_1\": null, \"adm_2\": null, \"adm_3\": NaN, \"legend\": \"Data\"}, {\"dates\": \"2022-05-29T00:00:00\", \"preds\": 338.0, \"lower\": null, \"upper\": null, \"data\": null, \"model\": \"cases\", \"adm_0\": null, \"adm_1\": null, \"adm_2\": null, \"adm_3\": NaN, \"legend\": \"Data\"}, {\"dates\": \"2022-06-05T00:00:00\", \"preds\": 255.0, \"lower\": null, \"upper\": null, \"data\": null, \"model\": \"cases\", \"adm_0\": null, \"adm_1\": null, \"adm_2\": null, \"adm_3\": NaN, \"legend\": \"Data\"}, {\"dates\": \"2022-06-12T00:00:00\", \"preds\": 153.0, \"lower\": null, \"upper\": null, \"data\": null, \"model\": \"cases\", \"adm_0\": null, \"adm_1\": null, \"adm_2\": null, \"adm_3\": NaN, \"legend\": \"Data\"}, {\"dates\": \"2022-06-19T00:00:00\", \"preds\": 209.0, \"lower\": null, \"upper\": null, \"data\": null, \"model\": \"cases\", \"adm_0\": null, \"adm_1\": null, \"adm_2\": null, \"adm_3\": NaN, \"legend\": \"Data\"}, {\"dates\": \"2022-06-26T00:00:00\", \"preds\": 189.0, \"lower\": null, \"upper\": null, \"data\": null, \"model\": \"cases\", \"adm_0\": null, \"adm_1\": null, \"adm_2\": null, \"adm_3\": NaN, \"legend\": \"Data\"}, {\"dates\": \"2022-07-03T00:00:00\", \"preds\": 155.0, \"lower\": null, \"upper\": null, \"data\": null, \"model\": \"cases\", \"adm_0\": null, \"adm_1\": null, \"adm_2\": null, \"adm_3\": NaN, \"legend\": \"Data\"}, {\"dates\": \"2022-07-10T00:00:00\", \"preds\": 144.0, \"lower\": null, \"upper\": null, \"data\": null, \"model\": \"cases\", \"adm_0\": null, \"adm_1\": null, \"adm_2\": null, \"adm_3\": NaN, \"legend\": \"Data\"}, {\"dates\": \"2022-07-17T00:00:00\", \"preds\": 194.0, \"lower\": null, \"upper\": null, \"data\": null, \"model\": \"cases\", \"adm_0\": null, \"adm_1\": null, \"adm_2\": null, \"adm_3\": NaN, \"legend\": \"Data\"}, {\"dates\": \"2022-07-24T00:00:00\", \"preds\": 148.0, \"lower\": null, \"upper\": null, \"data\": null, \"model\": \"cases\", \"adm_0\": null, \"adm_1\": null, \"adm_2\": null, \"adm_3\": NaN, \"legend\": \"Data\"}, {\"dates\": \"2022-07-31T00:00:00\", \"preds\": 145.0, \"lower\": null, \"upper\": null, \"data\": null, \"model\": \"cases\", \"adm_0\": null, \"adm_1\": null, \"adm_2\": null, \"adm_3\": NaN, \"legend\": \"Data\"}, {\"dates\": \"2022-08-07T00:00:00\", \"preds\": 106.0, \"lower\": null, \"upper\": null, \"data\": null, \"model\": \"cases\", \"adm_0\": null, \"adm_1\": null, \"adm_2\": null, \"adm_3\": NaN, \"legend\": \"Data\"}, {\"dates\": \"2022-08-14T00:00:00\", \"preds\": 110.0, \"lower\": null, \"upper\": null, \"data\": null, \"model\": \"cases\", \"adm_0\": null, \"adm_1\": null, \"adm_2\": null, \"adm_3\": NaN, \"legend\": \"Data\"}, {\"dates\": \"2022-08-21T00:00:00\", \"preds\": 99.0, \"lower\": null, \"upper\": null, \"data\": null, \"model\": \"cases\", \"adm_0\": null, \"adm_1\": null, \"adm_2\": null, \"adm_3\": NaN, \"legend\": \"Data\"}, {\"dates\": \"2022-08-28T00:00:00\", \"preds\": 94.0, \"lower\": null, \"upper\": null, \"data\": null, \"model\": \"cases\", \"adm_0\": null, \"adm_1\": null, \"adm_2\": null, \"adm_3\": NaN, \"legend\": \"Data\"}, {\"dates\": \"2022-09-04T00:00:00\", \"preds\": 101.0, \"lower\": null, \"upper\": null, \"data\": null, \"model\": \"cases\", \"adm_0\": null, \"adm_1\": null, \"adm_2\": null, \"adm_3\": NaN, \"legend\": \"Data\"}, {\"dates\": \"2022-09-11T00:00:00\", \"preds\": 120.0, \"lower\": null, \"upper\": null, \"data\": null, \"model\": \"cases\", \"adm_0\": null, \"adm_1\": null, \"adm_2\": null, \"adm_3\": NaN, \"legend\": \"Data\"}, {\"dates\": \"2022-09-18T00:00:00\", \"preds\": 102.0, \"lower\": null, \"upper\": null, \"data\": null, \"model\": \"cases\", \"adm_0\": null, \"adm_1\": null, \"adm_2\": null, \"adm_3\": NaN, \"legend\": \"Data\"}, {\"dates\": \"2022-09-25T00:00:00\", \"preds\": 95.0, \"lower\": null, \"upper\": null, \"data\": null, \"model\": \"cases\", \"adm_0\": null, \"adm_1\": null, \"adm_2\": null, \"adm_3\": NaN, \"legend\": \"Data\"}, {\"dates\": \"2022-10-02T00:00:00\", \"preds\": 102.0, \"lower\": null, \"upper\": null, \"data\": null, \"model\": \"cases\", \"adm_0\": null, \"adm_1\": null, \"adm_2\": null, \"adm_3\": NaN, \"legend\": \"Data\"}, {\"dates\": \"2022-10-09T00:00:00\", \"preds\": 123.0, \"lower\": null, \"upper\": null, \"data\": null, \"model\": \"cases\", \"adm_0\": null, \"adm_1\": null, \"adm_2\": null, \"adm_3\": NaN, \"legend\": \"Data\"}, {\"dates\": \"2022-10-16T00:00:00\", \"preds\": 160.0, \"lower\": null, \"upper\": null, \"data\": null, \"model\": \"cases\", \"adm_0\": null, \"adm_1\": null, \"adm_2\": null, \"adm_3\": NaN, \"legend\": \"Data\"}, {\"dates\": \"2022-10-23T00:00:00\", \"preds\": 139.0, \"lower\": null, \"upper\": null, \"data\": null, \"model\": \"cases\", \"adm_0\": null, \"adm_1\": null, \"adm_2\": null, \"adm_3\": NaN, \"legend\": \"Data\"}, {\"dates\": \"2022-10-30T00:00:00\", \"preds\": 131.0, \"lower\": null, \"upper\": null, \"data\": null, \"model\": \"cases\", \"adm_0\": null, \"adm_1\": null, \"adm_2\": null, \"adm_3\": NaN, \"legend\": \"Data\"}, {\"dates\": \"2022-11-06T00:00:00\", \"preds\": 171.0, \"lower\": null, \"upper\": null, \"data\": null, \"model\": \"cases\", \"adm_0\": null, \"adm_1\": null, \"adm_2\": null, \"adm_3\": NaN, \"legend\": \"Data\"}, {\"dates\": \"2022-11-13T00:00:00\", \"preds\": 129.0, \"lower\": null, \"upper\": null, \"data\": null, \"model\": \"cases\", \"adm_0\": null, \"adm_1\": null, \"adm_2\": null, \"adm_3\": NaN, \"legend\": \"Data\"}, {\"dates\": \"2022-11-20T00:00:00\", \"preds\": 94.0, \"lower\": null, \"upper\": null, \"data\": null, \"model\": \"cases\", \"adm_0\": null, \"adm_1\": null, \"adm_2\": null, \"adm_3\": NaN, \"legend\": \"Data\"}, {\"dates\": \"2022-11-27T00:00:00\", \"preds\": 86.0, \"lower\": null, \"upper\": null, \"data\": null, \"model\": \"cases\", \"adm_0\": null, \"adm_1\": null, \"adm_2\": null, \"adm_3\": NaN, \"legend\": \"Data\"}, {\"dates\": \"2022-12-04T00:00:00\", \"preds\": 98.0, \"lower\": null, \"upper\": null, \"data\": null, \"model\": \"cases\", \"adm_0\": null, \"adm_1\": null, \"adm_2\": null, \"adm_3\": NaN, \"legend\": \"Data\"}, {\"dates\": \"2022-12-11T00:00:00\", \"preds\": 123.0, \"lower\": null, \"upper\": null, \"data\": null, \"model\": \"cases\", \"adm_0\": null, \"adm_1\": null, \"adm_2\": null, \"adm_3\": NaN, \"legend\": \"Data\"}, {\"dates\": \"2022-12-18T00:00:00\", \"preds\": 117.0, \"lower\": null, \"upper\": null, \"data\": null, \"model\": \"cases\", \"adm_0\": null, \"adm_1\": null, \"adm_2\": null, \"adm_3\": NaN, \"legend\": \"Data\"}, {\"dates\": \"2022-12-25T00:00:00\", \"preds\": 163.0, \"lower\": null, \"upper\": null, \"data\": null, \"model\": \"cases\", \"adm_0\": null, \"adm_1\": null, \"adm_2\": null, \"adm_3\": NaN, \"legend\": \"Data\"}, {\"dates\": \"2023-01-01T00:00:00\", \"preds\": 230.0, \"lower\": null, \"upper\": null, \"data\": null, \"model\": \"cases\", \"adm_0\": null, \"adm_1\": null, \"adm_2\": null, \"adm_3\": NaN, \"legend\": \"Data\"}, {\"dates\": \"2023-01-08T00:00:00\", \"preds\": 218.0, \"lower\": null, \"upper\": null, \"data\": null, \"model\": \"cases\", \"adm_0\": null, \"adm_1\": null, \"adm_2\": null, \"adm_3\": NaN, \"legend\": \"Data\"}, {\"dates\": \"2023-01-15T00:00:00\", \"preds\": 246.0, \"lower\": null, \"upper\": null, \"data\": null, \"model\": \"cases\", \"adm_0\": null, \"adm_1\": null, \"adm_2\": null, \"adm_3\": NaN, \"legend\": \"Data\"}, {\"dates\": \"2023-01-22T00:00:00\", \"preds\": 312.0, \"lower\": null, \"upper\": null, \"data\": null, \"model\": \"cases\", \"adm_0\": null, \"adm_1\": null, \"adm_2\": null, \"adm_3\": NaN, \"legend\": \"Data\"}, {\"dates\": \"2023-01-29T00:00:00\", \"preds\": 383.0, \"lower\": null, \"upper\": null, \"data\": null, \"model\": \"cases\", \"adm_0\": null, \"adm_1\": null, \"adm_2\": null, \"adm_3\": NaN, \"legend\": \"Data\"}, {\"dates\": \"2023-02-05T00:00:00\", \"preds\": 525.0, \"lower\": null, \"upper\": null, \"data\": null, \"model\": \"cases\", \"adm_0\": null, \"adm_1\": null, \"adm_2\": null, \"adm_3\": NaN, \"legend\": \"Data\"}, {\"dates\": \"2023-02-12T00:00:00\", \"preds\": 372.0, \"lower\": null, \"upper\": null, \"data\": null, \"model\": \"cases\", \"adm_0\": null, \"adm_1\": null, \"adm_2\": null, \"adm_3\": NaN, \"legend\": \"Data\"}, {\"dates\": \"2023-02-19T00:00:00\", \"preds\": 507.0, \"lower\": null, \"upper\": null, \"data\": null, \"model\": \"cases\", \"adm_0\": null, \"adm_1\": null, \"adm_2\": null, \"adm_3\": NaN, \"legend\": \"Data\"}, {\"dates\": \"2023-02-26T00:00:00\", \"preds\": 870.0, \"lower\": null, \"upper\": null, \"data\": null, \"model\": \"cases\", \"adm_0\": null, \"adm_1\": null, \"adm_2\": null, \"adm_3\": NaN, \"legend\": \"Data\"}, {\"dates\": \"2023-03-05T00:00:00\", \"preds\": 945.0, \"lower\": null, \"upper\": null, \"data\": null, \"model\": \"cases\", \"adm_0\": null, \"adm_1\": null, \"adm_2\": null, \"adm_3\": NaN, \"legend\": \"Data\"}, {\"dates\": \"2023-03-12T00:00:00\", \"preds\": 1125.0, \"lower\": null, \"upper\": null, \"data\": null, \"model\": \"cases\", \"adm_0\": null, \"adm_1\": null, \"adm_2\": null, \"adm_3\": NaN, \"legend\": \"Data\"}, {\"dates\": \"2023-03-19T00:00:00\", \"preds\": 1382.0, \"lower\": null, \"upper\": null, \"data\": null, \"model\": \"cases\", \"adm_0\": null, \"adm_1\": null, \"adm_2\": null, \"adm_3\": NaN, \"legend\": \"Data\"}, {\"dates\": \"2023-03-26T00:00:00\", \"preds\": 1580.0, \"lower\": null, \"upper\": null, \"data\": null, \"model\": \"cases\", \"adm_0\": null, \"adm_1\": null, \"adm_2\": null, \"adm_3\": NaN, \"legend\": \"Data\"}, {\"dates\": \"2023-04-02T00:00:00\", \"preds\": 1420.0, \"lower\": null, \"upper\": null, \"data\": null, \"model\": \"cases\", \"adm_0\": null, \"adm_1\": null, \"adm_2\": null, \"adm_3\": NaN, \"legend\": \"Data\"}, {\"dates\": \"2023-04-09T00:00:00\", \"preds\": 1783.0, \"lower\": null, \"upper\": null, \"data\": null, \"model\": \"cases\", \"adm_0\": null, \"adm_1\": null, \"adm_2\": null, \"adm_3\": NaN, \"legend\": \"Data\"}, {\"dates\": \"2023-04-16T00:00:00\", \"preds\": 1502.0, \"lower\": null, \"upper\": null, \"data\": null, \"model\": \"cases\", \"adm_0\": null, \"adm_1\": null, \"adm_2\": null, \"adm_3\": NaN, \"legend\": \"Data\"}, {\"dates\": \"2023-04-23T00:00:00\", \"preds\": 1572.0, \"lower\": null, \"upper\": null, \"data\": null, \"model\": \"cases\", \"adm_0\": null, \"adm_1\": null, \"adm_2\": null, \"adm_3\": NaN, \"legend\": \"Data\"}, {\"dates\": \"2023-04-30T00:00:00\", \"preds\": 1919.0, \"lower\": null, \"upper\": null, \"data\": null, \"model\": \"cases\", \"adm_0\": null, \"adm_1\": null, \"adm_2\": null, \"adm_3\": NaN, \"legend\": \"Data\"}, {\"dates\": \"2023-05-07T00:00:00\", \"preds\": 1807.0, \"lower\": null, \"upper\": null, \"data\": null, \"model\": \"cases\", \"adm_0\": null, \"adm_1\": null, \"adm_2\": null, \"adm_3\": NaN, \"legend\": \"Data\"}, {\"dates\": \"2023-05-14T00:00:00\", \"preds\": 1731.0, \"lower\": null, \"upper\": null, \"data\": null, \"model\": \"cases\", \"adm_0\": null, \"adm_1\": null, \"adm_2\": null, \"adm_3\": NaN, \"legend\": \"Data\"}, {\"dates\": \"2023-05-21T00:00:00\", \"preds\": 1479.0, \"lower\": null, \"upper\": null, \"data\": null, \"model\": \"cases\", \"adm_0\": null, \"adm_1\": null, \"adm_2\": null, \"adm_3\": NaN, \"legend\": \"Data\"}, {\"dates\": \"2023-05-28T00:00:00\", \"preds\": 1328.0, \"lower\": null, \"upper\": null, \"data\": null, \"model\": \"cases\", \"adm_0\": null, \"adm_1\": null, \"adm_2\": null, \"adm_3\": NaN, \"legend\": \"Data\"}, {\"dates\": \"2023-06-04T00:00:00\", \"preds\": 1238.0, \"lower\": null, \"upper\": null, \"data\": null, \"model\": \"cases\", \"adm_0\": null, \"adm_1\": null, \"adm_2\": null, \"adm_3\": NaN, \"legend\": \"Data\"}, {\"dates\": \"2023-06-11T00:00:00\", \"preds\": 1348.0, \"lower\": null, \"upper\": null, \"data\": null, \"model\": \"cases\", \"adm_0\": null, \"adm_1\": null, \"adm_2\": null, \"adm_3\": NaN, \"legend\": \"Data\"}, {\"dates\": \"2023-06-18T00:00:00\", \"preds\": 1236.0, \"lower\": null, \"upper\": null, \"data\": null, \"model\": \"cases\", \"adm_0\": null, \"adm_1\": null, \"adm_2\": null, \"adm_3\": NaN, \"legend\": \"Data\"}, {\"dates\": \"2023-06-25T00:00:00\", \"preds\": 996.0, \"lower\": null, \"upper\": null, \"data\": null, \"model\": \"cases\", \"adm_0\": null, \"adm_1\": null, \"adm_2\": null, \"adm_3\": NaN, \"legend\": \"Data\"}]}}, {\"mode\": \"vega-lite\"});\n",
       "</script>"
      ],
      "text/plain": [
       "alt.LayerChart(...)"
      ]
     },
     "execution_count": 18,
     "metadata": {},
     "output_type": "execute_result"
    }
   ],
   "source": [
    "score.plot_predictions()"
   ]
  },
  {
   "cell_type": "markdown",
   "id": "8224670a",
   "metadata": {},
   "source": []
  },
  {
   "cell_type": "markdown",
   "id": "80130240",
   "metadata": {},
   "source": [
    "The class will select the bigger range of dates that contains information about each prediction dataframe. If you want to see the model's performance in a lower range, use the method below. The new range of dates provided must be between `score.min_date` and `score.max_date`. Otherwise, it will return an error."
   ]
  },
  {
   "cell_type": "code",
   "execution_count": 19,
   "id": "3360e7a4",
   "metadata": {},
   "outputs": [],
   "source": [
    "score.set_date_range(start_date = '2023-01-01', end_date='2023-06-01' )"
   ]
  },
  {
   "cell_type": "markdown",
   "id": "007d8cae",
   "metadata": {},
   "source": [
    "In this case:"
   ]
  },
  {
   "cell_type": "code",
   "execution_count": 21,
   "id": "1f5cb4ef",
   "metadata": {},
   "outputs": [
    {
     "data": {
      "text/html": [
       "<div>\n",
       "<style scoped>\n",
       "    .dataframe tbody tr th:only-of-type {\n",
       "        vertical-align: middle;\n",
       "    }\n",
       "\n",
       "    .dataframe tbody tr th {\n",
       "        vertical-align: top;\n",
       "    }\n",
       "\n",
       "    .dataframe thead th {\n",
       "        text-align: right;\n",
       "    }\n",
       "</style>\n",
       "<table border=\"1\" class=\"dataframe\">\n",
       "  <thead>\n",
       "    <tr style=\"text-align: right;\">\n",
       "      <th></th>\n",
       "      <th>mae</th>\n",
       "      <th>mse</th>\n",
       "      <th>crps</th>\n",
       "      <th>log_score</th>\n",
       "    </tr>\n",
       "    <tr>\n",
       "      <th>id</th>\n",
       "      <th></th>\n",
       "      <th></th>\n",
       "      <th></th>\n",
       "      <th></th>\n",
       "    </tr>\n",
       "  </thead>\n",
       "  <tbody>\n",
       "    <tr>\n",
       "      <th>preds</th>\n",
       "      <td>224.814969</td>\n",
       "      <td>90991.537676</td>\n",
       "      <td>267.927485</td>\n",
       "      <td>-7.438344</td>\n",
       "    </tr>\n",
       "    <tr>\n",
       "      <th>77</th>\n",
       "      <td>204.412273</td>\n",
       "      <td>76788.430632</td>\n",
       "      <td>181.400956</td>\n",
       "      <td>-7.339383</td>\n",
       "    </tr>\n",
       "    <tr>\n",
       "      <th>78</th>\n",
       "      <td>588.199306</td>\n",
       "      <td>506643.235469</td>\n",
       "      <td>455.204788</td>\n",
       "      <td>-9.116892</td>\n",
       "    </tr>\n",
       "  </tbody>\n",
       "</table>\n",
       "</div>"
      ],
      "text/plain": [
       "              mae            mse        crps  log_score\n",
       "id                                                     \n",
       "preds  224.814969   90991.537676  267.927485  -7.438344\n",
       "77     204.412273   76788.430632  181.400956  -7.339383\n",
       "78     588.199306  506643.235469  455.204788  -9.116892"
      ]
     },
     "execution_count": 21,
     "metadata": {},
     "output_type": "execute_result"
    }
   ],
   "source": [
    "score.summary"
   ]
  },
  {
   "cell_type": "code",
   "execution_count": 22,
   "id": "33838076",
   "metadata": {},
   "outputs": [
    {
     "data": {
      "text/html": [
       "\n",
       "<style>\n",
       "  #altair-viz-674dc4c193294774831bb245177903f8.vega-embed {\n",
       "    width: 100%;\n",
       "    display: flex;\n",
       "  }\n",
       "\n",
       "  #altair-viz-674dc4c193294774831bb245177903f8.vega-embed details,\n",
       "  #altair-viz-674dc4c193294774831bb245177903f8.vega-embed details summary {\n",
       "    position: relative;\n",
       "  }\n",
       "</style>\n",
       "<div id=\"altair-viz-674dc4c193294774831bb245177903f8\"></div>\n",
       "<script type=\"text/javascript\">\n",
       "  var VEGA_DEBUG = (typeof VEGA_DEBUG == \"undefined\") ? {} : VEGA_DEBUG;\n",
       "  (function(spec, embedOpt){\n",
       "    let outputDiv = document.currentScript.previousElementSibling;\n",
       "    if (outputDiv.id !== \"altair-viz-674dc4c193294774831bb245177903f8\") {\n",
       "      outputDiv = document.getElementById(\"altair-viz-674dc4c193294774831bb245177903f8\");\n",
       "    }\n",
       "    const paths = {\n",
       "      \"vega\": \"https://cdn.jsdelivr.net/npm/vega@5?noext\",\n",
       "      \"vega-lib\": \"https://cdn.jsdelivr.net/npm/vega-lib?noext\",\n",
       "      \"vega-lite\": \"https://cdn.jsdelivr.net/npm/vega-lite@5.17.0?noext\",\n",
       "      \"vega-embed\": \"https://cdn.jsdelivr.net/npm/vega-embed@6?noext\",\n",
       "    };\n",
       "\n",
       "    function maybeLoadScript(lib, version) {\n",
       "      var key = `${lib.replace(\"-\", \"\")}_version`;\n",
       "      return (VEGA_DEBUG[key] == version) ?\n",
       "        Promise.resolve(paths[lib]) :\n",
       "        new Promise(function(resolve, reject) {\n",
       "          var s = document.createElement('script');\n",
       "          document.getElementsByTagName(\"head\")[0].appendChild(s);\n",
       "          s.async = true;\n",
       "          s.onload = () => {\n",
       "            VEGA_DEBUG[key] = version;\n",
       "            return resolve(paths[lib]);\n",
       "          };\n",
       "          s.onerror = () => reject(`Error loading script: ${paths[lib]}`);\n",
       "          s.src = paths[lib];\n",
       "        });\n",
       "    }\n",
       "\n",
       "    function showError(err) {\n",
       "      outputDiv.innerHTML = `<div class=\"error\" style=\"color:red;\">${err}</div>`;\n",
       "      throw err;\n",
       "    }\n",
       "\n",
       "    function displayChart(vegaEmbed) {\n",
       "      vegaEmbed(outputDiv, spec, embedOpt)\n",
       "        .catch(err => showError(`Javascript Error: ${err.message}<br>This usually means there's a typo in your chart specification. See the javascript console for the full traceback.`));\n",
       "    }\n",
       "\n",
       "    if(typeof define === \"function\" && define.amd) {\n",
       "      requirejs.config({paths});\n",
       "      require([\"vega-embed\"], displayChart, err => showError(`Error loading script: ${err.message}`));\n",
       "    } else {\n",
       "      maybeLoadScript(\"vega\", \"5\")\n",
       "        .then(() => maybeLoadScript(\"vega-lite\", \"5.17.0\"))\n",
       "        .then(() => maybeLoadScript(\"vega-embed\", \"6\"))\n",
       "        .catch(showError)\n",
       "        .then(() => displayChart(vegaEmbed));\n",
       "    }\n",
       "  })({\"config\": {\"view\": {\"continuousWidth\": 300, \"continuousHeight\": 300}}, \"vconcat\": [{\"data\": {\"name\": \"data-1fff263b8dfc65f577a4f4b19354459e\"}, \"mark\": {\"type\": \"line\"}, \"encoding\": {\"color\": {\"value\": \"black\"}, \"x\": {\"field\": \"dates\", \"type\": \"temporal\"}, \"y\": {\"field\": \"casos\", \"type\": \"quantitative\"}}, \"height\": 150, \"title\": \"New cases\", \"width\": 400}, {\"layer\": [{\"mark\": {\"type\": \"point\", \"filled\": false}, \"encoding\": {\"color\": {\"field\": \"variable\", \"legend\": {\"legendX\": 100}, \"type\": \"nominal\"}, \"x\": {\"field\": \"dates\", \"type\": \"temporal\"}, \"y\": {\"field\": \"log_score\", \"type\": \"quantitative\"}}}, {\"mark\": {\"type\": \"point\"}, \"encoding\": {\"color\": {\"field\": \"variable\", \"legend\": {\"legendX\": 100}, \"type\": \"nominal\"}, \"opacity\": {\"condition\": {\"param\": \"param_4\", \"value\": 1, \"empty\": false}, \"value\": 0}, \"x\": {\"field\": \"dates\", \"type\": \"temporal\"}, \"y\": {\"field\": \"log_score\", \"type\": \"quantitative\"}}}, {\"mark\": {\"type\": \"rule\", \"color\": \"gray\"}, \"encoding\": {\"opacity\": {\"condition\": {\"param\": \"param_4\", \"value\": 0.3, \"empty\": false}, \"value\": 0}, \"tooltip\": [{\"field\": \"dates\", \"title\": \"Date\", \"type\": \"temporal\"}, {\"field\": \"preds\", \"format\": \".2f\", \"type\": \"quantitative\"}, {\"field\": \"77\", \"format\": \".2f\", \"type\": \"quantitative\"}, {\"field\": \"78\", \"format\": \".2f\", \"type\": \"quantitative\"}], \"x\": {\"field\": \"dates\", \"type\": \"temporal\"}}, \"name\": \"view_4\", \"transform\": [{\"pivot\": \"variable\", \"value\": \"log_score\", \"groupby\": [\"dates\"]}]}], \"data\": {\"name\": \"data-36d55e9d89eb284626ef6cb4cc931a67\"}, \"height\": 250, \"title\": {\"text\": \"Log score\", \"subtitle\": \"Bigger is better\"}, \"width\": 400}], \"params\": [{\"name\": \"param_4\", \"select\": {\"type\": \"point\", \"fields\": [\"dates\"], \"nearest\": true, \"on\": \"pointerover\"}, \"views\": [\"view_4\"]}], \"$schema\": \"https://vega.github.io/schema/vega-lite/v5.17.0.json\", \"datasets\": {\"data-1fff263b8dfc65f577a4f4b19354459e\": [{\"dates\": \"2022-01-02T00:00:00\", \"casos\": 21.0, \"legend\": \"Data\"}, {\"dates\": \"2022-01-09T00:00:00\", \"casos\": 14.0, \"legend\": \"Data\"}, {\"dates\": \"2022-01-16T00:00:00\", \"casos\": 22.0, \"legend\": \"Data\"}, {\"dates\": \"2022-01-23T00:00:00\", \"casos\": 19.0, \"legend\": \"Data\"}, {\"dates\": \"2022-01-30T00:00:00\", \"casos\": 31.0, \"legend\": \"Data\"}, {\"dates\": \"2022-02-06T00:00:00\", \"casos\": 35.0, \"legend\": \"Data\"}, {\"dates\": \"2022-02-13T00:00:00\", \"casos\": 47.0, \"legend\": \"Data\"}, {\"dates\": \"2022-02-20T00:00:00\", \"casos\": 62.0, \"legend\": \"Data\"}, {\"dates\": \"2022-02-27T00:00:00\", \"casos\": 66.0, \"legend\": \"Data\"}, {\"dates\": \"2022-03-06T00:00:00\", \"casos\": 116.0, \"legend\": \"Data\"}, {\"dates\": \"2022-03-13T00:00:00\", \"casos\": 126.0, \"legend\": \"Data\"}, {\"dates\": \"2022-03-20T00:00:00\", \"casos\": 177.0, \"legend\": \"Data\"}, {\"dates\": \"2022-03-27T00:00:00\", \"casos\": 153.0, \"legend\": \"Data\"}, {\"dates\": \"2022-04-03T00:00:00\", \"casos\": 222.0, \"legend\": \"Data\"}, {\"dates\": \"2022-04-10T00:00:00\", \"casos\": 201.0, \"legend\": \"Data\"}, {\"dates\": \"2022-04-17T00:00:00\", \"casos\": 234.0, \"legend\": \"Data\"}, {\"dates\": \"2022-04-24T00:00:00\", \"casos\": 342.0, \"legend\": \"Data\"}, {\"dates\": \"2022-05-01T00:00:00\", \"casos\": 461.0, \"legend\": \"Data\"}, {\"dates\": \"2022-05-08T00:00:00\", \"casos\": 505.0, \"legend\": \"Data\"}, {\"dates\": \"2022-05-15T00:00:00\", \"casos\": 406.0, \"legend\": \"Data\"}, {\"dates\": \"2022-05-22T00:00:00\", \"casos\": 400.0, \"legend\": \"Data\"}, {\"dates\": \"2022-05-29T00:00:00\", \"casos\": 338.0, \"legend\": \"Data\"}, {\"dates\": \"2022-06-05T00:00:00\", \"casos\": 255.0, \"legend\": \"Data\"}, {\"dates\": \"2022-06-12T00:00:00\", \"casos\": 153.0, \"legend\": \"Data\"}, {\"dates\": \"2022-06-19T00:00:00\", \"casos\": 209.0, \"legend\": \"Data\"}, {\"dates\": \"2022-06-26T00:00:00\", \"casos\": 189.0, \"legend\": \"Data\"}, {\"dates\": \"2022-07-03T00:00:00\", \"casos\": 155.0, \"legend\": \"Data\"}, {\"dates\": \"2022-07-10T00:00:00\", \"casos\": 144.0, \"legend\": \"Data\"}, {\"dates\": \"2022-07-17T00:00:00\", \"casos\": 194.0, \"legend\": \"Data\"}, {\"dates\": \"2022-07-24T00:00:00\", \"casos\": 148.0, \"legend\": \"Data\"}, {\"dates\": \"2022-07-31T00:00:00\", \"casos\": 145.0, \"legend\": \"Data\"}, {\"dates\": \"2022-08-07T00:00:00\", \"casos\": 106.0, \"legend\": \"Data\"}, {\"dates\": \"2022-08-14T00:00:00\", \"casos\": 110.0, \"legend\": \"Data\"}, {\"dates\": \"2022-08-21T00:00:00\", \"casos\": 99.0, \"legend\": \"Data\"}, {\"dates\": \"2022-08-28T00:00:00\", \"casos\": 94.0, \"legend\": \"Data\"}, {\"dates\": \"2022-09-04T00:00:00\", \"casos\": 101.0, \"legend\": \"Data\"}, {\"dates\": \"2022-09-11T00:00:00\", \"casos\": 120.0, \"legend\": \"Data\"}, {\"dates\": \"2022-09-18T00:00:00\", \"casos\": 102.0, \"legend\": \"Data\"}, {\"dates\": \"2022-09-25T00:00:00\", \"casos\": 95.0, \"legend\": \"Data\"}, {\"dates\": \"2022-10-02T00:00:00\", \"casos\": 102.0, \"legend\": \"Data\"}, {\"dates\": \"2022-10-09T00:00:00\", \"casos\": 123.0, \"legend\": \"Data\"}, {\"dates\": \"2022-10-16T00:00:00\", \"casos\": 160.0, \"legend\": \"Data\"}, {\"dates\": \"2022-10-23T00:00:00\", \"casos\": 139.0, \"legend\": \"Data\"}, {\"dates\": \"2022-10-30T00:00:00\", \"casos\": 131.0, \"legend\": \"Data\"}, {\"dates\": \"2022-11-06T00:00:00\", \"casos\": 171.0, \"legend\": \"Data\"}, {\"dates\": \"2022-11-13T00:00:00\", \"casos\": 129.0, \"legend\": \"Data\"}, {\"dates\": \"2022-11-20T00:00:00\", \"casos\": 94.0, \"legend\": \"Data\"}, {\"dates\": \"2022-11-27T00:00:00\", \"casos\": 86.0, \"legend\": \"Data\"}, {\"dates\": \"2022-12-04T00:00:00\", \"casos\": 98.0, \"legend\": \"Data\"}, {\"dates\": \"2022-12-11T00:00:00\", \"casos\": 123.0, \"legend\": \"Data\"}, {\"dates\": \"2022-12-18T00:00:00\", \"casos\": 117.0, \"legend\": \"Data\"}, {\"dates\": \"2022-12-25T00:00:00\", \"casos\": 163.0, \"legend\": \"Data\"}, {\"dates\": \"2023-01-01T00:00:00\", \"casos\": 230.0, \"legend\": \"Data\"}, {\"dates\": \"2023-01-08T00:00:00\", \"casos\": 218.0, \"legend\": \"Data\"}, {\"dates\": \"2023-01-15T00:00:00\", \"casos\": 246.0, \"legend\": \"Data\"}, {\"dates\": \"2023-01-22T00:00:00\", \"casos\": 312.0, \"legend\": \"Data\"}, {\"dates\": \"2023-01-29T00:00:00\", \"casos\": 383.0, \"legend\": \"Data\"}, {\"dates\": \"2023-02-05T00:00:00\", \"casos\": 525.0, \"legend\": \"Data\"}, {\"dates\": \"2023-02-12T00:00:00\", \"casos\": 372.0, \"legend\": \"Data\"}, {\"dates\": \"2023-02-19T00:00:00\", \"casos\": 507.0, \"legend\": \"Data\"}, {\"dates\": \"2023-02-26T00:00:00\", \"casos\": 870.0, \"legend\": \"Data\"}, {\"dates\": \"2023-03-05T00:00:00\", \"casos\": 945.0, \"legend\": \"Data\"}, {\"dates\": \"2023-03-12T00:00:00\", \"casos\": 1125.0, \"legend\": \"Data\"}, {\"dates\": \"2023-03-19T00:00:00\", \"casos\": 1382.0, \"legend\": \"Data\"}, {\"dates\": \"2023-03-26T00:00:00\", \"casos\": 1580.0, \"legend\": \"Data\"}, {\"dates\": \"2023-04-02T00:00:00\", \"casos\": 1420.0, \"legend\": \"Data\"}, {\"dates\": \"2023-04-09T00:00:00\", \"casos\": 1783.0, \"legend\": \"Data\"}, {\"dates\": \"2023-04-16T00:00:00\", \"casos\": 1502.0, \"legend\": \"Data\"}, {\"dates\": \"2023-04-23T00:00:00\", \"casos\": 1572.0, \"legend\": \"Data\"}, {\"dates\": \"2023-04-30T00:00:00\", \"casos\": 1919.0, \"legend\": \"Data\"}, {\"dates\": \"2023-05-07T00:00:00\", \"casos\": 1807.0, \"legend\": \"Data\"}, {\"dates\": \"2023-05-14T00:00:00\", \"casos\": 1731.0, \"legend\": \"Data\"}, {\"dates\": \"2023-05-21T00:00:00\", \"casos\": 1479.0, \"legend\": \"Data\"}, {\"dates\": \"2023-05-28T00:00:00\", \"casos\": 1328.0, \"legend\": \"Data\"}, {\"dates\": \"2023-06-04T00:00:00\", \"casos\": 1238.0, \"legend\": \"Data\"}, {\"dates\": \"2023-06-11T00:00:00\", \"casos\": 1348.0, \"legend\": \"Data\"}, {\"dates\": \"2023-06-18T00:00:00\", \"casos\": 1236.0, \"legend\": \"Data\"}, {\"dates\": \"2023-06-25T00:00:00\", \"casos\": 996.0, \"legend\": \"Data\"}], \"data-36d55e9d89eb284626ef6cb4cc931a67\": [{\"dates\": \"2023-01-01T00:00:00\", \"variable\": \"preds\", \"log_score\": -5.879221846761768}, {\"dates\": \"2023-01-08T00:00:00\", \"variable\": \"preds\", \"log_score\": -5.590819884154986}, {\"dates\": \"2023-01-15T00:00:00\", \"variable\": \"preds\", \"log_score\": -5.935978555709673}, {\"dates\": \"2023-01-22T00:00:00\", \"variable\": \"preds\", \"log_score\": -6.415826051340522}, {\"dates\": \"2023-01-29T00:00:00\", \"variable\": \"preds\", \"log_score\": -5.960978975068262}, {\"dates\": \"2023-02-05T00:00:00\", \"variable\": \"preds\", \"log_score\": -6.700443299392373}, {\"dates\": \"2023-02-12T00:00:00\", \"variable\": \"preds\", \"log_score\": -6.550263322446494}, {\"dates\": \"2023-02-19T00:00:00\", \"variable\": \"preds\", \"log_score\": -6.934738960208357}, {\"dates\": \"2023-02-26T00:00:00\", \"variable\": \"preds\", \"log_score\": -7.801923142811861}, {\"dates\": \"2023-03-05T00:00:00\", \"variable\": \"preds\", \"log_score\": -7.555376214943643}, {\"dates\": \"2023-03-12T00:00:00\", \"variable\": \"preds\", \"log_score\": -7.870546548298408}, {\"dates\": \"2023-03-19T00:00:00\", \"variable\": \"preds\", \"log_score\": -8.228846104455554}, {\"dates\": \"2023-03-26T00:00:00\", \"variable\": \"preds\", \"log_score\": -7.595008358110898}, {\"dates\": \"2023-04-02T00:00:00\", \"variable\": \"preds\", \"log_score\": -8.021312774501292}, {\"dates\": \"2023-04-09T00:00:00\", \"variable\": \"preds\", \"log_score\": -8.449715846637133}, {\"dates\": \"2023-04-16T00:00:00\", \"variable\": \"preds\", \"log_score\": -8.827307039340726}, {\"dates\": \"2023-04-23T00:00:00\", \"variable\": \"preds\", \"log_score\": -7.744508283067639}, {\"dates\": \"2023-04-30T00:00:00\", \"variable\": \"preds\", \"log_score\": -8.115594990114264}, {\"dates\": \"2023-05-07T00:00:00\", \"variable\": \"preds\", \"log_score\": -8.504537336263832}, {\"dates\": \"2023-05-14T00:00:00\", \"variable\": \"preds\", \"log_score\": -8.842981560100528}, {\"dates\": \"2023-05-21T00:00:00\", \"variable\": \"preds\", \"log_score\": -7.8764297623668185}, {\"dates\": \"2023-05-28T00:00:00\", \"variable\": \"preds\", \"log_score\": -8.24120460317002}, {\"dates\": \"2023-01-01T00:00:00\", \"variable\": \"77\", \"log_score\": -7.079721389622609}, {\"dates\": \"2023-01-08T00:00:00\", \"variable\": \"77\", \"log_score\": -7.064632903023893}, {\"dates\": \"2023-01-15T00:00:00\", \"variable\": \"77\", \"log_score\": -6.738092960251456}, {\"dates\": \"2023-01-22T00:00:00\", \"variable\": \"77\", \"log_score\": -6.707904918411233}, {\"dates\": \"2023-01-29T00:00:00\", \"variable\": \"77\", \"log_score\": -6.8828384694529765}, {\"dates\": \"2023-02-05T00:00:00\", \"variable\": \"77\", \"log_score\": -6.8434624901413335}, {\"dates\": \"2023-02-12T00:00:00\", \"variable\": \"77\", \"log_score\": -7.125026200707358}, {\"dates\": \"2023-02-19T00:00:00\", \"variable\": \"77\", \"log_score\": -7.137846120585199}, {\"dates\": \"2023-02-26T00:00:00\", \"variable\": \"77\", \"log_score\": -7.3282949080903625}, {\"dates\": \"2023-03-05T00:00:00\", \"variable\": \"77\", \"log_score\": -7.489379014678192}, {\"dates\": \"2023-03-12T00:00:00\", \"variable\": \"77\", \"log_score\": -7.732292530547796}, {\"dates\": \"2023-03-19T00:00:00\", \"variable\": \"77\", \"log_score\": -7.903307176679288}, {\"dates\": \"2023-03-26T00:00:00\", \"variable\": \"77\", \"log_score\": -8.03399844087559}, {\"dates\": \"2023-04-02T00:00:00\", \"variable\": \"77\", \"log_score\": -8.134216581997386}, {\"dates\": \"2023-04-09T00:00:00\", \"variable\": \"77\", \"log_score\": -7.636065958558454}, {\"dates\": \"2023-04-16T00:00:00\", \"variable\": \"77\", \"log_score\": -7.289868643594637}, {\"dates\": \"2023-04-23T00:00:00\", \"variable\": \"77\", \"log_score\": -7.570768368113712}, {\"dates\": \"2023-04-30T00:00:00\", \"variable\": \"77\", \"log_score\": -7.577074902734868}, {\"dates\": \"2023-05-07T00:00:00\", \"variable\": \"77\", \"log_score\": -7.539437021594418}, {\"dates\": \"2023-05-14T00:00:00\", \"variable\": \"77\", \"log_score\": -7.372447288861989}, {\"dates\": \"2023-05-21T00:00:00\", \"variable\": \"77\", \"log_score\": -7.24501953928985}, {\"dates\": \"2023-05-28T00:00:00\", \"variable\": \"77\", \"log_score\": -7.034738721479016}, {\"dates\": \"2023-01-01T00:00:00\", \"variable\": \"78\", \"log_score\": -6.809346425232073}, {\"dates\": \"2023-01-08T00:00:00\", \"variable\": \"78\", \"log_score\": -6.184277838429013}, {\"dates\": \"2023-01-15T00:00:00\", \"variable\": \"78\", \"log_score\": -6.253743776169643}, {\"dates\": \"2023-01-22T00:00:00\", \"variable\": \"78\", \"log_score\": -6.478966522643476}, {\"dates\": \"2023-01-29T00:00:00\", \"variable\": \"78\", \"log_score\": -6.333678075574305}, {\"dates\": \"2023-02-05T00:00:00\", \"variable\": \"78\", \"log_score\": -7.690153745847041}, {\"dates\": \"2023-02-12T00:00:00\", \"variable\": \"78\", \"log_score\": -6.328891845883524}, {\"dates\": \"2023-02-19T00:00:00\", \"variable\": \"78\", \"log_score\": -6.602395825222742}, {\"dates\": \"2023-02-26T00:00:00\", \"variable\": \"78\", \"log_score\": -7.855565702160332}, {\"dates\": \"2023-03-05T00:00:00\", \"variable\": \"78\", \"log_score\": -7.283064229347739}, {\"dates\": \"2023-03-12T00:00:00\", \"variable\": \"78\", \"log_score\": -8.698940196810494}, {\"dates\": \"2023-03-19T00:00:00\", \"variable\": \"78\", \"log_score\": -10.702368909352941}, {\"dates\": \"2023-03-26T00:00:00\", \"variable\": \"78\", \"log_score\": -12.81236182306103}, {\"dates\": \"2023-04-02T00:00:00\", \"variable\": \"78\", \"log_score\": -10.281677764612706}, {\"dates\": \"2023-04-09T00:00:00\", \"variable\": \"78\", \"log_score\": -10.899815233165809}, {\"dates\": \"2023-04-16T00:00:00\", \"variable\": \"78\", \"log_score\": -8.298461426438049}, {\"dates\": \"2023-04-23T00:00:00\", \"variable\": \"78\", \"log_score\": -8.542113590555335}, {\"dates\": \"2023-04-30T00:00:00\", \"variable\": \"78\", \"log_score\": -12.767489080115746}, {\"dates\": \"2023-05-07T00:00:00\", \"variable\": \"78\", \"log_score\": -10.326415255158715}, {\"dates\": \"2023-05-14T00:00:00\", \"variable\": \"78\", \"log_score\": -12.652989381973528}, {\"dates\": \"2023-05-21T00:00:00\", \"variable\": \"78\", \"log_score\": -18.886250021315483}, {\"dates\": \"2023-05-28T00:00:00\", \"variable\": \"78\", \"log_score\": -7.882656508221811}]}}, {\"mode\": \"vega-lite\"});\n",
       "</script>"
      ],
      "text/plain": [
       "alt.VConcatChart(...)"
      ]
     },
     "execution_count": 22,
     "metadata": {},
     "output_type": "execute_result"
    }
   ],
   "source": [
    "score.plot_log_score()"
   ]
  },
  {
   "cell_type": "code",
   "execution_count": 23,
   "id": "b3bb6b82",
   "metadata": {},
   "outputs": [
    {
     "data": {
      "text/html": [
       "\n",
       "<style>\n",
       "  #altair-viz-906ae54722dc47878a8395583a499ad2.vega-embed {\n",
       "    width: 100%;\n",
       "    display: flex;\n",
       "  }\n",
       "\n",
       "  #altair-viz-906ae54722dc47878a8395583a499ad2.vega-embed details,\n",
       "  #altair-viz-906ae54722dc47878a8395583a499ad2.vega-embed details summary {\n",
       "    position: relative;\n",
       "  }\n",
       "</style>\n",
       "<div id=\"altair-viz-906ae54722dc47878a8395583a499ad2\"></div>\n",
       "<script type=\"text/javascript\">\n",
       "  var VEGA_DEBUG = (typeof VEGA_DEBUG == \"undefined\") ? {} : VEGA_DEBUG;\n",
       "  (function(spec, embedOpt){\n",
       "    let outputDiv = document.currentScript.previousElementSibling;\n",
       "    if (outputDiv.id !== \"altair-viz-906ae54722dc47878a8395583a499ad2\") {\n",
       "      outputDiv = document.getElementById(\"altair-viz-906ae54722dc47878a8395583a499ad2\");\n",
       "    }\n",
       "    const paths = {\n",
       "      \"vega\": \"https://cdn.jsdelivr.net/npm/vega@5?noext\",\n",
       "      \"vega-lib\": \"https://cdn.jsdelivr.net/npm/vega-lib?noext\",\n",
       "      \"vega-lite\": \"https://cdn.jsdelivr.net/npm/vega-lite@5.17.0?noext\",\n",
       "      \"vega-embed\": \"https://cdn.jsdelivr.net/npm/vega-embed@6?noext\",\n",
       "    };\n",
       "\n",
       "    function maybeLoadScript(lib, version) {\n",
       "      var key = `${lib.replace(\"-\", \"\")}_version`;\n",
       "      return (VEGA_DEBUG[key] == version) ?\n",
       "        Promise.resolve(paths[lib]) :\n",
       "        new Promise(function(resolve, reject) {\n",
       "          var s = document.createElement('script');\n",
       "          document.getElementsByTagName(\"head\")[0].appendChild(s);\n",
       "          s.async = true;\n",
       "          s.onload = () => {\n",
       "            VEGA_DEBUG[key] = version;\n",
       "            return resolve(paths[lib]);\n",
       "          };\n",
       "          s.onerror = () => reject(`Error loading script: ${paths[lib]}`);\n",
       "          s.src = paths[lib];\n",
       "        });\n",
       "    }\n",
       "\n",
       "    function showError(err) {\n",
       "      outputDiv.innerHTML = `<div class=\"error\" style=\"color:red;\">${err}</div>`;\n",
       "      throw err;\n",
       "    }\n",
       "\n",
       "    function displayChart(vegaEmbed) {\n",
       "      vegaEmbed(outputDiv, spec, embedOpt)\n",
       "        .catch(err => showError(`Javascript Error: ${err.message}<br>This usually means there's a typo in your chart specification. See the javascript console for the full traceback.`));\n",
       "    }\n",
       "\n",
       "    if(typeof define === \"function\" && define.amd) {\n",
       "      requirejs.config({paths});\n",
       "      require([\"vega-embed\"], displayChart, err => showError(`Error loading script: ${err.message}`));\n",
       "    } else {\n",
       "      maybeLoadScript(\"vega\", \"5\")\n",
       "        .then(() => maybeLoadScript(\"vega-lite\", \"5.17.0\"))\n",
       "        .then(() => maybeLoadScript(\"vega-embed\", \"6\"))\n",
       "        .catch(showError)\n",
       "        .then(() => displayChart(vegaEmbed));\n",
       "    }\n",
       "  })({\"config\": {\"view\": {\"continuousWidth\": 300, \"continuousHeight\": 300}}, \"layer\": [{\"data\": {\"name\": \"data-31ab3405ccd4240dcb0f02c0c71558b5\"}, \"mark\": {\"type\": \"circle\", \"size\": 60}, \"encoding\": {\"color\": {\"field\": \"legend\", \"legend\": {\"title\": null}, \"scale\": {\"range\": [\"black\"]}, \"type\": \"nominal\"}, \"x\": {\"field\": \"dates\", \"type\": \"temporal\"}, \"y\": {\"field\": \"casos\", \"type\": \"quantitative\"}}}, {\"data\": {\"name\": \"data-87956889c7afcc678dd8298415a0ae3f\"}, \"mark\": {\"type\": \"line\"}, \"encoding\": {\"color\": {\"field\": \"model\", \"legend\": {\"title\": \"Model\"}, \"type\": \"nominal\"}, \"x\": {\"field\": \"dates\", \"title\": \"Dates\", \"type\": \"temporal\"}, \"y\": {\"field\": \"preds\", \"title\": \"New cases\", \"type\": \"quantitative\"}}, \"title\": \"Median and 95% confidence interval\"}, {\"data\": {\"name\": \"data-87956889c7afcc678dd8298415a0ae3f\"}, \"mark\": {\"type\": \"area\", \"opacity\": 0.25}, \"encoding\": {\"color\": {\"field\": \"model\", \"legend\": null, \"type\": \"nominal\"}, \"x\": {\"field\": \"dates\", \"type\": \"temporal\"}, \"y\": {\"field\": \"lower\", \"type\": \"quantitative\"}, \"y2\": {\"field\": \"upper\"}}, \"title\": \"Median and 95% confidence interval\"}, {\"data\": {\"name\": \"data-87956889c7afcc678dd8298415a0ae3f\"}, \"mark\": {\"type\": \"point\"}, \"encoding\": {\"color\": {\"field\": \"model\", \"legend\": null, \"type\": \"nominal\"}, \"opacity\": {\"condition\": {\"param\": \"param_5\", \"value\": 1, \"empty\": false}, \"value\": 0}, \"x\": {\"field\": \"dates\", \"title\": \"Dates\", \"type\": \"temporal\"}, \"y\": {\"field\": \"preds\", \"title\": \"New cases\", \"type\": \"quantitative\"}}, \"title\": \"Median and 95% confidence interval\"}, {\"data\": {\"name\": \"data-77bb146c729541734357fb1f5ad3b0ae\"}, \"mark\": {\"type\": \"rule\", \"color\": \"gray\"}, \"encoding\": {\"opacity\": {\"condition\": {\"param\": \"param_5\", \"value\": 0.3, \"empty\": false}, \"value\": 0}, \"tooltip\": [{\"field\": \"dates\", \"title\": \"Date\", \"type\": \"temporal\"}, {\"field\": \"preds\", \"format\": \".0f\", \"type\": \"quantitative\"}, {\"field\": \"77\", \"format\": \".0f\", \"type\": \"quantitative\"}, {\"field\": \"78\", \"format\": \".0f\", \"type\": \"quantitative\"}, {\"field\": \"cases\", \"format\": \".0f\", \"type\": \"quantitative\"}], \"x\": {\"field\": \"dates\", \"type\": \"temporal\"}}, \"name\": \"view_5\", \"transform\": [{\"pivot\": \"model\", \"value\": \"preds\", \"groupby\": [\"dates\"]}]}], \"height\": 300, \"params\": [{\"name\": \"param_5\", \"select\": {\"type\": \"point\", \"fields\": [\"dates\"], \"nearest\": true, \"on\": \"pointerover\"}, \"views\": [\"view_5\"]}], \"resolve\": {\"scale\": {\"color\": \"independent\"}}, \"width\": 400, \"$schema\": \"https://vega.github.io/schema/vega-lite/v5.17.0.json\", \"datasets\": {\"data-31ab3405ccd4240dcb0f02c0c71558b5\": [{\"dates\": \"2023-01-01T00:00:00\", \"casos\": 230.0, \"legend\": \"Data\"}, {\"dates\": \"2023-01-08T00:00:00\", \"casos\": 218.0, \"legend\": \"Data\"}, {\"dates\": \"2023-01-15T00:00:00\", \"casos\": 246.0, \"legend\": \"Data\"}, {\"dates\": \"2023-01-22T00:00:00\", \"casos\": 312.0, \"legend\": \"Data\"}, {\"dates\": \"2023-01-29T00:00:00\", \"casos\": 383.0, \"legend\": \"Data\"}, {\"dates\": \"2023-02-05T00:00:00\", \"casos\": 525.0, \"legend\": \"Data\"}, {\"dates\": \"2023-02-12T00:00:00\", \"casos\": 372.0, \"legend\": \"Data\"}, {\"dates\": \"2023-02-19T00:00:00\", \"casos\": 507.0, \"legend\": \"Data\"}, {\"dates\": \"2023-02-26T00:00:00\", \"casos\": 870.0, \"legend\": \"Data\"}, {\"dates\": \"2023-03-05T00:00:00\", \"casos\": 945.0, \"legend\": \"Data\"}, {\"dates\": \"2023-03-12T00:00:00\", \"casos\": 1125.0, \"legend\": \"Data\"}, {\"dates\": \"2023-03-19T00:00:00\", \"casos\": 1382.0, \"legend\": \"Data\"}, {\"dates\": \"2023-03-26T00:00:00\", \"casos\": 1580.0, \"legend\": \"Data\"}, {\"dates\": \"2023-04-02T00:00:00\", \"casos\": 1420.0, \"legend\": \"Data\"}, {\"dates\": \"2023-04-09T00:00:00\", \"casos\": 1783.0, \"legend\": \"Data\"}, {\"dates\": \"2023-04-16T00:00:00\", \"casos\": 1502.0, \"legend\": \"Data\"}, {\"dates\": \"2023-04-23T00:00:00\", \"casos\": 1572.0, \"legend\": \"Data\"}, {\"dates\": \"2023-04-30T00:00:00\", \"casos\": 1919.0, \"legend\": \"Data\"}, {\"dates\": \"2023-05-07T00:00:00\", \"casos\": 1807.0, \"legend\": \"Data\"}, {\"dates\": \"2023-05-14T00:00:00\", \"casos\": 1731.0, \"legend\": \"Data\"}, {\"dates\": \"2023-05-21T00:00:00\", \"casos\": 1479.0, \"legend\": \"Data\"}, {\"dates\": \"2023-05-28T00:00:00\", \"casos\": 1328.0, \"legend\": \"Data\"}], \"data-87956889c7afcc678dd8298415a0ae3f\": [{\"dates\": \"2023-01-01T00:00:00\", \"preds\": 151.75912131500172, \"lower\": 78.8006137547906, \"upper\": 309.0367972424309, \"data\": 230.00000000000014, \"model\": \"preds\", \"adm_0\": null, \"adm_1\": null, \"adm_2\": null, \"adm_3\": NaN}, {\"dates\": \"2023-01-08T00:00:00\", \"preds\": 159.7113114447144, \"lower\": 69.925995297073, \"upper\": 399.39483298826224, \"data\": 218.00000000000017, \"model\": \"preds\", \"adm_0\": null, \"adm_1\": null, \"adm_2\": null, \"adm_3\": NaN}, {\"dates\": \"2023-01-15T00:00:00\", \"preds\": 161.09849482557027, \"lower\": 58.61265263614962, \"upper\": 508.99158690412145, \"data\": 246.00000000000068, \"model\": \"preds\", \"adm_0\": null, \"adm_1\": null, \"adm_2\": null, \"adm_3\": NaN}, {\"dates\": \"2023-01-22T00:00:00\", \"preds\": 164.0870771311059, \"lower\": 50.903757847976614, \"upper\": 640.2575220702569, \"data\": 311.9999999999994, \"model\": \"preds\", \"adm_0\": null, \"adm_1\": null, \"adm_2\": null, \"adm_3\": NaN}, {\"dates\": \"2023-01-29T00:00:00\", \"preds\": 309.36997031375967, \"lower\": 152.07971768934192, \"upper\": 672.2648617059136, \"data\": 383.00000000000006, \"model\": \"preds\", \"adm_0\": null, \"adm_1\": null, \"adm_2\": null, \"adm_3\": NaN}, {\"dates\": \"2023-02-05T00:00:00\", \"preds\": 328.36402569417095, \"lower\": 134.0836603638846, \"upper\": 895.5194220504013, \"data\": 524.9999999999994, \"model\": \"preds\", \"adm_0\": null, \"adm_1\": null, \"adm_2\": null, \"adm_3\": NaN}, {\"dates\": \"2023-02-12T00:00:00\", \"preds\": 338.44353738083413, \"lower\": 112.86419585872474, \"upper\": 1198.6506712953878, \"data\": 371.99999999999994, \"model\": \"preds\", \"adm_0\": null, \"adm_1\": null, \"adm_2\": null, \"adm_3\": NaN}, {\"dates\": \"2023-02-19T00:00:00\", \"preds\": 349.60097780996006, \"lower\": 97.93584193927443, \"upper\": 1569.3142988104, \"data\": 507.0000000000001, \"model\": \"preds\", \"adm_0\": null, \"adm_1\": null, \"adm_2\": null, \"adm_3\": NaN}, {\"dates\": \"2023-02-26T00:00:00\", \"preds\": 486.69752571203514, \"lower\": 230.60416972704553, \"upper\": 1105.375866271899, \"data\": 870.0, \"model\": \"preds\", \"adm_0\": null, \"adm_1\": null, \"adm_2\": null, \"adm_3\": NaN}, {\"dates\": \"2023-03-05T00:00:00\", \"preds\": 517.8411243043572, \"lower\": 201.98745181276163, \"upper\": 1496.3648720959604, \"data\": 945.0000000000003, \"model\": \"preds\", \"adm_0\": null, \"adm_1\": null, \"adm_2\": null, \"adm_3\": NaN}, {\"dates\": \"2023-03-12T00:00:00\", \"preds\": 529.7684567054695, \"lower\": 167.23095654785914, \"upper\": 2019.1252957105041, \"data\": 1125.000000000002, \"model\": \"preds\", \"adm_0\": null, \"adm_1\": null, \"adm_2\": null, \"adm_3\": NaN}, {\"dates\": \"2023-03-19T00:00:00\", \"preds\": 545.4007213622474, \"lower\": 143.50548199946917, \"upper\": 2673.7759556682413, \"data\": 1382.0000000000002, \"model\": \"preds\", \"adm_0\": null, \"adm_1\": null, \"adm_2\": null, \"adm_3\": NaN}, {\"dates\": \"2023-03-26T00:00:00\", \"preds\": 1436.9969791954877, \"lower\": 617.80444857739, \"upper\": 3675.252209023487, \"data\": 1579.9999999999984, \"model\": \"preds\", \"adm_0\": null, \"adm_1\": null, \"adm_2\": null, \"adm_3\": NaN}, {\"dates\": \"2023-04-02T00:00:00\", \"preds\": 1552.567089578109, \"lower\": 534.8015631291074, \"upper\": 5268.307803049241, \"data\": 1419.9999999999982, \"model\": \"preds\", \"adm_0\": null, \"adm_1\": null, \"adm_2\": null, \"adm_3\": NaN}, {\"dates\": \"2023-04-09T00:00:00\", \"preds\": 1636.9392121750382, \"lower\": 442.3248136706556, \"upper\": 7728.713793949735, \"data\": 1783.0000000000034, \"model\": \"preds\", \"adm_0\": null, \"adm_1\": null, \"adm_2\": null, \"adm_3\": NaN}, {\"dates\": \"2023-04-16T00:00:00\", \"preds\": 1720.5739847712427, \"lower\": 377.21274317344836, \"upper\": 11004.623877515718, \"data\": 1502.0000000000002, \"model\": \"preds\", \"adm_0\": null, \"adm_1\": null, \"adm_2\": null, \"adm_3\": NaN}, {\"dates\": \"2023-04-23T00:00:00\", \"preds\": 1657.1806290305906, \"lower\": 704.2999114889643, \"upper\": 4299.410348138865, \"data\": 1571.9999999999993, \"model\": \"preds\", \"adm_0\": null, \"adm_1\": null, \"adm_2\": null, \"adm_3\": NaN}, {\"dates\": \"2023-04-30T00:00:00\", \"preds\": 1670.3745106937647, \"lower\": 572.0346821463518, \"upper\": 5711.7438576471895, \"data\": 1918.9999999999986, \"model\": \"preds\", \"adm_0\": null, \"adm_1\": null, \"adm_2\": null, \"adm_3\": NaN}, {\"dates\": \"2023-05-07T00:00:00\", \"preds\": 1722.5635450059838, \"lower\": 463.66773266459626, \"upper\": 8177.35425212233, \"data\": 1807.000000000001, \"model\": \"preds\", \"adm_0\": null, \"adm_1\": null, \"adm_2\": null, \"adm_3\": NaN}, {\"dates\": \"2023-05-14T00:00:00\", \"preds\": 1755.4117309045916, \"lower\": 385.13211283295925, \"upper\": 11215.15300772631, \"data\": 1730.9999999999984, \"model\": \"preds\", \"adm_0\": null, \"adm_1\": null, \"adm_2\": null, \"adm_3\": NaN}, {\"dates\": \"2023-05-21T00:00:00\", \"preds\": 1791.9777613998463, \"lower\": 757.4544557427392, \"upper\": 4680.679260236886, \"data\": 1478.9999999999989, \"model\": \"preds\", \"adm_0\": null, \"adm_1\": null, \"adm_2\": null, \"adm_3\": NaN}, {\"dates\": \"2023-05-28T00:00:00\", \"preds\": 1805.2347171459583, \"lower\": 614.147112710866, \"upper\": 6226.891165129948, \"data\": 1328.0000000000018, \"model\": \"preds\", \"adm_0\": null, \"adm_1\": null, \"adm_2\": null, \"adm_3\": NaN}, {\"dates\": \"2023-01-01T00:00:00\", \"preds\": 124.7, \"lower\": 0.0, \"upper\": 1809.5625740147, \"data\": null, \"model\": \"77\", \"adm_0\": \"BRA\", \"adm_1\": \"RJ\", \"adm_2\": 3304557.0, \"adm_3\": NaN}, {\"dates\": \"2023-01-08T00:00:00\", \"preds\": 127.23, \"lower\": 0.0, \"upper\": 1793.8064366305, \"data\": null, \"model\": \"77\", \"adm_0\": \"BRA\", \"adm_1\": \"RJ\", \"adm_2\": 3304557.0, \"adm_3\": NaN}, {\"dates\": \"2023-01-15T00:00:00\", \"preds\": 155.21, \"lower\": 0.0, \"upper\": 1268.8861142409, \"data\": null, \"model\": \"77\", \"adm_0\": \"BRA\", \"adm_1\": \"RJ\", \"adm_2\": 3304557.0, \"adm_3\": NaN}, {\"dates\": \"2023-01-22T00:00:00\", \"preds\": 198.84, \"lower\": 0.0, \"upper\": 1195.3396186246, \"data\": null, \"model\": \"77\", \"adm_0\": \"BRA\", \"adm_1\": \"RJ\", \"adm_2\": 3304557.0, \"adm_3\": NaN}, {\"dates\": \"2023-01-29T00:00:00\", \"preds\": 345.27, \"lower\": 0.0, \"upper\": 1518.1194592248, \"data\": null, \"model\": \"77\", \"adm_0\": \"BRA\", \"adm_1\": \"RJ\", \"adm_2\": 3304557.0, \"adm_3\": NaN}, {\"dates\": \"2023-02-05T00:00:00\", \"preds\": 462.34, \"lower\": 0.0, \"upper\": 1445.4253987699, \"data\": null, \"model\": \"77\", \"adm_0\": \"BRA\", \"adm_1\": \"RJ\", \"adm_2\": 3304557.0, \"adm_3\": NaN}, {\"dates\": \"2023-02-12T00:00:00\", \"preds\": 481.6, \"lower\": 0.0, \"upper\": 1893.9755987178, \"data\": null, \"model\": \"77\", \"adm_0\": \"BRA\", \"adm_1\": \"RJ\", \"adm_2\": 3304557.0, \"adm_3\": NaN}, {\"dates\": \"2023-02-19T00:00:00\", \"preds\": 481.56, \"lower\": 0.0, \"upper\": 1965.8780215081, \"data\": null, \"model\": \"77\", \"adm_0\": \"BRA\", \"adm_1\": \"RJ\", \"adm_2\": 3304557.0, \"adm_3\": NaN}, {\"dates\": \"2023-02-26T00:00:00\", \"preds\": 574.3, \"lower\": 0.0, \"upper\": 2019.8204358497, \"data\": null, \"model\": \"77\", \"adm_0\": \"BRA\", \"adm_1\": \"RJ\", \"adm_2\": 3304557.0, \"adm_3\": NaN}, {\"dates\": \"2023-03-05T00:00:00\", \"preds\": 908.59, \"lower\": 0.0, \"upper\": 2793.9425956685, \"data\": null, \"model\": \"77\", \"adm_0\": \"BRA\", \"adm_1\": \"RJ\", \"adm_2\": 3304557.0, \"adm_3\": NaN}, {\"dates\": \"2023-03-12T00:00:00\", \"preds\": 1098.33, \"lower\": 0.0, \"upper\": 3565.2781705146, \"data\": null, \"model\": \"77\", \"adm_0\": \"BRA\", \"adm_1\": \"RJ\", \"adm_2\": 3304557.0, \"adm_3\": NaN}, {\"dates\": \"2023-03-19T00:00:00\", \"preds\": 1255.02, \"lower\": 0.0, \"upper\": 4202.4693301775, \"data\": null, \"model\": \"77\", \"adm_0\": \"BRA\", \"adm_1\": \"RJ\", \"adm_2\": 3304557.0, \"adm_3\": NaN}, {\"dates\": \"2023-03-26T00:00:00\", \"preds\": 903.32, \"lower\": 0.0, \"upper\": 3760.903225256, \"data\": null, \"model\": \"77\", \"adm_0\": \"BRA\", \"adm_1\": \"RJ\", \"adm_2\": 3304557.0, \"adm_3\": NaN}, {\"dates\": \"2023-04-02T00:00:00\", \"preds\": 2084.83, \"lower\": 0.0, \"upper\": 4512.3417709763, \"data\": null, \"model\": \"77\", \"adm_0\": \"BRA\", \"adm_1\": \"RJ\", \"adm_2\": 3304557.0, \"adm_3\": NaN}, {\"dates\": \"2023-04-09T00:00:00\", \"preds\": 1451.2, \"lower\": 0.0, \"upper\": 2937.0054003446, \"data\": null, \"model\": \"77\", \"adm_0\": \"BRA\", \"adm_1\": \"RJ\", \"adm_2\": 3304557.0, \"adm_3\": NaN}, {\"dates\": \"2023-04-16T00:00:00\", \"preds\": 1680.13, \"lower\": 591.7969421614, \"upper\": 2768.4630578386, \"data\": null, \"model\": \"77\", \"adm_0\": \"BRA\", \"adm_1\": \"RJ\", \"adm_2\": 3304557.0, \"adm_3\": NaN}, {\"dates\": \"2023-04-23T00:00:00\", \"preds\": 1944.43, \"lower\": 650.1333199898, \"upper\": 3238.7266800102, \"data\": null, \"model\": \"77\", \"adm_0\": \"BRA\", \"adm_1\": \"RJ\", \"adm_2\": 3304557.0, \"adm_3\": NaN}, {\"dates\": \"2023-04-30T00:00:00\", \"preds\": 1575.31, \"lower\": 227.6224669775, \"upper\": 2922.9975330225, \"data\": null, \"model\": \"77\", \"adm_0\": \"BRA\", \"adm_1\": \"RJ\", \"adm_2\": 3304557.0, \"adm_3\": NaN}, {\"dates\": \"2023-05-07T00:00:00\", \"preds\": 1426.24, \"lower\": 206.7682082167, \"upper\": 2645.7117917833, \"data\": null, \"model\": \"77\", \"adm_0\": \"BRA\", \"adm_1\": \"RJ\", \"adm_2\": 3304557.0, \"adm_3\": NaN}, {\"dates\": \"2023-05-14T00:00:00\", \"preds\": 1939.85, \"lower\": 769.2177668869, \"upper\": 3110.4822331131, \"data\": null, \"model\": \"77\", \"adm_0\": \"BRA\", \"adm_1\": \"RJ\", \"adm_2\": 3304557.0, \"adm_3\": NaN}, {\"dates\": \"2023-05-21T00:00:00\", \"preds\": 1454.24, \"lower\": 359.7715538942, \"upper\": 2548.7084461058, \"data\": null, \"model\": \"77\", \"adm_0\": \"BRA\", \"adm_1\": \"RJ\", \"adm_2\": 3304557.0, \"adm_3\": NaN}, {\"dates\": \"2023-05-28T00:00:00\", \"preds\": 1134.07, \"lower\": 343.0948354381, \"upper\": 1925.0451645619, \"data\": null, \"model\": \"77\", \"adm_0\": \"BRA\", \"adm_1\": \"RJ\", \"adm_2\": 3304557.0, \"adm_3\": NaN}, {\"dates\": \"2023-01-01T00:00:00\", \"preds\": 28.9193740338, \"lower\": 0.0, \"upper\": 602.8117241956, \"data\": null, \"model\": \"78\", \"adm_0\": \"BRA\", \"adm_1\": \"RJ\", \"adm_2\": 3304557.0, \"adm_3\": NaN}, {\"dates\": \"2023-01-08T00:00:00\", \"preds\": 107.5751379728, \"lower\": 0.0, \"upper\": 566.5245524392, \"data\": null, \"model\": \"78\", \"adm_0\": \"BRA\", \"adm_1\": \"RJ\", \"adm_2\": 3304557.0, \"adm_3\": NaN}, {\"dates\": \"2023-01-15T00:00:00\", \"preds\": 136.0464265496, \"lower\": 0.0, \"upper\": 654.7008858331, \"data\": null, \"model\": \"78\", \"adm_0\": \"BRA\", \"adm_1\": \"RJ\", \"adm_2\": 3304557.0, \"adm_3\": NaN}, {\"dates\": \"2023-01-22T00:00:00\", \"preds\": 157.6281409636, \"lower\": 0.0, \"upper\": 703.7455855925, \"data\": null, \"model\": \"78\", \"adm_0\": \"BRA\", \"adm_1\": \"RJ\", \"adm_2\": 3304557.0, \"adm_3\": NaN}, {\"dates\": \"2023-01-29T00:00:00\", \"preds\": 370.7788259685, \"lower\": 0.0, \"upper\": 879.478636435, \"data\": null, \"model\": \"78\", \"adm_0\": \"BRA\", \"adm_1\": \"RJ\", \"adm_2\": 3304557.0, \"adm_3\": NaN}, {\"dates\": \"2023-02-05T00:00:00\", \"preds\": 200.67998676, \"lower\": 0.0, \"upper\": 720.2818470754, \"data\": null, \"model\": \"78\", \"adm_0\": \"BRA\", \"adm_1\": \"RJ\", \"adm_2\": 3304557.0, \"adm_3\": NaN}, {\"dates\": \"2023-02-12T00:00:00\", \"preds\": 270.5449912548, \"lower\": 0.0, \"upper\": 766.0707564242, \"data\": null, \"model\": \"78\", \"adm_0\": \"BRA\", \"adm_1\": \"RJ\", \"adm_2\": 3304557.0, \"adm_3\": NaN}, {\"dates\": \"2023-02-19T00:00:00\", \"preds\": 365.9762626961, \"lower\": 0.0, \"upper\": 984.143485938, \"data\": null, \"model\": \"78\", \"adm_0\": \"BRA\", \"adm_1\": \"RJ\", \"adm_2\": 3304557.0, \"adm_3\": NaN}, {\"dates\": \"2023-02-26T00:00:00\", \"preds\": 434.2454627231, \"lower\": 0.0, \"upper\": 1035.7856581375, \"data\": null, \"model\": \"78\", \"adm_0\": \"BRA\", \"adm_1\": \"RJ\", \"adm_2\": 3304557.0, \"adm_3\": NaN}, {\"dates\": \"2023-03-05T00:00:00\", \"preds\": 593.1198927313, \"lower\": 0.0, \"upper\": 1340.4223010339, \"data\": null, \"model\": \"78\", \"adm_0\": \"BRA\", \"adm_1\": \"RJ\", \"adm_2\": 3304557.0, \"adm_3\": NaN}, {\"dates\": \"2023-03-12T00:00:00\", \"preds\": 486.762278229, \"lower\": 13.1828434534, \"upper\": 1258.1380503178, \"data\": null, \"model\": \"78\", \"adm_0\": \"BRA\", \"adm_1\": \"RJ\", \"adm_2\": 3304557.0, \"adm_3\": NaN}, {\"dates\": \"2023-03-19T00:00:00\", \"preds\": 534.409355998, \"lower\": 0.0, \"upper\": 1161.3790531218, \"data\": null, \"model\": \"78\", \"adm_0\": \"BRA\", \"adm_1\": \"RJ\", \"adm_2\": 3304557.0, \"adm_3\": NaN}, {\"dates\": \"2023-03-26T00:00:00\", \"preds\": 555.0313138813, \"lower\": 0.0, \"upper\": 1138.9978529975, \"data\": null, \"model\": \"78\", \"adm_0\": \"BRA\", \"adm_1\": \"RJ\", \"adm_2\": 3304557.0, \"adm_3\": NaN}, {\"dates\": \"2023-04-02T00:00:00\", \"preds\": 540.6022553518, \"lower\": 0.0, \"upper\": 1290.8390316494, \"data\": null, \"model\": \"78\", \"adm_0\": \"BRA\", \"adm_1\": \"RJ\", \"adm_2\": 3304557.0, \"adm_3\": NaN}, {\"dates\": \"2023-04-09T00:00:00\", \"preds\": 670.57262557, \"lower\": 63.0884215072, \"upper\": 1603.4207726844, \"data\": null, \"model\": \"78\", \"adm_0\": \"BRA\", \"adm_1\": \"RJ\", \"adm_2\": 3304557.0, \"adm_3\": NaN}, {\"dates\": \"2023-04-16T00:00:00\", \"preds\": 823.2300753295, \"lower\": 5.3920096096, \"upper\": 1619.1121769279, \"data\": null, \"model\": \"78\", \"adm_0\": \"BRA\", \"adm_1\": \"RJ\", \"adm_2\": 3304557.0, \"adm_3\": NaN}, {\"dates\": \"2023-04-23T00:00:00\", \"preds\": 821.3328076452, \"lower\": 0.0, \"upper\": 1657.2413398936, \"data\": null, \"model\": \"78\", \"adm_0\": \"BRA\", \"adm_1\": \"RJ\", \"adm_2\": 3304557.0, \"adm_3\": NaN}, {\"dates\": \"2023-04-30T00:00:00\", \"preds\": 736.0327714011, \"lower\": 186.1478255641, \"upper\": 1522.9282282144, \"data\": null, \"model\": \"78\", \"adm_0\": \"BRA\", \"adm_1\": \"RJ\", \"adm_2\": 3304557.0, \"adm_3\": NaN}, {\"dates\": \"2023-05-07T00:00:00\", \"preds\": 760.3757069707, \"lower\": 31.6744434658, \"upper\": 1601.576000803, \"data\": null, \"model\": \"78\", \"adm_0\": \"BRA\", \"adm_1\": \"RJ\", \"adm_2\": 3304557.0, \"adm_3\": NaN}, {\"dates\": \"2023-05-14T00:00:00\", \"preds\": 593.9493001178, \"lower\": 0.0, \"upper\": 1293.7130412512, \"data\": null, \"model\": \"78\", \"adm_0\": \"BRA\", \"adm_1\": \"RJ\", \"adm_2\": 3304557.0, \"adm_3\": NaN}, {\"dates\": \"2023-05-21T00:00:00\", \"preds\": 341.6071367562, \"lower\": 0.0, \"upper\": 890.2078188814, \"data\": null, \"model\": \"78\", \"adm_0\": \"BRA\", \"adm_1\": \"RJ\", \"adm_2\": 3304557.0, \"adm_3\": NaN}, {\"dates\": \"2023-05-28T00:00:00\", \"preds\": 766.1951469854, \"lower\": 41.8829060107, \"upper\": 1633.4175681449, \"data\": null, \"model\": \"78\", \"adm_0\": \"BRA\", \"adm_1\": \"RJ\", \"adm_2\": 3304557.0, \"adm_3\": NaN}], \"data-77bb146c729541734357fb1f5ad3b0ae\": [{\"dates\": \"2023-01-01T00:00:00\", \"preds\": 151.75912131500172, \"lower\": 78.8006137547906, \"upper\": 309.0367972424309, \"data\": 230.00000000000014, \"model\": \"preds\", \"adm_0\": null, \"adm_1\": null, \"adm_2\": null, \"adm_3\": NaN, \"legend\": null}, {\"dates\": \"2023-01-08T00:00:00\", \"preds\": 159.7113114447144, \"lower\": 69.925995297073, \"upper\": 399.39483298826224, \"data\": 218.00000000000017, \"model\": \"preds\", \"adm_0\": null, \"adm_1\": null, \"adm_2\": null, \"adm_3\": NaN, \"legend\": null}, {\"dates\": \"2023-01-15T00:00:00\", \"preds\": 161.09849482557027, \"lower\": 58.61265263614962, \"upper\": 508.99158690412145, \"data\": 246.00000000000068, \"model\": \"preds\", \"adm_0\": null, \"adm_1\": null, \"adm_2\": null, \"adm_3\": NaN, \"legend\": null}, {\"dates\": \"2023-01-22T00:00:00\", \"preds\": 164.0870771311059, \"lower\": 50.903757847976614, \"upper\": 640.2575220702569, \"data\": 311.9999999999994, \"model\": \"preds\", \"adm_0\": null, \"adm_1\": null, \"adm_2\": null, \"adm_3\": NaN, \"legend\": null}, {\"dates\": \"2023-01-29T00:00:00\", \"preds\": 309.36997031375967, \"lower\": 152.07971768934192, \"upper\": 672.2648617059136, \"data\": 383.00000000000006, \"model\": \"preds\", \"adm_0\": null, \"adm_1\": null, \"adm_2\": null, \"adm_3\": NaN, \"legend\": null}, {\"dates\": \"2023-02-05T00:00:00\", \"preds\": 328.36402569417095, \"lower\": 134.0836603638846, \"upper\": 895.5194220504013, \"data\": 524.9999999999994, \"model\": \"preds\", \"adm_0\": null, \"adm_1\": null, \"adm_2\": null, \"adm_3\": NaN, \"legend\": null}, {\"dates\": \"2023-02-12T00:00:00\", \"preds\": 338.44353738083413, \"lower\": 112.86419585872474, \"upper\": 1198.6506712953878, \"data\": 371.99999999999994, \"model\": \"preds\", \"adm_0\": null, \"adm_1\": null, \"adm_2\": null, \"adm_3\": NaN, \"legend\": null}, {\"dates\": \"2023-02-19T00:00:00\", \"preds\": 349.60097780996006, \"lower\": 97.93584193927443, \"upper\": 1569.3142988104, \"data\": 507.0000000000001, \"model\": \"preds\", \"adm_0\": null, \"adm_1\": null, \"adm_2\": null, \"adm_3\": NaN, \"legend\": null}, {\"dates\": \"2023-02-26T00:00:00\", \"preds\": 486.69752571203514, \"lower\": 230.60416972704553, \"upper\": 1105.375866271899, \"data\": 870.0, \"model\": \"preds\", \"adm_0\": null, \"adm_1\": null, \"adm_2\": null, \"adm_3\": NaN, \"legend\": null}, {\"dates\": \"2023-03-05T00:00:00\", \"preds\": 517.8411243043572, \"lower\": 201.98745181276163, \"upper\": 1496.3648720959604, \"data\": 945.0000000000003, \"model\": \"preds\", \"adm_0\": null, \"adm_1\": null, \"adm_2\": null, \"adm_3\": NaN, \"legend\": null}, {\"dates\": \"2023-03-12T00:00:00\", \"preds\": 529.7684567054695, \"lower\": 167.23095654785914, \"upper\": 2019.1252957105041, \"data\": 1125.000000000002, \"model\": \"preds\", \"adm_0\": null, \"adm_1\": null, \"adm_2\": null, \"adm_3\": NaN, \"legend\": null}, {\"dates\": \"2023-03-19T00:00:00\", \"preds\": 545.4007213622474, \"lower\": 143.50548199946917, \"upper\": 2673.7759556682413, \"data\": 1382.0000000000002, \"model\": \"preds\", \"adm_0\": null, \"adm_1\": null, \"adm_2\": null, \"adm_3\": NaN, \"legend\": null}, {\"dates\": \"2023-03-26T00:00:00\", \"preds\": 1436.9969791954877, \"lower\": 617.80444857739, \"upper\": 3675.252209023487, \"data\": 1579.9999999999984, \"model\": \"preds\", \"adm_0\": null, \"adm_1\": null, \"adm_2\": null, \"adm_3\": NaN, \"legend\": null}, {\"dates\": \"2023-04-02T00:00:00\", \"preds\": 1552.567089578109, \"lower\": 534.8015631291074, \"upper\": 5268.307803049241, \"data\": 1419.9999999999982, \"model\": \"preds\", \"adm_0\": null, \"adm_1\": null, \"adm_2\": null, \"adm_3\": NaN, \"legend\": null}, {\"dates\": \"2023-04-09T00:00:00\", \"preds\": 1636.9392121750382, \"lower\": 442.3248136706556, \"upper\": 7728.713793949735, \"data\": 1783.0000000000034, \"model\": \"preds\", \"adm_0\": null, \"adm_1\": null, \"adm_2\": null, \"adm_3\": NaN, \"legend\": null}, {\"dates\": \"2023-04-16T00:00:00\", \"preds\": 1720.5739847712427, \"lower\": 377.21274317344836, \"upper\": 11004.623877515718, \"data\": 1502.0000000000002, \"model\": \"preds\", \"adm_0\": null, \"adm_1\": null, \"adm_2\": null, \"adm_3\": NaN, \"legend\": null}, {\"dates\": \"2023-04-23T00:00:00\", \"preds\": 1657.1806290305906, \"lower\": 704.2999114889643, \"upper\": 4299.410348138865, \"data\": 1571.9999999999993, \"model\": \"preds\", \"adm_0\": null, \"adm_1\": null, \"adm_2\": null, \"adm_3\": NaN, \"legend\": null}, {\"dates\": \"2023-04-30T00:00:00\", \"preds\": 1670.3745106937647, \"lower\": 572.0346821463518, \"upper\": 5711.7438576471895, \"data\": 1918.9999999999986, \"model\": \"preds\", \"adm_0\": null, \"adm_1\": null, \"adm_2\": null, \"adm_3\": NaN, \"legend\": null}, {\"dates\": \"2023-05-07T00:00:00\", \"preds\": 1722.5635450059838, \"lower\": 463.66773266459626, \"upper\": 8177.35425212233, \"data\": 1807.000000000001, \"model\": \"preds\", \"adm_0\": null, \"adm_1\": null, \"adm_2\": null, \"adm_3\": NaN, \"legend\": null}, {\"dates\": \"2023-05-14T00:00:00\", \"preds\": 1755.4117309045916, \"lower\": 385.13211283295925, \"upper\": 11215.15300772631, \"data\": 1730.9999999999984, \"model\": \"preds\", \"adm_0\": null, \"adm_1\": null, \"adm_2\": null, \"adm_3\": NaN, \"legend\": null}, {\"dates\": \"2023-05-21T00:00:00\", \"preds\": 1791.9777613998463, \"lower\": 757.4544557427392, \"upper\": 4680.679260236886, \"data\": 1478.9999999999989, \"model\": \"preds\", \"adm_0\": null, \"adm_1\": null, \"adm_2\": null, \"adm_3\": NaN, \"legend\": null}, {\"dates\": \"2023-05-28T00:00:00\", \"preds\": 1805.2347171459583, \"lower\": 614.147112710866, \"upper\": 6226.891165129948, \"data\": 1328.0000000000018, \"model\": \"preds\", \"adm_0\": null, \"adm_1\": null, \"adm_2\": null, \"adm_3\": NaN, \"legend\": null}, {\"dates\": \"2023-01-01T00:00:00\", \"preds\": 124.7, \"lower\": 0.0, \"upper\": 1809.5625740147, \"data\": null, \"model\": \"77\", \"adm_0\": \"BRA\", \"adm_1\": \"RJ\", \"adm_2\": 3304557.0, \"adm_3\": NaN, \"legend\": null}, {\"dates\": \"2023-01-08T00:00:00\", \"preds\": 127.23, \"lower\": 0.0, \"upper\": 1793.8064366305, \"data\": null, \"model\": \"77\", \"adm_0\": \"BRA\", \"adm_1\": \"RJ\", \"adm_2\": 3304557.0, \"adm_3\": NaN, \"legend\": null}, {\"dates\": \"2023-01-15T00:00:00\", \"preds\": 155.21, \"lower\": 0.0, \"upper\": 1268.8861142409, \"data\": null, \"model\": \"77\", \"adm_0\": \"BRA\", \"adm_1\": \"RJ\", \"adm_2\": 3304557.0, \"adm_3\": NaN, \"legend\": null}, {\"dates\": \"2023-01-22T00:00:00\", \"preds\": 198.84, \"lower\": 0.0, \"upper\": 1195.3396186246, \"data\": null, \"model\": \"77\", \"adm_0\": \"BRA\", \"adm_1\": \"RJ\", \"adm_2\": 3304557.0, \"adm_3\": NaN, \"legend\": null}, {\"dates\": \"2023-01-29T00:00:00\", \"preds\": 345.27, \"lower\": 0.0, \"upper\": 1518.1194592248, \"data\": null, \"model\": \"77\", \"adm_0\": \"BRA\", \"adm_1\": \"RJ\", \"adm_2\": 3304557.0, \"adm_3\": NaN, \"legend\": null}, {\"dates\": \"2023-02-05T00:00:00\", \"preds\": 462.34, \"lower\": 0.0, \"upper\": 1445.4253987699, \"data\": null, \"model\": \"77\", \"adm_0\": \"BRA\", \"adm_1\": \"RJ\", \"adm_2\": 3304557.0, \"adm_3\": NaN, \"legend\": null}, {\"dates\": \"2023-02-12T00:00:00\", \"preds\": 481.6, \"lower\": 0.0, \"upper\": 1893.9755987178, \"data\": null, \"model\": \"77\", \"adm_0\": \"BRA\", \"adm_1\": \"RJ\", \"adm_2\": 3304557.0, \"adm_3\": NaN, \"legend\": null}, {\"dates\": \"2023-02-19T00:00:00\", \"preds\": 481.56, \"lower\": 0.0, \"upper\": 1965.8780215081, \"data\": null, \"model\": \"77\", \"adm_0\": \"BRA\", \"adm_1\": \"RJ\", \"adm_2\": 3304557.0, \"adm_3\": NaN, \"legend\": null}, {\"dates\": \"2023-02-26T00:00:00\", \"preds\": 574.3, \"lower\": 0.0, \"upper\": 2019.8204358497, \"data\": null, \"model\": \"77\", \"adm_0\": \"BRA\", \"adm_1\": \"RJ\", \"adm_2\": 3304557.0, \"adm_3\": NaN, \"legend\": null}, {\"dates\": \"2023-03-05T00:00:00\", \"preds\": 908.59, \"lower\": 0.0, \"upper\": 2793.9425956685, \"data\": null, \"model\": \"77\", \"adm_0\": \"BRA\", \"adm_1\": \"RJ\", \"adm_2\": 3304557.0, \"adm_3\": NaN, \"legend\": null}, {\"dates\": \"2023-03-12T00:00:00\", \"preds\": 1098.33, \"lower\": 0.0, \"upper\": 3565.2781705146, \"data\": null, \"model\": \"77\", \"adm_0\": \"BRA\", \"adm_1\": \"RJ\", \"adm_2\": 3304557.0, \"adm_3\": NaN, \"legend\": null}, {\"dates\": \"2023-03-19T00:00:00\", \"preds\": 1255.02, \"lower\": 0.0, \"upper\": 4202.4693301775, \"data\": null, \"model\": \"77\", \"adm_0\": \"BRA\", \"adm_1\": \"RJ\", \"adm_2\": 3304557.0, \"adm_3\": NaN, \"legend\": null}, {\"dates\": \"2023-03-26T00:00:00\", \"preds\": 903.32, \"lower\": 0.0, \"upper\": 3760.903225256, \"data\": null, \"model\": \"77\", \"adm_0\": \"BRA\", \"adm_1\": \"RJ\", \"adm_2\": 3304557.0, \"adm_3\": NaN, \"legend\": null}, {\"dates\": \"2023-04-02T00:00:00\", \"preds\": 2084.83, \"lower\": 0.0, \"upper\": 4512.3417709763, \"data\": null, \"model\": \"77\", \"adm_0\": \"BRA\", \"adm_1\": \"RJ\", \"adm_2\": 3304557.0, \"adm_3\": NaN, \"legend\": null}, {\"dates\": \"2023-04-09T00:00:00\", \"preds\": 1451.2, \"lower\": 0.0, \"upper\": 2937.0054003446, \"data\": null, \"model\": \"77\", \"adm_0\": \"BRA\", \"adm_1\": \"RJ\", \"adm_2\": 3304557.0, \"adm_3\": NaN, \"legend\": null}, {\"dates\": \"2023-04-16T00:00:00\", \"preds\": 1680.13, \"lower\": 591.7969421614, \"upper\": 2768.4630578386, \"data\": null, \"model\": \"77\", \"adm_0\": \"BRA\", \"adm_1\": \"RJ\", \"adm_2\": 3304557.0, \"adm_3\": NaN, \"legend\": null}, {\"dates\": \"2023-04-23T00:00:00\", \"preds\": 1944.43, \"lower\": 650.1333199898, \"upper\": 3238.7266800102, \"data\": null, \"model\": \"77\", \"adm_0\": \"BRA\", \"adm_1\": \"RJ\", \"adm_2\": 3304557.0, \"adm_3\": NaN, \"legend\": null}, {\"dates\": \"2023-04-30T00:00:00\", \"preds\": 1575.31, \"lower\": 227.6224669775, \"upper\": 2922.9975330225, \"data\": null, \"model\": \"77\", \"adm_0\": \"BRA\", \"adm_1\": \"RJ\", \"adm_2\": 3304557.0, \"adm_3\": NaN, \"legend\": null}, {\"dates\": \"2023-05-07T00:00:00\", \"preds\": 1426.24, \"lower\": 206.7682082167, \"upper\": 2645.7117917833, \"data\": null, \"model\": \"77\", \"adm_0\": \"BRA\", \"adm_1\": \"RJ\", \"adm_2\": 3304557.0, \"adm_3\": NaN, \"legend\": null}, {\"dates\": \"2023-05-14T00:00:00\", \"preds\": 1939.85, \"lower\": 769.2177668869, \"upper\": 3110.4822331131, \"data\": null, \"model\": \"77\", \"adm_0\": \"BRA\", \"adm_1\": \"RJ\", \"adm_2\": 3304557.0, \"adm_3\": NaN, \"legend\": null}, {\"dates\": \"2023-05-21T00:00:00\", \"preds\": 1454.24, \"lower\": 359.7715538942, \"upper\": 2548.7084461058, \"data\": null, \"model\": \"77\", \"adm_0\": \"BRA\", \"adm_1\": \"RJ\", \"adm_2\": 3304557.0, \"adm_3\": NaN, \"legend\": null}, {\"dates\": \"2023-05-28T00:00:00\", \"preds\": 1134.07, \"lower\": 343.0948354381, \"upper\": 1925.0451645619, \"data\": null, \"model\": \"77\", \"adm_0\": \"BRA\", \"adm_1\": \"RJ\", \"adm_2\": 3304557.0, \"adm_3\": NaN, \"legend\": null}, {\"dates\": \"2023-01-01T00:00:00\", \"preds\": 28.9193740338, \"lower\": 0.0, \"upper\": 602.8117241956, \"data\": null, \"model\": \"78\", \"adm_0\": \"BRA\", \"adm_1\": \"RJ\", \"adm_2\": 3304557.0, \"adm_3\": NaN, \"legend\": null}, {\"dates\": \"2023-01-08T00:00:00\", \"preds\": 107.5751379728, \"lower\": 0.0, \"upper\": 566.5245524392, \"data\": null, \"model\": \"78\", \"adm_0\": \"BRA\", \"adm_1\": \"RJ\", \"adm_2\": 3304557.0, \"adm_3\": NaN, \"legend\": null}, {\"dates\": \"2023-01-15T00:00:00\", \"preds\": 136.0464265496, \"lower\": 0.0, \"upper\": 654.7008858331, \"data\": null, \"model\": \"78\", \"adm_0\": \"BRA\", \"adm_1\": \"RJ\", \"adm_2\": 3304557.0, \"adm_3\": NaN, \"legend\": null}, {\"dates\": \"2023-01-22T00:00:00\", \"preds\": 157.6281409636, \"lower\": 0.0, \"upper\": 703.7455855925, \"data\": null, \"model\": \"78\", \"adm_0\": \"BRA\", \"adm_1\": \"RJ\", \"adm_2\": 3304557.0, \"adm_3\": NaN, \"legend\": null}, {\"dates\": \"2023-01-29T00:00:00\", \"preds\": 370.7788259685, \"lower\": 0.0, \"upper\": 879.478636435, \"data\": null, \"model\": \"78\", \"adm_0\": \"BRA\", \"adm_1\": \"RJ\", \"adm_2\": 3304557.0, \"adm_3\": NaN, \"legend\": null}, {\"dates\": \"2023-02-05T00:00:00\", \"preds\": 200.67998676, \"lower\": 0.0, \"upper\": 720.2818470754, \"data\": null, \"model\": \"78\", \"adm_0\": \"BRA\", \"adm_1\": \"RJ\", \"adm_2\": 3304557.0, \"adm_3\": NaN, \"legend\": null}, {\"dates\": \"2023-02-12T00:00:00\", \"preds\": 270.5449912548, \"lower\": 0.0, \"upper\": 766.0707564242, \"data\": null, \"model\": \"78\", \"adm_0\": \"BRA\", \"adm_1\": \"RJ\", \"adm_2\": 3304557.0, \"adm_3\": NaN, \"legend\": null}, {\"dates\": \"2023-02-19T00:00:00\", \"preds\": 365.9762626961, \"lower\": 0.0, \"upper\": 984.143485938, \"data\": null, \"model\": \"78\", \"adm_0\": \"BRA\", \"adm_1\": \"RJ\", \"adm_2\": 3304557.0, \"adm_3\": NaN, \"legend\": null}, {\"dates\": \"2023-02-26T00:00:00\", \"preds\": 434.2454627231, \"lower\": 0.0, \"upper\": 1035.7856581375, \"data\": null, \"model\": \"78\", \"adm_0\": \"BRA\", \"adm_1\": \"RJ\", \"adm_2\": 3304557.0, \"adm_3\": NaN, \"legend\": null}, {\"dates\": \"2023-03-05T00:00:00\", \"preds\": 593.1198927313, \"lower\": 0.0, \"upper\": 1340.4223010339, \"data\": null, \"model\": \"78\", \"adm_0\": \"BRA\", \"adm_1\": \"RJ\", \"adm_2\": 3304557.0, \"adm_3\": NaN, \"legend\": null}, {\"dates\": \"2023-03-12T00:00:00\", \"preds\": 486.762278229, \"lower\": 13.1828434534, \"upper\": 1258.1380503178, \"data\": null, \"model\": \"78\", \"adm_0\": \"BRA\", \"adm_1\": \"RJ\", \"adm_2\": 3304557.0, \"adm_3\": NaN, \"legend\": null}, {\"dates\": \"2023-03-19T00:00:00\", \"preds\": 534.409355998, \"lower\": 0.0, \"upper\": 1161.3790531218, \"data\": null, \"model\": \"78\", \"adm_0\": \"BRA\", \"adm_1\": \"RJ\", \"adm_2\": 3304557.0, \"adm_3\": NaN, \"legend\": null}, {\"dates\": \"2023-03-26T00:00:00\", \"preds\": 555.0313138813, \"lower\": 0.0, \"upper\": 1138.9978529975, \"data\": null, \"model\": \"78\", \"adm_0\": \"BRA\", \"adm_1\": \"RJ\", \"adm_2\": 3304557.0, \"adm_3\": NaN, \"legend\": null}, {\"dates\": \"2023-04-02T00:00:00\", \"preds\": 540.6022553518, \"lower\": 0.0, \"upper\": 1290.8390316494, \"data\": null, \"model\": \"78\", \"adm_0\": \"BRA\", \"adm_1\": \"RJ\", \"adm_2\": 3304557.0, \"adm_3\": NaN, \"legend\": null}, {\"dates\": \"2023-04-09T00:00:00\", \"preds\": 670.57262557, \"lower\": 63.0884215072, \"upper\": 1603.4207726844, \"data\": null, \"model\": \"78\", \"adm_0\": \"BRA\", \"adm_1\": \"RJ\", \"adm_2\": 3304557.0, \"adm_3\": NaN, \"legend\": null}, {\"dates\": \"2023-04-16T00:00:00\", \"preds\": 823.2300753295, \"lower\": 5.3920096096, \"upper\": 1619.1121769279, \"data\": null, \"model\": \"78\", \"adm_0\": \"BRA\", \"adm_1\": \"RJ\", \"adm_2\": 3304557.0, \"adm_3\": NaN, \"legend\": null}, {\"dates\": \"2023-04-23T00:00:00\", \"preds\": 821.3328076452, \"lower\": 0.0, \"upper\": 1657.2413398936, \"data\": null, \"model\": \"78\", \"adm_0\": \"BRA\", \"adm_1\": \"RJ\", \"adm_2\": 3304557.0, \"adm_3\": NaN, \"legend\": null}, {\"dates\": \"2023-04-30T00:00:00\", \"preds\": 736.0327714011, \"lower\": 186.1478255641, \"upper\": 1522.9282282144, \"data\": null, \"model\": \"78\", \"adm_0\": \"BRA\", \"adm_1\": \"RJ\", \"adm_2\": 3304557.0, \"adm_3\": NaN, \"legend\": null}, {\"dates\": \"2023-05-07T00:00:00\", \"preds\": 760.3757069707, \"lower\": 31.6744434658, \"upper\": 1601.576000803, \"data\": null, \"model\": \"78\", \"adm_0\": \"BRA\", \"adm_1\": \"RJ\", \"adm_2\": 3304557.0, \"adm_3\": NaN, \"legend\": null}, {\"dates\": \"2023-05-14T00:00:00\", \"preds\": 593.9493001178, \"lower\": 0.0, \"upper\": 1293.7130412512, \"data\": null, \"model\": \"78\", \"adm_0\": \"BRA\", \"adm_1\": \"RJ\", \"adm_2\": 3304557.0, \"adm_3\": NaN, \"legend\": null}, {\"dates\": \"2023-05-21T00:00:00\", \"preds\": 341.6071367562, \"lower\": 0.0, \"upper\": 890.2078188814, \"data\": null, \"model\": \"78\", \"adm_0\": \"BRA\", \"adm_1\": \"RJ\", \"adm_2\": 3304557.0, \"adm_3\": NaN, \"legend\": null}, {\"dates\": \"2023-05-28T00:00:00\", \"preds\": 766.1951469854, \"lower\": 41.8829060107, \"upper\": 1633.4175681449, \"data\": null, \"model\": \"78\", \"adm_0\": \"BRA\", \"adm_1\": \"RJ\", \"adm_2\": 3304557.0, \"adm_3\": NaN, \"legend\": null}, {\"dates\": \"2023-01-01T00:00:00\", \"preds\": 230.0, \"lower\": null, \"upper\": null, \"data\": null, \"model\": \"cases\", \"adm_0\": null, \"adm_1\": null, \"adm_2\": null, \"adm_3\": NaN, \"legend\": \"Data\"}, {\"dates\": \"2023-01-08T00:00:00\", \"preds\": 218.0, \"lower\": null, \"upper\": null, \"data\": null, \"model\": \"cases\", \"adm_0\": null, \"adm_1\": null, \"adm_2\": null, \"adm_3\": NaN, \"legend\": \"Data\"}, {\"dates\": \"2023-01-15T00:00:00\", \"preds\": 246.0, \"lower\": null, \"upper\": null, \"data\": null, \"model\": \"cases\", \"adm_0\": null, \"adm_1\": null, \"adm_2\": null, \"adm_3\": NaN, \"legend\": \"Data\"}, {\"dates\": \"2023-01-22T00:00:00\", \"preds\": 312.0, \"lower\": null, \"upper\": null, \"data\": null, \"model\": \"cases\", \"adm_0\": null, \"adm_1\": null, \"adm_2\": null, \"adm_3\": NaN, \"legend\": \"Data\"}, {\"dates\": \"2023-01-29T00:00:00\", \"preds\": 383.0, \"lower\": null, \"upper\": null, \"data\": null, \"model\": \"cases\", \"adm_0\": null, \"adm_1\": null, \"adm_2\": null, \"adm_3\": NaN, \"legend\": \"Data\"}, {\"dates\": \"2023-02-05T00:00:00\", \"preds\": 525.0, \"lower\": null, \"upper\": null, \"data\": null, \"model\": \"cases\", \"adm_0\": null, \"adm_1\": null, \"adm_2\": null, \"adm_3\": NaN, \"legend\": \"Data\"}, {\"dates\": \"2023-02-12T00:00:00\", \"preds\": 372.0, \"lower\": null, \"upper\": null, \"data\": null, \"model\": \"cases\", \"adm_0\": null, \"adm_1\": null, \"adm_2\": null, \"adm_3\": NaN, \"legend\": \"Data\"}, {\"dates\": \"2023-02-19T00:00:00\", \"preds\": 507.0, \"lower\": null, \"upper\": null, \"data\": null, \"model\": \"cases\", \"adm_0\": null, \"adm_1\": null, \"adm_2\": null, \"adm_3\": NaN, \"legend\": \"Data\"}, {\"dates\": \"2023-02-26T00:00:00\", \"preds\": 870.0, \"lower\": null, \"upper\": null, \"data\": null, \"model\": \"cases\", \"adm_0\": null, \"adm_1\": null, \"adm_2\": null, \"adm_3\": NaN, \"legend\": \"Data\"}, {\"dates\": \"2023-03-05T00:00:00\", \"preds\": 945.0, \"lower\": null, \"upper\": null, \"data\": null, \"model\": \"cases\", \"adm_0\": null, \"adm_1\": null, \"adm_2\": null, \"adm_3\": NaN, \"legend\": \"Data\"}, {\"dates\": \"2023-03-12T00:00:00\", \"preds\": 1125.0, \"lower\": null, \"upper\": null, \"data\": null, \"model\": \"cases\", \"adm_0\": null, \"adm_1\": null, \"adm_2\": null, \"adm_3\": NaN, \"legend\": \"Data\"}, {\"dates\": \"2023-03-19T00:00:00\", \"preds\": 1382.0, \"lower\": null, \"upper\": null, \"data\": null, \"model\": \"cases\", \"adm_0\": null, \"adm_1\": null, \"adm_2\": null, \"adm_3\": NaN, \"legend\": \"Data\"}, {\"dates\": \"2023-03-26T00:00:00\", \"preds\": 1580.0, \"lower\": null, \"upper\": null, \"data\": null, \"model\": \"cases\", \"adm_0\": null, \"adm_1\": null, \"adm_2\": null, \"adm_3\": NaN, \"legend\": \"Data\"}, {\"dates\": \"2023-04-02T00:00:00\", \"preds\": 1420.0, \"lower\": null, \"upper\": null, \"data\": null, \"model\": \"cases\", \"adm_0\": null, \"adm_1\": null, \"adm_2\": null, \"adm_3\": NaN, \"legend\": \"Data\"}, {\"dates\": \"2023-04-09T00:00:00\", \"preds\": 1783.0, \"lower\": null, \"upper\": null, \"data\": null, \"model\": \"cases\", \"adm_0\": null, \"adm_1\": null, \"adm_2\": null, \"adm_3\": NaN, \"legend\": \"Data\"}, {\"dates\": \"2023-04-16T00:00:00\", \"preds\": 1502.0, \"lower\": null, \"upper\": null, \"data\": null, \"model\": \"cases\", \"adm_0\": null, \"adm_1\": null, \"adm_2\": null, \"adm_3\": NaN, \"legend\": \"Data\"}, {\"dates\": \"2023-04-23T00:00:00\", \"preds\": 1572.0, \"lower\": null, \"upper\": null, \"data\": null, \"model\": \"cases\", \"adm_0\": null, \"adm_1\": null, \"adm_2\": null, \"adm_3\": NaN, \"legend\": \"Data\"}, {\"dates\": \"2023-04-30T00:00:00\", \"preds\": 1919.0, \"lower\": null, \"upper\": null, \"data\": null, \"model\": \"cases\", \"adm_0\": null, \"adm_1\": null, \"adm_2\": null, \"adm_3\": NaN, \"legend\": \"Data\"}, {\"dates\": \"2023-05-07T00:00:00\", \"preds\": 1807.0, \"lower\": null, \"upper\": null, \"data\": null, \"model\": \"cases\", \"adm_0\": null, \"adm_1\": null, \"adm_2\": null, \"adm_3\": NaN, \"legend\": \"Data\"}, {\"dates\": \"2023-05-14T00:00:00\", \"preds\": 1731.0, \"lower\": null, \"upper\": null, \"data\": null, \"model\": \"cases\", \"adm_0\": null, \"adm_1\": null, \"adm_2\": null, \"adm_3\": NaN, \"legend\": \"Data\"}, {\"dates\": \"2023-05-21T00:00:00\", \"preds\": 1479.0, \"lower\": null, \"upper\": null, \"data\": null, \"model\": \"cases\", \"adm_0\": null, \"adm_1\": null, \"adm_2\": null, \"adm_3\": NaN, \"legend\": \"Data\"}, {\"dates\": \"2023-05-28T00:00:00\", \"preds\": 1328.0, \"lower\": null, \"upper\": null, \"data\": null, \"model\": \"cases\", \"adm_0\": null, \"adm_1\": null, \"adm_2\": null, \"adm_3\": NaN, \"legend\": \"Data\"}]}}, {\"mode\": \"vega-lite\"});\n",
       "</script>"
      ],
      "text/plain": [
       "alt.LayerChart(...)"
      ]
     },
     "execution_count": 23,
     "metadata": {},
     "output_type": "execute_result"
    }
   ],
   "source": [
    "score.plot_predictions()"
   ]
  }
 ],
 "metadata": {
  "kernelspec": {
   "display_name": "Python 3 (ipykernel)",
   "language": "python",
   "name": "python3"
  },
  "language_info": {
   "codemirror_mode": {
    "name": "ipython",
    "version": 3
   },
   "file_extension": ".py",
   "mimetype": "text/x-python",
   "name": "python",
   "nbconvert_exporter": "python",
   "pygments_lexer": "ipython3",
   "version": "3.10.14"
  }
 },
 "nbformat": 4,
 "nbformat_minor": 5
}
