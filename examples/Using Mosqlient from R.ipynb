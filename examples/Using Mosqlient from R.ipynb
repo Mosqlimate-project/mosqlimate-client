{
 "cells": [
  {
   "cell_type": "markdown",
   "id": "d73a3f46-3cb3-4e59-9a2d-c04272a50965",
   "metadata": {},
   "source": [
    " # Using Mosqlient from R\n",
    "This is an R notebook that demonstrates how to use the Mosqlient package to interact with the Mosqlimate platform and API.\n",
    "\n",
    "## Installation\n",
    "Make sure you have the R kernel installed in your Jupyter notebook. If not, you can install it by running the following command **in an R terminal**:\n",
    "    \n",
    "```R\n",
    "> install.packages(\"IRkernel\")\n",
    "> IRkernel::installspec()\n",
    "```\n",
    "In you local computer make sure you have Python 3.x and Jupyter installed.\n",
    "\n",
    "Install the reticulate package in R:\n",
    "```R\n",
    "install.packages('pak')\n",
    "library(pak)\n",
    "pak::pak(\"rstudio/reticulate\")\n",
    "\n",
    "```\n",
    "Now you are ready to install the mosqlient package within R. \n",
    "   \n",
    "To get started, you will need to use the package reticulate to load the mosqlient python package:"
   ]
  },
  {
   "metadata": {
    "ExecuteTime": {
     "end_time": "2024-08-08T12:16:39.522770Z",
     "start_time": "2024-08-08T12:16:39.080701Z"
    }
   },
   "cell_type": "code",
   "source": "library(reticulate)",
   "id": "f93b045d157d5d99",
   "outputs": [],
   "execution_count": 1
  },
  {
   "metadata": {},
   "cell_type": "markdown",
   "source": "Then, you can install `mosqlient` from within R like this:",
   "id": "6a646531468ed8f"
  },
  {
   "metadata": {
    "ExecuteTime": {
     "end_time": "2024-08-08T12:14:02.600892Z",
     "start_time": "2024-08-08T12:13:58.572985Z"
    }
   },
   "cell_type": "code",
   "source": "py_install(\"mosqlient==1.3.1\", envname = \"r-reticulate\")",
   "id": "c0b3980bf8172309",
   "outputs": [
    {
     "name": "stdout",
     "output_type": "stream",
     "text": [
      "Using Python: /usr/bin/python3.12\n",
      "Creating virtual environment 'r-reticulate' ... \n"
     ]
    },
    {
     "name": "stderr",
     "output_type": "stream",
     "text": [
      "+ /usr/bin/python3.12 -m venv /home/fccoelho/.virtualenvs/r-reticulate\n",
      "\n"
     ]
    },
    {
     "name": "stdout",
     "output_type": "stream",
     "text": [
      "Done!\n",
      "Installing packages: pip, wheel, setuptools\n"
     ]
    },
    {
     "name": "stderr",
     "output_type": "stream",
     "text": [
      "+ /home/fccoelho/.virtualenvs/r-reticulate/bin/python -m pip install --upgrade pip wheel setuptools\n",
      "\n"
     ]
    },
    {
     "name": "stdout",
     "output_type": "stream",
     "text": [
      "Virtual environment 'r-reticulate' successfully created.\n",
      "Using virtual environment 'r-reticulate' ...\n"
     ]
    },
    {
     "name": "stderr",
     "output_type": "stream",
     "text": [
      "+ /home/fccoelho/.virtualenvs/r-reticulate/bin/python -m pip install --upgrade --no-user 'mosqlient==1.3.1'\n",
      "\n"
     ]
    },
    {
     "ename": "ERROR",
     "evalue": "Error: Error installing package(s): \"'mosqlient==1.3.1'\"\n",
     "output_type": "error",
     "traceback": [
      "Error: Error installing package(s): \"'mosqlient==1.3.1'\"\nTraceback:\n",
      "1. py_install(\"mosqlient==1.3.1\", envname = \"r-reticulate\")",
      "2. virtualenv_install(envname = envname, packages = packages, ignore_installed = pip_ignore_installed, \n .     python_version = python_version, ...)",
      "3. pip_install(python, packages, ignore_installed = ignore_installed, \n .     pip_options = pip_options, requirements = requirements)",
      "4. stop(msg, call. = FALSE)"
     ]
    }
   ],
   "execution_count": 2
  },
  {
   "metadata": {},
   "cell_type": "markdown",
   "source": "Once you are sure to have `mosqlient` installed and the virtualenv installed, using one of the options above, you ca go ahead and \"import\" the `mosqlient` package. ",
   "id": "f52aae67da91460"
  },
  {
   "metadata": {
    "ExecuteTime": {
     "end_time": "2024-08-08T12:16:48.054426Z",
     "start_time": "2024-08-08T12:16:47.553372Z"
    }
   },
   "cell_type": "code",
   "source": "mosq <- import(\"mosqlient\")",
   "id": "6f48e063ffd7e1db",
   "outputs": [],
   "execution_count": 2
  },
  {
   "metadata": {
    "ExecuteTime": {
     "end_time": "2024-08-08T12:16:49.731285Z",
     "start_time": "2024-08-08T12:16:49.724699Z"
    }
   },
   "cell_type": "code",
   "source": [
    "# checking it works. Showing the current version\n",
    "mosq$version"
   ],
   "id": "516ccfcb8faad73c",
   "outputs": [
    {
     "data": {
      "text/html": [
       "'1.2.2'"
      ],
      "text/markdown": "'1.2.2'",
      "text/latex": "'1.2.2'",
      "text/plain": [
       "[1] \"1.2.2\""
      ]
     },
     "metadata": {},
     "output_type": "display_data"
    }
   ],
   "execution_count": 3
  },
  {
   "metadata": {},
   "cell_type": "markdown",
   "source": [
    "## Using Mosqlient\n",
    "let's start by checking a list of the models registered in the platform"
   ],
   "id": "b231b19e3ecd99ec"
  },
  {
   "metadata": {},
   "cell_type": "code",
   "outputs": [],
   "execution_count": null,
   "source": [
    "model_list <- mosq$get_all_models()\n",
    "model_list"
   ],
   "id": "887957fd190d4a29"
  },
  {
   "metadata": {},
   "cell_type": "markdown",
   "source": [
    "## Fetching data from the Mosqlimate datastore\n",
    "We can use the Mosqlient library to fetch data from Mosqlimate. Let's start fetching some data from the infodengue project."
   ],
   "id": "23722183fcceae11"
  },
  {
   "metadata": {},
   "cell_type": "code",
   "outputs": [],
   "execution_count": null,
   "source": [
    "data <- mosq$get_infodengue(disease='dengue', start_date='2023-12-01',end_date='2023-12-31', uf='RJ')\n",
    "data"
   ],
   "id": "2aac9804257840b7"
  },
  {
   "metadata": {},
   "cell_type": "code",
   "outputs": [],
   "execution_count": null,
   "source": "",
   "id": "41167e3d9459dd5a"
  }
 ],
 "metadata": {
  "kernelspec": {
   "display_name": "R",
   "language": "R",
   "name": "ir"
  },
  "language_info": {
   "codemirror_mode": {
    "name": "ipython",
    "version": 3
   },
   "file_extension": ".py",
   "mimetype": "text/x-python",
   "name": "python",
   "nbconvert_exporter": "python",
   "pygments_lexer": "ipython3",
   "version": "3.12.3"
  }
 },
 "nbformat": 4,
 "nbformat_minor": 5
}
