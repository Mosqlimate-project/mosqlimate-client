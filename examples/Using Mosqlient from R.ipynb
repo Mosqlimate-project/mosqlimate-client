{
 "cells": [
  {
   "cell_type": "markdown",
   "id": "d73a3f46-3cb3-4e59-9a2d-c04272a50965",
   "metadata": {},
   "source": [
    " # Using Mosqlient from R\n",
    "This is an R notebook that demonstrates how to use the Mosqlient package to interact with the Mosqlimate platform and API.\n",
    "\n",
    "## Installation\n",
    "Make sure you have the R kernel installed in your Jupyter notebook. If not, you can install it by running the following command in your terminal:\n",
    "    \n",
    "```bash\n",
    "$ R\n",
    "> install.packages(\"IRkernel\")\n",
    "> IRkernel::installspec()\n",
    "```\n",
    "In you local computer make sure you have python and the `mosqlient` package installed.\n",
    "```bash\n",
    "$ pip install -U git+https://github.com/Mosqlimate-project/mosqlimate-client.git\n",
    "```\n",
    "\n",
    "   \n",
    "To get started, you will need to use the package reticulate to load the mosqlient python package:"
   ]
  },
  {
   "cell_type": "code",
   "execution_count": null,
   "id": "83b604a3-805b-46db-9fe7-cf0c979f4617",
   "metadata": {},
   "outputs": [],
   "source": [
    "library(reticulate)"
   ]
  },
  {
   "cell_type": "markdown",
   "id": "731863f2-9dae-4433-8e27-2cfb93fc5183",
   "metadata": {},
   "source": [
    "If the `mosqlient` package is already installed on a local python virtualenv, you can activate it with the following command."
   ]
  },
  {
   "cell_type": "code",
   "execution_count": null,
   "id": "3e258fd1-02c2-4e1b-bf53-250acda9e4f0",
   "metadata": {},
   "outputs": [],
   "source": [
    "use_virtualenv(\"../.venv\")"
   ]
  },
  {
   "cell_type": "markdown",
   "id": "7f470501-5a35-423d-8f4f-299aba04f9f9",
   "metadata": {},
   "source": [
    "Otherwise, you can install `mosqlient` from within R like this:"
   ]
  },
  {
   "cell_type": "code",
   "execution_count": 9,
   "id": "7441972a-f704-4dc4-9df6-77677286f538",
   "metadata": {},
   "outputs": [
    {
     "name": "stdout",
     "output_type": "stream",
     "text": [
      "Using virtual environment '/home/fccoelho/Documentos/Projects_Software/mosqlimate-client/.venv' ...\n"
     ]
    },
    {
     "name": "stderr",
     "output_type": "stream",
     "text": [
      "+ /home/fccoelho/Documentos/Projects_Software/mosqlimate-client/.venv/bin/python -m pip install --upgrade --no-user 'git+https://github.com/Mosqlimate-project/mosqlimate-client.git'\n",
      "\n"
     ]
    }
   ],
   "source": [
    "py_install(\"git+https://github.com/Mosqlimate-project/mosqlimate-client.git\")"
   ]
  },
  {
   "cell_type": "markdown",
   "id": "e6dea22c-0bfa-491f-9aaf-cbfcf65f7586",
   "metadata": {},
   "source": [
    "Once you are sure to have `mosqlient` installed and the virtualenv installed, using one of the options above, you ca go ahead and \"import\" the `mosqlient` package. "
   ]
  },
  {
   "cell_type": "code",
   "execution_count": 8,
   "id": "ebc65ddd-27a8-43b0-9a5d-8a20ea74a79a",
   "metadata": {},
   "outputs": [],
   "source": [
    "mosq <- import(\"mosqlient\")"
   ]
  },
  {
   "cell_type": "code",
   "execution_count": 11,
   "id": "d52c4988-49cb-4524-a879-448334151d95",
   "metadata": {},
   "outputs": [
    {
     "data": {
      "text/html": [
       "'1.1.0'"
      ],
      "text/latex": [
       "'1.1.0'"
      ],
      "text/markdown": [
       "'1.1.0'"
      ],
      "text/plain": [
       "[1] \"1.1.0\""
      ]
     },
     "metadata": {},
     "output_type": "display_data"
    }
   ],
   "source": [
    "# checking it works. Showing the current version\n",
    "mosq$version"
   ]
  },
  {
   "cell_type": "code",
   "execution_count": null,
   "id": "a89ac5a1-4c0e-4d72-81f6-00b28829579e",
   "metadata": {},
   "outputs": [],
   "source": []
  }
 ],
 "metadata": {
  "kernelspec": {
   "display_name": "R",
   "language": "R",
   "name": "ir"
  },
  "language_info": {
   "codemirror_mode": "r",
   "file_extension": ".r",
   "mimetype": "text/x-r-source",
   "name": "R",
   "pygments_lexer": "r",
   "version": "4.3.3"
  }
 },
 "nbformat": 4,
 "nbformat_minor": 5
}
