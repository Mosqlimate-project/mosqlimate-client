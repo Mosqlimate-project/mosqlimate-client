{
 "cells": [
  {
   "cell_type": "markdown",
   "metadata": {},
   "source": [
    "There are methods to extract the data from the mosqlimate API. The cells of code below illustrate how the data can be extract for the  `Infodengue` and `Copernicus` database. "
   ]
  },
  {
   "cell_type": "code",
   "execution_count": 6,
   "metadata": {},
   "source": [
    "import pandas as pd\n",
    "from mosqlient.datastore import Infodengue, Copernicus"
   ],
   "outputs": []
  },
  {
   "cell_type": "markdown",
   "metadata": {},
   "source": [
    "The `Infodengue` class accept as parameters: \n",
    "\n",
    "* `per_page`:`int`; How many items will be displayed per page (up to 100)\n",
    "* `disease`: `str`;\tDengue, Zika or Chikungunya\n",
    "* `start`: `str`;  (YYYY-mm-dd)\tStart date (epidemiological week)\n",
    "* `end`: `str` (YYYY-mm-dd)\tEnd date (epidemiological week)\n",
    "* `uf`: `str`, (UF)\tTwo letters brazilian's state abbreviation. E.g: SP\n",
    "* `geocode`: `int`,\tIBGE's municipality code. E.g: 3304557\n",
    "\n",
    "\n",
    "For more information look at the mosqlimate [infodengue datastore documentation](https://api.mosqlimate.org/docs/datastore/GET/infodengue/)\n"
   ]
  },
  {
   "cell_type": "code",
   "execution_count": 7,
   "metadata": {},
   "source": [
    "\n",
    "data = Infodengue.get(per_page =  100,\n",
    "    disease =  \"dengue\",\n",
    "    start = \"2022-01-01\",\n",
    "    end = \"2023-01-01\", \n",
    "    uf = 'PR', \n",
    "    geocode = 4108304)\n",
    "\n",
    "data.head()"
   ],
   "outputs": []
  },
  {
   "cell_type": "markdown",
   "metadata": {},
   "source": [
    "To get the data for all the cities in a state don't fill the `geocode` field, as in the example below: "
   ]
  },
  {
   "cell_type": "code",
   "execution_count": 8,
   "metadata": {},
   "source": [
    "data = Infodengue.get(per_page =  100,\n",
    "    disease =  \"dengue\",\n",
    "    start = \"2022-01-01\",\n",
    "    end = \"2023-01-01\", \n",
    "    uf = 'AL')\n",
    "\n",
    "data.head()"
   ],
   "outputs": []
  },
  {
   "cell_type": "markdown",
   "metadata": {},
   "source": [
    "The `Copernicus` class accept as parameters: \n",
    "\n",
    "* `per_page`:`int`; How many items will be displayed per page (up to 100)\n",
    "* `start`: `str`;  (YYYY-mm-dd)\tStart date (epidemiological week)\n",
    "* `end`: `str` (YYYY-mm-dd)\tEnd date (epidemiological week)\n",
    "* `uf`: `str`, (UF)\tTwo letters brazilian's state abbreviation. E.g: SP\n",
    "* `geocode`: `int`,\tIBGE's municipality code. E.g: 3304557\n",
    "\n",
    "\n",
    "For more information look at the mosqlimate [copernicus datastore documentation](https://api.mosqlimate.org/docs/datastore/GET/climate/)"
   ]
  },
  {
   "cell_type": "code",
   "execution_count": 9,
   "metadata": {},
   "source": [
    "data = Copernicus.get(per_page =  100,\n",
    "    start = \"2022-01-01\",\n",
    "    end = \"2023-01-01\", \n",
    "    uf = 'PR', \n",
    "    geocode = 4108304)\n",
    "\n",
    "data.head()"
   ],
   "outputs": []
  }
 ],
 "metadata": {
  "kernelspec": {
   "display_name": "mosqlient",
   "language": "python",
   "name": "python3"
  },
  "language_info": {
   "codemirror_mode": {
    "name": "ipython",
    "version": 3
   },
   "file_extension": ".py",
   "mimetype": "text/x-python",
   "name": "python",
   "nbconvert_exporter": "python",
   "pygments_lexer": "ipython3",
   "version": "3.10.14"
  }
 },
 "nbformat": 4,
 "nbformat_minor": 2
}
